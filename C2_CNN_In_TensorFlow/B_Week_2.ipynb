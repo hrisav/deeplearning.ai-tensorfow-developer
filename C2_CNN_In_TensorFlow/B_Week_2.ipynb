{
  "nbformat": 4,
  "nbformat_minor": 0,
  "metadata": {
    "colab": {
      "name": "B_Week_2.ipynb",
      "provenance": [],
      "collapsed_sections": [],
      "toc_visible": true
    },
    "kernelspec": {
      "name": "python3",
      "display_name": "Python 3"
    },
    "language_info": {
      "name": "python"
    },
    "accelerator": "GPU"
  },
  "cells": [
    {
      "cell_type": "markdown",
      "metadata": {
        "id": "9OTfHWbzl8Xn"
      },
      "source": [
        "## Dogs vs Cats - with augmentation"
      ]
    },
    {
      "cell_type": "code",
      "metadata": {
        "id": "0WIN0IfMligr"
      },
      "source": [
        "import tensorflow as tf\n",
        "from tensorflow.keras.models import Sequential\n",
        "from tensorflow.keras import layers\n",
        "from tensorflow.keras.callbacks import EarlyStopping, ReduceLROnPlateau, ModelCheckpoint\n",
        "\n",
        "import numpy as np\n",
        "import matplotlib.pyplot as plt\n",
        "%matplotlib inline\n",
        "import matplotlib.image as mpimg\n",
        "import random\n",
        "from shutil import copyfile"
      ],
      "execution_count": 7,
      "outputs": []
    },
    {
      "cell_type": "code",
      "metadata": {
        "colab": {
          "base_uri": "https://localhost:8080/"
        },
        "id": "X4tsCqy1l-HE",
        "outputId": "f6da91a7-7a77-4141-d1da-f9e5a3abda5f"
      },
      "source": [
        "!wget --no-check-certificate \\\n",
        "  https://storage.googleapis.com/mledu-datasets/cats_and_dogs_filtered.zip \\\n",
        "  -O /content/cats_and_dogs_filtered.zip"
      ],
      "execution_count": null,
      "outputs": [
        {
          "output_type": "stream",
          "name": "stdout",
          "text": [
            "--2021-10-09 05:08:46--  https://storage.googleapis.com/mledu-datasets/cats_and_dogs_filtered.zip\n",
            "Resolving storage.googleapis.com (storage.googleapis.com)... 64.233.189.128, 108.177.97.128, 108.177.125.128, ...\n",
            "Connecting to storage.googleapis.com (storage.googleapis.com)|64.233.189.128|:443... connected.\n",
            "HTTP request sent, awaiting response... 200 OK\n",
            "Length: 68606236 (65M) [application/zip]\n",
            "Saving to: ‘/content/cats_and_dogs_filtered.zip’\n",
            "\n",
            "/content/cats_and_d 100%[===================>]  65.43M  20.1MB/s    in 3.3s    \n",
            "\n",
            "2021-10-09 05:08:51 (20.1 MB/s) - ‘/content/cats_and_dogs_filtered.zip’ saved [68606236/68606236]\n",
            "\n"
          ]
        }
      ]
    },
    {
      "cell_type": "code",
      "metadata": {
        "id": "JKrHx8admCUw"
      },
      "source": [
        "# content -> cats_and_dogs_filtered -> train -> cats, dogs\n",
        "# content -> cats_and_dogs_filtered -> valid -> cats, dogs\n",
        "\n",
        "import os\n",
        "import zipfile\n",
        "\n",
        "local_zip = '/content/cats_and_dogs_filtered.zip'\n",
        "\n",
        "zip_ref = zipfile.ZipFile(local_zip, 'r')\n",
        "\n",
        "zip_ref.extractall('/content')\n",
        "zip_ref.close()"
      ],
      "execution_count": null,
      "outputs": []
    },
    {
      "cell_type": "code",
      "metadata": {
        "id": "xtKXu5FhhmWK"
      },
      "source": [
        "base_dir = '/content/cats_and_dogs_filtered'\n",
        "\n",
        "train_dir = os.path.join(base_dir, 'train')\n",
        "valid_dir = os.path.join(base_dir, 'validation')\n",
        "\n",
        "# Directory with our training cat/dog pictures\n",
        "train_cats_dir = os.path.join(train_dir, 'cats')\n",
        "train_dogs_dir = os.path.join(train_dir, 'dogs')\n",
        "\n",
        "# Directory with our validation cat/dog pictures\n",
        "valid_cats_dir = os.path.join(valid_dir, 'cats')\n",
        "valid_dogs_dir = os.path.join(valid_dir, 'dogs')"
      ],
      "execution_count": null,
      "outputs": []
    },
    {
      "cell_type": "code",
      "metadata": {
        "id": "UcMhD82cmfdz",
        "colab": {
          "base_uri": "https://localhost:8080/"
        },
        "outputId": "897cd1f9-f397-4733-e4b9-fa4c3c975315"
      },
      "source": [
        "train_cat_fnames = os.listdir(train_cats_dir)\n",
        "train_dog_fnames = os.listdir(train_dogs_dir)\n",
        "\n",
        "print(train_cat_fnames[:10])\n",
        "print(train_dog_fnames[:10])"
      ],
      "execution_count": null,
      "outputs": [
        {
          "output_type": "stream",
          "name": "stdout",
          "text": [
            "['cat.691.jpg', 'cat.616.jpg', 'cat.890.jpg', 'cat.950.jpg', 'cat.169.jpg', 'cat.172.jpg', 'cat.180.jpg', 'cat.511.jpg', 'cat.285.jpg', 'cat.847.jpg']\n",
            "['dog.624.jpg', 'dog.105.jpg', 'dog.896.jpg', 'dog.194.jpg', 'dog.233.jpg', 'dog.602.jpg', 'dog.440.jpg', 'dog.238.jpg', 'dog.836.jpg', 'dog.331.jpg']\n"
          ]
        }
      ]
    },
    {
      "cell_type": "code",
      "metadata": {
        "id": "_C1GM6lD9JSj",
        "colab": {
          "base_uri": "https://localhost:8080/"
        },
        "outputId": "35f25c6c-a031-421f-f0f2-b86dd666a516"
      },
      "source": [
        "print('total training cat images :', len(os.listdir(train_cats_dir)))\n",
        "print('total training dog images :', len(os.listdir(train_dogs_dir)))\n",
        "\n",
        "print('total validation cat images :', len(os.listdir(valid_cats_dir)))\n",
        "print('total validation dog images :', len(os.listdir(valid_dogs_dir)))"
      ],
      "execution_count": null,
      "outputs": [
        {
          "output_type": "stream",
          "name": "stdout",
          "text": [
            "total training cat images : 1000\n",
            "total training dog images : 1000\n",
            "total validation cat images : 500\n",
            "total validation dog images : 500\n"
          ]
        }
      ]
    },
    {
      "cell_type": "code",
      "metadata": {
        "id": "eo_2DBpcLOHP"
      },
      "source": [
        "IMG_HEIGHT = 150        \n",
        "IMG_WIDTH = 150\n",
        "CHANNELS = 3\n",
        "NUM_CLASSES = 1"
      ],
      "execution_count": null,
      "outputs": []
    },
    {
      "cell_type": "code",
      "metadata": {
        "id": "18QdiTRnLRZ7"
      },
      "source": [
        "model = Sequential([\n",
        "    layers.InputLayer(input_shape=(IMG_HEIGHT, IMG_WIDTH, CHANNELS)),\n",
        "    layers.Conv2D(16, (3,3), activation='relu'),\n",
        "    layers.MaxPooling2D(2, 2),\n",
        "    layers.Conv2D(32, (3,3), activation='relu'),\n",
        "    layers.MaxPooling2D(2,2),\n",
        "    layers.Conv2D(64, (3,3), activation='relu'),\n",
        "    layers.MaxPooling2D(2,2),\n",
        "    layers.Flatten(),\n",
        "    layers.Dense(512, activation='relu'),\n",
        "    layers.Dense(NUM_CLASSES, activation='sigmoid')\n",
        "])"
      ],
      "execution_count": null,
      "outputs": []
    },
    {
      "cell_type": "code",
      "metadata": {
        "colab": {
          "base_uri": "https://localhost:8080/"
        },
        "id": "FTP-3TArqi0f",
        "outputId": "5bcce58d-0d02-4ee2-d3d2-74a3f99ff7b5"
      },
      "source": [
        "model.summary()"
      ],
      "execution_count": null,
      "outputs": [
        {
          "output_type": "stream",
          "name": "stdout",
          "text": [
            "Model: \"sequential\"\n",
            "_________________________________________________________________\n",
            "Layer (type)                 Output Shape              Param #   \n",
            "=================================================================\n",
            "conv2d (Conv2D)              (None, 148, 148, 16)      448       \n",
            "_________________________________________________________________\n",
            "max_pooling2d (MaxPooling2D) (None, 74, 74, 16)        0         \n",
            "_________________________________________________________________\n",
            "conv2d_1 (Conv2D)            (None, 72, 72, 32)        4640      \n",
            "_________________________________________________________________\n",
            "max_pooling2d_1 (MaxPooling2 (None, 36, 36, 32)        0         \n",
            "_________________________________________________________________\n",
            "conv2d_2 (Conv2D)            (None, 34, 34, 64)        18496     \n",
            "_________________________________________________________________\n",
            "max_pooling2d_2 (MaxPooling2 (None, 17, 17, 64)        0         \n",
            "_________________________________________________________________\n",
            "flatten (Flatten)            (None, 18496)             0         \n",
            "_________________________________________________________________\n",
            "dense (Dense)                (None, 512)               9470464   \n",
            "_________________________________________________________________\n",
            "dense_1 (Dense)              (None, 1)                 513       \n",
            "=================================================================\n",
            "Total params: 9,494,561\n",
            "Trainable params: 9,494,561\n",
            "Non-trainable params: 0\n",
            "_________________________________________________________________\n"
          ]
        }
      ]
    },
    {
      "cell_type": "code",
      "metadata": {
        "id": "PNeK3DJHLcuf"
      },
      "source": [
        "optimizer   = tf.keras.optimizers.RMSprop(learning_rate=0.001)\n",
        "loss        = tf.keras.losses.BinaryCrossentropy()\n",
        "metrics     = ['accuracy']"
      ],
      "execution_count": null,
      "outputs": []
    },
    {
      "cell_type": "code",
      "metadata": {
        "id": "-vEQrEdNLczf"
      },
      "source": [
        "model.compile(optimizer=optimizer,\n",
        "              loss=loss,\n",
        "              metrics=metrics)"
      ],
      "execution_count": null,
      "outputs": []
    },
    {
      "cell_type": "code",
      "metadata": {
        "colab": {
          "base_uri": "https://localhost:8080/"
        },
        "id": "ep_4LZ4-LiaA",
        "outputId": "27f4f93a-84c8-4af7-b83e-254e79341b7c"
      },
      "source": [
        "from tensorflow.keras.preprocessing.image import ImageDataGenerator\n",
        "\n",
        "train_datagen = ImageDataGenerator(rescale = 1./255.,\n",
        "                                  rotation_range = 40,\n",
        "                                  width_shift_range = 0.2,\n",
        "                                  height_shift_range = 0.2,\n",
        "                                  shear_range = 0.2,\n",
        "                                  zoom_range = 0.2,\n",
        "                                  horizontal_flip = True,\n",
        "                                  fill_mode = 'nearest')        \n",
        "\n",
        "train_generator = train_datagen.flow_from_directory(\n",
        "                          train_dir,   \n",
        "                          target_size = (IMG_HEIGHT, IMG_WIDTH),       # same as input image size\n",
        "                          batch_size = 20,             \n",
        "                          seed = 20,                      \n",
        "                          class_mode = 'binary')"
      ],
      "execution_count": null,
      "outputs": [
        {
          "output_type": "stream",
          "name": "stdout",
          "text": [
            "Found 2000 images belonging to 2 classes.\n"
          ]
        }
      ]
    },
    {
      "cell_type": "code",
      "metadata": {
        "colab": {
          "base_uri": "https://localhost:8080/"
        },
        "id": "vc7S8Uw_LkFk",
        "outputId": "a41dcd26-f41a-412e-b3d5-57758ec0733e"
      },
      "source": [
        "valid_datagen = ImageDataGenerator(rescale = 1./255.)\n",
        "\n",
        "valid_generator = valid_datagen.flow_from_directory(\n",
        "                          valid_dir, \n",
        "                          target_size = (IMG_HEIGHT, IMG_WIDTH),\n",
        "                          batch_size = 20,\n",
        "                          seed = 20,\n",
        "                          class_mode = 'binary')"
      ],
      "execution_count": null,
      "outputs": [
        {
          "output_type": "stream",
          "name": "stdout",
          "text": [
            "Found 1000 images belonging to 2 classes.\n"
          ]
        }
      ]
    },
    {
      "cell_type": "code",
      "metadata": {
        "id": "XiMbx2nadcXT"
      },
      "source": [
        "early_stopping    = EarlyStopping(monitor='val_accuracy', patience=10)\n",
        "reduce_lr         = ReduceLROnPlateau(monitor='val_accuracy', patience=10, min_lr=0.001, mode='min', verbose=1)\n",
        "model_checkpoint  = ModelCheckpoint(monitor='val_accuracy', filepath='./best_model.h5', save_best_only=True)"
      ],
      "execution_count": null,
      "outputs": []
    },
    {
      "cell_type": "code",
      "metadata": {
        "id": "-X2ZRzM3dcyf"
      },
      "source": [
        "EPOCHS = 70\n",
        "CALLBACKS = [early_stopping, reduce_lr, model_checkpoint]"
      ],
      "execution_count": null,
      "outputs": []
    },
    {
      "cell_type": "code",
      "metadata": {
        "colab": {
          "base_uri": "https://localhost:8080/"
        },
        "id": "mqPLn4hHdkO2",
        "outputId": "fddff02e-34a7-44e8-90a7-7f56c5546e4f"
      },
      "source": [
        "history = model.fit(train_generator,\n",
        "                  # steps_per_epoch = 100,                          # steps_per_epoch = total training records / batch size = 2000/20\n",
        "                    validation_data = valid_generator,\n",
        "                  # validation_steps = 50,                          # validation_steps = total validation records / batch size = 1000/20\n",
        "                    verbose = 1,\n",
        "                    epochs = EPOCHS,\n",
        "                    callbacks = CALLBACKS)"
      ],
      "execution_count": null,
      "outputs": [
        {
          "output_type": "stream",
          "name": "stdout",
          "text": [
            "Epoch 1/70\n",
            "100/100 [==============================] - 21s 203ms/step - loss: 0.9080 - accuracy: 0.5070 - val_loss: 0.7282 - val_accuracy: 0.5010\n",
            "Epoch 2/70\n",
            "100/100 [==============================] - 20s 201ms/step - loss: 0.7028 - accuracy: 0.5595 - val_loss: 0.6805 - val_accuracy: 0.5360\n",
            "Epoch 3/70\n",
            "100/100 [==============================] - 20s 200ms/step - loss: 0.6894 - accuracy: 0.5915 - val_loss: 0.6124 - val_accuracy: 0.6640\n",
            "Epoch 4/70\n",
            "100/100 [==============================] - 20s 202ms/step - loss: 0.6571 - accuracy: 0.6285 - val_loss: 0.6052 - val_accuracy: 0.6750\n",
            "Epoch 5/70\n",
            "100/100 [==============================] - 20s 200ms/step - loss: 0.6307 - accuracy: 0.6425 - val_loss: 0.5886 - val_accuracy: 0.6670\n",
            "Epoch 6/70\n",
            "100/100 [==============================] - 20s 200ms/step - loss: 0.6295 - accuracy: 0.6590 - val_loss: 0.5865 - val_accuracy: 0.6760\n",
            "Epoch 7/70\n",
            "100/100 [==============================] - 20s 201ms/step - loss: 0.6332 - accuracy: 0.6580 - val_loss: 0.5841 - val_accuracy: 0.6810\n",
            "Epoch 8/70\n",
            "100/100 [==============================] - 20s 200ms/step - loss: 0.6042 - accuracy: 0.6750 - val_loss: 0.5504 - val_accuracy: 0.7260\n",
            "Epoch 9/70\n",
            "100/100 [==============================] - 20s 201ms/step - loss: 0.6094 - accuracy: 0.6745 - val_loss: 0.5779 - val_accuracy: 0.6790\n",
            "Epoch 10/70\n",
            "100/100 [==============================] - 20s 201ms/step - loss: 0.5887 - accuracy: 0.6810 - val_loss: 0.5439 - val_accuracy: 0.7070\n",
            "Epoch 11/70\n",
            "100/100 [==============================] - 20s 201ms/step - loss: 0.6035 - accuracy: 0.6855 - val_loss: 0.5724 - val_accuracy: 0.7010\n",
            "Epoch 12/70\n",
            "100/100 [==============================] - 20s 203ms/step - loss: 0.5810 - accuracy: 0.6985 - val_loss: 0.5355 - val_accuracy: 0.7230\n",
            "Epoch 13/70\n",
            "100/100 [==============================] - 20s 201ms/step - loss: 0.5924 - accuracy: 0.6800 - val_loss: 0.5560 - val_accuracy: 0.7090\n",
            "Epoch 14/70\n",
            "100/100 [==============================] - 20s 202ms/step - loss: 0.5723 - accuracy: 0.7110 - val_loss: 0.5453 - val_accuracy: 0.7230\n",
            "Epoch 15/70\n",
            "100/100 [==============================] - 20s 202ms/step - loss: 0.5768 - accuracy: 0.7025 - val_loss: 0.5491 - val_accuracy: 0.7010\n",
            "Epoch 16/70\n",
            "100/100 [==============================] - 20s 203ms/step - loss: 0.5688 - accuracy: 0.7010 - val_loss: 0.5186 - val_accuracy: 0.7290\n",
            "Epoch 17/70\n",
            "100/100 [==============================] - 20s 201ms/step - loss: 0.5781 - accuracy: 0.7085 - val_loss: 0.5237 - val_accuracy: 0.7450\n",
            "Epoch 18/70\n",
            "100/100 [==============================] - 20s 200ms/step - loss: 0.5557 - accuracy: 0.7190 - val_loss: 0.6626 - val_accuracy: 0.6460\n",
            "Epoch 19/70\n",
            "100/100 [==============================] - 20s 200ms/step - loss: 0.5619 - accuracy: 0.7150 - val_loss: 0.5420 - val_accuracy: 0.7360\n",
            "Epoch 20/70\n",
            "100/100 [==============================] - 20s 201ms/step - loss: 0.5532 - accuracy: 0.7205 - val_loss: 0.5855 - val_accuracy: 0.7050\n",
            "Epoch 21/70\n",
            "100/100 [==============================] - 20s 200ms/step - loss: 0.5470 - accuracy: 0.7155 - val_loss: 0.5201 - val_accuracy: 0.7400\n",
            "Epoch 22/70\n",
            "100/100 [==============================] - 20s 200ms/step - loss: 0.5536 - accuracy: 0.7185 - val_loss: 0.5798 - val_accuracy: 0.7100\n",
            "Epoch 23/70\n",
            "100/100 [==============================] - 20s 202ms/step - loss: 0.5502 - accuracy: 0.7255 - val_loss: 0.4963 - val_accuracy: 0.7430\n",
            "Epoch 24/70\n",
            "100/100 [==============================] - 20s 200ms/step - loss: 0.5470 - accuracy: 0.7315 - val_loss: 0.5227 - val_accuracy: 0.7350\n",
            "Epoch 25/70\n",
            "100/100 [==============================] - 20s 201ms/step - loss: 0.5425 - accuracy: 0.7190 - val_loss: 0.5119 - val_accuracy: 0.7450\n",
            "Epoch 26/70\n",
            "100/100 [==============================] - 20s 201ms/step - loss: 0.5485 - accuracy: 0.7330 - val_loss: 0.5147 - val_accuracy: 0.7460\n",
            "Epoch 27/70\n",
            "100/100 [==============================] - 20s 202ms/step - loss: 0.5241 - accuracy: 0.7470 - val_loss: 0.5413 - val_accuracy: 0.7480\n",
            "Epoch 28/70\n",
            "100/100 [==============================] - 20s 204ms/step - loss: 0.5225 - accuracy: 0.7530 - val_loss: 0.5933 - val_accuracy: 0.7300\n",
            "Epoch 29/70\n",
            "100/100 [==============================] - 20s 203ms/step - loss: 0.5329 - accuracy: 0.7415 - val_loss: 0.5229 - val_accuracy: 0.7490\n",
            "Epoch 30/70\n",
            "100/100 [==============================] - 20s 205ms/step - loss: 0.5195 - accuracy: 0.7370 - val_loss: 0.4774 - val_accuracy: 0.7710\n",
            "Epoch 31/70\n",
            "100/100 [==============================] - 20s 200ms/step - loss: 0.5226 - accuracy: 0.7370 - val_loss: 0.5483 - val_accuracy: 0.7060\n",
            "Epoch 32/70\n",
            "100/100 [==============================] - 20s 200ms/step - loss: 0.5311 - accuracy: 0.7450 - val_loss: 0.6371 - val_accuracy: 0.6890\n",
            "Epoch 33/70\n",
            "100/100 [==============================] - 20s 199ms/step - loss: 0.5305 - accuracy: 0.7445 - val_loss: 0.4926 - val_accuracy: 0.7500\n",
            "Epoch 34/70\n",
            "100/100 [==============================] - 20s 198ms/step - loss: 0.5148 - accuracy: 0.7420 - val_loss: 0.4981 - val_accuracy: 0.7650\n",
            "Epoch 35/70\n",
            "100/100 [==============================] - 20s 201ms/step - loss: 0.5058 - accuracy: 0.7650 - val_loss: 0.5056 - val_accuracy: 0.7460\n",
            "Epoch 36/70\n",
            "100/100 [==============================] - 20s 200ms/step - loss: 0.5122 - accuracy: 0.7555 - val_loss: 0.5538 - val_accuracy: 0.7380\n",
            "Epoch 37/70\n",
            "100/100 [==============================] - 20s 201ms/step - loss: 0.5193 - accuracy: 0.7500 - val_loss: 0.4995 - val_accuracy: 0.7620\n",
            "Epoch 38/70\n",
            "100/100 [==============================] - 20s 203ms/step - loss: 0.5030 - accuracy: 0.7485 - val_loss: 0.6215 - val_accuracy: 0.7250\n",
            "Epoch 39/70\n",
            "100/100 [==============================] - 21s 207ms/step - loss: 0.4980 - accuracy: 0.7560 - val_loss: 0.4661 - val_accuracy: 0.7760\n",
            "Epoch 40/70\n",
            "100/100 [==============================] - 21s 209ms/step - loss: 0.5153 - accuracy: 0.7525 - val_loss: 0.4675 - val_accuracy: 0.7720\n",
            "Epoch 41/70\n",
            "100/100 [==============================] - 21s 208ms/step - loss: 0.5059 - accuracy: 0.7675 - val_loss: 0.5125 - val_accuracy: 0.7440\n",
            "Epoch 42/70\n",
            "100/100 [==============================] - 20s 203ms/step - loss: 0.5006 - accuracy: 0.7655 - val_loss: 0.4990 - val_accuracy: 0.7630\n",
            "Epoch 43/70\n",
            "100/100 [==============================] - 20s 204ms/step - loss: 0.5018 - accuracy: 0.7485 - val_loss: 0.4650 - val_accuracy: 0.7920\n",
            "Epoch 44/70\n",
            "100/100 [==============================] - 21s 205ms/step - loss: 0.4934 - accuracy: 0.7700 - val_loss: 0.5102 - val_accuracy: 0.7650\n",
            "Epoch 45/70\n",
            "100/100 [==============================] - 21s 207ms/step - loss: 0.4984 - accuracy: 0.7605 - val_loss: 0.4898 - val_accuracy: 0.7720\n",
            "Epoch 46/70\n",
            "100/100 [==============================] - 21s 206ms/step - loss: 0.5113 - accuracy: 0.7640 - val_loss: 0.4697 - val_accuracy: 0.7820\n",
            "Epoch 47/70\n",
            "100/100 [==============================] - 21s 210ms/step - loss: 0.5007 - accuracy: 0.7560 - val_loss: 0.5862 - val_accuracy: 0.7640\n",
            "Epoch 48/70\n",
            "100/100 [==============================] - 21s 207ms/step - loss: 0.5040 - accuracy: 0.7705 - val_loss: 0.5035 - val_accuracy: 0.7660\n",
            "Epoch 49/70\n",
            "100/100 [==============================] - 21s 208ms/step - loss: 0.4902 - accuracy: 0.7740 - val_loss: 0.4958 - val_accuracy: 0.7720\n",
            "Epoch 50/70\n",
            "100/100 [==============================] - 20s 204ms/step - loss: 0.4821 - accuracy: 0.7695 - val_loss: 0.5921 - val_accuracy: 0.7150\n",
            "Epoch 51/70\n",
            "100/100 [==============================] - 20s 205ms/step - loss: 0.5041 - accuracy: 0.7715 - val_loss: 0.4748 - val_accuracy: 0.7780\n",
            "Epoch 52/70\n",
            "100/100 [==============================] - 21s 207ms/step - loss: 0.4872 - accuracy: 0.7705 - val_loss: 0.5003 - val_accuracy: 0.7780\n",
            "Epoch 53/70\n",
            "100/100 [==============================] - 21s 207ms/step - loss: 0.5094 - accuracy: 0.7655 - val_loss: 0.4710 - val_accuracy: 0.7750\n"
          ]
        }
      ]
    },
    {
      "cell_type": "code",
      "metadata": {
        "colab": {
          "base_uri": "https://localhost:8080/"
        },
        "id": "EjdFSPKudsW_",
        "outputId": "509883c6-55f4-4343-eb1a-9bd3904a9732"
      },
      "source": [
        "model.evaluate(valid_generator)"
      ],
      "execution_count": null,
      "outputs": [
        {
          "output_type": "stream",
          "name": "stdout",
          "text": [
            "50/50 [==============================] - 3s 69ms/step - loss: 0.4710 - accuracy: 0.7750\n"
          ]
        },
        {
          "output_type": "execute_result",
          "data": {
            "text/plain": [
              "[0.4709985554218292, 0.7749999761581421]"
            ]
          },
          "metadata": {},
          "execution_count": 25
        }
      ]
    },
    {
      "cell_type": "code",
      "metadata": {
        "colab": {
          "base_uri": "https://localhost:8080/",
          "height": 579
        },
        "id": "tUU0t8sFdwjj",
        "outputId": "73f8b74e-f69f-4980-94fb-c1ca54e87ec8"
      },
      "source": [
        "acc      = history.history['accuracy']\n",
        "val_acc  = history.history['val_accuracy']\n",
        "\n",
        "epochs   = range(len(acc))\n",
        "\n",
        "plt.plot(epochs, acc, 'r', label = 'Training')\n",
        "plt.plot(epochs, val_acc, 'b', label = 'Validation')\n",
        "plt.title('Training and Validation Accuracy')\n",
        "plt.legend()\n",
        "plt.figure()\n",
        "\n",
        "loss     = history.history['loss']\n",
        "val_loss = history.history['val_loss']\n",
        "\n",
        "epochs   = range(len(loss))\n",
        "\n",
        "plt.plot(epochs, loss, 'r', label = 'Training')\n",
        "plt.plot(epochs, val_loss, 'b', label = 'Validation')\n",
        "plt.title('Training and Validation Loss')\n",
        "plt.legend()\n",
        "plt.figure()"
      ],
      "execution_count": null,
      "outputs": [
        {
          "output_type": "execute_result",
          "data": {
            "text/plain": [
              "<Figure size 432x288 with 0 Axes>"
            ]
          },
          "metadata": {},
          "execution_count": 26
        },
        {
          "output_type": "display_data",
          "data": {
            "image/png": "[encoded data removed]",
            "text/plain": [
              "<Figure size 432x288 with 1 Axes>"
            ]
          },
          "metadata": {
            "needs_background": "light"
          }
        },
        {
          "output_type": "display_data",
          "data": {
            "image/png": "[encoded data removed]",
            "text/plain": [
              "<Figure size 432x288 with 1 Axes>"
            ]
          },
          "metadata": {
            "needs_background": "light"
          }
        },
        {
          "output_type": "display_data",
          "data": {
            "text/plain": [
              "<Figure size 432x288 with 0 Axes>"
            ]
          },
          "metadata": {}
        }
      ]
    },
    {
      "cell_type": "markdown",
      "metadata": {
        "id": "ynTM1x935xDr"
      },
      "source": [
        "## Horse vs Human - with augmentation"
      ]
    },
    {
      "cell_type": "code",
      "metadata": {
        "colab": {
          "base_uri": "https://localhost:8080/"
        },
        "id": "UYmtdHN_DxFR",
        "outputId": "0698bfaf-174d-4b9c-b6bf-ec2eb95827a7"
      },
      "source": [
        "!wget --no-check-certificate \\\n",
        "    https://storage.googleapis.com/laurencemoroney-blog.appspot.com/horse-or-human.zip \\\n",
        "    -O /content/horse-or-human.zip\n",
        "\n",
        "!wget --no-check-certificate \\\n",
        "    https://storage.googleapis.com/laurencemoroney-blog.appspot.com/validation-horse-or-human.zip \\\n",
        "    -O /content/validation-horse-or-human.zip"
      ],
      "execution_count": null,
      "outputs": [
        {
          "output_type": "stream",
          "name": "stdout",
          "text": [
            "--2021-10-09 06:13:23--  https://storage.googleapis.com/laurencemoroney-blog.appspot.com/horse-or-human.zip\n",
            "Resolving storage.googleapis.com (storage.googleapis.com)... 108.177.97.128, 108.177.125.128, 142.250.157.128, ...\n",
            "Connecting to storage.googleapis.com (storage.googleapis.com)|108.177.97.128|:443... connected.\n",
            "HTTP request sent, awaiting response... 200 OK\n",
            "Length: 149574867 (143M) [application/zip]\n",
            "Saving to: ‘/content/horse-or-human.zip’\n",
            "\n",
            "/content/horse-or-h 100%[===================>] 142.65M  29.0MB/s    in 4.9s    \n",
            "\n",
            "2021-10-09 06:13:28 (29.0 MB/s) - ‘/content/horse-or-human.zip’ saved [149574867/149574867]\n",
            "\n",
            "--2021-10-09 06:13:28--  https://storage.googleapis.com/laurencemoroney-blog.appspot.com/validation-horse-or-human.zip\n",
            "Resolving storage.googleapis.com (storage.googleapis.com)... 108.177.97.128, 108.177.125.128, 142.250.157.128, ...\n",
            "Connecting to storage.googleapis.com (storage.googleapis.com)|108.177.97.128|:443... connected.\n",
            "HTTP request sent, awaiting response... 200 OK\n",
            "Length: 11480187 (11M) [application/zip]\n",
            "Saving to: ‘/content/validation-horse-or-human.zip’\n",
            "\n",
            "/content/validation 100%[===================>]  10.95M  22.3MB/s    in 0.5s    \n",
            "\n",
            "2021-10-09 06:13:30 (22.3 MB/s) - ‘/content/validation-horse-or-human.zip’ saved [11480187/11480187]\n",
            "\n"
          ]
        }
      ]
    },
    {
      "cell_type": "code",
      "metadata": {
        "id": "xSEBX3vyDtUN"
      },
      "source": [
        "import os\n",
        "import zipfile\n",
        "\n",
        "local_zip = '/content/horse-or-human.zip'\n",
        "zip_ref = zipfile.ZipFile(local_zip, 'r')\n",
        "zip_ref.extractall('/content/horse-or-human')\n",
        "local_zip = '/content/validation-horse-or-human.zip'\n",
        "zip_ref = zipfile.ZipFile(local_zip, 'r')\n",
        "zip_ref.extractall('/content/validation-horse-or-human')\n",
        "zip_ref.close()\n",
        "\n",
        "# Directory with our training horse pictures\n",
        "train_horse_dir = os.path.join('/content/horse-or-human/horses')\n",
        "\n",
        "# Directory with our training human pictures\n",
        "train_human_dir = os.path.join('/content/horse-or-human/humans')\n",
        "\n",
        "# Directory with our validation horse pictures\n",
        "valid_horse_dir = os.path.join('/content/validation-horse-or-human/horses')\n",
        "\n",
        "# Directory with our validation human pictures\n",
        "valid_human_dir = os.path.join('/content/validation-horse-or-human/humans')"
      ],
      "execution_count": null,
      "outputs": []
    },
    {
      "cell_type": "code",
      "metadata": {
        "id": "-0NjPZUkeErM"
      },
      "source": [
        "IMG_HEIGHT = 300        \n",
        "IMG_WIDTH = 300\n",
        "CHANNELS = 3\n",
        "NUM_CLASSES = 1"
      ],
      "execution_count": null,
      "outputs": []
    },
    {
      "cell_type": "code",
      "metadata": {
        "id": "AJUrHmQceFGO"
      },
      "source": [
        "model = Sequential([\n",
        "    layers.InputLayer(input_shape=(IMG_HEIGHT, IMG_WIDTH, CHANNELS)),\n",
        "    layers.Conv2D(16, (3,3), activation='relu'),\n",
        "    layers.MaxPooling2D(2, 2),\n",
        "    layers.Conv2D(32, (3,3), activation='relu'),\n",
        "    layers.MaxPooling2D(2,2),\n",
        "    layers.Conv2D(64, (3,3), activation='relu'),\n",
        "    layers.MaxPooling2D(2,2),\n",
        "    layers.Conv2D(64, (3,3), activation='relu'),\n",
        "    layers.MaxPooling2D(2,2),\n",
        "    layers.Conv2D(64, (3,3), activation='relu'),\n",
        "    layers.MaxPooling2D(2,2),\n",
        "    layers.Flatten(),\n",
        "    layers.Dense(512, activation='relu'),\n",
        "    layers.Dense(NUM_CLASSES, activation='sigmoid')\n",
        "])"
      ],
      "execution_count": null,
      "outputs": []
    },
    {
      "cell_type": "code",
      "metadata": {
        "colab": {
          "base_uri": "https://localhost:8080/"
        },
        "id": "x2n8tYJ2eQ0N",
        "outputId": "b7deb919-b615-400c-d14d-faec8f6f3339"
      },
      "source": [
        "model.summary()"
      ],
      "execution_count": null,
      "outputs": [
        {
          "output_type": "stream",
          "name": "stdout",
          "text": [
            "Model: \"sequential_2\"\n",
            "_________________________________________________________________\n",
            "Layer (type)                 Output Shape              Param #   \n",
            "=================================================================\n",
            "conv2d_6 (Conv2D)            (None, 298, 298, 16)      448       \n",
            "_________________________________________________________________\n",
            "max_pooling2d_6 (MaxPooling2 (None, 149, 149, 16)      0         \n",
            "_________________________________________________________________\n",
            "conv2d_7 (Conv2D)            (None, 147, 147, 32)      4640      \n",
            "_________________________________________________________________\n",
            "max_pooling2d_7 (MaxPooling2 (None, 73, 73, 32)        0         \n",
            "_________________________________________________________________\n",
            "conv2d_8 (Conv2D)            (None, 71, 71, 64)        18496     \n",
            "_________________________________________________________________\n",
            "max_pooling2d_8 (MaxPooling2 (None, 35, 35, 64)        0         \n",
            "_________________________________________________________________\n",
            "conv2d_9 (Conv2D)            (None, 33, 33, 64)        36928     \n",
            "_________________________________________________________________\n",
            "max_pooling2d_9 (MaxPooling2 (None, 16, 16, 64)        0         \n",
            "_________________________________________________________________\n",
            "conv2d_10 (Conv2D)           (None, 14, 14, 64)        36928     \n",
            "_________________________________________________________________\n",
            "max_pooling2d_10 (MaxPooling (None, 7, 7, 64)          0         \n",
            "_________________________________________________________________\n",
            "flatten_2 (Flatten)          (None, 3136)              0         \n",
            "_________________________________________________________________\n",
            "dense_4 (Dense)              (None, 512)               1606144   \n",
            "_________________________________________________________________\n",
            "dense_5 (Dense)              (None, 1)                 513       \n",
            "=================================================================\n",
            "Total params: 1,704,097\n",
            "Trainable params: 1,704,097\n",
            "Non-trainable params: 0\n",
            "_________________________________________________________________\n"
          ]
        }
      ]
    },
    {
      "cell_type": "code",
      "metadata": {
        "id": "_DSydtUfeQ8v"
      },
      "source": [
        "optimizer   = tf.keras.optimizers.RMSprop(learning_rate=1e-4)     # 0.0001\n",
        "loss        = tf.keras.losses.BinaryCrossentropy()\n",
        "metrics     = ['accuracy']"
      ],
      "execution_count": null,
      "outputs": []
    },
    {
      "cell_type": "code",
      "metadata": {
        "id": "Uy-AQHVDeS3F"
      },
      "source": [
        "model.compile(optimizer=optimizer,\n",
        "              loss=loss,\n",
        "              metrics=metrics)"
      ],
      "execution_count": null,
      "outputs": []
    },
    {
      "cell_type": "code",
      "metadata": {
        "colab": {
          "base_uri": "https://localhost:8080/"
        },
        "id": "E8OztAlcjRm9",
        "outputId": "acacfb31-f84d-407b-f7e3-a6ea44da8127"
      },
      "source": [
        "from tensorflow.keras.preprocessing.image import ImageDataGenerator\n",
        "\n",
        "TRAIN_DIR = '/content/horse-or-human'\n",
        "\n",
        "train_datagen = ImageDataGenerator(rescale = 1./255.,\n",
        "                                  rotation_range = 40,\n",
        "                                  width_shift_range = 0.2,\n",
        "                                  height_shift_range = 0.2,\n",
        "                                  shear_range = 0.2,\n",
        "                                  zoom_range = 0.2,\n",
        "                                  horizontal_flip = True,\n",
        "                                  fill_mode = 'nearest')     \n",
        "\n",
        "train_generator = train_datagen.flow_from_directory(\n",
        "                                  TRAIN_DIR,   \n",
        "                                  target_size = (IMG_HEIGHT, IMG_WIDTH),       # same as input image size\n",
        "                                  batch_size = 128,             \n",
        "                                  seed = 20,                      \n",
        "                                  class_mode = 'binary')"
      ],
      "execution_count": null,
      "outputs": [
        {
          "output_type": "stream",
          "name": "stdout",
          "text": [
            "Found 1027 images belonging to 2 classes.\n"
          ]
        }
      ]
    },
    {
      "cell_type": "code",
      "metadata": {
        "colab": {
          "base_uri": "https://localhost:8080/"
        },
        "id": "p7xtyAswjZXP",
        "outputId": "0a13a665-6f75-45db-a248-773546f2d1ff"
      },
      "source": [
        "VALID_DIR = '/content/validation-horse-or-human'\n",
        "\n",
        "valid_datagen = ImageDataGenerator(rescale = 1./255.)\n",
        "\n",
        "valid_generator = valid_datagen.flow_from_directory(\n",
        "                                  VALID_DIR, \n",
        "                                  target_size = (IMG_HEIGHT, IMG_WIDTH),\n",
        "                                  batch_size = 32,\n",
        "                                  seed = 20,\n",
        "                                  class_mode = 'binary')"
      ],
      "execution_count": null,
      "outputs": [
        {
          "output_type": "stream",
          "name": "stdout",
          "text": [
            "Found 256 images belonging to 2 classes.\n"
          ]
        }
      ]
    },
    {
      "cell_type": "code",
      "metadata": {
        "id": "1kYoSH2ImGUS"
      },
      "source": [
        "early_stopping    = EarlyStopping(monitor='val_loss', patience=10)\n",
        "reduce_lr         = ReduceLROnPlateau(monitor='val_loss', patience=10, min_lr=0.001, mode='min', verbose=1)\n",
        "model_checkpoint  = ModelCheckpoint(monitor='val_loss', filepath='./best_model.h5', save_best_only=True)"
      ],
      "execution_count": null,
      "outputs": []
    },
    {
      "cell_type": "code",
      "metadata": {
        "id": "OUIqTyr_mJG6"
      },
      "source": [
        "EPOCHS = 50\n",
        "CALLBACKS = [early_stopping, reduce_lr, model_checkpoint]"
      ],
      "execution_count": null,
      "outputs": []
    },
    {
      "cell_type": "code",
      "metadata": {
        "colab": {
          "base_uri": "https://localhost:8080/"
        },
        "id": "Dh5CjyeFmP65",
        "outputId": "a1e84e47-6aa2-45bd-9ed9-3b6a262d45b1"
      },
      "source": [
        "history = model.fit(train_generator,\n",
        "                  # steps_per_epoch = 8,                          # steps_per_epoch = total training records / batch size = 1027/128\n",
        "                    validation_data = valid_generator,\n",
        "                  # validation_steps = 8,                          # validation_steps = total validation records / batch size = 256/32\n",
        "                    verbose = 1,\n",
        "                    epochs = EPOCHS,\n",
        "                    callbacks = CALLBACKS)"
      ],
      "execution_count": null,
      "outputs": [
        {
          "output_type": "stream",
          "name": "stdout",
          "text": [
            "Epoch 1/50\n",
            "9/9 [==============================] - 30s 3s/step - loss: 0.6967 - accuracy: 0.5287 - val_loss: 0.6699 - val_accuracy: 0.6719\n",
            "Epoch 2/50\n",
            "9/9 [==============================] - 27s 3s/step - loss: 0.6765 - accuracy: 0.6475 - val_loss: 0.6866 - val_accuracy: 0.5000\n",
            "Epoch 3/50\n",
            "9/9 [==============================] - 27s 3s/step - loss: 0.6618 - accuracy: 0.6212 - val_loss: 0.6907 - val_accuracy: 0.5000\n",
            "Epoch 4/50\n",
            "9/9 [==============================] - 27s 3s/step - loss: 0.6441 - accuracy: 0.6475 - val_loss: 0.5633 - val_accuracy: 0.7656\n",
            "Epoch 5/50\n",
            "9/9 [==============================] - 27s 3s/step - loss: 0.6050 - accuracy: 0.7167 - val_loss: 0.5398 - val_accuracy: 0.7461\n",
            "Epoch 6/50\n",
            "9/9 [==============================] - 27s 3s/step - loss: 0.6064 - accuracy: 0.6796 - val_loss: 0.6349 - val_accuracy: 0.5898\n",
            "Epoch 7/50\n",
            "9/9 [==============================] - 26s 3s/step - loss: 0.5488 - accuracy: 0.7517 - val_loss: 0.7094 - val_accuracy: 0.5859\n",
            "Epoch 8/50\n",
            "9/9 [==============================] - 27s 3s/step - loss: 0.5563 - accuracy: 0.7293 - val_loss: 0.7163 - val_accuracy: 0.6055\n",
            "Epoch 9/50\n",
            "9/9 [==============================] - 27s 3s/step - loss: 0.5506 - accuracy: 0.7517 - val_loss: 0.6654 - val_accuracy: 0.6523\n",
            "Epoch 10/50\n",
            "9/9 [==============================] - 27s 3s/step - loss: 0.5688 - accuracy: 0.7098 - val_loss: 0.5944 - val_accuracy: 0.7031\n",
            "Epoch 11/50\n",
            "9/9 [==============================] - 27s 3s/step - loss: 0.4965 - accuracy: 0.7692 - val_loss: 0.8988 - val_accuracy: 0.5977\n",
            "Epoch 12/50\n",
            "9/9 [==============================] - 26s 3s/step - loss: 0.4626 - accuracy: 0.7936 - val_loss: 0.5011 - val_accuracy: 0.7930\n",
            "Epoch 13/50\n",
            "9/9 [==============================] - 27s 3s/step - loss: 0.4921 - accuracy: 0.7634 - val_loss: 0.9498 - val_accuracy: 0.6172\n",
            "Epoch 14/50\n",
            "9/9 [==============================] - 26s 3s/step - loss: 0.4651 - accuracy: 0.7741 - val_loss: 0.8517 - val_accuracy: 0.6680\n",
            "Epoch 15/50\n",
            "9/9 [==============================] - 26s 3s/step - loss: 0.4787 - accuracy: 0.7741 - val_loss: 0.8481 - val_accuracy: 0.6758\n",
            "Epoch 16/50\n",
            "9/9 [==============================] - 27s 3s/step - loss: 0.5128 - accuracy: 0.7722 - val_loss: 0.9943 - val_accuracy: 0.6523\n",
            "Epoch 17/50\n",
            "9/9 [==============================] - 27s 3s/step - loss: 0.4217 - accuracy: 0.7965 - val_loss: 0.9788 - val_accuracy: 0.6641\n",
            "Epoch 18/50\n",
            "9/9 [==============================] - 26s 3s/step - loss: 0.4588 - accuracy: 0.7780 - val_loss: 0.8259 - val_accuracy: 0.6992\n",
            "Epoch 19/50\n",
            "9/9 [==============================] - 26s 3s/step - loss: 0.4162 - accuracy: 0.8150 - val_loss: 0.7488 - val_accuracy: 0.7461\n",
            "Epoch 20/50\n",
            "9/9 [==============================] - 26s 3s/step - loss: 0.4134 - accuracy: 0.8082 - val_loss: 0.9163 - val_accuracy: 0.7109\n",
            "Epoch 21/50\n",
            "9/9 [==============================] - 27s 3s/step - loss: 0.4089 - accuracy: 0.8228 - val_loss: 1.0854 - val_accuracy: 0.6523\n",
            "Epoch 22/50\n",
            "9/9 [==============================] - 27s 3s/step - loss: 0.3735 - accuracy: 0.8247 - val_loss: 1.2538 - val_accuracy: 0.6445\n"
          ]
        }
      ]
    },
    {
      "cell_type": "code",
      "metadata": {
        "colab": {
          "base_uri": "https://localhost:8080/"
        },
        "id": "z-hqmiU2mrOF",
        "outputId": "3b0c064d-0a50-478e-87ab-95f3dc51ba0e"
      },
      "source": [
        "model.evaluate(valid_generator)"
      ],
      "execution_count": null,
      "outputs": [
        {
          "output_type": "stream",
          "name": "stdout",
          "text": [
            "8/8 [==============================] - 1s 142ms/step - loss: 1.2538 - accuracy: 0.6445\n"
          ]
        },
        {
          "output_type": "execute_result",
          "data": {
            "text/plain": [
              "[1.25377357006073, 0.64453125]"
            ]
          },
          "metadata": {},
          "execution_count": 40
        }
      ]
    },
    {
      "cell_type": "code",
      "metadata": {
        "colab": {
          "base_uri": "https://localhost:8080/",
          "height": 579
        },
        "id": "lBl6XdHGmr6Q",
        "outputId": "50858dd3-052b-43d2-b801-66ad4a97baa0"
      },
      "source": [
        "acc      = history.history['accuracy']\n",
        "val_acc  = history.history['val_accuracy']\n",
        "\n",
        "epochs   = range(len(acc))\n",
        "\n",
        "plt.plot(epochs, acc, 'r', label = 'Training')\n",
        "plt.plot(epochs, val_acc, 'b', label = 'Validation')\n",
        "plt.title('Training and Validation Accuracy')\n",
        "plt.legend()\n",
        "plt.figure()\n",
        "\n",
        "loss     = history.history['loss']\n",
        "val_loss = history.history['val_loss']\n",
        "\n",
        "epochs   = range(len(loss))\n",
        "\n",
        "plt.plot(epochs, loss, 'r', label = 'Training')\n",
        "plt.plot(epochs, val_loss, 'b', label = 'Validation')\n",
        "plt.title('Training and Validation Loss')\n",
        "plt.legend()\n",
        "plt.figure()"
      ],
      "execution_count": null,
      "outputs": [
        {
          "output_type": "execute_result",
          "data": {
            "text/plain": [
              "<Figure size 432x288 with 0 Axes>"
            ]
          },
          "metadata": {},
          "execution_count": 41
        },
        {
          "output_type": "display_data",
          "data": {
            "image/png": "[encoded data removed]",
            "text/plain": [
              "<Figure size 432x288 with 1 Axes>"
            ]
          },
          "metadata": {
            "needs_background": "light"
          }
        },
        {
          "output_type": "display_data",
          "data": {
            "image/png": "[encoded data removed]",
            "text/plain": [
              "<Figure size 432x288 with 1 Axes>"
            ]
          },
          "metadata": {
            "needs_background": "light"
          }
        },
        {
          "output_type": "display_data",
          "data": {
            "text/plain": [
              "<Figure size 432x288 with 0 Axes>"
            ]
          },
          "metadata": {}
        }
      ]
    },
    {
      "cell_type": "markdown",
      "metadata": {
        "id": "kAJPsVOMLwXM"
      },
      "source": [
        "## Dogs vs Cats Full Dataset - with augmentation"
      ]
    },
    {
      "cell_type": "markdown",
      "metadata": {
        "id": "aUCIGaYN522o"
      },
      "source": [
        "**Exercise 6**\n",
        "\n",
        "In this exercise you will train a CNN on the FULL Cats-v-dogs dataset. This will require you doing a lot of data preprocessing because the dataset isn't split into training and validation for you."
      ]
    },
    {
      "cell_type": "code",
      "metadata": {
        "colab": {
          "base_uri": "https://localhost:8080/"
        },
        "id": "zwFpoXbI5zh4",
        "outputId": "cd8187d1-5587-413a-a739-815f6ae30042"
      },
      "source": [
        "!wget --no-check-certificate \\\n",
        "    \"https://download.microsoft.com/download/3/E/1/3E1C3F21-ECDB-4869-8368-6DEBA77B919F/kagglecatsanddogs_3367a.zip\" \\\n",
        "    -O \"/content/cats-and-dogs.zip\""
      ],
      "execution_count": 1,
      "outputs": [
        {
          "output_type": "stream",
          "name": "stdout",
          "text": [
            "--2021-11-09 08:28:50--  https://download.microsoft.com/download/3/E/1/3E1C3F21-ECDB-4869-8368-6DEBA77B919F/kagglecatsanddogs_3367a.zip\n",
            "Resolving download.microsoft.com (download.microsoft.com)... 23.200.60.129, 2600:1407:3c00:108c::e59, 2600:1407:3c00:10a2::e59\n",
            "Connecting to download.microsoft.com (download.microsoft.com)|23.200.60.129|:443... connected.\n",
            "HTTP request sent, awaiting response... 200 OK\n",
            "Length: 824894548 (787M) [application/octet-stream]\n",
            "Saving to: ‘/content/cats-and-dogs.zip’\n",
            "\n",
            "/content/cats-and-d 100%[===================>] 786.68M   144MB/s    in 5.6s    \n",
            "\n",
            "2021-11-09 08:28:56 (141 MB/s) - ‘/content/cats-and-dogs.zip’ saved [824894548/824894548]\n",
            "\n"
          ]
        }
      ]
    },
    {
      "cell_type": "code",
      "metadata": {
        "id": "XxRtBYCt6XAh"
      },
      "source": [
        "import os\n",
        "import zipfile\n",
        "\n",
        "local_zip = '/content/cats-and-dogs.zip'\n",
        "zip_ref   = zipfile.ZipFile(local_zip, 'r')\n",
        "zip_ref.extractall('/content')\n",
        "zip_ref.close()"
      ],
      "execution_count": 2,
      "outputs": []
    },
    {
      "cell_type": "code",
      "metadata": {
        "colab": {
          "base_uri": "https://localhost:8080/"
        },
        "id": "gK5SL3X0DDpr",
        "outputId": "162e6f13-4800-41ac-8666-125be2ca5d98"
      },
      "source": [
        "# content -> PetImages -> cats, dogs\n",
        "# training and validation directory not given separately\n",
        "\n",
        "print(len(os.listdir('/content/PetImages/Cat/')))\n",
        "print(len(os.listdir('/content/PetImages/Dog/')))"
      ],
      "execution_count": 3,
      "outputs": [
        {
          "output_type": "stream",
          "name": "stdout",
          "text": [
            "12501\n",
            "12501\n"
          ]
        }
      ]
    },
    {
      "cell_type": "code",
      "metadata": {
        "id": "VX-sP2ryDIEy"
      },
      "source": [
        "try:\n",
        "    os.mkdir('/content/cats-v-dogs')\n",
        "    os.mkdir('/content/cats-v-dogs/training')\n",
        "    os.mkdir('/content/cats-v-dogs/testing')\n",
        "    os.mkdir('/content/cats-v-dogs/training/cats')\n",
        "    os.mkdir('/content/cats-v-dogs/training/dogs')\n",
        "    os.mkdir('/content/cats-v-dogs/testing/cats')\n",
        "    os.mkdir('/content/cats-v-dogs/testing/dogs')\n",
        "except OSError:\n",
        "    pass"
      ],
      "execution_count": 4,
      "outputs": []
    },
    {
      "cell_type": "code",
      "metadata": {
        "id": "nb1lW8UzEcDj"
      },
      "source": [
        "# it will split the directory and separate train and validation images\n",
        "# 90% images will be copied to training folder\n",
        "# 10% to validation\n",
        "\n",
        "def split_data(SOURCE, TRAINING, TESTING, SPLIT_SIZE):\n",
        "    files = []\n",
        "    for filename in os.listdir(SOURCE):\n",
        "        file = SOURCE + filename\n",
        "        if os.path.getsize(file) > 0:\n",
        "            files.append(filename)\n",
        "        else:\n",
        "            print(filename + \" is zero length, so ignoring.\")\n",
        "\n",
        "    training_length = int(len(files) * SPLIT_SIZE)\n",
        "    testing_length = int(len(files) - training_length)\n",
        "    shuffled_set = random.sample(files, len(files))\n",
        "    training_set = shuffled_set[0:training_length]\n",
        "    testing_set = shuffled_set[-testing_length:]\n",
        "\n",
        "    for filename in training_set:\n",
        "        this_file = SOURCE + filename\n",
        "        destination = TRAINING + filename\n",
        "        copyfile(this_file, destination)\n",
        "\n",
        "    for filename in testing_set:\n",
        "        this_file = SOURCE + filename\n",
        "        destination = TESTING + filename\n",
        "        copyfile(this_file, destination)"
      ],
      "execution_count": 5,
      "outputs": []
    },
    {
      "cell_type": "code",
      "metadata": {
        "colab": {
          "base_uri": "https://localhost:8080/"
        },
        "id": "pGiH-dvKEcGF",
        "outputId": "eb5e7705-1de3-41b3-e767-544a60c75103"
      },
      "source": [
        "CAT_SOURCE_DIR = \"/content/PetImages/Cat/\"\n",
        "TRAINING_CATS_DIR = \"/content/cats-v-dogs/training/cats/\"\n",
        "TESTING_CATS_DIR = \"/content/cats-v-dogs/testing/cats/\"\n",
        "DOG_SOURCE_DIR = \"/content/PetImages/Dog/\"\n",
        "TRAINING_DOGS_DIR = \"/content/cats-v-dogs/training/dogs/\"\n",
        "TESTING_DOGS_DIR = \"/content/cats-v-dogs/testing/dogs/\"\n",
        "\n",
        "split_size = .9\n",
        "split_data(CAT_SOURCE_DIR, TRAINING_CATS_DIR, TESTING_CATS_DIR, split_size)\n",
        "split_data(DOG_SOURCE_DIR, TRAINING_DOGS_DIR, TESTING_DOGS_DIR, split_size)"
      ],
      "execution_count": 8,
      "outputs": [
        {
          "output_type": "stream",
          "name": "stdout",
          "text": [
            "666.jpg is zero length, so ignoring.\n",
            "11702.jpg is zero length, so ignoring.\n"
          ]
        }
      ]
    },
    {
      "cell_type": "code",
      "metadata": {
        "colab": {
          "base_uri": "https://localhost:8080/"
        },
        "id": "rHhR0ZZ5EcJl",
        "outputId": "d57cac58-c0e0-4ea6-8214-79dee7e416b6"
      },
      "source": [
        "print(len(os.listdir('/content/cats-v-dogs/training/cats/')))\n",
        "print(len(os.listdir('/content/cats-v-dogs/training/dogs/')))\n",
        "print(len(os.listdir('/content/cats-v-dogs/testing/cats/')))\n",
        "print(len(os.listdir('/content/cats-v-dogs/testing/dogs/')))"
      ],
      "execution_count": 9,
      "outputs": [
        {
          "output_type": "stream",
          "name": "stdout",
          "text": [
            "11250\n",
            "11250\n",
            "1250\n",
            "1250\n"
          ]
        }
      ]
    },
    {
      "cell_type": "code",
      "metadata": {
        "id": "L0xYTWrBwrSG"
      },
      "source": [
        "IMG_HEIGHT = 150        \n",
        "IMG_WIDTH = 150\n",
        "CHANNELS = 3\n",
        "NUM_CLASSES = 1"
      ],
      "execution_count": 10,
      "outputs": []
    },
    {
      "cell_type": "code",
      "metadata": {
        "id": "xtTtJef4wvcB"
      },
      "source": [
        "model = Sequential([\n",
        "    layers.InputLayer(input_shape=(IMG_HEIGHT, IMG_WIDTH, CHANNELS)),\n",
        "    layers.Conv2D(16, (3,3), activation='relu'),\n",
        "    layers.MaxPooling2D(2, 2),\n",
        "    layers.Conv2D(32, (3,3), activation='relu'),\n",
        "    layers.MaxPooling2D(2,2),\n",
        "    layers.Conv2D(64, (3,3), activation='relu'),\n",
        "    layers.MaxPooling2D(2,2),\n",
        "    layers.Flatten(),\n",
        "    layers.Dense(512, activation='relu'),\n",
        "    layers.Dense(NUM_CLASSES, activation='sigmoid')\n",
        "])"
      ],
      "execution_count": 11,
      "outputs": []
    },
    {
      "cell_type": "code",
      "metadata": {
        "colab": {
          "base_uri": "https://localhost:8080/"
        },
        "id": "k6Gq-X5hYdID",
        "outputId": "a74ef93c-7a7a-443b-d206-f385ded19c0d"
      },
      "source": [
        "model.summary()"
      ],
      "execution_count": 12,
      "outputs": [
        {
          "output_type": "stream",
          "name": "stdout",
          "text": [
            "Model: \"sequential\"\n",
            "_________________________________________________________________\n",
            "Layer (type)                 Output Shape              Param #   \n",
            "=================================================================\n",
            "conv2d (Conv2D)              (None, 148, 148, 16)      448       \n",
            "_________________________________________________________________\n",
            "max_pooling2d (MaxPooling2D) (None, 74, 74, 16)        0         \n",
            "_________________________________________________________________\n",
            "conv2d_1 (Conv2D)            (None, 72, 72, 32)        4640      \n",
            "_________________________________________________________________\n",
            "max_pooling2d_1 (MaxPooling2 (None, 36, 36, 32)        0         \n",
            "_________________________________________________________________\n",
            "conv2d_2 (Conv2D)            (None, 34, 34, 64)        18496     \n",
            "_________________________________________________________________\n",
            "max_pooling2d_2 (MaxPooling2 (None, 17, 17, 64)        0         \n",
            "_________________________________________________________________\n",
            "flatten (Flatten)            (None, 18496)             0         \n",
            "_________________________________________________________________\n",
            "dense (Dense)                (None, 512)               9470464   \n",
            "_________________________________________________________________\n",
            "dense_1 (Dense)              (None, 1)                 513       \n",
            "=================================================================\n",
            "Total params: 9,494,561\n",
            "Trainable params: 9,494,561\n",
            "Non-trainable params: 0\n",
            "_________________________________________________________________\n"
          ]
        }
      ]
    },
    {
      "cell_type": "code",
      "metadata": {
        "id": "L92rNYPBw223"
      },
      "source": [
        "optimizer   = tf.keras.optimizers.RMSprop(learning_rate=0.001)\n",
        "loss        = tf.keras.losses.BinaryCrossentropy()\n",
        "metrics     = ['accuracy']"
      ],
      "execution_count": 13,
      "outputs": []
    },
    {
      "cell_type": "code",
      "metadata": {
        "id": "AOd7kLSGYmsH"
      },
      "source": [
        "model.compile(optimizer=optimizer,\n",
        "              loss=loss,\n",
        "              metrics=metrics)"
      ],
      "execution_count": 14,
      "outputs": []
    },
    {
      "cell_type": "code",
      "metadata": {
        "colab": {
          "base_uri": "https://localhost:8080/"
        },
        "id": "A3vxzMRew8cL",
        "outputId": "9064dbf8-42ab-43f0-ccbc-664feb002341"
      },
      "source": [
        "from tensorflow.keras.preprocessing.image import ImageDataGenerator\n",
        "\n",
        "TRAIN_DIR = '/content/cats-v-dogs/training/'\n",
        "\n",
        "train_datagen = ImageDataGenerator(rescale = 1./255.,\n",
        "                                  rotation_range = 40,\n",
        "                                  width_shift_range = 0.2,\n",
        "                                  height_shift_range = 0.2,\n",
        "                                  shear_range = 0.2,\n",
        "                                  zoom_range = 0.2,\n",
        "                                  horizontal_flip = True,\n",
        "                                  fill_mode = 'nearest')       \n",
        "\n",
        "train_generator = train_datagen.flow_from_directory(\n",
        "                                  TRAIN_DIR,   \n",
        "                                  target_size = (IMG_HEIGHT, IMG_WIDTH),       # same as input image size\n",
        "                                  batch_size = 100,             \n",
        "                                  seed = 20,                      \n",
        "                                  class_mode = 'binary')"
      ],
      "execution_count": 15,
      "outputs": [
        {
          "output_type": "stream",
          "name": "stdout",
          "text": [
            "Found 22498 images belonging to 2 classes.\n"
          ]
        }
      ]
    },
    {
      "cell_type": "code",
      "metadata": {
        "colab": {
          "base_uri": "https://localhost:8080/"
        },
        "id": "44ICJwH7xHdQ",
        "outputId": "2fb5ffa4-6da0-4483-ed8b-d245a44cbec3"
      },
      "source": [
        "VALID_DIR = '/content/cats-v-dogs/testing/'\n",
        "\n",
        "valid_datagen = ImageDataGenerator(rescale = 1./255.)\n",
        "\n",
        "valid_generator = valid_datagen.flow_from_directory(\n",
        "                          VALID_DIR, \n",
        "                          target_size = (IMG_HEIGHT, IMG_WIDTH),\n",
        "                          batch_size = 100,\n",
        "                          seed = 20,\n",
        "                          class_mode = 'binary')"
      ],
      "execution_count": 16,
      "outputs": [
        {
          "output_type": "stream",
          "name": "stdout",
          "text": [
            "Found 2500 images belonging to 2 classes.\n"
          ]
        }
      ]
    },
    {
      "cell_type": "code",
      "metadata": {
        "id": "NKJhmH5qxqrk"
      },
      "source": [
        "early_stopping    = EarlyStopping(monitor='val_loss', patience=7)\n",
        "reduce_lr         = ReduceLROnPlateau(monitor='val_loss', patience=7, min_lr=0.001, mode='min', verbose=1)\n",
        "model_checkpoint  = ModelCheckpoint(monitor='val_loss', filepath='./best_model.h5', save_best_only=True)"
      ],
      "execution_count": null,
      "outputs": []
    },
    {
      "cell_type": "code",
      "metadata": {
        "id": "jVYjwBhpxugK"
      },
      "source": [
        "EPOCHS = 20\n",
        "CALLBACKS = [early_stopping, reduce_lr, model_checkpoint]"
      ],
      "execution_count": null,
      "outputs": []
    },
    {
      "cell_type": "code",
      "metadata": {
        "colab": {
          "base_uri": "https://localhost:8080/"
        },
        "id": "C_5j9NiNzLYH",
        "outputId": "ce814d25-2e5f-4c66-abee-58d95eb9547f"
      },
      "source": [
        "history = model.fit(train_generator,\n",
        "                    validation_data = valid_generator,\n",
        "                    verbose = 1,\n",
        "                    epochs = EPOCHS,\n",
        "                    callbacks = CALLBACKS)"
      ],
      "execution_count": null,
      "outputs": [
        {
          "output_type": "stream",
          "name": "stdout",
          "text": [
            "Epoch 1/20\n",
            "153/248 [=================>............] - ETA: 1:18 - loss: 0.7496 - accuracy: 0.5594"
          ]
        },
        {
          "output_type": "stream",
          "name": "stderr",
          "text": [
            "/usr/local/lib/python3.7/dist-packages/PIL/TiffImagePlugin.py:770: UserWarning: Possibly corrupt EXIF data.  Expecting to read 32 bytes but only got 0. Skipping tag 270\n",
            "  \" Skipping tag %s\" % (size, len(data), tag)\n",
            "/usr/local/lib/python3.7/dist-packages/PIL/TiffImagePlugin.py:770: UserWarning: Possibly corrupt EXIF data.  Expecting to read 5 bytes but only got 0. Skipping tag 271\n",
            "  \" Skipping tag %s\" % (size, len(data), tag)\n",
            "/usr/local/lib/python3.7/dist-packages/PIL/TiffImagePlugin.py:770: UserWarning: Possibly corrupt EXIF data.  Expecting to read 8 bytes but only got 0. Skipping tag 272\n",
            "  \" Skipping tag %s\" % (size, len(data), tag)\n",
            "/usr/local/lib/python3.7/dist-packages/PIL/TiffImagePlugin.py:770: UserWarning: Possibly corrupt EXIF data.  Expecting to read 8 bytes but only got 0. Skipping tag 282\n",
            "  \" Skipping tag %s\" % (size, len(data), tag)\n",
            "/usr/local/lib/python3.7/dist-packages/PIL/TiffImagePlugin.py:770: UserWarning: Possibly corrupt EXIF data.  Expecting to read 8 bytes but only got 0. Skipping tag 283\n",
            "  \" Skipping tag %s\" % (size, len(data), tag)\n",
            "/usr/local/lib/python3.7/dist-packages/PIL/TiffImagePlugin.py:770: UserWarning: Possibly corrupt EXIF data.  Expecting to read 20 bytes but only got 0. Skipping tag 306\n",
            "  \" Skipping tag %s\" % (size, len(data), tag)\n",
            "/usr/local/lib/python3.7/dist-packages/PIL/TiffImagePlugin.py:770: UserWarning: Possibly corrupt EXIF data.  Expecting to read 48 bytes but only got 0. Skipping tag 532\n",
            "  \" Skipping tag %s\" % (size, len(data), tag)\n",
            "/usr/local/lib/python3.7/dist-packages/PIL/TiffImagePlugin.py:788: UserWarning: Corrupt EXIF data.  Expecting to read 2 bytes but only got 0. \n",
            "  warnings.warn(str(msg))\n"
          ]
        },
        {
          "output_type": "stream",
          "name": "stdout",
          "text": [
            "248/248 [==============================] - 229s 890ms/step - loss: 0.7274 - accuracy: 0.5774 - val_loss: 0.6449 - val_accuracy: 0.6486\n",
            "Epoch 2/20\n",
            "248/248 [==============================] - 218s 878ms/step - loss: 0.6260 - accuracy: 0.6523 - val_loss: 0.5515 - val_accuracy: 0.7134\n",
            "Epoch 3/20\n",
            "248/248 [==============================] - 217s 873ms/step - loss: 0.5793 - accuracy: 0.6933 - val_loss: 0.5461 - val_accuracy: 0.7080\n",
            "Epoch 4/20\n",
            "248/248 [==============================] - 212s 855ms/step - loss: 0.5478 - accuracy: 0.7213 - val_loss: 0.4867 - val_accuracy: 0.7690\n",
            "Epoch 5/20\n",
            "248/248 [==============================] - 209s 841ms/step - loss: 0.5304 - accuracy: 0.7319 - val_loss: 0.5204 - val_accuracy: 0.7450\n",
            "Epoch 6/20\n",
            "248/248 [==============================] - 208s 840ms/step - loss: 0.5160 - accuracy: 0.7454 - val_loss: 0.4738 - val_accuracy: 0.7667\n",
            "Epoch 7/20\n",
            "248/248 [==============================] - 209s 842ms/step - loss: 0.5014 - accuracy: 0.7539 - val_loss: 0.4462 - val_accuracy: 0.7953\n",
            "Epoch 8/20\n",
            "248/248 [==============================] - 208s 840ms/step - loss: 0.4875 - accuracy: 0.7649 - val_loss: 0.4230 - val_accuracy: 0.8037\n",
            "Epoch 9/20\n",
            "248/248 [==============================] - 210s 845ms/step - loss: 0.4784 - accuracy: 0.7713 - val_loss: 0.3979 - val_accuracy: 0.8365\n",
            "Epoch 10/20\n",
            "248/248 [==============================] - 207s 836ms/step - loss: 0.4619 - accuracy: 0.7824 - val_loss: 0.3763 - val_accuracy: 0.8355\n",
            "Epoch 11/20\n",
            "248/248 [==============================] - 207s 835ms/step - loss: 0.4463 - accuracy: 0.7917 - val_loss: 0.4087 - val_accuracy: 0.8281\n",
            "Epoch 12/20\n",
            "248/248 [==============================] - 205s 827ms/step - loss: 0.4387 - accuracy: 0.7932 - val_loss: 0.3424 - val_accuracy: 0.8534\n",
            "Epoch 13/20\n",
            "248/248 [==============================] - 203s 818ms/step - loss: 0.4314 - accuracy: 0.8008 - val_loss: 0.4067 - val_accuracy: 0.8220\n",
            "Epoch 14/20\n",
            "248/248 [==============================] - 210s 848ms/step - loss: 0.4194 - accuracy: 0.8095 - val_loss: 0.3989 - val_accuracy: 0.8273\n",
            "Epoch 15/20\n",
            "248/248 [==============================] - 210s 846ms/step - loss: 0.4100 - accuracy: 0.8158 - val_loss: 0.3499 - val_accuracy: 0.8574\n",
            "Epoch 16/20\n",
            "248/248 [==============================] - 207s 836ms/step - loss: 0.4051 - accuracy: 0.8161 - val_loss: 0.3500 - val_accuracy: 0.8559\n",
            "Epoch 17/20\n",
            "248/248 [==============================] - 206s 830ms/step - loss: 0.3961 - accuracy: 0.8207 - val_loss: 0.3898 - val_accuracy: 0.8239\n",
            "Epoch 18/20\n",
            "248/248 [==============================] - 208s 838ms/step - loss: 0.3902 - accuracy: 0.8233 - val_loss: 0.3436 - val_accuracy: 0.8498\n",
            "Epoch 19/20\n",
            "248/248 [==============================] - 210s 846ms/step - loss: 0.3851 - accuracy: 0.8295 - val_loss: 0.2907 - val_accuracy: 0.8727\n",
            "Epoch 20/20\n",
            "248/248 [==============================] - 209s 844ms/step - loss: 0.3761 - accuracy: 0.8348 - val_loss: 0.5475 - val_accuracy: 0.7993\n"
          ]
        }
      ]
    },
    {
      "cell_type": "code",
      "metadata": {
        "colab": {
          "base_uri": "https://localhost:8080/"
        },
        "id": "_ebNiWKHzY_9",
        "outputId": "8927cb61-91a2-46be-ddcc-bc779e4cc209"
      },
      "source": [
        "model.evaluate(valid_generator)"
      ],
      "execution_count": null,
      "outputs": [
        {
          "output_type": "stream",
          "name": "stdout",
          "text": [
            "48/48 [==============================] - 15s 302ms/step - loss: 0.5475 - accuracy: 0.7993\n"
          ]
        },
        {
          "output_type": "execute_result",
          "data": {
            "text/plain": [
              "[0.5475403666496277, 0.7992846369743347]"
            ]
          },
          "metadata": {},
          "execution_count": 19
        }
      ]
    },
    {
      "cell_type": "code",
      "metadata": {
        "colab": {
          "base_uri": "https://localhost:8080/",
          "height": 579
        },
        "id": "WaIdRqLWzY_-",
        "outputId": "9f42e3c4-5d99-47d2-bf34-a3d8a8e5203c"
      },
      "source": [
        "acc      = history.history['accuracy']\n",
        "val_acc  = history.history['val_accuracy']\n",
        "\n",
        "epochs   = range(len(acc))\n",
        "\n",
        "plt.plot(epochs, acc, 'r', label = 'Training')\n",
        "plt.plot(epochs, val_acc, 'b', label = 'Validation')\n",
        "plt.title('Training and Validation Accuracy')\n",
        "plt.legend()\n",
        "plt.figure()\n",
        "\n",
        "loss     = history.history['loss']\n",
        "val_loss = history.history['val_loss']\n",
        "\n",
        "epochs   = range(len(loss))\n",
        "\n",
        "plt.plot(epochs, loss, 'r', label = 'Training')\n",
        "plt.plot(epochs, val_loss, 'b', label = 'Validation')\n",
        "plt.title('Training and Validation Loss')\n",
        "plt.legend()\n",
        "plt.figure()"
      ],
      "execution_count": null,
      "outputs": [
        {
          "output_type": "execute_result",
          "data": {
            "text/plain": [
              "<Figure size 432x288 with 0 Axes>"
            ]
          },
          "metadata": {},
          "execution_count": 20
        },
        {
          "output_type": "display_data",
          "data": {
            "image/png": "[encoded data removed]",
            "text/plain": [
              "<Figure size 432x288 with 1 Axes>"
            ]
          },
          "metadata": {
            "needs_background": "light"
          }
        },
        {
          "output_type": "display_data",
          "data": {
            "image/png": "[encoded data removed]",
            "text/plain": [
              "<Figure size 432x288 with 1 Axes>"
            ]
          },
          "metadata": {
            "needs_background": "light"
          }
        },
        {
          "output_type": "display_data",
          "data": {
            "text/plain": [
              "<Figure size 432x288 with 0 Axes>"
            ]
          },
          "metadata": {}
        }
      ]
    },
    {
      "cell_type": "code",
      "metadata": {
        "colab": {
          "resources": {
            "http://localhost:8080/nbextensions/google.colab/files.js": {
              "data": "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",
              "ok": true,
              "headers": [
                [
                  "content-type",
                  "application/javascript"
                ]
              ],
              "status": 200,
              "status_text": ""
            }
          },
          "base_uri": "https://localhost:8080/",
          "height": 108
        },
        "id": "QfCvcNNvZvuk",
        "outputId": "8010f312-19de-4c2b-940b-540fd715049a"
      },
      "source": [
        "from google.colab import files\n",
        "from keras.preprocessing import image\n",
        "uploaded = files.upload()\n",
        "\n",
        "for fn in uploaded.keys():\n",
        " \n",
        "  # predicting images\n",
        "  path = '/content/' + fn\n",
        "  img = image.load_img(path, target_size=(150, 150))\n",
        "  x = image.img_to_array(img)\n",
        "  x = np.expand_dims(x, axis=0)\n",
        "\n",
        "  images = np.vstack([x])\n",
        "  classes = model.predict(images, batch_size=10)\n",
        "  print(classes[0])\n",
        "  if classes[0]>0.5:\n",
        "    print(fn + \" is a dog\")\n",
        "  else:\n",
        "    print(fn + \" is a cat\")"
      ],
      "execution_count": null,
      "outputs": [
        {
          "output_type": "display_data",
          "data": {
            "text/html": [
              "\n",
              "     <input type=\"file\" id=\"files-d73d23ff-4870-42bd-93e2-6c82199fd6e3\" name=\"files[]\" multiple disabled\n",
              "        style=\"border:none\" />\n",
              "     <output id=\"result-d73d23ff-4870-42bd-93e2-6c82199fd6e3\">\n",
              "      Upload widget is only available when the cell has been executed in the\n",
              "      current browser session. Please rerun this cell to enable.\n",
              "      </output>\n",
              "      <script src=\"/nbextensions/google.colab/files.js\"></script> "
            ],
            "text/plain": [
              "<IPython.core.display.HTML object>"
            ]
          },
          "metadata": {
            "tags": []
          }
        },
        {
          "output_type": "stream",
          "text": [
            "Saving best-girl-cat-names-1606245046.jpg to best-girl-cat-names-1606245046.jpg\n",
            "[1.0741011e-29]\n",
            "best-girl-cat-names-1606245046.jpg is a cat\n"
          ],
          "name": "stdout"
        }
      ]
    }
  ]
}