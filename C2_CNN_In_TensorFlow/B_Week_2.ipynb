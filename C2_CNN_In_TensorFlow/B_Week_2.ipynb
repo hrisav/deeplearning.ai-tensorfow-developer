{
  "nbformat": 4,
  "nbformat_minor": 0,
  "metadata": {
    "colab": {
      "name": "B_Week_2.ipynb",
      "provenance": [],
      "collapsed_sections": [],
      "toc_visible": true
    },
    "kernelspec": {
      "name": "python3",
      "display_name": "Python 3"
    },
    "language_info": {
      "name": "python"
    },
    "accelerator": "GPU"
  },
  "cells": [
    {
      "cell_type": "markdown",
      "metadata": {
        "id": "9OTfHWbzl8Xn"
      },
      "source": [
        "## Dogs vs Cats - with augmentation"
      ]
    },
    {
      "cell_type": "code",
      "metadata": {
        "id": "0WIN0IfMligr"
      },
      "source": [
        "import tensorflow as tf\n",
        "import numpy as np\n",
        "from tensorflow import keras\n",
        "import matplotlib.pyplot as plt\n",
        "%matplotlib inline\n",
        "import matplotlib.image as mpimg\n",
        "import random\n",
        "from shutil import copyfile"
      ],
      "execution_count": 2,
      "outputs": []
    },
    {
      "cell_type": "code",
      "metadata": {
        "colab": {
          "base_uri": "https://localhost:8080/"
        },
        "id": "X4tsCqy1l-HE",
        "outputId": "b031d556-d8c3-485c-edd5-c6768b5d89e8"
      },
      "source": [
        "!wget --no-check-certificate \\\n",
        "  https://storage.googleapis.com/mledu-datasets/cats_and_dogs_filtered.zip \\\n",
        "  -O /content/cats_and_dogs_filtered.zip"
      ],
      "execution_count": null,
      "outputs": [
        {
          "output_type": "stream",
          "text": [
            "--2021-08-01 18:29:02--  https://storage.googleapis.com/mledu-datasets/cats_and_dogs_filtered.zip\n",
            "Resolving storage.googleapis.com (storage.googleapis.com)... 142.250.141.128, 142.251.2.128, 142.250.101.128, ...\n",
            "Connecting to storage.googleapis.com (storage.googleapis.com)|142.250.141.128|:443... connected.\n",
            "HTTP request sent, awaiting response... 200 OK\n",
            "Length: 68606236 (65M) [application/zip]\n",
            "Saving to: ‘/content/cats_and_dogs_filtered.zip’\n",
            "\n",
            "/content/cats_and_d 100%[===================>]  65.43M   260MB/s    in 0.3s    \n",
            "\n",
            "2021-08-01 18:29:03 (260 MB/s) - ‘/content/cats_and_dogs_filtered.zip’ saved [68606236/68606236]\n",
            "\n"
          ],
          "name": "stdout"
        }
      ]
    },
    {
      "cell_type": "code",
      "metadata": {
        "id": "JKrHx8admCUw"
      },
      "source": [
        "# content -> cats_and_dogs_filtered -> train -> cats, dogs\n",
        "# content -> cats_and_dogs_filtered -> validation -> cats, dogs\n",
        "\n",
        "import os\n",
        "import zipfile\n",
        "\n",
        "local_zip = '/content/cats_and_dogs_filtered.zip'\n",
        "\n",
        "zip_ref = zipfile.ZipFile(local_zip, 'r')\n",
        "\n",
        "zip_ref.extractall('/content')\n",
        "zip_ref.close()"
      ],
      "execution_count": null,
      "outputs": []
    },
    {
      "cell_type": "code",
      "metadata": {
        "id": "xtKXu5FhhmWK"
      },
      "source": [
        "base_dir = '/content/cats_and_dogs_filtered'\n",
        "\n",
        "train_dir = os.path.join(base_dir, 'train')\n",
        "validation_dir = os.path.join(base_dir, 'validation')\n",
        "\n",
        "# Directory with our training cat/dog pictures\n",
        "train_cats_dir = os.path.join(train_dir, 'cats')\n",
        "train_dogs_dir = os.path.join(train_dir, 'dogs')\n",
        "\n",
        "# Directory with our validation cat/dog pictures\n",
        "validation_cats_dir = os.path.join(validation_dir, 'cats')\n",
        "validation_dogs_dir = os.path.join(validation_dir, 'dogs')"
      ],
      "execution_count": null,
      "outputs": []
    },
    {
      "cell_type": "code",
      "metadata": {
        "id": "UcMhD82cmfdz",
        "colab": {
          "base_uri": "https://localhost:8080/"
        },
        "outputId": "a1020c39-c8d5-4599-eba3-43e33e728fee"
      },
      "source": [
        "train_cat_fnames = os.listdir(train_cats_dir)\n",
        "train_dog_fnames = os.listdir(train_dogs_dir)\n",
        "\n",
        "print(train_cat_fnames[:10])\n",
        "print(train_dog_fnames[:10])"
      ],
      "execution_count": null,
      "outputs": [
        {
          "output_type": "stream",
          "text": [
            "['cat.289.jpg', 'cat.275.jpg', 'cat.168.jpg', 'cat.902.jpg', 'cat.660.jpg', 'cat.339.jpg', 'cat.628.jpg', 'cat.595.jpg', 'cat.140.jpg', 'cat.990.jpg']\n",
            "['dog.12.jpg', 'dog.39.jpg', 'dog.42.jpg', 'dog.210.jpg', 'dog.228.jpg', 'dog.839.jpg', 'dog.369.jpg', 'dog.723.jpg', 'dog.305.jpg', 'dog.646.jpg']\n"
          ],
          "name": "stdout"
        }
      ]
    },
    {
      "cell_type": "code",
      "metadata": {
        "id": "_C1GM6lD9JSj",
        "colab": {
          "base_uri": "https://localhost:8080/"
        },
        "outputId": "ee20fcd8-fdb0-4861-f72f-05146c649944"
      },
      "source": [
        "print('total training cat images :', len(os.listdir(train_cats_dir)))\n",
        "print('total training dog images :', len(os.listdir(train_dogs_dir)))\n",
        "\n",
        "print('total validation cat images :', len(os.listdir(validation_cats_dir)))\n",
        "print('total validation dog images :', len(os.listdir(validation_dogs_dir)))"
      ],
      "execution_count": null,
      "outputs": [
        {
          "output_type": "stream",
          "text": [
            "total training cat images : 1000\n",
            "total training dog images : 1000\n",
            "total validation cat images : 500\n",
            "total validation dog images : 500\n"
          ],
          "name": "stdout"
        }
      ]
    },
    {
      "cell_type": "code",
      "metadata": {
        "id": "L8t1dKnBqKYD"
      },
      "source": [
        "model = tf.keras.models.Sequential([\n",
        "    # Note the input shape is the desired size of the image 150x150 with 3 bytes color\n",
        "\n",
        "    tf.keras.layers.Conv2D(16, (3,3), activation='relu', input_shape=(150, 150, 3)),\n",
        "    tf.keras.layers.MaxPooling2D(2,2),\n",
        "\n",
        "    tf.keras.layers.Conv2D(32, (3,3), activation='relu'),\n",
        "    tf.keras.layers.MaxPooling2D(2,2), \n",
        "\n",
        "    tf.keras.layers.Conv2D(64, (3,3), activation='relu'), \n",
        "    tf.keras.layers.MaxPooling2D(2,2),\n",
        "    \n",
        "    # Flatten the results to feed into a DNN\n",
        "    tf.keras.layers.Flatten(), \n",
        "    # 512 neuron hidden layer\n",
        "    tf.keras.layers.Dense(512, activation='relu'), \n",
        "    # Only 1 output neuron. It will contain a value from 0-1 where 0 for 1 class ('cats') and 1 for the other ('dogs')\n",
        "    tf.keras.layers.Dense(1, activation='sigmoid')  \n",
        "])"
      ],
      "execution_count": null,
      "outputs": []
    },
    {
      "cell_type": "code",
      "metadata": {
        "colab": {
          "base_uri": "https://localhost:8080/"
        },
        "id": "FTP-3TArqi0f",
        "outputId": "3dc288af-e296-442a-ed5b-0f8f5b9b04a4"
      },
      "source": [
        "model.summary()"
      ],
      "execution_count": null,
      "outputs": [
        {
          "output_type": "stream",
          "text": [
            "Model: \"sequential\"\n",
            "_________________________________________________________________\n",
            "Layer (type)                 Output Shape              Param #   \n",
            "=================================================================\n",
            "conv2d (Conv2D)              (None, 148, 148, 16)      448       \n",
            "_________________________________________________________________\n",
            "max_pooling2d (MaxPooling2D) (None, 74, 74, 16)        0         \n",
            "_________________________________________________________________\n",
            "conv2d_1 (Conv2D)            (None, 72, 72, 32)        4640      \n",
            "_________________________________________________________________\n",
            "max_pooling2d_1 (MaxPooling2 (None, 36, 36, 32)        0         \n",
            "_________________________________________________________________\n",
            "conv2d_2 (Conv2D)            (None, 34, 34, 64)        18496     \n",
            "_________________________________________________________________\n",
            "max_pooling2d_2 (MaxPooling2 (None, 17, 17, 64)        0         \n",
            "_________________________________________________________________\n",
            "flatten (Flatten)            (None, 18496)             0         \n",
            "_________________________________________________________________\n",
            "dense (Dense)                (None, 512)               9470464   \n",
            "_________________________________________________________________\n",
            "dense_1 (Dense)              (None, 1)                 513       \n",
            "=================================================================\n",
            "Total params: 9,494,561\n",
            "Trainable params: 9,494,561\n",
            "Non-trainable params: 0\n",
            "_________________________________________________________________\n"
          ],
          "name": "stdout"
        }
      ]
    },
    {
      "cell_type": "code",
      "metadata": {
        "id": "YqNMuqb-qk9Q"
      },
      "source": [
        "# RMS is preferrable to SGD because RMSprop automates learning-rate tuning for us\n",
        "# Adam, AdaGrad will also do good\n",
        "\n",
        "from tensorflow.keras.optimizers import RMSprop\n",
        "\n",
        "model.compile(loss='binary_crossentropy',\n",
        "              optimizer=RMSprop(learning_rate=0.001),\n",
        "              metrics=['accuracy'])"
      ],
      "execution_count": null,
      "outputs": []
    },
    {
      "cell_type": "code",
      "metadata": {
        "colab": {
          "base_uri": "https://localhost:8080/"
        },
        "id": "v5Xa9zEjq4IR",
        "outputId": "818981ba-3ad6-4a29-aa00-2fb58fe61173"
      },
      "source": [
        "from tensorflow.keras.preprocessing.image import ImageDataGenerator\n",
        "\n",
        "train_datagen = ImageDataGenerator(rescale=1./255,\n",
        "                                  rotation_range=40,\n",
        "                                  width_shift_range=0.2,\n",
        "                                  height_shift_range=0.2,\n",
        "                                  shear_range=0.2,\n",
        "                                  zoom_range=0.2,\n",
        "                                  horizontal_flip=True,\n",
        "                                  fill_mode='nearest')\n",
        "\n",
        "# rescale all images by 1./255.\n",
        "test_datagen  = ImageDataGenerator( rescale = 1.0/255. )\n",
        "\n",
        "\n",
        "# Flow training images in batches of 20 using train_datagen generator\n",
        "train_generator = train_datagen.flow_from_directory(train_dir,\n",
        "                                                    batch_size=20,\n",
        "                                                    class_mode='binary',\n",
        "                                                    target_size=(150, 150))     \n",
        "\n",
        "# Flow validation images in batches of 20 using test_datagen generator\n",
        "validation_generator =  test_datagen.flow_from_directory(validation_dir,\n",
        "                                                         batch_size=20,\n",
        "                                                         class_mode  = 'binary',\n",
        "                                                         target_size = (150, 150))"
      ],
      "execution_count": null,
      "outputs": [
        {
          "output_type": "stream",
          "text": [
            "Found 2000 images belonging to 2 classes.\n",
            "Found 1000 images belonging to 2 classes.\n"
          ],
          "name": "stdout"
        }
      ]
    },
    {
      "cell_type": "code",
      "metadata": {
        "colab": {
          "base_uri": "https://localhost:8080/"
        },
        "id": "6Vb2MG4M49CK",
        "outputId": "edf4e6bf-7d03-47b0-9993-cdf96b42a940"
      },
      "source": [
        "history = model.fit(train_generator,\n",
        "                    validation_data=validation_generator,\n",
        "                    steps_per_epoch=100,                    # steps_per_epoch = total training records / batch size = 2000/20\n",
        "                    epochs=50,\n",
        "                    validation_steps=50,                    # validation_steps = total validation records / batch size = 1000/20\n",
        "                    verbose=2)"
      ],
      "execution_count": null,
      "outputs": [
        {
          "output_type": "stream",
          "text": [
            "Epoch 1/50\n",
            "100/100 - 48s - loss: 0.7632 - accuracy: 0.5435 - val_loss: 0.6404 - val_accuracy: 0.6350\n",
            "Epoch 2/50\n",
            "100/100 - 17s - loss: 0.6586 - accuracy: 0.5990 - val_loss: 0.6129 - val_accuracy: 0.6500\n",
            "Epoch 3/50\n",
            "100/100 - 17s - loss: 0.6363 - accuracy: 0.6420 - val_loss: 0.6212 - val_accuracy: 0.6180\n",
            "Epoch 4/50\n",
            "100/100 - 16s - loss: 0.6196 - accuracy: 0.6490 - val_loss: 0.5796 - val_accuracy: 0.6840\n",
            "Epoch 5/50\n",
            "100/100 - 16s - loss: 0.6105 - accuracy: 0.6800 - val_loss: 0.5587 - val_accuracy: 0.7070\n",
            "Epoch 6/50\n",
            "100/100 - 17s - loss: 0.6085 - accuracy: 0.6695 - val_loss: 0.9436 - val_accuracy: 0.6070\n",
            "Epoch 7/50\n",
            "100/100 - 17s - loss: 0.6168 - accuracy: 0.6670 - val_loss: 0.6754 - val_accuracy: 0.6530\n",
            "Epoch 8/50\n",
            "100/100 - 17s - loss: 0.5951 - accuracy: 0.6795 - val_loss: 0.5625 - val_accuracy: 0.6970\n",
            "Epoch 9/50\n",
            "100/100 - 17s - loss: 0.5924 - accuracy: 0.6830 - val_loss: 0.5317 - val_accuracy: 0.7170\n",
            "Epoch 10/50\n",
            "100/100 - 16s - loss: 0.5681 - accuracy: 0.7060 - val_loss: 0.5330 - val_accuracy: 0.7170\n",
            "Epoch 11/50\n",
            "100/100 - 16s - loss: 0.5773 - accuracy: 0.6885 - val_loss: 0.5371 - val_accuracy: 0.7250\n",
            "Epoch 12/50\n",
            "100/100 - 17s - loss: 0.5757 - accuracy: 0.6915 - val_loss: 0.5507 - val_accuracy: 0.7010\n",
            "Epoch 13/50\n",
            "100/100 - 17s - loss: 0.5563 - accuracy: 0.7275 - val_loss: 0.5101 - val_accuracy: 0.7470\n",
            "Epoch 14/50\n",
            "100/100 - 16s - loss: 0.5611 - accuracy: 0.7170 - val_loss: 0.5350 - val_accuracy: 0.7350\n",
            "Epoch 15/50\n",
            "100/100 - 16s - loss: 0.5498 - accuracy: 0.7355 - val_loss: 0.6670 - val_accuracy: 0.6710\n",
            "Epoch 16/50\n",
            "100/100 - 18s - loss: 0.5540 - accuracy: 0.7135 - val_loss: 0.5431 - val_accuracy: 0.7270\n",
            "Epoch 17/50\n",
            "100/100 - 17s - loss: 0.5440 - accuracy: 0.7265 - val_loss: 0.5332 - val_accuracy: 0.7450\n",
            "Epoch 18/50\n",
            "100/100 - 16s - loss: 0.5414 - accuracy: 0.7340 - val_loss: 0.5103 - val_accuracy: 0.7620\n",
            "Epoch 19/50\n",
            "100/100 - 16s - loss: 0.5397 - accuracy: 0.7350 - val_loss: 0.5037 - val_accuracy: 0.7510\n",
            "Epoch 20/50\n",
            "100/100 - 17s - loss: 0.5360 - accuracy: 0.7230 - val_loss: 0.5067 - val_accuracy: 0.7470\n",
            "Epoch 21/50\n",
            "100/100 - 17s - loss: 0.5314 - accuracy: 0.7325 - val_loss: 0.5493 - val_accuracy: 0.7410\n",
            "Epoch 22/50\n",
            "100/100 - 16s - loss: 0.5265 - accuracy: 0.7390 - val_loss: 0.4782 - val_accuracy: 0.7770\n",
            "Epoch 23/50\n",
            "100/100 - 16s - loss: 0.5326 - accuracy: 0.7300 - val_loss: 0.5440 - val_accuracy: 0.7540\n",
            "Epoch 24/50\n",
            "100/100 - 17s - loss: 0.5312 - accuracy: 0.7435 - val_loss: 0.4958 - val_accuracy: 0.7610\n",
            "Epoch 25/50\n",
            "100/100 - 17s - loss: 0.5205 - accuracy: 0.7400 - val_loss: 0.7059 - val_accuracy: 0.7020\n",
            "Epoch 26/50\n",
            "100/100 - 18s - loss: 0.5059 - accuracy: 0.7535 - val_loss: 0.5091 - val_accuracy: 0.7680\n",
            "Epoch 27/50\n",
            "100/100 - 17s - loss: 0.5194 - accuracy: 0.7485 - val_loss: 0.5402 - val_accuracy: 0.7420\n",
            "Epoch 28/50\n",
            "100/100 - 16s - loss: 0.5020 - accuracy: 0.7515 - val_loss: 0.5323 - val_accuracy: 0.7550\n",
            "Epoch 29/50\n",
            "100/100 - 16s - loss: 0.4979 - accuracy: 0.7725 - val_loss: 0.6596 - val_accuracy: 0.7010\n",
            "Epoch 30/50\n",
            "100/100 - 17s - loss: 0.4992 - accuracy: 0.7595 - val_loss: 0.4952 - val_accuracy: 0.7580\n",
            "Epoch 31/50\n",
            "100/100 - 17s - loss: 0.5086 - accuracy: 0.7585 - val_loss: 0.5019 - val_accuracy: 0.7600\n",
            "Epoch 32/50\n",
            "100/100 - 16s - loss: 0.5036 - accuracy: 0.7700 - val_loss: 0.5061 - val_accuracy: 0.7540\n",
            "Epoch 33/50\n",
            "100/100 - 16s - loss: 0.4913 - accuracy: 0.7750 - val_loss: 0.4898 - val_accuracy: 0.7600\n",
            "Epoch 34/50\n",
            "100/100 - 17s - loss: 0.4953 - accuracy: 0.7620 - val_loss: 0.4636 - val_accuracy: 0.7780\n",
            "Epoch 35/50\n",
            "100/100 - 17s - loss: 0.5037 - accuracy: 0.7530 - val_loss: 0.4705 - val_accuracy: 0.7670\n",
            "Epoch 36/50\n",
            "100/100 - 16s - loss: 0.4827 - accuracy: 0.7775 - val_loss: 0.4917 - val_accuracy: 0.7690\n",
            "Epoch 37/50\n",
            "100/100 - 17s - loss: 0.4873 - accuracy: 0.7710 - val_loss: 0.5137 - val_accuracy: 0.7470\n",
            "Epoch 38/50\n",
            "100/100 - 17s - loss: 0.4883 - accuracy: 0.7665 - val_loss: 0.4717 - val_accuracy: 0.7750\n",
            "Epoch 39/50\n",
            "100/100 - 16s - loss: 0.4900 - accuracy: 0.7780 - val_loss: 0.4773 - val_accuracy: 0.7770\n",
            "Epoch 40/50\n",
            "100/100 - 16s - loss: 0.4893 - accuracy: 0.7660 - val_loss: 0.4788 - val_accuracy: 0.7830\n",
            "Epoch 41/50\n",
            "100/100 - 16s - loss: 0.4843 - accuracy: 0.7725 - val_loss: 0.4981 - val_accuracy: 0.7580\n",
            "Epoch 42/50\n",
            "100/100 - 18s - loss: 0.4733 - accuracy: 0.7765 - val_loss: 0.5036 - val_accuracy: 0.7660\n",
            "Epoch 43/50\n",
            "100/100 - 16s - loss: 0.4667 - accuracy: 0.7795 - val_loss: 0.5242 - val_accuracy: 0.7690\n",
            "Epoch 44/50\n",
            "100/100 - 16s - loss: 0.4972 - accuracy: 0.7680 - val_loss: 0.5053 - val_accuracy: 0.7680\n",
            "Epoch 45/50\n",
            "100/100 - 16s - loss: 0.4867 - accuracy: 0.7730 - val_loss: 0.4650 - val_accuracy: 0.7880\n",
            "Epoch 46/50\n",
            "100/100 - 17s - loss: 0.4614 - accuracy: 0.7800 - val_loss: 0.5567 - val_accuracy: 0.7290\n",
            "Epoch 47/50\n",
            "100/100 - 17s - loss: 0.4753 - accuracy: 0.7720 - val_loss: 1.2711 - val_accuracy: 0.6250\n",
            "Epoch 48/50\n",
            "100/100 - 17s - loss: 0.4737 - accuracy: 0.7775 - val_loss: 0.5257 - val_accuracy: 0.7650\n",
            "Epoch 49/50\n",
            "100/100 - 16s - loss: 0.4676 - accuracy: 0.7780 - val_loss: 0.4868 - val_accuracy: 0.7880\n",
            "Epoch 50/50\n",
            "100/100 - 16s - loss: 0.4768 - accuracy: 0.7840 - val_loss: 0.4736 - val_accuracy: 0.7840\n"
          ],
          "name": "stdout"
        }
      ]
    },
    {
      "cell_type": "code",
      "metadata": {
        "colab": {
          "base_uri": "https://localhost:8080/",
          "height": 563
        },
        "id": "fxJNkx_a9Fyz",
        "outputId": "c5116cc8-f322-48b8-aa2e-446fc8c4f15a"
      },
      "source": [
        "# Retrieve a list of list results on training and test data\n",
        "# sets for each training epoch\n",
        "acc      = history.history['accuracy']\n",
        "val_acc  = history.history['val_accuracy']\n",
        "loss     = history.history['loss']\n",
        "val_loss = history.history['val_loss']\n",
        "\n",
        "epochs   = range(len(acc)) # Get number of epochs\n",
        "\n",
        "# Plot training and validation accuracy per epoch\n",
        "plt.plot(epochs, acc)\n",
        "plt.plot(epochs, val_acc)\n",
        "plt.title('Training and validation accuracy')\n",
        "plt.figure()\n",
        "\n",
        "# Plot training and validation loss per epoch\n",
        "plt.plot  (epochs, loss)\n",
        "plt.plot  (epochs, val_loss)\n",
        "plt.title ('Training and validation loss')\n",
        "\n",
        "# blue - training, orange - validation"
      ],
      "execution_count": null,
      "outputs": [
        {
          "output_type": "execute_result",
          "data": {
            "text/plain": [
              "Text(0.5, 1.0, 'Training and validation loss')"
            ]
          },
          "metadata": {
            "tags": []
          },
          "execution_count": 11
        },
        {
          "output_type": "display_data",
          "data": {
            "image/png": "[encoded data removed]",
            "text/plain": [
              "<Figure size 432x288 with 1 Axes>"
            ]
          },
          "metadata": {
            "tags": [],
            "needs_background": "light"
          }
        },
        {
          "output_type": "display_data",
          "data": {
            "image/png": "[encoded data removed]",
            "text/plain": [
              "<Figure size 432x288 with 1 Axes>"
            ]
          },
          "metadata": {
            "tags": [],
            "needs_background": "light"
          }
        }
      ]
    },
    {
      "cell_type": "markdown",
      "metadata": {
        "id": "ynTM1x935xDr"
      },
      "source": [
        "## Horse vs Human - with augmentation"
      ]
    },
    {
      "cell_type": "code",
      "metadata": {
        "colab": {
          "base_uri": "https://localhost:8080/"
        },
        "id": "UYmtdHN_DxFR",
        "outputId": "c9a8a215-335f-425e-d1c7-f79301ea5f7f"
      },
      "source": [
        "!wget --no-check-certificate \\\n",
        "    https://storage.googleapis.com/laurencemoroney-blog.appspot.com/horse-or-human.zip \\\n",
        "    -O /content/horse-or-human.zip\n",
        "\n",
        "!wget --no-check-certificate \\\n",
        "    https://storage.googleapis.com/laurencemoroney-blog.appspot.com/validation-horse-or-human.zip \\\n",
        "    -O /content/validation-horse-or-human.zip"
      ],
      "execution_count": null,
      "outputs": [
        {
          "output_type": "stream",
          "text": [
            "--2021-08-01 18:55:09--  https://storage.googleapis.com/laurencemoroney-blog.appspot.com/horse-or-human.zip\n",
            "Resolving storage.googleapis.com (storage.googleapis.com)... 142.250.141.128, 142.251.2.128, 2607:f8b0:4023:c0d::80, ...\n",
            "Connecting to storage.googleapis.com (storage.googleapis.com)|142.250.141.128|:443... connected.\n",
            "HTTP request sent, awaiting response... 200 OK\n",
            "Length: 149574867 (143M) [application/zip]\n",
            "Saving to: ‘/content/horse-or-human.zip’\n",
            "\n",
            "/content/horse-or-h 100%[===================>] 142.65M   139MB/s    in 1.0s    \n",
            "\n",
            "2021-08-01 18:55:10 (139 MB/s) - ‘/content/horse-or-human.zip’ saved [149574867/149574867]\n",
            "\n",
            "--2021-08-01 18:55:11--  https://storage.googleapis.com/laurencemoroney-blog.appspot.com/validation-horse-or-human.zip\n",
            "Resolving storage.googleapis.com (storage.googleapis.com)... 142.250.141.128, 142.251.2.128, 2607:f8b0:4023:c0b::80, ...\n",
            "Connecting to storage.googleapis.com (storage.googleapis.com)|142.250.141.128|:443... connected.\n",
            "HTTP request sent, awaiting response... 200 OK\n",
            "Length: 11480187 (11M) [application/zip]\n",
            "Saving to: ‘/content/validation-horse-or-human.zip’\n",
            "\n",
            "/content/validation 100%[===================>]  10.95M  43.8MB/s    in 0.3s    \n",
            "\n",
            "2021-08-01 18:55:11 (43.8 MB/s) - ‘/content/validation-horse-or-human.zip’ saved [11480187/11480187]\n",
            "\n"
          ],
          "name": "stdout"
        }
      ]
    },
    {
      "cell_type": "code",
      "metadata": {
        "id": "xSEBX3vyDtUN"
      },
      "source": [
        "import os\n",
        "import zipfile\n",
        "\n",
        "local_zip = '/content/horse-or-human.zip'\n",
        "zip_ref = zipfile.ZipFile(local_zip, 'r')\n",
        "zip_ref.extractall('/content/horse-or-human')\n",
        "local_zip = '/content/validation-horse-or-human.zip'\n",
        "zip_ref = zipfile.ZipFile(local_zip, 'r')\n",
        "zip_ref.extractall('/content/validation-horse-or-human')\n",
        "zip_ref.close()\n",
        "# Directory with our training horse pictures\n",
        "train_horse_dir = os.path.join('/content/horse-or-human/horses')\n",
        "\n",
        "# Directory with our training human pictures\n",
        "train_human_dir = os.path.join('/content/horse-or-human/humans')\n",
        "\n",
        "# Directory with our training horse pictures\n",
        "validation_horse_dir = os.path.join('/content/validation-horse-or-human/horses')\n",
        "\n",
        "# Directory with our training human pictures\n",
        "validation_human_dir = os.path.join('/content/validation-horse-or-human/humans')"
      ],
      "execution_count": null,
      "outputs": []
    },
    {
      "cell_type": "code",
      "metadata": {
        "id": "57J2HpWuDtXx"
      },
      "source": [
        "model = tf.keras.models.Sequential([\n",
        "    tf.keras.layers.Conv2D(16, (3,3), activation='relu', input_shape=(300, 300, 3)),\n",
        "    tf.keras.layers.MaxPooling2D(2, 2),\n",
        "\n",
        "    # The second convolution\n",
        "    tf.keras.layers.Conv2D(32, (3,3), activation='relu'),\n",
        "    tf.keras.layers.MaxPooling2D(2,2),\n",
        "\n",
        "    # The third convolution\n",
        "    tf.keras.layers.Conv2D(64, (3,3), activation='relu'),\n",
        "    tf.keras.layers.MaxPooling2D(2,2),\n",
        "\n",
        "    # The fourth convolution\n",
        "    tf.keras.layers.Conv2D(64, (3,3), activation='relu'),\n",
        "    tf.keras.layers.MaxPooling2D(2,2),\n",
        "\n",
        "    # The fifth convolution\n",
        "    tf.keras.layers.Conv2D(64, (3,3), activation='relu'),\n",
        "    tf.keras.layers.MaxPooling2D(2,2),\n",
        "\n",
        "    # Flatten the results to feed into a DNN\n",
        "    tf.keras.layers.Flatten(),\n",
        "    # 512 neuron hidden layer\n",
        "    tf.keras.layers.Dense(512, activation='relu'),\n",
        "    tf.keras.layers.Dense(1, activation='sigmoid')\n",
        "])"
      ],
      "execution_count": null,
      "outputs": []
    },
    {
      "cell_type": "code",
      "metadata": {
        "id": "3pnnMSOqDtby"
      },
      "source": [
        "model.compile(loss='binary_crossentropy',\n",
        "              optimizer=RMSprop(learning_rate=1e-4),\n",
        "              metrics=['accuracy'])"
      ],
      "execution_count": null,
      "outputs": []
    },
    {
      "cell_type": "code",
      "metadata": {
        "colab": {
          "base_uri": "https://localhost:8080/"
        },
        "id": "5nQrRvMdDtf-",
        "outputId": "c4df8d20-f6e7-4042-b41f-79ceb0901711"
      },
      "source": [
        "train_datagen = ImageDataGenerator(\n",
        "      rescale=1./255,\n",
        "      rotation_range=40,\n",
        "      width_shift_range=0.2,\n",
        "      height_shift_range=0.2,\n",
        "      shear_range=0.2,\n",
        "      zoom_range=0.2,\n",
        "      horizontal_flip=True,\n",
        "      fill_mode='nearest')\n",
        "\n",
        "validation_datagen = ImageDataGenerator(rescale=1/255)\n",
        "\n",
        "# Flow training images in batches of 128 using train_datagen generator\n",
        "train_generator = train_datagen.flow_from_directory(\n",
        "        '/content/horse-or-human/',  # This is the source directory for training images\n",
        "        target_size=(300, 300),  # All images will be resized to 150x150\n",
        "        batch_size=128,\n",
        "        # Since we use binary_crossentropy loss, we need binary labels\n",
        "        class_mode='binary')\n",
        "\n",
        "# Flow training images in batches of 128 using train_datagen generator\n",
        "validation_generator = validation_datagen.flow_from_directory(\n",
        "        '/content/validation-horse-or-human/',  # This is the source directory for training images\n",
        "        target_size=(300, 300),  # All images will be resized to 150x150\n",
        "        batch_size=32,\n",
        "        # Since we use binary_crossentropy loss, we need binary labels\n",
        "        class_mode='binary')"
      ],
      "execution_count": null,
      "outputs": [
        {
          "output_type": "stream",
          "text": [
            "Found 1027 images belonging to 2 classes.\n",
            "Found 256 images belonging to 2 classes.\n"
          ],
          "name": "stdout"
        }
      ]
    },
    {
      "cell_type": "code",
      "metadata": {
        "colab": {
          "base_uri": "https://localhost:8080/"
        },
        "id": "bJkXyMEQDtjL",
        "outputId": "5df227d2-88f8-48e5-c6cb-fd3e60f88c98"
      },
      "source": [
        "history = model.fit(\n",
        "      train_generator,\n",
        "      steps_per_epoch=8,  \n",
        "      epochs=40,\n",
        "      verbose=1,\n",
        "      validation_data = validation_generator,\n",
        "      validation_steps=8)"
      ],
      "execution_count": null,
      "outputs": [
        {
          "output_type": "stream",
          "text": [
            "Epoch 1/40\n",
            "8/8 [==============================] - 25s 3s/step - loss: 0.6936 - accuracy: 0.5039 - val_loss: 0.6396 - val_accuracy: 0.8789\n",
            "Epoch 2/40\n",
            "8/8 [==============================] - 22s 3s/step - loss: 0.6767 - accuracy: 0.6507 - val_loss: 0.6108 - val_accuracy: 0.7734\n",
            "Epoch 3/40\n",
            "8/8 [==============================] - 25s 3s/step - loss: 0.6354 - accuracy: 0.7061 - val_loss: 0.6389 - val_accuracy: 0.5703\n",
            "Epoch 4/40\n",
            "8/8 [==============================] - 22s 3s/step - loss: 0.5905 - accuracy: 0.6741 - val_loss: 0.7079 - val_accuracy: 0.5508\n",
            "Epoch 5/40\n",
            "8/8 [==============================] - 21s 3s/step - loss: 0.5471 - accuracy: 0.7330 - val_loss: 1.6582 - val_accuracy: 0.5000\n",
            "Epoch 6/40\n",
            "8/8 [==============================] - 23s 3s/step - loss: 0.6049 - accuracy: 0.6852 - val_loss: 0.7132 - val_accuracy: 0.6250\n",
            "Epoch 7/40\n",
            "8/8 [==============================] - 22s 3s/step - loss: 0.5290 - accuracy: 0.7297 - val_loss: 0.6550 - val_accuracy: 0.6992\n",
            "Epoch 8/40\n",
            "8/8 [==============================] - 23s 3s/step - loss: 0.5029 - accuracy: 0.7486 - val_loss: 0.9295 - val_accuracy: 0.6094\n",
            "Epoch 9/40\n",
            "8/8 [==============================] - 21s 3s/step - loss: 0.4816 - accuracy: 0.7853 - val_loss: 1.9237 - val_accuracy: 0.5039\n",
            "Epoch 10/40\n",
            "8/8 [==============================] - 22s 3s/step - loss: 0.5307 - accuracy: 0.7519 - val_loss: 0.8186 - val_accuracy: 0.7031\n",
            "Epoch 11/40\n",
            "8/8 [==============================] - 22s 3s/step - loss: 0.4931 - accuracy: 0.7519 - val_loss: 1.2542 - val_accuracy: 0.5781\n",
            "Epoch 12/40\n",
            "8/8 [==============================] - 22s 3s/step - loss: 0.4674 - accuracy: 0.7842 - val_loss: 0.7992 - val_accuracy: 0.6992\n",
            "Epoch 13/40\n",
            "8/8 [==============================] - 22s 3s/step - loss: 0.4846 - accuracy: 0.7786 - val_loss: 1.0201 - val_accuracy: 0.6328\n",
            "Epoch 14/40\n",
            "8/8 [==============================] - 21s 3s/step - loss: 0.4673 - accuracy: 0.7875 - val_loss: 0.8048 - val_accuracy: 0.7188\n",
            "Epoch 15/40\n",
            "8/8 [==============================] - 22s 3s/step - loss: 0.4482 - accuracy: 0.7831 - val_loss: 0.3727 - val_accuracy: 0.8711\n",
            "Epoch 16/40\n",
            "8/8 [==============================] - 22s 3s/step - loss: 0.5175 - accuracy: 0.7542 - val_loss: 1.0316 - val_accuracy: 0.6562\n",
            "Epoch 17/40\n",
            "8/8 [==============================] - 21s 3s/step - loss: 0.3938 - accuracy: 0.8409 - val_loss: 1.2009 - val_accuracy: 0.6641\n",
            "Epoch 18/40\n",
            "8/8 [==============================] - 22s 3s/step - loss: 0.3955 - accuracy: 0.8265 - val_loss: 1.2189 - val_accuracy: 0.6797\n",
            "Epoch 19/40\n",
            "8/8 [==============================] - 21s 3s/step - loss: 0.3966 - accuracy: 0.8187 - val_loss: 1.1804 - val_accuracy: 0.7031\n",
            "Epoch 20/40\n",
            "8/8 [==============================] - 21s 3s/step - loss: 0.3713 - accuracy: 0.8231 - val_loss: 1.5526 - val_accuracy: 0.6328\n",
            "Epoch 21/40\n",
            "8/8 [==============================] - 23s 3s/step - loss: 0.3991 - accuracy: 0.8142 - val_loss: 0.9796 - val_accuracy: 0.7031\n",
            "Epoch 22/40\n",
            "8/8 [==============================] - 22s 3s/step - loss: 0.3525 - accuracy: 0.8643 - val_loss: 1.4070 - val_accuracy: 0.6641\n",
            "Epoch 23/40\n",
            "8/8 [==============================] - 22s 3s/step - loss: 0.3442 - accuracy: 0.8610 - val_loss: 1.5140 - val_accuracy: 0.6523\n",
            "Epoch 24/40\n",
            "8/8 [==============================] - 21s 3s/step - loss: 0.3342 - accuracy: 0.8643 - val_loss: 1.4803 - val_accuracy: 0.6797\n",
            "Epoch 25/40\n",
            "8/8 [==============================] - 22s 3s/step - loss: 0.3678 - accuracy: 0.8521 - val_loss: 1.3426 - val_accuracy: 0.6992\n",
            "Epoch 26/40\n",
            "8/8 [==============================] - 21s 3s/step - loss: 0.3260 - accuracy: 0.8521 - val_loss: 1.3275 - val_accuracy: 0.7031\n",
            "Epoch 27/40\n",
            "8/8 [==============================] - 22s 3s/step - loss: 0.3635 - accuracy: 0.8476 - val_loss: 1.4186 - val_accuracy: 0.6953\n",
            "Epoch 28/40\n",
            "8/8 [==============================] - 24s 3s/step - loss: 0.3066 - accuracy: 0.8682 - val_loss: 1.4848 - val_accuracy: 0.6953\n",
            "Epoch 29/40\n",
            "8/8 [==============================] - 21s 3s/step - loss: 0.3662 - accuracy: 0.8287 - val_loss: 2.2229 - val_accuracy: 0.5859\n",
            "Epoch 30/40\n",
            "8/8 [==============================] - 22s 3s/step - loss: 0.3189 - accuracy: 0.8788 - val_loss: 1.6016 - val_accuracy: 0.6719\n",
            "Epoch 31/40\n",
            "8/8 [==============================] - 22s 3s/step - loss: 0.3125 - accuracy: 0.8799 - val_loss: 1.8708 - val_accuracy: 0.6484\n",
            "Epoch 32/40\n",
            "8/8 [==============================] - 21s 3s/step - loss: 0.2787 - accuracy: 0.8832 - val_loss: 1.8846 - val_accuracy: 0.6719\n",
            "Epoch 33/40\n",
            "8/8 [==============================] - 23s 3s/step - loss: 0.3216 - accuracy: 0.8643 - val_loss: 2.4164 - val_accuracy: 0.6016\n",
            "Epoch 34/40\n",
            "8/8 [==============================] - 22s 3s/step - loss: 0.3126 - accuracy: 0.8521 - val_loss: 1.9002 - val_accuracy: 0.6562\n",
            "Epoch 35/40\n",
            "8/8 [==============================] - 21s 3s/step - loss: 0.3059 - accuracy: 0.8654 - val_loss: 1.8939 - val_accuracy: 0.6680\n",
            "Epoch 36/40\n",
            "8/8 [==============================] - 25s 3s/step - loss: 0.2460 - accuracy: 0.8975 - val_loss: 2.8188 - val_accuracy: 0.5820\n",
            "Epoch 37/40\n",
            "8/8 [==============================] - 21s 3s/step - loss: 0.3078 - accuracy: 0.8710 - val_loss: 1.2048 - val_accuracy: 0.7305\n",
            "Epoch 38/40\n",
            "8/8 [==============================] - 22s 3s/step - loss: 0.2819 - accuracy: 0.8788 - val_loss: 2.1212 - val_accuracy: 0.6523\n",
            "Epoch 39/40\n",
            "8/8 [==============================] - 21s 3s/step - loss: 0.2236 - accuracy: 0.9099 - val_loss: 2.2292 - val_accuracy: 0.6523\n",
            "Epoch 40/40\n",
            "8/8 [==============================] - 22s 3s/step - loss: 0.2323 - accuracy: 0.9032 - val_loss: 3.0142 - val_accuracy: 0.5938\n"
          ],
          "name": "stdout"
        }
      ]
    },
    {
      "cell_type": "code",
      "metadata": {
        "colab": {
          "base_uri": "https://localhost:8080/",
          "height": 545
        },
        "id": "4Sv5ojkoDtmm",
        "outputId": "30c88d94-9976-4cb7-bff8-bd7f3d91df44"
      },
      "source": [
        "import matplotlib.pyplot as plt\n",
        "acc = history.history['accuracy']\n",
        "val_acc = history.history['val_accuracy']\n",
        "loss = history.history['loss']\n",
        "val_loss = history.history['val_loss']\n",
        "\n",
        "epochs = range(len(acc))\n",
        "\n",
        "plt.plot(epochs, acc, 'r', label='Training accuracy')\n",
        "plt.plot(epochs, val_acc, 'b', label='Validation accuracy')\n",
        "plt.title('Training and validation accuracy')\n",
        "\n",
        "plt.figure()\n",
        "\n",
        "plt.plot(epochs, loss, 'r', label='Training Loss')\n",
        "plt.plot(epochs, val_loss, 'b', label='Validation Loss')\n",
        "plt.title('Training and validation loss')\n",
        "plt.legend()\n",
        "\n",
        "plt.show()"
      ],
      "execution_count": null,
      "outputs": [
        {
          "output_type": "display_data",
          "data": {
            "image/png": "[encoded data removed]",
            "text/plain": [
              "<Figure size 432x288 with 1 Axes>"
            ]
          },
          "metadata": {
            "tags": [],
            "needs_background": "light"
          }
        },
        {
          "output_type": "display_data",
          "data": {
            "image/png": "[encoded data removed]",
            "text/plain": [
              "<Figure size 432x288 with 1 Axes>"
            ]
          },
          "metadata": {
            "tags": [],
            "needs_background": "light"
          }
        }
      ]
    },
    {
      "cell_type": "markdown",
      "metadata": {
        "id": "kAJPsVOMLwXM"
      },
      "source": [
        "## Dogs vs Cats Full Dataset - with augmentation"
      ]
    },
    {
      "cell_type": "markdown",
      "metadata": {
        "id": "aUCIGaYN522o"
      },
      "source": [
        "**Exercise 6**\n",
        "\n",
        "In this exercise you will train a CNN on the FULL Cats-v-dogs dataset. This will require you doing a lot of data preprocessing because the dataset isn't split into training and validation for you."
      ]
    },
    {
      "cell_type": "code",
      "metadata": {
        "colab": {
          "base_uri": "https://localhost:8080/"
        },
        "id": "zwFpoXbI5zh4",
        "outputId": "8d834dd9-6c83-480e-8ff7-121c1d116f12"
      },
      "source": [
        "!wget --no-check-certificate \\\n",
        "    \"https://download.microsoft.com/download/3/E/1/3E1C3F21-ECDB-4869-8368-6DEBA77B919F/kagglecatsanddogs_3367a.zip\" \\\n",
        "    -O \"/content/cats-and-dogs.zip\""
      ],
      "execution_count": 1,
      "outputs": [
        {
          "output_type": "stream",
          "text": [
            "--2021-08-02 06:13:28--  https://download.microsoft.com/download/3/E/1/3E1C3F21-ECDB-4869-8368-6DEBA77B919F/kagglecatsanddogs_3367a.zip\n",
            "Resolving download.microsoft.com (download.microsoft.com)... 104.73.0.105, 2600:1409:3800:18d::e59, 2600:1409:3800:1ab::e59\n",
            "Connecting to download.microsoft.com (download.microsoft.com)|104.73.0.105|:443... connected.\n",
            "HTTP request sent, awaiting response... 200 OK\n",
            "Length: 824894548 (787M) [application/octet-stream]\n",
            "Saving to: ‘/content/cats-and-dogs.zip’\n",
            "\n",
            "/content/cats-and-d 100%[===================>] 786.68M   211MB/s    in 3.8s    \n",
            "\n",
            "2021-08-02 06:13:32 (206 MB/s) - ‘/content/cats-and-dogs.zip’ saved [824894548/824894548]\n",
            "\n"
          ],
          "name": "stdout"
        }
      ]
    },
    {
      "cell_type": "code",
      "metadata": {
        "id": "XxRtBYCt6XAh"
      },
      "source": [
        "import os\n",
        "import zipfile\n",
        "\n",
        "local_zip = '/content/cats-and-dogs.zip'\n",
        "zip_ref   = zipfile.ZipFile(local_zip, 'r')\n",
        "zip_ref.extractall('/content')\n",
        "zip_ref.close()"
      ],
      "execution_count": 3,
      "outputs": []
    },
    {
      "cell_type": "code",
      "metadata": {
        "colab": {
          "base_uri": "https://localhost:8080/"
        },
        "id": "gK5SL3X0DDpr",
        "outputId": "e82967fa-fa36-41c9-f3f7-f47061cec6f8"
      },
      "source": [
        "# content -> PetImages -> cats, dogs\n",
        "# training and validation directory not given separately\n",
        "\n",
        "print(len(os.listdir('/content/PetImages/Cat/')))\n",
        "print(len(os.listdir('/content/PetImages/Dog/')))"
      ],
      "execution_count": 4,
      "outputs": [
        {
          "output_type": "stream",
          "text": [
            "12501\n",
            "12501\n"
          ],
          "name": "stdout"
        }
      ]
    },
    {
      "cell_type": "code",
      "metadata": {
        "id": "VX-sP2ryDIEy"
      },
      "source": [
        "try:\n",
        "    os.mkdir('/content/cats-v-dogs')\n",
        "    os.mkdir('/content/cats-v-dogs/training')\n",
        "    os.mkdir('/content/cats-v-dogs/testing')\n",
        "    os.mkdir('/content/cats-v-dogs/training/cats')\n",
        "    os.mkdir('/content/cats-v-dogs/training/dogs')\n",
        "    os.mkdir('/content/cats-v-dogs/testing/cats')\n",
        "    os.mkdir('/content/cats-v-dogs/testing/dogs')\n",
        "except OSError:\n",
        "    pass"
      ],
      "execution_count": 5,
      "outputs": []
    },
    {
      "cell_type": "code",
      "metadata": {
        "id": "nb1lW8UzEcDj"
      },
      "source": [
        "# it will split the directory and separate train and validation images\n",
        "# 90% images will be copied to training folder\n",
        "# 10% to validation\n",
        "\n",
        "def split_data(SOURCE, TRAINING, TESTING, SPLIT_SIZE):\n",
        "    files = []\n",
        "    for filename in os.listdir(SOURCE):\n",
        "        file = SOURCE + filename\n",
        "        if os.path.getsize(file) > 0:\n",
        "            files.append(filename)\n",
        "        else:\n",
        "            print(filename + \" is zero length, so ignoring.\")\n",
        "\n",
        "    training_length = int(len(files) * SPLIT_SIZE)\n",
        "    testing_length = int(len(files) - training_length)\n",
        "    shuffled_set = random.sample(files, len(files))\n",
        "    training_set = shuffled_set[0:training_length]\n",
        "    testing_set = shuffled_set[-testing_length:]\n",
        "\n",
        "    for filename in training_set:\n",
        "        this_file = SOURCE + filename\n",
        "        destination = TRAINING + filename\n",
        "        copyfile(this_file, destination)\n",
        "\n",
        "    for filename in testing_set:\n",
        "        this_file = SOURCE + filename\n",
        "        destination = TESTING + filename\n",
        "        copyfile(this_file, destination)"
      ],
      "execution_count": 6,
      "outputs": []
    },
    {
      "cell_type": "code",
      "metadata": {
        "colab": {
          "base_uri": "https://localhost:8080/"
        },
        "id": "pGiH-dvKEcGF",
        "outputId": "25dcbb75-b868-4a54-d255-8b96aecb0995"
      },
      "source": [
        "CAT_SOURCE_DIR = \"/content/PetImages/Cat/\"\n",
        "TRAINING_CATS_DIR = \"/content/cats-v-dogs/training/cats/\"\n",
        "TESTING_CATS_DIR = \"/content/cats-v-dogs/testing/cats/\"\n",
        "DOG_SOURCE_DIR = \"/content/PetImages/Dog/\"\n",
        "TRAINING_DOGS_DIR = \"/content/cats-v-dogs/training/dogs/\"\n",
        "TESTING_DOGS_DIR = \"/content/cats-v-dogs/testing/dogs/\"\n",
        "\n",
        "split_size = .9\n",
        "split_data(CAT_SOURCE_DIR, TRAINING_CATS_DIR, TESTING_CATS_DIR, split_size)\n",
        "split_data(DOG_SOURCE_DIR, TRAINING_DOGS_DIR, TESTING_DOGS_DIR, split_size)"
      ],
      "execution_count": 7,
      "outputs": [
        {
          "output_type": "stream",
          "text": [
            "666.jpg is zero length, so ignoring.\n",
            "11702.jpg is zero length, so ignoring.\n"
          ],
          "name": "stdout"
        }
      ]
    },
    {
      "cell_type": "code",
      "metadata": {
        "colab": {
          "base_uri": "https://localhost:8080/"
        },
        "id": "rHhR0ZZ5EcJl",
        "outputId": "5ab1fbdf-8cde-416c-89d6-29762d2435b8"
      },
      "source": [
        "print(len(os.listdir('/content/cats-v-dogs/training/cats/')))\n",
        "print(len(os.listdir('/content/cats-v-dogs/training/dogs/')))\n",
        "print(len(os.listdir('/content/cats-v-dogs/testing/cats/')))\n",
        "print(len(os.listdir('/content/cats-v-dogs/testing/dogs/')))"
      ],
      "execution_count": 8,
      "outputs": [
        {
          "output_type": "stream",
          "text": [
            "11250\n",
            "11250\n",
            "1250\n",
            "1250\n"
          ],
          "name": "stdout"
        }
      ]
    },
    {
      "cell_type": "code",
      "metadata": {
        "id": "WTIClN00DIEy"
      },
      "source": [
        "model = tf.keras.models.Sequential([\n",
        "    tf.keras.layers.Conv2D(16, (3, 3), activation='relu', input_shape=(150, 150, 3)),\n",
        "    tf.keras.layers.MaxPooling2D(2, 2),\n",
        "\n",
        "    tf.keras.layers.Conv2D(32, (3, 3), activation='relu'),\n",
        "    tf.keras.layers.MaxPooling2D(2, 2),\n",
        "\n",
        "    tf.keras.layers.Conv2D(64, (3, 3), activation='relu'),\n",
        "    tf.keras.layers.MaxPooling2D(2, 2),\n",
        "    \n",
        "    tf.keras.layers.Flatten(),\n",
        "    tf.keras.layers.Dense(512, activation='relu'),\n",
        "    tf.keras.layers.Dense(1, activation='sigmoid')\n",
        "])"
      ],
      "execution_count": 9,
      "outputs": []
    },
    {
      "cell_type": "code",
      "metadata": {
        "colab": {
          "base_uri": "https://localhost:8080/"
        },
        "id": "k6Gq-X5hYdID",
        "outputId": "7ebdf972-5244-4cbd-adb5-129a3b92bd34"
      },
      "source": [
        "model.summary()"
      ],
      "execution_count": null,
      "outputs": [
        {
          "output_type": "stream",
          "text": [
            "Model: \"sequential\"\n",
            "_________________________________________________________________\n",
            "Layer (type)                 Output Shape              Param #   \n",
            "=================================================================\n",
            "conv2d (Conv2D)              (None, 148, 148, 16)      448       \n",
            "_________________________________________________________________\n",
            "max_pooling2d (MaxPooling2D) (None, 74, 74, 16)        0         \n",
            "_________________________________________________________________\n",
            "conv2d_1 (Conv2D)            (None, 72, 72, 32)        4640      \n",
            "_________________________________________________________________\n",
            "max_pooling2d_1 (MaxPooling2 (None, 36, 36, 32)        0         \n",
            "_________________________________________________________________\n",
            "conv2d_2 (Conv2D)            (None, 34, 34, 64)        18496     \n",
            "_________________________________________________________________\n",
            "max_pooling2d_2 (MaxPooling2 (None, 17, 17, 64)        0         \n",
            "_________________________________________________________________\n",
            "flatten (Flatten)            (None, 18496)             0         \n",
            "_________________________________________________________________\n",
            "dense (Dense)                (None, 512)               9470464   \n",
            "_________________________________________________________________\n",
            "dense_1 (Dense)              (None, 1)                 513       \n",
            "=================================================================\n",
            "Total params: 9,494,561\n",
            "Trainable params: 9,494,561\n",
            "Non-trainable params: 0\n",
            "_________________________________________________________________\n"
          ],
          "name": "stdout"
        }
      ]
    },
    {
      "cell_type": "code",
      "metadata": {
        "id": "AOd7kLSGYmsH"
      },
      "source": [
        "from tensorflow.keras.optimizers import RMSprop\n",
        "\n",
        "model.compile(loss='binary_crossentropy',\n",
        "              optimizer=RMSprop(learning_rate=0.001),\n",
        "              metrics=['accuracy'])"
      ],
      "execution_count": 10,
      "outputs": []
    },
    {
      "cell_type": "code",
      "metadata": {
        "colab": {
          "base_uri": "https://localhost:8080/"
        },
        "id": "gvJKYqPcYfbd",
        "outputId": "cef023c5-b4f1-4d30-fbb8-0eb61d401e8a"
      },
      "source": [
        "from tensorflow.keras.preprocessing.image import ImageDataGenerator\n",
        "\n",
        "TRAINING_DIR = \"/content/cats-v-dogs/training/\"\n",
        "train_datagen = ImageDataGenerator(rescale=1./255,\n",
        "      rotation_range=40,\n",
        "      width_shift_range=0.2,\n",
        "      height_shift_range=0.2,\n",
        "      shear_range=0.2,\n",
        "      zoom_range=0.2,\n",
        "      horizontal_flip=True,\n",
        "      fill_mode='nearest')\n",
        "train_generator = train_datagen.flow_from_directory(TRAINING_DIR,\n",
        "                                                    batch_size=100,\n",
        "                                                    class_mode='binary',\n",
        "                                                    target_size=(150, 150))\n",
        "\n",
        "VALIDATION_DIR = \"/content/cats-v-dogs/testing/\"\n",
        "validation_datagen = ImageDataGenerator(rescale=1./255,\n",
        "      rotation_range=40,\n",
        "      width_shift_range=0.2,\n",
        "      height_shift_range=0.2,\n",
        "      shear_range=0.2,\n",
        "      zoom_range=0.2,\n",
        "      horizontal_flip=True,\n",
        "      fill_mode='nearest')\n",
        "validation_generator = validation_datagen.flow_from_directory(VALIDATION_DIR,\n",
        "                                                              batch_size=100,\n",
        "                                                              class_mode='binary',\n",
        "                                                              target_size=(150, 150))"
      ],
      "execution_count": 11,
      "outputs": [
        {
          "output_type": "stream",
          "text": [
            "Found 22499 images belonging to 2 classes.\n",
            "Found 2499 images belonging to 2 classes.\n"
          ],
          "name": "stdout"
        }
      ]
    },
    {
      "cell_type": "code",
      "metadata": {
        "colab": {
          "base_uri": "https://localhost:8080/"
        },
        "id": "5eYswTGAZK9X",
        "outputId": "2d2a9a3c-431a-45ac-90c5-854eb5341446"
      },
      "source": [
        "history = model.fit(train_generator,\n",
        "                    epochs=5,\n",
        "                    verbose=1,\n",
        "                    validation_data=validation_generator)"
      ],
      "execution_count": 12,
      "outputs": [
        {
          "output_type": "stream",
          "text": [
            "Epoch 1/5\n",
            "174/225 [======================>.......] - ETA: 36s - loss: 0.7060 - accuracy: 0.5735"
          ],
          "name": "stdout"
        },
        {
          "output_type": "stream",
          "text": [
            "/usr/local/lib/python3.7/dist-packages/PIL/TiffImagePlugin.py:770: UserWarning: Possibly corrupt EXIF data.  Expecting to read 32 bytes but only got 0. Skipping tag 270\n",
            "  \" Skipping tag %s\" % (size, len(data), tag)\n",
            "/usr/local/lib/python3.7/dist-packages/PIL/TiffImagePlugin.py:770: UserWarning: Possibly corrupt EXIF data.  Expecting to read 5 bytes but only got 0. Skipping tag 271\n",
            "  \" Skipping tag %s\" % (size, len(data), tag)\n",
            "/usr/local/lib/python3.7/dist-packages/PIL/TiffImagePlugin.py:770: UserWarning: Possibly corrupt EXIF data.  Expecting to read 8 bytes but only got 0. Skipping tag 272\n",
            "  \" Skipping tag %s\" % (size, len(data), tag)\n",
            "/usr/local/lib/python3.7/dist-packages/PIL/TiffImagePlugin.py:770: UserWarning: Possibly corrupt EXIF data.  Expecting to read 8 bytes but only got 0. Skipping tag 282\n",
            "  \" Skipping tag %s\" % (size, len(data), tag)\n",
            "/usr/local/lib/python3.7/dist-packages/PIL/TiffImagePlugin.py:770: UserWarning: Possibly corrupt EXIF data.  Expecting to read 8 bytes but only got 0. Skipping tag 283\n",
            "  \" Skipping tag %s\" % (size, len(data), tag)\n",
            "/usr/local/lib/python3.7/dist-packages/PIL/TiffImagePlugin.py:770: UserWarning: Possibly corrupt EXIF data.  Expecting to read 20 bytes but only got 0. Skipping tag 306\n",
            "  \" Skipping tag %s\" % (size, len(data), tag)\n",
            "/usr/local/lib/python3.7/dist-packages/PIL/TiffImagePlugin.py:770: UserWarning: Possibly corrupt EXIF data.  Expecting to read 48 bytes but only got 0. Skipping tag 532\n",
            "  \" Skipping tag %s\" % (size, len(data), tag)\n",
            "/usr/local/lib/python3.7/dist-packages/PIL/TiffImagePlugin.py:788: UserWarning: Corrupt EXIF data.  Expecting to read 2 bytes but only got 0. \n",
            "  warnings.warn(str(msg))\n"
          ],
          "name": "stderr"
        },
        {
          "output_type": "stream",
          "text": [
            "225/225 [==============================] - 214s 808ms/step - loss: 0.6922 - accuracy: 0.5874 - val_loss: 0.6416 - val_accuracy: 0.6383\n",
            "Epoch 2/5\n",
            "225/225 [==============================] - 179s 797ms/step - loss: 0.6078 - accuracy: 0.6716 - val_loss: 0.5801 - val_accuracy: 0.6987\n",
            "Epoch 3/5\n",
            "225/225 [==============================] - 179s 796ms/step - loss: 0.5713 - accuracy: 0.6980 - val_loss: 0.5731 - val_accuracy: 0.7019\n",
            "Epoch 4/5\n",
            "225/225 [==============================] - 180s 800ms/step - loss: 0.5516 - accuracy: 0.7173 - val_loss: 0.5561 - val_accuracy: 0.7071\n",
            "Epoch 5/5\n",
            "225/225 [==============================] - 180s 799ms/step - loss: 0.5282 - accuracy: 0.7346 - val_loss: 0.5299 - val_accuracy: 0.7319\n"
          ],
          "name": "stdout"
        }
      ]
    },
    {
      "cell_type": "code",
      "metadata": {
        "colab": {
          "base_uri": "https://localhost:8080/",
          "height": 569
        },
        "id": "bJyMNY4JDIE0",
        "outputId": "4c7bc89a-9b6d-4f7d-b079-5205f73bb651"
      },
      "source": [
        "acc=history.history['accuracy']\n",
        "val_acc=history.history['val_accuracy']\n",
        "loss=history.history['loss']\n",
        "val_loss=history.history['val_loss']\n",
        "\n",
        "epochs=range(len(acc)) # Get number of epochs\n",
        "\n",
        "#------------------------------------------------\n",
        "# Plot training and validation accuracy per epoch\n",
        "#------------------------------------------------\n",
        "plt.plot(epochs, acc, 'r')\n",
        "plt.plot(epochs, val_acc, 'b')\n",
        "plt.title('Training and validation accuracy')\n",
        "plt.figure()\n",
        "\n",
        "#------------------------------------------------\n",
        "# Plot training and validation loss per epoch\n",
        "#------------------------------------------------\n",
        "plt.plot(epochs, loss, 'r')\n",
        "plt.plot(epochs, val_loss, 'b')\n",
        "plt.figure()"
      ],
      "execution_count": 13,
      "outputs": [
        {
          "output_type": "execute_result",
          "data": {
            "text/plain": [
              "<Figure size 432x288 with 0 Axes>"
            ]
          },
          "metadata": {
            "tags": []
          },
          "execution_count": 13
        },
        {
          "output_type": "display_data",
          "data": {
            "image/png": "[encoded data removed]",
            "text/plain": [
              "<Figure size 432x288 with 1 Axes>"
            ]
          },
          "metadata": {
            "tags": [],
            "needs_background": "light"
          }
        },
        {
          "output_type": "display_data",
          "data": {
            "image/png": "[encoded data removed]",
            "text/plain": [
              "<Figure size 432x288 with 1 Axes>"
            ]
          },
          "metadata": {
            "tags": [],
            "needs_background": "light"
          }
        },
        {
          "output_type": "display_data",
          "data": {
            "text/plain": [
              "<Figure size 432x288 with 0 Axes>"
            ]
          },
          "metadata": {
            "tags": []
          }
        }
      ]
    },
    {
      "cell_type": "code",
      "metadata": {
        "colab": {
          "resources": {
            "http://localhost:8080/nbextensions/google.colab/files.js": {
              "data": "Ly8gQ29weXJpZ2h0IDIwMTcgR29vZ2xlIExMQwovLwovLyBMaWNlbnNlZCB1bmRlciB0aGUgQXBhY2hlIExpY2Vuc2UsIFZlcnNpb24gMi4wICh0aGUgIkxpY2Vuc2UiKTsKLy8geW91IG1heSBub3QgdXNlIHRoaXMgZmlsZSBleGNlcHQgaW4gY29tcGxpYW5jZSB3aXRoIHRoZSBMaWNlbnNlLgovLyBZb3UgbWF5IG9idGFpbiBhIGNvcHkgb2YgdGhlIExpY2Vuc2UgYXQKLy8KLy8gICAgICBodHRwOi8vd3d3LmFwYWNoZS5vcmcvbGljZW5zZXMvTElDRU5TRS0yLjAKLy8KLy8gVW5sZXNzIHJlcXVpcmVkIGJ5IGFwcGxpY2FibGUgbGF3IG9yIGFncmVlZCB0byBpbiB3cml0aW5nLCBzb2Z0d2FyZQovLyBkaXN0cmlidXRlZCB1bmRlciB0aGUgTGljZW5zZSBpcyBkaXN0cmlidXRlZCBvbiBhbiAiQVMgSVMiIEJBU0lTLAovLyBXSVRIT1VUIFdBUlJBTlRJRVMgT1IgQ09ORElUSU9OUyBPRiBBTlkgS0lORCwgZWl0aGVyIGV4cHJlc3Mgb3IgaW1wbGllZC4KLy8gU2VlIHRoZSBMaWNlbnNlIGZvciB0aGUgc3BlY2lmaWMgbGFuZ3VhZ2UgZ292ZXJuaW5nIHBlcm1pc3Npb25zIGFuZAovLyBsaW1pdGF0aW9ucyB1bmRlciB0aGUgTGljZW5zZS4KCi8qKgogKiBAZmlsZW92ZXJ2aWV3IEhlbHBlcnMgZm9yIGdvb2dsZS5jb2xhYiBQeXRob24gbW9kdWxlLgogKi8KKGZ1bmN0aW9uKHNjb3BlKSB7CmZ1bmN0aW9uIHNwYW4odGV4dCwgc3R5bGVBdHRyaWJ1dGVzID0ge30pIHsKICBjb25zdCBlbGVtZW50ID0gZG9jdW1lbnQuY3JlYXRlRWxlbWVudCgnc3BhbicpOwogIGVsZW1lbnQudGV4dENvbnRlbnQgPSB0ZXh0OwogIGZvciAoY29uc3Qga2V5IG9mIE9iamVjdC5rZXlzKHN0eWxlQXR0cmlidXRlcykpIHsKICAgIGVsZW1lbnQuc3R5bGVba2V5XSA9IHN0eWxlQXR0cmlidXRlc1trZXldOwogIH0KICByZXR1cm4gZWxlbWVudDsKfQoKLy8gTWF4IG51bWJlciBvZiBieXRlcyB3aGljaCB3aWxsIGJlIHVwbG9hZGVkIGF0IGEgdGltZS4KY29uc3QgTUFYX1BBWUxPQURfU0laRSA9IDEwMCAqIDEwMjQ7CgpmdW5jdGlvbiBfdXBsb2FkRmlsZXMoaW5wdXRJZCwgb3V0cHV0SWQpIHsKICBjb25zdCBzdGVwcyA9IHVwbG9hZEZpbGVzU3RlcChpbnB1dElkLCBvdXRwdXRJZCk7CiAgY29uc3Qgb3V0cHV0RWxlbWVudCA9IGRvY3VtZW50LmdldEVsZW1lbnRCeUlkKG91dHB1dElkKTsKICAvLyBDYWNoZSBzdGVwcyBvbiB0aGUgb3V0cHV0RWxlbWVudCB0byBtYWtlIGl0IGF2YWlsYWJsZSBmb3IgdGhlIG5leHQgY2FsbAogIC8vIHRvIHVwbG9hZEZpbGVzQ29udGludWUgZnJvbSBQeXRob24uCiAgb3V0cHV0RWxlbWVudC5zdGVwcyA9IHN0ZXBzOwoKICByZXR1cm4gX3VwbG9hZEZpbGVzQ29udGludWUob3V0cHV0SWQpOwp9CgovLyBUaGlzIGlzIHJvdWdobHkgYW4gYXN5bmMgZ2VuZXJhdG9yIChub3Qgc3VwcG9ydGVkIGluIHRoZSBicm93c2VyIHlldCksCi8vIHdoZXJlIHRoZXJlIGFyZSBtdWx0aXBsZSBhc3luY2hyb25vdXMgc3RlcHMgYW5kIHRoZSBQeXRob24gc2lkZSBpcyBnb2luZwovLyB0byBwb2xsIGZvciBjb21wbGV0aW9uIG9mIGVhY2ggc3RlcC4KLy8gVGhpcyB1c2VzIGEgUHJvbWlzZSB0byBibG9jayB0aGUgcHl0aG9uIHNpZGUgb24gY29tcGxldGlvbiBvZiBlYWNoIHN0ZXAsCi8vIHRoZW4gcGFzc2VzIHRoZSByZXN1bHQgb2YgdGhlIHByZXZpb3VzIHN0ZXAgYXMgdGhlIGlucHV0IHRvIHRoZSBuZXh0IHN0ZXAuCmZ1bmN0aW9uIF91cGxvYWRGaWxlc0NvbnRpbnVlKG91dHB1dElkKSB7CiAgY29uc3Qgb3V0cHV0RWxlbWVudCA9IGRvY3VtZW50LmdldEVsZW1lbnRCeUlkKG91dHB1dElkKTsKICBjb25zdCBzdGVwcyA9IG91dHB1dEVsZW1lbnQuc3RlcHM7CgogIGNvbnN0IG5leHQgPSBzdGVwcy5uZXh0KG91dHB1dEVsZW1lbnQubGFzdFByb21pc2VWYWx1ZSk7CiAgcmV0dXJuIFByb21pc2UucmVzb2x2ZShuZXh0LnZhbHVlLnByb21pc2UpLnRoZW4oKHZhbHVlKSA9PiB7CiAgICAvLyBDYWNoZSB0aGUgbGFzdCBwcm9taXNlIHZhbHVlIHRvIG1ha2UgaXQgYXZhaWxhYmxlIHRvIHRoZSBuZXh0CiAgICAvLyBzdGVwIG9mIHRoZSBnZW5lcmF0b3IuCiAgICBvdXRwdXRFbGVtZW50Lmxhc3RQcm9taXNlVmFsdWUgPSB2YWx1ZTsKICAgIHJldHVybiBuZXh0LnZhbHVlLnJlc3BvbnNlOwogIH0pOwp9CgovKioKICogR2VuZXJhdG9yIGZ1bmN0aW9uIHdoaWNoIGlzIGNhbGxlZCBiZXR3ZWVuIGVhY2ggYXN5bmMgc3RlcCBvZiB0aGUgdXBsb2FkCiAqIHByb2Nlc3MuCiAqIEBwYXJhbSB7c3RyaW5nfSBpbnB1dElkIEVsZW1lbnQgSUQgb2YgdGhlIGlucHV0IGZpbGUgcGlja2VyIGVsZW1lbnQuCiAqIEBwYXJhbSB7c3RyaW5nfSBvdXRwdXRJZCBFbGVtZW50IElEIG9mIHRoZSBvdXRwdXQgZGlzcGxheS4KICogQHJldHVybiB7IUl0ZXJhYmxlPCFPYmplY3Q+fSBJdGVyYWJsZSBvZiBuZXh0IHN0ZXBzLgogKi8KZnVuY3Rpb24qIHVwbG9hZEZpbGVzU3RlcChpbnB1dElkLCBvdXRwdXRJZCkgewogIGNvbnN0IGlucHV0RWxlbWVudCA9IGRvY3VtZW50LmdldEVsZW1lbnRCeUlkKGlucHV0SWQpOwogIGlucHV0RWxlbWVudC5kaXNhYmxlZCA9IGZhbHNlOwoKICBjb25zdCBvdXRwdXRFbGVtZW50ID0gZG9jdW1lbnQuZ2V0RWxlbWVudEJ5SWQob3V0cHV0SWQpOwogIG91dHB1dEVsZW1lbnQuaW5uZXJIVE1MID0gJyc7CgogIGNvbnN0IHBpY2tlZFByb21pc2UgPSBuZXcgUHJvbWlzZSgocmVzb2x2ZSkgPT4gewogICAgaW5wdXRFbGVtZW50LmFkZEV2ZW50TGlzdGVuZXIoJ2NoYW5nZScsIChlKSA9PiB7CiAgICAgIHJlc29sdmUoZS50YXJnZXQuZmlsZXMpOwogICAgfSk7CiAgfSk7CgogIGNvbnN0IGNhbmNlbCA9IGRvY3VtZW50LmNyZWF0ZUVsZW1lbnQoJ2J1dHRvbicpOwogIGlucHV0RWxlbWVudC5wYXJlbnRFbGVtZW50LmFwcGVuZENoaWxkKGNhbmNlbCk7CiAgY2FuY2VsLnRleHRDb250ZW50ID0gJ0NhbmNlbCB1cGxvYWQnOwogIGNvbnN0IGNhbmNlbFByb21pc2UgPSBuZXcgUHJvbWlzZSgocmVzb2x2ZSkgPT4gewogICAgY2FuY2VsLm9uY2xpY2sgPSAoKSA9PiB7CiAgICAgIHJlc29sdmUobnVsbCk7CiAgICB9OwogIH0pOwoKICAvLyBXYWl0IGZvciB0aGUgdXNlciB0byBwaWNrIHRoZSBmaWxlcy4KICBjb25zdCBmaWxlcyA9IHlpZWxkIHsKICAgIHByb21pc2U6IFByb21pc2UucmFjZShbcGlja2VkUHJvbWlzZSwgY2FuY2VsUHJvbWlzZV0pLAogICAgcmVzcG9uc2U6IHsKICAgICAgYWN0aW9uOiAnc3RhcnRpbmcnLAogICAgfQogIH07CgogIGNhbmNlbC5yZW1vdmUoKTsKCiAgLy8gRGlzYWJsZSB0aGUgaW5wdXQgZWxlbWVudCBzaW5jZSBmdXJ0aGVyIHBpY2tzIGFyZSBub3QgYWxsb3dlZC4KICBpbnB1dEVsZW1lbnQuZGlzYWJsZWQgPSB0cnVlOwoKICBpZiAoIWZpbGVzKSB7CiAgICByZXR1cm4gewogICAgICByZXNwb25zZTogewogICAgICAgIGFjdGlvbjogJ2NvbXBsZXRlJywKICAgICAgfQogICAgfTsKICB9CgogIGZvciAoY29uc3QgZmlsZSBvZiBmaWxlcykgewogICAgY29uc3QgbGkgPSBkb2N1bWVudC5jcmVhdGVFbGVtZW50KCdsaScpOwogICAgbGkuYXBwZW5kKHNwYW4oZmlsZS5uYW1lLCB7Zm9udFdlaWdodDogJ2JvbGQnfSkpOwogICAgbGkuYXBwZW5kKHNwYW4oCiAgICAgICAgYCgke2ZpbGUudHlwZSB8fCAnbi9hJ30pIC0gJHtmaWxlLnNpemV9IGJ5dGVzLCBgICsKICAgICAgICBgbGFzdCBtb2RpZmllZDogJHsKICAgICAgICAgICAgZmlsZS5sYXN0TW9kaWZpZWREYXRlID8gZmlsZS5sYXN0TW9kaWZpZWREYXRlLnRvTG9jYWxlRGF0ZVN0cmluZygpIDoKICAgICAgICAgICAgICAgICAgICAgICAgICAgICAgICAgICAgJ24vYSd9IC0gYCkpOwogICAgY29uc3QgcGVyY2VudCA9IHNwYW4oJzAlIGRvbmUnKTsKICAgIGxpLmFwcGVuZENoaWxkKHBlcmNlbnQpOwoKICAgIG91dHB1dEVsZW1lbnQuYXBwZW5kQ2hpbGQobGkpOwoKICAgIGNvbnN0IGZpbGVEYXRhUHJvbWlzZSA9IG5ldyBQcm9taXNlKChyZXNvbHZlKSA9PiB7CiAgICAgIGNvbnN0IHJlYWRlciA9IG5ldyBGaWxlUmVhZGVyKCk7CiAgICAgIHJlYWRlci5vbmxvYWQgPSAoZSkgPT4gewogICAgICAgIHJlc29sdmUoZS50YXJnZXQucmVzdWx0KTsKICAgICAgfTsKICAgICAgcmVhZGVyLnJlYWRBc0FycmF5QnVmZmVyKGZpbGUpOwogICAgfSk7CiAgICAvLyBXYWl0IGZvciB0aGUgZGF0YSB0byBiZSByZWFkeS4KICAgIGxldCBmaWxlRGF0YSA9IHlpZWxkIHsKICAgICAgcHJvbWlzZTogZmlsZURhdGFQcm9taXNlLAogICAgICByZXNwb25zZTogewogICAgICAgIGFjdGlvbjogJ2NvbnRpbnVlJywKICAgICAgfQogICAgfTsKCiAgICAvLyBVc2UgYSBjaHVua2VkIHNlbmRpbmcgdG8gYXZvaWQgbWVzc2FnZSBzaXplIGxpbWl0cy4gU2VlIGIvNjIxMTU2NjAuCiAgICBsZXQgcG9zaXRpb24gPSAwOwogICAgZG8gewogICAgICBjb25zdCBsZW5ndGggPSBNYXRoLm1pbihmaWxlRGF0YS5ieXRlTGVuZ3RoIC0gcG9zaXRpb24sIE1BWF9QQVlMT0FEX1NJWkUpOwogICAgICBjb25zdCBjaHVuayA9IG5ldyBVaW50OEFycmF5KGZpbGVEYXRhLCBwb3NpdGlvbiwgbGVuZ3RoKTsKICAgICAgcG9zaXRpb24gKz0gbGVuZ3RoOwoKICAgICAgY29uc3QgYmFzZTY0ID0gYnRvYShTdHJpbmcuZnJvbUNoYXJDb2RlLmFwcGx5KG51bGwsIGNodW5rKSk7CiAgICAgIHlpZWxkIHsKICAgICAgICByZXNwb25zZTogewogICAgICAgICAgYWN0aW9uOiAnYXBwZW5kJywKICAgICAgICAgIGZpbGU6IGZpbGUubmFtZSwKICAgICAgICAgIGRhdGE6IGJhc2U2NCwKICAgICAgICB9LAogICAgICB9OwoKICAgICAgbGV0IHBlcmNlbnREb25lID0gZmlsZURhdGEuYnl0ZUxlbmd0aCA9PT0gMCA/CiAgICAgICAgICAxMDAgOgogICAgICAgICAgTWF0aC5yb3VuZCgocG9zaXRpb24gLyBmaWxlRGF0YS5ieXRlTGVuZ3RoKSAqIDEwMCk7CiAgICAgIHBlcmNlbnQudGV4dENvbnRlbnQgPSBgJHtwZXJjZW50RG9uZX0lIGRvbmVgOwoKICAgIH0gd2hpbGUgKHBvc2l0aW9uIDwgZmlsZURhdGEuYnl0ZUxlbmd0aCk7CiAgfQoKICAvLyBBbGwgZG9uZS4KICB5aWVsZCB7CiAgICByZXNwb25zZTogewogICAgICBhY3Rpb246ICdjb21wbGV0ZScsCiAgICB9CiAgfTsKfQoKc2NvcGUuZ29vZ2xlID0gc2NvcGUuZ29vZ2xlIHx8IHt9OwpzY29wZS5nb29nbGUuY29sYWIgPSBzY29wZS5nb29nbGUuY29sYWIgfHwge307CnNjb3BlLmdvb2dsZS5jb2xhYi5fZmlsZXMgPSB7CiAgX3VwbG9hZEZpbGVzLAogIF91cGxvYWRGaWxlc0NvbnRpbnVlLAp9Owp9KShzZWxmKTsK",
              "ok": true,
              "headers": [
                [
                  "content-type",
                  "application/javascript"
                ]
              ],
              "status": 200,
              "status_text": ""
            }
          },
          "base_uri": "https://localhost:8080/",
          "height": 108
        },
        "id": "QfCvcNNvZvuk",
        "outputId": "8010f312-19de-4c2b-940b-540fd715049a"
      },
      "source": [
        "from google.colab import files\n",
        "from keras.preprocessing import image\n",
        "uploaded = files.upload()\n",
        "\n",
        "for fn in uploaded.keys():\n",
        " \n",
        "  # predicting images\n",
        "  path = '/content/' + fn\n",
        "  img = image.load_img(path, target_size=(150, 150))\n",
        "  x = image.img_to_array(img)\n",
        "  x = np.expand_dims(x, axis=0)\n",
        "\n",
        "  images = np.vstack([x])\n",
        "  classes = model.predict(images, batch_size=10)\n",
        "  print(classes[0])\n",
        "  if classes[0]>0.5:\n",
        "    print(fn + \" is a dog\")\n",
        "  else:\n",
        "    print(fn + \" is a cat\")"
      ],
      "execution_count": 16,
      "outputs": [
        {
          "output_type": "display_data",
          "data": {
            "text/html": [
              "\n",
              "     <input type=\"file\" id=\"files-d73d23ff-4870-42bd-93e2-6c82199fd6e3\" name=\"files[]\" multiple disabled\n",
              "        style=\"border:none\" />\n",
              "     <output id=\"result-d73d23ff-4870-42bd-93e2-6c82199fd6e3\">\n",
              "      Upload widget is only available when the cell has been executed in the\n",
              "      current browser session. Please rerun this cell to enable.\n",
              "      </output>\n",
              "      <script src=\"/nbextensions/google.colab/files.js\"></script> "
            ],
            "text/plain": [
              "<IPython.core.display.HTML object>"
            ]
          },
          "metadata": {
            "tags": []
          }
        },
        {
          "output_type": "stream",
          "text": [
            "Saving best-girl-cat-names-1606245046.jpg to best-girl-cat-names-1606245046.jpg\n",
            "[1.0741011e-29]\n",
            "best-girl-cat-names-1606245046.jpg is a cat\n"
          ],
          "name": "stdout"
        }
      ]
    }
  ]
}