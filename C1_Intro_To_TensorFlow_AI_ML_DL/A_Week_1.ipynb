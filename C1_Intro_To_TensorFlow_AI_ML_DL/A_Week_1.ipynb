{
  "nbformat": 4,
  "nbformat_minor": 0,
  "metadata": {
    "colab": {
      "name": "A_Week_1.ipynb",
      "provenance": [],
      "toc_visible": true
    },
    "kernelspec": {
      "name": "python3",
      "display_name": "Python 3"
    },
    "language_info": {
      "name": "python"
    }
  },
  "cells": [
    {
      "cell_type": "markdown",
      "metadata": {
        "id": "0s5kUh_qK1k0"
      },
      "source": [
        "## Hello World of Deep Learning"
      ]
    },
    {
      "cell_type": "code",
      "metadata": {
        "id": "Qo9ojJ6dKV9A"
      },
      "source": [
        "import numpy as np\n",
        "import matplotlib.pyplot as plt\n",
        "\n",
        "import tensorflow as tf\n",
        "from tensorflow.keras import layers\n",
        "from tensorflow.keras.models import Sequential"
      ],
      "execution_count": 1,
      "outputs": []
    },
    {
      "cell_type": "code",
      "metadata": {
        "id": "bvctIbc_WAeu"
      },
      "source": [
        "# in our function, the relationship between the numbers is y=2x-1\n",
        "\n",
        "xs = np.array([-1.0,  0.0, 1.0, 2.0, 3.0, 4.0], dtype=float)\n",
        "ys = np.array([-3.0, -1.0, 1.0, 3.0, 5.0, 7.0], dtype=float)"
      ],
      "execution_count": 2,
      "outputs": []
    },
    {
      "cell_type": "code",
      "metadata": {
        "colab": {
          "base_uri": "https://localhost:8080/",
          "height": 283
        },
        "id": "5ZuOLOeAWZmj",
        "outputId": "a44a624c-768b-4201-8a42-0bab7f976fde"
      },
      "source": [
        "plt.scatter(xs, ys)"
      ],
      "execution_count": 3,
      "outputs": [
        {
          "output_type": "execute_result",
          "data": {
            "text/plain": [
              "<matplotlib.collections.PathCollection at 0x7fd7fe23bfd0>"
            ]
          },
          "metadata": {},
          "execution_count": 3
        },
        {
          "output_type": "display_data",
          "data": {
            "image/png": "[encoded data removed]",
            "text/plain": [
              "<Figure size 432x288 with 1 Axes>"
            ]
          },
          "metadata": {
            "needs_background": "light"
          }
        }
      ]
    },
    {
      "cell_type": "code",
      "metadata": {
        "id": "fpg3JJfDVBKX"
      },
      "source": [
        "model = Sequential([\n",
        "        layers.Dense(1, input_shape=[1])\n",
        "])"
      ],
      "execution_count": 4,
      "outputs": []
    },
    {
      "cell_type": "code",
      "metadata": {
        "colab": {
          "base_uri": "https://localhost:8080/"
        },
        "id": "hYgPiQtyVLkP",
        "outputId": "8e012ddf-5449-4e5c-a038-eb032091de8b"
      },
      "source": [
        "model.summary()"
      ],
      "execution_count": 5,
      "outputs": [
        {
          "output_type": "stream",
          "name": "stdout",
          "text": [
            "Model: \"sequential\"\n",
            "_________________________________________________________________\n",
            "Layer (type)                 Output Shape              Param #   \n",
            "=================================================================\n",
            "dense (Dense)                (None, 1)                 2         \n",
            "=================================================================\n",
            "Total params: 2\n",
            "Trainable params: 2\n",
            "Non-trainable params: 0\n",
            "_________________________________________________________________\n"
          ]
        }
      ]
    },
    {
      "cell_type": "code",
      "metadata": {
        "id": "NPb57dPWVQM7"
      },
      "source": [
        "optimizer   = tf.keras.optimizers.SGD(learning_rate=0.01)\n",
        "loss        = tf.keras.losses.MeanSquaredError()"
      ],
      "execution_count": 6,
      "outputs": []
    },
    {
      "cell_type": "code",
      "metadata": {
        "id": "3-3viI5-VNex"
      },
      "source": [
        "model.compile(optimizer=optimizer,\n",
        "              loss=loss)"
      ],
      "execution_count": 7,
      "outputs": []
    },
    {
      "cell_type": "code",
      "metadata": {
        "id": "vxlsdIF0mSNO"
      },
      "source": [
        "epochs = 40"
      ],
      "execution_count": 8,
      "outputs": []
    },
    {
      "cell_type": "code",
      "metadata": {
        "colab": {
          "base_uri": "https://localhost:8080/"
        },
        "id": "nsNM-UZXLYPz",
        "outputId": "2738f179-c586-433c-a92a-d6fe332666a5"
      },
      "source": [
        "model.fit(xs, ys, epochs=epochs)"
      ],
      "execution_count": 9,
      "outputs": [
        {
          "output_type": "stream",
          "name": "stdout",
          "text": [
            "Epoch 1/40\n",
            "1/1 [==============================] - 0s 259ms/step - loss: 30.7158\n",
            "Epoch 2/40\n",
            "1/1 [==============================] - 0s 6ms/step - loss: 24.4817\n",
            "Epoch 3/40\n",
            "1/1 [==============================] - 0s 4ms/step - loss: 19.5706\n",
            "Epoch 4/40\n",
            "1/1 [==============================] - 0s 5ms/step - loss: 15.7003\n",
            "Epoch 5/40\n",
            "1/1 [==============================] - 0s 8ms/step - loss: 12.6492\n",
            "Epoch 6/40\n",
            "1/1 [==============================] - 0s 8ms/step - loss: 10.2426\n",
            "Epoch 7/40\n",
            "1/1 [==============================] - 0s 5ms/step - loss: 8.3433\n",
            "Epoch 8/40\n",
            "1/1 [==============================] - 0s 4ms/step - loss: 6.8431\n",
            "Epoch 9/40\n",
            "1/1 [==============================] - 0s 4ms/step - loss: 5.6571\n",
            "Epoch 10/40\n",
            "1/1 [==============================] - 0s 6ms/step - loss: 4.7184\n",
            "Epoch 11/40\n",
            "1/1 [==============================] - 0s 6ms/step - loss: 3.9744\n",
            "Epoch 12/40\n",
            "1/1 [==============================] - 0s 6ms/step - loss: 3.3836\n",
            "Epoch 13/40\n",
            "1/1 [==============================] - 0s 5ms/step - loss: 2.9136\n",
            "Epoch 14/40\n",
            "1/1 [==============================] - 0s 9ms/step - loss: 2.5386\n",
            "Epoch 15/40\n",
            "1/1 [==============================] - 0s 5ms/step - loss: 2.2386\n",
            "Epoch 16/40\n",
            "1/1 [==============================] - 0s 6ms/step - loss: 1.9975\n",
            "Epoch 17/40\n",
            "1/1 [==============================] - 0s 5ms/step - loss: 1.8030\n",
            "Epoch 18/40\n",
            "1/1 [==============================] - 0s 4ms/step - loss: 1.6453\n",
            "Epoch 19/40\n",
            "1/1 [==============================] - 0s 7ms/step - loss: 1.5165\n",
            "Epoch 20/40\n",
            "1/1 [==============================] - 0s 6ms/step - loss: 1.4106\n",
            "Epoch 21/40\n",
            "1/1 [==============================] - 0s 4ms/step - loss: 1.3228\n",
            "Epoch 22/40\n",
            "1/1 [==============================] - 0s 7ms/step - loss: 1.2494\n",
            "Epoch 23/40\n",
            "1/1 [==============================] - 0s 8ms/step - loss: 1.1873\n",
            "Epoch 24/40\n",
            "1/1 [==============================] - 0s 19ms/step - loss: 1.1343\n",
            "Epoch 25/40\n",
            "1/1 [==============================] - 0s 5ms/step - loss: 1.0885\n",
            "Epoch 26/40\n",
            "1/1 [==============================] - 0s 5ms/step - loss: 1.0484\n",
            "Epoch 27/40\n",
            "1/1 [==============================] - 0s 4ms/step - loss: 1.0129\n",
            "Epoch 28/40\n",
            "1/1 [==============================] - 0s 5ms/step - loss: 0.9812\n",
            "Epoch 29/40\n",
            "1/1 [==============================] - 0s 3ms/step - loss: 0.9524\n",
            "Epoch 30/40\n",
            "1/1 [==============================] - 0s 3ms/step - loss: 0.9260\n",
            "Epoch 31/40\n",
            "1/1 [==============================] - 0s 4ms/step - loss: 0.9017\n",
            "Epoch 32/40\n",
            "1/1 [==============================] - 0s 4ms/step - loss: 0.8789\n",
            "Epoch 33/40\n",
            "1/1 [==============================] - 0s 10ms/step - loss: 0.8576\n",
            "Epoch 34/40\n",
            "1/1 [==============================] - 0s 4ms/step - loss: 0.8374\n",
            "Epoch 35/40\n",
            "1/1 [==============================] - 0s 3ms/step - loss: 0.8181\n",
            "Epoch 36/40\n",
            "1/1 [==============================] - 0s 3ms/step - loss: 0.7997\n",
            "Epoch 37/40\n",
            "1/1 [==============================] - 0s 4ms/step - loss: 0.7820\n",
            "Epoch 38/40\n",
            "1/1 [==============================] - 0s 4ms/step - loss: 0.7649\n",
            "Epoch 39/40\n",
            "1/1 [==============================] - 0s 3ms/step - loss: 0.7484\n",
            "Epoch 40/40\n",
            "1/1 [==============================] - 0s 4ms/step - loss: 0.7325\n"
          ]
        },
        {
          "output_type": "execute_result",
          "data": {
            "text/plain": [
              "<keras.callbacks.History at 0x7fd7faa7fad0>"
            ]
          },
          "metadata": {},
          "execution_count": 9
        }
      ]
    },
    {
      "cell_type": "code",
      "metadata": {
        "colab": {
          "base_uri": "https://localhost:8080/"
        },
        "id": "nKe0n2MXLntO",
        "outputId": "549828fa-6871-4631-facb-213044550cf7"
      },
      "source": [
        "print(model.predict([10.0]))"
      ],
      "execution_count": 10,
      "outputs": [
        {
          "output_type": "stream",
          "name": "stdout",
          "text": [
            "[[16.323349]]\n"
          ]
        }
      ]
    },
    {
      "cell_type": "markdown",
      "metadata": {
        "id": "4eKTF9K4Yla9"
      },
      "source": [
        "## Improving Hello World"
      ]
    },
    {
      "cell_type": "code",
      "metadata": {
        "id": "3UOQG0JFYPjw"
      },
      "source": [
        "model = Sequential([\n",
        "        layers.Dense(1, input_shape=[1]),\n",
        "        layers.Dense(1)\n",
        "])"
      ],
      "execution_count": 11,
      "outputs": []
    },
    {
      "cell_type": "code",
      "metadata": {
        "colab": {
          "base_uri": "https://localhost:8080/"
        },
        "id": "bEpEmN-EYZvi",
        "outputId": "574b4443-1aab-4f34-9433-8553af7c0a9e"
      },
      "source": [
        "model.summary()"
      ],
      "execution_count": 12,
      "outputs": [
        {
          "output_type": "stream",
          "name": "stdout",
          "text": [
            "Model: \"sequential_1\"\n",
            "_________________________________________________________________\n",
            "Layer (type)                 Output Shape              Param #   \n",
            "=================================================================\n",
            "dense_1 (Dense)              (None, 1)                 2         \n",
            "_________________________________________________________________\n",
            "dense_2 (Dense)              (None, 1)                 2         \n",
            "=================================================================\n",
            "Total params: 4\n",
            "Trainable params: 4\n",
            "Non-trainable params: 0\n",
            "_________________________________________________________________\n"
          ]
        }
      ]
    },
    {
      "cell_type": "code",
      "metadata": {
        "id": "HUpuYZq5YZvl"
      },
      "source": [
        "optimizer   = tf.keras.optimizers.SGD(learning_rate=0.01)\n",
        "loss        = tf.keras.losses.MeanSquaredError()"
      ],
      "execution_count": 13,
      "outputs": []
    },
    {
      "cell_type": "code",
      "metadata": {
        "id": "cJWFjNgWYZvm"
      },
      "source": [
        "model.compile(optimizer=optimizer,\n",
        "              loss=loss)"
      ],
      "execution_count": 14,
      "outputs": []
    },
    {
      "cell_type": "code",
      "metadata": {
        "id": "x_5ImV4smXkn"
      },
      "source": [
        "epochs = 50"
      ],
      "execution_count": 15,
      "outputs": []
    },
    {
      "cell_type": "code",
      "metadata": {
        "colab": {
          "base_uri": "https://localhost:8080/"
        },
        "id": "lypjwxrVYZvn",
        "outputId": "860b1031-c271-4fa2-e92b-50c2b81ffc27"
      },
      "source": [
        "model.fit(xs, ys, epochs=epochs)"
      ],
      "execution_count": 16,
      "outputs": [
        {
          "output_type": "stream",
          "name": "stdout",
          "text": [
            "Epoch 1/50\n",
            "1/1 [==============================] - 0s 243ms/step - loss: 17.7633\n",
            "Epoch 2/50\n",
            "1/1 [==============================] - 0s 4ms/step - loss: 16.4578\n",
            "Epoch 3/50\n",
            "1/1 [==============================] - 0s 4ms/step - loss: 15.4701\n",
            "Epoch 4/50\n",
            "1/1 [==============================] - 0s 3ms/step - loss: 14.6214\n",
            "Epoch 5/50\n",
            "1/1 [==============================] - 0s 5ms/step - loss: 13.8039\n",
            "Epoch 6/50\n",
            "1/1 [==============================] - 0s 3ms/step - loss: 12.9447\n",
            "Epoch 7/50\n",
            "1/1 [==============================] - 0s 4ms/step - loss: 11.9923\n",
            "Epoch 8/50\n",
            "1/1 [==============================] - 0s 3ms/step - loss: 10.9143\n",
            "Epoch 9/50\n",
            "1/1 [==============================] - 0s 5ms/step - loss: 9.7010\n",
            "Epoch 10/50\n",
            "1/1 [==============================] - 0s 3ms/step - loss: 8.3726\n",
            "Epoch 11/50\n",
            "1/1 [==============================] - 0s 3ms/step - loss: 6.9838\n",
            "Epoch 12/50\n",
            "1/1 [==============================] - 0s 3ms/step - loss: 5.6200\n",
            "Epoch 13/50\n",
            "1/1 [==============================] - 0s 4ms/step - loss: 4.3796\n",
            "Epoch 14/50\n",
            "1/1 [==============================] - 0s 4ms/step - loss: 3.3450\n",
            "Epoch 15/50\n",
            "1/1 [==============================] - 0s 6ms/step - loss: 2.5564\n",
            "Epoch 16/50\n",
            "1/1 [==============================] - 0s 4ms/step - loss: 2.0040\n",
            "Epoch 17/50\n",
            "1/1 [==============================] - 0s 5ms/step - loss: 1.6417\n",
            "Epoch 18/50\n",
            "1/1 [==============================] - 0s 4ms/step - loss: 1.4116\n",
            "Epoch 19/50\n",
            "1/1 [==============================] - 0s 5ms/step - loss: 1.2633\n",
            "Epoch 20/50\n",
            "1/1 [==============================] - 0s 3ms/step - loss: 1.1613\n",
            "Epoch 21/50\n",
            "1/1 [==============================] - 0s 5ms/step - loss: 1.0843\n",
            "Epoch 22/50\n",
            "1/1 [==============================] - 0s 5ms/step - loss: 1.0206\n",
            "Epoch 23/50\n",
            "1/1 [==============================] - 0s 5ms/step - loss: 0.9643\n",
            "Epoch 24/50\n",
            "1/1 [==============================] - 0s 3ms/step - loss: 0.9125\n",
            "Epoch 25/50\n",
            "1/1 [==============================] - 0s 5ms/step - loss: 0.8639\n",
            "Epoch 26/50\n",
            "1/1 [==============================] - 0s 4ms/step - loss: 0.8179\n",
            "Epoch 27/50\n",
            "1/1 [==============================] - 0s 6ms/step - loss: 0.7741\n",
            "Epoch 28/50\n",
            "1/1 [==============================] - 0s 4ms/step - loss: 0.7323\n",
            "Epoch 29/50\n",
            "1/1 [==============================] - 0s 4ms/step - loss: 0.6925\n",
            "Epoch 30/50\n",
            "1/1 [==============================] - 0s 5ms/step - loss: 0.6546\n",
            "Epoch 31/50\n",
            "1/1 [==============================] - 0s 4ms/step - loss: 0.6184\n",
            "Epoch 32/50\n",
            "1/1 [==============================] - 0s 5ms/step - loss: 0.5840\n",
            "Epoch 33/50\n",
            "1/1 [==============================] - 0s 7ms/step - loss: 0.5512\n",
            "Epoch 34/50\n",
            "1/1 [==============================] - 0s 4ms/step - loss: 0.5200\n",
            "Epoch 35/50\n",
            "1/1 [==============================] - 0s 9ms/step - loss: 0.4903\n",
            "Epoch 36/50\n",
            "1/1 [==============================] - 0s 4ms/step - loss: 0.4622\n",
            "Epoch 37/50\n",
            "1/1 [==============================] - 0s 10ms/step - loss: 0.4354\n",
            "Epoch 38/50\n",
            "1/1 [==============================] - 0s 7ms/step - loss: 0.4100\n",
            "Epoch 39/50\n",
            "1/1 [==============================] - 0s 8ms/step - loss: 0.3859\n",
            "Epoch 40/50\n",
            "1/1 [==============================] - 0s 6ms/step - loss: 0.3630\n",
            "Epoch 41/50\n",
            "1/1 [==============================] - 0s 5ms/step - loss: 0.3414\n",
            "Epoch 42/50\n",
            "1/1 [==============================] - 0s 6ms/step - loss: 0.3209\n",
            "Epoch 43/50\n",
            "1/1 [==============================] - 0s 5ms/step - loss: 0.3015\n",
            "Epoch 44/50\n",
            "1/1 [==============================] - 0s 6ms/step - loss: 0.2831\n",
            "Epoch 45/50\n",
            "1/1 [==============================] - 0s 7ms/step - loss: 0.2658\n",
            "Epoch 46/50\n",
            "1/1 [==============================] - 0s 6ms/step - loss: 0.2494\n",
            "Epoch 47/50\n",
            "1/1 [==============================] - 0s 5ms/step - loss: 0.2339\n",
            "Epoch 48/50\n",
            "1/1 [==============================] - 0s 6ms/step - loss: 0.2193\n",
            "Epoch 49/50\n",
            "1/1 [==============================] - 0s 4ms/step - loss: 0.2055\n",
            "Epoch 50/50\n",
            "1/1 [==============================] - 0s 4ms/step - loss: 0.1926\n"
          ]
        },
        {
          "output_type": "execute_result",
          "data": {
            "text/plain": [
              "<keras.callbacks.History at 0x7fd7fa9f77d0>"
            ]
          },
          "metadata": {},
          "execution_count": 16
        }
      ]
    },
    {
      "cell_type": "code",
      "metadata": {
        "colab": {
          "base_uri": "https://localhost:8080/"
        },
        "id": "OgY-rhnFYPqC",
        "outputId": "b02703ba-d453-491a-ca76-f0f43a93b492"
      },
      "source": [
        "print(model.predict([10.0]))"
      ],
      "execution_count": 17,
      "outputs": [
        {
          "output_type": "stream",
          "name": "stdout",
          "text": [
            "[[17.851366]]\n"
          ]
        }
      ]
    },
    {
      "cell_type": "markdown",
      "metadata": {
        "id": "4LbYAm5FPM3G"
      },
      "source": [
        "## Housing model exercise"
      ]
    },
    {
      "cell_type": "markdown",
      "metadata": {
        "id": "0WPegGNePT8c"
      },
      "source": [
        "**Exercise 1**\n",
        "\n",
        "In this exercise you'll try to build a neural network that predicts the price of a house according to a simple formula.\n",
        "\n",
        "So, imagine if house pricing was as easy as a house costs 50k + 50k per bedroom, so that a 1 bedroom house costs 100k, a 2 bedroom house costs 150k etc.\n",
        "\n",
        "How would you create a neural network that learns this relationship so that it would predict a 7 bedroom house as costing close to 400k etc.\n",
        "\n",
        "Hint: Your network might work better if you scale the house price down. You don't have to give the answer 400...it might be better to create something that predicts the number 4, and then your answer is in the 'hundreds of thousands' etc."
      ]
    },
    {
      "cell_type": "code",
      "metadata": {
        "id": "9NozDwxyXUAH"
      },
      "source": [
        "def house_model(xs, ys, y_new):\n",
        "    model = Sequential([\n",
        "            layers.Dense(1, input_shape=[1]),\n",
        "            layers.Dense(1),\n",
        "            layers.Dense(1)\n",
        "            ])\n",
        "    optimizer = tf.keras.optimizers.SGD()\n",
        "    loss = tf.keras.losses.MeanSquaredError()\n",
        "    model.compile(optimizer=optimizer, loss=loss)\n",
        "    epochs = 80\n",
        "    model.fit(xs, ys, epochs=epochs)\n",
        "    return model.predict(y_new)[0]"
      ],
      "execution_count": 18,
      "outputs": []
    },
    {
      "cell_type": "code",
      "metadata": {
        "colab": {
          "base_uri": "https://localhost:8080/"
        },
        "id": "AbMZ3GjcPiEo",
        "outputId": "aba931a3-f41e-446a-8685-d57f706abe07"
      },
      "source": [
        "xs = np.array([1, 2, 3, 4, 5, 6, 8, 9, 10], dtype=float)\n",
        "ys = np.array([1, 1.5, 2, 2.5, 3, 3.5, 4.5, 5, 5.5], dtype=float)\n",
        "\n",
        "prediction = house_model(xs, ys, [7.0])\n",
        "print(prediction)"
      ],
      "execution_count": 19,
      "outputs": [
        {
          "output_type": "stream",
          "name": "stdout",
          "text": [
            "Epoch 1/80\n",
            "1/1 [==============================] - 0s 288ms/step - loss: 2.4979\n",
            "Epoch 2/80\n",
            "1/1 [==============================] - 0s 4ms/step - loss: 0.1986\n",
            "Epoch 3/80\n",
            "1/1 [==============================] - 0s 6ms/step - loss: 0.0484\n",
            "Epoch 4/80\n",
            "1/1 [==============================] - 0s 3ms/step - loss: 0.0462\n",
            "Epoch 5/80\n",
            "1/1 [==============================] - 0s 4ms/step - loss: 0.0454\n",
            "Epoch 6/80\n",
            "1/1 [==============================] - 0s 4ms/step - loss: 0.0447\n",
            "Epoch 7/80\n",
            "1/1 [==============================] - 0s 4ms/step - loss: 0.0440\n",
            "Epoch 8/80\n",
            "1/1 [==============================] - 0s 5ms/step - loss: 0.0433\n",
            "Epoch 9/80\n",
            "1/1 [==============================] - 0s 4ms/step - loss: 0.0426\n",
            "Epoch 10/80\n",
            "1/1 [==============================] - 0s 4ms/step - loss: 0.0420\n",
            "Epoch 11/80\n",
            "1/1 [==============================] - 0s 4ms/step - loss: 0.0413\n",
            "Epoch 12/80\n",
            "1/1 [==============================] - 0s 3ms/step - loss: 0.0407\n",
            "Epoch 13/80\n",
            "1/1 [==============================] - 0s 4ms/step - loss: 0.0401\n",
            "Epoch 14/80\n",
            "1/1 [==============================] - 0s 4ms/step - loss: 0.0395\n",
            "Epoch 15/80\n",
            "1/1 [==============================] - 0s 3ms/step - loss: 0.0388\n",
            "Epoch 16/80\n",
            "1/1 [==============================] - 0s 4ms/step - loss: 0.0382\n",
            "Epoch 17/80\n",
            "1/1 [==============================] - 0s 4ms/step - loss: 0.0377\n",
            "Epoch 18/80\n",
            "1/1 [==============================] - 0s 4ms/step - loss: 0.0371\n",
            "Epoch 19/80\n",
            "1/1 [==============================] - 0s 4ms/step - loss: 0.0365\n",
            "Epoch 20/80\n",
            "1/1 [==============================] - 0s 4ms/step - loss: 0.0360\n",
            "Epoch 21/80\n",
            "1/1 [==============================] - 0s 4ms/step - loss: 0.0354\n",
            "Epoch 22/80\n",
            "1/1 [==============================] - 0s 8ms/step - loss: 0.0349\n",
            "Epoch 23/80\n",
            "1/1 [==============================] - 0s 4ms/step - loss: 0.0343\n",
            "Epoch 24/80\n",
            "1/1 [==============================] - 0s 4ms/step - loss: 0.0338\n",
            "Epoch 25/80\n",
            "1/1 [==============================] - 0s 4ms/step - loss: 0.0333\n",
            "Epoch 26/80\n",
            "1/1 [==============================] - 0s 4ms/step - loss: 0.0328\n",
            "Epoch 27/80\n",
            "1/1 [==============================] - 0s 4ms/step - loss: 0.0323\n",
            "Epoch 28/80\n",
            "1/1 [==============================] - 0s 6ms/step - loss: 0.0318\n",
            "Epoch 29/80\n",
            "1/1 [==============================] - 0s 7ms/step - loss: 0.0313\n",
            "Epoch 30/80\n",
            "1/1 [==============================] - 0s 4ms/step - loss: 0.0308\n",
            "Epoch 31/80\n",
            "1/1 [==============================] - 0s 8ms/step - loss: 0.0304\n",
            "Epoch 32/80\n",
            "1/1 [==============================] - 0s 6ms/step - loss: 0.0299\n",
            "Epoch 33/80\n",
            "1/1 [==============================] - 0s 4ms/step - loss: 0.0294\n",
            "Epoch 34/80\n",
            "1/1 [==============================] - 0s 11ms/step - loss: 0.0290\n",
            "Epoch 35/80\n",
            "1/1 [==============================] - 0s 5ms/step - loss: 0.0285\n",
            "Epoch 36/80\n",
            "1/1 [==============================] - 0s 4ms/step - loss: 0.0281\n",
            "Epoch 37/80\n",
            "1/1 [==============================] - 0s 6ms/step - loss: 0.0277\n",
            "Epoch 38/80\n",
            "1/1 [==============================] - 0s 6ms/step - loss: 0.0273\n",
            "Epoch 39/80\n",
            "1/1 [==============================] - 0s 6ms/step - loss: 0.0269\n",
            "Epoch 40/80\n",
            "1/1 [==============================] - 0s 5ms/step - loss: 0.0264\n",
            "Epoch 41/80\n",
            "1/1 [==============================] - 0s 6ms/step - loss: 0.0260\n",
            "Epoch 42/80\n",
            "1/1 [==============================] - 0s 5ms/step - loss: 0.0257\n",
            "Epoch 43/80\n",
            "1/1 [==============================] - 0s 5ms/step - loss: 0.0253\n",
            "Epoch 44/80\n",
            "1/1 [==============================] - 0s 5ms/step - loss: 0.0249\n",
            "Epoch 45/80\n",
            "1/1 [==============================] - 0s 5ms/step - loss: 0.0245\n",
            "Epoch 46/80\n",
            "1/1 [==============================] - 0s 7ms/step - loss: 0.0241\n",
            "Epoch 47/80\n",
            "1/1 [==============================] - 0s 5ms/step - loss: 0.0238\n",
            "Epoch 48/80\n",
            "1/1 [==============================] - 0s 5ms/step - loss: 0.0234\n",
            "Epoch 49/80\n",
            "1/1 [==============================] - 0s 5ms/step - loss: 0.0231\n",
            "Epoch 50/80\n",
            "1/1 [==============================] - 0s 7ms/step - loss: 0.0227\n",
            "Epoch 51/80\n",
            "1/1 [==============================] - 0s 5ms/step - loss: 0.0224\n",
            "Epoch 52/80\n",
            "1/1 [==============================] - 0s 5ms/step - loss: 0.0220\n",
            "Epoch 53/80\n",
            "1/1 [==============================] - 0s 4ms/step - loss: 0.0217\n",
            "Epoch 54/80\n",
            "1/1 [==============================] - 0s 6ms/step - loss: 0.0214\n",
            "Epoch 55/80\n",
            "1/1 [==============================] - 0s 5ms/step - loss: 0.0211\n",
            "Epoch 56/80\n",
            "1/1 [==============================] - 0s 5ms/step - loss: 0.0207\n",
            "Epoch 57/80\n",
            "1/1 [==============================] - 0s 5ms/step - loss: 0.0204\n",
            "Epoch 58/80\n",
            "1/1 [==============================] - 0s 5ms/step - loss: 0.0201\n",
            "Epoch 59/80\n",
            "1/1 [==============================] - 0s 7ms/step - loss: 0.0198\n",
            "Epoch 60/80\n",
            "1/1 [==============================] - 0s 5ms/step - loss: 0.0195\n",
            "Epoch 61/80\n",
            "1/1 [==============================] - 0s 5ms/step - loss: 0.0192\n",
            "Epoch 62/80\n",
            "1/1 [==============================] - 0s 7ms/step - loss: 0.0189\n",
            "Epoch 63/80\n",
            "1/1 [==============================] - 0s 6ms/step - loss: 0.0187\n",
            "Epoch 64/80\n",
            "1/1 [==============================] - 0s 5ms/step - loss: 0.0184\n",
            "Epoch 65/80\n",
            "1/1 [==============================] - 0s 10ms/step - loss: 0.0181\n",
            "Epoch 66/80\n",
            "1/1 [==============================] - 0s 5ms/step - loss: 0.0178\n",
            "Epoch 67/80\n",
            "1/1 [==============================] - 0s 6ms/step - loss: 0.0176\n",
            "Epoch 68/80\n",
            "1/1 [==============================] - 0s 8ms/step - loss: 0.0173\n",
            "Epoch 69/80\n",
            "1/1 [==============================] - 0s 7ms/step - loss: 0.0171\n",
            "Epoch 70/80\n",
            "1/1 [==============================] - 0s 5ms/step - loss: 0.0168\n",
            "Epoch 71/80\n",
            "1/1 [==============================] - 0s 5ms/step - loss: 0.0166\n",
            "Epoch 72/80\n",
            "1/1 [==============================] - 0s 5ms/step - loss: 0.0163\n",
            "Epoch 73/80\n",
            "1/1 [==============================] - 0s 7ms/step - loss: 0.0161\n",
            "Epoch 74/80\n",
            "1/1 [==============================] - 0s 5ms/step - loss: 0.0158\n",
            "Epoch 75/80\n",
            "1/1 [==============================] - 0s 7ms/step - loss: 0.0156\n",
            "Epoch 76/80\n",
            "1/1 [==============================] - 0s 5ms/step - loss: 0.0154\n",
            "Epoch 77/80\n",
            "1/1 [==============================] - 0s 5ms/step - loss: 0.0151\n",
            "Epoch 78/80\n",
            "1/1 [==============================] - 0s 7ms/step - loss: 0.0149\n",
            "Epoch 79/80\n",
            "1/1 [==============================] - 0s 4ms/step - loss: 0.0147\n",
            "Epoch 80/80\n",
            "1/1 [==============================] - 0s 4ms/step - loss: 0.0145\n",
            "[4.002957]\n"
          ]
        }
      ]
    }
  ]
}