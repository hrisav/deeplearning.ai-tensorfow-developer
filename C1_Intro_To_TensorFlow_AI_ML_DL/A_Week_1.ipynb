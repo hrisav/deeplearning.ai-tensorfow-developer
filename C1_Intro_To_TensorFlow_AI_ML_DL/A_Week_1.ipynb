{
  "nbformat": 4,
  "nbformat_minor": 0,
  "metadata": {
    "colab": {
      "name": "A_Week_1.ipynb",
      "provenance": [],
      "collapsed_sections": [],
      "toc_visible": true
    },
    "kernelspec": {
      "name": "python3",
      "display_name": "Python 3"
    },
    "language_info": {
      "name": "python"
    }
  },
  "cells": [
    {
      "cell_type": "markdown",
      "metadata": {
        "id": "0s5kUh_qK1k0"
      },
      "source": [
        "## Hello World of Deep Learning"
      ]
    },
    {
      "cell_type": "code",
      "metadata": {
        "id": "Qo9ojJ6dKV9A"
      },
      "source": [
        "import numpy as np\n",
        "import matplotlib.pyplot as plt\n",
        "\n",
        "import tensorflow as tf\n",
        "from tensorflow.keras import layers\n",
        "from tensorflow.keras.models import Sequential"
      ],
      "execution_count": 1,
      "outputs": []
    },
    {
      "cell_type": "code",
      "metadata": {
        "id": "bvctIbc_WAeu"
      },
      "source": [
        "# in our function, the relationship between the numbers is y=2x-1\n",
        "\n",
        "xs = np.array([-1.0,  0.0, 1.0, 2.0, 3.0, 4.0], dtype=float)\n",
        "ys = np.array([-3.0, -1.0, 1.0, 3.0, 5.0, 7.0], dtype=float)"
      ],
      "execution_count": 2,
      "outputs": []
    },
    {
      "cell_type": "code",
      "metadata": {
        "colab": {
          "base_uri": "https://localhost:8080/",
          "height": 282
        },
        "id": "5ZuOLOeAWZmj",
        "outputId": "cf321e8e-2142-4d89-93e7-997400a7082d"
      },
      "source": [
        "plt.scatter(xs, ys)"
      ],
      "execution_count": 3,
      "outputs": [
        {
          "output_type": "execute_result",
          "data": {
            "text/plain": [
              "<matplotlib.collections.PathCollection at 0x7f9dbea04f10>"
            ]
          },
          "metadata": {},
          "execution_count": 3
        },
        {
          "output_type": "display_data",
          "data": {
            "image/png": "[encoded data removed]",
            "text/plain": [
              "<Figure size 432x288 with 1 Axes>"
            ]
          },
          "metadata": {
            "needs_background": "light"
          }
        }
      ]
    },
    {
      "cell_type": "code",
      "metadata": {
        "id": "fpg3JJfDVBKX"
      },
      "source": [
        "model = Sequential([\n",
        "        layers.InputLayer(input_shape=(1)),\n",
        "        layers.Dense(1)\n",
        "])"
      ],
      "execution_count": 4,
      "outputs": []
    },
    {
      "cell_type": "code",
      "metadata": {
        "colab": {
          "base_uri": "https://localhost:8080/"
        },
        "id": "hYgPiQtyVLkP",
        "outputId": "e9bb5447-8680-400b-98e5-41f9a01e94ac"
      },
      "source": [
        "model.summary()"
      ],
      "execution_count": 5,
      "outputs": [
        {
          "output_type": "stream",
          "name": "stdout",
          "text": [
            "Model: \"sequential\"\n",
            "_________________________________________________________________\n",
            "Layer (type)                 Output Shape              Param #   \n",
            "=================================================================\n",
            "dense (Dense)                (None, 1)                 2         \n",
            "=================================================================\n",
            "Total params: 2\n",
            "Trainable params: 2\n",
            "Non-trainable params: 0\n",
            "_________________________________________________________________\n"
          ]
        }
      ]
    },
    {
      "cell_type": "code",
      "metadata": {
        "id": "NPb57dPWVQM7"
      },
      "source": [
        "optimizer   = tf.keras.optimizers.SGD(learning_rate=0.01)\n",
        "loss        = tf.keras.losses.MeanSquaredError()"
      ],
      "execution_count": 6,
      "outputs": []
    },
    {
      "cell_type": "code",
      "metadata": {
        "id": "3-3viI5-VNex"
      },
      "source": [
        "model.compile(optimizer=optimizer,\n",
        "              loss=loss)"
      ],
      "execution_count": 7,
      "outputs": []
    },
    {
      "cell_type": "code",
      "metadata": {
        "id": "vxlsdIF0mSNO"
      },
      "source": [
        "EPOCHS = 40"
      ],
      "execution_count": 8,
      "outputs": []
    },
    {
      "cell_type": "code",
      "metadata": {
        "colab": {
          "base_uri": "https://localhost:8080/"
        },
        "id": "6MZPo5P8uQj-",
        "outputId": "554199e9-0368-4a24-ccb5-1ec2e945d211"
      },
      "source": [
        "history = model.fit(xs,\n",
        "                    ys,\n",
        "                    epochs = EPOCHS,\n",
        "                    verbose = 1)"
      ],
      "execution_count": 9,
      "outputs": [
        {
          "output_type": "stream",
          "name": "stdout",
          "text": [
            "Epoch 1/40\n",
            "1/1 [==============================] - 0s 487ms/step - loss: 16.2944\n",
            "Epoch 2/40\n",
            "1/1 [==============================] - 0s 7ms/step - loss: 13.0669\n",
            "Epoch 3/40\n",
            "1/1 [==============================] - 0s 4ms/step - loss: 10.5225\n",
            "Epoch 4/40\n",
            "1/1 [==============================] - 0s 3ms/step - loss: 8.5158\n",
            "Epoch 5/40\n",
            "1/1 [==============================] - 0s 4ms/step - loss: 6.9321\n",
            "Epoch 6/40\n",
            "1/1 [==============================] - 0s 5ms/step - loss: 5.6813\n",
            "Epoch 7/40\n",
            "1/1 [==============================] - 0s 5ms/step - loss: 4.6927\n",
            "Epoch 8/40\n",
            "1/1 [==============================] - 0s 3ms/step - loss: 3.9102\n",
            "Epoch 9/40\n",
            "1/1 [==============================] - 0s 3ms/step - loss: 3.2902\n",
            "Epoch 10/40\n",
            "1/1 [==============================] - 0s 3ms/step - loss: 2.7979\n",
            "Epoch 11/40\n",
            "1/1 [==============================] - 0s 3ms/step - loss: 2.4064\n",
            "Epoch 12/40\n",
            "1/1 [==============================] - 0s 3ms/step - loss: 2.0941\n",
            "Epoch 13/40\n",
            "1/1 [==============================] - 0s 4ms/step - loss: 1.8443\n",
            "Epoch 14/40\n",
            "1/1 [==============================] - 0s 3ms/step - loss: 1.6437\n",
            "Epoch 15/40\n",
            "1/1 [==============================] - 0s 3ms/step - loss: 1.4819\n",
            "Epoch 16/40\n",
            "1/1 [==============================] - 0s 3ms/step - loss: 1.3508\n",
            "Epoch 17/40\n",
            "1/1 [==============================] - 0s 3ms/step - loss: 1.2438\n",
            "Epoch 18/40\n",
            "1/1 [==============================] - 0s 3ms/step - loss: 1.1559\n",
            "Epoch 19/40\n",
            "1/1 [==============================] - 0s 3ms/step - loss: 1.0831\n",
            "Epoch 20/40\n",
            "1/1 [==============================] - 0s 3ms/step - loss: 1.0223\n",
            "Epoch 21/40\n",
            "1/1 [==============================] - 0s 4ms/step - loss: 0.9710\n",
            "Epoch 22/40\n",
            "1/1 [==============================] - 0s 3ms/step - loss: 0.9271\n",
            "Epoch 23/40\n",
            "1/1 [==============================] - 0s 12ms/step - loss: 0.8893\n",
            "Epoch 24/40\n",
            "1/1 [==============================] - 0s 4ms/step - loss: 0.8562\n",
            "Epoch 25/40\n",
            "1/1 [==============================] - 0s 4ms/step - loss: 0.8270\n",
            "Epoch 26/40\n",
            "1/1 [==============================] - 0s 3ms/step - loss: 0.8009\n",
            "Epoch 27/40\n",
            "1/1 [==============================] - 0s 3ms/step - loss: 0.7772\n",
            "Epoch 28/40\n",
            "1/1 [==============================] - 0s 3ms/step - loss: 0.7556\n",
            "Epoch 29/40\n",
            "1/1 [==============================] - 0s 4ms/step - loss: 0.7356\n",
            "Epoch 30/40\n",
            "1/1 [==============================] - 0s 5ms/step - loss: 0.7170\n",
            "Epoch 31/40\n",
            "1/1 [==============================] - 0s 9ms/step - loss: 0.6995\n",
            "Epoch 32/40\n",
            "1/1 [==============================] - 0s 5ms/step - loss: 0.6830\n",
            "Epoch 33/40\n",
            "1/1 [==============================] - 0s 5ms/step - loss: 0.6673\n",
            "Epoch 34/40\n",
            "1/1 [==============================] - 0s 5ms/step - loss: 0.6522\n",
            "Epoch 35/40\n",
            "1/1 [==============================] - 0s 4ms/step - loss: 0.6378\n",
            "Epoch 36/40\n",
            "1/1 [==============================] - 0s 3ms/step - loss: 0.6238\n",
            "Epoch 37/40\n",
            "1/1 [==============================] - 0s 3ms/step - loss: 0.6104\n",
            "Epoch 38/40\n",
            "1/1 [==============================] - 0s 4ms/step - loss: 0.5973\n",
            "Epoch 39/40\n",
            "1/1 [==============================] - 0s 5ms/step - loss: 0.5846\n",
            "Epoch 40/40\n",
            "1/1 [==============================] - 0s 3ms/step - loss: 0.5723\n"
          ]
        }
      ]
    },
    {
      "cell_type": "code",
      "metadata": {
        "colab": {
          "base_uri": "https://localhost:8080/"
        },
        "id": "nKe0n2MXLntO",
        "outputId": "e0831716-4c88-4179-9591-0e7585a32387"
      },
      "source": [
        "model.predict([10.0])"
      ],
      "execution_count": 10,
      "outputs": [
        {
          "output_type": "execute_result",
          "data": {
            "text/plain": [
              "array([[16.663141]], dtype=float32)"
            ]
          },
          "metadata": {},
          "execution_count": 10
        }
      ]
    },
    {
      "cell_type": "markdown",
      "metadata": {
        "id": "4eKTF9K4Yla9"
      },
      "source": [
        "## Improving Hello World"
      ]
    },
    {
      "cell_type": "code",
      "metadata": {
        "id": "oj1dtQPKun2_"
      },
      "source": [
        "model = Sequential([\n",
        "        layers.InputLayer(input_shape=(1)),\n",
        "        layers.Dense(1),\n",
        "        layers.Dense(1)\n",
        "])"
      ],
      "execution_count": 11,
      "outputs": []
    },
    {
      "cell_type": "code",
      "metadata": {
        "colab": {
          "base_uri": "https://localhost:8080/"
        },
        "id": "bEpEmN-EYZvi",
        "outputId": "20b4e40f-b251-44f7-976a-de975aa059fc"
      },
      "source": [
        "model.summary()"
      ],
      "execution_count": 12,
      "outputs": [
        {
          "output_type": "stream",
          "name": "stdout",
          "text": [
            "Model: \"sequential_1\"\n",
            "_________________________________________________________________\n",
            "Layer (type)                 Output Shape              Param #   \n",
            "=================================================================\n",
            "dense_1 (Dense)              (None, 1)                 2         \n",
            "_________________________________________________________________\n",
            "dense_2 (Dense)              (None, 1)                 2         \n",
            "=================================================================\n",
            "Total params: 4\n",
            "Trainable params: 4\n",
            "Non-trainable params: 0\n",
            "_________________________________________________________________\n"
          ]
        }
      ]
    },
    {
      "cell_type": "code",
      "metadata": {
        "id": "HUpuYZq5YZvl"
      },
      "source": [
        "optimizer   = tf.keras.optimizers.SGD(learning_rate=0.01)\n",
        "loss        = tf.keras.losses.MeanSquaredError()"
      ],
      "execution_count": 13,
      "outputs": []
    },
    {
      "cell_type": "code",
      "metadata": {
        "id": "cJWFjNgWYZvm"
      },
      "source": [
        "model.compile(optimizer=optimizer,\n",
        "              loss=loss)"
      ],
      "execution_count": 14,
      "outputs": []
    },
    {
      "cell_type": "code",
      "metadata": {
        "id": "x_5ImV4smXkn"
      },
      "source": [
        "EPOCHS = 50"
      ],
      "execution_count": 15,
      "outputs": []
    },
    {
      "cell_type": "code",
      "metadata": {
        "colab": {
          "base_uri": "https://localhost:8080/"
        },
        "id": "lypjwxrVYZvn",
        "outputId": "3eaed406-8c8d-4680-ca6c-5e10f4a09896"
      },
      "source": [
        "history = model.fit(xs,\n",
        "                    ys,\n",
        "                    epochs = EPOCHS,\n",
        "                    verbose = 1)"
      ],
      "execution_count": 16,
      "outputs": [
        {
          "output_type": "stream",
          "name": "stdout",
          "text": [
            "Epoch 1/50\n",
            "1/1 [==============================] - 0s 209ms/step - loss: 6.1432\n",
            "Epoch 2/50\n",
            "1/1 [==============================] - 0s 4ms/step - loss: 4.5548\n",
            "Epoch 3/50\n",
            "1/1 [==============================] - 0s 4ms/step - loss: 3.2264\n",
            "Epoch 4/50\n",
            "1/1 [==============================] - 0s 4ms/step - loss: 2.2290\n",
            "Epoch 5/50\n",
            "1/1 [==============================] - 0s 2ms/step - loss: 1.5569\n",
            "Epoch 6/50\n",
            "1/1 [==============================] - 0s 4ms/step - loss: 1.1445\n",
            "Epoch 7/50\n",
            "1/1 [==============================] - 0s 3ms/step - loss: 0.9072\n",
            "Epoch 8/50\n",
            "1/1 [==============================] - 0s 4ms/step - loss: 0.7725\n",
            "Epoch 9/50\n",
            "1/1 [==============================] - 0s 3ms/step - loss: 0.6919\n",
            "Epoch 10/50\n",
            "1/1 [==============================] - 0s 7ms/step - loss: 0.6379\n",
            "Epoch 11/50\n",
            "1/1 [==============================] - 0s 4ms/step - loss: 0.5968\n",
            "Epoch 12/50\n",
            "1/1 [==============================] - 0s 3ms/step - loss: 0.5620\n",
            "Epoch 13/50\n",
            "1/1 [==============================] - 0s 3ms/step - loss: 0.5307\n",
            "Epoch 14/50\n",
            "1/1 [==============================] - 0s 3ms/step - loss: 0.5016\n",
            "Epoch 15/50\n",
            "1/1 [==============================] - 0s 3ms/step - loss: 0.4743\n",
            "Epoch 16/50\n",
            "1/1 [==============================] - 0s 3ms/step - loss: 0.4484\n",
            "Epoch 17/50\n",
            "1/1 [==============================] - 0s 3ms/step - loss: 0.4237\n",
            "Epoch 18/50\n",
            "1/1 [==============================] - 0s 3ms/step - loss: 0.4003\n",
            "Epoch 19/50\n",
            "1/1 [==============================] - 0s 3ms/step - loss: 0.3781\n",
            "Epoch 20/50\n",
            "1/1 [==============================] - 0s 4ms/step - loss: 0.3570\n",
            "Epoch 21/50\n",
            "1/1 [==============================] - 0s 3ms/step - loss: 0.3369\n",
            "Epoch 22/50\n",
            "1/1 [==============================] - 0s 3ms/step - loss: 0.3179\n",
            "Epoch 23/50\n",
            "1/1 [==============================] - 0s 3ms/step - loss: 0.2998\n",
            "Epoch 24/50\n",
            "1/1 [==============================] - 0s 4ms/step - loss: 0.2826\n",
            "Epoch 25/50\n",
            "1/1 [==============================] - 0s 4ms/step - loss: 0.2664\n",
            "Epoch 26/50\n",
            "1/1 [==============================] - 0s 6ms/step - loss: 0.2510\n",
            "Epoch 27/50\n",
            "1/1 [==============================] - 0s 3ms/step - loss: 0.2364\n",
            "Epoch 28/50\n",
            "1/1 [==============================] - 0s 3ms/step - loss: 0.2225\n",
            "Epoch 29/50\n",
            "1/1 [==============================] - 0s 3ms/step - loss: 0.2095\n",
            "Epoch 30/50\n",
            "1/1 [==============================] - 0s 3ms/step - loss: 0.1971\n",
            "Epoch 31/50\n",
            "1/1 [==============================] - 0s 12ms/step - loss: 0.1854\n",
            "Epoch 32/50\n",
            "1/1 [==============================] - 0s 5ms/step - loss: 0.1743\n",
            "Epoch 33/50\n",
            "1/1 [==============================] - 0s 4ms/step - loss: 0.1639\n",
            "Epoch 34/50\n",
            "1/1 [==============================] - 0s 4ms/step - loss: 0.1540\n",
            "Epoch 35/50\n",
            "1/1 [==============================] - 0s 6ms/step - loss: 0.1447\n",
            "Epoch 36/50\n",
            "1/1 [==============================] - 0s 5ms/step - loss: 0.1359\n",
            "Epoch 37/50\n",
            "1/1 [==============================] - 0s 4ms/step - loss: 0.1276\n",
            "Epoch 38/50\n",
            "1/1 [==============================] - 0s 4ms/step - loss: 0.1198\n",
            "Epoch 39/50\n",
            "1/1 [==============================] - 0s 5ms/step - loss: 0.1124\n",
            "Epoch 40/50\n",
            "1/1 [==============================] - 0s 6ms/step - loss: 0.1055\n",
            "Epoch 41/50\n",
            "1/1 [==============================] - 0s 4ms/step - loss: 0.0989\n",
            "Epoch 42/50\n",
            "1/1 [==============================] - 0s 6ms/step - loss: 0.0928\n",
            "Epoch 43/50\n",
            "1/1 [==============================] - 0s 4ms/step - loss: 0.0870\n",
            "Epoch 44/50\n",
            "1/1 [==============================] - 0s 3ms/step - loss: 0.0815\n",
            "Epoch 45/50\n",
            "1/1 [==============================] - 0s 4ms/step - loss: 0.0764\n",
            "Epoch 46/50\n",
            "1/1 [==============================] - 0s 4ms/step - loss: 0.0716\n",
            "Epoch 47/50\n",
            "1/1 [==============================] - 0s 4ms/step - loss: 0.0670\n",
            "Epoch 48/50\n",
            "1/1 [==============================] - 0s 5ms/step - loss: 0.0628\n",
            "Epoch 49/50\n",
            "1/1 [==============================] - 0s 4ms/step - loss: 0.0587\n",
            "Epoch 50/50\n",
            "1/1 [==============================] - 0s 3ms/step - loss: 0.0550\n"
          ]
        }
      ]
    },
    {
      "cell_type": "code",
      "metadata": {
        "colab": {
          "base_uri": "https://localhost:8080/"
        },
        "id": "OgY-rhnFYPqC",
        "outputId": "838d3f99-d2cc-4575-bbb4-8202c0ab705d"
      },
      "source": [
        "model.predict([10.0])"
      ],
      "execution_count": 17,
      "outputs": [
        {
          "output_type": "execute_result",
          "data": {
            "text/plain": [
              "array([[18.388523]], dtype=float32)"
            ]
          },
          "metadata": {},
          "execution_count": 17
        }
      ]
    },
    {
      "cell_type": "markdown",
      "metadata": {
        "id": "4LbYAm5FPM3G"
      },
      "source": [
        "## Housing model exercise"
      ]
    },
    {
      "cell_type": "markdown",
      "metadata": {
        "id": "0WPegGNePT8c"
      },
      "source": [
        "**Exercise 1**\n",
        "\n",
        "In this exercise you'll try to build a neural network that predicts the price of a house according to a simple formula.\n",
        "\n",
        "So, imagine if house pricing was as easy as a house costs 50k + 50k per bedroom, so that a 1 bedroom house costs 100k, a 2 bedroom house costs 150k etc.\n",
        "\n",
        "How would you create a neural network that learns this relationship so that it would predict a 7 bedroom house as costing close to 400k etc.\n",
        "\n",
        "Hint: Your network might work better if you scale the house price down. You don't have to give the answer 400...it might be better to create something that predicts the number 4, and then your answer is in the 'hundreds of thousands' etc."
      ]
    },
    {
      "cell_type": "code",
      "metadata": {
        "id": "9NozDwxyXUAH"
      },
      "source": [
        "def house_model(xs, ys, y_new):\n",
        "    model = Sequential([\n",
        "        layers.InputLayer(input_shape=(1)),\n",
        "        layers.Dense(1),\n",
        "        layers.Dense(1),\n",
        "        layers.Dense(1)\n",
        "    ])\n",
        "    optimizer = tf.keras.optimizers.SGD()\n",
        "    loss = tf.keras.losses.MeanSquaredError()\n",
        "    model.compile(optimizer=optimizer, loss=loss)\n",
        "    EPOCHS = 80\n",
        "    history = model.fit(xs,\n",
        "                        ys,\n",
        "                        epochs = EPOCHS,\n",
        "                        verbose = 1)\n",
        "    return model.predict(y_new)[0]"
      ],
      "execution_count": 18,
      "outputs": []
    },
    {
      "cell_type": "code",
      "metadata": {
        "colab": {
          "base_uri": "https://localhost:8080/"
        },
        "id": "AbMZ3GjcPiEo",
        "outputId": "2324890d-621b-444f-b27f-41b7514e3853"
      },
      "source": [
        "xs = np.array([1, 2, 3, 4, 5, 6, 8, 9, 10], dtype=float)\n",
        "ys = np.array([1, 1.5, 2, 2.5, 3, 3.5, 4.5, 5, 5.5], dtype=float)\n",
        "\n",
        "prediction = house_model(xs, ys, [7.0])\n",
        "print(prediction)"
      ],
      "execution_count": 19,
      "outputs": [
        {
          "output_type": "stream",
          "name": "stdout",
          "text": [
            "Epoch 1/80\n",
            "1/1 [==============================] - 0s 234ms/step - loss: 74.4788\n",
            "Epoch 2/80\n",
            "1/1 [==============================] - 0s 3ms/step - loss: 15.5465\n",
            "Epoch 3/80\n",
            "1/1 [==============================] - 0s 3ms/step - loss: 9.6486\n",
            "Epoch 4/80\n",
            "1/1 [==============================] - 0s 3ms/step - loss: 6.6116\n",
            "Epoch 5/80\n",
            "1/1 [==============================] - 0s 3ms/step - loss: 3.7345\n",
            "Epoch 6/80\n",
            "1/1 [==============================] - 0s 3ms/step - loss: 1.2969\n",
            "Epoch 7/80\n",
            "1/1 [==============================] - 0s 3ms/step - loss: 0.1574\n",
            "Epoch 8/80\n",
            "1/1 [==============================] - 0s 3ms/step - loss: 0.0043\n",
            "Epoch 9/80\n",
            "1/1 [==============================] - 0s 3ms/step - loss: 0.0022\n",
            "Epoch 10/80\n",
            "1/1 [==============================] - 0s 8ms/step - loss: 0.0022\n",
            "Epoch 11/80\n",
            "1/1 [==============================] - 0s 3ms/step - loss: 0.0021\n",
            "Epoch 12/80\n",
            "1/1 [==============================] - 0s 2ms/step - loss: 0.0021\n",
            "Epoch 13/80\n",
            "1/1 [==============================] - 0s 3ms/step - loss: 0.0020\n",
            "Epoch 14/80\n",
            "1/1 [==============================] - 0s 3ms/step - loss: 0.0020\n",
            "Epoch 15/80\n",
            "1/1 [==============================] - 0s 2ms/step - loss: 0.0019\n",
            "Epoch 16/80\n",
            "1/1 [==============================] - 0s 2ms/step - loss: 0.0019\n",
            "Epoch 17/80\n",
            "1/1 [==============================] - 0s 3ms/step - loss: 0.0019\n",
            "Epoch 18/80\n",
            "1/1 [==============================] - 0s 2ms/step - loss: 0.0018\n",
            "Epoch 19/80\n",
            "1/1 [==============================] - 0s 3ms/step - loss: 0.0018\n",
            "Epoch 20/80\n",
            "1/1 [==============================] - 0s 3ms/step - loss: 0.0018\n",
            "Epoch 21/80\n",
            "1/1 [==============================] - 0s 3ms/step - loss: 0.0017\n",
            "Epoch 22/80\n",
            "1/1 [==============================] - 0s 3ms/step - loss: 0.0017\n",
            "Epoch 23/80\n",
            "1/1 [==============================] - 0s 3ms/step - loss: 0.0016\n",
            "Epoch 24/80\n",
            "1/1 [==============================] - 0s 3ms/step - loss: 0.0016\n",
            "Epoch 25/80\n",
            "1/1 [==============================] - 0s 3ms/step - loss: 0.0016\n",
            "Epoch 26/80\n",
            "1/1 [==============================] - 0s 2ms/step - loss: 0.0015\n",
            "Epoch 27/80\n",
            "1/1 [==============================] - 0s 3ms/step - loss: 0.0015\n",
            "Epoch 28/80\n",
            "1/1 [==============================] - 0s 4ms/step - loss: 0.0015\n",
            "Epoch 29/80\n",
            "1/1 [==============================] - 0s 4ms/step - loss: 0.0015\n",
            "Epoch 30/80\n",
            "1/1 [==============================] - 0s 4ms/step - loss: 0.0014\n",
            "Epoch 31/80\n",
            "1/1 [==============================] - 0s 3ms/step - loss: 0.0014\n",
            "Epoch 32/80\n",
            "1/1 [==============================] - 0s 3ms/step - loss: 0.0014\n",
            "Epoch 33/80\n",
            "1/1 [==============================] - 0s 3ms/step - loss: 0.0013\n",
            "Epoch 34/80\n",
            "1/1 [==============================] - 0s 3ms/step - loss: 0.0013\n",
            "Epoch 35/80\n",
            "1/1 [==============================] - 0s 3ms/step - loss: 0.0013\n",
            "Epoch 36/80\n",
            "1/1 [==============================] - 0s 3ms/step - loss: 0.0013\n",
            "Epoch 37/80\n",
            "1/1 [==============================] - 0s 3ms/step - loss: 0.0012\n",
            "Epoch 38/80\n",
            "1/1 [==============================] - 0s 3ms/step - loss: 0.0012\n",
            "Epoch 39/80\n",
            "1/1 [==============================] - 0s 3ms/step - loss: 0.0012\n",
            "Epoch 40/80\n",
            "1/1 [==============================] - 0s 3ms/step - loss: 0.0012\n",
            "Epoch 41/80\n",
            "1/1 [==============================] - 0s 3ms/step - loss: 0.0011\n",
            "Epoch 42/80\n",
            "1/1 [==============================] - 0s 3ms/step - loss: 0.0011\n",
            "Epoch 43/80\n",
            "1/1 [==============================] - 0s 3ms/step - loss: 0.0011\n",
            "Epoch 44/80\n",
            "1/1 [==============================] - 0s 3ms/step - loss: 0.0011\n",
            "Epoch 45/80\n",
            "1/1 [==============================] - 0s 6ms/step - loss: 0.0010\n",
            "Epoch 46/80\n",
            "1/1 [==============================] - 0s 4ms/step - loss: 0.0010\n",
            "Epoch 47/80\n",
            "1/1 [==============================] - 0s 21ms/step - loss: 9.9685e-04\n",
            "Epoch 48/80\n",
            "1/1 [==============================] - 0s 6ms/step - loss: 9.7624e-04\n",
            "Epoch 49/80\n",
            "1/1 [==============================] - 0s 5ms/step - loss: 9.5605e-04\n",
            "Epoch 50/80\n",
            "1/1 [==============================] - 0s 4ms/step - loss: 9.3628e-04\n",
            "Epoch 51/80\n",
            "1/1 [==============================] - 0s 6ms/step - loss: 9.1693e-04\n",
            "Epoch 52/80\n",
            "1/1 [==============================] - 0s 4ms/step - loss: 8.9799e-04\n",
            "Epoch 53/80\n",
            "1/1 [==============================] - 0s 4ms/step - loss: 8.7943e-04\n",
            "Epoch 54/80\n",
            "1/1 [==============================] - 0s 5ms/step - loss: 8.6126e-04\n",
            "Epoch 55/80\n",
            "1/1 [==============================] - 0s 7ms/step - loss: 8.4347e-04\n",
            "Epoch 56/80\n",
            "1/1 [==============================] - 0s 5ms/step - loss: 8.2605e-04\n",
            "Epoch 57/80\n",
            "1/1 [==============================] - 0s 6ms/step - loss: 8.0899e-04\n",
            "Epoch 58/80\n",
            "1/1 [==============================] - 0s 7ms/step - loss: 7.9228e-04\n",
            "Epoch 59/80\n",
            "1/1 [==============================] - 0s 3ms/step - loss: 7.7592e-04\n",
            "Epoch 60/80\n",
            "1/1 [==============================] - 0s 4ms/step - loss: 7.5991e-04\n",
            "Epoch 61/80\n",
            "1/1 [==============================] - 0s 4ms/step - loss: 7.4422e-04\n",
            "Epoch 62/80\n",
            "1/1 [==============================] - 0s 5ms/step - loss: 7.2887e-04\n",
            "Epoch 63/80\n",
            "1/1 [==============================] - 0s 6ms/step - loss: 7.1382e-04\n",
            "Epoch 64/80\n",
            "1/1 [==============================] - 0s 5ms/step - loss: 6.9910e-04\n",
            "Epoch 65/80\n",
            "1/1 [==============================] - 0s 5ms/step - loss: 6.8467e-04\n",
            "Epoch 66/80\n",
            "1/1 [==============================] - 0s 3ms/step - loss: 6.7055e-04\n",
            "Epoch 67/80\n",
            "1/1 [==============================] - 0s 9ms/step - loss: 6.5673e-04\n",
            "Epoch 68/80\n",
            "1/1 [==============================] - 0s 8ms/step - loss: 6.4319e-04\n",
            "Epoch 69/80\n",
            "1/1 [==============================] - 0s 7ms/step - loss: 6.2992e-04\n",
            "Epoch 70/80\n",
            "1/1 [==============================] - 0s 5ms/step - loss: 6.1694e-04\n",
            "Epoch 71/80\n",
            "1/1 [==============================] - 0s 3ms/step - loss: 6.0422e-04\n",
            "Epoch 72/80\n",
            "1/1 [==============================] - 0s 4ms/step - loss: 5.9177e-04\n",
            "Epoch 73/80\n",
            "1/1 [==============================] - 0s 3ms/step - loss: 5.7957e-04\n",
            "Epoch 74/80\n",
            "1/1 [==============================] - 0s 4ms/step - loss: 5.6763e-04\n",
            "Epoch 75/80\n",
            "1/1 [==============================] - 0s 4ms/step - loss: 5.5593e-04\n",
            "Epoch 76/80\n",
            "1/1 [==============================] - 0s 4ms/step - loss: 5.4448e-04\n",
            "Epoch 77/80\n",
            "1/1 [==============================] - 0s 5ms/step - loss: 5.3326e-04\n",
            "Epoch 78/80\n",
            "1/1 [==============================] - 0s 3ms/step - loss: 5.2228e-04\n",
            "Epoch 79/80\n",
            "1/1 [==============================] - 0s 3ms/step - loss: 5.1153e-04\n",
            "Epoch 80/80\n",
            "1/1 [==============================] - 0s 3ms/step - loss: 5.0099e-04\n",
            "[4.000542]\n"
          ]
        }
      ]
    }
  ]
}