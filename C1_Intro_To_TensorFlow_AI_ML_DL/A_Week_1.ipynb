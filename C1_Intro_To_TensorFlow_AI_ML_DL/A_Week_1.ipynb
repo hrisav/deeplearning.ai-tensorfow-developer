{
  "nbformat": 4,
  "nbformat_minor": 0,
  "metadata": {
    "colab": {
      "name": "A_Week_1.ipynb",
      "provenance": [],
      "toc_visible": true
    },
    "kernelspec": {
      "name": "python3",
      "display_name": "Python 3"
    },
    "language_info": {
      "name": "python"
    }
  },
  "cells": [
    {
      "cell_type": "markdown",
      "metadata": {
        "id": "0s5kUh_qK1k0"
      },
      "source": [
        "## Hello World of Deep Learning"
      ]
    },
    {
      "cell_type": "code",
      "metadata": {
        "id": "Qo9ojJ6dKV9A"
      },
      "source": [
        "import tensorflow as tf\n",
        "import numpy as np\n",
        "from tensorflow import keras"
      ],
      "execution_count": null,
      "outputs": []
    },
    {
      "cell_type": "code",
      "metadata": {
        "id": "69DIFWacK2pW"
      },
      "source": [
        "# model has 1 layer, and that layer has 1 neuron, and the input shape to it is just 1 value\n",
        "\n",
        "model = tf.keras.Sequential([keras.layers.Dense(units=1, input_shape=[1])])\n",
        "model.compile(optimizer='sgd', loss='mean_squared_error')"
      ],
      "execution_count": null,
      "outputs": []
    },
    {
      "cell_type": "code",
      "metadata": {
        "colab": {
          "base_uri": "https://localhost:8080/"
        },
        "id": "nsNM-UZXLYPz",
        "outputId": "d18fae42-3ddf-4ecb-a33a-3a138b38f964"
      },
      "source": [
        "# in our function, the relationship between the numbers is y=2x-1\n",
        "\n",
        "xs = np.array([-1.0,  0.0, 1.0, 2.0, 3.0, 4.0], dtype=float)\n",
        "ys = np.array([-3.0, -1.0, 1.0, 3.0, 5.0, 7.0], dtype=float)\n",
        "\n",
        "model.fit(xs, ys, epochs=40)"
      ],
      "execution_count": null,
      "outputs": [
        {
          "output_type": "stream",
          "text": [
            "Epoch 1/40\n",
            "1/1 [==============================] - 0s 258ms/step - loss: 3.5953\n",
            "Epoch 2/40\n",
            "1/1 [==============================] - 0s 4ms/step - loss: 2.9905\n",
            "Epoch 3/40\n",
            "1/1 [==============================] - 0s 8ms/step - loss: 2.5114\n",
            "Epoch 4/40\n",
            "1/1 [==============================] - 0s 4ms/step - loss: 2.1312\n",
            "Epoch 5/40\n",
            "1/1 [==============================] - 0s 6ms/step - loss: 1.8289\n",
            "Epoch 6/40\n",
            "1/1 [==============================] - 0s 4ms/step - loss: 1.5879\n",
            "Epoch 7/40\n",
            "1/1 [==============================] - 0s 4ms/step - loss: 1.3953\n",
            "Epoch 8/40\n",
            "1/1 [==============================] - 0s 3ms/step - loss: 1.2407\n",
            "Epoch 9/40\n",
            "1/1 [==============================] - 0s 3ms/step - loss: 1.1162\n",
            "Epoch 10/40\n",
            "1/1 [==============================] - 0s 3ms/step - loss: 1.0153\n",
            "Epoch 11/40\n",
            "1/1 [==============================] - 0s 3ms/step - loss: 0.9332\n",
            "Epoch 12/40\n",
            "1/1 [==============================] - 0s 5ms/step - loss: 0.8658\n",
            "Epoch 13/40\n",
            "1/1 [==============================] - 0s 5ms/step - loss: 0.8100\n",
            "Epoch 14/40\n",
            "1/1 [==============================] - 0s 3ms/step - loss: 0.7635\n",
            "Epoch 15/40\n",
            "1/1 [==============================] - 0s 4ms/step - loss: 0.7244\n",
            "Epoch 16/40\n",
            "1/1 [==============================] - 0s 3ms/step - loss: 0.6910\n",
            "Epoch 17/40\n",
            "1/1 [==============================] - 0s 3ms/step - loss: 0.6623\n",
            "Epoch 18/40\n",
            "1/1 [==============================] - 0s 3ms/step - loss: 0.6372\n",
            "Epoch 19/40\n",
            "1/1 [==============================] - 0s 3ms/step - loss: 0.6151\n",
            "Epoch 20/40\n",
            "1/1 [==============================] - 0s 3ms/step - loss: 0.5954\n",
            "Epoch 21/40\n",
            "1/1 [==============================] - 0s 4ms/step - loss: 0.5776\n",
            "Epoch 22/40\n",
            "1/1 [==============================] - 0s 8ms/step - loss: 0.5614\n",
            "Epoch 23/40\n",
            "1/1 [==============================] - 0s 4ms/step - loss: 0.5464\n",
            "Epoch 24/40\n",
            "1/1 [==============================] - 0s 3ms/step - loss: 0.5325\n",
            "Epoch 25/40\n",
            "1/1 [==============================] - 0s 3ms/step - loss: 0.5194\n",
            "Epoch 26/40\n",
            "1/1 [==============================] - 0s 3ms/step - loss: 0.5070\n",
            "Epoch 27/40\n",
            "1/1 [==============================] - 0s 3ms/step - loss: 0.4953\n",
            "Epoch 28/40\n",
            "1/1 [==============================] - 0s 3ms/step - loss: 0.4841\n",
            "Epoch 29/40\n",
            "1/1 [==============================] - 0s 3ms/step - loss: 0.4733\n",
            "Epoch 30/40\n",
            "1/1 [==============================] - 0s 4ms/step - loss: 0.4630\n",
            "Epoch 31/40\n",
            "1/1 [==============================] - 0s 6ms/step - loss: 0.4529\n",
            "Epoch 32/40\n",
            "1/1 [==============================] - 0s 4ms/step - loss: 0.4432\n",
            "Epoch 33/40\n",
            "1/1 [==============================] - 0s 5ms/step - loss: 0.4338\n",
            "Epoch 34/40\n",
            "1/1 [==============================] - 0s 4ms/step - loss: 0.4247\n",
            "Epoch 35/40\n",
            "1/1 [==============================] - 0s 4ms/step - loss: 0.4158\n",
            "Epoch 36/40\n",
            "1/1 [==============================] - 0s 7ms/step - loss: 0.4071\n",
            "Epoch 37/40\n",
            "1/1 [==============================] - 0s 4ms/step - loss: 0.3986\n",
            "Epoch 38/40\n",
            "1/1 [==============================] - 0s 3ms/step - loss: 0.3903\n",
            "Epoch 39/40\n",
            "1/1 [==============================] - 0s 3ms/step - loss: 0.3822\n",
            "Epoch 40/40\n",
            "1/1 [==============================] - 0s 3ms/step - loss: 0.3743\n"
          ],
          "name": "stdout"
        },
        {
          "output_type": "execute_result",
          "data": {
            "text/plain": [
              "<tensorflow.python.keras.callbacks.History at 0x7f0a3c7e55d0>"
            ]
          },
          "metadata": {
            "tags": []
          },
          "execution_count": 3
        }
      ]
    },
    {
      "cell_type": "code",
      "metadata": {
        "colab": {
          "base_uri": "https://localhost:8080/"
        },
        "id": "nKe0n2MXLntO",
        "outputId": "6f12e169-2491-4ca2-f3bb-a08e4b3d084d"
      },
      "source": [
        "print(model.predict([10.0]))"
      ],
      "execution_count": null,
      "outputs": [
        {
          "output_type": "stream",
          "text": [
            "[[17.158968]]\n"
          ],
          "name": "stdout"
        }
      ]
    },
    {
      "cell_type": "markdown",
      "metadata": {
        "id": "4LbYAm5FPM3G"
      },
      "source": [
        "## Housing model exercise"
      ]
    },
    {
      "cell_type": "markdown",
      "metadata": {
        "id": "0WPegGNePT8c"
      },
      "source": [
        "**Exercise 1**\n",
        "\n",
        "In this exercise you'll try to build a neural network that predicts the price of a house according to a simple formula.\n",
        "\n",
        "So, imagine if house pricing was as easy as a house costs 50k + 50k per bedroom, so that a 1 bedroom house costs 100k, a 2 bedroom house costs 150k etc.\n",
        "\n",
        "How would you create a neural network that learns this relationship so that it would predict a 7 bedroom house as costing close to 400k etc.\n",
        "\n",
        "Hint: Your network might work better if you scale the house price down. You don't have to give the answer 400...it might be better to create something that predicts the number 4, and then your answer is in the 'hundreds of thousands' etc."
      ]
    },
    {
      "cell_type": "code",
      "metadata": {
        "id": "YjErUbKmL2xf"
      },
      "source": [
        "def house_model(xs, ys, y_new):\n",
        "    model = tf.keras.Sequential([keras.layers.Dense(units=1, input_shape=[1])])\n",
        "    model.compile(optimizer='sgd', loss='mean_squared_error')\n",
        "    model.fit(xs, ys, epochs=30)\n",
        "    return model.predict(y_new)[0]"
      ],
      "execution_count": null,
      "outputs": []
    },
    {
      "cell_type": "code",
      "metadata": {
        "colab": {
          "base_uri": "https://localhost:8080/"
        },
        "id": "AbMZ3GjcPiEo",
        "outputId": "3b283d97-8a8e-4aab-cc81-c507ff02b5f3"
      },
      "source": [
        "xs = np.array([1, 2, 3, 4, 5, 6, 8, 9, 10], dtype=float)\n",
        "ys = np.array([1, 1.5, 2, 2.5, 3, 3.5, 4.5, 5, 5.5], dtype=float)\n",
        "\n",
        "prediction = house_model(xs, ys, [7.0])\n",
        "print(prediction)"
      ],
      "execution_count": null,
      "outputs": [
        {
          "output_type": "stream",
          "text": [
            "Epoch 1/30\n",
            "1/1 [==============================] - 0s 216ms/step - loss: 158.9694\n",
            "Epoch 2/30\n",
            "1/1 [==============================] - 0s 6ms/step - loss: 9.0144\n",
            "Epoch 3/30\n",
            "1/1 [==============================] - 0s 5ms/step - loss: 0.5203\n",
            "Epoch 4/30\n",
            "1/1 [==============================] - 0s 6ms/step - loss: 0.0390\n",
            "Epoch 5/30\n",
            "1/1 [==============================] - 0s 8ms/step - loss: 0.0117\n",
            "Epoch 6/30\n",
            "1/1 [==============================] - 0s 7ms/step - loss: 0.0101\n",
            "Epoch 7/30\n",
            "1/1 [==============================] - 0s 6ms/step - loss: 0.0099\n",
            "Epoch 8/30\n",
            "1/1 [==============================] - 0s 5ms/step - loss: 0.0098\n",
            "Epoch 9/30\n",
            "1/1 [==============================] - 0s 4ms/step - loss: 0.0097\n",
            "Epoch 10/30\n",
            "1/1 [==============================] - 0s 5ms/step - loss: 0.0096\n",
            "Epoch 11/30\n",
            "1/1 [==============================] - 0s 3ms/step - loss: 0.0095\n",
            "Epoch 12/30\n",
            "1/1 [==============================] - 0s 3ms/step - loss: 0.0094\n",
            "Epoch 13/30\n",
            "1/1 [==============================] - 0s 3ms/step - loss: 0.0093\n",
            "Epoch 14/30\n",
            "1/1 [==============================] - 0s 3ms/step - loss: 0.0092\n",
            "Epoch 15/30\n",
            "1/1 [==============================] - 0s 4ms/step - loss: 0.0092\n",
            "Epoch 16/30\n",
            "1/1 [==============================] - 0s 4ms/step - loss: 0.0091\n",
            "Epoch 17/30\n",
            "1/1 [==============================] - 0s 4ms/step - loss: 0.0090\n",
            "Epoch 18/30\n",
            "1/1 [==============================] - 0s 5ms/step - loss: 0.0089\n",
            "Epoch 19/30\n",
            "1/1 [==============================] - 0s 6ms/step - loss: 0.0088\n",
            "Epoch 20/30\n",
            "1/1 [==============================] - 0s 3ms/step - loss: 0.0087\n",
            "Epoch 21/30\n",
            "1/1 [==============================] - 0s 3ms/step - loss: 0.0087\n",
            "Epoch 22/30\n",
            "1/1 [==============================] - 0s 6ms/step - loss: 0.0086\n",
            "Epoch 23/30\n",
            "1/1 [==============================] - 0s 3ms/step - loss: 0.0085\n",
            "Epoch 24/30\n",
            "1/1 [==============================] - 0s 4ms/step - loss: 0.0084\n",
            "Epoch 25/30\n",
            "1/1 [==============================] - 0s 3ms/step - loss: 0.0083\n",
            "Epoch 26/30\n",
            "1/1 [==============================] - 0s 3ms/step - loss: 0.0083\n",
            "Epoch 27/30\n",
            "1/1 [==============================] - 0s 3ms/step - loss: 0.0082\n",
            "Epoch 28/30\n",
            "1/1 [==============================] - 0s 4ms/step - loss: 0.0081\n",
            "Epoch 29/30\n",
            "1/1 [==============================] - 0s 3ms/step - loss: 0.0080\n",
            "Epoch 30/30\n",
            "1/1 [==============================] - 0s 38ms/step - loss: 0.0080\n",
            "[4.0011444]\n"
          ],
          "name": "stdout"
        }
      ]
    }
  ]
}