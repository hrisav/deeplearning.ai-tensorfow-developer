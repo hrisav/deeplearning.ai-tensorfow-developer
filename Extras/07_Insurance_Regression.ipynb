{
  "nbformat": 4,
  "nbformat_minor": 0,
  "metadata": {
    "colab": {
      "name": "07_Regression_Insurance.ipynb",
      "provenance": [],
      "toc_visible": true
    },
    "kernelspec": {
      "name": "python3",
      "display_name": "Python 3"
    },
    "language_info": {
      "name": "python"
    }
  },
  "cells": [
    {
      "cell_type": "markdown",
      "metadata": {
        "id": "3keiNE_P9QqG"
      },
      "source": [
        "## Predict cost of Insurance"
      ]
    },
    {
      "cell_type": "markdown",
      "metadata": {
        "id": "gIuytKDMocoU"
      },
      "source": [
        "Predict the cost of medical insurance for an individual given their demographics (age, sex, gender, race)."
      ]
    },
    {
      "cell_type": "code",
      "metadata": {
        "id": "Fe239k1AodV-"
      },
      "source": [
        "import tensorflow as tf\n",
        "from tensorflow.keras.models import Sequential\n",
        "from tensorflow.keras import layers\n",
        "import pandas as pd\n",
        "import matplotlib.pyplot as plt"
      ],
      "execution_count": 1,
      "outputs": []
    },
    {
      "cell_type": "code",
      "metadata": {
        "id": "MCeMTur1oodY"
      },
      "source": [
        "insurance = pd.read_csv(\"https://raw.githubusercontent.com/stedy/Machine-Learning-with-R-datasets/master/insurance.csv\")"
      ],
      "execution_count": 2,
      "outputs": []
    },
    {
      "cell_type": "code",
      "metadata": {
        "colab": {
          "base_uri": "https://localhost:8080/",
          "height": 206
        },
        "id": "hpMK17Ozoof8",
        "outputId": "31984448-5a0d-412a-8e6b-193b465fa3c5"
      },
      "source": [
        "insurance.head()"
      ],
      "execution_count": 3,
      "outputs": [
        {
          "output_type": "execute_result",
          "data": {
            "text/html": [
              "<div>\n",
              "<style scoped>\n",
              "    .dataframe tbody tr th:only-of-type {\n",
              "        vertical-align: middle;\n",
              "    }\n",
              "\n",
              "    .dataframe tbody tr th {\n",
              "        vertical-align: top;\n",
              "    }\n",
              "\n",
              "    .dataframe thead th {\n",
              "        text-align: right;\n",
              "    }\n",
              "</style>\n",
              "<table border=\"1\" class=\"dataframe\">\n",
              "  <thead>\n",
              "    <tr style=\"text-align: right;\">\n",
              "      <th></th>\n",
              "      <th>age</th>\n",
              "      <th>sex</th>\n",
              "      <th>bmi</th>\n",
              "      <th>children</th>\n",
              "      <th>smoker</th>\n",
              "      <th>region</th>\n",
              "      <th>charges</th>\n",
              "    </tr>\n",
              "  </thead>\n",
              "  <tbody>\n",
              "    <tr>\n",
              "      <th>0</th>\n",
              "      <td>19</td>\n",
              "      <td>female</td>\n",
              "      <td>27.900</td>\n",
              "      <td>0</td>\n",
              "      <td>yes</td>\n",
              "      <td>southwest</td>\n",
              "      <td>16884.92400</td>\n",
              "    </tr>\n",
              "    <tr>\n",
              "      <th>1</th>\n",
              "      <td>18</td>\n",
              "      <td>male</td>\n",
              "      <td>33.770</td>\n",
              "      <td>1</td>\n",
              "      <td>no</td>\n",
              "      <td>southeast</td>\n",
              "      <td>1725.55230</td>\n",
              "    </tr>\n",
              "    <tr>\n",
              "      <th>2</th>\n",
              "      <td>28</td>\n",
              "      <td>male</td>\n",
              "      <td>33.000</td>\n",
              "      <td>3</td>\n",
              "      <td>no</td>\n",
              "      <td>southeast</td>\n",
              "      <td>4449.46200</td>\n",
              "    </tr>\n",
              "    <tr>\n",
              "      <th>3</th>\n",
              "      <td>33</td>\n",
              "      <td>male</td>\n",
              "      <td>22.705</td>\n",
              "      <td>0</td>\n",
              "      <td>no</td>\n",
              "      <td>northwest</td>\n",
              "      <td>21984.47061</td>\n",
              "    </tr>\n",
              "    <tr>\n",
              "      <th>4</th>\n",
              "      <td>32</td>\n",
              "      <td>male</td>\n",
              "      <td>28.880</td>\n",
              "      <td>0</td>\n",
              "      <td>no</td>\n",
              "      <td>northwest</td>\n",
              "      <td>3866.85520</td>\n",
              "    </tr>\n",
              "  </tbody>\n",
              "</table>\n",
              "</div>"
            ],
            "text/plain": [
              "   age     sex     bmi  children smoker     region      charges\n",
              "0   19  female  27.900         0    yes  southwest  16884.92400\n",
              "1   18    male  33.770         1     no  southeast   1725.55230\n",
              "2   28    male  33.000         3     no  southeast   4449.46200\n",
              "3   33    male  22.705         0     no  northwest  21984.47061\n",
              "4   32    male  28.880         0     no  northwest   3866.85520"
            ]
          },
          "metadata": {},
          "execution_count": 3
        }
      ]
    },
    {
      "cell_type": "code",
      "metadata": {
        "colab": {
          "base_uri": "https://localhost:8080/"
        },
        "id": "CbJlICol8NjK",
        "outputId": "fcae9122-5f54-497f-db08-141b29e3f89e"
      },
      "source": [
        "insurance.shape"
      ],
      "execution_count": 4,
      "outputs": [
        {
          "output_type": "execute_result",
          "data": {
            "text/plain": [
              "(1338, 7)"
            ]
          },
          "metadata": {},
          "execution_count": 4
        }
      ]
    },
    {
      "cell_type": "code",
      "metadata": {
        "colab": {
          "base_uri": "https://localhost:8080/",
          "height": 226
        },
        "id": "CfT7tzg7ooia",
        "outputId": "1487d1c5-7ddd-4eb4-8a92-5813f9512396"
      },
      "source": [
        "# non-numerical columns into numbers\n",
        "\n",
        "insurance_one_hot = pd.get_dummies(insurance)\n",
        "insurance_one_hot.head()"
      ],
      "execution_count": 5,
      "outputs": [
        {
          "output_type": "execute_result",
          "data": {
            "text/html": [
              "<div>\n",
              "<style scoped>\n",
              "    .dataframe tbody tr th:only-of-type {\n",
              "        vertical-align: middle;\n",
              "    }\n",
              "\n",
              "    .dataframe tbody tr th {\n",
              "        vertical-align: top;\n",
              "    }\n",
              "\n",
              "    .dataframe thead th {\n",
              "        text-align: right;\n",
              "    }\n",
              "</style>\n",
              "<table border=\"1\" class=\"dataframe\">\n",
              "  <thead>\n",
              "    <tr style=\"text-align: right;\">\n",
              "      <th></th>\n",
              "      <th>age</th>\n",
              "      <th>bmi</th>\n",
              "      <th>children</th>\n",
              "      <th>charges</th>\n",
              "      <th>sex_female</th>\n",
              "      <th>sex_male</th>\n",
              "      <th>smoker_no</th>\n",
              "      <th>smoker_yes</th>\n",
              "      <th>region_northeast</th>\n",
              "      <th>region_northwest</th>\n",
              "      <th>region_southeast</th>\n",
              "      <th>region_southwest</th>\n",
              "    </tr>\n",
              "  </thead>\n",
              "  <tbody>\n",
              "    <tr>\n",
              "      <th>0</th>\n",
              "      <td>19</td>\n",
              "      <td>27.900</td>\n",
              "      <td>0</td>\n",
              "      <td>16884.92400</td>\n",
              "      <td>1</td>\n",
              "      <td>0</td>\n",
              "      <td>0</td>\n",
              "      <td>1</td>\n",
              "      <td>0</td>\n",
              "      <td>0</td>\n",
              "      <td>0</td>\n",
              "      <td>1</td>\n",
              "    </tr>\n",
              "    <tr>\n",
              "      <th>1</th>\n",
              "      <td>18</td>\n",
              "      <td>33.770</td>\n",
              "      <td>1</td>\n",
              "      <td>1725.55230</td>\n",
              "      <td>0</td>\n",
              "      <td>1</td>\n",
              "      <td>1</td>\n",
              "      <td>0</td>\n",
              "      <td>0</td>\n",
              "      <td>0</td>\n",
              "      <td>1</td>\n",
              "      <td>0</td>\n",
              "    </tr>\n",
              "    <tr>\n",
              "      <th>2</th>\n",
              "      <td>28</td>\n",
              "      <td>33.000</td>\n",
              "      <td>3</td>\n",
              "      <td>4449.46200</td>\n",
              "      <td>0</td>\n",
              "      <td>1</td>\n",
              "      <td>1</td>\n",
              "      <td>0</td>\n",
              "      <td>0</td>\n",
              "      <td>0</td>\n",
              "      <td>1</td>\n",
              "      <td>0</td>\n",
              "    </tr>\n",
              "    <tr>\n",
              "      <th>3</th>\n",
              "      <td>33</td>\n",
              "      <td>22.705</td>\n",
              "      <td>0</td>\n",
              "      <td>21984.47061</td>\n",
              "      <td>0</td>\n",
              "      <td>1</td>\n",
              "      <td>1</td>\n",
              "      <td>0</td>\n",
              "      <td>0</td>\n",
              "      <td>1</td>\n",
              "      <td>0</td>\n",
              "      <td>0</td>\n",
              "    </tr>\n",
              "    <tr>\n",
              "      <th>4</th>\n",
              "      <td>32</td>\n",
              "      <td>28.880</td>\n",
              "      <td>0</td>\n",
              "      <td>3866.85520</td>\n",
              "      <td>0</td>\n",
              "      <td>1</td>\n",
              "      <td>1</td>\n",
              "      <td>0</td>\n",
              "      <td>0</td>\n",
              "      <td>1</td>\n",
              "      <td>0</td>\n",
              "      <td>0</td>\n",
              "    </tr>\n",
              "  </tbody>\n",
              "</table>\n",
              "</div>"
            ],
            "text/plain": [
              "   age     bmi  children  ...  region_northwest  region_southeast  region_southwest\n",
              "0   19  27.900         0  ...                 0                 0                 1\n",
              "1   18  33.770         1  ...                 0                 1                 0\n",
              "2   28  33.000         3  ...                 0                 1                 0\n",
              "3   33  22.705         0  ...                 1                 0                 0\n",
              "4   32  28.880         0  ...                 1                 0                 0\n",
              "\n",
              "[5 rows x 12 columns]"
            ]
          },
          "metadata": {},
          "execution_count": 5
        }
      ]
    },
    {
      "cell_type": "code",
      "metadata": {
        "id": "09vjP-lnook-"
      },
      "source": [
        "X = insurance_one_hot.drop('charges', axis=1)\n",
        "y = insurance_one_hot['charges']"
      ],
      "execution_count": 6,
      "outputs": []
    },
    {
      "cell_type": "code",
      "metadata": {
        "id": "wS65ZAkYpLL7"
      },
      "source": [
        "from sklearn.model_selection import train_test_split\n",
        "\n",
        "X_train, X_test, y_train, y_test = train_test_split(X, y, \n",
        "                                                    test_size=0.2, \n",
        "                                                    random_state=42)"
      ],
      "execution_count": 7,
      "outputs": []
    },
    {
      "cell_type": "code",
      "metadata": {
        "colab": {
          "base_uri": "https://localhost:8080/"
        },
        "id": "4mo3gkCt8RA3",
        "outputId": "e0be1599-b425-4880-8c89-ba2bf3f3ca4d"
      },
      "source": [
        "X_train.shape, X_test.shape, y_train.shape, y_test.shape"
      ],
      "execution_count": 8,
      "outputs": [
        {
          "output_type": "execute_result",
          "data": {
            "text/plain": [
              "((1070, 11), (268, 11), (1070,), (268,))"
            ]
          },
          "metadata": {},
          "execution_count": 8
        }
      ]
    },
    {
      "cell_type": "code",
      "metadata": {
        "colab": {
          "base_uri": "https://localhost:8080/",
          "height": 206
        },
        "id": "RtTf4rXE5axH",
        "outputId": "e356274e-3e4f-4f6f-e5c5-227f0d237257"
      },
      "source": [
        "X_train.head()"
      ],
      "execution_count": 9,
      "outputs": [
        {
          "output_type": "execute_result",
          "data": {
            "text/html": [
              "<div>\n",
              "<style scoped>\n",
              "    .dataframe tbody tr th:only-of-type {\n",
              "        vertical-align: middle;\n",
              "    }\n",
              "\n",
              "    .dataframe tbody tr th {\n",
              "        vertical-align: top;\n",
              "    }\n",
              "\n",
              "    .dataframe thead th {\n",
              "        text-align: right;\n",
              "    }\n",
              "</style>\n",
              "<table border=\"1\" class=\"dataframe\">\n",
              "  <thead>\n",
              "    <tr style=\"text-align: right;\">\n",
              "      <th></th>\n",
              "      <th>age</th>\n",
              "      <th>bmi</th>\n",
              "      <th>children</th>\n",
              "      <th>sex_female</th>\n",
              "      <th>sex_male</th>\n",
              "      <th>smoker_no</th>\n",
              "      <th>smoker_yes</th>\n",
              "      <th>region_northeast</th>\n",
              "      <th>region_northwest</th>\n",
              "      <th>region_southeast</th>\n",
              "      <th>region_southwest</th>\n",
              "    </tr>\n",
              "  </thead>\n",
              "  <tbody>\n",
              "    <tr>\n",
              "      <th>560</th>\n",
              "      <td>46</td>\n",
              "      <td>19.95</td>\n",
              "      <td>2</td>\n",
              "      <td>1</td>\n",
              "      <td>0</td>\n",
              "      <td>1</td>\n",
              "      <td>0</td>\n",
              "      <td>0</td>\n",
              "      <td>1</td>\n",
              "      <td>0</td>\n",
              "      <td>0</td>\n",
              "    </tr>\n",
              "    <tr>\n",
              "      <th>1285</th>\n",
              "      <td>47</td>\n",
              "      <td>24.32</td>\n",
              "      <td>0</td>\n",
              "      <td>1</td>\n",
              "      <td>0</td>\n",
              "      <td>1</td>\n",
              "      <td>0</td>\n",
              "      <td>1</td>\n",
              "      <td>0</td>\n",
              "      <td>0</td>\n",
              "      <td>0</td>\n",
              "    </tr>\n",
              "    <tr>\n",
              "      <th>1142</th>\n",
              "      <td>52</td>\n",
              "      <td>24.86</td>\n",
              "      <td>0</td>\n",
              "      <td>1</td>\n",
              "      <td>0</td>\n",
              "      <td>1</td>\n",
              "      <td>0</td>\n",
              "      <td>0</td>\n",
              "      <td>0</td>\n",
              "      <td>1</td>\n",
              "      <td>0</td>\n",
              "    </tr>\n",
              "    <tr>\n",
              "      <th>969</th>\n",
              "      <td>39</td>\n",
              "      <td>34.32</td>\n",
              "      <td>5</td>\n",
              "      <td>1</td>\n",
              "      <td>0</td>\n",
              "      <td>1</td>\n",
              "      <td>0</td>\n",
              "      <td>0</td>\n",
              "      <td>0</td>\n",
              "      <td>1</td>\n",
              "      <td>0</td>\n",
              "    </tr>\n",
              "    <tr>\n",
              "      <th>486</th>\n",
              "      <td>54</td>\n",
              "      <td>21.47</td>\n",
              "      <td>3</td>\n",
              "      <td>1</td>\n",
              "      <td>0</td>\n",
              "      <td>1</td>\n",
              "      <td>0</td>\n",
              "      <td>0</td>\n",
              "      <td>1</td>\n",
              "      <td>0</td>\n",
              "      <td>0</td>\n",
              "    </tr>\n",
              "  </tbody>\n",
              "</table>\n",
              "</div>"
            ],
            "text/plain": [
              "      age    bmi  ...  region_southeast  region_southwest\n",
              "560    46  19.95  ...                 0                 0\n",
              "1285   47  24.32  ...                 0                 0\n",
              "1142   52  24.86  ...                 1                 0\n",
              "969    39  34.32  ...                 1                 0\n",
              "486    54  21.47  ...                 0                 0\n",
              "\n",
              "[5 rows x 11 columns]"
            ]
          },
          "metadata": {},
          "execution_count": 9
        }
      ]
    },
    {
      "cell_type": "code",
      "metadata": {
        "id": "N6E_lGD2pSkx"
      },
      "source": [
        "tf.random.set_seed(42)"
      ],
      "execution_count": 10,
      "outputs": []
    },
    {
      "cell_type": "code",
      "metadata": {
        "id": "Rx4_1sWe4wca"
      },
      "source": [
        "model = Sequential([\n",
        "    layers.Dense(100, input_shape=[11]),            # 11 features so input_shape is 11\n",
        "    layers.Dense(50),\n",
        "    layers.Dense(1)\n",
        "])"
      ],
      "execution_count": 11,
      "outputs": []
    },
    {
      "cell_type": "code",
      "metadata": {
        "id": "w5bDXRMW4we9"
      },
      "source": [
        "optimizer   = tf.keras.optimizers.Adam()\n",
        "loss        = tf.keras.losses.MeanAbsoluteError()"
      ],
      "execution_count": 12,
      "outputs": []
    },
    {
      "cell_type": "code",
      "metadata": {
        "id": "MVFDmj_v4wj0"
      },
      "source": [
        "model.compile(optimizer=optimizer,\n",
        "              loss=loss)"
      ],
      "execution_count": 13,
      "outputs": []
    },
    {
      "cell_type": "code",
      "metadata": {
        "id": "g8cF7joT4wm7"
      },
      "source": [
        "epochs = 200"
      ],
      "execution_count": 14,
      "outputs": []
    },
    {
      "cell_type": "code",
      "metadata": {
        "colab": {
          "base_uri": "https://localhost:8080/"
        },
        "id": "N0wajNq95udM",
        "outputId": "f2782bdf-1fc5-47f6-f94b-8f7f01c1fa6a"
      },
      "source": [
        "history = model.fit(X_train, y_train, epochs=epochs, verbose=1)"
      ],
      "execution_count": 15,
      "outputs": [
        {
          "output_type": "stream",
          "name": "stdout",
          "text": [
            "Epoch 1/200\n",
            "34/34 [==============================] - 0s 1ms/step - loss: 13226.0586\n",
            "Epoch 2/200\n",
            "34/34 [==============================] - 0s 1ms/step - loss: 12759.5791\n",
            "Epoch 3/200\n",
            "34/34 [==============================] - 0s 1ms/step - loss: 11512.4609\n",
            "Epoch 4/200\n",
            "34/34 [==============================] - 0s 1ms/step - loss: 9273.3809\n",
            "Epoch 5/200\n",
            "34/34 [==============================] - 0s 1ms/step - loss: 7611.5620\n",
            "Epoch 6/200\n",
            "34/34 [==============================] - 0s 1ms/step - loss: 7403.2988\n",
            "Epoch 7/200\n",
            "34/34 [==============================] - 0s 1ms/step - loss: 7370.0552\n",
            "Epoch 8/200\n",
            "34/34 [==============================] - 0s 1ms/step - loss: 7337.6436\n",
            "Epoch 9/200\n",
            "34/34 [==============================] - 0s 1ms/step - loss: 7304.6719\n",
            "Epoch 10/200\n",
            "34/34 [==============================] - 0s 1ms/step - loss: 7273.1450\n",
            "Epoch 11/200\n",
            "34/34 [==============================] - 0s 2ms/step - loss: 7243.7998\n",
            "Epoch 12/200\n",
            "34/34 [==============================] - 0s 1ms/step - loss: 7204.7651\n",
            "Epoch 13/200\n",
            "34/34 [==============================] - 0s 1ms/step - loss: 7167.6216\n",
            "Epoch 14/200\n",
            "34/34 [==============================] - 0s 3ms/step - loss: 7127.2070\n",
            "Epoch 15/200\n",
            "34/34 [==============================] - 0s 2ms/step - loss: 7091.2954\n",
            "Epoch 16/200\n",
            "34/34 [==============================] - 0s 1ms/step - loss: 7049.1899\n",
            "Epoch 17/200\n",
            "34/34 [==============================] - 0s 1ms/step - loss: 7010.7935\n",
            "Epoch 18/200\n",
            "34/34 [==============================] - 0s 1ms/step - loss: 6962.5913\n",
            "Epoch 19/200\n",
            "34/34 [==============================] - 0s 2ms/step - loss: 6917.8306\n",
            "Epoch 20/200\n",
            "34/34 [==============================] - 0s 2ms/step - loss: 6870.4712\n",
            "Epoch 21/200\n",
            "34/34 [==============================] - 0s 1ms/step - loss: 6826.7905\n",
            "Epoch 22/200\n",
            "34/34 [==============================] - 0s 1ms/step - loss: 6778.5645\n",
            "Epoch 23/200\n",
            "34/34 [==============================] - 0s 1ms/step - loss: 6723.3921\n",
            "Epoch 24/200\n",
            "34/34 [==============================] - 0s 1ms/step - loss: 6670.8936\n",
            "Epoch 25/200\n",
            "34/34 [==============================] - 0s 1ms/step - loss: 6626.4575\n",
            "Epoch 26/200\n",
            "34/34 [==============================] - 0s 1ms/step - loss: 6578.0298\n",
            "Epoch 27/200\n",
            "34/34 [==============================] - 0s 1ms/step - loss: 6541.9814\n",
            "Epoch 28/200\n",
            "34/34 [==============================] - 0s 1ms/step - loss: 6508.4785\n",
            "Epoch 29/200\n",
            "34/34 [==============================] - 0s 1ms/step - loss: 6484.9482\n",
            "Epoch 30/200\n",
            "34/34 [==============================] - 0s 1ms/step - loss: 6468.9380\n",
            "Epoch 31/200\n",
            "34/34 [==============================] - 0s 1ms/step - loss: 6444.5083\n",
            "Epoch 32/200\n",
            "34/34 [==============================] - 0s 1ms/step - loss: 6426.9590\n",
            "Epoch 33/200\n",
            "34/34 [==============================] - 0s 1ms/step - loss: 6407.5244\n",
            "Epoch 34/200\n",
            "34/34 [==============================] - 0s 1ms/step - loss: 6390.7622\n",
            "Epoch 35/200\n",
            "34/34 [==============================] - 0s 1ms/step - loss: 6366.7334\n",
            "Epoch 36/200\n",
            "34/34 [==============================] - 0s 2ms/step - loss: 6348.2261\n",
            "Epoch 37/200\n",
            "34/34 [==============================] - 0s 1ms/step - loss: 6320.7866\n",
            "Epoch 38/200\n",
            "34/34 [==============================] - 0s 1ms/step - loss: 6306.0693\n",
            "Epoch 39/200\n",
            "34/34 [==============================] - 0s 2ms/step - loss: 6281.0044\n",
            "Epoch 40/200\n",
            "34/34 [==============================] - 0s 1ms/step - loss: 6256.9077\n",
            "Epoch 41/200\n",
            "34/34 [==============================] - 0s 1ms/step - loss: 6237.8877\n",
            "Epoch 42/200\n",
            "34/34 [==============================] - 0s 2ms/step - loss: 6207.4839\n",
            "Epoch 43/200\n",
            "34/34 [==============================] - 0s 1ms/step - loss: 6185.4922\n",
            "Epoch 44/200\n",
            "34/34 [==============================] - 0s 1ms/step - loss: 6151.2363\n",
            "Epoch 45/200\n",
            "34/34 [==============================] - 0s 1ms/step - loss: 6129.6074\n",
            "Epoch 46/200\n",
            "34/34 [==============================] - 0s 1ms/step - loss: 6110.1069\n",
            "Epoch 47/200\n",
            "34/34 [==============================] - 0s 2ms/step - loss: 6070.7046\n",
            "Epoch 48/200\n",
            "34/34 [==============================] - 0s 1ms/step - loss: 6028.1929\n",
            "Epoch 49/200\n",
            "34/34 [==============================] - 0s 1ms/step - loss: 5995.2822\n",
            "Epoch 50/200\n",
            "34/34 [==============================] - 0s 1ms/step - loss: 5960.0278\n",
            "Epoch 51/200\n",
            "34/34 [==============================] - 0s 2ms/step - loss: 5921.4746\n",
            "Epoch 52/200\n",
            "34/34 [==============================] - 0s 1ms/step - loss: 5873.9194\n",
            "Epoch 53/200\n",
            "34/34 [==============================] - 0s 1ms/step - loss: 5832.2910\n",
            "Epoch 54/200\n",
            "34/34 [==============================] - 0s 1ms/step - loss: 5783.1719\n",
            "Epoch 55/200\n",
            "34/34 [==============================] - 0s 2ms/step - loss: 5733.7080\n",
            "Epoch 56/200\n",
            "34/34 [==============================] - 0s 1ms/step - loss: 5680.2451\n",
            "Epoch 57/200\n",
            "34/34 [==============================] - 0s 2ms/step - loss: 5614.5000\n",
            "Epoch 58/200\n",
            "34/34 [==============================] - 0s 1ms/step - loss: 5555.6343\n",
            "Epoch 59/200\n",
            "34/34 [==============================] - 0s 1ms/step - loss: 5483.3237\n",
            "Epoch 60/200\n",
            "34/34 [==============================] - 0s 1ms/step - loss: 5417.6230\n",
            "Epoch 61/200\n",
            "34/34 [==============================] - 0s 1ms/step - loss: 5326.5938\n",
            "Epoch 62/200\n",
            "34/34 [==============================] - 0s 2ms/step - loss: 5237.1699\n",
            "Epoch 63/200\n",
            "34/34 [==============================] - 0s 1ms/step - loss: 5140.0957\n",
            "Epoch 64/200\n",
            "34/34 [==============================] - 0s 1ms/step - loss: 5031.6099\n",
            "Epoch 65/200\n",
            "34/34 [==============================] - 0s 1ms/step - loss: 4922.4067\n",
            "Epoch 66/200\n",
            "34/34 [==============================] - 0s 1ms/step - loss: 4796.2700\n",
            "Epoch 67/200\n",
            "34/34 [==============================] - 0s 2ms/step - loss: 4679.3086\n",
            "Epoch 68/200\n",
            "34/34 [==============================] - 0s 2ms/step - loss: 4511.7051\n",
            "Epoch 69/200\n",
            "34/34 [==============================] - 0s 1ms/step - loss: 4378.2349\n",
            "Epoch 70/200\n",
            "34/34 [==============================] - 0s 1ms/step - loss: 4229.5649\n",
            "Epoch 71/200\n",
            "34/34 [==============================] - 0s 1ms/step - loss: 4096.1123\n",
            "Epoch 72/200\n",
            "34/34 [==============================] - 0s 1ms/step - loss: 3995.6018\n",
            "Epoch 73/200\n",
            "34/34 [==============================] - 0s 1ms/step - loss: 3939.8884\n",
            "Epoch 74/200\n",
            "34/34 [==============================] - 0s 1ms/step - loss: 3889.8093\n",
            "Epoch 75/200\n",
            "34/34 [==============================] - 0s 1ms/step - loss: 3855.1589\n",
            "Epoch 76/200\n",
            "34/34 [==============================] - 0s 2ms/step - loss: 3834.8623\n",
            "Epoch 77/200\n",
            "34/34 [==============================] - 0s 1ms/step - loss: 3833.6694\n",
            "Epoch 78/200\n",
            "34/34 [==============================] - 0s 1ms/step - loss: 3803.5969\n",
            "Epoch 79/200\n",
            "34/34 [==============================] - 0s 1ms/step - loss: 3818.0391\n",
            "Epoch 80/200\n",
            "34/34 [==============================] - 0s 1ms/step - loss: 3800.8994\n",
            "Epoch 81/200\n",
            "34/34 [==============================] - 0s 1ms/step - loss: 3784.1658\n",
            "Epoch 82/200\n",
            "34/34 [==============================] - 0s 1ms/step - loss: 3787.4617\n",
            "Epoch 83/200\n",
            "34/34 [==============================] - 0s 1ms/step - loss: 3785.7053\n",
            "Epoch 84/200\n",
            "34/34 [==============================] - 0s 1ms/step - loss: 3777.9089\n",
            "Epoch 85/200\n",
            "34/34 [==============================] - 0s 1ms/step - loss: 3771.7197\n",
            "Epoch 86/200\n",
            "34/34 [==============================] - 0s 1ms/step - loss: 3770.4102\n",
            "Epoch 87/200\n",
            "34/34 [==============================] - 0s 2ms/step - loss: 3766.3804\n",
            "Epoch 88/200\n",
            "34/34 [==============================] - 0s 1ms/step - loss: 3764.2583\n",
            "Epoch 89/200\n",
            "34/34 [==============================] - 0s 1ms/step - loss: 3766.5293\n",
            "Epoch 90/200\n",
            "34/34 [==============================] - 0s 1ms/step - loss: 3767.9758\n",
            "Epoch 91/200\n",
            "34/34 [==============================] - 0s 1ms/step - loss: 3757.0408\n",
            "Epoch 92/200\n",
            "34/34 [==============================] - 0s 1ms/step - loss: 3758.7251\n",
            "Epoch 93/200\n",
            "34/34 [==============================] - 0s 1ms/step - loss: 3751.2048\n",
            "Epoch 94/200\n",
            "34/34 [==============================] - 0s 1ms/step - loss: 3751.0522\n",
            "Epoch 95/200\n",
            "34/34 [==============================] - 0s 2ms/step - loss: 3744.8042\n",
            "Epoch 96/200\n",
            "34/34 [==============================] - 0s 1ms/step - loss: 3744.9705\n",
            "Epoch 97/200\n",
            "34/34 [==============================] - 0s 1ms/step - loss: 3737.9893\n",
            "Epoch 98/200\n",
            "34/34 [==============================] - 0s 1ms/step - loss: 3733.1790\n",
            "Epoch 99/200\n",
            "34/34 [==============================] - 0s 1ms/step - loss: 3756.6995\n",
            "Epoch 100/200\n",
            "34/34 [==============================] - 0s 1ms/step - loss: 3751.7737\n",
            "Epoch 101/200\n",
            "34/34 [==============================] - 0s 1ms/step - loss: 3744.7114\n",
            "Epoch 102/200\n",
            "34/34 [==============================] - 0s 2ms/step - loss: 3724.7854\n",
            "Epoch 103/200\n",
            "34/34 [==============================] - 0s 1ms/step - loss: 3729.0842\n",
            "Epoch 104/200\n",
            "34/34 [==============================] - 0s 1ms/step - loss: 3722.0576\n",
            "Epoch 105/200\n",
            "34/34 [==============================] - 0s 1ms/step - loss: 3730.5603\n",
            "Epoch 106/200\n",
            "34/34 [==============================] - 0s 1ms/step - loss: 3723.0610\n",
            "Epoch 107/200\n",
            "34/34 [==============================] - 0s 1ms/step - loss: 3716.3889\n",
            "Epoch 108/200\n",
            "34/34 [==============================] - 0s 1ms/step - loss: 3716.6545\n",
            "Epoch 109/200\n",
            "34/34 [==============================] - 0s 1ms/step - loss: 3707.1782\n",
            "Epoch 110/200\n",
            "34/34 [==============================] - 0s 1ms/step - loss: 3708.8335\n",
            "Epoch 111/200\n",
            "34/34 [==============================] - 0s 1ms/step - loss: 3722.7834\n",
            "Epoch 112/200\n",
            "34/34 [==============================] - 0s 1ms/step - loss: 3703.6287\n",
            "Epoch 113/200\n",
            "34/34 [==============================] - 0s 1ms/step - loss: 3704.5854\n",
            "Epoch 114/200\n",
            "34/34 [==============================] - 0s 1ms/step - loss: 3716.5588\n",
            "Epoch 115/200\n",
            "34/34 [==============================] - 0s 1ms/step - loss: 3706.4258\n",
            "Epoch 116/200\n",
            "34/34 [==============================] - 0s 1ms/step - loss: 3694.2798\n",
            "Epoch 117/200\n",
            "34/34 [==============================] - 0s 1ms/step - loss: 3694.6123\n",
            "Epoch 118/200\n",
            "34/34 [==============================] - 0s 1ms/step - loss: 3694.8586\n",
            "Epoch 119/200\n",
            "34/34 [==============================] - 0s 1ms/step - loss: 3687.0139\n",
            "Epoch 120/200\n",
            "34/34 [==============================] - 0s 1ms/step - loss: 3687.5251\n",
            "Epoch 121/200\n",
            "34/34 [==============================] - 0s 1ms/step - loss: 3688.4075\n",
            "Epoch 122/200\n",
            "34/34 [==============================] - 0s 1ms/step - loss: 3689.8218\n",
            "Epoch 123/200\n",
            "34/34 [==============================] - 0s 1ms/step - loss: 3682.7568\n",
            "Epoch 124/200\n",
            "34/34 [==============================] - 0s 1ms/step - loss: 3672.2180\n",
            "Epoch 125/200\n",
            "34/34 [==============================] - 0s 1ms/step - loss: 3675.6489\n",
            "Epoch 126/200\n",
            "34/34 [==============================] - 0s 2ms/step - loss: 3679.5181\n",
            "Epoch 127/200\n",
            "34/34 [==============================] - 0s 1ms/step - loss: 3674.9536\n",
            "Epoch 128/200\n",
            "34/34 [==============================] - 0s 1ms/step - loss: 3674.6223\n",
            "Epoch 129/200\n",
            "34/34 [==============================] - 0s 1ms/step - loss: 3674.6562\n",
            "Epoch 130/200\n",
            "34/34 [==============================] - 0s 1ms/step - loss: 3679.7292\n",
            "Epoch 131/200\n",
            "34/34 [==============================] - 0s 1ms/step - loss: 3666.5974\n",
            "Epoch 132/200\n",
            "34/34 [==============================] - 0s 1ms/step - loss: 3658.6191\n",
            "Epoch 133/200\n",
            "34/34 [==============================] - 0s 1ms/step - loss: 3656.4875\n",
            "Epoch 134/200\n",
            "34/34 [==============================] - 0s 2ms/step - loss: 3647.8030\n",
            "Epoch 135/200\n",
            "34/34 [==============================] - 0s 1ms/step - loss: 3647.6138\n",
            "Epoch 136/200\n",
            "34/34 [==============================] - 0s 2ms/step - loss: 3642.5679\n",
            "Epoch 137/200\n",
            "34/34 [==============================] - 0s 2ms/step - loss: 3645.4036\n",
            "Epoch 138/200\n",
            "34/34 [==============================] - 0s 1ms/step - loss: 3656.9216\n",
            "Epoch 139/200\n",
            "34/34 [==============================] - 0s 1ms/step - loss: 3656.4089\n",
            "Epoch 140/200\n",
            "34/34 [==============================] - 0s 1ms/step - loss: 3642.7134\n",
            "Epoch 141/200\n",
            "34/34 [==============================] - 0s 1ms/step - loss: 3640.5928\n",
            "Epoch 142/200\n",
            "34/34 [==============================] - 0s 1ms/step - loss: 3643.6416\n",
            "Epoch 143/200\n",
            "34/34 [==============================] - 0s 1ms/step - loss: 3627.7544\n",
            "Epoch 144/200\n",
            "34/34 [==============================] - 0s 1ms/step - loss: 3624.5938\n",
            "Epoch 145/200\n",
            "34/34 [==============================] - 0s 1ms/step - loss: 3627.9746\n",
            "Epoch 146/200\n",
            "34/34 [==============================] - 0s 1ms/step - loss: 3638.7134\n",
            "Epoch 147/200\n",
            "34/34 [==============================] - 0s 1ms/step - loss: 3652.5811\n",
            "Epoch 148/200\n",
            "34/34 [==============================] - 0s 2ms/step - loss: 3634.4431\n",
            "Epoch 149/200\n",
            "34/34 [==============================] - 0s 1ms/step - loss: 3619.3650\n",
            "Epoch 150/200\n",
            "34/34 [==============================] - 0s 1ms/step - loss: 3614.2078\n",
            "Epoch 151/200\n",
            "34/34 [==============================] - 0s 1ms/step - loss: 3605.6633\n",
            "Epoch 152/200\n",
            "34/34 [==============================] - 0s 1ms/step - loss: 3606.8447\n",
            "Epoch 153/200\n",
            "34/34 [==============================] - 0s 1ms/step - loss: 3615.8303\n",
            "Epoch 154/200\n",
            "34/34 [==============================] - 0s 1ms/step - loss: 3599.4602\n",
            "Epoch 155/200\n",
            "34/34 [==============================] - 0s 1ms/step - loss: 3600.1423\n",
            "Epoch 156/200\n",
            "34/34 [==============================] - 0s 1ms/step - loss: 3593.1450\n",
            "Epoch 157/200\n",
            "34/34 [==============================] - 0s 1ms/step - loss: 3600.2908\n",
            "Epoch 158/200\n",
            "34/34 [==============================] - 0s 1ms/step - loss: 3587.7151\n",
            "Epoch 159/200\n",
            "34/34 [==============================] - 0s 2ms/step - loss: 3577.8252\n",
            "Epoch 160/200\n",
            "34/34 [==============================] - 0s 1ms/step - loss: 3589.9702\n",
            "Epoch 161/200\n",
            "34/34 [==============================] - 0s 1ms/step - loss: 3580.8269\n",
            "Epoch 162/200\n",
            "34/34 [==============================] - 0s 1ms/step - loss: 3570.6143\n",
            "Epoch 163/200\n",
            "34/34 [==============================] - 0s 1ms/step - loss: 3567.4041\n",
            "Epoch 164/200\n",
            "34/34 [==============================] - 0s 1ms/step - loss: 3581.2839\n",
            "Epoch 165/200\n",
            "34/34 [==============================] - 0s 1ms/step - loss: 3563.5532\n",
            "Epoch 166/200\n",
            "34/34 [==============================] - 0s 1ms/step - loss: 3564.2163\n",
            "Epoch 167/200\n",
            "34/34 [==============================] - 0s 1ms/step - loss: 3569.6921\n",
            "Epoch 168/200\n",
            "34/34 [==============================] - 0s 1ms/step - loss: 3557.0156\n",
            "Epoch 169/200\n",
            "34/34 [==============================] - 0s 1ms/step - loss: 3554.3420\n",
            "Epoch 170/200\n",
            "34/34 [==============================] - 0s 2ms/step - loss: 3549.3994\n",
            "Epoch 171/200\n",
            "34/34 [==============================] - 0s 2ms/step - loss: 3550.7134\n",
            "Epoch 172/200\n",
            "34/34 [==============================] - 0s 1ms/step - loss: 3563.0950\n",
            "Epoch 173/200\n",
            "34/34 [==============================] - 0s 1ms/step - loss: 3566.5649\n",
            "Epoch 174/200\n",
            "34/34 [==============================] - 0s 1ms/step - loss: 3554.2212\n",
            "Epoch 175/200\n",
            "34/34 [==============================] - 0s 1ms/step - loss: 3544.7417\n",
            "Epoch 176/200\n",
            "34/34 [==============================] - 0s 1ms/step - loss: 3550.6875\n",
            "Epoch 177/200\n",
            "34/34 [==============================] - 0s 1ms/step - loss: 3548.3870\n",
            "Epoch 178/200\n",
            "34/34 [==============================] - 0s 1ms/step - loss: 3527.9072\n",
            "Epoch 179/200\n",
            "34/34 [==============================] - 0s 1ms/step - loss: 3540.4709\n",
            "Epoch 180/200\n",
            "34/34 [==============================] - 0s 1ms/step - loss: 3566.7200\n",
            "Epoch 181/200\n",
            "34/34 [==============================] - 0s 1ms/step - loss: 3532.1050\n",
            "Epoch 182/200\n",
            "34/34 [==============================] - 0s 1ms/step - loss: 3540.3887\n",
            "Epoch 183/200\n",
            "34/34 [==============================] - 0s 1ms/step - loss: 3527.3293\n",
            "Epoch 184/200\n",
            "34/34 [==============================] - 0s 1ms/step - loss: 3547.2876\n",
            "Epoch 185/200\n",
            "34/34 [==============================] - 0s 1ms/step - loss: 3541.3936\n",
            "Epoch 186/200\n",
            "34/34 [==============================] - 0s 1ms/step - loss: 3554.9026\n",
            "Epoch 187/200\n",
            "34/34 [==============================] - 0s 1ms/step - loss: 3521.0745\n",
            "Epoch 188/200\n",
            "34/34 [==============================] - 0s 1ms/step - loss: 3519.5618\n",
            "Epoch 189/200\n",
            "34/34 [==============================] - 0s 1ms/step - loss: 3514.8525\n",
            "Epoch 190/200\n",
            "34/34 [==============================] - 0s 1ms/step - loss: 3529.7307\n",
            "Epoch 191/200\n",
            "34/34 [==============================] - 0s 1ms/step - loss: 3511.9868\n",
            "Epoch 192/200\n",
            "34/34 [==============================] - 0s 1ms/step - loss: 3523.7068\n",
            "Epoch 193/200\n",
            "34/34 [==============================] - 0s 2ms/step - loss: 3506.9407\n",
            "Epoch 194/200\n",
            "34/34 [==============================] - 0s 1ms/step - loss: 3507.5042\n",
            "Epoch 195/200\n",
            "34/34 [==============================] - 0s 1ms/step - loss: 3502.4404\n",
            "Epoch 196/200\n",
            "34/34 [==============================] - 0s 1ms/step - loss: 3533.9104\n",
            "Epoch 197/200\n",
            "34/34 [==============================] - 0s 1ms/step - loss: 3499.3037\n",
            "Epoch 198/200\n",
            "34/34 [==============================] - 0s 2ms/step - loss: 3497.7224\n",
            "Epoch 199/200\n",
            "34/34 [==============================] - 0s 1ms/step - loss: 3495.5115\n",
            "Epoch 200/200\n",
            "34/34 [==============================] - 0s 1ms/step - loss: 3487.2209\n"
          ]
        }
      ]
    },
    {
      "cell_type": "code",
      "metadata": {
        "colab": {
          "base_uri": "https://localhost:8080/",
          "height": 297
        },
        "id": "B0jKdcnU56v6",
        "outputId": "a1b718bf-5dc5-45ec-b2c0-b84bce4761fc"
      },
      "source": [
        "pd.DataFrame(history.history).plot()\n",
        "plt.ylabel('loss')\n",
        "plt.xlabel('epochs')"
      ],
      "execution_count": 16,
      "outputs": [
        {
          "output_type": "execute_result",
          "data": {
            "text/plain": [
              "Text(0.5, 0, 'epochs')"
            ]
          },
          "metadata": {},
          "execution_count": 16
        },
        {
          "output_type": "display_data",
          "data": {
            "image/png": "[encoded data removed]",
            "text/plain": [
              "<Figure size 432x288 with 1 Axes>"
            ]
          },
          "metadata": {
            "needs_background": "light"
          }
        }
      ]
    },
    {
      "cell_type": "code",
      "metadata": {
        "colab": {
          "base_uri": "https://localhost:8080/"
        },
        "id": "hIMyr-me5uh_",
        "outputId": "eac3c312-5594-4e79-b221-fb55c2c6f96e"
      },
      "source": [
        "model.evaluate(X_test, y_test)"
      ],
      "execution_count": 17,
      "outputs": [
        {
          "output_type": "stream",
          "name": "stdout",
          "text": [
            "9/9 [==============================] - 0s 1ms/step - loss: 3180.1611\n"
          ]
        },
        {
          "output_type": "execute_result",
          "data": {
            "text/plain": [
              "3180.1611328125"
            ]
          },
          "metadata": {},
          "execution_count": 17
        }
      ]
    },
    {
      "cell_type": "markdown",
      "metadata": {
        "id": "fHihPZgS7f7k"
      },
      "source": [
        "## Using ColumnTransformer"
      ]
    },
    {
      "cell_type": "code",
      "metadata": {
        "colab": {
          "base_uri": "https://localhost:8080/",
          "height": 206
        },
        "id": "1YGfe0wl7vCr",
        "outputId": "6b85fbd2-1dea-4a56-833d-74de3914c7fa"
      },
      "source": [
        "insurance.head()"
      ],
      "execution_count": 18,
      "outputs": [
        {
          "output_type": "execute_result",
          "data": {
            "text/html": [
              "<div>\n",
              "<style scoped>\n",
              "    .dataframe tbody tr th:only-of-type {\n",
              "        vertical-align: middle;\n",
              "    }\n",
              "\n",
              "    .dataframe tbody tr th {\n",
              "        vertical-align: top;\n",
              "    }\n",
              "\n",
              "    .dataframe thead th {\n",
              "        text-align: right;\n",
              "    }\n",
              "</style>\n",
              "<table border=\"1\" class=\"dataframe\">\n",
              "  <thead>\n",
              "    <tr style=\"text-align: right;\">\n",
              "      <th></th>\n",
              "      <th>age</th>\n",
              "      <th>sex</th>\n",
              "      <th>bmi</th>\n",
              "      <th>children</th>\n",
              "      <th>smoker</th>\n",
              "      <th>region</th>\n",
              "      <th>charges</th>\n",
              "    </tr>\n",
              "  </thead>\n",
              "  <tbody>\n",
              "    <tr>\n",
              "      <th>0</th>\n",
              "      <td>19</td>\n",
              "      <td>female</td>\n",
              "      <td>27.900</td>\n",
              "      <td>0</td>\n",
              "      <td>yes</td>\n",
              "      <td>southwest</td>\n",
              "      <td>16884.92400</td>\n",
              "    </tr>\n",
              "    <tr>\n",
              "      <th>1</th>\n",
              "      <td>18</td>\n",
              "      <td>male</td>\n",
              "      <td>33.770</td>\n",
              "      <td>1</td>\n",
              "      <td>no</td>\n",
              "      <td>southeast</td>\n",
              "      <td>1725.55230</td>\n",
              "    </tr>\n",
              "    <tr>\n",
              "      <th>2</th>\n",
              "      <td>28</td>\n",
              "      <td>male</td>\n",
              "      <td>33.000</td>\n",
              "      <td>3</td>\n",
              "      <td>no</td>\n",
              "      <td>southeast</td>\n",
              "      <td>4449.46200</td>\n",
              "    </tr>\n",
              "    <tr>\n",
              "      <th>3</th>\n",
              "      <td>33</td>\n",
              "      <td>male</td>\n",
              "      <td>22.705</td>\n",
              "      <td>0</td>\n",
              "      <td>no</td>\n",
              "      <td>northwest</td>\n",
              "      <td>21984.47061</td>\n",
              "    </tr>\n",
              "    <tr>\n",
              "      <th>4</th>\n",
              "      <td>32</td>\n",
              "      <td>male</td>\n",
              "      <td>28.880</td>\n",
              "      <td>0</td>\n",
              "      <td>no</td>\n",
              "      <td>northwest</td>\n",
              "      <td>3866.85520</td>\n",
              "    </tr>\n",
              "  </tbody>\n",
              "</table>\n",
              "</div>"
            ],
            "text/plain": [
              "   age     sex     bmi  children smoker     region      charges\n",
              "0   19  female  27.900         0    yes  southwest  16884.92400\n",
              "1   18    male  33.770         1     no  southeast   1725.55230\n",
              "2   28    male  33.000         3     no  southeast   4449.46200\n",
              "3   33    male  22.705         0     no  northwest  21984.47061\n",
              "4   32    male  28.880         0     no  northwest   3866.85520"
            ]
          },
          "metadata": {},
          "execution_count": 18
        }
      ]
    },
    {
      "cell_type": "code",
      "metadata": {
        "id": "GwvyVPnT5ukb"
      },
      "source": [
        "from sklearn.compose import make_column_transformer\n",
        "from sklearn.preprocessing import MinMaxScaler, OneHotEncoder"
      ],
      "execution_count": 19,
      "outputs": []
    },
    {
      "cell_type": "code",
      "metadata": {
        "id": "9klQtmkA5unB"
      },
      "source": [
        "ct = make_column_transformer(\n",
        "    (MinMaxScaler(), ['age', 'bmi', 'children']),\n",
        "    (OneHotEncoder(handle_unknown=\"ignore\"), ['sex', 'smoker', 'region'])\n",
        ")"
      ],
      "execution_count": 20,
      "outputs": []
    },
    {
      "cell_type": "code",
      "metadata": {
        "id": "MaY1abdy75qe"
      },
      "source": [
        "X = insurance.drop('charges', axis=1)\n",
        "y = insurance['charges']"
      ],
      "execution_count": 21,
      "outputs": []
    },
    {
      "cell_type": "code",
      "metadata": {
        "id": "E6-m-IZD77xf"
      },
      "source": [
        "X_train, X_test, y_train, y_test = train_test_split(X, y, test_size=0.2, random_state=42)"
      ],
      "execution_count": 22,
      "outputs": []
    },
    {
      "cell_type": "code",
      "metadata": {
        "colab": {
          "base_uri": "https://localhost:8080/"
        },
        "id": "HMzA6a7478Rk",
        "outputId": "4fe7c609-0fd5-4d88-d4be-11d03acfa0c5"
      },
      "source": [
        "ct.fit(X_train)"
      ],
      "execution_count": 23,
      "outputs": [
        {
          "output_type": "execute_result",
          "data": {
            "text/plain": [
              "ColumnTransformer(n_jobs=None, remainder='drop', sparse_threshold=0.3,\n",
              "                  transformer_weights=None,\n",
              "                  transformers=[('minmaxscaler',\n",
              "                                 MinMaxScaler(copy=True, feature_range=(0, 1)),\n",
              "                                 ['age', 'bmi', 'children']),\n",
              "                                ('onehotencoder',\n",
              "                                 OneHotEncoder(categories='auto', drop=None,\n",
              "                                               dtype=<class 'numpy.float64'>,\n",
              "                                               handle_unknown='ignore',\n",
              "                                               sparse=True),\n",
              "                                 ['sex', 'smoker', 'region'])],\n",
              "                  verbose=False)"
            ]
          },
          "metadata": {},
          "execution_count": 23
        }
      ]
    },
    {
      "cell_type": "code",
      "metadata": {
        "id": "_Qsv4Ae-78VH"
      },
      "source": [
        "X_train_normal = ct.transform(X_train)\n",
        "X_test_normal = ct.transform(X_test)"
      ],
      "execution_count": 24,
      "outputs": []
    },
    {
      "cell_type": "code",
      "metadata": {
        "colab": {
          "base_uri": "https://localhost:8080/"
        },
        "id": "rCCWHKO578Za",
        "outputId": "368b53ff-b13a-4947-8020-92d6223f1a86"
      },
      "source": [
        "X_train_normal[:2]"
      ],
      "execution_count": 25,
      "outputs": [
        {
          "output_type": "execute_result",
          "data": {
            "text/plain": [
              "array([[0.60869565, 0.10734463, 0.4       , 1.        , 0.        ,\n",
              "        1.        , 0.        , 0.        , 1.        , 0.        ,\n",
              "        0.        ],\n",
              "       [0.63043478, 0.22491256, 0.        , 1.        , 0.        ,\n",
              "        1.        , 0.        , 1.        , 0.        , 0.        ,\n",
              "        0.        ]])"
            ]
          },
          "metadata": {},
          "execution_count": 25
        }
      ]
    },
    {
      "cell_type": "code",
      "metadata": {
        "id": "I5kqZpYF8vOI"
      },
      "source": [
        "model = Sequential([\n",
        "    layers.Dense(100, input_shape=[11]),            # 11 features so input_shape is 11\n",
        "    layers.Dense(50),\n",
        "    layers.Dense(25),\n",
        "    layers.Dense(1)\n",
        "])"
      ],
      "execution_count": 26,
      "outputs": []
    },
    {
      "cell_type": "code",
      "metadata": {
        "colab": {
          "base_uri": "https://localhost:8080/"
        },
        "id": "bpMikNiW9yXk",
        "outputId": "bf9e7738-ba14-4738-b7f2-cffc7e94374a"
      },
      "source": [
        "model.summary()"
      ],
      "execution_count": 27,
      "outputs": [
        {
          "output_type": "stream",
          "name": "stdout",
          "text": [
            "Model: \"sequential_1\"\n",
            "_________________________________________________________________\n",
            "Layer (type)                 Output Shape              Param #   \n",
            "=================================================================\n",
            "dense_3 (Dense)              (None, 100)               1200      \n",
            "_________________________________________________________________\n",
            "dense_4 (Dense)              (None, 50)                5050      \n",
            "_________________________________________________________________\n",
            "dense_5 (Dense)              (None, 25)                1275      \n",
            "_________________________________________________________________\n",
            "dense_6 (Dense)              (None, 1)                 26        \n",
            "=================================================================\n",
            "Total params: 7,551\n",
            "Trainable params: 7,551\n",
            "Non-trainable params: 0\n",
            "_________________________________________________________________\n"
          ]
        }
      ]
    },
    {
      "cell_type": "code",
      "metadata": {
        "id": "zSClzMbl8vOK"
      },
      "source": [
        "optimizer   = tf.keras.optimizers.Adam(learning_rate=0.001)\n",
        "loss        = tf.keras.losses.MeanAbsoluteError()"
      ],
      "execution_count": 28,
      "outputs": []
    },
    {
      "cell_type": "code",
      "metadata": {
        "id": "mXubZiHX8vOM"
      },
      "source": [
        "model.compile(optimizer=optimizer,\n",
        "              loss=loss)"
      ],
      "execution_count": 29,
      "outputs": []
    },
    {
      "cell_type": "code",
      "metadata": {
        "id": "1I4Y13AR8vON"
      },
      "source": [
        "epochs = 200"
      ],
      "execution_count": 30,
      "outputs": []
    },
    {
      "cell_type": "code",
      "metadata": {
        "colab": {
          "base_uri": "https://localhost:8080/"
        },
        "id": "lf1yOdmw8vON",
        "outputId": "da721aea-0fe8-427e-df9b-fdedd0bbae08"
      },
      "source": [
        "history = model.fit(X_train_normal, y_train, epochs=epochs, verbose=1)"
      ],
      "execution_count": 31,
      "outputs": [
        {
          "output_type": "stream",
          "name": "stdout",
          "text": [
            "Epoch 1/200\n",
            "34/34 [==============================] - 0s 1ms/step - loss: 13337.8896\n",
            "Epoch 2/200\n",
            "34/34 [==============================] - 0s 1ms/step - loss: 13251.6045\n",
            "Epoch 3/200\n",
            "34/34 [==============================] - 0s 1ms/step - loss: 12775.7217\n",
            "Epoch 4/200\n",
            "34/34 [==============================] - 0s 1ms/step - loss: 11230.1836\n",
            "Epoch 5/200\n",
            "34/34 [==============================] - 0s 2ms/step - loss: 8977.2305\n",
            "Epoch 6/200\n",
            "34/34 [==============================] - 0s 1ms/step - loss: 8022.0278\n",
            "Epoch 7/200\n",
            "34/34 [==============================] - 0s 1ms/step - loss: 7847.9570\n",
            "Epoch 8/200\n",
            "34/34 [==============================] - 0s 2ms/step - loss: 7677.8926\n",
            "Epoch 9/200\n",
            "34/34 [==============================] - 0s 1ms/step - loss: 7504.8438\n",
            "Epoch 10/200\n",
            "34/34 [==============================] - 0s 1ms/step - loss: 7313.4937\n",
            "Epoch 11/200\n",
            "34/34 [==============================] - 0s 1ms/step - loss: 7103.3540\n",
            "Epoch 12/200\n",
            "34/34 [==============================] - 0s 1ms/step - loss: 6846.9697\n",
            "Epoch 13/200\n",
            "34/34 [==============================] - 0s 1ms/step - loss: 6547.1304\n",
            "Epoch 14/200\n",
            "34/34 [==============================] - 0s 1ms/step - loss: 6162.8325\n",
            "Epoch 15/200\n",
            "34/34 [==============================] - 0s 1ms/step - loss: 5685.0078\n",
            "Epoch 16/200\n",
            "34/34 [==============================] - 0s 1ms/step - loss: 5105.3335\n",
            "Epoch 17/200\n",
            "34/34 [==============================] - 0s 1ms/step - loss: 4520.6958\n",
            "Epoch 18/200\n",
            "34/34 [==============================] - 0s 1ms/step - loss: 4006.8174\n",
            "Epoch 19/200\n",
            "34/34 [==============================] - 0s 2ms/step - loss: 3717.1995\n",
            "Epoch 20/200\n",
            "34/34 [==============================] - 0s 1ms/step - loss: 3656.5515\n",
            "Epoch 21/200\n",
            "34/34 [==============================] - 0s 1ms/step - loss: 3648.1460\n",
            "Epoch 22/200\n",
            "34/34 [==============================] - 0s 1ms/step - loss: 3638.7256\n",
            "Epoch 23/200\n",
            "34/34 [==============================] - 0s 2ms/step - loss: 3628.4695\n",
            "Epoch 24/200\n",
            "34/34 [==============================] - 0s 2ms/step - loss: 3621.4958\n",
            "Epoch 25/200\n",
            "34/34 [==============================] - 0s 1ms/step - loss: 3614.2156\n",
            "Epoch 26/200\n",
            "34/34 [==============================] - 0s 2ms/step - loss: 3599.1040\n",
            "Epoch 27/200\n",
            "34/34 [==============================] - 0s 1ms/step - loss: 3590.2166\n",
            "Epoch 28/200\n",
            "34/34 [==============================] - 0s 1ms/step - loss: 3589.1555\n",
            "Epoch 29/200\n",
            "34/34 [==============================] - 0s 1ms/step - loss: 3575.2576\n",
            "Epoch 30/200\n",
            "34/34 [==============================] - 0s 2ms/step - loss: 3580.6748\n",
            "Epoch 31/200\n",
            "34/34 [==============================] - 0s 2ms/step - loss: 3573.6929\n",
            "Epoch 32/200\n",
            "34/34 [==============================] - 0s 2ms/step - loss: 3556.1687\n",
            "Epoch 33/200\n",
            "34/34 [==============================] - 0s 1ms/step - loss: 3566.7356\n",
            "Epoch 34/200\n",
            "34/34 [==============================] - 0s 1ms/step - loss: 3535.1741\n",
            "Epoch 35/200\n",
            "34/34 [==============================] - 0s 1ms/step - loss: 3537.6377\n",
            "Epoch 36/200\n",
            "34/34 [==============================] - 0s 1ms/step - loss: 3525.5081\n",
            "Epoch 37/200\n",
            "34/34 [==============================] - 0s 2ms/step - loss: 3520.2896\n",
            "Epoch 38/200\n",
            "34/34 [==============================] - 0s 2ms/step - loss: 3523.5217\n",
            "Epoch 39/200\n",
            "34/34 [==============================] - 0s 2ms/step - loss: 3509.0193\n",
            "Epoch 40/200\n",
            "34/34 [==============================] - 0s 1ms/step - loss: 3510.8628\n",
            "Epoch 41/200\n",
            "34/34 [==============================] - 0s 2ms/step - loss: 3493.7886\n",
            "Epoch 42/200\n",
            "34/34 [==============================] - 0s 1ms/step - loss: 3494.6663\n",
            "Epoch 43/200\n",
            "34/34 [==============================] - 0s 2ms/step - loss: 3492.5222\n",
            "Epoch 44/200\n",
            "34/34 [==============================] - 0s 1ms/step - loss: 3482.8843\n",
            "Epoch 45/200\n",
            "34/34 [==============================] - 0s 1ms/step - loss: 3475.6409\n",
            "Epoch 46/200\n",
            "34/34 [==============================] - 0s 1ms/step - loss: 3484.5564\n",
            "Epoch 47/200\n",
            "34/34 [==============================] - 0s 1ms/step - loss: 3489.9326\n",
            "Epoch 48/200\n",
            "34/34 [==============================] - 0s 1ms/step - loss: 3482.4185\n",
            "Epoch 49/200\n",
            "34/34 [==============================] - 0s 1ms/step - loss: 3501.0647\n",
            "Epoch 50/200\n",
            "34/34 [==============================] - 0s 2ms/step - loss: 3474.0747\n",
            "Epoch 51/200\n",
            "34/34 [==============================] - 0s 1ms/step - loss: 3476.0408\n",
            "Epoch 52/200\n",
            "34/34 [==============================] - 0s 2ms/step - loss: 3482.2773\n",
            "Epoch 53/200\n",
            "34/34 [==============================] - 0s 2ms/step - loss: 3475.1865\n",
            "Epoch 54/200\n",
            "34/34 [==============================] - 0s 1ms/step - loss: 3491.3884\n",
            "Epoch 55/200\n",
            "34/34 [==============================] - 0s 1ms/step - loss: 3504.7349\n",
            "Epoch 56/200\n",
            "34/34 [==============================] - 0s 1ms/step - loss: 3482.9980\n",
            "Epoch 57/200\n",
            "34/34 [==============================] - 0s 1ms/step - loss: 3480.9880\n",
            "Epoch 58/200\n",
            "34/34 [==============================] - 0s 1ms/step - loss: 3477.5146\n",
            "Epoch 59/200\n",
            "34/34 [==============================] - 0s 1ms/step - loss: 3486.4197\n",
            "Epoch 60/200\n",
            "34/34 [==============================] - 0s 1ms/step - loss: 3484.2366\n",
            "Epoch 61/200\n",
            "34/34 [==============================] - 0s 2ms/step - loss: 3486.4976\n",
            "Epoch 62/200\n",
            "34/34 [==============================] - 0s 1ms/step - loss: 3478.5229\n",
            "Epoch 63/200\n",
            "34/34 [==============================] - 0s 1ms/step - loss: 3478.1233\n",
            "Epoch 64/200\n",
            "34/34 [==============================] - 0s 1ms/step - loss: 3484.4385\n",
            "Epoch 65/200\n",
            "34/34 [==============================] - 0s 1ms/step - loss: 3493.0559\n",
            "Epoch 66/200\n",
            "34/34 [==============================] - 0s 1ms/step - loss: 3490.3342\n",
            "Epoch 67/200\n",
            "34/34 [==============================] - 0s 1ms/step - loss: 3481.2898\n",
            "Epoch 68/200\n",
            "34/34 [==============================] - 0s 1ms/step - loss: 3488.7769\n",
            "Epoch 69/200\n",
            "34/34 [==============================] - 0s 1ms/step - loss: 3476.2522\n",
            "Epoch 70/200\n",
            "34/34 [==============================] - 0s 2ms/step - loss: 3483.5984\n",
            "Epoch 71/200\n",
            "34/34 [==============================] - 0s 2ms/step - loss: 3481.5513\n",
            "Epoch 72/200\n",
            "34/34 [==============================] - 0s 1ms/step - loss: 3492.6045\n",
            "Epoch 73/200\n",
            "34/34 [==============================] - 0s 1ms/step - loss: 3486.7612\n",
            "Epoch 74/200\n",
            "34/34 [==============================] - 0s 1ms/step - loss: 3479.8555\n",
            "Epoch 75/200\n",
            "34/34 [==============================] - 0s 1ms/step - loss: 3477.7161\n",
            "Epoch 76/200\n",
            "34/34 [==============================] - 0s 1ms/step - loss: 3480.0945\n",
            "Epoch 77/200\n",
            "34/34 [==============================] - 0s 2ms/step - loss: 3480.9658\n",
            "Epoch 78/200\n",
            "34/34 [==============================] - 0s 2ms/step - loss: 3480.0598\n",
            "Epoch 79/200\n",
            "34/34 [==============================] - 0s 2ms/step - loss: 3481.9480\n",
            "Epoch 80/200\n",
            "34/34 [==============================] - 0s 1ms/step - loss: 3484.6914\n",
            "Epoch 81/200\n",
            "34/34 [==============================] - 0s 1ms/step - loss: 3485.1968\n",
            "Epoch 82/200\n",
            "34/34 [==============================] - 0s 1ms/step - loss: 3479.0740\n",
            "Epoch 83/200\n",
            "34/34 [==============================] - 0s 2ms/step - loss: 3480.0232\n",
            "Epoch 84/200\n",
            "34/34 [==============================] - 0s 1ms/step - loss: 3483.1621\n",
            "Epoch 85/200\n",
            "34/34 [==============================] - 0s 1ms/step - loss: 3474.3723\n",
            "Epoch 86/200\n",
            "34/34 [==============================] - 0s 1ms/step - loss: 3477.1697\n",
            "Epoch 87/200\n",
            "34/34 [==============================] - 0s 1ms/step - loss: 3485.3176\n",
            "Epoch 88/200\n",
            "34/34 [==============================] - 0s 1ms/step - loss: 3481.3521\n",
            "Epoch 89/200\n",
            "34/34 [==============================] - 0s 2ms/step - loss: 3480.5481\n",
            "Epoch 90/200\n",
            "34/34 [==============================] - 0s 1ms/step - loss: 3480.7275\n",
            "Epoch 91/200\n",
            "34/34 [==============================] - 0s 1ms/step - loss: 3479.3125\n",
            "Epoch 92/200\n",
            "34/34 [==============================] - 0s 1ms/step - loss: 3484.8579\n",
            "Epoch 93/200\n",
            "34/34 [==============================] - 0s 2ms/step - loss: 3477.1064\n",
            "Epoch 94/200\n",
            "34/34 [==============================] - 0s 1ms/step - loss: 3479.6875\n",
            "Epoch 95/200\n",
            "34/34 [==============================] - 0s 1ms/step - loss: 3479.3503\n",
            "Epoch 96/200\n",
            "34/34 [==============================] - 0s 1ms/step - loss: 3484.4783\n",
            "Epoch 97/200\n",
            "34/34 [==============================] - 0s 2ms/step - loss: 3485.3667\n",
            "Epoch 98/200\n",
            "34/34 [==============================] - 0s 2ms/step - loss: 3478.9719\n",
            "Epoch 99/200\n",
            "34/34 [==============================] - 0s 1ms/step - loss: 3484.6301\n",
            "Epoch 100/200\n",
            "34/34 [==============================] - 0s 1ms/step - loss: 3482.1877\n",
            "Epoch 101/200\n",
            "34/34 [==============================] - 0s 1ms/step - loss: 3482.8625\n",
            "Epoch 102/200\n",
            "34/34 [==============================] - 0s 1ms/step - loss: 3478.6868\n",
            "Epoch 103/200\n",
            "34/34 [==============================] - 0s 1ms/step - loss: 3482.7668\n",
            "Epoch 104/200\n",
            "34/34 [==============================] - 0s 2ms/step - loss: 3477.7356\n",
            "Epoch 105/200\n",
            "34/34 [==============================] - 0s 1ms/step - loss: 3485.3936\n",
            "Epoch 106/200\n",
            "34/34 [==============================] - 0s 1ms/step - loss: 3480.2766\n",
            "Epoch 107/200\n",
            "34/34 [==============================] - 0s 1ms/step - loss: 3481.2246\n",
            "Epoch 108/200\n",
            "34/34 [==============================] - 0s 1ms/step - loss: 3479.0488\n",
            "Epoch 109/200\n",
            "34/34 [==============================] - 0s 1ms/step - loss: 3482.9980\n",
            "Epoch 110/200\n",
            "34/34 [==============================] - 0s 1ms/step - loss: 3477.0652\n",
            "Epoch 111/200\n",
            "34/34 [==============================] - 0s 1ms/step - loss: 3485.3813\n",
            "Epoch 112/200\n",
            "34/34 [==============================] - 0s 1ms/step - loss: 3483.6301\n",
            "Epoch 113/200\n",
            "34/34 [==============================] - 0s 1ms/step - loss: 3482.7864\n",
            "Epoch 114/200\n",
            "34/34 [==============================] - 0s 2ms/step - loss: 3503.2903\n",
            "Epoch 115/200\n",
            "34/34 [==============================] - 0s 2ms/step - loss: 3486.7427\n",
            "Epoch 116/200\n",
            "34/34 [==============================] - 0s 1ms/step - loss: 3482.2678\n",
            "Epoch 117/200\n",
            "34/34 [==============================] - 0s 1ms/step - loss: 3488.1912\n",
            "Epoch 118/200\n",
            "34/34 [==============================] - 0s 1ms/step - loss: 3474.8076\n",
            "Epoch 119/200\n",
            "34/34 [==============================] - 0s 1ms/step - loss: 3485.7644\n",
            "Epoch 120/200\n",
            "34/34 [==============================] - 0s 1ms/step - loss: 3477.8137\n",
            "Epoch 121/200\n",
            "34/34 [==============================] - 0s 1ms/step - loss: 3487.6841\n",
            "Epoch 122/200\n",
            "34/34 [==============================] - 0s 1ms/step - loss: 3490.3386\n",
            "Epoch 123/200\n",
            "34/34 [==============================] - 0s 2ms/step - loss: 3483.1387\n",
            "Epoch 124/200\n",
            "34/34 [==============================] - 0s 1ms/step - loss: 3477.3940\n",
            "Epoch 125/200\n",
            "34/34 [==============================] - 0s 2ms/step - loss: 3484.0637\n",
            "Epoch 126/200\n",
            "34/34 [==============================] - 0s 1ms/step - loss: 3482.8635\n",
            "Epoch 127/200\n",
            "34/34 [==============================] - 0s 1ms/step - loss: 3489.3286\n",
            "Epoch 128/200\n",
            "34/34 [==============================] - 0s 1ms/step - loss: 3487.2883\n",
            "Epoch 129/200\n",
            "34/34 [==============================] - 0s 1ms/step - loss: 3498.3567\n",
            "Epoch 130/200\n",
            "34/34 [==============================] - 0s 1ms/step - loss: 3478.6729\n",
            "Epoch 131/200\n",
            "34/34 [==============================] - 0s 2ms/step - loss: 3481.3909\n",
            "Epoch 132/200\n",
            "34/34 [==============================] - 0s 2ms/step - loss: 3478.6169\n",
            "Epoch 133/200\n",
            "34/34 [==============================] - 0s 2ms/step - loss: 3477.1667\n",
            "Epoch 134/200\n",
            "34/34 [==============================] - 0s 1ms/step - loss: 3478.6484\n",
            "Epoch 135/200\n",
            "34/34 [==============================] - 0s 2ms/step - loss: 3479.4507\n",
            "Epoch 136/200\n",
            "34/34 [==============================] - 0s 2ms/step - loss: 3477.9121\n",
            "Epoch 137/200\n",
            "34/34 [==============================] - 0s 2ms/step - loss: 3482.7065\n",
            "Epoch 138/200\n",
            "34/34 [==============================] - 0s 2ms/step - loss: 3485.7419\n",
            "Epoch 139/200\n",
            "34/34 [==============================] - 0s 2ms/step - loss: 3484.9211\n",
            "Epoch 140/200\n",
            "34/34 [==============================] - 0s 1ms/step - loss: 3483.7134\n",
            "Epoch 141/200\n",
            "34/34 [==============================] - 0s 1ms/step - loss: 3491.5242\n",
            "Epoch 142/200\n",
            "34/34 [==============================] - 0s 1ms/step - loss: 3488.4753\n",
            "Epoch 143/200\n",
            "34/34 [==============================] - 0s 1ms/step - loss: 3483.4382\n",
            "Epoch 144/200\n",
            "34/34 [==============================] - 0s 2ms/step - loss: 3481.1641\n",
            "Epoch 145/200\n",
            "34/34 [==============================] - 0s 2ms/step - loss: 3481.0442\n",
            "Epoch 146/200\n",
            "34/34 [==============================] - 0s 2ms/step - loss: 3491.6416\n",
            "Epoch 147/200\n",
            "34/34 [==============================] - 0s 1ms/step - loss: 3479.6497\n",
            "Epoch 148/200\n",
            "34/34 [==============================] - 0s 2ms/step - loss: 3489.2979\n",
            "Epoch 149/200\n",
            "34/34 [==============================] - 0s 2ms/step - loss: 3478.1616\n",
            "Epoch 150/200\n",
            "34/34 [==============================] - 0s 2ms/step - loss: 3475.7009\n",
            "Epoch 151/200\n",
            "34/34 [==============================] - 0s 1ms/step - loss: 3485.4983\n",
            "Epoch 152/200\n",
            "34/34 [==============================] - 0s 1ms/step - loss: 3486.8862\n",
            "Epoch 153/200\n",
            "34/34 [==============================] - 0s 1ms/step - loss: 3478.6672\n",
            "Epoch 154/200\n",
            "34/34 [==============================] - 0s 2ms/step - loss: 3482.4668\n",
            "Epoch 155/200\n",
            "34/34 [==============================] - 0s 1ms/step - loss: 3483.8469\n",
            "Epoch 156/200\n",
            "34/34 [==============================] - 0s 1ms/step - loss: 3483.8887\n",
            "Epoch 157/200\n",
            "34/34 [==============================] - 0s 1ms/step - loss: 3484.4746\n",
            "Epoch 158/200\n",
            "34/34 [==============================] - 0s 1ms/step - loss: 3484.0227\n",
            "Epoch 159/200\n",
            "34/34 [==============================] - 0s 1ms/step - loss: 3479.3689\n",
            "Epoch 160/200\n",
            "34/34 [==============================] - 0s 1ms/step - loss: 3482.4868\n",
            "Epoch 161/200\n",
            "34/34 [==============================] - 0s 1ms/step - loss: 3483.5520\n",
            "Epoch 162/200\n",
            "34/34 [==============================] - 0s 1ms/step - loss: 3476.8997\n",
            "Epoch 163/200\n",
            "34/34 [==============================] - 0s 1ms/step - loss: 3479.8840\n",
            "Epoch 164/200\n",
            "34/34 [==============================] - 0s 1ms/step - loss: 3486.1018\n",
            "Epoch 165/200\n",
            "34/34 [==============================] - 0s 1ms/step - loss: 3479.8845\n",
            "Epoch 166/200\n",
            "34/34 [==============================] - 0s 1ms/step - loss: 3481.5764\n",
            "Epoch 167/200\n",
            "34/34 [==============================] - 0s 1ms/step - loss: 3481.2488\n",
            "Epoch 168/200\n",
            "34/34 [==============================] - 0s 1ms/step - loss: 3480.6287\n",
            "Epoch 169/200\n",
            "34/34 [==============================] - 0s 2ms/step - loss: 3477.3960\n",
            "Epoch 170/200\n",
            "34/34 [==============================] - 0s 1ms/step - loss: 3482.2527\n",
            "Epoch 171/200\n",
            "34/34 [==============================] - 0s 1ms/step - loss: 3480.4724\n",
            "Epoch 172/200\n",
            "34/34 [==============================] - 0s 2ms/step - loss: 3485.1826\n",
            "Epoch 173/200\n",
            "34/34 [==============================] - 0s 2ms/step - loss: 3478.2981\n",
            "Epoch 174/200\n",
            "34/34 [==============================] - 0s 1ms/step - loss: 3482.6597\n",
            "Epoch 175/200\n",
            "34/34 [==============================] - 0s 1ms/step - loss: 3479.4280\n",
            "Epoch 176/200\n",
            "34/34 [==============================] - 0s 1ms/step - loss: 3490.3743\n",
            "Epoch 177/200\n",
            "34/34 [==============================] - 0s 1ms/step - loss: 3480.1250\n",
            "Epoch 178/200\n",
            "34/34 [==============================] - 0s 2ms/step - loss: 3481.5994\n",
            "Epoch 179/200\n",
            "34/34 [==============================] - 0s 2ms/step - loss: 3490.8479\n",
            "Epoch 180/200\n",
            "34/34 [==============================] - 0s 2ms/step - loss: 3492.5544\n",
            "Epoch 181/200\n",
            "34/34 [==============================] - 0s 1ms/step - loss: 3479.4756\n",
            "Epoch 182/200\n",
            "34/34 [==============================] - 0s 1ms/step - loss: 3483.1660\n",
            "Epoch 183/200\n",
            "34/34 [==============================] - 0s 1ms/step - loss: 3481.6240\n",
            "Epoch 184/200\n",
            "34/34 [==============================] - 0s 2ms/step - loss: 3484.7261\n",
            "Epoch 185/200\n",
            "34/34 [==============================] - 0s 1ms/step - loss: 3484.6072\n",
            "Epoch 186/200\n",
            "34/34 [==============================] - 0s 2ms/step - loss: 3484.6169\n",
            "Epoch 187/200\n",
            "34/34 [==============================] - 0s 2ms/step - loss: 3478.0769\n",
            "Epoch 188/200\n",
            "34/34 [==============================] - 0s 1ms/step - loss: 3479.4363\n",
            "Epoch 189/200\n",
            "34/34 [==============================] - 0s 1ms/step - loss: 3478.2961\n",
            "Epoch 190/200\n",
            "34/34 [==============================] - 0s 1ms/step - loss: 3484.1929\n",
            "Epoch 191/200\n",
            "34/34 [==============================] - 0s 2ms/step - loss: 3495.0442\n",
            "Epoch 192/200\n",
            "34/34 [==============================] - 0s 1ms/step - loss: 3487.7363\n",
            "Epoch 193/200\n",
            "34/34 [==============================] - 0s 1ms/step - loss: 3485.1130\n",
            "Epoch 194/200\n",
            "34/34 [==============================] - 0s 1ms/step - loss: 3481.6677\n",
            "Epoch 195/200\n",
            "34/34 [==============================] - 0s 1ms/step - loss: 3475.4373\n",
            "Epoch 196/200\n",
            "34/34 [==============================] - 0s 1ms/step - loss: 3487.6711\n",
            "Epoch 197/200\n",
            "34/34 [==============================] - 0s 2ms/step - loss: 3477.4771\n",
            "Epoch 198/200\n",
            "34/34 [==============================] - 0s 1ms/step - loss: 3494.0925\n",
            "Epoch 199/200\n",
            "34/34 [==============================] - 0s 1ms/step - loss: 3482.9939\n",
            "Epoch 200/200\n",
            "34/34 [==============================] - 0s 1ms/step - loss: 3480.0813\n"
          ]
        }
      ]
    },
    {
      "cell_type": "code",
      "metadata": {
        "colab": {
          "base_uri": "https://localhost:8080/",
          "height": 297
        },
        "id": "bmxrkCnU8vOP",
        "outputId": "b410957c-7266-40e4-c0b0-a8e16a241b9e"
      },
      "source": [
        "pd.DataFrame(history.history).plot()\n",
        "plt.ylabel('loss')\n",
        "plt.xlabel('epochs')"
      ],
      "execution_count": 32,
      "outputs": [
        {
          "output_type": "execute_result",
          "data": {
            "text/plain": [
              "Text(0.5, 0, 'epochs')"
            ]
          },
          "metadata": {},
          "execution_count": 32
        },
        {
          "output_type": "display_data",
          "data": {
            "image/png": "[encoded data removed]",
            "text/plain": [
              "<Figure size 432x288 with 1 Axes>"
            ]
          },
          "metadata": {
            "needs_background": "light"
          }
        }
      ]
    },
    {
      "cell_type": "code",
      "metadata": {
        "colab": {
          "base_uri": "https://localhost:8080/"
        },
        "id": "LAVuXwBD8vOQ",
        "outputId": "7045ce2d-abf9-4708-b71f-27782e42bbd2"
      },
      "source": [
        "model.evaluate(X_test_normal, y_test)"
      ],
      "execution_count": 33,
      "outputs": [
        {
          "output_type": "stream",
          "name": "stdout",
          "text": [
            "9/9 [==============================] - 0s 1ms/step - loss: 3176.8728\n"
          ]
        },
        {
          "output_type": "execute_result",
          "data": {
            "text/plain": [
              "3176.872802734375"
            ]
          },
          "metadata": {},
          "execution_count": 33
        }
      ]
    },
    {
      "cell_type": "markdown",
      "metadata": {
        "id": "XngmFhui-sJa"
      },
      "source": [
        "## Adding Callbacks"
      ]
    },
    {
      "cell_type": "code",
      "metadata": {
        "id": "dJkN89NJ_F02"
      },
      "source": [
        "from tensorflow.keras.callbacks import EarlyStopping, ReduceLROnPlateau, ModelCheckpoint"
      ],
      "execution_count": 34,
      "outputs": []
    },
    {
      "cell_type": "code",
      "metadata": {
        "id": "_T2rMpKO-tRM"
      },
      "source": [
        "model = Sequential([\n",
        "    layers.Dense(100, input_shape=[11]),            # 11 features so input_shape is 11\n",
        "    layers.Dense(50),\n",
        "    layers.Dense(25),\n",
        "    layers.Dense(1)\n",
        "])"
      ],
      "execution_count": 35,
      "outputs": []
    },
    {
      "cell_type": "code",
      "metadata": {
        "id": "_IEaCUWB-y9K"
      },
      "source": [
        "optimizer   = tf.keras.optimizers.Adam(learning_rate=0.001)\n",
        "loss        = tf.keras.losses.MeanAbsoluteError()"
      ],
      "execution_count": 36,
      "outputs": []
    },
    {
      "cell_type": "code",
      "metadata": {
        "id": "xBV1CGHh-y9K"
      },
      "source": [
        "model.compile(optimizer=optimizer,\n",
        "              loss=loss)"
      ],
      "execution_count": 37,
      "outputs": []
    },
    {
      "cell_type": "code",
      "metadata": {
        "id": "DbiyBxb3-7BH"
      },
      "source": [
        "early_stopping    = EarlyStopping(monitor='val_loss', patience=10)\n",
        "reduce_lr         = ReduceLROnPlateau(monitor='val_loss', patience=10, min_lr=0.001, mode='min', verbose=1)\n",
        "model_checkpoint  = ModelCheckpoint(monitor='val_loss', filepath='./best_model.h5', save_best_only=True)"
      ],
      "execution_count": 38,
      "outputs": []
    },
    {
      "cell_type": "code",
      "metadata": {
        "id": "j0DypSvq-y9L"
      },
      "source": [
        "epochs = 200\n",
        "callbacks = [early_stopping, reduce_lr, model_checkpoint]"
      ],
      "execution_count": 39,
      "outputs": []
    },
    {
      "cell_type": "code",
      "metadata": {
        "colab": {
          "base_uri": "https://localhost:8080/"
        },
        "id": "ewwiteGS-t0z",
        "outputId": "32ae73f5-0cfe-4633-84ae-de1cc8adc445"
      },
      "source": [
        "history = model.fit(X_train_normal, y_train, epochs=epochs, verbose=1, callbacks=callbacks, validation_data = (X_test_normal, y_test))"
      ],
      "execution_count": 40,
      "outputs": [
        {
          "output_type": "stream",
          "name": "stdout",
          "text": [
            "Epoch 1/200\n",
            "34/34 [==============================] - 1s 6ms/step - loss: 13337.5342 - val_loss: 12941.9111\n",
            "Epoch 2/200\n",
            "34/34 [==============================] - 0s 3ms/step - loss: 13256.0898 - val_loss: 12750.8418\n",
            "Epoch 3/200\n",
            "34/34 [==============================] - 0s 2ms/step - loss: 12810.8008 - val_loss: 11897.4805\n",
            "Epoch 4/200\n",
            "34/34 [==============================] - 0s 3ms/step - loss: 11323.5322 - val_loss: 9780.2715\n",
            "Epoch 5/200\n",
            "34/34 [==============================] - 0s 2ms/step - loss: 9017.1836 - val_loss: 8302.3730\n",
            "Epoch 6/200\n",
            "34/34 [==============================] - 0s 3ms/step - loss: 7960.5820 - val_loss: 8143.3472\n",
            "Epoch 7/200\n",
            "34/34 [==============================] - 0s 2ms/step - loss: 7775.8345 - val_loss: 7963.2778\n",
            "Epoch 8/200\n",
            "34/34 [==============================] - 0s 3ms/step - loss: 7602.0850 - val_loss: 7776.9072\n",
            "Epoch 9/200\n",
            "34/34 [==============================] - 0s 2ms/step - loss: 7423.9785 - val_loss: 7598.5508\n",
            "Epoch 10/200\n",
            "34/34 [==============================] - 0s 3ms/step - loss: 7224.3867 - val_loss: 7377.9077\n",
            "Epoch 11/200\n",
            "34/34 [==============================] - 0s 3ms/step - loss: 7003.1572 - val_loss: 7123.1621\n",
            "Epoch 12/200\n",
            "34/34 [==============================] - 0s 2ms/step - loss: 6737.5986 - val_loss: 6836.2656\n",
            "Epoch 13/200\n",
            "34/34 [==============================] - 0s 3ms/step - loss: 6420.8164 - val_loss: 6454.2324\n",
            "Epoch 14/200\n",
            "34/34 [==============================] - 0s 2ms/step - loss: 6011.4102 - val_loss: 5962.6914\n",
            "Epoch 15/200\n",
            "34/34 [==============================] - 0s 2ms/step - loss: 5502.5981 - val_loss: 5298.2754\n",
            "Epoch 16/200\n",
            "34/34 [==============================] - 0s 2ms/step - loss: 4898.1914 - val_loss: 4553.8369\n",
            "Epoch 17/200\n",
            "34/34 [==============================] - 0s 2ms/step - loss: 4306.8472 - val_loss: 3887.0115\n",
            "Epoch 18/200\n",
            "34/34 [==============================] - 0s 2ms/step - loss: 3846.7727 - val_loss: 3546.0115\n",
            "Epoch 19/200\n",
            "34/34 [==============================] - 0s 2ms/step - loss: 3679.8013 - val_loss: 3478.8560\n",
            "Epoch 20/200\n",
            "34/34 [==============================] - 0s 2ms/step - loss: 3658.0476 - val_loss: 3453.4880\n",
            "Epoch 21/200\n",
            "34/34 [==============================] - 0s 2ms/step - loss: 3649.9644 - val_loss: 3454.6086\n",
            "Epoch 22/200\n",
            "34/34 [==============================] - 0s 2ms/step - loss: 3642.1025 - val_loss: 3435.2869\n",
            "Epoch 23/200\n",
            "34/34 [==============================] - 0s 2ms/step - loss: 3632.8838 - val_loss: 3423.5095\n",
            "Epoch 24/200\n",
            "34/34 [==============================] - 0s 2ms/step - loss: 3626.0837 - val_loss: 3406.4739\n",
            "Epoch 25/200\n",
            "34/34 [==============================] - 0s 2ms/step - loss: 3619.1113 - val_loss: 3395.9246\n",
            "Epoch 26/200\n",
            "34/34 [==============================] - 0s 3ms/step - loss: 3604.5515 - val_loss: 3374.9189\n",
            "Epoch 27/200\n",
            "34/34 [==============================] - 0s 3ms/step - loss: 3595.3218 - val_loss: 3365.4822\n",
            "Epoch 28/200\n",
            "34/34 [==============================] - 0s 2ms/step - loss: 3595.1331 - val_loss: 3346.0603\n",
            "Epoch 29/200\n",
            "34/34 [==============================] - 0s 2ms/step - loss: 3580.1824 - val_loss: 3343.8594\n",
            "Epoch 30/200\n",
            "34/34 [==============================] - 0s 3ms/step - loss: 3586.0654 - val_loss: 3318.0117\n",
            "Epoch 31/200\n",
            "34/34 [==============================] - 0s 2ms/step - loss: 3580.5510 - val_loss: 3305.4590\n",
            "Epoch 32/200\n",
            "34/34 [==============================] - 0s 2ms/step - loss: 3559.0090 - val_loss: 3290.9553\n",
            "Epoch 33/200\n",
            "34/34 [==============================] - 0s 2ms/step - loss: 3564.3247 - val_loss: 3277.2397\n",
            "Epoch 34/200\n",
            "34/34 [==============================] - 0s 2ms/step - loss: 3538.0286 - val_loss: 3285.9270\n",
            "Epoch 35/200\n",
            "34/34 [==============================] - 0s 2ms/step - loss: 3544.3093 - val_loss: 3253.6482\n",
            "Epoch 36/200\n",
            "34/34 [==============================] - 0s 2ms/step - loss: 3529.1992 - val_loss: 3236.6060\n",
            "Epoch 37/200\n",
            "34/34 [==============================] - 0s 2ms/step - loss: 3522.7830 - val_loss: 3252.1614\n",
            "Epoch 38/200\n",
            "34/34 [==============================] - 0s 2ms/step - loss: 3529.1870 - val_loss: 3224.8892\n",
            "Epoch 39/200\n",
            "34/34 [==============================] - 0s 2ms/step - loss: 3511.3230 - val_loss: 3200.8601\n",
            "Epoch 40/200\n",
            "34/34 [==============================] - 0s 2ms/step - loss: 3515.7534 - val_loss: 3198.6848\n",
            "Epoch 41/200\n",
            "34/34 [==============================] - 0s 3ms/step - loss: 3497.4705 - val_loss: 3189.2576\n",
            "Epoch 42/200\n",
            "34/34 [==============================] - 0s 2ms/step - loss: 3498.5669 - val_loss: 3192.5994\n",
            "Epoch 43/200\n",
            "34/34 [==============================] - 0s 2ms/step - loss: 3494.7000 - val_loss: 3171.2009\n",
            "Epoch 44/200\n",
            "34/34 [==============================] - 0s 2ms/step - loss: 3482.7583 - val_loss: 3160.4324\n",
            "Epoch 45/200\n",
            "34/34 [==============================] - 0s 2ms/step - loss: 3476.3777 - val_loss: 3167.8574\n",
            "Epoch 46/200\n",
            "34/34 [==============================] - 0s 2ms/step - loss: 3484.9028 - val_loss: 3166.3604\n",
            "Epoch 47/200\n",
            "34/34 [==============================] - 0s 2ms/step - loss: 3489.2544 - val_loss: 3167.3809\n",
            "Epoch 48/200\n",
            "34/34 [==============================] - 0s 3ms/step - loss: 3483.1650 - val_loss: 3161.8477\n",
            "Epoch 49/200\n",
            "34/34 [==============================] - 0s 2ms/step - loss: 3502.9153 - val_loss: 3178.1230\n",
            "Epoch 50/200\n",
            "34/34 [==============================] - 0s 2ms/step - loss: 3475.0605 - val_loss: 3163.4990\n",
            "Epoch 51/200\n",
            "34/34 [==============================] - 0s 2ms/step - loss: 3476.5498 - val_loss: 3157.7993\n",
            "Epoch 52/200\n",
            "34/34 [==============================] - 0s 2ms/step - loss: 3482.6375 - val_loss: 3165.1294\n",
            "Epoch 53/200\n",
            "34/34 [==============================] - 0s 2ms/step - loss: 3474.9702 - val_loss: 3165.2917\n",
            "Epoch 54/200\n",
            "34/34 [==============================] - 0s 2ms/step - loss: 3491.6460 - val_loss: 3198.7766\n",
            "Epoch 55/200\n",
            "34/34 [==============================] - 0s 3ms/step - loss: 3506.2529 - val_loss: 3183.2561\n",
            "Epoch 56/200\n",
            "34/34 [==============================] - 0s 2ms/step - loss: 3482.8567 - val_loss: 3159.0088\n",
            "Epoch 57/200\n",
            "34/34 [==============================] - 0s 2ms/step - loss: 3480.4517 - val_loss: 3168.4646\n",
            "Epoch 58/200\n",
            "34/34 [==============================] - 0s 2ms/step - loss: 3477.5190 - val_loss: 3161.0193\n",
            "Epoch 59/200\n",
            "34/34 [==============================] - 0s 2ms/step - loss: 3488.2781 - val_loss: 3179.1980\n",
            "Epoch 60/200\n",
            "34/34 [==============================] - 0s 2ms/step - loss: 3485.4937 - val_loss: 3170.9949\n",
            "Epoch 61/200\n",
            "34/34 [==============================] - 0s 2ms/step - loss: 3485.7603 - val_loss: 3158.6685\n"
          ]
        }
      ]
    },
    {
      "cell_type": "code",
      "metadata": {
        "colab": {
          "base_uri": "https://localhost:8080/",
          "height": 317
        },
        "id": "beJoq089_NsF",
        "outputId": "69a966ad-1a44-47d8-adbe-b940dc3f871f"
      },
      "source": [
        "loss     = history.history['loss']\n",
        "val_loss = history.history['val_loss']\n",
        "\n",
        "epochs   = range(len(loss))\n",
        "\n",
        "plt.plot(epochs, loss, 'r', label = 'Training')\n",
        "plt.plot(epochs, val_loss, 'b', label = 'Validation')\n",
        "plt.title('Training and Validation Loss')\n",
        "plt.legend()\n",
        "plt.figure()"
      ],
      "execution_count": 41,
      "outputs": [
        {
          "output_type": "execute_result",
          "data": {
            "text/plain": [
              "<Figure size 432x288 with 0 Axes>"
            ]
          },
          "metadata": {},
          "execution_count": 41
        },
        {
          "output_type": "display_data",
          "data": {
            "image/png": "[encoded data removed]",
            "text/plain": [
              "<Figure size 432x288 with 1 Axes>"
            ]
          },
          "metadata": {
            "needs_background": "light"
          }
        },
        {
          "output_type": "display_data",
          "data": {
            "text/plain": [
              "<Figure size 432x288 with 0 Axes>"
            ]
          },
          "metadata": {}
        }
      ]
    },
    {
      "cell_type": "code",
      "metadata": {
        "colab": {
          "base_uri": "https://localhost:8080/"
        },
        "id": "UeJJeZha__cf",
        "outputId": "1c0ec263-f4d3-4218-b784-922c6b9d2a44"
      },
      "source": [
        "model.evaluate(X_test_normal, y_test)"
      ],
      "execution_count": 42,
      "outputs": [
        {
          "output_type": "stream",
          "name": "stdout",
          "text": [
            "9/9 [==============================] - 0s 1ms/step - loss: 3158.6685\n"
          ]
        },
        {
          "output_type": "execute_result",
          "data": {
            "text/plain": [
              "3158.66845703125"
            ]
          },
          "metadata": {},
          "execution_count": 42
        }
      ]
    }
  ]
}
