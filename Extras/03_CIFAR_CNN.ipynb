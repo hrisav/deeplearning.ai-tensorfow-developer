{
  "nbformat": 4,
  "nbformat_minor": 0,
  "metadata": {
    "colab": {
      "name": "03_CIFAR_CNN.ipynb",
      "provenance": [],
      "toc_visible": true
    },
    "kernelspec": {
      "name": "python3",
      "display_name": "Python 3"
    },
    "language_info": {
      "name": "python"
    },
    "accelerator": "GPU"
  },
  "cells": [
    {
      "cell_type": "markdown",
      "metadata": {
        "id": "Ib43Z56h-JMo"
      },
      "source": [
        "## With Data Generator"
      ]
    },
    {
      "cell_type": "code",
      "metadata": {
        "id": "JmoM1rq1C_6e"
      },
      "source": [
        "import tensorflow as tf\n",
        "from tensorflow.keras import layers\n",
        "from tensorflow.keras.models import Sequential\n",
        "from tensorflow.keras.callbacks import EarlyStopping, ReduceLROnPlateau, ModelCheckpoint"
      ],
      "execution_count": 1,
      "outputs": []
    },
    {
      "cell_type": "code",
      "metadata": {
        "id": "_au9E1Y-Kli1"
      },
      "source": [
        "import pandas as pd\n",
        "import numpy as np\n",
        "import matplotlib.pyplot as plt\n",
        "import seaborn as sns"
      ],
      "execution_count": 2,
      "outputs": []
    },
    {
      "cell_type": "code",
      "metadata": {
        "id": "pS7HFbEkKtVQ"
      },
      "source": [
        "cifar10 = tf.keras.datasets.cifar10"
      ],
      "execution_count": 3,
      "outputs": []
    },
    {
      "cell_type": "code",
      "metadata": {
        "colab": {
          "base_uri": "https://localhost:8080/"
        },
        "id": "hoHl4KVcKy7e",
        "outputId": "7c027675-bde9-4fe1-ac91-b8a70a1771fa"
      },
      "source": [
        "(X_train, y_train), (X_test, y_test) = cifar10.load_data()\n",
        "\n",
        "X_train.shape, y_train.shape, X_test.shape, y_test.shape"
      ],
      "execution_count": 4,
      "outputs": [
        {
          "output_type": "execute_result",
          "data": {
            "text/plain": [
              "((50000, 32, 32, 3), (50000, 1), (10000, 32, 32, 3), (10000, 1))"
            ]
          },
          "metadata": {},
          "execution_count": 4
        }
      ]
    },
    {
      "cell_type": "code",
      "metadata": {
        "colab": {
          "base_uri": "https://localhost:8080/"
        },
        "id": "oCdnd7XLq3iv",
        "outputId": "cccdef38-c910-45f5-c5e2-f77547d7778b"
      },
      "source": [
        "y_train[:5]"
      ],
      "execution_count": 5,
      "outputs": [
        {
          "output_type": "execute_result",
          "data": {
            "text/plain": [
              "array([[6],\n",
              "       [9],\n",
              "       [9],\n",
              "       [4],\n",
              "       [1]], dtype=uint8)"
            ]
          },
          "metadata": {},
          "execution_count": 5
        }
      ]
    },
    {
      "cell_type": "code",
      "metadata": {
        "id": "YRZNPhPmsx9N"
      },
      "source": [
        "y_train_flat = [item for sublist in y_train for item in sublist]"
      ],
      "execution_count": 6,
      "outputs": []
    },
    {
      "cell_type": "code",
      "metadata": {
        "colab": {
          "base_uri": "https://localhost:8080/"
        },
        "id": "ptl2WHForIN0",
        "outputId": "9246e063-e5aa-4c32-c177-2eeb3fe2bf2e"
      },
      "source": [
        "import collections\n",
        "\n",
        "collections.Counter(list(y_train_flat))"
      ],
      "execution_count": 7,
      "outputs": [
        {
          "output_type": "execute_result",
          "data": {
            "text/plain": [
              "Counter({0: 5000,\n",
              "         1: 5000,\n",
              "         2: 5000,\n",
              "         3: 5000,\n",
              "         4: 5000,\n",
              "         5: 5000,\n",
              "         6: 5000,\n",
              "         7: 5000,\n",
              "         8: 5000,\n",
              "         9: 5000})"
            ]
          },
          "metadata": {},
          "execution_count": 7
        }
      ]
    },
    {
      "cell_type": "code",
      "metadata": {
        "id": "Kg4R4Cl7LW2G"
      },
      "source": [
        "class_names = ['airplane', 'automobile', 'bird', 'cat', 'deer',\n",
        "               'dog', 'frog', 'horse', 'ship', 'truck']"
      ],
      "execution_count": 8,
      "outputs": []
    },
    {
      "cell_type": "code",
      "metadata": {
        "colab": {
          "base_uri": "https://localhost:8080/",
          "height": 589
        },
        "id": "oE3JvtxbLmPK",
        "outputId": "976f6a97-e799-4195-9384-0b012e8a277e"
      },
      "source": [
        "plt.figure(figsize=(10,10))\n",
        "\n",
        "for i in range(16):\n",
        "    plt.subplot(4,4,i+1)\n",
        "    plt.xticks([])\n",
        "    plt.yticks([])\n",
        "    plt.grid(False)\n",
        "    plt.imshow(X_train[i], cmap=plt.cm.binary)\n",
        "    # The CIFAR labels happen to be arrays, \n",
        "    # which is why you need the extra index\n",
        "    plt.xlabel(class_names[y_train[i][0]])\n",
        "    \n",
        "plt.show()"
      ],
      "execution_count": 9,
      "outputs": [
        {
          "output_type": "display_data",
          "data": {
            "image/png": "[encoded data removed]",
            "text/plain": [
              "<Figure size 720x720 with 16 Axes>"
            ]
          },
          "metadata": {}
        }
      ]
    },
    {
      "cell_type": "code",
      "metadata": {
        "id": "OT2Gk3PBtoWV"
      },
      "source": [
        "IMG_HEIGHT = 32\n",
        "IMG_WIDTH = 32\n",
        "CHANNELS = 3\n",
        "BATCH_SIZE = 64"
      ],
      "execution_count": 10,
      "outputs": []
    },
    {
      "cell_type": "code",
      "metadata": {
        "id": "x1KwMfyfgOIN"
      },
      "source": [
        "from tensorflow.keras.preprocessing.image import ImageDataGenerator\n",
        "\n",
        "train_datagen = ImageDataGenerator(\n",
        "                            rescale=1./255.,\n",
        "                            rotation_range=40,\n",
        "                            width_shift_range=0.2,\n",
        "                            height_shift_range=0.2,\n",
        "                            shear_range=0.2,\n",
        "                            zoom_range=0.2,\n",
        "                            horizontal_flip=True,\n",
        "                            vertical_flip=False,\n",
        "                            fill_mode='nearest'\n",
        ")\n",
        "\n",
        "train_generator = train_datagen.flow(X_train,\n",
        "                                     y_train,\n",
        "                                     seed=20,\n",
        "                                     batch_size=BATCH_SIZE)"
      ],
      "execution_count": 11,
      "outputs": []
    },
    {
      "cell_type": "code",
      "metadata": {
        "id": "ckz9x8Pu1_Bn"
      },
      "source": [
        "test_datagen = ImageDataGenerator(\n",
        "                            rescale=1./255.\n",
        ")\n",
        "\n",
        "test_generator = test_datagen.flow(X_test,\n",
        "                                   y_test,\n",
        "                                   seed=20,\n",
        "                                   batch_size=BATCH_SIZE)"
      ],
      "execution_count": 12,
      "outputs": []
    },
    {
      "cell_type": "code",
      "metadata": {
        "colab": {
          "base_uri": "https://localhost:8080/"
        },
        "id": "e5CXBdciuX6Z",
        "outputId": "945a2905-f01f-430d-9567-a8e216fe0c40"
      },
      "source": [
        "len(class_names)"
      ],
      "execution_count": 13,
      "outputs": [
        {
          "output_type": "execute_result",
          "data": {
            "text/plain": [
              "10"
            ]
          },
          "metadata": {},
          "execution_count": 13
        }
      ]
    },
    {
      "cell_type": "code",
      "metadata": {
        "id": "lRHyXPB3xCT6"
      },
      "source": [
        "NUM_CLASSES = len(class_names)"
      ],
      "execution_count": 14,
      "outputs": []
    },
    {
      "cell_type": "code",
      "metadata": {
        "id": "Flbkjao5xFkx"
      },
      "source": [
        "model = Sequential([\n",
        "    layers.InputLayer(input_shape=(IMG_HEIGHT, IMG_WIDTH, CHANNELS)),\n",
        "    layers.Conv2D(32, (3,3), activation='relu'),\n",
        "    layers.MaxPool2D(2, 2),\n",
        "    layers.Dropout(0.5),\n",
        "    layers.Conv2D(64, (3,3), activation='relu'),\n",
        "    layers.MaxPool2D(2,2),\n",
        "    layers.Dropout(0.5),\n",
        "    layers.Flatten(),\n",
        "    layers.Dropout(0.5),\n",
        "    layers.Dense(64, activation='relu'),\n",
        "    layers.Dropout(0.5),\n",
        "    layers.Dense(NUM_CLASSES, activation='softmax')\n",
        "])"
      ],
      "execution_count": 15,
      "outputs": []
    },
    {
      "cell_type": "code",
      "metadata": {
        "colab": {
          "base_uri": "https://localhost:8080/"
        },
        "id": "EnYmzbzjyIX_",
        "outputId": "d006a193-a190-454e-92de-73c584606d80"
      },
      "source": [
        "model.summary()"
      ],
      "execution_count": 16,
      "outputs": [
        {
          "output_type": "stream",
          "name": "stdout",
          "text": [
            "Model: \"sequential\"\n",
            "_________________________________________________________________\n",
            "Layer (type)                 Output Shape              Param #   \n",
            "=================================================================\n",
            "conv2d (Conv2D)              (None, 30, 30, 32)        896       \n",
            "_________________________________________________________________\n",
            "max_pooling2d (MaxPooling2D) (None, 15, 15, 32)        0         \n",
            "_________________________________________________________________\n",
            "dropout (Dropout)            (None, 15, 15, 32)        0         \n",
            "_________________________________________________________________\n",
            "conv2d_1 (Conv2D)            (None, 13, 13, 64)        18496     \n",
            "_________________________________________________________________\n",
            "max_pooling2d_1 (MaxPooling2 (None, 6, 6, 64)          0         \n",
            "_________________________________________________________________\n",
            "dropout_1 (Dropout)          (None, 6, 6, 64)          0         \n",
            "_________________________________________________________________\n",
            "flatten (Flatten)            (None, 2304)              0         \n",
            "_________________________________________________________________\n",
            "dropout_2 (Dropout)          (None, 2304)              0         \n",
            "_________________________________________________________________\n",
            "dense (Dense)                (None, 64)                147520    \n",
            "_________________________________________________________________\n",
            "dropout_3 (Dropout)          (None, 64)                0         \n",
            "_________________________________________________________________\n",
            "dense_1 (Dense)              (None, 10)                650       \n",
            "=================================================================\n",
            "Total params: 167,562\n",
            "Trainable params: 167,562\n",
            "Non-trainable params: 0\n",
            "_________________________________________________________________\n"
          ]
        }
      ]
    },
    {
      "cell_type": "code",
      "metadata": {
        "id": "Umg0GZoNyKG8"
      },
      "source": [
        "optimizer = tf.keras.optimizers.Adam(learning_rate=0.001)\n",
        "loss      = tf.keras.losses.SparseCategoricalCrossentropy()\n",
        "metrics   = ['accuracy']"
      ],
      "execution_count": 17,
      "outputs": []
    },
    {
      "cell_type": "code",
      "metadata": {
        "id": "xqvmXnE_ydkw"
      },
      "source": [
        "model.compile(optimizer=optimizer,\n",
        "              loss=loss,\n",
        "              metrics=metrics)"
      ],
      "execution_count": 18,
      "outputs": []
    },
    {
      "cell_type": "code",
      "metadata": {
        "id": "TeOGtrsjZs8r"
      },
      "source": [
        "early_stopping    = EarlyStopping(monitor='val_loss', patience=5)\n",
        "model_checkpoint  = ModelCheckpoint(monitor='val_loss', filepath='./best_model.h5', save_best_only=True)"
      ],
      "execution_count": 19,
      "outputs": []
    },
    {
      "cell_type": "code",
      "metadata": {
        "id": "Hs048EIcZhdV"
      },
      "source": [
        "EPOCHS = 20\n",
        "CALLBACKS = [early_stopping, model_checkpoint]"
      ],
      "execution_count": 20,
      "outputs": []
    },
    {
      "cell_type": "code",
      "metadata": {
        "colab": {
          "base_uri": "https://localhost:8080/"
        },
        "id": "Bz2HJ7JXy209",
        "outputId": "eab846b2-9fe3-4317-b991-118d32f4acb9"
      },
      "source": [
        "history = model.fit(train_generator,\n",
        "                    validation_data=test_generator,\n",
        "                    epochs=EPOCHS,\n",
        "                    callbacks = CALLBACKS,\n",
        "                    verbose=1\n",
        "                    )\n",
        "\n",
        "# if test_generator not present, then we can pass like validation_data=(X_test, y_test)"
      ],
      "execution_count": 21,
      "outputs": [
        {
          "output_type": "stream",
          "name": "stdout",
          "text": [
            "Epoch 1/20\n",
            "782/782 [==============================] - 43s 47ms/step - loss: 2.0455 - accuracy: 0.1280 - val_loss: 1.7510 - val_accuracy: 0.0282\n",
            "Epoch 2/20\n",
            "782/782 [==============================] - 36s 46ms/step - loss: 1.8674 - accuracy: 0.0886 - val_loss: 1.6359 - val_accuracy: 0.0536\n",
            "Epoch 3/20\n",
            "782/782 [==============================] - 35s 45ms/step - loss: 1.8141 - accuracy: 0.0859 - val_loss: 1.6385 - val_accuracy: 0.0575\n",
            "Epoch 4/20\n",
            "782/782 [==============================] - 36s 46ms/step - loss: 1.7799 - accuracy: 0.0847 - val_loss: 1.5590 - val_accuracy: 0.0386\n",
            "Epoch 5/20\n",
            "782/782 [==============================] - 36s 46ms/step - loss: 1.7506 - accuracy: 0.0851 - val_loss: 1.5944 - val_accuracy: 0.0733\n",
            "Epoch 6/20\n",
            "782/782 [==============================] - 36s 46ms/step - loss: 1.7295 - accuracy: 0.0835 - val_loss: 1.4635 - val_accuracy: 0.0647\n",
            "Epoch 7/20\n",
            "782/782 [==============================] - 37s 47ms/step - loss: 1.7304 - accuracy: 0.0862 - val_loss: 1.5069 - val_accuracy: 0.0536\n",
            "Epoch 8/20\n",
            "782/782 [==============================] - 37s 47ms/step - loss: 1.7117 - accuracy: 0.0858 - val_loss: 1.4597 - val_accuracy: 0.0677\n",
            "Epoch 9/20\n",
            "782/782 [==============================] - 37s 48ms/step - loss: 1.7020 - accuracy: 0.0864 - val_loss: 1.5116 - val_accuracy: 0.0493\n",
            "Epoch 10/20\n",
            "782/782 [==============================] - 36s 46ms/step - loss: 1.6909 - accuracy: 0.0893 - val_loss: 1.4220 - val_accuracy: 0.0620\n",
            "Epoch 11/20\n",
            "782/782 [==============================] - 37s 47ms/step - loss: 1.6831 - accuracy: 0.0873 - val_loss: 1.4671 - val_accuracy: 0.0423\n",
            "Epoch 12/20\n",
            "782/782 [==============================] - 36s 47ms/step - loss: 1.6778 - accuracy: 0.0871 - val_loss: 1.4478 - val_accuracy: 0.0503\n",
            "Epoch 13/20\n",
            "782/782 [==============================] - 36s 46ms/step - loss: 1.6720 - accuracy: 0.0851 - val_loss: 1.4116 - val_accuracy: 0.0633\n",
            "Epoch 14/20\n",
            "782/782 [==============================] - 37s 47ms/step - loss: 1.6709 - accuracy: 0.0886 - val_loss: 1.4209 - val_accuracy: 0.0649\n",
            "Epoch 15/20\n",
            "782/782 [==============================] - 37s 47ms/step - loss: 1.6627 - accuracy: 0.0865 - val_loss: 1.4208 - val_accuracy: 0.0593\n",
            "Epoch 16/20\n",
            "782/782 [==============================] - 37s 47ms/step - loss: 1.6492 - accuracy: 0.0869 - val_loss: 1.3988 - val_accuracy: 0.0691\n",
            "Epoch 17/20\n",
            "782/782 [==============================] - 37s 47ms/step - loss: 1.6494 - accuracy: 0.0889 - val_loss: 1.3883 - val_accuracy: 0.0518\n",
            "Epoch 18/20\n",
            "782/782 [==============================] - 37s 48ms/step - loss: 1.6464 - accuracy: 0.0849 - val_loss: 1.4092 - val_accuracy: 0.0684\n",
            "Epoch 19/20\n",
            "782/782 [==============================] - 37s 48ms/step - loss: 1.6447 - accuracy: 0.0864 - val_loss: 1.4143 - val_accuracy: 0.0600\n",
            "Epoch 20/20\n",
            "782/782 [==============================] - 37s 48ms/step - loss: 1.6426 - accuracy: 0.0874 - val_loss: 1.4238 - val_accuracy: 0.0644\n"
          ]
        }
      ]
    },
    {
      "cell_type": "code",
      "metadata": {
        "colab": {
          "base_uri": "https://localhost:8080/",
          "height": 580
        },
        "id": "YuJz_W88y24A",
        "outputId": "9e1dd893-c819-4c3f-874f-69a655053c6e"
      },
      "source": [
        "acc      = history.history['accuracy']\n",
        "val_acc  = history.history['val_accuracy']\n",
        "\n",
        "epochs   = range(len(acc))\n",
        "\n",
        "plt.plot(epochs, acc, 'r', label = 'Training')\n",
        "plt.plot(epochs, val_acc, 'b', label = 'Validation')\n",
        "plt.title('Training and Validation Accuracy')\n",
        "plt.legend()\n",
        "plt.figure()\n",
        "\n",
        "loss     = history.history['loss']\n",
        "val_loss = history.history['val_loss']\n",
        "\n",
        "epochs   = range(len(loss))\n",
        "\n",
        "plt.plot(epochs, loss, 'r', label = 'Training')\n",
        "plt.plot(epochs, val_loss, 'b', label = 'Validation')\n",
        "plt.title('Training and Validation Loss')\n",
        "plt.legend()\n",
        "plt.figure()"
      ],
      "execution_count": 22,
      "outputs": [
        {
          "output_type": "execute_result",
          "data": {
            "text/plain": [
              "<Figure size 432x288 with 0 Axes>"
            ]
          },
          "metadata": {},
          "execution_count": 22
        },
        {
          "output_type": "display_data",
          "data": {
            "image/png": "[encoded data removed]",
            "text/plain": [
              "<Figure size 432x288 with 1 Axes>"
            ]
          },
          "metadata": {
            "needs_background": "light"
          }
        },
        {
          "output_type": "display_data",
          "data": {
            "image/png": "[encoded data removed]",
            "text/plain": [
              "<Figure size 432x288 with 1 Axes>"
            ]
          },
          "metadata": {
            "needs_background": "light"
          }
        },
        {
          "output_type": "display_data",
          "data": {
            "text/plain": [
              "<Figure size 432x288 with 0 Axes>"
            ]
          },
          "metadata": {}
        }
      ]
    },
    {
      "cell_type": "code",
      "metadata": {
        "colab": {
          "base_uri": "https://localhost:8080/"
        },
        "id": "3CHJUcW3a7lU",
        "outputId": "fe6b338d-6b5c-469d-e8ce-246eb25cf27d"
      },
      "source": [
        "model.evaluate(X_test, y_test, batch_size=BATCH_SIZE, verbose=1)"
      ],
      "execution_count": 23,
      "outputs": [
        {
          "output_type": "stream",
          "name": "stdout",
          "text": [
            "157/157 [==============================] - 1s 4ms/step - loss: 157.0125 - accuracy: 0.8445\n"
          ]
        },
        {
          "output_type": "execute_result",
          "data": {
            "text/plain": [
              "[157.01254272460938, 0.8445000052452087]"
            ]
          },
          "metadata": {},
          "execution_count": 23
        }
      ]
    },
    {
      "cell_type": "markdown",
      "metadata": {
        "id": "r7CXdvh1fg6N"
      },
      "source": [
        "## With Data Generator (only Scaling)"
      ]
    },
    {
      "cell_type": "code",
      "metadata": {
        "colab": {
          "base_uri": "https://localhost:8080/"
        },
        "id": "TL7GvNadfLKC",
        "outputId": "f6b0893a-7666-4c0e-8ad4-5f8b38670461"
      },
      "source": [
        "(X_train, y_train), (X_test, y_test) = cifar10.load_data()\n",
        "\n",
        "X_train.shape, y_train.shape, X_test.shape, y_test.shape"
      ],
      "execution_count": null,
      "outputs": [
        {
          "output_type": "execute_result",
          "data": {
            "text/plain": [
              "((50000, 32, 32, 3), (50000, 1), (10000, 32, 32, 3), (10000, 1))"
            ]
          },
          "metadata": {},
          "execution_count": 33
        }
      ]
    },
    {
      "cell_type": "code",
      "metadata": {
        "id": "ZyrHtbo5fqFy"
      },
      "source": [
        "class_names = ['airplane', 'automobile', 'bird', 'cat', 'deer',\n",
        "               'dog', 'frog', 'horse', 'ship', 'truck']"
      ],
      "execution_count": null,
      "outputs": []
    },
    {
      "cell_type": "code",
      "metadata": {
        "id": "8aU2Frqrf3UR"
      },
      "source": [
        "IMG_HEIGHT = 32\n",
        "IMG_WIDTH = 32\n",
        "CHANNELS = 3\n",
        "BATCH_SIZE = 64"
      ],
      "execution_count": null,
      "outputs": []
    },
    {
      "cell_type": "code",
      "metadata": {
        "id": "jnG7GwQsf3UT"
      },
      "source": [
        "from tensorflow.keras.preprocessing.image import ImageDataGenerator\n",
        "\n",
        "train_datagen = ImageDataGenerator(\n",
        "                            rescale=1./255.\n",
        ")\n",
        "\n",
        "train_generator = train_datagen.flow(X_train,\n",
        "                                     y_train,\n",
        "                                     seed=20,\n",
        "                                     batch_size=BATCH_SIZE)"
      ],
      "execution_count": null,
      "outputs": []
    },
    {
      "cell_type": "code",
      "metadata": {
        "id": "eqK3WLDSf3UU"
      },
      "source": [
        "test_datagen = ImageDataGenerator(\n",
        "                            rescale=1./255.\n",
        ")\n",
        "\n",
        "test_generator = test_datagen.flow(X_test,\n",
        "                                   y_test,\n",
        "                                   seed=20,\n",
        "                                   batch_size=BATCH_SIZE)"
      ],
      "execution_count": null,
      "outputs": []
    },
    {
      "cell_type": "code",
      "metadata": {
        "id": "46IpnbYHf3UV"
      },
      "source": [
        "NUM_CLASSES = len(class_names)"
      ],
      "execution_count": null,
      "outputs": []
    },
    {
      "cell_type": "code",
      "metadata": {
        "id": "fK2zcagKf3UW"
      },
      "source": [
        "model = Sequential([\n",
        "    layers.InputLayer(input_shape=(IMG_HEIGHT, IMG_WIDTH, CHANNELS)),\n",
        "    layers.Conv2D(32, (3,3), activation='relu'),\n",
        "    layers.MaxPool2D(2, 2),\n",
        "    layers.Dropout(0.5),\n",
        "    layers.Conv2D(64, (3,3), activation='relu'),\n",
        "    layers.MaxPool2D(2,2),\n",
        "    layers.Dropout(0.5),\n",
        "    layers.Flatten(),\n",
        "    layers.Dropout(0.5),\n",
        "    layers.Dense(64, activation='relu'),\n",
        "    layers.Dropout(0.5),\n",
        "    layers.Dense(NUM_CLASSES, activation='softmax')\n",
        "])"
      ],
      "execution_count": null,
      "outputs": []
    },
    {
      "cell_type": "code",
      "metadata": {
        "id": "e8po3RMPf3UX"
      },
      "source": [
        "optimizer = tf.keras.optimizers.Adam(learning_rate=0.001)\n",
        "loss      = tf.keras.losses.SparseCategoricalCrossentropy()\n",
        "metrics   = ['accuracy']"
      ],
      "execution_count": null,
      "outputs": []
    },
    {
      "cell_type": "code",
      "metadata": {
        "id": "hk-1xK4Wf3UY"
      },
      "source": [
        "model.compile(optimizer=optimizer,\n",
        "              loss=loss,\n",
        "              metrics=metrics)"
      ],
      "execution_count": null,
      "outputs": []
    },
    {
      "cell_type": "code",
      "metadata": {
        "id": "9Q-4n-oGf3UY"
      },
      "source": [
        "early_stopping    = EarlyStopping(monitor='val_loss', patience=7)\n",
        "model_checkpoint  = ModelCheckpoint(monitor='val_loss', filepath='./best_model.h5', save_best_only=True)"
      ],
      "execution_count": null,
      "outputs": []
    },
    {
      "cell_type": "code",
      "metadata": {
        "id": "mzfSws02f3UZ"
      },
      "source": [
        "EPOCHS = 50\n",
        "CALLBACKS = [early_stopping, model_checkpoint]"
      ],
      "execution_count": null,
      "outputs": []
    },
    {
      "cell_type": "code",
      "metadata": {
        "colab": {
          "base_uri": "https://localhost:8080/"
        },
        "id": "7q-yNXyuf3UZ",
        "outputId": "bc0a0f7b-1870-45a9-d894-30d6c6265986"
      },
      "source": [
        "history = model.fit(train_generator,\n",
        "                    validation_data=test_generator,\n",
        "                    epochs=EPOCHS,\n",
        "                    callbacks = CALLBACKS,\n",
        "                    verbose=1\n",
        "                    )"
      ],
      "execution_count": null,
      "outputs": [
        {
          "output_type": "stream",
          "name": "stdout",
          "text": [
            "Epoch 1/50\n",
            "782/782 [==============================] - 8s 10ms/step - loss: 1.9423 - accuracy: 0.1258 - val_loss: 1.5853 - val_accuracy: 0.0974\n",
            "Epoch 2/50\n",
            "782/782 [==============================] - 7s 9ms/step - loss: 1.6417 - accuracy: 0.0937 - val_loss: 1.4954 - val_accuracy: 0.0550\n",
            "Epoch 3/50\n",
            "782/782 [==============================] - 7s 9ms/step - loss: 1.5615 - accuracy: 0.0855 - val_loss: 1.3832 - val_accuracy: 0.0618\n",
            "Epoch 4/50\n",
            "782/782 [==============================] - 7s 9ms/step - loss: 1.5192 - accuracy: 0.0856 - val_loss: 1.3556 - val_accuracy: 0.0794\n",
            "Epoch 5/50\n",
            "782/782 [==============================] - 7s 10ms/step - loss: 1.4818 - accuracy: 0.0864 - val_loss: 1.3621 - val_accuracy: 0.0610\n",
            "Epoch 6/50\n",
            "782/782 [==============================] - 7s 9ms/step - loss: 1.4570 - accuracy: 0.0853 - val_loss: 1.3252 - val_accuracy: 0.0849\n",
            "Epoch 7/50\n",
            "782/782 [==============================] - 7s 10ms/step - loss: 1.4438 - accuracy: 0.0874 - val_loss: 1.2716 - val_accuracy: 0.0715\n",
            "Epoch 8/50\n",
            "782/782 [==============================] - 7s 9ms/step - loss: 1.4221 - accuracy: 0.0891 - val_loss: 1.2592 - val_accuracy: 0.0656\n",
            "Epoch 9/50\n",
            "782/782 [==============================] - 7s 9ms/step - loss: 1.4038 - accuracy: 0.0892 - val_loss: 1.2485 - val_accuracy: 0.0712\n",
            "Epoch 10/50\n",
            "782/782 [==============================] - 8s 10ms/step - loss: 1.3972 - accuracy: 0.0894 - val_loss: 1.2056 - val_accuracy: 0.0827\n",
            "Epoch 11/50\n",
            "782/782 [==============================] - 8s 10ms/step - loss: 1.3860 - accuracy: 0.0882 - val_loss: 1.2178 - val_accuracy: 0.0621\n",
            "Epoch 12/50\n",
            "782/782 [==============================] - 8s 10ms/step - loss: 1.3765 - accuracy: 0.0902 - val_loss: 1.2112 - val_accuracy: 0.0819\n",
            "Epoch 13/50\n",
            "782/782 [==============================] - 8s 10ms/step - loss: 1.3699 - accuracy: 0.0904 - val_loss: 1.2103 - val_accuracy: 0.0658\n",
            "Epoch 14/50\n",
            "782/782 [==============================] - 7s 9ms/step - loss: 1.3507 - accuracy: 0.0900 - val_loss: 1.1586 - val_accuracy: 0.0716\n",
            "Epoch 15/50\n",
            "782/782 [==============================] - 7s 10ms/step - loss: 1.3484 - accuracy: 0.0897 - val_loss: 1.1524 - val_accuracy: 0.0567\n",
            "Epoch 16/50\n",
            "782/782 [==============================] - 8s 10ms/step - loss: 1.3450 - accuracy: 0.0921 - val_loss: 1.1429 - val_accuracy: 0.0774\n",
            "Epoch 17/50\n",
            "782/782 [==============================] - 8s 10ms/step - loss: 1.3352 - accuracy: 0.0903 - val_loss: 1.1688 - val_accuracy: 0.0646\n",
            "Epoch 18/50\n",
            "782/782 [==============================] - 8s 10ms/step - loss: 1.3310 - accuracy: 0.0905 - val_loss: 1.1640 - val_accuracy: 0.0652\n",
            "Epoch 19/50\n",
            "782/782 [==============================] - 8s 10ms/step - loss: 1.3271 - accuracy: 0.0926 - val_loss: 1.1440 - val_accuracy: 0.0709\n",
            "Epoch 20/50\n",
            "782/782 [==============================] - 7s 9ms/step - loss: 1.3251 - accuracy: 0.0897 - val_loss: 1.1297 - val_accuracy: 0.0772\n",
            "Epoch 21/50\n",
            "782/782 [==============================] - 7s 9ms/step - loss: 1.3151 - accuracy: 0.0909 - val_loss: 1.1345 - val_accuracy: 0.0769\n",
            "Epoch 22/50\n",
            "782/782 [==============================] - 7s 9ms/step - loss: 1.3118 - accuracy: 0.0933 - val_loss: 1.1321 - val_accuracy: 0.0661\n",
            "Epoch 23/50\n",
            "782/782 [==============================] - 7s 10ms/step - loss: 1.3024 - accuracy: 0.0924 - val_loss: 1.0917 - val_accuracy: 0.0877\n",
            "Epoch 24/50\n",
            "782/782 [==============================] - 7s 9ms/step - loss: 1.3014 - accuracy: 0.0907 - val_loss: 1.0989 - val_accuracy: 0.0860\n",
            "Epoch 25/50\n",
            "782/782 [==============================] - 7s 9ms/step - loss: 1.3014 - accuracy: 0.0915 - val_loss: 1.1074 - val_accuracy: 0.0920\n",
            "Epoch 26/50\n",
            "782/782 [==============================] - 7s 9ms/step - loss: 1.2961 - accuracy: 0.0910 - val_loss: 1.0849 - val_accuracy: 0.0903\n",
            "Epoch 27/50\n",
            "782/782 [==============================] - 7s 9ms/step - loss: 1.2856 - accuracy: 0.0920 - val_loss: 1.0851 - val_accuracy: 0.0734\n",
            "Epoch 28/50\n",
            "782/782 [==============================] - 7s 9ms/step - loss: 1.2832 - accuracy: 0.0922 - val_loss: 1.0709 - val_accuracy: 0.0872\n",
            "Epoch 29/50\n",
            "782/782 [==============================] - 7s 9ms/step - loss: 1.2807 - accuracy: 0.0924 - val_loss: 1.0658 - val_accuracy: 0.0780\n",
            "Epoch 30/50\n",
            "782/782 [==============================] - 7s 9ms/step - loss: 1.2756 - accuracy: 0.0912 - val_loss: 1.0718 - val_accuracy: 0.0782\n",
            "Epoch 31/50\n",
            "782/782 [==============================] - 7s 9ms/step - loss: 1.2732 - accuracy: 0.0938 - val_loss: 1.0859 - val_accuracy: 0.0713\n",
            "Epoch 32/50\n",
            "782/782 [==============================] - 7s 9ms/step - loss: 1.2652 - accuracy: 0.0933 - val_loss: 1.0620 - val_accuracy: 0.0830\n",
            "Epoch 33/50\n",
            "782/782 [==============================] - 7s 9ms/step - loss: 1.2633 - accuracy: 0.0923 - val_loss: 1.0493 - val_accuracy: 0.0726\n",
            "Epoch 34/50\n",
            "782/782 [==============================] - 8s 10ms/step - loss: 1.2574 - accuracy: 0.0934 - val_loss: 1.0458 - val_accuracy: 0.0816\n",
            "Epoch 35/50\n",
            "782/782 [==============================] - 8s 10ms/step - loss: 1.2582 - accuracy: 0.0936 - val_loss: 1.0418 - val_accuracy: 0.0802\n",
            "Epoch 36/50\n",
            "782/782 [==============================] - 8s 10ms/step - loss: 1.2501 - accuracy: 0.0950 - val_loss: 1.0227 - val_accuracy: 0.0939\n",
            "Epoch 37/50\n",
            "782/782 [==============================] - 7s 9ms/step - loss: 1.2508 - accuracy: 0.0924 - val_loss: 1.0340 - val_accuracy: 0.0740\n",
            "Epoch 38/50\n",
            "782/782 [==============================] - 7s 10ms/step - loss: 1.2475 - accuracy: 0.0939 - val_loss: 1.0409 - val_accuracy: 0.0937\n",
            "Epoch 39/50\n",
            "782/782 [==============================] - 7s 9ms/step - loss: 1.2493 - accuracy: 0.0944 - val_loss: 1.0217 - val_accuracy: 0.0800\n",
            "Epoch 40/50\n",
            "782/782 [==============================] - 8s 10ms/step - loss: 1.2416 - accuracy: 0.0939 - val_loss: 1.0461 - val_accuracy: 0.0944\n",
            "Epoch 41/50\n",
            "782/782 [==============================] - 7s 9ms/step - loss: 1.2403 - accuracy: 0.0961 - val_loss: 1.0380 - val_accuracy: 0.0789\n",
            "Epoch 42/50\n",
            "782/782 [==============================] - 7s 9ms/step - loss: 1.2420 - accuracy: 0.0950 - val_loss: 1.0549 - val_accuracy: 0.0948\n",
            "Epoch 43/50\n",
            "782/782 [==============================] - 7s 10ms/step - loss: 1.2351 - accuracy: 0.0939 - val_loss: 1.0492 - val_accuracy: 0.0854\n",
            "Epoch 44/50\n",
            "782/782 [==============================] - 7s 10ms/step - loss: 1.2341 - accuracy: 0.0945 - val_loss: 1.0697 - val_accuracy: 0.0917\n",
            "Epoch 45/50\n",
            "782/782 [==============================] - 8s 10ms/step - loss: 1.2327 - accuracy: 0.0943 - val_loss: 1.0398 - val_accuracy: 0.0799\n",
            "Epoch 46/50\n",
            "782/782 [==============================] - 8s 10ms/step - loss: 1.2268 - accuracy: 0.0925 - val_loss: 1.1070 - val_accuracy: 0.0993\n"
          ]
        }
      ]
    },
    {
      "cell_type": "code",
      "metadata": {
        "colab": {
          "base_uri": "https://localhost:8080/",
          "height": 580
        },
        "id": "V3wto_j1f3Ua",
        "outputId": "a8f6fcf0-ae76-4808-d2a9-8957604f3c2b"
      },
      "source": [
        "acc      = history.history['accuracy']\n",
        "val_acc  = history.history['val_accuracy']\n",
        "\n",
        "epochs   = range(len(acc))\n",
        "\n",
        "plt.plot(epochs, acc, 'r', label = 'Training')\n",
        "plt.plot(epochs, val_acc, 'b', label = 'Validation')\n",
        "plt.title('Training and Validation Accuracy')\n",
        "plt.legend()\n",
        "plt.figure()\n",
        "\n",
        "loss     = history.history['loss']\n",
        "val_loss = history.history['val_loss']\n",
        "\n",
        "epochs   = range(len(loss))\n",
        "\n",
        "plt.plot(epochs, loss, 'r', label = 'Training')\n",
        "plt.plot(epochs, val_loss, 'b', label = 'Validation')\n",
        "plt.title('Training and Validation Loss')\n",
        "plt.legend()\n",
        "plt.figure()"
      ],
      "execution_count": null,
      "outputs": [
        {
          "output_type": "execute_result",
          "data": {
            "text/plain": [
              "<Figure size 432x288 with 0 Axes>"
            ]
          },
          "metadata": {},
          "execution_count": 45
        },
        {
          "output_type": "display_data",
          "data": {
            "image/png": "[encoded data removed]",
            "text/plain": [
              "<Figure size 432x288 with 1 Axes>"
            ]
          },
          "metadata": {
            "needs_background": "light"
          }
        },
        {
          "output_type": "display_data",
          "data": {
            "image/png": "[encoded data removed]",
            "text/plain": [
              "<Figure size 432x288 with 1 Axes>"
            ]
          },
          "metadata": {
            "needs_background": "light"
          }
        },
        {
          "output_type": "display_data",
          "data": {
            "text/plain": [
              "<Figure size 432x288 with 0 Axes>"
            ]
          },
          "metadata": {}
        }
      ]
    },
    {
      "cell_type": "code",
      "metadata": {
        "colab": {
          "base_uri": "https://localhost:8080/"
        },
        "id": "A9wdEK-Xf3Ub",
        "outputId": "0152514d-c63c-43c6-8443-fa16b4a1a684"
      },
      "source": [
        "model.evaluate(X_test, y_test, batch_size=BATCH_SIZE, verbose=1)"
      ],
      "execution_count": null,
      "outputs": [
        {
          "output_type": "stream",
          "name": "stdout",
          "text": [
            "157/157 [==============================] - 1s 4ms/step - loss: 137.5174 - accuracy: 0.4608\n"
          ]
        },
        {
          "output_type": "execute_result",
          "data": {
            "text/plain": [
              "[137.51739501953125, 0.4607999920845032]"
            ]
          },
          "metadata": {},
          "execution_count": 46
        }
      ]
    },
    {
      "cell_type": "markdown",
      "metadata": {
        "id": "_MmayHnWmbsb"
      },
      "source": [
        "## No Data Generator (Scaled Manually)"
      ]
    },
    {
      "cell_type": "code",
      "metadata": {
        "colab": {
          "base_uri": "https://localhost:8080/"
        },
        "id": "2EJT6GvJnH5g",
        "outputId": "e0dcdb45-d254-459d-8cce-df9d8f4897a8"
      },
      "source": [
        "(X_train, y_train), (X_test, y_test) = cifar10.load_data()\n",
        "\n",
        "X_train.shape, y_train.shape, X_test.shape, y_test.shape"
      ],
      "execution_count": null,
      "outputs": [
        {
          "output_type": "execute_result",
          "data": {
            "text/plain": [
              "((50000, 32, 32, 3), (50000, 1), (10000, 32, 32, 3), (10000, 1))"
            ]
          },
          "metadata": {},
          "execution_count": 47
        }
      ]
    },
    {
      "cell_type": "code",
      "metadata": {
        "id": "6Y-4VpBUnH5p"
      },
      "source": [
        "X_train, X_test = X_train/255.0, X_test/255.0"
      ],
      "execution_count": null,
      "outputs": []
    },
    {
      "cell_type": "code",
      "metadata": {
        "id": "8KepXrZtnH5q"
      },
      "source": [
        "class_names = ['airplane', 'automobile', 'bird', 'cat', 'deer',\n",
        "               'dog', 'frog', 'horse', 'ship', 'truck']"
      ],
      "execution_count": null,
      "outputs": []
    },
    {
      "cell_type": "code",
      "metadata": {
        "id": "vFyzn69FnTnz"
      },
      "source": [
        "IMG_HEIGHT = 32\n",
        "IMG_WIDTH = 32\n",
        "CHANNELS = 3\n",
        "BATCH_SIZE = 64"
      ],
      "execution_count": null,
      "outputs": []
    },
    {
      "cell_type": "code",
      "metadata": {
        "id": "NAdXpFkTnTn0"
      },
      "source": [
        "NUM_CLASSES = len(class_names)"
      ],
      "execution_count": null,
      "outputs": []
    },
    {
      "cell_type": "code",
      "metadata": {
        "id": "q6G_yNvfnTn0"
      },
      "source": [
        "model = Sequential([\n",
        "    layers.InputLayer(input_shape=(IMG_HEIGHT, IMG_WIDTH, CHANNELS)),\n",
        "    layers.Conv2D(32, (3,3), activation='relu'),\n",
        "    layers.MaxPool2D(2, 2),\n",
        "    layers.Dropout(0.5),\n",
        "    layers.Conv2D(64, (3,3), activation='relu'),\n",
        "    layers.MaxPool2D(2,2),\n",
        "    layers.Dropout(0.5),\n",
        "    layers.Flatten(),\n",
        "    layers.Dropout(0.5),\n",
        "    layers.Dense(64, activation='relu'),\n",
        "    layers.Dropout(0.5),\n",
        "    layers.Dense(NUM_CLASSES, activation='softmax')\n",
        "])"
      ],
      "execution_count": null,
      "outputs": []
    },
    {
      "cell_type": "code",
      "metadata": {
        "id": "H8IG_KGgnTn0"
      },
      "source": [
        "optimizer = tf.keras.optimizers.Adam(learning_rate=0.001)\n",
        "loss      = tf.keras.losses.SparseCategoricalCrossentropy()\n",
        "metrics   = ['accuracy']"
      ],
      "execution_count": null,
      "outputs": []
    },
    {
      "cell_type": "code",
      "metadata": {
        "id": "11J0F4mHnTn0"
      },
      "source": [
        "model.compile(optimizer=optimizer,\n",
        "              loss=loss,\n",
        "              metrics=metrics)"
      ],
      "execution_count": null,
      "outputs": []
    },
    {
      "cell_type": "code",
      "metadata": {
        "id": "qfFnGBDTnTn0"
      },
      "source": [
        "early_stopping    = EarlyStopping(monitor='val_loss', patience=20)\n",
        "model_checkpoint  = ModelCheckpoint(monitor='val_loss', filepath='./best_model.h5', save_best_only=True)"
      ],
      "execution_count": null,
      "outputs": []
    },
    {
      "cell_type": "code",
      "metadata": {
        "id": "SaqSeBHlnTn1"
      },
      "source": [
        "EPOCHS = 100\n",
        "CALLBACKS = [early_stopping, model_checkpoint]"
      ],
      "execution_count": null,
      "outputs": []
    },
    {
      "cell_type": "code",
      "metadata": {
        "colab": {
          "base_uri": "https://localhost:8080/"
        },
        "id": "lCQMEKYSnTn1",
        "outputId": "6d06b563-4ad4-4024-abb5-532d61d1dee8"
      },
      "source": [
        "history = model.fit(X_train,\n",
        "                    y_train,\n",
        "                    validation_data = (X_test, y_test),\n",
        "                    epochs = EPOCHS,\n",
        "                    callbacks = CALLBACKS,\n",
        "                    batch_size = BATCH_SIZE,\n",
        "                    verbose=1\n",
        "                    )"
      ],
      "execution_count": null,
      "outputs": [
        {
          "output_type": "stream",
          "name": "stdout",
          "text": [
            "Epoch 1/100\n",
            "782/782 [==============================] - 8s 9ms/step - loss: 1.9294 - accuracy: 0.2742 - val_loss: 1.6001 - val_accuracy: 0.4378\n",
            "Epoch 2/100\n",
            "782/782 [==============================] - 7s 9ms/step - loss: 1.6503 - accuracy: 0.3972 - val_loss: 1.4762 - val_accuracy: 0.4899\n",
            "Epoch 3/100\n",
            "782/782 [==============================] - 7s 8ms/step - loss: 1.5664 - accuracy: 0.4293 - val_loss: 1.4022 - val_accuracy: 0.5247\n",
            "Epoch 4/100\n",
            "782/782 [==============================] - 7s 9ms/step - loss: 1.5148 - accuracy: 0.4501 - val_loss: 1.3434 - val_accuracy: 0.5363\n",
            "Epoch 5/100\n",
            "782/782 [==============================] - 7s 8ms/step - loss: 1.4825 - accuracy: 0.4634 - val_loss: 1.3514 - val_accuracy: 0.5318\n",
            "Epoch 6/100\n",
            "782/782 [==============================] - 6s 8ms/step - loss: 1.4535 - accuracy: 0.4756 - val_loss: 1.3100 - val_accuracy: 0.5520\n",
            "Epoch 7/100\n",
            "782/782 [==============================] - 7s 9ms/step - loss: 1.4342 - accuracy: 0.4848 - val_loss: 1.2621 - val_accuracy: 0.5819\n",
            "Epoch 8/100\n",
            "782/782 [==============================] - 7s 8ms/step - loss: 1.4123 - accuracy: 0.4908 - val_loss: 1.2268 - val_accuracy: 0.5879\n",
            "Epoch 9/100\n",
            "782/782 [==============================] - 6s 8ms/step - loss: 1.4012 - accuracy: 0.4927 - val_loss: 1.2193 - val_accuracy: 0.5942\n",
            "Epoch 10/100\n",
            "782/782 [==============================] - 6s 8ms/step - loss: 1.3864 - accuracy: 0.5004 - val_loss: 1.2294 - val_accuracy: 0.5842\n",
            "Epoch 11/100\n",
            "782/782 [==============================] - 6s 8ms/step - loss: 1.3805 - accuracy: 0.5062 - val_loss: 1.1848 - val_accuracy: 0.6078\n",
            "Epoch 12/100\n",
            "782/782 [==============================] - 6s 8ms/step - loss: 1.3632 - accuracy: 0.5131 - val_loss: 1.1914 - val_accuracy: 0.5907\n",
            "Epoch 13/100\n",
            "782/782 [==============================] - 6s 8ms/step - loss: 1.3630 - accuracy: 0.5132 - val_loss: 1.1780 - val_accuracy: 0.6071\n",
            "Epoch 14/100\n",
            "782/782 [==============================] - 6s 8ms/step - loss: 1.3487 - accuracy: 0.5190 - val_loss: 1.1719 - val_accuracy: 0.6071\n",
            "Epoch 15/100\n",
            "782/782 [==============================] - 6s 8ms/step - loss: 1.3382 - accuracy: 0.5240 - val_loss: 1.1420 - val_accuracy: 0.6222\n",
            "Epoch 16/100\n",
            "782/782 [==============================] - 6s 8ms/step - loss: 1.3353 - accuracy: 0.5261 - val_loss: 1.1578 - val_accuracy: 0.6129\n",
            "Epoch 17/100\n",
            "782/782 [==============================] - 6s 8ms/step - loss: 1.3290 - accuracy: 0.5248 - val_loss: 1.1512 - val_accuracy: 0.6142\n",
            "Epoch 18/100\n",
            "782/782 [==============================] - 6s 8ms/step - loss: 1.3237 - accuracy: 0.5280 - val_loss: 1.1741 - val_accuracy: 0.5942\n",
            "Epoch 19/100\n",
            "782/782 [==============================] - 7s 8ms/step - loss: 1.3207 - accuracy: 0.5306 - val_loss: 1.0997 - val_accuracy: 0.6388\n",
            "Epoch 20/100\n",
            "782/782 [==============================] - 6s 8ms/step - loss: 1.3095 - accuracy: 0.5344 - val_loss: 1.1600 - val_accuracy: 0.6075\n",
            "Epoch 21/100\n",
            "782/782 [==============================] - 6s 8ms/step - loss: 1.3040 - accuracy: 0.5328 - val_loss: 1.0996 - val_accuracy: 0.6254\n",
            "Epoch 22/100\n",
            "782/782 [==============================] - 7s 8ms/step - loss: 1.2997 - accuracy: 0.5362 - val_loss: 1.1052 - val_accuracy: 0.6221\n",
            "Epoch 23/100\n",
            "782/782 [==============================] - 6s 8ms/step - loss: 1.3013 - accuracy: 0.5382 - val_loss: 1.1057 - val_accuracy: 0.6292\n",
            "Epoch 24/100\n",
            "782/782 [==============================] - 6s 8ms/step - loss: 1.2922 - accuracy: 0.5400 - val_loss: 1.1044 - val_accuracy: 0.6327\n",
            "Epoch 25/100\n",
            "782/782 [==============================] - 6s 8ms/step - loss: 1.2824 - accuracy: 0.5449 - val_loss: 1.0657 - val_accuracy: 0.6473\n",
            "Epoch 26/100\n",
            "782/782 [==============================] - 6s 8ms/step - loss: 1.2849 - accuracy: 0.5424 - val_loss: 1.0683 - val_accuracy: 0.6464\n",
            "Epoch 27/100\n",
            "782/782 [==============================] - 7s 8ms/step - loss: 1.2883 - accuracy: 0.5425 - val_loss: 1.0505 - val_accuracy: 0.6507\n",
            "Epoch 28/100\n",
            "782/782 [==============================] - 6s 8ms/step - loss: 1.2747 - accuracy: 0.5443 - val_loss: 1.0779 - val_accuracy: 0.6429\n",
            "Epoch 29/100\n",
            "782/782 [==============================] - 6s 8ms/step - loss: 1.2719 - accuracy: 0.5503 - val_loss: 1.0549 - val_accuracy: 0.6466\n",
            "Epoch 30/100\n",
            "782/782 [==============================] - 6s 8ms/step - loss: 1.2667 - accuracy: 0.5510 - val_loss: 1.0514 - val_accuracy: 0.6450\n",
            "Epoch 31/100\n",
            "782/782 [==============================] - 7s 8ms/step - loss: 1.2676 - accuracy: 0.5527 - val_loss: 1.0634 - val_accuracy: 0.6567\n",
            "Epoch 32/100\n",
            "782/782 [==============================] - 6s 8ms/step - loss: 1.2589 - accuracy: 0.5563 - val_loss: 1.0928 - val_accuracy: 0.6249\n",
            "Epoch 33/100\n",
            "782/782 [==============================] - 6s 8ms/step - loss: 1.2609 - accuracy: 0.5545 - val_loss: 1.0485 - val_accuracy: 0.6470\n",
            "Epoch 34/100\n",
            "782/782 [==============================] - 6s 8ms/step - loss: 1.2533 - accuracy: 0.5554 - val_loss: 1.0554 - val_accuracy: 0.6454\n",
            "Epoch 35/100\n",
            "782/782 [==============================] - 6s 8ms/step - loss: 1.2548 - accuracy: 0.5565 - val_loss: 1.0472 - val_accuracy: 0.6586\n",
            "Epoch 36/100\n",
            "782/782 [==============================] - 6s 8ms/step - loss: 1.2462 - accuracy: 0.5600 - val_loss: 1.0457 - val_accuracy: 0.6600\n",
            "Epoch 37/100\n",
            "782/782 [==============================] - 6s 8ms/step - loss: 1.2445 - accuracy: 0.5599 - val_loss: 1.0326 - val_accuracy: 0.6551\n",
            "Epoch 38/100\n",
            "782/782 [==============================] - 7s 8ms/step - loss: 1.2402 - accuracy: 0.5601 - val_loss: 1.0284 - val_accuracy: 0.6670\n",
            "Epoch 39/100\n",
            "782/782 [==============================] - 6s 8ms/step - loss: 1.2446 - accuracy: 0.5588 - val_loss: 1.0253 - val_accuracy: 0.6616\n",
            "Epoch 40/100\n",
            "782/782 [==============================] - 6s 8ms/step - loss: 1.2320 - accuracy: 0.5655 - val_loss: 1.0209 - val_accuracy: 0.6687\n",
            "Epoch 41/100\n",
            "782/782 [==============================] - 6s 8ms/step - loss: 1.2367 - accuracy: 0.5648 - val_loss: 1.0222 - val_accuracy: 0.6732\n",
            "Epoch 42/100\n",
            "782/782 [==============================] - 6s 8ms/step - loss: 1.2334 - accuracy: 0.5648 - val_loss: 1.0155 - val_accuracy: 0.6607\n",
            "Epoch 43/100\n",
            "782/782 [==============================] - 7s 8ms/step - loss: 1.2266 - accuracy: 0.5660 - val_loss: 1.0149 - val_accuracy: 0.6684\n",
            "Epoch 44/100\n",
            "782/782 [==============================] - 6s 8ms/step - loss: 1.2275 - accuracy: 0.5673 - val_loss: 1.0389 - val_accuracy: 0.6614\n",
            "Epoch 45/100\n",
            "782/782 [==============================] - 7s 8ms/step - loss: 1.2310 - accuracy: 0.5652 - val_loss: 1.0395 - val_accuracy: 0.6627\n",
            "Epoch 46/100\n",
            "782/782 [==============================] - 6s 8ms/step - loss: 1.2312 - accuracy: 0.5651 - val_loss: 0.9964 - val_accuracy: 0.6768\n",
            "Epoch 47/100\n",
            "782/782 [==============================] - 7s 8ms/step - loss: 1.2169 - accuracy: 0.5717 - val_loss: 0.9819 - val_accuracy: 0.6747\n",
            "Epoch 48/100\n",
            "782/782 [==============================] - 7s 9ms/step - loss: 1.2194 - accuracy: 0.5714 - val_loss: 0.9781 - val_accuracy: 0.6816\n",
            "Epoch 49/100\n",
            "782/782 [==============================] - 7s 8ms/step - loss: 1.2178 - accuracy: 0.5727 - val_loss: 1.0001 - val_accuracy: 0.6744\n",
            "Epoch 50/100\n",
            "782/782 [==============================] - 7s 8ms/step - loss: 1.2151 - accuracy: 0.5702 - val_loss: 0.9867 - val_accuracy: 0.6728\n",
            "Epoch 51/100\n",
            "782/782 [==============================] - 7s 8ms/step - loss: 1.2171 - accuracy: 0.5741 - val_loss: 1.0115 - val_accuracy: 0.6596\n",
            "Epoch 52/100\n",
            "782/782 [==============================] - 7s 8ms/step - loss: 1.2131 - accuracy: 0.5716 - val_loss: 0.9729 - val_accuracy: 0.6841\n",
            "Epoch 53/100\n",
            "782/782 [==============================] - 7s 9ms/step - loss: 1.2127 - accuracy: 0.5717 - val_loss: 1.0040 - val_accuracy: 0.6677\n",
            "Epoch 54/100\n",
            "782/782 [==============================] - 7s 8ms/step - loss: 1.2067 - accuracy: 0.5731 - val_loss: 0.9723 - val_accuracy: 0.6796\n",
            "Epoch 55/100\n",
            "782/782 [==============================] - 7s 8ms/step - loss: 1.2122 - accuracy: 0.5731 - val_loss: 0.9803 - val_accuracy: 0.6816\n",
            "Epoch 56/100\n",
            "782/782 [==============================] - 7s 8ms/step - loss: 1.2063 - accuracy: 0.5723 - val_loss: 1.0352 - val_accuracy: 0.6528\n",
            "Epoch 57/100\n",
            "782/782 [==============================] - 7s 8ms/step - loss: 1.2056 - accuracy: 0.5780 - val_loss: 0.9543 - val_accuracy: 0.6833\n",
            "Epoch 58/100\n",
            "782/782 [==============================] - 6s 8ms/step - loss: 1.2029 - accuracy: 0.5794 - val_loss: 1.0126 - val_accuracy: 0.6644\n",
            "Epoch 59/100\n",
            "782/782 [==============================] - 7s 8ms/step - loss: 1.2063 - accuracy: 0.5764 - val_loss: 0.9922 - val_accuracy: 0.6777\n",
            "Epoch 60/100\n",
            "782/782 [==============================] - 6s 8ms/step - loss: 1.2014 - accuracy: 0.5765 - val_loss: 0.9588 - val_accuracy: 0.6856\n",
            "Epoch 61/100\n",
            "782/782 [==============================] - 6s 8ms/step - loss: 1.2047 - accuracy: 0.5776 - val_loss: 0.9495 - val_accuracy: 0.6897\n",
            "Epoch 62/100\n",
            "782/782 [==============================] - 6s 8ms/step - loss: 1.2019 - accuracy: 0.5748 - val_loss: 0.9668 - val_accuracy: 0.6796\n",
            "Epoch 63/100\n",
            "782/782 [==============================] - 6s 8ms/step - loss: 1.1960 - accuracy: 0.5778 - val_loss: 0.9569 - val_accuracy: 0.6874\n",
            "Epoch 64/100\n",
            "782/782 [==============================] - 6s 8ms/step - loss: 1.1942 - accuracy: 0.5807 - val_loss: 0.9890 - val_accuracy: 0.6702\n",
            "Epoch 65/100\n",
            "782/782 [==============================] - 6s 8ms/step - loss: 1.1993 - accuracy: 0.5779 - val_loss: 0.9732 - val_accuracy: 0.6810\n",
            "Epoch 66/100\n",
            "782/782 [==============================] - 6s 8ms/step - loss: 1.1976 - accuracy: 0.5801 - val_loss: 0.9571 - val_accuracy: 0.6930\n",
            "Epoch 67/100\n",
            "782/782 [==============================] - 7s 8ms/step - loss: 1.1911 - accuracy: 0.5806 - val_loss: 0.9836 - val_accuracy: 0.6790\n",
            "Epoch 68/100\n",
            "782/782 [==============================] - 7s 9ms/step - loss: 1.1930 - accuracy: 0.5814 - val_loss: 0.9713 - val_accuracy: 0.6730\n",
            "Epoch 69/100\n",
            "782/782 [==============================] - 7s 8ms/step - loss: 1.1923 - accuracy: 0.5800 - val_loss: 0.9886 - val_accuracy: 0.6722\n",
            "Epoch 70/100\n",
            "782/782 [==============================] - 6s 8ms/step - loss: 1.1873 - accuracy: 0.5823 - val_loss: 0.9581 - val_accuracy: 0.6876\n",
            "Epoch 71/100\n",
            "782/782 [==============================] - 6s 8ms/step - loss: 1.1835 - accuracy: 0.5838 - val_loss: 0.9502 - val_accuracy: 0.6855\n",
            "Epoch 72/100\n",
            "782/782 [==============================] - 7s 9ms/step - loss: 1.1840 - accuracy: 0.5833 - val_loss: 0.9498 - val_accuracy: 0.6876\n",
            "Epoch 73/100\n",
            "782/782 [==============================] - 7s 8ms/step - loss: 1.1848 - accuracy: 0.5831 - val_loss: 0.9630 - val_accuracy: 0.6900\n",
            "Epoch 74/100\n",
            "782/782 [==============================] - 7s 8ms/step - loss: 1.1858 - accuracy: 0.5848 - val_loss: 0.9908 - val_accuracy: 0.6614\n",
            "Epoch 75/100\n",
            "782/782 [==============================] - 7s 9ms/step - loss: 1.1806 - accuracy: 0.5842 - val_loss: 0.9457 - val_accuracy: 0.6890\n",
            "Epoch 76/100\n",
            "782/782 [==============================] - 7s 8ms/step - loss: 1.1817 - accuracy: 0.5842 - val_loss: 0.9606 - val_accuracy: 0.6805\n",
            "Epoch 77/100\n",
            "782/782 [==============================] - 6s 8ms/step - loss: 1.1753 - accuracy: 0.5854 - val_loss: 0.9857 - val_accuracy: 0.6873\n",
            "Epoch 78/100\n",
            "782/782 [==============================] - 7s 9ms/step - loss: 1.1821 - accuracy: 0.5835 - val_loss: 0.9402 - val_accuracy: 0.6933\n",
            "Epoch 79/100\n",
            "782/782 [==============================] - 7s 8ms/step - loss: 1.1865 - accuracy: 0.5855 - val_loss: 0.9504 - val_accuracy: 0.6875\n",
            "Epoch 80/100\n",
            "782/782 [==============================] - 7s 9ms/step - loss: 1.1816 - accuracy: 0.5851 - val_loss: 0.9428 - val_accuracy: 0.6975\n",
            "Epoch 81/100\n",
            "782/782 [==============================] - 6s 8ms/step - loss: 1.1903 - accuracy: 0.5807 - val_loss: 0.9459 - val_accuracy: 0.6906\n",
            "Epoch 82/100\n",
            "782/782 [==============================] - 6s 8ms/step - loss: 1.1718 - accuracy: 0.5876 - val_loss: 0.9961 - val_accuracy: 0.6655\n",
            "Epoch 83/100\n",
            "782/782 [==============================] - 7s 8ms/step - loss: 1.1814 - accuracy: 0.5866 - val_loss: 0.9287 - val_accuracy: 0.6935\n",
            "Epoch 84/100\n",
            "782/782 [==============================] - 6s 8ms/step - loss: 1.1848 - accuracy: 0.5819 - val_loss: 0.9738 - val_accuracy: 0.6742\n",
            "Epoch 85/100\n",
            "782/782 [==============================] - 7s 9ms/step - loss: 1.1799 - accuracy: 0.5851 - val_loss: 0.9527 - val_accuracy: 0.6914\n",
            "Epoch 86/100\n",
            "782/782 [==============================] - 7s 8ms/step - loss: 1.1776 - accuracy: 0.5897 - val_loss: 0.9643 - val_accuracy: 0.6871\n",
            "Epoch 87/100\n",
            "782/782 [==============================] - 7s 8ms/step - loss: 1.1800 - accuracy: 0.5853 - val_loss: 0.9507 - val_accuracy: 0.6887\n",
            "Epoch 88/100\n",
            "782/782 [==============================] - 7s 9ms/step - loss: 1.1814 - accuracy: 0.5870 - val_loss: 0.9475 - val_accuracy: 0.6785\n",
            "Epoch 89/100\n",
            "782/782 [==============================] - 7s 8ms/step - loss: 1.1783 - accuracy: 0.5856 - val_loss: 0.9690 - val_accuracy: 0.6737\n",
            "Epoch 90/100\n",
            "782/782 [==============================] - 6s 8ms/step - loss: 1.1744 - accuracy: 0.5883 - val_loss: 0.9280 - val_accuracy: 0.6980\n",
            "Epoch 91/100\n",
            "782/782 [==============================] - 7s 8ms/step - loss: 1.1733 - accuracy: 0.5873 - val_loss: 0.9981 - val_accuracy: 0.6680\n",
            "Epoch 92/100\n",
            "782/782 [==============================] - 7s 8ms/step - loss: 1.1718 - accuracy: 0.5875 - val_loss: 0.9725 - val_accuracy: 0.6824\n",
            "Epoch 93/100\n",
            "782/782 [==============================] - 7s 9ms/step - loss: 1.1733 - accuracy: 0.5887 - val_loss: 0.9506 - val_accuracy: 0.6907\n",
            "Epoch 94/100\n",
            "782/782 [==============================] - 7s 9ms/step - loss: 1.1675 - accuracy: 0.5904 - val_loss: 0.9292 - val_accuracy: 0.6932\n",
            "Epoch 95/100\n",
            "782/782 [==============================] - 7s 8ms/step - loss: 1.1710 - accuracy: 0.5870 - val_loss: 0.9249 - val_accuracy: 0.6918\n",
            "Epoch 96/100\n",
            "782/782 [==============================] - 7s 8ms/step - loss: 1.1692 - accuracy: 0.5902 - val_loss: 0.9442 - val_accuracy: 0.6880\n",
            "Epoch 97/100\n",
            "782/782 [==============================] - 7s 8ms/step - loss: 1.1727 - accuracy: 0.5889 - val_loss: 0.9552 - val_accuracy: 0.6845\n",
            "Epoch 98/100\n",
            "782/782 [==============================] - 7s 8ms/step - loss: 1.1682 - accuracy: 0.5912 - val_loss: 0.9694 - val_accuracy: 0.6772\n",
            "Epoch 99/100\n",
            "782/782 [==============================] - 7s 8ms/step - loss: 1.1677 - accuracy: 0.5900 - val_loss: 0.9268 - val_accuracy: 0.7018\n",
            "Epoch 100/100\n",
            "782/782 [==============================] - 6s 8ms/step - loss: 1.1724 - accuracy: 0.5884 - val_loss: 0.9496 - val_accuracy: 0.6832\n"
          ]
        }
      ]
    },
    {
      "cell_type": "code",
      "metadata": {
        "colab": {
          "base_uri": "https://localhost:8080/",
          "height": 580
        },
        "id": "Xklsnn-hnTn1",
        "outputId": "da1a6845-c93b-41b0-997c-7792612044f4"
      },
      "source": [
        "acc      = history.history['accuracy']\n",
        "val_acc  = history.history['val_accuracy']\n",
        "\n",
        "epochs   = range(len(acc))\n",
        "\n",
        "plt.plot(epochs, acc, 'r', label = 'Training')\n",
        "plt.plot(epochs, val_acc, 'b', label = 'Validation')\n",
        "plt.title('Training and Validation Accuracy')\n",
        "plt.legend()\n",
        "plt.figure()\n",
        "\n",
        "loss     = history.history['loss']\n",
        "val_loss = history.history['val_loss']\n",
        "\n",
        "epochs   = range(len(loss))\n",
        "\n",
        "plt.plot(epochs, loss, 'r', label = 'Training')\n",
        "plt.plot(epochs, val_loss, 'b', label = 'Validation')\n",
        "plt.title('Training and Validation Loss')\n",
        "plt.legend()\n",
        "plt.figure()"
      ],
      "execution_count": null,
      "outputs": [
        {
          "output_type": "execute_result",
          "data": {
            "text/plain": [
              "<Figure size 432x288 with 0 Axes>"
            ]
          },
          "metadata": {},
          "execution_count": 72
        },
        {
          "output_type": "display_data",
          "data": {
            "image/png": "[encoded data removed]",
            "text/plain": [
              "<Figure size 432x288 with 1 Axes>"
            ]
          },
          "metadata": {
            "needs_background": "light"
          }
        },
        {
          "output_type": "display_data",
          "data": {
            "image/png": "[encoded data removed]",
            "text/plain": [
              "<Figure size 432x288 with 1 Axes>"
            ]
          },
          "metadata": {
            "needs_background": "light"
          }
        },
        {
          "output_type": "display_data",
          "data": {
            "text/plain": [
              "<Figure size 432x288 with 0 Axes>"
            ]
          },
          "metadata": {}
        }
      ]
    },
    {
      "cell_type": "code",
      "metadata": {
        "colab": {
          "base_uri": "https://localhost:8080/"
        },
        "id": "47BQYT5anTn1",
        "outputId": "289a3925-049d-4cf9-8a46-255fcb46cffe"
      },
      "source": [
        "model.evaluate(X_test, y_test, batch_size=BATCH_SIZE, verbose=1)"
      ],
      "execution_count": null,
      "outputs": [
        {
          "output_type": "stream",
          "name": "stdout",
          "text": [
            "157/157 [==============================] - 1s 4ms/step - loss: 0.9496 - accuracy: 0.6832\n"
          ]
        },
        {
          "output_type": "execute_result",
          "data": {
            "text/plain": [
              "[0.9496464729309082, 0.6832000017166138]"
            ]
          },
          "metadata": {},
          "execution_count": 73
        }
      ]
    },
    {
      "cell_type": "markdown",
      "metadata": {
        "id": "HXM_KmsFzf9A"
      },
      "source": [
        "## Using LR Optimizer"
      ]
    },
    {
      "cell_type": "code",
      "metadata": {
        "colab": {
          "base_uri": "https://localhost:8080/"
        },
        "id": "NJeJabuLz9gQ",
        "outputId": "9454e2e6-d15a-460e-f910-087999480323"
      },
      "source": [
        "(X_train, y_train), (X_test, y_test) = cifar10.load_data()\n",
        "\n",
        "X_train.shape, y_train.shape, X_test.shape, y_test.shape"
      ],
      "execution_count": null,
      "outputs": [
        {
          "output_type": "execute_result",
          "data": {
            "text/plain": [
              "((50000, 32, 32, 3), (50000, 1), (10000, 32, 32, 3), (10000, 1))"
            ]
          },
          "metadata": {},
          "execution_count": 74
        }
      ]
    },
    {
      "cell_type": "code",
      "metadata": {
        "id": "QboVrKtvz9gR"
      },
      "source": [
        "X_train, X_test = X_train/255.0, X_test/255.0"
      ],
      "execution_count": null,
      "outputs": []
    },
    {
      "cell_type": "code",
      "metadata": {
        "id": "KOPLX76Bz9gR"
      },
      "source": [
        "class_names = ['airplane', 'automobile', 'bird', 'cat', 'deer',\n",
        "               'dog', 'frog', 'horse', 'ship', 'truck']"
      ],
      "execution_count": null,
      "outputs": []
    },
    {
      "cell_type": "code",
      "metadata": {
        "id": "39DtJwunz9gR"
      },
      "source": [
        "IMG_HEIGHT = 32\n",
        "IMG_WIDTH = 32\n",
        "CHANNELS = 3\n",
        "BATCH_SIZE = 64"
      ],
      "execution_count": null,
      "outputs": []
    },
    {
      "cell_type": "code",
      "metadata": {
        "id": "5reX5Fzxz9gR"
      },
      "source": [
        "NUM_CLASSES = len(class_names)"
      ],
      "execution_count": null,
      "outputs": []
    },
    {
      "cell_type": "code",
      "metadata": {
        "id": "GpQlS1q0z9gS"
      },
      "source": [
        "model = Sequential([\n",
        "    layers.InputLayer(input_shape=(IMG_HEIGHT, IMG_WIDTH, CHANNELS)),\n",
        "    layers.Conv2D(32, (3,3), activation='relu'),\n",
        "    layers.MaxPool2D(2, 2),\n",
        "    layers.Dropout(0.5),\n",
        "    layers.Conv2D(64, (3,3), activation='relu'),\n",
        "    layers.MaxPool2D(2,2),\n",
        "    layers.Dropout(0.5),\n",
        "    layers.Flatten(),\n",
        "    layers.Dense(64, activation='relu'),\n",
        "    layers.Dropout(0.5),\n",
        "    layers.Dense(NUM_CLASSES, activation='softmax')\n",
        "])"
      ],
      "execution_count": null,
      "outputs": []
    },
    {
      "cell_type": "code",
      "metadata": {
        "colab": {
          "base_uri": "https://localhost:8080/"
        },
        "id": "rPD3pt-t0SaI",
        "outputId": "c6b06453-c03e-4b42-c91e-4a743d5862d7"
      },
      "source": [
        "model.summary()"
      ],
      "execution_count": null,
      "outputs": [
        {
          "output_type": "stream",
          "name": "stdout",
          "text": [
            "Model: \"sequential_6\"\n",
            "_________________________________________________________________\n",
            "Layer (type)                 Output Shape              Param #   \n",
            "=================================================================\n",
            "conv2d_12 (Conv2D)           (None, 30, 30, 32)        896       \n",
            "_________________________________________________________________\n",
            "max_pooling2d_12 (MaxPooling (None, 15, 15, 32)        0         \n",
            "_________________________________________________________________\n",
            "dropout_24 (Dropout)         (None, 15, 15, 32)        0         \n",
            "_________________________________________________________________\n",
            "conv2d_13 (Conv2D)           (None, 13, 13, 64)        18496     \n",
            "_________________________________________________________________\n",
            "max_pooling2d_13 (MaxPooling (None, 6, 6, 64)          0         \n",
            "_________________________________________________________________\n",
            "dropout_25 (Dropout)         (None, 6, 6, 64)          0         \n",
            "_________________________________________________________________\n",
            "flatten_6 (Flatten)          (None, 2304)              0         \n",
            "_________________________________________________________________\n",
            "dense_12 (Dense)             (None, 64)                147520    \n",
            "_________________________________________________________________\n",
            "dropout_26 (Dropout)         (None, 64)                0         \n",
            "_________________________________________________________________\n",
            "dense_13 (Dense)             (None, 10)                650       \n",
            "=================================================================\n",
            "Total params: 167,562\n",
            "Trainable params: 167,562\n",
            "Non-trainable params: 0\n",
            "_________________________________________________________________\n"
          ]
        }
      ]
    },
    {
      "cell_type": "code",
      "metadata": {
        "id": "1MK6_DEyz9gS"
      },
      "source": [
        "EPOCHS = 70\n",
        "CALLBACKS = [early_stopping, model_checkpoint]"
      ],
      "execution_count": null,
      "outputs": []
    },
    {
      "cell_type": "code",
      "metadata": {
        "id": "6CUCjlcg0nGo"
      },
      "source": [
        "DECAY_STEPS = EPOCHS * len(X_train) // BATCH_SIZE"
      ],
      "execution_count": null,
      "outputs": []
    },
    {
      "cell_type": "code",
      "metadata": {
        "colab": {
          "base_uri": "https://localhost:8080/"
        },
        "id": "mDEqOqly0yDX",
        "outputId": "2e1f4500-5efa-4452-cec9-0ba9c085316d"
      },
      "source": [
        "DECAY_STEPS"
      ],
      "execution_count": null,
      "outputs": [
        {
          "output_type": "execute_result",
          "data": {
            "text/plain": [
              "54687"
            ]
          },
          "metadata": {},
          "execution_count": 86
        }
      ]
    },
    {
      "cell_type": "code",
      "metadata": {
        "id": "IB8Jxv3H0Ots"
      },
      "source": [
        "# decay every 54687 steps with a base of 0.1\n",
        "\n",
        "LEARNING_RATE = tf.keras.optimizers.schedules.ExponentialDecay(initial_learning_rate=0.002, decay_steps=DECAY_STEPS, decay_rate=0.1)"
      ],
      "execution_count": null,
      "outputs": []
    },
    {
      "cell_type": "code",
      "metadata": {
        "id": "tUnM6XCEz9gS"
      },
      "source": [
        "optimizer = tf.keras.optimizers.Adam(learning_rate=LEARNING_RATE)\n",
        "loss      = tf.keras.losses.SparseCategoricalCrossentropy()\n",
        "metrics   = ['accuracy']"
      ],
      "execution_count": null,
      "outputs": []
    },
    {
      "cell_type": "code",
      "metadata": {
        "id": "PExumHcuz9gS"
      },
      "source": [
        "model.compile(optimizer=optimizer,\n",
        "              loss=loss,\n",
        "              metrics=metrics)"
      ],
      "execution_count": null,
      "outputs": []
    },
    {
      "cell_type": "code",
      "metadata": {
        "id": "cPOhmj2lz9gS"
      },
      "source": [
        "early_stopping    = EarlyStopping(monitor='val_loss', patience=20)\n",
        "model_checkpoint  = ModelCheckpoint(monitor='val_loss', filepath='./best_model.h5', save_best_only=True)"
      ],
      "execution_count": null,
      "outputs": []
    },
    {
      "cell_type": "code",
      "metadata": {
        "colab": {
          "base_uri": "https://localhost:8080/"
        },
        "id": "rOBG96JPz9gT",
        "outputId": "383ba3f2-ae37-4d35-ad19-8959bedffee4"
      },
      "source": [
        "history = model.fit(X_train,\n",
        "                    y_train,\n",
        "                    validation_data = (X_test, y_test),\n",
        "                    epochs = EPOCHS,\n",
        "                    callbacks = CALLBACKS,\n",
        "                    batch_size = BATCH_SIZE,\n",
        "                    verbose=1\n",
        "                    )"
      ],
      "execution_count": null,
      "outputs": [
        {
          "output_type": "stream",
          "name": "stdout",
          "text": [
            "Epoch 1/70\n",
            "782/782 [==============================] - 7s 9ms/step - loss: 1.8332 - accuracy: 0.3160 - val_loss: 1.5918 - val_accuracy: 0.4591\n",
            "Epoch 2/70\n",
            "782/782 [==============================] - 6s 8ms/step - loss: 1.6331 - accuracy: 0.3991 - val_loss: 1.4557 - val_accuracy: 0.5021\n",
            "Epoch 3/70\n",
            "782/782 [==============================] - 7s 9ms/step - loss: 1.5674 - accuracy: 0.4269 - val_loss: 1.4150 - val_accuracy: 0.5009\n",
            "Epoch 4/70\n",
            "782/782 [==============================] - 7s 8ms/step - loss: 1.5348 - accuracy: 0.4415 - val_loss: 1.3960 - val_accuracy: 0.5298\n",
            "Epoch 5/70\n",
            "782/782 [==============================] - 7s 8ms/step - loss: 1.5036 - accuracy: 0.4554 - val_loss: 1.3267 - val_accuracy: 0.5466\n",
            "Epoch 6/70\n",
            "782/782 [==============================] - 6s 8ms/step - loss: 1.4790 - accuracy: 0.4622 - val_loss: 1.3562 - val_accuracy: 0.5532\n",
            "Epoch 7/70\n",
            "782/782 [==============================] - 6s 8ms/step - loss: 1.4610 - accuracy: 0.4728 - val_loss: 1.2823 - val_accuracy: 0.5708\n",
            "Epoch 8/70\n",
            "782/782 [==============================] - 7s 8ms/step - loss: 1.4421 - accuracy: 0.4813 - val_loss: 1.2639 - val_accuracy: 0.5697\n",
            "Epoch 9/70\n",
            "782/782 [==============================] - 6s 8ms/step - loss: 1.4286 - accuracy: 0.4834 - val_loss: 1.2513 - val_accuracy: 0.5800\n",
            "Epoch 10/70\n",
            "782/782 [==============================] - 6s 8ms/step - loss: 1.4145 - accuracy: 0.4894 - val_loss: 1.2210 - val_accuracy: 0.5905\n",
            "Epoch 11/70\n",
            "782/782 [==============================] - 6s 8ms/step - loss: 1.3999 - accuracy: 0.4959 - val_loss: 1.2400 - val_accuracy: 0.5821\n",
            "Epoch 12/70\n",
            "782/782 [==============================] - 6s 8ms/step - loss: 1.3884 - accuracy: 0.5014 - val_loss: 1.2080 - val_accuracy: 0.5986\n",
            "Epoch 13/70\n",
            "782/782 [==============================] - 7s 8ms/step - loss: 1.3786 - accuracy: 0.5054 - val_loss: 1.2107 - val_accuracy: 0.5982\n",
            "Epoch 14/70\n",
            "782/782 [==============================] - 6s 8ms/step - loss: 1.3651 - accuracy: 0.5093 - val_loss: 1.1957 - val_accuracy: 0.6002\n",
            "Epoch 15/70\n",
            "782/782 [==============================] - 6s 8ms/step - loss: 1.3651 - accuracy: 0.5132 - val_loss: 1.2084 - val_accuracy: 0.5889\n",
            "Epoch 16/70\n",
            "782/782 [==============================] - 6s 8ms/step - loss: 1.3436 - accuracy: 0.5180 - val_loss: 1.1567 - val_accuracy: 0.6139\n",
            "Epoch 17/70\n",
            "782/782 [==============================] - 6s 8ms/step - loss: 1.3384 - accuracy: 0.5198 - val_loss: 1.1458 - val_accuracy: 0.6147\n",
            "Epoch 18/70\n",
            "782/782 [==============================] - 6s 8ms/step - loss: 1.3305 - accuracy: 0.5269 - val_loss: 1.1079 - val_accuracy: 0.6325\n",
            "Epoch 19/70\n",
            "782/782 [==============================] - 6s 8ms/step - loss: 1.3314 - accuracy: 0.5250 - val_loss: 1.1226 - val_accuracy: 0.6266\n",
            "Epoch 20/70\n",
            "782/782 [==============================] - 6s 8ms/step - loss: 1.3196 - accuracy: 0.5298 - val_loss: 1.1186 - val_accuracy: 0.6301\n",
            "Epoch 21/70\n",
            "782/782 [==============================] - 6s 8ms/step - loss: 1.3074 - accuracy: 0.5351 - val_loss: 1.1032 - val_accuracy: 0.6339\n",
            "Epoch 22/70\n",
            "782/782 [==============================] - 6s 8ms/step - loss: 1.3047 - accuracy: 0.5371 - val_loss: 1.1161 - val_accuracy: 0.6251\n",
            "Epoch 23/70\n",
            "782/782 [==============================] - 6s 8ms/step - loss: 1.2949 - accuracy: 0.5368 - val_loss: 1.0899 - val_accuracy: 0.6375\n",
            "Epoch 24/70\n",
            "782/782 [==============================] - 6s 8ms/step - loss: 1.2933 - accuracy: 0.5374 - val_loss: 1.0929 - val_accuracy: 0.6381\n",
            "Epoch 25/70\n",
            "782/782 [==============================] - 7s 8ms/step - loss: 1.2883 - accuracy: 0.5419 - val_loss: 1.1202 - val_accuracy: 0.6258\n",
            "Epoch 26/70\n",
            "782/782 [==============================] - 6s 8ms/step - loss: 1.2791 - accuracy: 0.5443 - val_loss: 1.0776 - val_accuracy: 0.6446\n",
            "Epoch 27/70\n",
            "782/782 [==============================] - 6s 8ms/step - loss: 1.2733 - accuracy: 0.5467 - val_loss: 1.0819 - val_accuracy: 0.6356\n",
            "Epoch 28/70\n",
            "782/782 [==============================] - 6s 8ms/step - loss: 1.2630 - accuracy: 0.5505 - val_loss: 1.0715 - val_accuracy: 0.6412\n",
            "Epoch 29/70\n",
            "782/782 [==============================] - 6s 8ms/step - loss: 1.2593 - accuracy: 0.5553 - val_loss: 1.0791 - val_accuracy: 0.6354\n",
            "Epoch 30/70\n",
            "782/782 [==============================] - 6s 8ms/step - loss: 1.2549 - accuracy: 0.5557 - val_loss: 1.0766 - val_accuracy: 0.6408\n",
            "Epoch 31/70\n",
            "782/782 [==============================] - 6s 8ms/step - loss: 1.2530 - accuracy: 0.5572 - val_loss: 1.0668 - val_accuracy: 0.6482\n",
            "Epoch 32/70\n",
            "782/782 [==============================] - 6s 8ms/step - loss: 1.2422 - accuracy: 0.5629 - val_loss: 1.0547 - val_accuracy: 0.6544\n",
            "Epoch 33/70\n",
            "782/782 [==============================] - 6s 8ms/step - loss: 1.2384 - accuracy: 0.5638 - val_loss: 1.0538 - val_accuracy: 0.6540\n",
            "Epoch 34/70\n",
            "782/782 [==============================] - 6s 8ms/step - loss: 1.2336 - accuracy: 0.5639 - val_loss: 1.0314 - val_accuracy: 0.6582\n",
            "Epoch 35/70\n",
            "782/782 [==============================] - 6s 8ms/step - loss: 1.2228 - accuracy: 0.5670 - val_loss: 1.0302 - val_accuracy: 0.6515\n",
            "Epoch 36/70\n",
            "782/782 [==============================] - 6s 8ms/step - loss: 1.2352 - accuracy: 0.5661 - val_loss: 1.0343 - val_accuracy: 0.6655\n",
            "Epoch 37/70\n",
            "782/782 [==============================] - 7s 8ms/step - loss: 1.2306 - accuracy: 0.5643 - val_loss: 1.0450 - val_accuracy: 0.6491\n",
            "Epoch 38/70\n",
            "782/782 [==============================] - 6s 8ms/step - loss: 1.2288 - accuracy: 0.5663 - val_loss: 1.0408 - val_accuracy: 0.6553\n",
            "Epoch 39/70\n",
            "782/782 [==============================] - 6s 8ms/step - loss: 1.2160 - accuracy: 0.5711 - val_loss: 1.0145 - val_accuracy: 0.6610\n",
            "Epoch 40/70\n",
            "782/782 [==============================] - 6s 8ms/step - loss: 1.2105 - accuracy: 0.5741 - val_loss: 1.0193 - val_accuracy: 0.6608\n",
            "Epoch 41/70\n",
            "782/782 [==============================] - 6s 8ms/step - loss: 1.2102 - accuracy: 0.5721 - val_loss: 1.0094 - val_accuracy: 0.6730\n",
            "Epoch 42/70\n",
            "782/782 [==============================] - 6s 8ms/step - loss: 1.2107 - accuracy: 0.5737 - val_loss: 1.0099 - val_accuracy: 0.6680\n",
            "Epoch 43/70\n",
            "782/782 [==============================] - 6s 8ms/step - loss: 1.1985 - accuracy: 0.5762 - val_loss: 1.0146 - val_accuracy: 0.6652\n",
            "Epoch 44/70\n",
            "782/782 [==============================] - 6s 8ms/step - loss: 1.1999 - accuracy: 0.5771 - val_loss: 0.9899 - val_accuracy: 0.6705\n",
            "Epoch 45/70\n",
            "782/782 [==============================] - 6s 8ms/step - loss: 1.1960 - accuracy: 0.5760 - val_loss: 1.0017 - val_accuracy: 0.6687\n",
            "Epoch 46/70\n",
            "782/782 [==============================] - 6s 8ms/step - loss: 1.2036 - accuracy: 0.5766 - val_loss: 1.0004 - val_accuracy: 0.6712\n",
            "Epoch 47/70\n",
            "782/782 [==============================] - 6s 8ms/step - loss: 1.1977 - accuracy: 0.5739 - val_loss: 1.0035 - val_accuracy: 0.6695\n",
            "Epoch 48/70\n",
            "782/782 [==============================] - 7s 8ms/step - loss: 1.1908 - accuracy: 0.5792 - val_loss: 1.0055 - val_accuracy: 0.6633\n",
            "Epoch 49/70\n",
            "782/782 [==============================] - 6s 8ms/step - loss: 1.1903 - accuracy: 0.5806 - val_loss: 0.9858 - val_accuracy: 0.6752\n",
            "Epoch 50/70\n",
            "782/782 [==============================] - 6s 8ms/step - loss: 1.1856 - accuracy: 0.5836 - val_loss: 0.9786 - val_accuracy: 0.6788\n",
            "Epoch 51/70\n",
            "782/782 [==============================] - 6s 8ms/step - loss: 1.1883 - accuracy: 0.5811 - val_loss: 0.9803 - val_accuracy: 0.6779\n",
            "Epoch 52/70\n",
            "782/782 [==============================] - 6s 8ms/step - loss: 1.1849 - accuracy: 0.5813 - val_loss: 0.9805 - val_accuracy: 0.6746\n",
            "Epoch 53/70\n",
            "782/782 [==============================] - 7s 8ms/step - loss: 1.1784 - accuracy: 0.5840 - val_loss: 0.9813 - val_accuracy: 0.6728\n",
            "Epoch 54/70\n",
            "782/782 [==============================] - 6s 8ms/step - loss: 1.1755 - accuracy: 0.5865 - val_loss: 0.9735 - val_accuracy: 0.6735\n",
            "Epoch 55/70\n",
            "782/782 [==============================] - 6s 8ms/step - loss: 1.1740 - accuracy: 0.5889 - val_loss: 0.9891 - val_accuracy: 0.6673\n",
            "Epoch 56/70\n",
            "782/782 [==============================] - 7s 8ms/step - loss: 1.1761 - accuracy: 0.5863 - val_loss: 0.9783 - val_accuracy: 0.6756\n",
            "Epoch 57/70\n",
            "782/782 [==============================] - 6s 8ms/step - loss: 1.1754 - accuracy: 0.5873 - val_loss: 0.9790 - val_accuracy: 0.6739\n",
            "Epoch 58/70\n",
            "782/782 [==============================] - 6s 8ms/step - loss: 1.1737 - accuracy: 0.5873 - val_loss: 0.9743 - val_accuracy: 0.6751\n",
            "Epoch 59/70\n",
            "782/782 [==============================] - 6s 8ms/step - loss: 1.1722 - accuracy: 0.5880 - val_loss: 0.9802 - val_accuracy: 0.6702\n",
            "Epoch 60/70\n",
            "782/782 [==============================] - 7s 8ms/step - loss: 1.1656 - accuracy: 0.5883 - val_loss: 0.9648 - val_accuracy: 0.6780\n",
            "Epoch 61/70\n",
            "782/782 [==============================] - 7s 8ms/step - loss: 1.1622 - accuracy: 0.5932 - val_loss: 0.9835 - val_accuracy: 0.6696\n",
            "Epoch 62/70\n",
            "782/782 [==============================] - 7s 8ms/step - loss: 1.1637 - accuracy: 0.5913 - val_loss: 0.9657 - val_accuracy: 0.6772\n",
            "Epoch 63/70\n",
            "782/782 [==============================] - 7s 8ms/step - loss: 1.1639 - accuracy: 0.5907 - val_loss: 0.9929 - val_accuracy: 0.6645\n",
            "Epoch 64/70\n",
            "782/782 [==============================] - 6s 8ms/step - loss: 1.1641 - accuracy: 0.5891 - val_loss: 0.9640 - val_accuracy: 0.6791\n",
            "Epoch 65/70\n",
            "782/782 [==============================] - 7s 8ms/step - loss: 1.1621 - accuracy: 0.5912 - val_loss: 0.9716 - val_accuracy: 0.6745\n",
            "Epoch 66/70\n",
            "782/782 [==============================] - 7s 8ms/step - loss: 1.1629 - accuracy: 0.5908 - val_loss: 0.9769 - val_accuracy: 0.6771\n",
            "Epoch 67/70\n",
            "782/782 [==============================] - 6s 8ms/step - loss: 1.1579 - accuracy: 0.5922 - val_loss: 0.9746 - val_accuracy: 0.6726\n",
            "Epoch 68/70\n",
            "782/782 [==============================] - 6s 8ms/step - loss: 1.1559 - accuracy: 0.5959 - val_loss: 0.9647 - val_accuracy: 0.6768\n",
            "Epoch 69/70\n",
            "782/782 [==============================] - 6s 8ms/step - loss: 1.1520 - accuracy: 0.5953 - val_loss: 0.9556 - val_accuracy: 0.6811\n",
            "Epoch 70/70\n",
            "782/782 [==============================] - 6s 8ms/step - loss: 1.1585 - accuracy: 0.5905 - val_loss: 0.9564 - val_accuracy: 0.6812\n"
          ]
        }
      ]
    },
    {
      "cell_type": "code",
      "metadata": {
        "colab": {
          "base_uri": "https://localhost:8080/",
          "height": 580
        },
        "id": "mnVNG5t7z9gT",
        "outputId": "6eb4686c-ff11-4d23-f40c-186907440169"
      },
      "source": [
        "acc      = history.history['accuracy']\n",
        "val_acc  = history.history['val_accuracy']\n",
        "\n",
        "epochs   = range(len(acc))\n",
        "\n",
        "plt.plot(epochs, acc, 'r', label = 'Training')\n",
        "plt.plot(epochs, val_acc, 'b', label = 'Validation')\n",
        "plt.title('Training and Validation Accuracy')\n",
        "plt.legend()\n",
        "plt.figure()\n",
        "\n",
        "loss     = history.history['loss']\n",
        "val_loss = history.history['val_loss']\n",
        "\n",
        "epochs   = range(len(loss))\n",
        "\n",
        "plt.plot(epochs, loss, 'r', label = 'Training')\n",
        "plt.plot(epochs, val_loss, 'b', label = 'Validation')\n",
        "plt.title('Training and Validation Loss')\n",
        "plt.legend()\n",
        "plt.figure()"
      ],
      "execution_count": null,
      "outputs": [
        {
          "output_type": "execute_result",
          "data": {
            "text/plain": [
              "<Figure size 432x288 with 0 Axes>"
            ]
          },
          "metadata": {},
          "execution_count": 93
        },
        {
          "output_type": "display_data",
          "data": {
            "image/png": "[encoded data removed]",
            "text/plain": [
              "<Figure size 432x288 with 1 Axes>"
            ]
          },
          "metadata": {
            "needs_background": "light"
          }
        },
        {
          "output_type": "display_data",
          "data": {
            "image/png": "[encoded data removed]",
            "text/plain": [
              "<Figure size 432x288 with 1 Axes>"
            ]
          },
          "metadata": {
            "needs_background": "light"
          }
        },
        {
          "output_type": "display_data",
          "data": {
            "text/plain": [
              "<Figure size 432x288 with 0 Axes>"
            ]
          },
          "metadata": {}
        }
      ]
    },
    {
      "cell_type": "code",
      "metadata": {
        "colab": {
          "base_uri": "https://localhost:8080/"
        },
        "id": "ZEihnGMkz9gT",
        "outputId": "c1257e2b-3ce7-4567-d8c5-a3cc7a0c4474"
      },
      "source": [
        "model.evaluate(X_test, y_test, batch_size=BATCH_SIZE, verbose=1)"
      ],
      "execution_count": null,
      "outputs": [
        {
          "output_type": "stream",
          "name": "stdout",
          "text": [
            "157/157 [==============================] - 1s 4ms/step - loss: 0.9564 - accuracy: 0.6812\n"
          ]
        },
        {
          "output_type": "execute_result",
          "data": {
            "text/plain": [
              "[0.9564034938812256, 0.6812000274658203]"
            ]
          },
          "metadata": {},
          "execution_count": 94
        }
      ]
    },
    {
      "cell_type": "markdown",
      "metadata": {
        "id": "Uhpoo7dc4Ai1"
      },
      "source": [
        "## Transfer Learning - Efficient Net"
      ]
    },
    {
      "cell_type": "code",
      "metadata": {
        "id": "1rCy5XpR13aX"
      },
      "source": [
        "import tensorflow_hub as hub\n",
        "\n",
        "model_url = \"https://tfhub.dev/tensorflow/efficientnet/b0/feature-vector/1\""
      ],
      "execution_count": null,
      "outputs": []
    },
    {
      "cell_type": "code",
      "metadata": {
        "id": "izKsONBs4N1K"
      },
      "source": [
        "# save pretrained model as a Keras layer\n",
        "\n",
        "feature_extractor_layer = hub.KerasLayer(model_url,\n",
        "                                        trainable=False,                                      # freeze the underlying patterns\n",
        "                                        name='feature_extraction_layer')"
      ],
      "execution_count": null,
      "outputs": []
    },
    {
      "cell_type": "code",
      "metadata": {
        "colab": {
          "base_uri": "https://localhost:8080/"
        },
        "id": "43YGnuz34cRR",
        "outputId": "4862b462-ae09-4bd3-de75-33180fffda33"
      },
      "source": [
        "(X_train, y_train), (X_test, y_test) = cifar10.load_data()\n",
        "\n",
        "X_train.shape, y_train.shape, X_test.shape, y_test.shape"
      ],
      "execution_count": null,
      "outputs": [
        {
          "output_type": "execute_result",
          "data": {
            "text/plain": [
              "((50000, 32, 32, 3), (50000, 1), (10000, 32, 32, 3), (10000, 1))"
            ]
          },
          "metadata": {},
          "execution_count": 112
        }
      ]
    },
    {
      "cell_type": "code",
      "metadata": {
        "id": "-qhdvXc76ypI"
      },
      "source": [
        "X_train, X_test = X_train/255.0, X_test/255.0"
      ],
      "execution_count": null,
      "outputs": []
    },
    {
      "cell_type": "code",
      "metadata": {
        "id": "K6ROWHgT4cRS"
      },
      "source": [
        "class_names = ['airplane', 'automobile', 'bird', 'cat', 'deer',\n",
        "               'dog', 'frog', 'horse', 'ship', 'truck']"
      ],
      "execution_count": null,
      "outputs": []
    },
    {
      "cell_type": "code",
      "metadata": {
        "id": "D9gBOQ9J4cRT"
      },
      "source": [
        "IMG_HEIGHT = 32\n",
        "IMG_WIDTH = 32\n",
        "CHANNELS = 3\n",
        "BATCH_SIZE = 64"
      ],
      "execution_count": null,
      "outputs": []
    },
    {
      "cell_type": "code",
      "metadata": {
        "id": "ctr4edVB4cRT"
      },
      "source": [
        "NUM_CLASSES = len(class_names)"
      ],
      "execution_count": null,
      "outputs": []
    },
    {
      "cell_type": "code",
      "metadata": {
        "id": "Igzs9FzR4jm2"
      },
      "source": [
        "model = Sequential([\n",
        "    layers.InputLayer(input_shape=(IMG_HEIGHT, IMG_WIDTH, CHANNELS)),\n",
        "    feature_extractor_layer,\n",
        "    layers.Dense(NUM_CLASSES, activation='softmax', name='output_layer')\n",
        "])"
      ],
      "execution_count": null,
      "outputs": []
    },
    {
      "cell_type": "code",
      "metadata": {
        "colab": {
          "base_uri": "https://localhost:8080/"
        },
        "id": "3g1I4FbM4pSx",
        "outputId": "6dffba27-0d75-4c8d-b717-74dad3798b52"
      },
      "source": [
        "model.summary()"
      ],
      "execution_count": null,
      "outputs": [
        {
          "output_type": "stream",
          "name": "stdout",
          "text": [
            "Model: \"sequential_7\"\n",
            "_________________________________________________________________\n",
            "Layer (type)                 Output Shape              Param #   \n",
            "=================================================================\n",
            "feature_extraction_layer (Ke (None, 1280)              4049564   \n",
            "_________________________________________________________________\n",
            "output_layer (Dense)         (None, 10)                12810     \n",
            "=================================================================\n",
            "Total params: 4,062,374\n",
            "Trainable params: 12,810\n",
            "Non-trainable params: 4,049,564\n",
            "_________________________________________________________________\n"
          ]
        }
      ]
    },
    {
      "cell_type": "code",
      "metadata": {
        "id": "c3Ff6emF4cRU"
      },
      "source": [
        "optimizer = tf.keras.optimizers.Adam(learning_rate=0.001)\n",
        "loss      = tf.keras.losses.SparseCategoricalCrossentropy()\n",
        "metrics   = ['accuracy']"
      ],
      "execution_count": null,
      "outputs": []
    },
    {
      "cell_type": "code",
      "metadata": {
        "id": "0x5G4gH54cRU"
      },
      "source": [
        "model.compile(optimizer=optimizer,\n",
        "              loss=loss,\n",
        "              metrics=metrics)"
      ],
      "execution_count": null,
      "outputs": []
    },
    {
      "cell_type": "code",
      "metadata": {
        "id": "vudFurih4cRU"
      },
      "source": [
        "early_stopping    = EarlyStopping(monitor='val_loss', patience=5)\n",
        "model_checkpoint  = ModelCheckpoint(monitor='val_loss', filepath='./best_model.h5', save_best_only=True)"
      ],
      "execution_count": null,
      "outputs": []
    },
    {
      "cell_type": "code",
      "metadata": {
        "id": "QLRON86m4cRU"
      },
      "source": [
        "EPOCHS = 50\n",
        "CALLBACKS = [early_stopping, model_checkpoint]"
      ],
      "execution_count": null,
      "outputs": []
    },
    {
      "cell_type": "code",
      "metadata": {
        "colab": {
          "base_uri": "https://localhost:8080/"
        },
        "id": "EaYwq_Mb7GDc",
        "outputId": "345392d1-9e42-49f4-87ef-81361caef062"
      },
      "source": [
        "history = model.fit(X_train,\n",
        "                    y_train,\n",
        "                    validation_data = (X_test, y_test),\n",
        "                    epochs = EPOCHS,\n",
        "                    callbacks = CALLBACKS,\n",
        "                    batch_size = BATCH_SIZE,\n",
        "                    verbose=1\n",
        "                    )"
      ],
      "execution_count": null,
      "outputs": [
        {
          "output_type": "stream",
          "name": "stdout",
          "text": [
            "Epoch 1/50\n",
            "782/782 [==============================] - 26s 29ms/step - loss: 1.5512 - accuracy: 0.4623 - val_loss: 1.3728 - val_accuracy: 0.5230\n",
            "Epoch 2/50\n",
            "782/782 [==============================] - 22s 28ms/step - loss: 1.3161 - accuracy: 0.5391 - val_loss: 1.2852 - val_accuracy: 0.5499\n",
            "Epoch 3/50\n",
            "782/782 [==============================] - 22s 28ms/step - loss: 1.2522 - accuracy: 0.5619 - val_loss: 1.2433 - val_accuracy: 0.5647\n",
            "Epoch 4/50\n",
            "782/782 [==============================] - 22s 28ms/step - loss: 1.2178 - accuracy: 0.5725 - val_loss: 1.2233 - val_accuracy: 0.5710\n",
            "Epoch 5/50\n",
            "782/782 [==============================] - 22s 28ms/step - loss: 1.1896 - accuracy: 0.5826 - val_loss: 1.2045 - val_accuracy: 0.5796\n",
            "Epoch 6/50\n",
            "782/782 [==============================] - 22s 28ms/step - loss: 1.1708 - accuracy: 0.5891 - val_loss: 1.1867 - val_accuracy: 0.5839\n",
            "Epoch 7/50\n",
            "782/782 [==============================] - 22s 28ms/step - loss: 1.1562 - accuracy: 0.5922 - val_loss: 1.1831 - val_accuracy: 0.5848\n",
            "Epoch 8/50\n",
            "782/782 [==============================] - 23s 30ms/step - loss: 1.1432 - accuracy: 0.5982 - val_loss: 1.1646 - val_accuracy: 0.5907\n",
            "Epoch 9/50\n",
            "782/782 [==============================] - 21s 27ms/step - loss: 1.1317 - accuracy: 0.6030 - val_loss: 1.1623 - val_accuracy: 0.5894\n",
            "Epoch 10/50\n",
            "782/782 [==============================] - 22s 28ms/step - loss: 1.1201 - accuracy: 0.6070 - val_loss: 1.1534 - val_accuracy: 0.5963\n",
            "Epoch 11/50\n",
            "782/782 [==============================] - 22s 28ms/step - loss: 1.1116 - accuracy: 0.6088 - val_loss: 1.1513 - val_accuracy: 0.5946\n",
            "Epoch 12/50\n",
            "782/782 [==============================] - 22s 28ms/step - loss: 1.1057 - accuracy: 0.6127 - val_loss: 1.1491 - val_accuracy: 0.5961\n",
            "Epoch 13/50\n",
            "782/782 [==============================] - 22s 28ms/step - loss: 1.0989 - accuracy: 0.6141 - val_loss: 1.1441 - val_accuracy: 0.5983\n",
            "Epoch 14/50\n",
            "782/782 [==============================] - 22s 28ms/step - loss: 1.0960 - accuracy: 0.6148 - val_loss: 1.1514 - val_accuracy: 0.5952\n",
            "Epoch 15/50\n",
            "782/782 [==============================] - 22s 28ms/step - loss: 1.0882 - accuracy: 0.6173 - val_loss: 1.1411 - val_accuracy: 0.5973\n",
            "Epoch 16/50\n",
            "782/782 [==============================] - 22s 28ms/step - loss: 1.0808 - accuracy: 0.6192 - val_loss: 1.1374 - val_accuracy: 0.6014\n",
            "Epoch 17/50\n",
            "782/782 [==============================] - 22s 28ms/step - loss: 1.0773 - accuracy: 0.6204 - val_loss: 1.1311 - val_accuracy: 0.6026\n",
            "Epoch 18/50\n",
            "782/782 [==============================] - 22s 28ms/step - loss: 1.0729 - accuracy: 0.6226 - val_loss: 1.1334 - val_accuracy: 0.5964\n",
            "Epoch 19/50\n",
            "782/782 [==============================] - 22s 29ms/step - loss: 1.0676 - accuracy: 0.6246 - val_loss: 1.1353 - val_accuracy: 0.5969\n",
            "Epoch 20/50\n",
            "782/782 [==============================] - 23s 30ms/step - loss: 1.0672 - accuracy: 0.6262 - val_loss: 1.1314 - val_accuracy: 0.5991\n",
            "Epoch 21/50\n",
            "782/782 [==============================] - 22s 28ms/step - loss: 1.0627 - accuracy: 0.6268 - val_loss: 1.1259 - val_accuracy: 0.6021\n",
            "Epoch 22/50\n",
            "782/782 [==============================] - 24s 31ms/step - loss: 1.0575 - accuracy: 0.6292 - val_loss: 1.1236 - val_accuracy: 0.6015\n",
            "Epoch 23/50\n",
            "782/782 [==============================] - 24s 30ms/step - loss: 1.0560 - accuracy: 0.6297 - val_loss: 1.1272 - val_accuracy: 0.6035\n",
            "Epoch 24/50\n",
            "782/782 [==============================] - 22s 28ms/step - loss: 1.0525 - accuracy: 0.6309 - val_loss: 1.1170 - val_accuracy: 0.6066\n",
            "Epoch 25/50\n",
            "782/782 [==============================] - 22s 28ms/step - loss: 1.0483 - accuracy: 0.6320 - val_loss: 1.1330 - val_accuracy: 0.6000\n",
            "Epoch 26/50\n",
            "782/782 [==============================] - 22s 28ms/step - loss: 1.0457 - accuracy: 0.6318 - val_loss: 1.1218 - val_accuracy: 0.6054\n",
            "Epoch 27/50\n",
            "782/782 [==============================] - 22s 28ms/step - loss: 1.0453 - accuracy: 0.6328 - val_loss: 1.1128 - val_accuracy: 0.6071\n",
            "Epoch 28/50\n",
            "782/782 [==============================] - 22s 28ms/step - loss: 1.0402 - accuracy: 0.6333 - val_loss: 1.1122 - val_accuracy: 0.6068\n",
            "Epoch 29/50\n",
            "782/782 [==============================] - 22s 28ms/step - loss: 1.0396 - accuracy: 0.6361 - val_loss: 1.1189 - val_accuracy: 0.6036\n",
            "Epoch 30/50\n",
            "782/782 [==============================] - 22s 28ms/step - loss: 1.0358 - accuracy: 0.6359 - val_loss: 1.1146 - val_accuracy: 0.6095\n",
            "Epoch 31/50\n",
            "782/782 [==============================] - 22s 28ms/step - loss: 1.0329 - accuracy: 0.6380 - val_loss: 1.1126 - val_accuracy: 0.6076\n",
            "Epoch 32/50\n",
            "782/782 [==============================] - 23s 30ms/step - loss: 1.0308 - accuracy: 0.6383 - val_loss: 1.1167 - val_accuracy: 0.6092\n",
            "Epoch 33/50\n",
            "782/782 [==============================] - 23s 30ms/step - loss: 1.0298 - accuracy: 0.6372 - val_loss: 1.1127 - val_accuracy: 0.6055\n"
          ]
        }
      ]
    },
    {
      "cell_type": "code",
      "metadata": {
        "colab": {
          "base_uri": "https://localhost:8080/",
          "height": 580
        },
        "id": "1NEhVhP14cRV",
        "outputId": "0cf868b2-0021-49d4-d382-3594d96ae4d0"
      },
      "source": [
        "acc      = history.history['accuracy']\n",
        "val_acc  = history.history['val_accuracy']\n",
        "\n",
        "epochs   = range(len(acc))\n",
        "\n",
        "plt.plot(epochs, acc, 'r', label = 'Training')\n",
        "plt.plot(epochs, val_acc, 'b', label = 'Validation')\n",
        "plt.title('Training and Validation Accuracy')\n",
        "plt.legend()\n",
        "plt.figure()\n",
        "\n",
        "loss     = history.history['loss']\n",
        "val_loss = history.history['val_loss']\n",
        "\n",
        "epochs   = range(len(loss))\n",
        "\n",
        "plt.plot(epochs, loss, 'r', label = 'Training')\n",
        "plt.plot(epochs, val_loss, 'b', label = 'Validation')\n",
        "plt.title('Training and Validation Loss')\n",
        "plt.legend()\n",
        "plt.figure()"
      ],
      "execution_count": null,
      "outputs": [
        {
          "output_type": "execute_result",
          "data": {
            "text/plain": [
              "<Figure size 432x288 with 0 Axes>"
            ]
          },
          "metadata": {},
          "execution_count": 124
        },
        {
          "output_type": "display_data",
          "data": {
            "image/png": "[encoded data removed]",
            "text/plain": [
              "<Figure size 432x288 with 1 Axes>"
            ]
          },
          "metadata": {
            "needs_background": "light"
          }
        },
        {
          "output_type": "display_data",
          "data": {
            "image/png": "[encoded data removed]",
            "text/plain": [
              "<Figure size 432x288 with 1 Axes>"
            ]
          },
          "metadata": {
            "needs_background": "light"
          }
        },
        {
          "output_type": "display_data",
          "data": {
            "text/plain": [
              "<Figure size 432x288 with 0 Axes>"
            ]
          },
          "metadata": {}
        }
      ]
    },
    {
      "cell_type": "code",
      "metadata": {
        "colab": {
          "base_uri": "https://localhost:8080/"
        },
        "id": "F6b6ktm54cRV",
        "outputId": "2c43ff84-0bcd-42e8-9a29-1139f40fac3c"
      },
      "source": [
        "model.evaluate(X_test, y_test, batch_size=BATCH_SIZE, verbose=1)"
      ],
      "execution_count": null,
      "outputs": [
        {
          "output_type": "stream",
          "name": "stdout",
          "text": [
            "157/157 [==============================] - 4s 25ms/step - loss: 1.1127 - accuracy: 0.6055\n"
          ]
        },
        {
          "output_type": "execute_result",
          "data": {
            "text/plain": [
              "[1.1126537322998047, 0.6054999828338623]"
            ]
          },
          "metadata": {},
          "execution_count": 125
        }
      ]
    },
    {
      "cell_type": "markdown",
      "metadata": {
        "id": "vEnxejYjEObS"
      },
      "source": [
        "## VGG"
      ]
    },
    {
      "cell_type": "code",
      "metadata": {
        "colab": {
          "base_uri": "https://localhost:8080/"
        },
        "id": "dL1033DtEPgf",
        "outputId": "2537744e-c822-49ea-c89d-15c8e6120178"
      },
      "source": [
        "vgg_model = tf.keras.applications.vgg16.VGG16()\n",
        "type(vgg_model)"
      ],
      "execution_count": 24,
      "outputs": [
        {
          "output_type": "stream",
          "name": "stdout",
          "text": [
            "Downloading data from https://storage.googleapis.com/tensorflow/keras-applications/vgg16/vgg16_weights_tf_dim_ordering_tf_kernels.h5\n",
            "553467904/553467096 [==============================] - 6s 0us/step\n",
            "553476096/553467096 [==============================] - 6s 0us/step\n"
          ]
        },
        {
          "output_type": "execute_result",
          "data": {
            "text/plain": [
              "keras.engine.functional.Functional"
            ]
          },
          "metadata": {},
          "execution_count": 24
        }
      ]
    },
    {
      "cell_type": "code",
      "metadata": {
        "colab": {
          "base_uri": "https://localhost:8080/"
        },
        "id": "8ziFU8C9EmGZ",
        "outputId": "a119e77e-b689-4101-927b-46b7e957ea58"
      },
      "source": [
        "vgg_model.summary()"
      ],
      "execution_count": 26,
      "outputs": [
        {
          "output_type": "stream",
          "name": "stdout",
          "text": [
            "Model: \"vgg16\"\n",
            "_________________________________________________________________\n",
            "Layer (type)                 Output Shape              Param #   \n",
            "=================================================================\n",
            "input_2 (InputLayer)         [(None, 224, 224, 3)]     0         \n",
            "_________________________________________________________________\n",
            "block1_conv1 (Conv2D)        (None, 224, 224, 64)      1792      \n",
            "_________________________________________________________________\n",
            "block1_conv2 (Conv2D)        (None, 224, 224, 64)      36928     \n",
            "_________________________________________________________________\n",
            "block1_pool (MaxPooling2D)   (None, 112, 112, 64)      0         \n",
            "_________________________________________________________________\n",
            "block2_conv1 (Conv2D)        (None, 112, 112, 128)     73856     \n",
            "_________________________________________________________________\n",
            "block2_conv2 (Conv2D)        (None, 112, 112, 128)     147584    \n",
            "_________________________________________________________________\n",
            "block2_pool (MaxPooling2D)   (None, 56, 56, 128)       0         \n",
            "_________________________________________________________________\n",
            "block3_conv1 (Conv2D)        (None, 56, 56, 256)       295168    \n",
            "_________________________________________________________________\n",
            "block3_conv2 (Conv2D)        (None, 56, 56, 256)       590080    \n",
            "_________________________________________________________________\n",
            "block3_conv3 (Conv2D)        (None, 56, 56, 256)       590080    \n",
            "_________________________________________________________________\n",
            "block3_pool (MaxPooling2D)   (None, 28, 28, 256)       0         \n",
            "_________________________________________________________________\n",
            "block4_conv1 (Conv2D)        (None, 28, 28, 512)       1180160   \n",
            "_________________________________________________________________\n",
            "block4_conv2 (Conv2D)        (None, 28, 28, 512)       2359808   \n",
            "_________________________________________________________________\n",
            "block4_conv3 (Conv2D)        (None, 28, 28, 512)       2359808   \n",
            "_________________________________________________________________\n",
            "block4_pool (MaxPooling2D)   (None, 14, 14, 512)       0         \n",
            "_________________________________________________________________\n",
            "block5_conv1 (Conv2D)        (None, 14, 14, 512)       2359808   \n",
            "_________________________________________________________________\n",
            "block5_conv2 (Conv2D)        (None, 14, 14, 512)       2359808   \n",
            "_________________________________________________________________\n",
            "block5_conv3 (Conv2D)        (None, 14, 14, 512)       2359808   \n",
            "_________________________________________________________________\n",
            "block5_pool (MaxPooling2D)   (None, 7, 7, 512)         0         \n",
            "_________________________________________________________________\n",
            "flatten (Flatten)            (None, 25088)             0         \n",
            "_________________________________________________________________\n",
            "fc1 (Dense)                  (None, 4096)              102764544 \n",
            "_________________________________________________________________\n",
            "fc2 (Dense)                  (None, 4096)              16781312  \n",
            "_________________________________________________________________\n",
            "predictions (Dense)          (None, 1000)              4097000   \n",
            "=================================================================\n",
            "Total params: 138,357,544\n",
            "Trainable params: 138,357,544\n",
            "Non-trainable params: 0\n",
            "_________________________________________________________________\n"
          ]
        }
      ]
    },
    {
      "cell_type": "code",
      "metadata": {
        "id": "EVL8t9wUEZVv"
      },
      "source": [
        "model = tf.keras.models.Sequential()             # making the above functional model as sequential\n",
        "\n",
        "for layer in vgg_model.layers[:-1]:           # removing last layer from VGG\n",
        "    model.add(layer)"
      ],
      "execution_count": 25,
      "outputs": []
    },
    {
      "cell_type": "code",
      "metadata": {
        "colab": {
          "base_uri": "https://localhost:8080/"
        },
        "id": "mrNcracrEgpc",
        "outputId": "70f0edca-aa89-4359-afa1-ae4f0b129fe8"
      },
      "source": [
        "model.summary()"
      ],
      "execution_count": 27,
      "outputs": [
        {
          "output_type": "stream",
          "name": "stdout",
          "text": [
            "Model: \"sequential_1\"\n",
            "_________________________________________________________________\n",
            "Layer (type)                 Output Shape              Param #   \n",
            "=================================================================\n",
            "block1_conv1 (Conv2D)        (None, 224, 224, 64)      1792      \n",
            "_________________________________________________________________\n",
            "block1_conv2 (Conv2D)        (None, 224, 224, 64)      36928     \n",
            "_________________________________________________________________\n",
            "block1_pool (MaxPooling2D)   (None, 112, 112, 64)      0         \n",
            "_________________________________________________________________\n",
            "block2_conv1 (Conv2D)        (None, 112, 112, 128)     73856     \n",
            "_________________________________________________________________\n",
            "block2_conv2 (Conv2D)        (None, 112, 112, 128)     147584    \n",
            "_________________________________________________________________\n",
            "block2_pool (MaxPooling2D)   (None, 56, 56, 128)       0         \n",
            "_________________________________________________________________\n",
            "block3_conv1 (Conv2D)        (None, 56, 56, 256)       295168    \n",
            "_________________________________________________________________\n",
            "block3_conv2 (Conv2D)        (None, 56, 56, 256)       590080    \n",
            "_________________________________________________________________\n",
            "block3_conv3 (Conv2D)        (None, 56, 56, 256)       590080    \n",
            "_________________________________________________________________\n",
            "block3_pool (MaxPooling2D)   (None, 28, 28, 256)       0         \n",
            "_________________________________________________________________\n",
            "block4_conv1 (Conv2D)        (None, 28, 28, 512)       1180160   \n",
            "_________________________________________________________________\n",
            "block4_conv2 (Conv2D)        (None, 28, 28, 512)       2359808   \n",
            "_________________________________________________________________\n",
            "block4_conv3 (Conv2D)        (None, 28, 28, 512)       2359808   \n",
            "_________________________________________________________________\n",
            "block4_pool (MaxPooling2D)   (None, 14, 14, 512)       0         \n",
            "_________________________________________________________________\n",
            "block5_conv1 (Conv2D)        (None, 14, 14, 512)       2359808   \n",
            "_________________________________________________________________\n",
            "block5_conv2 (Conv2D)        (None, 14, 14, 512)       2359808   \n",
            "_________________________________________________________________\n",
            "block5_conv3 (Conv2D)        (None, 14, 14, 512)       2359808   \n",
            "_________________________________________________________________\n",
            "block5_pool (MaxPooling2D)   (None, 7, 7, 512)         0         \n",
            "_________________________________________________________________\n",
            "flatten (Flatten)            (None, 25088)             0         \n",
            "_________________________________________________________________\n",
            "fc1 (Dense)                  (None, 4096)              102764544 \n",
            "_________________________________________________________________\n",
            "fc2 (Dense)                  (None, 4096)              16781312  \n",
            "=================================================================\n",
            "Total params: 134,260,544\n",
            "Trainable params: 134,260,544\n",
            "Non-trainable params: 0\n",
            "_________________________________________________________________\n"
          ]
        }
      ]
    },
    {
      "cell_type": "code",
      "metadata": {
        "colab": {
          "base_uri": "https://localhost:8080/"
        },
        "id": "oI2nCJbxEoOn",
        "outputId": "d36974bc-5001-4a64-8b5b-6b1ea043ecd6"
      },
      "source": [
        "type(model)"
      ],
      "execution_count": 28,
      "outputs": [
        {
          "output_type": "execute_result",
          "data": {
            "text/plain": [
              "keras.engine.sequential.Sequential"
            ]
          },
          "metadata": {},
          "execution_count": 28
        }
      ]
    },
    {
      "cell_type": "code",
      "metadata": {
        "id": "QuOTWSTeEr9V"
      },
      "source": [
        "# no need to retrain again, so making trainable as False\n",
        "\n",
        "for layer in model.layers:\n",
        "    layer.trainable = False"
      ],
      "execution_count": 29,
      "outputs": []
    },
    {
      "cell_type": "code",
      "metadata": {
        "id": "XkFyuZ36EwRx"
      },
      "source": [
        "model.add(layers.Dense(NUM_CLASSES, activation='softmax'))"
      ],
      "execution_count": 30,
      "outputs": []
    },
    {
      "cell_type": "code",
      "metadata": {
        "colab": {
          "base_uri": "https://localhost:8080/"
        },
        "id": "9MHOW6ipE4-D",
        "outputId": "05fe64fa-1573-42d4-a22b-d2b7a6608ec2"
      },
      "source": [
        "model.summary()"
      ],
      "execution_count": 31,
      "outputs": [
        {
          "output_type": "stream",
          "name": "stdout",
          "text": [
            "Model: \"sequential_1\"\n",
            "_________________________________________________________________\n",
            "Layer (type)                 Output Shape              Param #   \n",
            "=================================================================\n",
            "block1_conv1 (Conv2D)        (None, 224, 224, 64)      1792      \n",
            "_________________________________________________________________\n",
            "block1_conv2 (Conv2D)        (None, 224, 224, 64)      36928     \n",
            "_________________________________________________________________\n",
            "block1_pool (MaxPooling2D)   (None, 112, 112, 64)      0         \n",
            "_________________________________________________________________\n",
            "block2_conv1 (Conv2D)        (None, 112, 112, 128)     73856     \n",
            "_________________________________________________________________\n",
            "block2_conv2 (Conv2D)        (None, 112, 112, 128)     147584    \n",
            "_________________________________________________________________\n",
            "block2_pool (MaxPooling2D)   (None, 56, 56, 128)       0         \n",
            "_________________________________________________________________\n",
            "block3_conv1 (Conv2D)        (None, 56, 56, 256)       295168    \n",
            "_________________________________________________________________\n",
            "block3_conv2 (Conv2D)        (None, 56, 56, 256)       590080    \n",
            "_________________________________________________________________\n",
            "block3_conv3 (Conv2D)        (None, 56, 56, 256)       590080    \n",
            "_________________________________________________________________\n",
            "block3_pool (MaxPooling2D)   (None, 28, 28, 256)       0         \n",
            "_________________________________________________________________\n",
            "block4_conv1 (Conv2D)        (None, 28, 28, 512)       1180160   \n",
            "_________________________________________________________________\n",
            "block4_conv2 (Conv2D)        (None, 28, 28, 512)       2359808   \n",
            "_________________________________________________________________\n",
            "block4_conv3 (Conv2D)        (None, 28, 28, 512)       2359808   \n",
            "_________________________________________________________________\n",
            "block4_pool (MaxPooling2D)   (None, 14, 14, 512)       0         \n",
            "_________________________________________________________________\n",
            "block5_conv1 (Conv2D)        (None, 14, 14, 512)       2359808   \n",
            "_________________________________________________________________\n",
            "block5_conv2 (Conv2D)        (None, 14, 14, 512)       2359808   \n",
            "_________________________________________________________________\n",
            "block5_conv3 (Conv2D)        (None, 14, 14, 512)       2359808   \n",
            "_________________________________________________________________\n",
            "block5_pool (MaxPooling2D)   (None, 7, 7, 512)         0         \n",
            "_________________________________________________________________\n",
            "flatten (Flatten)            (None, 25088)             0         \n",
            "_________________________________________________________________\n",
            "fc1 (Dense)                  (None, 4096)              102764544 \n",
            "_________________________________________________________________\n",
            "fc2 (Dense)                  (None, 4096)              16781312  \n",
            "_________________________________________________________________\n",
            "dense_2 (Dense)              (None, 10)                40970     \n",
            "=================================================================\n",
            "Total params: 134,301,514\n",
            "Trainable params: 40,970\n",
            "Non-trainable params: 134,260,544\n",
            "_________________________________________________________________\n"
          ]
        }
      ]
    },
    {
      "cell_type": "code",
      "metadata": {
        "id": "la_IaffyE-5i"
      },
      "source": [
        "optimizer = tf.keras.optimizers.Adam(learning_rate=0.001)\n",
        "loss      = tf.keras.losses.SparseCategoricalCrossentropy()\n",
        "metrics   = ['accuracy']"
      ],
      "execution_count": 32,
      "outputs": []
    },
    {
      "cell_type": "code",
      "metadata": {
        "id": "OoXqv0LOE-5j"
      },
      "source": [
        "model.compile(optimizer=optimizer,\n",
        "              loss=loss,\n",
        "              metrics=metrics)"
      ],
      "execution_count": 33,
      "outputs": []
    },
    {
      "cell_type": "code",
      "metadata": {
        "id": "t8hCiK1TFWYY"
      },
      "source": [
        "preprocess_input = tf.keras.applications.vgg16.preprocess_input"
      ],
      "execution_count": 34,
      "outputs": []
    },
    {
      "cell_type": "code",
      "metadata": {
        "id": "D9hg-IhhFdfY"
      },
      "source": [
        "from tensorflow.keras.preprocessing.image import ImageDataGenerator\n",
        "\n",
        "train_datagen = ImageDataGenerator(preprocessing_function=preprocess_input)\n",
        "\n",
        "train_generator = train_datagen.flow(X_train,\n",
        "                                     y_train,\n",
        "                                     seed=20,\n",
        "                                     batch_size=BATCH_SIZE)"
      ],
      "execution_count": 35,
      "outputs": []
    },
    {
      "cell_type": "code",
      "metadata": {
        "id": "S2t3BGd-FyjH"
      },
      "source": [
        "test_datagen = ImageDataGenerator(preprocessing_function=preprocess_input)\n",
        "\n",
        "test_generator = test_datagen.flow(X_test,\n",
        "                                   y_test,\n",
        "                                   seed=20,\n",
        "                                   batch_size=BATCH_SIZE)"
      ],
      "execution_count": 36,
      "outputs": []
    },
    {
      "cell_type": "code",
      "metadata": {
        "id": "XtxkBtz8E-5j"
      },
      "source": [
        "early_stopping    = EarlyStopping(monitor='val_loss', patience=5)\n",
        "model_checkpoint  = ModelCheckpoint(monitor='val_loss', filepath='./best_model.h5', save_best_only=True)"
      ],
      "execution_count": 37,
      "outputs": []
    },
    {
      "cell_type": "code",
      "metadata": {
        "id": "306AjPKAE-5j"
      },
      "source": [
        "EPOCHS = 50\n",
        "CALLBACKS = [early_stopping, model_checkpoint]"
      ],
      "execution_count": 38,
      "outputs": []
    },
    {
      "cell_type": "code",
      "metadata": {
        "colab": {
          "base_uri": "https://localhost:8080/",
          "height": 459
        },
        "id": "X8ZemamLGJNI",
        "outputId": "5c967b2c-b411-4f7b-e836-acce72dd4e47"
      },
      "source": [
        "history = model.fit(train_generator,\n",
        "                    validation_data=test_generator,\n",
        "                    epochs=EPOCHS,\n",
        "                    callbacks = CALLBACKS,\n",
        "                    verbose=1\n",
        "                    )"
      ],
      "execution_count": 39,
      "outputs": [
        {
          "output_type": "stream",
          "name": "stdout",
          "text": [
            "Epoch 1/50\n"
          ]
        },
        {
          "output_type": "error",
          "ename": "InvalidArgumentError",
          "evalue": "ignored",
          "traceback": [
            "\u001b[0;31m---------------------------------------------------------------------------\u001b[0m",
            "\u001b[0;31mInvalidArgumentError\u001b[0m                      Traceback (most recent call last)",
            "\u001b[0;32m<ipython-input-39-326cd5ea785c>\u001b[0m in \u001b[0;36m<module>\u001b[0;34m()\u001b[0m\n\u001b[1;32m      3\u001b[0m                     \u001b[0mepochs\u001b[0m\u001b[0;34m=\u001b[0m\u001b[0mEPOCHS\u001b[0m\u001b[0;34m,\u001b[0m\u001b[0;34m\u001b[0m\u001b[0;34m\u001b[0m\u001b[0m\n\u001b[1;32m      4\u001b[0m                     \u001b[0mcallbacks\u001b[0m \u001b[0;34m=\u001b[0m \u001b[0mCALLBACKS\u001b[0m\u001b[0;34m,\u001b[0m\u001b[0;34m\u001b[0m\u001b[0;34m\u001b[0m\u001b[0m\n\u001b[0;32m----> 5\u001b[0;31m                     \u001b[0mverbose\u001b[0m\u001b[0;34m=\u001b[0m\u001b[0;36m1\u001b[0m\u001b[0;34m\u001b[0m\u001b[0;34m\u001b[0m\u001b[0m\n\u001b[0m\u001b[1;32m      6\u001b[0m                     )\n",
            "\u001b[0;32m/usr/local/lib/python3.7/dist-packages/keras/engine/training.py\u001b[0m in \u001b[0;36mfit\u001b[0;34m(self, x, y, batch_size, epochs, verbose, callbacks, validation_split, validation_data, shuffle, class_weight, sample_weight, initial_epoch, steps_per_epoch, validation_steps, validation_batch_size, validation_freq, max_queue_size, workers, use_multiprocessing)\u001b[0m\n\u001b[1;32m   1182\u001b[0m                 _r=1):\n\u001b[1;32m   1183\u001b[0m               \u001b[0mcallbacks\u001b[0m\u001b[0;34m.\u001b[0m\u001b[0mon_train_batch_begin\u001b[0m\u001b[0;34m(\u001b[0m\u001b[0mstep\u001b[0m\u001b[0;34m)\u001b[0m\u001b[0;34m\u001b[0m\u001b[0;34m\u001b[0m\u001b[0m\n\u001b[0;32m-> 1184\u001b[0;31m               \u001b[0mtmp_logs\u001b[0m \u001b[0;34m=\u001b[0m \u001b[0mself\u001b[0m\u001b[0;34m.\u001b[0m\u001b[0mtrain_function\u001b[0m\u001b[0;34m(\u001b[0m\u001b[0miterator\u001b[0m\u001b[0;34m)\u001b[0m\u001b[0;34m\u001b[0m\u001b[0;34m\u001b[0m\u001b[0m\n\u001b[0m\u001b[1;32m   1185\u001b[0m               \u001b[0;32mif\u001b[0m \u001b[0mdata_handler\u001b[0m\u001b[0;34m.\u001b[0m\u001b[0mshould_sync\u001b[0m\u001b[0;34m:\u001b[0m\u001b[0;34m\u001b[0m\u001b[0;34m\u001b[0m\u001b[0m\n\u001b[1;32m   1186\u001b[0m                 \u001b[0mcontext\u001b[0m\u001b[0;34m.\u001b[0m\u001b[0masync_wait\u001b[0m\u001b[0;34m(\u001b[0m\u001b[0;34m)\u001b[0m\u001b[0;34m\u001b[0m\u001b[0;34m\u001b[0m\u001b[0m\n",
            "\u001b[0;32m/usr/local/lib/python3.7/dist-packages/tensorflow/python/eager/def_function.py\u001b[0m in \u001b[0;36m__call__\u001b[0;34m(self, *args, **kwds)\u001b[0m\n\u001b[1;32m    883\u001b[0m \u001b[0;34m\u001b[0m\u001b[0m\n\u001b[1;32m    884\u001b[0m       \u001b[0;32mwith\u001b[0m \u001b[0mOptionalXlaContext\u001b[0m\u001b[0;34m(\u001b[0m\u001b[0mself\u001b[0m\u001b[0;34m.\u001b[0m\u001b[0m_jit_compile\u001b[0m\u001b[0;34m)\u001b[0m\u001b[0;34m:\u001b[0m\u001b[0;34m\u001b[0m\u001b[0;34m\u001b[0m\u001b[0m\n\u001b[0;32m--> 885\u001b[0;31m         \u001b[0mresult\u001b[0m \u001b[0;34m=\u001b[0m \u001b[0mself\u001b[0m\u001b[0;34m.\u001b[0m\u001b[0m_call\u001b[0m\u001b[0;34m(\u001b[0m\u001b[0;34m*\u001b[0m\u001b[0margs\u001b[0m\u001b[0;34m,\u001b[0m \u001b[0;34m**\u001b[0m\u001b[0mkwds\u001b[0m\u001b[0;34m)\u001b[0m\u001b[0;34m\u001b[0m\u001b[0;34m\u001b[0m\u001b[0m\n\u001b[0m\u001b[1;32m    886\u001b[0m \u001b[0;34m\u001b[0m\u001b[0m\n\u001b[1;32m    887\u001b[0m       \u001b[0mnew_tracing_count\u001b[0m \u001b[0;34m=\u001b[0m \u001b[0mself\u001b[0m\u001b[0;34m.\u001b[0m\u001b[0mexperimental_get_tracing_count\u001b[0m\u001b[0;34m(\u001b[0m\u001b[0;34m)\u001b[0m\u001b[0;34m\u001b[0m\u001b[0;34m\u001b[0m\u001b[0m\n",
            "\u001b[0;32m/usr/local/lib/python3.7/dist-packages/tensorflow/python/eager/def_function.py\u001b[0m in \u001b[0;36m_call\u001b[0;34m(self, *args, **kwds)\u001b[0m\n\u001b[1;32m    948\u001b[0m         \u001b[0;31m# Lifting succeeded, so variables are initialized and we can run the\u001b[0m\u001b[0;34m\u001b[0m\u001b[0;34m\u001b[0m\u001b[0;34m\u001b[0m\u001b[0m\n\u001b[1;32m    949\u001b[0m         \u001b[0;31m# stateless function.\u001b[0m\u001b[0;34m\u001b[0m\u001b[0;34m\u001b[0m\u001b[0;34m\u001b[0m\u001b[0m\n\u001b[0;32m--> 950\u001b[0;31m         \u001b[0;32mreturn\u001b[0m \u001b[0mself\u001b[0m\u001b[0;34m.\u001b[0m\u001b[0m_stateless_fn\u001b[0m\u001b[0;34m(\u001b[0m\u001b[0;34m*\u001b[0m\u001b[0margs\u001b[0m\u001b[0;34m,\u001b[0m \u001b[0;34m**\u001b[0m\u001b[0mkwds\u001b[0m\u001b[0;34m)\u001b[0m\u001b[0;34m\u001b[0m\u001b[0;34m\u001b[0m\u001b[0m\n\u001b[0m\u001b[1;32m    951\u001b[0m     \u001b[0;32melse\u001b[0m\u001b[0;34m:\u001b[0m\u001b[0;34m\u001b[0m\u001b[0;34m\u001b[0m\u001b[0m\n\u001b[1;32m    952\u001b[0m       \u001b[0m_\u001b[0m\u001b[0;34m,\u001b[0m \u001b[0m_\u001b[0m\u001b[0;34m,\u001b[0m \u001b[0m_\u001b[0m\u001b[0;34m,\u001b[0m \u001b[0mfiltered_flat_args\u001b[0m \u001b[0;34m=\u001b[0m\u001b[0;31m \u001b[0m\u001b[0;31m\\\u001b[0m\u001b[0;34m\u001b[0m\u001b[0;34m\u001b[0m\u001b[0m\n",
            "\u001b[0;32m/usr/local/lib/python3.7/dist-packages/tensorflow/python/eager/function.py\u001b[0m in \u001b[0;36m__call__\u001b[0;34m(self, *args, **kwargs)\u001b[0m\n\u001b[1;32m   3038\u001b[0m        filtered_flat_args) = self._maybe_define_function(args, kwargs)\n\u001b[1;32m   3039\u001b[0m     return graph_function._call_flat(\n\u001b[0;32m-> 3040\u001b[0;31m         filtered_flat_args, captured_inputs=graph_function.captured_inputs)  # pylint: disable=protected-access\n\u001b[0m\u001b[1;32m   3041\u001b[0m \u001b[0;34m\u001b[0m\u001b[0m\n\u001b[1;32m   3042\u001b[0m   \u001b[0;34m@\u001b[0m\u001b[0mproperty\u001b[0m\u001b[0;34m\u001b[0m\u001b[0;34m\u001b[0m\u001b[0m\n",
            "\u001b[0;32m/usr/local/lib/python3.7/dist-packages/tensorflow/python/eager/function.py\u001b[0m in \u001b[0;36m_call_flat\u001b[0;34m(self, args, captured_inputs, cancellation_manager)\u001b[0m\n\u001b[1;32m   1962\u001b[0m       \u001b[0;31m# No tape is watching; skip to running the function.\u001b[0m\u001b[0;34m\u001b[0m\u001b[0;34m\u001b[0m\u001b[0;34m\u001b[0m\u001b[0m\n\u001b[1;32m   1963\u001b[0m       return self._build_call_outputs(self._inference_function.call(\n\u001b[0;32m-> 1964\u001b[0;31m           ctx, args, cancellation_manager=cancellation_manager))\n\u001b[0m\u001b[1;32m   1965\u001b[0m     forward_backward = self._select_forward_and_backward_functions(\n\u001b[1;32m   1966\u001b[0m         \u001b[0margs\u001b[0m\u001b[0;34m,\u001b[0m\u001b[0;34m\u001b[0m\u001b[0;34m\u001b[0m\u001b[0m\n",
            "\u001b[0;32m/usr/local/lib/python3.7/dist-packages/tensorflow/python/eager/function.py\u001b[0m in \u001b[0;36mcall\u001b[0;34m(self, ctx, args, cancellation_manager)\u001b[0m\n\u001b[1;32m    594\u001b[0m               \u001b[0minputs\u001b[0m\u001b[0;34m=\u001b[0m\u001b[0margs\u001b[0m\u001b[0;34m,\u001b[0m\u001b[0;34m\u001b[0m\u001b[0;34m\u001b[0m\u001b[0m\n\u001b[1;32m    595\u001b[0m               \u001b[0mattrs\u001b[0m\u001b[0;34m=\u001b[0m\u001b[0mattrs\u001b[0m\u001b[0;34m,\u001b[0m\u001b[0;34m\u001b[0m\u001b[0;34m\u001b[0m\u001b[0m\n\u001b[0;32m--> 596\u001b[0;31m               ctx=ctx)\n\u001b[0m\u001b[1;32m    597\u001b[0m         \u001b[0;32melse\u001b[0m\u001b[0;34m:\u001b[0m\u001b[0;34m\u001b[0m\u001b[0;34m\u001b[0m\u001b[0m\n\u001b[1;32m    598\u001b[0m           outputs = execute.execute_with_cancellation(\n",
            "\u001b[0;32m/usr/local/lib/python3.7/dist-packages/tensorflow/python/eager/execute.py\u001b[0m in \u001b[0;36mquick_execute\u001b[0;34m(op_name, num_outputs, inputs, attrs, ctx, name)\u001b[0m\n\u001b[1;32m     58\u001b[0m     \u001b[0mctx\u001b[0m\u001b[0;34m.\u001b[0m\u001b[0mensure_initialized\u001b[0m\u001b[0;34m(\u001b[0m\u001b[0;34m)\u001b[0m\u001b[0;34m\u001b[0m\u001b[0;34m\u001b[0m\u001b[0m\n\u001b[1;32m     59\u001b[0m     tensors = pywrap_tfe.TFE_Py_Execute(ctx._handle, device_name, op_name,\n\u001b[0;32m---> 60\u001b[0;31m                                         inputs, attrs, num_outputs)\n\u001b[0m\u001b[1;32m     61\u001b[0m   \u001b[0;32mexcept\u001b[0m \u001b[0mcore\u001b[0m\u001b[0;34m.\u001b[0m\u001b[0m_NotOkStatusException\u001b[0m \u001b[0;32mas\u001b[0m \u001b[0me\u001b[0m\u001b[0;34m:\u001b[0m\u001b[0;34m\u001b[0m\u001b[0;34m\u001b[0m\u001b[0m\n\u001b[1;32m     62\u001b[0m     \u001b[0;32mif\u001b[0m \u001b[0mname\u001b[0m \u001b[0;32mis\u001b[0m \u001b[0;32mnot\u001b[0m \u001b[0;32mNone\u001b[0m\u001b[0;34m:\u001b[0m\u001b[0;34m\u001b[0m\u001b[0;34m\u001b[0m\u001b[0m\n",
            "\u001b[0;31mInvalidArgumentError\u001b[0m:  Input to reshape is a tensor with 32768 values, but the requested shape requires a multiple of 25088\n\t [[node sequential_1/flatten/Reshape (defined at <ipython-input-39-326cd5ea785c>:5) ]] [Op:__inference_train_function_41267]\n\nFunction call stack:\ntrain_function\n"
          ]
        }
      ]
    },
    {
      "cell_type": "code",
      "metadata": {
        "colab": {
          "base_uri": "https://localhost:8080/",
          "height": 941
        },
        "id": "MP3inc7gG1Uy",
        "outputId": "6cc7262c-b0ca-4117-edef-dfc839467066"
      },
      "source": [
        "history = model.fit(X_train,\n",
        "                    y_train,\n",
        "                    validation_data = (X_test, y_test),\n",
        "                    epochs = EPOCHS,\n",
        "                    callbacks = CALLBACKS,\n",
        "                    batch_size = BATCH_SIZE,\n",
        "                    verbose=1\n",
        "                    )"
      ],
      "execution_count": 40,
      "outputs": [
        {
          "output_type": "stream",
          "name": "stdout",
          "text": [
            "Epoch 1/50\n",
            "WARNING:tensorflow:Model was constructed with shape (None, 224, 224, 3) for input KerasTensor(type_spec=TensorSpec(shape=(None, 224, 224, 3), dtype=tf.float32, name='input_2'), name='input_2', description=\"created by layer 'input_2'\"), but it was called on an input with incompatible shape (None, 32, 32, 3).\n"
          ]
        },
        {
          "output_type": "error",
          "ename": "ValueError",
          "evalue": "ignored",
          "traceback": [
            "\u001b[0;31m---------------------------------------------------------------------------\u001b[0m",
            "\u001b[0;31mValueError\u001b[0m                                Traceback (most recent call last)",
            "\u001b[0;32m<ipython-input-40-a1d7ef9b9ddc>\u001b[0m in \u001b[0;36m<module>\u001b[0;34m()\u001b[0m\n\u001b[1;32m      5\u001b[0m                     \u001b[0mcallbacks\u001b[0m \u001b[0;34m=\u001b[0m \u001b[0mCALLBACKS\u001b[0m\u001b[0;34m,\u001b[0m\u001b[0;34m\u001b[0m\u001b[0;34m\u001b[0m\u001b[0m\n\u001b[1;32m      6\u001b[0m                     \u001b[0mbatch_size\u001b[0m \u001b[0;34m=\u001b[0m \u001b[0mBATCH_SIZE\u001b[0m\u001b[0;34m,\u001b[0m\u001b[0;34m\u001b[0m\u001b[0;34m\u001b[0m\u001b[0m\n\u001b[0;32m----> 7\u001b[0;31m                     \u001b[0mverbose\u001b[0m\u001b[0;34m=\u001b[0m\u001b[0;36m1\u001b[0m\u001b[0;34m\u001b[0m\u001b[0;34m\u001b[0m\u001b[0m\n\u001b[0m\u001b[1;32m      8\u001b[0m                     )\n",
            "\u001b[0;32m/usr/local/lib/python3.7/dist-packages/keras/engine/training.py\u001b[0m in \u001b[0;36mfit\u001b[0;34m(self, x, y, batch_size, epochs, verbose, callbacks, validation_split, validation_data, shuffle, class_weight, sample_weight, initial_epoch, steps_per_epoch, validation_steps, validation_batch_size, validation_freq, max_queue_size, workers, use_multiprocessing)\u001b[0m\n\u001b[1;32m   1182\u001b[0m                 _r=1):\n\u001b[1;32m   1183\u001b[0m               \u001b[0mcallbacks\u001b[0m\u001b[0;34m.\u001b[0m\u001b[0mon_train_batch_begin\u001b[0m\u001b[0;34m(\u001b[0m\u001b[0mstep\u001b[0m\u001b[0;34m)\u001b[0m\u001b[0;34m\u001b[0m\u001b[0;34m\u001b[0m\u001b[0m\n\u001b[0;32m-> 1184\u001b[0;31m               \u001b[0mtmp_logs\u001b[0m \u001b[0;34m=\u001b[0m \u001b[0mself\u001b[0m\u001b[0;34m.\u001b[0m\u001b[0mtrain_function\u001b[0m\u001b[0;34m(\u001b[0m\u001b[0miterator\u001b[0m\u001b[0;34m)\u001b[0m\u001b[0;34m\u001b[0m\u001b[0;34m\u001b[0m\u001b[0m\n\u001b[0m\u001b[1;32m   1185\u001b[0m               \u001b[0;32mif\u001b[0m \u001b[0mdata_handler\u001b[0m\u001b[0;34m.\u001b[0m\u001b[0mshould_sync\u001b[0m\u001b[0;34m:\u001b[0m\u001b[0;34m\u001b[0m\u001b[0;34m\u001b[0m\u001b[0m\n\u001b[1;32m   1186\u001b[0m                 \u001b[0mcontext\u001b[0m\u001b[0;34m.\u001b[0m\u001b[0masync_wait\u001b[0m\u001b[0;34m(\u001b[0m\u001b[0;34m)\u001b[0m\u001b[0;34m\u001b[0m\u001b[0;34m\u001b[0m\u001b[0m\n",
            "\u001b[0;32m/usr/local/lib/python3.7/dist-packages/tensorflow/python/eager/def_function.py\u001b[0m in \u001b[0;36m__call__\u001b[0;34m(self, *args, **kwds)\u001b[0m\n\u001b[1;32m    883\u001b[0m \u001b[0;34m\u001b[0m\u001b[0m\n\u001b[1;32m    884\u001b[0m       \u001b[0;32mwith\u001b[0m \u001b[0mOptionalXlaContext\u001b[0m\u001b[0;34m(\u001b[0m\u001b[0mself\u001b[0m\u001b[0;34m.\u001b[0m\u001b[0m_jit_compile\u001b[0m\u001b[0;34m)\u001b[0m\u001b[0;34m:\u001b[0m\u001b[0;34m\u001b[0m\u001b[0;34m\u001b[0m\u001b[0m\n\u001b[0;32m--> 885\u001b[0;31m         \u001b[0mresult\u001b[0m \u001b[0;34m=\u001b[0m \u001b[0mself\u001b[0m\u001b[0;34m.\u001b[0m\u001b[0m_call\u001b[0m\u001b[0;34m(\u001b[0m\u001b[0;34m*\u001b[0m\u001b[0margs\u001b[0m\u001b[0;34m,\u001b[0m \u001b[0;34m**\u001b[0m\u001b[0mkwds\u001b[0m\u001b[0;34m)\u001b[0m\u001b[0;34m\u001b[0m\u001b[0;34m\u001b[0m\u001b[0m\n\u001b[0m\u001b[1;32m    886\u001b[0m \u001b[0;34m\u001b[0m\u001b[0m\n\u001b[1;32m    887\u001b[0m       \u001b[0mnew_tracing_count\u001b[0m \u001b[0;34m=\u001b[0m \u001b[0mself\u001b[0m\u001b[0;34m.\u001b[0m\u001b[0mexperimental_get_tracing_count\u001b[0m\u001b[0;34m(\u001b[0m\u001b[0;34m)\u001b[0m\u001b[0;34m\u001b[0m\u001b[0;34m\u001b[0m\u001b[0m\n",
            "\u001b[0;32m/usr/local/lib/python3.7/dist-packages/tensorflow/python/eager/def_function.py\u001b[0m in \u001b[0;36m_call\u001b[0;34m(self, *args, **kwds)\u001b[0m\n\u001b[1;32m    915\u001b[0m       \u001b[0;31m# In this case we have created variables on the first call, so we run the\u001b[0m\u001b[0;34m\u001b[0m\u001b[0;34m\u001b[0m\u001b[0;34m\u001b[0m\u001b[0m\n\u001b[1;32m    916\u001b[0m       \u001b[0;31m# defunned version which is guaranteed to never create variables.\u001b[0m\u001b[0;34m\u001b[0m\u001b[0;34m\u001b[0m\u001b[0;34m\u001b[0m\u001b[0m\n\u001b[0;32m--> 917\u001b[0;31m       \u001b[0;32mreturn\u001b[0m \u001b[0mself\u001b[0m\u001b[0;34m.\u001b[0m\u001b[0m_stateless_fn\u001b[0m\u001b[0;34m(\u001b[0m\u001b[0;34m*\u001b[0m\u001b[0margs\u001b[0m\u001b[0;34m,\u001b[0m \u001b[0;34m**\u001b[0m\u001b[0mkwds\u001b[0m\u001b[0;34m)\u001b[0m  \u001b[0;31m# pylint: disable=not-callable\u001b[0m\u001b[0;34m\u001b[0m\u001b[0;34m\u001b[0m\u001b[0m\n\u001b[0m\u001b[1;32m    918\u001b[0m     \u001b[0;32melif\u001b[0m \u001b[0mself\u001b[0m\u001b[0;34m.\u001b[0m\u001b[0m_stateful_fn\u001b[0m \u001b[0;32mis\u001b[0m \u001b[0;32mnot\u001b[0m \u001b[0;32mNone\u001b[0m\u001b[0;34m:\u001b[0m\u001b[0;34m\u001b[0m\u001b[0;34m\u001b[0m\u001b[0m\n\u001b[1;32m    919\u001b[0m       \u001b[0;31m# Release the lock early so that multiple threads can perform the call\u001b[0m\u001b[0;34m\u001b[0m\u001b[0;34m\u001b[0m\u001b[0;34m\u001b[0m\u001b[0m\n",
            "\u001b[0;32m/usr/local/lib/python3.7/dist-packages/tensorflow/python/eager/function.py\u001b[0m in \u001b[0;36m__call__\u001b[0;34m(self, *args, **kwargs)\u001b[0m\n\u001b[1;32m   3036\u001b[0m     \u001b[0;32mwith\u001b[0m \u001b[0mself\u001b[0m\u001b[0;34m.\u001b[0m\u001b[0m_lock\u001b[0m\u001b[0;34m:\u001b[0m\u001b[0;34m\u001b[0m\u001b[0;34m\u001b[0m\u001b[0m\n\u001b[1;32m   3037\u001b[0m       (graph_function,\n\u001b[0;32m-> 3038\u001b[0;31m        filtered_flat_args) = self._maybe_define_function(args, kwargs)\n\u001b[0m\u001b[1;32m   3039\u001b[0m     return graph_function._call_flat(\n\u001b[1;32m   3040\u001b[0m         filtered_flat_args, captured_inputs=graph_function.captured_inputs)  # pylint: disable=protected-access\n",
            "\u001b[0;32m/usr/local/lib/python3.7/dist-packages/tensorflow/python/eager/function.py\u001b[0m in \u001b[0;36m_maybe_define_function\u001b[0;34m(self, args, kwargs)\u001b[0m\n\u001b[1;32m   3458\u001b[0m               call_context_key in self._function_cache.missed):\n\u001b[1;32m   3459\u001b[0m             return self._define_function_with_shape_relaxation(\n\u001b[0;32m-> 3460\u001b[0;31m                 args, kwargs, flat_args, filtered_flat_args, cache_key_context)\n\u001b[0m\u001b[1;32m   3461\u001b[0m \u001b[0;34m\u001b[0m\u001b[0m\n\u001b[1;32m   3462\u001b[0m           \u001b[0mself\u001b[0m\u001b[0;34m.\u001b[0m\u001b[0m_function_cache\u001b[0m\u001b[0;34m.\u001b[0m\u001b[0mmissed\u001b[0m\u001b[0;34m.\u001b[0m\u001b[0madd\u001b[0m\u001b[0;34m(\u001b[0m\u001b[0mcall_context_key\u001b[0m\u001b[0;34m)\u001b[0m\u001b[0;34m\u001b[0m\u001b[0;34m\u001b[0m\u001b[0m\n",
            "\u001b[0;32m/usr/local/lib/python3.7/dist-packages/tensorflow/python/eager/function.py\u001b[0m in \u001b[0;36m_define_function_with_shape_relaxation\u001b[0;34m(self, args, kwargs, flat_args, filtered_flat_args, cache_key_context)\u001b[0m\n\u001b[1;32m   3380\u001b[0m \u001b[0;34m\u001b[0m\u001b[0m\n\u001b[1;32m   3381\u001b[0m     graph_function = self._create_graph_function(\n\u001b[0;32m-> 3382\u001b[0;31m         args, kwargs, override_flat_arg_shapes=relaxed_arg_shapes)\n\u001b[0m\u001b[1;32m   3383\u001b[0m     \u001b[0mself\u001b[0m\u001b[0;34m.\u001b[0m\u001b[0m_function_cache\u001b[0m\u001b[0;34m.\u001b[0m\u001b[0marg_relaxed\u001b[0m\u001b[0;34m[\u001b[0m\u001b[0mrank_only_cache_key\u001b[0m\u001b[0;34m]\u001b[0m \u001b[0;34m=\u001b[0m \u001b[0mgraph_function\u001b[0m\u001b[0;34m\u001b[0m\u001b[0;34m\u001b[0m\u001b[0m\n\u001b[1;32m   3384\u001b[0m \u001b[0;34m\u001b[0m\u001b[0m\n",
            "\u001b[0;32m/usr/local/lib/python3.7/dist-packages/tensorflow/python/eager/function.py\u001b[0m in \u001b[0;36m_create_graph_function\u001b[0;34m(self, args, kwargs, override_flat_arg_shapes)\u001b[0m\n\u001b[1;32m   3306\u001b[0m             \u001b[0marg_names\u001b[0m\u001b[0;34m=\u001b[0m\u001b[0marg_names\u001b[0m\u001b[0;34m,\u001b[0m\u001b[0;34m\u001b[0m\u001b[0;34m\u001b[0m\u001b[0m\n\u001b[1;32m   3307\u001b[0m             \u001b[0moverride_flat_arg_shapes\u001b[0m\u001b[0;34m=\u001b[0m\u001b[0moverride_flat_arg_shapes\u001b[0m\u001b[0;34m,\u001b[0m\u001b[0;34m\u001b[0m\u001b[0;34m\u001b[0m\u001b[0m\n\u001b[0;32m-> 3308\u001b[0;31m             capture_by_value=self._capture_by_value),\n\u001b[0m\u001b[1;32m   3309\u001b[0m         \u001b[0mself\u001b[0m\u001b[0;34m.\u001b[0m\u001b[0m_function_attributes\u001b[0m\u001b[0;34m,\u001b[0m\u001b[0;34m\u001b[0m\u001b[0;34m\u001b[0m\u001b[0m\n\u001b[1;32m   3310\u001b[0m         \u001b[0mfunction_spec\u001b[0m\u001b[0;34m=\u001b[0m\u001b[0mself\u001b[0m\u001b[0;34m.\u001b[0m\u001b[0mfunction_spec\u001b[0m\u001b[0;34m,\u001b[0m\u001b[0;34m\u001b[0m\u001b[0;34m\u001b[0m\u001b[0m\n",
            "\u001b[0;32m/usr/local/lib/python3.7/dist-packages/tensorflow/python/framework/func_graph.py\u001b[0m in \u001b[0;36mfunc_graph_from_py_func\u001b[0;34m(name, python_func, args, kwargs, signature, func_graph, autograph, autograph_options, add_control_dependencies, arg_names, op_return_value, collections, capture_by_value, override_flat_arg_shapes, acd_record_initial_resource_uses)\u001b[0m\n\u001b[1;32m   1005\u001b[0m         \u001b[0m_\u001b[0m\u001b[0;34m,\u001b[0m \u001b[0moriginal_func\u001b[0m \u001b[0;34m=\u001b[0m \u001b[0mtf_decorator\u001b[0m\u001b[0;34m.\u001b[0m\u001b[0munwrap\u001b[0m\u001b[0;34m(\u001b[0m\u001b[0mpython_func\u001b[0m\u001b[0;34m)\u001b[0m\u001b[0;34m\u001b[0m\u001b[0;34m\u001b[0m\u001b[0m\n\u001b[1;32m   1006\u001b[0m \u001b[0;34m\u001b[0m\u001b[0m\n\u001b[0;32m-> 1007\u001b[0;31m       \u001b[0mfunc_outputs\u001b[0m \u001b[0;34m=\u001b[0m \u001b[0mpython_func\u001b[0m\u001b[0;34m(\u001b[0m\u001b[0;34m*\u001b[0m\u001b[0mfunc_args\u001b[0m\u001b[0;34m,\u001b[0m \u001b[0;34m**\u001b[0m\u001b[0mfunc_kwargs\u001b[0m\u001b[0;34m)\u001b[0m\u001b[0;34m\u001b[0m\u001b[0;34m\u001b[0m\u001b[0m\n\u001b[0m\u001b[1;32m   1008\u001b[0m \u001b[0;34m\u001b[0m\u001b[0m\n\u001b[1;32m   1009\u001b[0m       \u001b[0;31m# invariant: `func_outputs` contains only Tensors, CompositeTensors,\u001b[0m\u001b[0;34m\u001b[0m\u001b[0;34m\u001b[0m\u001b[0;34m\u001b[0m\u001b[0m\n",
            "\u001b[0;32m/usr/local/lib/python3.7/dist-packages/tensorflow/python/eager/def_function.py\u001b[0m in \u001b[0;36mwrapped_fn\u001b[0;34m(*args, **kwds)\u001b[0m\n\u001b[1;32m    666\u001b[0m         \u001b[0;31m# the function a weak reference to itself to avoid a reference cycle.\u001b[0m\u001b[0;34m\u001b[0m\u001b[0;34m\u001b[0m\u001b[0;34m\u001b[0m\u001b[0m\n\u001b[1;32m    667\u001b[0m         \u001b[0;32mwith\u001b[0m \u001b[0mOptionalXlaContext\u001b[0m\u001b[0;34m(\u001b[0m\u001b[0mcompile_with_xla\u001b[0m\u001b[0;34m)\u001b[0m\u001b[0;34m:\u001b[0m\u001b[0;34m\u001b[0m\u001b[0;34m\u001b[0m\u001b[0m\n\u001b[0;32m--> 668\u001b[0;31m           \u001b[0mout\u001b[0m \u001b[0;34m=\u001b[0m \u001b[0mweak_wrapped_fn\u001b[0m\u001b[0;34m(\u001b[0m\u001b[0;34m)\u001b[0m\u001b[0;34m.\u001b[0m\u001b[0m__wrapped__\u001b[0m\u001b[0;34m(\u001b[0m\u001b[0;34m*\u001b[0m\u001b[0margs\u001b[0m\u001b[0;34m,\u001b[0m \u001b[0;34m**\u001b[0m\u001b[0mkwds\u001b[0m\u001b[0;34m)\u001b[0m\u001b[0;34m\u001b[0m\u001b[0;34m\u001b[0m\u001b[0m\n\u001b[0m\u001b[1;32m    669\u001b[0m         \u001b[0;32mreturn\u001b[0m \u001b[0mout\u001b[0m\u001b[0;34m\u001b[0m\u001b[0;34m\u001b[0m\u001b[0m\n\u001b[1;32m    670\u001b[0m \u001b[0;34m\u001b[0m\u001b[0m\n",
            "\u001b[0;32m/usr/local/lib/python3.7/dist-packages/tensorflow/python/framework/func_graph.py\u001b[0m in \u001b[0;36mwrapper\u001b[0;34m(*args, **kwargs)\u001b[0m\n\u001b[1;32m    992\u001b[0m           \u001b[0;32mexcept\u001b[0m \u001b[0mException\u001b[0m \u001b[0;32mas\u001b[0m \u001b[0me\u001b[0m\u001b[0;34m:\u001b[0m  \u001b[0;31m# pylint:disable=broad-except\u001b[0m\u001b[0;34m\u001b[0m\u001b[0;34m\u001b[0m\u001b[0m\n\u001b[1;32m    993\u001b[0m             \u001b[0;32mif\u001b[0m \u001b[0mhasattr\u001b[0m\u001b[0;34m(\u001b[0m\u001b[0me\u001b[0m\u001b[0;34m,\u001b[0m \u001b[0;34m\"ag_error_metadata\"\u001b[0m\u001b[0;34m)\u001b[0m\u001b[0;34m:\u001b[0m\u001b[0;34m\u001b[0m\u001b[0;34m\u001b[0m\u001b[0m\n\u001b[0;32m--> 994\u001b[0;31m               \u001b[0;32mraise\u001b[0m \u001b[0me\u001b[0m\u001b[0;34m.\u001b[0m\u001b[0mag_error_metadata\u001b[0m\u001b[0;34m.\u001b[0m\u001b[0mto_exception\u001b[0m\u001b[0;34m(\u001b[0m\u001b[0me\u001b[0m\u001b[0;34m)\u001b[0m\u001b[0;34m\u001b[0m\u001b[0;34m\u001b[0m\u001b[0m\n\u001b[0m\u001b[1;32m    995\u001b[0m             \u001b[0;32melse\u001b[0m\u001b[0;34m:\u001b[0m\u001b[0;34m\u001b[0m\u001b[0;34m\u001b[0m\u001b[0m\n\u001b[1;32m    996\u001b[0m               \u001b[0;32mraise\u001b[0m\u001b[0;34m\u001b[0m\u001b[0;34m\u001b[0m\u001b[0m\n",
            "\u001b[0;31mValueError\u001b[0m: in user code:\n\n    /usr/local/lib/python3.7/dist-packages/keras/engine/training.py:853 train_function  *\n        return step_function(self, iterator)\n    /usr/local/lib/python3.7/dist-packages/keras/engine/training.py:842 step_function  **\n        outputs = model.distribute_strategy.run(run_step, args=(data,))\n    /usr/local/lib/python3.7/dist-packages/tensorflow/python/distribute/distribute_lib.py:1286 run\n        return self._extended.call_for_each_replica(fn, args=args, kwargs=kwargs)\n    /usr/local/lib/python3.7/dist-packages/tensorflow/python/distribute/distribute_lib.py:2849 call_for_each_replica\n        return self._call_for_each_replica(fn, args, kwargs)\n    /usr/local/lib/python3.7/dist-packages/tensorflow/python/distribute/distribute_lib.py:3632 _call_for_each_replica\n        return fn(*args, **kwargs)\n    /usr/local/lib/python3.7/dist-packages/keras/engine/training.py:835 run_step  **\n        outputs = model.train_step(data)\n    /usr/local/lib/python3.7/dist-packages/keras/engine/training.py:787 train_step\n        y_pred = self(x, training=True)\n    /usr/local/lib/python3.7/dist-packages/keras/engine/base_layer.py:1037 __call__\n        outputs = call_fn(inputs, *args, **kwargs)\n    /usr/local/lib/python3.7/dist-packages/keras/engine/sequential.py:369 call\n        return super(Sequential, self).call(inputs, training=training, mask=mask)\n    /usr/local/lib/python3.7/dist-packages/keras/engine/functional.py:415 call\n        inputs, training=training, mask=mask)\n    /usr/local/lib/python3.7/dist-packages/keras/engine/functional.py:550 _run_internal_graph\n        outputs = node.layer(*args, **kwargs)\n    /usr/local/lib/python3.7/dist-packages/keras/engine/base_layer.py:1020 __call__\n        input_spec.assert_input_compatibility(self.input_spec, inputs, self.name)\n    /usr/local/lib/python3.7/dist-packages/keras/engine/input_spec.py:254 assert_input_compatibility\n        ' but received input with shape ' + display_shape(x.shape))\n\n    ValueError: Input 0 of layer fc1 is incompatible with the layer: expected axis -1 of input shape to have value 25088 but received input with shape (None, 512)\n"
          ]
        }
      ]
    },
    {
      "cell_type": "code",
      "metadata": {
        "colab": {
          "base_uri": "https://localhost:8080/"
        },
        "id": "17PG0npiE-5k",
        "outputId": "345392d1-9e42-49f4-87ef-81361caef062"
      },
      "source": [
        "history = model.fit(X_train,\n",
        "                    y_train,\n",
        "                    validation_data = (X_test, y_test),\n",
        "                    epochs = EPOCHS,\n",
        "                    callbacks = CALLBACKS,\n",
        "                    batch_size = BATCH_SIZE,\n",
        "                    verbose=1\n",
        "                    )"
      ],
      "execution_count": null,
      "outputs": [
        {
          "output_type": "stream",
          "name": "stdout",
          "text": [
            "Epoch 1/50\n",
            "782/782 [==============================] - 26s 29ms/step - loss: 1.5512 - accuracy: 0.4623 - val_loss: 1.3728 - val_accuracy: 0.5230\n",
            "Epoch 2/50\n",
            "782/782 [==============================] - 22s 28ms/step - loss: 1.3161 - accuracy: 0.5391 - val_loss: 1.2852 - val_accuracy: 0.5499\n",
            "Epoch 3/50\n",
            "782/782 [==============================] - 22s 28ms/step - loss: 1.2522 - accuracy: 0.5619 - val_loss: 1.2433 - val_accuracy: 0.5647\n",
            "Epoch 4/50\n",
            "782/782 [==============================] - 22s 28ms/step - loss: 1.2178 - accuracy: 0.5725 - val_loss: 1.2233 - val_accuracy: 0.5710\n",
            "Epoch 5/50\n",
            "782/782 [==============================] - 22s 28ms/step - loss: 1.1896 - accuracy: 0.5826 - val_loss: 1.2045 - val_accuracy: 0.5796\n",
            "Epoch 6/50\n",
            "782/782 [==============================] - 22s 28ms/step - loss: 1.1708 - accuracy: 0.5891 - val_loss: 1.1867 - val_accuracy: 0.5839\n",
            "Epoch 7/50\n",
            "782/782 [==============================] - 22s 28ms/step - loss: 1.1562 - accuracy: 0.5922 - val_loss: 1.1831 - val_accuracy: 0.5848\n",
            "Epoch 8/50\n",
            "782/782 [==============================] - 23s 30ms/step - loss: 1.1432 - accuracy: 0.5982 - val_loss: 1.1646 - val_accuracy: 0.5907\n",
            "Epoch 9/50\n",
            "782/782 [==============================] - 21s 27ms/step - loss: 1.1317 - accuracy: 0.6030 - val_loss: 1.1623 - val_accuracy: 0.5894\n",
            "Epoch 10/50\n",
            "782/782 [==============================] - 22s 28ms/step - loss: 1.1201 - accuracy: 0.6070 - val_loss: 1.1534 - val_accuracy: 0.5963\n",
            "Epoch 11/50\n",
            "782/782 [==============================] - 22s 28ms/step - loss: 1.1116 - accuracy: 0.6088 - val_loss: 1.1513 - val_accuracy: 0.5946\n",
            "Epoch 12/50\n",
            "782/782 [==============================] - 22s 28ms/step - loss: 1.1057 - accuracy: 0.6127 - val_loss: 1.1491 - val_accuracy: 0.5961\n",
            "Epoch 13/50\n",
            "782/782 [==============================] - 22s 28ms/step - loss: 1.0989 - accuracy: 0.6141 - val_loss: 1.1441 - val_accuracy: 0.5983\n",
            "Epoch 14/50\n",
            "782/782 [==============================] - 22s 28ms/step - loss: 1.0960 - accuracy: 0.6148 - val_loss: 1.1514 - val_accuracy: 0.5952\n",
            "Epoch 15/50\n",
            "782/782 [==============================] - 22s 28ms/step - loss: 1.0882 - accuracy: 0.6173 - val_loss: 1.1411 - val_accuracy: 0.5973\n",
            "Epoch 16/50\n",
            "782/782 [==============================] - 22s 28ms/step - loss: 1.0808 - accuracy: 0.6192 - val_loss: 1.1374 - val_accuracy: 0.6014\n",
            "Epoch 17/50\n",
            "782/782 [==============================] - 22s 28ms/step - loss: 1.0773 - accuracy: 0.6204 - val_loss: 1.1311 - val_accuracy: 0.6026\n",
            "Epoch 18/50\n",
            "782/782 [==============================] - 22s 28ms/step - loss: 1.0729 - accuracy: 0.6226 - val_loss: 1.1334 - val_accuracy: 0.5964\n",
            "Epoch 19/50\n",
            "782/782 [==============================] - 22s 29ms/step - loss: 1.0676 - accuracy: 0.6246 - val_loss: 1.1353 - val_accuracy: 0.5969\n",
            "Epoch 20/50\n",
            "782/782 [==============================] - 23s 30ms/step - loss: 1.0672 - accuracy: 0.6262 - val_loss: 1.1314 - val_accuracy: 0.5991\n",
            "Epoch 21/50\n",
            "782/782 [==============================] - 22s 28ms/step - loss: 1.0627 - accuracy: 0.6268 - val_loss: 1.1259 - val_accuracy: 0.6021\n",
            "Epoch 22/50\n",
            "782/782 [==============================] - 24s 31ms/step - loss: 1.0575 - accuracy: 0.6292 - val_loss: 1.1236 - val_accuracy: 0.6015\n",
            "Epoch 23/50\n",
            "782/782 [==============================] - 24s 30ms/step - loss: 1.0560 - accuracy: 0.6297 - val_loss: 1.1272 - val_accuracy: 0.6035\n",
            "Epoch 24/50\n",
            "782/782 [==============================] - 22s 28ms/step - loss: 1.0525 - accuracy: 0.6309 - val_loss: 1.1170 - val_accuracy: 0.6066\n",
            "Epoch 25/50\n",
            "782/782 [==============================] - 22s 28ms/step - loss: 1.0483 - accuracy: 0.6320 - val_loss: 1.1330 - val_accuracy: 0.6000\n",
            "Epoch 26/50\n",
            "782/782 [==============================] - 22s 28ms/step - loss: 1.0457 - accuracy: 0.6318 - val_loss: 1.1218 - val_accuracy: 0.6054\n",
            "Epoch 27/50\n",
            "782/782 [==============================] - 22s 28ms/step - loss: 1.0453 - accuracy: 0.6328 - val_loss: 1.1128 - val_accuracy: 0.6071\n",
            "Epoch 28/50\n",
            "782/782 [==============================] - 22s 28ms/step - loss: 1.0402 - accuracy: 0.6333 - val_loss: 1.1122 - val_accuracy: 0.6068\n",
            "Epoch 29/50\n",
            "782/782 [==============================] - 22s 28ms/step - loss: 1.0396 - accuracy: 0.6361 - val_loss: 1.1189 - val_accuracy: 0.6036\n",
            "Epoch 30/50\n",
            "782/782 [==============================] - 22s 28ms/step - loss: 1.0358 - accuracy: 0.6359 - val_loss: 1.1146 - val_accuracy: 0.6095\n",
            "Epoch 31/50\n",
            "782/782 [==============================] - 22s 28ms/step - loss: 1.0329 - accuracy: 0.6380 - val_loss: 1.1126 - val_accuracy: 0.6076\n",
            "Epoch 32/50\n",
            "782/782 [==============================] - 23s 30ms/step - loss: 1.0308 - accuracy: 0.6383 - val_loss: 1.1167 - val_accuracy: 0.6092\n",
            "Epoch 33/50\n",
            "782/782 [==============================] - 23s 30ms/step - loss: 1.0298 - accuracy: 0.6372 - val_loss: 1.1127 - val_accuracy: 0.6055\n"
          ]
        }
      ]
    }
  ]
}