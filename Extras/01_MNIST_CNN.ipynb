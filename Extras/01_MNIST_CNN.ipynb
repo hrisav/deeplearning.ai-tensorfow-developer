{
  "nbformat": 4,
  "nbformat_minor": 0,
  "metadata": {
    "colab": {
      "name": "01_MNIST.ipynb",
      "provenance": [],
      "collapsed_sections": []
    },
    "kernelspec": {
      "name": "python3",
      "display_name": "Python 3"
    },
    "language_info": {
      "name": "python"
    },
    "accelerator": "GPU"
  },
  "cells": [
    {
      "cell_type": "code",
      "metadata": {
        "id": "AC_9mzdyxwjW"
      },
      "source": [
        "import tensorflow as tf\n",
        "from tensorflow import keras\n",
        "import numpy as np\n",
        "import matplotlib.pyplot as plt\n",
        "from keras.models import Sequential\n",
        "from keras.layers import Dense, Flatten\n",
        "from sklearn.metrics import accuracy_score"
      ],
      "execution_count": 1,
      "outputs": []
    },
    {
      "cell_type": "code",
      "metadata": {
        "colab": {
          "base_uri": "https://localhost:8080/"
        },
        "id": "tpVuquhdx2Fw",
        "outputId": "a9ebb297-37fa-4fc7-c229-217493477d78"
      },
      "source": [
        "mnist = keras.datasets.mnist\n",
        "\n",
        "(X_train, y_train), (X_test, y_test) = mnist.load_data()\n",
        "X_train.shape, y_train.shape, X_test.shape, y_test.shape"
      ],
      "execution_count": 2,
      "outputs": [
        {
          "output_type": "stream",
          "name": "stdout",
          "text": [
            "Downloading data from https://storage.googleapis.com/tensorflow/tf-keras-datasets/mnist.npz\n",
            "11493376/11490434 [==============================] - 0s 0us/step\n",
            "11501568/11490434 [==============================] - 0s 0us/step\n"
          ]
        },
        {
          "output_type": "execute_result",
          "data": {
            "text/plain": [
              "((60000, 28, 28), (60000,), (10000, 28, 28), (10000,))"
            ]
          },
          "metadata": {},
          "execution_count": 2
        }
      ]
    },
    {
      "cell_type": "code",
      "metadata": {
        "id": "xR2DVkAux2IF"
      },
      "source": [
        "X_train, X_test = X_train/255.0, X_test/255.0"
      ],
      "execution_count": 3,
      "outputs": []
    },
    {
      "cell_type": "code",
      "metadata": {
        "colab": {
          "base_uri": "https://localhost:8080/"
        },
        "id": "-orSq8sayqpE",
        "outputId": "77974183-6ba4-4df7-b6ab-faa7af1822bf"
      },
      "source": [
        "len(X_train[0])"
      ],
      "execution_count": 4,
      "outputs": [
        {
          "output_type": "execute_result",
          "data": {
            "text/plain": [
              "28"
            ]
          },
          "metadata": {},
          "execution_count": 4
        }
      ]
    },
    {
      "cell_type": "code",
      "metadata": {
        "id": "1EDITBBWysY5"
      },
      "source": [
        "model = Sequential()\n",
        "model.add(Flatten(input_shape=(X_train.shape[1:])))\n",
        "model.add(Dense(128, activation='relu'))\n",
        "model.add(Dense(10, activation='softmax'))"
      ],
      "execution_count": 5,
      "outputs": []
    },
    {
      "cell_type": "code",
      "metadata": {
        "colab": {
          "base_uri": "https://localhost:8080/"
        },
        "id": "M0ZtUWmL0ETD",
        "outputId": "1b77f460-1f1b-4b51-98b1-a212de143b46"
      },
      "source": [
        "model.summary()"
      ],
      "execution_count": 6,
      "outputs": [
        {
          "output_type": "stream",
          "name": "stdout",
          "text": [
            "Model: \"sequential\"\n",
            "_________________________________________________________________\n",
            "Layer (type)                 Output Shape              Param #   \n",
            "=================================================================\n",
            "flatten (Flatten)            (None, 784)               0         \n",
            "_________________________________________________________________\n",
            "dense (Dense)                (None, 128)               100480    \n",
            "_________________________________________________________________\n",
            "dense_1 (Dense)              (None, 10)                1290      \n",
            "=================================================================\n",
            "Total params: 101,770\n",
            "Trainable params: 101,770\n",
            "Non-trainable params: 0\n",
            "_________________________________________________________________\n"
          ]
        }
      ]
    },
    {
      "cell_type": "code",
      "metadata": {
        "id": "stRxtPne0Jkt"
      },
      "source": [
        "loss = tf.losses.SparseCategoricalCrossentropy()\n",
        "optimizer = tf.optimizers.Adam(learning_rate=0.001)\n",
        "metrics = ['accuracy']"
      ],
      "execution_count": 7,
      "outputs": []
    },
    {
      "cell_type": "code",
      "metadata": {
        "id": "5wvWWQm-0-N_"
      },
      "source": [
        "model.compile(loss=loss, optimizer=optimizer, metrics=metrics)"
      ],
      "execution_count": 8,
      "outputs": []
    },
    {
      "cell_type": "code",
      "metadata": {
        "id": "0VqaIzG21FHi"
      },
      "source": [
        "batch_size = 64\n",
        "epochs = 10"
      ],
      "execution_count": 9,
      "outputs": []
    },
    {
      "cell_type": "code",
      "metadata": {
        "colab": {
          "base_uri": "https://localhost:8080/"
        },
        "id": "gbS0RElV1QyK",
        "outputId": "f75248e9-104c-4102-fd0e-c4d0eb9754db"
      },
      "source": [
        "model.fit(X_train, y_train, batch_size=batch_size, epochs=epochs, verbose=2)          # 60000/64 = 937.5"
      ],
      "execution_count": 10,
      "outputs": [
        {
          "output_type": "stream",
          "name": "stdout",
          "text": [
            "Epoch 1/10\n",
            "938/938 - 4s - loss: 0.2971 - accuracy: 0.9168\n",
            "Epoch 2/10\n",
            "938/938 - 2s - loss: 0.1345 - accuracy: 0.9611\n",
            "Epoch 3/10\n",
            "938/938 - 2s - loss: 0.0926 - accuracy: 0.9726\n",
            "Epoch 4/10\n",
            "938/938 - 2s - loss: 0.0702 - accuracy: 0.9791\n",
            "Epoch 5/10\n",
            "938/938 - 2s - loss: 0.0545 - accuracy: 0.9840\n",
            "Epoch 6/10\n",
            "938/938 - 2s - loss: 0.0428 - accuracy: 0.9876\n",
            "Epoch 7/10\n",
            "938/938 - 2s - loss: 0.0359 - accuracy: 0.9895\n",
            "Epoch 8/10\n",
            "938/938 - 2s - loss: 0.0284 - accuracy: 0.9919\n",
            "Epoch 9/10\n",
            "938/938 - 2s - loss: 0.0238 - accuracy: 0.9931\n",
            "Epoch 10/10\n",
            "938/938 - 2s - loss: 0.0194 - accuracy: 0.9948\n"
          ]
        },
        {
          "output_type": "execute_result",
          "data": {
            "text/plain": [
              "<keras.callbacks.History at 0x7f14603619d0>"
            ]
          },
          "metadata": {},
          "execution_count": 10
        }
      ]
    },
    {
      "cell_type": "code",
      "metadata": {
        "colab": {
          "base_uri": "https://localhost:8080/"
        },
        "id": "zkOvBWst1dMw",
        "outputId": "cc6e5e6f-378f-4578-a172-597651bbf013"
      },
      "source": [
        "model.evaluate(X_test, y_test, batch_size=batch_size, verbose=2)                      # 10000/64 = 156.25"
      ],
      "execution_count": 11,
      "outputs": [
        {
          "output_type": "stream",
          "name": "stdout",
          "text": [
            "157/157 - 0s - loss: 0.0743 - accuracy: 0.9790\n"
          ]
        },
        {
          "output_type": "execute_result",
          "data": {
            "text/plain": [
              "[0.07428387552499771, 0.9789999723434448]"
            ]
          },
          "metadata": {},
          "execution_count": 11
        }
      ]
    },
    {
      "cell_type": "code",
      "metadata": {
        "id": "so2VJMfd2Gng",
        "colab": {
          "base_uri": "https://localhost:8080/"
        },
        "outputId": "efd2ad12-f92a-4f16-d3d8-af58477c5910"
      },
      "source": [
        "y_pred = model.predict(X_test)\n",
        "y_pred[:5]"
      ],
      "execution_count": 12,
      "outputs": [
        {
          "output_type": "execute_result",
          "data": {
            "text/plain": [
              "array([[6.7470310e-08, 1.9374660e-10, 1.8405760e-07, 2.1929980e-05,\n",
              "        9.1763732e-12, 5.4184022e-09, 1.5959037e-13, 9.9996328e-01,\n",
              "        5.9938969e-07, 1.3897611e-05],\n",
              "       [4.1179757e-09, 4.8158372e-06, 9.9998581e-01, 6.9197256e-07,\n",
              "        4.8637537e-16, 8.2436054e-06, 2.2981546e-08, 8.6479272e-14,\n",
              "        4.3187347e-07, 2.4457435e-15],\n",
              "       [3.6448159e-07, 9.9817085e-01, 3.0747731e-04, 4.9165196e-06,\n",
              "        6.4768254e-05, 1.6696034e-05, 1.1045418e-05, 6.4079737e-04,\n",
              "        7.8226038e-04, 8.2376221e-07],\n",
              "       [9.9999440e-01, 1.1172242e-12, 4.1431258e-06, 4.7518136e-09,\n",
              "        1.5116037e-09, 6.6587043e-09, 1.5311193e-07, 4.4723894e-08,\n",
              "        3.1196801e-10, 1.2135558e-06],\n",
              "       [2.2278394e-07, 1.3527363e-10, 4.5431364e-07, 9.0210239e-10,\n",
              "        9.8296434e-01, 2.0209576e-09, 4.2149347e-07, 2.5741781e-05,\n",
              "        3.7226906e-07, 1.7008429e-02]], dtype=float32)"
            ]
          },
          "metadata": {},
          "execution_count": 12
        }
      ]
    },
    {
      "cell_type": "code",
      "metadata": {
        "colab": {
          "base_uri": "https://localhost:8080/"
        },
        "id": "Z18kdRxc1shZ",
        "outputId": "f007b968-c615-4095-b4d8-c59c4bd60421"
      },
      "source": [
        "y_pred = np.argmax(y_pred, axis=1)\n",
        "y_pred[:5]"
      ],
      "execution_count": 13,
      "outputs": [
        {
          "output_type": "execute_result",
          "data": {
            "text/plain": [
              "array([7, 2, 1, 0, 4])"
            ]
          },
          "metadata": {},
          "execution_count": 13
        }
      ]
    },
    {
      "cell_type": "code",
      "metadata": {
        "colab": {
          "base_uri": "https://localhost:8080/"
        },
        "id": "3HhMP-rx2oVn",
        "outputId": "6ec5ae67-f0fc-45f1-f180-03628f296008"
      },
      "source": [
        "y_test[:5]"
      ],
      "execution_count": 14,
      "outputs": [
        {
          "output_type": "execute_result",
          "data": {
            "text/plain": [
              "array([7, 2, 1, 0, 4], dtype=uint8)"
            ]
          },
          "metadata": {},
          "execution_count": 14
        }
      ]
    },
    {
      "cell_type": "code",
      "metadata": {
        "colab": {
          "base_uri": "https://localhost:8080/"
        },
        "id": "9Iv2oR0T3GDB",
        "outputId": "8afc53d1-be8b-459b-bb31-b927335b6828"
      },
      "source": [
        "print('Accuracy: ', round(accuracy_score(y_test, y_pred)*100, 2))"
      ],
      "execution_count": null,
      "outputs": [
        {
          "output_type": "stream",
          "name": "stdout",
          "text": [
            "Accuracy:  97.84\n"
          ]
        }
      ]
    },
    {
      "cell_type": "markdown",
      "metadata": {
        "id": "0FioROc15_bx"
      },
      "source": [
        "## Improving using Convolutions"
      ]
    },
    {
      "cell_type": "code",
      "metadata": {
        "colab": {
          "base_uri": "https://localhost:8080/"
        },
        "id": "GZgJdygj42pF",
        "outputId": "e5f4adaa-bad1-42e6-d8b2-d4b5e65b0412"
      },
      "source": [
        "X_train.shape, y_train.shape, X_test.shape, y_test.shape"
      ],
      "execution_count": null,
      "outputs": [
        {
          "output_type": "execute_result",
          "data": {
            "text/plain": [
              "((60000, 28, 28), (60000,), (10000, 28, 28), (10000,))"
            ]
          },
          "metadata": {},
          "execution_count": 31
        }
      ]
    },
    {
      "cell_type": "code",
      "metadata": {
        "id": "R-wW7VXB7UEJ"
      },
      "source": [
        "# for X_train, reshape = (60000, 28,28,1) => appending (60000, 28,28) with 1 like that\n",
        "\n",
        "X_train = X_train.reshape(X_train.shape[:]+(1,))\n",
        "X_test = X_test.reshape(X_test.shape[:]+(1,))"
      ],
      "execution_count": null,
      "outputs": []
    },
    {
      "cell_type": "code",
      "metadata": {
        "colab": {
          "base_uri": "https://localhost:8080/"
        },
        "id": "8A2zINU18FKE",
        "outputId": "85757f79-8bf7-4744-98c8-a220297447b3"
      },
      "source": [
        "X_train.shape, y_train.shape, X_test.shape, y_test.shape"
      ],
      "execution_count": null,
      "outputs": [
        {
          "output_type": "execute_result",
          "data": {
            "text/plain": [
              "((60000, 28, 28, 1), (60000,), (10000, 28, 28, 1), (10000,))"
            ]
          },
          "metadata": {},
          "execution_count": 35
        }
      ]
    },
    {
      "cell_type": "code",
      "metadata": {
        "id": "xJZzBN1142sX"
      },
      "source": [
        "from keras.layers import Dense, Flatten, Conv2D, MaxPooling2D"
      ],
      "execution_count": null,
      "outputs": []
    },
    {
      "cell_type": "code",
      "metadata": {
        "id": "iWKFalvC42wG"
      },
      "source": [
        "model = Sequential()\n",
        "model.add(Conv2D(32, (3,3), activation='relu', input_shape=(X_train.shape[1:])))       \n",
        "model.add(MaxPooling2D(2, 2))\n",
        "model.add(Flatten())\n",
        "model.add(Dense(128, activation='relu'))\n",
        "model.add(Dense(10, activation='softmax'))"
      ],
      "execution_count": null,
      "outputs": []
    },
    {
      "cell_type": "code",
      "metadata": {
        "id": "FUeEHVmQ5XKT"
      },
      "source": [
        "loss = tf.losses.SparseCategoricalCrossentropy()\n",
        "optimizer = tf.optimizers.Adam(learning_rate=0.001)\n",
        "metrics = ['accuracy']"
      ],
      "execution_count": null,
      "outputs": []
    },
    {
      "cell_type": "code",
      "metadata": {
        "id": "3GMvfqik5XKT"
      },
      "source": [
        "model.compile(loss=loss, optimizer=optimizer, metrics=metrics)"
      ],
      "execution_count": null,
      "outputs": []
    },
    {
      "cell_type": "code",
      "metadata": {
        "id": "pxXWwK7r5XKU"
      },
      "source": [
        "batch_size = 64\n",
        "epochs = 10"
      ],
      "execution_count": null,
      "outputs": []
    },
    {
      "cell_type": "code",
      "metadata": {
        "colab": {
          "base_uri": "https://localhost:8080/"
        },
        "id": "Mw-G4-g15XKU",
        "outputId": "345d0022-160c-4d12-95f0-7c9d49d9ca00"
      },
      "source": [
        "model.fit(X_train, y_train, batch_size=batch_size, epochs=epochs, verbose=2)  "
      ],
      "execution_count": null,
      "outputs": [
        {
          "output_type": "stream",
          "name": "stdout",
          "text": [
            "Epoch 1/10\n",
            "938/938 - 27s - loss: 0.1876 - accuracy: 0.9443\n",
            "Epoch 2/10\n",
            "938/938 - 3s - loss: 0.0599 - accuracy: 0.9818\n",
            "Epoch 3/10\n",
            "938/938 - 3s - loss: 0.0395 - accuracy: 0.9882\n",
            "Epoch 4/10\n",
            "938/938 - 3s - loss: 0.0272 - accuracy: 0.9916\n",
            "Epoch 5/10\n",
            "938/938 - 3s - loss: 0.0194 - accuracy: 0.9936\n",
            "Epoch 6/10\n",
            "938/938 - 3s - loss: 0.0133 - accuracy: 0.9960\n",
            "Epoch 7/10\n",
            "938/938 - 3s - loss: 0.0113 - accuracy: 0.9963\n",
            "Epoch 8/10\n",
            "938/938 - 3s - loss: 0.0079 - accuracy: 0.9977\n",
            "Epoch 9/10\n",
            "938/938 - 3s - loss: 0.0064 - accuracy: 0.9982\n",
            "Epoch 10/10\n",
            "938/938 - 3s - loss: 0.0061 - accuracy: 0.9980\n"
          ]
        },
        {
          "output_type": "execute_result",
          "data": {
            "text/plain": [
              "<keras.callbacks.History at 0x7fe313995d50>"
            ]
          },
          "metadata": {},
          "execution_count": 43
        }
      ]
    },
    {
      "cell_type": "code",
      "metadata": {
        "colab": {
          "base_uri": "https://localhost:8080/"
        },
        "id": "0meoUClq5d2O",
        "outputId": "7de8a094-ca29-409d-eb1a-58d03b98bdf0"
      },
      "source": [
        "model.evaluate(X_test, y_test, batch_size=batch_size, verbose=2) "
      ],
      "execution_count": null,
      "outputs": [
        {
          "output_type": "stream",
          "name": "stdout",
          "text": [
            "157/157 - 1s - loss: 0.0509 - accuracy: 0.9858\n"
          ]
        },
        {
          "output_type": "execute_result",
          "data": {
            "text/plain": [
              "[0.05088908225297928, 0.98580002784729]"
            ]
          },
          "metadata": {},
          "execution_count": 44
        }
      ]
    }
  ]
}
