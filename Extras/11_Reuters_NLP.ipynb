{
  "nbformat": 4,
  "nbformat_minor": 0,
  "metadata": {
    "colab": {
      "name": "11_Reuters_NLP.ipynb",
      "provenance": [],
      "collapsed_sections": []
    },
    "kernelspec": {
      "name": "python3",
      "display_name": "Python 3"
    },
    "language_info": {
      "name": "python"
    },
    "accelerator": "GPU"
  },
  "cells": [
    {
      "cell_type": "markdown",
      "source": [
        "## Using ReduceLROnPlateau"
      ],
      "metadata": {
        "id": "o85saWtSuGQb"
      }
    },
    {
      "cell_type": "code",
      "source": [
        "import numpy as np\n",
        "import matplotlib.pyplot as plt\n",
        "import statistics\n",
        "\n",
        "import tensorflow as tf\n",
        "from tensorflow.keras.models import Sequential\n",
        "from tensorflow.keras import layers, regularizers\n",
        "from tensorflow.keras.callbacks import EarlyStopping, ReduceLROnPlateau, ModelCheckpoint, LearningRateScheduler"
      ],
      "metadata": {
        "id": "vwcP9m8F5WmH"
      },
      "execution_count": 1,
      "outputs": []
    },
    {
      "cell_type": "code",
      "source": [
        "reuters = tf.keras.datasets.reuters       # keras datasets\n",
        "\n",
        "(x_train, y_train), (x_test, y_test) = reuters.load_data()"
      ],
      "metadata": {
        "colab": {
          "base_uri": "https://localhost:8080/"
        },
        "id": "nAkedAyU7_xd",
        "outputId": "c9a31ace-029e-4b30-86fa-67e26f9bf8d3"
      },
      "execution_count": 2,
      "outputs": [
        {
          "output_type": "stream",
          "name": "stdout",
          "text": [
            "Downloading data from https://storage.googleapis.com/tensorflow/tf-keras-datasets/reuters.npz\n",
            "2113536/2110848 [==============================] - 0s 0us/step\n",
            "2121728/2110848 [==============================] - 0s 0us/step\n"
          ]
        }
      ]
    },
    {
      "cell_type": "code",
      "source": [
        "x_train.shape, y_train.shape, x_test.shape, y_test.shape"
      ],
      "metadata": {
        "colab": {
          "base_uri": "https://localhost:8080/"
        },
        "id": "MP2SOAAZ8UQE",
        "outputId": "546148af-69b4-48ee-af58-56370b7bba1e"
      },
      "execution_count": null,
      "outputs": [
        {
          "output_type": "execute_result",
          "data": {
            "text/plain": [
              "((8982,), (8982,), (2246,), (2246,))"
            ]
          },
          "metadata": {},
          "execution_count": 3
        }
      ]
    },
    {
      "cell_type": "code",
      "source": [
        "np.unique(y_train)"
      ],
      "metadata": {
        "colab": {
          "base_uri": "https://localhost:8080/"
        },
        "id": "jdCytgUE8bvo",
        "outputId": "1239ea95-3173-43e4-e96a-9f7c88142add"
      },
      "execution_count": null,
      "outputs": [
        {
          "output_type": "execute_result",
          "data": {
            "text/plain": [
              "array([ 0,  1,  2,  3,  4,  5,  6,  7,  8,  9, 10, 11, 12, 13, 14, 15, 16,\n",
              "       17, 18, 19, 20, 21, 22, 23, 24, 25, 26, 27, 28, 29, 30, 31, 32, 33,\n",
              "       34, 35, 36, 37, 38, 39, 40, 41, 42, 43, 44, 45])"
            ]
          },
          "metadata": {},
          "execution_count": 4
        }
      ]
    },
    {
      "cell_type": "code",
      "source": [
        "x_train[:2]"
      ],
      "metadata": {
        "colab": {
          "base_uri": "https://localhost:8080/"
        },
        "id": "9EnZUYFd8s6G",
        "outputId": "338d1f60-a153-4edc-bca7-ee5e044293fa"
      },
      "execution_count": null,
      "outputs": [
        {
          "output_type": "execute_result",
          "data": {
            "text/plain": [
              "array([list([1, 27595, 28842, 8, 43, 10, 447, 5, 25, 207, 270, 5, 3095, 111, 16, 369, 186, 90, 67, 7, 89, 5, 19, 102, 6, 19, 124, 15, 90, 67, 84, 22, 482, 26, 7, 48, 4, 49, 8, 864, 39, 209, 154, 6, 151, 6, 83, 11, 15, 22, 155, 11, 15, 7, 48, 9, 4579, 1005, 504, 6, 258, 6, 272, 11, 15, 22, 134, 44, 11, 15, 16, 8, 197, 1245, 90, 67, 52, 29, 209, 30, 32, 132, 6, 109, 15, 17, 12]),\n",
              "       list([1, 3267, 699, 3434, 2295, 56, 16784, 7511, 9, 56, 3906, 1073, 81, 5, 1198, 57, 366, 737, 132, 20, 4093, 7, 19261, 49, 2295, 13415, 1037, 3267, 699, 3434, 8, 7, 10, 241, 16, 855, 129, 231, 783, 5, 4, 587, 2295, 13415, 30625, 775, 7, 48, 34, 191, 44, 35, 1795, 505, 17, 12])],\n",
              "      dtype=object)"
            ]
          },
          "metadata": {},
          "execution_count": 5
        }
      ]
    },
    {
      "cell_type": "code",
      "source": [
        "y_train[:2]"
      ],
      "metadata": {
        "colab": {
          "base_uri": "https://localhost:8080/"
        },
        "id": "cone45ro8n2D",
        "outputId": "2747f162-7376-4a2d-bb58-d2d9ffef249b"
      },
      "execution_count": null,
      "outputs": [
        {
          "output_type": "execute_result",
          "data": {
            "text/plain": [
              "array([3, 4])"
            ]
          },
          "metadata": {},
          "execution_count": 6
        }
      ]
    },
    {
      "cell_type": "code",
      "source": [
        "# finding max, avg, median length of sentences\n",
        "\n",
        "sentence_len = []\n",
        "\n",
        "for sentence in x_train:\n",
        "    sentence_len.append(len(sentence))\n",
        "\n",
        "print(max(sentence_len))\n",
        "print(sum(sentence_len)/len(sentence_len))\n",
        "print(statistics.median(sentence_len))"
      ],
      "metadata": {
        "colab": {
          "base_uri": "https://localhost:8080/"
        },
        "id": "Wv-cm_liQc4u",
        "outputId": "204f4b52-852d-450c-e758-f100d37a028f"
      },
      "execution_count": null,
      "outputs": [
        {
          "output_type": "stream",
          "name": "stdout",
          "text": [
            "2376\n",
            "145.5398574927633\n",
            "95.0\n"
          ]
        }
      ]
    },
    {
      "cell_type": "code",
      "source": [
        "# finding number of unique elements in full text\n",
        "\n",
        "unique_ele = []\n",
        "\n",
        "for sentence in x_train:\n",
        "    for i in sentence:\n",
        "        unique_ele.append(i)\n",
        "\n",
        "print(len(unique_ele))\n",
        "print(len(list(set(unique_ele))))"
      ],
      "metadata": {
        "colab": {
          "base_uri": "https://localhost:8080/"
        },
        "id": "om07VC9NRCBD",
        "outputId": "64bc44fc-e60d-4d13-b487-346dbc530262"
      },
      "execution_count": null,
      "outputs": [
        {
          "output_type": "stream",
          "name": "stdout",
          "text": [
            "1307239\n",
            "28138\n"
          ]
        }
      ]
    },
    {
      "cell_type": "code",
      "source": [
        "MAX_LEN = 100\n",
        "PADDING_TYPE = 'post'\n",
        "TRUNC_TYPE = 'post'"
      ],
      "metadata": {
        "id": "0uF1DEOnSDt0"
      },
      "execution_count": null,
      "outputs": []
    },
    {
      "cell_type": "code",
      "source": [
        "from tensorflow.keras.preprocessing.sequence import pad_sequences\n",
        "\n",
        "x_train_padded = pad_sequences(x_train, maxlen=MAX_LEN, truncating=TRUNC_TYPE, padding=PADDING_TYPE)\n",
        "x_test_padded = pad_sequences(x_test, maxlen=MAX_LEN, truncating=TRUNC_TYPE, padding=PADDING_TYPE)"
      ],
      "metadata": {
        "id": "0Un1BQ6hO53p"
      },
      "execution_count": null,
      "outputs": []
    },
    {
      "cell_type": "code",
      "source": [
        "len(np.unique(y_train))"
      ],
      "metadata": {
        "colab": {
          "base_uri": "https://localhost:8080/"
        },
        "id": "aZH1RmOY8vWJ",
        "outputId": "c83b1f2e-0cbc-4916-d901-012f13288863"
      },
      "execution_count": null,
      "outputs": [
        {
          "output_type": "execute_result",
          "data": {
            "text/plain": [
              "46"
            ]
          },
          "metadata": {},
          "execution_count": 11
        }
      ]
    },
    {
      "cell_type": "code",
      "source": [
        "NUM_CLASSES = len(np.unique(y_train))"
      ],
      "metadata": {
        "id": "BHV5N6Tw9D7P"
      },
      "execution_count": null,
      "outputs": []
    },
    {
      "cell_type": "code",
      "source": [
        "VOCAB_SIZE = 20000\n",
        "EMBED_DIM = 50"
      ],
      "metadata": {
        "id": "dKv5i_OoUeiH"
      },
      "execution_count": null,
      "outputs": []
    },
    {
      "cell_type": "code",
      "source": [
        "# model = Sequential([\n",
        "#     layers.Embedding(input_dim=VOCAB_SIZE, output_dim=EMBED_DIM, input_length=MAX_LEN),\n",
        "#     layers.Bidirectional(layers.LSTM(64, return_sequences=True)),\n",
        "#     layers.LSTM(32),\n",
        "#     layers.Dense(16, activation='relu'),\n",
        "#     layers.Dense(NUM_CLASSES, activation='softmax')\n",
        "# ])"
      ],
      "metadata": {
        "id": "yvo26eWDUCHD"
      },
      "execution_count": null,
      "outputs": []
    },
    {
      "cell_type": "code",
      "source": [
        "model = Sequential([\n",
        "    layers.Embedding(input_dim=VOCAB_SIZE, output_dim=EMBED_DIM, input_length=MAX_LEN),\n",
        "    layers.GlobalAveragePooling1D(),\n",
        "    layers.Dense(128, activation='relu'),\n",
        "    layers.Dropout(0.2),\n",
        "    layers.Dense(64, activation='relu', kernel_regularizer=regularizers.l2(0.01)),\n",
        "    layers.Dense(NUM_CLASSES, activation='softmax')\n",
        "])"
      ],
      "metadata": {
        "id": "gU_nJH-76RQn"
      },
      "execution_count": null,
      "outputs": []
    },
    {
      "cell_type": "code",
      "source": [
        "model.summary()"
      ],
      "metadata": {
        "colab": {
          "base_uri": "https://localhost:8080/"
        },
        "id": "Ew9EKHxjSm5X",
        "outputId": "98a69cec-eb1a-41e3-8317-713ffdf7b412"
      },
      "execution_count": null,
      "outputs": [
        {
          "output_type": "stream",
          "name": "stdout",
          "text": [
            "Model: \"sequential_3\"\n",
            "_________________________________________________________________\n",
            " Layer (type)                Output Shape              Param #   \n",
            "=================================================================\n",
            " embedding_3 (Embedding)     (None, 100, 50)           1000000   \n",
            "                                                                 \n",
            " global_average_pooling1d_3   (None, 50)               0         \n",
            " (GlobalAveragePooling1D)                                        \n",
            "                                                                 \n",
            " dense_10 (Dense)            (None, 128)               6528      \n",
            "                                                                 \n",
            " dropout_3 (Dropout)         (None, 128)               0         \n",
            "                                                                 \n",
            " dense_11 (Dense)            (None, 64)                8256      \n",
            "                                                                 \n",
            " dense_12 (Dense)            (None, 46)                2990      \n",
            "                                                                 \n",
            "=================================================================\n",
            "Total params: 1,017,774\n",
            "Trainable params: 1,017,774\n",
            "Non-trainable params: 0\n",
            "_________________________________________________________________\n"
          ]
        }
      ]
    },
    {
      "cell_type": "code",
      "source": [
        "optimizer   = tf.keras.optimizers.Adam(learning_rate=0.01)\n",
        "loss        = tf.keras.losses.SparseCategoricalCrossentropy()\n",
        "metrics     = ['accuracy']"
      ],
      "metadata": {
        "id": "8wh7mpPXU2ZZ"
      },
      "execution_count": null,
      "outputs": []
    },
    {
      "cell_type": "code",
      "source": [
        "model.compile(optimizer=optimizer,\n",
        "              loss=loss,\n",
        "              metrics=metrics)"
      ],
      "metadata": {
        "id": "WFkBv0ppc-ii"
      },
      "execution_count": null,
      "outputs": []
    },
    {
      "cell_type": "code",
      "source": [
        "early_stopping    = EarlyStopping(monitor='val_accuracy', patience=8)\n",
        "reduce_lr         = ReduceLROnPlateau(monitor='val_loss', patience=4, min_lr=0.0001, mode='min', verbose=1)\n",
        "model_checkpoint  = ModelCheckpoint(monitor='val_loss', filepath='./best_model.h5', save_best_only=True)"
      ],
      "metadata": {
        "id": "-Mh_Cub6dj18"
      },
      "execution_count": null,
      "outputs": []
    },
    {
      "cell_type": "code",
      "source": [
        "EPOCHS = 50\n",
        "CALLBACKS = [early_stopping, reduce_lr, model_checkpoint]"
      ],
      "metadata": {
        "id": "0a-e9vPOdIPb"
      },
      "execution_count": null,
      "outputs": []
    },
    {
      "cell_type": "code",
      "source": [
        "history = model.fit(x_train_padded,\n",
        "                    y_train,\n",
        "                    epochs = EPOCHS,\n",
        "                    validation_data = (x_test_padded, y_test),\n",
        "                    verbose = 1,\n",
        "                    callbacks = CALLBACKS)"
      ],
      "metadata": {
        "colab": {
          "base_uri": "https://localhost:8080/"
        },
        "id": "mC-vN3ljdLBS",
        "outputId": "cff8fb77-8399-4221-f611-46a044d7a81a"
      },
      "execution_count": null,
      "outputs": [
        {
          "output_type": "stream",
          "name": "stdout",
          "text": [
            "Epoch 1/50\n",
            "281/281 [==============================] - 3s 9ms/step - loss: 1.7995 - accuracy: 0.5449 - val_loss: 1.5978 - val_accuracy: 0.6171 - lr: 0.0100\n",
            "Epoch 2/50\n",
            "281/281 [==============================] - 2s 8ms/step - loss: 1.2442 - accuracy: 0.7017 - val_loss: 1.2790 - val_accuracy: 0.7088 - lr: 0.0100\n",
            "Epoch 3/50\n",
            "281/281 [==============================] - 2s 7ms/step - loss: 0.9198 - accuracy: 0.7774 - val_loss: 1.2067 - val_accuracy: 0.7097 - lr: 0.0100\n",
            "Epoch 4/50\n",
            "281/281 [==============================] - 2s 7ms/step - loss: 0.7628 - accuracy: 0.8173 - val_loss: 1.3180 - val_accuracy: 0.7168 - lr: 0.0100\n",
            "Epoch 5/50\n",
            "281/281 [==============================] - 2s 7ms/step - loss: 0.6568 - accuracy: 0.8450 - val_loss: 1.3465 - val_accuracy: 0.7262 - lr: 0.0100\n",
            "Epoch 6/50\n",
            "281/281 [==============================] - 2s 7ms/step - loss: 0.5688 - accuracy: 0.8619 - val_loss: 1.4844 - val_accuracy: 0.7302 - lr: 0.0100\n",
            "Epoch 7/50\n",
            "280/281 [============================>.] - ETA: 0s - loss: 0.5227 - accuracy: 0.8770\n",
            "Epoch 00007: ReduceLROnPlateau reducing learning rate to 0.0009999999776482583.\n",
            "281/281 [==============================] - 2s 7ms/step - loss: 0.5221 - accuracy: 0.8773 - val_loss: 1.5594 - val_accuracy: 0.7431 - lr: 0.0100\n",
            "Epoch 8/50\n",
            "281/281 [==============================] - 2s 7ms/step - loss: 0.3760 - accuracy: 0.9100 - val_loss: 1.4602 - val_accuracy: 0.7565 - lr: 1.0000e-03\n",
            "Epoch 9/50\n",
            "281/281 [==============================] - 2s 7ms/step - loss: 0.3287 - accuracy: 0.9213 - val_loss: 1.4685 - val_accuracy: 0.7618 - lr: 1.0000e-03\n",
            "Epoch 10/50\n",
            "281/281 [==============================] - 2s 7ms/step - loss: 0.3069 - accuracy: 0.9259 - val_loss: 1.5055 - val_accuracy: 0.7609 - lr: 1.0000e-03\n",
            "Epoch 11/50\n",
            "275/281 [============================>.] - ETA: 0s - loss: 0.2927 - accuracy: 0.9311\n",
            "Epoch 00011: ReduceLROnPlateau reducing learning rate to 0.0001.\n",
            "281/281 [==============================] - 2s 7ms/step - loss: 0.2942 - accuracy: 0.9303 - val_loss: 1.4880 - val_accuracy: 0.7640 - lr: 1.0000e-03\n",
            "Epoch 12/50\n",
            "281/281 [==============================] - 2s 7ms/step - loss: 0.2735 - accuracy: 0.9369 - val_loss: 1.5012 - val_accuracy: 0.7667 - lr: 1.0000e-04\n",
            "Epoch 13/50\n",
            "281/281 [==============================] - 2s 7ms/step - loss: 0.2735 - accuracy: 0.9362 - val_loss: 1.5051 - val_accuracy: 0.7676 - lr: 1.0000e-04\n",
            "Epoch 14/50\n",
            "281/281 [==============================] - 2s 7ms/step - loss: 0.2687 - accuracy: 0.9394 - val_loss: 1.5038 - val_accuracy: 0.7680 - lr: 1.0000e-04\n",
            "Epoch 15/50\n",
            "281/281 [==============================] - 2s 7ms/step - loss: 0.2677 - accuracy: 0.9381 - val_loss: 1.5136 - val_accuracy: 0.7667 - lr: 1.0000e-04\n",
            "Epoch 16/50\n",
            "281/281 [==============================] - 2s 7ms/step - loss: 0.2672 - accuracy: 0.9392 - val_loss: 1.5159 - val_accuracy: 0.7671 - lr: 1.0000e-04\n",
            "Epoch 17/50\n",
            "281/281 [==============================] - 2s 7ms/step - loss: 0.2639 - accuracy: 0.9387 - val_loss: 1.5228 - val_accuracy: 0.7671 - lr: 1.0000e-04\n",
            "Epoch 18/50\n",
            "281/281 [==============================] - 2s 8ms/step - loss: 0.2631 - accuracy: 0.9408 - val_loss: 1.5265 - val_accuracy: 0.7671 - lr: 1.0000e-04\n",
            "Epoch 19/50\n",
            "281/281 [==============================] - 2s 7ms/step - loss: 0.2595 - accuracy: 0.9402 - val_loss: 1.5324 - val_accuracy: 0.7680 - lr: 1.0000e-04\n",
            "Epoch 20/50\n",
            "281/281 [==============================] - 2s 7ms/step - loss: 0.2598 - accuracy: 0.9403 - val_loss: 1.5343 - val_accuracy: 0.7654 - lr: 1.0000e-04\n",
            "Epoch 21/50\n",
            "281/281 [==============================] - 2s 7ms/step - loss: 0.2574 - accuracy: 0.9394 - val_loss: 1.5414 - val_accuracy: 0.7658 - lr: 1.0000e-04\n",
            "Epoch 22/50\n",
            "281/281 [==============================] - 2s 7ms/step - loss: 0.2588 - accuracy: 0.9407 - val_loss: 1.5293 - val_accuracy: 0.7654 - lr: 1.0000e-04\n"
          ]
        }
      ]
    },
    {
      "cell_type": "code",
      "source": [
        "acc      = history.history['accuracy']\n",
        "val_acc  = history.history['val_accuracy']\n",
        "\n",
        "epochs   = range(len(acc))\n",
        "\n",
        "plt.plot(epochs, acc, 'r', label = 'Training')\n",
        "plt.plot(epochs, val_acc, 'b', label = 'Validation')\n",
        "plt.title('Training and Validation Accuracy')\n",
        "plt.legend()\n",
        "plt.figure()\n",
        "\n",
        "loss     = history.history['loss']\n",
        "val_loss = history.history['val_loss']\n",
        "\n",
        "epochs   = range(len(loss))\n",
        "\n",
        "plt.plot(epochs, loss, 'r', label = 'Training')\n",
        "plt.plot(epochs, val_loss, 'b', label = 'Validation')\n",
        "plt.title('Training and Validation Loss')\n",
        "plt.legend()\n",
        "plt.figure()"
      ],
      "metadata": {
        "colab": {
          "base_uri": "https://localhost:8080/",
          "height": 580
        },
        "id": "9QSgv7X-dhe5",
        "outputId": "9c502089-f005-4361-d87a-237cc2261b12"
      },
      "execution_count": null,
      "outputs": [
        {
          "output_type": "execute_result",
          "data": {
            "text/plain": [
              "<Figure size 432x288 with 0 Axes>"
            ]
          },
          "metadata": {},
          "execution_count": 38
        },
        {
          "output_type": "display_data",
          "data": {
            "image/png": "[encoded data removed]",
            "text/plain": [
              "<Figure size 432x288 with 1 Axes>"
            ]
          },
          "metadata": {
            "needs_background": "light"
          }
        },
        {
          "output_type": "display_data",
          "data": {
            "image/png": "[encoded data removed]",
            "text/plain": [
              "<Figure size 432x288 with 1 Axes>"
            ]
          },
          "metadata": {
            "needs_background": "light"
          }
        },
        {
          "output_type": "display_data",
          "data": {
            "text/plain": [
              "<Figure size 432x288 with 0 Axes>"
            ]
          },
          "metadata": {}
        }
      ]
    },
    {
      "cell_type": "markdown",
      "source": [
        "## Using LearningRateScheduler"
      ],
      "metadata": {
        "id": "aoEKecgZuK4L"
      }
    },
    {
      "cell_type": "code",
      "source": [
        "model = Sequential([\n",
        "    layers.Embedding(input_dim=VOCAB_SIZE, output_dim=EMBED_DIM, input_length=MAX_LEN),\n",
        "    layers.GlobalAveragePooling1D(),\n",
        "    layers.Dense(128, activation='relu'),\n",
        "    layers.Dropout(0.2),\n",
        "    layers.Dense(64, activation='relu', kernel_regularizer=regularizers.l2(0.01)),\n",
        "    layers.Dense(NUM_CLASSES, activation='softmax')\n",
        "])"
      ],
      "metadata": {
        "id": "M8KlNSBnWfy0"
      },
      "execution_count": null,
      "outputs": []
    },
    {
      "cell_type": "code",
      "source": [
        "optimizer   = tf.keras.optimizers.Adam(learning_rate=1e-5)\n",
        "loss        = tf.keras.losses.SparseCategoricalCrossentropy()\n",
        "metrics     = ['accuracy']"
      ],
      "metadata": {
        "id": "CKFMZTG_Wfy0"
      },
      "execution_count": null,
      "outputs": []
    },
    {
      "cell_type": "code",
      "source": [
        "model.compile(optimizer=optimizer,\n",
        "              loss=loss,\n",
        "              metrics=metrics)"
      ],
      "metadata": {
        "id": "hePVvRzQWfy0"
      },
      "execution_count": null,
      "outputs": []
    },
    {
      "cell_type": "code",
      "source": [
        "early_stopping    = EarlyStopping(monitor='val_accuracy', patience=25)\n",
        "lr_schedule       = LearningRateScheduler(lambda epoch: 1e-5 * 10**(epoch / 20))\n",
        "model_checkpoint  = ModelCheckpoint(monitor='val_loss', filepath='./best_model.h5', save_best_only=True)"
      ],
      "metadata": {
        "id": "ssWXl-AjWfy1"
      },
      "execution_count": null,
      "outputs": []
    },
    {
      "cell_type": "code",
      "source": [
        "EPOCHS = 100\n",
        "CALLBACKS = [early_stopping, lr_schedule, model_checkpoint]"
      ],
      "metadata": {
        "id": "vwFEphgmWfy1"
      },
      "execution_count": null,
      "outputs": []
    },
    {
      "cell_type": "code",
      "source": [
        "history = model.fit(x_train_padded,\n",
        "                    y_train,\n",
        "                    epochs = EPOCHS,\n",
        "                    validation_data = (x_test_padded, y_test),\n",
        "                    verbose = 1,\n",
        "                    callbacks = CALLBACKS)"
      ],
      "metadata": {
        "colab": {
          "base_uri": "https://localhost:8080/"
        },
        "outputId": "b730efdc-82f9-4bb7-9e69-5221e9174575",
        "id": "_W58kzW4Wfy1"
      },
      "execution_count": null,
      "outputs": [
        {
          "output_type": "stream",
          "name": "stdout",
          "text": [
            "Epoch 1/100\n",
            "281/281 [==============================] - 3s 9ms/step - loss: 4.6523 - accuracy: 0.2056 - val_loss: 4.6241 - val_accuracy: 0.3629 - lr: 1.0000e-05\n",
            "Epoch 2/100\n",
            "281/281 [==============================] - 2s 8ms/step - loss: 4.5935 - accuracy: 0.3553 - val_loss: 4.5604 - val_accuracy: 0.3620 - lr: 1.1220e-05\n",
            "Epoch 3/100\n",
            "281/281 [==============================] - 2s 8ms/step - loss: 4.5237 - accuracy: 0.3536 - val_loss: 4.4833 - val_accuracy: 0.3620 - lr: 1.2589e-05\n",
            "Epoch 4/100\n",
            "281/281 [==============================] - 2s 7ms/step - loss: 4.4371 - accuracy: 0.3523 - val_loss: 4.3837 - val_accuracy: 0.3620 - lr: 1.4125e-05\n",
            "Epoch 5/100\n",
            "281/281 [==============================] - 2s 8ms/step - loss: 4.3169 - accuracy: 0.3517 - val_loss: 4.2358 - val_accuracy: 0.3620 - lr: 1.5849e-05\n",
            "Epoch 6/100\n",
            "281/281 [==============================] - 2s 8ms/step - loss: 4.1215 - accuracy: 0.3517 - val_loss: 3.9820 - val_accuracy: 0.3620 - lr: 1.7783e-05\n",
            "Epoch 7/100\n",
            "281/281 [==============================] - 2s 7ms/step - loss: 3.7826 - accuracy: 0.3517 - val_loss: 3.5487 - val_accuracy: 0.3620 - lr: 1.9953e-05\n",
            "Epoch 8/100\n",
            "281/281 [==============================] - 2s 7ms/step - loss: 3.2892 - accuracy: 0.3517 - val_loss: 3.0573 - val_accuracy: 0.3620 - lr: 2.2387e-05\n",
            "Epoch 9/100\n",
            "281/281 [==============================] - 2s 7ms/step - loss: 2.9254 - accuracy: 0.3517 - val_loss: 2.8349 - val_accuracy: 0.3620 - lr: 2.5119e-05\n",
            "Epoch 10/100\n",
            "281/281 [==============================] - 2s 7ms/step - loss: 2.7816 - accuracy: 0.3517 - val_loss: 2.7362 - val_accuracy: 0.3620 - lr: 2.8184e-05\n",
            "Epoch 11/100\n",
            "281/281 [==============================] - 2s 7ms/step - loss: 2.6876 - accuracy: 0.3517 - val_loss: 2.6550 - val_accuracy: 0.3620 - lr: 3.1623e-05\n",
            "Epoch 12/100\n",
            "281/281 [==============================] - 2s 7ms/step - loss: 2.6097 - accuracy: 0.3517 - val_loss: 2.5787 - val_accuracy: 0.3620 - lr: 3.5481e-05\n",
            "Epoch 13/100\n",
            "281/281 [==============================] - 2s 7ms/step - loss: 2.5326 - accuracy: 0.3517 - val_loss: 2.5056 - val_accuracy: 0.3620 - lr: 3.9811e-05\n",
            "Epoch 14/100\n",
            "281/281 [==============================] - 2s 7ms/step - loss: 2.4594 - accuracy: 0.3517 - val_loss: 2.4353 - val_accuracy: 0.3620 - lr: 4.4668e-05\n",
            "Epoch 15/100\n",
            "281/281 [==============================] - 2s 8ms/step - loss: 2.3870 - accuracy: 0.3517 - val_loss: 2.3660 - val_accuracy: 0.3620 - lr: 5.0119e-05\n",
            "Epoch 16/100\n",
            "281/281 [==============================] - 2s 8ms/step - loss: 2.3173 - accuracy: 0.3520 - val_loss: 2.2965 - val_accuracy: 0.3655 - lr: 5.6234e-05\n",
            "Epoch 17/100\n",
            "281/281 [==============================] - 2s 7ms/step - loss: 2.2426 - accuracy: 0.3601 - val_loss: 2.2229 - val_accuracy: 0.3833 - lr: 6.3096e-05\n",
            "Epoch 18/100\n",
            "281/281 [==============================] - 2s 7ms/step - loss: 2.1663 - accuracy: 0.3917 - val_loss: 2.1463 - val_accuracy: 0.4328 - lr: 7.0795e-05\n",
            "Epoch 19/100\n",
            "281/281 [==============================] - 2s 8ms/step - loss: 2.0863 - accuracy: 0.4371 - val_loss: 2.0699 - val_accuracy: 0.4635 - lr: 7.9433e-05\n",
            "Epoch 20/100\n",
            "281/281 [==============================] - 2s 8ms/step - loss: 2.0102 - accuracy: 0.4577 - val_loss: 2.0028 - val_accuracy: 0.4746 - lr: 8.9125e-05\n",
            "Epoch 21/100\n",
            "281/281 [==============================] - 2s 7ms/step - loss: 1.9398 - accuracy: 0.4768 - val_loss: 1.9418 - val_accuracy: 0.4929 - lr: 1.0000e-04\n",
            "Epoch 22/100\n",
            "281/281 [==============================] - 2s 8ms/step - loss: 1.8745 - accuracy: 0.4976 - val_loss: 1.8868 - val_accuracy: 0.5076 - lr: 1.1220e-04\n",
            "Epoch 23/100\n",
            "281/281 [==============================] - 2s 8ms/step - loss: 1.8136 - accuracy: 0.5169 - val_loss: 1.8381 - val_accuracy: 0.5352 - lr: 1.2589e-04\n",
            "Epoch 24/100\n",
            "281/281 [==============================] - 2s 7ms/step - loss: 1.7545 - accuracy: 0.5469 - val_loss: 1.7908 - val_accuracy: 0.5606 - lr: 1.4125e-04\n",
            "Epoch 25/100\n",
            "281/281 [==============================] - 2s 7ms/step - loss: 1.6992 - accuracy: 0.5700 - val_loss: 1.7466 - val_accuracy: 0.5761 - lr: 1.5849e-04\n",
            "Epoch 26/100\n",
            "281/281 [==============================] - 2s 8ms/step - loss: 1.6439 - accuracy: 0.5870 - val_loss: 1.7096 - val_accuracy: 0.5784 - lr: 1.7783e-04\n",
            "Epoch 27/100\n",
            "281/281 [==============================] - 2s 8ms/step - loss: 1.5898 - accuracy: 0.6037 - val_loss: 1.6630 - val_accuracy: 0.5944 - lr: 1.9953e-04\n",
            "Epoch 28/100\n",
            "281/281 [==============================] - 2s 8ms/step - loss: 1.5384 - accuracy: 0.6158 - val_loss: 1.6278 - val_accuracy: 0.5984 - lr: 2.2387e-04\n",
            "Epoch 29/100\n",
            "281/281 [==============================] - 2s 7ms/step - loss: 1.4812 - accuracy: 0.6269 - val_loss: 1.5977 - val_accuracy: 0.6002 - lr: 2.5119e-04\n",
            "Epoch 30/100\n",
            "281/281 [==============================] - 2s 7ms/step - loss: 1.4276 - accuracy: 0.6345 - val_loss: 1.5602 - val_accuracy: 0.6100 - lr: 2.8184e-04\n",
            "Epoch 31/100\n",
            "281/281 [==============================] - 2s 7ms/step - loss: 1.3749 - accuracy: 0.6368 - val_loss: 1.5332 - val_accuracy: 0.6140 - lr: 3.1623e-04\n",
            "Epoch 32/100\n",
            "281/281 [==============================] - 2s 8ms/step - loss: 1.3245 - accuracy: 0.6482 - val_loss: 1.5089 - val_accuracy: 0.6211 - lr: 3.5481e-04\n",
            "Epoch 33/100\n",
            "281/281 [==============================] - 2s 7ms/step - loss: 1.2709 - accuracy: 0.6602 - val_loss: 1.4879 - val_accuracy: 0.6247 - lr: 3.9811e-04\n",
            "Epoch 34/100\n",
            "281/281 [==============================] - 2s 8ms/step - loss: 1.2198 - accuracy: 0.6681 - val_loss: 1.4755 - val_accuracy: 0.6367 - lr: 4.4668e-04\n",
            "Epoch 35/100\n",
            "281/281 [==============================] - 2s 8ms/step - loss: 1.1730 - accuracy: 0.6824 - val_loss: 1.4591 - val_accuracy: 0.6420 - lr: 5.0119e-04\n",
            "Epoch 36/100\n",
            "281/281 [==============================] - 2s 7ms/step - loss: 1.1226 - accuracy: 0.6961 - val_loss: 1.4431 - val_accuracy: 0.6434 - lr: 5.6234e-04\n",
            "Epoch 37/100\n",
            "281/281 [==============================] - 2s 8ms/step - loss: 1.0763 - accuracy: 0.7112 - val_loss: 1.4505 - val_accuracy: 0.6505 - lr: 6.3096e-04\n",
            "Epoch 38/100\n",
            "281/281 [==============================] - 2s 7ms/step - loss: 1.0228 - accuracy: 0.7366 - val_loss: 1.4516 - val_accuracy: 0.6558 - lr: 7.0795e-04\n",
            "Epoch 39/100\n",
            "281/281 [==============================] - 2s 8ms/step - loss: 0.9753 - accuracy: 0.7533 - val_loss: 1.4578 - val_accuracy: 0.6541 - lr: 7.9433e-04\n",
            "Epoch 40/100\n",
            "281/281 [==============================] - 2s 8ms/step - loss: 0.9191 - accuracy: 0.7721 - val_loss: 1.5059 - val_accuracy: 0.6603 - lr: 8.9125e-04\n",
            "Epoch 41/100\n",
            "281/281 [==============================] - 2s 7ms/step - loss: 0.8672 - accuracy: 0.7889 - val_loss: 1.5124 - val_accuracy: 0.6696 - lr: 0.0010\n",
            "Epoch 42/100\n",
            "281/281 [==============================] - 2s 7ms/step - loss: 0.8045 - accuracy: 0.8112 - val_loss: 1.5330 - val_accuracy: 0.6750 - lr: 0.0011\n",
            "Epoch 43/100\n",
            "281/281 [==============================] - 2s 8ms/step - loss: 0.7538 - accuracy: 0.8225 - val_loss: 1.4973 - val_accuracy: 0.6941 - lr: 0.0013\n",
            "Epoch 44/100\n",
            "281/281 [==============================] - 2s 7ms/step - loss: 0.7156 - accuracy: 0.8311 - val_loss: 1.5263 - val_accuracy: 0.6941 - lr: 0.0014\n",
            "Epoch 45/100\n",
            "281/281 [==============================] - 2s 8ms/step - loss: 0.6772 - accuracy: 0.8377 - val_loss: 1.6134 - val_accuracy: 0.6919 - lr: 0.0016\n",
            "Epoch 46/100\n",
            "281/281 [==============================] - 2s 7ms/step - loss: 0.6390 - accuracy: 0.8485 - val_loss: 1.5980 - val_accuracy: 0.6906 - lr: 0.0018\n",
            "Epoch 47/100\n",
            "281/281 [==============================] - 2s 7ms/step - loss: 0.6133 - accuracy: 0.8575 - val_loss: 1.6314 - val_accuracy: 0.7008 - lr: 0.0020\n",
            "Epoch 48/100\n",
            "281/281 [==============================] - 2s 8ms/step - loss: 0.5873 - accuracy: 0.8618 - val_loss: 1.6155 - val_accuracy: 0.6981 - lr: 0.0022\n",
            "Epoch 49/100\n",
            "281/281 [==============================] - 2s 7ms/step - loss: 0.5636 - accuracy: 0.8715 - val_loss: 1.7373 - val_accuracy: 0.6972 - lr: 0.0025\n",
            "Epoch 50/100\n",
            "281/281 [==============================] - 2s 7ms/step - loss: 0.5524 - accuracy: 0.8751 - val_loss: 1.7701 - val_accuracy: 0.6986 - lr: 0.0028\n",
            "Epoch 51/100\n",
            "281/281 [==============================] - 2s 7ms/step - loss: 0.5216 - accuracy: 0.8832 - val_loss: 1.7883 - val_accuracy: 0.7137 - lr: 0.0032\n",
            "Epoch 52/100\n",
            "281/281 [==============================] - 2s 7ms/step - loss: 0.5115 - accuracy: 0.8871 - val_loss: 1.7930 - val_accuracy: 0.7012 - lr: 0.0035\n",
            "Epoch 53/100\n",
            "281/281 [==============================] - 2s 8ms/step - loss: 0.4900 - accuracy: 0.8938 - val_loss: 1.8253 - val_accuracy: 0.7044 - lr: 0.0040\n",
            "Epoch 54/100\n",
            "281/281 [==============================] - 2s 7ms/step - loss: 0.4792 - accuracy: 0.8938 - val_loss: 1.7554 - val_accuracy: 0.7128 - lr: 0.0045\n",
            "Epoch 55/100\n",
            "281/281 [==============================] - 2s 8ms/step - loss: 0.4658 - accuracy: 0.8946 - val_loss: 1.7805 - val_accuracy: 0.7173 - lr: 0.0050\n",
            "Epoch 56/100\n",
            "281/281 [==============================] - 2s 7ms/step - loss: 0.4660 - accuracy: 0.8981 - val_loss: 1.8415 - val_accuracy: 0.7150 - lr: 0.0056\n",
            "Epoch 57/100\n",
            "281/281 [==============================] - 2s 7ms/step - loss: 0.4694 - accuracy: 0.8986 - val_loss: 1.8919 - val_accuracy: 0.7293 - lr: 0.0063\n",
            "Epoch 58/100\n",
            "281/281 [==============================] - 2s 8ms/step - loss: 0.4625 - accuracy: 0.8988 - val_loss: 1.8696 - val_accuracy: 0.7115 - lr: 0.0071\n",
            "Epoch 59/100\n",
            "281/281 [==============================] - 2s 8ms/step - loss: 0.4824 - accuracy: 0.8958 - val_loss: 1.9408 - val_accuracy: 0.7044 - lr: 0.0079\n",
            "Epoch 60/100\n",
            "281/281 [==============================] - 2s 7ms/step - loss: 0.5002 - accuracy: 0.8876 - val_loss: 1.9947 - val_accuracy: 0.7017 - lr: 0.0089\n",
            "Epoch 61/100\n",
            "281/281 [==============================] - 2s 7ms/step - loss: 0.4962 - accuracy: 0.8917 - val_loss: 2.0061 - val_accuracy: 0.7102 - lr: 0.0100\n",
            "Epoch 62/100\n",
            "281/281 [==============================] - 2s 7ms/step - loss: 0.5309 - accuracy: 0.8837 - val_loss: 2.2302 - val_accuracy: 0.7115 - lr: 0.0112\n",
            "Epoch 63/100\n",
            "281/281 [==============================] - 2s 7ms/step - loss: 0.5647 - accuracy: 0.8811 - val_loss: 1.9739 - val_accuracy: 0.7168 - lr: 0.0126\n",
            "Epoch 64/100\n",
            "281/281 [==============================] - 2s 7ms/step - loss: 0.5947 - accuracy: 0.8778 - val_loss: 2.1916 - val_accuracy: 0.7070 - lr: 0.0141\n",
            "Epoch 65/100\n",
            "281/281 [==============================] - 2s 7ms/step - loss: 0.6312 - accuracy: 0.8759 - val_loss: 2.5256 - val_accuracy: 0.7231 - lr: 0.0158\n",
            "Epoch 66/100\n",
            "281/281 [==============================] - 2s 8ms/step - loss: 0.6156 - accuracy: 0.8815 - val_loss: 2.2857 - val_accuracy: 0.7021 - lr: 0.0178\n",
            "Epoch 67/100\n",
            "281/281 [==============================] - 2s 7ms/step - loss: 0.7014 - accuracy: 0.8655 - val_loss: 1.8771 - val_accuracy: 0.7271 - lr: 0.0200\n",
            "Epoch 68/100\n",
            "281/281 [==============================] - 2s 8ms/step - loss: 0.6916 - accuracy: 0.8622 - val_loss: 2.2481 - val_accuracy: 0.7070 - lr: 0.0224\n",
            "Epoch 69/100\n",
            "281/281 [==============================] - 2s 8ms/step - loss: 0.7421 - accuracy: 0.8559 - val_loss: 2.4584 - val_accuracy: 0.7262 - lr: 0.0251\n",
            "Epoch 70/100\n",
            "281/281 [==============================] - 2s 7ms/step - loss: 0.7901 - accuracy: 0.8486 - val_loss: 2.3168 - val_accuracy: 0.7030 - lr: 0.0282\n",
            "Epoch 71/100\n",
            "281/281 [==============================] - 2s 8ms/step - loss: 0.8898 - accuracy: 0.8421 - val_loss: 1.9768 - val_accuracy: 0.6977 - lr: 0.0316\n",
            "Epoch 72/100\n",
            "281/281 [==============================] - 2s 7ms/step - loss: 1.0141 - accuracy: 0.8160 - val_loss: 2.0783 - val_accuracy: 0.7191 - lr: 0.0355\n",
            "Epoch 73/100\n",
            "281/281 [==============================] - 2s 7ms/step - loss: 1.0692 - accuracy: 0.8065 - val_loss: 2.3235 - val_accuracy: 0.7044 - lr: 0.0398\n",
            "Epoch 74/100\n",
            "281/281 [==============================] - 2s 8ms/step - loss: 1.1354 - accuracy: 0.7971 - val_loss: 2.7282 - val_accuracy: 0.6852 - lr: 0.0447\n",
            "Epoch 75/100\n",
            "281/281 [==============================] - 2s 8ms/step - loss: 1.2616 - accuracy: 0.7871 - val_loss: 2.4177 - val_accuracy: 0.6950 - lr: 0.0501\n",
            "Epoch 76/100\n",
            "281/281 [==============================] - 2s 7ms/step - loss: 1.3688 - accuracy: 0.7534 - val_loss: 2.1179 - val_accuracy: 0.6723 - lr: 0.0562\n",
            "Epoch 77/100\n",
            "281/281 [==============================] - 2s 7ms/step - loss: 1.6403 - accuracy: 0.7238 - val_loss: 2.7088 - val_accuracy: 0.5886 - lr: 0.0631\n",
            "Epoch 78/100\n",
            "281/281 [==============================] - 2s 7ms/step - loss: 1.7087 - accuracy: 0.6904 - val_loss: 2.2025 - val_accuracy: 0.5419 - lr: 0.0708\n",
            "Epoch 79/100\n",
            "281/281 [==============================] - 2s 7ms/step - loss: 1.8821 - accuracy: 0.6784 - val_loss: 3.0800 - val_accuracy: 0.5419 - lr: 0.0794\n",
            "Epoch 80/100\n",
            "281/281 [==============================] - 2s 7ms/step - loss: 2.1111 - accuracy: 0.5769 - val_loss: 2.7700 - val_accuracy: 0.5703 - lr: 0.0891\n",
            "Epoch 81/100\n",
            "281/281 [==============================] - 2s 8ms/step - loss: 2.4839 - accuracy: 0.5042 - val_loss: 2.7374 - val_accuracy: 0.4484 - lr: 0.1000\n",
            "Epoch 82/100\n",
            "281/281 [==============================] - 2s 8ms/step - loss: 2.6316 - accuracy: 0.4584 - val_loss: 2.7944 - val_accuracy: 0.3620 - lr: 0.1122\n"
          ]
        }
      ]
    },
    {
      "cell_type": "code",
      "source": [
        "plt.semilogx(history.history['lr'], history.history['loss'])\n",
        "plt.axis([1e-5, 1e-1, 0, 5])"
      ],
      "metadata": {
        "colab": {
          "base_uri": "https://localhost:8080/",
          "height": 290
        },
        "id": "zRlToLgJZpOE",
        "outputId": "5ccff5ff-5ee4-4d70-ff5b-cd53526c0a5e"
      },
      "execution_count": null,
      "outputs": [
        {
          "output_type": "execute_result",
          "data": {
            "text/plain": [
              "(1e-05, 0.1, 0.0, 5.0)"
            ]
          },
          "metadata": {},
          "execution_count": 46
        },
        {
          "output_type": "display_data",
          "data": {
            "image/png": "[encoded data removed]",
            "text/plain": [
              "<Figure size 432x288 with 1 Axes>"
            ]
          },
          "metadata": {
            "needs_background": "light"
          }
        }
      ]
    },
    {
      "cell_type": "code",
      "source": [
        "plt.semilogx(history.history['lr'], history.history['val_accuracy'])\n",
        "plt.axis([1e-5, 1e-1, .50, .80])"
      ],
      "metadata": {
        "colab": {
          "base_uri": "https://localhost:8080/",
          "height": 290
        },
        "id": "akbrcgDfaDtr",
        "outputId": "2f06127d-f000-49fa-cee2-97312a440def"
      },
      "execution_count": null,
      "outputs": [
        {
          "output_type": "execute_result",
          "data": {
            "text/plain": [
              "(1e-05, 0.1, 0.5, 0.8)"
            ]
          },
          "metadata": {},
          "execution_count": 47
        },
        {
          "output_type": "display_data",
          "data": {
            "image/png": "[encoded data removed]",
            "text/plain": [
              "<Figure size 432x288 with 1 Axes>"
            ]
          },
          "metadata": {
            "needs_background": "light"
          }
        }
      ]
    },
    {
      "cell_type": "code",
      "source": [
        "plt.semilogx(history.history['lr'], history.history['accuracy'])\n",
        "plt.axis([1e-5, 1e-1, .60, .95])"
      ],
      "metadata": {
        "colab": {
          "base_uri": "https://localhost:8080/",
          "height": 290
        },
        "id": "RMCuiYMXbDef",
        "outputId": "cbfa826f-2f85-4850-f274-9aad9c61323d"
      },
      "execution_count": null,
      "outputs": [
        {
          "output_type": "execute_result",
          "data": {
            "text/plain": [
              "(1e-05, 0.1, 0.6, 0.95)"
            ]
          },
          "metadata": {},
          "execution_count": 49
        },
        {
          "output_type": "display_data",
          "data": {
            "image/png": "[encoded data removed]",
            "text/plain": [
              "<Figure size 432x288 with 1 Axes>"
            ]
          },
          "metadata": {
            "needs_background": "light"
          }
        }
      ]
    },
    {
      "cell_type": "code",
      "source": [
        "model = Sequential([\n",
        "    layers.Embedding(input_dim=VOCAB_SIZE, output_dim=EMBED_DIM, input_length=MAX_LEN),\n",
        "    layers.GlobalAveragePooling1D(),\n",
        "    layers.Dense(128, activation='relu'),\n",
        "    layers.Dropout(0.2),\n",
        "    layers.Dense(64, activation='relu', kernel_regularizer=regularizers.l2(0.01)),\n",
        "    layers.Dense(NUM_CLASSES, activation='softmax')\n",
        "])"
      ],
      "metadata": {
        "id": "CkZuDNA_b8qQ"
      },
      "execution_count": null,
      "outputs": []
    },
    {
      "cell_type": "code",
      "source": [
        "optimizer   = tf.keras.optimizers.Adam(learning_rate=2e-2)\n",
        "loss        = tf.keras.losses.SparseCategoricalCrossentropy()\n",
        "metrics     = ['accuracy']"
      ],
      "metadata": {
        "id": "ostiSURRb8qR"
      },
      "execution_count": null,
      "outputs": []
    },
    {
      "cell_type": "code",
      "source": [
        "model.compile(optimizer=optimizer,\n",
        "              loss=loss,\n",
        "              metrics=metrics)"
      ],
      "metadata": {
        "id": "PAY4DVWqb8qR"
      },
      "execution_count": null,
      "outputs": []
    },
    {
      "cell_type": "code",
      "source": [
        "early_stopping    = EarlyStopping(monitor='val_accuracy', patience=30)\n",
        "model_checkpoint  = ModelCheckpoint(monitor='val_loss', filepath='./best_model.h5', save_best_only=True)"
      ],
      "metadata": {
        "id": "TheO9hUwb8qR"
      },
      "execution_count": null,
      "outputs": []
    },
    {
      "cell_type": "code",
      "source": [
        "EPOCHS = 150\n",
        "CALLBACKS = [early_stopping, model_checkpoint]"
      ],
      "metadata": {
        "id": "gDx7lFcib8qS"
      },
      "execution_count": null,
      "outputs": []
    },
    {
      "cell_type": "code",
      "source": [
        "history = model.fit(x_train_padded,\n",
        "                    y_train,\n",
        "                    epochs = EPOCHS,\n",
        "                    validation_data = (x_test_padded, y_test),\n",
        "                    verbose = 1,\n",
        "                    callbacks = CALLBACKS)"
      ],
      "metadata": {
        "colab": {
          "base_uri": "https://localhost:8080/"
        },
        "outputId": "bdd1cb32-8c39-4501-9fcf-1f8f67ee83d8",
        "id": "UydIlrvub8qS"
      },
      "execution_count": null,
      "outputs": [
        {
          "output_type": "stream",
          "name": "stdout",
          "text": [
            "Epoch 1/150\n",
            "281/281 [==============================] - 3s 8ms/step - loss: 1.7464 - accuracy: 0.5883 - val_loss: 1.4233 - val_accuracy: 0.6732\n",
            "Epoch 2/150\n",
            "281/281 [==============================] - 2s 8ms/step - loss: 1.2266 - accuracy: 0.7126 - val_loss: 1.2723 - val_accuracy: 0.7017\n",
            "Epoch 3/150\n",
            "281/281 [==============================] - 2s 8ms/step - loss: 0.9886 - accuracy: 0.7632 - val_loss: 1.2882 - val_accuracy: 0.7240\n",
            "Epoch 4/150\n",
            "281/281 [==============================] - 2s 8ms/step - loss: 0.8468 - accuracy: 0.7946 - val_loss: 1.2705 - val_accuracy: 0.7324\n",
            "Epoch 5/150\n",
            "281/281 [==============================] - 2s 7ms/step - loss: 0.7544 - accuracy: 0.8166 - val_loss: 1.2543 - val_accuracy: 0.7360\n",
            "Epoch 6/150\n",
            "281/281 [==============================] - 2s 7ms/step - loss: 0.6737 - accuracy: 0.8341 - val_loss: 1.5385 - val_accuracy: 0.7177\n",
            "Epoch 7/150\n",
            "281/281 [==============================] - 2s 8ms/step - loss: 0.6524 - accuracy: 0.8415 - val_loss: 1.4179 - val_accuracy: 0.7422\n",
            "Epoch 8/150\n",
            "281/281 [==============================] - 2s 7ms/step - loss: 0.5982 - accuracy: 0.8535 - val_loss: 1.5859 - val_accuracy: 0.7444\n",
            "Epoch 9/150\n",
            "281/281 [==============================] - 2s 7ms/step - loss: 0.5943 - accuracy: 0.8615 - val_loss: 1.6048 - val_accuracy: 0.7400\n",
            "Epoch 10/150\n",
            "281/281 [==============================] - 2s 8ms/step - loss: 0.5684 - accuracy: 0.8675 - val_loss: 1.5531 - val_accuracy: 0.7524\n",
            "Epoch 11/150\n",
            "281/281 [==============================] - 2s 7ms/step - loss: 0.5465 - accuracy: 0.8760 - val_loss: 1.8288 - val_accuracy: 0.7605\n",
            "Epoch 12/150\n",
            "281/281 [==============================] - 2s 8ms/step - loss: 0.4942 - accuracy: 0.8839 - val_loss: 1.7355 - val_accuracy: 0.7551\n",
            "Epoch 13/150\n",
            "281/281 [==============================] - 2s 7ms/step - loss: 0.4789 - accuracy: 0.8868 - val_loss: 1.8808 - val_accuracy: 0.7476\n",
            "Epoch 14/150\n",
            "281/281 [==============================] - 2s 7ms/step - loss: 0.4819 - accuracy: 0.8912 - val_loss: 1.8213 - val_accuracy: 0.7257\n",
            "Epoch 15/150\n",
            "281/281 [==============================] - 2s 8ms/step - loss: 0.5113 - accuracy: 0.8834 - val_loss: 1.8222 - val_accuracy: 0.7471\n",
            "Epoch 16/150\n",
            "281/281 [==============================] - 2s 7ms/step - loss: 0.4934 - accuracy: 0.8908 - val_loss: 1.8574 - val_accuracy: 0.7498\n",
            "Epoch 17/150\n",
            "281/281 [==============================] - 2s 7ms/step - loss: 0.4747 - accuracy: 0.8963 - val_loss: 2.1887 - val_accuracy: 0.7476\n",
            "Epoch 18/150\n",
            "281/281 [==============================] - 2s 7ms/step - loss: 0.4741 - accuracy: 0.8968 - val_loss: 2.1346 - val_accuracy: 0.7346\n",
            "Epoch 19/150\n",
            "281/281 [==============================] - 2s 7ms/step - loss: 0.4979 - accuracy: 0.8967 - val_loss: 2.3285 - val_accuracy: 0.7591\n",
            "Epoch 20/150\n",
            "281/281 [==============================] - 2s 7ms/step - loss: 0.4935 - accuracy: 0.8989 - val_loss: 2.0551 - val_accuracy: 0.7458\n",
            "Epoch 21/150\n",
            "281/281 [==============================] - 2s 8ms/step - loss: 0.4951 - accuracy: 0.8955 - val_loss: 2.0428 - val_accuracy: 0.7489\n",
            "Epoch 22/150\n",
            "281/281 [==============================] - 2s 7ms/step - loss: 0.4364 - accuracy: 0.9068 - val_loss: 2.0731 - val_accuracy: 0.7409\n",
            "Epoch 23/150\n",
            "281/281 [==============================] - 2s 8ms/step - loss: 0.4300 - accuracy: 0.9089 - val_loss: 2.2442 - val_accuracy: 0.7556\n",
            "Epoch 24/150\n",
            "281/281 [==============================] - 2s 7ms/step - loss: 0.4575 - accuracy: 0.9044 - val_loss: 2.1204 - val_accuracy: 0.7409\n",
            "Epoch 25/150\n",
            "281/281 [==============================] - 2s 8ms/step - loss: 0.4564 - accuracy: 0.9088 - val_loss: 2.4985 - val_accuracy: 0.7315\n",
            "Epoch 26/150\n",
            "281/281 [==============================] - 2s 8ms/step - loss: 0.4421 - accuracy: 0.9066 - val_loss: 2.5440 - val_accuracy: 0.7440\n",
            "Epoch 27/150\n",
            "281/281 [==============================] - 2s 7ms/step - loss: 0.4302 - accuracy: 0.9118 - val_loss: 2.4132 - val_accuracy: 0.7471\n",
            "Epoch 28/150\n",
            "281/281 [==============================] - 2s 8ms/step - loss: 0.4299 - accuracy: 0.9123 - val_loss: 2.3458 - val_accuracy: 0.7516\n",
            "Epoch 29/150\n",
            "281/281 [==============================] - 2s 8ms/step - loss: 0.4078 - accuracy: 0.9143 - val_loss: 2.4335 - val_accuracy: 0.7440\n",
            "Epoch 30/150\n",
            "281/281 [==============================] - 2s 7ms/step - loss: 0.4139 - accuracy: 0.9142 - val_loss: 2.3301 - val_accuracy: 0.7520\n",
            "Epoch 31/150\n",
            "281/281 [==============================] - 2s 7ms/step - loss: 0.4590 - accuracy: 0.9108 - val_loss: 2.8062 - val_accuracy: 0.7516\n",
            "Epoch 32/150\n",
            "281/281 [==============================] - 2s 7ms/step - loss: 0.4832 - accuracy: 0.9073 - val_loss: 2.6180 - val_accuracy: 0.7257\n",
            "Epoch 33/150\n",
            "281/281 [==============================] - 2s 7ms/step - loss: 0.4346 - accuracy: 0.9122 - val_loss: 2.3626 - val_accuracy: 0.7471\n",
            "Epoch 34/150\n",
            "281/281 [==============================] - 2s 8ms/step - loss: 0.4490 - accuracy: 0.9122 - val_loss: 2.5799 - val_accuracy: 0.7386\n",
            "Epoch 35/150\n",
            "281/281 [==============================] - 2s 7ms/step - loss: 0.4084 - accuracy: 0.9130 - val_loss: 2.5340 - val_accuracy: 0.7382\n",
            "Epoch 36/150\n",
            "281/281 [==============================] - 2s 7ms/step - loss: 0.4491 - accuracy: 0.9128 - val_loss: 2.4652 - val_accuracy: 0.7400\n",
            "Epoch 37/150\n",
            "281/281 [==============================] - 2s 8ms/step - loss: 0.4230 - accuracy: 0.9115 - val_loss: 2.8151 - val_accuracy: 0.7413\n",
            "Epoch 38/150\n",
            "281/281 [==============================] - 2s 8ms/step - loss: 0.4390 - accuracy: 0.9141 - val_loss: 3.2576 - val_accuracy: 0.7516\n",
            "Epoch 39/150\n",
            "281/281 [==============================] - 2s 7ms/step - loss: 0.4281 - accuracy: 0.9147 - val_loss: 2.5052 - val_accuracy: 0.7284\n",
            "Epoch 40/150\n",
            "281/281 [==============================] - 2s 8ms/step - loss: 0.4201 - accuracy: 0.9156 - val_loss: 3.1505 - val_accuracy: 0.7427\n",
            "Epoch 41/150\n",
            "281/281 [==============================] - 2s 8ms/step - loss: 0.4355 - accuracy: 0.9146 - val_loss: 2.4956 - val_accuracy: 0.7480\n"
          ]
        }
      ]
    },
    {
      "cell_type": "code",
      "source": [
        "acc      = history.history['accuracy']\n",
        "val_acc  = history.history['val_accuracy']\n",
        "\n",
        "epochs   = range(len(acc))\n",
        "\n",
        "plt.plot(epochs, acc, 'r', label = 'Training')\n",
        "plt.plot(epochs, val_acc, 'b', label = 'Validation')\n",
        "plt.title('Training and Validation Accuracy')\n",
        "plt.legend()\n",
        "plt.figure()\n",
        "\n",
        "loss     = history.history['loss']\n",
        "val_loss = history.history['val_loss']\n",
        "\n",
        "epochs   = range(len(loss))\n",
        "\n",
        "plt.plot(epochs, loss, 'r', label = 'Training')\n",
        "plt.plot(epochs, val_loss, 'b', label = 'Validation')\n",
        "plt.title('Training and Validation Loss')\n",
        "plt.legend()\n",
        "plt.figure()"
      ],
      "metadata": {
        "colab": {
          "base_uri": "https://localhost:8080/",
          "height": 580
        },
        "id": "vnZm6uJLdTHD",
        "outputId": "0b4bdce5-4577-420b-9089-88102e9cb1fe"
      },
      "execution_count": null,
      "outputs": [
        {
          "output_type": "execute_result",
          "data": {
            "text/plain": [
              "<Figure size 432x288 with 0 Axes>"
            ]
          },
          "metadata": {},
          "execution_count": 56
        },
        {
          "output_type": "display_data",
          "data": {
            "image/png": "[encoded data removed]",
            "text/plain": [
              "<Figure size 432x288 with 1 Axes>"
            ]
          },
          "metadata": {
            "needs_background": "light"
          }
        },
        {
          "output_type": "display_data",
          "data": {
            "image/png": "[encoded data removed]",
            "text/plain": [
              "<Figure size 432x288 with 1 Axes>"
            ]
          },
          "metadata": {
            "needs_background": "light"
          }
        },
        {
          "output_type": "display_data",
          "data": {
            "text/plain": [
              "<Figure size 432x288 with 0 Axes>"
            ]
          },
          "metadata": {}
        }
      ]
    },
    {
      "cell_type": "markdown",
      "source": [
        "# Method 2"
      ],
      "metadata": {
        "id": "fWkUZXRyE572"
      }
    },
    {
      "cell_type": "code",
      "source": [
        "reuters = tf.keras.datasets.reuters       # keras datasets\n",
        "\n",
        "(x_train, y_train), (x_test, y_test) = reuters.load_data()"
      ],
      "metadata": {
        "id": "9wBeTEcaxyJ9"
      },
      "execution_count": 3,
      "outputs": []
    },
    {
      "cell_type": "code",
      "source": [
        "VOCAB_SIZE = 20000"
      ],
      "metadata": {
        "id": "5QW5aU-5z7Y0"
      },
      "execution_count": 4,
      "outputs": []
    },
    {
      "cell_type": "code",
      "source": [
        "from tensorflow.keras import utils\n",
        "from tensorflow.keras.preprocessing.text import Tokenizer\n",
        "\n",
        "tokenizer = Tokenizer(num_words=VOCAB_SIZE)\n",
        "seq = np.concatenate((x_train, x_test), axis=0)\n",
        "tokenizer.fit_on_sequences(seq)\n",
        "\n",
        "xt_train = tokenizer.sequences_to_matrix(x_train, mode='tfidf')\n",
        "xt_test = tokenizer.sequences_to_matrix(x_test, mode='tfidf')\n",
        "\n",
        "yt_train = utils.to_categorical(y_train, num_classes = max(y_train) + 1)\n",
        "yt_test = utils.to_categorical(y_test, num_classes = max(y_train) + 1)"
      ],
      "metadata": {
        "id": "VX5e2vMTzyx0"
      },
      "execution_count": 7,
      "outputs": []
    },
    {
      "cell_type": "code",
      "source": [
        "x_train[:2]"
      ],
      "metadata": {
        "colab": {
          "base_uri": "https://localhost:8080/"
        },
        "id": "RqTnyyu7FUs2",
        "outputId": "8d4f7493-6157-4422-ac07-69467ba78b89"
      },
      "execution_count": 13,
      "outputs": [
        {
          "output_type": "execute_result",
          "data": {
            "text/plain": [
              "array([list([1, 27595, 28842, 8, 43, 10, 447, 5, 25, 207, 270, 5, 3095, 111, 16, 369, 186, 90, 67, 7, 89, 5, 19, 102, 6, 19, 124, 15, 90, 67, 84, 22, 482, 26, 7, 48, 4, 49, 8, 864, 39, 209, 154, 6, 151, 6, 83, 11, 15, 22, 155, 11, 15, 7, 48, 9, 4579, 1005, 504, 6, 258, 6, 272, 11, 15, 22, 134, 44, 11, 15, 16, 8, 197, 1245, 90, 67, 52, 29, 209, 30, 32, 132, 6, 109, 15, 17, 12]),\n",
              "       list([1, 3267, 699, 3434, 2295, 56, 16784, 7511, 9, 56, 3906, 1073, 81, 5, 1198, 57, 366, 737, 132, 20, 4093, 7, 19261, 49, 2295, 13415, 1037, 3267, 699, 3434, 8, 7, 10, 241, 16, 855, 129, 231, 783, 5, 4, 587, 2295, 13415, 30625, 775, 7, 48, 34, 191, 44, 35, 1795, 505, 17, 12])],\n",
              "      dtype=object)"
            ]
          },
          "metadata": {},
          "execution_count": 13
        }
      ]
    },
    {
      "cell_type": "code",
      "source": [
        "len(x_train) + len(x_test)"
      ],
      "metadata": {
        "colab": {
          "base_uri": "https://localhost:8080/"
        },
        "id": "0gN5RBH0Fa7c",
        "outputId": "165c580b-fc1c-4d64-e47b-287c705d7830"
      },
      "execution_count": 14,
      "outputs": [
        {
          "output_type": "execute_result",
          "data": {
            "text/plain": [
              "11228"
            ]
          },
          "metadata": {},
          "execution_count": 14
        }
      ]
    },
    {
      "cell_type": "code",
      "source": [
        "len(seq)"
      ],
      "metadata": {
        "colab": {
          "base_uri": "https://localhost:8080/"
        },
        "id": "4ukyQdxDFK2Q",
        "outputId": "6aa99f1a-06ef-4645-cc5e-5d002a36519e"
      },
      "execution_count": 10,
      "outputs": [
        {
          "output_type": "execute_result",
          "data": {
            "text/plain": [
              "11228"
            ]
          },
          "metadata": {},
          "execution_count": 10
        }
      ]
    },
    {
      "cell_type": "code",
      "source": [
        "seq[:2]"
      ],
      "metadata": {
        "colab": {
          "base_uri": "https://localhost:8080/"
        },
        "id": "SUi9SUDwFQ6W",
        "outputId": "b87619d5-a4d0-49ac-9814-b0f20301c444"
      },
      "execution_count": 11,
      "outputs": [
        {
          "output_type": "execute_result",
          "data": {
            "text/plain": [
              "array([list([1, 27595, 28842, 8, 43, 10, 447, 5, 25, 207, 270, 5, 3095, 111, 16, 369, 186, 90, 67, 7, 89, 5, 19, 102, 6, 19, 124, 15, 90, 67, 84, 22, 482, 26, 7, 48, 4, 49, 8, 864, 39, 209, 154, 6, 151, 6, 83, 11, 15, 22, 155, 11, 15, 7, 48, 9, 4579, 1005, 504, 6, 258, 6, 272, 11, 15, 22, 134, 44, 11, 15, 16, 8, 197, 1245, 90, 67, 52, 29, 209, 30, 32, 132, 6, 109, 15, 17, 12]),\n",
              "       list([1, 3267, 699, 3434, 2295, 56, 16784, 7511, 9, 56, 3906, 1073, 81, 5, 1198, 57, 366, 737, 132, 20, 4093, 7, 19261, 49, 2295, 13415, 1037, 3267, 699, 3434, 8, 7, 10, 241, 16, 855, 129, 231, 783, 5, 4, 587, 2295, 13415, 30625, 775, 7, 48, 34, 191, 44, 35, 1795, 505, 17, 12])],\n",
              "      dtype=object)"
            ]
          },
          "metadata": {},
          "execution_count": 11
        }
      ]
    },
    {
      "cell_type": "code",
      "source": [
        "xt_train[0]"
      ],
      "metadata": {
        "colab": {
          "base_uri": "https://localhost:8080/"
        },
        "id": "SLAB0tj50o-m",
        "outputId": "455b84f6-53d1-4d30-c8fd-ad30f4cb70ff"
      },
      "execution_count": null,
      "outputs": [
        {
          "output_type": "execute_result",
          "data": {
            "text/plain": [
              "array([0.        , 0.69310265, 0.        , ..., 0.        , 0.        ,\n",
              "       0.        ])"
            ]
          },
          "metadata": {},
          "execution_count": 105
        }
      ]
    },
    {
      "cell_type": "code",
      "source": [
        "xt_train[0][:100]"
      ],
      "metadata": {
        "colab": {
          "base_uri": "https://localhost:8080/"
        },
        "id": "Krnlg32nFyxi",
        "outputId": "fe1b6c5c-12f3-415e-ad0f-c1a1a7b23323"
      },
      "execution_count": 18,
      "outputs": [
        {
          "output_type": "execute_result",
          "data": {
            "text/plain": [
              "array([0.        , 0.69310265, 0.        , 0.        , 0.86441777,\n",
              "       1.74698197, 2.5124763 , 1.93297563, 1.84755738, 0.89635166,\n",
              "       0.92933835, 2.7152738 , 0.69314718, 0.        , 0.        ,\n",
              "       3.4789638 , 1.88873762, 0.69645889, 0.        , 2.07493177,\n",
              "       0.        , 0.        , 2.60665173, 0.        , 0.        ,\n",
              "       1.27057066, 1.52202628, 0.        , 0.        , 1.39287643,\n",
              "       1.43329569, 0.        , 1.40371086, 0.        , 0.        ,\n",
              "       0.        , 0.        , 0.        , 0.        , 1.55292725,\n",
              "       0.        , 0.        , 0.        , 1.61315326, 1.55057736,\n",
              "       0.        , 0.        , 0.        , 2.84178655, 1.63500027,\n",
              "       0.        , 0.        , 1.72440729, 0.        , 0.        ,\n",
              "       0.        , 0.        , 0.        , 0.        , 0.        ,\n",
              "       0.        , 0.        , 0.        , 0.        , 0.        ,\n",
              "       0.        , 0.        , 4.05923057, 0.        , 0.        ,\n",
              "       0.        , 0.        , 0.        , 0.        , 0.        ,\n",
              "       0.        , 0.        , 0.        , 0.        , 0.        ,\n",
              "       0.        , 0.        , 0.        , 1.91906793, 2.03132593,\n",
              "       0.        , 0.        , 0.        , 0.        , 2.12434966,\n",
              "       4.54148233, 0.        , 0.        , 0.        , 0.        ,\n",
              "       0.        , 0.        , 0.        , 0.        , 0.        ])"
            ]
          },
          "metadata": {},
          "execution_count": 18
        }
      ]
    },
    {
      "cell_type": "code",
      "source": [
        "len(xt_train[0])"
      ],
      "metadata": {
        "colab": {
          "base_uri": "https://localhost:8080/"
        },
        "id": "xNSeuKCaFqCa",
        "outputId": "ef9f7476-802c-44b8-ddca-3ccec6a2b5e9"
      },
      "execution_count": 15,
      "outputs": [
        {
          "output_type": "execute_result",
          "data": {
            "text/plain": [
              "20000"
            ]
          },
          "metadata": {},
          "execution_count": 15
        }
      ]
    },
    {
      "cell_type": "code",
      "source": [
        "len(xt_train)"
      ],
      "metadata": {
        "colab": {
          "base_uri": "https://localhost:8080/"
        },
        "id": "v1JAbwv40slw",
        "outputId": "190a237d-9565-4438-f6a5-93e8f2972179"
      },
      "execution_count": null,
      "outputs": [
        {
          "output_type": "execute_result",
          "data": {
            "text/plain": [
              "8982"
            ]
          },
          "metadata": {},
          "execution_count": 106
        }
      ]
    },
    {
      "cell_type": "code",
      "source": [
        "yt_train[0]"
      ],
      "metadata": {
        "colab": {
          "base_uri": "https://localhost:8080/"
        },
        "id": "bbwiesyH0uw7",
        "outputId": "d7eb5971-0ccc-46df-df24-558cf8252be1"
      },
      "execution_count": null,
      "outputs": [
        {
          "output_type": "execute_result",
          "data": {
            "text/plain": [
              "array([0., 0., 0., 1., 0., 0., 0., 0., 0., 0., 0., 0., 0., 0., 0., 0., 0.,\n",
              "       0., 0., 0., 0., 0., 0., 0., 0., 0., 0., 0., 0., 0., 0., 0., 0., 0.,\n",
              "       0., 0., 0., 0., 0., 0., 0., 0., 0., 0., 0., 0.], dtype=float32)"
            ]
          },
          "metadata": {},
          "execution_count": 107
        }
      ]
    },
    {
      "cell_type": "code",
      "source": [
        "len(yt_train[0])"
      ],
      "metadata": {
        "colab": {
          "base_uri": "https://localhost:8080/"
        },
        "id": "xxGvaYHdFu_h",
        "outputId": "a40e86d5-31f3-4e64-d3ae-988ff780cd17"
      },
      "execution_count": 16,
      "outputs": [
        {
          "output_type": "execute_result",
          "data": {
            "text/plain": [
              "46"
            ]
          },
          "metadata": {},
          "execution_count": 16
        }
      ]
    },
    {
      "cell_type": "code",
      "source": [
        "NUM_CLASSES = len(np.unique(y_train))"
      ],
      "metadata": {
        "id": "Y3PVMFccyJ2H"
      },
      "execution_count": null,
      "outputs": []
    },
    {
      "cell_type": "code",
      "source": [
        "model = Sequential([\n",
        "    layers.InputLayer(input_shape=(VOCAB_SIZE)),\n",
        "    layers.Dense(512, activation='relu'),\n",
        "    layers.Dropout(0.3),\n",
        "    layers.Dense(NUM_CLASSES, activation='softmax')\n",
        "])"
      ],
      "metadata": {
        "id": "wbEnuvMzv1dt"
      },
      "execution_count": null,
      "outputs": []
    },
    {
      "cell_type": "code",
      "source": [
        "model.summary()"
      ],
      "metadata": {
        "colab": {
          "base_uri": "https://localhost:8080/"
        },
        "outputId": "38049eff-a64f-4caa-a1c5-584b16fedb52",
        "id": "Tyg4E4mZvoX2"
      },
      "execution_count": null,
      "outputs": [
        {
          "output_type": "stream",
          "name": "stdout",
          "text": [
            "Model: \"sequential_12\"\n",
            "_________________________________________________________________\n",
            " Layer (type)                Output Shape              Param #   \n",
            "=================================================================\n",
            " dense_36 (Dense)            (None, 512)               10240512  \n",
            "                                                                 \n",
            " dropout_8 (Dropout)         (None, 512)               0         \n",
            "                                                                 \n",
            " dense_37 (Dense)            (None, 46)                23598     \n",
            "                                                                 \n",
            "=================================================================\n",
            "Total params: 10,264,110\n",
            "Trainable params: 10,264,110\n",
            "Non-trainable params: 0\n",
            "_________________________________________________________________\n"
          ]
        }
      ]
    },
    {
      "cell_type": "code",
      "source": [
        "optimizer   = 'adadelta'\n",
        "loss        = tf.keras.losses.CategoricalCrossentropy()\n",
        "metrics     = ['accuracy']"
      ],
      "metadata": {
        "id": "nix0-7xFvoX2"
      },
      "execution_count": null,
      "outputs": []
    },
    {
      "cell_type": "code",
      "source": [
        "model.compile(optimizer=optimizer,\n",
        "              loss=loss,\n",
        "              metrics=metrics)"
      ],
      "metadata": {
        "id": "iT1jBUXUvoX3"
      },
      "execution_count": null,
      "outputs": []
    },
    {
      "cell_type": "code",
      "source": [
        "early_stopping    = EarlyStopping(monitor='val_accuracy', patience=8)\n",
        "model_checkpoint  = ModelCheckpoint(monitor='val_loss', filepath='./best_model.h5', save_best_only=True)"
      ],
      "metadata": {
        "id": "ApJRJLjzvoX3"
      },
      "execution_count": null,
      "outputs": []
    },
    {
      "cell_type": "code",
      "source": [
        "EPOCHS = 300\n",
        "CALLBACKS = [early_stopping, model_checkpoint]"
      ],
      "metadata": {
        "id": "4T_lPYDnvoX3"
      },
      "execution_count": null,
      "outputs": []
    },
    {
      "cell_type": "code",
      "source": [
        "history = model.fit(xt_train,\n",
        "                    yt_train,\n",
        "                    epochs = EPOCHS,\n",
        "                    validation_data = (xt_test, yt_test),\n",
        "                    verbose = 1,\n",
        "                    callbacks = CALLBACKS)"
      ],
      "metadata": {
        "colab": {
          "base_uri": "https://localhost:8080/"
        },
        "outputId": "8155b67a-28cc-45be-f187-4bbe7724fe1a",
        "id": "KoxbFMMlvoX3"
      },
      "execution_count": null,
      "outputs": [
        {
          "output_type": "stream",
          "name": "stdout",
          "text": [
            "Epoch 1/300\n",
            "281/281 [==============================] - 4s 13ms/step - loss: 3.8770 - accuracy: 0.0351 - val_loss: 3.7825 - val_accuracy: 0.0757\n",
            "Epoch 2/300\n",
            "281/281 [==============================] - 3s 12ms/step - loss: 3.7477 - accuracy: 0.0970 - val_loss: 3.6611 - val_accuracy: 0.1972\n",
            "Epoch 3/300\n",
            "281/281 [==============================] - 3s 12ms/step - loss: 3.6257 - accuracy: 0.1874 - val_loss: 3.5456 - val_accuracy: 0.3121\n",
            "Epoch 4/300\n",
            "281/281 [==============================] - 3s 12ms/step - loss: 3.5076 - accuracy: 0.2806 - val_loss: 3.4338 - val_accuracy: 0.3678\n",
            "Epoch 5/300\n",
            "281/281 [==============================] - 3s 12ms/step - loss: 3.3899 - accuracy: 0.3524 - val_loss: 3.3261 - val_accuracy: 0.4025\n",
            "Epoch 6/300\n",
            "281/281 [==============================] - 3s 12ms/step - loss: 3.2792 - accuracy: 0.3843 - val_loss: 3.2230 - val_accuracy: 0.4319\n",
            "Epoch 7/300\n",
            "281/281 [==============================] - 3s 12ms/step - loss: 3.1849 - accuracy: 0.4105 - val_loss: 3.1243 - val_accuracy: 0.4497\n",
            "Epoch 8/300\n",
            "281/281 [==============================] - 3s 12ms/step - loss: 3.0765 - accuracy: 0.4372 - val_loss: 3.0300 - val_accuracy: 0.4586\n",
            "Epoch 9/300\n",
            "281/281 [==============================] - 3s 12ms/step - loss: 2.9880 - accuracy: 0.4561 - val_loss: 2.9410 - val_accuracy: 0.4706\n",
            "Epoch 10/300\n",
            "281/281 [==============================] - 3s 12ms/step - loss: 2.9003 - accuracy: 0.4646 - val_loss: 2.8570 - val_accuracy: 0.4822\n",
            "Epoch 11/300\n",
            "281/281 [==============================] - 3s 12ms/step - loss: 2.8073 - accuracy: 0.4787 - val_loss: 2.7782 - val_accuracy: 0.4920\n",
            "Epoch 12/300\n",
            "281/281 [==============================] - 3s 12ms/step - loss: 2.7339 - accuracy: 0.4920 - val_loss: 2.7046 - val_accuracy: 0.4991\n",
            "Epoch 13/300\n",
            "281/281 [==============================] - 3s 12ms/step - loss: 2.6594 - accuracy: 0.4964 - val_loss: 2.6352 - val_accuracy: 0.5031\n",
            "Epoch 14/300\n",
            "281/281 [==============================] - 3s 12ms/step - loss: 2.5850 - accuracy: 0.5106 - val_loss: 2.5700 - val_accuracy: 0.5151\n",
            "Epoch 15/300\n",
            "281/281 [==============================] - 3s 12ms/step - loss: 2.5276 - accuracy: 0.5150 - val_loss: 2.5091 - val_accuracy: 0.5187\n",
            "Epoch 16/300\n",
            "281/281 [==============================] - 3s 12ms/step - loss: 2.4666 - accuracy: 0.5226 - val_loss: 2.4526 - val_accuracy: 0.5289\n",
            "Epoch 17/300\n",
            "281/281 [==============================] - 3s 12ms/step - loss: 2.4097 - accuracy: 0.5347 - val_loss: 2.3997 - val_accuracy: 0.5374\n",
            "Epoch 18/300\n",
            "281/281 [==============================] - 3s 12ms/step - loss: 2.3561 - accuracy: 0.5419 - val_loss: 2.3503 - val_accuracy: 0.5432\n",
            "Epoch 19/300\n",
            "281/281 [==============================] - 3s 12ms/step - loss: 2.3059 - accuracy: 0.5446 - val_loss: 2.3041 - val_accuracy: 0.5499\n",
            "Epoch 20/300\n",
            "281/281 [==============================] - 3s 12ms/step - loss: 2.2591 - accuracy: 0.5558 - val_loss: 2.2608 - val_accuracy: 0.5534\n",
            "Epoch 21/300\n",
            "281/281 [==============================] - 4s 13ms/step - loss: 2.2128 - accuracy: 0.5591 - val_loss: 2.2205 - val_accuracy: 0.5579\n",
            "Epoch 22/300\n",
            "281/281 [==============================] - 3s 12ms/step - loss: 2.1759 - accuracy: 0.5672 - val_loss: 2.1825 - val_accuracy: 0.5619\n",
            "Epoch 23/300\n",
            "281/281 [==============================] - 3s 12ms/step - loss: 2.1324 - accuracy: 0.5715 - val_loss: 2.1468 - val_accuracy: 0.5695\n",
            "Epoch 24/300\n",
            "281/281 [==============================] - 3s 12ms/step - loss: 2.0886 - accuracy: 0.5793 - val_loss: 2.1130 - val_accuracy: 0.5761\n",
            "Epoch 25/300\n",
            "281/281 [==============================] - 3s 12ms/step - loss: 2.0547 - accuracy: 0.5868 - val_loss: 2.0815 - val_accuracy: 0.5819\n",
            "Epoch 26/300\n",
            "281/281 [==============================] - 3s 12ms/step - loss: 2.0276 - accuracy: 0.5917 - val_loss: 2.0516 - val_accuracy: 0.5850\n",
            "Epoch 27/300\n",
            "281/281 [==============================] - 3s 12ms/step - loss: 1.9955 - accuracy: 0.5930 - val_loss: 2.0235 - val_accuracy: 0.5882\n",
            "Epoch 28/300\n",
            "281/281 [==============================] - 3s 12ms/step - loss: 1.9639 - accuracy: 0.5999 - val_loss: 1.9966 - val_accuracy: 0.5948\n",
            "Epoch 29/300\n",
            "281/281 [==============================] - 3s 12ms/step - loss: 1.9311 - accuracy: 0.6094 - val_loss: 1.9713 - val_accuracy: 0.5980\n",
            "Epoch 30/300\n",
            "281/281 [==============================] - 3s 12ms/step - loss: 1.9031 - accuracy: 0.6090 - val_loss: 1.9472 - val_accuracy: 0.6042\n",
            "Epoch 31/300\n",
            "281/281 [==============================] - 3s 12ms/step - loss: 1.8812 - accuracy: 0.6167 - val_loss: 1.9243 - val_accuracy: 0.6073\n",
            "Epoch 32/300\n",
            "281/281 [==============================] - 4s 13ms/step - loss: 1.8607 - accuracy: 0.6157 - val_loss: 1.9025 - val_accuracy: 0.6100\n",
            "Epoch 33/300\n",
            "281/281 [==============================] - 3s 12ms/step - loss: 1.8346 - accuracy: 0.6248 - val_loss: 1.8817 - val_accuracy: 0.6118\n",
            "Epoch 34/300\n",
            "281/281 [==============================] - 3s 12ms/step - loss: 1.8121 - accuracy: 0.6228 - val_loss: 1.8618 - val_accuracy: 0.6144\n",
            "Epoch 35/300\n",
            "281/281 [==============================] - 4s 13ms/step - loss: 1.7882 - accuracy: 0.6330 - val_loss: 1.8429 - val_accuracy: 0.6175\n",
            "Epoch 36/300\n",
            "281/281 [==============================] - 3s 12ms/step - loss: 1.7661 - accuracy: 0.6359 - val_loss: 1.8249 - val_accuracy: 0.6193\n",
            "Epoch 37/300\n",
            "281/281 [==============================] - 3s 12ms/step - loss: 1.7497 - accuracy: 0.6372 - val_loss: 1.8075 - val_accuracy: 0.6211\n",
            "Epoch 38/300\n",
            "281/281 [==============================] - 3s 12ms/step - loss: 1.7264 - accuracy: 0.6394 - val_loss: 1.7909 - val_accuracy: 0.6229\n",
            "Epoch 39/300\n",
            "281/281 [==============================] - 3s 12ms/step - loss: 1.7134 - accuracy: 0.6435 - val_loss: 1.7748 - val_accuracy: 0.6251\n",
            "Epoch 40/300\n",
            "281/281 [==============================] - 3s 12ms/step - loss: 1.6941 - accuracy: 0.6452 - val_loss: 1.7595 - val_accuracy: 0.6291\n",
            "Epoch 41/300\n",
            "281/281 [==============================] - 3s 12ms/step - loss: 1.6736 - accuracy: 0.6515 - val_loss: 1.7447 - val_accuracy: 0.6331\n",
            "Epoch 42/300\n",
            "281/281 [==============================] - 3s 12ms/step - loss: 1.6512 - accuracy: 0.6533 - val_loss: 1.7305 - val_accuracy: 0.6340\n",
            "Epoch 43/300\n",
            "281/281 [==============================] - 3s 12ms/step - loss: 1.6441 - accuracy: 0.6556 - val_loss: 1.7167 - val_accuracy: 0.6367\n",
            "Epoch 44/300\n",
            "281/281 [==============================] - 3s 12ms/step - loss: 1.6307 - accuracy: 0.6558 - val_loss: 1.7035 - val_accuracy: 0.6398\n",
            "Epoch 45/300\n",
            "281/281 [==============================] - 3s 12ms/step - loss: 1.6081 - accuracy: 0.6609 - val_loss: 1.6907 - val_accuracy: 0.6416\n",
            "Epoch 46/300\n",
            "281/281 [==============================] - 3s 12ms/step - loss: 1.5916 - accuracy: 0.6622 - val_loss: 1.6784 - val_accuracy: 0.6447\n",
            "Epoch 47/300\n",
            "281/281 [==============================] - 3s 12ms/step - loss: 1.5757 - accuracy: 0.6666 - val_loss: 1.6664 - val_accuracy: 0.6478\n",
            "Epoch 48/300\n",
            "281/281 [==============================] - 3s 12ms/step - loss: 1.5649 - accuracy: 0.6707 - val_loss: 1.6548 - val_accuracy: 0.6500\n",
            "Epoch 49/300\n",
            "281/281 [==============================] - 3s 12ms/step - loss: 1.5504 - accuracy: 0.6715 - val_loss: 1.6436 - val_accuracy: 0.6518\n",
            "Epoch 50/300\n",
            "281/281 [==============================] - 3s 12ms/step - loss: 1.5394 - accuracy: 0.6751 - val_loss: 1.6328 - val_accuracy: 0.6523\n",
            "Epoch 51/300\n",
            "281/281 [==============================] - 3s 12ms/step - loss: 1.5221 - accuracy: 0.6777 - val_loss: 1.6223 - val_accuracy: 0.6554\n",
            "Epoch 52/300\n",
            "281/281 [==============================] - 3s 12ms/step - loss: 1.5142 - accuracy: 0.6789 - val_loss: 1.6121 - val_accuracy: 0.6589\n",
            "Epoch 53/300\n",
            "281/281 [==============================] - 3s 12ms/step - loss: 1.4987 - accuracy: 0.6820 - val_loss: 1.6022 - val_accuracy: 0.6603\n",
            "Epoch 54/300\n",
            "281/281 [==============================] - 3s 12ms/step - loss: 1.4844 - accuracy: 0.6831 - val_loss: 1.5926 - val_accuracy: 0.6612\n",
            "Epoch 55/300\n",
            "281/281 [==============================] - 3s 12ms/step - loss: 1.4729 - accuracy: 0.6888 - val_loss: 1.5831 - val_accuracy: 0.6621\n",
            "Epoch 56/300\n",
            "281/281 [==============================] - 3s 12ms/step - loss: 1.4674 - accuracy: 0.6915 - val_loss: 1.5740 - val_accuracy: 0.6652\n",
            "Epoch 57/300\n",
            "281/281 [==============================] - 3s 12ms/step - loss: 1.4567 - accuracy: 0.6939 - val_loss: 1.5652 - val_accuracy: 0.6670\n",
            "Epoch 58/300\n",
            "281/281 [==============================] - 3s 12ms/step - loss: 1.4355 - accuracy: 0.6951 - val_loss: 1.5565 - val_accuracy: 0.6687\n",
            "Epoch 59/300\n",
            "281/281 [==============================] - 3s 12ms/step - loss: 1.4354 - accuracy: 0.6974 - val_loss: 1.5481 - val_accuracy: 0.6705\n",
            "Epoch 60/300\n",
            "281/281 [==============================] - 3s 12ms/step - loss: 1.4204 - accuracy: 0.6996 - val_loss: 1.5399 - val_accuracy: 0.6719\n",
            "Epoch 61/300\n",
            "281/281 [==============================] - 3s 12ms/step - loss: 1.4055 - accuracy: 0.7022 - val_loss: 1.5320 - val_accuracy: 0.6714\n",
            "Epoch 62/300\n",
            "281/281 [==============================] - 3s 12ms/step - loss: 1.4023 - accuracy: 0.7021 - val_loss: 1.5243 - val_accuracy: 0.6728\n",
            "Epoch 63/300\n",
            "281/281 [==============================] - 3s 12ms/step - loss: 1.3889 - accuracy: 0.7042 - val_loss: 1.5167 - val_accuracy: 0.6745\n",
            "Epoch 64/300\n",
            "281/281 [==============================] - 3s 12ms/step - loss: 1.3835 - accuracy: 0.7091 - val_loss: 1.5093 - val_accuracy: 0.6759\n",
            "Epoch 65/300\n",
            "281/281 [==============================] - 3s 12ms/step - loss: 1.3681 - accuracy: 0.7125 - val_loss: 1.5019 - val_accuracy: 0.6772\n",
            "Epoch 66/300\n",
            "281/281 [==============================] - 3s 12ms/step - loss: 1.3592 - accuracy: 0.7131 - val_loss: 1.4948 - val_accuracy: 0.6781\n",
            "Epoch 67/300\n",
            "281/281 [==============================] - 3s 12ms/step - loss: 1.3504 - accuracy: 0.7122 - val_loss: 1.4879 - val_accuracy: 0.6799\n",
            "Epoch 68/300\n",
            "281/281 [==============================] - 3s 12ms/step - loss: 1.3441 - accuracy: 0.7167 - val_loss: 1.4811 - val_accuracy: 0.6821\n",
            "Epoch 69/300\n",
            "281/281 [==============================] - 3s 12ms/step - loss: 1.3359 - accuracy: 0.7153 - val_loss: 1.4744 - val_accuracy: 0.6839\n",
            "Epoch 70/300\n",
            "281/281 [==============================] - 3s 12ms/step - loss: 1.3286 - accuracy: 0.7185 - val_loss: 1.4679 - val_accuracy: 0.6843\n",
            "Epoch 71/300\n",
            "281/281 [==============================] - 3s 12ms/step - loss: 1.3210 - accuracy: 0.7237 - val_loss: 1.4616 - val_accuracy: 0.6852\n",
            "Epoch 72/300\n",
            "281/281 [==============================] - 3s 12ms/step - loss: 1.3076 - accuracy: 0.7230 - val_loss: 1.4554 - val_accuracy: 0.6883\n",
            "Epoch 73/300\n",
            "281/281 [==============================] - 3s 12ms/step - loss: 1.3050 - accuracy: 0.7249 - val_loss: 1.4493 - val_accuracy: 0.6910\n",
            "Epoch 74/300\n",
            "281/281 [==============================] - 3s 12ms/step - loss: 1.2962 - accuracy: 0.7257 - val_loss: 1.4433 - val_accuracy: 0.6923\n",
            "Epoch 75/300\n",
            "281/281 [==============================] - 3s 12ms/step - loss: 1.2865 - accuracy: 0.7309 - val_loss: 1.4375 - val_accuracy: 0.6937\n",
            "Epoch 76/300\n",
            "281/281 [==============================] - 3s 12ms/step - loss: 1.2787 - accuracy: 0.7293 - val_loss: 1.4317 - val_accuracy: 0.6955\n",
            "Epoch 77/300\n",
            "281/281 [==============================] - 3s 12ms/step - loss: 1.2708 - accuracy: 0.7352 - val_loss: 1.4260 - val_accuracy: 0.6986\n",
            "Epoch 78/300\n",
            "281/281 [==============================] - 3s 12ms/step - loss: 1.2665 - accuracy: 0.7325 - val_loss: 1.4205 - val_accuracy: 0.6999\n",
            "Epoch 79/300\n",
            "281/281 [==============================] - 3s 12ms/step - loss: 1.2539 - accuracy: 0.7377 - val_loss: 1.4151 - val_accuracy: 0.7008\n",
            "Epoch 80/300\n",
            "281/281 [==============================] - 3s 12ms/step - loss: 1.2516 - accuracy: 0.7357 - val_loss: 1.4098 - val_accuracy: 0.7012\n",
            "Epoch 81/300\n",
            "281/281 [==============================] - 3s 12ms/step - loss: 1.2453 - accuracy: 0.7393 - val_loss: 1.4046 - val_accuracy: 0.7044\n",
            "Epoch 82/300\n",
            "281/281 [==============================] - 3s 12ms/step - loss: 1.2364 - accuracy: 0.7415 - val_loss: 1.3994 - val_accuracy: 0.7053\n",
            "Epoch 83/300\n",
            "281/281 [==============================] - 3s 12ms/step - loss: 1.2319 - accuracy: 0.7406 - val_loss: 1.3944 - val_accuracy: 0.7061\n",
            "Epoch 84/300\n",
            "281/281 [==============================] - 3s 12ms/step - loss: 1.2197 - accuracy: 0.7437 - val_loss: 1.3894 - val_accuracy: 0.7070\n",
            "Epoch 85/300\n",
            "281/281 [==============================] - 3s 12ms/step - loss: 1.2164 - accuracy: 0.7453 - val_loss: 1.3846 - val_accuracy: 0.7093\n",
            "Epoch 86/300\n",
            "281/281 [==============================] - 3s 12ms/step - loss: 1.2114 - accuracy: 0.7466 - val_loss: 1.3798 - val_accuracy: 0.7102\n",
            "Epoch 87/300\n",
            "281/281 [==============================] - 3s 12ms/step - loss: 1.2062 - accuracy: 0.7474 - val_loss: 1.3751 - val_accuracy: 0.7106\n",
            "Epoch 88/300\n",
            "281/281 [==============================] - 3s 12ms/step - loss: 1.1998 - accuracy: 0.7494 - val_loss: 1.3705 - val_accuracy: 0.7119\n",
            "Epoch 89/300\n",
            "281/281 [==============================] - 3s 12ms/step - loss: 1.1837 - accuracy: 0.7548 - val_loss: 1.3659 - val_accuracy: 0.7119\n",
            "Epoch 90/300\n",
            "281/281 [==============================] - 3s 12ms/step - loss: 1.1830 - accuracy: 0.7521 - val_loss: 1.3614 - val_accuracy: 0.7137\n",
            "Epoch 91/300\n",
            "281/281 [==============================] - 3s 12ms/step - loss: 1.1732 - accuracy: 0.7578 - val_loss: 1.3569 - val_accuracy: 0.7146\n",
            "Epoch 92/300\n",
            "281/281 [==============================] - 3s 12ms/step - loss: 1.1720 - accuracy: 0.7573 - val_loss: 1.3526 - val_accuracy: 0.7168\n",
            "Epoch 93/300\n",
            "281/281 [==============================] - 3s 12ms/step - loss: 1.1626 - accuracy: 0.7571 - val_loss: 1.3482 - val_accuracy: 0.7186\n",
            "Epoch 94/300\n",
            "281/281 [==============================] - 3s 12ms/step - loss: 1.1558 - accuracy: 0.7572 - val_loss: 1.3440 - val_accuracy: 0.7186\n",
            "Epoch 95/300\n",
            "281/281 [==============================] - 3s 12ms/step - loss: 1.1560 - accuracy: 0.7572 - val_loss: 1.3398 - val_accuracy: 0.7195\n",
            "Epoch 96/300\n",
            "281/281 [==============================] - 3s 12ms/step - loss: 1.1442 - accuracy: 0.7635 - val_loss: 1.3357 - val_accuracy: 0.7204\n",
            "Epoch 97/300\n",
            "281/281 [==============================] - 3s 12ms/step - loss: 1.1437 - accuracy: 0.7607 - val_loss: 1.3316 - val_accuracy: 0.7204\n",
            "Epoch 98/300\n",
            "281/281 [==============================] - 3s 12ms/step - loss: 1.1365 - accuracy: 0.7646 - val_loss: 1.3277 - val_accuracy: 0.7226\n",
            "Epoch 99/300\n",
            "281/281 [==============================] - 4s 13ms/step - loss: 1.1267 - accuracy: 0.7695 - val_loss: 1.3237 - val_accuracy: 0.7231\n",
            "Epoch 100/300\n",
            "281/281 [==============================] - 3s 12ms/step - loss: 1.1225 - accuracy: 0.7673 - val_loss: 1.3198 - val_accuracy: 0.7244\n",
            "Epoch 101/300\n",
            "281/281 [==============================] - 3s 12ms/step - loss: 1.1183 - accuracy: 0.7685 - val_loss: 1.3159 - val_accuracy: 0.7266\n",
            "Epoch 102/300\n",
            "281/281 [==============================] - 3s 12ms/step - loss: 1.1116 - accuracy: 0.7686 - val_loss: 1.3121 - val_accuracy: 0.7271\n",
            "Epoch 103/300\n",
            "281/281 [==============================] - 3s 12ms/step - loss: 1.1033 - accuracy: 0.7708 - val_loss: 1.3084 - val_accuracy: 0.7275\n",
            "Epoch 104/300\n",
            "281/281 [==============================] - 3s 12ms/step - loss: 1.0996 - accuracy: 0.7721 - val_loss: 1.3047 - val_accuracy: 0.7289\n",
            "Epoch 105/300\n",
            "281/281 [==============================] - 3s 12ms/step - loss: 1.1002 - accuracy: 0.7695 - val_loss: 1.3011 - val_accuracy: 0.7302\n",
            "Epoch 106/300\n",
            "281/281 [==============================] - 3s 12ms/step - loss: 1.0925 - accuracy: 0.7743 - val_loss: 1.2975 - val_accuracy: 0.7324\n",
            "Epoch 107/300\n",
            "281/281 [==============================] - 3s 12ms/step - loss: 1.0927 - accuracy: 0.7748 - val_loss: 1.2940 - val_accuracy: 0.7324\n",
            "Epoch 108/300\n",
            "281/281 [==============================] - 3s 12ms/step - loss: 1.0802 - accuracy: 0.7718 - val_loss: 1.2904 - val_accuracy: 0.7337\n",
            "Epoch 109/300\n",
            "281/281 [==============================] - 3s 12ms/step - loss: 1.0855 - accuracy: 0.7738 - val_loss: 1.2870 - val_accuracy: 0.7360\n",
            "Epoch 110/300\n",
            "281/281 [==============================] - 3s 12ms/step - loss: 1.0702 - accuracy: 0.7763 - val_loss: 1.2836 - val_accuracy: 0.7355\n",
            "Epoch 111/300\n",
            "281/281 [==============================] - 3s 12ms/step - loss: 1.0693 - accuracy: 0.7791 - val_loss: 1.2802 - val_accuracy: 0.7364\n",
            "Epoch 112/300\n",
            "281/281 [==============================] - 3s 12ms/step - loss: 1.0691 - accuracy: 0.7780 - val_loss: 1.2769 - val_accuracy: 0.7395\n",
            "Epoch 113/300\n",
            "281/281 [==============================] - 3s 12ms/step - loss: 1.0626 - accuracy: 0.7788 - val_loss: 1.2735 - val_accuracy: 0.7409\n",
            "Epoch 114/300\n",
            "281/281 [==============================] - 3s 12ms/step - loss: 1.0603 - accuracy: 0.7820 - val_loss: 1.2702 - val_accuracy: 0.7413\n",
            "Epoch 115/300\n",
            "281/281 [==============================] - 3s 12ms/step - loss: 1.0474 - accuracy: 0.7826 - val_loss: 1.2671 - val_accuracy: 0.7427\n",
            "Epoch 116/300\n",
            "281/281 [==============================] - 3s 12ms/step - loss: 1.0462 - accuracy: 0.7849 - val_loss: 1.2639 - val_accuracy: 0.7427\n",
            "Epoch 117/300\n",
            "281/281 [==============================] - 3s 12ms/step - loss: 1.0402 - accuracy: 0.7866 - val_loss: 1.2608 - val_accuracy: 0.7435\n",
            "Epoch 118/300\n",
            "281/281 [==============================] - 3s 12ms/step - loss: 1.0329 - accuracy: 0.7876 - val_loss: 1.2577 - val_accuracy: 0.7435\n",
            "Epoch 119/300\n",
            "281/281 [==============================] - 3s 12ms/step - loss: 1.0289 - accuracy: 0.7864 - val_loss: 1.2546 - val_accuracy: 0.7440\n",
            "Epoch 120/300\n",
            "281/281 [==============================] - 3s 12ms/step - loss: 1.0261 - accuracy: 0.7896 - val_loss: 1.2515 - val_accuracy: 0.7440\n",
            "Epoch 121/300\n",
            "281/281 [==============================] - 3s 12ms/step - loss: 1.0186 - accuracy: 0.7890 - val_loss: 1.2485 - val_accuracy: 0.7444\n",
            "Epoch 122/300\n",
            "281/281 [==============================] - 4s 13ms/step - loss: 1.0125 - accuracy: 0.7901 - val_loss: 1.2456 - val_accuracy: 0.7449\n",
            "Epoch 123/300\n",
            "281/281 [==============================] - 3s 12ms/step - loss: 1.0133 - accuracy: 0.7894 - val_loss: 1.2426 - val_accuracy: 0.7449\n",
            "Epoch 124/300\n",
            "281/281 [==============================] - 3s 12ms/step - loss: 1.0080 - accuracy: 0.7904 - val_loss: 1.2398 - val_accuracy: 0.7476\n",
            "Epoch 125/300\n",
            "281/281 [==============================] - 4s 13ms/step - loss: 1.0030 - accuracy: 0.7935 - val_loss: 1.2369 - val_accuracy: 0.7493\n",
            "Epoch 126/300\n",
            "281/281 [==============================] - 3s 12ms/step - loss: 0.9995 - accuracy: 0.7934 - val_loss: 1.2341 - val_accuracy: 0.7498\n",
            "Epoch 127/300\n",
            "281/281 [==============================] - 3s 12ms/step - loss: 0.9947 - accuracy: 0.7953 - val_loss: 1.2313 - val_accuracy: 0.7511\n",
            "Epoch 128/300\n",
            "281/281 [==============================] - 3s 12ms/step - loss: 0.9937 - accuracy: 0.7954 - val_loss: 1.2285 - val_accuracy: 0.7516\n",
            "Epoch 129/300\n",
            "281/281 [==============================] - 3s 12ms/step - loss: 0.9868 - accuracy: 0.7971 - val_loss: 1.2258 - val_accuracy: 0.7516\n",
            "Epoch 130/300\n",
            "281/281 [==============================] - 3s 12ms/step - loss: 0.9792 - accuracy: 0.7986 - val_loss: 1.2230 - val_accuracy: 0.7507\n",
            "Epoch 131/300\n",
            "281/281 [==============================] - 3s 12ms/step - loss: 0.9774 - accuracy: 0.8004 - val_loss: 1.2203 - val_accuracy: 0.7520\n",
            "Epoch 132/300\n",
            "281/281 [==============================] - 3s 12ms/step - loss: 0.9769 - accuracy: 0.7992 - val_loss: 1.2176 - val_accuracy: 0.7520\n",
            "Epoch 133/300\n",
            "281/281 [==============================] - 3s 12ms/step - loss: 0.9729 - accuracy: 0.7987 - val_loss: 1.2149 - val_accuracy: 0.7516\n",
            "Epoch 134/300\n",
            "281/281 [==============================] - 3s 12ms/step - loss: 0.9704 - accuracy: 0.7996 - val_loss: 1.2123 - val_accuracy: 0.7529\n",
            "Epoch 135/300\n",
            "281/281 [==============================] - 3s 12ms/step - loss: 0.9644 - accuracy: 0.8037 - val_loss: 1.2097 - val_accuracy: 0.7533\n",
            "Epoch 136/300\n",
            "281/281 [==============================] - 3s 12ms/step - loss: 0.9563 - accuracy: 0.8047 - val_loss: 1.2072 - val_accuracy: 0.7542\n",
            "Epoch 137/300\n",
            "281/281 [==============================] - 3s 12ms/step - loss: 0.9606 - accuracy: 0.8004 - val_loss: 1.2046 - val_accuracy: 0.7556\n",
            "Epoch 138/300\n",
            "281/281 [==============================] - 3s 12ms/step - loss: 0.9515 - accuracy: 0.8051 - val_loss: 1.2021 - val_accuracy: 0.7556\n",
            "Epoch 139/300\n",
            "281/281 [==============================] - 3s 12ms/step - loss: 0.9516 - accuracy: 0.8073 - val_loss: 1.1996 - val_accuracy: 0.7565\n",
            "Epoch 140/300\n",
            "281/281 [==============================] - 3s 12ms/step - loss: 0.9404 - accuracy: 0.8051 - val_loss: 1.1970 - val_accuracy: 0.7565\n",
            "Epoch 141/300\n",
            "281/281 [==============================] - 3s 12ms/step - loss: 0.9436 - accuracy: 0.8066 - val_loss: 1.1945 - val_accuracy: 0.7569\n",
            "Epoch 142/300\n",
            "281/281 [==============================] - 3s 12ms/step - loss: 0.9369 - accuracy: 0.8076 - val_loss: 1.1921 - val_accuracy: 0.7569\n",
            "Epoch 143/300\n",
            "281/281 [==============================] - 3s 12ms/step - loss: 0.9321 - accuracy: 0.8097 - val_loss: 1.1897 - val_accuracy: 0.7573\n",
            "Epoch 144/300\n",
            "281/281 [==============================] - 3s 12ms/step - loss: 0.9287 - accuracy: 0.8096 - val_loss: 1.1873 - val_accuracy: 0.7573\n",
            "Epoch 145/300\n",
            "281/281 [==============================] - 3s 12ms/step - loss: 0.9272 - accuracy: 0.8117 - val_loss: 1.1849 - val_accuracy: 0.7578\n",
            "Epoch 146/300\n",
            "281/281 [==============================] - 3s 12ms/step - loss: 0.9193 - accuracy: 0.8110 - val_loss: 1.1826 - val_accuracy: 0.7587\n",
            "Epoch 147/300\n",
            "281/281 [==============================] - 3s 12ms/step - loss: 0.9222 - accuracy: 0.8118 - val_loss: 1.1802 - val_accuracy: 0.7591\n",
            "Epoch 148/300\n",
            "281/281 [==============================] - 3s 12ms/step - loss: 0.9164 - accuracy: 0.8104 - val_loss: 1.1779 - val_accuracy: 0.7596\n",
            "Epoch 149/300\n",
            "281/281 [==============================] - 3s 12ms/step - loss: 0.9154 - accuracy: 0.8134 - val_loss: 1.1756 - val_accuracy: 0.7605\n",
            "Epoch 150/300\n",
            "281/281 [==============================] - 3s 12ms/step - loss: 0.9084 - accuracy: 0.8157 - val_loss: 1.1734 - val_accuracy: 0.7609\n",
            "Epoch 151/300\n",
            "281/281 [==============================] - 3s 12ms/step - loss: 0.9018 - accuracy: 0.8133 - val_loss: 1.1711 - val_accuracy: 0.7614\n",
            "Epoch 152/300\n",
            "281/281 [==============================] - 3s 12ms/step - loss: 0.9010 - accuracy: 0.8161 - val_loss: 1.1689 - val_accuracy: 0.7627\n",
            "Epoch 153/300\n",
            "281/281 [==============================] - 4s 13ms/step - loss: 0.8972 - accuracy: 0.8165 - val_loss: 1.1666 - val_accuracy: 0.7622\n",
            "Epoch 154/300\n",
            "281/281 [==============================] - 3s 12ms/step - loss: 0.8964 - accuracy: 0.8187 - val_loss: 1.1644 - val_accuracy: 0.7627\n",
            "Epoch 155/300\n",
            "281/281 [==============================] - 3s 12ms/step - loss: 0.8929 - accuracy: 0.8166 - val_loss: 1.1622 - val_accuracy: 0.7640\n",
            "Epoch 156/300\n",
            "281/281 [==============================] - 3s 12ms/step - loss: 0.8860 - accuracy: 0.8159 - val_loss: 1.1600 - val_accuracy: 0.7649\n",
            "Epoch 157/300\n",
            "281/281 [==============================] - 3s 12ms/step - loss: 0.8836 - accuracy: 0.8203 - val_loss: 1.1578 - val_accuracy: 0.7649\n",
            "Epoch 158/300\n",
            "281/281 [==============================] - 3s 12ms/step - loss: 0.8767 - accuracy: 0.8206 - val_loss: 1.1557 - val_accuracy: 0.7671\n",
            "Epoch 159/300\n",
            "281/281 [==============================] - 3s 12ms/step - loss: 0.8785 - accuracy: 0.8203 - val_loss: 1.1535 - val_accuracy: 0.7680\n",
            "Epoch 160/300\n",
            "281/281 [==============================] - 3s 12ms/step - loss: 0.8774 - accuracy: 0.8203 - val_loss: 1.1515 - val_accuracy: 0.7680\n",
            "Epoch 161/300\n",
            "281/281 [==============================] - 3s 12ms/step - loss: 0.8692 - accuracy: 0.8230 - val_loss: 1.1494 - val_accuracy: 0.7680\n",
            "Epoch 162/300\n",
            "281/281 [==============================] - 3s 12ms/step - loss: 0.8682 - accuracy: 0.8233 - val_loss: 1.1473 - val_accuracy: 0.7676\n",
            "Epoch 163/300\n",
            "281/281 [==============================] - 3s 12ms/step - loss: 0.8642 - accuracy: 0.8238 - val_loss: 1.1452 - val_accuracy: 0.7676\n",
            "Epoch 164/300\n",
            "281/281 [==============================] - 3s 12ms/step - loss: 0.8655 - accuracy: 0.8240 - val_loss: 1.1432 - val_accuracy: 0.7689\n",
            "Epoch 165/300\n",
            "281/281 [==============================] - 3s 12ms/step - loss: 0.8600 - accuracy: 0.8243 - val_loss: 1.1412 - val_accuracy: 0.7685\n",
            "Epoch 166/300\n",
            "281/281 [==============================] - 3s 12ms/step - loss: 0.8564 - accuracy: 0.8268 - val_loss: 1.1392 - val_accuracy: 0.7689\n",
            "Epoch 167/300\n",
            "281/281 [==============================] - 3s 12ms/step - loss: 0.8526 - accuracy: 0.8281 - val_loss: 1.1371 - val_accuracy: 0.7698\n",
            "Epoch 168/300\n",
            "281/281 [==============================] - 3s 12ms/step - loss: 0.8490 - accuracy: 0.8283 - val_loss: 1.1352 - val_accuracy: 0.7698\n",
            "Epoch 169/300\n",
            "281/281 [==============================] - 3s 12ms/step - loss: 0.8498 - accuracy: 0.8280 - val_loss: 1.1333 - val_accuracy: 0.7698\n",
            "Epoch 170/300\n",
            "281/281 [==============================] - 3s 12ms/step - loss: 0.8419 - accuracy: 0.8299 - val_loss: 1.1313 - val_accuracy: 0.7707\n",
            "Epoch 171/300\n",
            "281/281 [==============================] - 3s 12ms/step - loss: 0.8398 - accuracy: 0.8302 - val_loss: 1.1293 - val_accuracy: 0.7707\n",
            "Epoch 172/300\n",
            "281/281 [==============================] - 3s 12ms/step - loss: 0.8391 - accuracy: 0.8270 - val_loss: 1.1274 - val_accuracy: 0.7711\n",
            "Epoch 173/300\n",
            "281/281 [==============================] - 4s 13ms/step - loss: 0.8368 - accuracy: 0.8304 - val_loss: 1.1255 - val_accuracy: 0.7720\n",
            "Epoch 174/300\n",
            "281/281 [==============================] - 4s 13ms/step - loss: 0.8333 - accuracy: 0.8310 - val_loss: 1.1236 - val_accuracy: 0.7720\n",
            "Epoch 175/300\n",
            "281/281 [==============================] - 4s 12ms/step - loss: 0.8312 - accuracy: 0.8300 - val_loss: 1.1217 - val_accuracy: 0.7720\n",
            "Epoch 176/300\n",
            "281/281 [==============================] - 3s 12ms/step - loss: 0.8246 - accuracy: 0.8312 - val_loss: 1.1198 - val_accuracy: 0.7729\n",
            "Epoch 177/300\n",
            "281/281 [==============================] - 3s 12ms/step - loss: 0.8285 - accuracy: 0.8303 - val_loss: 1.1180 - val_accuracy: 0.7729\n",
            "Epoch 178/300\n",
            "281/281 [==============================] - 3s 12ms/step - loss: 0.8217 - accuracy: 0.8346 - val_loss: 1.1162 - val_accuracy: 0.7743\n",
            "Epoch 179/300\n",
            "281/281 [==============================] - 3s 12ms/step - loss: 0.8160 - accuracy: 0.8334 - val_loss: 1.1144 - val_accuracy: 0.7734\n",
            "Epoch 180/300\n",
            "281/281 [==============================] - 3s 12ms/step - loss: 0.8106 - accuracy: 0.8346 - val_loss: 1.1126 - val_accuracy: 0.7743\n",
            "Epoch 181/300\n",
            "281/281 [==============================] - 3s 12ms/step - loss: 0.8140 - accuracy: 0.8354 - val_loss: 1.1108 - val_accuracy: 0.7752\n",
            "Epoch 182/300\n",
            "281/281 [==============================] - 3s 12ms/step - loss: 0.8059 - accuracy: 0.8385 - val_loss: 1.1090 - val_accuracy: 0.7756\n",
            "Epoch 183/300\n",
            "281/281 [==============================] - 3s 12ms/step - loss: 0.8031 - accuracy: 0.8387 - val_loss: 1.1072 - val_accuracy: 0.7756\n",
            "Epoch 184/300\n",
            "281/281 [==============================] - 3s 12ms/step - loss: 0.7987 - accuracy: 0.8389 - val_loss: 1.1054 - val_accuracy: 0.7765\n",
            "Epoch 185/300\n",
            "281/281 [==============================] - 3s 12ms/step - loss: 0.7995 - accuracy: 0.8379 - val_loss: 1.1037 - val_accuracy: 0.7765\n",
            "Epoch 186/300\n",
            "281/281 [==============================] - 3s 12ms/step - loss: 0.7993 - accuracy: 0.8390 - val_loss: 1.1020 - val_accuracy: 0.7760\n",
            "Epoch 187/300\n",
            "281/281 [==============================] - 3s 12ms/step - loss: 0.7958 - accuracy: 0.8385 - val_loss: 1.1002 - val_accuracy: 0.7765\n",
            "Epoch 188/300\n",
            "281/281 [==============================] - 3s 12ms/step - loss: 0.7945 - accuracy: 0.8390 - val_loss: 1.0985 - val_accuracy: 0.7765\n",
            "Epoch 189/300\n",
            "281/281 [==============================] - 3s 12ms/step - loss: 0.7887 - accuracy: 0.8372 - val_loss: 1.0968 - val_accuracy: 0.7774\n",
            "Epoch 190/300\n",
            "281/281 [==============================] - 3s 12ms/step - loss: 0.7847 - accuracy: 0.8424 - val_loss: 1.0951 - val_accuracy: 0.7774\n",
            "Epoch 191/300\n",
            "281/281 [==============================] - 3s 12ms/step - loss: 0.7882 - accuracy: 0.8371 - val_loss: 1.0934 - val_accuracy: 0.7774\n",
            "Epoch 192/300\n",
            "281/281 [==============================] - 3s 12ms/step - loss: 0.7852 - accuracy: 0.8399 - val_loss: 1.0917 - val_accuracy: 0.7778\n",
            "Epoch 193/300\n",
            "281/281 [==============================] - 3s 12ms/step - loss: 0.7832 - accuracy: 0.8442 - val_loss: 1.0901 - val_accuracy: 0.7778\n",
            "Epoch 194/300\n",
            "281/281 [==============================] - 3s 12ms/step - loss: 0.7801 - accuracy: 0.8447 - val_loss: 1.0885 - val_accuracy: 0.7778\n",
            "Epoch 195/300\n",
            "281/281 [==============================] - 3s 12ms/step - loss: 0.7710 - accuracy: 0.8461 - val_loss: 1.0868 - val_accuracy: 0.7783\n",
            "Epoch 196/300\n",
            "281/281 [==============================] - 3s 12ms/step - loss: 0.7677 - accuracy: 0.8460 - val_loss: 1.0852 - val_accuracy: 0.7792\n",
            "Epoch 197/300\n",
            "281/281 [==============================] - 3s 12ms/step - loss: 0.7634 - accuracy: 0.8454 - val_loss: 1.0836 - val_accuracy: 0.7792\n",
            "Epoch 198/300\n",
            "281/281 [==============================] - 3s 12ms/step - loss: 0.7662 - accuracy: 0.8459 - val_loss: 1.0821 - val_accuracy: 0.7796\n",
            "Epoch 199/300\n",
            "281/281 [==============================] - 3s 12ms/step - loss: 0.7591 - accuracy: 0.8486 - val_loss: 1.0805 - val_accuracy: 0.7801\n",
            "Epoch 200/300\n",
            "281/281 [==============================] - 3s 12ms/step - loss: 0.7657 - accuracy: 0.8451 - val_loss: 1.0789 - val_accuracy: 0.7805\n",
            "Epoch 201/300\n",
            "281/281 [==============================] - 3s 12ms/step - loss: 0.7511 - accuracy: 0.8499 - val_loss: 1.0773 - val_accuracy: 0.7809\n",
            "Epoch 202/300\n",
            "281/281 [==============================] - 3s 12ms/step - loss: 0.7577 - accuracy: 0.8498 - val_loss: 1.0758 - val_accuracy: 0.7814\n",
            "Epoch 203/300\n",
            "281/281 [==============================] - 3s 12ms/step - loss: 0.7533 - accuracy: 0.8476 - val_loss: 1.0742 - val_accuracy: 0.7814\n",
            "Epoch 204/300\n",
            "281/281 [==============================] - 3s 12ms/step - loss: 0.7513 - accuracy: 0.8480 - val_loss: 1.0727 - val_accuracy: 0.7823\n",
            "Epoch 205/300\n",
            "281/281 [==============================] - 3s 12ms/step - loss: 0.7450 - accuracy: 0.8499 - val_loss: 1.0712 - val_accuracy: 0.7823\n",
            "Epoch 206/300\n",
            "281/281 [==============================] - 3s 12ms/step - loss: 0.7470 - accuracy: 0.8476 - val_loss: 1.0697 - val_accuracy: 0.7823\n",
            "Epoch 207/300\n",
            "281/281 [==============================] - 3s 12ms/step - loss: 0.7435 - accuracy: 0.8508 - val_loss: 1.0682 - val_accuracy: 0.7818\n",
            "Epoch 208/300\n",
            "281/281 [==============================] - 3s 12ms/step - loss: 0.7387 - accuracy: 0.8532 - val_loss: 1.0667 - val_accuracy: 0.7823\n",
            "Epoch 209/300\n",
            "281/281 [==============================] - 3s 12ms/step - loss: 0.7399 - accuracy: 0.8532 - val_loss: 1.0652 - val_accuracy: 0.7823\n",
            "Epoch 210/300\n",
            "281/281 [==============================] - 3s 12ms/step - loss: 0.7343 - accuracy: 0.8539 - val_loss: 1.0638 - val_accuracy: 0.7823\n",
            "Epoch 211/300\n",
            "281/281 [==============================] - 3s 12ms/step - loss: 0.7279 - accuracy: 0.8555 - val_loss: 1.0624 - val_accuracy: 0.7823\n",
            "Epoch 212/300\n",
            "281/281 [==============================] - 3s 12ms/step - loss: 0.7267 - accuracy: 0.8537 - val_loss: 1.0609 - val_accuracy: 0.7823\n"
          ]
        }
      ]
    },
    {
      "cell_type": "code",
      "source": [
        "acc      = history.history['accuracy']\n",
        "val_acc  = history.history['val_accuracy']\n",
        "\n",
        "epochs   = range(len(acc))\n",
        "\n",
        "plt.plot(epochs, acc, 'r', label = 'Training')\n",
        "plt.plot(epochs, val_acc, 'b', label = 'Validation')\n",
        "plt.title('Training and Validation Accuracy')\n",
        "plt.legend()\n",
        "plt.figure()\n",
        "\n",
        "loss     = history.history['loss']\n",
        "val_loss = history.history['val_loss']\n",
        "\n",
        "epochs   = range(len(loss))\n",
        "\n",
        "plt.plot(epochs, loss, 'r', label = 'Training')\n",
        "plt.plot(epochs, val_loss, 'b', label = 'Validation')\n",
        "plt.title('Training and Validation Loss')\n",
        "plt.legend()\n",
        "plt.figure()"
      ],
      "metadata": {
        "colab": {
          "base_uri": "https://localhost:8080/",
          "height": 580
        },
        "id": "msgasYAtxrxK",
        "outputId": "fbc1f589-7a6c-442b-8cba-01e7a0ae5bcb"
      },
      "execution_count": null,
      "outputs": [
        {
          "output_type": "execute_result",
          "data": {
            "text/plain": [
              "<Figure size 432x288 with 0 Axes>"
            ]
          },
          "metadata": {},
          "execution_count": 146
        },
        {
          "output_type": "display_data",
          "data": {
            "image/png": "[encoded data removed]",
            "text/plain": [
              "<Figure size 432x288 with 1 Axes>"
            ]
          },
          "metadata": {
            "needs_background": "light"
          }
        },
        {
          "output_type": "display_data",
          "data": {
            "image/png": "[encoded data removed]",
            "text/plain": [
              "<Figure size 432x288 with 1 Axes>"
            ]
          },
          "metadata": {
            "needs_background": "light"
          }
        },
        {
          "output_type": "display_data",
          "data": {
            "text/plain": [
              "<Figure size 432x288 with 0 Axes>"
            ]
          },
          "metadata": {}
        }
      ]
    }
  ]
}