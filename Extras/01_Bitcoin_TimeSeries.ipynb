{
  "nbformat": 4,
  "nbformat_minor": 0,
  "metadata": {
    "colab": {
      "name": "01_Bitcoin_TimeSeries.ipynb",
      "provenance": [],
      "toc_visible": true
    },
    "kernelspec": {
      "name": "python3",
      "display_name": "Python 3"
    },
    "language_info": {
      "name": "python"
    },
    "accelerator": "GPU"
  },
  "cells": [
    {
      "cell_type": "code",
      "metadata": {
        "colab": {
          "base_uri": "https://localhost:8080/"
        },
        "id": "6yi-G1ABrbIj",
        "outputId": "7ed15d2e-2490-4780-93ff-b8f1f455cee5"
      },
      "source": [
        "!wget https://raw.githubusercontent.com/mrdbourke/tensorflow-deep-learning/main/extras/BTC_USD_2013-10-01_2021-05-18-CoinDesk.csv"
      ],
      "execution_count": 1,
      "outputs": [
        {
          "output_type": "stream",
          "name": "stdout",
          "text": [
            "--2021-11-28 07:53:02--  https://raw.githubusercontent.com/mrdbourke/tensorflow-deep-learning/main/extras/BTC_USD_2013-10-01_2021-05-18-CoinDesk.csv\n",
            "Resolving raw.githubusercontent.com (raw.githubusercontent.com)... 185.199.108.133, 185.199.109.133, 185.199.110.133, ...\n",
            "Connecting to raw.githubusercontent.com (raw.githubusercontent.com)|185.199.108.133|:443... connected.\n",
            "HTTP request sent, awaiting response... 200 OK\n",
            "Length: 178509 (174K) [text/plain]\n",
            "Saving to: ‘BTC_USD_2013-10-01_2021-05-18-CoinDesk.csv’\n",
            "\n",
            "\r          BTC_USD_2   0%[                    ]       0  --.-KB/s               \rBTC_USD_2013-10-01_ 100%[===================>] 174.33K  --.-KB/s    in 0.02s   \n",
            "\n",
            "2021-11-28 07:53:02 (7.39 MB/s) - ‘BTC_USD_2013-10-01_2021-05-18-CoinDesk.csv’ saved [178509/178509]\n",
            "\n"
          ]
        }
      ]
    },
    {
      "cell_type": "code",
      "metadata": {
        "colab": {
          "base_uri": "https://localhost:8080/"
        },
        "id": "Mx_mKBExrrgA",
        "outputId": "6e24898a-8136-4656-ffae-f6042a0996e8"
      },
      "source": [
        "import tensorflow as tf\n",
        "from tensorflow.keras import layers\n",
        "from tensorflow.keras.models import Sequential\n",
        "from tensorflow.keras.callbacks import EarlyStopping, ReduceLROnPlateau, ModelCheckpoint, LearningRateScheduler\n",
        "import numpy as np\n",
        "import pandas as pd\n",
        "import matplotlib.pyplot as plt\n",
        "print(tf.__version__)"
      ],
      "execution_count": 2,
      "outputs": [
        {
          "output_type": "stream",
          "name": "stdout",
          "text": [
            "2.7.0\n"
          ]
        }
      ]
    },
    {
      "cell_type": "code",
      "metadata": {
        "colab": {
          "base_uri": "https://localhost:8080/",
          "height": 206
        },
        "id": "fWsj3mNrr70I",
        "outputId": "2f3e1859-2d1e-473a-ac9f-20962253196b"
      },
      "source": [
        "df = pd.read_csv('BTC_USD_2013-10-01_2021-05-18-CoinDesk.csv')\n",
        "df.head()"
      ],
      "execution_count": 3,
      "outputs": [
        {
          "output_type": "execute_result",
          "data": {
            "text/html": [
              "<div>\n",
              "<style scoped>\n",
              "    .dataframe tbody tr th:only-of-type {\n",
              "        vertical-align: middle;\n",
              "    }\n",
              "\n",
              "    .dataframe tbody tr th {\n",
              "        vertical-align: top;\n",
              "    }\n",
              "\n",
              "    .dataframe thead th {\n",
              "        text-align: right;\n",
              "    }\n",
              "</style>\n",
              "<table border=\"1\" class=\"dataframe\">\n",
              "  <thead>\n",
              "    <tr style=\"text-align: right;\">\n",
              "      <th></th>\n",
              "      <th>Currency</th>\n",
              "      <th>Date</th>\n",
              "      <th>Closing Price (USD)</th>\n",
              "      <th>24h Open (USD)</th>\n",
              "      <th>24h High (USD)</th>\n",
              "      <th>24h Low (USD)</th>\n",
              "    </tr>\n",
              "  </thead>\n",
              "  <tbody>\n",
              "    <tr>\n",
              "      <th>0</th>\n",
              "      <td>BTC</td>\n",
              "      <td>2013-10-01</td>\n",
              "      <td>123.65499</td>\n",
              "      <td>124.30466</td>\n",
              "      <td>124.75166</td>\n",
              "      <td>122.56349</td>\n",
              "    </tr>\n",
              "    <tr>\n",
              "      <th>1</th>\n",
              "      <td>BTC</td>\n",
              "      <td>2013-10-02</td>\n",
              "      <td>125.45500</td>\n",
              "      <td>123.65499</td>\n",
              "      <td>125.75850</td>\n",
              "      <td>123.63383</td>\n",
              "    </tr>\n",
              "    <tr>\n",
              "      <th>2</th>\n",
              "      <td>BTC</td>\n",
              "      <td>2013-10-03</td>\n",
              "      <td>108.58483</td>\n",
              "      <td>125.45500</td>\n",
              "      <td>125.66566</td>\n",
              "      <td>83.32833</td>\n",
              "    </tr>\n",
              "    <tr>\n",
              "      <th>3</th>\n",
              "      <td>BTC</td>\n",
              "      <td>2013-10-04</td>\n",
              "      <td>118.67466</td>\n",
              "      <td>108.58483</td>\n",
              "      <td>118.67500</td>\n",
              "      <td>107.05816</td>\n",
              "    </tr>\n",
              "    <tr>\n",
              "      <th>4</th>\n",
              "      <td>BTC</td>\n",
              "      <td>2013-10-05</td>\n",
              "      <td>121.33866</td>\n",
              "      <td>118.67466</td>\n",
              "      <td>121.93633</td>\n",
              "      <td>118.00566</td>\n",
              "    </tr>\n",
              "  </tbody>\n",
              "</table>\n",
              "</div>"
            ],
            "text/plain": [
              "  Currency        Date  ...  24h High (USD)  24h Low (USD)\n",
              "0      BTC  2013-10-01  ...       124.75166      122.56349\n",
              "1      BTC  2013-10-02  ...       125.75850      123.63383\n",
              "2      BTC  2013-10-03  ...       125.66566       83.32833\n",
              "3      BTC  2013-10-04  ...       118.67500      107.05816\n",
              "4      BTC  2013-10-05  ...       121.93633      118.00566\n",
              "\n",
              "[5 rows x 6 columns]"
            ]
          },
          "metadata": {},
          "execution_count": 3
        }
      ]
    },
    {
      "cell_type": "code",
      "metadata": {
        "colab": {
          "base_uri": "https://localhost:8080/",
          "height": 206
        },
        "id": "y_QLCsCBu1q3",
        "outputId": "98c779cd-a55a-423c-ee34-ce9fde5ba51e"
      },
      "source": [
        "df.tail()"
      ],
      "execution_count": 8,
      "outputs": [
        {
          "output_type": "execute_result",
          "data": {
            "text/html": [
              "<div>\n",
              "<style scoped>\n",
              "    .dataframe tbody tr th:only-of-type {\n",
              "        vertical-align: middle;\n",
              "    }\n",
              "\n",
              "    .dataframe tbody tr th {\n",
              "        vertical-align: top;\n",
              "    }\n",
              "\n",
              "    .dataframe thead th {\n",
              "        text-align: right;\n",
              "    }\n",
              "</style>\n",
              "<table border=\"1\" class=\"dataframe\">\n",
              "  <thead>\n",
              "    <tr style=\"text-align: right;\">\n",
              "      <th></th>\n",
              "      <th>Currency</th>\n",
              "      <th>Date</th>\n",
              "      <th>Closing Price (USD)</th>\n",
              "      <th>24h Open (USD)</th>\n",
              "      <th>24h High (USD)</th>\n",
              "      <th>24h Low (USD)</th>\n",
              "    </tr>\n",
              "  </thead>\n",
              "  <tbody>\n",
              "    <tr>\n",
              "      <th>2782</th>\n",
              "      <td>BTC</td>\n",
              "      <td>2021-05-14</td>\n",
              "      <td>49764.132082</td>\n",
              "      <td>49596.778891</td>\n",
              "      <td>51448.798576</td>\n",
              "      <td>46294.720180</td>\n",
              "    </tr>\n",
              "    <tr>\n",
              "      <th>2783</th>\n",
              "      <td>BTC</td>\n",
              "      <td>2021-05-15</td>\n",
              "      <td>50032.693137</td>\n",
              "      <td>49717.354353</td>\n",
              "      <td>51578.312545</td>\n",
              "      <td>48944.346536</td>\n",
              "    </tr>\n",
              "    <tr>\n",
              "      <th>2784</th>\n",
              "      <td>BTC</td>\n",
              "      <td>2021-05-16</td>\n",
              "      <td>47885.625255</td>\n",
              "      <td>49926.035067</td>\n",
              "      <td>50690.802950</td>\n",
              "      <td>47005.102292</td>\n",
              "    </tr>\n",
              "    <tr>\n",
              "      <th>2785</th>\n",
              "      <td>BTC</td>\n",
              "      <td>2021-05-17</td>\n",
              "      <td>45604.615754</td>\n",
              "      <td>46805.537852</td>\n",
              "      <td>49670.414174</td>\n",
              "      <td>43868.638969</td>\n",
              "    </tr>\n",
              "    <tr>\n",
              "      <th>2786</th>\n",
              "      <td>BTC</td>\n",
              "      <td>2021-05-18</td>\n",
              "      <td>43144.471291</td>\n",
              "      <td>46439.336570</td>\n",
              "      <td>46622.853437</td>\n",
              "      <td>42102.346430</td>\n",
              "    </tr>\n",
              "  </tbody>\n",
              "</table>\n",
              "</div>"
            ],
            "text/plain": [
              "     Currency        Date  ...  24h High (USD)  24h Low (USD)\n",
              "2782      BTC  2021-05-14  ...    51448.798576   46294.720180\n",
              "2783      BTC  2021-05-15  ...    51578.312545   48944.346536\n",
              "2784      BTC  2021-05-16  ...    50690.802950   47005.102292\n",
              "2785      BTC  2021-05-17  ...    49670.414174   43868.638969\n",
              "2786      BTC  2021-05-18  ...    46622.853437   42102.346430\n",
              "\n",
              "[5 rows x 6 columns]"
            ]
          },
          "metadata": {},
          "execution_count": 8
        }
      ]
    },
    {
      "cell_type": "code",
      "metadata": {
        "colab": {
          "base_uri": "https://localhost:8080/"
        },
        "id": "iDUzmf_hsJeO",
        "outputId": "18c7684d-bc75-408e-d67c-2d315cf30517"
      },
      "source": [
        "df.info()"
      ],
      "execution_count": 5,
      "outputs": [
        {
          "output_type": "stream",
          "name": "stdout",
          "text": [
            "<class 'pandas.core.frame.DataFrame'>\n",
            "RangeIndex: 2787 entries, 0 to 2786\n",
            "Data columns (total 6 columns):\n",
            " #   Column               Non-Null Count  Dtype  \n",
            "---  ------               --------------  -----  \n",
            " 0   Currency             2787 non-null   object \n",
            " 1   Date                 2787 non-null   object \n",
            " 2   Closing Price (USD)  2787 non-null   float64\n",
            " 3   24h Open (USD)       2787 non-null   float64\n",
            " 4   24h High (USD)       2787 non-null   float64\n",
            " 5   24h Low (USD)        2787 non-null   float64\n",
            "dtypes: float64(4), object(2)\n",
            "memory usage: 130.8+ KB\n"
          ]
        }
      ]
    },
    {
      "cell_type": "code",
      "metadata": {
        "colab": {
          "base_uri": "https://localhost:8080/"
        },
        "id": "r5RbAISBs_y6",
        "outputId": "85e84169-8dc0-4ce8-b957-1391d333e5e2"
      },
      "source": [
        "df.shape"
      ],
      "execution_count": 7,
      "outputs": [
        {
          "output_type": "execute_result",
          "data": {
            "text/plain": [
              "(2787, 6)"
            ]
          },
          "metadata": {},
          "execution_count": 7
        }
      ]
    },
    {
      "cell_type": "code",
      "metadata": {
        "colab": {
          "base_uri": "https://localhost:8080/"
        },
        "id": "L1UHsM-WvGWX",
        "outputId": "75fd46f2-153f-4169-c404-349bd293f68e"
      },
      "source": [
        "len(df)"
      ],
      "execution_count": 9,
      "outputs": [
        {
          "output_type": "execute_result",
          "data": {
            "text/plain": [
              "2787"
            ]
          },
          "metadata": {},
          "execution_count": 9
        }
      ]
    },
    {
      "cell_type": "code",
      "metadata": {
        "id": "x2A3JpoovA-X"
      },
      "source": [
        "time_step = [i for i in range(len(df))]"
      ],
      "execution_count": 4,
      "outputs": []
    },
    {
      "cell_type": "code",
      "metadata": {
        "colab": {
          "base_uri": "https://localhost:8080/"
        },
        "id": "fbsZZxXKvU8V",
        "outputId": "12ad39e9-e663-44fb-a649-23288e4210e3"
      },
      "source": [
        "len(time_step)"
      ],
      "execution_count": 13,
      "outputs": [
        {
          "output_type": "execute_result",
          "data": {
            "text/plain": [
              "2787"
            ]
          },
          "metadata": {},
          "execution_count": 13
        }
      ]
    },
    {
      "cell_type": "code",
      "metadata": {
        "id": "Dev4-aNQtCca"
      },
      "source": [
        "import csv\n",
        "close_price = []\n",
        "\n",
        "with open('/content/BTC_USD_2013-10-01_2021-05-18-CoinDesk.csv') as csvfile:\n",
        "    reader = csv.reader(csvfile, delimiter=',')\n",
        "    next(reader)\n",
        "    for row in reader:\n",
        "        close_price.append(float(row[2]))"
      ],
      "execution_count": 5,
      "outputs": []
    },
    {
      "cell_type": "code",
      "metadata": {
        "colab": {
          "base_uri": "https://localhost:8080/"
        },
        "id": "DCjXomDLviDz",
        "outputId": "7d318666-b34e-4ec9-b0d6-472942fb04a2"
      },
      "source": [
        "len(close_price)"
      ],
      "execution_count": 16,
      "outputs": [
        {
          "output_type": "execute_result",
          "data": {
            "text/plain": [
              "2787"
            ]
          },
          "metadata": {},
          "execution_count": 16
        }
      ]
    },
    {
      "cell_type": "code",
      "metadata": {
        "colab": {
          "base_uri": "https://localhost:8080/"
        },
        "id": "nWXeCCT5vjHH",
        "outputId": "598c0ac4-9434-41b2-c7ef-3d7c8432199a"
      },
      "source": [
        "time_step[0], time_step[-1]"
      ],
      "execution_count": 17,
      "outputs": [
        {
          "output_type": "execute_result",
          "data": {
            "text/plain": [
              "(0, 2786)"
            ]
          },
          "metadata": {},
          "execution_count": 17
        }
      ]
    },
    {
      "cell_type": "code",
      "metadata": {
        "colab": {
          "base_uri": "https://localhost:8080/"
        },
        "id": "Qf09ScEgvshT",
        "outputId": "57c70c10-109d-4e9f-f8e8-d04d9b9b7f32"
      },
      "source": [
        "close_price[0], close_price[-1]"
      ],
      "execution_count": 18,
      "outputs": [
        {
          "output_type": "execute_result",
          "data": {
            "text/plain": [
              "(123.65499, 43144.4712908603)"
            ]
          },
          "metadata": {},
          "execution_count": 18
        }
      ]
    },
    {
      "cell_type": "code",
      "metadata": {
        "id": "18dM7nzpvuxg"
      },
      "source": [
        "series = np.array(close_price)\n",
        "time = np.array(time_step)"
      ],
      "execution_count": 6,
      "outputs": []
    },
    {
      "cell_type": "code",
      "metadata": {
        "id": "IQeS450CwECR"
      },
      "source": [
        "def plot_series(time, series, format=\"-\", start=0, end=None):\n",
        "    plt.plot(time[start:end], series[start:end], format)\n",
        "    plt.xlabel(\"Time\")\n",
        "    plt.ylabel(\"Value\")\n",
        "    plt.grid(True)"
      ],
      "execution_count": 7,
      "outputs": []
    },
    {
      "cell_type": "code",
      "metadata": {
        "colab": {
          "base_uri": "https://localhost:8080/",
          "height": 388
        },
        "id": "cibBENCVwMPZ",
        "outputId": "d5e97b77-afcc-4243-af61-ad419cee08ec"
      },
      "source": [
        "plt.figure(figsize=(10, 6))\n",
        "plot_series(time, series)"
      ],
      "execution_count": 8,
      "outputs": [
        {
          "output_type": "display_data",
          "data": {
            "image/png": "[encoded data removed]",
            "text/plain": [
              "<Figure size 720x432 with 1 Axes>"
            ]
          },
          "metadata": {
            "needs_background": "light"
          }
        }
      ]
    },
    {
      "cell_type": "code",
      "metadata": {
        "colab": {
          "base_uri": "https://localhost:8080/"
        },
        "id": "qqvcBdCNwO6K",
        "outputId": "7a880b9e-b6b1-4046-e536-50368a1a4b31"
      },
      "source": [
        "series[:10]"
      ],
      "execution_count": 22,
      "outputs": [
        {
          "output_type": "execute_result",
          "data": {
            "text/plain": [
              "array([123.65499, 125.455  , 108.58483, 118.67466, 121.33866, 120.65533,\n",
              "       121.795  , 123.033  , 124.049  , 125.96116])"
            ]
          },
          "metadata": {},
          "execution_count": 22
        }
      ]
    },
    {
      "cell_type": "code",
      "metadata": {
        "colab": {
          "base_uri": "https://localhost:8080/"
        },
        "id": "-eRksrCxwXeB",
        "outputId": "d8a772c2-b3db-4e26-8bbd-b829454ce695"
      },
      "source": [
        "time[:10]"
      ],
      "execution_count": 23,
      "outputs": [
        {
          "output_type": "execute_result",
          "data": {
            "text/plain": [
              "array([0, 1, 2, 3, 4, 5, 6, 7, 8, 9])"
            ]
          },
          "metadata": {},
          "execution_count": 23
        }
      ]
    },
    {
      "cell_type": "code",
      "metadata": {
        "id": "Od5dQiwkwYaj"
      },
      "source": [
        "SPLIT_TIME = 2200\n",
        "time_train = time[:SPLIT_TIME]\n",
        "x_train = series[:SPLIT_TIME]\n",
        "time_valid = time[SPLIT_TIME:]\n",
        "x_valid = series[SPLIT_TIME:]"
      ],
      "execution_count": 9,
      "outputs": []
    },
    {
      "cell_type": "code",
      "metadata": {
        "colab": {
          "base_uri": "https://localhost:8080/",
          "height": 442
        },
        "id": "369cN_haxjIb",
        "outputId": "b2331731-77fb-491c-ba91-9e2470de6872"
      },
      "source": [
        "plt.figure(figsize=(10, 7))\n",
        "plt.scatter(time_train, x_train, s=5, label=\"Train data\")\n",
        "plt.scatter(time_valid, x_valid, s=5, label=\"Test data\")\n",
        "plt.xlabel(\"Date\")\n",
        "plt.ylabel(\"BTC Price\")\n",
        "plt.legend(fontsize=14)\n",
        "plt.show()"
      ],
      "execution_count": 25,
      "outputs": [
        {
          "output_type": "display_data",
          "data": {
            "image/png": "[encoded data removed]",
            "text/plain": [
              "<Figure size 720x504 with 1 Axes>"
            ]
          },
          "metadata": {
            "needs_background": "light"
          }
        }
      ]
    },
    {
      "cell_type": "code",
      "metadata": {
        "colab": {
          "base_uri": "https://localhost:8080/",
          "height": 388
        },
        "id": "WQh11TCsyHyi",
        "outputId": "c5ead7c8-a745-411e-c252-6effecf756a3"
      },
      "source": [
        "plt.figure(figsize=(10, 6))\n",
        "plot_series(time_valid, x_valid)"
      ],
      "execution_count": 26,
      "outputs": [
        {
          "output_type": "display_data",
          "data": {
            "image/png": "[encoded data removed]",
            "text/plain": [
              "<Figure size 720x432 with 1 Axes>"
            ]
          },
          "metadata": {
            "needs_background": "light"
          }
        }
      ]
    },
    {
      "cell_type": "code",
      "metadata": {
        "id": "j8XTPBN_yPP7"
      },
      "source": [
        "WINDOW_SIZE = 7                              # 7 days, each time slice is a day\n",
        "BATCH_SIZE = 32\n",
        "SHUFFLE_BUFFER_SIZE = 1000"
      ],
      "execution_count": 10,
      "outputs": []
    },
    {
      "cell_type": "code",
      "metadata": {
        "id": "YIuwIiZg2MK2"
      },
      "source": [
        "def windowed_dataset(series, window_size, batch_size, shuffle_buffer):\n",
        "    dataset = tf.data.Dataset.from_tensor_slices(series)\n",
        "    dataset = dataset.window(window_size + 1, shift=1, drop_remainder=True)\n",
        "    dataset = dataset.flat_map(lambda window: window.batch(window_size + 1))\n",
        "    dataset = dataset.shuffle(shuffle_buffer).map(lambda window: (window[:-1], window[-1]))\n",
        "    dataset = dataset.batch(batch_size).prefetch(1)\n",
        "    return dataset"
      ],
      "execution_count": 11,
      "outputs": []
    },
    {
      "cell_type": "code",
      "metadata": {
        "id": "FvHDqqvf2NjA"
      },
      "source": [
        "tf.random.set_seed(51)\n",
        "np.random.seed(51)"
      ],
      "execution_count": 12,
      "outputs": []
    },
    {
      "cell_type": "code",
      "metadata": {
        "id": "zg0eF7Ww2Nlo"
      },
      "source": [
        "dataset = windowed_dataset(x_train, WINDOW_SIZE, BATCH_SIZE, SHUFFLE_BUFFER_SIZE)"
      ],
      "execution_count": 13,
      "outputs": []
    },
    {
      "cell_type": "markdown",
      "metadata": {
        "id": "q6hqvQN_kG7W"
      },
      "source": [
        "## Dense"
      ]
    },
    {
      "cell_type": "code",
      "metadata": {
        "id": "YwesmSJe3xd1"
      },
      "source": [
        "model = Sequential([\n",
        "    layers.InputLayer(input_shape=[WINDOW_SIZE]),                \n",
        "    layers.Dense(20, activation=\"relu\"),\n",
        "    layers.Dense(10, activation=\"relu\"),\n",
        "    layers.Dense(1)\n",
        "])"
      ],
      "execution_count": 41,
      "outputs": []
    },
    {
      "cell_type": "code",
      "metadata": {
        "colab": {
          "base_uri": "https://localhost:8080/"
        },
        "id": "BS3u_SAP3xgr",
        "outputId": "e1c8759c-a0b1-4f95-d69e-06e637ab5b52"
      },
      "source": [
        "model.summary()"
      ],
      "execution_count": 32,
      "outputs": [
        {
          "output_type": "stream",
          "name": "stdout",
          "text": [
            "Model: \"sequential\"\n",
            "_________________________________________________________________\n",
            " Layer (type)                Output Shape              Param #   \n",
            "=================================================================\n",
            " dense (Dense)               (None, 20)                160       \n",
            "                                                                 \n",
            " dense_1 (Dense)             (None, 10)                210       \n",
            "                                                                 \n",
            " dense_2 (Dense)             (None, 1)                 11        \n",
            "                                                                 \n",
            "=================================================================\n",
            "Total params: 381\n",
            "Trainable params: 381\n",
            "Non-trainable params: 0\n",
            "_________________________________________________________________\n"
          ]
        }
      ]
    },
    {
      "cell_type": "code",
      "metadata": {
        "id": "T0bZul334PF8"
      },
      "source": [
        "optimizer   = tf.keras.optimizers.SGD(learning_rate=1e-8, momentum=0.9)\n",
        "loss        = tf.keras.losses.Huber()\n",
        "metrics     = ['mae']"
      ],
      "execution_count": 42,
      "outputs": []
    },
    {
      "cell_type": "code",
      "metadata": {
        "id": "_3xSSO3l4Rks"
      },
      "source": [
        "model.compile(optimizer=optimizer,\n",
        "              loss=loss,\n",
        "              metrics=metrics)"
      ],
      "execution_count": 43,
      "outputs": []
    },
    {
      "cell_type": "code",
      "metadata": {
        "id": "aeiuPJcB4TAh"
      },
      "source": [
        "early_stopping    = EarlyStopping(monitor='loss', patience=40)\n",
        "model_checkpoint  = ModelCheckpoint(monitor='loss', filepath='./best_model.h5', save_best_only=True)"
      ],
      "execution_count": 44,
      "outputs": []
    },
    {
      "cell_type": "code",
      "metadata": {
        "id": "n7eJ0mu94TDJ"
      },
      "source": [
        "lr_schedule = LearningRateScheduler(lambda epoch: 1e-8 * 10**(epoch / 20))"
      ],
      "execution_count": 45,
      "outputs": []
    },
    {
      "cell_type": "code",
      "metadata": {
        "id": "TiNet1ZU4ddF"
      },
      "source": [
        "EPOCHS = 120\n",
        "CALLBACKS = [early_stopping, model_checkpoint, lr_schedule]"
      ],
      "execution_count": 46,
      "outputs": []
    },
    {
      "cell_type": "code",
      "metadata": {
        "colab": {
          "base_uri": "https://localhost:8080/"
        },
        "id": "Vk8wdd-74dfo",
        "outputId": "8dd1689b-47dd-41ce-bb04-51e15a8371f3"
      },
      "source": [
        "history = model.fit(dataset,\n",
        "                    verbose = 1,\n",
        "                    epochs = EPOCHS,\n",
        "                    callbacks = CALLBACKS)"
      ],
      "execution_count": 47,
      "outputs": [
        {
          "output_type": "stream",
          "name": "stdout",
          "text": [
            "Epoch 1/120\n",
            "69/69 [==============================] - 1s 8ms/step - loss: 2996.9724 - mae: 2997.4724 - lr: 1.0000e-08\n",
            "Epoch 2/120\n",
            "69/69 [==============================] - 1s 7ms/step - loss: 2199.9050 - mae: 2200.4050 - lr: 1.1220e-08\n",
            "Epoch 3/120\n",
            "69/69 [==============================] - 1s 8ms/step - loss: 1282.8693 - mae: 1283.3693 - lr: 1.2589e-08\n",
            "Epoch 4/120\n",
            "69/69 [==============================] - 1s 7ms/step - loss: 362.9659 - mae: 363.4653 - lr: 1.4125e-08\n",
            "Epoch 5/120\n",
            "69/69 [==============================] - 1s 7ms/step - loss: 229.8137 - mae: 230.3108 - lr: 1.5849e-08\n",
            "Epoch 6/120\n",
            "69/69 [==============================] - 1s 7ms/step - loss: 227.4941 - mae: 227.9893 - lr: 1.7783e-08\n",
            "Epoch 7/120\n",
            "69/69 [==============================] - 1s 7ms/step - loss: 225.2660 - mae: 225.7608 - lr: 1.9953e-08\n",
            "Epoch 8/120\n",
            "69/69 [==============================] - 1s 7ms/step - loss: 224.5491 - mae: 225.0434 - lr: 2.2387e-08\n",
            "Epoch 9/120\n",
            "69/69 [==============================] - 1s 7ms/step - loss: 223.5681 - mae: 224.0614 - lr: 2.5119e-08\n",
            "Epoch 10/120\n",
            "69/69 [==============================] - 1s 7ms/step - loss: 222.9293 - mae: 223.4236 - lr: 2.8184e-08\n",
            "Epoch 11/120\n",
            "69/69 [==============================] - 1s 7ms/step - loss: 221.0203 - mae: 221.5134 - lr: 3.1623e-08\n",
            "Epoch 12/120\n",
            "69/69 [==============================] - 1s 8ms/step - loss: 220.2748 - mae: 220.7693 - lr: 3.5481e-08\n",
            "Epoch 13/120\n",
            "69/69 [==============================] - 1s 8ms/step - loss: 219.1876 - mae: 219.6818 - lr: 3.9811e-08\n",
            "Epoch 14/120\n",
            "69/69 [==============================] - 1s 7ms/step - loss: 216.9683 - mae: 217.4634 - lr: 4.4668e-08\n",
            "Epoch 15/120\n",
            "69/69 [==============================] - 1s 7ms/step - loss: 217.3891 - mae: 217.8847 - lr: 5.0119e-08\n",
            "Epoch 16/120\n",
            "69/69 [==============================] - 1s 8ms/step - loss: 216.0629 - mae: 216.5579 - lr: 5.6234e-08\n",
            "Epoch 17/120\n",
            "69/69 [==============================] - 1s 7ms/step - loss: 210.6543 - mae: 211.1489 - lr: 6.3096e-08\n",
            "Epoch 18/120\n",
            "69/69 [==============================] - 1s 8ms/step - loss: 207.1544 - mae: 207.6492 - lr: 7.0795e-08\n",
            "Epoch 19/120\n",
            "69/69 [==============================] - 1s 8ms/step - loss: 201.5331 - mae: 202.0294 - lr: 7.9433e-08\n",
            "Epoch 20/120\n",
            "69/69 [==============================] - 1s 8ms/step - loss: 188.5356 - mae: 189.0311 - lr: 8.9125e-08\n",
            "Epoch 21/120\n",
            "69/69 [==============================] - 1s 8ms/step - loss: 183.0148 - mae: 183.5090 - lr: 1.0000e-07\n",
            "Epoch 22/120\n",
            "69/69 [==============================] - 1s 8ms/step - loss: 181.1980 - mae: 181.6940 - lr: 1.1220e-07\n",
            "Epoch 23/120\n",
            "69/69 [==============================] - 1s 8ms/step - loss: 178.8689 - mae: 179.3629 - lr: 1.2589e-07\n",
            "Epoch 24/120\n",
            "69/69 [==============================] - 1s 7ms/step - loss: 177.8704 - mae: 178.3645 - lr: 1.4125e-07\n",
            "Epoch 25/120\n",
            "69/69 [==============================] - 1s 7ms/step - loss: 175.3409 - mae: 175.8362 - lr: 1.5849e-07\n",
            "Epoch 26/120\n",
            "69/69 [==============================] - 1s 8ms/step - loss: 172.7703 - mae: 173.2643 - lr: 1.7783e-07\n",
            "Epoch 27/120\n",
            "69/69 [==============================] - 1s 7ms/step - loss: 172.7880 - mae: 173.2827 - lr: 1.9953e-07\n",
            "Epoch 28/120\n",
            "69/69 [==============================] - 1s 7ms/step - loss: 180.2010 - mae: 180.6977 - lr: 2.2387e-07\n",
            "Epoch 29/120\n",
            "69/69 [==============================] - 1s 8ms/step - loss: 167.6098 - mae: 168.1045 - lr: 2.5119e-07\n",
            "Epoch 30/120\n",
            "69/69 [==============================] - 1s 8ms/step - loss: 162.7965 - mae: 163.2926 - lr: 2.8184e-07\n",
            "Epoch 31/120\n",
            "69/69 [==============================] - 1s 7ms/step - loss: 164.5092 - mae: 165.0050 - lr: 3.1623e-07\n",
            "Epoch 32/120\n",
            "69/69 [==============================] - 1s 8ms/step - loss: 157.5057 - mae: 158.0003 - lr: 3.5481e-07\n",
            "Epoch 33/120\n",
            "69/69 [==============================] - 1s 7ms/step - loss: 144.4580 - mae: 144.9510 - lr: 3.9811e-07\n",
            "Epoch 34/120\n",
            "69/69 [==============================] - 1s 7ms/step - loss: 152.2345 - mae: 152.7286 - lr: 4.4668e-07\n",
            "Epoch 35/120\n",
            "69/69 [==============================] - 1s 7ms/step - loss: 159.2225 - mae: 159.7183 - lr: 5.0119e-07\n",
            "Epoch 36/120\n",
            "69/69 [==============================] - 1s 7ms/step - loss: 161.0198 - mae: 161.5168 - lr: 5.6234e-07\n",
            "Epoch 37/120\n",
            "69/69 [==============================] - 1s 8ms/step - loss: 126.6672 - mae: 127.1615 - lr: 6.3096e-07\n",
            "Epoch 38/120\n",
            "69/69 [==============================] - 1s 7ms/step - loss: 140.6924 - mae: 141.1856 - lr: 7.0795e-07\n",
            "Epoch 39/120\n",
            "69/69 [==============================] - 1s 7ms/step - loss: 137.4762 - mae: 137.9713 - lr: 7.9433e-07\n",
            "Epoch 40/120\n",
            "69/69 [==============================] - 1s 7ms/step - loss: 148.7112 - mae: 149.2077 - lr: 8.9125e-07\n",
            "Epoch 41/120\n",
            "69/69 [==============================] - 1s 7ms/step - loss: 136.7320 - mae: 137.2263 - lr: 1.0000e-06\n",
            "Epoch 42/120\n",
            "69/69 [==============================] - 1s 7ms/step - loss: 143.8797 - mae: 144.3752 - lr: 1.1220e-06\n",
            "Epoch 43/120\n",
            "69/69 [==============================] - 1s 7ms/step - loss: 195.7323 - mae: 196.2311 - lr: 1.2589e-06\n",
            "Epoch 44/120\n",
            "69/69 [==============================] - 1s 7ms/step - loss: 122.7780 - mae: 123.2721 - lr: 1.4125e-06\n",
            "Epoch 45/120\n",
            "69/69 [==============================] - 1s 7ms/step - loss: 211.4585 - mae: 211.9557 - lr: 1.5849e-06\n",
            "Epoch 46/120\n",
            "69/69 [==============================] - 1s 7ms/step - loss: 190.3201 - mae: 190.8181 - lr: 1.7783e-06\n",
            "Epoch 47/120\n",
            "69/69 [==============================] - 1s 7ms/step - loss: 141.3697 - mae: 141.8632 - lr: 1.9953e-06\n",
            "Epoch 48/120\n",
            "69/69 [==============================] - 1s 8ms/step - loss: 144.0201 - mae: 144.5154 - lr: 2.2387e-06\n",
            "Epoch 49/120\n",
            "69/69 [==============================] - 1s 8ms/step - loss: 149.4725 - mae: 149.9689 - lr: 2.5119e-06\n",
            "Epoch 50/120\n",
            "69/69 [==============================] - 1s 7ms/step - loss: 155.0994 - mae: 155.5975 - lr: 2.8184e-06\n",
            "Epoch 51/120\n",
            "69/69 [==============================] - 1s 7ms/step - loss: 188.0141 - mae: 188.5093 - lr: 3.1623e-06\n",
            "Epoch 52/120\n",
            "69/69 [==============================] - 1s 7ms/step - loss: 195.7117 - mae: 196.2101 - lr: 3.5481e-06\n",
            "Epoch 53/120\n",
            "69/69 [==============================] - 1s 7ms/step - loss: 232.2825 - mae: 232.7780 - lr: 3.9811e-06\n",
            "Epoch 54/120\n",
            "69/69 [==============================] - 1s 8ms/step - loss: 206.1674 - mae: 206.6652 - lr: 4.4668e-06\n",
            "Epoch 55/120\n",
            "69/69 [==============================] - 1s 7ms/step - loss: 206.4861 - mae: 206.9847 - lr: 5.0119e-06\n",
            "Epoch 56/120\n",
            "69/69 [==============================] - 1s 8ms/step - loss: 341.2159 - mae: 341.7118 - lr: 5.6234e-06\n",
            "Epoch 57/120\n",
            "69/69 [==============================] - 1s 7ms/step - loss: 270.3187 - mae: 270.8176 - lr: 6.3096e-06\n",
            "Epoch 58/120\n",
            "69/69 [==============================] - 1s 7ms/step - loss: 228.9272 - mae: 229.4259 - lr: 7.0795e-06\n",
            "Epoch 59/120\n",
            "69/69 [==============================] - 1s 8ms/step - loss: 400.3144 - mae: 400.8125 - lr: 7.9433e-06\n",
            "Epoch 60/120\n",
            "69/69 [==============================] - 1s 7ms/step - loss: 319.2419 - mae: 319.7400 - lr: 8.9125e-06\n",
            "Epoch 61/120\n",
            "69/69 [==============================] - 1s 8ms/step - loss: 753.7628 - mae: 754.2612 - lr: 1.0000e-05\n",
            "Epoch 62/120\n",
            "69/69 [==============================] - 1s 8ms/step - loss: 1001.6270 - mae: 1002.1269 - lr: 1.1220e-05\n",
            "Epoch 63/120\n",
            "69/69 [==============================] - 1s 8ms/step - loss: 594.7459 - mae: 595.2451 - lr: 1.2589e-05\n",
            "Epoch 64/120\n",
            "69/69 [==============================] - 1s 8ms/step - loss: 923.2329 - mae: 923.7308 - lr: 1.4125e-05\n",
            "Epoch 65/120\n",
            "69/69 [==============================] - 1s 7ms/step - loss: 1058.8610 - mae: 1059.3604 - lr: 1.5849e-05\n",
            "Epoch 66/120\n",
            "69/69 [==============================] - 1s 8ms/step - loss: 1054.8142 - mae: 1055.3136 - lr: 1.7783e-05\n",
            "Epoch 67/120\n",
            "69/69 [==============================] - 1s 8ms/step - loss: 3079.1682 - mae: 3079.6682 - lr: 1.9953e-05\n",
            "Epoch 68/120\n",
            "69/69 [==============================] - 1s 8ms/step - loss: 3080.1758 - mae: 3080.6758 - lr: 2.2387e-05\n",
            "Epoch 69/120\n",
            "69/69 [==============================] - 1s 8ms/step - loss: 3080.1523 - mae: 3080.6523 - lr: 2.5119e-05\n",
            "Epoch 70/120\n",
            "69/69 [==============================] - 1s 8ms/step - loss: 3080.1252 - mae: 3080.6252 - lr: 2.8184e-05\n",
            "Epoch 71/120\n",
            "69/69 [==============================] - 1s 8ms/step - loss: 3080.0979 - mae: 3080.5979 - lr: 3.1623e-05\n",
            "Epoch 72/120\n",
            "69/69 [==============================] - 1s 8ms/step - loss: 3080.0691 - mae: 3080.5691 - lr: 3.5481e-05\n",
            "Epoch 73/120\n",
            "69/69 [==============================] - 1s 8ms/step - loss: 3080.0354 - mae: 3080.5354 - lr: 3.9811e-05\n",
            "Epoch 74/120\n",
            "69/69 [==============================] - 1s 8ms/step - loss: 3079.9993 - mae: 3080.4993 - lr: 4.4668e-05\n",
            "Epoch 75/120\n",
            "69/69 [==============================] - 1s 7ms/step - loss: 3079.9578 - mae: 3080.4578 - lr: 5.0119e-05\n",
            "Epoch 76/120\n",
            "69/69 [==============================] - 1s 7ms/step - loss: 3079.9109 - mae: 3080.4109 - lr: 5.6234e-05\n",
            "Epoch 77/120\n",
            "69/69 [==============================] - 1s 8ms/step - loss: 3079.8577 - mae: 3080.3577 - lr: 6.3096e-05\n",
            "Epoch 78/120\n",
            "69/69 [==============================] - 1s 7ms/step - loss: 3079.7981 - mae: 3080.2981 - lr: 7.0795e-05\n",
            "Epoch 79/120\n",
            "69/69 [==============================] - 1s 7ms/step - loss: 3079.7292 - mae: 3080.2292 - lr: 7.9433e-05\n",
            "Epoch 80/120\n",
            "69/69 [==============================] - 1s 8ms/step - loss: 3079.6526 - mae: 3080.1526 - lr: 8.9125e-05\n",
            "Epoch 81/120\n",
            "69/69 [==============================] - 1s 8ms/step - loss: 3079.5635 - mae: 3080.0635 - lr: 1.0000e-04\n",
            "Epoch 82/120\n",
            "69/69 [==============================] - 1s 8ms/step - loss: 3079.4600 - mae: 3079.9600 - lr: 1.1220e-04\n",
            "Epoch 83/120\n",
            "69/69 [==============================] - 1s 8ms/step - loss: 3079.3401 - mae: 3079.8401 - lr: 1.2589e-04\n",
            "Epoch 84/120\n",
            "69/69 [==============================] - 1s 7ms/step - loss: 3079.2004 - mae: 3079.7004 - lr: 1.4125e-04\n"
          ]
        }
      ]
    },
    {
      "cell_type": "code",
      "metadata": {
        "colab": {
          "base_uri": "https://localhost:8080/",
          "height": 292
        },
        "id": "y2RvBL9N4w4I",
        "outputId": "039509f5-e0dc-4604-9930-df50454f6d07"
      },
      "source": [
        "plt.semilogx(history.history['lr'], history.history['loss'])\n",
        "plt.axis([1e-8, 1e-4, 100, 500])"
      ],
      "execution_count": 51,
      "outputs": [
        {
          "output_type": "execute_result",
          "data": {
            "text/plain": [
              "(1e-08, 0.0001, 100.0, 500.0)"
            ]
          },
          "metadata": {},
          "execution_count": 51
        },
        {
          "output_type": "display_data",
          "data": {
            "image/png": "[encoded data removed]",
            "text/plain": [
              "<Figure size 432x288 with 1 Axes>"
            ]
          },
          "metadata": {
            "needs_background": "light"
          }
        }
      ]
    },
    {
      "cell_type": "code",
      "metadata": {
        "id": "SUtYEA4j5eyM"
      },
      "source": [
        "model = Sequential([\n",
        "    layers.InputLayer(input_shape=[WINDOW_SIZE]),                \n",
        "    layers.Dense(20, activation=\"relu\"),\n",
        "    layers.Dense(10, activation=\"relu\"),\n",
        "    layers.Dense(1)\n",
        "])"
      ],
      "execution_count": 52,
      "outputs": []
    },
    {
      "cell_type": "code",
      "metadata": {
        "id": "9rSmP30Q5w7M"
      },
      "source": [
        "optimizer   = tf.keras.optimizers.SGD(learning_rate=1.4125e-06, momentum=0.9)\n",
        "loss        = tf.keras.losses.Huber()\n",
        "metrics     = ['mae']"
      ],
      "execution_count": 53,
      "outputs": []
    },
    {
      "cell_type": "code",
      "metadata": {
        "id": "aJyJWzZF54z5"
      },
      "source": [
        "model.compile(optimizer=optimizer,\n",
        "              loss=loss,\n",
        "              metrics=metrics)"
      ],
      "execution_count": 54,
      "outputs": []
    },
    {
      "cell_type": "code",
      "metadata": {
        "id": "Doc0nSzU542f"
      },
      "source": [
        "early_stopping    = EarlyStopping(monitor='loss', patience=70)\n",
        "model_checkpoint  = ModelCheckpoint(monitor='loss', filepath='./best_model.h5', save_best_only=True)"
      ],
      "execution_count": 55,
      "outputs": []
    },
    {
      "cell_type": "code",
      "metadata": {
        "id": "_2t-0BUb58PJ"
      },
      "source": [
        "EPOCHS = 400\n",
        "CALLBACKS = [early_stopping, model_checkpoint]"
      ],
      "execution_count": 56,
      "outputs": []
    },
    {
      "cell_type": "code",
      "metadata": {
        "colab": {
          "base_uri": "https://localhost:8080/"
        },
        "id": "4PbWZQfO59n7",
        "outputId": "eadf133c-520c-4078-aacc-eb23e2d02648"
      },
      "source": [
        "history = model.fit(dataset,\n",
        "                    verbose = 1,\n",
        "                    epochs = EPOCHS,\n",
        "                    callbacks = CALLBACKS)"
      ],
      "execution_count": 57,
      "outputs": [
        {
          "output_type": "stream",
          "name": "stdout",
          "text": [
            "Epoch 1/400\n",
            "69/69 [==============================] - 1s 9ms/step - loss: 1053.6420 - mae: 1054.1414\n",
            "Epoch 2/400\n",
            "69/69 [==============================] - 1s 8ms/step - loss: 211.9368 - mae: 212.4346\n",
            "Epoch 3/400\n",
            "69/69 [==============================] - 1s 8ms/step - loss: 159.7281 - mae: 160.2243\n",
            "Epoch 4/400\n",
            "69/69 [==============================] - 1s 7ms/step - loss: 161.5264 - mae: 162.0239\n",
            "Epoch 5/400\n",
            "69/69 [==============================] - 1s 8ms/step - loss: 141.9611 - mae: 142.4557\n",
            "Epoch 6/400\n",
            "69/69 [==============================] - 1s 8ms/step - loss: 147.7801 - mae: 148.2762\n",
            "Epoch 7/400\n",
            "69/69 [==============================] - 1s 8ms/step - loss: 146.6385 - mae: 147.1329\n",
            "Epoch 8/400\n",
            "69/69 [==============================] - 1s 8ms/step - loss: 133.7258 - mae: 134.2224\n",
            "Epoch 9/400\n",
            "69/69 [==============================] - 1s 7ms/step - loss: 128.9578 - mae: 129.4523\n",
            "Epoch 10/400\n",
            "69/69 [==============================] - 1s 7ms/step - loss: 132.2226 - mae: 132.7178\n",
            "Epoch 11/400\n",
            "69/69 [==============================] - 1s 8ms/step - loss: 136.9543 - mae: 137.4493\n",
            "Epoch 12/400\n",
            "69/69 [==============================] - 1s 7ms/step - loss: 139.6221 - mae: 140.1177\n",
            "Epoch 13/400\n",
            "69/69 [==============================] - 1s 8ms/step - loss: 127.7207 - mae: 128.2147\n",
            "Epoch 14/400\n",
            "69/69 [==============================] - 1s 8ms/step - loss: 120.1321 - mae: 120.6258\n",
            "Epoch 15/400\n",
            "69/69 [==============================] - 1s 8ms/step - loss: 137.8764 - mae: 138.3720\n",
            "Epoch 16/400\n",
            "69/69 [==============================] - 1s 8ms/step - loss: 138.8468 - mae: 139.3430\n",
            "Epoch 17/400\n",
            "69/69 [==============================] - 1s 8ms/step - loss: 120.6174 - mae: 121.1128\n",
            "Epoch 18/400\n",
            "69/69 [==============================] - 1s 8ms/step - loss: 136.3598 - mae: 136.8519\n",
            "Epoch 19/400\n",
            "69/69 [==============================] - 1s 8ms/step - loss: 125.0535 - mae: 125.5479\n",
            "Epoch 20/400\n",
            "69/69 [==============================] - 1s 8ms/step - loss: 115.6484 - mae: 116.1414\n",
            "Epoch 21/400\n",
            "69/69 [==============================] - 1s 8ms/step - loss: 134.4122 - mae: 134.9053\n",
            "Epoch 22/400\n",
            "69/69 [==============================] - 1s 8ms/step - loss: 130.4201 - mae: 130.9165\n",
            "Epoch 23/400\n",
            "69/69 [==============================] - 1s 8ms/step - loss: 131.5018 - mae: 131.9931\n",
            "Epoch 24/400\n",
            "69/69 [==============================] - 1s 8ms/step - loss: 121.3611 - mae: 121.8548\n",
            "Epoch 25/400\n",
            "69/69 [==============================] - 1s 8ms/step - loss: 160.9410 - mae: 161.4365\n",
            "Epoch 26/400\n",
            "69/69 [==============================] - 1s 7ms/step - loss: 124.3245 - mae: 124.8198\n",
            "Epoch 27/400\n",
            "69/69 [==============================] - 1s 7ms/step - loss: 147.0652 - mae: 147.5619\n",
            "Epoch 28/400\n",
            "69/69 [==============================] - 1s 8ms/step - loss: 122.4538 - mae: 122.9486\n",
            "Epoch 29/400\n",
            "69/69 [==============================] - 1s 8ms/step - loss: 134.3415 - mae: 134.8385\n",
            "Epoch 30/400\n",
            "69/69 [==============================] - 1s 8ms/step - loss: 133.9288 - mae: 134.4243\n",
            "Epoch 31/400\n",
            "69/69 [==============================] - 1s 8ms/step - loss: 118.5347 - mae: 119.0306\n",
            "Epoch 32/400\n",
            "69/69 [==============================] - 1s 9ms/step - loss: 116.8889 - mae: 117.3807\n",
            "Epoch 33/400\n",
            "69/69 [==============================] - 1s 7ms/step - loss: 145.0929 - mae: 145.5871\n",
            "Epoch 34/400\n",
            "69/69 [==============================] - 1s 8ms/step - loss: 124.2065 - mae: 124.7001\n",
            "Epoch 35/400\n",
            "69/69 [==============================] - 1s 8ms/step - loss: 115.9887 - mae: 116.4819\n",
            "Epoch 36/400\n",
            "69/69 [==============================] - 1s 7ms/step - loss: 123.6657 - mae: 124.1587\n",
            "Epoch 37/400\n",
            "69/69 [==============================] - 1s 8ms/step - loss: 116.2052 - mae: 116.6962\n",
            "Epoch 38/400\n",
            "69/69 [==============================] - 1s 8ms/step - loss: 118.5148 - mae: 119.0105\n",
            "Epoch 39/400\n",
            "69/69 [==============================] - 1s 7ms/step - loss: 127.3085 - mae: 127.8038\n",
            "Epoch 40/400\n",
            "69/69 [==============================] - 1s 7ms/step - loss: 119.1976 - mae: 119.6906\n",
            "Epoch 41/400\n",
            "69/69 [==============================] - 1s 7ms/step - loss: 127.6244 - mae: 128.1202\n",
            "Epoch 42/400\n",
            "69/69 [==============================] - 1s 8ms/step - loss: 132.0586 - mae: 132.5514\n",
            "Epoch 43/400\n",
            "69/69 [==============================] - 1s 8ms/step - loss: 123.2892 - mae: 123.7827\n",
            "Epoch 44/400\n",
            "69/69 [==============================] - 1s 8ms/step - loss: 122.4166 - mae: 122.9126\n",
            "Epoch 45/400\n",
            "69/69 [==============================] - 1s 8ms/step - loss: 123.3096 - mae: 123.8047\n",
            "Epoch 46/400\n",
            "69/69 [==============================] - 1s 7ms/step - loss: 147.0735 - mae: 147.5697\n",
            "Epoch 47/400\n",
            "69/69 [==============================] - 1s 8ms/step - loss: 110.6421 - mae: 111.1347\n",
            "Epoch 48/400\n",
            "69/69 [==============================] - 1s 8ms/step - loss: 124.8075 - mae: 125.3022\n",
            "Epoch 49/400\n",
            "69/69 [==============================] - 1s 8ms/step - loss: 174.9860 - mae: 175.4835\n",
            "Epoch 50/400\n",
            "69/69 [==============================] - 1s 8ms/step - loss: 139.4755 - mae: 139.9721\n",
            "Epoch 51/400\n",
            "69/69 [==============================] - 1s 7ms/step - loss: 117.4307 - mae: 117.9256\n",
            "Epoch 52/400\n",
            "69/69 [==============================] - 1s 7ms/step - loss: 126.1154 - mae: 126.6108\n",
            "Epoch 53/400\n",
            "69/69 [==============================] - 1s 8ms/step - loss: 118.7788 - mae: 119.2708\n",
            "Epoch 54/400\n",
            "69/69 [==============================] - 1s 8ms/step - loss: 130.4119 - mae: 130.9077\n",
            "Epoch 55/400\n",
            "69/69 [==============================] - 1s 7ms/step - loss: 138.8613 - mae: 139.3580\n",
            "Epoch 56/400\n",
            "69/69 [==============================] - 1s 8ms/step - loss: 113.4850 - mae: 113.9800\n",
            "Epoch 57/400\n",
            "69/69 [==============================] - 1s 7ms/step - loss: 130.9009 - mae: 131.3953\n",
            "Epoch 58/400\n",
            "69/69 [==============================] - 1s 8ms/step - loss: 115.7604 - mae: 116.2531\n",
            "Epoch 59/400\n",
            "69/69 [==============================] - 1s 8ms/step - loss: 114.7849 - mae: 115.2773\n",
            "Epoch 60/400\n",
            "69/69 [==============================] - 1s 8ms/step - loss: 122.1387 - mae: 122.6299\n",
            "Epoch 61/400\n",
            "69/69 [==============================] - 1s 7ms/step - loss: 126.7246 - mae: 127.2194\n",
            "Epoch 62/400\n",
            "69/69 [==============================] - 1s 8ms/step - loss: 178.3344 - mae: 178.8325\n",
            "Epoch 63/400\n",
            "69/69 [==============================] - 1s 8ms/step - loss: 122.1357 - mae: 122.6308\n",
            "Epoch 64/400\n",
            "69/69 [==============================] - 1s 7ms/step - loss: 115.8597 - mae: 116.3540\n",
            "Epoch 65/400\n",
            "69/69 [==============================] - 1s 7ms/step - loss: 135.4572 - mae: 135.9536\n",
            "Epoch 66/400\n",
            "69/69 [==============================] - 1s 8ms/step - loss: 191.4866 - mae: 191.9852\n",
            "Epoch 67/400\n",
            "69/69 [==============================] - 1s 7ms/step - loss: 184.6547 - mae: 185.1527\n",
            "Epoch 68/400\n",
            "69/69 [==============================] - 1s 7ms/step - loss: 147.9212 - mae: 148.4171\n",
            "Epoch 69/400\n",
            "69/69 [==============================] - 1s 8ms/step - loss: 124.8591 - mae: 125.3534\n",
            "Epoch 70/400\n",
            "69/69 [==============================] - 1s 7ms/step - loss: 126.4759 - mae: 126.9713\n",
            "Epoch 71/400\n",
            "69/69 [==============================] - 1s 7ms/step - loss: 137.5390 - mae: 138.0356\n",
            "Epoch 72/400\n",
            "69/69 [==============================] - 1s 7ms/step - loss: 124.1357 - mae: 124.6307\n",
            "Epoch 73/400\n",
            "69/69 [==============================] - 1s 7ms/step - loss: 122.6020 - mae: 123.0958\n",
            "Epoch 74/400\n",
            "69/69 [==============================] - 1s 8ms/step - loss: 125.7288 - mae: 126.2230\n",
            "Epoch 75/400\n",
            "69/69 [==============================] - 1s 8ms/step - loss: 124.2753 - mae: 124.7702\n",
            "Epoch 76/400\n",
            "69/69 [==============================] - 1s 7ms/step - loss: 121.8806 - mae: 122.3771\n",
            "Epoch 77/400\n",
            "69/69 [==============================] - 1s 8ms/step - loss: 132.6420 - mae: 133.1364\n",
            "Epoch 78/400\n",
            "69/69 [==============================] - 1s 7ms/step - loss: 121.0017 - mae: 121.4958\n",
            "Epoch 79/400\n",
            "69/69 [==============================] - 1s 7ms/step - loss: 138.5979 - mae: 139.0943\n",
            "Epoch 80/400\n",
            "69/69 [==============================] - 1s 7ms/step - loss: 142.5395 - mae: 143.0361\n",
            "Epoch 81/400\n",
            "69/69 [==============================] - 1s 7ms/step - loss: 124.7312 - mae: 125.2264\n",
            "Epoch 82/400\n",
            "69/69 [==============================] - 1s 7ms/step - loss: 124.8284 - mae: 125.3240\n",
            "Epoch 83/400\n",
            "69/69 [==============================] - 1s 7ms/step - loss: 125.4308 - mae: 125.9263\n",
            "Epoch 84/400\n",
            "69/69 [==============================] - 1s 7ms/step - loss: 130.4575 - mae: 130.9523\n",
            "Epoch 85/400\n",
            "69/69 [==============================] - 1s 7ms/step - loss: 131.0994 - mae: 131.5908\n",
            "Epoch 86/400\n",
            "69/69 [==============================] - 1s 7ms/step - loss: 120.7415 - mae: 121.2354\n",
            "Epoch 87/400\n",
            "69/69 [==============================] - 1s 7ms/step - loss: 115.6711 - mae: 116.1636\n",
            "Epoch 88/400\n",
            "69/69 [==============================] - 1s 7ms/step - loss: 120.2420 - mae: 120.7385\n",
            "Epoch 89/400\n",
            "69/69 [==============================] - 1s 8ms/step - loss: 119.5850 - mae: 120.0808\n",
            "Epoch 90/400\n",
            "69/69 [==============================] - 1s 7ms/step - loss: 111.6555 - mae: 112.1477\n",
            "Epoch 91/400\n",
            "69/69 [==============================] - 1s 7ms/step - loss: 111.7526 - mae: 112.2444\n",
            "Epoch 92/400\n",
            "69/69 [==============================] - 1s 7ms/step - loss: 143.6264 - mae: 144.1208\n",
            "Epoch 93/400\n",
            "69/69 [==============================] - 1s 7ms/step - loss: 123.2863 - mae: 123.7815\n",
            "Epoch 94/400\n",
            "69/69 [==============================] - 1s 8ms/step - loss: 201.0354 - mae: 201.5335\n",
            "Epoch 95/400\n",
            "69/69 [==============================] - 1s 8ms/step - loss: 126.7437 - mae: 127.2405\n",
            "Epoch 96/400\n",
            "69/69 [==============================] - 1s 8ms/step - loss: 116.9181 - mae: 117.4131\n",
            "Epoch 97/400\n",
            "69/69 [==============================] - 1s 8ms/step - loss: 114.5617 - mae: 115.0557\n",
            "Epoch 98/400\n",
            "69/69 [==============================] - 1s 8ms/step - loss: 118.7553 - mae: 119.2462\n",
            "Epoch 99/400\n",
            "69/69 [==============================] - 1s 7ms/step - loss: 131.2782 - mae: 131.7736\n",
            "Epoch 100/400\n",
            "69/69 [==============================] - 1s 8ms/step - loss: 116.7659 - mae: 117.2594\n",
            "Epoch 101/400\n",
            "69/69 [==============================] - 1s 8ms/step - loss: 118.0001 - mae: 118.4920\n",
            "Epoch 102/400\n",
            "69/69 [==============================] - 1s 7ms/step - loss: 123.4815 - mae: 123.9772\n",
            "Epoch 103/400\n",
            "69/69 [==============================] - 1s 8ms/step - loss: 142.9253 - mae: 143.4197\n",
            "Epoch 104/400\n",
            "69/69 [==============================] - 1s 7ms/step - loss: 124.4750 - mae: 124.9706\n",
            "Epoch 105/400\n",
            "69/69 [==============================] - 1s 8ms/step - loss: 119.9231 - mae: 120.4178\n",
            "Epoch 106/400\n",
            "69/69 [==============================] - 1s 7ms/step - loss: 130.2074 - mae: 130.7030\n",
            "Epoch 107/400\n",
            "69/69 [==============================] - 1s 8ms/step - loss: 114.5764 - mae: 115.0701\n",
            "Epoch 108/400\n",
            "69/69 [==============================] - 1s 7ms/step - loss: 113.7078 - mae: 114.1993\n",
            "Epoch 109/400\n",
            "69/69 [==============================] - 1s 8ms/step - loss: 118.9940 - mae: 119.4831\n",
            "Epoch 110/400\n",
            "69/69 [==============================] - 1s 8ms/step - loss: 130.7566 - mae: 131.2505\n",
            "Epoch 111/400\n",
            "69/69 [==============================] - 1s 8ms/step - loss: 158.9264 - mae: 159.4244\n",
            "Epoch 112/400\n",
            "69/69 [==============================] - 1s 7ms/step - loss: 122.8114 - mae: 123.3068\n",
            "Epoch 113/400\n",
            "69/69 [==============================] - 1s 7ms/step - loss: 114.9850 - mae: 115.4766\n",
            "Epoch 114/400\n",
            "69/69 [==============================] - 1s 8ms/step - loss: 128.2412 - mae: 128.7347\n",
            "Epoch 115/400\n",
            "69/69 [==============================] - 1s 8ms/step - loss: 118.2775 - mae: 118.7705\n",
            "Epoch 116/400\n",
            "69/69 [==============================] - 1s 8ms/step - loss: 122.8704 - mae: 123.3627\n",
            "Epoch 117/400\n",
            "69/69 [==============================] - 1s 8ms/step - loss: 125.4336 - mae: 125.9301\n"
          ]
        }
      ]
    },
    {
      "cell_type": "code",
      "metadata": {
        "colab": {
          "base_uri": "https://localhost:8080/",
          "height": 284
        },
        "id": "TpTLUtmh6K6P",
        "outputId": "6b88deec-34ea-4d1d-ed5d-d88a52294416"
      },
      "source": [
        "loss = history.history['loss']\n",
        "epochs = range(len(loss))\n",
        "plt.plot(epochs, loss, 'b', label='Training Loss')\n",
        "plt.show"
      ],
      "execution_count": 58,
      "outputs": [
        {
          "output_type": "execute_result",
          "data": {
            "text/plain": [
              "<function matplotlib.pyplot.show>"
            ]
          },
          "metadata": {},
          "execution_count": 58
        },
        {
          "output_type": "display_data",
          "data": {
            "image/png": "[encoded data removed]",
            "text/plain": [
              "<Figure size 432x288 with 1 Axes>"
            ]
          },
          "metadata": {
            "needs_background": "light"
          }
        }
      ]
    },
    {
      "cell_type": "code",
      "metadata": {
        "colab": {
          "base_uri": "https://localhost:8080/",
          "height": 388
        },
        "id": "CVMUHpxm6TRQ",
        "outputId": "eb6b3ae8-ce48-469b-9b4e-82daf69a568e"
      },
      "source": [
        "forecast=[]\n",
        "\n",
        "for time in range(len(series) - WINDOW_SIZE):\n",
        "    forecast.append(model.predict(series[time:time + WINDOW_SIZE][np.newaxis]))\n",
        "\n",
        "forecast = forecast[SPLIT_TIME - WINDOW_SIZE:]\n",
        "results = np.array(forecast)[:, 0, 0]\n",
        "\n",
        "\n",
        "plt.figure(figsize=(10, 6))\n",
        "\n",
        "plot_series(time_valid, x_valid)\n",
        "plot_series(time_valid, results)"
      ],
      "execution_count": 59,
      "outputs": [
        {
          "output_type": "display_data",
          "data": {
            "image/png": "[encoded data removed]",
            "text/plain": [
              "<Figure size 720x432 with 1 Axes>"
            ]
          },
          "metadata": {
            "needs_background": "light"
          }
        }
      ]
    },
    {
      "cell_type": "code",
      "metadata": {
        "colab": {
          "base_uri": "https://localhost:8080/"
        },
        "id": "TMubWGPZ7gfg",
        "outputId": "3e3786af-f00c-423b-f972-8f1bc5d46baf"
      },
      "source": [
        "tf.keras.metrics.mean_absolute_error(x_valid, results).numpy()"
      ],
      "execution_count": 60,
      "outputs": [
        {
          "output_type": "execute_result",
          "data": {
            "text/plain": [
              "1001.46484"
            ]
          },
          "metadata": {},
          "execution_count": 60
        }
      ]
    },
    {
      "cell_type": "code",
      "metadata": {
        "id": "tjSK88WB7od9"
      },
      "source": [
        "best_model = tf.keras.models.load_model('best_model.h5')"
      ],
      "execution_count": 61,
      "outputs": []
    },
    {
      "cell_type": "code",
      "metadata": {
        "colab": {
          "base_uri": "https://localhost:8080/",
          "height": 388
        },
        "id": "LSQ8I7Yp8fRX",
        "outputId": "145e7c31-a572-42b6-e9b4-c7b1bfb89782"
      },
      "source": [
        "forecast=[]\n",
        "\n",
        "for time in range(len(series) - WINDOW_SIZE):\n",
        "    forecast.append(best_model.predict(series[time:time + WINDOW_SIZE][np.newaxis]))\n",
        "\n",
        "forecast = forecast[SPLIT_TIME - WINDOW_SIZE:]\n",
        "results = np.array(forecast)[:, 0, 0]\n",
        "\n",
        "plt.figure(figsize=(10, 6))\n",
        "\n",
        "plot_series(time_valid, x_valid)\n",
        "plot_series(time_valid, results)"
      ],
      "execution_count": 62,
      "outputs": [
        {
          "output_type": "display_data",
          "data": {
            "image/png": "[encoded data removed]",
            "text/plain": [
              "<Figure size 720x432 with 1 Axes>"
            ]
          },
          "metadata": {
            "needs_background": "light"
          }
        }
      ]
    },
    {
      "cell_type": "code",
      "metadata": {
        "colab": {
          "base_uri": "https://localhost:8080/"
        },
        "id": "ew_RCA8U8fUE",
        "outputId": "49436d85-eacb-4103-d2af-b5bbebbf24c4"
      },
      "source": [
        "tf.keras.metrics.mean_absolute_error(x_valid, results).numpy()"
      ],
      "execution_count": 63,
      "outputs": [
        {
          "output_type": "execute_result",
          "data": {
            "text/plain": [
              "608.18335"
            ]
          },
          "metadata": {},
          "execution_count": 63
        }
      ]
    },
    {
      "cell_type": "markdown",
      "metadata": {
        "id": "07_FiemPkPia"
      },
      "source": [
        "## Conv1D"
      ]
    },
    {
      "cell_type": "code",
      "metadata": {
        "id": "XeDYECnxFwMy"
      },
      "source": [
        "model = Sequential([\n",
        "    layers.InputLayer(input_shape=[WINDOW_SIZE, 1]),           \n",
        "    layers.Conv1D(filters=32, kernel_size=5, strides=1, padding=\"causal\", activation=\"relu\"),\n",
        "    layers.Dense(20, activation=\"relu\"),\n",
        "    layers.Dense(1)\n",
        "])"
      ],
      "execution_count": 75,
      "outputs": []
    },
    {
      "cell_type": "code",
      "metadata": {
        "colab": {
          "base_uri": "https://localhost:8080/"
        },
        "id": "ndyK-f0BHVIl",
        "outputId": "4175ed0d-8748-4a1d-cd64-0529e9e85f48"
      },
      "source": [
        "model.summary()"
      ],
      "execution_count": 84,
      "outputs": [
        {
          "output_type": "stream",
          "name": "stdout",
          "text": [
            "Model: \"sequential_4\"\n",
            "_________________________________________________________________\n",
            " Layer (type)                Output Shape              Param #   \n",
            "=================================================================\n",
            " conv1d_1 (Conv1D)           (None, 7, 32)             192       \n",
            "                                                                 \n",
            " dense_11 (Dense)            (None, 7, 20)             660       \n",
            "                                                                 \n",
            " dense_12 (Dense)            (None, 7, 1)              21        \n",
            "                                                                 \n",
            "=================================================================\n",
            "Total params: 873\n",
            "Trainable params: 873\n",
            "Non-trainable params: 0\n",
            "_________________________________________________________________\n"
          ]
        }
      ]
    },
    {
      "cell_type": "code",
      "metadata": {
        "id": "27TilpbmGG8k"
      },
      "source": [
        "optimizer   = tf.keras.optimizers.SGD(learning_rate=1e-8, momentum=0.9)\n",
        "loss        = tf.keras.losses.Huber()\n",
        "metrics     = ['mae']"
      ],
      "execution_count": 76,
      "outputs": []
    },
    {
      "cell_type": "code",
      "metadata": {
        "id": "I_rKQ10yGG8l"
      },
      "source": [
        "model.compile(optimizer=optimizer,\n",
        "              loss=loss,\n",
        "              metrics=metrics)"
      ],
      "execution_count": 77,
      "outputs": []
    },
    {
      "cell_type": "code",
      "metadata": {
        "id": "I9Bt-0yrGG8l"
      },
      "source": [
        "early_stopping    = EarlyStopping(monitor='loss', patience=40)\n",
        "model_checkpoint  = ModelCheckpoint(monitor='loss', filepath='./best_model.h5', save_best_only=True)"
      ],
      "execution_count": 78,
      "outputs": []
    },
    {
      "cell_type": "code",
      "metadata": {
        "id": "ADy_7LWOGG8n"
      },
      "source": [
        "lr_schedule = LearningRateScheduler(lambda epoch: 1e-8 * 10**(epoch / 20))"
      ],
      "execution_count": 79,
      "outputs": []
    },
    {
      "cell_type": "code",
      "metadata": {
        "id": "iJ7SJLFqGG8n"
      },
      "source": [
        "EPOCHS = 120\n",
        "CALLBACKS = [early_stopping, model_checkpoint, lr_schedule]"
      ],
      "execution_count": 80,
      "outputs": []
    },
    {
      "cell_type": "code",
      "metadata": {
        "colab": {
          "base_uri": "https://localhost:8080/"
        },
        "id": "Ey9WhKPdGG8o",
        "outputId": "d602ebd1-e045-486e-c90f-f50a24a4c8c9"
      },
      "source": [
        "history = model.fit(dataset,\n",
        "                    verbose = 1,\n",
        "                    epochs = EPOCHS,\n",
        "                    callbacks = CALLBACKS)"
      ],
      "execution_count": 81,
      "outputs": [
        {
          "output_type": "stream",
          "name": "stdout",
          "text": [
            "Epoch 1/120\n",
            "69/69 [==============================] - 2s 10ms/step - loss: 3064.4766 - mae: 3064.9761 - lr: 1.0000e-08\n",
            "Epoch 2/120\n",
            "69/69 [==============================] - 1s 9ms/step - loss: 2980.1230 - mae: 2980.6230 - lr: 1.1220e-08\n",
            "Epoch 3/120\n",
            "69/69 [==============================] - 1s 10ms/step - loss: 2926.3738 - mae: 2926.8738 - lr: 1.2589e-08\n",
            "Epoch 4/120\n",
            "69/69 [==============================] - 1s 9ms/step - loss: 2885.7983 - mae: 2886.2983 - lr: 1.4125e-08\n",
            "Epoch 5/120\n",
            "69/69 [==============================] - 1s 9ms/step - loss: 2856.7510 - mae: 2857.2512 - lr: 1.5849e-08\n",
            "Epoch 6/120\n",
            "69/69 [==============================] - 1s 9ms/step - loss: 2834.0869 - mae: 2834.5859 - lr: 1.7783e-08\n",
            "Epoch 7/120\n",
            "69/69 [==============================] - 1s 9ms/step - loss: 2820.1594 - mae: 2820.6589 - lr: 1.9953e-08\n",
            "Epoch 8/120\n",
            "69/69 [==============================] - 1s 9ms/step - loss: 2806.9551 - mae: 2807.4551 - lr: 2.2387e-08\n",
            "Epoch 9/120\n",
            "69/69 [==============================] - 1s 9ms/step - loss: 2788.3477 - mae: 2788.8477 - lr: 2.5119e-08\n",
            "Epoch 10/120\n",
            "69/69 [==============================] - 1s 10ms/step - loss: 2775.1890 - mae: 2775.6887 - lr: 2.8184e-08\n",
            "Epoch 11/120\n",
            "69/69 [==============================] - 1s 9ms/step - loss: 2751.3889 - mae: 2751.8882 - lr: 3.1623e-08\n",
            "Epoch 12/120\n",
            "69/69 [==============================] - 1s 10ms/step - loss: 2754.3965 - mae: 2754.8960 - lr: 3.5481e-08\n",
            "Epoch 13/120\n",
            "69/69 [==============================] - 1s 10ms/step - loss: 2722.0164 - mae: 2722.5161 - lr: 3.9811e-08\n",
            "Epoch 14/120\n",
            "69/69 [==============================] - 1s 9ms/step - loss: 2726.3909 - mae: 2726.8904 - lr: 4.4668e-08\n",
            "Epoch 15/120\n",
            "69/69 [==============================] - 1s 9ms/step - loss: 2712.7991 - mae: 2713.2993 - lr: 5.0119e-08\n",
            "Epoch 16/120\n",
            "69/69 [==============================] - 1s 9ms/step - loss: 2733.1394 - mae: 2733.6387 - lr: 5.6234e-08\n",
            "Epoch 17/120\n",
            "69/69 [==============================] - 1s 9ms/step - loss: 2689.8022 - mae: 2690.3035 - lr: 6.3096e-08\n",
            "Epoch 18/120\n",
            "69/69 [==============================] - 1s 9ms/step - loss: 2690.4294 - mae: 2690.9285 - lr: 7.0795e-08\n",
            "Epoch 19/120\n",
            "69/69 [==============================] - 1s 9ms/step - loss: 2705.4988 - mae: 2705.9983 - lr: 7.9433e-08\n",
            "Epoch 20/120\n",
            "69/69 [==============================] - 1s 9ms/step - loss: 2702.1023 - mae: 2702.6021 - lr: 8.9125e-08\n",
            "Epoch 21/120\n",
            "69/69 [==============================] - 1s 9ms/step - loss: 2695.8628 - mae: 2696.3618 - lr: 1.0000e-07\n",
            "Epoch 22/120\n",
            "69/69 [==============================] - 1s 9ms/step - loss: 2704.1340 - mae: 2704.6340 - lr: 1.1220e-07\n",
            "Epoch 23/120\n",
            "69/69 [==============================] - 1s 9ms/step - loss: 2690.9680 - mae: 2691.4673 - lr: 1.2589e-07\n",
            "Epoch 24/120\n",
            "69/69 [==============================] - 1s 9ms/step - loss: 2716.9390 - mae: 2717.4380 - lr: 1.4125e-07\n",
            "Epoch 25/120\n",
            "69/69 [==============================] - 1s 9ms/step - loss: 2715.1169 - mae: 2715.6162 - lr: 1.5849e-07\n",
            "Epoch 26/120\n",
            "69/69 [==============================] - 1s 9ms/step - loss: 2706.7566 - mae: 2707.2568 - lr: 1.7783e-07\n",
            "Epoch 27/120\n",
            "69/69 [==============================] - 1s 9ms/step - loss: 2695.4819 - mae: 2695.9812 - lr: 1.9953e-07\n",
            "Epoch 28/120\n",
            "69/69 [==============================] - 1s 9ms/step - loss: 2699.8118 - mae: 2700.3123 - lr: 2.2387e-07\n",
            "Epoch 29/120\n",
            "69/69 [==============================] - 1s 9ms/step - loss: 2694.9836 - mae: 2695.4827 - lr: 2.5119e-07\n",
            "Epoch 30/120\n",
            "69/69 [==============================] - 1s 9ms/step - loss: 2692.6226 - mae: 2693.1228 - lr: 2.8184e-07\n",
            "Epoch 31/120\n",
            "69/69 [==============================] - 1s 10ms/step - loss: 2681.3569 - mae: 2681.8562 - lr: 3.1623e-07\n",
            "Epoch 32/120\n",
            "69/69 [==============================] - 1s 9ms/step - loss: 2704.3604 - mae: 2704.8601 - lr: 3.5481e-07\n",
            "Epoch 33/120\n",
            "69/69 [==============================] - 1s 9ms/step - loss: 2705.5032 - mae: 2706.0032 - lr: 3.9811e-07\n",
            "Epoch 34/120\n",
            "69/69 [==============================] - 1s 9ms/step - loss: 2689.6348 - mae: 2690.1335 - lr: 4.4668e-07\n",
            "Epoch 35/120\n",
            "69/69 [==============================] - 1s 9ms/step - loss: 2712.9741 - mae: 2713.4736 - lr: 5.0119e-07\n",
            "Epoch 36/120\n",
            "69/69 [==============================] - 1s 9ms/step - loss: 2703.1104 - mae: 2703.6099 - lr: 5.6234e-07\n",
            "Epoch 37/120\n",
            "69/69 [==============================] - 1s 9ms/step - loss: 2701.6765 - mae: 2702.1758 - lr: 6.3096e-07\n",
            "Epoch 38/120\n",
            "69/69 [==============================] - 1s 9ms/step - loss: 2689.2456 - mae: 2689.7461 - lr: 7.0795e-07\n",
            "Epoch 39/120\n",
            "69/69 [==============================] - 1s 9ms/step - loss: 2697.3616 - mae: 2697.8608 - lr: 7.9433e-07\n",
            "Epoch 40/120\n",
            "69/69 [==============================] - 1s 9ms/step - loss: 2719.8010 - mae: 2720.3008 - lr: 8.9125e-07\n",
            "Epoch 41/120\n",
            "69/69 [==============================] - 1s 9ms/step - loss: 2692.3616 - mae: 2692.8613 - lr: 1.0000e-06\n",
            "Epoch 42/120\n",
            "69/69 [==============================] - 1s 10ms/step - loss: 2710.6113 - mae: 2711.1106 - lr: 1.1220e-06\n",
            "Epoch 43/120\n",
            "69/69 [==============================] - 1s 9ms/step - loss: 2706.4482 - mae: 2706.9475 - lr: 1.2589e-06\n",
            "Epoch 44/120\n",
            "69/69 [==============================] - 1s 9ms/step - loss: 2722.0542 - mae: 2722.5540 - lr: 1.4125e-06\n",
            "Epoch 45/120\n",
            "69/69 [==============================] - 1s 9ms/step - loss: 2722.7781 - mae: 2723.2773 - lr: 1.5849e-06\n",
            "Epoch 46/120\n",
            "69/69 [==============================] - 1s 9ms/step - loss: 2715.7185 - mae: 2716.2175 - lr: 1.7783e-06\n",
            "Epoch 47/120\n",
            "69/69 [==============================] - 1s 9ms/step - loss: 2717.4346 - mae: 2717.9348 - lr: 1.9953e-06\n",
            "Epoch 48/120\n",
            "69/69 [==============================] - 1s 9ms/step - loss: 2709.9500 - mae: 2710.4504 - lr: 2.2387e-06\n",
            "Epoch 49/120\n",
            "69/69 [==============================] - 1s 10ms/step - loss: 2729.2075 - mae: 2729.7075 - lr: 2.5119e-06\n",
            "Epoch 50/120\n",
            "69/69 [==============================] - 1s 9ms/step - loss: 2715.6672 - mae: 2716.1675 - lr: 2.8184e-06\n",
            "Epoch 51/120\n",
            "69/69 [==============================] - 1s 9ms/step - loss: 2709.1213 - mae: 2709.6211 - lr: 3.1623e-06\n",
            "Epoch 52/120\n",
            "69/69 [==============================] - 1s 9ms/step - loss: 2702.1560 - mae: 2702.6555 - lr: 3.5481e-06\n",
            "Epoch 53/120\n",
            "69/69 [==============================] - 1s 9ms/step - loss: 2710.4541 - mae: 2710.9534 - lr: 3.9811e-06\n",
            "Epoch 54/120\n",
            "69/69 [==============================] - 1s 9ms/step - loss: 2720.1973 - mae: 2720.6968 - lr: 4.4668e-06\n",
            "Epoch 55/120\n",
            "69/69 [==============================] - 1s 9ms/step - loss: 2692.0930 - mae: 2692.5925 - lr: 5.0119e-06\n",
            "Epoch 56/120\n",
            "69/69 [==============================] - 1s 9ms/step - loss: 2742.9500 - mae: 2743.4490 - lr: 5.6234e-06\n",
            "Epoch 57/120\n",
            "69/69 [==============================] - 1s 9ms/step - loss: 2754.5847 - mae: 2755.0847 - lr: 6.3096e-06\n",
            "Epoch 58/120\n",
            "69/69 [==============================] - 1s 9ms/step - loss: 2734.5259 - mae: 2735.0259 - lr: 7.0795e-06\n",
            "Epoch 59/120\n",
            "69/69 [==============================] - 1s 9ms/step - loss: 2734.7805 - mae: 2735.2805 - lr: 7.9433e-06\n",
            "Epoch 60/120\n",
            "69/69 [==============================] - 1s 9ms/step - loss: 2780.4348 - mae: 2780.9353 - lr: 8.9125e-06\n",
            "Epoch 61/120\n",
            "69/69 [==============================] - 1s 9ms/step - loss: 2727.2527 - mae: 2727.7522 - lr: 1.0000e-05\n",
            "Epoch 62/120\n",
            "69/69 [==============================] - 1s 9ms/step - loss: 2750.9995 - mae: 2751.4993 - lr: 1.1220e-05\n",
            "Epoch 63/120\n",
            "69/69 [==============================] - 1s 9ms/step - loss: 2758.3452 - mae: 2758.8447 - lr: 1.2589e-05\n",
            "Epoch 64/120\n",
            "69/69 [==============================] - 1s 9ms/step - loss: 2739.3508 - mae: 2739.8503 - lr: 1.4125e-05\n",
            "Epoch 65/120\n",
            "69/69 [==============================] - 1s 9ms/step - loss: 2725.5898 - mae: 2726.0898 - lr: 1.5849e-05\n",
            "Epoch 66/120\n",
            "69/69 [==============================] - 1s 9ms/step - loss: 2733.5500 - mae: 2734.0498 - lr: 1.7783e-05\n",
            "Epoch 67/120\n",
            "69/69 [==============================] - 1s 9ms/step - loss: 2735.5776 - mae: 2736.0776 - lr: 1.9953e-05\n",
            "Epoch 68/120\n",
            "69/69 [==============================] - 1s 9ms/step - loss: 2718.7773 - mae: 2719.2771 - lr: 2.2387e-05\n",
            "Epoch 69/120\n",
            "69/69 [==============================] - 1s 9ms/step - loss: 2745.5938 - mae: 2746.0933 - lr: 2.5119e-05\n",
            "Epoch 70/120\n",
            "69/69 [==============================] - 1s 10ms/step - loss: 2753.5535 - mae: 2754.0530 - lr: 2.8184e-05\n",
            "Epoch 71/120\n",
            "69/69 [==============================] - 1s 9ms/step - loss: 2728.6814 - mae: 2729.1812 - lr: 3.1623e-05\n"
          ]
        }
      ]
    },
    {
      "cell_type": "code",
      "metadata": {
        "colab": {
          "base_uri": "https://localhost:8080/",
          "height": 292
        },
        "id": "iGvwzsAdGEjL",
        "outputId": "543a541d-ece5-4edc-d96a-220b0ee78f65"
      },
      "source": [
        "plt.semilogx(history.history['lr'], history.history['loss'])\n",
        "plt.axis([1e-8, 1e-4, 2000, 4000])"
      ],
      "execution_count": 83,
      "outputs": [
        {
          "output_type": "execute_result",
          "data": {
            "text/plain": [
              "(1e-08, 0.0001, 2000.0, 4000.0)"
            ]
          },
          "metadata": {},
          "execution_count": 83
        },
        {
          "output_type": "display_data",
          "data": {
            "image/png": "[encoded data removed]",
            "text/plain": [
              "<Figure size 432x288 with 1 Axes>"
            ]
          },
          "metadata": {
            "needs_background": "light"
          }
        }
      ]
    },
    {
      "cell_type": "markdown",
      "metadata": {
        "id": "1g2KnHEFkTAF"
      },
      "source": [
        "## BiLSTM"
      ]
    },
    {
      "cell_type": "code",
      "metadata": {
        "id": "5xf5aGKTHJfZ"
      },
      "source": [
        "model = Sequential([\n",
        "    layers.InputLayer(input_shape=[WINDOW_SIZE, 1]),           \n",
        "    layers.Bidirectional(layers.LSTM(32, return_sequences=True)),\n",
        "    layers.Bidirectional(layers.LSTM(32)),\n",
        "    layers.Dense(20, activation=\"relu\"),\n",
        "    layers.Dense(1)\n",
        "])"
      ],
      "execution_count": 92,
      "outputs": []
    },
    {
      "cell_type": "code",
      "metadata": {
        "id": "y96l5Y1JHjx0"
      },
      "source": [
        "optimizer   = tf.keras.optimizers.SGD(learning_rate=1e-8, momentum=0.9)\n",
        "loss        = tf.keras.losses.Huber()\n",
        "metrics     = ['mae']"
      ],
      "execution_count": 93,
      "outputs": []
    },
    {
      "cell_type": "code",
      "metadata": {
        "id": "ZzHqIlWFHjx0"
      },
      "source": [
        "model.compile(optimizer=optimizer,\n",
        "              loss=loss,\n",
        "              metrics=metrics)"
      ],
      "execution_count": 94,
      "outputs": []
    },
    {
      "cell_type": "code",
      "metadata": {
        "id": "B8WzBzM6Hjx1"
      },
      "source": [
        "early_stopping    = EarlyStopping(monitor='loss', patience=40)\n",
        "model_checkpoint  = ModelCheckpoint(monitor='loss', filepath='./best_model.h5', save_best_only=True)"
      ],
      "execution_count": 95,
      "outputs": []
    },
    {
      "cell_type": "code",
      "metadata": {
        "id": "vvFmC6tqHjx1"
      },
      "source": [
        "lr_schedule = LearningRateScheduler(lambda epoch: 1e-8 * 10**(epoch / 20))"
      ],
      "execution_count": 96,
      "outputs": []
    },
    {
      "cell_type": "code",
      "metadata": {
        "id": "uM3TeCBIHjx1"
      },
      "source": [
        "EPOCHS = 120\n",
        "CALLBACKS = [early_stopping, model_checkpoint, lr_schedule]"
      ],
      "execution_count": 97,
      "outputs": []
    },
    {
      "cell_type": "code",
      "metadata": {
        "colab": {
          "base_uri": "https://localhost:8080/"
        },
        "id": "PcXEK9zYHjx1",
        "outputId": "83264425-23ff-420b-d927-2aae5d1ba147"
      },
      "source": [
        "history = model.fit(dataset,\n",
        "                    verbose = 1,\n",
        "                    epochs = EPOCHS,\n",
        "                    callbacks = CALLBACKS)"
      ],
      "execution_count": 98,
      "outputs": [
        {
          "output_type": "stream",
          "name": "stdout",
          "text": [
            "Epoch 1/120\n",
            "69/69 [==============================] - 9s 16ms/step - loss: 3080.3459 - mae: 3080.8459 - lr: 1.0000e-08\n",
            "Epoch 2/120\n",
            "69/69 [==============================] - 1s 16ms/step - loss: 3080.3455 - mae: 3080.8455 - lr: 1.1220e-08\n",
            "Epoch 3/120\n",
            "69/69 [==============================] - 1s 15ms/step - loss: 3080.3445 - mae: 3080.8445 - lr: 1.2589e-08\n",
            "Epoch 4/120\n",
            "69/69 [==============================] - 1s 15ms/step - loss: 3080.3435 - mae: 3080.8435 - lr: 1.4125e-08\n",
            "Epoch 5/120\n",
            "69/69 [==============================] - 1s 16ms/step - loss: 3080.3413 - mae: 3080.8413 - lr: 1.5849e-08\n",
            "Epoch 6/120\n",
            "69/69 [==============================] - 1s 16ms/step - loss: 3080.3381 - mae: 3080.8381 - lr: 1.7783e-08\n",
            "Epoch 7/120\n",
            "69/69 [==============================] - 1s 15ms/step - loss: 3080.3342 - mae: 3080.8342 - lr: 1.9953e-08\n",
            "Epoch 8/120\n",
            "69/69 [==============================] - 1s 16ms/step - loss: 3080.3333 - mae: 3080.8333 - lr: 2.2387e-08\n",
            "Epoch 9/120\n",
            "69/69 [==============================] - 1s 15ms/step - loss: 3080.3333 - mae: 3080.8333 - lr: 2.5119e-08\n",
            "Epoch 10/120\n",
            "69/69 [==============================] - 1s 16ms/step - loss: 3080.3320 - mae: 3080.8320 - lr: 2.8184e-08\n",
            "Epoch 11/120\n",
            "69/69 [==============================] - 1s 16ms/step - loss: 3080.3311 - mae: 3080.8311 - lr: 3.1623e-08\n",
            "Epoch 12/120\n",
            "69/69 [==============================] - 1s 15ms/step - loss: 3080.3313 - mae: 3080.8313 - lr: 3.5481e-08\n",
            "Epoch 13/120\n",
            "69/69 [==============================] - 1s 16ms/step - loss: 3080.3301 - mae: 3080.8301 - lr: 3.9811e-08\n",
            "Epoch 14/120\n",
            "69/69 [==============================] - 1s 16ms/step - loss: 3080.3298 - mae: 3080.8298 - lr: 4.4668e-08\n",
            "Epoch 15/120\n",
            "69/69 [==============================] - 1s 16ms/step - loss: 3080.3284 - mae: 3080.8284 - lr: 5.0119e-08\n",
            "Epoch 16/120\n",
            "69/69 [==============================] - 1s 15ms/step - loss: 3080.3269 - mae: 3080.8269 - lr: 5.6234e-08\n",
            "Epoch 17/120\n",
            "69/69 [==============================] - 1s 16ms/step - loss: 3080.3259 - mae: 3080.8259 - lr: 6.3096e-08\n",
            "Epoch 18/120\n",
            "69/69 [==============================] - 1s 16ms/step - loss: 3080.3245 - mae: 3080.8245 - lr: 7.0795e-08\n",
            "Epoch 19/120\n",
            "69/69 [==============================] - 1s 16ms/step - loss: 3080.3235 - mae: 3080.8235 - lr: 7.9433e-08\n",
            "Epoch 20/120\n",
            "69/69 [==============================] - 1s 15ms/step - loss: 3080.3220 - mae: 3080.8220 - lr: 8.9125e-08\n",
            "Epoch 21/120\n",
            "69/69 [==============================] - 1s 16ms/step - loss: 3080.3203 - mae: 3080.8203 - lr: 1.0000e-07\n",
            "Epoch 22/120\n",
            "69/69 [==============================] - 1s 16ms/step - loss: 3080.3188 - mae: 3080.8188 - lr: 1.1220e-07\n",
            "Epoch 23/120\n",
            "69/69 [==============================] - 1s 16ms/step - loss: 3080.3159 - mae: 3080.8159 - lr: 1.2589e-07\n",
            "Epoch 24/120\n",
            "69/69 [==============================] - 1s 16ms/step - loss: 3080.3137 - mae: 3080.8137 - lr: 1.4125e-07\n",
            "Epoch 25/120\n",
            "69/69 [==============================] - 1s 16ms/step - loss: 3080.3115 - mae: 3080.8115 - lr: 1.5849e-07\n",
            "Epoch 26/120\n",
            "69/69 [==============================] - 1s 16ms/step - loss: 3080.3083 - mae: 3080.8083 - lr: 1.7783e-07\n",
            "Epoch 27/120\n",
            "69/69 [==============================] - 1s 16ms/step - loss: 3080.3052 - mae: 3080.8052 - lr: 1.9953e-07\n",
            "Epoch 28/120\n",
            "69/69 [==============================] - 1s 16ms/step - loss: 3080.3000 - mae: 3080.8000 - lr: 2.2387e-07\n",
            "Epoch 29/120\n",
            "69/69 [==============================] - 1s 16ms/step - loss: 3080.2949 - mae: 3080.7949 - lr: 2.5119e-07\n",
            "Epoch 30/120\n",
            "69/69 [==============================] - 1s 16ms/step - loss: 3080.2891 - mae: 3080.7891 - lr: 2.8184e-07\n",
            "Epoch 31/120\n",
            "69/69 [==============================] - 1s 16ms/step - loss: 3080.2661 - mae: 3080.7661 - lr: 3.1623e-07\n",
            "Epoch 32/120\n",
            "69/69 [==============================] - 1s 17ms/step - loss: 3080.2288 - mae: 3080.7288 - lr: 3.5481e-07\n",
            "Epoch 33/120\n",
            "69/69 [==============================] - 1s 15ms/step - loss: 3080.2190 - mae: 3080.7190 - lr: 3.9811e-07\n",
            "Epoch 34/120\n",
            "69/69 [==============================] - 1s 15ms/step - loss: 3080.2092 - mae: 3080.7092 - lr: 4.4668e-07\n",
            "Epoch 35/120\n",
            "69/69 [==============================] - 1s 16ms/step - loss: 3080.2000 - mae: 3080.7000 - lr: 5.0119e-07\n",
            "Epoch 36/120\n",
            "69/69 [==============================] - 1s 16ms/step - loss: 3080.1943 - mae: 3080.6943 - lr: 5.6234e-07\n",
            "Epoch 37/120\n",
            "69/69 [==============================] - 1s 16ms/step - loss: 3080.1870 - mae: 3080.6870 - lr: 6.3096e-07\n",
            "Epoch 38/120\n",
            "69/69 [==============================] - 1s 16ms/step - loss: 3080.1807 - mae: 3080.6807 - lr: 7.0795e-07\n",
            "Epoch 39/120\n",
            "69/69 [==============================] - 1s 16ms/step - loss: 3080.1736 - mae: 3080.6736 - lr: 7.9433e-07\n",
            "Epoch 40/120\n",
            "69/69 [==============================] - 1s 16ms/step - loss: 3080.1660 - mae: 3080.6660 - lr: 8.9125e-07\n",
            "Epoch 41/120\n",
            "69/69 [==============================] - 1s 16ms/step - loss: 3080.1577 - mae: 3080.6577 - lr: 1.0000e-06\n",
            "Epoch 42/120\n",
            "69/69 [==============================] - 1s 16ms/step - loss: 3080.1494 - mae: 3080.6494 - lr: 1.1220e-06\n",
            "Epoch 43/120\n",
            "69/69 [==============================] - 1s 16ms/step - loss: 3080.1421 - mae: 3080.6421 - lr: 1.2589e-06\n",
            "Epoch 44/120\n",
            "69/69 [==============================] - 1s 16ms/step - loss: 3080.1340 - mae: 3080.6340 - lr: 1.4125e-06\n",
            "Epoch 45/120\n",
            "69/69 [==============================] - 1s 15ms/step - loss: 3080.1260 - mae: 3080.6260 - lr: 1.5849e-06\n",
            "Epoch 46/120\n",
            "69/69 [==============================] - 1s 15ms/step - loss: 3080.1138 - mae: 3080.6138 - lr: 1.7783e-06\n",
            "Epoch 47/120\n",
            "69/69 [==============================] - 1s 16ms/step - loss: 3080.1021 - mae: 3080.6021 - lr: 1.9953e-06\n",
            "Epoch 48/120\n",
            "69/69 [==============================] - 1s 16ms/step - loss: 3080.0901 - mae: 3080.5901 - lr: 2.2387e-06\n",
            "Epoch 49/120\n",
            "69/69 [==============================] - 1s 16ms/step - loss: 3080.0764 - mae: 3080.5764 - lr: 2.5119e-06\n",
            "Epoch 50/120\n",
            "69/69 [==============================] - 1s 15ms/step - loss: 3080.0610 - mae: 3080.5610 - lr: 2.8184e-06\n",
            "Epoch 51/120\n",
            "69/69 [==============================] - 1s 16ms/step - loss: 3080.0444 - mae: 3080.5444 - lr: 3.1623e-06\n",
            "Epoch 52/120\n",
            "69/69 [==============================] - 1s 17ms/step - loss: 3080.0264 - mae: 3080.5264 - lr: 3.5481e-06\n",
            "Epoch 53/120\n",
            "69/69 [==============================] - 1s 16ms/step - loss: 3080.0081 - mae: 3080.5081 - lr: 3.9811e-06\n",
            "Epoch 54/120\n",
            "69/69 [==============================] - 1s 16ms/step - loss: 3079.9893 - mae: 3080.4893 - lr: 4.4668e-06\n",
            "Epoch 55/120\n",
            "69/69 [==============================] - 1s 16ms/step - loss: 3079.9692 - mae: 3080.4692 - lr: 5.0119e-06\n",
            "Epoch 56/120\n",
            "69/69 [==============================] - 1s 16ms/step - loss: 3079.9473 - mae: 3080.4473 - lr: 5.6234e-06\n",
            "Epoch 57/120\n",
            "69/69 [==============================] - 1s 16ms/step - loss: 3079.9224 - mae: 3080.4224 - lr: 6.3096e-06\n",
            "Epoch 58/120\n",
            "69/69 [==============================] - 1s 16ms/step - loss: 3079.8997 - mae: 3080.3997 - lr: 7.0795e-06\n",
            "Epoch 59/120\n",
            "69/69 [==============================] - 1s 16ms/step - loss: 3079.8748 - mae: 3080.3748 - lr: 7.9433e-06\n",
            "Epoch 60/120\n",
            "69/69 [==============================] - 1s 16ms/step - loss: 3079.8472 - mae: 3080.3472 - lr: 8.9125e-06\n",
            "Epoch 61/120\n",
            "69/69 [==============================] - 1s 16ms/step - loss: 3079.8147 - mae: 3080.3147 - lr: 1.0000e-05\n",
            "Epoch 62/120\n",
            "69/69 [==============================] - 1s 15ms/step - loss: 3079.7778 - mae: 3080.2778 - lr: 1.1220e-05\n",
            "Epoch 63/120\n",
            "69/69 [==============================] - 1s 16ms/step - loss: 3079.7344 - mae: 3080.2344 - lr: 1.2589e-05\n",
            "Epoch 64/120\n",
            "69/69 [==============================] - 1s 15ms/step - loss: 3079.6777 - mae: 3080.1777 - lr: 1.4125e-05\n",
            "Epoch 65/120\n",
            "69/69 [==============================] - 1s 16ms/step - loss: 3079.6223 - mae: 3080.1223 - lr: 1.5849e-05\n",
            "Epoch 66/120\n",
            "69/69 [==============================] - 1s 16ms/step - loss: 3079.5576 - mae: 3080.0576 - lr: 1.7783e-05\n",
            "Epoch 67/120\n",
            "69/69 [==============================] - 1s 15ms/step - loss: 3079.4805 - mae: 3079.9805 - lr: 1.9953e-05\n",
            "Epoch 68/120\n",
            "69/69 [==============================] - 1s 16ms/step - loss: 3079.3884 - mae: 3079.8884 - lr: 2.2387e-05\n",
            "Epoch 69/120\n",
            "69/69 [==============================] - 1s 15ms/step - loss: 3079.2764 - mae: 3079.7764 - lr: 2.5119e-05\n",
            "Epoch 70/120\n",
            "69/69 [==============================] - 1s 16ms/step - loss: 3079.1399 - mae: 3079.6399 - lr: 2.8184e-05\n",
            "Epoch 71/120\n",
            "69/69 [==============================] - 1s 16ms/step - loss: 3078.9702 - mae: 3079.4702 - lr: 3.1623e-05\n",
            "Epoch 72/120\n",
            "69/69 [==============================] - 1s 16ms/step - loss: 3078.7542 - mae: 3079.2542 - lr: 3.5481e-05\n",
            "Epoch 73/120\n",
            "69/69 [==============================] - 1s 16ms/step - loss: 3078.4780 - mae: 3078.9780 - lr: 3.9811e-05\n",
            "Epoch 74/120\n",
            "69/69 [==============================] - 1s 16ms/step - loss: 3078.1121 - mae: 3078.6121 - lr: 4.4668e-05\n",
            "Epoch 75/120\n",
            "69/69 [==============================] - 1s 16ms/step - loss: 3077.5952 - mae: 3078.0952 - lr: 5.0119e-05\n",
            "Epoch 76/120\n",
            "69/69 [==============================] - 1s 16ms/step - loss: 3076.8584 - mae: 3077.3584 - lr: 5.6234e-05\n",
            "Epoch 77/120\n",
            "69/69 [==============================] - 1s 15ms/step - loss: 3075.7708 - mae: 3076.2708 - lr: 6.3096e-05\n",
            "Epoch 78/120\n",
            "69/69 [==============================] - 1s 16ms/step - loss: 3074.0571 - mae: 3074.5571 - lr: 7.0795e-05\n",
            "Epoch 79/120\n",
            "69/69 [==============================] - 1s 16ms/step - loss: 3071.1746 - mae: 3071.6746 - lr: 7.9433e-05\n",
            "Epoch 80/120\n",
            "69/69 [==============================] - 1s 16ms/step - loss: 3065.8013 - mae: 3066.3013 - lr: 8.9125e-05\n",
            "Epoch 81/120\n",
            "69/69 [==============================] - 1s 15ms/step - loss: 3054.2251 - mae: 3054.7251 - lr: 1.0000e-04\n",
            "Epoch 82/120\n",
            "69/69 [==============================] - 1s 16ms/step - loss: 3023.7805 - mae: 3024.2805 - lr: 1.1220e-04\n",
            "Epoch 83/120\n",
            "69/69 [==============================] - 1s 16ms/step - loss: 2922.2590 - mae: 2922.7588 - lr: 1.2589e-04\n",
            "Epoch 84/120\n",
            "69/69 [==============================] - 1s 16ms/step - loss: 2713.8020 - mae: 2714.3013 - lr: 1.4125e-04\n",
            "Epoch 85/120\n",
            "69/69 [==============================] - 1s 16ms/step - loss: 2654.0447 - mae: 2654.5444 - lr: 1.5849e-04\n",
            "Epoch 86/120\n",
            "69/69 [==============================] - 1s 15ms/step - loss: 2664.3345 - mae: 2664.8345 - lr: 1.7783e-04\n",
            "Epoch 87/120\n",
            "69/69 [==============================] - 1s 16ms/step - loss: 2668.7466 - mae: 2669.2466 - lr: 1.9953e-04\n",
            "Epoch 88/120\n",
            "69/69 [==============================] - 1s 15ms/step - loss: 2670.3276 - mae: 2670.8276 - lr: 2.2387e-04\n",
            "Epoch 89/120\n",
            "69/69 [==============================] - 1s 15ms/step - loss: 2672.7700 - mae: 2673.2698 - lr: 2.5119e-04\n",
            "Epoch 90/120\n",
            "69/69 [==============================] - 1s 15ms/step - loss: 2674.6223 - mae: 2675.1221 - lr: 2.8184e-04\n",
            "Epoch 91/120\n",
            "69/69 [==============================] - 1s 15ms/step - loss: 2680.6113 - mae: 2681.1113 - lr: 3.1623e-04\n",
            "Epoch 92/120\n",
            "69/69 [==============================] - 1s 15ms/step - loss: 2684.9932 - mae: 2685.4932 - lr: 3.5481e-04\n",
            "Epoch 93/120\n",
            "69/69 [==============================] - 1s 15ms/step - loss: 2687.8955 - mae: 2688.3955 - lr: 3.9811e-04\n",
            "Epoch 94/120\n",
            "69/69 [==============================] - 1s 16ms/step - loss: 2688.9775 - mae: 2689.4775 - lr: 4.4668e-04\n",
            "Epoch 95/120\n",
            "69/69 [==============================] - 1s 15ms/step - loss: 2705.6072 - mae: 2706.1069 - lr: 5.0119e-04\n",
            "Epoch 96/120\n",
            "69/69 [==============================] - 1s 15ms/step - loss: 2703.7900 - mae: 2704.2896 - lr: 5.6234e-04\n",
            "Epoch 97/120\n",
            "69/69 [==============================] - 1s 15ms/step - loss: 2712.4741 - mae: 2712.9741 - lr: 6.3096e-04\n",
            "Epoch 98/120\n",
            "69/69 [==============================] - 1s 15ms/step - loss: 2712.4436 - mae: 2712.9436 - lr: 7.0795e-04\n",
            "Epoch 99/120\n",
            "69/69 [==============================] - 1s 15ms/step - loss: 2722.0415 - mae: 2722.5415 - lr: 7.9433e-04\n",
            "Epoch 100/120\n",
            "69/69 [==============================] - 1s 15ms/step - loss: 2742.3909 - mae: 2742.8909 - lr: 8.9125e-04\n",
            "Epoch 101/120\n",
            "69/69 [==============================] - 1s 16ms/step - loss: 2750.6270 - mae: 2751.1267 - lr: 0.0010\n",
            "Epoch 102/120\n",
            "69/69 [==============================] - 1s 15ms/step - loss: 2755.6729 - mae: 2756.1729 - lr: 0.0011\n",
            "Epoch 103/120\n",
            "69/69 [==============================] - 1s 15ms/step - loss: 2804.7891 - mae: 2805.2888 - lr: 0.0013\n",
            "Epoch 104/120\n",
            "69/69 [==============================] - 1s 15ms/step - loss: 2786.2351 - mae: 2786.7341 - lr: 0.0014\n",
            "Epoch 105/120\n",
            "69/69 [==============================] - 1s 15ms/step - loss: 2847.1746 - mae: 2847.6746 - lr: 0.0016\n",
            "Epoch 106/120\n",
            "69/69 [==============================] - 1s 15ms/step - loss: 2826.9717 - mae: 2827.4717 - lr: 0.0018\n",
            "Epoch 107/120\n",
            "69/69 [==============================] - 1s 15ms/step - loss: 3008.0969 - mae: 3008.5969 - lr: 0.0020\n",
            "Epoch 108/120\n",
            "69/69 [==============================] - 1s 15ms/step - loss: 2816.7222 - mae: 2817.2219 - lr: 0.0022\n",
            "Epoch 109/120\n",
            "69/69 [==============================] - 1s 15ms/step - loss: 3312.7373 - mae: 3313.2373 - lr: 0.0025\n",
            "Epoch 110/120\n",
            "69/69 [==============================] - 1s 15ms/step - loss: 3075.2119 - mae: 3075.7119 - lr: 0.0028\n",
            "Epoch 111/120\n",
            "69/69 [==============================] - 1s 15ms/step - loss: 3073.1814 - mae: 3073.6814 - lr: 0.0032\n",
            "Epoch 112/120\n",
            "69/69 [==============================] - 1s 15ms/step - loss: 3070.9026 - mae: 3071.4026 - lr: 0.0035\n",
            "Epoch 113/120\n",
            "69/69 [==============================] - 1s 15ms/step - loss: 3068.3469 - mae: 3068.8469 - lr: 0.0040\n",
            "Epoch 114/120\n",
            "69/69 [==============================] - 1s 15ms/step - loss: 3065.4790 - mae: 3065.9790 - lr: 0.0045\n",
            "Epoch 115/120\n",
            "69/69 [==============================] - 1s 15ms/step - loss: 3062.2615 - mae: 3062.7615 - lr: 0.0050\n",
            "Epoch 116/120\n",
            "69/69 [==============================] - 1s 16ms/step - loss: 3058.6511 - mae: 3059.1511 - lr: 0.0056\n",
            "Epoch 117/120\n",
            "69/69 [==============================] - 1s 15ms/step - loss: 3054.5996 - mae: 3055.0996 - lr: 0.0063\n",
            "Epoch 118/120\n",
            "69/69 [==============================] - 1s 15ms/step - loss: 3050.0542 - mae: 3050.5542 - lr: 0.0071\n",
            "Epoch 119/120\n",
            "69/69 [==============================] - 1s 16ms/step - loss: 3044.9541 - mae: 3045.4541 - lr: 0.0079\n",
            "Epoch 120/120\n",
            "69/69 [==============================] - 1s 15ms/step - loss: 3039.2314 - mae: 3039.7314 - lr: 0.0089\n"
          ]
        }
      ]
    },
    {
      "cell_type": "code",
      "metadata": {
        "colab": {
          "base_uri": "https://localhost:8080/",
          "height": 287
        },
        "id": "w2ZeMW8rMSMP",
        "outputId": "cd0cc85e-90e0-4199-968c-c942440b333d"
      },
      "source": [
        "plt.semilogx(history.history['lr'], history.history['loss'])\n",
        "plt.axis([1e-8, 1e-2, 2500, 3500])"
      ],
      "execution_count": 101,
      "outputs": [
        {
          "output_type": "execute_result",
          "data": {
            "text/plain": [
              "(1e-08, 0.01, 2500.0, 3500.0)"
            ]
          },
          "metadata": {},
          "execution_count": 101
        },
        {
          "output_type": "display_data",
          "data": {
            "image/png": "[encoded data removed]",
            "text/plain": [
              "<Figure size 432x288 with 1 Axes>"
            ]
          },
          "metadata": {
            "needs_background": "light"
          }
        }
      ]
    },
    {
      "cell_type": "markdown",
      "metadata": {
        "id": "o76LR8N8kVzH"
      },
      "source": [
        "## Conv1D + BiLSTM"
      ]
    },
    {
      "cell_type": "code",
      "metadata": {
        "id": "wFI99Z5aMVnq"
      },
      "source": [
        "model = Sequential([\n",
        "    layers.InputLayer(input_shape=[WINDOW_SIZE, 1]),      \n",
        "    layers.Conv1D(filters=32, kernel_size=5, strides=1, padding=\"causal\", activation=\"relu\"),  \n",
        "    layers.Bidirectional(layers.LSTM(32, return_sequences=True)),\n",
        "    layers.Bidirectional(layers.LSTM(32)),        \n",
        "    layers.Dense(20, activation=\"relu\"),\n",
        "    layers.Dense(10, activation=\"relu\"),\n",
        "    layers.Dense(1)\n",
        "])"
      ],
      "execution_count": 15,
      "outputs": []
    },
    {
      "cell_type": "code",
      "metadata": {
        "colab": {
          "base_uri": "https://localhost:8080/"
        },
        "id": "XEdki45Viaj8",
        "outputId": "13f2386c-662c-4dfb-b265-919f72102e3a"
      },
      "source": [
        "model.summary()"
      ],
      "execution_count": 16,
      "outputs": [
        {
          "output_type": "stream",
          "name": "stdout",
          "text": [
            "Model: \"sequential_1\"\n",
            "_________________________________________________________________\n",
            " Layer (type)                Output Shape              Param #   \n",
            "=================================================================\n",
            " conv1d_1 (Conv1D)           (None, 7, 32)             192       \n",
            "                                                                 \n",
            " bidirectional_2 (Bidirectio  (None, 7, 64)            16640     \n",
            " nal)                                                            \n",
            "                                                                 \n",
            " bidirectional_3 (Bidirectio  (None, 64)               24832     \n",
            " nal)                                                            \n",
            "                                                                 \n",
            " dense_3 (Dense)             (None, 20)                1300      \n",
            "                                                                 \n",
            " dense_4 (Dense)             (None, 10)                210       \n",
            "                                                                 \n",
            " dense_5 (Dense)             (None, 1)                 11        \n",
            "                                                                 \n",
            "=================================================================\n",
            "Total params: 43,185\n",
            "Trainable params: 43,185\n",
            "Non-trainable params: 0\n",
            "_________________________________________________________________\n"
          ]
        }
      ]
    },
    {
      "cell_type": "code",
      "metadata": {
        "id": "qDBaQ2OkiwZy"
      },
      "source": [
        "optimizer   = tf.keras.optimizers.SGD(learning_rate=1e-8, momentum=0.9)\n",
        "loss        = tf.keras.losses.Huber()\n",
        "metrics     = ['mae']"
      ],
      "execution_count": 17,
      "outputs": []
    },
    {
      "cell_type": "code",
      "metadata": {
        "id": "0nHHB-DiiwZy"
      },
      "source": [
        "model.compile(optimizer=optimizer,\n",
        "              loss=loss,\n",
        "              metrics=metrics)"
      ],
      "execution_count": 18,
      "outputs": []
    },
    {
      "cell_type": "code",
      "metadata": {
        "id": "aFFD8_DViwZy"
      },
      "source": [
        "early_stopping    = EarlyStopping(monitor='loss', patience=40)\n",
        "model_checkpoint  = ModelCheckpoint(monitor='loss', filepath='./best_model.h5', save_best_only=True)"
      ],
      "execution_count": 19,
      "outputs": []
    },
    {
      "cell_type": "code",
      "metadata": {
        "id": "Bw9SQabKiwZy"
      },
      "source": [
        "lr_schedule = LearningRateScheduler(lambda epoch: 1e-8 * 10**(epoch / 20))"
      ],
      "execution_count": 20,
      "outputs": []
    },
    {
      "cell_type": "code",
      "metadata": {
        "id": "US_2-LmpiwZy"
      },
      "source": [
        "EPOCHS = 120\n",
        "CALLBACKS = [early_stopping, model_checkpoint, lr_schedule]"
      ],
      "execution_count": 21,
      "outputs": []
    },
    {
      "cell_type": "code",
      "metadata": {
        "colab": {
          "base_uri": "https://localhost:8080/"
        },
        "id": "6rnzRrNqiwZy",
        "outputId": "fc571902-d1d0-4a5a-9f01-c3d06c753fcf"
      },
      "source": [
        "history = model.fit(dataset,\n",
        "                    verbose = 1,\n",
        "                    epochs = EPOCHS,\n",
        "                    callbacks = CALLBACKS)"
      ],
      "execution_count": 22,
      "outputs": [
        {
          "output_type": "stream",
          "name": "stdout",
          "text": [
            "Epoch 1/120\n",
            "69/69 [==============================] - 18s 20ms/step - loss: 3080.2434 - mae: 3080.7434 - lr: 1.0000e-08\n",
            "Epoch 2/120\n",
            "69/69 [==============================] - 1s 18ms/step - loss: 3080.2424 - mae: 3080.7424 - lr: 1.1220e-08\n",
            "Epoch 3/120\n",
            "69/69 [==============================] - 2s 19ms/step - loss: 3080.2415 - mae: 3080.7415 - lr: 1.2589e-08\n",
            "Epoch 4/120\n",
            "69/69 [==============================] - 2s 19ms/step - loss: 3080.2415 - mae: 3080.7415 - lr: 1.4125e-08\n",
            "Epoch 5/120\n",
            "69/69 [==============================] - 2s 19ms/step - loss: 3080.2397 - mae: 3080.7397 - lr: 1.5849e-08\n",
            "Epoch 6/120\n",
            "69/69 [==============================] - 2s 20ms/step - loss: 3080.2383 - mae: 3080.7383 - lr: 1.7783e-08\n",
            "Epoch 7/120\n",
            "69/69 [==============================] - 1s 19ms/step - loss: 3080.2378 - mae: 3080.7378 - lr: 1.9953e-08\n",
            "Epoch 8/120\n",
            "69/69 [==============================] - 2s 20ms/step - loss: 3080.2366 - mae: 3080.7366 - lr: 2.2387e-08\n",
            "Epoch 9/120\n",
            "69/69 [==============================] - 2s 19ms/step - loss: 3080.2351 - mae: 3080.7351 - lr: 2.5119e-08\n",
            "Epoch 10/120\n",
            "69/69 [==============================] - 1s 19ms/step - loss: 3080.2334 - mae: 3080.7334 - lr: 2.8184e-08\n",
            "Epoch 11/120\n",
            "69/69 [==============================] - 1s 18ms/step - loss: 3080.2319 - mae: 3080.7319 - lr: 3.1623e-08\n",
            "Epoch 12/120\n",
            "69/69 [==============================] - 2s 19ms/step - loss: 3080.2297 - mae: 3080.7297 - lr: 3.5481e-08\n",
            "Epoch 13/120\n",
            "69/69 [==============================] - 1s 19ms/step - loss: 3080.2278 - mae: 3080.7278 - lr: 3.9811e-08\n",
            "Epoch 14/120\n",
            "69/69 [==============================] - 2s 19ms/step - loss: 3080.2249 - mae: 3080.7249 - lr: 4.4668e-08\n",
            "Epoch 15/120\n",
            "69/69 [==============================] - 2s 20ms/step - loss: 3080.2227 - mae: 3080.7227 - lr: 5.0119e-08\n",
            "Epoch 16/120\n",
            "69/69 [==============================] - 2s 19ms/step - loss: 3080.2192 - mae: 3080.7192 - lr: 5.6234e-08\n",
            "Epoch 17/120\n",
            "69/69 [==============================] - 1s 18ms/step - loss: 3080.2161 - mae: 3080.7161 - lr: 6.3096e-08\n",
            "Epoch 18/120\n",
            "69/69 [==============================] - 1s 19ms/step - loss: 3080.2126 - mae: 3080.7126 - lr: 7.0795e-08\n",
            "Epoch 19/120\n",
            "69/69 [==============================] - 2s 19ms/step - loss: 3080.2080 - mae: 3080.7080 - lr: 7.9433e-08\n",
            "Epoch 20/120\n",
            "69/69 [==============================] - 2s 19ms/step - loss: 3080.2034 - mae: 3080.7034 - lr: 8.9125e-08\n",
            "Epoch 21/120\n",
            "69/69 [==============================] - 2s 19ms/step - loss: 3080.1970 - mae: 3080.6970 - lr: 1.0000e-07\n",
            "Epoch 22/120\n",
            "69/69 [==============================] - 2s 19ms/step - loss: 3080.1902 - mae: 3080.6902 - lr: 1.1220e-07\n",
            "Epoch 23/120\n",
            "69/69 [==============================] - 1s 18ms/step - loss: 3080.1846 - mae: 3080.6846 - lr: 1.2589e-07\n",
            "Epoch 24/120\n",
            "69/69 [==============================] - 1s 19ms/step - loss: 3080.1790 - mae: 3080.6790 - lr: 1.4125e-07\n",
            "Epoch 25/120\n",
            "69/69 [==============================] - 1s 19ms/step - loss: 3080.1738 - mae: 3080.6738 - lr: 1.5849e-07\n",
            "Epoch 26/120\n",
            "69/69 [==============================] - 1s 18ms/step - loss: 3080.1680 - mae: 3080.6680 - lr: 1.7783e-07\n",
            "Epoch 27/120\n",
            "69/69 [==============================] - 1s 19ms/step - loss: 3080.1597 - mae: 3080.6597 - lr: 1.9953e-07\n",
            "Epoch 28/120\n",
            "69/69 [==============================] - 2s 19ms/step - loss: 3080.1350 - mae: 3080.6350 - lr: 2.2387e-07\n",
            "Epoch 29/120\n",
            "69/69 [==============================] - 2s 20ms/step - loss: 3080.1167 - mae: 3080.6167 - lr: 2.5119e-07\n",
            "Epoch 30/120\n",
            "69/69 [==============================] - 2s 19ms/step - loss: 3080.0984 - mae: 3080.5984 - lr: 2.8184e-07\n",
            "Epoch 31/120\n",
            "69/69 [==============================] - 2s 19ms/step - loss: 3080.0913 - mae: 3080.5913 - lr: 3.1623e-07\n",
            "Epoch 32/120\n",
            "69/69 [==============================] - 2s 19ms/step - loss: 3080.0845 - mae: 3080.5845 - lr: 3.5481e-07\n",
            "Epoch 33/120\n",
            "69/69 [==============================] - 2s 20ms/step - loss: 3080.0796 - mae: 3080.5796 - lr: 3.9811e-07\n",
            "Epoch 34/120\n",
            "69/69 [==============================] - 1s 19ms/step - loss: 3080.0728 - mae: 3080.5728 - lr: 4.4668e-07\n",
            "Epoch 35/120\n",
            "69/69 [==============================] - 1s 18ms/step - loss: 3080.0679 - mae: 3080.5679 - lr: 5.0119e-07\n",
            "Epoch 36/120\n",
            "69/69 [==============================] - 2s 19ms/step - loss: 3080.0627 - mae: 3080.5627 - lr: 5.6234e-07\n",
            "Epoch 37/120\n",
            "69/69 [==============================] - 1s 18ms/step - loss: 3080.0569 - mae: 3080.5569 - lr: 6.3096e-07\n",
            "Epoch 38/120\n",
            "69/69 [==============================] - 2s 19ms/step - loss: 3080.0510 - mae: 3080.5513 - lr: 7.0795e-07\n",
            "Epoch 39/120\n",
            "69/69 [==============================] - 2s 20ms/step - loss: 3080.0452 - mae: 3080.5452 - lr: 7.9433e-07\n",
            "Epoch 40/120\n",
            "69/69 [==============================] - 1s 18ms/step - loss: 3080.0396 - mae: 3080.5396 - lr: 8.9125e-07\n",
            "Epoch 41/120\n",
            "69/69 [==============================] - 1s 18ms/step - loss: 3080.0327 - mae: 3080.5327 - lr: 1.0000e-06\n",
            "Epoch 42/120\n",
            "69/69 [==============================] - 1s 17ms/step - loss: 3080.0251 - mae: 3080.5251 - lr: 1.1220e-06\n",
            "Epoch 43/120\n",
            "69/69 [==============================] - 1s 19ms/step - loss: 3080.0144 - mae: 3080.5144 - lr: 1.2589e-06\n",
            "Epoch 44/120\n",
            "69/69 [==============================] - 1s 18ms/step - loss: 3079.9985 - mae: 3080.4985 - lr: 1.4125e-06\n",
            "Epoch 45/120\n",
            "69/69 [==============================] - 1s 17ms/step - loss: 3079.9871 - mae: 3080.4871 - lr: 1.5849e-06\n",
            "Epoch 46/120\n",
            "69/69 [==============================] - 1s 18ms/step - loss: 3079.9751 - mae: 3080.4751 - lr: 1.7783e-06\n",
            "Epoch 47/120\n",
            "69/69 [==============================] - 1s 18ms/step - loss: 3079.9639 - mae: 3080.4639 - lr: 1.9953e-06\n",
            "Epoch 48/120\n",
            "69/69 [==============================] - 1s 18ms/step - loss: 3079.9512 - mae: 3080.4512 - lr: 2.2387e-06\n",
            "Epoch 49/120\n",
            "69/69 [==============================] - 2s 20ms/step - loss: 3079.9385 - mae: 3080.4385 - lr: 2.5119e-06\n",
            "Epoch 50/120\n",
            "69/69 [==============================] - 2s 19ms/step - loss: 3079.9231 - mae: 3080.4231 - lr: 2.8184e-06\n",
            "Epoch 51/120\n",
            "69/69 [==============================] - 1s 18ms/step - loss: 3079.9048 - mae: 3080.4048 - lr: 3.1623e-06\n",
            "Epoch 52/120\n",
            "69/69 [==============================] - 2s 19ms/step - loss: 3079.8853 - mae: 3080.3853 - lr: 3.5481e-06\n",
            "Epoch 53/120\n",
            "69/69 [==============================] - 2s 19ms/step - loss: 3079.8662 - mae: 3080.3662 - lr: 3.9811e-06\n",
            "Epoch 54/120\n",
            "69/69 [==============================] - 2s 20ms/step - loss: 3079.8477 - mae: 3080.3477 - lr: 4.4668e-06\n",
            "Epoch 55/120\n",
            "69/69 [==============================] - 1s 18ms/step - loss: 3079.8247 - mae: 3080.3247 - lr: 5.0119e-06\n",
            "Epoch 56/120\n",
            "69/69 [==============================] - 2s 19ms/step - loss: 3079.7974 - mae: 3080.2974 - lr: 5.6234e-06\n",
            "Epoch 57/120\n",
            "69/69 [==============================] - 2s 19ms/step - loss: 3079.7434 - mae: 3080.2434 - lr: 6.3096e-06\n",
            "Epoch 58/120\n",
            "69/69 [==============================] - 2s 21ms/step - loss: 3079.6794 - mae: 3080.1794 - lr: 7.0795e-06\n",
            "Epoch 59/120\n",
            "69/69 [==============================] - 2s 20ms/step - loss: 3079.6191 - mae: 3080.1191 - lr: 7.9433e-06\n",
            "Epoch 60/120\n",
            "69/69 [==============================] - 2s 19ms/step - loss: 3079.5361 - mae: 3080.0361 - lr: 8.9125e-06\n",
            "Epoch 61/120\n",
            "69/69 [==============================] - 2s 20ms/step - loss: 3079.4702 - mae: 3079.9702 - lr: 1.0000e-05\n",
            "Epoch 62/120\n",
            "69/69 [==============================] - 2s 20ms/step - loss: 3079.3989 - mae: 3079.8989 - lr: 1.1220e-05\n",
            "Epoch 63/120\n",
            "69/69 [==============================] - 2s 20ms/step - loss: 3079.3184 - mae: 3079.8184 - lr: 1.2589e-05\n",
            "Epoch 64/120\n",
            "69/69 [==============================] - 2s 20ms/step - loss: 3079.2244 - mae: 3079.7244 - lr: 1.4125e-05\n",
            "Epoch 65/120\n",
            "69/69 [==============================] - 2s 19ms/step - loss: 3079.1133 - mae: 3079.6133 - lr: 1.5849e-05\n",
            "Epoch 66/120\n",
            "69/69 [==============================] - 2s 19ms/step - loss: 3078.9736 - mae: 3079.4736 - lr: 1.7783e-05\n",
            "Epoch 67/120\n",
            "69/69 [==============================] - 2s 20ms/step - loss: 3078.8000 - mae: 3079.3000 - lr: 1.9953e-05\n",
            "Epoch 68/120\n",
            "69/69 [==============================] - 2s 20ms/step - loss: 3078.5864 - mae: 3079.0864 - lr: 2.2387e-05\n",
            "Epoch 69/120\n",
            "69/69 [==============================] - 2s 20ms/step - loss: 3078.3027 - mae: 3078.8027 - lr: 2.5119e-05\n",
            "Epoch 70/120\n",
            "69/69 [==============================] - 2s 19ms/step - loss: 3077.9131 - mae: 3078.4131 - lr: 2.8184e-05\n",
            "Epoch 71/120\n",
            "69/69 [==============================] - 2s 20ms/step - loss: 3077.3574 - mae: 3077.8574 - lr: 3.1623e-05\n",
            "Epoch 72/120\n",
            "69/69 [==============================] - 2s 19ms/step - loss: 3076.5173 - mae: 3077.0173 - lr: 3.5481e-05\n",
            "Epoch 73/120\n",
            "69/69 [==============================] - 2s 20ms/step - loss: 3075.1499 - mae: 3075.6499 - lr: 3.9811e-05\n",
            "Epoch 74/120\n",
            "69/69 [==============================] - 2s 20ms/step - loss: 3072.7256 - mae: 3073.2256 - lr: 4.4668e-05\n",
            "Epoch 75/120\n",
            "69/69 [==============================] - 1s 19ms/step - loss: 3067.6658 - mae: 3068.1658 - lr: 5.0119e-05\n",
            "Epoch 76/120\n",
            "69/69 [==============================] - 2s 20ms/step - loss: 3053.6438 - mae: 3054.1438 - lr: 5.6234e-05\n",
            "Epoch 77/120\n",
            "69/69 [==============================] - 2s 19ms/step - loss: 2983.9026 - mae: 2984.4026 - lr: 6.3096e-05\n",
            "Epoch 78/120\n",
            "69/69 [==============================] - 2s 20ms/step - loss: 2659.6616 - mae: 2660.1609 - lr: 7.0795e-05\n",
            "Epoch 79/120\n",
            "69/69 [==============================] - 1s 18ms/step - loss: 2706.5762 - mae: 2707.0762 - lr: 7.9433e-05\n",
            "Epoch 80/120\n",
            "69/69 [==============================] - 1s 18ms/step - loss: 2719.1460 - mae: 2719.6455 - lr: 8.9125e-05\n",
            "Epoch 81/120\n",
            "69/69 [==============================] - 1s 19ms/step - loss: 2718.8884 - mae: 2719.3879 - lr: 1.0000e-04\n",
            "Epoch 82/120\n",
            "69/69 [==============================] - 1s 19ms/step - loss: 2721.2896 - mae: 2721.7893 - lr: 1.1220e-04\n",
            "Epoch 83/120\n",
            "69/69 [==============================] - 2s 19ms/step - loss: 2735.6768 - mae: 2736.1768 - lr: 1.2589e-04\n",
            "Epoch 84/120\n",
            "69/69 [==============================] - 2s 20ms/step - loss: 2731.3213 - mae: 2731.8213 - lr: 1.4125e-04\n",
            "Epoch 85/120\n",
            "69/69 [==============================] - 2s 19ms/step - loss: 2789.6440 - mae: 2790.1440 - lr: 1.5849e-04\n",
            "Epoch 86/120\n",
            "69/69 [==============================] - 2s 19ms/step - loss: 2771.5244 - mae: 2772.0244 - lr: 1.7783e-04\n",
            "Epoch 87/120\n",
            "69/69 [==============================] - 2s 19ms/step - loss: 2815.1521 - mae: 2815.6516 - lr: 1.9953e-04\n",
            "Epoch 88/120\n",
            "69/69 [==============================] - 2s 19ms/step - loss: 2813.1509 - mae: 2813.6506 - lr: 2.2387e-04\n",
            "Epoch 89/120\n",
            "69/69 [==============================] - 2s 19ms/step - loss: 2848.0930 - mae: 2848.5928 - lr: 2.5119e-04\n",
            "Epoch 90/120\n",
            "69/69 [==============================] - 2s 20ms/step - loss: 2810.3660 - mae: 2810.8657 - lr: 2.8184e-04\n",
            "Epoch 91/120\n",
            "69/69 [==============================] - 1s 18ms/step - loss: 3231.9302 - mae: 3232.4302 - lr: 3.1623e-04\n",
            "Epoch 92/120\n",
            "69/69 [==============================] - 2s 19ms/step - loss: 2502.7019 - mae: 2503.2017 - lr: 3.5481e-04\n",
            "Epoch 93/120\n",
            "69/69 [==============================] - 1s 19ms/step - loss: 3227.0176 - mae: 3227.5176 - lr: 3.9811e-04\n",
            "Epoch 94/120\n",
            "69/69 [==============================] - 1s 18ms/step - loss: 3046.4028 - mae: 3046.9028 - lr: 4.4668e-04\n",
            "Epoch 95/120\n",
            "69/69 [==============================] - 2s 19ms/step - loss: 2453.7849 - mae: 2454.2849 - lr: 5.0119e-04\n",
            "Epoch 96/120\n",
            "69/69 [==============================] - 2s 19ms/step - loss: 3217.3862 - mae: 3217.8860 - lr: 5.6234e-04\n",
            "Epoch 97/120\n",
            "69/69 [==============================] - 1s 19ms/step - loss: 3079.9385 - mae: 3080.4385 - lr: 6.3096e-04\n",
            "Epoch 98/120\n",
            "69/69 [==============================] - 1s 18ms/step - loss: 3078.3462 - mae: 3078.8462 - lr: 7.0795e-04\n",
            "Epoch 99/120\n",
            "69/69 [==============================] - 1s 18ms/step - loss: 3077.1206 - mae: 3077.6206 - lr: 7.9433e-04\n",
            "Epoch 100/120\n",
            "69/69 [==============================] - 1s 18ms/step - loss: 3075.4897 - mae: 3075.9897 - lr: 8.9125e-04\n",
            "Epoch 101/120\n",
            "69/69 [==============================] - 1s 19ms/step - loss: 3071.6062 - mae: 3072.1062 - lr: 0.0010\n",
            "Epoch 102/120\n",
            "69/69 [==============================] - 1s 19ms/step - loss: 3058.0247 - mae: 3058.5247 - lr: 0.0011\n",
            "Epoch 103/120\n",
            "69/69 [==============================] - 2s 19ms/step - loss: 2997.3713 - mae: 2997.8713 - lr: 0.0013\n",
            "Epoch 104/120\n",
            "69/69 [==============================] - 1s 18ms/step - loss: 2763.3701 - mae: 2763.8699 - lr: 0.0014\n",
            "Epoch 105/120\n",
            "69/69 [==============================] - 2s 19ms/step - loss: 2644.3872 - mae: 2644.8872 - lr: 0.0016\n",
            "Epoch 106/120\n",
            "69/69 [==============================] - 1s 19ms/step - loss: 2670.0173 - mae: 2670.5171 - lr: 0.0018\n",
            "Epoch 107/120\n",
            "69/69 [==============================] - 2s 19ms/step - loss: 2674.3262 - mae: 2674.8259 - lr: 0.0020\n",
            "Epoch 108/120\n",
            "69/69 [==============================] - 2s 19ms/step - loss: 2673.8232 - mae: 2674.3230 - lr: 0.0022\n",
            "Epoch 109/120\n",
            "69/69 [==============================] - 1s 19ms/step - loss: 2678.3293 - mae: 2678.8293 - lr: 0.0025\n",
            "Epoch 110/120\n",
            "69/69 [==============================] - 1s 18ms/step - loss: 2683.2759 - mae: 2683.7756 - lr: 0.0028\n",
            "Epoch 111/120\n",
            "69/69 [==============================] - 2s 20ms/step - loss: 2685.9460 - mae: 2686.4458 - lr: 0.0032\n",
            "Epoch 112/120\n",
            "69/69 [==============================] - 2s 19ms/step - loss: 2693.1731 - mae: 2693.6731 - lr: 0.0035\n",
            "Epoch 113/120\n",
            "69/69 [==============================] - 2s 19ms/step - loss: 2700.1707 - mae: 2700.6707 - lr: 0.0040\n",
            "Epoch 114/120\n",
            "69/69 [==============================] - 2s 19ms/step - loss: 2702.9175 - mae: 2703.4175 - lr: 0.0045\n",
            "Epoch 115/120\n",
            "69/69 [==============================] - 2s 19ms/step - loss: 2717.5979 - mae: 2718.0977 - lr: 0.0050\n",
            "Epoch 116/120\n",
            "69/69 [==============================] - 1s 19ms/step - loss: 2718.6938 - mae: 2719.1934 - lr: 0.0056\n",
            "Epoch 117/120\n",
            "69/69 [==============================] - 1s 18ms/step - loss: 2744.5767 - mae: 2745.0767 - lr: 0.0063\n",
            "Epoch 118/120\n",
            "69/69 [==============================] - 1s 19ms/step - loss: 2730.1045 - mae: 2730.6042 - lr: 0.0071\n",
            "Epoch 119/120\n",
            "69/69 [==============================] - 2s 19ms/step - loss: 2775.0439 - mae: 2775.5439 - lr: 0.0079\n",
            "Epoch 120/120\n",
            "69/69 [==============================] - 1s 18ms/step - loss: 2763.7656 - mae: 2764.2656 - lr: 0.0089\n"
          ]
        }
      ]
    },
    {
      "cell_type": "code",
      "metadata": {
        "colab": {
          "base_uri": "https://localhost:8080/",
          "height": 292
        },
        "id": "EbRdqt-NiwZz",
        "outputId": "2b277cfd-fea2-4ef6-96b7-8e52707d8bf1"
      },
      "source": [
        "plt.semilogx(history.history['lr'], history.history['loss'])\n",
        "plt.axis([1e-8, 1e-2, 2400, 3300])"
      ],
      "execution_count": 26,
      "outputs": [
        {
          "output_type": "execute_result",
          "data": {
            "text/plain": [
              "(1e-08, 0.01, 2400.0, 3300.0)"
            ]
          },
          "metadata": {},
          "execution_count": 26
        },
        {
          "output_type": "display_data",
          "data": {
            "image/png": "[encoded data removed]",
            "text/plain": [
              "<Figure size 432x288 with 1 Axes>"
            ]
          },
          "metadata": {
            "needs_background": "light"
          }
        }
      ]
    },
    {
      "cell_type": "markdown",
      "metadata": {
        "id": "HHEcO3B3kbaS"
      },
      "source": [
        "## Dense + SGD"
      ]
    },
    {
      "cell_type": "code",
      "metadata": {
        "id": "BCFmb58nke2X"
      },
      "source": [
        "model = Sequential([\n",
        "    layers.InputLayer(input_shape=[WINDOW_SIZE]), \n",
        "    layers.Dense(30, activation=\"relu\"),               \n",
        "    layers.Dense(20, activation=\"relu\"),\n",
        "    layers.Dense(10, activation=\"relu\"),\n",
        "    layers.Dense(1)\n",
        "])"
      ],
      "execution_count": 27,
      "outputs": []
    },
    {
      "cell_type": "code",
      "metadata": {
        "colab": {
          "base_uri": "https://localhost:8080/"
        },
        "id": "BaRNfUK0ke2X",
        "outputId": "3f786ece-3e7a-4453-ac9c-76c2bf9d7510"
      },
      "source": [
        "model.summary()"
      ],
      "execution_count": 28,
      "outputs": [
        {
          "output_type": "stream",
          "name": "stdout",
          "text": [
            "Model: \"sequential_2\"\n",
            "_________________________________________________________________\n",
            " Layer (type)                Output Shape              Param #   \n",
            "=================================================================\n",
            " dense_6 (Dense)             (None, 30)                240       \n",
            "                                                                 \n",
            " dense_7 (Dense)             (None, 20)                620       \n",
            "                                                                 \n",
            " dense_8 (Dense)             (None, 10)                210       \n",
            "                                                                 \n",
            " dense_9 (Dense)             (None, 1)                 11        \n",
            "                                                                 \n",
            "=================================================================\n",
            "Total params: 1,081\n",
            "Trainable params: 1,081\n",
            "Non-trainable params: 0\n",
            "_________________________________________________________________\n"
          ]
        }
      ]
    },
    {
      "cell_type": "code",
      "metadata": {
        "id": "CIueBYRCke2Y"
      },
      "source": [
        "optimizer   = tf.keras.optimizers.SGD(learning_rate=1e-8, momentum=0.9)\n",
        "loss        = tf.keras.losses.Huber()\n",
        "metrics     = ['mae']"
      ],
      "execution_count": 29,
      "outputs": []
    },
    {
      "cell_type": "code",
      "metadata": {
        "id": "nn4Mv9KGke2Y"
      },
      "source": [
        "model.compile(optimizer=optimizer,\n",
        "              loss=loss,\n",
        "              metrics=metrics)"
      ],
      "execution_count": 30,
      "outputs": []
    },
    {
      "cell_type": "code",
      "metadata": {
        "id": "dXh3EsJTke2Y"
      },
      "source": [
        "early_stopping    = EarlyStopping(monitor='loss', patience=40)\n",
        "model_checkpoint  = ModelCheckpoint(monitor='loss', filepath='./best_model.h5', save_best_only=True)"
      ],
      "execution_count": 31,
      "outputs": []
    },
    {
      "cell_type": "code",
      "metadata": {
        "id": "UcI6Je5Yke2Y"
      },
      "source": [
        "lr_schedule = LearningRateScheduler(lambda epoch: 1e-8 * 10**(epoch / 20))"
      ],
      "execution_count": 32,
      "outputs": []
    },
    {
      "cell_type": "code",
      "metadata": {
        "id": "HfuHG2XTke2Y"
      },
      "source": [
        "EPOCHS = 120\n",
        "CALLBACKS = [early_stopping, model_checkpoint, lr_schedule]"
      ],
      "execution_count": 33,
      "outputs": []
    },
    {
      "cell_type": "code",
      "metadata": {
        "colab": {
          "base_uri": "https://localhost:8080/"
        },
        "id": "DZ9G4YqOke2Z",
        "outputId": "256b63bd-dcda-4dbe-c011-99bc18581a29"
      },
      "source": [
        "history = model.fit(dataset,\n",
        "                    verbose = 1,\n",
        "                    epochs = EPOCHS,\n",
        "                    callbacks = CALLBACKS)"
      ],
      "execution_count": 34,
      "outputs": [
        {
          "output_type": "stream",
          "name": "stdout",
          "text": [
            "Epoch 1/120\n",
            "69/69 [==============================] - 1s 10ms/step - loss: 3025.6570 - mae: 3026.1570 - lr: 1.0000e-08\n",
            "Epoch 2/120\n",
            "69/69 [==============================] - 1s 8ms/step - loss: 2663.8616 - mae: 2664.3616 - lr: 1.1220e-08\n",
            "Epoch 3/120\n",
            "69/69 [==============================] - 1s 8ms/step - loss: 2438.1440 - mae: 2438.6440 - lr: 1.2589e-08\n",
            "Epoch 4/120\n",
            "69/69 [==============================] - 1s 8ms/step - loss: 2178.9563 - mae: 2179.4563 - lr: 1.4125e-08\n",
            "Epoch 5/120\n",
            "69/69 [==============================] - 1s 9ms/step - loss: 1759.3052 - mae: 1759.8052 - lr: 1.5849e-08\n",
            "Epoch 6/120\n",
            "69/69 [==============================] - 1s 9ms/step - loss: 1202.8264 - mae: 1203.3264 - lr: 1.7783e-08\n",
            "Epoch 7/120\n",
            "69/69 [==============================] - 1s 9ms/step - loss: 441.5605 - mae: 442.0601 - lr: 1.9953e-08\n",
            "Epoch 8/120\n",
            "69/69 [==============================] - 1s 8ms/step - loss: 154.9899 - mae: 155.4838 - lr: 2.2387e-08\n",
            "Epoch 9/120\n",
            "69/69 [==============================] - 1s 9ms/step - loss: 153.7880 - mae: 154.2796 - lr: 2.5119e-08\n",
            "Epoch 10/120\n",
            "69/69 [==============================] - 1s 9ms/step - loss: 152.6858 - mae: 153.1780 - lr: 2.8184e-08\n",
            "Epoch 11/120\n",
            "69/69 [==============================] - 1s 9ms/step - loss: 153.1194 - mae: 153.6128 - lr: 3.1623e-08\n",
            "Epoch 12/120\n",
            "69/69 [==============================] - 1s 9ms/step - loss: 152.4725 - mae: 152.9658 - lr: 3.5481e-08\n",
            "Epoch 13/120\n",
            "69/69 [==============================] - 1s 9ms/step - loss: 150.8371 - mae: 151.3297 - lr: 3.9811e-08\n",
            "Epoch 14/120\n",
            "69/69 [==============================] - 1s 8ms/step - loss: 147.8399 - mae: 148.3315 - lr: 4.4668e-08\n",
            "Epoch 15/120\n",
            "69/69 [==============================] - 1s 8ms/step - loss: 142.7632 - mae: 143.2552 - lr: 5.0119e-08\n",
            "Epoch 16/120\n",
            "69/69 [==============================] - 1s 9ms/step - loss: 142.1801 - mae: 142.6728 - lr: 5.6234e-08\n",
            "Epoch 17/120\n",
            "69/69 [==============================] - 1s 9ms/step - loss: 141.8387 - mae: 142.3306 - lr: 6.3096e-08\n",
            "Epoch 18/120\n",
            "69/69 [==============================] - 1s 9ms/step - loss: 138.4021 - mae: 138.8947 - lr: 7.0795e-08\n",
            "Epoch 19/120\n",
            "69/69 [==============================] - 1s 9ms/step - loss: 139.4427 - mae: 139.9355 - lr: 7.9433e-08\n",
            "Epoch 20/120\n",
            "69/69 [==============================] - 1s 8ms/step - loss: 139.0499 - mae: 139.5418 - lr: 8.9125e-08\n",
            "Epoch 21/120\n",
            "69/69 [==============================] - 1s 8ms/step - loss: 135.9152 - mae: 136.4070 - lr: 1.0000e-07\n",
            "Epoch 22/120\n",
            "69/69 [==============================] - 1s 8ms/step - loss: 137.6685 - mae: 138.1627 - lr: 1.1220e-07\n",
            "Epoch 23/120\n",
            "69/69 [==============================] - 1s 9ms/step - loss: 136.4716 - mae: 136.9675 - lr: 1.2589e-07\n",
            "Epoch 24/120\n",
            "69/69 [==============================] - 1s 8ms/step - loss: 132.3210 - mae: 132.8134 - lr: 1.4125e-07\n",
            "Epoch 25/120\n",
            "69/69 [==============================] - 1s 8ms/step - loss: 131.7072 - mae: 132.1999 - lr: 1.5849e-07\n",
            "Epoch 26/120\n",
            "69/69 [==============================] - 1s 8ms/step - loss: 132.7530 - mae: 133.2474 - lr: 1.7783e-07\n",
            "Epoch 27/120\n",
            "69/69 [==============================] - 1s 8ms/step - loss: 133.0139 - mae: 133.5084 - lr: 1.9953e-07\n",
            "Epoch 28/120\n",
            "69/69 [==============================] - 1s 8ms/step - loss: 131.1019 - mae: 131.5965 - lr: 2.2387e-07\n",
            "Epoch 29/120\n",
            "69/69 [==============================] - 1s 8ms/step - loss: 129.7730 - mae: 130.2664 - lr: 2.5119e-07\n",
            "Epoch 30/120\n",
            "69/69 [==============================] - 1s 8ms/step - loss: 135.9957 - mae: 136.4912 - lr: 2.8184e-07\n",
            "Epoch 31/120\n",
            "69/69 [==============================] - 1s 9ms/step - loss: 129.3296 - mae: 129.8228 - lr: 3.1623e-07\n",
            "Epoch 32/120\n",
            "69/69 [==============================] - 1s 8ms/step - loss: 128.9146 - mae: 129.4110 - lr: 3.5481e-07\n",
            "Epoch 33/120\n",
            "69/69 [==============================] - 1s 8ms/step - loss: 133.7904 - mae: 134.2855 - lr: 3.9811e-07\n",
            "Epoch 34/120\n",
            "69/69 [==============================] - 1s 8ms/step - loss: 131.6867 - mae: 132.1814 - lr: 4.4668e-07\n",
            "Epoch 35/120\n",
            "69/69 [==============================] - 1s 8ms/step - loss: 127.3110 - mae: 127.8053 - lr: 5.0119e-07\n",
            "Epoch 36/120\n",
            "69/69 [==============================] - 1s 8ms/step - loss: 123.7102 - mae: 124.2024 - lr: 5.6234e-07\n",
            "Epoch 37/120\n",
            "69/69 [==============================] - 1s 8ms/step - loss: 133.4570 - mae: 133.9525 - lr: 6.3096e-07\n",
            "Epoch 38/120\n",
            "69/69 [==============================] - 1s 8ms/step - loss: 124.6209 - mae: 125.1135 - lr: 7.0795e-07\n",
            "Epoch 39/120\n",
            "69/69 [==============================] - 1s 8ms/step - loss: 126.0634 - mae: 126.5584 - lr: 7.9433e-07\n",
            "Epoch 40/120\n",
            "69/69 [==============================] - 1s 8ms/step - loss: 146.1845 - mae: 146.6807 - lr: 8.9125e-07\n",
            "Epoch 41/120\n",
            "69/69 [==============================] - 1s 8ms/step - loss: 148.8070 - mae: 149.3044 - lr: 1.0000e-06\n",
            "Epoch 42/120\n",
            "69/69 [==============================] - 1s 8ms/step - loss: 129.8752 - mae: 130.3695 - lr: 1.1220e-06\n",
            "Epoch 43/120\n",
            "69/69 [==============================] - 1s 8ms/step - loss: 128.5209 - mae: 129.0151 - lr: 1.2589e-06\n",
            "Epoch 44/120\n",
            "69/69 [==============================] - 1s 9ms/step - loss: 157.7348 - mae: 158.2307 - lr: 1.4125e-06\n",
            "Epoch 45/120\n",
            "69/69 [==============================] - 1s 9ms/step - loss: 127.7484 - mae: 128.2425 - lr: 1.5849e-06\n",
            "Epoch 46/120\n",
            "69/69 [==============================] - 1s 9ms/step - loss: 160.2046 - mae: 160.6976 - lr: 1.7783e-06\n",
            "Epoch 47/120\n",
            "69/69 [==============================] - 1s 9ms/step - loss: 132.7822 - mae: 133.2776 - lr: 1.9953e-06\n",
            "Epoch 48/120\n",
            "69/69 [==============================] - 1s 8ms/step - loss: 143.3174 - mae: 143.8147 - lr: 2.2387e-06\n",
            "Epoch 49/120\n",
            "69/69 [==============================] - 1s 8ms/step - loss: 197.1753 - mae: 197.6735 - lr: 2.5119e-06\n",
            "Epoch 50/120\n",
            "69/69 [==============================] - 1s 8ms/step - loss: 208.0396 - mae: 208.5354 - lr: 2.8184e-06\n",
            "Epoch 51/120\n",
            "69/69 [==============================] - 1s 8ms/step - loss: 261.7747 - mae: 262.2733 - lr: 3.1623e-06\n",
            "Epoch 52/120\n",
            "69/69 [==============================] - 1s 8ms/step - loss: 209.7098 - mae: 210.2072 - lr: 3.5481e-06\n",
            "Epoch 53/120\n",
            "69/69 [==============================] - 1s 8ms/step - loss: 201.6705 - mae: 202.1672 - lr: 3.9811e-06\n",
            "Epoch 54/120\n",
            "69/69 [==============================] - 1s 8ms/step - loss: 197.9502 - mae: 198.4483 - lr: 4.4668e-06\n",
            "Epoch 55/120\n",
            "69/69 [==============================] - 1s 9ms/step - loss: 481.9968 - mae: 482.4959 - lr: 5.0119e-06\n",
            "Epoch 56/120\n",
            "69/69 [==============================] - 1s 8ms/step - loss: 391.0921 - mae: 391.5902 - lr: 5.6234e-06\n",
            "Epoch 57/120\n",
            "69/69 [==============================] - 1s 8ms/step - loss: 423.6650 - mae: 424.1625 - lr: 6.3096e-06\n",
            "Epoch 58/120\n",
            "69/69 [==============================] - 1s 8ms/step - loss: 573.0971 - mae: 573.5964 - lr: 7.0795e-06\n",
            "Epoch 59/120\n",
            "69/69 [==============================] - 1s 9ms/step - loss: 666.0357 - mae: 666.5345 - lr: 7.9433e-06\n",
            "Epoch 60/120\n",
            "69/69 [==============================] - 1s 8ms/step - loss: 459.7323 - mae: 460.2314 - lr: 8.9125e-06\n",
            "Epoch 61/120\n",
            "69/69 [==============================] - 1s 9ms/step - loss: 695.7794 - mae: 696.2791 - lr: 1.0000e-05\n",
            "Epoch 62/120\n",
            "69/69 [==============================] - 1s 8ms/step - loss: 1206.2336 - mae: 1206.7333 - lr: 1.1220e-05\n",
            "Epoch 63/120\n",
            "69/69 [==============================] - 1s 9ms/step - loss: 871.6570 - mae: 872.1565 - lr: 1.2589e-05\n",
            "Epoch 64/120\n",
            "69/69 [==============================] - 1s 8ms/step - loss: 1027.9531 - mae: 1028.4530 - lr: 1.4125e-05\n",
            "Epoch 65/120\n",
            "69/69 [==============================] - 1s 9ms/step - loss: 1281.7104 - mae: 1282.2102 - lr: 1.5849e-05\n",
            "Epoch 66/120\n",
            "69/69 [==============================] - 1s 8ms/step - loss: 989.1920 - mae: 989.6912 - lr: 1.7783e-05\n",
            "Epoch 67/120\n",
            "69/69 [==============================] - 1s 8ms/step - loss: 1573.5392 - mae: 1574.0389 - lr: 1.9953e-05\n",
            "Epoch 68/120\n",
            "69/69 [==============================] - 1s 8ms/step - loss: 2921.5437 - mae: 2922.0437 - lr: 2.2387e-05\n",
            "Epoch 69/120\n",
            "69/69 [==============================] - 1s 8ms/step - loss: 3080.1665 - mae: 3080.6667 - lr: 2.5119e-05\n",
            "Epoch 70/120\n",
            "69/69 [==============================] - 1s 8ms/step - loss: 3080.1470 - mae: 3080.6470 - lr: 2.8184e-05\n",
            "Epoch 71/120\n",
            "69/69 [==============================] - 1s 9ms/step - loss: 3080.1260 - mae: 3080.6260 - lr: 3.1623e-05\n",
            "Epoch 72/120\n",
            "69/69 [==============================] - 1s 8ms/step - loss: 3080.1028 - mae: 3080.6028 - lr: 3.5481e-05\n",
            "Epoch 73/120\n",
            "69/69 [==============================] - 1s 8ms/step - loss: 3080.0767 - mae: 3080.5764 - lr: 3.9811e-05\n",
            "Epoch 74/120\n",
            "69/69 [==============================] - 1s 8ms/step - loss: 3080.0479 - mae: 3080.5479 - lr: 4.4668e-05\n",
            "Epoch 75/120\n",
            "69/69 [==============================] - 1s 8ms/step - loss: 3080.0154 - mae: 3080.5154 - lr: 5.0119e-05\n",
            "Epoch 76/120\n",
            "69/69 [==============================] - 1s 8ms/step - loss: 3079.9783 - mae: 3080.4783 - lr: 5.6234e-05\n"
          ]
        }
      ]
    },
    {
      "cell_type": "code",
      "metadata": {
        "colab": {
          "base_uri": "https://localhost:8080/",
          "height": 292
        },
        "id": "25mzEakoke2Z",
        "outputId": "b8b57e86-4cd0-4f0d-9d59-39b7b00b7b98"
      },
      "source": [
        "plt.semilogx(history.history['lr'], history.history['loss'])\n",
        "plt.axis([1e-8, 1e-4, 100, 1000])"
      ],
      "execution_count": 36,
      "outputs": [
        {
          "output_type": "execute_result",
          "data": {
            "text/plain": [
              "(1e-08, 0.0001, 100.0, 1000.0)"
            ]
          },
          "metadata": {},
          "execution_count": 36
        },
        {
          "output_type": "display_data",
          "data": {
            "image/png": "[encoded data removed]",
            "text/plain": [
              "<Figure size 432x288 with 1 Axes>"
            ]
          },
          "metadata": {
            "needs_background": "light"
          }
        }
      ]
    },
    {
      "cell_type": "code",
      "metadata": {
        "id": "LMOXilBIlgpo"
      },
      "source": [
        "model = Sequential([\n",
        "    layers.InputLayer(input_shape=[WINDOW_SIZE]), \n",
        "    layers.Dense(30, activation=\"relu\"),               \n",
        "    layers.Dense(20, activation=\"relu\"),\n",
        "    layers.Dense(10, activation=\"relu\"),\n",
        "    layers.Dense(1)\n",
        "])"
      ],
      "execution_count": 37,
      "outputs": []
    },
    {
      "cell_type": "code",
      "metadata": {
        "id": "PTVjmodCloUK"
      },
      "source": [
        "optimizer   = tf.keras.optimizers.SGD(learning_rate=5.6234e-07, momentum=0.9)\n",
        "loss        = tf.keras.losses.Huber()\n",
        "metrics     = ['mae']"
      ],
      "execution_count": 38,
      "outputs": []
    },
    {
      "cell_type": "code",
      "metadata": {
        "id": "HAOaEHNQloUK"
      },
      "source": [
        "model.compile(optimizer=optimizer,\n",
        "              loss=loss,\n",
        "              metrics=metrics)"
      ],
      "execution_count": 39,
      "outputs": []
    },
    {
      "cell_type": "code",
      "metadata": {
        "id": "lWbwYne4loUK"
      },
      "source": [
        "early_stopping    = EarlyStopping(monitor='loss', patience=70)\n",
        "model_checkpoint  = ModelCheckpoint(monitor='loss', filepath='./best_model.h5', save_best_only=True)"
      ],
      "execution_count": 40,
      "outputs": []
    },
    {
      "cell_type": "code",
      "metadata": {
        "id": "DyBfrZ-ZloUK"
      },
      "source": [
        "EPOCHS = 400\n",
        "CALLBACKS = [early_stopping, model_checkpoint]"
      ],
      "execution_count": 41,
      "outputs": []
    },
    {
      "cell_type": "code",
      "metadata": {
        "colab": {
          "base_uri": "https://localhost:8080/"
        },
        "id": "lWqBJqXoloUL",
        "outputId": "f5042812-ddaf-4a23-f00f-6328f1a48443"
      },
      "source": [
        "history = model.fit(dataset,\n",
        "                    verbose = 1,\n",
        "                    epochs = EPOCHS,\n",
        "                    callbacks = CALLBACKS)"
      ],
      "execution_count": 42,
      "outputs": [
        {
          "output_type": "stream",
          "name": "stdout",
          "text": [
            "Epoch 1/400\n",
            "69/69 [==============================] - 1s 9ms/step - loss: 603.8174 - mae: 604.3167\n",
            "Epoch 2/400\n",
            "69/69 [==============================] - 1s 9ms/step - loss: 165.1748 - mae: 165.6706\n",
            "Epoch 3/400\n",
            "69/69 [==============================] - 1s 9ms/step - loss: 149.6938 - mae: 150.1894\n",
            "Epoch 4/400\n",
            "69/69 [==============================] - 1s 9ms/step - loss: 139.5124 - mae: 140.0074\n",
            "Epoch 5/400\n",
            "69/69 [==============================] - 1s 8ms/step - loss: 157.6649 - mae: 158.1618\n",
            "Epoch 6/400\n",
            "69/69 [==============================] - 1s 9ms/step - loss: 132.9671 - mae: 133.4596\n",
            "Epoch 7/400\n",
            "69/69 [==============================] - 1s 8ms/step - loss: 142.7677 - mae: 143.2646\n",
            "Epoch 8/400\n",
            "69/69 [==============================] - 1s 9ms/step - loss: 141.4660 - mae: 141.9621\n",
            "Epoch 9/400\n",
            "69/69 [==============================] - 1s 10ms/step - loss: 127.9479 - mae: 128.4428\n",
            "Epoch 10/400\n",
            "69/69 [==============================] - 1s 8ms/step - loss: 133.1796 - mae: 133.6759\n",
            "Epoch 11/400\n",
            "69/69 [==============================] - 1s 9ms/step - loss: 139.3285 - mae: 139.8208\n",
            "Epoch 12/400\n",
            "69/69 [==============================] - 1s 8ms/step - loss: 129.8094 - mae: 130.3039\n",
            "Epoch 13/400\n",
            "69/69 [==============================] - 1s 8ms/step - loss: 126.1205 - mae: 126.6156\n",
            "Epoch 14/400\n",
            "69/69 [==============================] - 1s 9ms/step - loss: 130.8913 - mae: 131.3872\n",
            "Epoch 15/400\n",
            "69/69 [==============================] - 1s 9ms/step - loss: 140.6822 - mae: 141.1781\n",
            "Epoch 16/400\n",
            "69/69 [==============================] - 1s 8ms/step - loss: 126.3185 - mae: 126.8145\n",
            "Epoch 17/400\n",
            "69/69 [==============================] - 1s 9ms/step - loss: 120.2904 - mae: 120.7841\n",
            "Epoch 18/400\n",
            "69/69 [==============================] - 1s 9ms/step - loss: 126.9462 - mae: 127.4395\n",
            "Epoch 19/400\n",
            "69/69 [==============================] - 1s 9ms/step - loss: 127.8017 - mae: 128.2951\n",
            "Epoch 20/400\n",
            "69/69 [==============================] - 1s 8ms/step - loss: 121.7588 - mae: 122.2541\n",
            "Epoch 21/400\n",
            "69/69 [==============================] - 1s 9ms/step - loss: 116.6588 - mae: 117.1519\n",
            "Epoch 22/400\n",
            "69/69 [==============================] - 1s 9ms/step - loss: 115.1955 - mae: 115.6883\n",
            "Epoch 23/400\n",
            "69/69 [==============================] - 1s 8ms/step - loss: 119.9030 - mae: 120.3957\n",
            "Epoch 24/400\n",
            "69/69 [==============================] - 1s 8ms/step - loss: 134.4291 - mae: 134.9234\n",
            "Epoch 25/400\n",
            "69/69 [==============================] - 1s 8ms/step - loss: 117.9454 - mae: 118.4396\n",
            "Epoch 26/400\n",
            "69/69 [==============================] - 1s 8ms/step - loss: 119.5591 - mae: 120.0543\n",
            "Epoch 27/400\n",
            "69/69 [==============================] - 1s 8ms/step - loss: 118.4160 - mae: 118.9119\n",
            "Epoch 28/400\n",
            "69/69 [==============================] - 1s 8ms/step - loss: 121.1012 - mae: 121.5956\n",
            "Epoch 29/400\n",
            "69/69 [==============================] - 1s 9ms/step - loss: 110.5899 - mae: 111.0835\n",
            "Epoch 30/400\n",
            "69/69 [==============================] - 1s 8ms/step - loss: 113.9608 - mae: 114.4503\n",
            "Epoch 31/400\n",
            "69/69 [==============================] - 1s 8ms/step - loss: 128.8040 - mae: 129.2982\n",
            "Epoch 32/400\n",
            "69/69 [==============================] - 1s 9ms/step - loss: 109.0461 - mae: 109.5387\n",
            "Epoch 33/400\n",
            "69/69 [==============================] - 1s 8ms/step - loss: 122.9434 - mae: 123.4399\n",
            "Epoch 34/400\n",
            "69/69 [==============================] - 1s 8ms/step - loss: 151.7040 - mae: 152.1977\n",
            "Epoch 35/400\n",
            "69/69 [==============================] - 1s 8ms/step - loss: 136.0374 - mae: 136.5345\n",
            "Epoch 36/400\n",
            "69/69 [==============================] - 1s 8ms/step - loss: 121.3090 - mae: 121.8028\n",
            "Epoch 37/400\n",
            "69/69 [==============================] - 1s 8ms/step - loss: 108.2091 - mae: 108.7025\n",
            "Epoch 38/400\n",
            "69/69 [==============================] - 1s 8ms/step - loss: 122.6742 - mae: 123.1710\n",
            "Epoch 39/400\n",
            "69/69 [==============================] - 1s 8ms/step - loss: 111.5611 - mae: 112.0553\n",
            "Epoch 40/400\n",
            "69/69 [==============================] - 1s 9ms/step - loss: 109.4851 - mae: 109.9766\n",
            "Epoch 41/400\n",
            "69/69 [==============================] - 1s 8ms/step - loss: 122.1861 - mae: 122.6828\n",
            "Epoch 42/400\n",
            "69/69 [==============================] - 1s 8ms/step - loss: 120.0706 - mae: 120.5658\n",
            "Epoch 43/400\n",
            "69/69 [==============================] - 1s 8ms/step - loss: 120.5729 - mae: 121.0650\n",
            "Epoch 44/400\n",
            "69/69 [==============================] - 1s 8ms/step - loss: 145.0260 - mae: 145.5237\n",
            "Epoch 45/400\n",
            "69/69 [==============================] - 1s 8ms/step - loss: 171.2742 - mae: 171.7718\n",
            "Epoch 46/400\n",
            "69/69 [==============================] - 1s 8ms/step - loss: 137.8287 - mae: 138.3251\n",
            "Epoch 47/400\n",
            "69/69 [==============================] - 1s 8ms/step - loss: 110.5850 - mae: 111.0783\n",
            "Epoch 48/400\n",
            "69/69 [==============================] - 1s 9ms/step - loss: 108.0332 - mae: 108.5253\n",
            "Epoch 49/400\n",
            "69/69 [==============================] - 1s 8ms/step - loss: 122.1724 - mae: 122.6664\n",
            "Epoch 50/400\n",
            "69/69 [==============================] - 1s 8ms/step - loss: 128.7173 - mae: 129.2126\n",
            "Epoch 51/400\n",
            "69/69 [==============================] - 1s 8ms/step - loss: 115.5474 - mae: 116.0420\n",
            "Epoch 52/400\n",
            "69/69 [==============================] - 1s 8ms/step - loss: 118.7382 - mae: 119.2339\n",
            "Epoch 53/400\n",
            "69/69 [==============================] - 1s 8ms/step - loss: 140.5345 - mae: 141.0308\n",
            "Epoch 54/400\n",
            "69/69 [==============================] - 1s 8ms/step - loss: 109.2662 - mae: 109.7596\n",
            "Epoch 55/400\n",
            "69/69 [==============================] - 1s 8ms/step - loss: 109.9574 - mae: 110.4495\n",
            "Epoch 56/400\n",
            "69/69 [==============================] - 1s 8ms/step - loss: 109.4916 - mae: 109.9855\n",
            "Epoch 57/400\n",
            "69/69 [==============================] - 1s 8ms/step - loss: 109.5548 - mae: 110.0455\n",
            "Epoch 58/400\n",
            "69/69 [==============================] - 1s 8ms/step - loss: 146.8899 - mae: 147.3848\n",
            "Epoch 59/400\n",
            "69/69 [==============================] - 1s 8ms/step - loss: 137.3524 - mae: 137.8500\n",
            "Epoch 60/400\n",
            "69/69 [==============================] - 1s 8ms/step - loss: 118.5980 - mae: 119.0916\n",
            "Epoch 61/400\n",
            "69/69 [==============================] - 1s 8ms/step - loss: 123.0074 - mae: 123.5022\n",
            "Epoch 62/400\n",
            "69/69 [==============================] - 1s 8ms/step - loss: 116.1391 - mae: 116.6352\n",
            "Epoch 63/400\n",
            "69/69 [==============================] - 1s 8ms/step - loss: 109.0914 - mae: 109.5844\n",
            "Epoch 64/400\n",
            "69/69 [==============================] - 1s 9ms/step - loss: 110.2075 - mae: 110.7011\n",
            "Epoch 65/400\n",
            "69/69 [==============================] - 1s 9ms/step - loss: 114.7710 - mae: 115.2652\n",
            "Epoch 66/400\n",
            "69/69 [==============================] - 1s 9ms/step - loss: 109.0943 - mae: 109.5877\n",
            "Epoch 67/400\n",
            "69/69 [==============================] - 1s 8ms/step - loss: 108.4517 - mae: 108.9448\n",
            "Epoch 68/400\n",
            "69/69 [==============================] - 1s 8ms/step - loss: 113.5979 - mae: 114.0909\n",
            "Epoch 69/400\n",
            "69/69 [==============================] - 1s 8ms/step - loss: 118.8841 - mae: 119.3769\n",
            "Epoch 70/400\n",
            "69/69 [==============================] - 1s 9ms/step - loss: 109.8558 - mae: 110.3501\n",
            "Epoch 71/400\n",
            "69/69 [==============================] - 1s 9ms/step - loss: 118.4105 - mae: 118.9063\n",
            "Epoch 72/400\n",
            "69/69 [==============================] - 1s 8ms/step - loss: 116.3017 - mae: 116.7925\n",
            "Epoch 73/400\n",
            "69/69 [==============================] - 1s 8ms/step - loss: 109.8207 - mae: 110.3128\n",
            "Epoch 74/400\n",
            "69/69 [==============================] - 1s 8ms/step - loss: 120.6346 - mae: 121.1294\n",
            "Epoch 75/400\n",
            "69/69 [==============================] - 1s 8ms/step - loss: 117.9646 - mae: 118.4609\n",
            "Epoch 76/400\n",
            "69/69 [==============================] - 1s 9ms/step - loss: 109.7344 - mae: 110.2244\n",
            "Epoch 77/400\n",
            "69/69 [==============================] - 1s 8ms/step - loss: 120.8155 - mae: 121.3086\n",
            "Epoch 78/400\n",
            "69/69 [==============================] - 1s 8ms/step - loss: 115.6804 - mae: 116.1750\n",
            "Epoch 79/400\n",
            "69/69 [==============================] - 1s 9ms/step - loss: 119.1080 - mae: 119.5973\n",
            "Epoch 80/400\n",
            "69/69 [==============================] - 1s 8ms/step - loss: 117.0441 - mae: 117.5403\n",
            "Epoch 81/400\n",
            "69/69 [==============================] - 1s 7ms/step - loss: 122.1743 - mae: 122.6703\n",
            "Epoch 82/400\n",
            "69/69 [==============================] - 1s 7ms/step - loss: 108.0760 - mae: 108.5672\n",
            "Epoch 83/400\n",
            "69/69 [==============================] - 1s 8ms/step - loss: 110.8809 - mae: 111.3741\n",
            "Epoch 84/400\n",
            "69/69 [==============================] - 1s 8ms/step - loss: 113.3828 - mae: 113.8779\n",
            "Epoch 85/400\n",
            "69/69 [==============================] - 1s 8ms/step - loss: 116.2547 - mae: 116.7475\n",
            "Epoch 86/400\n",
            "69/69 [==============================] - 1s 8ms/step - loss: 122.5963 - mae: 123.0927\n",
            "Epoch 87/400\n",
            "69/69 [==============================] - 1s 8ms/step - loss: 121.4942 - mae: 121.9906\n",
            "Epoch 88/400\n",
            "69/69 [==============================] - 1s 8ms/step - loss: 121.7682 - mae: 122.2630\n",
            "Epoch 89/400\n",
            "69/69 [==============================] - 1s 8ms/step - loss: 116.1356 - mae: 116.6270\n",
            "Epoch 90/400\n",
            "69/69 [==============================] - 1s 8ms/step - loss: 108.9818 - mae: 109.4739\n",
            "Epoch 91/400\n",
            "69/69 [==============================] - 1s 8ms/step - loss: 111.3553 - mae: 111.8505\n",
            "Epoch 92/400\n",
            "69/69 [==============================] - 1s 7ms/step - loss: 121.4433 - mae: 121.9409\n",
            "Epoch 93/400\n",
            "69/69 [==============================] - 1s 8ms/step - loss: 132.9535 - mae: 133.4490\n",
            "Epoch 94/400\n",
            "69/69 [==============================] - 1s 8ms/step - loss: 124.5055 - mae: 125.0009\n",
            "Epoch 95/400\n",
            "69/69 [==============================] - 1s 8ms/step - loss: 125.2705 - mae: 125.7672\n",
            "Epoch 96/400\n",
            "69/69 [==============================] - 1s 8ms/step - loss: 108.8784 - mae: 109.3713\n",
            "Epoch 97/400\n",
            "69/69 [==============================] - 1s 9ms/step - loss: 106.1685 - mae: 106.6598\n",
            "Epoch 98/400\n",
            "69/69 [==============================] - 1s 8ms/step - loss: 118.5163 - mae: 119.0082\n",
            "Epoch 99/400\n",
            "69/69 [==============================] - 1s 8ms/step - loss: 129.5211 - mae: 130.0180\n",
            "Epoch 100/400\n",
            "69/69 [==============================] - 1s 8ms/step - loss: 115.2564 - mae: 115.7517\n",
            "Epoch 101/400\n",
            "69/69 [==============================] - 1s 8ms/step - loss: 119.4688 - mae: 119.9633\n",
            "Epoch 102/400\n",
            "69/69 [==============================] - 1s 8ms/step - loss: 108.5400 - mae: 109.0326\n",
            "Epoch 103/400\n",
            "69/69 [==============================] - 1s 8ms/step - loss: 104.8499 - mae: 105.3408\n",
            "Epoch 104/400\n",
            "69/69 [==============================] - 1s 8ms/step - loss: 106.7661 - mae: 107.2600\n",
            "Epoch 105/400\n",
            "69/69 [==============================] - 1s 8ms/step - loss: 120.1869 - mae: 120.6807\n",
            "Epoch 106/400\n",
            "69/69 [==============================] - 1s 8ms/step - loss: 110.8409 - mae: 111.3358\n",
            "Epoch 107/400\n",
            "69/69 [==============================] - 1s 8ms/step - loss: 106.8120 - mae: 107.3035\n",
            "Epoch 108/400\n",
            "69/69 [==============================] - 1s 8ms/step - loss: 113.2990 - mae: 113.7928\n",
            "Epoch 109/400\n",
            "69/69 [==============================] - 1s 8ms/step - loss: 107.1864 - mae: 107.6790\n",
            "Epoch 110/400\n",
            "69/69 [==============================] - 1s 8ms/step - loss: 108.1071 - mae: 108.6007\n",
            "Epoch 111/400\n",
            "69/69 [==============================] - 1s 8ms/step - loss: 115.0867 - mae: 115.5820\n",
            "Epoch 112/400\n",
            "69/69 [==============================] - 1s 8ms/step - loss: 110.8536 - mae: 111.3462\n",
            "Epoch 113/400\n",
            "69/69 [==============================] - 1s 8ms/step - loss: 111.3891 - mae: 111.8827\n",
            "Epoch 114/400\n",
            "69/69 [==============================] - 1s 8ms/step - loss: 129.2856 - mae: 129.7806\n",
            "Epoch 115/400\n",
            "69/69 [==============================] - 1s 8ms/step - loss: 117.5726 - mae: 118.0678\n",
            "Epoch 116/400\n",
            "69/69 [==============================] - 1s 8ms/step - loss: 126.3133 - mae: 126.8075\n",
            "Epoch 117/400\n",
            "69/69 [==============================] - 1s 8ms/step - loss: 114.9745 - mae: 115.4683\n",
            "Epoch 118/400\n",
            "69/69 [==============================] - 1s 8ms/step - loss: 108.3986 - mae: 108.8900\n",
            "Epoch 119/400\n",
            "69/69 [==============================] - 1s 8ms/step - loss: 105.8567 - mae: 106.3482\n",
            "Epoch 120/400\n",
            "69/69 [==============================] - 1s 8ms/step - loss: 107.3076 - mae: 107.7959\n",
            "Epoch 121/400\n",
            "69/69 [==============================] - 1s 8ms/step - loss: 121.4970 - mae: 121.9935\n",
            "Epoch 122/400\n",
            "69/69 [==============================] - 1s 7ms/step - loss: 118.7790 - mae: 119.2750\n",
            "Epoch 123/400\n",
            "69/69 [==============================] - 1s 8ms/step - loss: 121.2486 - mae: 121.7449\n",
            "Epoch 124/400\n",
            "69/69 [==============================] - 1s 8ms/step - loss: 115.5746 - mae: 116.0688\n",
            "Epoch 125/400\n",
            "69/69 [==============================] - 1s 8ms/step - loss: 119.5687 - mae: 120.0630\n",
            "Epoch 126/400\n",
            "69/69 [==============================] - 1s 7ms/step - loss: 114.6885 - mae: 115.1833\n",
            "Epoch 127/400\n",
            "69/69 [==============================] - 1s 8ms/step - loss: 105.7587 - mae: 106.2526\n",
            "Epoch 128/400\n",
            "69/69 [==============================] - 1s 7ms/step - loss: 108.9378 - mae: 109.4276\n",
            "Epoch 129/400\n",
            "69/69 [==============================] - 1s 8ms/step - loss: 109.1150 - mae: 109.6077\n",
            "Epoch 130/400\n",
            "69/69 [==============================] - 1s 7ms/step - loss: 110.6187 - mae: 111.1086\n",
            "Epoch 131/400\n",
            "69/69 [==============================] - 1s 8ms/step - loss: 117.5149 - mae: 118.0106\n",
            "Epoch 132/400\n",
            "69/69 [==============================] - 1s 8ms/step - loss: 117.0323 - mae: 117.5290\n",
            "Epoch 133/400\n",
            "69/69 [==============================] - 1s 8ms/step - loss: 121.1624 - mae: 121.6564\n",
            "Epoch 134/400\n",
            "69/69 [==============================] - 1s 8ms/step - loss: 125.4744 - mae: 125.9692\n",
            "Epoch 135/400\n",
            "69/69 [==============================] - 1s 8ms/step - loss: 108.4355 - mae: 108.9275\n",
            "Epoch 136/400\n",
            "69/69 [==============================] - 1s 8ms/step - loss: 122.9314 - mae: 123.4240\n",
            "Epoch 137/400\n",
            "69/69 [==============================] - 1s 7ms/step - loss: 132.2388 - mae: 132.7352\n",
            "Epoch 138/400\n",
            "69/69 [==============================] - 1s 8ms/step - loss: 117.2357 - mae: 117.7290\n",
            "Epoch 139/400\n",
            "69/69 [==============================] - 1s 8ms/step - loss: 113.7920 - mae: 114.2860\n",
            "Epoch 140/400\n",
            "69/69 [==============================] - 1s 8ms/step - loss: 114.4478 - mae: 114.9390\n",
            "Epoch 141/400\n",
            "69/69 [==============================] - 1s 8ms/step - loss: 107.9753 - mae: 108.4681\n",
            "Epoch 142/400\n",
            "69/69 [==============================] - 1s 8ms/step - loss: 114.0728 - mae: 114.5685\n",
            "Epoch 143/400\n",
            "69/69 [==============================] - 1s 8ms/step - loss: 117.8771 - mae: 118.3727\n",
            "Epoch 144/400\n",
            "69/69 [==============================] - 1s 8ms/step - loss: 105.5786 - mae: 106.0693\n",
            "Epoch 145/400\n",
            "69/69 [==============================] - 1s 8ms/step - loss: 111.9256 - mae: 112.4167\n",
            "Epoch 146/400\n",
            "69/69 [==============================] - 1s 8ms/step - loss: 112.2311 - mae: 112.7259\n",
            "Epoch 147/400\n",
            "69/69 [==============================] - 1s 8ms/step - loss: 108.7607 - mae: 109.2536\n",
            "Epoch 148/400\n",
            "69/69 [==============================] - 1s 8ms/step - loss: 105.2770 - mae: 105.7676\n",
            "Epoch 149/400\n",
            "69/69 [==============================] - 1s 8ms/step - loss: 124.3039 - mae: 124.7983\n",
            "Epoch 150/400\n",
            "69/69 [==============================] - 1s 8ms/step - loss: 121.1379 - mae: 121.6333\n",
            "Epoch 151/400\n",
            "69/69 [==============================] - 1s 8ms/step - loss: 113.0945 - mae: 113.5855\n",
            "Epoch 152/400\n",
            "69/69 [==============================] - 1s 8ms/step - loss: 109.4421 - mae: 109.9321\n",
            "Epoch 153/400\n",
            "69/69 [==============================] - 1s 8ms/step - loss: 111.2570 - mae: 111.7480\n",
            "Epoch 154/400\n",
            "69/69 [==============================] - 1s 8ms/step - loss: 115.2308 - mae: 115.7217\n",
            "Epoch 155/400\n",
            "69/69 [==============================] - 1s 8ms/step - loss: 117.8978 - mae: 118.3924\n",
            "Epoch 156/400\n",
            "69/69 [==============================] - 1s 8ms/step - loss: 111.5702 - mae: 112.0655\n",
            "Epoch 157/400\n",
            "69/69 [==============================] - 1s 8ms/step - loss: 107.3330 - mae: 107.8255\n",
            "Epoch 158/400\n",
            "69/69 [==============================] - 1s 9ms/step - loss: 106.2516 - mae: 106.7398\n",
            "Epoch 159/400\n",
            "69/69 [==============================] - 1s 9ms/step - loss: 112.0210 - mae: 112.5152\n",
            "Epoch 160/400\n",
            "69/69 [==============================] - 1s 8ms/step - loss: 111.4355 - mae: 111.9299\n",
            "Epoch 161/400\n",
            "69/69 [==============================] - 1s 8ms/step - loss: 118.2588 - mae: 118.7545\n",
            "Epoch 162/400\n",
            "69/69 [==============================] - 1s 8ms/step - loss: 110.2361 - mae: 110.7312\n",
            "Epoch 163/400\n",
            "69/69 [==============================] - 1s 8ms/step - loss: 105.6073 - mae: 106.1003\n",
            "Epoch 164/400\n",
            "69/69 [==============================] - 1s 8ms/step - loss: 110.3949 - mae: 110.8889\n",
            "Epoch 165/400\n",
            "69/69 [==============================] - 1s 8ms/step - loss: 104.3200 - mae: 104.8101\n",
            "Epoch 166/400\n",
            "69/69 [==============================] - 1s 8ms/step - loss: 119.5129 - mae: 120.0081\n",
            "Epoch 167/400\n",
            "69/69 [==============================] - 1s 8ms/step - loss: 112.1839 - mae: 112.6779\n",
            "Epoch 168/400\n",
            "69/69 [==============================] - 1s 8ms/step - loss: 132.9274 - mae: 133.4252\n",
            "Epoch 169/400\n",
            "69/69 [==============================] - 1s 8ms/step - loss: 112.9860 - mae: 113.4789\n",
            "Epoch 170/400\n",
            "69/69 [==============================] - 1s 8ms/step - loss: 107.3417 - mae: 107.8327\n",
            "Epoch 171/400\n",
            "69/69 [==============================] - 1s 8ms/step - loss: 111.0741 - mae: 111.5639\n",
            "Epoch 172/400\n",
            "69/69 [==============================] - 1s 8ms/step - loss: 106.6359 - mae: 107.1291\n",
            "Epoch 173/400\n",
            "69/69 [==============================] - 1s 8ms/step - loss: 113.7160 - mae: 114.2057\n",
            "Epoch 174/400\n",
            "69/69 [==============================] - 1s 8ms/step - loss: 118.3725 - mae: 118.8666\n",
            "Epoch 175/400\n",
            "69/69 [==============================] - 1s 9ms/step - loss: 114.4460 - mae: 114.9415\n",
            "Epoch 176/400\n",
            "69/69 [==============================] - 1s 8ms/step - loss: 109.2347 - mae: 109.7271\n",
            "Epoch 177/400\n",
            "69/69 [==============================] - 1s 9ms/step - loss: 113.7680 - mae: 114.2620\n",
            "Epoch 178/400\n",
            "69/69 [==============================] - 1s 9ms/step - loss: 114.0005 - mae: 114.4946\n",
            "Epoch 179/400\n",
            "69/69 [==============================] - 1s 8ms/step - loss: 110.6944 - mae: 111.1876\n",
            "Epoch 180/400\n",
            "69/69 [==============================] - 1s 8ms/step - loss: 107.8763 - mae: 108.3665\n",
            "Epoch 181/400\n",
            "69/69 [==============================] - 1s 8ms/step - loss: 121.8527 - mae: 122.3489\n",
            "Epoch 182/400\n",
            "69/69 [==============================] - 1s 8ms/step - loss: 131.1398 - mae: 131.6353\n",
            "Epoch 183/400\n",
            "69/69 [==============================] - 1s 8ms/step - loss: 111.6914 - mae: 112.1856\n",
            "Epoch 184/400\n",
            "69/69 [==============================] - 1s 9ms/step - loss: 104.6522 - mae: 105.1413\n",
            "Epoch 185/400\n",
            "69/69 [==============================] - 1s 9ms/step - loss: 118.0008 - mae: 118.4957\n",
            "Epoch 186/400\n",
            "69/69 [==============================] - 1s 8ms/step - loss: 116.6577 - mae: 117.1522\n",
            "Epoch 187/400\n",
            "69/69 [==============================] - 1s 9ms/step - loss: 107.4688 - mae: 107.9613\n",
            "Epoch 188/400\n",
            "69/69 [==============================] - 1s 9ms/step - loss: 114.3231 - mae: 114.8138\n",
            "Epoch 189/400\n",
            "69/69 [==============================] - 1s 9ms/step - loss: 116.0313 - mae: 116.5241\n",
            "Epoch 190/400\n",
            "69/69 [==============================] - 1s 8ms/step - loss: 107.8931 - mae: 108.3854\n",
            "Epoch 191/400\n",
            "69/69 [==============================] - 1s 8ms/step - loss: 113.4584 - mae: 113.9518\n",
            "Epoch 192/400\n",
            "69/69 [==============================] - 1s 9ms/step - loss: 117.3112 - mae: 117.8017\n",
            "Epoch 193/400\n",
            "69/69 [==============================] - 1s 8ms/step - loss: 138.9096 - mae: 139.4065\n",
            "Epoch 194/400\n",
            "69/69 [==============================] - 1s 9ms/step - loss: 104.9376 - mae: 105.4255\n",
            "Epoch 195/400\n",
            "69/69 [==============================] - 1s 9ms/step - loss: 109.8406 - mae: 110.3338\n",
            "Epoch 196/400\n",
            "69/69 [==============================] - 1s 10ms/step - loss: 111.9847 - mae: 112.4792\n",
            "Epoch 197/400\n",
            "69/69 [==============================] - 1s 9ms/step - loss: 111.3689 - mae: 111.8608\n",
            "Epoch 198/400\n",
            "69/69 [==============================] - 1s 9ms/step - loss: 107.4356 - mae: 107.9249\n",
            "Epoch 199/400\n",
            "69/69 [==============================] - 1s 8ms/step - loss: 109.8924 - mae: 110.3826\n",
            "Epoch 200/400\n",
            "69/69 [==============================] - 1s 8ms/step - loss: 106.6726 - mae: 107.1644\n",
            "Epoch 201/400\n",
            "69/69 [==============================] - 1s 8ms/step - loss: 106.0322 - mae: 106.5241\n",
            "Epoch 202/400\n",
            "69/69 [==============================] - 1s 9ms/step - loss: 114.3424 - mae: 114.8365\n",
            "Epoch 203/400\n",
            "69/69 [==============================] - 1s 9ms/step - loss: 115.6264 - mae: 116.1212\n",
            "Epoch 204/400\n",
            "69/69 [==============================] - 1s 9ms/step - loss: 106.6669 - mae: 107.1601\n",
            "Epoch 205/400\n",
            "69/69 [==============================] - 1s 9ms/step - loss: 106.2551 - mae: 106.7471\n",
            "Epoch 206/400\n",
            "69/69 [==============================] - 1s 9ms/step - loss: 107.9060 - mae: 108.3964\n",
            "Epoch 207/400\n",
            "69/69 [==============================] - 1s 9ms/step - loss: 110.6954 - mae: 111.1884\n",
            "Epoch 208/400\n",
            "69/69 [==============================] - 1s 9ms/step - loss: 118.0990 - mae: 118.5940\n",
            "Epoch 209/400\n",
            "69/69 [==============================] - 1s 9ms/step - loss: 114.0989 - mae: 114.5943\n",
            "Epoch 210/400\n",
            "69/69 [==============================] - 1s 9ms/step - loss: 113.1824 - mae: 113.6753\n",
            "Epoch 211/400\n",
            "69/69 [==============================] - 1s 8ms/step - loss: 110.5977 - mae: 111.0912\n",
            "Epoch 212/400\n",
            "69/69 [==============================] - 1s 9ms/step - loss: 115.4381 - mae: 115.9323\n",
            "Epoch 213/400\n",
            "69/69 [==============================] - 1s 8ms/step - loss: 113.2167 - mae: 113.7098\n",
            "Epoch 214/400\n",
            "69/69 [==============================] - 1s 8ms/step - loss: 110.5163 - mae: 111.0112\n",
            "Epoch 215/400\n",
            "69/69 [==============================] - 1s 9ms/step - loss: 119.1049 - mae: 119.5996\n",
            "Epoch 216/400\n",
            "69/69 [==============================] - 1s 8ms/step - loss: 107.4546 - mae: 107.9456\n",
            "Epoch 217/400\n",
            "69/69 [==============================] - 1s 8ms/step - loss: 107.7376 - mae: 108.2294\n",
            "Epoch 218/400\n",
            "69/69 [==============================] - 1s 8ms/step - loss: 108.7745 - mae: 109.2680\n",
            "Epoch 219/400\n",
            "69/69 [==============================] - 1s 9ms/step - loss: 112.6533 - mae: 113.1438\n",
            "Epoch 220/400\n",
            "69/69 [==============================] - 1s 9ms/step - loss: 121.8015 - mae: 122.2944\n",
            "Epoch 221/400\n",
            "69/69 [==============================] - 1s 8ms/step - loss: 119.2274 - mae: 119.7235\n",
            "Epoch 222/400\n",
            "69/69 [==============================] - 1s 9ms/step - loss: 108.9102 - mae: 109.4039\n",
            "Epoch 223/400\n",
            "69/69 [==============================] - 1s 8ms/step - loss: 109.0815 - mae: 109.5738\n",
            "Epoch 224/400\n",
            "69/69 [==============================] - 1s 9ms/step - loss: 108.3418 - mae: 108.8349\n",
            "Epoch 225/400\n",
            "69/69 [==============================] - 1s 8ms/step - loss: 105.1247 - mae: 105.6177\n",
            "Epoch 226/400\n",
            "69/69 [==============================] - 1s 9ms/step - loss: 115.4543 - mae: 115.9488\n",
            "Epoch 227/400\n",
            "69/69 [==============================] - 1s 9ms/step - loss: 124.8014 - mae: 125.2976\n",
            "Epoch 228/400\n",
            "69/69 [==============================] - 1s 9ms/step - loss: 110.3678 - mae: 110.8612\n",
            "Epoch 229/400\n",
            "69/69 [==============================] - 1s 8ms/step - loss: 112.8754 - mae: 113.3704\n",
            "Epoch 230/400\n",
            "69/69 [==============================] - 1s 9ms/step - loss: 119.1892 - mae: 119.6827\n",
            "Epoch 231/400\n",
            "69/69 [==============================] - 1s 9ms/step - loss: 110.5335 - mae: 111.0263\n",
            "Epoch 232/400\n",
            "69/69 [==============================] - 1s 8ms/step - loss: 114.9035 - mae: 115.3987\n",
            "Epoch 233/400\n",
            "69/69 [==============================] - 1s 8ms/step - loss: 110.2953 - mae: 110.7880\n",
            "Epoch 234/400\n",
            "69/69 [==============================] - 1s 9ms/step - loss: 109.5580 - mae: 110.0489\n",
            "Epoch 235/400\n",
            "69/69 [==============================] - 1s 9ms/step - loss: 112.9692 - mae: 113.4639\n"
          ]
        }
      ]
    },
    {
      "cell_type": "code",
      "metadata": {
        "colab": {
          "base_uri": "https://localhost:8080/",
          "height": 284
        },
        "id": "ipMr1zPyloUL",
        "outputId": "9fec949c-d9c6-4ea2-9712-d8cd6fd95b1b"
      },
      "source": [
        "loss = history.history['loss']\n",
        "epochs = range(len(loss))\n",
        "plt.plot(epochs, loss, 'b', label='Training Loss')\n",
        "plt.show"
      ],
      "execution_count": 43,
      "outputs": [
        {
          "output_type": "execute_result",
          "data": {
            "text/plain": [
              "<function matplotlib.pyplot.show>"
            ]
          },
          "metadata": {},
          "execution_count": 43
        },
        {
          "output_type": "display_data",
          "data": {
            "image/png": "[encoded data removed]",
            "text/plain": [
              "<Figure size 432x288 with 1 Axes>"
            ]
          },
          "metadata": {
            "needs_background": "light"
          }
        }
      ]
    },
    {
      "cell_type": "code",
      "metadata": {
        "colab": {
          "base_uri": "https://localhost:8080/",
          "height": 388
        },
        "id": "LPgz8_QMloUL",
        "outputId": "9e37a07a-c5be-484c-9838-99314f332aec"
      },
      "source": [
        "forecast=[]\n",
        "\n",
        "for time in range(len(series) - WINDOW_SIZE):\n",
        "    forecast.append(model.predict(series[time:time + WINDOW_SIZE][np.newaxis]))\n",
        "\n",
        "forecast = forecast[SPLIT_TIME - WINDOW_SIZE:]\n",
        "results = np.array(forecast)[:, 0, 0]\n",
        "\n",
        "\n",
        "plt.figure(figsize=(10, 6))\n",
        "\n",
        "plot_series(time_valid, x_valid)\n",
        "plot_series(time_valid, results)"
      ],
      "execution_count": 44,
      "outputs": [
        {
          "output_type": "display_data",
          "data": {
            "image/png": "[encoded data removed]",
            "text/plain": [
              "<Figure size 720x432 with 1 Axes>"
            ]
          },
          "metadata": {
            "needs_background": "light"
          }
        }
      ]
    },
    {
      "cell_type": "code",
      "metadata": {
        "colab": {
          "base_uri": "https://localhost:8080/"
        },
        "id": "QSRRTW--loUM",
        "outputId": "17f18c2a-678a-41e1-9d98-c280f67ac8d9"
      },
      "source": [
        "tf.keras.metrics.mean_absolute_error(x_valid, results).numpy()"
      ],
      "execution_count": 45,
      "outputs": [
        {
          "output_type": "execute_result",
          "data": {
            "text/plain": [
              "559.68396"
            ]
          },
          "metadata": {},
          "execution_count": 45
        }
      ]
    },
    {
      "cell_type": "code",
      "metadata": {
        "id": "lhZ7ch0RloUM"
      },
      "source": [
        "best_model = tf.keras.models.load_model('best_model.h5')"
      ],
      "execution_count": 46,
      "outputs": []
    },
    {
      "cell_type": "code",
      "metadata": {
        "colab": {
          "base_uri": "https://localhost:8080/",
          "height": 388
        },
        "id": "ShaoW34zloUM",
        "outputId": "4e67c1dc-7662-4ce0-a266-02020f354b29"
      },
      "source": [
        "forecast=[]\n",
        "\n",
        "for time in range(len(series) - WINDOW_SIZE):\n",
        "    forecast.append(best_model.predict(series[time:time + WINDOW_SIZE][np.newaxis]))\n",
        "\n",
        "forecast = forecast[SPLIT_TIME - WINDOW_SIZE:]\n",
        "results = np.array(forecast)[:, 0, 0]\n",
        "\n",
        "plt.figure(figsize=(10, 6))\n",
        "\n",
        "plot_series(time_valid, x_valid)\n",
        "plot_series(time_valid, results)"
      ],
      "execution_count": 47,
      "outputs": [
        {
          "output_type": "display_data",
          "data": {
            "image/png": "[encoded data removed]",
            "text/plain": [
              "<Figure size 720x432 with 1 Axes>"
            ]
          },
          "metadata": {
            "needs_background": "light"
          }
        }
      ]
    },
    {
      "cell_type": "code",
      "metadata": {
        "colab": {
          "base_uri": "https://localhost:8080/"
        },
        "id": "OtCum-haloUM",
        "outputId": "5748327f-9180-47f9-9f7b-9d5aeb91ef56"
      },
      "source": [
        "tf.keras.metrics.mean_absolute_error(x_valid, results).numpy()"
      ],
      "execution_count": 48,
      "outputs": [
        {
          "output_type": "execute_result",
          "data": {
            "text/plain": [
              "840.39685"
            ]
          },
          "metadata": {},
          "execution_count": 48
        }
      ]
    },
    {
      "cell_type": "markdown",
      "metadata": {
        "id": "72-1aBDuqaB6"
      },
      "source": [
        "## Dense + Adam"
      ]
    },
    {
      "cell_type": "code",
      "metadata": {
        "id": "F4zd2X96qfBb"
      },
      "source": [
        "model = Sequential([\n",
        "    layers.InputLayer(input_shape=[WINDOW_SIZE]), \n",
        "    layers.Dense(40, activation=\"relu\"),               \n",
        "    layers.Dense(20, activation=\"relu\"),\n",
        "    layers.Dense(10, activation=\"relu\"),\n",
        "    layers.Dense(1)\n",
        "])"
      ],
      "execution_count": 77,
      "outputs": []
    },
    {
      "cell_type": "code",
      "metadata": {
        "colab": {
          "base_uri": "https://localhost:8080/"
        },
        "id": "ONiSY2woqfBb",
        "outputId": "4c8920e2-46b4-4fd3-bef1-b91d0ad7f3cb"
      },
      "source": [
        "model.summary()"
      ],
      "execution_count": 58,
      "outputs": [
        {
          "output_type": "stream",
          "name": "stdout",
          "text": [
            "Model: \"sequential_5\"\n",
            "_________________________________________________________________\n",
            " Layer (type)                Output Shape              Param #   \n",
            "=================================================================\n",
            " dense_18 (Dense)            (None, 40)                320       \n",
            "                                                                 \n",
            " dense_19 (Dense)            (None, 20)                820       \n",
            "                                                                 \n",
            " dense_20 (Dense)            (None, 10)                210       \n",
            "                                                                 \n",
            " dense_21 (Dense)            (None, 1)                 11        \n",
            "                                                                 \n",
            "=================================================================\n",
            "Total params: 1,361\n",
            "Trainable params: 1,361\n",
            "Non-trainable params: 0\n",
            "_________________________________________________________________\n"
          ]
        }
      ]
    },
    {
      "cell_type": "code",
      "metadata": {
        "id": "tnJiQFLMqfBb"
      },
      "source": [
        "optimizer   = tf.keras.optimizers.Adam(learning_rate=1e-7)\n",
        "loss        = tf.keras.losses.Huber()\n",
        "metrics     = ['mae']"
      ],
      "execution_count": 78,
      "outputs": []
    },
    {
      "cell_type": "code",
      "metadata": {
        "id": "0aAixaMfqfBc"
      },
      "source": [
        "model.compile(optimizer=optimizer,\n",
        "              loss=loss,\n",
        "              metrics=metrics)"
      ],
      "execution_count": 79,
      "outputs": []
    },
    {
      "cell_type": "code",
      "metadata": {
        "id": "Zg-jAwoMqfBc"
      },
      "source": [
        "early_stopping    = EarlyStopping(monitor='loss', patience=40)\n",
        "model_checkpoint  = ModelCheckpoint(monitor='loss', filepath='./best_model.h5', save_best_only=True)"
      ],
      "execution_count": 80,
      "outputs": []
    },
    {
      "cell_type": "code",
      "metadata": {
        "id": "mN44ANkYqfBc"
      },
      "source": [
        "lr_schedule = LearningRateScheduler(lambda epoch: 1e-7 * 10**(epoch / 20))"
      ],
      "execution_count": 81,
      "outputs": []
    },
    {
      "cell_type": "code",
      "metadata": {
        "id": "ngYq2qRdqfBc"
      },
      "source": [
        "EPOCHS = 120\n",
        "CALLBACKS = [early_stopping, model_checkpoint, lr_schedule]"
      ],
      "execution_count": 82,
      "outputs": []
    },
    {
      "cell_type": "code",
      "metadata": {
        "colab": {
          "base_uri": "https://localhost:8080/"
        },
        "id": "tZDEHmfiqfBc",
        "outputId": "a5bae0a1-d846-4a4e-c479-26881eca3fec"
      },
      "source": [
        "history = model.fit(dataset,\n",
        "                    verbose = 1,\n",
        "                    epochs = EPOCHS,\n",
        "                    callbacks = CALLBACKS)"
      ],
      "execution_count": 83,
      "outputs": [
        {
          "output_type": "stream",
          "name": "stdout",
          "text": [
            "Epoch 1/120\n",
            "69/69 [==============================] - 2s 10ms/step - loss: 2580.3704 - mae: 2580.8704 - lr: 1.0000e-07\n",
            "Epoch 2/120\n",
            "69/69 [==============================] - 1s 10ms/step - loss: 2579.8811 - mae: 2580.3811 - lr: 1.1220e-07\n",
            "Epoch 3/120\n",
            "69/69 [==============================] - 1s 9ms/step - loss: 2579.3569 - mae: 2579.8569 - lr: 1.2589e-07\n",
            "Epoch 4/120\n",
            "69/69 [==============================] - 1s 9ms/step - loss: 2578.7771 - mae: 2579.2771 - lr: 1.4125e-07\n",
            "Epoch 5/120\n",
            "69/69 [==============================] - 1s 9ms/step - loss: 2578.1304 - mae: 2578.6304 - lr: 1.5849e-07\n",
            "Epoch 6/120\n",
            "69/69 [==============================] - 1s 9ms/step - loss: 2577.4075 - mae: 2577.9075 - lr: 1.7783e-07\n",
            "Epoch 7/120\n",
            "69/69 [==============================] - 1s 9ms/step - loss: 2576.5925 - mae: 2577.0925 - lr: 1.9953e-07\n",
            "Epoch 8/120\n",
            "69/69 [==============================] - 1s 9ms/step - loss: 2575.6753 - mae: 2576.1753 - lr: 2.2387e-07\n",
            "Epoch 9/120\n",
            "69/69 [==============================] - 1s 9ms/step - loss: 2574.6396 - mae: 2575.1396 - lr: 2.5119e-07\n",
            "Epoch 10/120\n",
            "69/69 [==============================] - 1s 9ms/step - loss: 2573.4668 - mae: 2573.9668 - lr: 2.8184e-07\n",
            "Epoch 11/120\n",
            "69/69 [==============================] - 1s 9ms/step - loss: 2572.1477 - mae: 2572.6477 - lr: 3.1623e-07\n",
            "Epoch 12/120\n",
            "69/69 [==============================] - 1s 9ms/step - loss: 2570.6536 - mae: 2571.1536 - lr: 3.5481e-07\n",
            "Epoch 13/120\n",
            "69/69 [==============================] - 1s 9ms/step - loss: 2568.9668 - mae: 2569.4668 - lr: 3.9811e-07\n",
            "Epoch 14/120\n",
            "69/69 [==============================] - 1s 9ms/step - loss: 2567.0496 - mae: 2567.5496 - lr: 4.4668e-07\n",
            "Epoch 15/120\n",
            "69/69 [==============================] - 1s 9ms/step - loss: 2564.8865 - mae: 2565.3865 - lr: 5.0119e-07\n",
            "Epoch 16/120\n",
            "69/69 [==============================] - 1s 9ms/step - loss: 2562.4399 - mae: 2562.9399 - lr: 5.6234e-07\n",
            "Epoch 17/120\n",
            "69/69 [==============================] - 1s 9ms/step - loss: 2559.6714 - mae: 2560.1714 - lr: 6.3096e-07\n",
            "Epoch 18/120\n",
            "69/69 [==============================] - 1s 9ms/step - loss: 2556.5364 - mae: 2557.0364 - lr: 7.0795e-07\n",
            "Epoch 19/120\n",
            "69/69 [==============================] - 1s 9ms/step - loss: 2552.9922 - mae: 2553.4922 - lr: 7.9433e-07\n",
            "Epoch 20/120\n",
            "69/69 [==============================] - 1s 9ms/step - loss: 2548.9819 - mae: 2549.4819 - lr: 8.9125e-07\n",
            "Epoch 21/120\n",
            "69/69 [==============================] - 1s 10ms/step - loss: 2544.4556 - mae: 2544.9556 - lr: 1.0000e-06\n",
            "Epoch 22/120\n",
            "69/69 [==============================] - 1s 9ms/step - loss: 2539.3296 - mae: 2539.8296 - lr: 1.1220e-06\n",
            "Epoch 23/120\n",
            "69/69 [==============================] - 1s 9ms/step - loss: 2533.5161 - mae: 2534.0161 - lr: 1.2589e-06\n",
            "Epoch 24/120\n",
            "69/69 [==============================] - 1s 9ms/step - loss: 2526.9282 - mae: 2527.4282 - lr: 1.4125e-06\n",
            "Epoch 25/120\n",
            "69/69 [==============================] - 1s 9ms/step - loss: 2519.4768 - mae: 2519.9768 - lr: 1.5849e-06\n",
            "Epoch 26/120\n",
            "69/69 [==============================] - 1s 9ms/step - loss: 2511.0334 - mae: 2511.5334 - lr: 1.7783e-06\n",
            "Epoch 27/120\n",
            "69/69 [==============================] - 1s 10ms/step - loss: 2501.5439 - mae: 2502.0439 - lr: 1.9953e-06\n",
            "Epoch 28/120\n",
            "69/69 [==============================] - 1s 9ms/step - loss: 2490.8347 - mae: 2491.3347 - lr: 2.2387e-06\n",
            "Epoch 29/120\n",
            "69/69 [==============================] - 1s 9ms/step - loss: 2478.7776 - mae: 2479.2776 - lr: 2.5119e-06\n",
            "Epoch 30/120\n",
            "69/69 [==============================] - 1s 9ms/step - loss: 2465.2651 - mae: 2465.7651 - lr: 2.8184e-06\n",
            "Epoch 31/120\n",
            "69/69 [==============================] - 1s 9ms/step - loss: 2450.0503 - mae: 2450.5503 - lr: 3.1623e-06\n",
            "Epoch 32/120\n",
            "69/69 [==============================] - 1s 10ms/step - loss: 2433.0432 - mae: 2433.5432 - lr: 3.5481e-06\n",
            "Epoch 33/120\n",
            "69/69 [==============================] - 1s 9ms/step - loss: 2413.9451 - mae: 2414.4451 - lr: 3.9811e-06\n",
            "Epoch 34/120\n",
            "69/69 [==============================] - 1s 9ms/step - loss: 2392.4998 - mae: 2392.9998 - lr: 4.4668e-06\n",
            "Epoch 35/120\n",
            "69/69 [==============================] - 1s 9ms/step - loss: 2368.6140 - mae: 2369.1140 - lr: 5.0119e-06\n",
            "Epoch 36/120\n",
            "69/69 [==============================] - 1s 9ms/step - loss: 2342.0437 - mae: 2342.5437 - lr: 5.6234e-06\n",
            "Epoch 37/120\n",
            "69/69 [==============================] - 1s 10ms/step - loss: 2312.0728 - mae: 2312.5728 - lr: 6.3096e-06\n",
            "Epoch 38/120\n",
            "69/69 [==============================] - 1s 9ms/step - loss: 2278.4692 - mae: 2278.9692 - lr: 7.0795e-06\n",
            "Epoch 39/120\n",
            "69/69 [==============================] - 1s 10ms/step - loss: 2240.3926 - mae: 2240.8926 - lr: 7.9433e-06\n",
            "Epoch 40/120\n",
            "69/69 [==============================] - 1s 9ms/step - loss: 2197.8521 - mae: 2198.3521 - lr: 8.9125e-06\n",
            "Epoch 41/120\n",
            "69/69 [==============================] - 1s 9ms/step - loss: 2152.1604 - mae: 2152.6604 - lr: 1.0000e-05\n",
            "Epoch 42/120\n",
            "69/69 [==============================] - 1s 9ms/step - loss: 2105.5083 - mae: 2106.0083 - lr: 1.1220e-05\n",
            "Epoch 43/120\n",
            "69/69 [==============================] - 1s 9ms/step - loss: 2056.4673 - mae: 2056.9673 - lr: 1.2589e-05\n",
            "Epoch 44/120\n",
            "69/69 [==============================] - 1s 9ms/step - loss: 2001.6858 - mae: 2002.1858 - lr: 1.4125e-05\n",
            "Epoch 45/120\n",
            "69/69 [==============================] - 1s 9ms/step - loss: 1939.1316 - mae: 1939.6316 - lr: 1.5849e-05\n",
            "Epoch 46/120\n",
            "69/69 [==============================] - 1s 9ms/step - loss: 1867.1927 - mae: 1867.6927 - lr: 1.7783e-05\n",
            "Epoch 47/120\n",
            "69/69 [==============================] - 1s 9ms/step - loss: 1783.8634 - mae: 1784.3634 - lr: 1.9953e-05\n",
            "Epoch 48/120\n",
            "69/69 [==============================] - 1s 9ms/step - loss: 1668.8604 - mae: 1669.3604 - lr: 2.2387e-05\n",
            "Epoch 49/120\n",
            "69/69 [==============================] - 1s 9ms/step - loss: 1467.5027 - mae: 1468.0027 - lr: 2.5119e-05\n",
            "Epoch 50/120\n",
            "69/69 [==============================] - 1s 9ms/step - loss: 1222.1517 - mae: 1222.6517 - lr: 2.8184e-05\n",
            "Epoch 51/120\n",
            "69/69 [==============================] - 1s 9ms/step - loss: 827.1528 - mae: 827.6528 - lr: 3.1623e-05\n",
            "Epoch 52/120\n",
            "69/69 [==============================] - 1s 9ms/step - loss: 398.0273 - mae: 398.5271 - lr: 3.5481e-05\n",
            "Epoch 53/120\n",
            "69/69 [==============================] - 1s 10ms/step - loss: 206.7497 - mae: 207.2464 - lr: 3.9811e-05\n",
            "Epoch 54/120\n",
            "69/69 [==============================] - 1s 9ms/step - loss: 197.8308 - mae: 198.3250 - lr: 4.4668e-05\n",
            "Epoch 55/120\n",
            "69/69 [==============================] - 1s 10ms/step - loss: 188.0027 - mae: 188.4973 - lr: 5.0119e-05\n",
            "Epoch 56/120\n",
            "69/69 [==============================] - 1s 9ms/step - loss: 184.8040 - mae: 185.2967 - lr: 5.6234e-05\n",
            "Epoch 57/120\n",
            "69/69 [==============================] - 1s 9ms/step - loss: 182.4524 - mae: 182.9464 - lr: 6.3096e-05\n",
            "Epoch 58/120\n",
            "69/69 [==============================] - 1s 10ms/step - loss: 175.0911 - mae: 175.5849 - lr: 7.0795e-05\n",
            "Epoch 59/120\n",
            "69/69 [==============================] - 1s 9ms/step - loss: 168.2243 - mae: 168.7200 - lr: 7.9433e-05\n",
            "Epoch 60/120\n",
            "69/69 [==============================] - 1s 8ms/step - loss: 160.9596 - mae: 161.4538 - lr: 8.9125e-05\n",
            "Epoch 61/120\n",
            "69/69 [==============================] - 1s 9ms/step - loss: 156.0569 - mae: 156.5505 - lr: 1.0000e-04\n",
            "Epoch 62/120\n",
            "69/69 [==============================] - 1s 9ms/step - loss: 136.6112 - mae: 137.1032 - lr: 1.1220e-04\n",
            "Epoch 63/120\n",
            "69/69 [==============================] - 1s 10ms/step - loss: 129.1452 - mae: 129.6354 - lr: 1.2589e-04\n",
            "Epoch 64/120\n",
            "69/69 [==============================] - 1s 9ms/step - loss: 124.7034 - mae: 125.1960 - lr: 1.4125e-04\n",
            "Epoch 65/120\n",
            "69/69 [==============================] - 1s 9ms/step - loss: 117.3499 - mae: 117.8410 - lr: 1.5849e-04\n",
            "Epoch 66/120\n",
            "69/69 [==============================] - 1s 10ms/step - loss: 112.5087 - mae: 113.0000 - lr: 1.7783e-04\n",
            "Epoch 67/120\n",
            "69/69 [==============================] - 1s 9ms/step - loss: 112.8414 - mae: 113.3351 - lr: 1.9953e-04\n",
            "Epoch 68/120\n",
            "69/69 [==============================] - 1s 9ms/step - loss: 112.0599 - mae: 112.5505 - lr: 2.2387e-04\n",
            "Epoch 69/120\n",
            "69/69 [==============================] - 1s 9ms/step - loss: 110.8923 - mae: 111.3851 - lr: 2.5119e-04\n",
            "Epoch 70/120\n",
            "69/69 [==============================] - 1s 9ms/step - loss: 111.2816 - mae: 111.7714 - lr: 2.8184e-04\n",
            "Epoch 71/120\n",
            "69/69 [==============================] - 1s 8ms/step - loss: 110.9137 - mae: 111.4037 - lr: 3.1623e-04\n",
            "Epoch 72/120\n",
            "69/69 [==============================] - 1s 8ms/step - loss: 111.2278 - mae: 111.7201 - lr: 3.5481e-04\n",
            "Epoch 73/120\n",
            "69/69 [==============================] - 1s 9ms/step - loss: 114.4299 - mae: 114.9244 - lr: 3.9811e-04\n",
            "Epoch 74/120\n",
            "69/69 [==============================] - 1s 9ms/step - loss: 111.9074 - mae: 112.4013 - lr: 4.4668e-04\n",
            "Epoch 75/120\n",
            "69/69 [==============================] - 1s 9ms/step - loss: 115.0812 - mae: 115.5730 - lr: 5.0119e-04\n",
            "Epoch 76/120\n",
            "69/69 [==============================] - 1s 9ms/step - loss: 113.3918 - mae: 113.8855 - lr: 5.6234e-04\n",
            "Epoch 77/120\n",
            "69/69 [==============================] - 1s 9ms/step - loss: 113.3595 - mae: 113.8519 - lr: 6.3096e-04\n",
            "Epoch 78/120\n",
            "69/69 [==============================] - 1s 9ms/step - loss: 109.4367 - mae: 109.9311 - lr: 7.0795e-04\n",
            "Epoch 79/120\n",
            "69/69 [==============================] - 1s 9ms/step - loss: 132.0187 - mae: 132.5131 - lr: 7.9433e-04\n",
            "Epoch 80/120\n",
            "69/69 [==============================] - 1s 9ms/step - loss: 113.1027 - mae: 113.5965 - lr: 8.9125e-04\n",
            "Epoch 81/120\n",
            "69/69 [==============================] - 1s 9ms/step - loss: 115.4368 - mae: 115.9280 - lr: 0.0010\n",
            "Epoch 82/120\n",
            "69/69 [==============================] - 1s 10ms/step - loss: 112.7307 - mae: 113.2245 - lr: 0.0011\n",
            "Epoch 83/120\n",
            "69/69 [==============================] - 1s 9ms/step - loss: 112.8334 - mae: 113.3239 - lr: 0.0013\n",
            "Epoch 84/120\n",
            "69/69 [==============================] - 1s 9ms/step - loss: 124.6227 - mae: 125.1172 - lr: 0.0014\n",
            "Epoch 85/120\n",
            "69/69 [==============================] - 1s 9ms/step - loss: 109.3006 - mae: 109.7922 - lr: 0.0016\n",
            "Epoch 86/120\n",
            "69/69 [==============================] - 1s 9ms/step - loss: 115.1406 - mae: 115.6319 - lr: 0.0018\n",
            "Epoch 87/120\n",
            "69/69 [==============================] - 1s 8ms/step - loss: 135.9835 - mae: 136.4785 - lr: 0.0020\n",
            "Epoch 88/120\n",
            "69/69 [==============================] - 1s 9ms/step - loss: 117.4904 - mae: 117.9860 - lr: 0.0022\n",
            "Epoch 89/120\n",
            "69/69 [==============================] - 1s 8ms/step - loss: 181.9134 - mae: 182.4107 - lr: 0.0025\n",
            "Epoch 90/120\n",
            "69/69 [==============================] - 1s 9ms/step - loss: 133.5782 - mae: 134.0717 - lr: 0.0028\n",
            "Epoch 91/120\n",
            "69/69 [==============================] - 1s 9ms/step - loss: 118.9118 - mae: 119.4062 - lr: 0.0032\n",
            "Epoch 92/120\n",
            "69/69 [==============================] - 1s 9ms/step - loss: 147.8627 - mae: 148.3579 - lr: 0.0035\n",
            "Epoch 93/120\n",
            "69/69 [==============================] - 1s 9ms/step - loss: 181.9378 - mae: 182.4356 - lr: 0.0040\n",
            "Epoch 94/120\n",
            "69/69 [==============================] - 1s 9ms/step - loss: 124.4994 - mae: 124.9933 - lr: 0.0045\n",
            "Epoch 95/120\n",
            "69/69 [==============================] - 1s 9ms/step - loss: 128.5816 - mae: 129.0768 - lr: 0.0050\n",
            "Epoch 96/120\n",
            "69/69 [==============================] - 1s 9ms/step - loss: 161.6675 - mae: 162.1621 - lr: 0.0056\n",
            "Epoch 97/120\n",
            "69/69 [==============================] - 1s 9ms/step - loss: 141.3107 - mae: 141.8088 - lr: 0.0063\n",
            "Epoch 98/120\n",
            "69/69 [==============================] - 1s 9ms/step - loss: 143.4930 - mae: 143.9886 - lr: 0.0071\n",
            "Epoch 99/120\n",
            "69/69 [==============================] - 1s 8ms/step - loss: 145.1678 - mae: 145.6632 - lr: 0.0079\n",
            "Epoch 100/120\n",
            "69/69 [==============================] - 1s 9ms/step - loss: 153.9843 - mae: 154.4803 - lr: 0.0089\n",
            "Epoch 101/120\n",
            "69/69 [==============================] - 1s 9ms/step - loss: 162.5302 - mae: 163.0274 - lr: 0.0100\n",
            "Epoch 102/120\n",
            "69/69 [==============================] - 1s 9ms/step - loss: 144.5231 - mae: 145.0211 - lr: 0.0112\n",
            "Epoch 103/120\n",
            "69/69 [==============================] - 1s 8ms/step - loss: 141.8726 - mae: 142.3663 - lr: 0.0126\n",
            "Epoch 104/120\n",
            "69/69 [==============================] - 1s 9ms/step - loss: 162.5894 - mae: 163.0867 - lr: 0.0141\n",
            "Epoch 105/120\n",
            "69/69 [==============================] - 1s 9ms/step - loss: 167.6138 - mae: 168.1095 - lr: 0.0158\n",
            "Epoch 106/120\n",
            "69/69 [==============================] - 1s 9ms/step - loss: 181.6516 - mae: 182.1499 - lr: 0.0178\n",
            "Epoch 107/120\n",
            "69/69 [==============================] - 1s 9ms/step - loss: 148.5672 - mae: 149.0647 - lr: 0.0200\n",
            "Epoch 108/120\n",
            "69/69 [==============================] - 1s 8ms/step - loss: 172.7493 - mae: 173.2465 - lr: 0.0224\n",
            "Epoch 109/120\n",
            "69/69 [==============================] - 1s 8ms/step - loss: 225.2329 - mae: 225.7303 - lr: 0.0251\n",
            "Epoch 110/120\n",
            "69/69 [==============================] - 1s 9ms/step - loss: 163.9305 - mae: 164.4238 - lr: 0.0282\n",
            "Epoch 111/120\n",
            "69/69 [==============================] - 1s 9ms/step - loss: 195.1464 - mae: 195.6451 - lr: 0.0316\n",
            "Epoch 112/120\n",
            "69/69 [==============================] - 1s 9ms/step - loss: 185.4869 - mae: 185.9829 - lr: 0.0355\n",
            "Epoch 113/120\n",
            "69/69 [==============================] - 1s 9ms/step - loss: 193.3069 - mae: 193.8037 - lr: 0.0398\n",
            "Epoch 114/120\n",
            "69/69 [==============================] - 1s 9ms/step - loss: 342.4171 - mae: 342.9150 - lr: 0.0447\n",
            "Epoch 115/120\n",
            "69/69 [==============================] - 1s 8ms/step - loss: 348.9556 - mae: 349.4541 - lr: 0.0501\n",
            "Epoch 116/120\n",
            "69/69 [==============================] - 1s 9ms/step - loss: 262.5083 - mae: 263.0066 - lr: 0.0562\n",
            "Epoch 117/120\n",
            "69/69 [==============================] - 1s 9ms/step - loss: 681.8556 - mae: 682.3533 - lr: 0.0631\n",
            "Epoch 118/120\n",
            "69/69 [==============================] - 1s 9ms/step - loss: 456.7939 - mae: 457.2931 - lr: 0.0708\n",
            "Epoch 119/120\n",
            "69/69 [==============================] - 1s 8ms/step - loss: 259.2217 - mae: 259.7199 - lr: 0.0794\n",
            "Epoch 120/120\n",
            "69/69 [==============================] - 1s 8ms/step - loss: 461.0134 - mae: 461.5121 - lr: 0.0891\n"
          ]
        }
      ]
    },
    {
      "cell_type": "code",
      "metadata": {
        "colab": {
          "base_uri": "https://localhost:8080/",
          "height": 292
        },
        "id": "7moldJ-gqfBd",
        "outputId": "b4355646-d954-4aee-9660-43e041e2aa36"
      },
      "source": [
        "plt.semilogx(history.history['lr'], history.history['loss'])\n",
        "plt.axis([1e-5, 1e-2, 100, 500])"
      ],
      "execution_count": 84,
      "outputs": [
        {
          "output_type": "execute_result",
          "data": {
            "text/plain": [
              "(1e-05, 0.01, 100.0, 500.0)"
            ]
          },
          "metadata": {},
          "execution_count": 84
        },
        {
          "output_type": "display_data",
          "data": {
            "image/png": "[encoded data removed]",
            "text/plain": [
              "<Figure size 432x288 with 1 Axes>"
            ]
          },
          "metadata": {
            "needs_background": "light"
          }
        }
      ]
    },
    {
      "cell_type": "code",
      "metadata": {
        "id": "zv5ieWilqfBd"
      },
      "source": [
        "model = Sequential([\n",
        "    layers.InputLayer(input_shape=[WINDOW_SIZE]), \n",
        "    layers.Dense(40, activation=\"relu\"),               \n",
        "    layers.Dense(20, activation=\"relu\"),\n",
        "    layers.Dense(10, activation=\"relu\"),\n",
        "    layers.Dense(1)\n",
        "])"
      ],
      "execution_count": 85,
      "outputs": []
    },
    {
      "cell_type": "code",
      "metadata": {
        "id": "Wnzeupu7qfBd"
      },
      "source": [
        "optimizer   = tf.keras.optimizers.Adam(learning_rate=7.0795e-04)\n",
        "loss        = tf.keras.losses.Huber()\n",
        "metrics     = ['mae']"
      ],
      "execution_count": 86,
      "outputs": []
    },
    {
      "cell_type": "code",
      "metadata": {
        "id": "U20OnBoCqfBd"
      },
      "source": [
        "model.compile(optimizer=optimizer,\n",
        "              loss=loss,\n",
        "              metrics=metrics)"
      ],
      "execution_count": 87,
      "outputs": []
    },
    {
      "cell_type": "code",
      "metadata": {
        "id": "HKb8h1FBqfBe"
      },
      "source": [
        "early_stopping    = EarlyStopping(monitor='loss', patience=70)\n",
        "model_checkpoint  = ModelCheckpoint(monitor='loss', filepath='./best_model.h5', save_best_only=True)"
      ],
      "execution_count": 88,
      "outputs": []
    },
    {
      "cell_type": "code",
      "metadata": {
        "id": "JuLcHrmwqfBe"
      },
      "source": [
        "EPOCHS = 400\n",
        "CALLBACKS = [early_stopping, model_checkpoint]"
      ],
      "execution_count": 89,
      "outputs": []
    },
    {
      "cell_type": "code",
      "metadata": {
        "colab": {
          "base_uri": "https://localhost:8080/"
        },
        "id": "9f-VCT4CqfBe",
        "outputId": "c33856a9-da90-4ff5-a0f2-8974d5959547"
      },
      "source": [
        "history = model.fit(dataset,\n",
        "                    verbose = 1,\n",
        "                    epochs = EPOCHS,\n",
        "                    callbacks = CALLBACKS)"
      ],
      "execution_count": 90,
      "outputs": [
        {
          "output_type": "stream",
          "name": "stdout",
          "text": [
            "Epoch 1/400\n",
            "69/69 [==============================] - 2s 9ms/step - loss: 405.2981 - mae: 405.7967\n",
            "Epoch 2/400\n",
            "69/69 [==============================] - 1s 9ms/step - loss: 207.5301 - mae: 208.0264\n",
            "Epoch 3/400\n",
            "69/69 [==============================] - 1s 9ms/step - loss: 193.7712 - mae: 194.2680\n",
            "Epoch 4/400\n",
            "69/69 [==============================] - 1s 10ms/step - loss: 177.1356 - mae: 177.6299\n",
            "Epoch 5/400\n",
            "69/69 [==============================] - 1s 10ms/step - loss: 168.1788 - mae: 168.6747\n",
            "Epoch 6/400\n",
            "69/69 [==============================] - 1s 9ms/step - loss: 191.9850 - mae: 192.4828\n",
            "Epoch 7/400\n",
            "69/69 [==============================] - 1s 9ms/step - loss: 150.9610 - mae: 151.4550\n",
            "Epoch 8/400\n",
            "69/69 [==============================] - 1s 8ms/step - loss: 143.9775 - mae: 144.4709\n",
            "Epoch 9/400\n",
            "69/69 [==============================] - 1s 10ms/step - loss: 136.5240 - mae: 137.0170\n",
            "Epoch 10/400\n",
            "69/69 [==============================] - 1s 9ms/step - loss: 140.5431 - mae: 141.0390\n",
            "Epoch 11/400\n",
            "69/69 [==============================] - 1s 9ms/step - loss: 126.0326 - mae: 126.5267\n",
            "Epoch 12/400\n",
            "69/69 [==============================] - 1s 9ms/step - loss: 129.7619 - mae: 130.2559\n",
            "Epoch 13/400\n",
            "69/69 [==============================] - 1s 10ms/step - loss: 122.9828 - mae: 123.4751\n",
            "Epoch 14/400\n",
            "69/69 [==============================] - 1s 10ms/step - loss: 119.2846 - mae: 119.7766\n",
            "Epoch 15/400\n",
            "69/69 [==============================] - 1s 10ms/step - loss: 116.6868 - mae: 117.1764\n",
            "Epoch 16/400\n",
            "69/69 [==============================] - 1s 9ms/step - loss: 117.8282 - mae: 118.3218\n",
            "Epoch 17/400\n",
            "69/69 [==============================] - 1s 9ms/step - loss: 113.7296 - mae: 114.2206\n",
            "Epoch 18/400\n",
            "69/69 [==============================] - 1s 9ms/step - loss: 129.6023 - mae: 130.0978\n",
            "Epoch 19/400\n",
            "69/69 [==============================] - 1s 9ms/step - loss: 114.9425 - mae: 115.4368\n",
            "Epoch 20/400\n",
            "69/69 [==============================] - 1s 9ms/step - loss: 122.0517 - mae: 122.5465\n",
            "Epoch 21/400\n",
            "69/69 [==============================] - 1s 9ms/step - loss: 115.5209 - mae: 116.0146\n",
            "Epoch 22/400\n",
            "69/69 [==============================] - 1s 9ms/step - loss: 109.7996 - mae: 110.2898\n",
            "Epoch 23/400\n",
            "69/69 [==============================] - 1s 9ms/step - loss: 112.2748 - mae: 112.7691\n",
            "Epoch 24/400\n",
            "69/69 [==============================] - 1s 8ms/step - loss: 110.9635 - mae: 111.4558\n",
            "Epoch 25/400\n",
            "69/69 [==============================] - 1s 8ms/step - loss: 116.7502 - mae: 117.2410\n",
            "Epoch 26/400\n",
            "69/69 [==============================] - 1s 9ms/step - loss: 108.8185 - mae: 109.3092\n",
            "Epoch 27/400\n",
            "69/69 [==============================] - 1s 9ms/step - loss: 116.0062 - mae: 116.4983\n",
            "Epoch 28/400\n",
            "69/69 [==============================] - 1s 9ms/step - loss: 110.4907 - mae: 110.9825\n",
            "Epoch 29/400\n",
            "69/69 [==============================] - 1s 8ms/step - loss: 111.7565 - mae: 112.2482\n",
            "Epoch 30/400\n",
            "69/69 [==============================] - 1s 8ms/step - loss: 111.8662 - mae: 112.3590\n",
            "Epoch 31/400\n",
            "69/69 [==============================] - 1s 8ms/step - loss: 116.2516 - mae: 116.7464\n",
            "Epoch 32/400\n",
            "69/69 [==============================] - 1s 9ms/step - loss: 108.5663 - mae: 109.0592\n",
            "Epoch 33/400\n",
            "69/69 [==============================] - 1s 9ms/step - loss: 110.1786 - mae: 110.6691\n",
            "Epoch 34/400\n",
            "69/69 [==============================] - 1s 9ms/step - loss: 107.1731 - mae: 107.6638\n",
            "Epoch 35/400\n",
            "69/69 [==============================] - 1s 10ms/step - loss: 106.3805 - mae: 106.8724\n",
            "Epoch 36/400\n",
            "69/69 [==============================] - 1s 9ms/step - loss: 115.1816 - mae: 115.6764\n",
            "Epoch 37/400\n",
            "69/69 [==============================] - 1s 8ms/step - loss: 109.3437 - mae: 109.8343\n",
            "Epoch 38/400\n",
            "69/69 [==============================] - 1s 8ms/step - loss: 108.0728 - mae: 108.5648\n",
            "Epoch 39/400\n",
            "69/69 [==============================] - 1s 9ms/step - loss: 108.9544 - mae: 109.4447\n",
            "Epoch 40/400\n",
            "69/69 [==============================] - 1s 9ms/step - loss: 111.0931 - mae: 111.5877\n",
            "Epoch 41/400\n",
            "69/69 [==============================] - 1s 9ms/step - loss: 110.3659 - mae: 110.8587\n",
            "Epoch 42/400\n",
            "69/69 [==============================] - 1s 8ms/step - loss: 109.2057 - mae: 109.6961\n",
            "Epoch 43/400\n",
            "69/69 [==============================] - 1s 9ms/step - loss: 105.3334 - mae: 105.8245\n",
            "Epoch 44/400\n",
            "69/69 [==============================] - 1s 9ms/step - loss: 108.9249 - mae: 109.4137\n",
            "Epoch 45/400\n",
            "69/69 [==============================] - 1s 8ms/step - loss: 110.9316 - mae: 111.4248\n",
            "Epoch 46/400\n",
            "69/69 [==============================] - 1s 8ms/step - loss: 108.0837 - mae: 108.5753\n",
            "Epoch 47/400\n",
            "69/69 [==============================] - 1s 9ms/step - loss: 108.5485 - mae: 109.0412\n",
            "Epoch 48/400\n",
            "69/69 [==============================] - 1s 9ms/step - loss: 108.9384 - mae: 109.4280\n",
            "Epoch 49/400\n",
            "69/69 [==============================] - 1s 10ms/step - loss: 104.0068 - mae: 104.4953\n",
            "Epoch 50/400\n",
            "69/69 [==============================] - 1s 9ms/step - loss: 108.0375 - mae: 108.5285\n",
            "Epoch 51/400\n",
            "69/69 [==============================] - 1s 9ms/step - loss: 109.5714 - mae: 110.0625\n",
            "Epoch 52/400\n",
            "69/69 [==============================] - 1s 9ms/step - loss: 114.5392 - mae: 115.0352\n",
            "Epoch 53/400\n",
            "69/69 [==============================] - 1s 9ms/step - loss: 106.7239 - mae: 107.2163\n",
            "Epoch 54/400\n",
            "69/69 [==============================] - 1s 9ms/step - loss: 111.8381 - mae: 112.3312\n",
            "Epoch 55/400\n",
            "69/69 [==============================] - 1s 9ms/step - loss: 107.1136 - mae: 107.6055\n",
            "Epoch 56/400\n",
            "69/69 [==============================] - 1s 9ms/step - loss: 106.2165 - mae: 106.7069\n",
            "Epoch 57/400\n",
            "69/69 [==============================] - 1s 8ms/step - loss: 110.5160 - mae: 111.0055\n",
            "Epoch 58/400\n",
            "69/69 [==============================] - 1s 8ms/step - loss: 107.3646 - mae: 107.8570\n",
            "Epoch 59/400\n",
            "69/69 [==============================] - 1s 9ms/step - loss: 113.7312 - mae: 114.2246\n",
            "Epoch 60/400\n",
            "69/69 [==============================] - 1s 9ms/step - loss: 111.8519 - mae: 112.3476\n",
            "Epoch 61/400\n",
            "69/69 [==============================] - 1s 9ms/step - loss: 109.1582 - mae: 109.6488\n",
            "Epoch 62/400\n",
            "69/69 [==============================] - 1s 8ms/step - loss: 107.3493 - mae: 107.8427\n",
            "Epoch 63/400\n",
            "69/69 [==============================] - 1s 9ms/step - loss: 111.0386 - mae: 111.5304\n",
            "Epoch 64/400\n",
            "69/69 [==============================] - 1s 9ms/step - loss: 109.6514 - mae: 110.1444\n",
            "Epoch 65/400\n",
            "69/69 [==============================] - 1s 9ms/step - loss: 108.5196 - mae: 109.0084\n",
            "Epoch 66/400\n",
            "69/69 [==============================] - 1s 8ms/step - loss: 104.4537 - mae: 104.9453\n",
            "Epoch 67/400\n",
            "69/69 [==============================] - 1s 9ms/step - loss: 107.5769 - mae: 108.0712\n",
            "Epoch 68/400\n",
            "69/69 [==============================] - 1s 9ms/step - loss: 113.3352 - mae: 113.8270\n",
            "Epoch 69/400\n",
            "69/69 [==============================] - 1s 9ms/step - loss: 105.2708 - mae: 105.7615\n",
            "Epoch 70/400\n",
            "69/69 [==============================] - 1s 8ms/step - loss: 108.2699 - mae: 108.7605\n",
            "Epoch 71/400\n",
            "69/69 [==============================] - 1s 9ms/step - loss: 108.4364 - mae: 108.9285\n",
            "Epoch 72/400\n",
            "69/69 [==============================] - 1s 9ms/step - loss: 107.9515 - mae: 108.4437\n",
            "Epoch 73/400\n",
            "69/69 [==============================] - 1s 9ms/step - loss: 106.7213 - mae: 107.2103\n",
            "Epoch 74/400\n",
            "69/69 [==============================] - 1s 8ms/step - loss: 104.9923 - mae: 105.4823\n",
            "Epoch 75/400\n",
            "69/69 [==============================] - 1s 8ms/step - loss: 107.0466 - mae: 107.5370\n",
            "Epoch 76/400\n",
            "69/69 [==============================] - 1s 9ms/step - loss: 111.1564 - mae: 111.6512\n",
            "Epoch 77/400\n",
            "69/69 [==============================] - 1s 9ms/step - loss: 109.5201 - mae: 110.0114\n",
            "Epoch 78/400\n",
            "69/69 [==============================] - 1s 9ms/step - loss: 107.4561 - mae: 107.9471\n",
            "Epoch 79/400\n",
            "69/69 [==============================] - 1s 9ms/step - loss: 108.0924 - mae: 108.5838\n",
            "Epoch 80/400\n",
            "69/69 [==============================] - 1s 8ms/step - loss: 117.3960 - mae: 117.8917\n",
            "Epoch 81/400\n",
            "69/69 [==============================] - 1s 8ms/step - loss: 112.6848 - mae: 113.1778\n",
            "Epoch 82/400\n",
            "69/69 [==============================] - 1s 8ms/step - loss: 105.9622 - mae: 106.4525\n",
            "Epoch 83/400\n",
            "69/69 [==============================] - 1s 9ms/step - loss: 109.7741 - mae: 110.2622\n",
            "Epoch 84/400\n",
            "69/69 [==============================] - 1s 9ms/step - loss: 119.5810 - mae: 120.0772\n",
            "Epoch 85/400\n",
            "69/69 [==============================] - 1s 8ms/step - loss: 107.8055 - mae: 108.2979\n",
            "Epoch 86/400\n",
            "69/69 [==============================] - 1s 9ms/step - loss: 116.7472 - mae: 117.2410\n",
            "Epoch 87/400\n",
            "69/69 [==============================] - 1s 9ms/step - loss: 105.8391 - mae: 106.3300\n",
            "Epoch 88/400\n",
            "69/69 [==============================] - 1s 9ms/step - loss: 110.6407 - mae: 111.1325\n",
            "Epoch 89/400\n",
            "69/69 [==============================] - 1s 8ms/step - loss: 116.9403 - mae: 117.4350\n",
            "Epoch 90/400\n",
            "69/69 [==============================] - 1s 9ms/step - loss: 104.7662 - mae: 105.2577\n",
            "Epoch 91/400\n",
            "69/69 [==============================] - 1s 9ms/step - loss: 116.8711 - mae: 117.3669\n",
            "Epoch 92/400\n",
            "69/69 [==============================] - 1s 9ms/step - loss: 112.0681 - mae: 112.5642\n",
            "Epoch 93/400\n",
            "69/69 [==============================] - 1s 8ms/step - loss: 105.6907 - mae: 106.1828\n",
            "Epoch 94/400\n",
            "69/69 [==============================] - 1s 9ms/step - loss: 106.8315 - mae: 107.3231\n",
            "Epoch 95/400\n",
            "69/69 [==============================] - 1s 8ms/step - loss: 107.7019 - mae: 108.1933\n",
            "Epoch 96/400\n",
            "69/69 [==============================] - 1s 9ms/step - loss: 110.4061 - mae: 110.8991\n",
            "Epoch 97/400\n",
            "69/69 [==============================] - 1s 9ms/step - loss: 106.4208 - mae: 106.9118\n",
            "Epoch 98/400\n",
            "69/69 [==============================] - 1s 9ms/step - loss: 106.7226 - mae: 107.2150\n",
            "Epoch 99/400\n",
            "69/69 [==============================] - 1s 9ms/step - loss: 103.6759 - mae: 104.1659\n",
            "Epoch 100/400\n",
            "69/69 [==============================] - 1s 8ms/step - loss: 108.8642 - mae: 109.3579\n",
            "Epoch 101/400\n",
            "69/69 [==============================] - 1s 9ms/step - loss: 109.1618 - mae: 109.6537\n",
            "Epoch 102/400\n",
            "69/69 [==============================] - 1s 8ms/step - loss: 109.6837 - mae: 110.1758\n",
            "Epoch 103/400\n",
            "69/69 [==============================] - 1s 9ms/step - loss: 104.2208 - mae: 104.7113\n",
            "Epoch 104/400\n",
            "69/69 [==============================] - 1s 9ms/step - loss: 108.3554 - mae: 108.8480\n",
            "Epoch 105/400\n",
            "69/69 [==============================] - 1s 9ms/step - loss: 106.0333 - mae: 106.5242\n",
            "Epoch 106/400\n",
            "69/69 [==============================] - 1s 8ms/step - loss: 107.4912 - mae: 107.9827\n",
            "Epoch 107/400\n",
            "69/69 [==============================] - 1s 8ms/step - loss: 107.0092 - mae: 107.5005\n",
            "Epoch 108/400\n",
            "69/69 [==============================] - 1s 8ms/step - loss: 104.2594 - mae: 104.7497\n",
            "Epoch 109/400\n",
            "69/69 [==============================] - 1s 9ms/step - loss: 132.3017 - mae: 132.7962\n",
            "Epoch 110/400\n",
            "69/69 [==============================] - 1s 9ms/step - loss: 111.1973 - mae: 111.6907\n",
            "Epoch 111/400\n",
            "69/69 [==============================] - 1s 9ms/step - loss: 110.2515 - mae: 110.7457\n",
            "Epoch 112/400\n",
            "69/69 [==============================] - 1s 8ms/step - loss: 132.1899 - mae: 132.6873\n",
            "Epoch 113/400\n",
            "69/69 [==============================] - 1s 9ms/step - loss: 109.8031 - mae: 110.2933\n",
            "Epoch 114/400\n",
            "69/69 [==============================] - 1s 9ms/step - loss: 105.0119 - mae: 105.5027\n",
            "Epoch 115/400\n",
            "69/69 [==============================] - 1s 8ms/step - loss: 104.0998 - mae: 104.5891\n",
            "Epoch 116/400\n",
            "69/69 [==============================] - 1s 9ms/step - loss: 106.6407 - mae: 107.1328\n",
            "Epoch 117/400\n",
            "69/69 [==============================] - 1s 8ms/step - loss: 109.1870 - mae: 109.6762\n",
            "Epoch 118/400\n",
            "69/69 [==============================] - 1s 9ms/step - loss: 105.7693 - mae: 106.2609\n",
            "Epoch 119/400\n",
            "69/69 [==============================] - 1s 9ms/step - loss: 108.1724 - mae: 108.6645\n",
            "Epoch 120/400\n",
            "69/69 [==============================] - 1s 9ms/step - loss: 107.4550 - mae: 107.9461\n",
            "Epoch 121/400\n",
            "69/69 [==============================] - 1s 9ms/step - loss: 108.4847 - mae: 108.9778\n",
            "Epoch 122/400\n",
            "69/69 [==============================] - 1s 8ms/step - loss: 105.9318 - mae: 106.4235\n",
            "Epoch 123/400\n",
            "69/69 [==============================] - 1s 9ms/step - loss: 107.8427 - mae: 108.3341\n",
            "Epoch 124/400\n",
            "69/69 [==============================] - 1s 9ms/step - loss: 116.2504 - mae: 116.7430\n",
            "Epoch 125/400\n",
            "69/69 [==============================] - 1s 9ms/step - loss: 111.4904 - mae: 111.9809\n",
            "Epoch 126/400\n",
            "69/69 [==============================] - 1s 9ms/step - loss: 108.7057 - mae: 109.1958\n",
            "Epoch 127/400\n",
            "69/69 [==============================] - 1s 8ms/step - loss: 109.2031 - mae: 109.6966\n",
            "Epoch 128/400\n",
            "69/69 [==============================] - 1s 9ms/step - loss: 103.1496 - mae: 103.6377\n",
            "Epoch 129/400\n",
            "69/69 [==============================] - 1s 9ms/step - loss: 105.7066 - mae: 106.1966\n",
            "Epoch 130/400\n",
            "69/69 [==============================] - 1s 9ms/step - loss: 105.4980 - mae: 105.9893\n",
            "Epoch 131/400\n",
            "69/69 [==============================] - 1s 8ms/step - loss: 110.3674 - mae: 110.8606\n",
            "Epoch 132/400\n",
            "69/69 [==============================] - 1s 9ms/step - loss: 104.9436 - mae: 105.4352\n",
            "Epoch 133/400\n",
            "69/69 [==============================] - 1s 9ms/step - loss: 107.9564 - mae: 108.4467\n",
            "Epoch 134/400\n",
            "69/69 [==============================] - 1s 9ms/step - loss: 107.3748 - mae: 107.8671\n",
            "Epoch 135/400\n",
            "69/69 [==============================] - 1s 9ms/step - loss: 111.0324 - mae: 111.5245\n",
            "Epoch 136/400\n",
            "69/69 [==============================] - 1s 9ms/step - loss: 107.1968 - mae: 107.6895\n",
            "Epoch 137/400\n",
            "69/69 [==============================] - 1s 8ms/step - loss: 106.0289 - mae: 106.5207\n",
            "Epoch 138/400\n",
            "69/69 [==============================] - 1s 8ms/step - loss: 108.0659 - mae: 108.5590\n",
            "Epoch 139/400\n",
            "69/69 [==============================] - 1s 8ms/step - loss: 106.9024 - mae: 107.3919\n",
            "Epoch 140/400\n",
            "69/69 [==============================] - 1s 8ms/step - loss: 106.7962 - mae: 107.2906\n",
            "Epoch 141/400\n",
            "69/69 [==============================] - 1s 9ms/step - loss: 109.0927 - mae: 109.5840\n",
            "Epoch 142/400\n",
            "69/69 [==============================] - 1s 9ms/step - loss: 106.5186 - mae: 107.0084\n",
            "Epoch 143/400\n",
            "69/69 [==============================] - 1s 9ms/step - loss: 110.6849 - mae: 111.1770\n",
            "Epoch 144/400\n",
            "69/69 [==============================] - 1s 9ms/step - loss: 111.9858 - mae: 112.4816\n",
            "Epoch 145/400\n",
            "69/69 [==============================] - 1s 9ms/step - loss: 107.5527 - mae: 108.0446\n",
            "Epoch 146/400\n",
            "69/69 [==============================] - 1s 9ms/step - loss: 106.9833 - mae: 107.4753\n",
            "Epoch 147/400\n",
            "69/69 [==============================] - 1s 9ms/step - loss: 103.2316 - mae: 103.7201\n",
            "Epoch 148/400\n",
            "69/69 [==============================] - 1s 8ms/step - loss: 106.5420 - mae: 107.0344\n",
            "Epoch 149/400\n",
            "69/69 [==============================] - 1s 9ms/step - loss: 109.4344 - mae: 109.9278\n",
            "Epoch 150/400\n",
            "69/69 [==============================] - 1s 9ms/step - loss: 107.7771 - mae: 108.2704\n",
            "Epoch 151/400\n",
            "69/69 [==============================] - 1s 8ms/step - loss: 107.7895 - mae: 108.2835\n",
            "Epoch 152/400\n",
            "69/69 [==============================] - 1s 9ms/step - loss: 110.0713 - mae: 110.5648\n",
            "Epoch 153/400\n",
            "69/69 [==============================] - 1s 9ms/step - loss: 106.2596 - mae: 106.7523\n",
            "Epoch 154/400\n",
            "69/69 [==============================] - 1s 8ms/step - loss: 104.1131 - mae: 104.6020\n",
            "Epoch 155/400\n",
            "69/69 [==============================] - 1s 9ms/step - loss: 110.2807 - mae: 110.7724\n",
            "Epoch 156/400\n",
            "69/69 [==============================] - 1s 9ms/step - loss: 103.3747 - mae: 103.8637\n",
            "Epoch 157/400\n",
            "69/69 [==============================] - 1s 9ms/step - loss: 107.7549 - mae: 108.2460\n",
            "Epoch 158/400\n",
            "69/69 [==============================] - 1s 9ms/step - loss: 106.4869 - mae: 106.9812\n",
            "Epoch 159/400\n",
            "69/69 [==============================] - 1s 9ms/step - loss: 108.4006 - mae: 108.8912\n",
            "Epoch 160/400\n",
            "69/69 [==============================] - 1s 9ms/step - loss: 104.4119 - mae: 104.9027\n",
            "Epoch 161/400\n",
            "69/69 [==============================] - 1s 9ms/step - loss: 109.4522 - mae: 109.9456\n",
            "Epoch 162/400\n",
            "69/69 [==============================] - 1s 8ms/step - loss: 111.1587 - mae: 111.6515\n",
            "Epoch 163/400\n",
            "69/69 [==============================] - 1s 9ms/step - loss: 104.8203 - mae: 105.3117\n",
            "Epoch 164/400\n",
            "69/69 [==============================] - 1s 8ms/step - loss: 105.3767 - mae: 105.8649\n",
            "Epoch 165/400\n",
            "69/69 [==============================] - 1s 9ms/step - loss: 110.5823 - mae: 111.0745\n",
            "Epoch 166/400\n",
            "69/69 [==============================] - 1s 9ms/step - loss: 105.7874 - mae: 106.2790\n",
            "Epoch 167/400\n",
            "69/69 [==============================] - 1s 9ms/step - loss: 106.0043 - mae: 106.4962\n",
            "Epoch 168/400\n",
            "69/69 [==============================] - 1s 9ms/step - loss: 105.8736 - mae: 106.3642\n",
            "Epoch 169/400\n",
            "69/69 [==============================] - 1s 9ms/step - loss: 104.7510 - mae: 105.2397\n",
            "Epoch 170/400\n",
            "69/69 [==============================] - 1s 10ms/step - loss: 111.2263 - mae: 111.7213\n",
            "Epoch 171/400\n",
            "69/69 [==============================] - 1s 8ms/step - loss: 103.5261 - mae: 104.0138\n",
            "Epoch 172/400\n",
            "69/69 [==============================] - 1s 8ms/step - loss: 106.6047 - mae: 107.0971\n",
            "Epoch 173/400\n",
            "69/69 [==============================] - 1s 9ms/step - loss: 106.1009 - mae: 106.5932\n",
            "Epoch 174/400\n",
            "69/69 [==============================] - 1s 9ms/step - loss: 108.7934 - mae: 109.2864\n",
            "Epoch 175/400\n",
            "69/69 [==============================] - 1s 9ms/step - loss: 104.6144 - mae: 105.1054\n",
            "Epoch 176/400\n",
            "69/69 [==============================] - 1s 9ms/step - loss: 106.0060 - mae: 106.4969\n",
            "Epoch 177/400\n",
            "69/69 [==============================] - 1s 8ms/step - loss: 104.2628 - mae: 104.7530\n",
            "Epoch 178/400\n",
            "69/69 [==============================] - 1s 9ms/step - loss: 105.9663 - mae: 106.4573\n",
            "Epoch 179/400\n",
            "69/69 [==============================] - 1s 8ms/step - loss: 106.8720 - mae: 107.3647\n",
            "Epoch 180/400\n",
            "69/69 [==============================] - 1s 9ms/step - loss: 103.9468 - mae: 104.4379\n",
            "Epoch 181/400\n",
            "69/69 [==============================] - 1s 9ms/step - loss: 110.3501 - mae: 110.8442\n",
            "Epoch 182/400\n",
            "69/69 [==============================] - 1s 9ms/step - loss: 107.3668 - mae: 107.8585\n",
            "Epoch 183/400\n",
            "69/69 [==============================] - 1s 9ms/step - loss: 105.3138 - mae: 105.8065\n",
            "Epoch 184/400\n",
            "69/69 [==============================] - 1s 9ms/step - loss: 105.4461 - mae: 105.9394\n",
            "Epoch 185/400\n",
            "69/69 [==============================] - 1s 8ms/step - loss: 104.5956 - mae: 105.0864\n",
            "Epoch 186/400\n",
            "69/69 [==============================] - 1s 9ms/step - loss: 103.6507 - mae: 104.1416\n",
            "Epoch 187/400\n",
            "69/69 [==============================] - 1s 9ms/step - loss: 106.6427 - mae: 107.1341\n",
            "Epoch 188/400\n",
            "69/69 [==============================] - 1s 9ms/step - loss: 105.7398 - mae: 106.2285\n",
            "Epoch 189/400\n",
            "69/69 [==============================] - 1s 9ms/step - loss: 106.2823 - mae: 106.7733\n",
            "Epoch 190/400\n",
            "69/69 [==============================] - 1s 10ms/step - loss: 111.9773 - mae: 112.4719\n",
            "Epoch 191/400\n",
            "69/69 [==============================] - 1s 9ms/step - loss: 118.2874 - mae: 118.7811\n",
            "Epoch 192/400\n",
            "69/69 [==============================] - 1s 9ms/step - loss: 117.1467 - mae: 117.6425\n",
            "Epoch 193/400\n",
            "69/69 [==============================] - 1s 9ms/step - loss: 106.5063 - mae: 106.9991\n",
            "Epoch 194/400\n",
            "69/69 [==============================] - 1s 9ms/step - loss: 104.2236 - mae: 104.7134\n",
            "Epoch 195/400\n",
            "69/69 [==============================] - 1s 8ms/step - loss: 105.0956 - mae: 105.5851\n",
            "Epoch 196/400\n",
            "69/69 [==============================] - 1s 9ms/step - loss: 105.3102 - mae: 105.8026\n",
            "Epoch 197/400\n",
            "69/69 [==============================] - 1s 9ms/step - loss: 105.8744 - mae: 106.3628\n",
            "Epoch 198/400\n",
            "69/69 [==============================] - 1s 9ms/step - loss: 105.2126 - mae: 105.7035\n"
          ]
        }
      ]
    },
    {
      "cell_type": "code",
      "metadata": {
        "colab": {
          "base_uri": "https://localhost:8080/",
          "height": 284
        },
        "id": "P4t5EYViqfBf",
        "outputId": "af7a2139-ad88-415e-d5e1-fdbfb10876ff"
      },
      "source": [
        "loss = history.history['loss']\n",
        "epochs = range(len(loss))\n",
        "plt.plot(epochs, loss, 'b', label='Training Loss')\n",
        "plt.show"
      ],
      "execution_count": 91,
      "outputs": [
        {
          "output_type": "execute_result",
          "data": {
            "text/plain": [
              "<function matplotlib.pyplot.show>"
            ]
          },
          "metadata": {},
          "execution_count": 91
        },
        {
          "output_type": "display_data",
          "data": {
            "image/png": "[encoded data removed]",
            "text/plain": [
              "<Figure size 432x288 with 1 Axes>"
            ]
          },
          "metadata": {
            "needs_background": "light"
          }
        }
      ]
    },
    {
      "cell_type": "code",
      "metadata": {
        "colab": {
          "base_uri": "https://localhost:8080/",
          "height": 388
        },
        "id": "CBwZpDMJqfBf",
        "outputId": "55667702-fb23-4f9d-855c-430a494bf6a4"
      },
      "source": [
        "forecast=[]\n",
        "\n",
        "for time in range(len(series) - WINDOW_SIZE):\n",
        "    forecast.append(model.predict(series[time:time + WINDOW_SIZE][np.newaxis]))\n",
        "\n",
        "forecast = forecast[SPLIT_TIME - WINDOW_SIZE:]\n",
        "results = np.array(forecast)[:, 0, 0]\n",
        "\n",
        "\n",
        "plt.figure(figsize=(10, 6))\n",
        "\n",
        "plot_series(time_valid, x_valid)\n",
        "plot_series(time_valid, results)"
      ],
      "execution_count": 92,
      "outputs": [
        {
          "output_type": "display_data",
          "data": {
            "image/png": "[encoded data removed]",
            "text/plain": [
              "<Figure size 720x432 with 1 Axes>"
            ]
          },
          "metadata": {
            "needs_background": "light"
          }
        }
      ]
    },
    {
      "cell_type": "code",
      "metadata": {
        "colab": {
          "base_uri": "https://localhost:8080/"
        },
        "id": "dfxo5LlaqfBf",
        "outputId": "163cd469-7dc8-446b-d4c2-d0f61bd25303"
      },
      "source": [
        "tf.keras.metrics.mean_absolute_error(x_valid, results).numpy()"
      ],
      "execution_count": 93,
      "outputs": [
        {
          "output_type": "execute_result",
          "data": {
            "text/plain": [
              "581.6071"
            ]
          },
          "metadata": {},
          "execution_count": 93
        }
      ]
    },
    {
      "cell_type": "code",
      "metadata": {
        "id": "u2YMrxX2qfBg"
      },
      "source": [
        "best_model = tf.keras.models.load_model('best_model.h5')"
      ],
      "execution_count": 94,
      "outputs": []
    },
    {
      "cell_type": "code",
      "metadata": {
        "colab": {
          "base_uri": "https://localhost:8080/",
          "height": 388
        },
        "id": "ZAjkknCdqfBg",
        "outputId": "ca70b063-b119-4a18-e844-645d4535d6c1"
      },
      "source": [
        "forecast=[]\n",
        "\n",
        "for time in range(len(series) - WINDOW_SIZE):\n",
        "    forecast.append(best_model.predict(series[time:time + WINDOW_SIZE][np.newaxis]))\n",
        "\n",
        "forecast = forecast[SPLIT_TIME - WINDOW_SIZE:]\n",
        "results = np.array(forecast)[:, 0, 0]\n",
        "\n",
        "plt.figure(figsize=(10, 6))\n",
        "\n",
        "plot_series(time_valid, x_valid)\n",
        "plot_series(time_valid, results)"
      ],
      "execution_count": 95,
      "outputs": [
        {
          "output_type": "display_data",
          "data": {
            "image/png": "[encoded data removed]",
            "text/plain": [
              "<Figure size 720x432 with 1 Axes>"
            ]
          },
          "metadata": {
            "needs_background": "light"
          }
        }
      ]
    },
    {
      "cell_type": "code",
      "metadata": {
        "colab": {
          "base_uri": "https://localhost:8080/"
        },
        "id": "SAchip5mqfBg",
        "outputId": "73d04420-6237-421e-9edc-d0ae711c6f65"
      },
      "source": [
        "tf.keras.metrics.mean_absolute_error(x_valid, results).numpy()"
      ],
      "execution_count": 96,
      "outputs": [
        {
          "output_type": "execute_result",
          "data": {
            "text/plain": [
              "549.76605"
            ]
          },
          "metadata": {},
          "execution_count": 96
        }
      ]
    }
  ]
}