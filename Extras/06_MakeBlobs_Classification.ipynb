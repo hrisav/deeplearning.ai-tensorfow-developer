{
  "nbformat": 4,
  "nbformat_minor": 0,
  "metadata": {
    "colab": {
      "name": "06_MakeBlobs_Classification.ipynb",
      "provenance": [],
      "collapsed_sections": []
    },
    "kernelspec": {
      "name": "python3",
      "display_name": "Python 3"
    },
    "language_info": {
      "name": "python"
    }
  },
  "cells": [
    {
      "cell_type": "markdown",
      "metadata": {
        "id": "1OvQuC-gV4ad"
      },
      "source": [
        "Predict the class of generated dataset."
      ]
    },
    {
      "cell_type": "code",
      "metadata": {
        "id": "ZU8tVnbX_MPx"
      },
      "source": [
        "import tensorflow as tf\n",
        "from tensorflow.keras.models import Sequential\n",
        "from tensorflow.keras import layers\n",
        "import pandas as pd\n",
        "import matplotlib.pyplot as plt\n",
        "from tensorflow.keras.callbacks import EarlyStopping, ReduceLROnPlateau, ModelCheckpoint"
      ],
      "execution_count": 1,
      "outputs": []
    },
    {
      "cell_type": "code",
      "metadata": {
        "id": "b8SdYagV_SIq"
      },
      "source": [
        "from sklearn.datasets import make_circles\n",
        "\n",
        "# Make 1000 examples\n",
        "n_samples = 1000\n",
        "\n",
        "# Create circles\n",
        "X, y = make_circles(n_samples, noise=0.03, random_state=42)"
      ],
      "execution_count": 2,
      "outputs": []
    },
    {
      "cell_type": "code",
      "metadata": {
        "colab": {
          "base_uri": "https://localhost:8080/"
        },
        "id": "4IKRU2n4_Zij",
        "outputId": "754159cb-bf67-4af9-ba54-5cd1dbb3c7d1"
      },
      "source": [
        "X[:5]"
      ],
      "execution_count": 3,
      "outputs": [
        {
          "output_type": "execute_result",
          "data": {
            "text/plain": [
              "array([[ 0.75424625,  0.23148074],\n",
              "       [-0.75615888,  0.15325888],\n",
              "       [-0.81539193,  0.17328203],\n",
              "       [-0.39373073,  0.69288277],\n",
              "       [ 0.44220765, -0.89672343]])"
            ]
          },
          "metadata": {},
          "execution_count": 3
        }
      ]
    },
    {
      "cell_type": "code",
      "metadata": {
        "colab": {
          "base_uri": "https://localhost:8080/"
        },
        "id": "QjoBLRFP_cp1",
        "outputId": "53c9d98e-462a-451d-c1d0-e847bfa6f6d0"
      },
      "source": [
        "y[:5]"
      ],
      "execution_count": 4,
      "outputs": [
        {
          "output_type": "execute_result",
          "data": {
            "text/plain": [
              "array([1, 1, 1, 1, 0])"
            ]
          },
          "metadata": {},
          "execution_count": 4
        }
      ]
    },
    {
      "cell_type": "code",
      "metadata": {
        "colab": {
          "base_uri": "https://localhost:8080/"
        },
        "id": "sGTR2LzlAVjw",
        "outputId": "2477aee2-46ff-43a4-8637-1059bd7dc238"
      },
      "source": [
        "X.shape, y.shape"
      ],
      "execution_count": 5,
      "outputs": [
        {
          "output_type": "execute_result",
          "data": {
            "text/plain": [
              "((1000, 2), (1000,))"
            ]
          },
          "metadata": {},
          "execution_count": 5
        }
      ]
    },
    {
      "cell_type": "code",
      "metadata": {
        "colab": {
          "base_uri": "https://localhost:8080/",
          "height": 204
        },
        "id": "uG3wppjv_fu-",
        "outputId": "353f9174-9dd7-42de-8371-ffc01985e21e"
      },
      "source": [
        "import pandas as pd\n",
        "\n",
        "df = pd.DataFrame({'X0':X[:, 0], 'X1':X[:, 1], 'label':y})\n",
        "df.head()"
      ],
      "execution_count": 6,
      "outputs": [
        {
          "output_type": "execute_result",
          "data": {
            "text/html": [
              "<div>\n",
              "<style scoped>\n",
              "    .dataframe tbody tr th:only-of-type {\n",
              "        vertical-align: middle;\n",
              "    }\n",
              "\n",
              "    .dataframe tbody tr th {\n",
              "        vertical-align: top;\n",
              "    }\n",
              "\n",
              "    .dataframe thead th {\n",
              "        text-align: right;\n",
              "    }\n",
              "</style>\n",
              "<table border=\"1\" class=\"dataframe\">\n",
              "  <thead>\n",
              "    <tr style=\"text-align: right;\">\n",
              "      <th></th>\n",
              "      <th>X0</th>\n",
              "      <th>X1</th>\n",
              "      <th>label</th>\n",
              "    </tr>\n",
              "  </thead>\n",
              "  <tbody>\n",
              "    <tr>\n",
              "      <th>0</th>\n",
              "      <td>0.754246</td>\n",
              "      <td>0.231481</td>\n",
              "      <td>1</td>\n",
              "    </tr>\n",
              "    <tr>\n",
              "      <th>1</th>\n",
              "      <td>-0.756159</td>\n",
              "      <td>0.153259</td>\n",
              "      <td>1</td>\n",
              "    </tr>\n",
              "    <tr>\n",
              "      <th>2</th>\n",
              "      <td>-0.815392</td>\n",
              "      <td>0.173282</td>\n",
              "      <td>1</td>\n",
              "    </tr>\n",
              "    <tr>\n",
              "      <th>3</th>\n",
              "      <td>-0.393731</td>\n",
              "      <td>0.692883</td>\n",
              "      <td>1</td>\n",
              "    </tr>\n",
              "    <tr>\n",
              "      <th>4</th>\n",
              "      <td>0.442208</td>\n",
              "      <td>-0.896723</td>\n",
              "      <td>0</td>\n",
              "    </tr>\n",
              "  </tbody>\n",
              "</table>\n",
              "</div>"
            ],
            "text/plain": [
              "         X0        X1  label\n",
              "0  0.754246  0.231481      1\n",
              "1 -0.756159  0.153259      1\n",
              "2 -0.815392  0.173282      1\n",
              "3 -0.393731  0.692883      1\n",
              "4  0.442208 -0.896723      0"
            ]
          },
          "metadata": {},
          "execution_count": 6
        }
      ]
    },
    {
      "cell_type": "code",
      "metadata": {
        "colab": {
          "base_uri": "https://localhost:8080/"
        },
        "id": "r4PvYKteAPmR",
        "outputId": "2c9124f6-6988-45df-ecdd-54b5805ce007"
      },
      "source": [
        "df.shape"
      ],
      "execution_count": 7,
      "outputs": [
        {
          "output_type": "execute_result",
          "data": {
            "text/plain": [
              "(1000, 3)"
            ]
          },
          "metadata": {},
          "execution_count": 7
        }
      ]
    },
    {
      "cell_type": "code",
      "metadata": {
        "colab": {
          "base_uri": "https://localhost:8080/"
        },
        "id": "1pf7KRWV_rgW",
        "outputId": "05398ac1-8c5f-4acf-8dc0-6178064e8872"
      },
      "source": [
        "df['label'].value_counts()"
      ],
      "execution_count": 8,
      "outputs": [
        {
          "output_type": "execute_result",
          "data": {
            "text/plain": [
              "1    500\n",
              "0    500\n",
              "Name: label, dtype: int64"
            ]
          },
          "metadata": {},
          "execution_count": 8
        }
      ]
    },
    {
      "cell_type": "code",
      "metadata": {
        "colab": {
          "base_uri": "https://localhost:8080/",
          "height": 282
        },
        "id": "a2H3Z3bY_yB9",
        "outputId": "7f577d0a-d40e-49cf-a531-ad29fcb98e42"
      },
      "source": [
        "import matplotlib.pyplot as plt\n",
        "\n",
        "plt.scatter(X[:, 0], X[:, 1])"
      ],
      "execution_count": 9,
      "outputs": [
        {
          "output_type": "execute_result",
          "data": {
            "text/plain": [
              "<matplotlib.collections.PathCollection at 0x7f87390d2890>"
            ]
          },
          "metadata": {},
          "execution_count": 9
        },
        {
          "output_type": "display_data",
          "data": {
            "image/png": "[encoded data removed]",
            "text/plain": [
              "<Figure size 432x288 with 1 Axes>"
            ]
          },
          "metadata": {
            "needs_background": "light"
          }
        }
      ]
    },
    {
      "cell_type": "code",
      "metadata": {
        "colab": {
          "base_uri": "https://localhost:8080/",
          "height": 282
        },
        "id": "tAOa-DCA_7PI",
        "outputId": "15806106-5a2e-4241-ef4f-358ba49387dc"
      },
      "source": [
        "import matplotlib.pyplot as plt\n",
        "\n",
        "plt.scatter(X[:, 0], X[:, 1], c=y)"
      ],
      "execution_count": 10,
      "outputs": [
        {
          "output_type": "execute_result",
          "data": {
            "text/plain": [
              "<matplotlib.collections.PathCollection at 0x7f8739078190>"
            ]
          },
          "metadata": {},
          "execution_count": 10
        },
        {
          "output_type": "display_data",
          "data": {
            "image/png": "[encoded data removed]",
            "text/plain": [
              "<Figure size 432x288 with 1 Axes>"
            ]
          },
          "metadata": {
            "needs_background": "light"
          }
        }
      ]
    },
    {
      "cell_type": "code",
      "metadata": {
        "colab": {
          "base_uri": "https://localhost:8080/"
        },
        "id": "dbnlNJ4UB_On",
        "outputId": "c65eafb8-4ba9-4537-a5c3-f357f9854c13"
      },
      "source": [
        "training_split = 800\n",
        "\n",
        "X_train, y_train = X[:training_split], y[:training_split]\n",
        "X_test, y_test = X[training_split:], y[training_split:]\n",
        "\n",
        "X_train.shape, y_train.shape, X_test.shape, y_test.shape"
      ],
      "execution_count": 11,
      "outputs": [
        {
          "output_type": "execute_result",
          "data": {
            "text/plain": [
              "((800, 2), (800,), (200, 2), (200,))"
            ]
          },
          "metadata": {},
          "execution_count": 11
        }
      ]
    },
    {
      "cell_type": "code",
      "metadata": {
        "id": "kad5QxOfAFLH"
      },
      "source": [
        "tf.random.set_seed(42)"
      ],
      "execution_count": 12,
      "outputs": []
    },
    {
      "cell_type": "code",
      "metadata": {
        "id": "l83TBM4pAwuY"
      },
      "source": [
        "num_features = 2\n",
        "num_classes = 1"
      ],
      "execution_count": 13,
      "outputs": []
    },
    {
      "cell_type": "code",
      "metadata": {
        "id": "9Ds52v8zAawC"
      },
      "source": [
        "model = Sequential([\n",
        "    layers.InputLayer(input_shape=(num_features)),            # 2 features so input_shape is 2\n",
        "    layers.Dense(10, activation='relu'),            \n",
        "    layers.Dense(5, activation='relu'),\n",
        "    layers.Dense(num_classes, activation='sigmoid')\n",
        "])"
      ],
      "execution_count": 14,
      "outputs": []
    },
    {
      "cell_type": "code",
      "metadata": {
        "colab": {
          "base_uri": "https://localhost:8080/"
        },
        "id": "O4LurrcaCV05",
        "outputId": "b151f7ec-6351-492d-8125-55dd49a014ec"
      },
      "source": [
        "model.summary()"
      ],
      "execution_count": 15,
      "outputs": [
        {
          "output_type": "stream",
          "name": "stdout",
          "text": [
            "Model: \"sequential\"\n",
            "_________________________________________________________________\n",
            "Layer (type)                 Output Shape              Param #   \n",
            "=================================================================\n",
            "dense (Dense)                (None, 10)                30        \n",
            "_________________________________________________________________\n",
            "dense_1 (Dense)              (None, 5)                 55        \n",
            "_________________________________________________________________\n",
            "dense_2 (Dense)              (None, 1)                 6         \n",
            "=================================================================\n",
            "Total params: 91\n",
            "Trainable params: 91\n",
            "Non-trainable params: 0\n",
            "_________________________________________________________________\n"
          ]
        }
      ]
    },
    {
      "cell_type": "code",
      "metadata": {
        "id": "d2F9h4g6CWVb"
      },
      "source": [
        "optimizer   = tf.keras.optimizers.Adam(learning_rate=0.01)\n",
        "loss        = tf.keras.losses.BinaryCrossentropy()\n",
        "metrics     = ['accuracy']"
      ],
      "execution_count": 16,
      "outputs": []
    },
    {
      "cell_type": "code",
      "metadata": {
        "id": "PxHN00rICsyz"
      },
      "source": [
        "model.compile(optimizer=optimizer,\n",
        "              loss=loss,\n",
        "              metrics=metrics)"
      ],
      "execution_count": 17,
      "outputs": []
    },
    {
      "cell_type": "code",
      "metadata": {
        "id": "tZODwKVKCxCf"
      },
      "source": [
        "early_stopping    = EarlyStopping(monitor='val_loss', patience=4)\n",
        "reduce_lr         = ReduceLROnPlateau(monitor='val_loss', patience=4, min_lr=0.001, mode='min', verbose=1)\n",
        "model_checkpoint  = ModelCheckpoint(monitor='val_loss', filepath='./best_model.h5', save_best_only=True)"
      ],
      "execution_count": 18,
      "outputs": []
    },
    {
      "cell_type": "code",
      "metadata": {
        "id": "EpORcNIOJj32"
      },
      "source": [
        "batch_size = 128\n",
        "epochs = 20\n",
        "callbacks = [early_stopping, reduce_lr, model_checkpoint]"
      ],
      "execution_count": 19,
      "outputs": []
    },
    {
      "cell_type": "code",
      "metadata": {
        "colab": {
          "base_uri": "https://localhost:8080/"
        },
        "id": "U5WtikwmJWq3",
        "outputId": "4eac19f8-183b-4155-c6bc-4b1c6bf01f2b"
      },
      "source": [
        "history = model.fit(X_train,\n",
        "                    y_train,\n",
        "                    epochs=epochs,\n",
        "                    batch_size=batch_size,\n",
        "                    validation_data=(X_test, y_test),\n",
        "                    callbacks=callbacks)"
      ],
      "execution_count": 20,
      "outputs": [
        {
          "output_type": "stream",
          "name": "stdout",
          "text": [
            "Epoch 1/20\n",
            "7/7 [==============================] - 1s 31ms/step - loss: 0.6877 - accuracy: 0.5213 - val_loss: 0.6788 - val_accuracy: 0.5550\n",
            "Epoch 2/20\n",
            "7/7 [==============================] - 0s 6ms/step - loss: 0.6770 - accuracy: 0.6513 - val_loss: 0.6758 - val_accuracy: 0.6700\n",
            "Epoch 3/20\n",
            "7/7 [==============================] - 0s 5ms/step - loss: 0.6680 - accuracy: 0.7525 - val_loss: 0.6691 - val_accuracy: 0.6300\n",
            "Epoch 4/20\n",
            "7/7 [==============================] - 0s 5ms/step - loss: 0.6573 - accuracy: 0.7475 - val_loss: 0.6594 - val_accuracy: 0.6000\n",
            "Epoch 5/20\n",
            "7/7 [==============================] - 0s 5ms/step - loss: 0.6450 - accuracy: 0.7050 - val_loss: 0.6450 - val_accuracy: 0.6450\n",
            "Epoch 6/20\n",
            "7/7 [==============================] - 0s 7ms/step - loss: 0.6305 - accuracy: 0.7337 - val_loss: 0.6263 - val_accuracy: 0.7500\n",
            "Epoch 7/20\n",
            "7/7 [==============================] - 0s 5ms/step - loss: 0.6122 - accuracy: 0.8575 - val_loss: 0.6036 - val_accuracy: 0.8800\n",
            "Epoch 8/20\n",
            "7/7 [==============================] - 0s 5ms/step - loss: 0.5896 - accuracy: 0.8800 - val_loss: 0.5810 - val_accuracy: 0.9150\n",
            "Epoch 9/20\n",
            "7/7 [==============================] - 0s 5ms/step - loss: 0.5696 - accuracy: 0.9388 - val_loss: 0.5491 - val_accuracy: 0.9200\n",
            "Epoch 10/20\n",
            "7/7 [==============================] - 0s 5ms/step - loss: 0.5446 - accuracy: 0.8500 - val_loss: 0.5290 - val_accuracy: 0.9250\n",
            "Epoch 11/20\n",
            "7/7 [==============================] - 0s 6ms/step - loss: 0.5094 - accuracy: 0.9575 - val_loss: 0.4961 - val_accuracy: 0.9650\n",
            "Epoch 12/20\n",
            "7/7 [==============================] - 0s 5ms/step - loss: 0.4822 - accuracy: 0.9475 - val_loss: 0.4606 - val_accuracy: 0.9800\n",
            "Epoch 13/20\n",
            "7/7 [==============================] - 0s 6ms/step - loss: 0.4469 - accuracy: 0.9525 - val_loss: 0.4300 - val_accuracy: 0.9750\n",
            "Epoch 14/20\n",
            "7/7 [==============================] - 0s 7ms/step - loss: 0.4089 - accuracy: 0.9625 - val_loss: 0.3903 - val_accuracy: 0.9900\n",
            "Epoch 15/20\n",
            "7/7 [==============================] - 0s 5ms/step - loss: 0.3659 - accuracy: 0.9787 - val_loss: 0.3487 - val_accuracy: 0.9850\n",
            "Epoch 16/20\n",
            "7/7 [==============================] - 0s 5ms/step - loss: 0.3325 - accuracy: 0.9837 - val_loss: 0.3110 - val_accuracy: 0.9900\n",
            "Epoch 17/20\n",
            "7/7 [==============================] - 0s 5ms/step - loss: 0.2969 - accuracy: 0.9787 - val_loss: 0.2852 - val_accuracy: 0.9850\n",
            "Epoch 18/20\n",
            "7/7 [==============================] - 0s 5ms/step - loss: 0.2646 - accuracy: 0.9850 - val_loss: 0.2508 - val_accuracy: 0.9800\n",
            "Epoch 19/20\n",
            "7/7 [==============================] - 0s 5ms/step - loss: 0.2427 - accuracy: 0.9800 - val_loss: 0.2235 - val_accuracy: 0.9850\n",
            "Epoch 20/20\n",
            "7/7 [==============================] - 0s 5ms/step - loss: 0.2076 - accuracy: 0.9925 - val_loss: 0.1885 - val_accuracy: 0.9950\n"
          ]
        }
      ]
    },
    {
      "cell_type": "code",
      "metadata": {
        "colab": {
          "base_uri": "https://localhost:8080/"
        },
        "id": "Lcvp_sAiRjSS",
        "outputId": "db74abb5-6c99-4f90-b029-8af9ddc0653e"
      },
      "source": [
        "history.history"
      ],
      "execution_count": 21,
      "outputs": [
        {
          "output_type": "execute_result",
          "data": {
            "text/plain": [
              "{'accuracy': [0.5212500095367432,\n",
              "  0.6512500047683716,\n",
              "  0.7524999976158142,\n",
              "  0.7475000023841858,\n",
              "  0.7049999833106995,\n",
              "  0.7337499856948853,\n",
              "  0.8575000166893005,\n",
              "  0.8799999952316284,\n",
              "  0.9387500286102295,\n",
              "  0.8500000238418579,\n",
              "  0.9574999809265137,\n",
              "  0.9474999904632568,\n",
              "  0.9524999856948853,\n",
              "  0.9624999761581421,\n",
              "  0.9787499904632568,\n",
              "  0.9837499856948853,\n",
              "  0.9787499904632568,\n",
              "  0.9850000143051147,\n",
              "  0.9800000190734863,\n",
              "  0.9925000071525574],\n",
              " 'loss': [0.6877472400665283,\n",
              "  0.6770052909851074,\n",
              "  0.6680188775062561,\n",
              "  0.657346248626709,\n",
              "  0.6450334787368774,\n",
              "  0.6304648518562317,\n",
              "  0.6122337579727173,\n",
              "  0.5895869731903076,\n",
              "  0.5696446299552917,\n",
              "  0.5445965528488159,\n",
              "  0.5094199180603027,\n",
              "  0.4822104573249817,\n",
              "  0.44690486788749695,\n",
              "  0.40887269377708435,\n",
              "  0.3659466505050659,\n",
              "  0.33254164457321167,\n",
              "  0.2968546152114868,\n",
              "  0.2645525634288788,\n",
              "  0.2426849901676178,\n",
              "  0.20758439600467682],\n",
              " 'lr': [0.01,\n",
              "  0.01,\n",
              "  0.01,\n",
              "  0.01,\n",
              "  0.01,\n",
              "  0.01,\n",
              "  0.01,\n",
              "  0.01,\n",
              "  0.01,\n",
              "  0.01,\n",
              "  0.01,\n",
              "  0.01,\n",
              "  0.01,\n",
              "  0.01,\n",
              "  0.01,\n",
              "  0.01,\n",
              "  0.01,\n",
              "  0.01,\n",
              "  0.01,\n",
              "  0.01],\n",
              " 'val_accuracy': [0.5550000071525574,\n",
              "  0.6700000166893005,\n",
              "  0.6299999952316284,\n",
              "  0.6000000238418579,\n",
              "  0.6449999809265137,\n",
              "  0.75,\n",
              "  0.8799999952316284,\n",
              "  0.9150000214576721,\n",
              "  0.9200000166893005,\n",
              "  0.925000011920929,\n",
              "  0.9649999737739563,\n",
              "  0.9800000190734863,\n",
              "  0.9750000238418579,\n",
              "  0.9900000095367432,\n",
              "  0.9850000143051147,\n",
              "  0.9900000095367432,\n",
              "  0.9850000143051147,\n",
              "  0.9800000190734863,\n",
              "  0.9850000143051147,\n",
              "  0.9950000047683716],\n",
              " 'val_loss': [0.6787698268890381,\n",
              "  0.6758055090904236,\n",
              "  0.6690835356712341,\n",
              "  0.6594415903091431,\n",
              "  0.6449811458587646,\n",
              "  0.6262820363044739,\n",
              "  0.6036088466644287,\n",
              "  0.5809756517410278,\n",
              "  0.5491130948066711,\n",
              "  0.5289708971977234,\n",
              "  0.4961058795452118,\n",
              "  0.460564523935318,\n",
              "  0.4299752116203308,\n",
              "  0.3902733623981476,\n",
              "  0.34872615337371826,\n",
              "  0.3109985291957855,\n",
              "  0.28519919514656067,\n",
              "  0.25083523988723755,\n",
              "  0.22353266179561615,\n",
              "  0.18846523761749268]}"
            ]
          },
          "metadata": {},
          "execution_count": 21
        }
      ]
    },
    {
      "cell_type": "code",
      "metadata": {
        "colab": {
          "base_uri": "https://localhost:8080/",
          "height": 579
        },
        "id": "WLGO_W2GR--C",
        "outputId": "913ee18e-7353-4bbc-c7d0-62b36cbc8ba9"
      },
      "source": [
        "acc      = history.history['accuracy']\n",
        "val_acc  = history.history['val_accuracy']\n",
        "\n",
        "epochs   = range(len(acc))\n",
        "\n",
        "plt.plot(epochs, acc, 'r', label = 'Training')\n",
        "plt.plot(epochs, val_acc, 'b', label = 'Validation')\n",
        "plt.title('Training and Validation Accuracy')\n",
        "plt.legend()\n",
        "plt.figure()\n",
        "\n",
        "loss     = history.history['loss']\n",
        "val_loss = history.history['val_loss']\n",
        "\n",
        "epochs   = range(len(loss))\n",
        "\n",
        "plt.plot(epochs, loss, 'r', label = 'Training')\n",
        "plt.plot(epochs, val_loss, 'b', label = 'Validation')\n",
        "plt.title('Training and Validation Loss')\n",
        "plt.legend()\n",
        "plt.figure()"
      ],
      "execution_count": 22,
      "outputs": [
        {
          "output_type": "execute_result",
          "data": {
            "text/plain": [
              "<Figure size 432x288 with 0 Axes>"
            ]
          },
          "metadata": {},
          "execution_count": 22
        },
        {
          "output_type": "display_data",
          "data": {
            "image/png": "[encoded data removed]",
            "text/plain": [
              "<Figure size 432x288 with 1 Axes>"
            ]
          },
          "metadata": {
            "needs_background": "light"
          }
        },
        {
          "output_type": "display_data",
          "data": {
            "image/png": "[encoded data removed]",
            "text/plain": [
              "<Figure size 432x288 with 1 Axes>"
            ]
          },
          "metadata": {
            "needs_background": "light"
          }
        },
        {
          "output_type": "display_data",
          "data": {
            "text/plain": [
              "<Figure size 432x288 with 0 Axes>"
            ]
          },
          "metadata": {}
        }
      ]
    },
    {
      "cell_type": "code",
      "metadata": {
        "colab": {
          "base_uri": "https://localhost:8080/"
        },
        "id": "NPvse8jvKsjZ",
        "outputId": "a5e35362-fe2b-450d-a2b4-8321bac21392"
      },
      "source": [
        "model.evaluate(X_test, y_test)"
      ],
      "execution_count": 23,
      "outputs": [
        {
          "output_type": "stream",
          "name": "stdout",
          "text": [
            "7/7 [==============================] - 0s 2ms/step - loss: 0.1885 - accuracy: 0.9950\n"
          ]
        },
        {
          "output_type": "execute_result",
          "data": {
            "text/plain": [
              "[0.18846523761749268, 0.9950000047683716]"
            ]
          },
          "metadata": {},
          "execution_count": 23
        }
      ]
    },
    {
      "cell_type": "code",
      "metadata": {
        "colab": {
          "base_uri": "https://localhost:8080/"
        },
        "id": "0H1otUHxSitL",
        "outputId": "84d90972-0c54-4fa3-c5a8-6d24f5070ac1"
      },
      "source": [
        "import numpy as np\n",
        "from sklearn.metrics import confusion_matrix\n",
        "\n",
        "y_preds = model.predict(X_test)\n",
        "print(y_preds[:8])\n",
        "y_preds = np.round(y_preds)\n",
        "print(y_preds[:8])"
      ],
      "execution_count": 25,
      "outputs": [
        {
          "output_type": "stream",
          "name": "stdout",
          "text": [
            "[[0.80797756]\n",
            " [0.924013  ]\n",
            " [0.8463776 ]\n",
            " [0.90104425]\n",
            " [0.28799155]\n",
            " [0.06794193]\n",
            " [0.86108816]\n",
            " [0.05096987]]\n",
            "[[1.]\n",
            " [1.]\n",
            " [1.]\n",
            " [1.]\n",
            " [0.]\n",
            " [0.]\n",
            " [1.]\n",
            " [0.]]\n"
          ]
        }
      ]
    },
    {
      "cell_type": "code",
      "metadata": {
        "colab": {
          "base_uri": "https://localhost:8080/"
        },
        "id": "iz2XvHiIT4lc",
        "outputId": "1765cbe9-223a-47e9-a079-03943c213c1f"
      },
      "source": [
        "confusion_matrix(y_test, y_preds)"
      ],
      "execution_count": 26,
      "outputs": [
        {
          "output_type": "execute_result",
          "data": {
            "text/plain": [
              "array([[101,   0],\n",
              "       [  1,  98]])"
            ]
          },
          "metadata": {},
          "execution_count": 26
        }
      ]
    }
  ]
}