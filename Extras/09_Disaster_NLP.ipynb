{
  "nbformat": 4,
  "nbformat_minor": 0,
  "metadata": {
    "colab": {
      "name": "09_Disaster_NLP.ipynb",
      "provenance": []
    },
    "kernelspec": {
      "name": "python3",
      "display_name": "Python 3"
    },
    "language_info": {
      "name": "python"
    }
  },
  "cells": [
    {
      "cell_type": "code",
      "metadata": {
        "colab": {
          "base_uri": "https://localhost:8080/"
        },
        "id": "dbIMlea2dkTe",
        "outputId": "7e6c3ee8-64d5-49b6-84d7-b4cdbb0a55cc"
      },
      "source": [
        "!wget \"https://storage.googleapis.com/ztm_tf_course/nlp_getting_started.zip\""
      ],
      "execution_count": 1,
      "outputs": [
        {
          "output_type": "stream",
          "name": "stdout",
          "text": [
            "--2021-11-29 06:53:20--  https://storage.googleapis.com/ztm_tf_course/nlp_getting_started.zip\n",
            "Resolving storage.googleapis.com (storage.googleapis.com)... 173.194.193.128, 173.194.196.128, 173.194.197.128, ...\n",
            "Connecting to storage.googleapis.com (storage.googleapis.com)|173.194.193.128|:443... connected.\n",
            "HTTP request sent, awaiting response... 200 OK\n",
            "Length: 607343 (593K) [application/zip]\n",
            "Saving to: ‘nlp_getting_started.zip’\n",
            "\n",
            "\rnlp_getting_started   0%[                    ]       0  --.-KB/s               \rnlp_getting_started 100%[===================>] 593.11K  --.-KB/s    in 0.006s  \n",
            "\n",
            "2021-11-29 06:53:20 (96.6 MB/s) - ‘nlp_getting_started.zip’ saved [607343/607343]\n",
            "\n"
          ]
        }
      ]
    },
    {
      "cell_type": "code",
      "metadata": {
        "colab": {
          "base_uri": "https://localhost:8080/"
        },
        "id": "uoBrU3MRd_aI",
        "outputId": "a7ccb10d-1cc8-4829-9c58-66e99a3be457"
      },
      "source": [
        "!unzip \"/content/nlp_getting_started.zip\" -d \"/content/nlp/\""
      ],
      "execution_count": 2,
      "outputs": [
        {
          "output_type": "stream",
          "name": "stdout",
          "text": [
            "Archive:  /content/nlp_getting_started.zip\n",
            "  inflating: /content/nlp/sample_submission.csv  \n",
            "  inflating: /content/nlp/test.csv   \n",
            "  inflating: /content/nlp/train.csv  \n"
          ]
        }
      ]
    },
    {
      "cell_type": "code",
      "metadata": {
        "id": "MRvUdfeBeRbB"
      },
      "source": [
        "import pandas as pd\n",
        "import numpy as np\n",
        "import re\n",
        "import nltk\n",
        "import seaborn as sns\n",
        "import matplotlib.pyplot as plt\n",
        "%matplotlib inline\n",
        "\n",
        "import warnings\n",
        "warnings.filterwarnings('ignore')"
      ],
      "execution_count": 3,
      "outputs": []
    },
    {
      "cell_type": "code",
      "metadata": {
        "id": "m6lGwXirnIDU"
      },
      "source": [
        "import tensorflow as tf\n",
        "from tensorflow.keras.preprocessing.text import Tokenizer\n",
        "from tensorflow.keras.preprocessing.sequence import pad_sequences\n",
        "from tensorflow.keras.models import Sequential\n",
        "from tensorflow.keras import layers\n",
        "from tensorflow.keras.callbacks import EarlyStopping, ReduceLROnPlateau, ModelCheckpoint, LearningRateScheduler"
      ],
      "execution_count": 37,
      "outputs": []
    },
    {
      "cell_type": "code",
      "metadata": {
        "id": "9_dSpiWxeRdx"
      },
      "source": [
        "train_df = pd.read_csv(\"/content/nlp/train.csv\")"
      ],
      "execution_count": 4,
      "outputs": []
    },
    {
      "cell_type": "code",
      "metadata": {
        "colab": {
          "base_uri": "https://localhost:8080/",
          "height": 206
        },
        "id": "yhN7YxZLewtc",
        "outputId": "6bab20f6-fe14-4972-b5e8-dffb7ba2f857"
      },
      "source": [
        "train_df.head()"
      ],
      "execution_count": 5,
      "outputs": [
        {
          "output_type": "execute_result",
          "data": {
            "text/html": [
              "<div>\n",
              "<style scoped>\n",
              "    .dataframe tbody tr th:only-of-type {\n",
              "        vertical-align: middle;\n",
              "    }\n",
              "\n",
              "    .dataframe tbody tr th {\n",
              "        vertical-align: top;\n",
              "    }\n",
              "\n",
              "    .dataframe thead th {\n",
              "        text-align: right;\n",
              "    }\n",
              "</style>\n",
              "<table border=\"1\" class=\"dataframe\">\n",
              "  <thead>\n",
              "    <tr style=\"text-align: right;\">\n",
              "      <th></th>\n",
              "      <th>id</th>\n",
              "      <th>keyword</th>\n",
              "      <th>location</th>\n",
              "      <th>text</th>\n",
              "      <th>target</th>\n",
              "    </tr>\n",
              "  </thead>\n",
              "  <tbody>\n",
              "    <tr>\n",
              "      <th>0</th>\n",
              "      <td>1</td>\n",
              "      <td>NaN</td>\n",
              "      <td>NaN</td>\n",
              "      <td>Our Deeds are the Reason of this #earthquake M...</td>\n",
              "      <td>1</td>\n",
              "    </tr>\n",
              "    <tr>\n",
              "      <th>1</th>\n",
              "      <td>4</td>\n",
              "      <td>NaN</td>\n",
              "      <td>NaN</td>\n",
              "      <td>Forest fire near La Ronge Sask. Canada</td>\n",
              "      <td>1</td>\n",
              "    </tr>\n",
              "    <tr>\n",
              "      <th>2</th>\n",
              "      <td>5</td>\n",
              "      <td>NaN</td>\n",
              "      <td>NaN</td>\n",
              "      <td>All residents asked to 'shelter in place' are ...</td>\n",
              "      <td>1</td>\n",
              "    </tr>\n",
              "    <tr>\n",
              "      <th>3</th>\n",
              "      <td>6</td>\n",
              "      <td>NaN</td>\n",
              "      <td>NaN</td>\n",
              "      <td>13,000 people receive #wildfires evacuation or...</td>\n",
              "      <td>1</td>\n",
              "    </tr>\n",
              "    <tr>\n",
              "      <th>4</th>\n",
              "      <td>7</td>\n",
              "      <td>NaN</td>\n",
              "      <td>NaN</td>\n",
              "      <td>Just got sent this photo from Ruby #Alaska as ...</td>\n",
              "      <td>1</td>\n",
              "    </tr>\n",
              "  </tbody>\n",
              "</table>\n",
              "</div>"
            ],
            "text/plain": [
              "   id keyword  ...                                               text target\n",
              "0   1     NaN  ...  Our Deeds are the Reason of this #earthquake M...      1\n",
              "1   4     NaN  ...             Forest fire near La Ronge Sask. Canada      1\n",
              "2   5     NaN  ...  All residents asked to 'shelter in place' are ...      1\n",
              "3   6     NaN  ...  13,000 people receive #wildfires evacuation or...      1\n",
              "4   7     NaN  ...  Just got sent this photo from Ruby #Alaska as ...      1\n",
              "\n",
              "[5 rows x 5 columns]"
            ]
          },
          "metadata": {},
          "execution_count": 5
        }
      ]
    },
    {
      "cell_type": "code",
      "metadata": {
        "colab": {
          "base_uri": "https://localhost:8080/"
        },
        "id": "i8EveJUUex2T",
        "outputId": "a45b5e80-9cbc-4dff-cf1c-485fea5efc01"
      },
      "source": [
        "train_df['target'].value_counts()"
      ],
      "execution_count": 6,
      "outputs": [
        {
          "output_type": "execute_result",
          "data": {
            "text/plain": [
              "0    4342\n",
              "1    3271\n",
              "Name: target, dtype: int64"
            ]
          },
          "metadata": {},
          "execution_count": 6
        }
      ]
    },
    {
      "cell_type": "code",
      "metadata": {
        "colab": {
          "base_uri": "https://localhost:8080/"
        },
        "id": "DjbZHN5Be3Ck",
        "outputId": "901b67b9-1b84-40aa-e26a-900af55b7933"
      },
      "source": [
        "train_df.shape"
      ],
      "execution_count": 7,
      "outputs": [
        {
          "output_type": "execute_result",
          "data": {
            "text/plain": [
              "(7613, 5)"
            ]
          },
          "metadata": {},
          "execution_count": 7
        }
      ]
    },
    {
      "cell_type": "code",
      "metadata": {
        "id": "uSV6fM96e5vA"
      },
      "source": [
        "train_df = train_df.sample(frac=1, random_state=20)     # shuffle"
      ],
      "execution_count": 8,
      "outputs": []
    },
    {
      "cell_type": "code",
      "metadata": {
        "colab": {
          "base_uri": "https://localhost:8080/",
          "height": 206
        },
        "id": "3PGOiDXsfGnU",
        "outputId": "dfa287e3-7f54-42e8-e459-0617c46349de"
      },
      "source": [
        "train_df.head()"
      ],
      "execution_count": 9,
      "outputs": [
        {
          "output_type": "execute_result",
          "data": {
            "text/html": [
              "<div>\n",
              "<style scoped>\n",
              "    .dataframe tbody tr th:only-of-type {\n",
              "        vertical-align: middle;\n",
              "    }\n",
              "\n",
              "    .dataframe tbody tr th {\n",
              "        vertical-align: top;\n",
              "    }\n",
              "\n",
              "    .dataframe thead th {\n",
              "        text-align: right;\n",
              "    }\n",
              "</style>\n",
              "<table border=\"1\" class=\"dataframe\">\n",
              "  <thead>\n",
              "    <tr style=\"text-align: right;\">\n",
              "      <th></th>\n",
              "      <th>id</th>\n",
              "      <th>keyword</th>\n",
              "      <th>location</th>\n",
              "      <th>text</th>\n",
              "      <th>target</th>\n",
              "    </tr>\n",
              "  </thead>\n",
              "  <tbody>\n",
              "    <tr>\n",
              "      <th>2079</th>\n",
              "      <td>2987</td>\n",
              "      <td>dead</td>\n",
              "      <td>South Stand</td>\n",
              "      <td>@Jones94Kyle now I've said all this he's dead ...</td>\n",
              "      <td>0</td>\n",
              "    </tr>\n",
              "    <tr>\n",
              "      <th>3146</th>\n",
              "      <td>4520</td>\n",
              "      <td>emergency</td>\n",
              "      <td>buhh</td>\n",
              "      <td>the new quest type is 'level up quest'. its an...</td>\n",
              "      <td>0</td>\n",
              "    </tr>\n",
              "    <tr>\n",
              "      <th>1362</th>\n",
              "      <td>1965</td>\n",
              "      <td>burning%20buildings</td>\n",
              "      <td>seattle grace mercy death</td>\n",
              "      <td>'i never understood guys who wanted to run int...</td>\n",
              "      <td>0</td>\n",
              "    </tr>\n",
              "    <tr>\n",
              "      <th>3277</th>\n",
              "      <td>4703</td>\n",
              "      <td>epicentre</td>\n",
              "      <td>Charlotte, NC</td>\n",
              "      <td>This Friday!!! Club Vault 3rd Floor EpiCentre ...</td>\n",
              "      <td>0</td>\n",
              "    </tr>\n",
              "    <tr>\n",
              "      <th>5741</th>\n",
              "      <td>8195</td>\n",
              "      <td>riot</td>\n",
              "      <td>Belgrade</td>\n",
              "      <td>To All The Meat-Loving Feminists Of The World ...</td>\n",
              "      <td>0</td>\n",
              "    </tr>\n",
              "  </tbody>\n",
              "</table>\n",
              "</div>"
            ],
            "text/plain": [
              "        id  ... target\n",
              "2079  2987  ...      0\n",
              "3146  4520  ...      0\n",
              "1362  1965  ...      0\n",
              "3277  4703  ...      0\n",
              "5741  8195  ...      0\n",
              "\n",
              "[5 rows x 5 columns]"
            ]
          },
          "metadata": {},
          "execution_count": 9
        }
      ]
    },
    {
      "cell_type": "code",
      "metadata": {
        "id": "LxXcoPpmfJhw"
      },
      "source": [
        "from sklearn.model_selection import train_test_split\n",
        "\n",
        "X_train, X_test, y_train, y_test = train_test_split(train_df['text'], train_df['target'], test_size=0.2, random_state=10, stratify=train_df['target'])"
      ],
      "execution_count": 10,
      "outputs": []
    },
    {
      "cell_type": "code",
      "metadata": {
        "colab": {
          "base_uri": "https://localhost:8080/"
        },
        "id": "VzT87P7diLKu",
        "outputId": "cf4b406d-5e41-4ebd-9757-e41541afd3ca"
      },
      "source": [
        "X_train.shape, y_train.shape, X_test.shape, y_test.shape"
      ],
      "execution_count": 11,
      "outputs": [
        {
          "output_type": "execute_result",
          "data": {
            "text/plain": [
              "((6090,), (6090,), (1523,), (1523,))"
            ]
          },
          "metadata": {},
          "execution_count": 11
        }
      ]
    },
    {
      "cell_type": "code",
      "metadata": {
        "id": "fmute9J4jnsm"
      },
      "source": [
        "VOCAB_SIZE = 10000\n",
        "EMBED_DIM = 100\n",
        "MAX_LEN = 30\n",
        "\n",
        "TRUNC_TYPE = 'post'\n",
        "PADDING_TYPE = 'post'\n",
        "OOV_TOKEN = '<OOV>'"
      ],
      "execution_count": 12,
      "outputs": []
    },
    {
      "cell_type": "code",
      "metadata": {
        "id": "7jsLo_zwiORt"
      },
      "source": [
        "tokenizer = Tokenizer(num_words=VOCAB_SIZE, oov_token=OOV_TOKEN)\n",
        "tokenizer.fit_on_texts(X_train)\n",
        "\n",
        "word_index = tokenizer.word_index\n",
        "vocab_size = len(word_index)\n",
        "\n",
        "training_sequences = tokenizer.texts_to_sequences(X_train)\n",
        "training_padded = pad_sequences(training_sequences, maxlen=MAX_LEN, padding=PADDING_TYPE, truncating=TRUNC_TYPE)\n",
        "\n",
        "testing_sequences = tokenizer.texts_to_sequences(X_test)\n",
        "testing_padded = pad_sequences(testing_sequences, maxlen=MAX_LEN, padding=PADDING_TYPE, truncating=TRUNC_TYPE)"
      ],
      "execution_count": 16,
      "outputs": []
    },
    {
      "cell_type": "code",
      "metadata": {
        "colab": {
          "base_uri": "https://localhost:8080/"
        },
        "id": "UKa9VpmmnXA5",
        "outputId": "ae54f0c3-789c-40a6-e999-010c6457f8cf"
      },
      "source": [
        "training_sequences[:2]"
      ],
      "execution_count": 17,
      "outputs": [
        {
          "output_type": "execute_result",
          "data": {
            "text/plain": [
              "[[1264,\n",
              "  14,\n",
              "  1489,\n",
              "  3041,\n",
              "  503,\n",
              "  658,\n",
              "  2483,\n",
              "  1082,\n",
              "  2484,\n",
              "  3042,\n",
              "  816,\n",
              "  151,\n",
              "  5,\n",
              "  1025,\n",
              "  13,\n",
              "  3981,\n",
              "  4,\n",
              "  2,\n",
              "  3,\n",
              "  6005],\n",
              " [302, 3982, 342, 3983, 3982]]"
            ]
          },
          "metadata": {},
          "execution_count": 17
        }
      ]
    },
    {
      "cell_type": "code",
      "metadata": {
        "colab": {
          "base_uri": "https://localhost:8080/"
        },
        "id": "MfdPG4cQiOUd",
        "outputId": "03db923a-437a-4aeb-aedd-ff9fcfc7d33b"
      },
      "source": [
        "training_padded[:2]"
      ],
      "execution_count": 18,
      "outputs": [
        {
          "output_type": "execute_result",
          "data": {
            "text/plain": [
              "array([[1264,   14, 1489, 3041,  503,  658, 2483, 1082, 2484, 3042,  816,\n",
              "         151,    5, 1025,   13, 3981,    4,    2,    3, 6005,    0,    0,\n",
              "           0,    0,    0,    0,    0,    0,    0,    0],\n",
              "       [ 302, 3982,  342, 3983, 3982,    0,    0,    0,    0,    0,    0,\n",
              "           0,    0,    0,    0,    0,    0,    0,    0,    0,    0,    0,\n",
              "           0,    0,    0,    0,    0,    0,    0,    0]], dtype=int32)"
            ]
          },
          "metadata": {},
          "execution_count": 18
        }
      ]
    },
    {
      "cell_type": "code",
      "metadata": {
        "id": "NAuA2hd5ndXH"
      },
      "source": [
        "training_padded = np.array(training_padded)\n",
        "training_labels = np.array(y_train)\n",
        "\n",
        "testing_padded = np.array(testing_padded)\n",
        "testing_labels = np.array(y_test)"
      ],
      "execution_count": 19,
      "outputs": []
    },
    {
      "cell_type": "code",
      "metadata": {
        "colab": {
          "base_uri": "https://localhost:8080/"
        },
        "id": "uJsX8xXLoFmX",
        "outputId": "b9bcc393-86bb-431a-f6fb-ed307df56b13"
      },
      "source": [
        "vocab_size"
      ],
      "execution_count": 26,
      "outputs": [
        {
          "output_type": "execute_result",
          "data": {
            "text/plain": [
              "19480"
            ]
          },
          "metadata": {},
          "execution_count": 26
        }
      ]
    },
    {
      "cell_type": "code",
      "metadata": {
        "colab": {
          "base_uri": "https://localhost:8080/"
        },
        "id": "baJljPJvoH-X",
        "outputId": "58e368b2-82a2-4b73-e933-ae43679e6331"
      },
      "source": [
        "VOCAB_SIZE"
      ],
      "execution_count": 27,
      "outputs": [
        {
          "output_type": "execute_result",
          "data": {
            "text/plain": [
              "10000"
            ]
          },
          "metadata": {},
          "execution_count": 27
        }
      ]
    },
    {
      "cell_type": "code",
      "metadata": {
        "colab": {
          "base_uri": "https://localhost:8080/"
        },
        "id": "tqXazLcYnmX4",
        "outputId": "54a8f8d0-6d60-458d-f1ec-7c6d809e35cf"
      },
      "source": [
        "# getting Glove\n",
        "\n",
        "!wget 'http://nlp.stanford.edu/data/glove.6B.zip'"
      ],
      "execution_count": 21,
      "outputs": [
        {
          "output_type": "stream",
          "name": "stdout",
          "text": [
            "--2021-11-29 07:35:22--  http://nlp.stanford.edu/data/glove.6B.zip\n",
            "Resolving nlp.stanford.edu (nlp.stanford.edu)... 171.64.67.140\n",
            "Connecting to nlp.stanford.edu (nlp.stanford.edu)|171.64.67.140|:80... connected.\n",
            "HTTP request sent, awaiting response... 302 Found\n",
            "Location: https://nlp.stanford.edu/data/glove.6B.zip [following]\n",
            "--2021-11-29 07:35:22--  https://nlp.stanford.edu/data/glove.6B.zip\n",
            "Connecting to nlp.stanford.edu (nlp.stanford.edu)|171.64.67.140|:443... connected.\n",
            "HTTP request sent, awaiting response... 301 Moved Permanently\n",
            "Location: http://downloads.cs.stanford.edu/nlp/data/glove.6B.zip [following]\n",
            "--2021-11-29 07:35:22--  http://downloads.cs.stanford.edu/nlp/data/glove.6B.zip\n",
            "Resolving downloads.cs.stanford.edu (downloads.cs.stanford.edu)... 171.64.64.22\n",
            "Connecting to downloads.cs.stanford.edu (downloads.cs.stanford.edu)|171.64.64.22|:80... connected.\n",
            "HTTP request sent, awaiting response... 200 OK\n",
            "Length: 862182613 (822M) [application/zip]\n",
            "Saving to: ‘glove.6B.zip’\n",
            "\n",
            "glove.6B.zip        100%[===================>] 822.24M  5.08MB/s    in 2m 41s  \n",
            "\n",
            "2021-11-29 07:38:03 (5.11 MB/s) - ‘glove.6B.zip’ saved [862182613/862182613]\n",
            "\n"
          ]
        }
      ]
    },
    {
      "cell_type": "code",
      "metadata": {
        "colab": {
          "base_uri": "https://localhost:8080/"
        },
        "id": "D6zyk-hMnmDw",
        "outputId": "b9f1a3a7-1924-47f6-b89f-b07a11d75120"
      },
      "source": [
        "!unzip '/content/glove.6B.zip'"
      ],
      "execution_count": 22,
      "outputs": [
        {
          "output_type": "stream",
          "name": "stdout",
          "text": [
            "Archive:  /content/glove.6B.zip\n",
            "  inflating: glove.6B.50d.txt        \n",
            "  inflating: glove.6B.100d.txt       \n",
            "  inflating: glove.6B.200d.txt       \n",
            "  inflating: glove.6B.300d.txt       \n"
          ]
        }
      ]
    },
    {
      "cell_type": "code",
      "metadata": {
        "colab": {
          "base_uri": "https://localhost:8080/"
        },
        "id": "z5W57SB2ntis",
        "outputId": "b429e701-7930-437b-8941-60f383261463"
      },
      "source": [
        "import os\n",
        "\n",
        "embeddings_index = {}\n",
        "GLOVE_DIR = '/content/'\n",
        "\n",
        "f = open(os.path.join(GLOVE_DIR, 'glove.6B.100d.txt'))\n",
        "\n",
        "for line in f:\n",
        "    values = line.split()                                             # values have -> word & vector of each word\n",
        "    word = values[0]                                                  # word have -> getting each word\n",
        "    coefs = np.asarray(values[1:], dtype='float32')                   # coefs have -> vector of each word\n",
        "    embeddings_index[word] = coefs                                    # putting coeffs of each word matrix wise\n",
        "f.close()\n",
        "\n",
        "print('Found %s word vectors.' % len(embeddings_index))"
      ],
      "execution_count": 23,
      "outputs": [
        {
          "output_type": "stream",
          "name": "stdout",
          "text": [
            "Found 400000 word vectors.\n"
          ]
        }
      ]
    },
    {
      "cell_type": "code",
      "metadata": {
        "colab": {
          "base_uri": "https://localhost:8080/"
        },
        "id": "Zp1AddcfnvXQ",
        "outputId": "e5761c76-b68c-4492-cdb5-8c4925629ac9"
      },
      "source": [
        "embeddings_index['sandberger']"
      ],
      "execution_count": 24,
      "outputs": [
        {
          "output_type": "execute_result",
          "data": {
            "text/plain": [
              "array([ 0.28365  , -0.6263   , -0.44351  ,  0.2177   , -0.087421 ,\n",
              "       -0.17062  ,  0.29266  , -0.024899 ,  0.26414  , -0.17023  ,\n",
              "        0.25817  ,  0.097484 , -0.33103  , -0.43859  ,  0.0095799,\n",
              "        0.095624 , -0.17777  ,  0.38886  ,  0.27151  ,  0.14742  ,\n",
              "       -0.43973  , -0.26588  , -0.024271 ,  0.27186  , -0.36761  ,\n",
              "       -0.24827  , -0.20815  ,  0.22128  , -0.044409 ,  0.021373 ,\n",
              "        0.24594  ,  0.26143  ,  0.29303  ,  0.13281  ,  0.082232 ,\n",
              "       -0.12869  ,  0.1622   , -0.22567  , -0.060348 ,  0.28703  ,\n",
              "        0.11381  ,  0.34839  ,  0.3419   ,  0.36996  , -0.13592  ,\n",
              "        0.0062694,  0.080317 ,  0.0036251,  0.43093  ,  0.01882  ,\n",
              "        0.31008  ,  0.16722  ,  0.074112 , -0.37745  ,  0.47363  ,\n",
              "        0.41284  ,  0.24471  ,  0.075965 , -0.51725  , -0.49481  ,\n",
              "        0.526    , -0.074645 ,  0.41434  , -0.1956   , -0.16544  ,\n",
              "       -0.045649 , -0.40153  , -0.13136  , -0.4672   ,  0.18825  ,\n",
              "        0.2612   ,  0.16854  ,  0.22615  ,  0.62992  , -0.1288   ,\n",
              "        0.055841 ,  0.01928  ,  0.024572 ,  0.46875  ,  0.2582   ,\n",
              "       -0.31672  ,  0.048591 ,  0.3277   , -0.50141  ,  0.30855  ,\n",
              "        0.11997  , -0.25768  , -0.039867 , -0.059672 ,  0.5525   ,\n",
              "        0.13885  , -0.22862  ,  0.071792 , -0.43208  ,  0.5398   ,\n",
              "       -0.085806 ,  0.032651 ,  0.43678  , -0.82607  , -0.15701  ],\n",
              "      dtype=float32)"
            ]
          },
          "metadata": {},
          "execution_count": 24
        }
      ]
    },
    {
      "cell_type": "code",
      "metadata": {
        "colab": {
          "base_uri": "https://localhost:8080/"
        },
        "id": "VUcsCy_Sn4H9",
        "outputId": "9b9f7cbd-54fc-41a2-82fd-db396d5f6b1b"
      },
      "source": [
        "word_index['the']"
      ],
      "execution_count": 25,
      "outputs": [
        {
          "output_type": "execute_result",
          "data": {
            "text/plain": [
              "5"
            ]
          },
          "metadata": {},
          "execution_count": 25
        }
      ]
    },
    {
      "cell_type": "code",
      "metadata": {
        "id": "CADosc2On5rL"
      },
      "source": [
        "embeddings_matrix = np.zeros((vocab_size+1, EMBED_DIM))               # matrix of 0s of shape (vocab_size+1, EMBED_DIM)\n",
        "\n",
        "for word, i in word_index.items():                                    # getting word and index of each word from our word_index\n",
        "    embedding_vector = embeddings_index.get(word)                     # getting embeddings of our words from glove\n",
        "    if embedding_vector is not None:                                  # if vector of that word is present\n",
        "        embeddings_matrix[i] = embedding_vector                       # keep it in a matrix"
      ],
      "execution_count": 28,
      "outputs": []
    },
    {
      "cell_type": "code",
      "metadata": {
        "colab": {
          "base_uri": "https://localhost:8080/"
        },
        "id": "ZwGb6p6Ln5op",
        "outputId": "dd582e3b-871a-4315-b18d-bc602e1c02e6"
      },
      "source": [
        "len(embeddings_matrix)                                                # vocab size = 19480, matrix length = 19481"
      ],
      "execution_count": 29,
      "outputs": [
        {
          "output_type": "execute_result",
          "data": {
            "text/plain": [
              "19481"
            ]
          },
          "metadata": {},
          "execution_count": 29
        }
      ]
    },
    {
      "cell_type": "code",
      "metadata": {
        "colab": {
          "base_uri": "https://localhost:8080/"
        },
        "id": "WhZzFSfiorz4",
        "outputId": "6fff2640-1433-4b7f-e999-d3e57890374f"
      },
      "source": [
        "embeddings_matrix[5]"
      ],
      "execution_count": 30,
      "outputs": [
        {
          "output_type": "execute_result",
          "data": {
            "text/plain": [
              "array([-0.038194  , -0.24487001,  0.72812003, -0.39961001,  0.083172  ,\n",
              "        0.043953  , -0.39140999,  0.3344    , -0.57545   ,  0.087459  ,\n",
              "        0.28786999, -0.06731   ,  0.30906001, -0.26383999, -0.13231   ,\n",
              "       -0.20757   ,  0.33395001, -0.33848   , -0.31742999, -0.48335999,\n",
              "        0.1464    , -0.37303999,  0.34577   ,  0.052041  ,  0.44946   ,\n",
              "       -0.46970999,  0.02628   , -0.54154998, -0.15518001, -0.14106999,\n",
              "       -0.039722  ,  0.28277001,  0.14393   ,  0.23464   , -0.31020999,\n",
              "        0.086173  ,  0.20397   ,  0.52623999,  0.17163999, -0.082378  ,\n",
              "       -0.71787   , -0.41531   ,  0.20334999, -0.12763   ,  0.41367   ,\n",
              "        0.55186999,  0.57907999, -0.33476999, -0.36559001, -0.54856998,\n",
              "       -0.062892  ,  0.26583999,  0.30204999,  0.99774998, -0.80480999,\n",
              "       -3.0243001 ,  0.01254   , -0.36941999,  2.21670008,  0.72201002,\n",
              "       -0.24978   ,  0.92136002,  0.034514  ,  0.46744999,  1.10790002,\n",
              "       -0.19358   , -0.074575  ,  0.23353   , -0.052062  , -0.22044   ,\n",
              "        0.057162  , -0.15806   , -0.30798   , -0.41624999,  0.37972   ,\n",
              "        0.15006   , -0.53211999, -0.20550001, -1.25259995,  0.071624  ,\n",
              "        0.70564997,  0.49744001, -0.42063001,  0.26148   , -1.53799999,\n",
              "       -0.30223   , -0.073438  , -0.28312001,  0.37103999, -0.25217   ,\n",
              "        0.016215  , -0.017099  , -0.38984001,  0.87423998, -0.72569001,\n",
              "       -0.51058   , -0.52028   , -0.1459    ,  0.82779998,  0.27061999])"
            ]
          },
          "metadata": {},
          "execution_count": 30
        }
      ]
    },
    {
      "cell_type": "code",
      "metadata": {
        "colab": {
          "base_uri": "https://localhost:8080/"
        },
        "id": "_Z1VEx2lozLi",
        "outputId": "23600390-16d3-47dc-ed95-9ce7a2cb6693"
      },
      "source": [
        "len(embeddings_matrix[5])"
      ],
      "execution_count": 31,
      "outputs": [
        {
          "output_type": "execute_result",
          "data": {
            "text/plain": [
              "100"
            ]
          },
          "metadata": {},
          "execution_count": 31
        }
      ]
    },
    {
      "cell_type": "code",
      "metadata": {
        "colab": {
          "base_uri": "https://localhost:8080/"
        },
        "id": "056wPDRyo1q9",
        "outputId": "055bbeaa-ba7e-49a0-9584-23095ddff92b"
      },
      "source": [
        "embeddings_matrix.shape"
      ],
      "execution_count": 32,
      "outputs": [
        {
          "output_type": "execute_result",
          "data": {
            "text/plain": [
              "(19481, 100)"
            ]
          },
          "metadata": {},
          "execution_count": 32
        }
      ]
    },
    {
      "cell_type": "code",
      "metadata": {
        "id": "gm5yvBJYo2Uz"
      },
      "source": [
        "NUM_CLASSES = 1"
      ],
      "execution_count": 33,
      "outputs": []
    },
    {
      "cell_type": "code",
      "metadata": {
        "id": "TZIAaFh2o2fF"
      },
      "source": [
        "model = Sequential([\n",
        "    layers.Embedding(input_dim=vocab_size+1, output_dim=EMBED_DIM, input_length=MAX_LEN, weights=[embeddings_matrix], trainable=False),\n",
        "    layers.Dropout(0.2),\n",
        "    layers.Conv1D(64, 5, activation='relu'),\n",
        "    layers.MaxPooling1D(pool_size=4),\n",
        "    layers.Bidirectional(layers.LSTM(64, return_sequences=True)),\n",
        "    layers.Bidirectional(layers.LSTM(32)),\n",
        "    layers.Dropout(0.2),\n",
        "    layers.Dense(NUM_CLASSES, activation='sigmoid')\n",
        "])"
      ],
      "execution_count": 44,
      "outputs": []
    },
    {
      "cell_type": "code",
      "metadata": {
        "colab": {
          "base_uri": "https://localhost:8080/"
        },
        "id": "BnI-AT6xpBzt",
        "outputId": "aac8af53-9e78-4ce3-e8f7-d1d1b81243c9"
      },
      "source": [
        "model.summary()"
      ],
      "execution_count": 45,
      "outputs": [
        {
          "output_type": "stream",
          "name": "stdout",
          "text": [
            "Model: \"sequential_1\"\n",
            "_________________________________________________________________\n",
            " Layer (type)                Output Shape              Param #   \n",
            "=================================================================\n",
            " embedding_1 (Embedding)     (None, 30, 100)           1948100   \n",
            "                                                                 \n",
            " dropout_1 (Dropout)         (None, 30, 100)           0         \n",
            "                                                                 \n",
            " conv1d_1 (Conv1D)           (None, 26, 64)            32064     \n",
            "                                                                 \n",
            " max_pooling1d_1 (MaxPooling  (None, 6, 64)            0         \n",
            " 1D)                                                             \n",
            "                                                                 \n",
            " bidirectional (Bidirectiona  (None, 6, 128)           66048     \n",
            " l)                                                              \n",
            "                                                                 \n",
            " bidirectional_1 (Bidirectio  (None, 64)               41216     \n",
            " nal)                                                            \n",
            "                                                                 \n",
            " dropout_2 (Dropout)         (None, 64)                0         \n",
            "                                                                 \n",
            " dense_1 (Dense)             (None, 1)                 65        \n",
            "                                                                 \n",
            "=================================================================\n",
            "Total params: 2,087,493\n",
            "Trainable params: 139,393\n",
            "Non-trainable params: 1,948,100\n",
            "_________________________________________________________________\n"
          ]
        }
      ]
    },
    {
      "cell_type": "code",
      "metadata": {
        "id": "jYRHx51spF6s"
      },
      "source": [
        "optimizer   = tf.keras.optimizers.Adam(learning_rate=0.01)\n",
        "loss        = tf.keras.losses.BinaryCrossentropy()\n",
        "metrics     = ['accuracy']"
      ],
      "execution_count": 46,
      "outputs": []
    },
    {
      "cell_type": "code",
      "metadata": {
        "id": "Bsh-nPoYpF9K"
      },
      "source": [
        "model.compile(optimizer=optimizer,\n",
        "              loss=loss,\n",
        "              metrics=metrics)"
      ],
      "execution_count": 47,
      "outputs": []
    },
    {
      "cell_type": "code",
      "metadata": {
        "id": "uuuounZ9pclN"
      },
      "source": [
        "early_stopping    = EarlyStopping(monitor='val_loss', patience=12)\n",
        "reduce_lr         = ReduceLROnPlateau(monitor='val_loss', patience=8, min_lr=0.001, mode='min', verbose=1, factor=0.1)\n",
        "model_checkpoint  = ModelCheckpoint(monitor='val_loss', filepath='./best_model.h5', save_best_only=True)"
      ],
      "execution_count": 48,
      "outputs": []
    },
    {
      "cell_type": "code",
      "metadata": {
        "id": "iNxfGFPOpfND"
      },
      "source": [
        "EPOCHS = 50\n",
        "CALLBACKS = [early_stopping, reduce_lr, model_checkpoint]"
      ],
      "execution_count": 49,
      "outputs": []
    },
    {
      "cell_type": "code",
      "metadata": {
        "colab": {
          "base_uri": "https://localhost:8080/"
        },
        "id": "aURyMX8Qpgw6",
        "outputId": "b694cf6a-3715-4ab3-b16e-99e2d5c74f85"
      },
      "source": [
        "history = model.fit(training_padded,\n",
        "                    training_labels,\n",
        "                    validation_data = (testing_padded, testing_labels),\n",
        "                    verbose = 1,\n",
        "                    epochs = EPOCHS,\n",
        "                    callbacks = CALLBACKS)"
      ],
      "execution_count": 50,
      "outputs": [
        {
          "output_type": "stream",
          "name": "stdout",
          "text": [
            "Epoch 1/50\n",
            "191/191 [==============================] - 15s 36ms/step - loss: 0.5420 - accuracy: 0.7300 - val_loss: 0.4937 - val_accuracy: 0.7781 - lr: 0.0100\n",
            "Epoch 2/50\n",
            "191/191 [==============================] - 5s 27ms/step - loss: 0.4584 - accuracy: 0.7946 - val_loss: 0.4544 - val_accuracy: 0.7951 - lr: 0.0100\n",
            "Epoch 3/50\n",
            "191/191 [==============================] - 5s 28ms/step - loss: 0.4295 - accuracy: 0.8161 - val_loss: 0.4652 - val_accuracy: 0.7879 - lr: 0.0100\n",
            "Epoch 4/50\n",
            "191/191 [==============================] - 5s 27ms/step - loss: 0.4175 - accuracy: 0.8223 - val_loss: 0.4698 - val_accuracy: 0.8063 - lr: 0.0100\n",
            "Epoch 5/50\n",
            "191/191 [==============================] - 5s 27ms/step - loss: 0.4029 - accuracy: 0.8291 - val_loss: 0.4613 - val_accuracy: 0.7978 - lr: 0.0100\n",
            "Epoch 6/50\n",
            "191/191 [==============================] - 5s 28ms/step - loss: 0.3760 - accuracy: 0.8414 - val_loss: 0.4541 - val_accuracy: 0.7978 - lr: 0.0100\n",
            "Epoch 7/50\n",
            "191/191 [==============================] - 5s 27ms/step - loss: 0.3506 - accuracy: 0.8548 - val_loss: 0.4733 - val_accuracy: 0.7978 - lr: 0.0100\n",
            "Epoch 8/50\n",
            "191/191 [==============================] - 5s 27ms/step - loss: 0.3385 - accuracy: 0.8609 - val_loss: 0.5027 - val_accuracy: 0.7938 - lr: 0.0100\n",
            "Epoch 9/50\n",
            "191/191 [==============================] - 5s 28ms/step - loss: 0.3356 - accuracy: 0.8612 - val_loss: 0.5283 - val_accuracy: 0.7722 - lr: 0.0100\n",
            "Epoch 10/50\n",
            "191/191 [==============================] - 5s 28ms/step - loss: 0.3126 - accuracy: 0.8716 - val_loss: 0.4986 - val_accuracy: 0.7984 - lr: 0.0100\n",
            "Epoch 11/50\n",
            "191/191 [==============================] - 5s 28ms/step - loss: 0.3154 - accuracy: 0.8703 - val_loss: 0.4819 - val_accuracy: 0.8017 - lr: 0.0100\n",
            "Epoch 12/50\n",
            "191/191 [==============================] - 5s 28ms/step - loss: 0.3112 - accuracy: 0.8739 - val_loss: 0.5144 - val_accuracy: 0.7925 - lr: 0.0100\n",
            "Epoch 13/50\n",
            "191/191 [==============================] - 5s 28ms/step - loss: 0.2980 - accuracy: 0.8770 - val_loss: 0.5145 - val_accuracy: 0.7781 - lr: 0.0100\n",
            "Epoch 14/50\n",
            "189/191 [============================>.] - ETA: 0s - loss: 0.2812 - accuracy: 0.8839\n",
            "Epoch 00014: ReduceLROnPlateau reducing learning rate to 0.001.\n",
            "191/191 [==============================] - 5s 28ms/step - loss: 0.2818 - accuracy: 0.8837 - val_loss: 0.5350 - val_accuracy: 0.7892 - lr: 0.0100\n",
            "Epoch 15/50\n",
            "191/191 [==============================] - 5s 28ms/step - loss: 0.2378 - accuracy: 0.9080 - val_loss: 0.5462 - val_accuracy: 0.7919 - lr: 0.0010\n",
            "Epoch 16/50\n",
            "191/191 [==============================] - 5s 27ms/step - loss: 0.2276 - accuracy: 0.9112 - val_loss: 0.5642 - val_accuracy: 0.7892 - lr: 0.0010\n",
            "Epoch 17/50\n",
            "191/191 [==============================] - 5s 27ms/step - loss: 0.2242 - accuracy: 0.9122 - val_loss: 0.5770 - val_accuracy: 0.7853 - lr: 0.0010\n",
            "Epoch 18/50\n",
            "191/191 [==============================] - 5s 28ms/step - loss: 0.2036 - accuracy: 0.9153 - val_loss: 0.5929 - val_accuracy: 0.7873 - lr: 0.0010\n"
          ]
        }
      ]
    },
    {
      "cell_type": "code",
      "metadata": {
        "colab": {
          "base_uri": "https://localhost:8080/",
          "height": 582
        },
        "id": "rTDQDy0hv1w-",
        "outputId": "1b31b866-4918-479f-c69c-66d62100c981"
      },
      "source": [
        "acc      = history.history['accuracy']\n",
        "val_acc  = history.history['val_accuracy']\n",
        "\n",
        "epochs   = range(len(acc))\n",
        "\n",
        "plt.plot(epochs, acc, 'r', label = 'Training')\n",
        "plt.plot(epochs, val_acc, 'b', label = 'Validation')\n",
        "plt.title('Training and Validation Accuracy')\n",
        "plt.legend()\n",
        "plt.figure()\n",
        "\n",
        "loss     = history.history['loss']\n",
        "val_loss = history.history['val_loss']\n",
        "\n",
        "epochs   = range(len(loss))\n",
        "\n",
        "plt.plot(epochs, loss, 'r', label = 'Training')\n",
        "plt.plot(epochs, val_loss, 'b', label = 'Validation')\n",
        "plt.title('Training and Validation Loss')\n",
        "plt.legend()\n",
        "plt.figure()"
      ],
      "execution_count": 74,
      "outputs": [
        {
          "output_type": "execute_result",
          "data": {
            "text/plain": [
              "<Figure size 432x288 with 0 Axes>"
            ]
          },
          "metadata": {},
          "execution_count": 74
        },
        {
          "output_type": "display_data",
          "data": {
            "image/png": "[encoded data removed]",
            "text/plain": [
              "<Figure size 432x288 with 1 Axes>"
            ]
          },
          "metadata": {
            "needs_background": "light"
          }
        },
        {
          "output_type": "display_data",
          "data": {
            "image/png": "[encoded data removed]",
            "text/plain": [
              "<Figure size 432x288 with 1 Axes>"
            ]
          },
          "metadata": {
            "needs_background": "light"
          }
        },
        {
          "output_type": "display_data",
          "data": {
            "text/plain": [
              "<Figure size 432x288 with 0 Axes>"
            ]
          },
          "metadata": {}
        }
      ]
    },
    {
      "cell_type": "code",
      "metadata": {
        "id": "i2YpOtdpteP0"
      },
      "source": [
        "y_pred = model.predict(testing_padded)"
      ],
      "execution_count": 61,
      "outputs": []
    },
    {
      "cell_type": "code",
      "metadata": {
        "colab": {
          "base_uri": "https://localhost:8080/"
        },
        "id": "ZAMjQuHAtfeJ",
        "outputId": "a0837ec6-e2b2-4cde-cd39-9cbeb2836a5f"
      },
      "source": [
        "y_pred[:10]"
      ],
      "execution_count": 68,
      "outputs": [
        {
          "output_type": "execute_result",
          "data": {
            "text/plain": [
              "array([[0.9995503 ],\n",
              "       [0.29526624],\n",
              "       [0.3775412 ],\n",
              "       [0.01262945],\n",
              "       [0.99658656],\n",
              "       [0.01298267],\n",
              "       [0.01915234],\n",
              "       [0.9977976 ],\n",
              "       [0.2927453 ],\n",
              "       [0.14660385]], dtype=float32)"
            ]
          },
          "metadata": {},
          "execution_count": 68
        }
      ]
    },
    {
      "cell_type": "code",
      "metadata": {
        "id": "lA4enibDtilE"
      },
      "source": [
        "y_pred_upd = []\n",
        "\n",
        "for i in y_pred:\n",
        "    if i[0]<0.50:\n",
        "        y_pred_upd.append(0)\n",
        "    else:\n",
        "        y_pred_upd.append(1)"
      ],
      "execution_count": 64,
      "outputs": []
    },
    {
      "cell_type": "code",
      "metadata": {
        "colab": {
          "base_uri": "https://localhost:8080/"
        },
        "id": "JFfq8NOXuZkF",
        "outputId": "dfed8081-2014-4bf9-8501-6b6f54e28dbf"
      },
      "source": [
        "y_pred_upd[:10]"
      ],
      "execution_count": 69,
      "outputs": [
        {
          "output_type": "execute_result",
          "data": {
            "text/plain": [
              "[1, 0, 0, 0, 1, 0, 0, 1, 0, 0]"
            ]
          },
          "metadata": {},
          "execution_count": 69
        }
      ]
    },
    {
      "cell_type": "code",
      "metadata": {
        "colab": {
          "base_uri": "https://localhost:8080/"
        },
        "id": "T9dackp3us0n",
        "outputId": "1411c572-6d5d-4980-bf72-f3569c4c8739"
      },
      "source": [
        "values, counts = np.unique(y_test, return_counts=True)\n",
        "values, counts"
      ],
      "execution_count": 73,
      "outputs": [
        {
          "output_type": "execute_result",
          "data": {
            "text/plain": [
              "(array([0, 1]), array([869, 654]))"
            ]
          },
          "metadata": {},
          "execution_count": 73
        }
      ]
    },
    {
      "cell_type": "code",
      "metadata": {
        "colab": {
          "base_uri": "https://localhost:8080/"
        },
        "id": "UE_3NqHksuMK",
        "outputId": "4a1afea4-e4e2-402a-8907-b81b4c87de74"
      },
      "source": [
        "from sklearn.metrics import classification_report\n",
        "\n",
        "print(classification_report(y_test, y_pred_upd))"
      ],
      "execution_count": 66,
      "outputs": [
        {
          "output_type": "stream",
          "name": "stdout",
          "text": [
            "              precision    recall  f1-score   support\n",
            "\n",
            "           0       0.79      0.86      0.82       869\n",
            "           1       0.79      0.69      0.74       654\n",
            "\n",
            "    accuracy                           0.79      1523\n",
            "   macro avg       0.79      0.78      0.78      1523\n",
            "weighted avg       0.79      0.79      0.79      1523\n",
            "\n"
          ]
        }
      ]
    },
    {
      "cell_type": "code",
      "metadata": {
        "colab": {
          "base_uri": "https://localhost:8080/"
        },
        "id": "uDvpLFDHsxQd",
        "outputId": "4695b3cf-4d69-47c9-e9e0-4e748f833561"
      },
      "source": [
        "from sklearn.metrics import confusion_matrix\n",
        "\n",
        "confusion_matrix(y_test, y_pred_upd)"
      ],
      "execution_count": 67,
      "outputs": [
        {
          "output_type": "execute_result",
          "data": {
            "text/plain": [
              "array([[747, 122],\n",
              "       [202, 452]])"
            ]
          },
          "metadata": {},
          "execution_count": 67
        }
      ]
    }
  ]
}