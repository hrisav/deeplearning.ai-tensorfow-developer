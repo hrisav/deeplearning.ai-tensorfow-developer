{
  "nbformat": 4,
  "nbformat_minor": 0,
  "metadata": {
    "colab": {
      "name": "02_Auto_MPG.ipynb",
      "provenance": [],
      "collapsed_sections": []
    },
    "kernelspec": {
      "name": "python3",
      "display_name": "Python 3"
    },
    "language_info": {
      "name": "python"
    },
    "accelerator": "GPU"
  },
  "cells": [
    {
      "cell_type": "code",
      "metadata": {
        "id": "3SZJPy4IF-UT"
      },
      "source": [
        "import matplotlib.pyplot as plt\n",
        "import numpy as np\n",
        "import pandas as pd\n",
        "import seaborn as sns"
      ],
      "execution_count": 1,
      "outputs": []
    },
    {
      "cell_type": "code",
      "metadata": {
        "id": "4riRmi2oGWeK"
      },
      "source": [
        "import tensorflow as tf\n",
        "from tensorflow import keras\n",
        "from keras.models import Sequential\n",
        "from keras.layers import Dense, Flatten\n",
        "from tensorflow.keras.layers.experimental import preprocessing\n",
        "from sklearn.metrics import mean_absolute_error"
      ],
      "execution_count": 25,
      "outputs": []
    },
    {
      "cell_type": "code",
      "metadata": {
        "id": "WPBLwqzUGxn0"
      },
      "source": [
        "# https://archive.ics.uci.edu/ml/datasets/Auto+MPG\n",
        "\n",
        "url = 'http://archive.ics.uci.edu/ml/machine-learning-databases/auto-mpg/auto-mpg.data'\n",
        "column_names = ['MPG', 'Cylinders', 'Displacement', 'Horsepower', 'Weight',\n",
        "                'Acceleration', 'Model Year', 'Origin']\n",
        "\n",
        "df = pd.read_csv(url, names=column_names, na_values='?',\n",
        "                      comment='\\t', sep=' ', skipinitialspace=True)"
      ],
      "execution_count": 3,
      "outputs": []
    },
    {
      "cell_type": "code",
      "metadata": {
        "colab": {
          "base_uri": "https://localhost:8080/",
          "height": 202
        },
        "id": "AoVYmx_wHGE0",
        "outputId": "ca9e029c-3950-4e01-a46f-8e82946b6e5e"
      },
      "source": [
        "df.head()"
      ],
      "execution_count": 4,
      "outputs": [
        {
          "output_type": "execute_result",
          "data": {
            "text/html": [
              "<div>\n",
              "<style scoped>\n",
              "    .dataframe tbody tr th:only-of-type {\n",
              "        vertical-align: middle;\n",
              "    }\n",
              "\n",
              "    .dataframe tbody tr th {\n",
              "        vertical-align: top;\n",
              "    }\n",
              "\n",
              "    .dataframe thead th {\n",
              "        text-align: right;\n",
              "    }\n",
              "</style>\n",
              "<table border=\"1\" class=\"dataframe\">\n",
              "  <thead>\n",
              "    <tr style=\"text-align: right;\">\n",
              "      <th></th>\n",
              "      <th>MPG</th>\n",
              "      <th>Cylinders</th>\n",
              "      <th>Displacement</th>\n",
              "      <th>Horsepower</th>\n",
              "      <th>Weight</th>\n",
              "      <th>Acceleration</th>\n",
              "      <th>Model Year</th>\n",
              "      <th>Origin</th>\n",
              "    </tr>\n",
              "  </thead>\n",
              "  <tbody>\n",
              "    <tr>\n",
              "      <th>0</th>\n",
              "      <td>18.0</td>\n",
              "      <td>8</td>\n",
              "      <td>307.0</td>\n",
              "      <td>130.0</td>\n",
              "      <td>3504.0</td>\n",
              "      <td>12.0</td>\n",
              "      <td>70</td>\n",
              "      <td>1</td>\n",
              "    </tr>\n",
              "    <tr>\n",
              "      <th>1</th>\n",
              "      <td>15.0</td>\n",
              "      <td>8</td>\n",
              "      <td>350.0</td>\n",
              "      <td>165.0</td>\n",
              "      <td>3693.0</td>\n",
              "      <td>11.5</td>\n",
              "      <td>70</td>\n",
              "      <td>1</td>\n",
              "    </tr>\n",
              "    <tr>\n",
              "      <th>2</th>\n",
              "      <td>18.0</td>\n",
              "      <td>8</td>\n",
              "      <td>318.0</td>\n",
              "      <td>150.0</td>\n",
              "      <td>3436.0</td>\n",
              "      <td>11.0</td>\n",
              "      <td>70</td>\n",
              "      <td>1</td>\n",
              "    </tr>\n",
              "    <tr>\n",
              "      <th>3</th>\n",
              "      <td>16.0</td>\n",
              "      <td>8</td>\n",
              "      <td>304.0</td>\n",
              "      <td>150.0</td>\n",
              "      <td>3433.0</td>\n",
              "      <td>12.0</td>\n",
              "      <td>70</td>\n",
              "      <td>1</td>\n",
              "    </tr>\n",
              "    <tr>\n",
              "      <th>4</th>\n",
              "      <td>17.0</td>\n",
              "      <td>8</td>\n",
              "      <td>302.0</td>\n",
              "      <td>140.0</td>\n",
              "      <td>3449.0</td>\n",
              "      <td>10.5</td>\n",
              "      <td>70</td>\n",
              "      <td>1</td>\n",
              "    </tr>\n",
              "  </tbody>\n",
              "</table>\n",
              "</div>"
            ],
            "text/plain": [
              "    MPG  Cylinders  Displacement  ...  Acceleration  Model Year  Origin\n",
              "0  18.0          8         307.0  ...          12.0          70       1\n",
              "1  15.0          8         350.0  ...          11.5          70       1\n",
              "2  18.0          8         318.0  ...          11.0          70       1\n",
              "3  16.0          8         304.0  ...          12.0          70       1\n",
              "4  17.0          8         302.0  ...          10.5          70       1\n",
              "\n",
              "[5 rows x 8 columns]"
            ]
          },
          "metadata": {},
          "execution_count": 4
        }
      ]
    },
    {
      "cell_type": "code",
      "metadata": {
        "colab": {
          "base_uri": "https://localhost:8080/"
        },
        "id": "1Ru6_T3yHIB3",
        "outputId": "c324d1b3-4061-4607-c493-954a09fb84db"
      },
      "source": [
        "df.isnull().sum()"
      ],
      "execution_count": null,
      "outputs": [
        {
          "output_type": "execute_result",
          "data": {
            "text/plain": [
              "MPG             0\n",
              "Cylinders       0\n",
              "Displacement    0\n",
              "Horsepower      6\n",
              "Weight          0\n",
              "Acceleration    0\n",
              "Model Year      0\n",
              "Origin          0\n",
              "dtype: int64"
            ]
          },
          "metadata": {},
          "execution_count": 7
        }
      ]
    },
    {
      "cell_type": "code",
      "metadata": {
        "id": "FFLLhDQOHLY5"
      },
      "source": [
        "df = df.dropna()"
      ],
      "execution_count": 5,
      "outputs": []
    },
    {
      "cell_type": "code",
      "metadata": {
        "colab": {
          "base_uri": "https://localhost:8080/"
        },
        "id": "ZH7fhrR5Halx",
        "outputId": "8757326c-8c08-4cfc-9f2a-506f09cf2a4a"
      },
      "source": [
        "df.shape"
      ],
      "execution_count": null,
      "outputs": [
        {
          "output_type": "execute_result",
          "data": {
            "text/plain": [
              "(392, 8)"
            ]
          },
          "metadata": {},
          "execution_count": 9
        }
      ]
    },
    {
      "cell_type": "code",
      "metadata": {
        "colab": {
          "base_uri": "https://localhost:8080/"
        },
        "id": "gK5HmeanHb_j",
        "outputId": "0f2c7074-bdda-40b5-cc30-1ca6a88fbe02"
      },
      "source": [
        "df['Origin'].value_counts()"
      ],
      "execution_count": null,
      "outputs": [
        {
          "output_type": "execute_result",
          "data": {
            "text/plain": [
              "1    245\n",
              "3     79\n",
              "2     68\n",
              "Name: Origin, dtype: int64"
            ]
          },
          "metadata": {},
          "execution_count": 10
        }
      ]
    },
    {
      "cell_type": "code",
      "metadata": {
        "colab": {
          "base_uri": "https://localhost:8080/"
        },
        "id": "1Y-ec-X_HgHJ",
        "outputId": "4ad05859-834b-4f20-f050-439c1bc65c02"
      },
      "source": [
        "df.dtypes"
      ],
      "execution_count": null,
      "outputs": [
        {
          "output_type": "execute_result",
          "data": {
            "text/plain": [
              "MPG             float64\n",
              "Cylinders         int64\n",
              "Displacement    float64\n",
              "Horsepower      float64\n",
              "Weight          float64\n",
              "Acceleration    float64\n",
              "Model Year        int64\n",
              "Origin            int64\n",
              "dtype: object"
            ]
          },
          "metadata": {},
          "execution_count": 11
        }
      ]
    },
    {
      "cell_type": "code",
      "metadata": {
        "id": "ZOpy5gEuHiUE"
      },
      "source": [
        "X = df.drop(['MPG'], axis=1)\n",
        "y = df['MPG']"
      ],
      "execution_count": 6,
      "outputs": []
    },
    {
      "cell_type": "code",
      "metadata": {
        "id": "Ewc6E6cJIwy0"
      },
      "source": [
        "from sklearn.model_selection import train_test_split\n",
        "\n",
        "X_train, X_test, y_train, y_test = train_test_split(X, y, test_size = 0.2, random_state = 20)"
      ],
      "execution_count": 7,
      "outputs": []
    },
    {
      "cell_type": "code",
      "metadata": {
        "colab": {
          "base_uri": "https://localhost:8080/"
        },
        "id": "FXjFkDn7JG5-",
        "outputId": "cdf94f76-589e-46a5-a021-95238c41e7b8"
      },
      "source": [
        "X_train.shape, X_test.shape, y_train.shape, y_test.shape"
      ],
      "execution_count": null,
      "outputs": [
        {
          "output_type": "execute_result",
          "data": {
            "text/plain": [
              "((313, 7), (79, 7), (313,), (79,))"
            ]
          },
          "metadata": {},
          "execution_count": 14
        }
      ]
    },
    {
      "cell_type": "code",
      "metadata": {
        "colab": {
          "base_uri": "https://localhost:8080/",
          "height": 282
        },
        "id": "MbOBrbIpJhWr",
        "outputId": "c5a23bfa-dcab-45ff-dfcf-6812f41daebb"
      },
      "source": [
        "plt.scatter(df['Horsepower'], df['MPG'], color='b')"
      ],
      "execution_count": null,
      "outputs": [
        {
          "output_type": "execute_result",
          "data": {
            "text/plain": [
              "<matplotlib.collections.PathCollection at 0x7f991e40bbd0>"
            ]
          },
          "metadata": {},
          "execution_count": 18
        },
        {
          "output_type": "display_data",
          "data": {
            "image/png": "[encoded data removed]",
            "text/plain": [
              "<Figure size 432x288 with 1 Axes>"
            ]
          },
          "metadata": {
            "needs_background": "light"
          }
        }
      ]
    },
    {
      "cell_type": "code",
      "metadata": {
        "colab": {
          "base_uri": "https://localhost:8080/",
          "height": 282
        },
        "id": "QiGfvl9MJ2oz",
        "outputId": "d708745c-b300-439f-d44f-e0df63d5ce48"
      },
      "source": [
        "plt.scatter(df['Weight'], df['MPG'], color='b')"
      ],
      "execution_count": null,
      "outputs": [
        {
          "output_type": "execute_result",
          "data": {
            "text/plain": [
              "<matplotlib.collections.PathCollection at 0x7f991e38ef50>"
            ]
          },
          "metadata": {},
          "execution_count": 19
        },
        {
          "output_type": "display_data",
          "data": {
            "image/png": "[encoded data removed]",
            "text/plain": [
              "<Figure size 432x288 with 1 Axes>"
            ]
          },
          "metadata": {
            "needs_background": "light"
          }
        }
      ]
    },
    {
      "cell_type": "code",
      "metadata": {
        "id": "fm6kdVS9O6Fa"
      },
      "source": [
        "from sklearn.preprocessing import MinMaxScaler\n",
        "\n",
        "norm = MinMaxScaler(feature_range = (0, 1)).fit(X_train)\n",
        "X_train_norm = norm.transform(X_train)\n",
        "X_test_norm = norm.transform(X_test)"
      ],
      "execution_count": 11,
      "outputs": []
    },
    {
      "cell_type": "code",
      "metadata": {
        "id": "Uo7ALbHBKbzb"
      },
      "source": [
        "model = Sequential()\n",
        "model.add(Dense(64, activation='relu'))\n",
        "model.add(Dense(64, activation='relu'))\n",
        "model.add(Dense(1))"
      ],
      "execution_count": 21,
      "outputs": []
    },
    {
      "cell_type": "code",
      "metadata": {
        "id": "UrD458RULL1B"
      },
      "source": [
        "loss = keras.losses.MeanAbsoluteError()\n",
        "optimizer = keras.optimizers.Adam(learning_rate=0.001)\n",
        "\n",
        "model.compile(loss = loss, optimizer = optimizer)"
      ],
      "execution_count": 22,
      "outputs": []
    },
    {
      "cell_type": "code",
      "metadata": {
        "colab": {
          "base_uri": "https://localhost:8080/"
        },
        "id": "TZvSMNGt9Lrr",
        "outputId": "17603e99-a7e3-4917-fdeb-9b5de5167c84"
      },
      "source": [
        "model.fit(X_train_norm, y_train, epochs=50, verbose=1, validation_split = 0.2)"
      ],
      "execution_count": 23,
      "outputs": [
        {
          "output_type": "stream",
          "name": "stdout",
          "text": [
            "Epoch 1/50\n",
            "8/8 [==============================] - 1s 26ms/step - loss: 23.5235 - val_loss: 22.1406\n",
            "Epoch 2/50\n",
            "8/8 [==============================] - 0s 6ms/step - loss: 23.0591 - val_loss: 21.6121\n",
            "Epoch 3/50\n",
            "8/8 [==============================] - 0s 5ms/step - loss: 22.5167 - val_loss: 20.9669\n",
            "Epoch 4/50\n",
            "8/8 [==============================] - 0s 6ms/step - loss: 21.8329 - val_loss: 20.1181\n",
            "Epoch 5/50\n",
            "8/8 [==============================] - 0s 6ms/step - loss: 20.9258 - val_loss: 18.9952\n",
            "Epoch 6/50\n",
            "8/8 [==============================] - 0s 7ms/step - loss: 19.7141 - val_loss: 17.4884\n",
            "Epoch 7/50\n",
            "8/8 [==============================] - 0s 6ms/step - loss: 18.0777 - val_loss: 15.4631\n",
            "Epoch 8/50\n",
            "8/8 [==============================] - 0s 5ms/step - loss: 15.9041 - val_loss: 12.9285\n",
            "Epoch 9/50\n",
            "8/8 [==============================] - 0s 5ms/step - loss: 13.2756 - val_loss: 10.4199\n",
            "Epoch 10/50\n",
            "8/8 [==============================] - 0s 5ms/step - loss: 10.9695 - val_loss: 8.5552\n",
            "Epoch 11/50\n",
            "8/8 [==============================] - 0s 6ms/step - loss: 9.4028 - val_loss: 7.3937\n",
            "Epoch 12/50\n",
            "8/8 [==============================] - 0s 6ms/step - loss: 8.2768 - val_loss: 7.0174\n",
            "Epoch 13/50\n",
            "8/8 [==============================] - 0s 6ms/step - loss: 7.5789 - val_loss: 6.6821\n",
            "Epoch 14/50\n",
            "8/8 [==============================] - 0s 6ms/step - loss: 6.8981 - val_loss: 6.2013\n",
            "Epoch 15/50\n",
            "8/8 [==============================] - 0s 6ms/step - loss: 6.2895 - val_loss: 5.5613\n",
            "Epoch 16/50\n",
            "8/8 [==============================] - 0s 8ms/step - loss: 5.7116 - val_loss: 4.9750\n",
            "Epoch 17/50\n",
            "8/8 [==============================] - 0s 8ms/step - loss: 5.3139 - val_loss: 4.4690\n",
            "Epoch 18/50\n",
            "8/8 [==============================] - 0s 6ms/step - loss: 4.9671 - val_loss: 4.1414\n",
            "Epoch 19/50\n",
            "8/8 [==============================] - 0s 6ms/step - loss: 4.6847 - val_loss: 3.9268\n",
            "Epoch 20/50\n",
            "8/8 [==============================] - 0s 5ms/step - loss: 4.5018 - val_loss: 3.8201\n",
            "Epoch 21/50\n",
            "8/8 [==============================] - 0s 6ms/step - loss: 4.3213 - val_loss: 3.6286\n",
            "Epoch 22/50\n",
            "8/8 [==============================] - 0s 6ms/step - loss: 4.1750 - val_loss: 3.5552\n",
            "Epoch 23/50\n",
            "8/8 [==============================] - 0s 6ms/step - loss: 4.0878 - val_loss: 3.5601\n",
            "Epoch 24/50\n",
            "8/8 [==============================] - 0s 6ms/step - loss: 4.0063 - val_loss: 3.4538\n",
            "Epoch 25/50\n",
            "8/8 [==============================] - 0s 5ms/step - loss: 3.9316 - val_loss: 3.4302\n",
            "Epoch 26/50\n",
            "8/8 [==============================] - 0s 5ms/step - loss: 3.8477 - val_loss: 3.3270\n",
            "Epoch 27/50\n",
            "8/8 [==============================] - 0s 6ms/step - loss: 3.8119 - val_loss: 3.2451\n",
            "Epoch 28/50\n",
            "8/8 [==============================] - 0s 5ms/step - loss: 3.7391 - val_loss: 3.3102\n",
            "Epoch 29/50\n",
            "8/8 [==============================] - 0s 6ms/step - loss: 3.6647 - val_loss: 3.1945\n",
            "Epoch 30/50\n",
            "8/8 [==============================] - 0s 6ms/step - loss: 3.6165 - val_loss: 3.1402\n",
            "Epoch 31/50\n",
            "8/8 [==============================] - 0s 6ms/step - loss: 3.5655 - val_loss: 3.1016\n",
            "Epoch 32/50\n",
            "8/8 [==============================] - 0s 9ms/step - loss: 3.5334 - val_loss: 3.0653\n",
            "Epoch 33/50\n",
            "8/8 [==============================] - 0s 6ms/step - loss: 3.4784 - val_loss: 3.0409\n",
            "Epoch 34/50\n",
            "8/8 [==============================] - 0s 6ms/step - loss: 3.4400 - val_loss: 2.9998\n",
            "Epoch 35/50\n",
            "8/8 [==============================] - 0s 5ms/step - loss: 3.4003 - val_loss: 2.9728\n",
            "Epoch 36/50\n",
            "8/8 [==============================] - 0s 6ms/step - loss: 3.3637 - val_loss: 2.9225\n",
            "Epoch 37/50\n",
            "8/8 [==============================] - 0s 6ms/step - loss: 3.3239 - val_loss: 2.8973\n",
            "Epoch 38/50\n",
            "8/8 [==============================] - 0s 5ms/step - loss: 3.2790 - val_loss: 2.8555\n",
            "Epoch 39/50\n",
            "8/8 [==============================] - 0s 5ms/step - loss: 3.2498 - val_loss: 2.8213\n",
            "Epoch 40/50\n",
            "8/8 [==============================] - 0s 6ms/step - loss: 3.1965 - val_loss: 2.8229\n",
            "Epoch 41/50\n",
            "8/8 [==============================] - 0s 6ms/step - loss: 3.1738 - val_loss: 2.7576\n",
            "Epoch 42/50\n",
            "8/8 [==============================] - 0s 6ms/step - loss: 3.1153 - val_loss: 2.7303\n",
            "Epoch 43/50\n",
            "8/8 [==============================] - 0s 6ms/step - loss: 3.0821 - val_loss: 2.7072\n",
            "Epoch 44/50\n",
            "8/8 [==============================] - 0s 6ms/step - loss: 3.0406 - val_loss: 2.6783\n",
            "Epoch 45/50\n",
            "8/8 [==============================] - 0s 6ms/step - loss: 3.0083 - val_loss: 2.6489\n",
            "Epoch 46/50\n",
            "8/8 [==============================] - 0s 6ms/step - loss: 2.9800 - val_loss: 2.6170\n",
            "Epoch 47/50\n",
            "8/8 [==============================] - 0s 7ms/step - loss: 2.9461 - val_loss: 2.5940\n",
            "Epoch 48/50\n",
            "8/8 [==============================] - 0s 6ms/step - loss: 2.9135 - val_loss: 2.5734\n",
            "Epoch 49/50\n",
            "8/8 [==============================] - 0s 5ms/step - loss: 2.8977 - val_loss: 2.5551\n",
            "Epoch 50/50\n",
            "8/8 [==============================] - 0s 6ms/step - loss: 2.8436 - val_loss: 2.5733\n"
          ]
        },
        {
          "output_type": "execute_result",
          "data": {
            "text/plain": [
              "<keras.callbacks.History at 0x7f67f09b35d0>"
            ]
          },
          "metadata": {},
          "execution_count": 23
        }
      ]
    },
    {
      "cell_type": "code",
      "metadata": {
        "colab": {
          "base_uri": "https://localhost:8080/"
        },
        "id": "qaucEzKdSOgy",
        "outputId": "6b6327ab-2e11-45f2-d531-eed9a0f4930a"
      },
      "source": [
        "model.evaluate(X_test_norm, y_test, verbose=1)"
      ],
      "execution_count": 27,
      "outputs": [
        {
          "output_type": "stream",
          "name": "stdout",
          "text": [
            "3/3 [==============================] - 0s 5ms/step - loss: 2.4401\n"
          ]
        },
        {
          "output_type": "execute_result",
          "data": {
            "text/plain": [
              "2.4401326179504395"
            ]
          },
          "metadata": {},
          "execution_count": 27
        }
      ]
    },
    {
      "cell_type": "code",
      "metadata": {
        "id": "HWaxm0Tw8Ai6"
      },
      "source": [
        "y_preds = model.predict(X_test_norm)"
      ],
      "execution_count": 24,
      "outputs": []
    },
    {
      "cell_type": "code",
      "metadata": {
        "colab": {
          "base_uri": "https://localhost:8080/"
        },
        "id": "VlIcIObj8hXl",
        "outputId": "54f53fde-0b32-457a-e455-1fd0913271a1"
      },
      "source": [
        "loss = mean_absolute_error(y_preds, y_test)\n",
        "print(loss)"
      ],
      "execution_count": 26,
      "outputs": [
        {
          "output_type": "stream",
          "name": "stdout",
          "text": [
            "2.4401326336438145\n"
          ]
        }
      ]
    }
  ]
}