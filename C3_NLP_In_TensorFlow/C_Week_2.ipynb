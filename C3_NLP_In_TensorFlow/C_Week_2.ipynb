{
  "nbformat": 4,
  "nbformat_minor": 0,
  "metadata": {
    "colab": {
      "name": "C_Week_2.ipynb",
      "provenance": [],
      "collapsed_sections": [],
      "toc_visible": true
    },
    "kernelspec": {
      "name": "python3",
      "display_name": "Python 3"
    },
    "language_info": {
      "name": "python"
    },
    "accelerator": "GPU",
    "widgets": {
      "application/vnd.jupyter.widget-state+json": {
        "4621941ff09c45c291e67d89e75bcc5b": {
          "model_module": "@jupyter-widgets/controls",
          "model_name": "HBoxModel",
          "model_module_version": "1.5.0",
          "state": {
            "_view_name": "HBoxView",
            "_dom_classes": [],
            "_model_name": "HBoxModel",
            "_view_module": "@jupyter-widgets/controls",
            "_model_module_version": "1.5.0",
            "_view_count": null,
            "_view_module_version": "1.5.0",
            "box_style": "",
            "layout": "IPY_MODEL_0f4c81e4f0284db7bc58856229fae0a3",
            "_model_module": "@jupyter-widgets/controls",
            "children": [
              "IPY_MODEL_ecb41d12c01e4bf89c914e3ad42e8a43",
              "IPY_MODEL_45d8720a68c94f29ba82ed3f9bcec044",
              "IPY_MODEL_b72e7cd02ff84d3da1fed8729f4b992e"
            ]
          }
        },
        "0f4c81e4f0284db7bc58856229fae0a3": {
          "model_module": "@jupyter-widgets/base",
          "model_name": "LayoutModel",
          "model_module_version": "1.2.0",
          "state": {
            "_view_name": "LayoutView",
            "grid_template_rows": null,
            "right": null,
            "justify_content": null,
            "_view_module": "@jupyter-widgets/base",
            "overflow": null,
            "_model_module_version": "1.2.0",
            "_view_count": null,
            "flex_flow": null,
            "width": null,
            "min_width": null,
            "border": null,
            "align_items": null,
            "bottom": null,
            "_model_module": "@jupyter-widgets/base",
            "top": null,
            "grid_column": null,
            "overflow_y": null,
            "overflow_x": null,
            "grid_auto_flow": null,
            "grid_area": null,
            "grid_template_columns": null,
            "flex": null,
            "_model_name": "LayoutModel",
            "justify_items": null,
            "grid_row": null,
            "max_height": null,
            "align_content": null,
            "visibility": null,
            "align_self": null,
            "height": null,
            "min_height": null,
            "padding": null,
            "grid_auto_rows": null,
            "grid_gap": null,
            "max_width": null,
            "order": null,
            "_view_module_version": "1.2.0",
            "grid_template_areas": null,
            "object_position": null,
            "object_fit": null,
            "grid_auto_columns": null,
            "margin": null,
            "display": null,
            "left": null
          }
        },
        "ecb41d12c01e4bf89c914e3ad42e8a43": {
          "model_module": "@jupyter-widgets/controls",
          "model_name": "HTMLModel",
          "model_module_version": "1.5.0",
          "state": {
            "_view_name": "HTMLView",
            "style": "IPY_MODEL_adfcf27c41484d0c8819616568eb8201",
            "_dom_classes": [],
            "description": "",
            "_model_name": "HTMLModel",
            "placeholder": "​",
            "_view_module": "@jupyter-widgets/controls",
            "_model_module_version": "1.5.0",
            "value": "Dl Completed...: 100%",
            "_view_count": null,
            "_view_module_version": "1.5.0",
            "description_tooltip": null,
            "_model_module": "@jupyter-widgets/controls",
            "layout": "IPY_MODEL_4d5db6fe4341484eb77bc3e816cb8794"
          }
        },
        "45d8720a68c94f29ba82ed3f9bcec044": {
          "model_module": "@jupyter-widgets/controls",
          "model_name": "FloatProgressModel",
          "model_module_version": "1.5.0",
          "state": {
            "_view_name": "ProgressView",
            "style": "IPY_MODEL_6f56dd58f9ee45dcaacae2a0faf9ebc3",
            "_dom_classes": [],
            "description": "",
            "_model_name": "FloatProgressModel",
            "bar_style": "success",
            "max": 1,
            "_view_module": "@jupyter-widgets/controls",
            "_model_module_version": "1.5.0",
            "value": 1,
            "_view_count": null,
            "_view_module_version": "1.5.0",
            "orientation": "horizontal",
            "min": 0,
            "description_tooltip": null,
            "_model_module": "@jupyter-widgets/controls",
            "layout": "IPY_MODEL_7e6e0ff75119419c9aa88acece1adce2"
          }
        },
        "b72e7cd02ff84d3da1fed8729f4b992e": {
          "model_module": "@jupyter-widgets/controls",
          "model_name": "HTMLModel",
          "model_module_version": "1.5.0",
          "state": {
            "_view_name": "HTMLView",
            "style": "IPY_MODEL_6336d50c3b1f457ebf3121a24c0e654c",
            "_dom_classes": [],
            "description": "",
            "_model_name": "HTMLModel",
            "placeholder": "​",
            "_view_module": "@jupyter-widgets/controls",
            "_model_module_version": "1.5.0",
            "value": " 1/1 [00:07&lt;00:00,  7.38s/ url]",
            "_view_count": null,
            "_view_module_version": "1.5.0",
            "description_tooltip": null,
            "_model_module": "@jupyter-widgets/controls",
            "layout": "IPY_MODEL_20033347c45a4d49aefa45975ee92489"
          }
        },
        "adfcf27c41484d0c8819616568eb8201": {
          "model_module": "@jupyter-widgets/controls",
          "model_name": "DescriptionStyleModel",
          "model_module_version": "1.5.0",
          "state": {
            "_view_name": "StyleView",
            "_model_name": "DescriptionStyleModel",
            "description_width": "",
            "_view_module": "@jupyter-widgets/base",
            "_model_module_version": "1.5.0",
            "_view_count": null,
            "_view_module_version": "1.2.0",
            "_model_module": "@jupyter-widgets/controls"
          }
        },
        "4d5db6fe4341484eb77bc3e816cb8794": {
          "model_module": "@jupyter-widgets/base",
          "model_name": "LayoutModel",
          "model_module_version": "1.2.0",
          "state": {
            "_view_name": "LayoutView",
            "grid_template_rows": null,
            "right": null,
            "justify_content": null,
            "_view_module": "@jupyter-widgets/base",
            "overflow": null,
            "_model_module_version": "1.2.0",
            "_view_count": null,
            "flex_flow": null,
            "width": null,
            "min_width": null,
            "border": null,
            "align_items": null,
            "bottom": null,
            "_model_module": "@jupyter-widgets/base",
            "top": null,
            "grid_column": null,
            "overflow_y": null,
            "overflow_x": null,
            "grid_auto_flow": null,
            "grid_area": null,
            "grid_template_columns": null,
            "flex": null,
            "_model_name": "LayoutModel",
            "justify_items": null,
            "grid_row": null,
            "max_height": null,
            "align_content": null,
            "visibility": null,
            "align_self": null,
            "height": null,
            "min_height": null,
            "padding": null,
            "grid_auto_rows": null,
            "grid_gap": null,
            "max_width": null,
            "order": null,
            "_view_module_version": "1.2.0",
            "grid_template_areas": null,
            "object_position": null,
            "object_fit": null,
            "grid_auto_columns": null,
            "margin": null,
            "display": null,
            "left": null
          }
        },
        "6f56dd58f9ee45dcaacae2a0faf9ebc3": {
          "model_module": "@jupyter-widgets/controls",
          "model_name": "ProgressStyleModel",
          "model_module_version": "1.5.0",
          "state": {
            "_view_name": "StyleView",
            "_model_name": "ProgressStyleModel",
            "description_width": "",
            "_view_module": "@jupyter-widgets/base",
            "_model_module_version": "1.5.0",
            "_view_count": null,
            "_view_module_version": "1.2.0",
            "bar_color": null,
            "_model_module": "@jupyter-widgets/controls"
          }
        },
        "7e6e0ff75119419c9aa88acece1adce2": {
          "model_module": "@jupyter-widgets/base",
          "model_name": "LayoutModel",
          "model_module_version": "1.2.0",
          "state": {
            "_view_name": "LayoutView",
            "grid_template_rows": null,
            "right": null,
            "justify_content": null,
            "_view_module": "@jupyter-widgets/base",
            "overflow": null,
            "_model_module_version": "1.2.0",
            "_view_count": null,
            "flex_flow": null,
            "width": "20px",
            "min_width": null,
            "border": null,
            "align_items": null,
            "bottom": null,
            "_model_module": "@jupyter-widgets/base",
            "top": null,
            "grid_column": null,
            "overflow_y": null,
            "overflow_x": null,
            "grid_auto_flow": null,
            "grid_area": null,
            "grid_template_columns": null,
            "flex": null,
            "_model_name": "LayoutModel",
            "justify_items": null,
            "grid_row": null,
            "max_height": null,
            "align_content": null,
            "visibility": null,
            "align_self": null,
            "height": null,
            "min_height": null,
            "padding": null,
            "grid_auto_rows": null,
            "grid_gap": null,
            "max_width": null,
            "order": null,
            "_view_module_version": "1.2.0",
            "grid_template_areas": null,
            "object_position": null,
            "object_fit": null,
            "grid_auto_columns": null,
            "margin": null,
            "display": null,
            "left": null
          }
        },
        "6336d50c3b1f457ebf3121a24c0e654c": {
          "model_module": "@jupyter-widgets/controls",
          "model_name": "DescriptionStyleModel",
          "model_module_version": "1.5.0",
          "state": {
            "_view_name": "StyleView",
            "_model_name": "DescriptionStyleModel",
            "description_width": "",
            "_view_module": "@jupyter-widgets/base",
            "_model_module_version": "1.5.0",
            "_view_count": null,
            "_view_module_version": "1.2.0",
            "_model_module": "@jupyter-widgets/controls"
          }
        },
        "20033347c45a4d49aefa45975ee92489": {
          "model_module": "@jupyter-widgets/base",
          "model_name": "LayoutModel",
          "model_module_version": "1.2.0",
          "state": {
            "_view_name": "LayoutView",
            "grid_template_rows": null,
            "right": null,
            "justify_content": null,
            "_view_module": "@jupyter-widgets/base",
            "overflow": null,
            "_model_module_version": "1.2.0",
            "_view_count": null,
            "flex_flow": null,
            "width": null,
            "min_width": null,
            "border": null,
            "align_items": null,
            "bottom": null,
            "_model_module": "@jupyter-widgets/base",
            "top": null,
            "grid_column": null,
            "overflow_y": null,
            "overflow_x": null,
            "grid_auto_flow": null,
            "grid_area": null,
            "grid_template_columns": null,
            "flex": null,
            "_model_name": "LayoutModel",
            "justify_items": null,
            "grid_row": null,
            "max_height": null,
            "align_content": null,
            "visibility": null,
            "align_self": null,
            "height": null,
            "min_height": null,
            "padding": null,
            "grid_auto_rows": null,
            "grid_gap": null,
            "max_width": null,
            "order": null,
            "_view_module_version": "1.2.0",
            "grid_template_areas": null,
            "object_position": null,
            "object_fit": null,
            "grid_auto_columns": null,
            "margin": null,
            "display": null,
            "left": null
          }
        },
        "abc20156bfc14f4b947881e878dfea15": {
          "model_module": "@jupyter-widgets/controls",
          "model_name": "HBoxModel",
          "model_module_version": "1.5.0",
          "state": {
            "_view_name": "HBoxView",
            "_dom_classes": [],
            "_model_name": "HBoxModel",
            "_view_module": "@jupyter-widgets/controls",
            "_model_module_version": "1.5.0",
            "_view_count": null,
            "_view_module_version": "1.5.0",
            "box_style": "",
            "layout": "IPY_MODEL_2503ed09cc8f4d88a8880a8eac19f1cd",
            "_model_module": "@jupyter-widgets/controls",
            "children": [
              "IPY_MODEL_881fb7ee375d4ac082c3b2b215ec5acd",
              "IPY_MODEL_4dbe56956f5f4f69889a28d5543c622c",
              "IPY_MODEL_2f68a0e4b9c54ff5aba09ebf70ee31d5"
            ]
          }
        },
        "2503ed09cc8f4d88a8880a8eac19f1cd": {
          "model_module": "@jupyter-widgets/base",
          "model_name": "LayoutModel",
          "model_module_version": "1.2.0",
          "state": {
            "_view_name": "LayoutView",
            "grid_template_rows": null,
            "right": null,
            "justify_content": null,
            "_view_module": "@jupyter-widgets/base",
            "overflow": null,
            "_model_module_version": "1.2.0",
            "_view_count": null,
            "flex_flow": null,
            "width": null,
            "min_width": null,
            "border": null,
            "align_items": null,
            "bottom": null,
            "_model_module": "@jupyter-widgets/base",
            "top": null,
            "grid_column": null,
            "overflow_y": null,
            "overflow_x": null,
            "grid_auto_flow": null,
            "grid_area": null,
            "grid_template_columns": null,
            "flex": null,
            "_model_name": "LayoutModel",
            "justify_items": null,
            "grid_row": null,
            "max_height": null,
            "align_content": null,
            "visibility": null,
            "align_self": null,
            "height": null,
            "min_height": null,
            "padding": null,
            "grid_auto_rows": null,
            "grid_gap": null,
            "max_width": null,
            "order": null,
            "_view_module_version": "1.2.0",
            "grid_template_areas": null,
            "object_position": null,
            "object_fit": null,
            "grid_auto_columns": null,
            "margin": null,
            "display": null,
            "left": null
          }
        },
        "881fb7ee375d4ac082c3b2b215ec5acd": {
          "model_module": "@jupyter-widgets/controls",
          "model_name": "HTMLModel",
          "model_module_version": "1.5.0",
          "state": {
            "_view_name": "HTMLView",
            "style": "IPY_MODEL_9f62fb0d096246e19b7c12069467a287",
            "_dom_classes": [],
            "description": "",
            "_model_name": "HTMLModel",
            "placeholder": "​",
            "_view_module": "@jupyter-widgets/controls",
            "_model_module_version": "1.5.0",
            "value": "Dl Size...: 100%",
            "_view_count": null,
            "_view_module_version": "1.5.0",
            "description_tooltip": null,
            "_model_module": "@jupyter-widgets/controls",
            "layout": "IPY_MODEL_ec2c91117ff94705b2eb07ff53fd4017"
          }
        },
        "4dbe56956f5f4f69889a28d5543c622c": {
          "model_module": "@jupyter-widgets/controls",
          "model_name": "FloatProgressModel",
          "model_module_version": "1.5.0",
          "state": {
            "_view_name": "ProgressView",
            "style": "IPY_MODEL_a00c5288ae0141f9a905ac08e01d7036",
            "_dom_classes": [],
            "description": "",
            "_model_name": "FloatProgressModel",
            "bar_style": "success",
            "max": 1,
            "_view_module": "@jupyter-widgets/controls",
            "_model_module_version": "1.5.0",
            "value": 1,
            "_view_count": null,
            "_view_module_version": "1.5.0",
            "orientation": "horizontal",
            "min": 0,
            "description_tooltip": null,
            "_model_module": "@jupyter-widgets/controls",
            "layout": "IPY_MODEL_938fd38274284366bc0dd649398c1001"
          }
        },
        "2f68a0e4b9c54ff5aba09ebf70ee31d5": {
          "model_module": "@jupyter-widgets/controls",
          "model_name": "HTMLModel",
          "model_module_version": "1.5.0",
          "state": {
            "_view_name": "HTMLView",
            "style": "IPY_MODEL_b19cdc3c483849ee8c648ffc5ff36270",
            "_dom_classes": [],
            "description": "",
            "_model_name": "HTMLModel",
            "placeholder": "​",
            "_view_module": "@jupyter-widgets/controls",
            "_model_module_version": "1.5.0",
            "value": " 80/80 [00:07&lt;00:00, 15.86 MiB/s]",
            "_view_count": null,
            "_view_module_version": "1.5.0",
            "description_tooltip": null,
            "_model_module": "@jupyter-widgets/controls",
            "layout": "IPY_MODEL_590c4949683442daaa407a630132b9e5"
          }
        },
        "9f62fb0d096246e19b7c12069467a287": {
          "model_module": "@jupyter-widgets/controls",
          "model_name": "DescriptionStyleModel",
          "model_module_version": "1.5.0",
          "state": {
            "_view_name": "StyleView",
            "_model_name": "DescriptionStyleModel",
            "description_width": "",
            "_view_module": "@jupyter-widgets/base",
            "_model_module_version": "1.5.0",
            "_view_count": null,
            "_view_module_version": "1.2.0",
            "_model_module": "@jupyter-widgets/controls"
          }
        },
        "ec2c91117ff94705b2eb07ff53fd4017": {
          "model_module": "@jupyter-widgets/base",
          "model_name": "LayoutModel",
          "model_module_version": "1.2.0",
          "state": {
            "_view_name": "LayoutView",
            "grid_template_rows": null,
            "right": null,
            "justify_content": null,
            "_view_module": "@jupyter-widgets/base",
            "overflow": null,
            "_model_module_version": "1.2.0",
            "_view_count": null,
            "flex_flow": null,
            "width": null,
            "min_width": null,
            "border": null,
            "align_items": null,
            "bottom": null,
            "_model_module": "@jupyter-widgets/base",
            "top": null,
            "grid_column": null,
            "overflow_y": null,
            "overflow_x": null,
            "grid_auto_flow": null,
            "grid_area": null,
            "grid_template_columns": null,
            "flex": null,
            "_model_name": "LayoutModel",
            "justify_items": null,
            "grid_row": null,
            "max_height": null,
            "align_content": null,
            "visibility": null,
            "align_self": null,
            "height": null,
            "min_height": null,
            "padding": null,
            "grid_auto_rows": null,
            "grid_gap": null,
            "max_width": null,
            "order": null,
            "_view_module_version": "1.2.0",
            "grid_template_areas": null,
            "object_position": null,
            "object_fit": null,
            "grid_auto_columns": null,
            "margin": null,
            "display": null,
            "left": null
          }
        },
        "a00c5288ae0141f9a905ac08e01d7036": {
          "model_module": "@jupyter-widgets/controls",
          "model_name": "ProgressStyleModel",
          "model_module_version": "1.5.0",
          "state": {
            "_view_name": "StyleView",
            "_model_name": "ProgressStyleModel",
            "description_width": "",
            "_view_module": "@jupyter-widgets/base",
            "_model_module_version": "1.5.0",
            "_view_count": null,
            "_view_module_version": "1.2.0",
            "bar_color": null,
            "_model_module": "@jupyter-widgets/controls"
          }
        },
        "938fd38274284366bc0dd649398c1001": {
          "model_module": "@jupyter-widgets/base",
          "model_name": "LayoutModel",
          "model_module_version": "1.2.0",
          "state": {
            "_view_name": "LayoutView",
            "grid_template_rows": null,
            "right": null,
            "justify_content": null,
            "_view_module": "@jupyter-widgets/base",
            "overflow": null,
            "_model_module_version": "1.2.0",
            "_view_count": null,
            "flex_flow": null,
            "width": "20px",
            "min_width": null,
            "border": null,
            "align_items": null,
            "bottom": null,
            "_model_module": "@jupyter-widgets/base",
            "top": null,
            "grid_column": null,
            "overflow_y": null,
            "overflow_x": null,
            "grid_auto_flow": null,
            "grid_area": null,
            "grid_template_columns": null,
            "flex": null,
            "_model_name": "LayoutModel",
            "justify_items": null,
            "grid_row": null,
            "max_height": null,
            "align_content": null,
            "visibility": null,
            "align_self": null,
            "height": null,
            "min_height": null,
            "padding": null,
            "grid_auto_rows": null,
            "grid_gap": null,
            "max_width": null,
            "order": null,
            "_view_module_version": "1.2.0",
            "grid_template_areas": null,
            "object_position": null,
            "object_fit": null,
            "grid_auto_columns": null,
            "margin": null,
            "display": null,
            "left": null
          }
        },
        "b19cdc3c483849ee8c648ffc5ff36270": {
          "model_module": "@jupyter-widgets/controls",
          "model_name": "DescriptionStyleModel",
          "model_module_version": "1.5.0",
          "state": {
            "_view_name": "StyleView",
            "_model_name": "DescriptionStyleModel",
            "description_width": "",
            "_view_module": "@jupyter-widgets/base",
            "_model_module_version": "1.5.0",
            "_view_count": null,
            "_view_module_version": "1.2.0",
            "_model_module": "@jupyter-widgets/controls"
          }
        },
        "590c4949683442daaa407a630132b9e5": {
          "model_module": "@jupyter-widgets/base",
          "model_name": "LayoutModel",
          "model_module_version": "1.2.0",
          "state": {
            "_view_name": "LayoutView",
            "grid_template_rows": null,
            "right": null,
            "justify_content": null,
            "_view_module": "@jupyter-widgets/base",
            "overflow": null,
            "_model_module_version": "1.2.0",
            "_view_count": null,
            "flex_flow": null,
            "width": null,
            "min_width": null,
            "border": null,
            "align_items": null,
            "bottom": null,
            "_model_module": "@jupyter-widgets/base",
            "top": null,
            "grid_column": null,
            "overflow_y": null,
            "overflow_x": null,
            "grid_auto_flow": null,
            "grid_area": null,
            "grid_template_columns": null,
            "flex": null,
            "_model_name": "LayoutModel",
            "justify_items": null,
            "grid_row": null,
            "max_height": null,
            "align_content": null,
            "visibility": null,
            "align_self": null,
            "height": null,
            "min_height": null,
            "padding": null,
            "grid_auto_rows": null,
            "grid_gap": null,
            "max_width": null,
            "order": null,
            "_view_module_version": "1.2.0",
            "grid_template_areas": null,
            "object_position": null,
            "object_fit": null,
            "grid_auto_columns": null,
            "margin": null,
            "display": null,
            "left": null
          }
        },
        "f4357d13f40c4c82bda91976fba42b26": {
          "model_module": "@jupyter-widgets/controls",
          "model_name": "HBoxModel",
          "model_module_version": "1.5.0",
          "state": {
            "_view_name": "HBoxView",
            "_dom_classes": [],
            "_model_name": "HBoxModel",
            "_view_module": "@jupyter-widgets/controls",
            "_model_module_version": "1.5.0",
            "_view_count": null,
            "_view_module_version": "1.5.0",
            "box_style": "",
            "layout": "IPY_MODEL_fcce4d5d951a4fab8e2554fef60871e7",
            "_model_module": "@jupyter-widgets/controls",
            "children": [
              "IPY_MODEL_067168527a0644308053fe8ad19ce4c1",
              "IPY_MODEL_df3c1eccd8924a84b1564e2892444570",
              "IPY_MODEL_a2db45b407e048a6b06f9b0d98fd45fd"
            ]
          }
        },
        "fcce4d5d951a4fab8e2554fef60871e7": {
          "model_module": "@jupyter-widgets/base",
          "model_name": "LayoutModel",
          "model_module_version": "1.2.0",
          "state": {
            "_view_name": "LayoutView",
            "grid_template_rows": null,
            "right": null,
            "justify_content": null,
            "_view_module": "@jupyter-widgets/base",
            "overflow": null,
            "_model_module_version": "1.2.0",
            "_view_count": null,
            "flex_flow": null,
            "width": null,
            "min_width": null,
            "border": null,
            "align_items": null,
            "bottom": null,
            "_model_module": "@jupyter-widgets/base",
            "top": null,
            "grid_column": null,
            "overflow_y": null,
            "overflow_x": null,
            "grid_auto_flow": null,
            "grid_area": null,
            "grid_template_columns": null,
            "flex": null,
            "_model_name": "LayoutModel",
            "justify_items": null,
            "grid_row": null,
            "max_height": null,
            "align_content": null,
            "visibility": null,
            "align_self": null,
            "height": null,
            "min_height": null,
            "padding": null,
            "grid_auto_rows": null,
            "grid_gap": null,
            "max_width": null,
            "order": null,
            "_view_module_version": "1.2.0",
            "grid_template_areas": null,
            "object_position": null,
            "object_fit": null,
            "grid_auto_columns": null,
            "margin": null,
            "display": null,
            "left": null
          }
        },
        "067168527a0644308053fe8ad19ce4c1": {
          "model_module": "@jupyter-widgets/controls",
          "model_name": "HTMLModel",
          "model_module_version": "1.5.0",
          "state": {
            "_view_name": "HTMLView",
            "style": "IPY_MODEL_750f2072d9ce4caaa65765c65f86ab6c",
            "_dom_classes": [],
            "description": "",
            "_model_name": "HTMLModel",
            "placeholder": "​",
            "_view_module": "@jupyter-widgets/controls",
            "_model_module_version": "1.5.0",
            "value": "Dl Completed...: 100%",
            "_view_count": null,
            "_view_module_version": "1.5.0",
            "description_tooltip": null,
            "_model_module": "@jupyter-widgets/controls",
            "layout": "IPY_MODEL_7653c2acd55d471f9270e1c78694c816"
          }
        },
        "df3c1eccd8924a84b1564e2892444570": {
          "model_module": "@jupyter-widgets/controls",
          "model_name": "FloatProgressModel",
          "model_module_version": "1.5.0",
          "state": {
            "_view_name": "ProgressView",
            "style": "IPY_MODEL_2b548220a320436fba23ff8ad4afd375",
            "_dom_classes": [],
            "description": "",
            "_model_name": "FloatProgressModel",
            "bar_style": "success",
            "max": 1,
            "_view_module": "@jupyter-widgets/controls",
            "_model_module_version": "1.5.0",
            "value": 1,
            "_view_count": null,
            "_view_module_version": "1.5.0",
            "orientation": "horizontal",
            "min": 0,
            "description_tooltip": null,
            "_model_module": "@jupyter-widgets/controls",
            "layout": "IPY_MODEL_5d8953a00c3642b5918e77b2f3829fc0"
          }
        },
        "a2db45b407e048a6b06f9b0d98fd45fd": {
          "model_module": "@jupyter-widgets/controls",
          "model_name": "HTMLModel",
          "model_module_version": "1.5.0",
          "state": {
            "_view_name": "HTMLView",
            "style": "IPY_MODEL_2e9042e220904380a19e9edf9505d09b",
            "_dom_classes": [],
            "description": "",
            "_model_name": "HTMLModel",
            "placeholder": "​",
            "_view_module": "@jupyter-widgets/controls",
            "_model_module_version": "1.5.0",
            "value": " 1/1 [00:06&lt;00:00,  6.78s/ url]",
            "_view_count": null,
            "_view_module_version": "1.5.0",
            "description_tooltip": null,
            "_model_module": "@jupyter-widgets/controls",
            "layout": "IPY_MODEL_3a0daf69bf254e6684e7d0799a1d50e2"
          }
        },
        "750f2072d9ce4caaa65765c65f86ab6c": {
          "model_module": "@jupyter-widgets/controls",
          "model_name": "DescriptionStyleModel",
          "model_module_version": "1.5.0",
          "state": {
            "_view_name": "StyleView",
            "_model_name": "DescriptionStyleModel",
            "description_width": "",
            "_view_module": "@jupyter-widgets/base",
            "_model_module_version": "1.5.0",
            "_view_count": null,
            "_view_module_version": "1.2.0",
            "_model_module": "@jupyter-widgets/controls"
          }
        },
        "7653c2acd55d471f9270e1c78694c816": {
          "model_module": "@jupyter-widgets/base",
          "model_name": "LayoutModel",
          "model_module_version": "1.2.0",
          "state": {
            "_view_name": "LayoutView",
            "grid_template_rows": null,
            "right": null,
            "justify_content": null,
            "_view_module": "@jupyter-widgets/base",
            "overflow": null,
            "_model_module_version": "1.2.0",
            "_view_count": null,
            "flex_flow": null,
            "width": null,
            "min_width": null,
            "border": null,
            "align_items": null,
            "bottom": null,
            "_model_module": "@jupyter-widgets/base",
            "top": null,
            "grid_column": null,
            "overflow_y": null,
            "overflow_x": null,
            "grid_auto_flow": null,
            "grid_area": null,
            "grid_template_columns": null,
            "flex": null,
            "_model_name": "LayoutModel",
            "justify_items": null,
            "grid_row": null,
            "max_height": null,
            "align_content": null,
            "visibility": null,
            "align_self": null,
            "height": null,
            "min_height": null,
            "padding": null,
            "grid_auto_rows": null,
            "grid_gap": null,
            "max_width": null,
            "order": null,
            "_view_module_version": "1.2.0",
            "grid_template_areas": null,
            "object_position": null,
            "object_fit": null,
            "grid_auto_columns": null,
            "margin": null,
            "display": null,
            "left": null
          }
        },
        "2b548220a320436fba23ff8ad4afd375": {
          "model_module": "@jupyter-widgets/controls",
          "model_name": "ProgressStyleModel",
          "model_module_version": "1.5.0",
          "state": {
            "_view_name": "StyleView",
            "_model_name": "ProgressStyleModel",
            "description_width": "",
            "_view_module": "@jupyter-widgets/base",
            "_model_module_version": "1.5.0",
            "_view_count": null,
            "_view_module_version": "1.2.0",
            "bar_color": null,
            "_model_module": "@jupyter-widgets/controls"
          }
        },
        "5d8953a00c3642b5918e77b2f3829fc0": {
          "model_module": "@jupyter-widgets/base",
          "model_name": "LayoutModel",
          "model_module_version": "1.2.0",
          "state": {
            "_view_name": "LayoutView",
            "grid_template_rows": null,
            "right": null,
            "justify_content": null,
            "_view_module": "@jupyter-widgets/base",
            "overflow": null,
            "_model_module_version": "1.2.0",
            "_view_count": null,
            "flex_flow": null,
            "width": "20px",
            "min_width": null,
            "border": null,
            "align_items": null,
            "bottom": null,
            "_model_module": "@jupyter-widgets/base",
            "top": null,
            "grid_column": null,
            "overflow_y": null,
            "overflow_x": null,
            "grid_auto_flow": null,
            "grid_area": null,
            "grid_template_columns": null,
            "flex": null,
            "_model_name": "LayoutModel",
            "justify_items": null,
            "grid_row": null,
            "max_height": null,
            "align_content": null,
            "visibility": null,
            "align_self": null,
            "height": null,
            "min_height": null,
            "padding": null,
            "grid_auto_rows": null,
            "grid_gap": null,
            "max_width": null,
            "order": null,
            "_view_module_version": "1.2.0",
            "grid_template_areas": null,
            "object_position": null,
            "object_fit": null,
            "grid_auto_columns": null,
            "margin": null,
            "display": null,
            "left": null
          }
        },
        "2e9042e220904380a19e9edf9505d09b": {
          "model_module": "@jupyter-widgets/controls",
          "model_name": "DescriptionStyleModel",
          "model_module_version": "1.5.0",
          "state": {
            "_view_name": "StyleView",
            "_model_name": "DescriptionStyleModel",
            "description_width": "",
            "_view_module": "@jupyter-widgets/base",
            "_model_module_version": "1.5.0",
            "_view_count": null,
            "_view_module_version": "1.2.0",
            "_model_module": "@jupyter-widgets/controls"
          }
        },
        "3a0daf69bf254e6684e7d0799a1d50e2": {
          "model_module": "@jupyter-widgets/base",
          "model_name": "LayoutModel",
          "model_module_version": "1.2.0",
          "state": {
            "_view_name": "LayoutView",
            "grid_template_rows": null,
            "right": null,
            "justify_content": null,
            "_view_module": "@jupyter-widgets/base",
            "overflow": null,
            "_model_module_version": "1.2.0",
            "_view_count": null,
            "flex_flow": null,
            "width": null,
            "min_width": null,
            "border": null,
            "align_items": null,
            "bottom": null,
            "_model_module": "@jupyter-widgets/base",
            "top": null,
            "grid_column": null,
            "overflow_y": null,
            "overflow_x": null,
            "grid_auto_flow": null,
            "grid_area": null,
            "grid_template_columns": null,
            "flex": null,
            "_model_name": "LayoutModel",
            "justify_items": null,
            "grid_row": null,
            "max_height": null,
            "align_content": null,
            "visibility": null,
            "align_self": null,
            "height": null,
            "min_height": null,
            "padding": null,
            "grid_auto_rows": null,
            "grid_gap": null,
            "max_width": null,
            "order": null,
            "_view_module_version": "1.2.0",
            "grid_template_areas": null,
            "object_position": null,
            "object_fit": null,
            "grid_auto_columns": null,
            "margin": null,
            "display": null,
            "left": null
          }
        },
        "fc93976e74294983912816d2f350c2bb": {
          "model_module": "@jupyter-widgets/controls",
          "model_name": "HBoxModel",
          "model_module_version": "1.5.0",
          "state": {
            "_view_name": "HBoxView",
            "_dom_classes": [],
            "_model_name": "HBoxModel",
            "_view_module": "@jupyter-widgets/controls",
            "_model_module_version": "1.5.0",
            "_view_count": null,
            "_view_module_version": "1.5.0",
            "box_style": "",
            "layout": "IPY_MODEL_dbdb5740826c4b3793ba9aab1b289970",
            "_model_module": "@jupyter-widgets/controls",
            "children": [
              "IPY_MODEL_087c00ecc32f40bb9d51e6c0c30d19f0",
              "IPY_MODEL_d8b20ae72a0742e2b7836fe906c268f6",
              "IPY_MODEL_6e4df37e3b9f4921835fa0a51b0d963b"
            ]
          }
        },
        "dbdb5740826c4b3793ba9aab1b289970": {
          "model_module": "@jupyter-widgets/base",
          "model_name": "LayoutModel",
          "model_module_version": "1.2.0",
          "state": {
            "_view_name": "LayoutView",
            "grid_template_rows": null,
            "right": null,
            "justify_content": null,
            "_view_module": "@jupyter-widgets/base",
            "overflow": null,
            "_model_module_version": "1.2.0",
            "_view_count": null,
            "flex_flow": null,
            "width": null,
            "min_width": null,
            "border": null,
            "align_items": null,
            "bottom": null,
            "_model_module": "@jupyter-widgets/base",
            "top": null,
            "grid_column": null,
            "overflow_y": null,
            "overflow_x": null,
            "grid_auto_flow": null,
            "grid_area": null,
            "grid_template_columns": null,
            "flex": null,
            "_model_name": "LayoutModel",
            "justify_items": null,
            "grid_row": null,
            "max_height": null,
            "align_content": null,
            "visibility": null,
            "align_self": null,
            "height": null,
            "min_height": null,
            "padding": null,
            "grid_auto_rows": null,
            "grid_gap": null,
            "max_width": null,
            "order": null,
            "_view_module_version": "1.2.0",
            "grid_template_areas": null,
            "object_position": null,
            "object_fit": null,
            "grid_auto_columns": null,
            "margin": null,
            "display": null,
            "left": null
          }
        },
        "087c00ecc32f40bb9d51e6c0c30d19f0": {
          "model_module": "@jupyter-widgets/controls",
          "model_name": "HTMLModel",
          "model_module_version": "1.5.0",
          "state": {
            "_view_name": "HTMLView",
            "style": "IPY_MODEL_8dcdba551f2146758ef743da2159d61d",
            "_dom_classes": [],
            "description": "",
            "_model_name": "HTMLModel",
            "placeholder": "​",
            "_view_module": "@jupyter-widgets/controls",
            "_model_module_version": "1.5.0",
            "value": "Dl Size...: 100%",
            "_view_count": null,
            "_view_module_version": "1.5.0",
            "description_tooltip": null,
            "_model_module": "@jupyter-widgets/controls",
            "layout": "IPY_MODEL_983981c69cac48a4a30c5dc13a6d71f0"
          }
        },
        "d8b20ae72a0742e2b7836fe906c268f6": {
          "model_module": "@jupyter-widgets/controls",
          "model_name": "FloatProgressModel",
          "model_module_version": "1.5.0",
          "state": {
            "_view_name": "ProgressView",
            "style": "IPY_MODEL_c946a2c5c2464f8ca9728dae6bea0bf0",
            "_dom_classes": [],
            "description": "",
            "_model_name": "FloatProgressModel",
            "bar_style": "success",
            "max": 1,
            "_view_module": "@jupyter-widgets/controls",
            "_model_module_version": "1.5.0",
            "value": 1,
            "_view_count": null,
            "_view_module_version": "1.5.0",
            "orientation": "horizontal",
            "min": 0,
            "description_tooltip": null,
            "_model_module": "@jupyter-widgets/controls",
            "layout": "IPY_MODEL_8a046e5d2c28425bb76169f3b5af969c"
          }
        },
        "6e4df37e3b9f4921835fa0a51b0d963b": {
          "model_module": "@jupyter-widgets/controls",
          "model_name": "HTMLModel",
          "model_module_version": "1.5.0",
          "state": {
            "_view_name": "HTMLView",
            "style": "IPY_MODEL_90ad96fc978145e89688c0002386273d",
            "_dom_classes": [],
            "description": "",
            "_model_name": "HTMLModel",
            "placeholder": "​",
            "_view_module": "@jupyter-widgets/controls",
            "_model_module_version": "1.5.0",
            "value": " 80/80 [00:06&lt;00:00, 18.27 MiB/s]",
            "_view_count": null,
            "_view_module_version": "1.5.0",
            "description_tooltip": null,
            "_model_module": "@jupyter-widgets/controls",
            "layout": "IPY_MODEL_3714b035bc594f57b728938081f04f92"
          }
        },
        "8dcdba551f2146758ef743da2159d61d": {
          "model_module": "@jupyter-widgets/controls",
          "model_name": "DescriptionStyleModel",
          "model_module_version": "1.5.0",
          "state": {
            "_view_name": "StyleView",
            "_model_name": "DescriptionStyleModel",
            "description_width": "",
            "_view_module": "@jupyter-widgets/base",
            "_model_module_version": "1.5.0",
            "_view_count": null,
            "_view_module_version": "1.2.0",
            "_model_module": "@jupyter-widgets/controls"
          }
        },
        "983981c69cac48a4a30c5dc13a6d71f0": {
          "model_module": "@jupyter-widgets/base",
          "model_name": "LayoutModel",
          "model_module_version": "1.2.0",
          "state": {
            "_view_name": "LayoutView",
            "grid_template_rows": null,
            "right": null,
            "justify_content": null,
            "_view_module": "@jupyter-widgets/base",
            "overflow": null,
            "_model_module_version": "1.2.0",
            "_view_count": null,
            "flex_flow": null,
            "width": null,
            "min_width": null,
            "border": null,
            "align_items": null,
            "bottom": null,
            "_model_module": "@jupyter-widgets/base",
            "top": null,
            "grid_column": null,
            "overflow_y": null,
            "overflow_x": null,
            "grid_auto_flow": null,
            "grid_area": null,
            "grid_template_columns": null,
            "flex": null,
            "_model_name": "LayoutModel",
            "justify_items": null,
            "grid_row": null,
            "max_height": null,
            "align_content": null,
            "visibility": null,
            "align_self": null,
            "height": null,
            "min_height": null,
            "padding": null,
            "grid_auto_rows": null,
            "grid_gap": null,
            "max_width": null,
            "order": null,
            "_view_module_version": "1.2.0",
            "grid_template_areas": null,
            "object_position": null,
            "object_fit": null,
            "grid_auto_columns": null,
            "margin": null,
            "display": null,
            "left": null
          }
        },
        "c946a2c5c2464f8ca9728dae6bea0bf0": {
          "model_module": "@jupyter-widgets/controls",
          "model_name": "ProgressStyleModel",
          "model_module_version": "1.5.0",
          "state": {
            "_view_name": "StyleView",
            "_model_name": "ProgressStyleModel",
            "description_width": "",
            "_view_module": "@jupyter-widgets/base",
            "_model_module_version": "1.5.0",
            "_view_count": null,
            "_view_module_version": "1.2.0",
            "bar_color": null,
            "_model_module": "@jupyter-widgets/controls"
          }
        },
        "8a046e5d2c28425bb76169f3b5af969c": {
          "model_module": "@jupyter-widgets/base",
          "model_name": "LayoutModel",
          "model_module_version": "1.2.0",
          "state": {
            "_view_name": "LayoutView",
            "grid_template_rows": null,
            "right": null,
            "justify_content": null,
            "_view_module": "@jupyter-widgets/base",
            "overflow": null,
            "_model_module_version": "1.2.0",
            "_view_count": null,
            "flex_flow": null,
            "width": "20px",
            "min_width": null,
            "border": null,
            "align_items": null,
            "bottom": null,
            "_model_module": "@jupyter-widgets/base",
            "top": null,
            "grid_column": null,
            "overflow_y": null,
            "overflow_x": null,
            "grid_auto_flow": null,
            "grid_area": null,
            "grid_template_columns": null,
            "flex": null,
            "_model_name": "LayoutModel",
            "justify_items": null,
            "grid_row": null,
            "max_height": null,
            "align_content": null,
            "visibility": null,
            "align_self": null,
            "height": null,
            "min_height": null,
            "padding": null,
            "grid_auto_rows": null,
            "grid_gap": null,
            "max_width": null,
            "order": null,
            "_view_module_version": "1.2.0",
            "grid_template_areas": null,
            "object_position": null,
            "object_fit": null,
            "grid_auto_columns": null,
            "margin": null,
            "display": null,
            "left": null
          }
        },
        "90ad96fc978145e89688c0002386273d": {
          "model_module": "@jupyter-widgets/controls",
          "model_name": "DescriptionStyleModel",
          "model_module_version": "1.5.0",
          "state": {
            "_view_name": "StyleView",
            "_model_name": "DescriptionStyleModel",
            "description_width": "",
            "_view_module": "@jupyter-widgets/base",
            "_model_module_version": "1.5.0",
            "_view_count": null,
            "_view_module_version": "1.2.0",
            "_model_module": "@jupyter-widgets/controls"
          }
        },
        "3714b035bc594f57b728938081f04f92": {
          "model_module": "@jupyter-widgets/base",
          "model_name": "LayoutModel",
          "model_module_version": "1.2.0",
          "state": {
            "_view_name": "LayoutView",
            "grid_template_rows": null,
            "right": null,
            "justify_content": null,
            "_view_module": "@jupyter-widgets/base",
            "overflow": null,
            "_model_module_version": "1.2.0",
            "_view_count": null,
            "flex_flow": null,
            "width": null,
            "min_width": null,
            "border": null,
            "align_items": null,
            "bottom": null,
            "_model_module": "@jupyter-widgets/base",
            "top": null,
            "grid_column": null,
            "overflow_y": null,
            "overflow_x": null,
            "grid_auto_flow": null,
            "grid_area": null,
            "grid_template_columns": null,
            "flex": null,
            "_model_name": "LayoutModel",
            "justify_items": null,
            "grid_row": null,
            "max_height": null,
            "align_content": null,
            "visibility": null,
            "align_self": null,
            "height": null,
            "min_height": null,
            "padding": null,
            "grid_auto_rows": null,
            "grid_gap": null,
            "max_width": null,
            "order": null,
            "_view_module_version": "1.2.0",
            "grid_template_areas": null,
            "object_position": null,
            "object_fit": null,
            "grid_auto_columns": null,
            "margin": null,
            "display": null,
            "left": null
          }
        }
      }
    }
  },
  "cells": [
    {
      "cell_type": "markdown",
      "metadata": {
        "id": "9OTfHWbzl8Xn"
      },
      "source": [
        "### IMDB Reviews"
      ]
    },
    {
      "cell_type": "code",
      "metadata": {
        "colab": {
          "base_uri": "https://localhost:8080/"
        },
        "id": "KVV28Xz9L7-V",
        "outputId": "164da7e0-3326-4fa4-8300-f2ca7950abe2"
      },
      "source": [
        "import tensorflow as tf\n",
        "print(tf.__version__)"
      ],
      "execution_count": null,
      "outputs": [
        {
          "output_type": "stream",
          "name": "stdout",
          "text": [
            "2.6.0\n"
          ]
        }
      ]
    },
    {
      "cell_type": "code",
      "metadata": {
        "id": "bjBwBPQp_VcB"
      },
      "source": [
        "from tensorflow.keras.preprocessing.text import Tokenizer\n",
        "from tensorflow.keras.preprocessing.sequence import pad_sequences\n",
        "from tensorflow.keras.models import Sequential\n",
        "from tensorflow.keras import layers\n",
        "from tensorflow.keras.callbacks import EarlyStopping, ReduceLROnPlateau, ModelCheckpoint"
      ],
      "execution_count": null,
      "outputs": []
    },
    {
      "cell_type": "code",
      "metadata": {
        "id": "1q0rf2R-_SmD"
      },
      "source": [
        "import pandas as pd\n",
        "import numpy as np\n",
        "import csv\n",
        "import random\n",
        "import json\n",
        "import matplotlib.pyplot as plt\n",
        "%matplotlib inline"
      ],
      "execution_count": null,
      "outputs": []
    },
    {
      "cell_type": "code",
      "metadata": {
        "colab": {
          "base_uri": "https://localhost:8080/",
          "height": 338,
          "referenced_widgets": [
            "4621941ff09c45c291e67d89e75bcc5b",
            "0f4c81e4f0284db7bc58856229fae0a3",
            "ecb41d12c01e4bf89c914e3ad42e8a43",
            "45d8720a68c94f29ba82ed3f9bcec044",
            "b72e7cd02ff84d3da1fed8729f4b992e",
            "adfcf27c41484d0c8819616568eb8201",
            "4d5db6fe4341484eb77bc3e816cb8794",
            "6f56dd58f9ee45dcaacae2a0faf9ebc3",
            "7e6e0ff75119419c9aa88acece1adce2",
            "6336d50c3b1f457ebf3121a24c0e654c",
            "20033347c45a4d49aefa45975ee92489",
            "abc20156bfc14f4b947881e878dfea15",
            "2503ed09cc8f4d88a8880a8eac19f1cd",
            "881fb7ee375d4ac082c3b2b215ec5acd",
            "4dbe56956f5f4f69889a28d5543c622c",
            "2f68a0e4b9c54ff5aba09ebf70ee31d5",
            "9f62fb0d096246e19b7c12069467a287",
            "ec2c91117ff94705b2eb07ff53fd4017",
            "a00c5288ae0141f9a905ac08e01d7036",
            "938fd38274284366bc0dd649398c1001",
            "b19cdc3c483849ee8c648ffc5ff36270",
            "590c4949683442daaa407a630132b9e5",
            "2f31d7243d1e4dfd89c774aea307e805",
            "4cd9118d255e4397bb8efca0fd45f0b0",
            "67151b21f8424945b3a0550cf082261b",
            "e05084ba44d9408f9e905009c46a374a",
            "a4c5eca65afa49e0ba85a45d748facd4",
            "1386cf6c634b4edc9881156b0731631c"
          ]
        },
        "id": "H3PF_4iLhCVt",
        "outputId": "4f665203-aebf-4f62-8f16-3f908456d6ec"
      },
      "source": [
        "import tensorflow_datasets as tfds      # prebuilt datasets\n",
        "\n",
        "imdb, info = tfds.load(\"imdb_reviews\", with_info=True, as_supervised=True)          # return data and metadata"
      ],
      "execution_count": null,
      "outputs": [
        {
          "output_type": "stream",
          "name": "stdout",
          "text": [
            "\u001b[1mDownloading and preparing dataset imdb_reviews/plain_text/1.0.0 (download: 80.23 MiB, generated: Unknown size, total: 80.23 MiB) to /root/tensorflow_datasets/imdb_reviews/plain_text/1.0.0...\u001b[0m\n"
          ]
        },
        {
          "output_type": "display_data",
          "data": {
            "application/vnd.jupyter.widget-view+json": {
              "model_id": "4621941ff09c45c291e67d89e75bcc5b",
              "version_minor": 0,
              "version_major": 2
            },
            "text/plain": [
              "Dl Completed...: 0 url [00:00, ? url/s]"
            ]
          },
          "metadata": {}
        },
        {
          "output_type": "display_data",
          "data": {
            "application/vnd.jupyter.widget-view+json": {
              "model_id": "abc20156bfc14f4b947881e878dfea15",
              "version_minor": 0,
              "version_major": 2
            },
            "text/plain": [
              "Dl Size...: 0 MiB [00:00, ? MiB/s]"
            ]
          },
          "metadata": {}
        },
        {
          "output_type": "stream",
          "name": "stdout",
          "text": [
            "\n",
            "\n"
          ]
        },
        {
          "output_type": "display_data",
          "data": {
            "application/vnd.jupyter.widget-view+json": {
              "model_id": "2f31d7243d1e4dfd89c774aea307e805",
              "version_minor": 0,
              "version_major": 2
            },
            "text/plain": [
              "0 examples [00:00, ? examples/s]"
            ]
          },
          "metadata": {}
        },
        {
          "output_type": "stream",
          "name": "stdout",
          "text": [
            "Shuffling and writing examples to /root/tensorflow_datasets/imdb_reviews/plain_text/1.0.0.incompleteA9YTMR/imdb_reviews-train.tfrecord\n"
          ]
        },
        {
          "output_type": "display_data",
          "data": {
            "application/vnd.jupyter.widget-view+json": {
              "model_id": "4cd9118d255e4397bb8efca0fd45f0b0",
              "version_minor": 0,
              "version_major": 2
            },
            "text/plain": [
              "  0%|          | 0/25000 [00:00<?, ? examples/s]"
            ]
          },
          "metadata": {}
        },
        {
          "output_type": "display_data",
          "data": {
            "application/vnd.jupyter.widget-view+json": {
              "model_id": "67151b21f8424945b3a0550cf082261b",
              "version_minor": 0,
              "version_major": 2
            },
            "text/plain": [
              "0 examples [00:00, ? examples/s]"
            ]
          },
          "metadata": {}
        },
        {
          "output_type": "stream",
          "name": "stdout",
          "text": [
            "Shuffling and writing examples to /root/tensorflow_datasets/imdb_reviews/plain_text/1.0.0.incompleteA9YTMR/imdb_reviews-test.tfrecord\n"
          ]
        },
        {
          "output_type": "display_data",
          "data": {
            "application/vnd.jupyter.widget-view+json": {
              "model_id": "e05084ba44d9408f9e905009c46a374a",
              "version_minor": 0,
              "version_major": 2
            },
            "text/plain": [
              "  0%|          | 0/25000 [00:00<?, ? examples/s]"
            ]
          },
          "metadata": {}
        },
        {
          "output_type": "display_data",
          "data": {
            "application/vnd.jupyter.widget-view+json": {
              "model_id": "a4c5eca65afa49e0ba85a45d748facd4",
              "version_minor": 0,
              "version_major": 2
            },
            "text/plain": [
              "0 examples [00:00, ? examples/s]"
            ]
          },
          "metadata": {}
        },
        {
          "output_type": "stream",
          "name": "stdout",
          "text": [
            "Shuffling and writing examples to /root/tensorflow_datasets/imdb_reviews/plain_text/1.0.0.incompleteA9YTMR/imdb_reviews-unsupervised.tfrecord\n"
          ]
        },
        {
          "output_type": "display_data",
          "data": {
            "application/vnd.jupyter.widget-view+json": {
              "model_id": "1386cf6c634b4edc9881156b0731631c",
              "version_minor": 0,
              "version_major": 2
            },
            "text/plain": [
              "  0%|          | 0/50000 [00:00<?, ? examples/s]"
            ]
          },
          "metadata": {}
        },
        {
          "output_type": "stream",
          "name": "stderr",
          "text": [
            "WARNING:absl:Dataset is using deprecated text encoder API which will be removed soon. Please use the plain_text version of the dataset and migrate to `tensorflow_text`.\n"
          ]
        },
        {
          "output_type": "stream",
          "name": "stdout",
          "text": [
            "\u001b[1mDataset imdb_reviews downloaded and prepared to /root/tensorflow_datasets/imdb_reviews/plain_text/1.0.0. Subsequent calls will reuse this data.\u001b[0m\n"
          ]
        }
      ]
    },
    {
      "cell_type": "code",
      "metadata": {
        "colab": {
          "base_uri": "https://localhost:8080/"
        },
        "id": "qaD6ipLqFU0f",
        "outputId": "8dc8c0aa-c753-4d10-f554-3d610e284b40"
      },
      "source": [
        "imdb"
      ],
      "execution_count": null,
      "outputs": [
        {
          "output_type": "execute_result",
          "data": {
            "text/plain": [
              "{'test': <PrefetchDataset shapes: ((), ()), types: (tf.string, tf.int64)>,\n",
              " 'train': <PrefetchDataset shapes: ((), ()), types: (tf.string, tf.int64)>,\n",
              " 'unsupervised': <PrefetchDataset shapes: ((), ()), types: (tf.string, tf.int64)>}"
            ]
          },
          "metadata": {},
          "execution_count": 5
        }
      ]
    },
    {
      "cell_type": "code",
      "metadata": {
        "id": "jVDMtTBe5yDB"
      },
      "source": [
        "train_data, test_data = imdb['train'], imdb['test']         # data split into 25k train, 25k test"
      ],
      "execution_count": null,
      "outputs": []
    },
    {
      "cell_type": "code",
      "metadata": {
        "id": "Frl2-ski98dm"
      },
      "source": [
        "training_sentences = []\n",
        "training_labels = []\n",
        "\n",
        "testing_sentences = []\n",
        "testing_labels = []\n",
        "\n",
        "for s,l in train_data:            # s & l are tensors\n",
        "    training_sentences.append(s.numpy().decode('utf8'))     # tensor -> numpy -> extracting sentences \n",
        "    training_labels.append(l.numpy())                       # tensor -> numpy -> extracting labels \n",
        "  \n",
        "for s,l in test_data:\n",
        "    testing_sentences.append(s.numpy().decode('utf8'))\n",
        "    testing_labels.append(l.numpy())"
      ],
      "execution_count": null,
      "outputs": []
    },
    {
      "cell_type": "code",
      "metadata": {
        "colab": {
          "base_uri": "https://localhost:8080/"
        },
        "id": "fSNj8qMS7A7A",
        "outputId": "ae544352-4e3b-408b-f25f-392c8ed78847"
      },
      "source": [
        "training_sentences[:2]"
      ],
      "execution_count": null,
      "outputs": [
        {
          "output_type": "execute_result",
          "data": {
            "text/plain": [
              "[\"This was an absolutely terrible movie. Don't be lured in by Christopher Walken or Michael Ironside. Both are great actors, but this must simply be their worst role in history. Even their great acting could not redeem this movie's ridiculous storyline. This movie is an early nineties US propaganda piece. The most pathetic scenes were those when the Columbian rebels were making their cases for revolutions. Maria Conchita Alonso appeared phony, and her pseudo-love affair with Walken was nothing but a pathetic emotional plug in a movie that was devoid of any real meaning. I am disappointed that there are movies like this, ruining actor's like Christopher Walken's good name. I could barely sit through it.\",\n",
              " 'I have been known to fall asleep during films, but this is usually due to a combination of things including, really tired, being warm and comfortable on the sette and having just eaten a lot. However on this occasion I fell asleep because the film was rubbish. The plot development was constant. Constantly slow and boring. Things seemed to happen, but with no explanation of what was causing them or why. I admit, I may have missed part of the film, but i watched the majority of it and everything just seemed to happen of its own accord without any real concern for anything else. I cant recommend this film at all.']"
            ]
          },
          "metadata": {},
          "execution_count": 8
        }
      ]
    },
    {
      "cell_type": "code",
      "metadata": {
        "colab": {
          "base_uri": "https://localhost:8080/"
        },
        "id": "ecLVzFex7H-B",
        "outputId": "7c0f1937-514d-4640-ebeb-132340edbca8"
      },
      "source": [
        "training_labels[:2]"
      ],
      "execution_count": null,
      "outputs": [
        {
          "output_type": "execute_result",
          "data": {
            "text/plain": [
              "[0, 0]"
            ]
          },
          "metadata": {},
          "execution_count": 9
        }
      ]
    },
    {
      "cell_type": "code",
      "metadata": {
        "colab": {
          "base_uri": "https://localhost:8080/"
        },
        "id": "jqzywpPRMQEm",
        "outputId": "072595ce-b274-470d-af2a-ecde0c10bbd1"
      },
      "source": [
        "len(training_sentences), len(training_labels)"
      ],
      "execution_count": null,
      "outputs": [
        {
          "output_type": "execute_result",
          "data": {
            "text/plain": [
              "(25000, 25000)"
            ]
          },
          "metadata": {},
          "execution_count": 17
        }
      ]
    },
    {
      "cell_type": "code",
      "metadata": {
        "colab": {
          "base_uri": "https://localhost:8080/"
        },
        "id": "yQxCb0T8MTne",
        "outputId": "214e982e-4de5-4627-b8aa-d15bacffe2a5"
      },
      "source": [
        "len(testing_sentences), len(testing_labels)"
      ],
      "execution_count": null,
      "outputs": [
        {
          "output_type": "execute_result",
          "data": {
            "text/plain": [
              "(25000, 25000)"
            ]
          },
          "metadata": {},
          "execution_count": 18
        }
      ]
    },
    {
      "cell_type": "code",
      "metadata": {
        "colab": {
          "base_uri": "https://localhost:8080/"
        },
        "id": "ArEeajtN7LZa",
        "outputId": "7d892eb9-220e-4018-dd8a-e760a6b22745"
      },
      "source": [
        "type(training_labels)"
      ],
      "execution_count": null,
      "outputs": [
        {
          "output_type": "execute_result",
          "data": {
            "text/plain": [
              "list"
            ]
          },
          "metadata": {},
          "execution_count": 10
        }
      ]
    },
    {
      "cell_type": "code",
      "metadata": {
        "id": "eaONlWk06SRT"
      },
      "source": [
        "# when training, labels should be numpy arrays\n",
        "\n",
        "training_labels = np.array(training_labels)\n",
        "testing_labels = np.array(testing_labels)"
      ],
      "execution_count": null,
      "outputs": []
    },
    {
      "cell_type": "code",
      "metadata": {
        "id": "iH7GgHl6Gf5J"
      },
      "source": [
        "vocab_size = 10000                      # number of unique words in the corpus\n",
        "embedding_dim = 16                      # number of dimensions we wish to embed each word into\n",
        "max_length = 120                        # maximum length of document/sentence\n",
        "\n",
        "trunc_type = \"post\"                     \n",
        "oov_tok = \"<OOV>\"                       # out of vocab words in test set will be marked OOV"
      ],
      "execution_count": null,
      "outputs": []
    },
    {
      "cell_type": "code",
      "metadata": {
        "id": "sBIuAdik7W05"
      },
      "source": [
        "tokenizer = Tokenizer(num_words=vocab_size, oov_token=oov_tok)\n",
        "tokenizer.fit_on_texts(training_sentences)\n",
        "word_index = tokenizer.word_index\n",
        "\n",
        "training_sequences = tokenizer.texts_to_sequences(training_sentences)\n",
        "training_padded = pad_sequences(training_sequences, maxlen=max_length, truncating=trunc_type)\n",
        "\n",
        "testing_sequences = tokenizer.texts_to_sequences(testing_sentences)\n",
        "testing_padded = pad_sequences(testing_sequences, maxlen=max_length)"
      ],
      "execution_count": null,
      "outputs": []
    },
    {
      "cell_type": "code",
      "metadata": {
        "colab": {
          "base_uri": "https://localhost:8080/"
        },
        "id": "i6iScl_bL8l1",
        "outputId": "d2445179-26e9-4536-a1a4-81b6ec5b2b7a"
      },
      "source": [
        "len(word_index)"
      ],
      "execution_count": null,
      "outputs": [
        {
          "output_type": "execute_result",
          "data": {
            "text/plain": [
              "88583"
            ]
          },
          "metadata": {},
          "execution_count": 14
        }
      ]
    },
    {
      "cell_type": "code",
      "metadata": {
        "id": "vLDUksxdKR1F"
      },
      "source": [
        "num_classes = 1"
      ],
      "execution_count": null,
      "outputs": []
    },
    {
      "cell_type": "code",
      "metadata": {
        "id": "bVHSeZJI7xJ2"
      },
      "source": [
        "model = Sequential([\n",
        "    layers.Embedding(input_dim=vocab_size, output_dim=embedding_dim, input_length=max_length),\n",
        "    layers.Flatten(),                              # or use GlobalAveragePooling1D\n",
        "    layers.Dense(16, activation='relu'),\n",
        "    layers.Dense(num_classes, activation='sigmoid')\n",
        "])"
      ],
      "execution_count": null,
      "outputs": []
    },
    {
      "cell_type": "code",
      "metadata": {
        "colab": {
          "base_uri": "https://localhost:8080/"
        },
        "id": "R32LrGGRKjWP",
        "outputId": "7239bcc1-f0d6-4f1e-e6b4-4ed8a4320bfb"
      },
      "source": [
        "model.summary()"
      ],
      "execution_count": null,
      "outputs": [
        {
          "output_type": "stream",
          "name": "stdout",
          "text": [
            "Model: \"sequential_4\"\n",
            "_________________________________________________________________\n",
            "Layer (type)                 Output Shape              Param #   \n",
            "=================================================================\n",
            "embedding_4 (Embedding)      (None, 120, 16)           160000    \n",
            "_________________________________________________________________\n",
            "flatten_4 (Flatten)          (None, 1920)              0         \n",
            "_________________________________________________________________\n",
            "dense_8 (Dense)              (None, 16)                30736     \n",
            "_________________________________________________________________\n",
            "dense_9 (Dense)              (None, 1)                 17        \n",
            "=================================================================\n",
            "Total params: 190,753\n",
            "Trainable params: 190,753\n",
            "Non-trainable params: 0\n",
            "_________________________________________________________________\n"
          ]
        }
      ]
    },
    {
      "cell_type": "code",
      "metadata": {
        "id": "OiwJ2F4JKpM1"
      },
      "source": [
        "optimizer   = tf.keras.optimizers.Adam(learning_rate=0.01)\n",
        "loss        = tf.keras.losses.BinaryCrossentropy()\n",
        "metrics     = ['accuracy']"
      ],
      "execution_count": null,
      "outputs": []
    },
    {
      "cell_type": "code",
      "metadata": {
        "id": "NflNmsuAKlvU"
      },
      "source": [
        "model.compile(optimizer=optimizer,\n",
        "              loss=loss,\n",
        "              metrics=metrics)"
      ],
      "execution_count": null,
      "outputs": []
    },
    {
      "cell_type": "code",
      "metadata": {
        "id": "cucgbAz7K4r8"
      },
      "source": [
        "early_stopping    = EarlyStopping(monitor='loss', patience=7)\n",
        "reduce_lr         = ReduceLROnPlateau(monitor='loss', patience=7, min_lr=0.001, mode='min', verbose=1)\n",
        "model_checkpoint  = ModelCheckpoint(monitor='loss', filepath='./best_model.h5', save_best_only=True)"
      ],
      "execution_count": null,
      "outputs": []
    },
    {
      "cell_type": "code",
      "metadata": {
        "id": "qNdJKRv0K5H5"
      },
      "source": [
        "epochs = 20\n",
        "callbacks = [early_stopping, reduce_lr, model_checkpoint]"
      ],
      "execution_count": null,
      "outputs": []
    },
    {
      "cell_type": "code",
      "metadata": {
        "colab": {
          "base_uri": "https://localhost:8080/"
        },
        "id": "eGViP_LtLEVl",
        "outputId": "05f83a98-1b99-48c7-b4b9-253325e3405d"
      },
      "source": [
        "history = model.fit(training_padded,\n",
        "                    training_labels,\n",
        "                    validation_data=(testing_padded, testing_labels),\n",
        "                    verbose = 1,\n",
        "                    epochs = epochs,\n",
        "                    callbacks = callbacks)"
      ],
      "execution_count": null,
      "outputs": [
        {
          "output_type": "stream",
          "name": "stdout",
          "text": [
            "Epoch 1/20\n",
            "782/782 [==============================] - 7s 8ms/step - loss: 0.4450 - accuracy: 0.7888 - val_loss: 0.3605 - val_accuracy: 0.8396\n",
            "Epoch 2/20\n",
            "782/782 [==============================] - 6s 8ms/step - loss: 0.2032 - accuracy: 0.9196 - val_loss: 0.4352 - val_accuracy: 0.8211\n",
            "Epoch 3/20\n",
            "782/782 [==============================] - 5s 7ms/step - loss: 0.0724 - accuracy: 0.9742 - val_loss: 0.6353 - val_accuracy: 0.8098\n",
            "Epoch 4/20\n",
            "782/782 [==============================] - 5s 6ms/step - loss: 0.0437 - accuracy: 0.9844 - val_loss: 0.8091 - val_accuracy: 0.8046\n",
            "Epoch 5/20\n",
            "782/782 [==============================] - 5s 6ms/step - loss: 0.0367 - accuracy: 0.9882 - val_loss: 0.9904 - val_accuracy: 0.7982\n",
            "Epoch 6/20\n",
            "782/782 [==============================] - 5s 6ms/step - loss: 0.0303 - accuracy: 0.9894 - val_loss: 0.9024 - val_accuracy: 0.8014\n",
            "Epoch 7/20\n",
            "782/782 [==============================] - 5s 6ms/step - loss: 0.0270 - accuracy: 0.9903 - val_loss: 1.1493 - val_accuracy: 0.8058\n",
            "Epoch 8/20\n",
            "782/782 [==============================] - 5s 6ms/step - loss: 0.0193 - accuracy: 0.9939 - val_loss: 1.1913 - val_accuracy: 0.8045\n",
            "Epoch 9/20\n",
            "782/782 [==============================] - 5s 7ms/step - loss: 0.0193 - accuracy: 0.9939 - val_loss: 1.4618 - val_accuracy: 0.8050\n",
            "Epoch 10/20\n",
            "782/782 [==============================] - 5s 7ms/step - loss: 0.0240 - accuracy: 0.9920 - val_loss: 1.4613 - val_accuracy: 0.8053\n",
            "Epoch 11/20\n",
            "782/782 [==============================] - 6s 8ms/step - loss: 0.0154 - accuracy: 0.9946 - val_loss: 1.3420 - val_accuracy: 0.7912\n",
            "Epoch 12/20\n",
            "782/782 [==============================] - 5s 6ms/step - loss: 0.0159 - accuracy: 0.9953 - val_loss: 1.3207 - val_accuracy: 0.7981\n",
            "Epoch 13/20\n",
            "782/782 [==============================] - 5s 6ms/step - loss: 0.0173 - accuracy: 0.9947 - val_loss: 1.3980 - val_accuracy: 0.8051\n",
            "Epoch 14/20\n",
            "782/782 [==============================] - 6s 8ms/step - loss: 0.0168 - accuracy: 0.9948 - val_loss: 1.7336 - val_accuracy: 0.8046\n",
            "Epoch 15/20\n",
            "782/782 [==============================] - 6s 8ms/step - loss: 0.0186 - accuracy: 0.9944 - val_loss: 1.5844 - val_accuracy: 0.8025\n",
            "Epoch 16/20\n",
            "782/782 [==============================] - 5s 6ms/step - loss: 0.0082 - accuracy: 0.9974 - val_loss: 2.2156 - val_accuracy: 0.7969\n",
            "Epoch 17/20\n",
            "782/782 [==============================] - 6s 8ms/step - loss: 0.0147 - accuracy: 0.9958 - val_loss: 2.1900 - val_accuracy: 0.8005\n",
            "Epoch 18/20\n",
            "782/782 [==============================] - 5s 6ms/step - loss: 0.0156 - accuracy: 0.9951 - val_loss: 1.8068 - val_accuracy: 0.7968\n",
            "Epoch 19/20\n",
            "782/782 [==============================] - 6s 8ms/step - loss: 0.0131 - accuracy: 0.9963 - val_loss: 2.2475 - val_accuracy: 0.8005\n",
            "Epoch 20/20\n",
            "782/782 [==============================] - 6s 8ms/step - loss: 0.0113 - accuracy: 0.9969 - val_loss: 1.9366 - val_accuracy: 0.7979\n"
          ]
        }
      ]
    },
    {
      "cell_type": "code",
      "metadata": {
        "colab": {
          "base_uri": "https://localhost:8080/",
          "height": 580
        },
        "id": "mNbgmZdfNM4Q",
        "outputId": "84ddb400-f02c-4afb-d6d1-07a15702f911"
      },
      "source": [
        "acc      = history.history['accuracy']\n",
        "val_acc  = history.history['val_accuracy']\n",
        "\n",
        "epochs   = range(len(acc))\n",
        "\n",
        "plt.plot(epochs, acc, 'r', label = 'Training')\n",
        "plt.plot(epochs, val_acc, 'b', label = 'Validation')\n",
        "plt.title('Training and Validation Accuracy')\n",
        "plt.legend()\n",
        "plt.figure()\n",
        "\n",
        "loss     = history.history['loss']\n",
        "val_loss = history.history['val_loss']\n",
        "\n",
        "epochs   = range(len(loss))\n",
        "\n",
        "plt.plot(epochs, loss, 'r', label = 'Training')\n",
        "plt.plot(epochs, val_loss, 'b', label = 'Validation')\n",
        "plt.title('Training and Validation Loss')\n",
        "plt.legend()\n",
        "plt.figure()"
      ],
      "execution_count": null,
      "outputs": [
        {
          "output_type": "execute_result",
          "data": {
            "text/plain": [
              "<Figure size 432x288 with 0 Axes>"
            ]
          },
          "metadata": {},
          "execution_count": 54
        },
        {
          "output_type": "display_data",
          "data": {
            "image/png": "[encoded data removed]",
            "text/plain": [
              "<Figure size 432x288 with 1 Axes>"
            ]
          },
          "metadata": {
            "needs_background": "light"
          }
        },
        {
          "output_type": "display_data",
          "data": {
            "image/png": "[encoded data removed]",
            "text/plain": [
              "<Figure size 432x288 with 1 Axes>"
            ]
          },
          "metadata": {
            "needs_background": "light"
          }
        },
        {
          "output_type": "display_data",
          "data": {
            "text/plain": [
              "<Figure size 432x288 with 0 Axes>"
            ]
          },
          "metadata": {}
        }
      ]
    },
    {
      "cell_type": "code",
      "metadata": {
        "colab": {
          "base_uri": "https://localhost:8080/"
        },
        "id": "DhzMfed5lRta",
        "outputId": "87eda528-f984-444d-dacd-333f05e8a509"
      },
      "source": [
        "# getting results of embedding layer\n",
        "\n",
        "e = model.layers[0]             \n",
        "weights = e.get_weights()[0]          # getting weights of that layer\n",
        "print(weights.shape) # shape: (vocab_size (10k words in corpus), embedding_dim (16 dimensions))"
      ],
      "execution_count": null,
      "outputs": [
        {
          "output_type": "stream",
          "name": "stdout",
          "text": [
            "(10000, 16)\n"
          ]
        }
      ]
    },
    {
      "cell_type": "code",
      "metadata": {
        "id": "Bbgy1-DslAwZ"
      },
      "source": [
        "reverse_word_index = dict([(value, key) for (key, value) in word_index.items()])      # just reversing {Hello : 1} to {1 : Hello}"
      ],
      "execution_count": null,
      "outputs": []
    },
    {
      "cell_type": "code",
      "metadata": {
        "colab": {
          "base_uri": "https://localhost:8080/"
        },
        "id": "ScjqCqcNnLhZ",
        "outputId": "9b1b2a6b-a396-41cf-a87e-9bbb8c56823f"
      },
      "source": [
        "# just checking out how it does decoding\n",
        "\n",
        "print(training_sentences[0])                    # sample original sentence\n",
        "\n",
        "def decode_review(text):                        # decoding the review\n",
        "    return ' '.join([reverse_word_index.get(i, '?') for i in text])\n",
        "\n",
        "print(decode_review(training_padded[0]))        # sample decoded sentence"
      ],
      "execution_count": null,
      "outputs": [
        {
          "output_type": "stream",
          "name": "stdout",
          "text": [
            "This was an absolutely terrible movie. Don't be lured in by Christopher Walken or Michael Ironside. Both are great actors, but this must simply be their worst role in history. Even their great acting could not redeem this movie's ridiculous storyline. This movie is an early nineties US propaganda piece. The most pathetic scenes were those when the Columbian rebels were making their cases for revolutions. Maria Conchita Alonso appeared phony, and her pseudo-love affair with Walken was nothing but a pathetic emotional plug in a movie that was devoid of any real meaning. I am disappointed that there are movies like this, ruining actor's like Christopher Walken's good name. I could barely sit through it.\n",
            "? ? ? this was an absolutely terrible movie don't be <OOV> in by christopher walken or michael <OOV> both are great actors but this must simply be their worst role in history even their great acting could not redeem this movie's ridiculous storyline this movie is an early nineties us propaganda piece the most pathetic scenes were those when the <OOV> rebels were making their cases for <OOV> maria <OOV> <OOV> appeared phony and her pseudo love affair with walken was nothing but a pathetic emotional plug in a movie that was devoid of any real meaning i am disappointed that there are movies like this ruining actor's like christopher <OOV> good name i could barely sit through it\n"
          ]
        }
      ]
    },
    {
      "cell_type": "code",
      "metadata": {
        "id": "DqPSmTG3l_GY"
      },
      "source": [
        "# code for getting vectors and metadata for tensorflow projector\n",
        "\n",
        "import io\n",
        "\n",
        "out_v = io.open('vecs.tsv', 'w', encoding='utf-8')\n",
        "out_m = io.open('meta.tsv', 'w', encoding='utf-8')\n",
        "for word_num in range(1, vocab_size):\n",
        "  word = reverse_word_index[word_num]\n",
        "  embeddings = weights[word_num]\n",
        "  out_m.write(word + \"\\n\")                                      # actual word associated with dimensions\n",
        "  out_v.write('\\t'.join([str(x) for x in embeddings]) + \"\\n\")   # write value of 16 dimensions per word\n",
        "out_v.close()\n",
        "out_m.close()"
      ],
      "execution_count": null,
      "outputs": []
    },
    {
      "cell_type": "code",
      "metadata": {
        "colab": {
          "base_uri": "https://localhost:8080/",
          "height": 17
        },
        "id": "UHgKhhQ9l_fr",
        "outputId": "f3f8e9ff-8f99-412a-8ae6-948869fbc47f"
      },
      "source": [
        "try:\n",
        "  from google.colab import files\n",
        "except ImportError:\n",
        "  pass\n",
        "else:\n",
        "  files.download('vecs.tsv')\n",
        "  files.download('meta.tsv')"
      ],
      "execution_count": null,
      "outputs": [
        {
          "output_type": "display_data",
          "data": {
            "application/javascript": [
              "\n",
              "    async function download(id, filename, size) {\n",
              "      if (!google.colab.kernel.accessAllowed) {\n",
              "        return;\n",
              "      }\n",
              "      const div = document.createElement('div');\n",
              "      const label = document.createElement('label');\n",
              "      label.textContent = `Downloading \"${filename}\": `;\n",
              "      div.appendChild(label);\n",
              "      const progress = document.createElement('progress');\n",
              "      progress.max = size;\n",
              "      div.appendChild(progress);\n",
              "      document.body.appendChild(div);\n",
              "\n",
              "      const buffers = [];\n",
              "      let downloaded = 0;\n",
              "\n",
              "      const channel = await google.colab.kernel.comms.open(id);\n",
              "      // Send a message to notify the kernel that we're ready.\n",
              "      channel.send({})\n",
              "\n",
              "      for await (const message of channel.messages) {\n",
              "        // Send a message to notify the kernel that we're ready.\n",
              "        channel.send({})\n",
              "        if (message.buffers) {\n",
              "          for (const buffer of message.buffers) {\n",
              "            buffers.push(buffer);\n",
              "            downloaded += buffer.byteLength;\n",
              "            progress.value = downloaded;\n",
              "          }\n",
              "        }\n",
              "      }\n",
              "      const blob = new Blob(buffers, {type: 'application/binary'});\n",
              "      const a = document.createElement('a');\n",
              "      a.href = window.URL.createObjectURL(blob);\n",
              "      a.download = filename;\n",
              "      div.appendChild(a);\n",
              "      a.click();\n",
              "      div.remove();\n",
              "    }\n",
              "  "
            ],
            "text/plain": [
              "<IPython.core.display.Javascript object>"
            ]
          },
          "metadata": {
            "tags": []
          }
        },
        {
          "output_type": "display_data",
          "data": {
            "application/javascript": [
              "download(\"download_af36f658-00f2-40d2-ad0e-a37638ef4616\", \"vecs.tsv\", 1910487)"
            ],
            "text/plain": [
              "<IPython.core.display.Javascript object>"
            ]
          },
          "metadata": {
            "tags": []
          }
        },
        {
          "output_type": "display_data",
          "data": {
            "application/javascript": [
              "\n",
              "    async function download(id, filename, size) {\n",
              "      if (!google.colab.kernel.accessAllowed) {\n",
              "        return;\n",
              "      }\n",
              "      const div = document.createElement('div');\n",
              "      const label = document.createElement('label');\n",
              "      label.textContent = `Downloading \"${filename}\": `;\n",
              "      div.appendChild(label);\n",
              "      const progress = document.createElement('progress');\n",
              "      progress.max = size;\n",
              "      div.appendChild(progress);\n",
              "      document.body.appendChild(div);\n",
              "\n",
              "      const buffers = [];\n",
              "      let downloaded = 0;\n",
              "\n",
              "      const channel = await google.colab.kernel.comms.open(id);\n",
              "      // Send a message to notify the kernel that we're ready.\n",
              "      channel.send({})\n",
              "\n",
              "      for await (const message of channel.messages) {\n",
              "        // Send a message to notify the kernel that we're ready.\n",
              "        channel.send({})\n",
              "        if (message.buffers) {\n",
              "          for (const buffer of message.buffers) {\n",
              "            buffers.push(buffer);\n",
              "            downloaded += buffer.byteLength;\n",
              "            progress.value = downloaded;\n",
              "          }\n",
              "        }\n",
              "      }\n",
              "      const blob = new Blob(buffers, {type: 'application/binary'});\n",
              "      const a = document.createElement('a');\n",
              "      a.href = window.URL.createObjectURL(blob);\n",
              "      a.download = filename;\n",
              "      div.appendChild(a);\n",
              "      a.click();\n",
              "      div.remove();\n",
              "    }\n",
              "  "
            ],
            "text/plain": [
              "<IPython.core.display.Javascript object>"
            ]
          },
          "metadata": {
            "tags": []
          }
        },
        {
          "output_type": "display_data",
          "data": {
            "application/javascript": [
              "download(\"download_87053082-58af-42b2-bc41-a851b031c851\", \"meta.tsv\", 76186)"
            ],
            "text/plain": [
              "<IPython.core.display.Javascript object>"
            ]
          },
          "metadata": {
            "tags": []
          }
        }
      ]
    },
    {
      "cell_type": "markdown",
      "metadata": {
        "id": "YUZjSXhTEyWM"
      },
      "source": [
        "## Sarcasm Dataset"
      ]
    },
    {
      "cell_type": "code",
      "metadata": {
        "colab": {
          "base_uri": "https://localhost:8080/"
        },
        "id": "KEYOtRKAMFpj",
        "outputId": "3f296332-4a4d-4d43-bbee-046c3a767e84"
      },
      "source": [
        "!wget --no-check-certificate \\\n",
        "    https://storage.googleapis.com/laurencemoroney-blog.appspot.com/sarcasm.json \\\n",
        "    -O /content/sarcasm.json"
      ],
      "execution_count": null,
      "outputs": [
        {
          "output_type": "stream",
          "name": "stdout",
          "text": [
            "--2021-10-11 18:14:39--  https://storage.googleapis.com/laurencemoroney-blog.appspot.com/sarcasm.json\n",
            "Resolving storage.googleapis.com (storage.googleapis.com)... 74.125.133.128, 74.125.140.128, 173.194.76.128, ...\n",
            "Connecting to storage.googleapis.com (storage.googleapis.com)|74.125.133.128|:443... connected.\n",
            "HTTP request sent, awaiting response... 200 OK\n",
            "Length: 5643545 (5.4M) [application/json]\n",
            "Saving to: ‘/content/sarcasm.json’\n",
            "\n",
            "\r/content/sarcasm.js   0%[                    ]       0  --.-KB/s               \r/content/sarcasm.js 100%[===================>]   5.38M  --.-KB/s    in 0.04s   \n",
            "\n",
            "2021-10-11 18:14:39 (146 MB/s) - ‘/content/sarcasm.json’ saved [5643545/5643545]\n",
            "\n"
          ]
        }
      ]
    },
    {
      "cell_type": "code",
      "metadata": {
        "id": "54AfvFd7MIsk"
      },
      "source": [
        "with open(\"/content/sarcasm.json\", 'r') as f:\n",
        "    datastore = json.load(f)\n",
        "\n",
        "sentences = []\n",
        "labels = []\n",
        "\n",
        "for item in datastore:                          # separating labels and sentences\n",
        "    sentences.append(item['headline'])\n",
        "    labels.append(item['is_sarcastic'])"
      ],
      "execution_count": null,
      "outputs": []
    },
    {
      "cell_type": "code",
      "metadata": {
        "colab": {
          "base_uri": "https://localhost:8080/"
        },
        "id": "7eZKKMh2MSH2",
        "outputId": "20f4d54f-07ce-4b0f-b2ab-890066627d8d"
      },
      "source": [
        "sentences[:3]"
      ],
      "execution_count": null,
      "outputs": [
        {
          "output_type": "execute_result",
          "data": {
            "text/plain": [
              "[\"former versace store clerk sues over secret 'black code' for minority shoppers\",\n",
              " \"the 'roseanne' revival catches up to our thorny political mood, for better and worse\",\n",
              " \"mom starting to fear son's web series closest thing she will have to grandchild\"]"
            ]
          },
          "metadata": {},
          "execution_count": 61
        }
      ]
    },
    {
      "cell_type": "code",
      "metadata": {
        "colab": {
          "base_uri": "https://localhost:8080/"
        },
        "id": "l8CfVU7iMUV-",
        "outputId": "2c805ba2-7680-456a-eee1-25e60c60b4dc"
      },
      "source": [
        "labels[:3]"
      ],
      "execution_count": null,
      "outputs": [
        {
          "output_type": "execute_result",
          "data": {
            "text/plain": [
              "[0, 0, 1]"
            ]
          },
          "metadata": {},
          "execution_count": 62
        }
      ]
    },
    {
      "cell_type": "code",
      "metadata": {
        "colab": {
          "base_uri": "https://localhost:8080/"
        },
        "id": "8rsUWOXwQNWS",
        "outputId": "91514d7f-cf98-4732-d00f-0dd8deb98455"
      },
      "source": [
        "len(sentences), len(labels)"
      ],
      "execution_count": null,
      "outputs": [
        {
          "output_type": "execute_result",
          "data": {
            "text/plain": [
              "(26709, 26709)"
            ]
          },
          "metadata": {},
          "execution_count": 5
        }
      ]
    },
    {
      "cell_type": "code",
      "metadata": {
        "id": "mRquJX7iSiN_"
      },
      "source": [
        "vocab_size = 10000\n",
        "embedding_dim = 16\n",
        "max_length = 100\n",
        "\n",
        "trunc_type = \"post\"\n",
        "padding_type = \"post\"\n",
        "oov_tok = \"<OOV>\"\n",
        "training_size = 20000         # 20000 for train, 6709 for test"
      ],
      "execution_count": null,
      "outputs": []
    },
    {
      "cell_type": "code",
      "metadata": {
        "id": "Ui7h9I_kkX-K"
      },
      "source": [
        "training_sentences = sentences[0:training_size]\n",
        "testing_sentences = sentences[training_size:]\n",
        "training_labels = labels[0:training_size]\n",
        "testing_labels = labels[training_size:]"
      ],
      "execution_count": null,
      "outputs": []
    },
    {
      "cell_type": "code",
      "metadata": {
        "id": "1NdYQaazkd7x"
      },
      "source": [
        "# tokenize, sequencing, padding\n",
        "\n",
        "tokenizer = Tokenizer(num_words=vocab_size, oov_token=oov_tok)\n",
        "tokenizer.fit_on_texts(training_sentences)\n",
        "word_index = tokenizer.word_index\n",
        "\n",
        "training_sequences = tokenizer.texts_to_sequences(training_sentences)\n",
        "training_padded = pad_sequences(training_sequences, maxlen=max_length, padding=padding_type, truncating=trunc_type)\n",
        "\n",
        "testing_sequences = tokenizer.texts_to_sequences(testing_sentences)\n",
        "testing_padded = pad_sequences(testing_sequences, maxlen=max_length, padding=padding_type)"
      ],
      "execution_count": null,
      "outputs": []
    },
    {
      "cell_type": "code",
      "metadata": {
        "id": "5b-z54itlC0A"
      },
      "source": [
        "training_padded = np.array(training_padded)\n",
        "training_labels = np.array(training_labels)\n",
        "\n",
        "testing_padded = np.array(testing_padded)\n",
        "testing_labels = np.array(testing_labels)"
      ],
      "execution_count": null,
      "outputs": []
    },
    {
      "cell_type": "code",
      "metadata": {
        "colab": {
          "base_uri": "https://localhost:8080/"
        },
        "id": "UMOJD_igQbwq",
        "outputId": "5fed7da8-5f55-4e76-ddce-2ddfb3dcf23b"
      },
      "source": [
        "len(word_index)"
      ],
      "execution_count": null,
      "outputs": [
        {
          "output_type": "execute_result",
          "data": {
            "text/plain": [
              "25637"
            ]
          },
          "metadata": {},
          "execution_count": 10
        }
      ]
    },
    {
      "cell_type": "code",
      "metadata": {
        "id": "YUHHFMtyQbwq"
      },
      "source": [
        "num_classes = 1"
      ],
      "execution_count": null,
      "outputs": []
    },
    {
      "cell_type": "code",
      "metadata": {
        "id": "PzVYiYJHQbwq"
      },
      "source": [
        "model = Sequential([\n",
        "    layers.Embedding(input_dim=vocab_size, output_dim=embedding_dim, input_length=max_length),\n",
        "    layers.GlobalAveragePooling1D(),                              # or use Flatten\n",
        "    layers.Dense(24, activation='relu'),\n",
        "    layers.Dense(num_classes, activation='sigmoid')\n",
        "])"
      ],
      "execution_count": null,
      "outputs": []
    },
    {
      "cell_type": "code",
      "metadata": {
        "colab": {
          "base_uri": "https://localhost:8080/"
        },
        "id": "Th0YiRjrl6a5",
        "outputId": "559832b7-534e-4f5f-8991-ceda18ab00ec"
      },
      "source": [
        "model.summary()"
      ],
      "execution_count": null,
      "outputs": [
        {
          "output_type": "stream",
          "name": "stdout",
          "text": [
            "Model: \"sequential\"\n",
            "_________________________________________________________________\n",
            "Layer (type)                 Output Shape              Param #   \n",
            "=================================================================\n",
            "embedding (Embedding)        (None, 100, 16)           160000    \n",
            "_________________________________________________________________\n",
            "global_average_pooling1d (Gl (None, 16)                0         \n",
            "_________________________________________________________________\n",
            "dense (Dense)                (None, 24)                408       \n",
            "_________________________________________________________________\n",
            "dense_1 (Dense)              (None, 1)                 25        \n",
            "=================================================================\n",
            "Total params: 160,433\n",
            "Trainable params: 160,433\n",
            "Non-trainable params: 0\n",
            "_________________________________________________________________\n"
          ]
        }
      ]
    },
    {
      "cell_type": "code",
      "metadata": {
        "id": "Q7Dra-fWl6a7"
      },
      "source": [
        "optimizer   = tf.keras.optimizers.Adam(learning_rate=0.01)\n",
        "loss        = tf.keras.losses.BinaryCrossentropy()\n",
        "metrics     = ['accuracy']"
      ],
      "execution_count": null,
      "outputs": []
    },
    {
      "cell_type": "code",
      "metadata": {
        "id": "geXALM9Zl6a9"
      },
      "source": [
        "model.compile(optimizer=optimizer,\n",
        "              loss=loss,\n",
        "              metrics=metrics)"
      ],
      "execution_count": null,
      "outputs": []
    },
    {
      "cell_type": "code",
      "metadata": {
        "id": "_fMJ9ZuXl6a8"
      },
      "source": [
        "early_stopping    = EarlyStopping(monitor='loss', patience=7)\n",
        "reduce_lr         = ReduceLROnPlateau(monitor='loss', patience=7, min_lr=0.001, mode='min', verbose=1)\n",
        "model_checkpoint  = ModelCheckpoint(monitor='loss', filepath='./best_model.h5', save_best_only=True)"
      ],
      "execution_count": null,
      "outputs": []
    },
    {
      "cell_type": "code",
      "metadata": {
        "id": "8PMOcaWtl6a8"
      },
      "source": [
        "epochs = 30\n",
        "callbacks = [early_stopping, reduce_lr, model_checkpoint]"
      ],
      "execution_count": null,
      "outputs": []
    },
    {
      "cell_type": "code",
      "metadata": {
        "colab": {
          "base_uri": "https://localhost:8080/"
        },
        "id": "hoCWf87Rl6a9",
        "outputId": "47be0aeb-1f81-4be0-f2af-45619bcd9029"
      },
      "source": [
        "history = model.fit(training_padded,\n",
        "                    training_labels,\n",
        "                    validation_data=(testing_padded, testing_labels),\n",
        "                    verbose = 1,\n",
        "                    epochs = epochs,\n",
        "                    callbacks = callbacks)"
      ],
      "execution_count": null,
      "outputs": [
        {
          "output_type": "stream",
          "name": "stdout",
          "text": [
            "Epoch 1/30\n",
            "625/625 [==============================] - 7s 5ms/step - loss: 0.4365 - accuracy: 0.7799 - val_loss: 0.3682 - val_accuracy: 0.8378\n",
            "Epoch 2/30\n",
            "625/625 [==============================] - 3s 5ms/step - loss: 0.2581 - accuracy: 0.8932 - val_loss: 0.3605 - val_accuracy: 0.8451\n",
            "Epoch 3/30\n",
            "625/625 [==============================] - 3s 5ms/step - loss: 0.1941 - accuracy: 0.9236 - val_loss: 0.3847 - val_accuracy: 0.8422\n",
            "Epoch 4/30\n",
            "625/625 [==============================] - 3s 5ms/step - loss: 0.1663 - accuracy: 0.9364 - val_loss: 0.4790 - val_accuracy: 0.8138\n",
            "Epoch 5/30\n",
            "625/625 [==============================] - 3s 5ms/step - loss: 0.1338 - accuracy: 0.9502 - val_loss: 0.4698 - val_accuracy: 0.8353\n",
            "Epoch 6/30\n",
            "625/625 [==============================] - 3s 5ms/step - loss: 0.1154 - accuracy: 0.9565 - val_loss: 0.4379 - val_accuracy: 0.8271\n",
            "Epoch 7/30\n",
            "625/625 [==============================] - 3s 5ms/step - loss: 0.0998 - accuracy: 0.9623 - val_loss: 0.6403 - val_accuracy: 0.8240\n",
            "Epoch 8/30\n",
            "625/625 [==============================] - 3s 5ms/step - loss: 0.0986 - accuracy: 0.9599 - val_loss: 0.6388 - val_accuracy: 0.8283\n",
            "Epoch 9/30\n",
            "625/625 [==============================] - 3s 5ms/step - loss: 0.0745 - accuracy: 0.9699 - val_loss: 0.6349 - val_accuracy: 0.8267\n",
            "Epoch 10/30\n",
            "625/625 [==============================] - 3s 5ms/step - loss: 0.0610 - accuracy: 0.9746 - val_loss: 0.8027 - val_accuracy: 0.8216\n",
            "Epoch 11/30\n",
            "625/625 [==============================] - 3s 5ms/step - loss: 0.0578 - accuracy: 0.9758 - val_loss: 0.9242 - val_accuracy: 0.8119\n",
            "Epoch 12/30\n",
            "625/625 [==============================] - 3s 5ms/step - loss: 0.0479 - accuracy: 0.9793 - val_loss: 0.9103 - val_accuracy: 0.8137\n",
            "Epoch 13/30\n",
            "625/625 [==============================] - 3s 5ms/step - loss: 0.0509 - accuracy: 0.9775 - val_loss: 1.0184 - val_accuracy: 0.8247\n",
            "Epoch 14/30\n",
            "625/625 [==============================] - 3s 5ms/step - loss: 0.0342 - accuracy: 0.9852 - val_loss: 1.1126 - val_accuracy: 0.8192\n",
            "Epoch 15/30\n",
            "625/625 [==============================] - 3s 5ms/step - loss: 0.0324 - accuracy: 0.9864 - val_loss: 1.1813 - val_accuracy: 0.8182\n",
            "Epoch 16/30\n",
            "625/625 [==============================] - 3s 5ms/step - loss: 0.0324 - accuracy: 0.9863 - val_loss: 1.1894 - val_accuracy: 0.8122\n",
            "Epoch 17/30\n",
            "625/625 [==============================] - 3s 5ms/step - loss: 0.0350 - accuracy: 0.9855 - val_loss: 1.2593 - val_accuracy: 0.8137\n",
            "Epoch 18/30\n",
            "625/625 [==============================] - 3s 5ms/step - loss: 0.0295 - accuracy: 0.9882 - val_loss: 1.3730 - val_accuracy: 0.8202\n",
            "Epoch 19/30\n",
            "625/625 [==============================] - 3s 5ms/step - loss: 0.0244 - accuracy: 0.9908 - val_loss: 1.3931 - val_accuracy: 0.8190\n",
            "Epoch 20/30\n",
            "625/625 [==============================] - 3s 5ms/step - loss: 0.0205 - accuracy: 0.9918 - val_loss: 1.4525 - val_accuracy: 0.8177\n",
            "Epoch 21/30\n",
            "625/625 [==============================] - 3s 5ms/step - loss: 0.0236 - accuracy: 0.9913 - val_loss: 1.5347 - val_accuracy: 0.8243\n",
            "Epoch 22/30\n",
            "625/625 [==============================] - 3s 5ms/step - loss: 0.0179 - accuracy: 0.9934 - val_loss: 1.5772 - val_accuracy: 0.8199\n",
            "Epoch 23/30\n",
            "625/625 [==============================] - 3s 5ms/step - loss: 0.0175 - accuracy: 0.9934 - val_loss: 1.5500 - val_accuracy: 0.8149\n",
            "Epoch 24/30\n",
            "625/625 [==============================] - 3s 5ms/step - loss: 0.0132 - accuracy: 0.9951 - val_loss: 1.6429 - val_accuracy: 0.8195\n",
            "Epoch 25/30\n",
            "625/625 [==============================] - 3s 5ms/step - loss: 0.0217 - accuracy: 0.9922 - val_loss: 1.5397 - val_accuracy: 0.8141\n",
            "Epoch 26/30\n",
            "625/625 [==============================] - 3s 5ms/step - loss: 0.0090 - accuracy: 0.9967 - val_loss: 1.7500 - val_accuracy: 0.8158\n",
            "Epoch 27/30\n",
            "625/625 [==============================] - 3s 5ms/step - loss: 0.0119 - accuracy: 0.9954 - val_loss: 1.8798 - val_accuracy: 0.8217\n",
            "Epoch 28/30\n",
            "625/625 [==============================] - 3s 5ms/step - loss: 0.0153 - accuracy: 0.9942 - val_loss: 2.0384 - val_accuracy: 0.8119\n",
            "Epoch 29/30\n",
            "625/625 [==============================] - 3s 5ms/step - loss: 0.0132 - accuracy: 0.9952 - val_loss: 1.8738 - val_accuracy: 0.8153\n",
            "Epoch 30/30\n",
            "625/625 [==============================] - 3s 5ms/step - loss: 0.0113 - accuracy: 0.9959 - val_loss: 2.0241 - val_accuracy: 0.8207\n"
          ]
        }
      ]
    },
    {
      "cell_type": "code",
      "metadata": {
        "colab": {
          "base_uri": "https://localhost:8080/",
          "height": 580
        },
        "id": "o_XtztunmTf_",
        "outputId": "32d6ef4e-7416-40f6-f6ac-9d4418abba6d"
      },
      "source": [
        "acc      = history.history['accuracy']\n",
        "val_acc  = history.history['val_accuracy']\n",
        "\n",
        "epochs   = range(len(acc))\n",
        "\n",
        "plt.plot(epochs, acc, 'r', label = 'Training')\n",
        "plt.plot(epochs, val_acc, 'b', label = 'Validation')\n",
        "plt.title('Training and Validation Accuracy')\n",
        "plt.legend()\n",
        "plt.figure()\n",
        "\n",
        "loss     = history.history['loss']\n",
        "val_loss = history.history['val_loss']\n",
        "\n",
        "epochs   = range(len(loss))\n",
        "\n",
        "plt.plot(epochs, loss, 'r', label = 'Training')\n",
        "plt.plot(epochs, val_loss, 'b', label = 'Validation')\n",
        "plt.title('Training and Validation Loss')\n",
        "plt.legend()\n",
        "plt.figure()"
      ],
      "execution_count": null,
      "outputs": [
        {
          "output_type": "execute_result",
          "data": {
            "text/plain": [
              "<Figure size 432x288 with 0 Axes>"
            ]
          },
          "metadata": {},
          "execution_count": 19
        },
        {
          "output_type": "display_data",
          "data": {
            "image/png": "[encoded data removed]",
            "text/plain": [
              "<Figure size 432x288 with 1 Axes>"
            ]
          },
          "metadata": {
            "needs_background": "light"
          }
        },
        {
          "output_type": "display_data",
          "data": {
            "image/png": "[encoded data removed]",
            "text/plain": [
              "<Figure size 432x288 with 1 Axes>"
            ]
          },
          "metadata": {
            "needs_background": "light"
          }
        },
        {
          "output_type": "display_data",
          "data": {
            "text/plain": [
              "<Figure size 432x288 with 0 Axes>"
            ]
          },
          "metadata": {}
        }
      ]
    },
    {
      "cell_type": "code",
      "metadata": {
        "colab": {
          "base_uri": "https://localhost:8080/"
        },
        "id": "iFgCD8iYM0qI",
        "outputId": "a948c1a4-8b1d-4f86-a57f-f01be6c5d8b2"
      },
      "source": [
        "sentence = [\"granny starting to fear spiders in the garden might be real\", \n",
        "            \"game of thrones season finale showing this sunday night\"]\n",
        "\n",
        "sequences = tokenizer.texts_to_sequences(sentence)\n",
        "padded = pad_sequences(sequences, maxlen=max_length, padding=padding_type, truncating=trunc_type)\n",
        "\n",
        "print(model.predict(padded))\n",
        "print(np.argmax(model.predict(padded), axis=1))"
      ],
      "execution_count": null,
      "outputs": [
        {
          "output_type": "stream",
          "name": "stdout",
          "text": [
            "[[6.9212886e-03]\n",
            " [4.2521169e-05]]\n",
            "[0 0]\n"
          ]
        }
      ]
    },
    {
      "cell_type": "markdown",
      "metadata": {
        "id": "dt_UBXcAbWOq"
      },
      "source": [
        "## Training on IMDB subwords"
      ]
    },
    {
      "cell_type": "code",
      "metadata": {
        "colab": {
          "base_uri": "https://localhost:8080/",
          "height": 356,
          "referenced_widgets": [
            "f4357d13f40c4c82bda91976fba42b26",
            "fcce4d5d951a4fab8e2554fef60871e7",
            "067168527a0644308053fe8ad19ce4c1",
            "df3c1eccd8924a84b1564e2892444570",
            "a2db45b407e048a6b06f9b0d98fd45fd",
            "750f2072d9ce4caaa65765c65f86ab6c",
            "7653c2acd55d471f9270e1c78694c816",
            "2b548220a320436fba23ff8ad4afd375",
            "5d8953a00c3642b5918e77b2f3829fc0",
            "2e9042e220904380a19e9edf9505d09b",
            "3a0daf69bf254e6684e7d0799a1d50e2",
            "fc93976e74294983912816d2f350c2bb",
            "dbdb5740826c4b3793ba9aab1b289970",
            "087c00ecc32f40bb9d51e6c0c30d19f0",
            "d8b20ae72a0742e2b7836fe906c268f6",
            "6e4df37e3b9f4921835fa0a51b0d963b",
            "8dcdba551f2146758ef743da2159d61d",
            "983981c69cac48a4a30c5dc13a6d71f0",
            "c946a2c5c2464f8ca9728dae6bea0bf0",
            "8a046e5d2c28425bb76169f3b5af969c",
            "90ad96fc978145e89688c0002386273d",
            "3714b035bc594f57b728938081f04f92",
            "90433294b03f4f4e884830c1eff71ae9",
            "bf16b7318d0e4728b213363e16f63b33",
            "1e24eeb023ab47ef981f1af8a1deeb0f",
            "85d8df4ccd5243408c4744a239e0f5a2",
            "1c9afdaf10134495b17b75ae758c2374",
            "10cbe12e6a2a40fc91ebb4962688952d"
          ]
        },
        "id": "2eKLNBV6qKFh",
        "outputId": "ccae7d0e-6e03-4dc5-8448-098fc82e93ce"
      },
      "source": [
        "# here the tokenization is done on sub words instead of words\n",
        "# and this may give accuracy issues\n",
        "\n",
        "import tensorflow_datasets as tfds\n",
        "imdb, info = tfds.load(\"imdb_reviews/subwords8k\", with_info=True, as_supervised=True)"
      ],
      "execution_count": null,
      "outputs": [
        {
          "output_type": "stream",
          "name": "stderr",
          "text": [
            "WARNING:absl:TFDS datasets with text encoding are deprecated and will be removed in a future version. Instead, you should use the plain text version and tokenize the text using `tensorflow_text` (See: https://www.tensorflow.org/tutorials/tensorflow_text/intro#tfdata_example)\n"
          ]
        },
        {
          "output_type": "stream",
          "name": "stdout",
          "text": [
            "\u001b[1mDownloading and preparing dataset imdb_reviews/subwords8k/1.0.0 (download: 80.23 MiB, generated: Unknown size, total: 80.23 MiB) to /root/tensorflow_datasets/imdb_reviews/subwords8k/1.0.0...\u001b[0m\n"
          ]
        },
        {
          "output_type": "display_data",
          "data": {
            "application/vnd.jupyter.widget-view+json": {
              "model_id": "f4357d13f40c4c82bda91976fba42b26",
              "version_minor": 0,
              "version_major": 2
            },
            "text/plain": [
              "Dl Completed...: 0 url [00:00, ? url/s]"
            ]
          },
          "metadata": {}
        },
        {
          "output_type": "display_data",
          "data": {
            "application/vnd.jupyter.widget-view+json": {
              "model_id": "fc93976e74294983912816d2f350c2bb",
              "version_minor": 0,
              "version_major": 2
            },
            "text/plain": [
              "Dl Size...: 0 MiB [00:00, ? MiB/s]"
            ]
          },
          "metadata": {}
        },
        {
          "output_type": "stream",
          "name": "stdout",
          "text": [
            "\n",
            "\n"
          ]
        },
        {
          "output_type": "display_data",
          "data": {
            "application/vnd.jupyter.widget-view+json": {
              "model_id": "90433294b03f4f4e884830c1eff71ae9",
              "version_minor": 0,
              "version_major": 2
            },
            "text/plain": [
              "0 examples [00:00, ? examples/s]"
            ]
          },
          "metadata": {}
        },
        {
          "output_type": "stream",
          "name": "stdout",
          "text": [
            "Shuffling and writing examples to /root/tensorflow_datasets/imdb_reviews/subwords8k/1.0.0.incomplete25S02I/imdb_reviews-train.tfrecord\n"
          ]
        },
        {
          "output_type": "display_data",
          "data": {
            "application/vnd.jupyter.widget-view+json": {
              "model_id": "bf16b7318d0e4728b213363e16f63b33",
              "version_minor": 0,
              "version_major": 2
            },
            "text/plain": [
              "  0%|          | 0/25000 [00:00<?, ? examples/s]"
            ]
          },
          "metadata": {}
        },
        {
          "output_type": "display_data",
          "data": {
            "application/vnd.jupyter.widget-view+json": {
              "model_id": "1e24eeb023ab47ef981f1af8a1deeb0f",
              "version_minor": 0,
              "version_major": 2
            },
            "text/plain": [
              "0 examples [00:00, ? examples/s]"
            ]
          },
          "metadata": {}
        },
        {
          "output_type": "stream",
          "name": "stdout",
          "text": [
            "Shuffling and writing examples to /root/tensorflow_datasets/imdb_reviews/subwords8k/1.0.0.incomplete25S02I/imdb_reviews-test.tfrecord\n"
          ]
        },
        {
          "output_type": "display_data",
          "data": {
            "application/vnd.jupyter.widget-view+json": {
              "model_id": "85d8df4ccd5243408c4744a239e0f5a2",
              "version_minor": 0,
              "version_major": 2
            },
            "text/plain": [
              "  0%|          | 0/25000 [00:00<?, ? examples/s]"
            ]
          },
          "metadata": {}
        },
        {
          "output_type": "display_data",
          "data": {
            "application/vnd.jupyter.widget-view+json": {
              "model_id": "1c9afdaf10134495b17b75ae758c2374",
              "version_minor": 0,
              "version_major": 2
            },
            "text/plain": [
              "0 examples [00:00, ? examples/s]"
            ]
          },
          "metadata": {}
        },
        {
          "output_type": "stream",
          "name": "stdout",
          "text": [
            "Shuffling and writing examples to /root/tensorflow_datasets/imdb_reviews/subwords8k/1.0.0.incomplete25S02I/imdb_reviews-unsupervised.tfrecord\n"
          ]
        },
        {
          "output_type": "display_data",
          "data": {
            "application/vnd.jupyter.widget-view+json": {
              "model_id": "10cbe12e6a2a40fc91ebb4962688952d",
              "version_minor": 0,
              "version_major": 2
            },
            "text/plain": [
              "  0%|          | 0/50000 [00:00<?, ? examples/s]"
            ]
          },
          "metadata": {}
        },
        {
          "output_type": "stream",
          "name": "stderr",
          "text": [
            "WARNING:absl:Dataset is using deprecated text encoder API which will be removed soon. Please use the plain_text version of the dataset and migrate to `tensorflow_text`.\n"
          ]
        },
        {
          "output_type": "stream",
          "name": "stdout",
          "text": [
            "\u001b[1mDataset imdb_reviews downloaded and prepared to /root/tensorflow_datasets/imdb_reviews/subwords8k/1.0.0. Subsequent calls will reuse this data.\u001b[0m\n"
          ]
        }
      ]
    },
    {
      "cell_type": "code",
      "metadata": {
        "colab": {
          "base_uri": "https://localhost:8080/"
        },
        "id": "5HhbI2QsyrVe",
        "outputId": "87828416-8b68-4b5c-ff26-670319043539"
      },
      "source": [
        "imdb"
      ],
      "execution_count": null,
      "outputs": [
        {
          "output_type": "execute_result",
          "data": {
            "text/plain": [
              "{'test': <PrefetchDataset shapes: ((None,), ()), types: (tf.int64, tf.int64)>,\n",
              " 'train': <PrefetchDataset shapes: ((None,), ()), types: (tf.int64, tf.int64)>,\n",
              " 'unsupervised': <PrefetchDataset shapes: ((None,), ()), types: (tf.int64, tf.int64)>}"
            ]
          },
          "metadata": {},
          "execution_count": 52
        }
      ]
    },
    {
      "cell_type": "code",
      "metadata": {
        "id": "wHQ2Ko0zl7M4"
      },
      "source": [
        "train_data, test_data = imdb['train'], imdb['test']"
      ],
      "execution_count": null,
      "outputs": []
    },
    {
      "cell_type": "code",
      "metadata": {
        "id": "fqGRSe_eCdOz"
      },
      "source": [
        "tokenizer = info.features['text'].encoder"
      ],
      "execution_count": null,
      "outputs": []
    },
    {
      "cell_type": "code",
      "metadata": {
        "id": "F6b_EraCDLOh",
        "colab": {
          "base_uri": "https://localhost:8080/"
        },
        "outputId": "57c2e56b-a6f7-42b8-9880-4393a8ff90d9"
      },
      "source": [
        "tokenizer.subwords[:20]"
      ],
      "execution_count": null,
      "outputs": [
        {
          "output_type": "execute_result",
          "data": {
            "text/plain": [
              "['the_',\n",
              " ', ',\n",
              " '. ',\n",
              " 'a_',\n",
              " 'and_',\n",
              " 'of_',\n",
              " 'to_',\n",
              " 's_',\n",
              " 'is_',\n",
              " 'br',\n",
              " 'in_',\n",
              " 'I_',\n",
              " 'that_',\n",
              " 'this_',\n",
              " 'it_',\n",
              " ' /><',\n",
              " ' />',\n",
              " 'was_',\n",
              " 'The_',\n",
              " 'as_']"
            ]
          },
          "metadata": {},
          "execution_count": 55
        }
      ]
    },
    {
      "cell_type": "code",
      "metadata": {
        "id": "fPl2BXhYEHRP",
        "colab": {
          "base_uri": "https://localhost:8080/"
        },
        "outputId": "68d0e791-c7a9-4614-e260-4d04934853d9"
      },
      "source": [
        "sample_string = 'TensorFlow, from basics to mastery'\n",
        "\n",
        "tokenized_string = tokenizer.encode(sample_string)\n",
        "print ('Tokenized string is {}'.format(tokenized_string))\n",
        "\n",
        "original_string = tokenizer.decode(tokenized_string)\n",
        "print ('The original string: {}'.format(original_string))\n"
      ],
      "execution_count": null,
      "outputs": [
        {
          "output_type": "stream",
          "name": "stdout",
          "text": [
            "Tokenized string is [6307, 2327, 4043, 2120, 2, 48, 4249, 4429, 7, 2652, 8050]\n",
            "The original string: TensorFlow, from basics to mastery\n"
          ]
        }
      ]
    },
    {
      "cell_type": "code",
      "metadata": {
        "id": "_3t7vvNLEZml",
        "colab": {
          "base_uri": "https://localhost:8080/"
        },
        "outputId": "f6884a31-6a70-4f51-bdc1-620e22dcf312"
      },
      "source": [
        "for ts in tokenized_string:\n",
        "  print ('{} ----> {}'.format(ts, tokenizer.decode([ts])))"
      ],
      "execution_count": null,
      "outputs": [
        {
          "output_type": "stream",
          "name": "stdout",
          "text": [
            "6307 ----> Ten\n",
            "2327 ----> sor\n",
            "4043 ----> Fl\n",
            "2120 ----> ow\n",
            "2 ----> , \n",
            "48 ----> from \n",
            "4249 ----> basi\n",
            "4429 ----> cs \n",
            "7 ----> to \n",
            "2652 ----> master\n",
            "8050 ----> y\n"
          ]
        }
      ]
    },
    {
      "cell_type": "code",
      "metadata": {
        "id": "IDh_nGBqiRGX"
      },
      "source": [
        "BUFFER_SIZE = 10000\n",
        "BATCH_SIZE = 64\n",
        "\n",
        "train_dataset = train_data.shuffle(BUFFER_SIZE)\n",
        "train_dataset = train_dataset.padded_batch(BATCH_SIZE, tf.compat.v1.data.get_output_shapes(train_dataset))\n",
        "test_dataset = test_data.padded_batch(BATCH_SIZE, tf.compat.v1.data.get_output_shapes(test_data))"
      ],
      "execution_count": null,
      "outputs": []
    },
    {
      "cell_type": "code",
      "metadata": {
        "id": "pvJnbm95zp-F"
      },
      "source": [
        "embedding_dim = 64\n",
        "num_classes = 1"
      ],
      "execution_count": null,
      "outputs": []
    },
    {
      "cell_type": "code",
      "metadata": {
        "id": "d5KfHLeezp-I"
      },
      "source": [
        "model = Sequential([\n",
        "    layers.Embedding(input_dim=tokenizer.vocab_size, output_dim=embedding_dim),\n",
        "    layers.GlobalAveragePooling1D(),                              # or use Flatten\n",
        "    layers.Dense(6, activation='relu'),\n",
        "    layers.Dense(num_classes, activation='sigmoid')\n",
        "])"
      ],
      "execution_count": null,
      "outputs": []
    },
    {
      "cell_type": "code",
      "metadata": {
        "id": "5NEpdhb8AxID",
        "colab": {
          "base_uri": "https://localhost:8080/"
        },
        "outputId": "677b9733-138e-45e7-c944-b20949557a53"
      },
      "source": [
        "model.summary()"
      ],
      "execution_count": null,
      "outputs": [
        {
          "output_type": "stream",
          "name": "stdout",
          "text": [
            "Model: \"sequential_2\"\n",
            "_________________________________________________________________\n",
            "Layer (type)                 Output Shape              Param #   \n",
            "=================================================================\n",
            "embedding_2 (Embedding)      (None, None, 64)          523840    \n",
            "_________________________________________________________________\n",
            "global_average_pooling1d_2 ( (None, 64)                0         \n",
            "_________________________________________________________________\n",
            "dense_4 (Dense)              (None, 6)                 390       \n",
            "_________________________________________________________________\n",
            "dense_5 (Dense)              (None, 1)                 7         \n",
            "=================================================================\n",
            "Total params: 524,237\n",
            "Trainable params: 524,237\n",
            "Non-trainable params: 0\n",
            "_________________________________________________________________\n"
          ]
        }
      ]
    },
    {
      "cell_type": "code",
      "metadata": {
        "id": "qgFL42Z-0OT2"
      },
      "source": [
        "optimizer   = tf.keras.optimizers.Adam(learning_rate=0.01)\n",
        "loss        = tf.keras.losses.BinaryCrossentropy()\n",
        "metrics     = ['accuracy']"
      ],
      "execution_count": null,
      "outputs": []
    },
    {
      "cell_type": "code",
      "metadata": {
        "id": "Y4-O4jjL0B3X"
      },
      "source": [
        "model.compile(optimizer=optimizer,\n",
        "              loss=loss,\n",
        "              metrics=metrics)"
      ],
      "execution_count": null,
      "outputs": []
    },
    {
      "cell_type": "code",
      "metadata": {
        "id": "kUu_gRlw0B3W"
      },
      "source": [
        "epochs = 10"
      ],
      "execution_count": null,
      "outputs": []
    },
    {
      "cell_type": "code",
      "metadata": {
        "colab": {
          "base_uri": "https://localhost:8080/"
        },
        "id": "IGWjrpZz0B3X",
        "outputId": "018d80da-9f53-4ff0-ff29-f8c952c723dd"
      },
      "source": [
        "history = model.fit(train_dataset,\n",
        "                    validation_data=test_dataset,\n",
        "                    verbose = 1,\n",
        "                    epochs = epochs)"
      ],
      "execution_count": null,
      "outputs": [
        {
          "output_type": "stream",
          "name": "stdout",
          "text": [
            "Epoch 1/10\n",
            "391/391 [==============================] - 8s 17ms/step - loss: 0.4922 - accuracy: 0.7446 - val_loss: 0.3236 - val_accuracy: 0.8644\n",
            "Epoch 2/10\n",
            "391/391 [==============================] - 7s 17ms/step - loss: 0.2555 - accuracy: 0.8999 - val_loss: 0.3236 - val_accuracy: 0.8644\n",
            "Epoch 3/10\n",
            "391/391 [==============================] - 7s 16ms/step - loss: 0.2074 - accuracy: 0.9175 - val_loss: 0.3085 - val_accuracy: 0.8756\n",
            "Epoch 4/10\n",
            "391/391 [==============================] - 7s 16ms/step - loss: 0.1799 - accuracy: 0.9312 - val_loss: 0.4164 - val_accuracy: 0.8412\n",
            "Epoch 5/10\n",
            "391/391 [==============================] - 7s 16ms/step - loss: 0.1586 - accuracy: 0.9379 - val_loss: 0.3603 - val_accuracy: 0.8637\n",
            "Epoch 6/10\n",
            "391/391 [==============================] - 7s 16ms/step - loss: 0.1460 - accuracy: 0.9424 - val_loss: 0.4515 - val_accuracy: 0.8477\n",
            "Epoch 7/10\n",
            "391/391 [==============================] - 7s 16ms/step - loss: 0.1228 - accuracy: 0.9522 - val_loss: 0.4611 - val_accuracy: 0.8598\n",
            "Epoch 8/10\n",
            "391/391 [==============================] - 7s 16ms/step - loss: 0.1182 - accuracy: 0.9525 - val_loss: 0.4777 - val_accuracy: 0.8612\n",
            "Epoch 9/10\n",
            "391/391 [==============================] - 7s 16ms/step - loss: 0.1057 - accuracy: 0.9577 - val_loss: 0.5415 - val_accuracy: 0.8545\n",
            "Epoch 10/10\n",
            "391/391 [==============================] - 7s 16ms/step - loss: 0.0815 - accuracy: 0.9688 - val_loss: 0.7826 - val_accuracy: 0.8386\n"
          ]
        }
      ]
    },
    {
      "cell_type": "code",
      "metadata": {
        "colab": {
          "base_uri": "https://localhost:8080/",
          "height": 580
        },
        "id": "LFEdx68c0w9r",
        "outputId": "d00a4516-c425-4a1a-e34d-8d14a8460929"
      },
      "source": [
        "acc      = history.history['accuracy']\n",
        "val_acc  = history.history['val_accuracy']\n",
        "\n",
        "epochs   = range(len(acc))\n",
        "\n",
        "plt.plot(epochs, acc, 'r', label = 'Training')\n",
        "plt.plot(epochs, val_acc, 'b', label = 'Validation')\n",
        "plt.title('Training and Validation Accuracy')\n",
        "plt.legend()\n",
        "plt.figure()\n",
        "\n",
        "loss     = history.history['loss']\n",
        "val_loss = history.history['val_loss']\n",
        "\n",
        "epochs   = range(len(loss))\n",
        "\n",
        "plt.plot(epochs, loss, 'r', label = 'Training')\n",
        "plt.plot(epochs, val_loss, 'b', label = 'Validation')\n",
        "plt.title('Training and Validation Loss')\n",
        "plt.legend()\n",
        "plt.figure()"
      ],
      "execution_count": null,
      "outputs": [
        {
          "output_type": "execute_result",
          "data": {
            "text/plain": [
              "<Figure size 432x288 with 0 Axes>"
            ]
          },
          "metadata": {},
          "execution_count": 68
        },
        {
          "output_type": "display_data",
          "data": {
            "image/png": "[encoded data removed]",
            "text/plain": [
              "<Figure size 432x288 with 1 Axes>"
            ]
          },
          "metadata": {
            "needs_background": "light"
          }
        },
        {
          "output_type": "display_data",
          "data": {
            "image/png": "[encoded data removed]",
            "text/plain": [
              "<Figure size 432x288 with 1 Axes>"
            ]
          },
          "metadata": {
            "needs_background": "light"
          }
        },
        {
          "output_type": "display_data",
          "data": {
            "text/plain": [
              "<Figure size 432x288 with 0 Axes>"
            ]
          },
          "metadata": {}
        }
      ]
    },
    {
      "cell_type": "markdown",
      "metadata": {
        "id": "PDSEZWbVrgTe"
      },
      "source": [
        "## Exercise 10"
      ]
    },
    {
      "cell_type": "markdown",
      "metadata": {
        "id": "LdFizQPTrpZ5"
      },
      "source": [
        "Running on BBC data."
      ]
    },
    {
      "cell_type": "code",
      "metadata": {
        "colab": {
          "base_uri": "https://localhost:8080/"
        },
        "id": "mFjevFcuriL4",
        "outputId": "905bd8c9-0915-472d-d421-8b64d4f17ad8"
      },
      "source": [
        "!wget --no-check-certificate \\\n",
        "    https://storage.googleapis.com/laurencemoroney-blog.appspot.com/bbc-text.csv \\\n",
        "    -O /content/bbc-text.csv"
      ],
      "execution_count": null,
      "outputs": [
        {
          "output_type": "stream",
          "name": "stdout",
          "text": [
            "--2021-10-11 18:37:57--  https://storage.googleapis.com/laurencemoroney-blog.appspot.com/bbc-text.csv\n",
            "Resolving storage.googleapis.com (storage.googleapis.com)... 142.251.5.128, 64.233.184.128, 74.125.133.128, ...\n",
            "Connecting to storage.googleapis.com (storage.googleapis.com)|142.251.5.128|:443... connected.\n",
            "HTTP request sent, awaiting response... 200 OK\n",
            "Length: 5057493 (4.8M) [text/csv]\n",
            "Saving to: ‘/content/bbc-text.csv’\n",
            "\n",
            "/content/bbc-text.c 100%[===================>]   4.82M  29.1MB/s    in 0.2s    \n",
            "\n",
            "2021-10-11 18:37:58 (29.1 MB/s) - ‘/content/bbc-text.csv’ saved [5057493/5057493]\n",
            "\n"
          ]
        }
      ]
    },
    {
      "cell_type": "code",
      "metadata": {
        "colab": {
          "base_uri": "https://localhost:8080/"
        },
        "id": "1v5IA2dFs3Ga",
        "outputId": "7f78fdf0-27cc-4a49-fbeb-19a9c3f8725f"
      },
      "source": [
        "df = pd.read_csv('bbc-text.csv')\n",
        "df.shape"
      ],
      "execution_count": null,
      "outputs": [
        {
          "output_type": "execute_result",
          "data": {
            "text/plain": [
              "(2225, 2)"
            ]
          },
          "metadata": {},
          "execution_count": 26
        }
      ]
    },
    {
      "cell_type": "code",
      "metadata": {
        "colab": {
          "base_uri": "https://localhost:8080/",
          "height": 355
        },
        "id": "rkUC25j8s-FO",
        "outputId": "30a24431-b6e9-4168-c81d-4820e4b306c5"
      },
      "source": [
        "df.head(10)"
      ],
      "execution_count": null,
      "outputs": [
        {
          "output_type": "execute_result",
          "data": {
            "text/html": [
              "<div>\n",
              "<style scoped>\n",
              "    .dataframe tbody tr th:only-of-type {\n",
              "        vertical-align: middle;\n",
              "    }\n",
              "\n",
              "    .dataframe tbody tr th {\n",
              "        vertical-align: top;\n",
              "    }\n",
              "\n",
              "    .dataframe thead th {\n",
              "        text-align: right;\n",
              "    }\n",
              "</style>\n",
              "<table border=\"1\" class=\"dataframe\">\n",
              "  <thead>\n",
              "    <tr style=\"text-align: right;\">\n",
              "      <th></th>\n",
              "      <th>category</th>\n",
              "      <th>text</th>\n",
              "    </tr>\n",
              "  </thead>\n",
              "  <tbody>\n",
              "    <tr>\n",
              "      <th>0</th>\n",
              "      <td>tech</td>\n",
              "      <td>tv future in the hands of viewers with home th...</td>\n",
              "    </tr>\n",
              "    <tr>\n",
              "      <th>1</th>\n",
              "      <td>business</td>\n",
              "      <td>worldcom boss  left books alone  former worldc...</td>\n",
              "    </tr>\n",
              "    <tr>\n",
              "      <th>2</th>\n",
              "      <td>sport</td>\n",
              "      <td>tigers wary of farrell  gamble  leicester say ...</td>\n",
              "    </tr>\n",
              "    <tr>\n",
              "      <th>3</th>\n",
              "      <td>sport</td>\n",
              "      <td>yeading face newcastle in fa cup premiership s...</td>\n",
              "    </tr>\n",
              "    <tr>\n",
              "      <th>4</th>\n",
              "      <td>entertainment</td>\n",
              "      <td>ocean s twelve raids box office ocean s twelve...</td>\n",
              "    </tr>\n",
              "    <tr>\n",
              "      <th>5</th>\n",
              "      <td>politics</td>\n",
              "      <td>howard hits back at mongrel jibe michael howar...</td>\n",
              "    </tr>\n",
              "    <tr>\n",
              "      <th>6</th>\n",
              "      <td>politics</td>\n",
              "      <td>blair prepares to name poll date tony blair is...</td>\n",
              "    </tr>\n",
              "    <tr>\n",
              "      <th>7</th>\n",
              "      <td>sport</td>\n",
              "      <td>henman hopes ended in dubai third seed tim hen...</td>\n",
              "    </tr>\n",
              "    <tr>\n",
              "      <th>8</th>\n",
              "      <td>sport</td>\n",
              "      <td>wilkinson fit to face edinburgh england captai...</td>\n",
              "    </tr>\n",
              "    <tr>\n",
              "      <th>9</th>\n",
              "      <td>entertainment</td>\n",
              "      <td>last star wars  not for children  the sixth an...</td>\n",
              "    </tr>\n",
              "  </tbody>\n",
              "</table>\n",
              "</div>"
            ],
            "text/plain": [
              "        category                                               text\n",
              "0           tech  tv future in the hands of viewers with home th...\n",
              "1       business  worldcom boss  left books alone  former worldc...\n",
              "2          sport  tigers wary of farrell  gamble  leicester say ...\n",
              "3          sport  yeading face newcastle in fa cup premiership s...\n",
              "4  entertainment  ocean s twelve raids box office ocean s twelve...\n",
              "5       politics  howard hits back at mongrel jibe michael howar...\n",
              "6       politics  blair prepares to name poll date tony blair is...\n",
              "7          sport  henman hopes ended in dubai third seed tim hen...\n",
              "8          sport  wilkinson fit to face edinburgh england captai...\n",
              "9  entertainment  last star wars  not for children  the sixth an..."
            ]
          },
          "metadata": {},
          "execution_count": 27
        }
      ]
    },
    {
      "cell_type": "code",
      "metadata": {
        "colab": {
          "base_uri": "https://localhost:8080/"
        },
        "id": "0ccwzP9GtFMs",
        "outputId": "d0bcc3d7-03fc-44b6-c8d3-7de62bbde4a9"
      },
      "source": [
        "df['category'].value_counts()"
      ],
      "execution_count": null,
      "outputs": [
        {
          "output_type": "execute_result",
          "data": {
            "text/plain": [
              "sport            511\n",
              "business         510\n",
              "politics         417\n",
              "tech             401\n",
              "entertainment    386\n",
              "Name: category, dtype: int64"
            ]
          },
          "metadata": {},
          "execution_count": 28
        }
      ]
    },
    {
      "cell_type": "code",
      "metadata": {
        "id": "cptvNoKTphB7"
      },
      "source": [
        "vocab_size = 10000\n",
        "embedding_dim = 16\n",
        "max_length = 100\n",
        "\n",
        "trunc_type = \"post\"\n",
        "padding_type = \"post\"\n",
        "oov_tok = \"<OOV>\"\n",
        "training_portion = 0.8"
      ],
      "execution_count": null,
      "outputs": []
    },
    {
      "cell_type": "code",
      "metadata": {
        "colab": {
          "base_uri": "https://localhost:8080/"
        },
        "id": "1bipqEBbr0Cj",
        "outputId": "8130dc37-878f-45de-a838-229641755d62"
      },
      "source": [
        "stopwords = [ \"a\", \"about\", \"above\", \"after\", \"again\", \"against\", \"all\", \"am\", \"an\", \"and\", \"any\", \"are\", \"as\", \"at\", \"be\", \"because\", \"been\", \"before\", \"being\", \"below\", \"between\", \"both\", \"but\", \"by\", \"could\", \"did\", \"do\", \"does\", \"doing\", \"down\", \"during\", \"each\", \"few\", \"for\", \"from\", \"further\", \"had\", \"has\", \"have\", \"having\", \"he\", \"he'd\", \"he'll\", \"he's\", \"her\", \"here\", \"here's\", \"hers\", \"herself\", \"him\", \"himself\", \"his\", \"how\", \"how's\", \"i\", \"i'd\", \"i'll\", \"i'm\", \"i've\", \"if\", \"in\", \"into\", \"is\", \"it\", \"it's\", \"its\", \"itself\", \"let's\", \"me\", \"more\", \"most\", \"my\", \"myself\", \"nor\", \"of\", \"on\", \"once\", \"only\", \"or\", \"other\", \"ought\", \"our\", \"ours\", \"ourselves\", \"out\", \"over\", \"own\", \"same\", \"she\", \"she'd\", \"she'll\", \"she's\", \"should\", \"so\", \"some\", \"such\", \"than\", \"that\", \"that's\", \"the\", \"their\", \"theirs\", \"them\", \"themselves\", \"then\", \"there\", \"there's\", \"these\", \"they\", \"they'd\", \"they'll\", \"they're\", \"they've\", \"this\", \"those\", \"through\", \"to\", \"too\", \"under\", \"until\", \"up\", \"very\", \"was\", \"we\", \"we'd\", \"we'll\", \"we're\", \"we've\", \"were\", \"what\", \"what's\", \"when\", \"when's\", \"where\", \"where's\", \"which\", \"while\", \"who\", \"who's\", \"whom\", \"why\", \"why's\", \"with\", \"would\", \"you\", \"you'd\", \"you'll\", \"you're\", \"you've\", \"your\", \"yours\", \"yourself\", \"yourselves\" ]\n",
        "print(len(stopwords))"
      ],
      "execution_count": null,
      "outputs": [
        {
          "output_type": "stream",
          "name": "stdout",
          "text": [
            "153\n"
          ]
        }
      ]
    },
    {
      "cell_type": "code",
      "metadata": {
        "id": "ciBR8lRSr0HO"
      },
      "source": [
        "sentences = []\n",
        "labels = []\n",
        "\n",
        "with open(\"/content/bbc-text.csv\", 'r') as csvfile:\n",
        "    reader = csv.reader(csvfile, delimiter=',')\n",
        "    next(reader)\n",
        "    for row in reader:\n",
        "        labels.append(row[0])\n",
        "        sentence = row[1]\n",
        "        for word in stopwords:\n",
        "            token = \" \" + word + \" \"\n",
        "            sentence = sentence.replace(token, \" \")\n",
        "        sentences.append(sentence)"
      ],
      "execution_count": null,
      "outputs": []
    },
    {
      "cell_type": "code",
      "metadata": {
        "colab": {
          "base_uri": "https://localhost:8080/"
        },
        "id": "gWVcGEWiqEJp",
        "outputId": "294c7714-d0fe-4185-b79e-64a592f4388f"
      },
      "source": [
        "len(labels), len(sentences)"
      ],
      "execution_count": null,
      "outputs": [
        {
          "output_type": "execute_result",
          "data": {
            "text/plain": [
              "(2225, 2225)"
            ]
          },
          "metadata": {},
          "execution_count": 32
        }
      ]
    },
    {
      "cell_type": "code",
      "metadata": {
        "colab": {
          "base_uri": "https://localhost:8080/",
          "height": 35
        },
        "id": "OSlDoDwFqJW8",
        "outputId": "51575cd5-a65d-4cc8-a96c-42546d386ba6"
      },
      "source": [
        "sentences[0][:20]"
      ],
      "execution_count": null,
      "outputs": [
        {
          "output_type": "execute_result",
          "data": {
            "application/vnd.google.colaboratory.intrinsic+json": {
              "type": "string"
            },
            "text/plain": [
              "'tv future hands view'"
            ]
          },
          "metadata": {},
          "execution_count": 34
        }
      ]
    },
    {
      "cell_type": "code",
      "metadata": {
        "colab": {
          "base_uri": "https://localhost:8080/"
        },
        "id": "tT96fQ1jr0Kl",
        "outputId": "d99a9248-f3bd-4be6-edd0-a09429b586e1"
      },
      "source": [
        "training_size = int(len(sentences) * training_portion)\n",
        "\n",
        "training_sentences = sentences[:training_size]\n",
        "training_labels = labels[:training_size]\n",
        "\n",
        "testing_sentences = sentences[training_size:]\n",
        "testing_labels = labels[training_size:]\n",
        "\n",
        "print(training_size)\n",
        "print(len(training_sentences))\n",
        "print(len(training_labels))\n",
        "print(len(testing_sentences))\n",
        "print(len(testing_labels))"
      ],
      "execution_count": null,
      "outputs": [
        {
          "output_type": "stream",
          "name": "stdout",
          "text": [
            "1780\n",
            "1780\n",
            "1780\n",
            "445\n",
            "445\n"
          ]
        }
      ]
    },
    {
      "cell_type": "code",
      "metadata": {
        "id": "dcmmKWo2vO7v"
      },
      "source": [
        "# tokenize, sequencing, padding\n",
        "\n",
        "tokenizer = Tokenizer(num_words=vocab_size, oov_token=oov_tok)\n",
        "tokenizer.fit_on_texts(training_sentences)\n",
        "word_index = tokenizer.word_index\n",
        "\n",
        "training_sequences = tokenizer.texts_to_sequences(training_sentences)\n",
        "training_padded = pad_sequences(training_sequences, maxlen=max_length, padding=padding_type, truncating=trunc_type)\n",
        "\n",
        "testing_sequences = tokenizer.texts_to_sequences(testing_sentences)\n",
        "testing_padded = pad_sequences(testing_sequences, maxlen=max_length, padding=padding_type)"
      ],
      "execution_count": null,
      "outputs": []
    },
    {
      "cell_type": "code",
      "metadata": {
        "colab": {
          "base_uri": "https://localhost:8080/"
        },
        "id": "CihqSwWjwRtM",
        "outputId": "4c5a0850-d3ce-442e-865d-8f8ca22bfc3a"
      },
      "source": [
        "print(len(training_sequences[0]), len(training_padded[0]))\n",
        "print(len(training_sequences[1]), len(training_padded[1]))\n",
        "print(len(training_sequences[10]), len(training_padded[10]))"
      ],
      "execution_count": null,
      "outputs": [
        {
          "output_type": "stream",
          "name": "stdout",
          "text": [
            "449 100\n",
            "200 100\n",
            "192 100\n"
          ]
        }
      ]
    },
    {
      "cell_type": "code",
      "metadata": {
        "colab": {
          "base_uri": "https://localhost:8080/"
        },
        "id": "NBgodi5zw1r6",
        "outputId": "59624a78-cf4f-4c5d-cac7-865f05515c59"
      },
      "source": [
        "print(len(testing_sequences))\n",
        "print(testing_padded.shape)"
      ],
      "execution_count": null,
      "outputs": [
        {
          "output_type": "stream",
          "name": "stdout",
          "text": [
            "445\n",
            "(445, 100)\n"
          ]
        }
      ]
    },
    {
      "cell_type": "code",
      "metadata": {
        "colab": {
          "base_uri": "https://localhost:8080/"
        },
        "id": "x_jvZh3RsNcA",
        "outputId": "9aece203-2031-4879-c142-9ad7d63c2b33"
      },
      "source": [
        "label_tokenizer = Tokenizer()\n",
        "label_tokenizer.fit_on_texts(labels)\n",
        "\n",
        "training_label_seq = np.array(label_tokenizer.texts_to_sequences(training_labels))\n",
        "testing_label_seq = np.array(label_tokenizer.texts_to_sequences(testing_labels))\n",
        "\n",
        "print(training_label_seq[0])\n",
        "print(training_label_seq[1])\n",
        "print(training_label_seq[2])\n",
        "print(training_label_seq.shape)\n",
        "\n",
        "print(testing_label_seq[0])\n",
        "print(testing_label_seq[1])\n",
        "print(testing_label_seq[2])\n",
        "print(testing_label_seq.shape)"
      ],
      "execution_count": null,
      "outputs": [
        {
          "output_type": "stream",
          "name": "stdout",
          "text": [
            "[4]\n",
            "[2]\n",
            "[1]\n",
            "(1780, 1)\n",
            "[5]\n",
            "[4]\n",
            "[3]\n",
            "(445, 1)\n"
          ]
        }
      ]
    },
    {
      "cell_type": "code",
      "metadata": {
        "id": "T091SIhXxmBG"
      },
      "source": [
        "num_classes = 6"
      ],
      "execution_count": null,
      "outputs": []
    },
    {
      "cell_type": "code",
      "metadata": {
        "id": "cbYyAD3YxmBH"
      },
      "source": [
        "model = Sequential([\n",
        "    layers.Embedding(input_dim=vocab_size, output_dim=embedding_dim, input_length=max_length),\n",
        "    layers.GlobalAveragePooling1D(),                              # or use Flatten\n",
        "    layers.Dense(24, activation='relu'),\n",
        "    layers.Dense(num_classes, activation='sigmoid')\n",
        "])"
      ],
      "execution_count": null,
      "outputs": []
    },
    {
      "cell_type": "code",
      "metadata": {
        "colab": {
          "base_uri": "https://localhost:8080/"
        },
        "id": "goiV7IoBxmBI",
        "outputId": "13d7ba89-9b55-4ae7-c64d-533acdda76bc"
      },
      "source": [
        "model.summary()"
      ],
      "execution_count": null,
      "outputs": [
        {
          "output_type": "stream",
          "name": "stdout",
          "text": [
            "Model: \"sequential_1\"\n",
            "_________________________________________________________________\n",
            "Layer (type)                 Output Shape              Param #   \n",
            "=================================================================\n",
            "embedding_1 (Embedding)      (None, 100, 16)           160000    \n",
            "_________________________________________________________________\n",
            "global_average_pooling1d_1 ( (None, 16)                0         \n",
            "_________________________________________________________________\n",
            "dense_2 (Dense)              (None, 24)                408       \n",
            "_________________________________________________________________\n",
            "dense_3 (Dense)              (None, 6)                 150       \n",
            "=================================================================\n",
            "Total params: 160,558\n",
            "Trainable params: 160,558\n",
            "Non-trainable params: 0\n",
            "_________________________________________________________________\n"
          ]
        }
      ]
    },
    {
      "cell_type": "code",
      "metadata": {
        "id": "slc6wFANxmBI"
      },
      "source": [
        "optimizer   = tf.keras.optimizers.Adam(learning_rate=0.01)\n",
        "loss        = tf.keras.losses.SparseCategoricalCrossentropy()\n",
        "metrics     = ['accuracy']"
      ],
      "execution_count": null,
      "outputs": []
    },
    {
      "cell_type": "code",
      "metadata": {
        "id": "kiEwApotxmBK"
      },
      "source": [
        "model.compile(optimizer=optimizer,\n",
        "              loss=loss,\n",
        "              metrics=metrics)"
      ],
      "execution_count": null,
      "outputs": []
    },
    {
      "cell_type": "code",
      "metadata": {
        "id": "tiejAojExmBJ"
      },
      "source": [
        "early_stopping    = EarlyStopping(monitor='loss', patience=7)\n",
        "reduce_lr         = ReduceLROnPlateau(monitor='loss', patience=7, min_lr=0.001, mode='min', verbose=1)\n",
        "model_checkpoint  = ModelCheckpoint(monitor='loss', filepath='./best_model.h5', save_best_only=True)"
      ],
      "execution_count": null,
      "outputs": []
    },
    {
      "cell_type": "code",
      "metadata": {
        "id": "pjhCBi-OxmBJ"
      },
      "source": [
        "epochs = 50\n",
        "callbacks = [early_stopping, reduce_lr, model_checkpoint]"
      ],
      "execution_count": null,
      "outputs": []
    },
    {
      "cell_type": "code",
      "metadata": {
        "colab": {
          "base_uri": "https://localhost:8080/"
        },
        "id": "YuTrnYgNxmBK",
        "outputId": "e95bf605-2069-4d86-df15-d2acbc34bba2"
      },
      "source": [
        "history = model.fit(training_padded,\n",
        "                    training_label_seq,\n",
        "                    validation_data=(testing_padded, testing_label_seq),\n",
        "                    verbose = 1,\n",
        "                    epochs = epochs,\n",
        "                    callbacks = callbacks)"
      ],
      "execution_count": null,
      "outputs": [
        {
          "output_type": "stream",
          "name": "stdout",
          "text": [
            "Epoch 1/50\n",
            "56/56 [==============================] - 1s 8ms/step - loss: 1.2507 - accuracy: 0.5781 - val_loss: 0.5686 - val_accuracy: 0.8629\n",
            "Epoch 2/50\n",
            "56/56 [==============================] - 0s 6ms/step - loss: 0.1352 - accuracy: 0.9753 - val_loss: 0.2882 - val_accuracy: 0.8944\n",
            "Epoch 3/50\n",
            "56/56 [==============================] - 0s 6ms/step - loss: 0.0120 - accuracy: 0.9989 - val_loss: 0.2591 - val_accuracy: 0.9034\n",
            "Epoch 4/50\n",
            "56/56 [==============================] - 0s 6ms/step - loss: 0.0031 - accuracy: 1.0000 - val_loss: 0.2573 - val_accuracy: 0.9034\n",
            "Epoch 5/50\n",
            "56/56 [==============================] - 0s 5ms/step - loss: 0.0015 - accuracy: 1.0000 - val_loss: 0.2567 - val_accuracy: 0.9079\n",
            "Epoch 6/50\n",
            "56/56 [==============================] - 0s 6ms/step - loss: 9.6869e-04 - accuracy: 1.0000 - val_loss: 0.2572 - val_accuracy: 0.9101\n",
            "Epoch 7/50\n",
            "56/56 [==============================] - 0s 6ms/step - loss: 6.7626e-04 - accuracy: 1.0000 - val_loss: 0.2601 - val_accuracy: 0.9124\n",
            "Epoch 8/50\n",
            "56/56 [==============================] - 0s 6ms/step - loss: 4.9925e-04 - accuracy: 1.0000 - val_loss: 0.2603 - val_accuracy: 0.9101\n",
            "Epoch 9/50\n",
            "56/56 [==============================] - 0s 6ms/step - loss: 3.8571e-04 - accuracy: 1.0000 - val_loss: 0.2636 - val_accuracy: 0.9124\n",
            "Epoch 10/50\n",
            "56/56 [==============================] - 0s 6ms/step - loss: 3.0626e-04 - accuracy: 1.0000 - val_loss: 0.2650 - val_accuracy: 0.9124\n",
            "Epoch 11/50\n",
            "56/56 [==============================] - 0s 6ms/step - loss: 2.4961e-04 - accuracy: 1.0000 - val_loss: 0.2660 - val_accuracy: 0.9124\n",
            "Epoch 12/50\n",
            "56/56 [==============================] - 0s 6ms/step - loss: 2.0742e-04 - accuracy: 1.0000 - val_loss: 0.2684 - val_accuracy: 0.9146\n",
            "Epoch 13/50\n",
            "56/56 [==============================] - 0s 6ms/step - loss: 1.7465e-04 - accuracy: 1.0000 - val_loss: 0.2690 - val_accuracy: 0.9146\n",
            "Epoch 14/50\n",
            "56/56 [==============================] - 0s 6ms/step - loss: 1.4921e-04 - accuracy: 1.0000 - val_loss: 0.2711 - val_accuracy: 0.9146\n",
            "Epoch 15/50\n",
            "56/56 [==============================] - 0s 6ms/step - loss: 1.2888e-04 - accuracy: 1.0000 - val_loss: 0.2723 - val_accuracy: 0.9169\n",
            "Epoch 16/50\n",
            "56/56 [==============================] - 0s 6ms/step - loss: 1.1246e-04 - accuracy: 1.0000 - val_loss: 0.2741 - val_accuracy: 0.9191\n",
            "Epoch 17/50\n",
            "56/56 [==============================] - 0s 5ms/step - loss: 9.8961e-05 - accuracy: 1.0000 - val_loss: 0.2755 - val_accuracy: 0.9191\n",
            "Epoch 18/50\n",
            "56/56 [==============================] - 0s 6ms/step - loss: 8.7662e-05 - accuracy: 1.0000 - val_loss: 0.2767 - val_accuracy: 0.9191\n",
            "Epoch 19/50\n",
            "56/56 [==============================] - 0s 6ms/step - loss: 7.8176e-05 - accuracy: 1.0000 - val_loss: 0.2781 - val_accuracy: 0.9191\n",
            "Epoch 20/50\n",
            "56/56 [==============================] - 0s 6ms/step - loss: 7.0152e-05 - accuracy: 1.0000 - val_loss: 0.2793 - val_accuracy: 0.9191\n",
            "Epoch 21/50\n",
            "56/56 [==============================] - 0s 6ms/step - loss: 6.3207e-05 - accuracy: 1.0000 - val_loss: 0.2804 - val_accuracy: 0.9191\n",
            "\n",
            "Epoch 00021: ReduceLROnPlateau reducing learning rate to 0.001.\n",
            "Epoch 22/50\n",
            "56/56 [==============================] - 0s 6ms/step - loss: 5.9449e-05 - accuracy: 1.0000 - val_loss: 0.2806 - val_accuracy: 0.9191\n",
            "Epoch 23/50\n",
            "56/56 [==============================] - 0s 6ms/step - loss: 5.8855e-05 - accuracy: 1.0000 - val_loss: 0.2807 - val_accuracy: 0.9191\n",
            "Epoch 24/50\n",
            "56/56 [==============================] - 0s 6ms/step - loss: 5.8254e-05 - accuracy: 1.0000 - val_loss: 0.2808 - val_accuracy: 0.9191\n",
            "Epoch 25/50\n",
            "56/56 [==============================] - 0s 6ms/step - loss: 5.7639e-05 - accuracy: 1.0000 - val_loss: 0.2809 - val_accuracy: 0.9191\n",
            "Epoch 26/50\n",
            "56/56 [==============================] - 0s 6ms/step - loss: 5.7019e-05 - accuracy: 1.0000 - val_loss: 0.2811 - val_accuracy: 0.9191\n",
            "Epoch 27/50\n",
            "56/56 [==============================] - 0s 6ms/step - loss: 5.6382e-05 - accuracy: 1.0000 - val_loss: 0.2812 - val_accuracy: 0.9191\n",
            "Epoch 28/50\n",
            "56/56 [==============================] - 0s 6ms/step - loss: 5.5739e-05 - accuracy: 1.0000 - val_loss: 0.2813 - val_accuracy: 0.9191\n",
            "Epoch 29/50\n",
            "56/56 [==============================] - 0s 6ms/step - loss: 5.5087e-05 - accuracy: 1.0000 - val_loss: 0.2815 - val_accuracy: 0.9191\n",
            "Epoch 30/50\n",
            "56/56 [==============================] - 0s 6ms/step - loss: 5.4426e-05 - accuracy: 1.0000 - val_loss: 0.2817 - val_accuracy: 0.9191\n",
            "Epoch 31/50\n",
            "56/56 [==============================] - 0s 6ms/step - loss: 5.3761e-05 - accuracy: 1.0000 - val_loss: 0.2818 - val_accuracy: 0.9191\n",
            "Epoch 32/50\n",
            "56/56 [==============================] - 0s 6ms/step - loss: 5.3081e-05 - accuracy: 1.0000 - val_loss: 0.2819 - val_accuracy: 0.9191\n",
            "Epoch 33/50\n",
            "56/56 [==============================] - 0s 6ms/step - loss: 5.2399e-05 - accuracy: 1.0000 - val_loss: 0.2821 - val_accuracy: 0.9191\n",
            "Epoch 34/50\n",
            "56/56 [==============================] - 0s 6ms/step - loss: 5.1707e-05 - accuracy: 1.0000 - val_loss: 0.2822 - val_accuracy: 0.9191\n",
            "Epoch 35/50\n",
            "56/56 [==============================] - 0s 5ms/step - loss: 5.1012e-05 - accuracy: 1.0000 - val_loss: 0.2824 - val_accuracy: 0.9191\n",
            "Epoch 36/50\n",
            "56/56 [==============================] - 0s 5ms/step - loss: 5.0309e-05 - accuracy: 1.0000 - val_loss: 0.2826 - val_accuracy: 0.9213\n",
            "Epoch 37/50\n",
            "56/56 [==============================] - 0s 6ms/step - loss: 4.9611e-05 - accuracy: 1.0000 - val_loss: 0.2828 - val_accuracy: 0.9213\n",
            "Epoch 38/50\n",
            "56/56 [==============================] - 0s 6ms/step - loss: 4.8896e-05 - accuracy: 1.0000 - val_loss: 0.2828 - val_accuracy: 0.9213\n",
            "Epoch 39/50\n",
            "56/56 [==============================] - 0s 6ms/step - loss: 4.8182e-05 - accuracy: 1.0000 - val_loss: 0.2831 - val_accuracy: 0.9213\n",
            "Epoch 40/50\n",
            "56/56 [==============================] - 0s 6ms/step - loss: 4.7467e-05 - accuracy: 1.0000 - val_loss: 0.2833 - val_accuracy: 0.9236\n",
            "Epoch 41/50\n",
            "56/56 [==============================] - 0s 5ms/step - loss: 4.6751e-05 - accuracy: 1.0000 - val_loss: 0.2835 - val_accuracy: 0.9236\n",
            "Epoch 42/50\n",
            "56/56 [==============================] - 0s 6ms/step - loss: 4.6035e-05 - accuracy: 1.0000 - val_loss: 0.2837 - val_accuracy: 0.9236\n",
            "Epoch 43/50\n",
            "56/56 [==============================] - 0s 6ms/step - loss: 4.5310e-05 - accuracy: 1.0000 - val_loss: 0.2839 - val_accuracy: 0.9236\n",
            "Epoch 44/50\n",
            "56/56 [==============================] - 0s 6ms/step - loss: 4.4593e-05 - accuracy: 1.0000 - val_loss: 0.2841 - val_accuracy: 0.9236\n",
            "Epoch 45/50\n",
            "56/56 [==============================] - 0s 6ms/step - loss: 4.3871e-05 - accuracy: 1.0000 - val_loss: 0.2843 - val_accuracy: 0.9236\n",
            "Epoch 46/50\n",
            "56/56 [==============================] - 0s 6ms/step - loss: 4.3145e-05 - accuracy: 1.0000 - val_loss: 0.2845 - val_accuracy: 0.9236\n",
            "Epoch 47/50\n",
            "56/56 [==============================] - 0s 5ms/step - loss: 4.2425e-05 - accuracy: 1.0000 - val_loss: 0.2848 - val_accuracy: 0.9236\n",
            "Epoch 48/50\n",
            "56/56 [==============================] - 0s 6ms/step - loss: 4.1703e-05 - accuracy: 1.0000 - val_loss: 0.2849 - val_accuracy: 0.9236\n",
            "Epoch 49/50\n",
            "56/56 [==============================] - 0s 6ms/step - loss: 4.0983e-05 - accuracy: 1.0000 - val_loss: 0.2852 - val_accuracy: 0.9236\n",
            "Epoch 50/50\n",
            "56/56 [==============================] - 0s 6ms/step - loss: 4.0264e-05 - accuracy: 1.0000 - val_loss: 0.2854 - val_accuracy: 0.9236\n"
          ]
        }
      ]
    },
    {
      "cell_type": "code",
      "metadata": {
        "colab": {
          "base_uri": "https://localhost:8080/",
          "height": 580
        },
        "id": "-Jre6qHzsVsu",
        "outputId": "fa6577e5-43ba-498c-b97c-f70c31c3f88a"
      },
      "source": [
        "acc      = history.history['accuracy']\n",
        "val_acc  = history.history['val_accuracy']\n",
        "\n",
        "epochs   = range(len(acc))\n",
        "\n",
        "plt.plot(epochs, acc, 'r', label = 'Training')\n",
        "plt.plot(epochs, val_acc, 'b', label = 'Validation')\n",
        "plt.title('Training and Validation Accuracy')\n",
        "plt.legend()\n",
        "plt.figure()\n",
        "\n",
        "loss     = history.history['loss']\n",
        "val_loss = history.history['val_loss']\n",
        "\n",
        "epochs   = range(len(loss))\n",
        "\n",
        "plt.plot(epochs, loss, 'r', label = 'Training')\n",
        "plt.plot(epochs, val_loss, 'b', label = 'Validation')\n",
        "plt.title('Training and Validation Loss')\n",
        "plt.legend()\n",
        "plt.figure()"
      ],
      "execution_count": null,
      "outputs": [
        {
          "output_type": "execute_result",
          "data": {
            "text/plain": [
              "<Figure size 432x288 with 0 Axes>"
            ]
          },
          "metadata": {},
          "execution_count": 50
        },
        {
          "output_type": "display_data",
          "data": {
            "image/png": "[encoded data removed]",
            "text/plain": [
              "<Figure size 432x288 with 1 Axes>"
            ]
          },
          "metadata": {
            "needs_background": "light"
          }
        },
        {
          "output_type": "display_data",
          "data": {
            "image/png": "[encoded data removed]",
            "text/plain": [
              "<Figure size 432x288 with 1 Axes>"
            ]
          },
          "metadata": {
            "needs_background": "light"
          }
        },
        {
          "output_type": "display_data",
          "data": {
            "text/plain": [
              "<Figure size 432x288 with 0 Axes>"
            ]
          },
          "metadata": {}
        }
      ]
    }
  ]
}