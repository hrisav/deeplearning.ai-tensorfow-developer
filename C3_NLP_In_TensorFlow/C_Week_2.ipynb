{
  "nbformat": 4,
  "nbformat_minor": 0,
  "metadata": {
    "colab": {
      "name": "C_Week_2upd.ipynb",
      "provenance": [],
      "collapsed_sections": []
    },
    "kernelspec": {
      "name": "python3",
      "display_name": "Python 3"
    },
    "language_info": {
      "name": "python"
    },
    "accelerator": "GPU",
    "widgets": {
      "application/vnd.jupyter.widget-state+json": {
        "4e00a6e9621a412e84b904a9a4173bb7": {
          "model_module": "@jupyter-widgets/controls",
          "model_name": "HBoxModel",
          "model_module_version": "1.5.0",
          "state": {
            "_view_name": "HBoxView",
            "_dom_classes": [],
            "_model_name": "HBoxModel",
            "_view_module": "@jupyter-widgets/controls",
            "_model_module_version": "1.5.0",
            "_view_count": null,
            "_view_module_version": "1.5.0",
            "box_style": "",
            "layout": "IPY_MODEL_a406ee4bde8f45daaa0d1721b8099ba1",
            "_model_module": "@jupyter-widgets/controls",
            "children": [
              "IPY_MODEL_c9de5bf4ff904b77961d73984c506d83",
              "IPY_MODEL_66d78e149a2a45f081564218cd67454a",
              "IPY_MODEL_161d9c99b94d4b57b5eaa49634cc9e12"
            ]
          }
        },
        "a406ee4bde8f45daaa0d1721b8099ba1": {
          "model_module": "@jupyter-widgets/base",
          "model_name": "LayoutModel",
          "model_module_version": "1.2.0",
          "state": {
            "_view_name": "LayoutView",
            "grid_template_rows": null,
            "right": null,
            "justify_content": null,
            "_view_module": "@jupyter-widgets/base",
            "overflow": null,
            "_model_module_version": "1.2.0",
            "_view_count": null,
            "flex_flow": null,
            "width": null,
            "min_width": null,
            "border": null,
            "align_items": null,
            "bottom": null,
            "_model_module": "@jupyter-widgets/base",
            "top": null,
            "grid_column": null,
            "overflow_y": null,
            "overflow_x": null,
            "grid_auto_flow": null,
            "grid_area": null,
            "grid_template_columns": null,
            "flex": null,
            "_model_name": "LayoutModel",
            "justify_items": null,
            "grid_row": null,
            "max_height": null,
            "align_content": null,
            "visibility": null,
            "align_self": null,
            "height": null,
            "min_height": null,
            "padding": null,
            "grid_auto_rows": null,
            "grid_gap": null,
            "max_width": null,
            "order": null,
            "_view_module_version": "1.2.0",
            "grid_template_areas": null,
            "object_position": null,
            "object_fit": null,
            "grid_auto_columns": null,
            "margin": null,
            "display": null,
            "left": null
          }
        },
        "c9de5bf4ff904b77961d73984c506d83": {
          "model_module": "@jupyter-widgets/controls",
          "model_name": "HTMLModel",
          "model_module_version": "1.5.0",
          "state": {
            "_view_name": "HTMLView",
            "style": "IPY_MODEL_3f0fe42e28af43018dc5fd2a561a5a32",
            "_dom_classes": [],
            "description": "",
            "_model_name": "HTMLModel",
            "placeholder": "​",
            "_view_module": "@jupyter-widgets/controls",
            "_model_module_version": "1.5.0",
            "value": "Dl Completed...: 100%",
            "_view_count": null,
            "_view_module_version": "1.5.0",
            "description_tooltip": null,
            "_model_module": "@jupyter-widgets/controls",
            "layout": "IPY_MODEL_e2c83e1459ab4885a022154d6c5179b8"
          }
        },
        "66d78e149a2a45f081564218cd67454a": {
          "model_module": "@jupyter-widgets/controls",
          "model_name": "FloatProgressModel",
          "model_module_version": "1.5.0",
          "state": {
            "_view_name": "ProgressView",
            "style": "IPY_MODEL_f904b28474e04d389dc0fde673afa92d",
            "_dom_classes": [],
            "description": "",
            "_model_name": "FloatProgressModel",
            "bar_style": "success",
            "max": 1,
            "_view_module": "@jupyter-widgets/controls",
            "_model_module_version": "1.5.0",
            "value": 1,
            "_view_count": null,
            "_view_module_version": "1.5.0",
            "orientation": "horizontal",
            "min": 0,
            "description_tooltip": null,
            "_model_module": "@jupyter-widgets/controls",
            "layout": "IPY_MODEL_b834dcbe0480407bb6984d06ea3a44fd"
          }
        },
        "161d9c99b94d4b57b5eaa49634cc9e12": {
          "model_module": "@jupyter-widgets/controls",
          "model_name": "HTMLModel",
          "model_module_version": "1.5.0",
          "state": {
            "_view_name": "HTMLView",
            "style": "IPY_MODEL_820b241da47b4412bc53a7a944951344",
            "_dom_classes": [],
            "description": "",
            "_model_name": "HTMLModel",
            "placeholder": "​",
            "_view_module": "@jupyter-widgets/controls",
            "_model_module_version": "1.5.0",
            "value": " 1/1 [00:02&lt;00:00,  2.69s/ url]",
            "_view_count": null,
            "_view_module_version": "1.5.0",
            "description_tooltip": null,
            "_model_module": "@jupyter-widgets/controls",
            "layout": "IPY_MODEL_b7ff547b4d44421d8a963ec59120120f"
          }
        },
        "3f0fe42e28af43018dc5fd2a561a5a32": {
          "model_module": "@jupyter-widgets/controls",
          "model_name": "DescriptionStyleModel",
          "model_module_version": "1.5.0",
          "state": {
            "_view_name": "StyleView",
            "_model_name": "DescriptionStyleModel",
            "description_width": "",
            "_view_module": "@jupyter-widgets/base",
            "_model_module_version": "1.5.0",
            "_view_count": null,
            "_view_module_version": "1.2.0",
            "_model_module": "@jupyter-widgets/controls"
          }
        },
        "e2c83e1459ab4885a022154d6c5179b8": {
          "model_module": "@jupyter-widgets/base",
          "model_name": "LayoutModel",
          "model_module_version": "1.2.0",
          "state": {
            "_view_name": "LayoutView",
            "grid_template_rows": null,
            "right": null,
            "justify_content": null,
            "_view_module": "@jupyter-widgets/base",
            "overflow": null,
            "_model_module_version": "1.2.0",
            "_view_count": null,
            "flex_flow": null,
            "width": null,
            "min_width": null,
            "border": null,
            "align_items": null,
            "bottom": null,
            "_model_module": "@jupyter-widgets/base",
            "top": null,
            "grid_column": null,
            "overflow_y": null,
            "overflow_x": null,
            "grid_auto_flow": null,
            "grid_area": null,
            "grid_template_columns": null,
            "flex": null,
            "_model_name": "LayoutModel",
            "justify_items": null,
            "grid_row": null,
            "max_height": null,
            "align_content": null,
            "visibility": null,
            "align_self": null,
            "height": null,
            "min_height": null,
            "padding": null,
            "grid_auto_rows": null,
            "grid_gap": null,
            "max_width": null,
            "order": null,
            "_view_module_version": "1.2.0",
            "grid_template_areas": null,
            "object_position": null,
            "object_fit": null,
            "grid_auto_columns": null,
            "margin": null,
            "display": null,
            "left": null
          }
        },
        "f904b28474e04d389dc0fde673afa92d": {
          "model_module": "@jupyter-widgets/controls",
          "model_name": "ProgressStyleModel",
          "model_module_version": "1.5.0",
          "state": {
            "_view_name": "StyleView",
            "_model_name": "ProgressStyleModel",
            "description_width": "",
            "_view_module": "@jupyter-widgets/base",
            "_model_module_version": "1.5.0",
            "_view_count": null,
            "_view_module_version": "1.2.0",
            "bar_color": null,
            "_model_module": "@jupyter-widgets/controls"
          }
        },
        "b834dcbe0480407bb6984d06ea3a44fd": {
          "model_module": "@jupyter-widgets/base",
          "model_name": "LayoutModel",
          "model_module_version": "1.2.0",
          "state": {
            "_view_name": "LayoutView",
            "grid_template_rows": null,
            "right": null,
            "justify_content": null,
            "_view_module": "@jupyter-widgets/base",
            "overflow": null,
            "_model_module_version": "1.2.0",
            "_view_count": null,
            "flex_flow": null,
            "width": "20px",
            "min_width": null,
            "border": null,
            "align_items": null,
            "bottom": null,
            "_model_module": "@jupyter-widgets/base",
            "top": null,
            "grid_column": null,
            "overflow_y": null,
            "overflow_x": null,
            "grid_auto_flow": null,
            "grid_area": null,
            "grid_template_columns": null,
            "flex": null,
            "_model_name": "LayoutModel",
            "justify_items": null,
            "grid_row": null,
            "max_height": null,
            "align_content": null,
            "visibility": null,
            "align_self": null,
            "height": null,
            "min_height": null,
            "padding": null,
            "grid_auto_rows": null,
            "grid_gap": null,
            "max_width": null,
            "order": null,
            "_view_module_version": "1.2.0",
            "grid_template_areas": null,
            "object_position": null,
            "object_fit": null,
            "grid_auto_columns": null,
            "margin": null,
            "display": null,
            "left": null
          }
        },
        "820b241da47b4412bc53a7a944951344": {
          "model_module": "@jupyter-widgets/controls",
          "model_name": "DescriptionStyleModel",
          "model_module_version": "1.5.0",
          "state": {
            "_view_name": "StyleView",
            "_model_name": "DescriptionStyleModel",
            "description_width": "",
            "_view_module": "@jupyter-widgets/base",
            "_model_module_version": "1.5.0",
            "_view_count": null,
            "_view_module_version": "1.2.0",
            "_model_module": "@jupyter-widgets/controls"
          }
        },
        "b7ff547b4d44421d8a963ec59120120f": {
          "model_module": "@jupyter-widgets/base",
          "model_name": "LayoutModel",
          "model_module_version": "1.2.0",
          "state": {
            "_view_name": "LayoutView",
            "grid_template_rows": null,
            "right": null,
            "justify_content": null,
            "_view_module": "@jupyter-widgets/base",
            "overflow": null,
            "_model_module_version": "1.2.0",
            "_view_count": null,
            "flex_flow": null,
            "width": null,
            "min_width": null,
            "border": null,
            "align_items": null,
            "bottom": null,
            "_model_module": "@jupyter-widgets/base",
            "top": null,
            "grid_column": null,
            "overflow_y": null,
            "overflow_x": null,
            "grid_auto_flow": null,
            "grid_area": null,
            "grid_template_columns": null,
            "flex": null,
            "_model_name": "LayoutModel",
            "justify_items": null,
            "grid_row": null,
            "max_height": null,
            "align_content": null,
            "visibility": null,
            "align_self": null,
            "height": null,
            "min_height": null,
            "padding": null,
            "grid_auto_rows": null,
            "grid_gap": null,
            "max_width": null,
            "order": null,
            "_view_module_version": "1.2.0",
            "grid_template_areas": null,
            "object_position": null,
            "object_fit": null,
            "grid_auto_columns": null,
            "margin": null,
            "display": null,
            "left": null
          }
        },
        "49183c0603654c03b159ebacd013547f": {
          "model_module": "@jupyter-widgets/controls",
          "model_name": "HBoxModel",
          "model_module_version": "1.5.0",
          "state": {
            "_view_name": "HBoxView",
            "_dom_classes": [],
            "_model_name": "HBoxModel",
            "_view_module": "@jupyter-widgets/controls",
            "_model_module_version": "1.5.0",
            "_view_count": null,
            "_view_module_version": "1.5.0",
            "box_style": "",
            "layout": "IPY_MODEL_fe2ea002ae064588b3086d86bb4ef57e",
            "_model_module": "@jupyter-widgets/controls",
            "children": [
              "IPY_MODEL_3d0a5954e02b4582a2fa0ca3fe2a5b62",
              "IPY_MODEL_ba6c3f58fb074d81a60725a3eb60f472",
              "IPY_MODEL_1e0aa90a6ace4d76976d713c8adc30b5"
            ]
          }
        },
        "fe2ea002ae064588b3086d86bb4ef57e": {
          "model_module": "@jupyter-widgets/base",
          "model_name": "LayoutModel",
          "model_module_version": "1.2.0",
          "state": {
            "_view_name": "LayoutView",
            "grid_template_rows": null,
            "right": null,
            "justify_content": null,
            "_view_module": "@jupyter-widgets/base",
            "overflow": null,
            "_model_module_version": "1.2.0",
            "_view_count": null,
            "flex_flow": null,
            "width": null,
            "min_width": null,
            "border": null,
            "align_items": null,
            "bottom": null,
            "_model_module": "@jupyter-widgets/base",
            "top": null,
            "grid_column": null,
            "overflow_y": null,
            "overflow_x": null,
            "grid_auto_flow": null,
            "grid_area": null,
            "grid_template_columns": null,
            "flex": null,
            "_model_name": "LayoutModel",
            "justify_items": null,
            "grid_row": null,
            "max_height": null,
            "align_content": null,
            "visibility": null,
            "align_self": null,
            "height": null,
            "min_height": null,
            "padding": null,
            "grid_auto_rows": null,
            "grid_gap": null,
            "max_width": null,
            "order": null,
            "_view_module_version": "1.2.0",
            "grid_template_areas": null,
            "object_position": null,
            "object_fit": null,
            "grid_auto_columns": null,
            "margin": null,
            "display": null,
            "left": null
          }
        },
        "3d0a5954e02b4582a2fa0ca3fe2a5b62": {
          "model_module": "@jupyter-widgets/controls",
          "model_name": "HTMLModel",
          "model_module_version": "1.5.0",
          "state": {
            "_view_name": "HTMLView",
            "style": "IPY_MODEL_cdce2bc7b427406095c3187e42fe9f49",
            "_dom_classes": [],
            "description": "",
            "_model_name": "HTMLModel",
            "placeholder": "​",
            "_view_module": "@jupyter-widgets/controls",
            "_model_module_version": "1.5.0",
            "value": "Dl Size...: 100%",
            "_view_count": null,
            "_view_module_version": "1.5.0",
            "description_tooltip": null,
            "_model_module": "@jupyter-widgets/controls",
            "layout": "IPY_MODEL_65652a7a6ea248208b6de3163324079a"
          }
        },
        "ba6c3f58fb074d81a60725a3eb60f472": {
          "model_module": "@jupyter-widgets/controls",
          "model_name": "FloatProgressModel",
          "model_module_version": "1.5.0",
          "state": {
            "_view_name": "ProgressView",
            "style": "IPY_MODEL_6170475a7187433fb2d8ec5b98c88ea7",
            "_dom_classes": [],
            "description": "",
            "_model_name": "FloatProgressModel",
            "bar_style": "success",
            "max": 1,
            "_view_module": "@jupyter-widgets/controls",
            "_model_module_version": "1.5.0",
            "value": 1,
            "_view_count": null,
            "_view_module_version": "1.5.0",
            "orientation": "horizontal",
            "min": 0,
            "description_tooltip": null,
            "_model_module": "@jupyter-widgets/controls",
            "layout": "IPY_MODEL_e2aa1b78a14f4c7eb11b9b138a46129b"
          }
        },
        "1e0aa90a6ace4d76976d713c8adc30b5": {
          "model_module": "@jupyter-widgets/controls",
          "model_name": "HTMLModel",
          "model_module_version": "1.5.0",
          "state": {
            "_view_name": "HTMLView",
            "style": "IPY_MODEL_c2f87e22e8154e3fb653dfed25254603",
            "_dom_classes": [],
            "description": "",
            "_model_name": "HTMLModel",
            "placeholder": "​",
            "_view_module": "@jupyter-widgets/controls",
            "_model_module_version": "1.5.0",
            "value": " 80/80 [00:02&lt;00:00, 45.16 MiB/s]",
            "_view_count": null,
            "_view_module_version": "1.5.0",
            "description_tooltip": null,
            "_model_module": "@jupyter-widgets/controls",
            "layout": "IPY_MODEL_aa5974f6157e463d9b5a403a2734b0f0"
          }
        },
        "cdce2bc7b427406095c3187e42fe9f49": {
          "model_module": "@jupyter-widgets/controls",
          "model_name": "DescriptionStyleModel",
          "model_module_version": "1.5.0",
          "state": {
            "_view_name": "StyleView",
            "_model_name": "DescriptionStyleModel",
            "description_width": "",
            "_view_module": "@jupyter-widgets/base",
            "_model_module_version": "1.5.0",
            "_view_count": null,
            "_view_module_version": "1.2.0",
            "_model_module": "@jupyter-widgets/controls"
          }
        },
        "65652a7a6ea248208b6de3163324079a": {
          "model_module": "@jupyter-widgets/base",
          "model_name": "LayoutModel",
          "model_module_version": "1.2.0",
          "state": {
            "_view_name": "LayoutView",
            "grid_template_rows": null,
            "right": null,
            "justify_content": null,
            "_view_module": "@jupyter-widgets/base",
            "overflow": null,
            "_model_module_version": "1.2.0",
            "_view_count": null,
            "flex_flow": null,
            "width": null,
            "min_width": null,
            "border": null,
            "align_items": null,
            "bottom": null,
            "_model_module": "@jupyter-widgets/base",
            "top": null,
            "grid_column": null,
            "overflow_y": null,
            "overflow_x": null,
            "grid_auto_flow": null,
            "grid_area": null,
            "grid_template_columns": null,
            "flex": null,
            "_model_name": "LayoutModel",
            "justify_items": null,
            "grid_row": null,
            "max_height": null,
            "align_content": null,
            "visibility": null,
            "align_self": null,
            "height": null,
            "min_height": null,
            "padding": null,
            "grid_auto_rows": null,
            "grid_gap": null,
            "max_width": null,
            "order": null,
            "_view_module_version": "1.2.0",
            "grid_template_areas": null,
            "object_position": null,
            "object_fit": null,
            "grid_auto_columns": null,
            "margin": null,
            "display": null,
            "left": null
          }
        },
        "6170475a7187433fb2d8ec5b98c88ea7": {
          "model_module": "@jupyter-widgets/controls",
          "model_name": "ProgressStyleModel",
          "model_module_version": "1.5.0",
          "state": {
            "_view_name": "StyleView",
            "_model_name": "ProgressStyleModel",
            "description_width": "",
            "_view_module": "@jupyter-widgets/base",
            "_model_module_version": "1.5.0",
            "_view_count": null,
            "_view_module_version": "1.2.0",
            "bar_color": null,
            "_model_module": "@jupyter-widgets/controls"
          }
        },
        "e2aa1b78a14f4c7eb11b9b138a46129b": {
          "model_module": "@jupyter-widgets/base",
          "model_name": "LayoutModel",
          "model_module_version": "1.2.0",
          "state": {
            "_view_name": "LayoutView",
            "grid_template_rows": null,
            "right": null,
            "justify_content": null,
            "_view_module": "@jupyter-widgets/base",
            "overflow": null,
            "_model_module_version": "1.2.0",
            "_view_count": null,
            "flex_flow": null,
            "width": "20px",
            "min_width": null,
            "border": null,
            "align_items": null,
            "bottom": null,
            "_model_module": "@jupyter-widgets/base",
            "top": null,
            "grid_column": null,
            "overflow_y": null,
            "overflow_x": null,
            "grid_auto_flow": null,
            "grid_area": null,
            "grid_template_columns": null,
            "flex": null,
            "_model_name": "LayoutModel",
            "justify_items": null,
            "grid_row": null,
            "max_height": null,
            "align_content": null,
            "visibility": null,
            "align_self": null,
            "height": null,
            "min_height": null,
            "padding": null,
            "grid_auto_rows": null,
            "grid_gap": null,
            "max_width": null,
            "order": null,
            "_view_module_version": "1.2.0",
            "grid_template_areas": null,
            "object_position": null,
            "object_fit": null,
            "grid_auto_columns": null,
            "margin": null,
            "display": null,
            "left": null
          }
        },
        "c2f87e22e8154e3fb653dfed25254603": {
          "model_module": "@jupyter-widgets/controls",
          "model_name": "DescriptionStyleModel",
          "model_module_version": "1.5.0",
          "state": {
            "_view_name": "StyleView",
            "_model_name": "DescriptionStyleModel",
            "description_width": "",
            "_view_module": "@jupyter-widgets/base",
            "_model_module_version": "1.5.0",
            "_view_count": null,
            "_view_module_version": "1.2.0",
            "_model_module": "@jupyter-widgets/controls"
          }
        },
        "aa5974f6157e463d9b5a403a2734b0f0": {
          "model_module": "@jupyter-widgets/base",
          "model_name": "LayoutModel",
          "model_module_version": "1.2.0",
          "state": {
            "_view_name": "LayoutView",
            "grid_template_rows": null,
            "right": null,
            "justify_content": null,
            "_view_module": "@jupyter-widgets/base",
            "overflow": null,
            "_model_module_version": "1.2.0",
            "_view_count": null,
            "flex_flow": null,
            "width": null,
            "min_width": null,
            "border": null,
            "align_items": null,
            "bottom": null,
            "_model_module": "@jupyter-widgets/base",
            "top": null,
            "grid_column": null,
            "overflow_y": null,
            "overflow_x": null,
            "grid_auto_flow": null,
            "grid_area": null,
            "grid_template_columns": null,
            "flex": null,
            "_model_name": "LayoutModel",
            "justify_items": null,
            "grid_row": null,
            "max_height": null,
            "align_content": null,
            "visibility": null,
            "align_self": null,
            "height": null,
            "min_height": null,
            "padding": null,
            "grid_auto_rows": null,
            "grid_gap": null,
            "max_width": null,
            "order": null,
            "_view_module_version": "1.2.0",
            "grid_template_areas": null,
            "object_position": null,
            "object_fit": null,
            "grid_auto_columns": null,
            "margin": null,
            "display": null,
            "left": null
          }
        },
        "5cf77806948740adb588a67580b4ce4f": {
          "model_module": "@jupyter-widgets/controls",
          "model_name": "HBoxModel",
          "model_module_version": "1.5.0",
          "state": {
            "_view_name": "HBoxView",
            "_dom_classes": [],
            "_model_name": "HBoxModel",
            "_view_module": "@jupyter-widgets/controls",
            "_model_module_version": "1.5.0",
            "_view_count": null,
            "_view_module_version": "1.5.0",
            "box_style": "",
            "layout": "IPY_MODEL_d0345a4815e14ebea70156926ab3a156",
            "_model_module": "@jupyter-widgets/controls",
            "children": [
              "IPY_MODEL_a3a1274a6cce4fd7a1a62d676c1e110a",
              "IPY_MODEL_0c1a115363354a64b7289bab63964ad0",
              "IPY_MODEL_29f096218d1f4861bf121ef27f316f59"
            ]
          }
        },
        "d0345a4815e14ebea70156926ab3a156": {
          "model_module": "@jupyter-widgets/base",
          "model_name": "LayoutModel",
          "model_module_version": "1.2.0",
          "state": {
            "_view_name": "LayoutView",
            "grid_template_rows": null,
            "right": null,
            "justify_content": null,
            "_view_module": "@jupyter-widgets/base",
            "overflow": null,
            "_model_module_version": "1.2.0",
            "_view_count": null,
            "flex_flow": null,
            "width": null,
            "min_width": null,
            "border": null,
            "align_items": null,
            "bottom": null,
            "_model_module": "@jupyter-widgets/base",
            "top": null,
            "grid_column": null,
            "overflow_y": null,
            "overflow_x": null,
            "grid_auto_flow": null,
            "grid_area": null,
            "grid_template_columns": null,
            "flex": null,
            "_model_name": "LayoutModel",
            "justify_items": null,
            "grid_row": null,
            "max_height": null,
            "align_content": null,
            "visibility": null,
            "align_self": null,
            "height": null,
            "min_height": null,
            "padding": null,
            "grid_auto_rows": null,
            "grid_gap": null,
            "max_width": null,
            "order": null,
            "_view_module_version": "1.2.0",
            "grid_template_areas": null,
            "object_position": null,
            "object_fit": null,
            "grid_auto_columns": null,
            "margin": null,
            "display": null,
            "left": null
          }
        },
        "a3a1274a6cce4fd7a1a62d676c1e110a": {
          "model_module": "@jupyter-widgets/controls",
          "model_name": "HTMLModel",
          "model_module_version": "1.5.0",
          "state": {
            "_view_name": "HTMLView",
            "style": "IPY_MODEL_aab811cfdb774309bdcd1474d438b552",
            "_dom_classes": [],
            "description": "",
            "_model_name": "HTMLModel",
            "placeholder": "​",
            "_view_module": "@jupyter-widgets/controls",
            "_model_module_version": "1.5.0",
            "value": "",
            "_view_count": null,
            "_view_module_version": "1.5.0",
            "description_tooltip": null,
            "_model_module": "@jupyter-widgets/controls",
            "layout": "IPY_MODEL_6bc5e132fa6445819c1353c60a395ca0"
          }
        },
        "0c1a115363354a64b7289bab63964ad0": {
          "model_module": "@jupyter-widgets/controls",
          "model_name": "FloatProgressModel",
          "model_module_version": "1.5.0",
          "state": {
            "_view_name": "ProgressView",
            "style": "IPY_MODEL_763f33b8fea44520b17c3409b3136298",
            "_dom_classes": [],
            "description": "",
            "_model_name": "FloatProgressModel",
            "bar_style": "info",
            "max": 1,
            "_view_module": "@jupyter-widgets/controls",
            "_model_module_version": "1.5.0",
            "value": 1,
            "_view_count": null,
            "_view_module_version": "1.5.0",
            "orientation": "horizontal",
            "min": 0,
            "description_tooltip": null,
            "_model_module": "@jupyter-widgets/controls",
            "layout": "IPY_MODEL_9c24ab07240c4390bff8b86282d84a65"
          }
        },
        "29f096218d1f4861bf121ef27f316f59": {
          "model_module": "@jupyter-widgets/controls",
          "model_name": "HTMLModel",
          "model_module_version": "1.5.0",
          "state": {
            "_view_name": "HTMLView",
            "style": "IPY_MODEL_d3cf41b019484f77bc78c757f374c260",
            "_dom_classes": [],
            "description": "",
            "_model_name": "HTMLModel",
            "placeholder": "​",
            "_view_module": "@jupyter-widgets/controls",
            "_model_module_version": "1.5.0",
            "value": " 24961/0 [00:13&lt;00:00, 2455.56 examples/s]",
            "_view_count": null,
            "_view_module_version": "1.5.0",
            "description_tooltip": null,
            "_model_module": "@jupyter-widgets/controls",
            "layout": "IPY_MODEL_bb4f6da82e98434988fdc66856172f24"
          }
        },
        "aab811cfdb774309bdcd1474d438b552": {
          "model_module": "@jupyter-widgets/controls",
          "model_name": "DescriptionStyleModel",
          "model_module_version": "1.5.0",
          "state": {
            "_view_name": "StyleView",
            "_model_name": "DescriptionStyleModel",
            "description_width": "",
            "_view_module": "@jupyter-widgets/base",
            "_model_module_version": "1.5.0",
            "_view_count": null,
            "_view_module_version": "1.2.0",
            "_model_module": "@jupyter-widgets/controls"
          }
        },
        "6bc5e132fa6445819c1353c60a395ca0": {
          "model_module": "@jupyter-widgets/base",
          "model_name": "LayoutModel",
          "model_module_version": "1.2.0",
          "state": {
            "_view_name": "LayoutView",
            "grid_template_rows": null,
            "right": null,
            "justify_content": null,
            "_view_module": "@jupyter-widgets/base",
            "overflow": null,
            "_model_module_version": "1.2.0",
            "_view_count": null,
            "flex_flow": null,
            "width": null,
            "min_width": null,
            "border": null,
            "align_items": null,
            "bottom": null,
            "_model_module": "@jupyter-widgets/base",
            "top": null,
            "grid_column": null,
            "overflow_y": null,
            "overflow_x": null,
            "grid_auto_flow": null,
            "grid_area": null,
            "grid_template_columns": null,
            "flex": null,
            "_model_name": "LayoutModel",
            "justify_items": null,
            "grid_row": null,
            "max_height": null,
            "align_content": null,
            "visibility": null,
            "align_self": null,
            "height": null,
            "min_height": null,
            "padding": null,
            "grid_auto_rows": null,
            "grid_gap": null,
            "max_width": null,
            "order": null,
            "_view_module_version": "1.2.0",
            "grid_template_areas": null,
            "object_position": null,
            "object_fit": null,
            "grid_auto_columns": null,
            "margin": null,
            "display": null,
            "left": null
          }
        },
        "763f33b8fea44520b17c3409b3136298": {
          "model_module": "@jupyter-widgets/controls",
          "model_name": "ProgressStyleModel",
          "model_module_version": "1.5.0",
          "state": {
            "_view_name": "StyleView",
            "_model_name": "ProgressStyleModel",
            "description_width": "",
            "_view_module": "@jupyter-widgets/base",
            "_model_module_version": "1.5.0",
            "_view_count": null,
            "_view_module_version": "1.2.0",
            "bar_color": null,
            "_model_module": "@jupyter-widgets/controls"
          }
        },
        "9c24ab07240c4390bff8b86282d84a65": {
          "model_module": "@jupyter-widgets/base",
          "model_name": "LayoutModel",
          "model_module_version": "1.2.0",
          "state": {
            "_view_name": "LayoutView",
            "grid_template_rows": null,
            "right": null,
            "justify_content": null,
            "_view_module": "@jupyter-widgets/base",
            "overflow": null,
            "_model_module_version": "1.2.0",
            "_view_count": null,
            "flex_flow": null,
            "width": "20px",
            "min_width": null,
            "border": null,
            "align_items": null,
            "bottom": null,
            "_model_module": "@jupyter-widgets/base",
            "top": null,
            "grid_column": null,
            "overflow_y": null,
            "overflow_x": null,
            "grid_auto_flow": null,
            "grid_area": null,
            "grid_template_columns": null,
            "flex": null,
            "_model_name": "LayoutModel",
            "justify_items": null,
            "grid_row": null,
            "max_height": null,
            "align_content": null,
            "visibility": null,
            "align_self": null,
            "height": null,
            "min_height": null,
            "padding": null,
            "grid_auto_rows": null,
            "grid_gap": null,
            "max_width": null,
            "order": null,
            "_view_module_version": "1.2.0",
            "grid_template_areas": null,
            "object_position": null,
            "object_fit": null,
            "grid_auto_columns": null,
            "margin": null,
            "display": null,
            "left": null
          }
        },
        "d3cf41b019484f77bc78c757f374c260": {
          "model_module": "@jupyter-widgets/controls",
          "model_name": "DescriptionStyleModel",
          "model_module_version": "1.5.0",
          "state": {
            "_view_name": "StyleView",
            "_model_name": "DescriptionStyleModel",
            "description_width": "",
            "_view_module": "@jupyter-widgets/base",
            "_model_module_version": "1.5.0",
            "_view_count": null,
            "_view_module_version": "1.2.0",
            "_model_module": "@jupyter-widgets/controls"
          }
        },
        "bb4f6da82e98434988fdc66856172f24": {
          "model_module": "@jupyter-widgets/base",
          "model_name": "LayoutModel",
          "model_module_version": "1.2.0",
          "state": {
            "_view_name": "LayoutView",
            "grid_template_rows": null,
            "right": null,
            "justify_content": null,
            "_view_module": "@jupyter-widgets/base",
            "overflow": null,
            "_model_module_version": "1.2.0",
            "_view_count": null,
            "flex_flow": null,
            "width": null,
            "min_width": null,
            "border": null,
            "align_items": null,
            "bottom": null,
            "_model_module": "@jupyter-widgets/base",
            "top": null,
            "grid_column": null,
            "overflow_y": null,
            "overflow_x": null,
            "grid_auto_flow": null,
            "grid_area": null,
            "grid_template_columns": null,
            "flex": null,
            "_model_name": "LayoutModel",
            "justify_items": null,
            "grid_row": null,
            "max_height": null,
            "align_content": null,
            "visibility": null,
            "align_self": null,
            "height": null,
            "min_height": null,
            "padding": null,
            "grid_auto_rows": null,
            "grid_gap": null,
            "max_width": null,
            "order": null,
            "_view_module_version": "1.2.0",
            "grid_template_areas": null,
            "object_position": null,
            "object_fit": null,
            "grid_auto_columns": null,
            "margin": null,
            "display": null,
            "left": null
          }
        },
        "52c17800f88f4e9e9d3cb3aa0cca6af1": {
          "model_module": "@jupyter-widgets/controls",
          "model_name": "HBoxModel",
          "model_module_version": "1.5.0",
          "state": {
            "_view_name": "HBoxView",
            "_dom_classes": [],
            "_model_name": "HBoxModel",
            "_view_module": "@jupyter-widgets/controls",
            "_model_module_version": "1.5.0",
            "_view_count": null,
            "_view_module_version": "1.5.0",
            "box_style": "",
            "layout": "IPY_MODEL_64ac0214471b4df5a6fd801c948fb152",
            "_model_module": "@jupyter-widgets/controls",
            "children": [
              "IPY_MODEL_fcb1f280471b4bc2b79a2f630c250afb",
              "IPY_MODEL_c7325e47f9ab4d9dbc67e7d639f9210f",
              "IPY_MODEL_2b831a622393491c9ef71e50b4c0e14a"
            ]
          }
        },
        "64ac0214471b4df5a6fd801c948fb152": {
          "model_module": "@jupyter-widgets/base",
          "model_name": "LayoutModel",
          "model_module_version": "1.2.0",
          "state": {
            "_view_name": "LayoutView",
            "grid_template_rows": null,
            "right": null,
            "justify_content": null,
            "_view_module": "@jupyter-widgets/base",
            "overflow": null,
            "_model_module_version": "1.2.0",
            "_view_count": null,
            "flex_flow": null,
            "width": null,
            "min_width": null,
            "border": null,
            "align_items": null,
            "bottom": null,
            "_model_module": "@jupyter-widgets/base",
            "top": null,
            "grid_column": null,
            "overflow_y": null,
            "overflow_x": null,
            "grid_auto_flow": null,
            "grid_area": null,
            "grid_template_columns": null,
            "flex": null,
            "_model_name": "LayoutModel",
            "justify_items": null,
            "grid_row": null,
            "max_height": null,
            "align_content": null,
            "visibility": null,
            "align_self": null,
            "height": null,
            "min_height": null,
            "padding": null,
            "grid_auto_rows": null,
            "grid_gap": null,
            "max_width": null,
            "order": null,
            "_view_module_version": "1.2.0",
            "grid_template_areas": null,
            "object_position": null,
            "object_fit": null,
            "grid_auto_columns": null,
            "margin": null,
            "display": null,
            "left": null
          }
        },
        "fcb1f280471b4bc2b79a2f630c250afb": {
          "model_module": "@jupyter-widgets/controls",
          "model_name": "HTMLModel",
          "model_module_version": "1.5.0",
          "state": {
            "_view_name": "HTMLView",
            "style": "IPY_MODEL_678cc07cd73d49188f67b7b335a41dc2",
            "_dom_classes": [],
            "description": "",
            "_model_name": "HTMLModel",
            "placeholder": "​",
            "_view_module": "@jupyter-widgets/controls",
            "_model_module_version": "1.5.0",
            "value": "100%",
            "_view_count": null,
            "_view_module_version": "1.5.0",
            "description_tooltip": null,
            "_model_module": "@jupyter-widgets/controls",
            "layout": "IPY_MODEL_f6bbf3f48a714617862b6efff661dac3"
          }
        },
        "c7325e47f9ab4d9dbc67e7d639f9210f": {
          "model_module": "@jupyter-widgets/controls",
          "model_name": "FloatProgressModel",
          "model_module_version": "1.5.0",
          "state": {
            "_view_name": "ProgressView",
            "style": "IPY_MODEL_d7bce40b6d1541ebb20a3a7d14dda73f",
            "_dom_classes": [],
            "description": "",
            "_model_name": "FloatProgressModel",
            "bar_style": "danger",
            "max": 25000,
            "_view_module": "@jupyter-widgets/controls",
            "_model_module_version": "1.5.0",
            "value": 24999,
            "_view_count": null,
            "_view_module_version": "1.5.0",
            "orientation": "horizontal",
            "min": 0,
            "description_tooltip": null,
            "_model_module": "@jupyter-widgets/controls",
            "layout": "IPY_MODEL_3701e226fcb6410db140e15587ed1bce"
          }
        },
        "2b831a622393491c9ef71e50b4c0e14a": {
          "model_module": "@jupyter-widgets/controls",
          "model_name": "HTMLModel",
          "model_module_version": "1.5.0",
          "state": {
            "_view_name": "HTMLView",
            "style": "IPY_MODEL_cfbb5d9ae7744d6a9f7a618aac88675c",
            "_dom_classes": [],
            "description": "",
            "_model_name": "HTMLModel",
            "placeholder": "​",
            "_view_module": "@jupyter-widgets/controls",
            "_model_module_version": "1.5.0",
            "value": " 24999/25000 [00:00&lt;00:00, 137376.22 examples/s]",
            "_view_count": null,
            "_view_module_version": "1.5.0",
            "description_tooltip": null,
            "_model_module": "@jupyter-widgets/controls",
            "layout": "IPY_MODEL_1ff1a723e10c447093902082c8b98eb5"
          }
        },
        "678cc07cd73d49188f67b7b335a41dc2": {
          "model_module": "@jupyter-widgets/controls",
          "model_name": "DescriptionStyleModel",
          "model_module_version": "1.5.0",
          "state": {
            "_view_name": "StyleView",
            "_model_name": "DescriptionStyleModel",
            "description_width": "",
            "_view_module": "@jupyter-widgets/base",
            "_model_module_version": "1.5.0",
            "_view_count": null,
            "_view_module_version": "1.2.0",
            "_model_module": "@jupyter-widgets/controls"
          }
        },
        "f6bbf3f48a714617862b6efff661dac3": {
          "model_module": "@jupyter-widgets/base",
          "model_name": "LayoutModel",
          "model_module_version": "1.2.0",
          "state": {
            "_view_name": "LayoutView",
            "grid_template_rows": null,
            "right": null,
            "justify_content": null,
            "_view_module": "@jupyter-widgets/base",
            "overflow": null,
            "_model_module_version": "1.2.0",
            "_view_count": null,
            "flex_flow": null,
            "width": null,
            "min_width": null,
            "border": null,
            "align_items": null,
            "bottom": null,
            "_model_module": "@jupyter-widgets/base",
            "top": null,
            "grid_column": null,
            "overflow_y": null,
            "overflow_x": null,
            "grid_auto_flow": null,
            "grid_area": null,
            "grid_template_columns": null,
            "flex": null,
            "_model_name": "LayoutModel",
            "justify_items": null,
            "grid_row": null,
            "max_height": null,
            "align_content": null,
            "visibility": null,
            "align_self": null,
            "height": null,
            "min_height": null,
            "padding": null,
            "grid_auto_rows": null,
            "grid_gap": null,
            "max_width": null,
            "order": null,
            "_view_module_version": "1.2.0",
            "grid_template_areas": null,
            "object_position": null,
            "object_fit": null,
            "grid_auto_columns": null,
            "margin": null,
            "display": null,
            "left": null
          }
        },
        "d7bce40b6d1541ebb20a3a7d14dda73f": {
          "model_module": "@jupyter-widgets/controls",
          "model_name": "ProgressStyleModel",
          "model_module_version": "1.5.0",
          "state": {
            "_view_name": "StyleView",
            "_model_name": "ProgressStyleModel",
            "description_width": "",
            "_view_module": "@jupyter-widgets/base",
            "_model_module_version": "1.5.0",
            "_view_count": null,
            "_view_module_version": "1.2.0",
            "bar_color": null,
            "_model_module": "@jupyter-widgets/controls"
          }
        },
        "3701e226fcb6410db140e15587ed1bce": {
          "model_module": "@jupyter-widgets/base",
          "model_name": "LayoutModel",
          "model_module_version": "1.2.0",
          "state": {
            "_view_name": "LayoutView",
            "grid_template_rows": null,
            "right": null,
            "justify_content": null,
            "_view_module": "@jupyter-widgets/base",
            "overflow": null,
            "_model_module_version": "1.2.0",
            "_view_count": null,
            "flex_flow": null,
            "width": null,
            "min_width": null,
            "border": null,
            "align_items": null,
            "bottom": null,
            "_model_module": "@jupyter-widgets/base",
            "top": null,
            "grid_column": null,
            "overflow_y": null,
            "overflow_x": null,
            "grid_auto_flow": null,
            "grid_area": null,
            "grid_template_columns": null,
            "flex": null,
            "_model_name": "LayoutModel",
            "justify_items": null,
            "grid_row": null,
            "max_height": null,
            "align_content": null,
            "visibility": null,
            "align_self": null,
            "height": null,
            "min_height": null,
            "padding": null,
            "grid_auto_rows": null,
            "grid_gap": null,
            "max_width": null,
            "order": null,
            "_view_module_version": "1.2.0",
            "grid_template_areas": null,
            "object_position": null,
            "object_fit": null,
            "grid_auto_columns": null,
            "margin": null,
            "display": null,
            "left": null
          }
        },
        "cfbb5d9ae7744d6a9f7a618aac88675c": {
          "model_module": "@jupyter-widgets/controls",
          "model_name": "DescriptionStyleModel",
          "model_module_version": "1.5.0",
          "state": {
            "_view_name": "StyleView",
            "_model_name": "DescriptionStyleModel",
            "description_width": "",
            "_view_module": "@jupyter-widgets/base",
            "_model_module_version": "1.5.0",
            "_view_count": null,
            "_view_module_version": "1.2.0",
            "_model_module": "@jupyter-widgets/controls"
          }
        },
        "1ff1a723e10c447093902082c8b98eb5": {
          "model_module": "@jupyter-widgets/base",
          "model_name": "LayoutModel",
          "model_module_version": "1.2.0",
          "state": {
            "_view_name": "LayoutView",
            "grid_template_rows": null,
            "right": null,
            "justify_content": null,
            "_view_module": "@jupyter-widgets/base",
            "overflow": null,
            "_model_module_version": "1.2.0",
            "_view_count": null,
            "flex_flow": null,
            "width": null,
            "min_width": null,
            "border": null,
            "align_items": null,
            "bottom": null,
            "_model_module": "@jupyter-widgets/base",
            "top": null,
            "grid_column": null,
            "overflow_y": null,
            "overflow_x": null,
            "grid_auto_flow": null,
            "grid_area": null,
            "grid_template_columns": null,
            "flex": null,
            "_model_name": "LayoutModel",
            "justify_items": null,
            "grid_row": null,
            "max_height": null,
            "align_content": null,
            "visibility": null,
            "align_self": null,
            "height": null,
            "min_height": null,
            "padding": null,
            "grid_auto_rows": null,
            "grid_gap": null,
            "max_width": null,
            "order": null,
            "_view_module_version": "1.2.0",
            "grid_template_areas": null,
            "object_position": null,
            "object_fit": null,
            "grid_auto_columns": null,
            "margin": null,
            "display": null,
            "left": null
          }
        },
        "7dd58010848141b08e40e34d112c49d5": {
          "model_module": "@jupyter-widgets/controls",
          "model_name": "HBoxModel",
          "model_module_version": "1.5.0",
          "state": {
            "_view_name": "HBoxView",
            "_dom_classes": [],
            "_model_name": "HBoxModel",
            "_view_module": "@jupyter-widgets/controls",
            "_model_module_version": "1.5.0",
            "_view_count": null,
            "_view_module_version": "1.5.0",
            "box_style": "",
            "layout": "IPY_MODEL_7dc325f556784af6bca5c0b3883dcba0",
            "_model_module": "@jupyter-widgets/controls",
            "children": [
              "IPY_MODEL_c4ec4b3ad9804c18bba5ac8742dba0e6",
              "IPY_MODEL_b780464d8dba43fb8b3587ad8ea685e4",
              "IPY_MODEL_e2ebe7a890124bac926e46f943d2454c"
            ]
          }
        },
        "7dc325f556784af6bca5c0b3883dcba0": {
          "model_module": "@jupyter-widgets/base",
          "model_name": "LayoutModel",
          "model_module_version": "1.2.0",
          "state": {
            "_view_name": "LayoutView",
            "grid_template_rows": null,
            "right": null,
            "justify_content": null,
            "_view_module": "@jupyter-widgets/base",
            "overflow": null,
            "_model_module_version": "1.2.0",
            "_view_count": null,
            "flex_flow": null,
            "width": null,
            "min_width": null,
            "border": null,
            "align_items": null,
            "bottom": null,
            "_model_module": "@jupyter-widgets/base",
            "top": null,
            "grid_column": null,
            "overflow_y": null,
            "overflow_x": null,
            "grid_auto_flow": null,
            "grid_area": null,
            "grid_template_columns": null,
            "flex": null,
            "_model_name": "LayoutModel",
            "justify_items": null,
            "grid_row": null,
            "max_height": null,
            "align_content": null,
            "visibility": null,
            "align_self": null,
            "height": null,
            "min_height": null,
            "padding": null,
            "grid_auto_rows": null,
            "grid_gap": null,
            "max_width": null,
            "order": null,
            "_view_module_version": "1.2.0",
            "grid_template_areas": null,
            "object_position": null,
            "object_fit": null,
            "grid_auto_columns": null,
            "margin": null,
            "display": null,
            "left": null
          }
        },
        "c4ec4b3ad9804c18bba5ac8742dba0e6": {
          "model_module": "@jupyter-widgets/controls",
          "model_name": "HTMLModel",
          "model_module_version": "1.5.0",
          "state": {
            "_view_name": "HTMLView",
            "style": "IPY_MODEL_eff0493bdbc146dfba7fe91632f85419",
            "_dom_classes": [],
            "description": "",
            "_model_name": "HTMLModel",
            "placeholder": "​",
            "_view_module": "@jupyter-widgets/controls",
            "_model_module_version": "1.5.0",
            "value": "",
            "_view_count": null,
            "_view_module_version": "1.5.0",
            "description_tooltip": null,
            "_model_module": "@jupyter-widgets/controls",
            "layout": "IPY_MODEL_eff5b717fd5d4f3d93c4e9a2f90cd98f"
          }
        },
        "b780464d8dba43fb8b3587ad8ea685e4": {
          "model_module": "@jupyter-widgets/controls",
          "model_name": "FloatProgressModel",
          "model_module_version": "1.5.0",
          "state": {
            "_view_name": "ProgressView",
            "style": "IPY_MODEL_7ac7ea2260944fa8a3d331bf8bd39373",
            "_dom_classes": [],
            "description": "",
            "_model_name": "FloatProgressModel",
            "bar_style": "info",
            "max": 1,
            "_view_module": "@jupyter-widgets/controls",
            "_model_module_version": "1.5.0",
            "value": 1,
            "_view_count": null,
            "_view_module_version": "1.5.0",
            "orientation": "horizontal",
            "min": 0,
            "description_tooltip": null,
            "_model_module": "@jupyter-widgets/controls",
            "layout": "IPY_MODEL_3c7979def0cf45f7b318f0752cc26519"
          }
        },
        "e2ebe7a890124bac926e46f943d2454c": {
          "model_module": "@jupyter-widgets/controls",
          "model_name": "HTMLModel",
          "model_module_version": "1.5.0",
          "state": {
            "_view_name": "HTMLView",
            "style": "IPY_MODEL_cca4f70c730a4783b198515504ee1c08",
            "_dom_classes": [],
            "description": "",
            "_model_name": "HTMLModel",
            "placeholder": "​",
            "_view_module": "@jupyter-widgets/controls",
            "_model_module_version": "1.5.0",
            "value": " 24780/0 [00:10&lt;00:00, 2460.19 examples/s]",
            "_view_count": null,
            "_view_module_version": "1.5.0",
            "description_tooltip": null,
            "_model_module": "@jupyter-widgets/controls",
            "layout": "IPY_MODEL_ee1f662f93094005bb86160c8c80003f"
          }
        },
        "eff0493bdbc146dfba7fe91632f85419": {
          "model_module": "@jupyter-widgets/controls",
          "model_name": "DescriptionStyleModel",
          "model_module_version": "1.5.0",
          "state": {
            "_view_name": "StyleView",
            "_model_name": "DescriptionStyleModel",
            "description_width": "",
            "_view_module": "@jupyter-widgets/base",
            "_model_module_version": "1.5.0",
            "_view_count": null,
            "_view_module_version": "1.2.0",
            "_model_module": "@jupyter-widgets/controls"
          }
        },
        "eff5b717fd5d4f3d93c4e9a2f90cd98f": {
          "model_module": "@jupyter-widgets/base",
          "model_name": "LayoutModel",
          "model_module_version": "1.2.0",
          "state": {
            "_view_name": "LayoutView",
            "grid_template_rows": null,
            "right": null,
            "justify_content": null,
            "_view_module": "@jupyter-widgets/base",
            "overflow": null,
            "_model_module_version": "1.2.0",
            "_view_count": null,
            "flex_flow": null,
            "width": null,
            "min_width": null,
            "border": null,
            "align_items": null,
            "bottom": null,
            "_model_module": "@jupyter-widgets/base",
            "top": null,
            "grid_column": null,
            "overflow_y": null,
            "overflow_x": null,
            "grid_auto_flow": null,
            "grid_area": null,
            "grid_template_columns": null,
            "flex": null,
            "_model_name": "LayoutModel",
            "justify_items": null,
            "grid_row": null,
            "max_height": null,
            "align_content": null,
            "visibility": null,
            "align_self": null,
            "height": null,
            "min_height": null,
            "padding": null,
            "grid_auto_rows": null,
            "grid_gap": null,
            "max_width": null,
            "order": null,
            "_view_module_version": "1.2.0",
            "grid_template_areas": null,
            "object_position": null,
            "object_fit": null,
            "grid_auto_columns": null,
            "margin": null,
            "display": null,
            "left": null
          }
        },
        "7ac7ea2260944fa8a3d331bf8bd39373": {
          "model_module": "@jupyter-widgets/controls",
          "model_name": "ProgressStyleModel",
          "model_module_version": "1.5.0",
          "state": {
            "_view_name": "StyleView",
            "_model_name": "ProgressStyleModel",
            "description_width": "",
            "_view_module": "@jupyter-widgets/base",
            "_model_module_version": "1.5.0",
            "_view_count": null,
            "_view_module_version": "1.2.0",
            "bar_color": null,
            "_model_module": "@jupyter-widgets/controls"
          }
        },
        "3c7979def0cf45f7b318f0752cc26519": {
          "model_module": "@jupyter-widgets/base",
          "model_name": "LayoutModel",
          "model_module_version": "1.2.0",
          "state": {
            "_view_name": "LayoutView",
            "grid_template_rows": null,
            "right": null,
            "justify_content": null,
            "_view_module": "@jupyter-widgets/base",
            "overflow": null,
            "_model_module_version": "1.2.0",
            "_view_count": null,
            "flex_flow": null,
            "width": "20px",
            "min_width": null,
            "border": null,
            "align_items": null,
            "bottom": null,
            "_model_module": "@jupyter-widgets/base",
            "top": null,
            "grid_column": null,
            "overflow_y": null,
            "overflow_x": null,
            "grid_auto_flow": null,
            "grid_area": null,
            "grid_template_columns": null,
            "flex": null,
            "_model_name": "LayoutModel",
            "justify_items": null,
            "grid_row": null,
            "max_height": null,
            "align_content": null,
            "visibility": null,
            "align_self": null,
            "height": null,
            "min_height": null,
            "padding": null,
            "grid_auto_rows": null,
            "grid_gap": null,
            "max_width": null,
            "order": null,
            "_view_module_version": "1.2.0",
            "grid_template_areas": null,
            "object_position": null,
            "object_fit": null,
            "grid_auto_columns": null,
            "margin": null,
            "display": null,
            "left": null
          }
        },
        "cca4f70c730a4783b198515504ee1c08": {
          "model_module": "@jupyter-widgets/controls",
          "model_name": "DescriptionStyleModel",
          "model_module_version": "1.5.0",
          "state": {
            "_view_name": "StyleView",
            "_model_name": "DescriptionStyleModel",
            "description_width": "",
            "_view_module": "@jupyter-widgets/base",
            "_model_module_version": "1.5.0",
            "_view_count": null,
            "_view_module_version": "1.2.0",
            "_model_module": "@jupyter-widgets/controls"
          }
        },
        "ee1f662f93094005bb86160c8c80003f": {
          "model_module": "@jupyter-widgets/base",
          "model_name": "LayoutModel",
          "model_module_version": "1.2.0",
          "state": {
            "_view_name": "LayoutView",
            "grid_template_rows": null,
            "right": null,
            "justify_content": null,
            "_view_module": "@jupyter-widgets/base",
            "overflow": null,
            "_model_module_version": "1.2.0",
            "_view_count": null,
            "flex_flow": null,
            "width": null,
            "min_width": null,
            "border": null,
            "align_items": null,
            "bottom": null,
            "_model_module": "@jupyter-widgets/base",
            "top": null,
            "grid_column": null,
            "overflow_y": null,
            "overflow_x": null,
            "grid_auto_flow": null,
            "grid_area": null,
            "grid_template_columns": null,
            "flex": null,
            "_model_name": "LayoutModel",
            "justify_items": null,
            "grid_row": null,
            "max_height": null,
            "align_content": null,
            "visibility": null,
            "align_self": null,
            "height": null,
            "min_height": null,
            "padding": null,
            "grid_auto_rows": null,
            "grid_gap": null,
            "max_width": null,
            "order": null,
            "_view_module_version": "1.2.0",
            "grid_template_areas": null,
            "object_position": null,
            "object_fit": null,
            "grid_auto_columns": null,
            "margin": null,
            "display": null,
            "left": null
          }
        },
        "facc91df330f4920abcd447823f667c5": {
          "model_module": "@jupyter-widgets/controls",
          "model_name": "HBoxModel",
          "model_module_version": "1.5.0",
          "state": {
            "_view_name": "HBoxView",
            "_dom_classes": [],
            "_model_name": "HBoxModel",
            "_view_module": "@jupyter-widgets/controls",
            "_model_module_version": "1.5.0",
            "_view_count": null,
            "_view_module_version": "1.5.0",
            "box_style": "",
            "layout": "IPY_MODEL_9b8c0d4682a649e2baf7ed48fbc2f28a",
            "_model_module": "@jupyter-widgets/controls",
            "children": [
              "IPY_MODEL_ed92472850904ad0aa9facb835e214d3",
              "IPY_MODEL_3f5c52f2ccd14b7db087b99439d571f1",
              "IPY_MODEL_c9a0ba9215234de8a396f7c6b02c70ef"
            ]
          }
        },
        "9b8c0d4682a649e2baf7ed48fbc2f28a": {
          "model_module": "@jupyter-widgets/base",
          "model_name": "LayoutModel",
          "model_module_version": "1.2.0",
          "state": {
            "_view_name": "LayoutView",
            "grid_template_rows": null,
            "right": null,
            "justify_content": null,
            "_view_module": "@jupyter-widgets/base",
            "overflow": null,
            "_model_module_version": "1.2.0",
            "_view_count": null,
            "flex_flow": null,
            "width": null,
            "min_width": null,
            "border": null,
            "align_items": null,
            "bottom": null,
            "_model_module": "@jupyter-widgets/base",
            "top": null,
            "grid_column": null,
            "overflow_y": null,
            "overflow_x": null,
            "grid_auto_flow": null,
            "grid_area": null,
            "grid_template_columns": null,
            "flex": null,
            "_model_name": "LayoutModel",
            "justify_items": null,
            "grid_row": null,
            "max_height": null,
            "align_content": null,
            "visibility": null,
            "align_self": null,
            "height": null,
            "min_height": null,
            "padding": null,
            "grid_auto_rows": null,
            "grid_gap": null,
            "max_width": null,
            "order": null,
            "_view_module_version": "1.2.0",
            "grid_template_areas": null,
            "object_position": null,
            "object_fit": null,
            "grid_auto_columns": null,
            "margin": null,
            "display": null,
            "left": null
          }
        },
        "ed92472850904ad0aa9facb835e214d3": {
          "model_module": "@jupyter-widgets/controls",
          "model_name": "HTMLModel",
          "model_module_version": "1.5.0",
          "state": {
            "_view_name": "HTMLView",
            "style": "IPY_MODEL_4c31718f19f9437abd8c704924da96b5",
            "_dom_classes": [],
            "description": "",
            "_model_name": "HTMLModel",
            "placeholder": "​",
            "_view_module": "@jupyter-widgets/controls",
            "_model_module_version": "1.5.0",
            "value": "100%",
            "_view_count": null,
            "_view_module_version": "1.5.0",
            "description_tooltip": null,
            "_model_module": "@jupyter-widgets/controls",
            "layout": "IPY_MODEL_67cd88c888d5485da724a85af5f148a9"
          }
        },
        "3f5c52f2ccd14b7db087b99439d571f1": {
          "model_module": "@jupyter-widgets/controls",
          "model_name": "FloatProgressModel",
          "model_module_version": "1.5.0",
          "state": {
            "_view_name": "ProgressView",
            "style": "IPY_MODEL_fc3ac946ca744716b07a9cb43a3af955",
            "_dom_classes": [],
            "description": "",
            "_model_name": "FloatProgressModel",
            "bar_style": "danger",
            "max": 25000,
            "_view_module": "@jupyter-widgets/controls",
            "_model_module_version": "1.5.0",
            "value": 24999,
            "_view_count": null,
            "_view_module_version": "1.5.0",
            "orientation": "horizontal",
            "min": 0,
            "description_tooltip": null,
            "_model_module": "@jupyter-widgets/controls",
            "layout": "IPY_MODEL_e3bef0771c624567b6f2222958ec0c0b"
          }
        },
        "c9a0ba9215234de8a396f7c6b02c70ef": {
          "model_module": "@jupyter-widgets/controls",
          "model_name": "HTMLModel",
          "model_module_version": "1.5.0",
          "state": {
            "_view_name": "HTMLView",
            "style": "IPY_MODEL_616e835ea8794fa194285cda447138e2",
            "_dom_classes": [],
            "description": "",
            "_model_name": "HTMLModel",
            "placeholder": "​",
            "_view_module": "@jupyter-widgets/controls",
            "_model_module_version": "1.5.0",
            "value": " 24999/25000 [00:00&lt;00:00, 43500.60 examples/s]",
            "_view_count": null,
            "_view_module_version": "1.5.0",
            "description_tooltip": null,
            "_model_module": "@jupyter-widgets/controls",
            "layout": "IPY_MODEL_7f5cc812263441b791a3d97dae4df9e7"
          }
        },
        "4c31718f19f9437abd8c704924da96b5": {
          "model_module": "@jupyter-widgets/controls",
          "model_name": "DescriptionStyleModel",
          "model_module_version": "1.5.0",
          "state": {
            "_view_name": "StyleView",
            "_model_name": "DescriptionStyleModel",
            "description_width": "",
            "_view_module": "@jupyter-widgets/base",
            "_model_module_version": "1.5.0",
            "_view_count": null,
            "_view_module_version": "1.2.0",
            "_model_module": "@jupyter-widgets/controls"
          }
        },
        "67cd88c888d5485da724a85af5f148a9": {
          "model_module": "@jupyter-widgets/base",
          "model_name": "LayoutModel",
          "model_module_version": "1.2.0",
          "state": {
            "_view_name": "LayoutView",
            "grid_template_rows": null,
            "right": null,
            "justify_content": null,
            "_view_module": "@jupyter-widgets/base",
            "overflow": null,
            "_model_module_version": "1.2.0",
            "_view_count": null,
            "flex_flow": null,
            "width": null,
            "min_width": null,
            "border": null,
            "align_items": null,
            "bottom": null,
            "_model_module": "@jupyter-widgets/base",
            "top": null,
            "grid_column": null,
            "overflow_y": null,
            "overflow_x": null,
            "grid_auto_flow": null,
            "grid_area": null,
            "grid_template_columns": null,
            "flex": null,
            "_model_name": "LayoutModel",
            "justify_items": null,
            "grid_row": null,
            "max_height": null,
            "align_content": null,
            "visibility": null,
            "align_self": null,
            "height": null,
            "min_height": null,
            "padding": null,
            "grid_auto_rows": null,
            "grid_gap": null,
            "max_width": null,
            "order": null,
            "_view_module_version": "1.2.0",
            "grid_template_areas": null,
            "object_position": null,
            "object_fit": null,
            "grid_auto_columns": null,
            "margin": null,
            "display": null,
            "left": null
          }
        },
        "fc3ac946ca744716b07a9cb43a3af955": {
          "model_module": "@jupyter-widgets/controls",
          "model_name": "ProgressStyleModel",
          "model_module_version": "1.5.0",
          "state": {
            "_view_name": "StyleView",
            "_model_name": "ProgressStyleModel",
            "description_width": "",
            "_view_module": "@jupyter-widgets/base",
            "_model_module_version": "1.5.0",
            "_view_count": null,
            "_view_module_version": "1.2.0",
            "bar_color": null,
            "_model_module": "@jupyter-widgets/controls"
          }
        },
        "e3bef0771c624567b6f2222958ec0c0b": {
          "model_module": "@jupyter-widgets/base",
          "model_name": "LayoutModel",
          "model_module_version": "1.2.0",
          "state": {
            "_view_name": "LayoutView",
            "grid_template_rows": null,
            "right": null,
            "justify_content": null,
            "_view_module": "@jupyter-widgets/base",
            "overflow": null,
            "_model_module_version": "1.2.0",
            "_view_count": null,
            "flex_flow": null,
            "width": null,
            "min_width": null,
            "border": null,
            "align_items": null,
            "bottom": null,
            "_model_module": "@jupyter-widgets/base",
            "top": null,
            "grid_column": null,
            "overflow_y": null,
            "overflow_x": null,
            "grid_auto_flow": null,
            "grid_area": null,
            "grid_template_columns": null,
            "flex": null,
            "_model_name": "LayoutModel",
            "justify_items": null,
            "grid_row": null,
            "max_height": null,
            "align_content": null,
            "visibility": null,
            "align_self": null,
            "height": null,
            "min_height": null,
            "padding": null,
            "grid_auto_rows": null,
            "grid_gap": null,
            "max_width": null,
            "order": null,
            "_view_module_version": "1.2.0",
            "grid_template_areas": null,
            "object_position": null,
            "object_fit": null,
            "grid_auto_columns": null,
            "margin": null,
            "display": null,
            "left": null
          }
        },
        "616e835ea8794fa194285cda447138e2": {
          "model_module": "@jupyter-widgets/controls",
          "model_name": "DescriptionStyleModel",
          "model_module_version": "1.5.0",
          "state": {
            "_view_name": "StyleView",
            "_model_name": "DescriptionStyleModel",
            "description_width": "",
            "_view_module": "@jupyter-widgets/base",
            "_model_module_version": "1.5.0",
            "_view_count": null,
            "_view_module_version": "1.2.0",
            "_model_module": "@jupyter-widgets/controls"
          }
        },
        "7f5cc812263441b791a3d97dae4df9e7": {
          "model_module": "@jupyter-widgets/base",
          "model_name": "LayoutModel",
          "model_module_version": "1.2.0",
          "state": {
            "_view_name": "LayoutView",
            "grid_template_rows": null,
            "right": null,
            "justify_content": null,
            "_view_module": "@jupyter-widgets/base",
            "overflow": null,
            "_model_module_version": "1.2.0",
            "_view_count": null,
            "flex_flow": null,
            "width": null,
            "min_width": null,
            "border": null,
            "align_items": null,
            "bottom": null,
            "_model_module": "@jupyter-widgets/base",
            "top": null,
            "grid_column": null,
            "overflow_y": null,
            "overflow_x": null,
            "grid_auto_flow": null,
            "grid_area": null,
            "grid_template_columns": null,
            "flex": null,
            "_model_name": "LayoutModel",
            "justify_items": null,
            "grid_row": null,
            "max_height": null,
            "align_content": null,
            "visibility": null,
            "align_self": null,
            "height": null,
            "min_height": null,
            "padding": null,
            "grid_auto_rows": null,
            "grid_gap": null,
            "max_width": null,
            "order": null,
            "_view_module_version": "1.2.0",
            "grid_template_areas": null,
            "object_position": null,
            "object_fit": null,
            "grid_auto_columns": null,
            "margin": null,
            "display": null,
            "left": null
          }
        },
        "eb060883adc548ab82a7176853ca1974": {
          "model_module": "@jupyter-widgets/controls",
          "model_name": "HBoxModel",
          "model_module_version": "1.5.0",
          "state": {
            "_view_name": "HBoxView",
            "_dom_classes": [],
            "_model_name": "HBoxModel",
            "_view_module": "@jupyter-widgets/controls",
            "_model_module_version": "1.5.0",
            "_view_count": null,
            "_view_module_version": "1.5.0",
            "box_style": "",
            "layout": "IPY_MODEL_9fc3d9a89188404c985e021651b2f8a2",
            "_model_module": "@jupyter-widgets/controls",
            "children": [
              "IPY_MODEL_9f52db8d2ced42cd98e5e28a15fbe8a1",
              "IPY_MODEL_1df89e0427f845698a9af4d580e56d83",
              "IPY_MODEL_fa2b8152ee5540c9b27745a971a07c41"
            ]
          }
        },
        "9fc3d9a89188404c985e021651b2f8a2": {
          "model_module": "@jupyter-widgets/base",
          "model_name": "LayoutModel",
          "model_module_version": "1.2.0",
          "state": {
            "_view_name": "LayoutView",
            "grid_template_rows": null,
            "right": null,
            "justify_content": null,
            "_view_module": "@jupyter-widgets/base",
            "overflow": null,
            "_model_module_version": "1.2.0",
            "_view_count": null,
            "flex_flow": null,
            "width": null,
            "min_width": null,
            "border": null,
            "align_items": null,
            "bottom": null,
            "_model_module": "@jupyter-widgets/base",
            "top": null,
            "grid_column": null,
            "overflow_y": null,
            "overflow_x": null,
            "grid_auto_flow": null,
            "grid_area": null,
            "grid_template_columns": null,
            "flex": null,
            "_model_name": "LayoutModel",
            "justify_items": null,
            "grid_row": null,
            "max_height": null,
            "align_content": null,
            "visibility": null,
            "align_self": null,
            "height": null,
            "min_height": null,
            "padding": null,
            "grid_auto_rows": null,
            "grid_gap": null,
            "max_width": null,
            "order": null,
            "_view_module_version": "1.2.0",
            "grid_template_areas": null,
            "object_position": null,
            "object_fit": null,
            "grid_auto_columns": null,
            "margin": null,
            "display": null,
            "left": null
          }
        },
        "9f52db8d2ced42cd98e5e28a15fbe8a1": {
          "model_module": "@jupyter-widgets/controls",
          "model_name": "HTMLModel",
          "model_module_version": "1.5.0",
          "state": {
            "_view_name": "HTMLView",
            "style": "IPY_MODEL_3030886904f14e69b63faddc7c6b1bff",
            "_dom_classes": [],
            "description": "",
            "_model_name": "HTMLModel",
            "placeholder": "​",
            "_view_module": "@jupyter-widgets/controls",
            "_model_module_version": "1.5.0",
            "value": "",
            "_view_count": null,
            "_view_module_version": "1.5.0",
            "description_tooltip": null,
            "_model_module": "@jupyter-widgets/controls",
            "layout": "IPY_MODEL_d5bcd31646ae490aa475603ab79c14e7"
          }
        },
        "1df89e0427f845698a9af4d580e56d83": {
          "model_module": "@jupyter-widgets/controls",
          "model_name": "FloatProgressModel",
          "model_module_version": "1.5.0",
          "state": {
            "_view_name": "ProgressView",
            "style": "IPY_MODEL_b53327b453a643b5886ae2fa2bb50308",
            "_dom_classes": [],
            "description": "",
            "_model_name": "FloatProgressModel",
            "bar_style": "info",
            "max": 1,
            "_view_module": "@jupyter-widgets/controls",
            "_model_module_version": "1.5.0",
            "value": 1,
            "_view_count": null,
            "_view_module_version": "1.5.0",
            "orientation": "horizontal",
            "min": 0,
            "description_tooltip": null,
            "_model_module": "@jupyter-widgets/controls",
            "layout": "IPY_MODEL_05ef71e1240646429d8fb4674cc4c39f"
          }
        },
        "fa2b8152ee5540c9b27745a971a07c41": {
          "model_module": "@jupyter-widgets/controls",
          "model_name": "HTMLModel",
          "model_module_version": "1.5.0",
          "state": {
            "_view_name": "HTMLView",
            "style": "IPY_MODEL_f8b88c9e51044086abf90c0834bf2f28",
            "_dom_classes": [],
            "description": "",
            "_model_name": "HTMLModel",
            "placeholder": "​",
            "_view_module": "@jupyter-widgets/controls",
            "_model_module_version": "1.5.0",
            "value": " 49908/0 [00:25&lt;00:00, 2423.51 examples/s]",
            "_view_count": null,
            "_view_module_version": "1.5.0",
            "description_tooltip": null,
            "_model_module": "@jupyter-widgets/controls",
            "layout": "IPY_MODEL_69baf337d4564321a296c049d024aeee"
          }
        },
        "3030886904f14e69b63faddc7c6b1bff": {
          "model_module": "@jupyter-widgets/controls",
          "model_name": "DescriptionStyleModel",
          "model_module_version": "1.5.0",
          "state": {
            "_view_name": "StyleView",
            "_model_name": "DescriptionStyleModel",
            "description_width": "",
            "_view_module": "@jupyter-widgets/base",
            "_model_module_version": "1.5.0",
            "_view_count": null,
            "_view_module_version": "1.2.0",
            "_model_module": "@jupyter-widgets/controls"
          }
        },
        "d5bcd31646ae490aa475603ab79c14e7": {
          "model_module": "@jupyter-widgets/base",
          "model_name": "LayoutModel",
          "model_module_version": "1.2.0",
          "state": {
            "_view_name": "LayoutView",
            "grid_template_rows": null,
            "right": null,
            "justify_content": null,
            "_view_module": "@jupyter-widgets/base",
            "overflow": null,
            "_model_module_version": "1.2.0",
            "_view_count": null,
            "flex_flow": null,
            "width": null,
            "min_width": null,
            "border": null,
            "align_items": null,
            "bottom": null,
            "_model_module": "@jupyter-widgets/base",
            "top": null,
            "grid_column": null,
            "overflow_y": null,
            "overflow_x": null,
            "grid_auto_flow": null,
            "grid_area": null,
            "grid_template_columns": null,
            "flex": null,
            "_model_name": "LayoutModel",
            "justify_items": null,
            "grid_row": null,
            "max_height": null,
            "align_content": null,
            "visibility": null,
            "align_self": null,
            "height": null,
            "min_height": null,
            "padding": null,
            "grid_auto_rows": null,
            "grid_gap": null,
            "max_width": null,
            "order": null,
            "_view_module_version": "1.2.0",
            "grid_template_areas": null,
            "object_position": null,
            "object_fit": null,
            "grid_auto_columns": null,
            "margin": null,
            "display": null,
            "left": null
          }
        },
        "b53327b453a643b5886ae2fa2bb50308": {
          "model_module": "@jupyter-widgets/controls",
          "model_name": "ProgressStyleModel",
          "model_module_version": "1.5.0",
          "state": {
            "_view_name": "StyleView",
            "_model_name": "ProgressStyleModel",
            "description_width": "",
            "_view_module": "@jupyter-widgets/base",
            "_model_module_version": "1.5.0",
            "_view_count": null,
            "_view_module_version": "1.2.0",
            "bar_color": null,
            "_model_module": "@jupyter-widgets/controls"
          }
        },
        "05ef71e1240646429d8fb4674cc4c39f": {
          "model_module": "@jupyter-widgets/base",
          "model_name": "LayoutModel",
          "model_module_version": "1.2.0",
          "state": {
            "_view_name": "LayoutView",
            "grid_template_rows": null,
            "right": null,
            "justify_content": null,
            "_view_module": "@jupyter-widgets/base",
            "overflow": null,
            "_model_module_version": "1.2.0",
            "_view_count": null,
            "flex_flow": null,
            "width": "20px",
            "min_width": null,
            "border": null,
            "align_items": null,
            "bottom": null,
            "_model_module": "@jupyter-widgets/base",
            "top": null,
            "grid_column": null,
            "overflow_y": null,
            "overflow_x": null,
            "grid_auto_flow": null,
            "grid_area": null,
            "grid_template_columns": null,
            "flex": null,
            "_model_name": "LayoutModel",
            "justify_items": null,
            "grid_row": null,
            "max_height": null,
            "align_content": null,
            "visibility": null,
            "align_self": null,
            "height": null,
            "min_height": null,
            "padding": null,
            "grid_auto_rows": null,
            "grid_gap": null,
            "max_width": null,
            "order": null,
            "_view_module_version": "1.2.0",
            "grid_template_areas": null,
            "object_position": null,
            "object_fit": null,
            "grid_auto_columns": null,
            "margin": null,
            "display": null,
            "left": null
          }
        },
        "f8b88c9e51044086abf90c0834bf2f28": {
          "model_module": "@jupyter-widgets/controls",
          "model_name": "DescriptionStyleModel",
          "model_module_version": "1.5.0",
          "state": {
            "_view_name": "StyleView",
            "_model_name": "DescriptionStyleModel",
            "description_width": "",
            "_view_module": "@jupyter-widgets/base",
            "_model_module_version": "1.5.0",
            "_view_count": null,
            "_view_module_version": "1.2.0",
            "_model_module": "@jupyter-widgets/controls"
          }
        },
        "69baf337d4564321a296c049d024aeee": {
          "model_module": "@jupyter-widgets/base",
          "model_name": "LayoutModel",
          "model_module_version": "1.2.0",
          "state": {
            "_view_name": "LayoutView",
            "grid_template_rows": null,
            "right": null,
            "justify_content": null,
            "_view_module": "@jupyter-widgets/base",
            "overflow": null,
            "_model_module_version": "1.2.0",
            "_view_count": null,
            "flex_flow": null,
            "width": null,
            "min_width": null,
            "border": null,
            "align_items": null,
            "bottom": null,
            "_model_module": "@jupyter-widgets/base",
            "top": null,
            "grid_column": null,
            "overflow_y": null,
            "overflow_x": null,
            "grid_auto_flow": null,
            "grid_area": null,
            "grid_template_columns": null,
            "flex": null,
            "_model_name": "LayoutModel",
            "justify_items": null,
            "grid_row": null,
            "max_height": null,
            "align_content": null,
            "visibility": null,
            "align_self": null,
            "height": null,
            "min_height": null,
            "padding": null,
            "grid_auto_rows": null,
            "grid_gap": null,
            "max_width": null,
            "order": null,
            "_view_module_version": "1.2.0",
            "grid_template_areas": null,
            "object_position": null,
            "object_fit": null,
            "grid_auto_columns": null,
            "margin": null,
            "display": null,
            "left": null
          }
        },
        "784094a0435d4901bd87c509919e1cb0": {
          "model_module": "@jupyter-widgets/controls",
          "model_name": "HBoxModel",
          "model_module_version": "1.5.0",
          "state": {
            "_view_name": "HBoxView",
            "_dom_classes": [],
            "_model_name": "HBoxModel",
            "_view_module": "@jupyter-widgets/controls",
            "_model_module_version": "1.5.0",
            "_view_count": null,
            "_view_module_version": "1.5.0",
            "box_style": "",
            "layout": "IPY_MODEL_7fdead2d72f44b63bdb45902113daac7",
            "_model_module": "@jupyter-widgets/controls",
            "children": [
              "IPY_MODEL_441ae2591d784fa8a502eb7f05364ed9",
              "IPY_MODEL_a707b786accf40fbb4803211d91ff1b9",
              "IPY_MODEL_2ef99ba850a847739e04a98785d62983"
            ]
          }
        },
        "7fdead2d72f44b63bdb45902113daac7": {
          "model_module": "@jupyter-widgets/base",
          "model_name": "LayoutModel",
          "model_module_version": "1.2.0",
          "state": {
            "_view_name": "LayoutView",
            "grid_template_rows": null,
            "right": null,
            "justify_content": null,
            "_view_module": "@jupyter-widgets/base",
            "overflow": null,
            "_model_module_version": "1.2.0",
            "_view_count": null,
            "flex_flow": null,
            "width": null,
            "min_width": null,
            "border": null,
            "align_items": null,
            "bottom": null,
            "_model_module": "@jupyter-widgets/base",
            "top": null,
            "grid_column": null,
            "overflow_y": null,
            "overflow_x": null,
            "grid_auto_flow": null,
            "grid_area": null,
            "grid_template_columns": null,
            "flex": null,
            "_model_name": "LayoutModel",
            "justify_items": null,
            "grid_row": null,
            "max_height": null,
            "align_content": null,
            "visibility": null,
            "align_self": null,
            "height": null,
            "min_height": null,
            "padding": null,
            "grid_auto_rows": null,
            "grid_gap": null,
            "max_width": null,
            "order": null,
            "_view_module_version": "1.2.0",
            "grid_template_areas": null,
            "object_position": null,
            "object_fit": null,
            "grid_auto_columns": null,
            "margin": null,
            "display": null,
            "left": null
          }
        },
        "441ae2591d784fa8a502eb7f05364ed9": {
          "model_module": "@jupyter-widgets/controls",
          "model_name": "HTMLModel",
          "model_module_version": "1.5.0",
          "state": {
            "_view_name": "HTMLView",
            "style": "IPY_MODEL_2392d879ee3b4ad4b7ed2e4d4010f9e8",
            "_dom_classes": [],
            "description": "",
            "_model_name": "HTMLModel",
            "placeholder": "​",
            "_view_module": "@jupyter-widgets/controls",
            "_model_module_version": "1.5.0",
            "value": "100%",
            "_view_count": null,
            "_view_module_version": "1.5.0",
            "description_tooltip": null,
            "_model_module": "@jupyter-widgets/controls",
            "layout": "IPY_MODEL_718079e8e2404a9d88be1bf94c43ad11"
          }
        },
        "a707b786accf40fbb4803211d91ff1b9": {
          "model_module": "@jupyter-widgets/controls",
          "model_name": "FloatProgressModel",
          "model_module_version": "1.5.0",
          "state": {
            "_view_name": "ProgressView",
            "style": "IPY_MODEL_500f944b652342bfb98960ade72c07ed",
            "_dom_classes": [],
            "description": "",
            "_model_name": "FloatProgressModel",
            "bar_style": "danger",
            "max": 50000,
            "_view_module": "@jupyter-widgets/controls",
            "_model_module_version": "1.5.0",
            "value": 49999,
            "_view_count": null,
            "_view_module_version": "1.5.0",
            "orientation": "horizontal",
            "min": 0,
            "description_tooltip": null,
            "_model_module": "@jupyter-widgets/controls",
            "layout": "IPY_MODEL_20d31a9d68b14ebe8a2a18c189ec05a8"
          }
        },
        "2ef99ba850a847739e04a98785d62983": {
          "model_module": "@jupyter-widgets/controls",
          "model_name": "HTMLModel",
          "model_module_version": "1.5.0",
          "state": {
            "_view_name": "HTMLView",
            "style": "IPY_MODEL_6c407b409c54402786cba5f8736bc266",
            "_dom_classes": [],
            "description": "",
            "_model_name": "HTMLModel",
            "placeholder": "​",
            "_view_module": "@jupyter-widgets/controls",
            "_model_module_version": "1.5.0",
            "value": " 49999/50000 [00:00&lt;00:00, 153110.79 examples/s]",
            "_view_count": null,
            "_view_module_version": "1.5.0",
            "description_tooltip": null,
            "_model_module": "@jupyter-widgets/controls",
            "layout": "IPY_MODEL_922d607f81ea4239895d82494c64eda7"
          }
        },
        "2392d879ee3b4ad4b7ed2e4d4010f9e8": {
          "model_module": "@jupyter-widgets/controls",
          "model_name": "DescriptionStyleModel",
          "model_module_version": "1.5.0",
          "state": {
            "_view_name": "StyleView",
            "_model_name": "DescriptionStyleModel",
            "description_width": "",
            "_view_module": "@jupyter-widgets/base",
            "_model_module_version": "1.5.0",
            "_view_count": null,
            "_view_module_version": "1.2.0",
            "_model_module": "@jupyter-widgets/controls"
          }
        },
        "718079e8e2404a9d88be1bf94c43ad11": {
          "model_module": "@jupyter-widgets/base",
          "model_name": "LayoutModel",
          "model_module_version": "1.2.0",
          "state": {
            "_view_name": "LayoutView",
            "grid_template_rows": null,
            "right": null,
            "justify_content": null,
            "_view_module": "@jupyter-widgets/base",
            "overflow": null,
            "_model_module_version": "1.2.0",
            "_view_count": null,
            "flex_flow": null,
            "width": null,
            "min_width": null,
            "border": null,
            "align_items": null,
            "bottom": null,
            "_model_module": "@jupyter-widgets/base",
            "top": null,
            "grid_column": null,
            "overflow_y": null,
            "overflow_x": null,
            "grid_auto_flow": null,
            "grid_area": null,
            "grid_template_columns": null,
            "flex": null,
            "_model_name": "LayoutModel",
            "justify_items": null,
            "grid_row": null,
            "max_height": null,
            "align_content": null,
            "visibility": null,
            "align_self": null,
            "height": null,
            "min_height": null,
            "padding": null,
            "grid_auto_rows": null,
            "grid_gap": null,
            "max_width": null,
            "order": null,
            "_view_module_version": "1.2.0",
            "grid_template_areas": null,
            "object_position": null,
            "object_fit": null,
            "grid_auto_columns": null,
            "margin": null,
            "display": null,
            "left": null
          }
        },
        "500f944b652342bfb98960ade72c07ed": {
          "model_module": "@jupyter-widgets/controls",
          "model_name": "ProgressStyleModel",
          "model_module_version": "1.5.0",
          "state": {
            "_view_name": "StyleView",
            "_model_name": "ProgressStyleModel",
            "description_width": "",
            "_view_module": "@jupyter-widgets/base",
            "_model_module_version": "1.5.0",
            "_view_count": null,
            "_view_module_version": "1.2.0",
            "bar_color": null,
            "_model_module": "@jupyter-widgets/controls"
          }
        },
        "20d31a9d68b14ebe8a2a18c189ec05a8": {
          "model_module": "@jupyter-widgets/base",
          "model_name": "LayoutModel",
          "model_module_version": "1.2.0",
          "state": {
            "_view_name": "LayoutView",
            "grid_template_rows": null,
            "right": null,
            "justify_content": null,
            "_view_module": "@jupyter-widgets/base",
            "overflow": null,
            "_model_module_version": "1.2.0",
            "_view_count": null,
            "flex_flow": null,
            "width": null,
            "min_width": null,
            "border": null,
            "align_items": null,
            "bottom": null,
            "_model_module": "@jupyter-widgets/base",
            "top": null,
            "grid_column": null,
            "overflow_y": null,
            "overflow_x": null,
            "grid_auto_flow": null,
            "grid_area": null,
            "grid_template_columns": null,
            "flex": null,
            "_model_name": "LayoutModel",
            "justify_items": null,
            "grid_row": null,
            "max_height": null,
            "align_content": null,
            "visibility": null,
            "align_self": null,
            "height": null,
            "min_height": null,
            "padding": null,
            "grid_auto_rows": null,
            "grid_gap": null,
            "max_width": null,
            "order": null,
            "_view_module_version": "1.2.0",
            "grid_template_areas": null,
            "object_position": null,
            "object_fit": null,
            "grid_auto_columns": null,
            "margin": null,
            "display": null,
            "left": null
          }
        },
        "6c407b409c54402786cba5f8736bc266": {
          "model_module": "@jupyter-widgets/controls",
          "model_name": "DescriptionStyleModel",
          "model_module_version": "1.5.0",
          "state": {
            "_view_name": "StyleView",
            "_model_name": "DescriptionStyleModel",
            "description_width": "",
            "_view_module": "@jupyter-widgets/base",
            "_model_module_version": "1.5.0",
            "_view_count": null,
            "_view_module_version": "1.2.0",
            "_model_module": "@jupyter-widgets/controls"
          }
        },
        "922d607f81ea4239895d82494c64eda7": {
          "model_module": "@jupyter-widgets/base",
          "model_name": "LayoutModel",
          "model_module_version": "1.2.0",
          "state": {
            "_view_name": "LayoutView",
            "grid_template_rows": null,
            "right": null,
            "justify_content": null,
            "_view_module": "@jupyter-widgets/base",
            "overflow": null,
            "_model_module_version": "1.2.0",
            "_view_count": null,
            "flex_flow": null,
            "width": null,
            "min_width": null,
            "border": null,
            "align_items": null,
            "bottom": null,
            "_model_module": "@jupyter-widgets/base",
            "top": null,
            "grid_column": null,
            "overflow_y": null,
            "overflow_x": null,
            "grid_auto_flow": null,
            "grid_area": null,
            "grid_template_columns": null,
            "flex": null,
            "_model_name": "LayoutModel",
            "justify_items": null,
            "grid_row": null,
            "max_height": null,
            "align_content": null,
            "visibility": null,
            "align_self": null,
            "height": null,
            "min_height": null,
            "padding": null,
            "grid_auto_rows": null,
            "grid_gap": null,
            "max_width": null,
            "order": null,
            "_view_module_version": "1.2.0",
            "grid_template_areas": null,
            "object_position": null,
            "object_fit": null,
            "grid_auto_columns": null,
            "margin": null,
            "display": null,
            "left": null
          }
        },
        "f4357d13f40c4c82bda91976fba42b26": {
          "model_module": "@jupyter-widgets/controls",
          "model_name": "HBoxModel",
          "model_module_version": "1.5.0",
          "state": {
            "_view_name": "HBoxView",
            "_dom_classes": [],
            "_model_name": "HBoxModel",
            "_view_module": "@jupyter-widgets/controls",
            "_model_module_version": "1.5.0",
            "_view_count": null,
            "_view_module_version": "1.5.0",
            "box_style": "",
            "layout": "IPY_MODEL_fcce4d5d951a4fab8e2554fef60871e7",
            "_model_module": "@jupyter-widgets/controls",
            "children": [
              "IPY_MODEL_067168527a0644308053fe8ad19ce4c1",
              "IPY_MODEL_df3c1eccd8924a84b1564e2892444570",
              "IPY_MODEL_a2db45b407e048a6b06f9b0d98fd45fd"
            ]
          }
        },
        "fcce4d5d951a4fab8e2554fef60871e7": {
          "model_module": "@jupyter-widgets/base",
          "model_name": "LayoutModel",
          "model_module_version": "1.2.0",
          "state": {
            "_view_name": "LayoutView",
            "grid_template_rows": null,
            "right": null,
            "justify_content": null,
            "_view_module": "@jupyter-widgets/base",
            "overflow": null,
            "_model_module_version": "1.2.0",
            "_view_count": null,
            "flex_flow": null,
            "width": null,
            "min_width": null,
            "border": null,
            "align_items": null,
            "bottom": null,
            "_model_module": "@jupyter-widgets/base",
            "top": null,
            "grid_column": null,
            "overflow_y": null,
            "overflow_x": null,
            "grid_auto_flow": null,
            "grid_area": null,
            "grid_template_columns": null,
            "flex": null,
            "_model_name": "LayoutModel",
            "justify_items": null,
            "grid_row": null,
            "max_height": null,
            "align_content": null,
            "visibility": null,
            "align_self": null,
            "height": null,
            "min_height": null,
            "padding": null,
            "grid_auto_rows": null,
            "grid_gap": null,
            "max_width": null,
            "order": null,
            "_view_module_version": "1.2.0",
            "grid_template_areas": null,
            "object_position": null,
            "object_fit": null,
            "grid_auto_columns": null,
            "margin": null,
            "display": null,
            "left": null
          }
        },
        "067168527a0644308053fe8ad19ce4c1": {
          "model_module": "@jupyter-widgets/controls",
          "model_name": "HTMLModel",
          "model_module_version": "1.5.0",
          "state": {
            "_view_name": "HTMLView",
            "style": "IPY_MODEL_750f2072d9ce4caaa65765c65f86ab6c",
            "_dom_classes": [],
            "description": "",
            "_model_name": "HTMLModel",
            "placeholder": "​",
            "_view_module": "@jupyter-widgets/controls",
            "_model_module_version": "1.5.0",
            "value": "Dl Completed...: 100%",
            "_view_count": null,
            "_view_module_version": "1.5.0",
            "description_tooltip": null,
            "_model_module": "@jupyter-widgets/controls",
            "layout": "IPY_MODEL_7653c2acd55d471f9270e1c78694c816"
          }
        },
        "df3c1eccd8924a84b1564e2892444570": {
          "model_module": "@jupyter-widgets/controls",
          "model_name": "FloatProgressModel",
          "model_module_version": "1.5.0",
          "state": {
            "_view_name": "ProgressView",
            "style": "IPY_MODEL_2b548220a320436fba23ff8ad4afd375",
            "_dom_classes": [],
            "description": "",
            "_model_name": "FloatProgressModel",
            "bar_style": "success",
            "max": 1,
            "_view_module": "@jupyter-widgets/controls",
            "_model_module_version": "1.5.0",
            "value": 1,
            "_view_count": null,
            "_view_module_version": "1.5.0",
            "orientation": "horizontal",
            "min": 0,
            "description_tooltip": null,
            "_model_module": "@jupyter-widgets/controls",
            "layout": "IPY_MODEL_5d8953a00c3642b5918e77b2f3829fc0"
          }
        },
        "a2db45b407e048a6b06f9b0d98fd45fd": {
          "model_module": "@jupyter-widgets/controls",
          "model_name": "HTMLModel",
          "model_module_version": "1.5.0",
          "state": {
            "_view_name": "HTMLView",
            "style": "IPY_MODEL_2e9042e220904380a19e9edf9505d09b",
            "_dom_classes": [],
            "description": "",
            "_model_name": "HTMLModel",
            "placeholder": "​",
            "_view_module": "@jupyter-widgets/controls",
            "_model_module_version": "1.5.0",
            "value": " 1/1 [00:06&lt;00:00,  6.78s/ url]",
            "_view_count": null,
            "_view_module_version": "1.5.0",
            "description_tooltip": null,
            "_model_module": "@jupyter-widgets/controls",
            "layout": "IPY_MODEL_3a0daf69bf254e6684e7d0799a1d50e2"
          }
        },
        "750f2072d9ce4caaa65765c65f86ab6c": {
          "model_module": "@jupyter-widgets/controls",
          "model_name": "DescriptionStyleModel",
          "model_module_version": "1.5.0",
          "state": {
            "_view_name": "StyleView",
            "_model_name": "DescriptionStyleModel",
            "description_width": "",
            "_view_module": "@jupyter-widgets/base",
            "_model_module_version": "1.5.0",
            "_view_count": null,
            "_view_module_version": "1.2.0",
            "_model_module": "@jupyter-widgets/controls"
          }
        },
        "7653c2acd55d471f9270e1c78694c816": {
          "model_module": "@jupyter-widgets/base",
          "model_name": "LayoutModel",
          "model_module_version": "1.2.0",
          "state": {
            "_view_name": "LayoutView",
            "grid_template_rows": null,
            "right": null,
            "justify_content": null,
            "_view_module": "@jupyter-widgets/base",
            "overflow": null,
            "_model_module_version": "1.2.0",
            "_view_count": null,
            "flex_flow": null,
            "width": null,
            "min_width": null,
            "border": null,
            "align_items": null,
            "bottom": null,
            "_model_module": "@jupyter-widgets/base",
            "top": null,
            "grid_column": null,
            "overflow_y": null,
            "overflow_x": null,
            "grid_auto_flow": null,
            "grid_area": null,
            "grid_template_columns": null,
            "flex": null,
            "_model_name": "LayoutModel",
            "justify_items": null,
            "grid_row": null,
            "max_height": null,
            "align_content": null,
            "visibility": null,
            "align_self": null,
            "height": null,
            "min_height": null,
            "padding": null,
            "grid_auto_rows": null,
            "grid_gap": null,
            "max_width": null,
            "order": null,
            "_view_module_version": "1.2.0",
            "grid_template_areas": null,
            "object_position": null,
            "object_fit": null,
            "grid_auto_columns": null,
            "margin": null,
            "display": null,
            "left": null
          }
        },
        "2b548220a320436fba23ff8ad4afd375": {
          "model_module": "@jupyter-widgets/controls",
          "model_name": "ProgressStyleModel",
          "model_module_version": "1.5.0",
          "state": {
            "_view_name": "StyleView",
            "_model_name": "ProgressStyleModel",
            "description_width": "",
            "_view_module": "@jupyter-widgets/base",
            "_model_module_version": "1.5.0",
            "_view_count": null,
            "_view_module_version": "1.2.0",
            "bar_color": null,
            "_model_module": "@jupyter-widgets/controls"
          }
        },
        "5d8953a00c3642b5918e77b2f3829fc0": {
          "model_module": "@jupyter-widgets/base",
          "model_name": "LayoutModel",
          "model_module_version": "1.2.0",
          "state": {
            "_view_name": "LayoutView",
            "grid_template_rows": null,
            "right": null,
            "justify_content": null,
            "_view_module": "@jupyter-widgets/base",
            "overflow": null,
            "_model_module_version": "1.2.0",
            "_view_count": null,
            "flex_flow": null,
            "width": "20px",
            "min_width": null,
            "border": null,
            "align_items": null,
            "bottom": null,
            "_model_module": "@jupyter-widgets/base",
            "top": null,
            "grid_column": null,
            "overflow_y": null,
            "overflow_x": null,
            "grid_auto_flow": null,
            "grid_area": null,
            "grid_template_columns": null,
            "flex": null,
            "_model_name": "LayoutModel",
            "justify_items": null,
            "grid_row": null,
            "max_height": null,
            "align_content": null,
            "visibility": null,
            "align_self": null,
            "height": null,
            "min_height": null,
            "padding": null,
            "grid_auto_rows": null,
            "grid_gap": null,
            "max_width": null,
            "order": null,
            "_view_module_version": "1.2.0",
            "grid_template_areas": null,
            "object_position": null,
            "object_fit": null,
            "grid_auto_columns": null,
            "margin": null,
            "display": null,
            "left": null
          }
        },
        "2e9042e220904380a19e9edf9505d09b": {
          "model_module": "@jupyter-widgets/controls",
          "model_name": "DescriptionStyleModel",
          "model_module_version": "1.5.0",
          "state": {
            "_view_name": "StyleView",
            "_model_name": "DescriptionStyleModel",
            "description_width": "",
            "_view_module": "@jupyter-widgets/base",
            "_model_module_version": "1.5.0",
            "_view_count": null,
            "_view_module_version": "1.2.0",
            "_model_module": "@jupyter-widgets/controls"
          }
        },
        "3a0daf69bf254e6684e7d0799a1d50e2": {
          "model_module": "@jupyter-widgets/base",
          "model_name": "LayoutModel",
          "model_module_version": "1.2.0",
          "state": {
            "_view_name": "LayoutView",
            "grid_template_rows": null,
            "right": null,
            "justify_content": null,
            "_view_module": "@jupyter-widgets/base",
            "overflow": null,
            "_model_module_version": "1.2.0",
            "_view_count": null,
            "flex_flow": null,
            "width": null,
            "min_width": null,
            "border": null,
            "align_items": null,
            "bottom": null,
            "_model_module": "@jupyter-widgets/base",
            "top": null,
            "grid_column": null,
            "overflow_y": null,
            "overflow_x": null,
            "grid_auto_flow": null,
            "grid_area": null,
            "grid_template_columns": null,
            "flex": null,
            "_model_name": "LayoutModel",
            "justify_items": null,
            "grid_row": null,
            "max_height": null,
            "align_content": null,
            "visibility": null,
            "align_self": null,
            "height": null,
            "min_height": null,
            "padding": null,
            "grid_auto_rows": null,
            "grid_gap": null,
            "max_width": null,
            "order": null,
            "_view_module_version": "1.2.0",
            "grid_template_areas": null,
            "object_position": null,
            "object_fit": null,
            "grid_auto_columns": null,
            "margin": null,
            "display": null,
            "left": null
          }
        },
        "fc93976e74294983912816d2f350c2bb": {
          "model_module": "@jupyter-widgets/controls",
          "model_name": "HBoxModel",
          "model_module_version": "1.5.0",
          "state": {
            "_view_name": "HBoxView",
            "_dom_classes": [],
            "_model_name": "HBoxModel",
            "_view_module": "@jupyter-widgets/controls",
            "_model_module_version": "1.5.0",
            "_view_count": null,
            "_view_module_version": "1.5.0",
            "box_style": "",
            "layout": "IPY_MODEL_dbdb5740826c4b3793ba9aab1b289970",
            "_model_module": "@jupyter-widgets/controls",
            "children": [
              "IPY_MODEL_087c00ecc32f40bb9d51e6c0c30d19f0",
              "IPY_MODEL_d8b20ae72a0742e2b7836fe906c268f6",
              "IPY_MODEL_6e4df37e3b9f4921835fa0a51b0d963b"
            ]
          }
        },
        "dbdb5740826c4b3793ba9aab1b289970": {
          "model_module": "@jupyter-widgets/base",
          "model_name": "LayoutModel",
          "model_module_version": "1.2.0",
          "state": {
            "_view_name": "LayoutView",
            "grid_template_rows": null,
            "right": null,
            "justify_content": null,
            "_view_module": "@jupyter-widgets/base",
            "overflow": null,
            "_model_module_version": "1.2.0",
            "_view_count": null,
            "flex_flow": null,
            "width": null,
            "min_width": null,
            "border": null,
            "align_items": null,
            "bottom": null,
            "_model_module": "@jupyter-widgets/base",
            "top": null,
            "grid_column": null,
            "overflow_y": null,
            "overflow_x": null,
            "grid_auto_flow": null,
            "grid_area": null,
            "grid_template_columns": null,
            "flex": null,
            "_model_name": "LayoutModel",
            "justify_items": null,
            "grid_row": null,
            "max_height": null,
            "align_content": null,
            "visibility": null,
            "align_self": null,
            "height": null,
            "min_height": null,
            "padding": null,
            "grid_auto_rows": null,
            "grid_gap": null,
            "max_width": null,
            "order": null,
            "_view_module_version": "1.2.0",
            "grid_template_areas": null,
            "object_position": null,
            "object_fit": null,
            "grid_auto_columns": null,
            "margin": null,
            "display": null,
            "left": null
          }
        },
        "087c00ecc32f40bb9d51e6c0c30d19f0": {
          "model_module": "@jupyter-widgets/controls",
          "model_name": "HTMLModel",
          "model_module_version": "1.5.0",
          "state": {
            "_view_name": "HTMLView",
            "style": "IPY_MODEL_8dcdba551f2146758ef743da2159d61d",
            "_dom_classes": [],
            "description": "",
            "_model_name": "HTMLModel",
            "placeholder": "​",
            "_view_module": "@jupyter-widgets/controls",
            "_model_module_version": "1.5.0",
            "value": "Dl Size...: 100%",
            "_view_count": null,
            "_view_module_version": "1.5.0",
            "description_tooltip": null,
            "_model_module": "@jupyter-widgets/controls",
            "layout": "IPY_MODEL_983981c69cac48a4a30c5dc13a6d71f0"
          }
        },
        "d8b20ae72a0742e2b7836fe906c268f6": {
          "model_module": "@jupyter-widgets/controls",
          "model_name": "FloatProgressModel",
          "model_module_version": "1.5.0",
          "state": {
            "_view_name": "ProgressView",
            "style": "IPY_MODEL_c946a2c5c2464f8ca9728dae6bea0bf0",
            "_dom_classes": [],
            "description": "",
            "_model_name": "FloatProgressModel",
            "bar_style": "success",
            "max": 1,
            "_view_module": "@jupyter-widgets/controls",
            "_model_module_version": "1.5.0",
            "value": 1,
            "_view_count": null,
            "_view_module_version": "1.5.0",
            "orientation": "horizontal",
            "min": 0,
            "description_tooltip": null,
            "_model_module": "@jupyter-widgets/controls",
            "layout": "IPY_MODEL_8a046e5d2c28425bb76169f3b5af969c"
          }
        },
        "6e4df37e3b9f4921835fa0a51b0d963b": {
          "model_module": "@jupyter-widgets/controls",
          "model_name": "HTMLModel",
          "model_module_version": "1.5.0",
          "state": {
            "_view_name": "HTMLView",
            "style": "IPY_MODEL_90ad96fc978145e89688c0002386273d",
            "_dom_classes": [],
            "description": "",
            "_model_name": "HTMLModel",
            "placeholder": "​",
            "_view_module": "@jupyter-widgets/controls",
            "_model_module_version": "1.5.0",
            "value": " 80/80 [00:06&lt;00:00, 18.27 MiB/s]",
            "_view_count": null,
            "_view_module_version": "1.5.0",
            "description_tooltip": null,
            "_model_module": "@jupyter-widgets/controls",
            "layout": "IPY_MODEL_3714b035bc594f57b728938081f04f92"
          }
        },
        "8dcdba551f2146758ef743da2159d61d": {
          "model_module": "@jupyter-widgets/controls",
          "model_name": "DescriptionStyleModel",
          "model_module_version": "1.5.0",
          "state": {
            "_view_name": "StyleView",
            "_model_name": "DescriptionStyleModel",
            "description_width": "",
            "_view_module": "@jupyter-widgets/base",
            "_model_module_version": "1.5.0",
            "_view_count": null,
            "_view_module_version": "1.2.0",
            "_model_module": "@jupyter-widgets/controls"
          }
        },
        "983981c69cac48a4a30c5dc13a6d71f0": {
          "model_module": "@jupyter-widgets/base",
          "model_name": "LayoutModel",
          "model_module_version": "1.2.0",
          "state": {
            "_view_name": "LayoutView",
            "grid_template_rows": null,
            "right": null,
            "justify_content": null,
            "_view_module": "@jupyter-widgets/base",
            "overflow": null,
            "_model_module_version": "1.2.0",
            "_view_count": null,
            "flex_flow": null,
            "width": null,
            "min_width": null,
            "border": null,
            "align_items": null,
            "bottom": null,
            "_model_module": "@jupyter-widgets/base",
            "top": null,
            "grid_column": null,
            "overflow_y": null,
            "overflow_x": null,
            "grid_auto_flow": null,
            "grid_area": null,
            "grid_template_columns": null,
            "flex": null,
            "_model_name": "LayoutModel",
            "justify_items": null,
            "grid_row": null,
            "max_height": null,
            "align_content": null,
            "visibility": null,
            "align_self": null,
            "height": null,
            "min_height": null,
            "padding": null,
            "grid_auto_rows": null,
            "grid_gap": null,
            "max_width": null,
            "order": null,
            "_view_module_version": "1.2.0",
            "grid_template_areas": null,
            "object_position": null,
            "object_fit": null,
            "grid_auto_columns": null,
            "margin": null,
            "display": null,
            "left": null
          }
        },
        "c946a2c5c2464f8ca9728dae6bea0bf0": {
          "model_module": "@jupyter-widgets/controls",
          "model_name": "ProgressStyleModel",
          "model_module_version": "1.5.0",
          "state": {
            "_view_name": "StyleView",
            "_model_name": "ProgressStyleModel",
            "description_width": "",
            "_view_module": "@jupyter-widgets/base",
            "_model_module_version": "1.5.0",
            "_view_count": null,
            "_view_module_version": "1.2.0",
            "bar_color": null,
            "_model_module": "@jupyter-widgets/controls"
          }
        },
        "8a046e5d2c28425bb76169f3b5af969c": {
          "model_module": "@jupyter-widgets/base",
          "model_name": "LayoutModel",
          "model_module_version": "1.2.0",
          "state": {
            "_view_name": "LayoutView",
            "grid_template_rows": null,
            "right": null,
            "justify_content": null,
            "_view_module": "@jupyter-widgets/base",
            "overflow": null,
            "_model_module_version": "1.2.0",
            "_view_count": null,
            "flex_flow": null,
            "width": "20px",
            "min_width": null,
            "border": null,
            "align_items": null,
            "bottom": null,
            "_model_module": "@jupyter-widgets/base",
            "top": null,
            "grid_column": null,
            "overflow_y": null,
            "overflow_x": null,
            "grid_auto_flow": null,
            "grid_area": null,
            "grid_template_columns": null,
            "flex": null,
            "_model_name": "LayoutModel",
            "justify_items": null,
            "grid_row": null,
            "max_height": null,
            "align_content": null,
            "visibility": null,
            "align_self": null,
            "height": null,
            "min_height": null,
            "padding": null,
            "grid_auto_rows": null,
            "grid_gap": null,
            "max_width": null,
            "order": null,
            "_view_module_version": "1.2.0",
            "grid_template_areas": null,
            "object_position": null,
            "object_fit": null,
            "grid_auto_columns": null,
            "margin": null,
            "display": null,
            "left": null
          }
        },
        "90ad96fc978145e89688c0002386273d": {
          "model_module": "@jupyter-widgets/controls",
          "model_name": "DescriptionStyleModel",
          "model_module_version": "1.5.0",
          "state": {
            "_view_name": "StyleView",
            "_model_name": "DescriptionStyleModel",
            "description_width": "",
            "_view_module": "@jupyter-widgets/base",
            "_model_module_version": "1.5.0",
            "_view_count": null,
            "_view_module_version": "1.2.0",
            "_model_module": "@jupyter-widgets/controls"
          }
        },
        "3714b035bc594f57b728938081f04f92": {
          "model_module": "@jupyter-widgets/base",
          "model_name": "LayoutModel",
          "model_module_version": "1.2.0",
          "state": {
            "_view_name": "LayoutView",
            "grid_template_rows": null,
            "right": null,
            "justify_content": null,
            "_view_module": "@jupyter-widgets/base",
            "overflow": null,
            "_model_module_version": "1.2.0",
            "_view_count": null,
            "flex_flow": null,
            "width": null,
            "min_width": null,
            "border": null,
            "align_items": null,
            "bottom": null,
            "_model_module": "@jupyter-widgets/base",
            "top": null,
            "grid_column": null,
            "overflow_y": null,
            "overflow_x": null,
            "grid_auto_flow": null,
            "grid_area": null,
            "grid_template_columns": null,
            "flex": null,
            "_model_name": "LayoutModel",
            "justify_items": null,
            "grid_row": null,
            "max_height": null,
            "align_content": null,
            "visibility": null,
            "align_self": null,
            "height": null,
            "min_height": null,
            "padding": null,
            "grid_auto_rows": null,
            "grid_gap": null,
            "max_width": null,
            "order": null,
            "_view_module_version": "1.2.0",
            "grid_template_areas": null,
            "object_position": null,
            "object_fit": null,
            "grid_auto_columns": null,
            "margin": null,
            "display": null,
            "left": null
          }
        }
      }
    }
  },
  "cells": [
    {
      "cell_type": "markdown",
      "metadata": {
        "id": "9OTfHWbzl8Xn"
      },
      "source": [
        "### IMDB Reviews"
      ]
    },
    {
      "cell_type": "code",
      "metadata": {
        "colab": {
          "base_uri": "https://localhost:8080/"
        },
        "id": "KVV28Xz9L7-V",
        "outputId": "c6218f5f-fb55-498c-d993-2b5cf184ff56"
      },
      "source": [
        "import tensorflow as tf\n",
        "print(tf.__version__)"
      ],
      "execution_count": null,
      "outputs": [
        {
          "output_type": "stream",
          "name": "stdout",
          "text": [
            "2.7.0\n"
          ]
        }
      ]
    },
    {
      "cell_type": "code",
      "metadata": {
        "id": "bjBwBPQp_VcB"
      },
      "source": [
        "from tensorflow.keras.preprocessing.text import Tokenizer\n",
        "from tensorflow.keras.preprocessing.sequence import pad_sequences\n",
        "from tensorflow.keras.models import Sequential\n",
        "from tensorflow.keras import layers\n",
        "from tensorflow.keras.callbacks import EarlyStopping, ReduceLROnPlateau, ModelCheckpoint"
      ],
      "execution_count": null,
      "outputs": []
    },
    {
      "cell_type": "code",
      "metadata": {
        "id": "1q0rf2R-_SmD"
      },
      "source": [
        "import pandas as pd\n",
        "import numpy as np\n",
        "import csv\n",
        "import random\n",
        "import json\n",
        "import matplotlib.pyplot as plt\n",
        "%matplotlib inline"
      ],
      "execution_count": null,
      "outputs": []
    },
    {
      "cell_type": "code",
      "metadata": {
        "colab": {
          "base_uri": "https://localhost:8080/",
          "height": 338,
          "referenced_widgets": [
            "4e00a6e9621a412e84b904a9a4173bb7",
            "a406ee4bde8f45daaa0d1721b8099ba1",
            "c9de5bf4ff904b77961d73984c506d83",
            "66d78e149a2a45f081564218cd67454a",
            "161d9c99b94d4b57b5eaa49634cc9e12",
            "3f0fe42e28af43018dc5fd2a561a5a32",
            "e2c83e1459ab4885a022154d6c5179b8",
            "f904b28474e04d389dc0fde673afa92d",
            "b834dcbe0480407bb6984d06ea3a44fd",
            "820b241da47b4412bc53a7a944951344",
            "b7ff547b4d44421d8a963ec59120120f",
            "49183c0603654c03b159ebacd013547f",
            "fe2ea002ae064588b3086d86bb4ef57e",
            "3d0a5954e02b4582a2fa0ca3fe2a5b62",
            "ba6c3f58fb074d81a60725a3eb60f472",
            "1e0aa90a6ace4d76976d713c8adc30b5",
            "cdce2bc7b427406095c3187e42fe9f49",
            "65652a7a6ea248208b6de3163324079a",
            "6170475a7187433fb2d8ec5b98c88ea7",
            "e2aa1b78a14f4c7eb11b9b138a46129b",
            "c2f87e22e8154e3fb653dfed25254603",
            "aa5974f6157e463d9b5a403a2734b0f0",
            "5cf77806948740adb588a67580b4ce4f",
            "d0345a4815e14ebea70156926ab3a156",
            "a3a1274a6cce4fd7a1a62d676c1e110a",
            "0c1a115363354a64b7289bab63964ad0",
            "29f096218d1f4861bf121ef27f316f59",
            "aab811cfdb774309bdcd1474d438b552",
            "6bc5e132fa6445819c1353c60a395ca0",
            "763f33b8fea44520b17c3409b3136298",
            "9c24ab07240c4390bff8b86282d84a65",
            "d3cf41b019484f77bc78c757f374c260",
            "bb4f6da82e98434988fdc66856172f24",
            "52c17800f88f4e9e9d3cb3aa0cca6af1",
            "64ac0214471b4df5a6fd801c948fb152",
            "fcb1f280471b4bc2b79a2f630c250afb",
            "c7325e47f9ab4d9dbc67e7d639f9210f",
            "2b831a622393491c9ef71e50b4c0e14a",
            "678cc07cd73d49188f67b7b335a41dc2",
            "f6bbf3f48a714617862b6efff661dac3",
            "d7bce40b6d1541ebb20a3a7d14dda73f",
            "3701e226fcb6410db140e15587ed1bce",
            "cfbb5d9ae7744d6a9f7a618aac88675c",
            "1ff1a723e10c447093902082c8b98eb5",
            "7dd58010848141b08e40e34d112c49d5",
            "7dc325f556784af6bca5c0b3883dcba0",
            "c4ec4b3ad9804c18bba5ac8742dba0e6",
            "b780464d8dba43fb8b3587ad8ea685e4",
            "e2ebe7a890124bac926e46f943d2454c",
            "eff0493bdbc146dfba7fe91632f85419",
            "eff5b717fd5d4f3d93c4e9a2f90cd98f",
            "7ac7ea2260944fa8a3d331bf8bd39373",
            "3c7979def0cf45f7b318f0752cc26519",
            "cca4f70c730a4783b198515504ee1c08",
            "ee1f662f93094005bb86160c8c80003f",
            "facc91df330f4920abcd447823f667c5",
            "9b8c0d4682a649e2baf7ed48fbc2f28a",
            "ed92472850904ad0aa9facb835e214d3",
            "3f5c52f2ccd14b7db087b99439d571f1",
            "c9a0ba9215234de8a396f7c6b02c70ef",
            "4c31718f19f9437abd8c704924da96b5",
            "67cd88c888d5485da724a85af5f148a9",
            "fc3ac946ca744716b07a9cb43a3af955",
            "e3bef0771c624567b6f2222958ec0c0b",
            "616e835ea8794fa194285cda447138e2",
            "7f5cc812263441b791a3d97dae4df9e7",
            "eb060883adc548ab82a7176853ca1974",
            "9fc3d9a89188404c985e021651b2f8a2",
            "9f52db8d2ced42cd98e5e28a15fbe8a1",
            "1df89e0427f845698a9af4d580e56d83",
            "fa2b8152ee5540c9b27745a971a07c41",
            "3030886904f14e69b63faddc7c6b1bff",
            "d5bcd31646ae490aa475603ab79c14e7",
            "b53327b453a643b5886ae2fa2bb50308",
            "05ef71e1240646429d8fb4674cc4c39f",
            "f8b88c9e51044086abf90c0834bf2f28",
            "69baf337d4564321a296c049d024aeee",
            "784094a0435d4901bd87c509919e1cb0",
            "7fdead2d72f44b63bdb45902113daac7",
            "441ae2591d784fa8a502eb7f05364ed9",
            "a707b786accf40fbb4803211d91ff1b9",
            "2ef99ba850a847739e04a98785d62983",
            "2392d879ee3b4ad4b7ed2e4d4010f9e8",
            "718079e8e2404a9d88be1bf94c43ad11",
            "500f944b652342bfb98960ade72c07ed",
            "20d31a9d68b14ebe8a2a18c189ec05a8",
            "6c407b409c54402786cba5f8736bc266",
            "922d607f81ea4239895d82494c64eda7"
          ]
        },
        "id": "H3PF_4iLhCVt",
        "outputId": "80ce955c-0968-43da-c977-35d3bd9b36d4"
      },
      "source": [
        "import tensorflow_datasets as tfds      # prebuilt datasets\n",
        "\n",
        "imdb, info = tfds.load(\"imdb_reviews\", with_info=True, as_supervised=True)          # return data and metadata\n",
        "\n",
        "# with_info -> returns (tf.data.Dataset, tfds.core.DatasetInfo), the latter containing the info\n",
        "# as_supervised -> returns tf.data.Dataset that will have (input, label)"
      ],
      "execution_count": null,
      "outputs": [
        {
          "output_type": "stream",
          "name": "stdout",
          "text": [
            "\u001b[1mDownloading and preparing dataset imdb_reviews/plain_text/1.0.0 (download: 80.23 MiB, generated: Unknown size, total: 80.23 MiB) to /root/tensorflow_datasets/imdb_reviews/plain_text/1.0.0...\u001b[0m\n"
          ]
        },
        {
          "output_type": "display_data",
          "data": {
            "application/vnd.jupyter.widget-view+json": {
              "model_id": "4e00a6e9621a412e84b904a9a4173bb7",
              "version_minor": 0,
              "version_major": 2
            },
            "text/plain": [
              "Dl Completed...: 0 url [00:00, ? url/s]"
            ]
          },
          "metadata": {}
        },
        {
          "output_type": "display_data",
          "data": {
            "application/vnd.jupyter.widget-view+json": {
              "model_id": "49183c0603654c03b159ebacd013547f",
              "version_minor": 0,
              "version_major": 2
            },
            "text/plain": [
              "Dl Size...: 0 MiB [00:00, ? MiB/s]"
            ]
          },
          "metadata": {}
        },
        {
          "output_type": "stream",
          "name": "stdout",
          "text": [
            "\n",
            "\n"
          ]
        },
        {
          "output_type": "display_data",
          "data": {
            "application/vnd.jupyter.widget-view+json": {
              "model_id": "5cf77806948740adb588a67580b4ce4f",
              "version_minor": 0,
              "version_major": 2
            },
            "text/plain": [
              "0 examples [00:00, ? examples/s]"
            ]
          },
          "metadata": {}
        },
        {
          "output_type": "stream",
          "name": "stdout",
          "text": [
            "Shuffling and writing examples to /root/tensorflow_datasets/imdb_reviews/plain_text/1.0.0.incompleteJ0BH4V/imdb_reviews-train.tfrecord\n"
          ]
        },
        {
          "output_type": "display_data",
          "data": {
            "application/vnd.jupyter.widget-view+json": {
              "model_id": "52c17800f88f4e9e9d3cb3aa0cca6af1",
              "version_minor": 0,
              "version_major": 2
            },
            "text/plain": [
              "  0%|          | 0/25000 [00:00<?, ? examples/s]"
            ]
          },
          "metadata": {}
        },
        {
          "output_type": "display_data",
          "data": {
            "application/vnd.jupyter.widget-view+json": {
              "model_id": "7dd58010848141b08e40e34d112c49d5",
              "version_minor": 0,
              "version_major": 2
            },
            "text/plain": [
              "0 examples [00:00, ? examples/s]"
            ]
          },
          "metadata": {}
        },
        {
          "output_type": "stream",
          "name": "stdout",
          "text": [
            "Shuffling and writing examples to /root/tensorflow_datasets/imdb_reviews/plain_text/1.0.0.incompleteJ0BH4V/imdb_reviews-test.tfrecord\n"
          ]
        },
        {
          "output_type": "display_data",
          "data": {
            "application/vnd.jupyter.widget-view+json": {
              "model_id": "facc91df330f4920abcd447823f667c5",
              "version_minor": 0,
              "version_major": 2
            },
            "text/plain": [
              "  0%|          | 0/25000 [00:00<?, ? examples/s]"
            ]
          },
          "metadata": {}
        },
        {
          "output_type": "display_data",
          "data": {
            "application/vnd.jupyter.widget-view+json": {
              "model_id": "eb060883adc548ab82a7176853ca1974",
              "version_minor": 0,
              "version_major": 2
            },
            "text/plain": [
              "0 examples [00:00, ? examples/s]"
            ]
          },
          "metadata": {}
        },
        {
          "output_type": "stream",
          "name": "stdout",
          "text": [
            "Shuffling and writing examples to /root/tensorflow_datasets/imdb_reviews/plain_text/1.0.0.incompleteJ0BH4V/imdb_reviews-unsupervised.tfrecord\n"
          ]
        },
        {
          "output_type": "display_data",
          "data": {
            "application/vnd.jupyter.widget-view+json": {
              "model_id": "784094a0435d4901bd87c509919e1cb0",
              "version_minor": 0,
              "version_major": 2
            },
            "text/plain": [
              "  0%|          | 0/50000 [00:00<?, ? examples/s]"
            ]
          },
          "metadata": {}
        },
        {
          "output_type": "stream",
          "name": "stderr",
          "text": [
            "WARNING:absl:Dataset is using deprecated text encoder API which will be removed soon. Please use the plain_text version of the dataset and migrate to `tensorflow_text`.\n"
          ]
        },
        {
          "output_type": "stream",
          "name": "stdout",
          "text": [
            "\u001b[1mDataset imdb_reviews downloaded and prepared to /root/tensorflow_datasets/imdb_reviews/plain_text/1.0.0. Subsequent calls will reuse this data.\u001b[0m\n"
          ]
        }
      ]
    },
    {
      "cell_type": "code",
      "metadata": {
        "colab": {
          "base_uri": "https://localhost:8080/"
        },
        "id": "qaD6ipLqFU0f",
        "outputId": "458f5ef7-799d-43ab-898e-05d699cd8288"
      },
      "source": [
        "imdb"
      ],
      "execution_count": null,
      "outputs": [
        {
          "output_type": "execute_result",
          "data": {
            "text/plain": [
              "{'test': <PrefetchDataset shapes: ((), ()), types: (tf.string, tf.int64)>,\n",
              " 'train': <PrefetchDataset shapes: ((), ()), types: (tf.string, tf.int64)>,\n",
              " 'unsupervised': <PrefetchDataset shapes: ((), ()), types: (tf.string, tf.int64)>}"
            ]
          },
          "metadata": {},
          "execution_count": 5
        }
      ]
    },
    {
      "cell_type": "code",
      "metadata": {
        "colab": {
          "base_uri": "https://localhost:8080/"
        },
        "id": "q2Q9ooKEVS_q",
        "outputId": "bcb557dd-772e-45a5-c92c-61ea730c9984"
      },
      "source": [
        "info"
      ],
      "execution_count": null,
      "outputs": [
        {
          "output_type": "execute_result",
          "data": {
            "text/plain": [
              "tfds.core.DatasetInfo(\n",
              "    name='imdb_reviews',\n",
              "    version=1.0.0,\n",
              "    description='Large Movie Review Dataset.\n",
              "This is a dataset for binary sentiment classification containing substantially more data than previous benchmark datasets. We provide a set of 25,000 highly polar movie reviews for training, and 25,000 for testing. There is additional unlabeled data for use as well.',\n",
              "    homepage='http://ai.stanford.edu/~amaas/data/sentiment/',\n",
              "    features=FeaturesDict({\n",
              "        'label': ClassLabel(shape=(), dtype=tf.int64, num_classes=2),\n",
              "        'text': Text(shape=(), dtype=tf.string),\n",
              "    }),\n",
              "    total_num_examples=100000,\n",
              "    splits={\n",
              "        'test': 25000,\n",
              "        'train': 25000,\n",
              "        'unsupervised': 50000,\n",
              "    },\n",
              "    supervised_keys=('text', 'label'),\n",
              "    citation=\"\"\"@InProceedings{maas-EtAl:2011:ACL-HLT2011,\n",
              "      author    = {Maas, Andrew L.  and  Daly, Raymond E.  and  Pham, Peter T.  and  Huang, Dan  and  Ng, Andrew Y.  and  Potts, Christopher},\n",
              "      title     = {Learning Word Vectors for Sentiment Analysis},\n",
              "      booktitle = {Proceedings of the 49th Annual Meeting of the Association for Computational Linguistics: Human Language Technologies},\n",
              "      month     = {June},\n",
              "      year      = {2011},\n",
              "      address   = {Portland, Oregon, USA},\n",
              "      publisher = {Association for Computational Linguistics},\n",
              "      pages     = {142--150},\n",
              "      url       = {http://www.aclweb.org/anthology/P11-1015}\n",
              "    }\"\"\",\n",
              "    redistribution_info=,\n",
              ")"
            ]
          },
          "metadata": {},
          "execution_count": 6
        }
      ]
    },
    {
      "cell_type": "code",
      "metadata": {
        "colab": {
          "base_uri": "https://localhost:8080/"
        },
        "id": "DKhYQB_wVsqT",
        "outputId": "7799838a-47c0-4024-8b23-c2380586d56e"
      },
      "source": [
        "imdb['train']"
      ],
      "execution_count": null,
      "outputs": [
        {
          "output_type": "execute_result",
          "data": {
            "text/plain": [
              "<PrefetchDataset shapes: ((), ()), types: (tf.string, tf.int64)>"
            ]
          },
          "metadata": {},
          "execution_count": 7
        }
      ]
    },
    {
      "cell_type": "code",
      "metadata": {
        "id": "jVDMtTBe5yDB"
      },
      "source": [
        "train_data, test_data = imdb['train'], imdb['test']         # data split into 25k train, 25k test"
      ],
      "execution_count": null,
      "outputs": []
    },
    {
      "cell_type": "code",
      "metadata": {
        "id": "Frl2-ski98dm"
      },
      "source": [
        "training_sentences = []\n",
        "training_labels = []\n",
        "\n",
        "testing_sentences = []\n",
        "testing_labels = []\n",
        "\n",
        "for s, l in train_data:                                     # s & l are tensors\n",
        "    training_sentences.append(s.numpy().decode('utf8'))     # tensor -> numpy -> extracting sentences \n",
        "    training_labels.append(l.numpy())                       # tensor -> numpy -> extracting labels \n",
        "  \n",
        "for s, l in test_data:\n",
        "    testing_sentences.append(s.numpy().decode('utf8'))\n",
        "    testing_labels.append(l.numpy())"
      ],
      "execution_count": null,
      "outputs": []
    },
    {
      "cell_type": "code",
      "metadata": {
        "colab": {
          "base_uri": "https://localhost:8080/"
        },
        "id": "fSNj8qMS7A7A",
        "outputId": "08759659-050d-4067-8b6d-1e1aa3ef3b0e"
      },
      "source": [
        "training_sentences[:2]"
      ],
      "execution_count": null,
      "outputs": [
        {
          "output_type": "execute_result",
          "data": {
            "text/plain": [
              "[\"This was an absolutely terrible movie. Don't be lured in by Christopher Walken or Michael Ironside. Both are great actors, but this must simply be their worst role in history. Even their great acting could not redeem this movie's ridiculous storyline. This movie is an early nineties US propaganda piece. The most pathetic scenes were those when the Columbian rebels were making their cases for revolutions. Maria Conchita Alonso appeared phony, and her pseudo-love affair with Walken was nothing but a pathetic emotional plug in a movie that was devoid of any real meaning. I am disappointed that there are movies like this, ruining actor's like Christopher Walken's good name. I could barely sit through it.\",\n",
              " 'I have been known to fall asleep during films, but this is usually due to a combination of things including, really tired, being warm and comfortable on the sette and having just eaten a lot. However on this occasion I fell asleep because the film was rubbish. The plot development was constant. Constantly slow and boring. Things seemed to happen, but with no explanation of what was causing them or why. I admit, I may have missed part of the film, but i watched the majority of it and everything just seemed to happen of its own accord without any real concern for anything else. I cant recommend this film at all.']"
            ]
          },
          "metadata": {},
          "execution_count": 7
        }
      ]
    },
    {
      "cell_type": "code",
      "metadata": {
        "colab": {
          "base_uri": "https://localhost:8080/"
        },
        "id": "ecLVzFex7H-B",
        "outputId": "7f2bb059-d90d-4c79-e46e-6b793c29e071"
      },
      "source": [
        "training_labels[:2]"
      ],
      "execution_count": null,
      "outputs": [
        {
          "output_type": "execute_result",
          "data": {
            "text/plain": [
              "[0, 0]"
            ]
          },
          "metadata": {},
          "execution_count": 8
        }
      ]
    },
    {
      "cell_type": "code",
      "metadata": {
        "colab": {
          "base_uri": "https://localhost:8080/"
        },
        "id": "jqzywpPRMQEm",
        "outputId": "0f774766-efe8-4a29-95c5-06c8fc02134a"
      },
      "source": [
        "len(training_sentences), len(training_labels)"
      ],
      "execution_count": null,
      "outputs": [
        {
          "output_type": "execute_result",
          "data": {
            "text/plain": [
              "(25000, 25000)"
            ]
          },
          "metadata": {},
          "execution_count": 9
        }
      ]
    },
    {
      "cell_type": "code",
      "metadata": {
        "colab": {
          "base_uri": "https://localhost:8080/"
        },
        "id": "yQxCb0T8MTne",
        "outputId": "0c2e4b3a-b4a0-4462-f025-c9b4c9decf3c"
      },
      "source": [
        "len(testing_sentences), len(testing_labels)"
      ],
      "execution_count": null,
      "outputs": [
        {
          "output_type": "execute_result",
          "data": {
            "text/plain": [
              "(25000, 25000)"
            ]
          },
          "metadata": {},
          "execution_count": 10
        }
      ]
    },
    {
      "cell_type": "code",
      "metadata": {
        "colab": {
          "base_uri": "https://localhost:8080/"
        },
        "id": "ArEeajtN7LZa",
        "outputId": "b040883b-ecd2-48fe-9125-bfa596724052"
      },
      "source": [
        "type(training_labels)"
      ],
      "execution_count": null,
      "outputs": [
        {
          "output_type": "execute_result",
          "data": {
            "text/plain": [
              "list"
            ]
          },
          "metadata": {},
          "execution_count": 11
        }
      ]
    },
    {
      "cell_type": "code",
      "metadata": {
        "id": "eaONlWk06SRT"
      },
      "source": [
        "# when training, labels should be numpy arrays\n",
        "\n",
        "training_labels = np.array(training_labels)\n",
        "testing_labels = np.array(testing_labels)"
      ],
      "execution_count": null,
      "outputs": []
    },
    {
      "cell_type": "code",
      "metadata": {
        "colab": {
          "base_uri": "https://localhost:8080/"
        },
        "id": "uJJDYc6JJ-UY",
        "outputId": "cda42ac3-cab5-41cd-e939-4b3fa8b92621"
      },
      "source": [
        "training_labels[:2]"
      ],
      "execution_count": null,
      "outputs": [
        {
          "output_type": "execute_result",
          "data": {
            "text/plain": [
              "array([0, 0])"
            ]
          },
          "metadata": {},
          "execution_count": 13
        }
      ]
    },
    {
      "cell_type": "code",
      "metadata": {
        "id": "iH7GgHl6Gf5J"
      },
      "source": [
        "VOCAB_SIZE = 10000                      # number of unique words in the corpus\n",
        "EMBED_DIM = 16                          # number of dimensions we wish to embed each word into\n",
        "MAX_LEN = 120                           # maximum length of document/sentence\n",
        "\n",
        "TRUNC_TYPE = 'post'                     # remove values from sequences larger than maxlen\n",
        "PADDING_TYPE = 'post'                   # pad either after each sequence\n",
        "OOV_TOKEN = '<OOV>'                     # out of vocab words in test set will be marked OOV"
      ],
      "execution_count": null,
      "outputs": []
    },
    {
      "cell_type": "code",
      "metadata": {
        "id": "sBIuAdik7W05"
      },
      "source": [
        "tokenizer = Tokenizer(num_words=VOCAB_SIZE, oov_token=OOV_TOKEN)\n",
        "tokenizer.fit_on_texts(training_sentences)\n",
        "word_index = tokenizer.word_index\n",
        "\n",
        "training_sequences = tokenizer.texts_to_sequences(training_sentences)\n",
        "training_padded = pad_sequences(training_sequences, maxlen=MAX_LEN, truncating=TRUNC_TYPE, padding=PADDING_TYPE)\n",
        "\n",
        "testing_sequences = tokenizer.texts_to_sequences(testing_sentences)\n",
        "testing_padded = pad_sequences(testing_sequences, maxlen=MAX_LEN, padding=PADDING_TYPE)"
      ],
      "execution_count": null,
      "outputs": []
    },
    {
      "cell_type": "code",
      "metadata": {
        "colab": {
          "base_uri": "https://localhost:8080/"
        },
        "id": "i6iScl_bL8l1",
        "outputId": "a6c47a21-9258-4e4f-993c-b7439490a355"
      },
      "source": [
        "len(word_index)"
      ],
      "execution_count": null,
      "outputs": [
        {
          "output_type": "execute_result",
          "data": {
            "text/plain": [
              "88583"
            ]
          },
          "metadata": {},
          "execution_count": 17
        }
      ]
    },
    {
      "cell_type": "code",
      "metadata": {
        "colab": {
          "base_uri": "https://localhost:8080/"
        },
        "id": "DiEatz80RUCj",
        "outputId": "06fe6e6b-1f7f-41ef-af9c-37340eca6679"
      },
      "source": [
        "word_index['human']"
      ],
      "execution_count": null,
      "outputs": [
        {
          "output_type": "execute_result",
          "data": {
            "text/plain": [
              "404"
            ]
          },
          "metadata": {},
          "execution_count": 19
        }
      ]
    },
    {
      "cell_type": "code",
      "metadata": {
        "colab": {
          "base_uri": "https://localhost:8080/"
        },
        "id": "k-DppqsUR6zn",
        "outputId": "62eb753c-fba0-47f0-839c-50b82e4d804f"
      },
      "source": [
        "training_sequences[:2]"
      ],
      "execution_count": null,
      "outputs": [
        {
          "output_type": "execute_result",
          "data": {
            "text/plain": [
              "[[12,\n",
              "  14,\n",
              "  33,\n",
              "  425,\n",
              "  392,\n",
              "  18,\n",
              "  90,\n",
              "  28,\n",
              "  1,\n",
              "  9,\n",
              "  32,\n",
              "  1366,\n",
              "  3585,\n",
              "  40,\n",
              "  486,\n",
              "  1,\n",
              "  197,\n",
              "  24,\n",
              "  85,\n",
              "  154,\n",
              "  19,\n",
              "  12,\n",
              "  213,\n",
              "  329,\n",
              "  28,\n",
              "  66,\n",
              "  247,\n",
              "  215,\n",
              "  9,\n",
              "  477,\n",
              "  58,\n",
              "  66,\n",
              "  85,\n",
              "  114,\n",
              "  98,\n",
              "  22,\n",
              "  5675,\n",
              "  12,\n",
              "  1322,\n",
              "  643,\n",
              "  767,\n",
              "  12,\n",
              "  18,\n",
              "  7,\n",
              "  33,\n",
              "  400,\n",
              "  8170,\n",
              "  176,\n",
              "  2455,\n",
              "  416,\n",
              "  2,\n",
              "  89,\n",
              "  1231,\n",
              "  137,\n",
              "  69,\n",
              "  146,\n",
              "  52,\n",
              "  2,\n",
              "  1,\n",
              "  7577,\n",
              "  69,\n",
              "  229,\n",
              "  66,\n",
              "  2933,\n",
              "  16,\n",
              "  1,\n",
              "  2904,\n",
              "  1,\n",
              "  1,\n",
              "  1479,\n",
              "  4940,\n",
              "  3,\n",
              "  39,\n",
              "  3900,\n",
              "  117,\n",
              "  1584,\n",
              "  17,\n",
              "  3585,\n",
              "  14,\n",
              "  162,\n",
              "  19,\n",
              "  4,\n",
              "  1231,\n",
              "  917,\n",
              "  7917,\n",
              "  9,\n",
              "  4,\n",
              "  18,\n",
              "  13,\n",
              "  14,\n",
              "  4139,\n",
              "  5,\n",
              "  99,\n",
              "  145,\n",
              "  1214,\n",
              "  11,\n",
              "  242,\n",
              "  683,\n",
              "  13,\n",
              "  48,\n",
              "  24,\n",
              "  100,\n",
              "  38,\n",
              "  12,\n",
              "  7181,\n",
              "  5515,\n",
              "  38,\n",
              "  1366,\n",
              "  1,\n",
              "  50,\n",
              "  401,\n",
              "  11,\n",
              "  98,\n",
              "  1197,\n",
              "  867,\n",
              "  141,\n",
              "  10],\n",
              " [11,\n",
              "  26,\n",
              "  75,\n",
              "  571,\n",
              "  6,\n",
              "  805,\n",
              "  2354,\n",
              "  313,\n",
              "  106,\n",
              "  19,\n",
              "  12,\n",
              "  7,\n",
              "  629,\n",
              "  686,\n",
              "  6,\n",
              "  4,\n",
              "  2219,\n",
              "  5,\n",
              "  181,\n",
              "  584,\n",
              "  64,\n",
              "  1454,\n",
              "  110,\n",
              "  2263,\n",
              "  3,\n",
              "  3951,\n",
              "  21,\n",
              "  2,\n",
              "  1,\n",
              "  3,\n",
              "  258,\n",
              "  41,\n",
              "  4677,\n",
              "  4,\n",
              "  174,\n",
              "  188,\n",
              "  21,\n",
              "  12,\n",
              "  4078,\n",
              "  11,\n",
              "  1578,\n",
              "  2354,\n",
              "  86,\n",
              "  2,\n",
              "  20,\n",
              "  14,\n",
              "  1907,\n",
              "  2,\n",
              "  112,\n",
              "  940,\n",
              "  14,\n",
              "  1811,\n",
              "  1340,\n",
              "  548,\n",
              "  3,\n",
              "  355,\n",
              "  181,\n",
              "  466,\n",
              "  6,\n",
              "  591,\n",
              "  19,\n",
              "  17,\n",
              "  55,\n",
              "  1817,\n",
              "  5,\n",
              "  49,\n",
              "  14,\n",
              "  4044,\n",
              "  96,\n",
              "  40,\n",
              "  136,\n",
              "  11,\n",
              "  972,\n",
              "  11,\n",
              "  201,\n",
              "  26,\n",
              "  1046,\n",
              "  171,\n",
              "  5,\n",
              "  2,\n",
              "  20,\n",
              "  19,\n",
              "  11,\n",
              "  294,\n",
              "  2,\n",
              "  2155,\n",
              "  5,\n",
              "  10,\n",
              "  3,\n",
              "  283,\n",
              "  41,\n",
              "  466,\n",
              "  6,\n",
              "  591,\n",
              "  5,\n",
              "  92,\n",
              "  203,\n",
              "  1,\n",
              "  207,\n",
              "  99,\n",
              "  145,\n",
              "  4382,\n",
              "  16,\n",
              "  230,\n",
              "  332,\n",
              "  11,\n",
              "  2486,\n",
              "  384,\n",
              "  12,\n",
              "  20,\n",
              "  31,\n",
              "  30]]"
            ]
          },
          "metadata": {},
          "execution_count": 20
        }
      ]
    },
    {
      "cell_type": "code",
      "metadata": {
        "colab": {
          "base_uri": "https://localhost:8080/"
        },
        "id": "JIvhdTAYSMQ-",
        "outputId": "be5f1c94-9d51-4b38-8e35-5ca4b4847b1e"
      },
      "source": [
        "training_padded[:2]"
      ],
      "execution_count": null,
      "outputs": [
        {
          "output_type": "execute_result",
          "data": {
            "text/plain": [
              "array([[  12,   14,   33,  425,  392,   18,   90,   28,    1,    9,   32,\n",
              "        1366, 3585,   40,  486,    1,  197,   24,   85,  154,   19,   12,\n",
              "         213,  329,   28,   66,  247,  215,    9,  477,   58,   66,   85,\n",
              "         114,   98,   22, 5675,   12, 1322,  643,  767,   12,   18,    7,\n",
              "          33,  400, 8170,  176, 2455,  416,    2,   89, 1231,  137,   69,\n",
              "         146,   52,    2,    1, 7577,   69,  229,   66, 2933,   16,    1,\n",
              "        2904,    1,    1, 1479, 4940,    3,   39, 3900,  117, 1584,   17,\n",
              "        3585,   14,  162,   19,    4, 1231,  917, 7917,    9,    4,   18,\n",
              "          13,   14, 4139,    5,   99,  145, 1214,   11,  242,  683,   13,\n",
              "          48,   24,  100,   38,   12, 7181, 5515,   38, 1366,    1,   50,\n",
              "         401,   11,   98, 1197,  867,  141,   10,    0,    0,    0],\n",
              "       [  11,   26,   75,  571,    6,  805, 2354,  313,  106,   19,   12,\n",
              "           7,  629,  686,    6,    4, 2219,    5,  181,  584,   64, 1454,\n",
              "         110, 2263,    3, 3951,   21,    2,    1,    3,  258,   41, 4677,\n",
              "           4,  174,  188,   21,   12, 4078,   11, 1578, 2354,   86,    2,\n",
              "          20,   14, 1907,    2,  112,  940,   14, 1811, 1340,  548,    3,\n",
              "         355,  181,  466,    6,  591,   19,   17,   55, 1817,    5,   49,\n",
              "          14, 4044,   96,   40,  136,   11,  972,   11,  201,   26, 1046,\n",
              "         171,    5,    2,   20,   19,   11,  294,    2, 2155,    5,   10,\n",
              "           3,  283,   41,  466,    6,  591,    5,   92,  203,    1,  207,\n",
              "          99,  145, 4382,   16,  230,  332,   11, 2486,  384,   12,   20,\n",
              "          31,   30,    0,    0,    0,    0,    0,    0,    0,    0]],\n",
              "      dtype=int32)"
            ]
          },
          "metadata": {},
          "execution_count": 21
        }
      ]
    },
    {
      "cell_type": "code",
      "metadata": {
        "id": "vLDUksxdKR1F"
      },
      "source": [
        "NUM_CLASSES = 1"
      ],
      "execution_count": null,
      "outputs": []
    },
    {
      "cell_type": "code",
      "metadata": {
        "id": "bVHSeZJI7xJ2"
      },
      "source": [
        "model = Sequential([\n",
        "    layers.Embedding(input_dim=VOCAB_SIZE, output_dim=EMBED_DIM, input_length=MAX_LEN),\n",
        "    layers.Flatten(),                              # or use GlobalAveragePooling1D\n",
        "    layers.Dropout(0.3),\n",
        "    layers.Dense(16, activation='relu'),\n",
        "    layers.Dropout(0.3),\n",
        "    layers.Dense(NUM_CLASSES, activation='sigmoid')\n",
        "])"
      ],
      "execution_count": null,
      "outputs": []
    },
    {
      "cell_type": "code",
      "metadata": {
        "colab": {
          "base_uri": "https://localhost:8080/"
        },
        "id": "R32LrGGRKjWP",
        "outputId": "ce93cb05-9b0a-46ff-99fb-81a1ec9f3a3c"
      },
      "source": [
        "model.summary()"
      ],
      "execution_count": null,
      "outputs": [
        {
          "output_type": "stream",
          "name": "stdout",
          "text": [
            "Model: \"sequential_2\"\n",
            "_________________________________________________________________\n",
            " Layer (type)                Output Shape              Param #   \n",
            "=================================================================\n",
            " embedding_2 (Embedding)     (None, 120, 16)           160000    \n",
            "                                                                 \n",
            " flatten_2 (Flatten)         (None, 1920)              0         \n",
            "                                                                 \n",
            " dropout_1 (Dropout)         (None, 1920)              0         \n",
            "                                                                 \n",
            " dense_4 (Dense)             (None, 16)                30736     \n",
            "                                                                 \n",
            " dropout_2 (Dropout)         (None, 16)                0         \n",
            "                                                                 \n",
            " dense_5 (Dense)             (None, 1)                 17        \n",
            "                                                                 \n",
            "=================================================================\n",
            "Total params: 190,753\n",
            "Trainable params: 190,753\n",
            "Non-trainable params: 0\n",
            "_________________________________________________________________\n"
          ]
        }
      ]
    },
    {
      "cell_type": "code",
      "metadata": {
        "id": "OiwJ2F4JKpM1"
      },
      "source": [
        "optimizer   = tf.keras.optimizers.Adam(learning_rate=0.01)\n",
        "loss        = tf.keras.losses.BinaryCrossentropy()\n",
        "metrics     = ['accuracy']"
      ],
      "execution_count": null,
      "outputs": []
    },
    {
      "cell_type": "code",
      "metadata": {
        "id": "NflNmsuAKlvU"
      },
      "source": [
        "model.compile(optimizer=optimizer,\n",
        "              loss=loss,\n",
        "              metrics=metrics)"
      ],
      "execution_count": null,
      "outputs": []
    },
    {
      "cell_type": "code",
      "metadata": {
        "id": "cucgbAz7K4r8"
      },
      "source": [
        "early_stopping    = EarlyStopping(monitor='val_loss', patience=7)\n",
        "reduce_lr         = ReduceLROnPlateau(monitor='val_loss', patience=5, min_lr=0.001, mode='min', verbose=1)\n",
        "model_checkpoint  = ModelCheckpoint(monitor='val_loss', filepath='./best_model.h5', save_best_only=True)"
      ],
      "execution_count": null,
      "outputs": []
    },
    {
      "cell_type": "code",
      "metadata": {
        "id": "qNdJKRv0K5H5"
      },
      "source": [
        "EPOCHS = 20\n",
        "CALLBACKS = [early_stopping, reduce_lr, model_checkpoint]"
      ],
      "execution_count": null,
      "outputs": []
    },
    {
      "cell_type": "code",
      "metadata": {
        "colab": {
          "base_uri": "https://localhost:8080/"
        },
        "id": "eGViP_LtLEVl",
        "outputId": "dff06eeb-40e5-4235-e99b-cad89bd9c512"
      },
      "source": [
        "history = model.fit(training_padded,\n",
        "                    training_labels,\n",
        "                    validation_data=(testing_padded, testing_labels),\n",
        "                    verbose = 1,\n",
        "                    epochs = EPOCHS,\n",
        "                    callbacks = CALLBACKS)"
      ],
      "execution_count": null,
      "outputs": [
        {
          "output_type": "stream",
          "name": "stdout",
          "text": [
            "Epoch 1/20\n",
            "782/782 [==============================] - 8s 9ms/step - loss: 0.4910 - accuracy: 0.7600 - val_loss: 0.3959 - val_accuracy: 0.8310 - lr: 0.0100\n",
            "Epoch 2/20\n",
            "782/782 [==============================] - 8s 10ms/step - loss: 0.3016 - accuracy: 0.8748 - val_loss: 0.3951 - val_accuracy: 0.8260 - lr: 0.0100\n",
            "Epoch 3/20\n",
            "782/782 [==============================] - 7s 9ms/step - loss: 0.2010 - accuracy: 0.9218 - val_loss: 0.4884 - val_accuracy: 0.8178 - lr: 0.0100\n",
            "Epoch 4/20\n",
            "782/782 [==============================] - 7s 9ms/step - loss: 0.1464 - accuracy: 0.9450 - val_loss: 0.5640 - val_accuracy: 0.8127 - lr: 0.0100\n",
            "Epoch 5/20\n",
            "782/782 [==============================] - 7s 8ms/step - loss: 0.1144 - accuracy: 0.9599 - val_loss: 0.6657 - val_accuracy: 0.8155 - lr: 0.0100\n",
            "Epoch 6/20\n",
            "782/782 [==============================] - 7s 9ms/step - loss: 0.0927 - accuracy: 0.9674 - val_loss: 0.8013 - val_accuracy: 0.8048 - lr: 0.0100\n",
            "Epoch 7/20\n",
            "778/782 [============================>.] - ETA: 0s - loss: 0.0858 - accuracy: 0.9704\n",
            "Epoch 00007: ReduceLROnPlateau reducing learning rate to 0.001.\n",
            "782/782 [==============================] - 7s 9ms/step - loss: 0.0866 - accuracy: 0.9702 - val_loss: 0.8535 - val_accuracy: 0.8131 - lr: 0.0100\n",
            "Epoch 8/20\n",
            "782/782 [==============================] - 7s 9ms/step - loss: 0.0549 - accuracy: 0.9824 - val_loss: 0.7942 - val_accuracy: 0.8150 - lr: 0.0010\n",
            "Epoch 9/20\n",
            "782/782 [==============================] - 7s 9ms/step - loss: 0.0458 - accuracy: 0.9847 - val_loss: 0.8605 - val_accuracy: 0.8151 - lr: 0.0010\n"
          ]
        }
      ]
    },
    {
      "cell_type": "code",
      "metadata": {
        "colab": {
          "base_uri": "https://localhost:8080/",
          "height": 580
        },
        "id": "mNbgmZdfNM4Q",
        "outputId": "974a6851-3473-4f0d-c4dc-8d89f308eaa2"
      },
      "source": [
        "acc      = history.history['accuracy']\n",
        "val_acc  = history.history['val_accuracy']\n",
        "\n",
        "epochs   = range(len(acc))\n",
        "\n",
        "plt.plot(epochs, acc, 'r', label = 'Training')\n",
        "plt.plot(epochs, val_acc, 'b', label = 'Validation')\n",
        "plt.title('Training and Validation Accuracy')\n",
        "plt.legend()\n",
        "plt.figure()\n",
        "\n",
        "loss     = history.history['loss']\n",
        "val_loss = history.history['val_loss']\n",
        "\n",
        "epochs   = range(len(loss))\n",
        "\n",
        "plt.plot(epochs, loss, 'r', label = 'Training')\n",
        "plt.plot(epochs, val_loss, 'b', label = 'Validation')\n",
        "plt.title('Training and Validation Loss')\n",
        "plt.legend()\n",
        "plt.figure()"
      ],
      "execution_count": null,
      "outputs": [
        {
          "output_type": "execute_result",
          "data": {
            "text/plain": [
              "<Figure size 432x288 with 0 Axes>"
            ]
          },
          "metadata": {},
          "execution_count": 45
        },
        {
          "output_type": "display_data",
          "data": {
            "image/png": "[encoded data removed]",
            "text/plain": [
              "<Figure size 432x288 with 1 Axes>"
            ]
          },
          "metadata": {
            "needs_background": "light"
          }
        },
        {
          "output_type": "display_data",
          "data": {
            "image/png": "[encoded data removed]",
            "text/plain": [
              "<Figure size 432x288 with 1 Axes>"
            ]
          },
          "metadata": {
            "needs_background": "light"
          }
        },
        {
          "output_type": "display_data",
          "data": {
            "text/plain": [
              "<Figure size 432x288 with 0 Axes>"
            ]
          },
          "metadata": {}
        }
      ]
    },
    {
      "cell_type": "code",
      "metadata": {
        "colab": {
          "base_uri": "https://localhost:8080/"
        },
        "id": "DhzMfed5lRta",
        "outputId": "87eda528-f984-444d-dacd-333f05e8a509"
      },
      "source": [
        "# getting results of embedding layer\n",
        "\n",
        "e = model.layers[0]             \n",
        "weights = e.get_weights()[0]          # getting weights of that layer\n",
        "print(weights.shape) # shape: (VOCAB_SIZE (10k words in corpus), EMBED_DIM (16 dimensions))"
      ],
      "execution_count": null,
      "outputs": [
        {
          "output_type": "stream",
          "name": "stdout",
          "text": [
            "(10000, 16)\n"
          ]
        }
      ]
    },
    {
      "cell_type": "code",
      "metadata": {
        "id": "Bbgy1-DslAwZ"
      },
      "source": [
        "reverse_word_index = dict([(value, key) for (key, value) in word_index.items()])      # just reversing {Hello : 1} to {1 : Hello}"
      ],
      "execution_count": null,
      "outputs": []
    },
    {
      "cell_type": "code",
      "metadata": {
        "colab": {
          "base_uri": "https://localhost:8080/"
        },
        "id": "ScjqCqcNnLhZ",
        "outputId": "9b1b2a6b-a396-41cf-a87e-9bbb8c56823f"
      },
      "source": [
        "# just checking out how it does decoding\n",
        "\n",
        "print(training_sentences[0])                    # sample original sentence\n",
        "\n",
        "def decode_review(text):                        # decoding the review\n",
        "    return ' '.join([reverse_word_index.get(i, '?') for i in text])\n",
        "\n",
        "print(decode_review(training_padded[0]))        # sample decoded sentence"
      ],
      "execution_count": null,
      "outputs": [
        {
          "output_type": "stream",
          "name": "stdout",
          "text": [
            "This was an absolutely terrible movie. Don't be lured in by Christopher Walken or Michael Ironside. Both are great actors, but this must simply be their worst role in history. Even their great acting could not redeem this movie's ridiculous storyline. This movie is an early nineties US propaganda piece. The most pathetic scenes were those when the Columbian rebels were making their cases for revolutions. Maria Conchita Alonso appeared phony, and her pseudo-love affair with Walken was nothing but a pathetic emotional plug in a movie that was devoid of any real meaning. I am disappointed that there are movies like this, ruining actor's like Christopher Walken's good name. I could barely sit through it.\n",
            "? ? ? this was an absolutely terrible movie don't be <OOV> in by christopher walken or michael <OOV> both are great actors but this must simply be their worst role in history even their great acting could not redeem this movie's ridiculous storyline this movie is an early nineties us propaganda piece the most pathetic scenes were those when the <OOV> rebels were making their cases for <OOV> maria <OOV> <OOV> appeared phony and her pseudo love affair with walken was nothing but a pathetic emotional plug in a movie that was devoid of any real meaning i am disappointed that there are movies like this ruining actor's like christopher <OOV> good name i could barely sit through it\n"
          ]
        }
      ]
    },
    {
      "cell_type": "code",
      "metadata": {
        "id": "DqPSmTG3l_GY"
      },
      "source": [
        "# code for getting vectors and metadata for tensorflow projector\n",
        "\n",
        "import io\n",
        "\n",
        "out_v = io.open('vecs.tsv', 'w', encoding='utf-8')\n",
        "out_m = io.open('meta.tsv', 'w', encoding='utf-8')\n",
        "for word_num in range(1, VOCAB_SIZE):\n",
        "    word = reverse_word_index[word_num]\n",
        "    embeddings = weights[word_num]\n",
        "    out_m.write(word + \"\\n\")                                      # actual word associated with dimensions\n",
        "    out_v.write('\\t'.join([str(x) for x in embeddings]) + \"\\n\")   # write value of 16 dimensions per word\n",
        "out_v.close()\n",
        "out_m.close()"
      ],
      "execution_count": null,
      "outputs": []
    },
    {
      "cell_type": "code",
      "metadata": {
        "colab": {
          "base_uri": "https://localhost:8080/",
          "height": 17
        },
        "id": "UHgKhhQ9l_fr",
        "outputId": "f3f8e9ff-8f99-412a-8ae6-948869fbc47f"
      },
      "source": [
        "try:\n",
        "  from google.colab import files\n",
        "except ImportError:\n",
        "  pass\n",
        "else:\n",
        "  files.download('vecs.tsv')\n",
        "  files.download('meta.tsv')"
      ],
      "execution_count": null,
      "outputs": [
        {
          "output_type": "display_data",
          "data": {
            "application/javascript": [
              "\n",
              "    async function download(id, filename, size) {\n",
              "      if (!google.colab.kernel.accessAllowed) {\n",
              "        return;\n",
              "      }\n",
              "      const div = document.createElement('div');\n",
              "      const label = document.createElement('label');\n",
              "      label.textContent = `Downloading \"${filename}\": `;\n",
              "      div.appendChild(label);\n",
              "      const progress = document.createElement('progress');\n",
              "      progress.max = size;\n",
              "      div.appendChild(progress);\n",
              "      document.body.appendChild(div);\n",
              "\n",
              "      const buffers = [];\n",
              "      let downloaded = 0;\n",
              "\n",
              "      const channel = await google.colab.kernel.comms.open(id);\n",
              "      // Send a message to notify the kernel that we're ready.\n",
              "      channel.send({})\n",
              "\n",
              "      for await (const message of channel.messages) {\n",
              "        // Send a message to notify the kernel that we're ready.\n",
              "        channel.send({})\n",
              "        if (message.buffers) {\n",
              "          for (const buffer of message.buffers) {\n",
              "            buffers.push(buffer);\n",
              "            downloaded += buffer.byteLength;\n",
              "            progress.value = downloaded;\n",
              "          }\n",
              "        }\n",
              "      }\n",
              "      const blob = new Blob(buffers, {type: 'application/binary'});\n",
              "      const a = document.createElement('a');\n",
              "      a.href = window.URL.createObjectURL(blob);\n",
              "      a.download = filename;\n",
              "      div.appendChild(a);\n",
              "      a.click();\n",
              "      div.remove();\n",
              "    }\n",
              "  "
            ],
            "text/plain": [
              "<IPython.core.display.Javascript object>"
            ]
          },
          "metadata": {
            "tags": []
          }
        },
        {
          "output_type": "display_data",
          "data": {
            "application/javascript": [
              "download(\"download_af36f658-00f2-40d2-ad0e-a37638ef4616\", \"vecs.tsv\", 1910487)"
            ],
            "text/plain": [
              "<IPython.core.display.Javascript object>"
            ]
          },
          "metadata": {
            "tags": []
          }
        },
        {
          "output_type": "display_data",
          "data": {
            "application/javascript": [
              "\n",
              "    async function download(id, filename, size) {\n",
              "      if (!google.colab.kernel.accessAllowed) {\n",
              "        return;\n",
              "      }\n",
              "      const div = document.createElement('div');\n",
              "      const label = document.createElement('label');\n",
              "      label.textContent = `Downloading \"${filename}\": `;\n",
              "      div.appendChild(label);\n",
              "      const progress = document.createElement('progress');\n",
              "      progress.max = size;\n",
              "      div.appendChild(progress);\n",
              "      document.body.appendChild(div);\n",
              "\n",
              "      const buffers = [];\n",
              "      let downloaded = 0;\n",
              "\n",
              "      const channel = await google.colab.kernel.comms.open(id);\n",
              "      // Send a message to notify the kernel that we're ready.\n",
              "      channel.send({})\n",
              "\n",
              "      for await (const message of channel.messages) {\n",
              "        // Send a message to notify the kernel that we're ready.\n",
              "        channel.send({})\n",
              "        if (message.buffers) {\n",
              "          for (const buffer of message.buffers) {\n",
              "            buffers.push(buffer);\n",
              "            downloaded += buffer.byteLength;\n",
              "            progress.value = downloaded;\n",
              "          }\n",
              "        }\n",
              "      }\n",
              "      const blob = new Blob(buffers, {type: 'application/binary'});\n",
              "      const a = document.createElement('a');\n",
              "      a.href = window.URL.createObjectURL(blob);\n",
              "      a.download = filename;\n",
              "      div.appendChild(a);\n",
              "      a.click();\n",
              "      div.remove();\n",
              "    }\n",
              "  "
            ],
            "text/plain": [
              "<IPython.core.display.Javascript object>"
            ]
          },
          "metadata": {
            "tags": []
          }
        },
        {
          "output_type": "display_data",
          "data": {
            "application/javascript": [
              "download(\"download_87053082-58af-42b2-bc41-a851b031c851\", \"meta.tsv\", 76186)"
            ],
            "text/plain": [
              "<IPython.core.display.Javascript object>"
            ]
          },
          "metadata": {
            "tags": []
          }
        }
      ]
    },
    {
      "cell_type": "markdown",
      "metadata": {
        "id": "YUZjSXhTEyWM"
      },
      "source": [
        "## Sarcasm Dataset"
      ]
    },
    {
      "cell_type": "code",
      "metadata": {
        "colab": {
          "base_uri": "https://localhost:8080/"
        },
        "id": "KEYOtRKAMFpj",
        "outputId": "3f296332-4a4d-4d43-bbee-046c3a767e84"
      },
      "source": [
        "!wget --no-check-certificate \\\n",
        "    https://storage.googleapis.com/laurencemoroney-blog.appspot.com/sarcasm.json \\\n",
        "    -O /content/sarcasm.json"
      ],
      "execution_count": null,
      "outputs": [
        {
          "output_type": "stream",
          "name": "stdout",
          "text": [
            "--2021-10-11 18:14:39--  https://storage.googleapis.com/laurencemoroney-blog.appspot.com/sarcasm.json\n",
            "Resolving storage.googleapis.com (storage.googleapis.com)... 74.125.133.128, 74.125.140.128, 173.194.76.128, ...\n",
            "Connecting to storage.googleapis.com (storage.googleapis.com)|74.125.133.128|:443... connected.\n",
            "HTTP request sent, awaiting response... 200 OK\n",
            "Length: 5643545 (5.4M) [application/json]\n",
            "Saving to: ‘/content/sarcasm.json’\n",
            "\n",
            "\r/content/sarcasm.js   0%[                    ]       0  --.-KB/s               \r/content/sarcasm.js 100%[===================>]   5.38M  --.-KB/s    in 0.04s   \n",
            "\n",
            "2021-10-11 18:14:39 (146 MB/s) - ‘/content/sarcasm.json’ saved [5643545/5643545]\n",
            "\n"
          ]
        }
      ]
    },
    {
      "cell_type": "code",
      "metadata": {
        "id": "54AfvFd7MIsk"
      },
      "source": [
        "with open(\"/content/sarcasm.json\", 'r') as f:\n",
        "    datastore = json.load(f)\n",
        "\n",
        "sentences = []\n",
        "labels = []\n",
        "\n",
        "for item in datastore:                          # separating labels and sentences\n",
        "    sentences.append(item['headline'])\n",
        "    labels.append(item['is_sarcastic'])"
      ],
      "execution_count": null,
      "outputs": []
    },
    {
      "cell_type": "code",
      "metadata": {
        "colab": {
          "base_uri": "https://localhost:8080/"
        },
        "id": "7eZKKMh2MSH2",
        "outputId": "20f4d54f-07ce-4b0f-b2ab-890066627d8d"
      },
      "source": [
        "sentences[:3]"
      ],
      "execution_count": null,
      "outputs": [
        {
          "output_type": "execute_result",
          "data": {
            "text/plain": [
              "[\"former versace store clerk sues over secret 'black code' for minority shoppers\",\n",
              " \"the 'roseanne' revival catches up to our thorny political mood, for better and worse\",\n",
              " \"mom starting to fear son's web series closest thing she will have to grandchild\"]"
            ]
          },
          "metadata": {},
          "execution_count": 61
        }
      ]
    },
    {
      "cell_type": "code",
      "metadata": {
        "colab": {
          "base_uri": "https://localhost:8080/"
        },
        "id": "l8CfVU7iMUV-",
        "outputId": "2c805ba2-7680-456a-eee1-25e60c60b4dc"
      },
      "source": [
        "labels[:3]"
      ],
      "execution_count": null,
      "outputs": [
        {
          "output_type": "execute_result",
          "data": {
            "text/plain": [
              "[0, 0, 1]"
            ]
          },
          "metadata": {},
          "execution_count": 62
        }
      ]
    },
    {
      "cell_type": "code",
      "metadata": {
        "colab": {
          "base_uri": "https://localhost:8080/"
        },
        "id": "8rsUWOXwQNWS",
        "outputId": "91514d7f-cf98-4732-d00f-0dd8deb98455"
      },
      "source": [
        "len(sentences), len(labels)"
      ],
      "execution_count": null,
      "outputs": [
        {
          "output_type": "execute_result",
          "data": {
            "text/plain": [
              "(26709, 26709)"
            ]
          },
          "metadata": {},
          "execution_count": 5
        }
      ]
    },
    {
      "cell_type": "code",
      "metadata": {
        "id": "mRquJX7iSiN_"
      },
      "source": [
        "VOCAB_SIZE = 10000\n",
        "EMBED_DIM = 16\n",
        "MAX_LEN = 100\n",
        "\n",
        "TRUNC_TYPE = 'post'\n",
        "PADDING_TYPE = 'post'\n",
        "OOV_TOKEN = '<OOV>'"
      ],
      "execution_count": null,
      "outputs": []
    },
    {
      "cell_type": "code",
      "metadata": {
        "id": "Ui7h9I_kkX-K"
      },
      "source": [
        "TRAIN_SIZE = 20000         # 20000 for train, 6709 for test\n",
        "\n",
        "training_sentences = sentences[:TRAIN_SIZE]\n",
        "testing_sentences = sentences[TRAIN_SIZE:]\n",
        "training_labels = labels[:TRAIN_SIZE]\n",
        "testing_labels = labels[TRAIN_SIZE:]"
      ],
      "execution_count": null,
      "outputs": []
    },
    {
      "cell_type": "code",
      "metadata": {
        "id": "1NdYQaazkd7x"
      },
      "source": [
        "# tokenize, sequencing, padding\n",
        "\n",
        "tokenizer = Tokenizer(num_words=VOCAB_SIZE, oov_token=OOV_TOKEN)\n",
        "tokenizer.fit_on_texts(training_sentences)\n",
        "word_index = tokenizer.word_index\n",
        "\n",
        "training_sequences = tokenizer.texts_to_sequences(training_sentences)\n",
        "training_padded = pad_sequences(training_sequences, maxlen=MAX_LEN, padding=PADDING_TYPE, truncating=TRUNC_TYPE)\n",
        "\n",
        "testing_sequences = tokenizer.texts_to_sequences(testing_sentences)\n",
        "testing_padded = pad_sequences(testing_sequences, maxlen=MAX_LEN, padding=PADDING_TYPE)"
      ],
      "execution_count": null,
      "outputs": []
    },
    {
      "cell_type": "code",
      "metadata": {
        "id": "5b-z54itlC0A"
      },
      "source": [
        "training_padded = np.array(training_padded)\n",
        "training_labels = np.array(training_labels)\n",
        "\n",
        "testing_padded = np.array(testing_padded)\n",
        "testing_labels = np.array(testing_labels)"
      ],
      "execution_count": null,
      "outputs": []
    },
    {
      "cell_type": "code",
      "metadata": {
        "colab": {
          "base_uri": "https://localhost:8080/"
        },
        "id": "UMOJD_igQbwq",
        "outputId": "5fed7da8-5f55-4e76-ddce-2ddfb3dcf23b"
      },
      "source": [
        "len(word_index)"
      ],
      "execution_count": null,
      "outputs": [
        {
          "output_type": "execute_result",
          "data": {
            "text/plain": [
              "25637"
            ]
          },
          "metadata": {},
          "execution_count": 10
        }
      ]
    },
    {
      "cell_type": "code",
      "metadata": {
        "id": "YUHHFMtyQbwq"
      },
      "source": [
        "NUM_CLASSES = 1"
      ],
      "execution_count": null,
      "outputs": []
    },
    {
      "cell_type": "code",
      "metadata": {
        "id": "PzVYiYJHQbwq"
      },
      "source": [
        "model = Sequential([\n",
        "    layers.Embedding(input_dim=VOCAB_SIZE, output_dim=EMBED_DIM, input_length=MAX_LEN),\n",
        "    layers.GlobalAveragePooling1D(),                              # or use Flatten\n",
        "    layers.Dense(24, activation='relu'),\n",
        "    layers.Dense(NUM_CLASSES, activation='sigmoid')\n",
        "])"
      ],
      "execution_count": null,
      "outputs": []
    },
    {
      "cell_type": "code",
      "metadata": {
        "colab": {
          "base_uri": "https://localhost:8080/"
        },
        "id": "Th0YiRjrl6a5",
        "outputId": "559832b7-534e-4f5f-8991-ceda18ab00ec"
      },
      "source": [
        "model.summary()"
      ],
      "execution_count": null,
      "outputs": [
        {
          "output_type": "stream",
          "name": "stdout",
          "text": [
            "Model: \"sequential\"\n",
            "_________________________________________________________________\n",
            "Layer (type)                 Output Shape              Param #   \n",
            "=================================================================\n",
            "embedding (Embedding)        (None, 100, 16)           160000    \n",
            "_________________________________________________________________\n",
            "global_average_pooling1d (Gl (None, 16)                0         \n",
            "_________________________________________________________________\n",
            "dense (Dense)                (None, 24)                408       \n",
            "_________________________________________________________________\n",
            "dense_1 (Dense)              (None, 1)                 25        \n",
            "=================================================================\n",
            "Total params: 160,433\n",
            "Trainable params: 160,433\n",
            "Non-trainable params: 0\n",
            "_________________________________________________________________\n"
          ]
        }
      ]
    },
    {
      "cell_type": "code",
      "metadata": {
        "id": "Q7Dra-fWl6a7"
      },
      "source": [
        "optimizer   = tf.keras.optimizers.Adam(learning_rate=0.01)\n",
        "loss        = tf.keras.losses.BinaryCrossentropy()\n",
        "metrics     = ['accuracy']"
      ],
      "execution_count": null,
      "outputs": []
    },
    {
      "cell_type": "code",
      "metadata": {
        "id": "geXALM9Zl6a9"
      },
      "source": [
        "model.compile(optimizer=optimizer,\n",
        "              loss=loss,\n",
        "              metrics=metrics)"
      ],
      "execution_count": null,
      "outputs": []
    },
    {
      "cell_type": "code",
      "metadata": {
        "id": "_fMJ9ZuXl6a8"
      },
      "source": [
        "early_stopping    = EarlyStopping(monitor='loss', patience=7)\n",
        "reduce_lr         = ReduceLROnPlateau(monitor='loss', patience=7, min_lr=0.001, mode='min', verbose=1)\n",
        "model_checkpoint  = ModelCheckpoint(monitor='loss', filepath='./best_model.h5', save_best_only=True)"
      ],
      "execution_count": null,
      "outputs": []
    },
    {
      "cell_type": "code",
      "metadata": {
        "id": "8PMOcaWtl6a8"
      },
      "source": [
        "EPOCHS = 30\n",
        "CALLBACKS = [early_stopping, reduce_lr, model_checkpoint]"
      ],
      "execution_count": null,
      "outputs": []
    },
    {
      "cell_type": "code",
      "metadata": {
        "colab": {
          "base_uri": "https://localhost:8080/"
        },
        "id": "hoCWf87Rl6a9",
        "outputId": "47be0aeb-1f81-4be0-f2af-45619bcd9029"
      },
      "source": [
        "history = model.fit(training_padded,\n",
        "                    training_labels,\n",
        "                    validation_data=(testing_padded, testing_labels),\n",
        "                    verbose = 1,\n",
        "                    epochs = EPOCHS,\n",
        "                    callbacks = CALLBACKS)"
      ],
      "execution_count": null,
      "outputs": [
        {
          "output_type": "stream",
          "name": "stdout",
          "text": [
            "Epoch 1/30\n",
            "625/625 [==============================] - 7s 5ms/step - loss: 0.4365 - accuracy: 0.7799 - val_loss: 0.3682 - val_accuracy: 0.8378\n",
            "Epoch 2/30\n",
            "625/625 [==============================] - 3s 5ms/step - loss: 0.2581 - accuracy: 0.8932 - val_loss: 0.3605 - val_accuracy: 0.8451\n",
            "Epoch 3/30\n",
            "625/625 [==============================] - 3s 5ms/step - loss: 0.1941 - accuracy: 0.9236 - val_loss: 0.3847 - val_accuracy: 0.8422\n",
            "Epoch 4/30\n",
            "625/625 [==============================] - 3s 5ms/step - loss: 0.1663 - accuracy: 0.9364 - val_loss: 0.4790 - val_accuracy: 0.8138\n",
            "Epoch 5/30\n",
            "625/625 [==============================] - 3s 5ms/step - loss: 0.1338 - accuracy: 0.9502 - val_loss: 0.4698 - val_accuracy: 0.8353\n",
            "Epoch 6/30\n",
            "625/625 [==============================] - 3s 5ms/step - loss: 0.1154 - accuracy: 0.9565 - val_loss: 0.4379 - val_accuracy: 0.8271\n",
            "Epoch 7/30\n",
            "625/625 [==============================] - 3s 5ms/step - loss: 0.0998 - accuracy: 0.9623 - val_loss: 0.6403 - val_accuracy: 0.8240\n",
            "Epoch 8/30\n",
            "625/625 [==============================] - 3s 5ms/step - loss: 0.0986 - accuracy: 0.9599 - val_loss: 0.6388 - val_accuracy: 0.8283\n",
            "Epoch 9/30\n",
            "625/625 [==============================] - 3s 5ms/step - loss: 0.0745 - accuracy: 0.9699 - val_loss: 0.6349 - val_accuracy: 0.8267\n",
            "Epoch 10/30\n",
            "625/625 [==============================] - 3s 5ms/step - loss: 0.0610 - accuracy: 0.9746 - val_loss: 0.8027 - val_accuracy: 0.8216\n",
            "Epoch 11/30\n",
            "625/625 [==============================] - 3s 5ms/step - loss: 0.0578 - accuracy: 0.9758 - val_loss: 0.9242 - val_accuracy: 0.8119\n",
            "Epoch 12/30\n",
            "625/625 [==============================] - 3s 5ms/step - loss: 0.0479 - accuracy: 0.9793 - val_loss: 0.9103 - val_accuracy: 0.8137\n",
            "Epoch 13/30\n",
            "625/625 [==============================] - 3s 5ms/step - loss: 0.0509 - accuracy: 0.9775 - val_loss: 1.0184 - val_accuracy: 0.8247\n",
            "Epoch 14/30\n",
            "625/625 [==============================] - 3s 5ms/step - loss: 0.0342 - accuracy: 0.9852 - val_loss: 1.1126 - val_accuracy: 0.8192\n",
            "Epoch 15/30\n",
            "625/625 [==============================] - 3s 5ms/step - loss: 0.0324 - accuracy: 0.9864 - val_loss: 1.1813 - val_accuracy: 0.8182\n",
            "Epoch 16/30\n",
            "625/625 [==============================] - 3s 5ms/step - loss: 0.0324 - accuracy: 0.9863 - val_loss: 1.1894 - val_accuracy: 0.8122\n",
            "Epoch 17/30\n",
            "625/625 [==============================] - 3s 5ms/step - loss: 0.0350 - accuracy: 0.9855 - val_loss: 1.2593 - val_accuracy: 0.8137\n",
            "Epoch 18/30\n",
            "625/625 [==============================] - 3s 5ms/step - loss: 0.0295 - accuracy: 0.9882 - val_loss: 1.3730 - val_accuracy: 0.8202\n",
            "Epoch 19/30\n",
            "625/625 [==============================] - 3s 5ms/step - loss: 0.0244 - accuracy: 0.9908 - val_loss: 1.3931 - val_accuracy: 0.8190\n",
            "Epoch 20/30\n",
            "625/625 [==============================] - 3s 5ms/step - loss: 0.0205 - accuracy: 0.9918 - val_loss: 1.4525 - val_accuracy: 0.8177\n",
            "Epoch 21/30\n",
            "625/625 [==============================] - 3s 5ms/step - loss: 0.0236 - accuracy: 0.9913 - val_loss: 1.5347 - val_accuracy: 0.8243\n",
            "Epoch 22/30\n",
            "625/625 [==============================] - 3s 5ms/step - loss: 0.0179 - accuracy: 0.9934 - val_loss: 1.5772 - val_accuracy: 0.8199\n",
            "Epoch 23/30\n",
            "625/625 [==============================] - 3s 5ms/step - loss: 0.0175 - accuracy: 0.9934 - val_loss: 1.5500 - val_accuracy: 0.8149\n",
            "Epoch 24/30\n",
            "625/625 [==============================] - 3s 5ms/step - loss: 0.0132 - accuracy: 0.9951 - val_loss: 1.6429 - val_accuracy: 0.8195\n",
            "Epoch 25/30\n",
            "625/625 [==============================] - 3s 5ms/step - loss: 0.0217 - accuracy: 0.9922 - val_loss: 1.5397 - val_accuracy: 0.8141\n",
            "Epoch 26/30\n",
            "625/625 [==============================] - 3s 5ms/step - loss: 0.0090 - accuracy: 0.9967 - val_loss: 1.7500 - val_accuracy: 0.8158\n",
            "Epoch 27/30\n",
            "625/625 [==============================] - 3s 5ms/step - loss: 0.0119 - accuracy: 0.9954 - val_loss: 1.8798 - val_accuracy: 0.8217\n",
            "Epoch 28/30\n",
            "625/625 [==============================] - 3s 5ms/step - loss: 0.0153 - accuracy: 0.9942 - val_loss: 2.0384 - val_accuracy: 0.8119\n",
            "Epoch 29/30\n",
            "625/625 [==============================] - 3s 5ms/step - loss: 0.0132 - accuracy: 0.9952 - val_loss: 1.8738 - val_accuracy: 0.8153\n",
            "Epoch 30/30\n",
            "625/625 [==============================] - 3s 5ms/step - loss: 0.0113 - accuracy: 0.9959 - val_loss: 2.0241 - val_accuracy: 0.8207\n"
          ]
        }
      ]
    },
    {
      "cell_type": "code",
      "metadata": {
        "colab": {
          "base_uri": "https://localhost:8080/",
          "height": 580
        },
        "id": "o_XtztunmTf_",
        "outputId": "32d6ef4e-7416-40f6-f6ac-9d4418abba6d"
      },
      "source": [
        "acc      = history.history['accuracy']\n",
        "val_acc  = history.history['val_accuracy']\n",
        "\n",
        "epochs   = range(len(acc))\n",
        "\n",
        "plt.plot(epochs, acc, 'r', label = 'Training')\n",
        "plt.plot(epochs, val_acc, 'b', label = 'Validation')\n",
        "plt.title('Training and Validation Accuracy')\n",
        "plt.legend()\n",
        "plt.figure()\n",
        "\n",
        "loss     = history.history['loss']\n",
        "val_loss = history.history['val_loss']\n",
        "\n",
        "epochs   = range(len(loss))\n",
        "\n",
        "plt.plot(epochs, loss, 'r', label = 'Training')\n",
        "plt.plot(epochs, val_loss, 'b', label = 'Validation')\n",
        "plt.title('Training and Validation Loss')\n",
        "plt.legend()\n",
        "plt.figure()"
      ],
      "execution_count": null,
      "outputs": [
        {
          "output_type": "execute_result",
          "data": {
            "text/plain": [
              "<Figure size 432x288 with 0 Axes>"
            ]
          },
          "metadata": {},
          "execution_count": 19
        },
        {
          "output_type": "display_data",
          "data": {
            "image/png": "[encoded data removed]",
            "text/plain": [
              "<Figure size 432x288 with 1 Axes>"
            ]
          },
          "metadata": {
            "needs_background": "light"
          }
        },
        {
          "output_type": "display_data",
          "data": {
            "image/png": "[encoded data removed]",
            "text/plain": [
              "<Figure size 432x288 with 1 Axes>"
            ]
          },
          "metadata": {
            "needs_background": "light"
          }
        },
        {
          "output_type": "display_data",
          "data": {
            "text/plain": [
              "<Figure size 432x288 with 0 Axes>"
            ]
          },
          "metadata": {}
        }
      ]
    },
    {
      "cell_type": "code",
      "metadata": {
        "colab": {
          "base_uri": "https://localhost:8080/"
        },
        "id": "iFgCD8iYM0qI",
        "outputId": "a948c1a4-8b1d-4f86-a57f-f01be6c5d8b2"
      },
      "source": [
        "sentence = [\"granny starting to fear spiders in the garden might be real\", \n",
        "            \"game of thrones season finale showing this sunday night\"]\n",
        "\n",
        "sequences = tokenizer.texts_to_sequences(sentence)\n",
        "padded = pad_sequences(sequences, maxlen=MAX_LEN, padding=PADDING_TYPE, truncating=TRUNC_TYPE)\n",
        "\n",
        "print(model.predict(padded))\n",
        "print(np.argmax(model.predict(padded), axis=1))"
      ],
      "execution_count": null,
      "outputs": [
        {
          "output_type": "stream",
          "name": "stdout",
          "text": [
            "[[6.9212886e-03]\n",
            " [4.2521169e-05]]\n",
            "[0 0]\n"
          ]
        }
      ]
    },
    {
      "cell_type": "markdown",
      "metadata": {
        "id": "dt_UBXcAbWOq"
      },
      "source": [
        "## Training on IMDB subwords"
      ]
    },
    {
      "cell_type": "code",
      "metadata": {
        "colab": {
          "base_uri": "https://localhost:8080/",
          "height": 356,
          "referenced_widgets": [
            "f4357d13f40c4c82bda91976fba42b26",
            "fcce4d5d951a4fab8e2554fef60871e7",
            "067168527a0644308053fe8ad19ce4c1",
            "df3c1eccd8924a84b1564e2892444570",
            "a2db45b407e048a6b06f9b0d98fd45fd",
            "750f2072d9ce4caaa65765c65f86ab6c",
            "7653c2acd55d471f9270e1c78694c816",
            "2b548220a320436fba23ff8ad4afd375",
            "5d8953a00c3642b5918e77b2f3829fc0",
            "2e9042e220904380a19e9edf9505d09b",
            "3a0daf69bf254e6684e7d0799a1d50e2",
            "fc93976e74294983912816d2f350c2bb",
            "dbdb5740826c4b3793ba9aab1b289970",
            "087c00ecc32f40bb9d51e6c0c30d19f0",
            "d8b20ae72a0742e2b7836fe906c268f6",
            "6e4df37e3b9f4921835fa0a51b0d963b",
            "8dcdba551f2146758ef743da2159d61d",
            "983981c69cac48a4a30c5dc13a6d71f0",
            "c946a2c5c2464f8ca9728dae6bea0bf0",
            "8a046e5d2c28425bb76169f3b5af969c",
            "90ad96fc978145e89688c0002386273d",
            "3714b035bc594f57b728938081f04f92",
            "90433294b03f4f4e884830c1eff71ae9",
            "bf16b7318d0e4728b213363e16f63b33",
            "1e24eeb023ab47ef981f1af8a1deeb0f",
            "85d8df4ccd5243408c4744a239e0f5a2",
            "1c9afdaf10134495b17b75ae758c2374",
            "10cbe12e6a2a40fc91ebb4962688952d"
          ]
        },
        "id": "2eKLNBV6qKFh",
        "outputId": "ccae7d0e-6e03-4dc5-8448-098fc82e93ce"
      },
      "source": [
        "# here the tokenization is done on sub words instead of words\n",
        "# and this may give accuracy issues\n",
        "\n",
        "import tensorflow_datasets as tfds\n",
        "imdb, info = tfds.load(\"imdb_reviews/subwords8k\", with_info=True, as_supervised=True)"
      ],
      "execution_count": null,
      "outputs": [
        {
          "output_type": "stream",
          "name": "stderr",
          "text": [
            "WARNING:absl:TFDS datasets with text encoding are deprecated and will be removed in a future version. Instead, you should use the plain text version and tokenize the text using `tensorflow_text` (See: https://www.tensorflow.org/tutorials/tensorflow_text/intro#tfdata_example)\n"
          ]
        },
        {
          "output_type": "stream",
          "name": "stdout",
          "text": [
            "\u001b[1mDownloading and preparing dataset imdb_reviews/subwords8k/1.0.0 (download: 80.23 MiB, generated: Unknown size, total: 80.23 MiB) to /root/tensorflow_datasets/imdb_reviews/subwords8k/1.0.0...\u001b[0m\n"
          ]
        },
        {
          "output_type": "display_data",
          "data": {
            "application/vnd.jupyter.widget-view+json": {
              "model_id": "f4357d13f40c4c82bda91976fba42b26",
              "version_minor": 0,
              "version_major": 2
            },
            "text/plain": [
              "Dl Completed...: 0 url [00:00, ? url/s]"
            ]
          },
          "metadata": {}
        },
        {
          "output_type": "display_data",
          "data": {
            "application/vnd.jupyter.widget-view+json": {
              "model_id": "fc93976e74294983912816d2f350c2bb",
              "version_minor": 0,
              "version_major": 2
            },
            "text/plain": [
              "Dl Size...: 0 MiB [00:00, ? MiB/s]"
            ]
          },
          "metadata": {}
        },
        {
          "output_type": "stream",
          "name": "stdout",
          "text": [
            "\n",
            "\n"
          ]
        },
        {
          "output_type": "display_data",
          "data": {
            "application/vnd.jupyter.widget-view+json": {
              "model_id": "90433294b03f4f4e884830c1eff71ae9",
              "version_minor": 0,
              "version_major": 2
            },
            "text/plain": [
              "0 examples [00:00, ? examples/s]"
            ]
          },
          "metadata": {}
        },
        {
          "output_type": "stream",
          "name": "stdout",
          "text": [
            "Shuffling and writing examples to /root/tensorflow_datasets/imdb_reviews/subwords8k/1.0.0.incomplete25S02I/imdb_reviews-train.tfrecord\n"
          ]
        },
        {
          "output_type": "display_data",
          "data": {
            "application/vnd.jupyter.widget-view+json": {
              "model_id": "bf16b7318d0e4728b213363e16f63b33",
              "version_minor": 0,
              "version_major": 2
            },
            "text/plain": [
              "  0%|          | 0/25000 [00:00<?, ? examples/s]"
            ]
          },
          "metadata": {}
        },
        {
          "output_type": "display_data",
          "data": {
            "application/vnd.jupyter.widget-view+json": {
              "model_id": "1e24eeb023ab47ef981f1af8a1deeb0f",
              "version_minor": 0,
              "version_major": 2
            },
            "text/plain": [
              "0 examples [00:00, ? examples/s]"
            ]
          },
          "metadata": {}
        },
        {
          "output_type": "stream",
          "name": "stdout",
          "text": [
            "Shuffling and writing examples to /root/tensorflow_datasets/imdb_reviews/subwords8k/1.0.0.incomplete25S02I/imdb_reviews-test.tfrecord\n"
          ]
        },
        {
          "output_type": "display_data",
          "data": {
            "application/vnd.jupyter.widget-view+json": {
              "model_id": "85d8df4ccd5243408c4744a239e0f5a2",
              "version_minor": 0,
              "version_major": 2
            },
            "text/plain": [
              "  0%|          | 0/25000 [00:00<?, ? examples/s]"
            ]
          },
          "metadata": {}
        },
        {
          "output_type": "display_data",
          "data": {
            "application/vnd.jupyter.widget-view+json": {
              "model_id": "1c9afdaf10134495b17b75ae758c2374",
              "version_minor": 0,
              "version_major": 2
            },
            "text/plain": [
              "0 examples [00:00, ? examples/s]"
            ]
          },
          "metadata": {}
        },
        {
          "output_type": "stream",
          "name": "stdout",
          "text": [
            "Shuffling and writing examples to /root/tensorflow_datasets/imdb_reviews/subwords8k/1.0.0.incomplete25S02I/imdb_reviews-unsupervised.tfrecord\n"
          ]
        },
        {
          "output_type": "display_data",
          "data": {
            "application/vnd.jupyter.widget-view+json": {
              "model_id": "10cbe12e6a2a40fc91ebb4962688952d",
              "version_minor": 0,
              "version_major": 2
            },
            "text/plain": [
              "  0%|          | 0/50000 [00:00<?, ? examples/s]"
            ]
          },
          "metadata": {}
        },
        {
          "output_type": "stream",
          "name": "stderr",
          "text": [
            "WARNING:absl:Dataset is using deprecated text encoder API which will be removed soon. Please use the plain_text version of the dataset and migrate to `tensorflow_text`.\n"
          ]
        },
        {
          "output_type": "stream",
          "name": "stdout",
          "text": [
            "\u001b[1mDataset imdb_reviews downloaded and prepared to /root/tensorflow_datasets/imdb_reviews/subwords8k/1.0.0. Subsequent calls will reuse this data.\u001b[0m\n"
          ]
        }
      ]
    },
    {
      "cell_type": "code",
      "metadata": {
        "colab": {
          "base_uri": "https://localhost:8080/"
        },
        "id": "5HhbI2QsyrVe",
        "outputId": "87828416-8b68-4b5c-ff26-670319043539"
      },
      "source": [
        "imdb"
      ],
      "execution_count": null,
      "outputs": [
        {
          "output_type": "execute_result",
          "data": {
            "text/plain": [
              "{'test': <PrefetchDataset shapes: ((None,), ()), types: (tf.int64, tf.int64)>,\n",
              " 'train': <PrefetchDataset shapes: ((None,), ()), types: (tf.int64, tf.int64)>,\n",
              " 'unsupervised': <PrefetchDataset shapes: ((None,), ()), types: (tf.int64, tf.int64)>}"
            ]
          },
          "metadata": {},
          "execution_count": 52
        }
      ]
    },
    {
      "cell_type": "code",
      "metadata": {
        "id": "wHQ2Ko0zl7M4"
      },
      "source": [
        "train_data, test_data = imdb['train'], imdb['test']"
      ],
      "execution_count": null,
      "outputs": []
    },
    {
      "cell_type": "code",
      "metadata": {
        "id": "fqGRSe_eCdOz"
      },
      "source": [
        "tokenizer = info.features['text'].encoder"
      ],
      "execution_count": null,
      "outputs": []
    },
    {
      "cell_type": "code",
      "metadata": {
        "id": "F6b_EraCDLOh",
        "colab": {
          "base_uri": "https://localhost:8080/"
        },
        "outputId": "57c2e56b-a6f7-42b8-9880-4393a8ff90d9"
      },
      "source": [
        "tokenizer.subwords[:20]"
      ],
      "execution_count": null,
      "outputs": [
        {
          "output_type": "execute_result",
          "data": {
            "text/plain": [
              "['the_',\n",
              " ', ',\n",
              " '. ',\n",
              " 'a_',\n",
              " 'and_',\n",
              " 'of_',\n",
              " 'to_',\n",
              " 's_',\n",
              " 'is_',\n",
              " 'br',\n",
              " 'in_',\n",
              " 'I_',\n",
              " 'that_',\n",
              " 'this_',\n",
              " 'it_',\n",
              " ' /><',\n",
              " ' />',\n",
              " 'was_',\n",
              " 'The_',\n",
              " 'as_']"
            ]
          },
          "metadata": {},
          "execution_count": 55
        }
      ]
    },
    {
      "cell_type": "code",
      "metadata": {
        "id": "fPl2BXhYEHRP",
        "colab": {
          "base_uri": "https://localhost:8080/"
        },
        "outputId": "68d0e791-c7a9-4614-e260-4d04934853d9"
      },
      "source": [
        "sample_string = 'TensorFlow, from basics to mastery'\n",
        "\n",
        "tokenized_string = tokenizer.encode(sample_string)\n",
        "print ('Tokenized string is {}'.format(tokenized_string))\n",
        "\n",
        "original_string = tokenizer.decode(tokenized_string)\n",
        "print ('The original string: {}'.format(original_string))\n"
      ],
      "execution_count": null,
      "outputs": [
        {
          "output_type": "stream",
          "name": "stdout",
          "text": [
            "Tokenized string is [6307, 2327, 4043, 2120, 2, 48, 4249, 4429, 7, 2652, 8050]\n",
            "The original string: TensorFlow, from basics to mastery\n"
          ]
        }
      ]
    },
    {
      "cell_type": "code",
      "metadata": {
        "id": "_3t7vvNLEZml",
        "colab": {
          "base_uri": "https://localhost:8080/"
        },
        "outputId": "f6884a31-6a70-4f51-bdc1-620e22dcf312"
      },
      "source": [
        "for ts in tokenized_string:\n",
        "    print ('{} ----> {}'.format(ts, tokenizer.decode([ts])))"
      ],
      "execution_count": null,
      "outputs": [
        {
          "output_type": "stream",
          "name": "stdout",
          "text": [
            "6307 ----> Ten\n",
            "2327 ----> sor\n",
            "4043 ----> Fl\n",
            "2120 ----> ow\n",
            "2 ----> , \n",
            "48 ----> from \n",
            "4249 ----> basi\n",
            "4429 ----> cs \n",
            "7 ----> to \n",
            "2652 ----> master\n",
            "8050 ----> y\n"
          ]
        }
      ]
    },
    {
      "cell_type": "code",
      "metadata": {
        "id": "IDh_nGBqiRGX"
      },
      "source": [
        "BUFFER_SIZE = 10000\n",
        "BATCH_SIZE = 64\n",
        "\n",
        "train_dataset = train_data.shuffle(BUFFER_SIZE)\n",
        "train_dataset = train_dataset.padded_batch(BATCH_SIZE, tf.compat.v1.data.get_output_shapes(train_dataset))\n",
        "test_dataset = test_data.padded_batch(BATCH_SIZE, tf.compat.v1.data.get_output_shapes(test_data))"
      ],
      "execution_count": null,
      "outputs": []
    },
    {
      "cell_type": "code",
      "metadata": {
        "id": "pvJnbm95zp-F"
      },
      "source": [
        "EMBED_DIM = 64\n",
        "NUM_CLASSES = 1"
      ],
      "execution_count": null,
      "outputs": []
    },
    {
      "cell_type": "code",
      "metadata": {
        "id": "d5KfHLeezp-I"
      },
      "source": [
        "model = Sequential([\n",
        "    layers.Embedding(input_dim=tokenizer.VOCAB_SIZE, output_dim=EMBED_DIM),\n",
        "    layers.GlobalAveragePooling1D(),                              # or use Flatten\n",
        "    layers.Dense(6, activation='relu'),\n",
        "    layers.Dense(NUM_CLASSES, activation='sigmoid')\n",
        "])"
      ],
      "execution_count": null,
      "outputs": []
    },
    {
      "cell_type": "code",
      "metadata": {
        "id": "5NEpdhb8AxID",
        "colab": {
          "base_uri": "https://localhost:8080/"
        },
        "outputId": "677b9733-138e-45e7-c944-b20949557a53"
      },
      "source": [
        "model.summary()"
      ],
      "execution_count": null,
      "outputs": [
        {
          "output_type": "stream",
          "name": "stdout",
          "text": [
            "Model: \"sequential_2\"\n",
            "_________________________________________________________________\n",
            "Layer (type)                 Output Shape              Param #   \n",
            "=================================================================\n",
            "embedding_2 (Embedding)      (None, None, 64)          523840    \n",
            "_________________________________________________________________\n",
            "global_average_pooling1d_2 ( (None, 64)                0         \n",
            "_________________________________________________________________\n",
            "dense_4 (Dense)              (None, 6)                 390       \n",
            "_________________________________________________________________\n",
            "dense_5 (Dense)              (None, 1)                 7         \n",
            "=================================================================\n",
            "Total params: 524,237\n",
            "Trainable params: 524,237\n",
            "Non-trainable params: 0\n",
            "_________________________________________________________________\n"
          ]
        }
      ]
    },
    {
      "cell_type": "code",
      "metadata": {
        "id": "qgFL42Z-0OT2"
      },
      "source": [
        "optimizer   = tf.keras.optimizers.Adam(learning_rate=0.01)\n",
        "loss        = tf.keras.losses.BinaryCrossentropy()\n",
        "metrics     = ['accuracy']"
      ],
      "execution_count": null,
      "outputs": []
    },
    {
      "cell_type": "code",
      "metadata": {
        "id": "Y4-O4jjL0B3X"
      },
      "source": [
        "model.compile(optimizer=optimizer,\n",
        "              loss=loss,\n",
        "              metrics=metrics)"
      ],
      "execution_count": null,
      "outputs": []
    },
    {
      "cell_type": "code",
      "metadata": {
        "id": "kUu_gRlw0B3W"
      },
      "source": [
        "EPOCHS = 10"
      ],
      "execution_count": null,
      "outputs": []
    },
    {
      "cell_type": "code",
      "metadata": {
        "colab": {
          "base_uri": "https://localhost:8080/"
        },
        "id": "IGWjrpZz0B3X",
        "outputId": "018d80da-9f53-4ff0-ff29-f8c952c723dd"
      },
      "source": [
        "history = model.fit(train_dataset,\n",
        "                    validation_data=test_dataset,\n",
        "                    verbose = 1,\n",
        "                    epochs = EPOCHS)"
      ],
      "execution_count": null,
      "outputs": [
        {
          "output_type": "stream",
          "name": "stdout",
          "text": [
            "Epoch 1/10\n",
            "391/391 [==============================] - 8s 17ms/step - loss: 0.4922 - accuracy: 0.7446 - val_loss: 0.3236 - val_accuracy: 0.8644\n",
            "Epoch 2/10\n",
            "391/391 [==============================] - 7s 17ms/step - loss: 0.2555 - accuracy: 0.8999 - val_loss: 0.3236 - val_accuracy: 0.8644\n",
            "Epoch 3/10\n",
            "391/391 [==============================] - 7s 16ms/step - loss: 0.2074 - accuracy: 0.9175 - val_loss: 0.3085 - val_accuracy: 0.8756\n",
            "Epoch 4/10\n",
            "391/391 [==============================] - 7s 16ms/step - loss: 0.1799 - accuracy: 0.9312 - val_loss: 0.4164 - val_accuracy: 0.8412\n",
            "Epoch 5/10\n",
            "391/391 [==============================] - 7s 16ms/step - loss: 0.1586 - accuracy: 0.9379 - val_loss: 0.3603 - val_accuracy: 0.8637\n",
            "Epoch 6/10\n",
            "391/391 [==============================] - 7s 16ms/step - loss: 0.1460 - accuracy: 0.9424 - val_loss: 0.4515 - val_accuracy: 0.8477\n",
            "Epoch 7/10\n",
            "391/391 [==============================] - 7s 16ms/step - loss: 0.1228 - accuracy: 0.9522 - val_loss: 0.4611 - val_accuracy: 0.8598\n",
            "Epoch 8/10\n",
            "391/391 [==============================] - 7s 16ms/step - loss: 0.1182 - accuracy: 0.9525 - val_loss: 0.4777 - val_accuracy: 0.8612\n",
            "Epoch 9/10\n",
            "391/391 [==============================] - 7s 16ms/step - loss: 0.1057 - accuracy: 0.9577 - val_loss: 0.5415 - val_accuracy: 0.8545\n",
            "Epoch 10/10\n",
            "391/391 [==============================] - 7s 16ms/step - loss: 0.0815 - accuracy: 0.9688 - val_loss: 0.7826 - val_accuracy: 0.8386\n"
          ]
        }
      ]
    },
    {
      "cell_type": "code",
      "metadata": {
        "colab": {
          "base_uri": "https://localhost:8080/",
          "height": 580
        },
        "id": "LFEdx68c0w9r",
        "outputId": "d00a4516-c425-4a1a-e34d-8d14a8460929"
      },
      "source": [
        "acc      = history.history['accuracy']\n",
        "val_acc  = history.history['val_accuracy']\n",
        "\n",
        "epochs   = range(len(acc))\n",
        "\n",
        "plt.plot(epochs, acc, 'r', label = 'Training')\n",
        "plt.plot(epochs, val_acc, 'b', label = 'Validation')\n",
        "plt.title('Training and Validation Accuracy')\n",
        "plt.legend()\n",
        "plt.figure()\n",
        "\n",
        "loss     = history.history['loss']\n",
        "val_loss = history.history['val_loss']\n",
        "\n",
        "epochs   = range(len(loss))\n",
        "\n",
        "plt.plot(epochs, loss, 'r', label = 'Training')\n",
        "plt.plot(epochs, val_loss, 'b', label = 'Validation')\n",
        "plt.title('Training and Validation Loss')\n",
        "plt.legend()\n",
        "plt.figure()"
      ],
      "execution_count": null,
      "outputs": [
        {
          "output_type": "execute_result",
          "data": {
            "text/plain": [
              "<Figure size 432x288 with 0 Axes>"
            ]
          },
          "metadata": {},
          "execution_count": 68
        },
        {
          "output_type": "display_data",
          "data": {
            "image/png": "[encoded data removed]",
            "text/plain": [
              "<Figure size 432x288 with 1 Axes>"
            ]
          },
          "metadata": {
            "needs_background": "light"
          }
        },
        {
          "output_type": "display_data",
          "data": {
            "image/png": "[encoded data removed]",
            "text/plain": [
              "<Figure size 432x288 with 1 Axes>"
            ]
          },
          "metadata": {
            "needs_background": "light"
          }
        },
        {
          "output_type": "display_data",
          "data": {
            "text/plain": [
              "<Figure size 432x288 with 0 Axes>"
            ]
          },
          "metadata": {}
        }
      ]
    },
    {
      "cell_type": "markdown",
      "metadata": {
        "id": "PDSEZWbVrgTe"
      },
      "source": [
        "## Exercise 10"
      ]
    },
    {
      "cell_type": "markdown",
      "metadata": {
        "id": "LdFizQPTrpZ5"
      },
      "source": [
        "Running on BBC data."
      ]
    },
    {
      "cell_type": "code",
      "metadata": {
        "colab": {
          "base_uri": "https://localhost:8080/"
        },
        "id": "oA3Y4UjmgL_j",
        "outputId": "ad763726-9996-417e-b0d3-5e6f1b2c141c"
      },
      "source": [
        "import tensorflow as tf\n",
        "print(tf.__version__)"
      ],
      "execution_count": 1,
      "outputs": [
        {
          "output_type": "stream",
          "name": "stdout",
          "text": [
            "2.7.0\n"
          ]
        }
      ]
    },
    {
      "cell_type": "code",
      "metadata": {
        "id": "In220Lu-gL_k"
      },
      "source": [
        "from tensorflow.keras.preprocessing.text import Tokenizer\n",
        "from tensorflow.keras.preprocessing.sequence import pad_sequences\n",
        "from tensorflow.keras.models import Sequential\n",
        "from tensorflow.keras import layers\n",
        "from tensorflow.keras.callbacks import EarlyStopping, ReduceLROnPlateau, ModelCheckpoint, LearningRateScheduler"
      ],
      "execution_count": 2,
      "outputs": []
    },
    {
      "cell_type": "code",
      "metadata": {
        "id": "9RS-xLzpgL_l"
      },
      "source": [
        "import pandas as pd\n",
        "import numpy as np\n",
        "import csv\n",
        "import random\n",
        "import json\n",
        "import matplotlib.pyplot as plt\n",
        "%matplotlib inline"
      ],
      "execution_count": 3,
      "outputs": []
    },
    {
      "cell_type": "code",
      "metadata": {
        "colab": {
          "base_uri": "https://localhost:8080/"
        },
        "id": "mFjevFcuriL4",
        "outputId": "3471e148-addc-4da9-f666-ead7e35974e9"
      },
      "source": [
        "!wget --no-check-certificate \\\n",
        "    https://storage.googleapis.com/laurencemoroney-blog.appspot.com/bbc-text.csv \\\n",
        "    -O /content/bbc-text.csv"
      ],
      "execution_count": 4,
      "outputs": [
        {
          "output_type": "stream",
          "name": "stdout",
          "text": [
            "--2021-11-13 05:36:25--  https://storage.googleapis.com/laurencemoroney-blog.appspot.com/bbc-text.csv\n",
            "Resolving storage.googleapis.com (storage.googleapis.com)... 74.125.204.128, 64.233.189.128, 108.177.125.128, ...\n",
            "Connecting to storage.googleapis.com (storage.googleapis.com)|74.125.204.128|:443... connected.\n",
            "HTTP request sent, awaiting response... 200 OK\n",
            "Length: 5057493 (4.8M) [text/csv]\n",
            "Saving to: ‘/content/bbc-text.csv’\n",
            "\n",
            "\r/content/bbc-text.c   0%[                    ]       0  --.-KB/s               \r/content/bbc-text.c 100%[===================>]   4.82M  --.-KB/s    in 0.05s   \n",
            "\n",
            "2021-11-13 05:36:25 (106 MB/s) - ‘/content/bbc-text.csv’ saved [5057493/5057493]\n",
            "\n"
          ]
        }
      ]
    },
    {
      "cell_type": "code",
      "metadata": {
        "colab": {
          "base_uri": "https://localhost:8080/"
        },
        "id": "1v5IA2dFs3Ga",
        "outputId": "a842c24c-7c24-4696-e706-633bea4bcb61"
      },
      "source": [
        "df = pd.read_csv('bbc-text.csv')\n",
        "df.shape"
      ],
      "execution_count": 5,
      "outputs": [
        {
          "output_type": "execute_result",
          "data": {
            "text/plain": [
              "(2225, 2)"
            ]
          },
          "metadata": {},
          "execution_count": 5
        }
      ]
    },
    {
      "cell_type": "code",
      "metadata": {
        "colab": {
          "base_uri": "https://localhost:8080/",
          "height": 355
        },
        "id": "rkUC25j8s-FO",
        "outputId": "c5eda6f5-c68d-4aac-a423-d381f1f85534"
      },
      "source": [
        "df.head(10)"
      ],
      "execution_count": 6,
      "outputs": [
        {
          "output_type": "execute_result",
          "data": {
            "text/html": [
              "<div>\n",
              "<style scoped>\n",
              "    .dataframe tbody tr th:only-of-type {\n",
              "        vertical-align: middle;\n",
              "    }\n",
              "\n",
              "    .dataframe tbody tr th {\n",
              "        vertical-align: top;\n",
              "    }\n",
              "\n",
              "    .dataframe thead th {\n",
              "        text-align: right;\n",
              "    }\n",
              "</style>\n",
              "<table border=\"1\" class=\"dataframe\">\n",
              "  <thead>\n",
              "    <tr style=\"text-align: right;\">\n",
              "      <th></th>\n",
              "      <th>category</th>\n",
              "      <th>text</th>\n",
              "    </tr>\n",
              "  </thead>\n",
              "  <tbody>\n",
              "    <tr>\n",
              "      <th>0</th>\n",
              "      <td>tech</td>\n",
              "      <td>tv future in the hands of viewers with home th...</td>\n",
              "    </tr>\n",
              "    <tr>\n",
              "      <th>1</th>\n",
              "      <td>business</td>\n",
              "      <td>worldcom boss  left books alone  former worldc...</td>\n",
              "    </tr>\n",
              "    <tr>\n",
              "      <th>2</th>\n",
              "      <td>sport</td>\n",
              "      <td>tigers wary of farrell  gamble  leicester say ...</td>\n",
              "    </tr>\n",
              "    <tr>\n",
              "      <th>3</th>\n",
              "      <td>sport</td>\n",
              "      <td>yeading face newcastle in fa cup premiership s...</td>\n",
              "    </tr>\n",
              "    <tr>\n",
              "      <th>4</th>\n",
              "      <td>entertainment</td>\n",
              "      <td>ocean s twelve raids box office ocean s twelve...</td>\n",
              "    </tr>\n",
              "    <tr>\n",
              "      <th>5</th>\n",
              "      <td>politics</td>\n",
              "      <td>howard hits back at mongrel jibe michael howar...</td>\n",
              "    </tr>\n",
              "    <tr>\n",
              "      <th>6</th>\n",
              "      <td>politics</td>\n",
              "      <td>blair prepares to name poll date tony blair is...</td>\n",
              "    </tr>\n",
              "    <tr>\n",
              "      <th>7</th>\n",
              "      <td>sport</td>\n",
              "      <td>henman hopes ended in dubai third seed tim hen...</td>\n",
              "    </tr>\n",
              "    <tr>\n",
              "      <th>8</th>\n",
              "      <td>sport</td>\n",
              "      <td>wilkinson fit to face edinburgh england captai...</td>\n",
              "    </tr>\n",
              "    <tr>\n",
              "      <th>9</th>\n",
              "      <td>entertainment</td>\n",
              "      <td>last star wars  not for children  the sixth an...</td>\n",
              "    </tr>\n",
              "  </tbody>\n",
              "</table>\n",
              "</div>"
            ],
            "text/plain": [
              "        category                                               text\n",
              "0           tech  tv future in the hands of viewers with home th...\n",
              "1       business  worldcom boss  left books alone  former worldc...\n",
              "2          sport  tigers wary of farrell  gamble  leicester say ...\n",
              "3          sport  yeading face newcastle in fa cup premiership s...\n",
              "4  entertainment  ocean s twelve raids box office ocean s twelve...\n",
              "5       politics  howard hits back at mongrel jibe michael howar...\n",
              "6       politics  blair prepares to name poll date tony blair is...\n",
              "7          sport  henman hopes ended in dubai third seed tim hen...\n",
              "8          sport  wilkinson fit to face edinburgh england captai...\n",
              "9  entertainment  last star wars  not for children  the sixth an..."
            ]
          },
          "metadata": {},
          "execution_count": 6
        }
      ]
    },
    {
      "cell_type": "code",
      "metadata": {
        "colab": {
          "base_uri": "https://localhost:8080/"
        },
        "id": "0ccwzP9GtFMs",
        "outputId": "c823ddb2-b155-4679-9484-7e25bf0cbcc7"
      },
      "source": [
        "df['category'].value_counts()"
      ],
      "execution_count": 7,
      "outputs": [
        {
          "output_type": "execute_result",
          "data": {
            "text/plain": [
              "sport            511\n",
              "business         510\n",
              "politics         417\n",
              "tech             401\n",
              "entertainment    386\n",
              "Name: category, dtype: int64"
            ]
          },
          "metadata": {},
          "execution_count": 7
        }
      ]
    },
    {
      "cell_type": "code",
      "metadata": {
        "id": "cptvNoKTphB7"
      },
      "source": [
        "VOCAB_SIZE = 5000\n",
        "EMBED_DIM = 32\n",
        "MAX_LEN = 120\n",
        "\n",
        "TRUNC_TYPE = 'post'\n",
        "PADDING_TYPE = 'post'\n",
        "OOV_TOKEN = '<OOV>'"
      ],
      "execution_count": 8,
      "outputs": []
    },
    {
      "cell_type": "code",
      "metadata": {
        "colab": {
          "base_uri": "https://localhost:8080/"
        },
        "id": "1bipqEBbr0Cj",
        "outputId": "fdba1c86-fcfb-4e38-de64-86e7a7195f4d"
      },
      "source": [
        "stopwords = [ \"a\", \"about\", \"above\", \"after\", \"again\", \"against\", \"all\", \"am\", \"an\", \"and\", \"any\", \"are\", \"as\", \"at\", \"be\", \"because\", \"been\", \"before\", \"being\", \"below\", \"between\", \"both\", \"but\", \"by\", \"could\", \"did\", \"do\", \"does\", \"doing\", \"down\", \"during\", \"each\", \"few\", \"for\", \"from\", \"further\", \"had\", \"has\", \"have\", \"having\", \"he\", \"he'd\", \"he'll\", \"he's\", \"her\", \"here\", \"here's\", \"hers\", \"herself\", \"him\", \"himself\", \"his\", \"how\", \"how's\", \"i\", \"i'd\", \"i'll\", \"i'm\", \"i've\", \"if\", \"in\", \"into\", \"is\", \"it\", \"it's\", \"its\", \"itself\", \"let's\", \"me\", \"more\", \"most\", \"my\", \"myself\", \"nor\", \"of\", \"on\", \"once\", \"only\", \"or\", \"other\", \"ought\", \"our\", \"ours\", \"ourselves\", \"out\", \"over\", \"own\", \"same\", \"she\", \"she'd\", \"she'll\", \"she's\", \"should\", \"so\", \"some\", \"such\", \"than\", \"that\", \"that's\", \"the\", \"their\", \"theirs\", \"them\", \"themselves\", \"then\", \"there\", \"there's\", \"these\", \"they\", \"they'd\", \"they'll\", \"they're\", \"they've\", \"this\", \"those\", \"through\", \"to\", \"too\", \"under\", \"until\", \"up\", \"very\", \"was\", \"we\", \"we'd\", \"we'll\", \"we're\", \"we've\", \"were\", \"what\", \"what's\", \"when\", \"when's\", \"where\", \"where's\", \"which\", \"while\", \"who\", \"who's\", \"whom\", \"why\", \"why's\", \"with\", \"would\", \"you\", \"you'd\", \"you'll\", \"you're\", \"you've\", \"your\", \"yours\", \"yourself\", \"yourselves\" ]\n",
        "print(len(stopwords))"
      ],
      "execution_count": 9,
      "outputs": [
        {
          "output_type": "stream",
          "name": "stdout",
          "text": [
            "153\n"
          ]
        }
      ]
    },
    {
      "cell_type": "code",
      "metadata": {
        "id": "ciBR8lRSr0HO"
      },
      "source": [
        "sentences = []\n",
        "labels = []\n",
        "\n",
        "with open(\"/content/bbc-text.csv\", 'r') as csvfile:\n",
        "    reader = csv.reader(csvfile, delimiter=',')\n",
        "    next(reader)\n",
        "    for row in reader:\n",
        "        labels.append(row[0])\n",
        "        sentence = row[1]\n",
        "        for word in stopwords:\n",
        "            token = \" \" + word + \" \"\n",
        "            sentence = sentence.replace(token, \" \")\n",
        "        sentences.append(sentence)"
      ],
      "execution_count": 10,
      "outputs": []
    },
    {
      "cell_type": "code",
      "metadata": {
        "colab": {
          "base_uri": "https://localhost:8080/"
        },
        "id": "gWVcGEWiqEJp",
        "outputId": "fcb3c111-b188-4c3c-c332-7610dae1a02d"
      },
      "source": [
        "len(labels), len(sentences)"
      ],
      "execution_count": 11,
      "outputs": [
        {
          "output_type": "execute_result",
          "data": {
            "text/plain": [
              "(2225, 2225)"
            ]
          },
          "metadata": {},
          "execution_count": 11
        }
      ]
    },
    {
      "cell_type": "code",
      "metadata": {
        "colab": {
          "base_uri": "https://localhost:8080/",
          "height": 35
        },
        "id": "OSlDoDwFqJW8",
        "outputId": "57ba663c-385e-4eea-f092-d87c6466c8da"
      },
      "source": [
        "sentences[0][:20]"
      ],
      "execution_count": 12,
      "outputs": [
        {
          "output_type": "execute_result",
          "data": {
            "application/vnd.google.colaboratory.intrinsic+json": {
              "type": "string"
            },
            "text/plain": [
              "'tv future hands view'"
            ]
          },
          "metadata": {},
          "execution_count": 12
        }
      ]
    },
    {
      "cell_type": "code",
      "metadata": {
        "colab": {
          "base_uri": "https://localhost:8080/"
        },
        "id": "tT96fQ1jr0Kl",
        "outputId": "2cde606d-ec87-493b-befb-db16e8b84f9b"
      },
      "source": [
        "training_portion = 0.8\n",
        "TRAIN_SIZE = int(len(sentences) * training_portion)\n",
        "\n",
        "training_sentences = sentences[:TRAIN_SIZE]\n",
        "training_labels = labels[:TRAIN_SIZE]\n",
        "\n",
        "testing_sentences = sentences[TRAIN_SIZE:]\n",
        "testing_labels = labels[TRAIN_SIZE:]\n",
        "\n",
        "print(TRAIN_SIZE)\n",
        "print(len(training_sentences))\n",
        "print(len(training_labels))\n",
        "print(len(testing_sentences))\n",
        "print(len(testing_labels))"
      ],
      "execution_count": 13,
      "outputs": [
        {
          "output_type": "stream",
          "name": "stdout",
          "text": [
            "1780\n",
            "1780\n",
            "1780\n",
            "445\n",
            "445\n"
          ]
        }
      ]
    },
    {
      "cell_type": "code",
      "metadata": {
        "id": "dcmmKWo2vO7v"
      },
      "source": [
        "# tokenize, sequencing, padding\n",
        "\n",
        "tokenizer = Tokenizer(num_words=VOCAB_SIZE, oov_token=OOV_TOKEN)\n",
        "tokenizer.fit_on_texts(training_sentences)\n",
        "word_index = tokenizer.word_index\n",
        "\n",
        "training_sequences = tokenizer.texts_to_sequences(training_sentences)\n",
        "training_padded = pad_sequences(training_sequences, maxlen=MAX_LEN, padding=PADDING_TYPE, truncating=TRUNC_TYPE)\n",
        "\n",
        "testing_sequences = tokenizer.texts_to_sequences(testing_sentences)\n",
        "testing_padded = pad_sequences(testing_sequences, maxlen=MAX_LEN, padding=PADDING_TYPE, truncating=TRUNC_TYPE)"
      ],
      "execution_count": 14,
      "outputs": []
    },
    {
      "cell_type": "code",
      "metadata": {
        "colab": {
          "base_uri": "https://localhost:8080/"
        },
        "id": "CihqSwWjwRtM",
        "outputId": "d52edc41-8012-4d07-f5c2-185ec09595af"
      },
      "source": [
        "print(len(training_sequences[0]), len(training_padded[0]))\n",
        "print(len(training_sequences[1]), len(training_padded[1]))\n",
        "print(len(training_sequences[10]), len(training_padded[10]))"
      ],
      "execution_count": 15,
      "outputs": [
        {
          "output_type": "stream",
          "name": "stdout",
          "text": [
            "449 120\n",
            "200 120\n",
            "192 120\n"
          ]
        }
      ]
    },
    {
      "cell_type": "code",
      "metadata": {
        "colab": {
          "base_uri": "https://localhost:8080/"
        },
        "id": "NBgodi5zw1r6",
        "outputId": "b8bb24f6-2d13-4c87-def9-455428079efb"
      },
      "source": [
        "print(len(testing_sequences))\n",
        "print(testing_padded.shape)"
      ],
      "execution_count": 16,
      "outputs": [
        {
          "output_type": "stream",
          "name": "stdout",
          "text": [
            "445\n",
            "(445, 120)\n"
          ]
        }
      ]
    },
    {
      "cell_type": "code",
      "metadata": {
        "colab": {
          "base_uri": "https://localhost:8080/"
        },
        "id": "dN7JrxnlhCMU",
        "outputId": "a90ac572-751c-4439-bdce-e6b5e9e125ab"
      },
      "source": [
        "training_padded[0]"
      ],
      "execution_count": 17,
      "outputs": [
        {
          "output_type": "execute_result",
          "data": {
            "text/plain": [
              "array([  99,  170, 1157, 1121,   55,  993,  771,    1,   97, 1319, 4305,\n",
              "        139,  186, 3668, 1230, 1211, 1589,   48,    9,  907,   99,    4,\n",
              "          1,  347,   93,   24,   17,  140, 3276, 1231, 2436,  585,  465,\n",
              "       1392,   65, 3393, 3536, 1674,   10,  935,    4,  745,   12,  858,\n",
              "          1,   11,  613, 1590, 1122,  408,    4, 1954, 1121,  746,   55,\n",
              "        552, 1414, 2025, 1635,  144,  262,  123, 2370,  809, 4995,  994,\n",
              "        599,   12, 3970, 3971,  935, 2577,  139,  357,  186, 3668,    1,\n",
              "          1,   45,   69, 2882,   34,   11,    2, 4738,   22,    2, 1320,\n",
              "        146,  429,    9,  153, 1439,   79, 4518,  449, 4996,   99, 1122,\n",
              "         85,    1,   90, 2026,   60,    1,   99,    8, 1022,  614,   97,\n",
              "       1319,   99, 1977,  141,  147,  433,   11, 2883,   44,   56],\n",
              "      dtype=int32)"
            ]
          },
          "metadata": {},
          "execution_count": 17
        }
      ]
    },
    {
      "cell_type": "code",
      "metadata": {
        "colab": {
          "base_uri": "https://localhost:8080/"
        },
        "id": "xpnuF-3rhY1k",
        "outputId": "7f25555c-2253-4496-ad8e-ffda4ff85e87"
      },
      "source": [
        "training_labels[:5]"
      ],
      "execution_count": 18,
      "outputs": [
        {
          "output_type": "execute_result",
          "data": {
            "text/plain": [
              "['tech', 'business', 'sport', 'sport', 'entertainment']"
            ]
          },
          "metadata": {},
          "execution_count": 18
        }
      ]
    },
    {
      "cell_type": "code",
      "metadata": {
        "colab": {
          "base_uri": "https://localhost:8080/"
        },
        "id": "x_jvZh3RsNcA",
        "outputId": "efc93af1-8aab-4598-f3fc-779eee3b247b"
      },
      "source": [
        "label_tokenizer = Tokenizer()\n",
        "label_tokenizer.fit_on_texts(labels)\n",
        "\n",
        "training_label_seq = np.array(label_tokenizer.texts_to_sequences(training_labels))\n",
        "testing_label_seq = np.array(label_tokenizer.texts_to_sequences(testing_labels))\n",
        "\n",
        "print(training_label_seq[0])\n",
        "print(training_label_seq[1])\n",
        "print(training_label_seq[2])\n",
        "print(training_label_seq[3])\n",
        "print(training_label_seq[4])\n",
        "print(training_label_seq.shape)\n",
        "\n",
        "print(testing_label_seq[0])\n",
        "print(testing_label_seq[1])\n",
        "print(testing_label_seq[2])\n",
        "print(testing_label_seq[3])\n",
        "print(testing_label_seq[4])\n",
        "print(testing_label_seq.shape)"
      ],
      "execution_count": 19,
      "outputs": [
        {
          "output_type": "stream",
          "name": "stdout",
          "text": [
            "[4]\n",
            "[2]\n",
            "[1]\n",
            "[1]\n",
            "[5]\n",
            "(1780, 1)\n",
            "[5]\n",
            "[4]\n",
            "[3]\n",
            "[1]\n",
            "[1]\n",
            "(445, 1)\n"
          ]
        }
      ]
    },
    {
      "cell_type": "code",
      "metadata": {
        "colab": {
          "base_uri": "https://localhost:8080/"
        },
        "id": "AuD21DxEpCKT",
        "outputId": "3581031a-52b6-455c-97f7-be0e23f3af8c"
      },
      "source": [
        "np.unique(training_label_seq)"
      ],
      "execution_count": 20,
      "outputs": [
        {
          "output_type": "execute_result",
          "data": {
            "text/plain": [
              "array([1, 2, 3, 4, 5])"
            ]
          },
          "metadata": {},
          "execution_count": 20
        }
      ]
    },
    {
      "cell_type": "code",
      "metadata": {
        "id": "1DM-XNOWmaEb"
      },
      "source": [
        "# changing labels (1 to 5) -> (0 to 4)\n",
        "\n",
        "training_label_seq = training_label_seq-1\n",
        "testing_label_seq = testing_label_seq-1"
      ],
      "execution_count": 21,
      "outputs": []
    },
    {
      "cell_type": "code",
      "metadata": {
        "colab": {
          "base_uri": "https://localhost:8080/"
        },
        "id": "v3Ub4dorpTi3",
        "outputId": "eafa43ee-9c0c-4357-8663-e27228cb9712"
      },
      "source": [
        "np.unique(training_label_seq)"
      ],
      "execution_count": 22,
      "outputs": [
        {
          "output_type": "execute_result",
          "data": {
            "text/plain": [
              "array([0, 1, 2, 3, 4])"
            ]
          },
          "metadata": {},
          "execution_count": 22
        }
      ]
    },
    {
      "cell_type": "code",
      "metadata": {
        "colab": {
          "base_uri": "https://localhost:8080/"
        },
        "id": "vQf2TlXQfaO_",
        "outputId": "830d7423-114c-4777-999a-bc49b8119a76"
      },
      "source": [
        "df['category'].unique()"
      ],
      "execution_count": 23,
      "outputs": [
        {
          "output_type": "execute_result",
          "data": {
            "text/plain": [
              "array(['tech', 'business', 'sport', 'entertainment', 'politics'],\n",
              "      dtype=object)"
            ]
          },
          "metadata": {},
          "execution_count": 23
        }
      ]
    },
    {
      "cell_type": "code",
      "metadata": {
        "colab": {
          "base_uri": "https://localhost:8080/"
        },
        "id": "wysBv7k9h2DY",
        "outputId": "5fa02214-3e04-4c9d-a326-a8a23745a9b8"
      },
      "source": [
        "len(df['category'].unique())"
      ],
      "execution_count": 24,
      "outputs": [
        {
          "output_type": "execute_result",
          "data": {
            "text/plain": [
              "5"
            ]
          },
          "metadata": {},
          "execution_count": 24
        }
      ]
    },
    {
      "cell_type": "code",
      "metadata": {
        "id": "T091SIhXxmBG"
      },
      "source": [
        "NUM_CLASSES = 5"
      ],
      "execution_count": 25,
      "outputs": []
    },
    {
      "cell_type": "code",
      "metadata": {
        "id": "cbYyAD3YxmBH"
      },
      "source": [
        "model = Sequential([\n",
        "    layers.Embedding(input_dim=VOCAB_SIZE, output_dim=EMBED_DIM, input_length=MAX_LEN),\n",
        "    layers.GlobalAveragePooling1D(),                              # or use Flatten\n",
        "    layers.Dense(24, activation='relu'),\n",
        "    layers.Dense(16, activation='relu'),\n",
        "    layers.Dropout(0.3),\n",
        "    layers.Dense(NUM_CLASSES, activation='softmax')\n",
        "])"
      ],
      "execution_count": 26,
      "outputs": []
    },
    {
      "cell_type": "code",
      "metadata": {
        "colab": {
          "base_uri": "https://localhost:8080/"
        },
        "id": "goiV7IoBxmBI",
        "outputId": "acbca8dd-176d-42cc-c15e-a15d317a7202"
      },
      "source": [
        "model.summary()"
      ],
      "execution_count": 27,
      "outputs": [
        {
          "output_type": "stream",
          "name": "stdout",
          "text": [
            "Model: \"sequential\"\n",
            "_________________________________________________________________\n",
            " Layer (type)                Output Shape              Param #   \n",
            "=================================================================\n",
            " embedding (Embedding)       (None, 120, 32)           160000    \n",
            "                                                                 \n",
            " global_average_pooling1d (G  (None, 32)               0         \n",
            " lobalAveragePooling1D)                                          \n",
            "                                                                 \n",
            " dense (Dense)               (None, 24)                792       \n",
            "                                                                 \n",
            " dense_1 (Dense)             (None, 16)                400       \n",
            "                                                                 \n",
            " dropout (Dropout)           (None, 16)                0         \n",
            "                                                                 \n",
            " dense_2 (Dense)             (None, 5)                 85        \n",
            "                                                                 \n",
            "=================================================================\n",
            "Total params: 161,277\n",
            "Trainable params: 161,277\n",
            "Non-trainable params: 0\n",
            "_________________________________________________________________\n"
          ]
        }
      ]
    },
    {
      "cell_type": "code",
      "metadata": {
        "id": "slc6wFANxmBI"
      },
      "source": [
        "optimizer   = tf.keras.optimizers.Adam(learning_rate=1e-6)\n",
        "loss        = tf.keras.losses.SparseCategoricalCrossentropy()\n",
        "metrics     = ['accuracy']"
      ],
      "execution_count": 28,
      "outputs": []
    },
    {
      "cell_type": "code",
      "metadata": {
        "id": "kiEwApotxmBK"
      },
      "source": [
        "model.compile(optimizer=optimizer,\n",
        "              loss=loss,\n",
        "              metrics=metrics)"
      ],
      "execution_count": 29,
      "outputs": []
    },
    {
      "cell_type": "code",
      "metadata": {
        "id": "nuF_K9X6nFAG"
      },
      "source": [
        "lr_schedule = LearningRateScheduler(lambda epoch: 1e-6 * 10**(epoch / 10))"
      ],
      "execution_count": 30,
      "outputs": []
    },
    {
      "cell_type": "code",
      "metadata": {
        "id": "tiejAojExmBJ"
      },
      "source": [
        "model_checkpoint  = ModelCheckpoint(monitor='val_loss', filepath='./best_model.h5', save_best_only=True)"
      ],
      "execution_count": 31,
      "outputs": []
    },
    {
      "cell_type": "code",
      "metadata": {
        "id": "pjhCBi-OxmBJ"
      },
      "source": [
        "EPOCHS = 60\n",
        "CALLBACKS = [lr_schedule, model_checkpoint]"
      ],
      "execution_count": 32,
      "outputs": []
    },
    {
      "cell_type": "code",
      "metadata": {
        "colab": {
          "base_uri": "https://localhost:8080/"
        },
        "id": "YuTrnYgNxmBK",
        "outputId": "2470918a-5088-4dce-d82e-dc969960af3b"
      },
      "source": [
        "history = model.fit(training_padded,\n",
        "                    training_label_seq,\n",
        "                    validation_data=(testing_padded, testing_label_seq),\n",
        "                    verbose = 1,\n",
        "                    epochs = EPOCHS,\n",
        "                    callbacks = CALLBACKS)"
      ],
      "execution_count": 33,
      "outputs": [
        {
          "output_type": "stream",
          "name": "stdout",
          "text": [
            "Epoch 1/60\n",
            "56/56 [==============================] - 1s 11ms/step - loss: 1.6092 - accuracy: 0.1978 - val_loss: 1.6096 - val_accuracy: 0.1730 - lr: 1.0000e-06\n",
            "Epoch 2/60\n",
            "56/56 [==============================] - 0s 8ms/step - loss: 1.6091 - accuracy: 0.2028 - val_loss: 1.6095 - val_accuracy: 0.1730 - lr: 1.2589e-06\n",
            "Epoch 3/60\n",
            "56/56 [==============================] - 0s 7ms/step - loss: 1.6091 - accuracy: 0.1983 - val_loss: 1.6095 - val_accuracy: 0.1753 - lr: 1.5849e-06\n",
            "Epoch 4/60\n",
            "56/56 [==============================] - 0s 8ms/step - loss: 1.6091 - accuracy: 0.2028 - val_loss: 1.6094 - val_accuracy: 0.1753 - lr: 1.9953e-06\n",
            "Epoch 5/60\n",
            "56/56 [==============================] - 0s 8ms/step - loss: 1.6091 - accuracy: 0.2017 - val_loss: 1.6094 - val_accuracy: 0.1775 - lr: 2.5119e-06\n",
            "Epoch 6/60\n",
            "56/56 [==============================] - 0s 8ms/step - loss: 1.6090 - accuracy: 0.2028 - val_loss: 1.6093 - val_accuracy: 0.1775 - lr: 3.1623e-06\n",
            "Epoch 7/60\n",
            "56/56 [==============================] - 0s 7ms/step - loss: 1.6088 - accuracy: 0.2096 - val_loss: 1.6092 - val_accuracy: 0.1910 - lr: 3.9811e-06\n",
            "Epoch 8/60\n",
            "56/56 [==============================] - 0s 7ms/step - loss: 1.6087 - accuracy: 0.2112 - val_loss: 1.6091 - val_accuracy: 0.1978 - lr: 5.0119e-06\n",
            "Epoch 9/60\n",
            "56/56 [==============================] - 0s 7ms/step - loss: 1.6085 - accuracy: 0.2202 - val_loss: 1.6089 - val_accuracy: 0.2045 - lr: 6.3096e-06\n",
            "Epoch 10/60\n",
            "56/56 [==============================] - 0s 8ms/step - loss: 1.6082 - accuracy: 0.2242 - val_loss: 1.6087 - val_accuracy: 0.2180 - lr: 7.9433e-06\n",
            "Epoch 11/60\n",
            "56/56 [==============================] - 0s 8ms/step - loss: 1.6081 - accuracy: 0.2253 - val_loss: 1.6084 - val_accuracy: 0.2180 - lr: 1.0000e-05\n",
            "Epoch 12/60\n",
            "56/56 [==============================] - 0s 7ms/step - loss: 1.6078 - accuracy: 0.2376 - val_loss: 1.6080 - val_accuracy: 0.2427 - lr: 1.2589e-05\n",
            "Epoch 13/60\n",
            "56/56 [==============================] - 0s 7ms/step - loss: 1.6071 - accuracy: 0.2449 - val_loss: 1.6075 - val_accuracy: 0.2719 - lr: 1.5849e-05\n",
            "Epoch 14/60\n",
            "56/56 [==============================] - 0s 8ms/step - loss: 1.6063 - accuracy: 0.2691 - val_loss: 1.6069 - val_accuracy: 0.2831 - lr: 1.9953e-05\n",
            "Epoch 15/60\n",
            "56/56 [==============================] - 0s 7ms/step - loss: 1.6054 - accuracy: 0.2787 - val_loss: 1.6059 - val_accuracy: 0.2989 - lr: 2.5119e-05\n",
            "Epoch 16/60\n",
            "56/56 [==============================] - 0s 7ms/step - loss: 1.6041 - accuracy: 0.3000 - val_loss: 1.6044 - val_accuracy: 0.3213 - lr: 3.1623e-05\n",
            "Epoch 17/60\n",
            "56/56 [==============================] - 0s 8ms/step - loss: 1.6019 - accuracy: 0.3337 - val_loss: 1.6020 - val_accuracy: 0.3955 - lr: 3.9811e-05\n",
            "Epoch 18/60\n",
            "56/56 [==============================] - 0s 7ms/step - loss: 1.5985 - accuracy: 0.3831 - val_loss: 1.5983 - val_accuracy: 0.4382 - lr: 5.0119e-05\n",
            "Epoch 19/60\n",
            "56/56 [==============================] - 0s 8ms/step - loss: 1.5930 - accuracy: 0.4410 - val_loss: 1.5923 - val_accuracy: 0.4944 - lr: 6.3096e-05\n",
            "Epoch 20/60\n",
            "56/56 [==============================] - 0s 8ms/step - loss: 1.5836 - accuracy: 0.4843 - val_loss: 1.5822 - val_accuracy: 0.5124 - lr: 7.9433e-05\n",
            "Epoch 21/60\n",
            "56/56 [==============================] - 0s 8ms/step - loss: 1.5678 - accuracy: 0.5225 - val_loss: 1.5644 - val_accuracy: 0.5213 - lr: 1.0000e-04\n",
            "Epoch 22/60\n",
            "56/56 [==============================] - 0s 8ms/step - loss: 1.5388 - accuracy: 0.5298 - val_loss: 1.5302 - val_accuracy: 0.5416 - lr: 1.2589e-04\n",
            "Epoch 23/60\n",
            "56/56 [==============================] - 0s 7ms/step - loss: 1.4857 - accuracy: 0.5517 - val_loss: 1.4653 - val_accuracy: 0.5573 - lr: 1.5849e-04\n",
            "Epoch 24/60\n",
            "56/56 [==============================] - 0s 8ms/step - loss: 1.3842 - accuracy: 0.5685 - val_loss: 1.3444 - val_accuracy: 0.5685 - lr: 1.9953e-04\n",
            "Epoch 25/60\n",
            "56/56 [==============================] - 0s 8ms/step - loss: 1.2182 - accuracy: 0.5955 - val_loss: 1.1630 - val_accuracy: 0.5843 - lr: 2.5119e-04\n",
            "Epoch 26/60\n",
            "56/56 [==============================] - 0s 7ms/step - loss: 1.0251 - accuracy: 0.6129 - val_loss: 0.9728 - val_accuracy: 0.6090 - lr: 3.1623e-04\n",
            "Epoch 27/60\n",
            "56/56 [==============================] - 0s 7ms/step - loss: 0.8515 - accuracy: 0.6624 - val_loss: 0.8162 - val_accuracy: 0.6697 - lr: 3.9811e-04\n",
            "Epoch 28/60\n",
            "56/56 [==============================] - 0s 7ms/step - loss: 0.6804 - accuracy: 0.7365 - val_loss: 0.6682 - val_accuracy: 0.7371 - lr: 5.0119e-04\n",
            "Epoch 29/60\n",
            "56/56 [==============================] - 0s 8ms/step - loss: 0.5243 - accuracy: 0.8253 - val_loss: 0.5089 - val_accuracy: 0.8494 - lr: 6.3096e-04\n",
            "Epoch 30/60\n",
            "56/56 [==============================] - 0s 8ms/step - loss: 0.3820 - accuracy: 0.8933 - val_loss: 0.3763 - val_accuracy: 0.8989 - lr: 7.9433e-04\n",
            "Epoch 31/60\n",
            "56/56 [==============================] - 0s 7ms/step - loss: 0.2507 - accuracy: 0.9281 - val_loss: 0.2791 - val_accuracy: 0.9169 - lr: 0.0010\n",
            "Epoch 32/60\n",
            "56/56 [==============================] - 0s 7ms/step - loss: 0.1684 - accuracy: 0.9584 - val_loss: 0.2614 - val_accuracy: 0.9146 - lr: 0.0013\n",
            "Epoch 33/60\n",
            "56/56 [==============================] - 0s 7ms/step - loss: 0.1047 - accuracy: 0.9803 - val_loss: 0.2486 - val_accuracy: 0.9191 - lr: 0.0016\n",
            "Epoch 34/60\n",
            "56/56 [==============================] - 0s 7ms/step - loss: 0.0853 - accuracy: 0.9854 - val_loss: 0.2951 - val_accuracy: 0.9146 - lr: 0.0020\n",
            "Epoch 35/60\n",
            "56/56 [==============================] - 0s 7ms/step - loss: 0.0573 - accuracy: 0.9876 - val_loss: 0.2919 - val_accuracy: 0.9146 - lr: 0.0025\n",
            "Epoch 36/60\n",
            "56/56 [==============================] - 0s 7ms/step - loss: 0.0439 - accuracy: 0.9899 - val_loss: 0.4532 - val_accuracy: 0.8944 - lr: 0.0032\n",
            "Epoch 37/60\n",
            "56/56 [==============================] - 0s 7ms/step - loss: 0.0451 - accuracy: 0.9882 - val_loss: 0.3526 - val_accuracy: 0.9191 - lr: 0.0040\n",
            "Epoch 38/60\n",
            "56/56 [==============================] - 0s 7ms/step - loss: 0.0412 - accuracy: 0.9882 - val_loss: 0.6021 - val_accuracy: 0.8899 - lr: 0.0050\n",
            "Epoch 39/60\n",
            "56/56 [==============================] - 0s 7ms/step - loss: 0.0409 - accuracy: 0.9882 - val_loss: 0.3805 - val_accuracy: 0.9281 - lr: 0.0063\n",
            "Epoch 40/60\n",
            "56/56 [==============================] - 0s 6ms/step - loss: 0.0537 - accuracy: 0.9860 - val_loss: 0.3965 - val_accuracy: 0.9326 - lr: 0.0079\n",
            "Epoch 41/60\n",
            "56/56 [==============================] - 0s 7ms/step - loss: 0.1022 - accuracy: 0.9713 - val_loss: 0.6038 - val_accuracy: 0.9011 - lr: 0.0100\n",
            "Epoch 42/60\n",
            "56/56 [==============================] - 0s 7ms/step - loss: 0.1168 - accuracy: 0.9708 - val_loss: 0.5380 - val_accuracy: 0.9213 - lr: 0.0126\n",
            "Epoch 43/60\n",
            "56/56 [==============================] - 0s 7ms/step - loss: 0.0629 - accuracy: 0.9843 - val_loss: 0.6127 - val_accuracy: 0.9213 - lr: 0.0158\n",
            "Epoch 44/60\n",
            "56/56 [==============================] - 0s 7ms/step - loss: 0.0673 - accuracy: 0.9815 - val_loss: 1.0055 - val_accuracy: 0.9011 - lr: 0.0200\n",
            "Epoch 45/60\n",
            "56/56 [==============================] - 0s 7ms/step - loss: 0.1220 - accuracy: 0.9713 - val_loss: 0.4263 - val_accuracy: 0.9169 - lr: 0.0251\n",
            "Epoch 46/60\n",
            "56/56 [==============================] - 0s 8ms/step - loss: 0.1407 - accuracy: 0.9652 - val_loss: 0.5247 - val_accuracy: 0.9146 - lr: 0.0316\n",
            "Epoch 47/60\n",
            "56/56 [==============================] - 0s 7ms/step - loss: 0.2067 - accuracy: 0.9472 - val_loss: 0.4743 - val_accuracy: 0.9258 - lr: 0.0398\n",
            "Epoch 48/60\n",
            "56/56 [==============================] - 0s 7ms/step - loss: 0.3576 - accuracy: 0.9315 - val_loss: 1.1206 - val_accuracy: 0.8000 - lr: 0.0501\n",
            "Epoch 49/60\n",
            "56/56 [==============================] - 0s 8ms/step - loss: 0.8046 - accuracy: 0.7539 - val_loss: 0.6864 - val_accuracy: 0.8045 - lr: 0.0631\n",
            "Epoch 50/60\n",
            "56/56 [==============================] - 0s 7ms/step - loss: 0.7369 - accuracy: 0.8006 - val_loss: 1.1912 - val_accuracy: 0.8652 - lr: 0.0794\n",
            "Epoch 51/60\n",
            "56/56 [==============================] - 0s 7ms/step - loss: 1.3941 - accuracy: 0.6416 - val_loss: 1.4123 - val_accuracy: 0.4090 - lr: 0.1000\n",
            "Epoch 52/60\n",
            "56/56 [==============================] - 0s 7ms/step - loss: 1.4872 - accuracy: 0.2927 - val_loss: 1.5764 - val_accuracy: 0.2831 - lr: 0.1259\n",
            "Epoch 53/60\n",
            "56/56 [==============================] - 0s 7ms/step - loss: 1.6340 - accuracy: 0.2298 - val_loss: 1.6128 - val_accuracy: 0.2404 - lr: 0.1585\n",
            "Epoch 54/60\n",
            "56/56 [==============================] - 0s 7ms/step - loss: 1.6328 - accuracy: 0.2135 - val_loss: 1.6171 - val_accuracy: 0.2292 - lr: 0.1995\n",
            "Epoch 55/60\n",
            "56/56 [==============================] - 0s 7ms/step - loss: 1.6226 - accuracy: 0.2253 - val_loss: 1.6078 - val_accuracy: 0.2404 - lr: 0.2512\n",
            "Epoch 56/60\n",
            "56/56 [==============================] - 0s 7ms/step - loss: 1.6271 - accuracy: 0.2157 - val_loss: 1.6374 - val_accuracy: 0.2404 - lr: 0.3162\n",
            "Epoch 57/60\n",
            "56/56 [==============================] - 0s 7ms/step - loss: 1.6544 - accuracy: 0.2051 - val_loss: 1.6426 - val_accuracy: 0.1933 - lr: 0.3981\n",
            "Epoch 58/60\n",
            "56/56 [==============================] - 0s 7ms/step - loss: 1.6372 - accuracy: 0.2101 - val_loss: 1.6242 - val_accuracy: 0.2404 - lr: 0.5012\n",
            "Epoch 59/60\n",
            "56/56 [==============================] - 0s 7ms/step - loss: 1.6464 - accuracy: 0.1989 - val_loss: 1.6181 - val_accuracy: 0.2404 - lr: 0.6310\n",
            "Epoch 60/60\n",
            "56/56 [==============================] - 0s 7ms/step - loss: 1.7006 - accuracy: 0.2135 - val_loss: 1.6718 - val_accuracy: 0.1933 - lr: 0.7943\n"
          ]
        }
      ]
    },
    {
      "cell_type": "code",
      "metadata": {
        "colab": {
          "base_uri": "https://localhost:8080/",
          "height": 580
        },
        "id": "FWzwri64ijRa",
        "outputId": "f86f1d10-aeca-4ec3-931b-34572ce66c02"
      },
      "source": [
        "acc      = history.history['accuracy']\n",
        "val_acc  = history.history['val_accuracy']\n",
        "\n",
        "epochs   = range(len(acc))\n",
        "\n",
        "plt.plot(epochs, acc, 'r', label = 'Training')\n",
        "plt.plot(epochs, val_acc, 'b', label = 'Validation')\n",
        "plt.title('Training and Validation Accuracy')\n",
        "plt.legend()\n",
        "plt.figure()\n",
        "\n",
        "loss     = history.history['loss']\n",
        "val_loss = history.history['val_loss']\n",
        "\n",
        "epochs   = range(len(loss))\n",
        "\n",
        "plt.plot(epochs, loss, 'r', label = 'Training')\n",
        "plt.plot(epochs, val_loss, 'b', label = 'Validation')\n",
        "plt.title('Training and Validation Loss')\n",
        "plt.legend()\n",
        "plt.figure()"
      ],
      "execution_count": 34,
      "outputs": [
        {
          "output_type": "execute_result",
          "data": {
            "text/plain": [
              "<Figure size 432x288 with 0 Axes>"
            ]
          },
          "metadata": {},
          "execution_count": 34
        },
        {
          "output_type": "display_data",
          "data": {
            "image/png": "[encoded data removed]",
            "text/plain": [
              "<Figure size 432x288 with 1 Axes>"
            ]
          },
          "metadata": {
            "needs_background": "light"
          }
        },
        {
          "output_type": "display_data",
          "data": {
            "image/png": "[encoded data removed]",
            "text/plain": [
              "<Figure size 432x288 with 1 Axes>"
            ]
          },
          "metadata": {
            "needs_background": "light"
          }
        },
        {
          "output_type": "display_data",
          "data": {
            "text/plain": [
              "<Figure size 432x288 with 0 Axes>"
            ]
          },
          "metadata": {}
        }
      ]
    },
    {
      "cell_type": "code",
      "metadata": {
        "colab": {
          "base_uri": "https://localhost:8080/",
          "height": 291
        },
        "id": "yk6wtW6QuHDQ",
        "outputId": "a04801f3-54fd-4828-a1df-b6154ed8fca5"
      },
      "source": [
        "lrs = 1e-7 * (10 ** (np.arange(60) / 10))\n",
        "plt.semilogx(lrs, history.history[\"loss\"])\n",
        "plt.axis([1e-7, 1e-1, 0, 5])"
      ],
      "execution_count": 35,
      "outputs": [
        {
          "output_type": "execute_result",
          "data": {
            "text/plain": [
              "(1e-07, 0.1, 0.0, 5.0)"
            ]
          },
          "metadata": {},
          "execution_count": 35
        },
        {
          "output_type": "display_data",
          "data": {
            "image/png": "[encoded data removed]",
            "text/plain": [
              "<Figure size 432x288 with 1 Axes>"
            ]
          },
          "metadata": {
            "needs_background": "light"
          }
        }
      ]
    },
    {
      "cell_type": "code",
      "metadata": {
        "colab": {
          "base_uri": "https://localhost:8080/"
        },
        "id": "MHC20xk5p2RF",
        "outputId": "2707bac0-4f63-49c2-dd40-3612b7f405b3"
      },
      "source": [
        "history.history['lr']"
      ],
      "execution_count": 36,
      "outputs": [
        {
          "output_type": "execute_result",
          "data": {
            "text/plain": [
              "[1e-06,\n",
              " 1.2589254e-06,\n",
              " 1.5848932e-06,\n",
              " 1.9952622e-06,\n",
              " 2.5118864e-06,\n",
              " 3.1622776e-06,\n",
              " 3.9810716e-06,\n",
              " 5.0118724e-06,\n",
              " 6.3095736e-06,\n",
              " 7.943282e-06,\n",
              " 1e-05,\n",
              " 1.2589254e-05,\n",
              " 1.5848931e-05,\n",
              " 1.9952624e-05,\n",
              " 2.5118865e-05,\n",
              " 3.1622778e-05,\n",
              " 3.981072e-05,\n",
              " 5.0118724e-05,\n",
              " 6.309574e-05,\n",
              " 7.943282e-05,\n",
              " 1e-04,\n",
              " 0.00012589255,\n",
              " 0.00015848932,\n",
              " 0.00019952623,\n",
              " 0.00025118864,\n",
              " 0.00031622776,\n",
              " 0.00039810716,\n",
              " 0.0005011872,\n",
              " 0.00063095737,\n",
              " 0.0007943282,\n",
              " 0.001,\n",
              " 0.0012589254,\n",
              " 0.0015848932,\n",
              " 0.0019952622,\n",
              " 0.0025118864,\n",
              " 0.0031622776,\n",
              " 0.0039810715,\n",
              " 0.0050118724,\n",
              " 0.0063095735,\n",
              " 0.007943282,\n",
              " 0.01,\n",
              " 0.012589254,\n",
              " 0.015848933,\n",
              " 0.019952623,\n",
              " 0.025118865,\n",
              " 0.031622775,\n",
              " 0.039810717,\n",
              " 0.050118722,\n",
              " 0.06309573,\n",
              " 0.07943282,\n",
              " 0.1,\n",
              " 0.12589253,\n",
              " 0.15848932,\n",
              " 0.19952624,\n",
              " 0.25118864,\n",
              " 0.31622776,\n",
              " 0.39810717,\n",
              " 0.5011872,\n",
              " 0.63095737,\n",
              " 0.7943282]"
            ]
          },
          "metadata": {},
          "execution_count": 36
        }
      ]
    },
    {
      "cell_type": "code",
      "metadata": {
        "colab": {
          "base_uri": "https://localhost:8080/"
        },
        "id": "zRex5iY5p56c",
        "outputId": "a82f79f1-b3c0-4e4f-f60e-b72d6b49a1cb"
      },
      "source": [
        "history.history['val_accuracy']"
      ],
      "execution_count": 37,
      "outputs": [
        {
          "output_type": "execute_result",
          "data": {
            "text/plain": [
              "[0.1730337142944336,\n",
              " 0.1730337142944336,\n",
              " 0.17528089880943298,\n",
              " 0.17528089880943298,\n",
              " 0.17752808332443237,\n",
              " 0.17752808332443237,\n",
              " 0.1910112351179123,\n",
              " 0.19775280356407166,\n",
              " 0.2044943869113922,\n",
              " 0.21797752380371094,\n",
              " 0.21797752380371094,\n",
              " 0.2426966279745102,\n",
              " 0.2719101011753082,\n",
              " 0.28314605355262756,\n",
              " 0.29887640476226807,\n",
              " 0.32134830951690674,\n",
              " 0.3955056071281433,\n",
              " 0.43820226192474365,\n",
              " 0.49438202381134033,\n",
              " 0.5123595595359802,\n",
              " 0.5213482975959778,\n",
              " 0.5415730476379395,\n",
              " 0.5573033690452576,\n",
              " 0.5685393214225769,\n",
              " 0.584269642829895,\n",
              " 0.6089887619018555,\n",
              " 0.6696628928184509,\n",
              " 0.7370786666870117,\n",
              " 0.8494381904602051,\n",
              " 0.898876428604126,\n",
              " 0.9168539047241211,\n",
              " 0.9146067500114441,\n",
              " 0.9191011190414429,\n",
              " 0.9146067500114441,\n",
              " 0.9146067500114441,\n",
              " 0.8943819999694824,\n",
              " 0.9191011190414429,\n",
              " 0.8898876309394836,\n",
              " 0.9280899167060852,\n",
              " 0.932584285736084,\n",
              " 0.901123583316803,\n",
              " 0.9213483333587646,\n",
              " 0.9213483333587646,\n",
              " 0.901123583316803,\n",
              " 0.9168539047241211,\n",
              " 0.9146067500114441,\n",
              " 0.9258427023887634,\n",
              " 0.800000011920929,\n",
              " 0.8044943809509277,\n",
              " 0.8651685118675232,\n",
              " 0.4089887738227844,\n",
              " 0.28314605355262756,\n",
              " 0.2404494434595108,\n",
              " 0.22921347618103027,\n",
              " 0.2404494434595108,\n",
              " 0.2404494434595108,\n",
              " 0.19325841963291168,\n",
              " 0.2404494434595108,\n",
              " 0.2404494434595108,\n",
              " 0.19325841963291168]"
            ]
          },
          "metadata": {},
          "execution_count": 37
        }
      ]
    },
    {
      "cell_type": "code",
      "metadata": {
        "id": "FePDpCCVvN2T"
      },
      "source": [
        "model = Sequential([\n",
        "    layers.Embedding(input_dim=VOCAB_SIZE, output_dim=EMBED_DIM, input_length=MAX_LEN),\n",
        "    layers.GlobalAveragePooling1D(),                              # or use Flatten\n",
        "    layers.Dense(24, activation='relu'),\n",
        "    layers.Dense(16, activation='relu'),\n",
        "    layers.Dropout(0.3),\n",
        "    layers.Dense(NUM_CLASSES, activation='softmax')\n",
        "])"
      ],
      "execution_count": 38,
      "outputs": []
    },
    {
      "cell_type": "code",
      "metadata": {
        "id": "aka2cppBvN2U"
      },
      "source": [
        "optimizer   = tf.keras.optimizers.Adam(learning_rate=5e-4)\n",
        "loss        = tf.keras.losses.SparseCategoricalCrossentropy()\n",
        "metrics     = ['accuracy']"
      ],
      "execution_count": 39,
      "outputs": []
    },
    {
      "cell_type": "code",
      "metadata": {
        "id": "bct2tJrnvN2U"
      },
      "source": [
        "model.compile(optimizer=optimizer,\n",
        "              loss=loss,\n",
        "              metrics=metrics)"
      ],
      "execution_count": 40,
      "outputs": []
    },
    {
      "cell_type": "code",
      "metadata": {
        "id": "f74tadLOvN2W"
      },
      "source": [
        "early_stopping    = EarlyStopping(monitor='val_loss', patience=15)\n",
        "model_checkpoint  = ModelCheckpoint(monitor='val_loss', filepath='./best_model.h5', save_best_only=True)"
      ],
      "execution_count": 41,
      "outputs": []
    },
    {
      "cell_type": "code",
      "metadata": {
        "id": "yDGK2u5nvN2W"
      },
      "source": [
        "EPOCHS = 60\n",
        "CALLBACKS = [early_stopping, model_checkpoint]"
      ],
      "execution_count": 42,
      "outputs": []
    },
    {
      "cell_type": "code",
      "metadata": {
        "colab": {
          "base_uri": "https://localhost:8080/"
        },
        "id": "_2GNxyvxvN2W",
        "outputId": "df6616fb-9bc0-4406-ac5c-6c14542772fe"
      },
      "source": [
        "history = model.fit(training_padded,\n",
        "                    training_label_seq,\n",
        "                    validation_data=(testing_padded, testing_label_seq),\n",
        "                    verbose = 1,\n",
        "                    epochs = EPOCHS,\n",
        "                    callbacks = CALLBACKS)"
      ],
      "execution_count": 43,
      "outputs": [
        {
          "output_type": "stream",
          "name": "stdout",
          "text": [
            "Epoch 1/60\n",
            "56/56 [==============================] - 1s 11ms/step - loss: 1.6002 - accuracy: 0.2320 - val_loss: 1.5822 - val_accuracy: 0.2270\n",
            "Epoch 2/60\n",
            "56/56 [==============================] - 0s 7ms/step - loss: 1.5462 - accuracy: 0.3096 - val_loss: 1.5021 - val_accuracy: 0.3236\n",
            "Epoch 3/60\n",
            "56/56 [==============================] - 0s 8ms/step - loss: 1.4192 - accuracy: 0.4455 - val_loss: 1.3375 - val_accuracy: 0.5528\n",
            "Epoch 4/60\n",
            "56/56 [==============================] - 0s 7ms/step - loss: 1.2256 - accuracy: 0.5567 - val_loss: 1.1394 - val_accuracy: 0.6000\n",
            "Epoch 5/60\n",
            "56/56 [==============================] - 0s 7ms/step - loss: 1.0286 - accuracy: 0.5933 - val_loss: 0.9533 - val_accuracy: 0.6360\n",
            "Epoch 6/60\n",
            "56/56 [==============================] - 0s 7ms/step - loss: 0.8604 - accuracy: 0.6483 - val_loss: 0.7945 - val_accuracy: 0.7101\n",
            "Epoch 7/60\n",
            "56/56 [==============================] - 0s 8ms/step - loss: 0.7444 - accuracy: 0.7124 - val_loss: 0.6659 - val_accuracy: 0.8000\n",
            "Epoch 8/60\n",
            "56/56 [==============================] - 0s 7ms/step - loss: 0.6369 - accuracy: 0.7382 - val_loss: 0.5701 - val_accuracy: 0.8135\n",
            "Epoch 9/60\n",
            "56/56 [==============================] - 0s 8ms/step - loss: 0.5590 - accuracy: 0.7612 - val_loss: 0.4984 - val_accuracy: 0.8315\n",
            "Epoch 10/60\n",
            "56/56 [==============================] - 0s 8ms/step - loss: 0.4998 - accuracy: 0.7876 - val_loss: 0.4420 - val_accuracy: 0.8449\n",
            "Epoch 11/60\n",
            "56/56 [==============================] - 0s 7ms/step - loss: 0.4520 - accuracy: 0.8185 - val_loss: 0.3984 - val_accuracy: 0.8876\n",
            "Epoch 12/60\n",
            "56/56 [==============================] - 0s 8ms/step - loss: 0.4007 - accuracy: 0.8742 - val_loss: 0.3569 - val_accuracy: 0.9281\n",
            "Epoch 13/60\n",
            "56/56 [==============================] - 0s 8ms/step - loss: 0.3606 - accuracy: 0.8770 - val_loss: 0.3226 - val_accuracy: 0.9371\n",
            "Epoch 14/60\n",
            "56/56 [==============================] - 0s 7ms/step - loss: 0.3264 - accuracy: 0.8978 - val_loss: 0.2919 - val_accuracy: 0.9416\n",
            "Epoch 15/60\n",
            "56/56 [==============================] - 0s 7ms/step - loss: 0.2817 - accuracy: 0.9011 - val_loss: 0.2638 - val_accuracy: 0.9483\n",
            "Epoch 16/60\n",
            "56/56 [==============================] - 0s 8ms/step - loss: 0.2615 - accuracy: 0.8949 - val_loss: 0.2488 - val_accuracy: 0.9483\n",
            "Epoch 17/60\n",
            "56/56 [==============================] - 0s 8ms/step - loss: 0.2462 - accuracy: 0.8966 - val_loss: 0.2297 - val_accuracy: 0.9506\n",
            "Epoch 18/60\n",
            "56/56 [==============================] - 0s 7ms/step - loss: 0.2205 - accuracy: 0.9079 - val_loss: 0.2138 - val_accuracy: 0.9483\n",
            "Epoch 19/60\n",
            "56/56 [==============================] - 0s 7ms/step - loss: 0.2066 - accuracy: 0.9124 - val_loss: 0.2026 - val_accuracy: 0.9483\n",
            "Epoch 20/60\n",
            "56/56 [==============================] - 0s 8ms/step - loss: 0.1864 - accuracy: 0.9169 - val_loss: 0.1976 - val_accuracy: 0.9461\n",
            "Epoch 21/60\n",
            "56/56 [==============================] - 0s 8ms/step - loss: 0.1726 - accuracy: 0.9281 - val_loss: 0.1972 - val_accuracy: 0.9438\n",
            "Epoch 22/60\n",
            "56/56 [==============================] - 0s 7ms/step - loss: 0.1657 - accuracy: 0.9309 - val_loss: 0.1880 - val_accuracy: 0.9483\n",
            "Epoch 23/60\n",
            "56/56 [==============================] - 0s 8ms/step - loss: 0.1628 - accuracy: 0.9303 - val_loss: 0.1850 - val_accuracy: 0.9438\n",
            "Epoch 24/60\n",
            "56/56 [==============================] - 0s 7ms/step - loss: 0.1459 - accuracy: 0.9455 - val_loss: 0.1828 - val_accuracy: 0.9438\n",
            "Epoch 25/60\n",
            "56/56 [==============================] - 0s 7ms/step - loss: 0.1489 - accuracy: 0.9416 - val_loss: 0.1844 - val_accuracy: 0.9438\n",
            "Epoch 26/60\n",
            "56/56 [==============================] - 0s 7ms/step - loss: 0.1474 - accuracy: 0.9410 - val_loss: 0.1865 - val_accuracy: 0.9416\n",
            "Epoch 27/60\n",
            "56/56 [==============================] - 0s 7ms/step - loss: 0.1186 - accuracy: 0.9528 - val_loss: 0.1856 - val_accuracy: 0.9506\n",
            "Epoch 28/60\n",
            "56/56 [==============================] - 0s 7ms/step - loss: 0.1364 - accuracy: 0.9421 - val_loss: 0.1865 - val_accuracy: 0.9461\n",
            "Epoch 29/60\n",
            "56/56 [==============================] - 0s 8ms/step - loss: 0.1304 - accuracy: 0.9483 - val_loss: 0.1826 - val_accuracy: 0.9483\n",
            "Epoch 30/60\n",
            "56/56 [==============================] - 0s 7ms/step - loss: 0.1094 - accuracy: 0.9612 - val_loss: 0.1774 - val_accuracy: 0.9506\n",
            "Epoch 31/60\n",
            "56/56 [==============================] - 0s 7ms/step - loss: 0.1171 - accuracy: 0.9506 - val_loss: 0.1792 - val_accuracy: 0.9551\n",
            "Epoch 32/60\n",
            "56/56 [==============================] - 0s 7ms/step - loss: 0.1075 - accuracy: 0.9528 - val_loss: 0.1827 - val_accuracy: 0.9551\n",
            "Epoch 33/60\n",
            "56/56 [==============================] - 0s 7ms/step - loss: 0.1177 - accuracy: 0.9478 - val_loss: 0.1785 - val_accuracy: 0.9528\n",
            "Epoch 34/60\n",
            "56/56 [==============================] - 0s 7ms/step - loss: 0.1101 - accuracy: 0.9506 - val_loss: 0.1803 - val_accuracy: 0.9573\n",
            "Epoch 35/60\n",
            "56/56 [==============================] - 0s 7ms/step - loss: 0.1073 - accuracy: 0.9500 - val_loss: 0.1807 - val_accuracy: 0.9573\n",
            "Epoch 36/60\n",
            "56/56 [==============================] - 0s 7ms/step - loss: 0.0955 - accuracy: 0.9590 - val_loss: 0.1813 - val_accuracy: 0.9551\n",
            "Epoch 37/60\n",
            "56/56 [==============================] - 0s 8ms/step - loss: 0.1049 - accuracy: 0.9534 - val_loss: 0.1761 - val_accuracy: 0.9573\n",
            "Epoch 38/60\n",
            "56/56 [==============================] - 0s 7ms/step - loss: 0.1070 - accuracy: 0.9522 - val_loss: 0.1783 - val_accuracy: 0.9573\n",
            "Epoch 39/60\n",
            "56/56 [==============================] - 0s 7ms/step - loss: 0.1063 - accuracy: 0.9455 - val_loss: 0.1782 - val_accuracy: 0.9573\n",
            "Epoch 40/60\n",
            "56/56 [==============================] - 0s 7ms/step - loss: 0.1047 - accuracy: 0.9500 - val_loss: 0.1830 - val_accuracy: 0.9551\n",
            "Epoch 41/60\n",
            "56/56 [==============================] - 0s 6ms/step - loss: 0.0957 - accuracy: 0.9528 - val_loss: 0.1833 - val_accuracy: 0.9551\n",
            "Epoch 42/60\n",
            "56/56 [==============================] - 0s 7ms/step - loss: 0.0914 - accuracy: 0.9506 - val_loss: 0.1821 - val_accuracy: 0.9596\n",
            "Epoch 43/60\n",
            "56/56 [==============================] - 0s 7ms/step - loss: 0.0940 - accuracy: 0.9528 - val_loss: 0.1901 - val_accuracy: 0.9596\n",
            "Epoch 44/60\n",
            "56/56 [==============================] - 0s 7ms/step - loss: 0.0826 - accuracy: 0.9612 - val_loss: 0.1885 - val_accuracy: 0.9596\n",
            "Epoch 45/60\n",
            "56/56 [==============================] - 0s 8ms/step - loss: 0.0833 - accuracy: 0.9618 - val_loss: 0.1902 - val_accuracy: 0.9573\n",
            "Epoch 46/60\n",
            "56/56 [==============================] - 0s 7ms/step - loss: 0.0854 - accuracy: 0.9573 - val_loss: 0.1856 - val_accuracy: 0.9573\n",
            "Epoch 47/60\n",
            "56/56 [==============================] - 0s 6ms/step - loss: 0.0864 - accuracy: 0.9579 - val_loss: 0.1923 - val_accuracy: 0.9551\n",
            "Epoch 48/60\n",
            "56/56 [==============================] - 0s 7ms/step - loss: 0.0907 - accuracy: 0.9522 - val_loss: 0.1888 - val_accuracy: 0.9596\n",
            "Epoch 49/60\n",
            "56/56 [==============================] - 0s 6ms/step - loss: 0.0911 - accuracy: 0.9545 - val_loss: 0.1938 - val_accuracy: 0.9596\n",
            "Epoch 50/60\n",
            "56/56 [==============================] - 0s 7ms/step - loss: 0.0855 - accuracy: 0.9556 - val_loss: 0.1939 - val_accuracy: 0.9618\n",
            "Epoch 51/60\n",
            "56/56 [==============================] - 0s 7ms/step - loss: 0.0815 - accuracy: 0.9624 - val_loss: 0.1954 - val_accuracy: 0.9663\n",
            "Epoch 52/60\n",
            "56/56 [==============================] - 0s 6ms/step - loss: 0.0787 - accuracy: 0.9590 - val_loss: 0.2036 - val_accuracy: 0.9551\n"
          ]
        }
      ]
    },
    {
      "cell_type": "code",
      "metadata": {
        "colab": {
          "base_uri": "https://localhost:8080/",
          "height": 580
        },
        "id": "663rK1bGp86N",
        "outputId": "0afd83d4-a9cd-46d3-980c-77617182c431"
      },
      "source": [
        "acc      = history.history['accuracy']\n",
        "val_acc  = history.history['val_accuracy']\n",
        "\n",
        "epochs   = range(len(acc))\n",
        "\n",
        "plt.plot(epochs, acc, 'r', label = 'Training')\n",
        "plt.plot(epochs, val_acc, 'b', label = 'Validation')\n",
        "plt.title('Training and Validation Accuracy')\n",
        "plt.legend()\n",
        "plt.figure()\n",
        "\n",
        "loss     = history.history['loss']\n",
        "val_loss = history.history['val_loss']\n",
        "\n",
        "epochs   = range(len(loss))\n",
        "\n",
        "plt.plot(epochs, loss, 'r', label = 'Training')\n",
        "plt.plot(epochs, val_loss, 'b', label = 'Validation')\n",
        "plt.title('Training and Validation Loss')\n",
        "plt.legend()\n",
        "plt.figure()"
      ],
      "execution_count": 44,
      "outputs": [
        {
          "output_type": "execute_result",
          "data": {
            "text/plain": [
              "<Figure size 432x288 with 0 Axes>"
            ]
          },
          "metadata": {},
          "execution_count": 44
        },
        {
          "output_type": "display_data",
          "data": {
            "image/png": "[encoded data removed]",
            "text/plain": [
              "<Figure size 432x288 with 1 Axes>"
            ]
          },
          "metadata": {
            "needs_background": "light"
          }
        },
        {
          "output_type": "display_data",
          "data": {
            "image/png": "[encoded data removed]",
            "text/plain": [
              "<Figure size 432x288 with 1 Axes>"
            ]
          },
          "metadata": {
            "needs_background": "light"
          }
        },
        {
          "output_type": "display_data",
          "data": {
            "text/plain": [
              "<Figure size 432x288 with 0 Axes>"
            ]
          },
          "metadata": {}
        }
      ]
    }
  ]
}