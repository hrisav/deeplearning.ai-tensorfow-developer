{
  "nbformat": 4,
  "nbformat_minor": 0,
  "metadata": {
    "colab": {
      "name": "C_Week_3.ipynb",
      "provenance": [],
      "collapsed_sections": [],
      "toc_visible": true
    },
    "kernelspec": {
      "name": "python3",
      "display_name": "Python 3"
    },
    "language_info": {
      "name": "python"
    },
    "accelerator": "GPU",
    "widgets": {
      "application/vnd.jupyter.widget-state+json": {
        "37455452cc8e4fe5b108ece49449d6e7": {
          "model_module": "@jupyter-widgets/controls",
          "model_name": "HBoxModel",
          "model_module_version": "1.5.0",
          "state": {
            "_view_name": "HBoxView",
            "_dom_classes": [],
            "_model_name": "HBoxModel",
            "_view_module": "@jupyter-widgets/controls",
            "_model_module_version": "1.5.0",
            "_view_count": null,
            "_view_module_version": "1.5.0",
            "box_style": "",
            "layout": "IPY_MODEL_56a9a97eb0d84ba5aaa3e7e25a9c7297",
            "_model_module": "@jupyter-widgets/controls",
            "children": [
              "IPY_MODEL_59ee6d109f494aa9852bbb91cc283843",
              "IPY_MODEL_26aa9fd0c0ca4b0ab14dd3a3c97ce8a7",
              "IPY_MODEL_21a133cc7c354c25b37d93840183fac2"
            ]
          }
        },
        "56a9a97eb0d84ba5aaa3e7e25a9c7297": {
          "model_module": "@jupyter-widgets/base",
          "model_name": "LayoutModel",
          "model_module_version": "1.2.0",
          "state": {
            "_view_name": "LayoutView",
            "grid_template_rows": null,
            "right": null,
            "justify_content": null,
            "_view_module": "@jupyter-widgets/base",
            "overflow": null,
            "_model_module_version": "1.2.0",
            "_view_count": null,
            "flex_flow": null,
            "width": null,
            "min_width": null,
            "border": null,
            "align_items": null,
            "bottom": null,
            "_model_module": "@jupyter-widgets/base",
            "top": null,
            "grid_column": null,
            "overflow_y": null,
            "overflow_x": null,
            "grid_auto_flow": null,
            "grid_area": null,
            "grid_template_columns": null,
            "flex": null,
            "_model_name": "LayoutModel",
            "justify_items": null,
            "grid_row": null,
            "max_height": null,
            "align_content": null,
            "visibility": null,
            "align_self": null,
            "height": null,
            "min_height": null,
            "padding": null,
            "grid_auto_rows": null,
            "grid_gap": null,
            "max_width": null,
            "order": null,
            "_view_module_version": "1.2.0",
            "grid_template_areas": null,
            "object_position": null,
            "object_fit": null,
            "grid_auto_columns": null,
            "margin": null,
            "display": null,
            "left": null
          }
        },
        "59ee6d109f494aa9852bbb91cc283843": {
          "model_module": "@jupyter-widgets/controls",
          "model_name": "HTMLModel",
          "model_module_version": "1.5.0",
          "state": {
            "_view_name": "HTMLView",
            "style": "IPY_MODEL_e0481402644b40e488abf6cd50403da3",
            "_dom_classes": [],
            "description": "",
            "_model_name": "HTMLModel",
            "placeholder": "​",
            "_view_module": "@jupyter-widgets/controls",
            "_model_module_version": "1.5.0",
            "value": "Dl Completed...: 100%",
            "_view_count": null,
            "_view_module_version": "1.5.0",
            "description_tooltip": null,
            "_model_module": "@jupyter-widgets/controls",
            "layout": "IPY_MODEL_89a071ac904143da815b6971332f55da"
          }
        },
        "26aa9fd0c0ca4b0ab14dd3a3c97ce8a7": {
          "model_module": "@jupyter-widgets/controls",
          "model_name": "FloatProgressModel",
          "model_module_version": "1.5.0",
          "state": {
            "_view_name": "ProgressView",
            "style": "IPY_MODEL_313d711e30e14497bac77930e999e844",
            "_dom_classes": [],
            "description": "",
            "_model_name": "FloatProgressModel",
            "bar_style": "success",
            "max": 1,
            "_view_module": "@jupyter-widgets/controls",
            "_model_module_version": "1.5.0",
            "value": 1,
            "_view_count": null,
            "_view_module_version": "1.5.0",
            "orientation": "horizontal",
            "min": 0,
            "description_tooltip": null,
            "_model_module": "@jupyter-widgets/controls",
            "layout": "IPY_MODEL_dfa9ad4496cb473e9acc5eff45b1d33b"
          }
        },
        "21a133cc7c354c25b37d93840183fac2": {
          "model_module": "@jupyter-widgets/controls",
          "model_name": "HTMLModel",
          "model_module_version": "1.5.0",
          "state": {
            "_view_name": "HTMLView",
            "style": "IPY_MODEL_968d9e605d56450ca5153eb86db3a3a4",
            "_dom_classes": [],
            "description": "",
            "_model_name": "HTMLModel",
            "placeholder": "​",
            "_view_module": "@jupyter-widgets/controls",
            "_model_module_version": "1.5.0",
            "value": " 1/1 [00:02&lt;00:00,  2.65s/ url]",
            "_view_count": null,
            "_view_module_version": "1.5.0",
            "description_tooltip": null,
            "_model_module": "@jupyter-widgets/controls",
            "layout": "IPY_MODEL_600afeef652a41aca647f60d0bdfe809"
          }
        },
        "e0481402644b40e488abf6cd50403da3": {
          "model_module": "@jupyter-widgets/controls",
          "model_name": "DescriptionStyleModel",
          "model_module_version": "1.5.0",
          "state": {
            "_view_name": "StyleView",
            "_model_name": "DescriptionStyleModel",
            "description_width": "",
            "_view_module": "@jupyter-widgets/base",
            "_model_module_version": "1.5.0",
            "_view_count": null,
            "_view_module_version": "1.2.0",
            "_model_module": "@jupyter-widgets/controls"
          }
        },
        "89a071ac904143da815b6971332f55da": {
          "model_module": "@jupyter-widgets/base",
          "model_name": "LayoutModel",
          "model_module_version": "1.2.0",
          "state": {
            "_view_name": "LayoutView",
            "grid_template_rows": null,
            "right": null,
            "justify_content": null,
            "_view_module": "@jupyter-widgets/base",
            "overflow": null,
            "_model_module_version": "1.2.0",
            "_view_count": null,
            "flex_flow": null,
            "width": null,
            "min_width": null,
            "border": null,
            "align_items": null,
            "bottom": null,
            "_model_module": "@jupyter-widgets/base",
            "top": null,
            "grid_column": null,
            "overflow_y": null,
            "overflow_x": null,
            "grid_auto_flow": null,
            "grid_area": null,
            "grid_template_columns": null,
            "flex": null,
            "_model_name": "LayoutModel",
            "justify_items": null,
            "grid_row": null,
            "max_height": null,
            "align_content": null,
            "visibility": null,
            "align_self": null,
            "height": null,
            "min_height": null,
            "padding": null,
            "grid_auto_rows": null,
            "grid_gap": null,
            "max_width": null,
            "order": null,
            "_view_module_version": "1.2.0",
            "grid_template_areas": null,
            "object_position": null,
            "object_fit": null,
            "grid_auto_columns": null,
            "margin": null,
            "display": null,
            "left": null
          }
        },
        "313d711e30e14497bac77930e999e844": {
          "model_module": "@jupyter-widgets/controls",
          "model_name": "ProgressStyleModel",
          "model_module_version": "1.5.0",
          "state": {
            "_view_name": "StyleView",
            "_model_name": "ProgressStyleModel",
            "description_width": "",
            "_view_module": "@jupyter-widgets/base",
            "_model_module_version": "1.5.0",
            "_view_count": null,
            "_view_module_version": "1.2.0",
            "bar_color": null,
            "_model_module": "@jupyter-widgets/controls"
          }
        },
        "dfa9ad4496cb473e9acc5eff45b1d33b": {
          "model_module": "@jupyter-widgets/base",
          "model_name": "LayoutModel",
          "model_module_version": "1.2.0",
          "state": {
            "_view_name": "LayoutView",
            "grid_template_rows": null,
            "right": null,
            "justify_content": null,
            "_view_module": "@jupyter-widgets/base",
            "overflow": null,
            "_model_module_version": "1.2.0",
            "_view_count": null,
            "flex_flow": null,
            "width": "20px",
            "min_width": null,
            "border": null,
            "align_items": null,
            "bottom": null,
            "_model_module": "@jupyter-widgets/base",
            "top": null,
            "grid_column": null,
            "overflow_y": null,
            "overflow_x": null,
            "grid_auto_flow": null,
            "grid_area": null,
            "grid_template_columns": null,
            "flex": null,
            "_model_name": "LayoutModel",
            "justify_items": null,
            "grid_row": null,
            "max_height": null,
            "align_content": null,
            "visibility": null,
            "align_self": null,
            "height": null,
            "min_height": null,
            "padding": null,
            "grid_auto_rows": null,
            "grid_gap": null,
            "max_width": null,
            "order": null,
            "_view_module_version": "1.2.0",
            "grid_template_areas": null,
            "object_position": null,
            "object_fit": null,
            "grid_auto_columns": null,
            "margin": null,
            "display": null,
            "left": null
          }
        },
        "968d9e605d56450ca5153eb86db3a3a4": {
          "model_module": "@jupyter-widgets/controls",
          "model_name": "DescriptionStyleModel",
          "model_module_version": "1.5.0",
          "state": {
            "_view_name": "StyleView",
            "_model_name": "DescriptionStyleModel",
            "description_width": "",
            "_view_module": "@jupyter-widgets/base",
            "_model_module_version": "1.5.0",
            "_view_count": null,
            "_view_module_version": "1.2.0",
            "_model_module": "@jupyter-widgets/controls"
          }
        },
        "600afeef652a41aca647f60d0bdfe809": {
          "model_module": "@jupyter-widgets/base",
          "model_name": "LayoutModel",
          "model_module_version": "1.2.0",
          "state": {
            "_view_name": "LayoutView",
            "grid_template_rows": null,
            "right": null,
            "justify_content": null,
            "_view_module": "@jupyter-widgets/base",
            "overflow": null,
            "_model_module_version": "1.2.0",
            "_view_count": null,
            "flex_flow": null,
            "width": null,
            "min_width": null,
            "border": null,
            "align_items": null,
            "bottom": null,
            "_model_module": "@jupyter-widgets/base",
            "top": null,
            "grid_column": null,
            "overflow_y": null,
            "overflow_x": null,
            "grid_auto_flow": null,
            "grid_area": null,
            "grid_template_columns": null,
            "flex": null,
            "_model_name": "LayoutModel",
            "justify_items": null,
            "grid_row": null,
            "max_height": null,
            "align_content": null,
            "visibility": null,
            "align_self": null,
            "height": null,
            "min_height": null,
            "padding": null,
            "grid_auto_rows": null,
            "grid_gap": null,
            "max_width": null,
            "order": null,
            "_view_module_version": "1.2.0",
            "grid_template_areas": null,
            "object_position": null,
            "object_fit": null,
            "grid_auto_columns": null,
            "margin": null,
            "display": null,
            "left": null
          }
        },
        "cac5cf45ea024b25b6981f3940526766": {
          "model_module": "@jupyter-widgets/controls",
          "model_name": "HBoxModel",
          "model_module_version": "1.5.0",
          "state": {
            "_view_name": "HBoxView",
            "_dom_classes": [],
            "_model_name": "HBoxModel",
            "_view_module": "@jupyter-widgets/controls",
            "_model_module_version": "1.5.0",
            "_view_count": null,
            "_view_module_version": "1.5.0",
            "box_style": "",
            "layout": "IPY_MODEL_8a6327caa613487cb4ddaf36cb0c96c9",
            "_model_module": "@jupyter-widgets/controls",
            "children": [
              "IPY_MODEL_32adaca1873244298de311e634a90f61",
              "IPY_MODEL_86b3d390323b462a8b1512a3f41d86b5",
              "IPY_MODEL_61bf0f6d6b2c4951a0019391f44b0cff"
            ]
          }
        },
        "8a6327caa613487cb4ddaf36cb0c96c9": {
          "model_module": "@jupyter-widgets/base",
          "model_name": "LayoutModel",
          "model_module_version": "1.2.0",
          "state": {
            "_view_name": "LayoutView",
            "grid_template_rows": null,
            "right": null,
            "justify_content": null,
            "_view_module": "@jupyter-widgets/base",
            "overflow": null,
            "_model_module_version": "1.2.0",
            "_view_count": null,
            "flex_flow": null,
            "width": null,
            "min_width": null,
            "border": null,
            "align_items": null,
            "bottom": null,
            "_model_module": "@jupyter-widgets/base",
            "top": null,
            "grid_column": null,
            "overflow_y": null,
            "overflow_x": null,
            "grid_auto_flow": null,
            "grid_area": null,
            "grid_template_columns": null,
            "flex": null,
            "_model_name": "LayoutModel",
            "justify_items": null,
            "grid_row": null,
            "max_height": null,
            "align_content": null,
            "visibility": null,
            "align_self": null,
            "height": null,
            "min_height": null,
            "padding": null,
            "grid_auto_rows": null,
            "grid_gap": null,
            "max_width": null,
            "order": null,
            "_view_module_version": "1.2.0",
            "grid_template_areas": null,
            "object_position": null,
            "object_fit": null,
            "grid_auto_columns": null,
            "margin": null,
            "display": null,
            "left": null
          }
        },
        "32adaca1873244298de311e634a90f61": {
          "model_module": "@jupyter-widgets/controls",
          "model_name": "HTMLModel",
          "model_module_version": "1.5.0",
          "state": {
            "_view_name": "HTMLView",
            "style": "IPY_MODEL_f114557ccaf740319bb5eef0e96dfb6f",
            "_dom_classes": [],
            "description": "",
            "_model_name": "HTMLModel",
            "placeholder": "​",
            "_view_module": "@jupyter-widgets/controls",
            "_model_module_version": "1.5.0",
            "value": "Dl Size...: 100%",
            "_view_count": null,
            "_view_module_version": "1.5.0",
            "description_tooltip": null,
            "_model_module": "@jupyter-widgets/controls",
            "layout": "IPY_MODEL_493b6b10450d4bcd8a1506a1ab10a66d"
          }
        },
        "86b3d390323b462a8b1512a3f41d86b5": {
          "model_module": "@jupyter-widgets/controls",
          "model_name": "FloatProgressModel",
          "model_module_version": "1.5.0",
          "state": {
            "_view_name": "ProgressView",
            "style": "IPY_MODEL_9b5ab152c96e405cae26d59a5361b6bc",
            "_dom_classes": [],
            "description": "",
            "_model_name": "FloatProgressModel",
            "bar_style": "success",
            "max": 1,
            "_view_module": "@jupyter-widgets/controls",
            "_model_module_version": "1.5.0",
            "value": 1,
            "_view_count": null,
            "_view_module_version": "1.5.0",
            "orientation": "horizontal",
            "min": 0,
            "description_tooltip": null,
            "_model_module": "@jupyter-widgets/controls",
            "layout": "IPY_MODEL_1f46126d9eaa407c9d2bead6508acbf7"
          }
        },
        "61bf0f6d6b2c4951a0019391f44b0cff": {
          "model_module": "@jupyter-widgets/controls",
          "model_name": "HTMLModel",
          "model_module_version": "1.5.0",
          "state": {
            "_view_name": "HTMLView",
            "style": "IPY_MODEL_3ef364801c55421abaea53ca2c3f45d6",
            "_dom_classes": [],
            "description": "",
            "_model_name": "HTMLModel",
            "placeholder": "​",
            "_view_module": "@jupyter-widgets/controls",
            "_model_module_version": "1.5.0",
            "value": " 80/80 [00:02&lt;00:00, 44.09 MiB/s]",
            "_view_count": null,
            "_view_module_version": "1.5.0",
            "description_tooltip": null,
            "_model_module": "@jupyter-widgets/controls",
            "layout": "IPY_MODEL_48ecbc3426dd4d9e922ff78521e86cc9"
          }
        },
        "f114557ccaf740319bb5eef0e96dfb6f": {
          "model_module": "@jupyter-widgets/controls",
          "model_name": "DescriptionStyleModel",
          "model_module_version": "1.5.0",
          "state": {
            "_view_name": "StyleView",
            "_model_name": "DescriptionStyleModel",
            "description_width": "",
            "_view_module": "@jupyter-widgets/base",
            "_model_module_version": "1.5.0",
            "_view_count": null,
            "_view_module_version": "1.2.0",
            "_model_module": "@jupyter-widgets/controls"
          }
        },
        "493b6b10450d4bcd8a1506a1ab10a66d": {
          "model_module": "@jupyter-widgets/base",
          "model_name": "LayoutModel",
          "model_module_version": "1.2.0",
          "state": {
            "_view_name": "LayoutView",
            "grid_template_rows": null,
            "right": null,
            "justify_content": null,
            "_view_module": "@jupyter-widgets/base",
            "overflow": null,
            "_model_module_version": "1.2.0",
            "_view_count": null,
            "flex_flow": null,
            "width": null,
            "min_width": null,
            "border": null,
            "align_items": null,
            "bottom": null,
            "_model_module": "@jupyter-widgets/base",
            "top": null,
            "grid_column": null,
            "overflow_y": null,
            "overflow_x": null,
            "grid_auto_flow": null,
            "grid_area": null,
            "grid_template_columns": null,
            "flex": null,
            "_model_name": "LayoutModel",
            "justify_items": null,
            "grid_row": null,
            "max_height": null,
            "align_content": null,
            "visibility": null,
            "align_self": null,
            "height": null,
            "min_height": null,
            "padding": null,
            "grid_auto_rows": null,
            "grid_gap": null,
            "max_width": null,
            "order": null,
            "_view_module_version": "1.2.0",
            "grid_template_areas": null,
            "object_position": null,
            "object_fit": null,
            "grid_auto_columns": null,
            "margin": null,
            "display": null,
            "left": null
          }
        },
        "9b5ab152c96e405cae26d59a5361b6bc": {
          "model_module": "@jupyter-widgets/controls",
          "model_name": "ProgressStyleModel",
          "model_module_version": "1.5.0",
          "state": {
            "_view_name": "StyleView",
            "_model_name": "ProgressStyleModel",
            "description_width": "",
            "_view_module": "@jupyter-widgets/base",
            "_model_module_version": "1.5.0",
            "_view_count": null,
            "_view_module_version": "1.2.0",
            "bar_color": null,
            "_model_module": "@jupyter-widgets/controls"
          }
        },
        "1f46126d9eaa407c9d2bead6508acbf7": {
          "model_module": "@jupyter-widgets/base",
          "model_name": "LayoutModel",
          "model_module_version": "1.2.0",
          "state": {
            "_view_name": "LayoutView",
            "grid_template_rows": null,
            "right": null,
            "justify_content": null,
            "_view_module": "@jupyter-widgets/base",
            "overflow": null,
            "_model_module_version": "1.2.0",
            "_view_count": null,
            "flex_flow": null,
            "width": "20px",
            "min_width": null,
            "border": null,
            "align_items": null,
            "bottom": null,
            "_model_module": "@jupyter-widgets/base",
            "top": null,
            "grid_column": null,
            "overflow_y": null,
            "overflow_x": null,
            "grid_auto_flow": null,
            "grid_area": null,
            "grid_template_columns": null,
            "flex": null,
            "_model_name": "LayoutModel",
            "justify_items": null,
            "grid_row": null,
            "max_height": null,
            "align_content": null,
            "visibility": null,
            "align_self": null,
            "height": null,
            "min_height": null,
            "padding": null,
            "grid_auto_rows": null,
            "grid_gap": null,
            "max_width": null,
            "order": null,
            "_view_module_version": "1.2.0",
            "grid_template_areas": null,
            "object_position": null,
            "object_fit": null,
            "grid_auto_columns": null,
            "margin": null,
            "display": null,
            "left": null
          }
        },
        "3ef364801c55421abaea53ca2c3f45d6": {
          "model_module": "@jupyter-widgets/controls",
          "model_name": "DescriptionStyleModel",
          "model_module_version": "1.5.0",
          "state": {
            "_view_name": "StyleView",
            "_model_name": "DescriptionStyleModel",
            "description_width": "",
            "_view_module": "@jupyter-widgets/base",
            "_model_module_version": "1.5.0",
            "_view_count": null,
            "_view_module_version": "1.2.0",
            "_model_module": "@jupyter-widgets/controls"
          }
        },
        "48ecbc3426dd4d9e922ff78521e86cc9": {
          "model_module": "@jupyter-widgets/base",
          "model_name": "LayoutModel",
          "model_module_version": "1.2.0",
          "state": {
            "_view_name": "LayoutView",
            "grid_template_rows": null,
            "right": null,
            "justify_content": null,
            "_view_module": "@jupyter-widgets/base",
            "overflow": null,
            "_model_module_version": "1.2.0",
            "_view_count": null,
            "flex_flow": null,
            "width": null,
            "min_width": null,
            "border": null,
            "align_items": null,
            "bottom": null,
            "_model_module": "@jupyter-widgets/base",
            "top": null,
            "grid_column": null,
            "overflow_y": null,
            "overflow_x": null,
            "grid_auto_flow": null,
            "grid_area": null,
            "grid_template_columns": null,
            "flex": null,
            "_model_name": "LayoutModel",
            "justify_items": null,
            "grid_row": null,
            "max_height": null,
            "align_content": null,
            "visibility": null,
            "align_self": null,
            "height": null,
            "min_height": null,
            "padding": null,
            "grid_auto_rows": null,
            "grid_gap": null,
            "max_width": null,
            "order": null,
            "_view_module_version": "1.2.0",
            "grid_template_areas": null,
            "object_position": null,
            "object_fit": null,
            "grid_auto_columns": null,
            "margin": null,
            "display": null,
            "left": null
          }
        }
      }
    }
  },
  "cells": [
    {
      "cell_type": "markdown",
      "metadata": {
        "id": "9OTfHWbzl8Xn"
      },
      "source": [
        "### IMDB Subwords - Single layer BiLSTM"
      ]
    },
    {
      "cell_type": "code",
      "metadata": {
        "colab": {
          "base_uri": "https://localhost:8080/"
        },
        "id": "OUMcpIz2CNQd",
        "outputId": "34f93bf6-0dcc-4520-bfb8-35f4d745a8eb"
      },
      "source": [
        "import tensorflow as tf\n",
        "print(tf.__version__)"
      ],
      "execution_count": null,
      "outputs": [
        {
          "output_type": "stream",
          "name": "stdout",
          "text": [
            "2.6.0\n"
          ]
        }
      ]
    },
    {
      "cell_type": "code",
      "metadata": {
        "id": "bjBwBPQp_VcB"
      },
      "source": [
        "from tensorflow.keras.preprocessing.text import Tokenizer\n",
        "from tensorflow.keras.preprocessing.sequence import pad_sequences\n",
        "from tensorflow.keras.models import Sequential\n",
        "from tensorflow.keras import layers\n",
        "from tensorflow.keras.callbacks import EarlyStopping, ReduceLROnPlateau, ModelCheckpoint"
      ],
      "execution_count": null,
      "outputs": []
    },
    {
      "cell_type": "code",
      "metadata": {
        "id": "1q0rf2R-_SmD"
      },
      "source": [
        "import pandas as pd\n",
        "import numpy as np\n",
        "import csv\n",
        "import random\n",
        "import json\n",
        "import matplotlib.pyplot as plt\n",
        "%matplotlib inline"
      ],
      "execution_count": null,
      "outputs": []
    },
    {
      "cell_type": "code",
      "metadata": {
        "colab": {
          "base_uri": "https://localhost:8080/",
          "height": 356,
          "referenced_widgets": [
            "37455452cc8e4fe5b108ece49449d6e7",
            "56a9a97eb0d84ba5aaa3e7e25a9c7297",
            "59ee6d109f494aa9852bbb91cc283843",
            "26aa9fd0c0ca4b0ab14dd3a3c97ce8a7",
            "21a133cc7c354c25b37d93840183fac2",
            "e0481402644b40e488abf6cd50403da3",
            "89a071ac904143da815b6971332f55da",
            "313d711e30e14497bac77930e999e844",
            "dfa9ad4496cb473e9acc5eff45b1d33b",
            "968d9e605d56450ca5153eb86db3a3a4",
            "600afeef652a41aca647f60d0bdfe809",
            "cac5cf45ea024b25b6981f3940526766",
            "8a6327caa613487cb4ddaf36cb0c96c9",
            "32adaca1873244298de311e634a90f61",
            "86b3d390323b462a8b1512a3f41d86b5",
            "61bf0f6d6b2c4951a0019391f44b0cff",
            "f114557ccaf740319bb5eef0e96dfb6f",
            "493b6b10450d4bcd8a1506a1ab10a66d",
            "9b5ab152c96e405cae26d59a5361b6bc",
            "1f46126d9eaa407c9d2bead6508acbf7",
            "3ef364801c55421abaea53ca2c3f45d6",
            "48ecbc3426dd4d9e922ff78521e86cc9",
            "1775dd34812f44a7a15f417f01da49ec",
            "739461eef8684e33a7ca4dcba6b19428",
            "a756d5f083424b4690056d9d234cc17f",
            "657ff72a205b4944ae8e58e046401446",
            "1bb3213dc3ab46ec941d920ddd5ed3e3",
            "d97ed7aa544e4ec081df1c741525003c"
          ]
        },
        "id": "H3PF_4iLhCVt",
        "outputId": "14d295d2-a63a-4951-ebab-f11e101e37de"
      },
      "source": [
        "import tensorflow_datasets as tfds\n",
        "\n",
        "dataset, info = tfds.load('imdb_reviews/subwords8k', with_info=True, as_supervised=True)"
      ],
      "execution_count": null,
      "outputs": [
        {
          "output_type": "stream",
          "name": "stderr",
          "text": [
            "WARNING:absl:TFDS datasets with text encoding are deprecated and will be removed in a future version. Instead, you should use the plain text version and tokenize the text using `tensorflow_text` (See: https://www.tensorflow.org/tutorials/tensorflow_text/intro#tfdata_example)\n"
          ]
        },
        {
          "output_type": "stream",
          "name": "stdout",
          "text": [
            "\u001b[1mDownloading and preparing dataset imdb_reviews/subwords8k/1.0.0 (download: 80.23 MiB, generated: Unknown size, total: 80.23 MiB) to /root/tensorflow_datasets/imdb_reviews/subwords8k/1.0.0...\u001b[0m\n"
          ]
        },
        {
          "output_type": "display_data",
          "data": {
            "application/vnd.jupyter.widget-view+json": {
              "model_id": "37455452cc8e4fe5b108ece49449d6e7",
              "version_minor": 0,
              "version_major": 2
            },
            "text/plain": [
              "Dl Completed...: 0 url [00:00, ? url/s]"
            ]
          },
          "metadata": {}
        },
        {
          "output_type": "display_data",
          "data": {
            "application/vnd.jupyter.widget-view+json": {
              "model_id": "cac5cf45ea024b25b6981f3940526766",
              "version_minor": 0,
              "version_major": 2
            },
            "text/plain": [
              "Dl Size...: 0 MiB [00:00, ? MiB/s]"
            ]
          },
          "metadata": {}
        },
        {
          "output_type": "stream",
          "name": "stdout",
          "text": [
            "\n",
            "\n"
          ]
        },
        {
          "output_type": "display_data",
          "data": {
            "application/vnd.jupyter.widget-view+json": {
              "model_id": "1775dd34812f44a7a15f417f01da49ec",
              "version_minor": 0,
              "version_major": 2
            },
            "text/plain": [
              "0 examples [00:00, ? examples/s]"
            ]
          },
          "metadata": {}
        },
        {
          "output_type": "stream",
          "name": "stdout",
          "text": [
            "Shuffling and writing examples to /root/tensorflow_datasets/imdb_reviews/subwords8k/1.0.0.incomplete4D7UAG/imdb_reviews-train.tfrecord\n"
          ]
        },
        {
          "output_type": "display_data",
          "data": {
            "application/vnd.jupyter.widget-view+json": {
              "model_id": "739461eef8684e33a7ca4dcba6b19428",
              "version_minor": 0,
              "version_major": 2
            },
            "text/plain": [
              "  0%|          | 0/25000 [00:00<?, ? examples/s]"
            ]
          },
          "metadata": {}
        },
        {
          "output_type": "display_data",
          "data": {
            "application/vnd.jupyter.widget-view+json": {
              "model_id": "a756d5f083424b4690056d9d234cc17f",
              "version_minor": 0,
              "version_major": 2
            },
            "text/plain": [
              "0 examples [00:00, ? examples/s]"
            ]
          },
          "metadata": {}
        },
        {
          "output_type": "stream",
          "name": "stdout",
          "text": [
            "Shuffling and writing examples to /root/tensorflow_datasets/imdb_reviews/subwords8k/1.0.0.incomplete4D7UAG/imdb_reviews-test.tfrecord\n"
          ]
        },
        {
          "output_type": "display_data",
          "data": {
            "application/vnd.jupyter.widget-view+json": {
              "model_id": "657ff72a205b4944ae8e58e046401446",
              "version_minor": 0,
              "version_major": 2
            },
            "text/plain": [
              "  0%|          | 0/25000 [00:00<?, ? examples/s]"
            ]
          },
          "metadata": {}
        },
        {
          "output_type": "display_data",
          "data": {
            "application/vnd.jupyter.widget-view+json": {
              "model_id": "1bb3213dc3ab46ec941d920ddd5ed3e3",
              "version_minor": 0,
              "version_major": 2
            },
            "text/plain": [
              "0 examples [00:00, ? examples/s]"
            ]
          },
          "metadata": {}
        },
        {
          "output_type": "stream",
          "name": "stdout",
          "text": [
            "Shuffling and writing examples to /root/tensorflow_datasets/imdb_reviews/subwords8k/1.0.0.incomplete4D7UAG/imdb_reviews-unsupervised.tfrecord\n"
          ]
        },
        {
          "output_type": "display_data",
          "data": {
            "application/vnd.jupyter.widget-view+json": {
              "model_id": "d97ed7aa544e4ec081df1c741525003c",
              "version_minor": 0,
              "version_major": 2
            },
            "text/plain": [
              "  0%|          | 0/50000 [00:00<?, ? examples/s]"
            ]
          },
          "metadata": {}
        },
        {
          "output_type": "stream",
          "name": "stderr",
          "text": [
            "WARNING:absl:Dataset is using deprecated text encoder API which will be removed soon. Please use the plain_text version of the dataset and migrate to `tensorflow_text`.\n"
          ]
        },
        {
          "output_type": "stream",
          "name": "stdout",
          "text": [
            "\u001b[1mDataset imdb_reviews downloaded and prepared to /root/tensorflow_datasets/imdb_reviews/subwords8k/1.0.0. Subsequent calls will reuse this data.\u001b[0m\n"
          ]
        }
      ]
    },
    {
      "cell_type": "code",
      "metadata": {
        "colab": {
          "base_uri": "https://localhost:8080/"
        },
        "id": "qwDDq_O4CsW1",
        "outputId": "f81e7c96-4c17-4e9e-dd2d-2f45fed7659f"
      },
      "source": [
        "dataset"
      ],
      "execution_count": null,
      "outputs": [
        {
          "output_type": "execute_result",
          "data": {
            "text/plain": [
              "{'test': <PrefetchDataset shapes: ((None,), ()), types: (tf.int64, tf.int64)>,\n",
              " 'train': <PrefetchDataset shapes: ((None,), ()), types: (tf.int64, tf.int64)>,\n",
              " 'unsupervised': <PrefetchDataset shapes: ((None,), ()), types: (tf.int64, tf.int64)>}"
            ]
          },
          "metadata": {},
          "execution_count": 7
        }
      ]
    },
    {
      "cell_type": "code",
      "metadata": {
        "colab": {
          "base_uri": "https://localhost:8080/"
        },
        "id": "UzRTx83GKoT0",
        "outputId": "8953a9d0-f55b-4890-f0ba-aac7d3bb41ae"
      },
      "source": [
        "info"
      ],
      "execution_count": null,
      "outputs": [
        {
          "output_type": "execute_result",
          "data": {
            "text/plain": [
              "tfds.core.DatasetInfo(\n",
              "    name='imdb_reviews',\n",
              "    version=1.0.0,\n",
              "    description='Large Movie Review Dataset.\n",
              "This is a dataset for binary sentiment classification containing substantially more data than previous benchmark datasets. We provide a set of 25,000 highly polar movie reviews for training, and 25,000 for testing. There is additional unlabeled data for use as well.',\n",
              "    homepage='http://ai.stanford.edu/~amaas/data/sentiment/',\n",
              "    features=FeaturesDict({\n",
              "        'label': ClassLabel(shape=(), dtype=tf.int64, num_classes=2),\n",
              "        'text': Text(shape=(None,), dtype=tf.int64, encoder=<SubwordTextEncoder vocab_size=8185>),\n",
              "    }),\n",
              "    total_num_examples=100000,\n",
              "    splits={\n",
              "        'test': 25000,\n",
              "        'train': 25000,\n",
              "        'unsupervised': 50000,\n",
              "    },\n",
              "    supervised_keys=('text', 'label'),\n",
              "    citation=\"\"\"@InProceedings{maas-EtAl:2011:ACL-HLT2011,\n",
              "      author    = {Maas, Andrew L.  and  Daly, Raymond E.  and  Pham, Peter T.  and  Huang, Dan  and  Ng, Andrew Y.  and  Potts, Christopher},\n",
              "      title     = {Learning Word Vectors for Sentiment Analysis},\n",
              "      booktitle = {Proceedings of the 49th Annual Meeting of the Association for Computational Linguistics: Human Language Technologies},\n",
              "      month     = {June},\n",
              "      year      = {2011},\n",
              "      address   = {Portland, Oregon, USA},\n",
              "      publisher = {Association for Computational Linguistics},\n",
              "      pages     = {142--150},\n",
              "      url       = {http://www.aclweb.org/anthology/P11-1015}\n",
              "    }\"\"\",\n",
              "    redistribution_info=,\n",
              ")"
            ]
          },
          "metadata": {},
          "execution_count": 19
        }
      ]
    },
    {
      "cell_type": "code",
      "metadata": {
        "id": "SDhogJEcCoFg"
      },
      "source": [
        "train_data, test_data = dataset['train'], dataset['test']"
      ],
      "execution_count": null,
      "outputs": []
    },
    {
      "cell_type": "code",
      "metadata": {
        "id": "jVDMtTBe5yDB"
      },
      "source": [
        "tokenizer = info.features['text'].encoder"
      ],
      "execution_count": null,
      "outputs": []
    },
    {
      "cell_type": "code",
      "metadata": {
        "id": "Frl2-ski98dm"
      },
      "source": [
        "BUFFER_SIZE = 10000\n",
        "BATCH_SIZE = 64\n",
        "\n",
        "train_data = train_data.shuffle(BUFFER_SIZE)\n",
        "train_data = train_data.padded_batch(BATCH_SIZE, tf.compat.v1.data.get_output_shapes(train_data))\n",
        "test_data = test_data.padded_batch(BATCH_SIZE, tf.compat.v1.data.get_output_shapes(test_data))"
      ],
      "execution_count": null,
      "outputs": []
    },
    {
      "cell_type": "code",
      "metadata": {
        "id": "vLDUksxdKR1F"
      },
      "source": [
        "embedding_dim = 64\n",
        "num_classes = 1"
      ],
      "execution_count": null,
      "outputs": []
    },
    {
      "cell_type": "code",
      "metadata": {
        "id": "bVHSeZJI7xJ2"
      },
      "source": [
        "model = Sequential([\n",
        "    layers.Embedding(input_dim=tokenizer.vocab_size, output_dim=embedding_dim),\n",
        "    layers.Bidirectional(layers.LSTM(64)),\n",
        "    layers.Dense(64, activation='relu'),\n",
        "    layers.Dense(num_classes, activation='sigmoid')\n",
        "])"
      ],
      "execution_count": null,
      "outputs": []
    },
    {
      "cell_type": "code",
      "metadata": {
        "id": "QKI5dfPgMioL",
        "colab": {
          "base_uri": "https://localhost:8080/"
        },
        "outputId": "c8c22d73-9f0c-4f1f-a575-9303cd2ff88d"
      },
      "source": [
        "model.summary()"
      ],
      "execution_count": null,
      "outputs": [
        {
          "output_type": "stream",
          "name": "stdout",
          "text": [
            "Model: \"sequential\"\n",
            "_________________________________________________________________\n",
            "Layer (type)                 Output Shape              Param #   \n",
            "=================================================================\n",
            "embedding (Embedding)        (None, None, 64)          523840    \n",
            "_________________________________________________________________\n",
            "bidirectional (Bidirectional (None, 128)               66048     \n",
            "_________________________________________________________________\n",
            "dense (Dense)                (None, 64)                8256      \n",
            "_________________________________________________________________\n",
            "dense_1 (Dense)              (None, 1)                 65        \n",
            "=================================================================\n",
            "Total params: 598,209\n",
            "Trainable params: 598,209\n",
            "Non-trainable params: 0\n",
            "_________________________________________________________________\n"
          ]
        }
      ]
    },
    {
      "cell_type": "code",
      "metadata": {
        "id": "TKns1nfmFJP4"
      },
      "source": [
        "optimizer   = tf.keras.optimizers.Adam(learning_rate=0.01)\n",
        "loss        = tf.keras.losses.BinaryCrossentropy()\n",
        "metrics     = ['accuracy']"
      ],
      "execution_count": null,
      "outputs": []
    },
    {
      "cell_type": "code",
      "metadata": {
        "id": "rZEuRY7aFXTS"
      },
      "source": [
        "model.compile(optimizer=optimizer,\n",
        "              loss=loss,\n",
        "              metrics=metrics)"
      ],
      "execution_count": null,
      "outputs": []
    },
    {
      "cell_type": "code",
      "metadata": {
        "id": "rtY2pN03FJS9"
      },
      "source": [
        "early_stopping    = EarlyStopping(monitor='loss', patience=7)\n",
        "reduce_lr         = ReduceLROnPlateau(monitor='loss', patience=7, min_lr=0.001, mode='min', verbose=1)\n",
        "model_checkpoint  = ModelCheckpoint(monitor='loss', filepath='./best_model.h5', save_best_only=True)"
      ],
      "execution_count": null,
      "outputs": []
    },
    {
      "cell_type": "code",
      "metadata": {
        "id": "dWscHbqwFN2v"
      },
      "source": [
        "epochs = 15\n",
        "callbacks = [early_stopping, reduce_lr, model_checkpoint]"
      ],
      "execution_count": null,
      "outputs": []
    },
    {
      "cell_type": "code",
      "metadata": {
        "id": "Uip7QOVzMoMq",
        "colab": {
          "base_uri": "https://localhost:8080/"
        },
        "outputId": "c58d10aa-3df5-41ce-a402-c230de3f5781"
      },
      "source": [
        "history = model.fit(train_data,\n",
        "                    validation_data=test_data,\n",
        "                    verbose = 1,\n",
        "                    epochs = epochs,\n",
        "                    callbacks = callbacks)"
      ],
      "execution_count": null,
      "outputs": [
        {
          "output_type": "stream",
          "name": "stdout",
          "text": [
            "Epoch 1/15\n",
            "391/391 [==============================] - 169s 409ms/step - loss: 0.5946 - accuracy: 0.6730 - val_loss: 0.4021 - val_accuracy: 0.8374\n",
            "Epoch 2/15\n",
            "391/391 [==============================] - 157s 400ms/step - loss: 0.3297 - accuracy: 0.8636 - val_loss: 0.3932 - val_accuracy: 0.8224\n",
            "Epoch 3/15\n",
            "391/391 [==============================] - 158s 401ms/step - loss: 0.2628 - accuracy: 0.8973 - val_loss: 0.3545 - val_accuracy: 0.8552\n",
            "Epoch 4/15\n",
            "391/391 [==============================] - 157s 400ms/step - loss: 0.2399 - accuracy: 0.9075 - val_loss: 0.3746 - val_accuracy: 0.8654\n",
            "Epoch 5/15\n",
            "391/391 [==============================] - 159s 405ms/step - loss: 0.2004 - accuracy: 0.9242 - val_loss: 0.4240 - val_accuracy: 0.8502\n",
            "Epoch 6/15\n",
            "391/391 [==============================] - 159s 404ms/step - loss: 0.1820 - accuracy: 0.9311 - val_loss: 0.3764 - val_accuracy: 0.8514\n",
            "Epoch 7/15\n",
            "391/391 [==============================] - 160s 406ms/step - loss: 0.1507 - accuracy: 0.9449 - val_loss: 0.4750 - val_accuracy: 0.8566\n",
            "Epoch 8/15\n",
            "391/391 [==============================] - 159s 405ms/step - loss: 0.1438 - accuracy: 0.9478 - val_loss: 0.3998 - val_accuracy: 0.8574\n",
            "Epoch 9/15\n",
            "391/391 [==============================] - 159s 404ms/step - loss: 0.1354 - accuracy: 0.9525 - val_loss: 0.4571 - val_accuracy: 0.8610\n",
            "Epoch 10/15\n",
            "391/391 [==============================] - 159s 404ms/step - loss: 0.1093 - accuracy: 0.9612 - val_loss: 0.4676 - val_accuracy: 0.8565\n",
            "Epoch 11/15\n",
            "391/391 [==============================] - 159s 406ms/step - loss: 0.0939 - accuracy: 0.9667 - val_loss: 0.4693 - val_accuracy: 0.8508\n",
            "Epoch 12/15\n",
            "391/391 [==============================] - 159s 405ms/step - loss: 0.0942 - accuracy: 0.9672 - val_loss: 0.5302 - val_accuracy: 0.8545\n",
            "Epoch 13/15\n",
            "391/391 [==============================] - 159s 404ms/step - loss: 0.0847 - accuracy: 0.9701 - val_loss: 0.5281 - val_accuracy: 0.8469\n",
            "Epoch 14/15\n",
            "391/391 [==============================] - 157s 399ms/step - loss: 0.0895 - accuracy: 0.9683 - val_loss: 0.5721 - val_accuracy: 0.8466\n",
            "Epoch 15/15\n",
            "391/391 [==============================] - 157s 400ms/step - loss: 0.0803 - accuracy: 0.9716 - val_loss: 0.5499 - val_accuracy: 0.8506\n"
          ]
        }
      ]
    },
    {
      "cell_type": "code",
      "metadata": {
        "colab": {
          "base_uri": "https://localhost:8080/",
          "height": 580
        },
        "id": "vyateHWPGJXs",
        "outputId": "8bed0bf0-f621-474e-c516-70b9e7fccf15"
      },
      "source": [
        "acc      = history.history['accuracy']\n",
        "val_acc  = history.history['val_accuracy']\n",
        "\n",
        "epochs   = range(len(acc))\n",
        "\n",
        "plt.plot(epochs, acc, 'r', label = 'Training')\n",
        "plt.plot(epochs, val_acc, 'b', label = 'Validation')\n",
        "plt.title('Training and Validation Accuracy')\n",
        "plt.legend()\n",
        "plt.figure()\n",
        "\n",
        "loss     = history.history['loss']\n",
        "val_loss = history.history['val_loss']\n",
        "\n",
        "epochs   = range(len(loss))\n",
        "\n",
        "plt.plot(epochs, loss, 'r', label = 'Training')\n",
        "plt.plot(epochs, val_loss, 'b', label = 'Validation')\n",
        "plt.title('Training and Validation Loss')\n",
        "plt.legend()\n",
        "plt.figure()"
      ],
      "execution_count": null,
      "outputs": [
        {
          "output_type": "execute_result",
          "data": {
            "text/plain": [
              "<Figure size 432x288 with 0 Axes>"
            ]
          },
          "metadata": {},
          "execution_count": 20
        },
        {
          "output_type": "display_data",
          "data": {
            "image/png": "[encoded data removed]",
            "text/plain": [
              "<Figure size 432x288 with 1 Axes>"
            ]
          },
          "metadata": {
            "needs_background": "light"
          }
        },
        {
          "output_type": "display_data",
          "data": {
            "image/png": "[encoded data removed]",
            "text/plain": [
              "<Figure size 432x288 with 1 Axes>"
            ]
          },
          "metadata": {
            "needs_background": "light"
          }
        },
        {
          "output_type": "display_data",
          "data": {
            "text/plain": [
              "<Figure size 432x288 with 0 Axes>"
            ]
          },
          "metadata": {}
        }
      ]
    },
    {
      "cell_type": "markdown",
      "metadata": {
        "id": "LMMNzQdS_xfz"
      },
      "source": [
        "### IMDB Subwords - Multi layer BiLSTM"
      ]
    },
    {
      "cell_type": "code",
      "metadata": {
        "id": "3mBZi6rRngcK"
      },
      "source": [
        "embedding_dim = 64\n",
        "num_classes = 1"
      ],
      "execution_count": null,
      "outputs": []
    },
    {
      "cell_type": "code",
      "metadata": {
        "id": "T15g8IjWngfb"
      },
      "source": [
        "model = Sequential([\n",
        "    layers.Embedding(input_dim=tokenizer.vocab_size, output_dim=embedding_dim),\n",
        "    layers.Bidirectional(layers.LSTM(64, return_sequences=True)),\n",
        "    layers.Bidirectional(layers.LSTM(32)),\n",
        "    layers.Dense(64, activation='relu'),\n",
        "    layers.Dense(num_classes, activation='sigmoid')\n",
        "])"
      ],
      "execution_count": null,
      "outputs": []
    },
    {
      "cell_type": "code",
      "metadata": {
        "colab": {
          "base_uri": "https://localhost:8080/"
        },
        "id": "kYGM5hgRAAxY",
        "outputId": "500ffe88-abb6-476a-b2e9-08fcee3cceb8"
      },
      "source": [
        "model.summary()"
      ],
      "execution_count": null,
      "outputs": [
        {
          "output_type": "stream",
          "name": "stdout",
          "text": [
            "Model: \"sequential_1\"\n",
            "_________________________________________________________________\n",
            "Layer (type)                 Output Shape              Param #   \n",
            "=================================================================\n",
            "embedding_1 (Embedding)      (None, None, 64)          523840    \n",
            "_________________________________________________________________\n",
            "bidirectional_2 (Bidirection (None, None, 128)         66048     \n",
            "_________________________________________________________________\n",
            "bidirectional_3 (Bidirection (None, 64)                41216     \n",
            "_________________________________________________________________\n",
            "dense_2 (Dense)              (None, 64)                4160      \n",
            "_________________________________________________________________\n",
            "dense_3 (Dense)              (None, 1)                 65        \n",
            "=================================================================\n",
            "Total params: 635,329\n",
            "Trainable params: 635,329\n",
            "Non-trainable params: 0\n",
            "_________________________________________________________________\n"
          ]
        }
      ]
    },
    {
      "cell_type": "code",
      "metadata": {
        "id": "wqxgjNz7pp6M"
      },
      "source": [
        "optimizer   = tf.keras.optimizers.Adam(learning_rate=0.01)\n",
        "loss        = tf.keras.losses.BinaryCrossentropy()\n",
        "metrics     = ['accuracy']"
      ],
      "execution_count": null,
      "outputs": []
    },
    {
      "cell_type": "code",
      "metadata": {
        "id": "6Sr1rEhspp6N"
      },
      "source": [
        "model.compile(optimizer=optimizer,\n",
        "              loss=loss,\n",
        "              metrics=metrics)"
      ],
      "execution_count": null,
      "outputs": []
    },
    {
      "cell_type": "code",
      "metadata": {
        "id": "dB7VwkeEpp6O"
      },
      "source": [
        "early_stopping    = EarlyStopping(monitor='loss', patience=5)\n",
        "reduce_lr         = ReduceLROnPlateau(monitor='loss', patience=5, min_lr=0.001, mode='min', verbose=1)\n",
        "model_checkpoint  = ModelCheckpoint(monitor='loss', filepath='./best_model.h5', save_best_only=True)"
      ],
      "execution_count": null,
      "outputs": []
    },
    {
      "cell_type": "code",
      "metadata": {
        "id": "TY_LaBbHpp6P"
      },
      "source": [
        "epochs = 15\n",
        "callbacks = [early_stopping, reduce_lr, model_checkpoint]"
      ],
      "execution_count": null,
      "outputs": []
    },
    {
      "cell_type": "code",
      "metadata": {
        "colab": {
          "base_uri": "https://localhost:8080/"
        },
        "id": "N5wsjupxpp6P",
        "outputId": "34bb3130-92ce-41a5-c1e5-b791e792a5aa"
      },
      "source": [
        "history = model.fit(train_data,\n",
        "                    validation_data=test_data,\n",
        "                    verbose = 1,\n",
        "                    epochs = epochs,\n",
        "                    callbacks = callbacks)"
      ],
      "execution_count": null,
      "outputs": [
        {
          "output_type": "stream",
          "name": "stdout",
          "text": [
            "Epoch 1/15\n",
            "391/391 [==============================] - 321s 801ms/step - loss: 0.5923 - accuracy: 0.6816 - val_loss: 0.4894 - val_accuracy: 0.7767\n",
            "Epoch 2/15\n",
            "391/391 [==============================] - 308s 787ms/step - loss: 0.3596 - accuracy: 0.8472 - val_loss: 0.3243 - val_accuracy: 0.8651\n",
            "Epoch 3/15\n",
            "391/391 [==============================] - 307s 785ms/step - loss: 0.2566 - accuracy: 0.8983 - val_loss: 0.3280 - val_accuracy: 0.8607\n",
            "Epoch 4/15\n",
            "391/391 [==============================] - 307s 784ms/step - loss: 0.2039 - accuracy: 0.9225 - val_loss: 0.3251 - val_accuracy: 0.8744\n",
            "Epoch 5/15\n",
            "391/391 [==============================] - 309s 789ms/step - loss: 0.1568 - accuracy: 0.9436 - val_loss: 0.3316 - val_accuracy: 0.8719\n",
            "Epoch 6/15\n",
            "391/391 [==============================] - 312s 795ms/step - loss: 0.1262 - accuracy: 0.9556 - val_loss: 0.3535 - val_accuracy: 0.8662\n",
            "Epoch 7/15\n",
            "391/391 [==============================] - 309s 788ms/step - loss: 0.0936 - accuracy: 0.9683 - val_loss: 0.4015 - val_accuracy: 0.8706\n",
            "Epoch 8/15\n",
            "391/391 [==============================] - 311s 793ms/step - loss: 0.0760 - accuracy: 0.9745 - val_loss: 0.4501 - val_accuracy: 0.8650\n",
            "Epoch 9/15\n",
            "391/391 [==============================] - 309s 789ms/step - loss: 0.0665 - accuracy: 0.9784 - val_loss: 0.4841 - val_accuracy: 0.8700\n",
            "Epoch 10/15\n",
            "391/391 [==============================] - 311s 793ms/step - loss: 0.0598 - accuracy: 0.9794 - val_loss: 0.4685 - val_accuracy: 0.8712\n",
            "Epoch 11/15\n",
            "391/391 [==============================] - 310s 791ms/step - loss: 0.0460 - accuracy: 0.9849 - val_loss: 0.4665 - val_accuracy: 0.8666\n",
            "Epoch 12/15\n",
            "391/391 [==============================] - 311s 794ms/step - loss: 0.0398 - accuracy: 0.9864 - val_loss: 0.5983 - val_accuracy: 0.8688\n",
            "Epoch 13/15\n",
            "391/391 [==============================] - 310s 791ms/step - loss: 0.0407 - accuracy: 0.9864 - val_loss: 0.5142 - val_accuracy: 0.8669\n",
            "Epoch 14/15\n",
            "391/391 [==============================] - 308s 787ms/step - loss: 0.0321 - accuracy: 0.9898 - val_loss: 0.5920 - val_accuracy: 0.8672\n",
            "Epoch 15/15\n",
            "391/391 [==============================] - 311s 792ms/step - loss: 0.0333 - accuracy: 0.9893 - val_loss: 0.5705 - val_accuracy: 0.8653\n"
          ]
        }
      ]
    },
    {
      "cell_type": "code",
      "metadata": {
        "colab": {
          "base_uri": "https://localhost:8080/",
          "height": 580
        },
        "id": "4gO7NzQopp6R",
        "outputId": "59fd6270-c7e3-4b2e-8391-6cf6d998b7fe"
      },
      "source": [
        "acc      = history.history['accuracy']\n",
        "val_acc  = history.history['val_accuracy']\n",
        "\n",
        "epochs   = range(len(acc))\n",
        "\n",
        "plt.plot(epochs, acc, 'r', label = 'Training')\n",
        "plt.plot(epochs, val_acc, 'b', label = 'Validation')\n",
        "plt.title('Training and Validation Accuracy')\n",
        "plt.legend()\n",
        "plt.figure()\n",
        "\n",
        "loss     = history.history['loss']\n",
        "val_loss = history.history['val_loss']\n",
        "\n",
        "epochs   = range(len(loss))\n",
        "\n",
        "plt.plot(epochs, loss, 'r', label = 'Training')\n",
        "plt.plot(epochs, val_loss, 'b', label = 'Validation')\n",
        "plt.title('Training and Validation Loss')\n",
        "plt.legend()\n",
        "plt.figure()"
      ],
      "execution_count": null,
      "outputs": [
        {
          "output_type": "execute_result",
          "data": {
            "text/plain": [
              "<Figure size 432x288 with 0 Axes>"
            ]
          },
          "metadata": {},
          "execution_count": 25
        },
        {
          "output_type": "display_data",
          "data": {
            "image/png": "[encoded data removed]",
            "text/plain": [
              "<Figure size 432x288 with 1 Axes>"
            ]
          },
          "metadata": {
            "needs_background": "light"
          }
        },
        {
          "output_type": "display_data",
          "data": {
            "image/png": "[encoded data removed]",
            "text/plain": [
              "<Figure size 432x288 with 1 Axes>"
            ]
          },
          "metadata": {
            "needs_background": "light"
          }
        },
        {
          "output_type": "display_data",
          "data": {
            "text/plain": [
              "<Figure size 432x288 with 0 Axes>"
            ]
          },
          "metadata": {}
        }
      ]
    },
    {
      "cell_type": "markdown",
      "metadata": {
        "id": "8LLINnW0AFjH"
      },
      "source": [
        "### IMDB Subwords - Conv1D"
      ]
    },
    {
      "cell_type": "code",
      "metadata": {
        "id": "LI3kqdw24jRU"
      },
      "source": [
        "embedding_dim = 64\n",
        "num_classes = 1"
      ],
      "execution_count": null,
      "outputs": []
    },
    {
      "cell_type": "code",
      "metadata": {
        "id": "N7jFeFNo4jRV"
      },
      "source": [
        "model = Sequential([\n",
        "    layers.Embedding(input_dim=tokenizer.vocab_size, output_dim=embedding_dim),\n",
        "    layers.Conv1D(128, 5, activation='relu'),\n",
        "    layers.GlobalAveragePooling1D(),\n",
        "    layers.Dense(64, activation='relu'),\n",
        "    layers.Dense(num_classes, activation='sigmoid')\n",
        "])"
      ],
      "execution_count": null,
      "outputs": []
    },
    {
      "cell_type": "code",
      "metadata": {
        "colab": {
          "base_uri": "https://localhost:8080/"
        },
        "id": "KLFtL7P34jRW",
        "outputId": "f7498e02-4c8d-4ef2-9949-423e290c79fd"
      },
      "source": [
        "model.summary()"
      ],
      "execution_count": null,
      "outputs": [
        {
          "output_type": "stream",
          "name": "stdout",
          "text": [
            "Model: \"sequential_3\"\n",
            "_________________________________________________________________\n",
            "Layer (type)                 Output Shape              Param #   \n",
            "=================================================================\n",
            "embedding_3 (Embedding)      (None, None, 64)          523840    \n",
            "_________________________________________________________________\n",
            "conv1d (Conv1D)              (None, None, 128)         41088     \n",
            "_________________________________________________________________\n",
            "global_average_pooling1d (Gl (None, 128)               0         \n",
            "_________________________________________________________________\n",
            "dense_6 (Dense)              (None, 64)                8256      \n",
            "_________________________________________________________________\n",
            "dense_7 (Dense)              (None, 1)                 65        \n",
            "=================================================================\n",
            "Total params: 573,249\n",
            "Trainable params: 573,249\n",
            "Non-trainable params: 0\n",
            "_________________________________________________________________\n"
          ]
        }
      ]
    },
    {
      "cell_type": "code",
      "metadata": {
        "id": "D6tucMqL4jRX"
      },
      "source": [
        "optimizer   = tf.keras.optimizers.Adam(learning_rate=0.01)\n",
        "loss        = tf.keras.losses.BinaryCrossentropy()\n",
        "metrics     = ['accuracy']"
      ],
      "execution_count": null,
      "outputs": []
    },
    {
      "cell_type": "code",
      "metadata": {
        "id": "tUxJprWY4jRY"
      },
      "source": [
        "model.compile(optimizer=optimizer,\n",
        "              loss=loss,\n",
        "              metrics=metrics)"
      ],
      "execution_count": null,
      "outputs": []
    },
    {
      "cell_type": "code",
      "metadata": {
        "id": "IG-TBYfO4jRZ"
      },
      "source": [
        "early_stopping    = EarlyStopping(monitor='loss', patience=5)\n",
        "reduce_lr         = ReduceLROnPlateau(monitor='loss', patience=5, min_lr=0.001, mode='min', verbose=1)\n",
        "model_checkpoint  = ModelCheckpoint(monitor='loss', filepath='./best_model.h5', save_best_only=True)"
      ],
      "execution_count": null,
      "outputs": []
    },
    {
      "cell_type": "code",
      "metadata": {
        "id": "tlBkGQTf4jRZ"
      },
      "source": [
        "epochs = 15\n",
        "callbacks = [early_stopping, reduce_lr, model_checkpoint]"
      ],
      "execution_count": null,
      "outputs": []
    },
    {
      "cell_type": "code",
      "metadata": {
        "colab": {
          "base_uri": "https://localhost:8080/"
        },
        "id": "uQn0PW1k4jRa",
        "outputId": "f5249c34-f4d0-4a0e-9d35-337fdff9cb87"
      },
      "source": [
        "history = model.fit(train_data,\n",
        "                    validation_data=test_data,\n",
        "                    verbose = 1,\n",
        "                    epochs = epochs,\n",
        "                    callbacks = callbacks)"
      ],
      "execution_count": null,
      "outputs": [
        {
          "output_type": "stream",
          "name": "stdout",
          "text": [
            "Epoch 1/15\n",
            "391/391 [==============================] - 74s 121ms/step - loss: 0.3566 - accuracy: 0.8381 - val_loss: 0.2683 - val_accuracy: 0.8897\n",
            "Epoch 2/15\n",
            "391/391 [==============================] - 24s 59ms/step - loss: 0.1901 - accuracy: 0.9292 - val_loss: 0.3010 - val_accuracy: 0.8811\n",
            "Epoch 3/15\n",
            "391/391 [==============================] - 20s 50ms/step - loss: 0.1353 - accuracy: 0.9504 - val_loss: 0.3995 - val_accuracy: 0.8551\n",
            "Epoch 4/15\n",
            "391/391 [==============================] - 18s 44ms/step - loss: 0.0970 - accuracy: 0.9644 - val_loss: 0.4295 - val_accuracy: 0.8677\n",
            "Epoch 5/15\n",
            "391/391 [==============================] - 18s 43ms/step - loss: 0.0644 - accuracy: 0.9780 - val_loss: 0.4879 - val_accuracy: 0.8657\n",
            "Epoch 6/15\n",
            "391/391 [==============================] - 17s 42ms/step - loss: 0.0452 - accuracy: 0.9840 - val_loss: 0.6129 - val_accuracy: 0.8600\n",
            "Epoch 7/15\n",
            "391/391 [==============================] - 17s 41ms/step - loss: 0.0390 - accuracy: 0.9870 - val_loss: 0.7659 - val_accuracy: 0.8490\n",
            "Epoch 8/15\n",
            "391/391 [==============================] - 17s 41ms/step - loss: 0.0282 - accuracy: 0.9904 - val_loss: 0.7550 - val_accuracy: 0.8611\n",
            "Epoch 9/15\n",
            "391/391 [==============================] - 17s 40ms/step - loss: 0.0202 - accuracy: 0.9934 - val_loss: 0.8935 - val_accuracy: 0.8638\n",
            "Epoch 10/15\n",
            "391/391 [==============================] - 17s 40ms/step - loss: 0.0223 - accuracy: 0.9920 - val_loss: 0.7828 - val_accuracy: 0.8647\n",
            "Epoch 11/15\n",
            "391/391 [==============================] - 17s 40ms/step - loss: 0.0193 - accuracy: 0.9930 - val_loss: 0.7602 - val_accuracy: 0.8644\n",
            "Epoch 12/15\n",
            "391/391 [==============================] - 17s 41ms/step - loss: 0.0147 - accuracy: 0.9954 - val_loss: 0.8055 - val_accuracy: 0.8641\n",
            "Epoch 13/15\n",
            "391/391 [==============================] - 17s 41ms/step - loss: 0.0180 - accuracy: 0.9938 - val_loss: 0.7528 - val_accuracy: 0.8628\n",
            "Epoch 14/15\n",
            "391/391 [==============================] - 16s 40ms/step - loss: 0.0179 - accuracy: 0.9938 - val_loss: 1.1360 - val_accuracy: 0.8634\n",
            "Epoch 15/15\n",
            "391/391 [==============================] - 16s 39ms/step - loss: 0.0142 - accuracy: 0.9950 - val_loss: 0.8084 - val_accuracy: 0.8617\n"
          ]
        }
      ]
    },
    {
      "cell_type": "code",
      "metadata": {
        "colab": {
          "base_uri": "https://localhost:8080/",
          "height": 580
        },
        "id": "l4fPeBai4c0O",
        "outputId": "6c64087e-6c6d-46e4-f6cb-60ca8a8e288f"
      },
      "source": [
        "acc      = history.history['accuracy']\n",
        "val_acc  = history.history['val_accuracy']\n",
        "\n",
        "epochs   = range(len(acc))\n",
        "\n",
        "plt.plot(epochs, acc, 'r', label = 'Training')\n",
        "plt.plot(epochs, val_acc, 'b', label = 'Validation')\n",
        "plt.title('Training and Validation Accuracy')\n",
        "plt.legend()\n",
        "plt.figure()\n",
        "\n",
        "loss     = history.history['loss']\n",
        "val_loss = history.history['val_loss']\n",
        "\n",
        "epochs   = range(len(loss))\n",
        "\n",
        "plt.plot(epochs, loss, 'r', label = 'Training')\n",
        "plt.plot(epochs, val_loss, 'b', label = 'Validation')\n",
        "plt.title('Training and Validation Loss')\n",
        "plt.legend()\n",
        "plt.figure()"
      ],
      "execution_count": null,
      "outputs": [
        {
          "output_type": "execute_result",
          "data": {
            "text/plain": [
              "<Figure size 432x288 with 0 Axes>"
            ]
          },
          "metadata": {},
          "execution_count": 34
        },
        {
          "output_type": "display_data",
          "data": {
            "image/png": "[encoded data removed]",
            "text/plain": [
              "<Figure size 432x288 with 1 Axes>"
            ]
          },
          "metadata": {
            "needs_background": "light"
          }
        },
        {
          "output_type": "display_data",
          "data": {
            "image/png": "[encoded data removed]",
            "text/plain": [
              "<Figure size 432x288 with 1 Axes>"
            ]
          },
          "metadata": {
            "needs_background": "light"
          }
        },
        {
          "output_type": "display_data",
          "data": {
            "text/plain": [
              "<Figure size 432x288 with 0 Axes>"
            ]
          },
          "metadata": {}
        }
      ]
    },
    {
      "cell_type": "markdown",
      "metadata": {
        "id": "YNPn-SZ_IShR"
      },
      "source": [
        "## IMDB - BiLSTM"
      ]
    },
    {
      "cell_type": "code",
      "metadata": {
        "colab": {
          "base_uri": "https://localhost:8080/"
        },
        "id": "hhDtPw4uwvHe",
        "outputId": "8b91bcf6-53ad-4add-851b-2f1ccca2157e"
      },
      "source": [
        "import tensorflow as tf\n",
        "print(tf.__version__)"
      ],
      "execution_count": null,
      "outputs": [
        {
          "output_type": "stream",
          "name": "stdout",
          "text": [
            "2.6.0\n"
          ]
        }
      ]
    },
    {
      "cell_type": "code",
      "metadata": {
        "id": "qrCPbS4CwvHf"
      },
      "source": [
        "from tensorflow.keras.preprocessing.text import Tokenizer\n",
        "from tensorflow.keras.preprocessing.sequence import pad_sequences\n",
        "from tensorflow.keras.models import Sequential\n",
        "from tensorflow.keras import layers\n",
        "from tensorflow.keras.callbacks import EarlyStopping, ReduceLROnPlateau, ModelCheckpoint"
      ],
      "execution_count": null,
      "outputs": []
    },
    {
      "cell_type": "code",
      "metadata": {
        "id": "M84pfAd6wvHf"
      },
      "source": [
        "import pandas as pd\n",
        "import numpy as np\n",
        "import csv\n",
        "import random\n",
        "import json\n",
        "import matplotlib.pyplot as plt\n",
        "%matplotlib inline"
      ],
      "execution_count": null,
      "outputs": []
    },
    {
      "cell_type": "code",
      "metadata": {
        "id": "8ByVWb6gJBdA"
      },
      "source": [
        "import tensorflow_datasets as tfds\n",
        "\n",
        "imdb, info = tfds.load(\"imdb_reviews\", with_info=True, as_supervised=True)"
      ],
      "execution_count": null,
      "outputs": []
    },
    {
      "cell_type": "code",
      "metadata": {
        "colab": {
          "base_uri": "https://localhost:8080/"
        },
        "id": "ZrRpZTxHxWZo",
        "outputId": "7e6d5382-3e39-4b7a-93d8-7bba070da652"
      },
      "source": [
        "imdb"
      ],
      "execution_count": null,
      "outputs": [
        {
          "output_type": "execute_result",
          "data": {
            "text/plain": [
              "{'test': <PrefetchDataset shapes: ((), ()), types: (tf.string, tf.int64)>,\n",
              " 'train': <PrefetchDataset shapes: ((), ()), types: (tf.string, tf.int64)>,\n",
              " 'unsupervised': <PrefetchDataset shapes: ((), ()), types: (tf.string, tf.int64)>}"
            ]
          },
          "metadata": {},
          "execution_count": 5
        }
      ]
    },
    {
      "cell_type": "code",
      "metadata": {
        "colab": {
          "base_uri": "https://localhost:8080/"
        },
        "id": "3Kc7TbRhxYCc",
        "outputId": "72045622-d3c3-44db-b160-22a910a683fc"
      },
      "source": [
        "info"
      ],
      "execution_count": null,
      "outputs": [
        {
          "output_type": "execute_result",
          "data": {
            "text/plain": [
              "tfds.core.DatasetInfo(\n",
              "    name='imdb_reviews',\n",
              "    version=1.0.0,\n",
              "    description='Large Movie Review Dataset.\n",
              "This is a dataset for binary sentiment classification containing substantially more data than previous benchmark datasets. We provide a set of 25,000 highly polar movie reviews for training, and 25,000 for testing. There is additional unlabeled data for use as well.',\n",
              "    homepage='http://ai.stanford.edu/~amaas/data/sentiment/',\n",
              "    features=FeaturesDict({\n",
              "        'label': ClassLabel(shape=(), dtype=tf.int64, num_classes=2),\n",
              "        'text': Text(shape=(), dtype=tf.string),\n",
              "    }),\n",
              "    total_num_examples=100000,\n",
              "    splits={\n",
              "        'test': 25000,\n",
              "        'train': 25000,\n",
              "        'unsupervised': 50000,\n",
              "    },\n",
              "    supervised_keys=('text', 'label'),\n",
              "    citation=\"\"\"@InProceedings{maas-EtAl:2011:ACL-HLT2011,\n",
              "      author    = {Maas, Andrew L.  and  Daly, Raymond E.  and  Pham, Peter T.  and  Huang, Dan  and  Ng, Andrew Y.  and  Potts, Christopher},\n",
              "      title     = {Learning Word Vectors for Sentiment Analysis},\n",
              "      booktitle = {Proceedings of the 49th Annual Meeting of the Association for Computational Linguistics: Human Language Technologies},\n",
              "      month     = {June},\n",
              "      year      = {2011},\n",
              "      address   = {Portland, Oregon, USA},\n",
              "      publisher = {Association for Computational Linguistics},\n",
              "      pages     = {142--150},\n",
              "      url       = {http://www.aclweb.org/anthology/P11-1015}\n",
              "    }\"\"\",\n",
              "    redistribution_info=,\n",
              ")"
            ]
          },
          "metadata": {},
          "execution_count": 6
        }
      ]
    },
    {
      "cell_type": "code",
      "metadata": {
        "id": "wlBljZOR3S32"
      },
      "source": [
        "train_data, test_data = imdb['train'], imdb['test']"
      ],
      "execution_count": null,
      "outputs": []
    },
    {
      "cell_type": "code",
      "metadata": {
        "id": "wHQ2Ko0zl7M4"
      },
      "source": [
        "training_sentences = []\n",
        "training_labels = []\n",
        "\n",
        "testing_sentences = []\n",
        "testing_labels = []\n",
        "\n",
        "for s, l in train_data:\n",
        "  training_sentences.append(str(s.numpy()))         # tensor -> numpy -> extracting sentences \n",
        "  training_labels.append(l.numpy())                 # tensor -> numpy -> extracting labels\n",
        "  \n",
        "for s, l in test_data:\n",
        "  testing_sentences.append(str(s.numpy()))\n",
        "  testing_labels.append(l.numpy())"
      ],
      "execution_count": null,
      "outputs": []
    },
    {
      "cell_type": "code",
      "metadata": {
        "colab": {
          "base_uri": "https://localhost:8080/"
        },
        "id": "xhUxqY9P4HGm",
        "outputId": "aed02ef8-b615-43b6-c72d-205d449c958c"
      },
      "source": [
        "training_sentences[:2]"
      ],
      "execution_count": null,
      "outputs": [
        {
          "output_type": "execute_result",
          "data": {
            "text/plain": [
              "['b\"This was an absolutely terrible movie. Don\\'t be lured in by Christopher Walken or Michael Ironside. Both are great actors, but this must simply be their worst role in history. Even their great acting could not redeem this movie\\'s ridiculous storyline. This movie is an early nineties US propaganda piece. The most pathetic scenes were those when the Columbian rebels were making their cases for revolutions. Maria Conchita Alonso appeared phony, and her pseudo-love affair with Walken was nothing but a pathetic emotional plug in a movie that was devoid of any real meaning. I am disappointed that there are movies like this, ruining actor\\'s like Christopher Walken\\'s good name. I could barely sit through it.\"',\n",
              " \"b'I have been known to fall asleep during films, but this is usually due to a combination of things including, really tired, being warm and comfortable on the sette and having just eaten a lot. However on this occasion I fell asleep because the film was rubbish. The plot development was constant. Constantly slow and boring. Things seemed to happen, but with no explanation of what was causing them or why. I admit, I may have missed part of the film, but i watched the majority of it and everything just seemed to happen of its own accord without any real concern for anything else. I cant recommend this film at all.'\"]"
            ]
          },
          "metadata": {},
          "execution_count": 9
        }
      ]
    },
    {
      "cell_type": "code",
      "metadata": {
        "colab": {
          "base_uri": "https://localhost:8080/"
        },
        "id": "9YZ_aXdv4JvL",
        "outputId": "455063a8-5aa1-40f8-c9dc-ee903f02081a"
      },
      "source": [
        "training_labels[:2]"
      ],
      "execution_count": null,
      "outputs": [
        {
          "output_type": "execute_result",
          "data": {
            "text/plain": [
              "[0, 0]"
            ]
          },
          "metadata": {},
          "execution_count": 10
        }
      ]
    },
    {
      "cell_type": "code",
      "metadata": {
        "colab": {
          "base_uri": "https://localhost:8080/"
        },
        "id": "W8wMLot34WGb",
        "outputId": "97c46657-e201-4021-80ab-88d6a0f14bf8"
      },
      "source": [
        "len(training_sentences), len(training_labels)"
      ],
      "execution_count": null,
      "outputs": [
        {
          "output_type": "execute_result",
          "data": {
            "text/plain": [
              "(25000, 25000)"
            ]
          },
          "metadata": {},
          "execution_count": 11
        }
      ]
    },
    {
      "cell_type": "code",
      "metadata": {
        "colab": {
          "base_uri": "https://localhost:8080/"
        },
        "id": "asLOvE5J4W-Z",
        "outputId": "b90955d7-8e42-4ddd-9007-00f5378809ff"
      },
      "source": [
        "len(testing_sentences), len(testing_labels)"
      ],
      "execution_count": null,
      "outputs": [
        {
          "output_type": "execute_result",
          "data": {
            "text/plain": [
              "(25000, 25000)"
            ]
          },
          "metadata": {},
          "execution_count": 12
        }
      ]
    },
    {
      "cell_type": "code",
      "metadata": {
        "colab": {
          "base_uri": "https://localhost:8080/"
        },
        "id": "cb4o2oia4ZZ0",
        "outputId": "16618bda-3d1b-466f-f4c0-7a3d10d8c434"
      },
      "source": [
        "type(training_labels)"
      ],
      "execution_count": null,
      "outputs": [
        {
          "output_type": "execute_result",
          "data": {
            "text/plain": [
              "list"
            ]
          },
          "metadata": {},
          "execution_count": 13
        }
      ]
    },
    {
      "cell_type": "code",
      "metadata": {
        "id": "nek1QmOl3Z8O"
      },
      "source": [
        "# when training, labels should be numpy arrays\n",
        "\n",
        "training_labels = np.array(training_labels)\n",
        "testing_labels = np.array(testing_labels)"
      ],
      "execution_count": null,
      "outputs": []
    },
    {
      "cell_type": "code",
      "metadata": {
        "id": "6TmaVLJC4mkx"
      },
      "source": [
        "vocab_size = 10000                      # number of unique words in the corpus\n",
        "embedding_dim = 16                      # number of dimensions we wish to embed each word into\n",
        "max_length = 120                        # maximum length of document/sentence\n",
        "\n",
        "trunc_type = \"post\"                     \n",
        "oov_tok = \"<OOV>\"                       # out of vocab words in test set will be marked OOV"
      ],
      "execution_count": null,
      "outputs": []
    },
    {
      "cell_type": "code",
      "metadata": {
        "id": "T5MV-yi44vbx"
      },
      "source": [
        "tokenizer = Tokenizer(num_words=vocab_size, oov_token=oov_tok)\n",
        "tokenizer.fit_on_texts(training_sentences)\n",
        "word_index = tokenizer.word_index\n",
        "\n",
        "training_sequences = tokenizer.texts_to_sequences(training_sentences)\n",
        "training_padded = pad_sequences(training_sequences, maxlen=max_length, truncating=trunc_type)\n",
        "\n",
        "testing_sequences = tokenizer.texts_to_sequences(testing_sentences)\n",
        "testing_padded = pad_sequences(testing_sequences, maxlen=max_length)"
      ],
      "execution_count": null,
      "outputs": []
    },
    {
      "cell_type": "code",
      "metadata": {
        "colab": {
          "base_uri": "https://localhost:8080/"
        },
        "id": "ih1sw1gV40nP",
        "outputId": "dc24915b-e248-46aa-de6f-6b2dceecc568"
      },
      "source": [
        "len(word_index)"
      ],
      "execution_count": null,
      "outputs": [
        {
          "output_type": "execute_result",
          "data": {
            "text/plain": [
              "86539"
            ]
          },
          "metadata": {},
          "execution_count": 17
        }
      ]
    },
    {
      "cell_type": "code",
      "metadata": {
        "id": "7n15yyMdmoH1"
      },
      "source": [
        "num_classes = 1"
      ],
      "execution_count": null,
      "outputs": []
    },
    {
      "cell_type": "code",
      "metadata": {
        "id": "cyuf1GwI47-F"
      },
      "source": [
        "model = Sequential([\n",
        "    layers.Embedding(input_dim=vocab_size, output_dim=embedding_dim, input_length=max_length),\n",
        "    layers.Bidirectional(layers.LSTM(32)),\n",
        "    layers.Dense(6, activation='relu'),\n",
        "    layers.Dense(num_classes, activation='sigmoid')\n",
        "])"
      ],
      "execution_count": null,
      "outputs": []
    },
    {
      "cell_type": "code",
      "metadata": {
        "colab": {
          "base_uri": "https://localhost:8080/"
        },
        "id": "z_dfHRJx5Q6c",
        "outputId": "76d60148-a86c-4320-e301-586e7e54a32d"
      },
      "source": [
        "model.summary()"
      ],
      "execution_count": null,
      "outputs": [
        {
          "output_type": "stream",
          "name": "stdout",
          "text": [
            "Model: \"sequential\"\n",
            "_________________________________________________________________\n",
            "Layer (type)                 Output Shape              Param #   \n",
            "=================================================================\n",
            "embedding (Embedding)        (None, 120, 16)           160000    \n",
            "_________________________________________________________________\n",
            "bidirectional (Bidirectional (None, 64)                12544     \n",
            "_________________________________________________________________\n",
            "dense (Dense)                (None, 6)                 390       \n",
            "_________________________________________________________________\n",
            "dense_1 (Dense)              (None, 1)                 7         \n",
            "=================================================================\n",
            "Total params: 172,941\n",
            "Trainable params: 172,941\n",
            "Non-trainable params: 0\n",
            "_________________________________________________________________\n"
          ]
        }
      ]
    },
    {
      "cell_type": "code",
      "metadata": {
        "id": "TWyxPBfM5UL3"
      },
      "source": [
        "optimizer   = tf.keras.optimizers.Adam(learning_rate=0.01)\n",
        "loss        = tf.keras.losses.BinaryCrossentropy()\n",
        "metrics     = ['accuracy']"
      ],
      "execution_count": null,
      "outputs": []
    },
    {
      "cell_type": "code",
      "metadata": {
        "id": "eroFJX4F5GJL"
      },
      "source": [
        "model.compile(optimizer=optimizer,\n",
        "              loss=loss,\n",
        "              metrics=metrics)"
      ],
      "execution_count": null,
      "outputs": []
    },
    {
      "cell_type": "code",
      "metadata": {
        "id": "Ms9WoVUcJutz"
      },
      "source": [
        "early_stopping    = EarlyStopping(monitor='loss', patience=7)\n",
        "reduce_lr         = ReduceLROnPlateau(monitor='loss', patience=7, min_lr=0.001, mode='min', verbose=1)\n",
        "model_checkpoint  = ModelCheckpoint(monitor='loss', filepath='./best_model.h5', save_best_only=True)"
      ],
      "execution_count": null,
      "outputs": []
    },
    {
      "cell_type": "code",
      "metadata": {
        "id": "J5xtjLcJ5b6R"
      },
      "source": [
        "epochs = 20\n",
        "callbacks = [early_stopping, reduce_lr, model_checkpoint]"
      ],
      "execution_count": null,
      "outputs": []
    },
    {
      "cell_type": "code",
      "metadata": {
        "colab": {
          "base_uri": "https://localhost:8080/"
        },
        "id": "6kAsG9tz5epQ",
        "outputId": "fa4849f1-55bd-4940-984c-2464e0f52a8c"
      },
      "source": [
        "history = model.fit(training_padded,\n",
        "                    training_labels,\n",
        "                    validation_data=(testing_padded, testing_labels),\n",
        "                    verbose = 1,\n",
        "                    epochs = epochs,\n",
        "                    callbacks = callbacks)"
      ],
      "execution_count": null,
      "outputs": [
        {
          "output_type": "stream",
          "name": "stdout",
          "text": [
            "Epoch 1/20\n",
            "782/782 [==============================] - 54s 58ms/step - loss: 0.5293 - accuracy: 0.7250 - val_loss: 0.3734 - val_accuracy: 0.8336\n",
            "Epoch 2/20\n",
            "782/782 [==============================] - 45s 58ms/step - loss: 0.3038 - accuracy: 0.8736 - val_loss: 0.3962 - val_accuracy: 0.8328\n",
            "Epoch 3/20\n",
            "782/782 [==============================] - 45s 58ms/step - loss: 0.2188 - accuracy: 0.9138 - val_loss: 0.3997 - val_accuracy: 0.8256\n",
            "Epoch 4/20\n",
            "782/782 [==============================] - 45s 57ms/step - loss: 0.1446 - accuracy: 0.9462 - val_loss: 0.4622 - val_accuracy: 0.8318\n",
            "Epoch 5/20\n",
            "782/782 [==============================] - 45s 57ms/step - loss: 0.0921 - accuracy: 0.9681 - val_loss: 0.5394 - val_accuracy: 0.8188\n",
            "Epoch 6/20\n",
            "782/782 [==============================] - 45s 57ms/step - loss: 0.0677 - accuracy: 0.9760 - val_loss: 0.6414 - val_accuracy: 0.8292\n",
            "Epoch 7/20\n",
            "782/782 [==============================] - 45s 58ms/step - loss: 0.0490 - accuracy: 0.9835 - val_loss: 0.7027 - val_accuracy: 0.8132\n",
            "Epoch 8/20\n",
            "782/782 [==============================] - 45s 58ms/step - loss: 0.0421 - accuracy: 0.9853 - val_loss: 0.7379 - val_accuracy: 0.8209\n",
            "Epoch 9/20\n",
            "782/782 [==============================] - 45s 58ms/step - loss: 0.0370 - accuracy: 0.9872 - val_loss: 0.7979 - val_accuracy: 0.8195\n",
            "Epoch 10/20\n",
            "782/782 [==============================] - 45s 58ms/step - loss: 0.0265 - accuracy: 0.9913 - val_loss: 0.8626 - val_accuracy: 0.8088\n",
            "Epoch 11/20\n",
            "782/782 [==============================] - 45s 58ms/step - loss: 0.0289 - accuracy: 0.9898 - val_loss: 0.8055 - val_accuracy: 0.8129\n",
            "Epoch 12/20\n",
            "782/782 [==============================] - 45s 58ms/step - loss: 0.0310 - accuracy: 0.9894 - val_loss: 0.8640 - val_accuracy: 0.8146\n",
            "Epoch 13/20\n",
            "782/782 [==============================] - 45s 58ms/step - loss: 0.0211 - accuracy: 0.9934 - val_loss: 0.8904 - val_accuracy: 0.8219\n",
            "Epoch 14/20\n",
            "782/782 [==============================] - 46s 58ms/step - loss: 0.0193 - accuracy: 0.9937 - val_loss: 0.9035 - val_accuracy: 0.8228\n",
            "Epoch 15/20\n",
            "782/782 [==============================] - 45s 58ms/step - loss: 0.0169 - accuracy: 0.9948 - val_loss: 1.0780 - val_accuracy: 0.8134\n",
            "Epoch 16/20\n",
            "782/782 [==============================] - 45s 58ms/step - loss: 0.0217 - accuracy: 0.9926 - val_loss: 0.9019 - val_accuracy: 0.8219\n",
            "Epoch 17/20\n",
            "782/782 [==============================] - 45s 58ms/step - loss: 0.0212 - accuracy: 0.9922 - val_loss: 0.9754 - val_accuracy: 0.8172\n",
            "Epoch 18/20\n",
            "782/782 [==============================] - 45s 58ms/step - loss: 0.0160 - accuracy: 0.9948 - val_loss: 1.0990 - val_accuracy: 0.8127\n",
            "Epoch 19/20\n",
            "782/782 [==============================] - 45s 58ms/step - loss: 0.0172 - accuracy: 0.9939 - val_loss: 1.0916 - val_accuracy: 0.8131\n",
            "Epoch 20/20\n",
            "782/782 [==============================] - 45s 58ms/step - loss: 0.0157 - accuracy: 0.9950 - val_loss: 0.9231 - val_accuracy: 0.8082\n"
          ]
        }
      ]
    },
    {
      "cell_type": "code",
      "metadata": {
        "colab": {
          "base_uri": "https://localhost:8080/",
          "height": 580
        },
        "id": "2OhGgydm5kDd",
        "outputId": "bc6dc1b5-c511-46cf-b15f-688af318a1d7"
      },
      "source": [
        "acc      = history.history['accuracy']\n",
        "val_acc  = history.history['val_accuracy']\n",
        "\n",
        "epochs   = range(len(acc))\n",
        "\n",
        "plt.plot(epochs, acc, 'r', label = 'Training')\n",
        "plt.plot(epochs, val_acc, 'b', label = 'Validation')\n",
        "plt.title('Training and Validation Accuracy')\n",
        "plt.legend()\n",
        "plt.figure()\n",
        "\n",
        "loss     = history.history['loss']\n",
        "val_loss = history.history['val_loss']\n",
        "\n",
        "epochs   = range(len(loss))\n",
        "\n",
        "plt.plot(epochs, loss, 'r', label = 'Training')\n",
        "plt.plot(epochs, val_loss, 'b', label = 'Validation')\n",
        "plt.title('Training and Validation Loss')\n",
        "plt.legend()\n",
        "plt.figure()"
      ],
      "execution_count": null,
      "outputs": [
        {
          "output_type": "execute_result",
          "data": {
            "text/plain": [
              "<Figure size 432x288 with 0 Axes>"
            ]
          },
          "metadata": {},
          "execution_count": 27
        },
        {
          "output_type": "display_data",
          "data": {
            "image/png": "[encoded data removed]",
            "text/plain": [
              "<Figure size 432x288 with 1 Axes>"
            ]
          },
          "metadata": {
            "needs_background": "light"
          }
        },
        {
          "output_type": "display_data",
          "data": {
            "image/png": "[encoded data removed]",
            "text/plain": [
              "<Figure size 432x288 with 1 Axes>"
            ]
          },
          "metadata": {
            "needs_background": "light"
          }
        },
        {
          "output_type": "display_data",
          "data": {
            "text/plain": [
              "<Figure size 432x288 with 0 Axes>"
            ]
          },
          "metadata": {}
        }
      ]
    },
    {
      "cell_type": "markdown",
      "metadata": {
        "id": "3AGCRyQNJqt_"
      },
      "source": [
        "## IMDB - BiGRU"
      ]
    },
    {
      "cell_type": "code",
      "metadata": {
        "id": "dJqij_fk-DkO"
      },
      "source": [
        "num_classes = 1"
      ],
      "execution_count": null,
      "outputs": []
    },
    {
      "cell_type": "code",
      "metadata": {
        "id": "N0pBmgp3-DkP"
      },
      "source": [
        "model = Sequential([\n",
        "    layers.Embedding(input_dim=vocab_size, output_dim=embedding_dim, input_length=max_length),\n",
        "    layers.Bidirectional(layers.GRU(32)),\n",
        "    layers.Dense(6, activation='relu'),\n",
        "    layers.Dense(num_classes, activation='sigmoid')\n",
        "])"
      ],
      "execution_count": null,
      "outputs": []
    },
    {
      "cell_type": "code",
      "metadata": {
        "colab": {
          "base_uri": "https://localhost:8080/"
        },
        "id": "iaW3yzvW-DkQ",
        "outputId": "29f87fbd-9e67-4d99-de98-0fe2138192bd"
      },
      "source": [
        "model.summary()"
      ],
      "execution_count": null,
      "outputs": [
        {
          "output_type": "stream",
          "name": "stdout",
          "text": [
            "Model: \"sequential_2\"\n",
            "_________________________________________________________________\n",
            "Layer (type)                 Output Shape              Param #   \n",
            "=================================================================\n",
            "embedding_2 (Embedding)      (None, 120, 16)           160000    \n",
            "_________________________________________________________________\n",
            "bidirectional_2 (Bidirection (None, 64)                9600      \n",
            "_________________________________________________________________\n",
            "dense_4 (Dense)              (None, 6)                 390       \n",
            "_________________________________________________________________\n",
            "dense_5 (Dense)              (None, 1)                 7         \n",
            "=================================================================\n",
            "Total params: 169,997\n",
            "Trainable params: 169,997\n",
            "Non-trainable params: 0\n",
            "_________________________________________________________________\n"
          ]
        }
      ]
    },
    {
      "cell_type": "code",
      "metadata": {
        "id": "8zbCbadC-DkR"
      },
      "source": [
        "optimizer   = tf.keras.optimizers.Adam(learning_rate=0.01)\n",
        "loss        = tf.keras.losses.BinaryCrossentropy()\n",
        "metrics     = ['accuracy']"
      ],
      "execution_count": null,
      "outputs": []
    },
    {
      "cell_type": "code",
      "metadata": {
        "id": "-qkyI8xj-DkR"
      },
      "source": [
        "model.compile(optimizer=optimizer,\n",
        "              loss=loss,\n",
        "              metrics=metrics)"
      ],
      "execution_count": null,
      "outputs": []
    },
    {
      "cell_type": "code",
      "metadata": {
        "id": "ekLqlLsx-DkS"
      },
      "source": [
        "early_stopping    = EarlyStopping(monitor='loss', patience=7)\n",
        "reduce_lr         = ReduceLROnPlateau(monitor='loss', patience=7, min_lr=0.001, mode='min', verbose=1)\n",
        "model_checkpoint  = ModelCheckpoint(monitor='loss', filepath='./best_model.h5', save_best_only=True)"
      ],
      "execution_count": null,
      "outputs": []
    },
    {
      "cell_type": "code",
      "metadata": {
        "id": "ArauWznr-DkT"
      },
      "source": [
        "epochs = 20\n",
        "callbacks = [early_stopping, reduce_lr, model_checkpoint]"
      ],
      "execution_count": null,
      "outputs": []
    },
    {
      "cell_type": "code",
      "metadata": {
        "colab": {
          "base_uri": "https://localhost:8080/"
        },
        "id": "jR2yMpmbPYT0",
        "outputId": "1158a6b0-f166-4634-b453-deeaf5a9c9aa"
      },
      "source": [
        "history = model.fit(training_padded,\n",
        "                    training_labels,\n",
        "                    validation_data=(testing_padded, testing_labels),\n",
        "                    verbose = 1,\n",
        "                    epochs = epochs,\n",
        "                    callbacks = callbacks)\n",
        "\n",
        "# loss was stuck so had to run model part 3 times"
      ],
      "execution_count": null,
      "outputs": [
        {
          "output_type": "stream",
          "name": "stdout",
          "text": [
            "Epoch 1/20\n",
            "782/782 [==============================] - 50s 59ms/step - loss: 0.4434 - accuracy: 0.7773 - val_loss: 0.3194 - val_accuracy: 0.8624\n",
            "Epoch 2/20\n",
            "782/782 [==============================] - 45s 58ms/step - loss: 0.2490 - accuracy: 0.9019 - val_loss: 0.3443 - val_accuracy: 0.8549\n",
            "Epoch 3/20\n",
            "782/782 [==============================] - 45s 58ms/step - loss: 0.1549 - accuracy: 0.9433 - val_loss: 0.4513 - val_accuracy: 0.8288\n",
            "Epoch 4/20\n",
            "782/782 [==============================] - 45s 58ms/step - loss: 0.1018 - accuracy: 0.9620 - val_loss: 0.5348 - val_accuracy: 0.8269\n",
            "Epoch 5/20\n",
            "782/782 [==============================] - 45s 58ms/step - loss: 0.0700 - accuracy: 0.9748 - val_loss: 0.5087 - val_accuracy: 0.8333\n",
            "Epoch 6/20\n",
            "782/782 [==============================] - 45s 58ms/step - loss: 0.0577 - accuracy: 0.9798 - val_loss: 0.6960 - val_accuracy: 0.8223\n",
            "Epoch 7/20\n",
            "782/782 [==============================] - 45s 58ms/step - loss: 0.0473 - accuracy: 0.9833 - val_loss: 0.8136 - val_accuracy: 0.8271\n",
            "Epoch 8/20\n",
            "782/782 [==============================] - 45s 58ms/step - loss: 0.0369 - accuracy: 0.9871 - val_loss: 0.7150 - val_accuracy: 0.8270\n",
            "Epoch 9/20\n",
            "782/782 [==============================] - 45s 58ms/step - loss: 0.0425 - accuracy: 0.9852 - val_loss: 0.7597 - val_accuracy: 0.8138\n",
            "Epoch 10/20\n",
            "782/782 [==============================] - 45s 58ms/step - loss: 0.0469 - accuracy: 0.9827 - val_loss: 0.7418 - val_accuracy: 0.8156\n",
            "Epoch 11/20\n",
            "782/782 [==============================] - 45s 58ms/step - loss: 0.0448 - accuracy: 0.9840 - val_loss: 0.8931 - val_accuracy: 0.8193\n",
            "Epoch 12/20\n",
            "782/782 [==============================] - 45s 58ms/step - loss: 0.0295 - accuracy: 0.9897 - val_loss: 0.8956 - val_accuracy: 0.8158\n",
            "Epoch 13/20\n",
            "782/782 [==============================] - 45s 58ms/step - loss: 0.0406 - accuracy: 0.9856 - val_loss: 0.7262 - val_accuracy: 0.8142\n",
            "Epoch 14/20\n",
            "782/782 [==============================] - 45s 58ms/step - loss: 0.0308 - accuracy: 0.9895 - val_loss: 0.8976 - val_accuracy: 0.8109\n",
            "Epoch 15/20\n",
            "782/782 [==============================] - 45s 58ms/step - loss: 0.0449 - accuracy: 0.9834 - val_loss: 0.8276 - val_accuracy: 0.8146\n",
            "Epoch 16/20\n",
            "782/782 [==============================] - 45s 58ms/step - loss: 0.0558 - accuracy: 0.9791 - val_loss: 0.6268 - val_accuracy: 0.8054\n",
            "Epoch 17/20\n",
            "782/782 [==============================] - 45s 58ms/step - loss: 0.1411 - accuracy: 0.9454 - val_loss: 0.6796 - val_accuracy: 0.7953\n",
            "Epoch 18/20\n",
            "782/782 [==============================] - 45s 58ms/step - loss: 0.1571 - accuracy: 0.9385 - val_loss: 0.6125 - val_accuracy: 0.7950\n",
            "Epoch 19/20\n",
            "782/782 [==============================] - 45s 58ms/step - loss: 0.1739 - accuracy: 0.9313 - val_loss: 0.5935 - val_accuracy: 0.7867\n",
            "\n",
            "Epoch 00019: ReduceLROnPlateau reducing learning rate to 0.001.\n"
          ]
        }
      ]
    },
    {
      "cell_type": "code",
      "metadata": {
        "colab": {
          "base_uri": "https://localhost:8080/",
          "height": 580
        },
        "id": "O_LZRloc-DkV",
        "outputId": "2c8ec095-94d9-49c9-8ce0-daab685f09c6"
      },
      "source": [
        "acc      = history.history['accuracy']\n",
        "val_acc  = history.history['val_accuracy']\n",
        "\n",
        "epochs   = range(len(acc))\n",
        "\n",
        "plt.plot(epochs, acc, 'r', label = 'Training')\n",
        "plt.plot(epochs, val_acc, 'b', label = 'Validation')\n",
        "plt.title('Training and Validation Accuracy')\n",
        "plt.legend()\n",
        "plt.figure()\n",
        "\n",
        "loss     = history.history['loss']\n",
        "val_loss = history.history['val_loss']\n",
        "\n",
        "epochs   = range(len(loss))\n",
        "\n",
        "plt.plot(epochs, loss, 'r', label = 'Training')\n",
        "plt.plot(epochs, val_loss, 'b', label = 'Validation')\n",
        "plt.title('Training and Validation Loss')\n",
        "plt.legend()\n",
        "plt.figure()"
      ],
      "execution_count": null,
      "outputs": [
        {
          "output_type": "execute_result",
          "data": {
            "text/plain": [
              "<Figure size 432x288 with 0 Axes>"
            ]
          },
          "metadata": {},
          "execution_count": 42
        },
        {
          "output_type": "display_data",
          "data": {
            "image/png": "[encoded data removed]",
            "text/plain": [
              "<Figure size 432x288 with 1 Axes>"
            ]
          },
          "metadata": {
            "needs_background": "light"
          }
        },
        {
          "output_type": "display_data",
          "data": {
            "image/png": "[encoded data removed]",
            "text/plain": [
              "<Figure size 432x288 with 1 Axes>"
            ]
          },
          "metadata": {
            "needs_background": "light"
          }
        },
        {
          "output_type": "display_data",
          "data": {
            "text/plain": [
              "<Figure size 432x288 with 0 Axes>"
            ]
          },
          "metadata": {}
        }
      ]
    },
    {
      "cell_type": "markdown",
      "metadata": {
        "id": "GUnzzA1BKFyv"
      },
      "source": [
        "## IMDB - Conv1D"
      ]
    },
    {
      "cell_type": "code",
      "metadata": {
        "id": "ht-3tOiFT8KA"
      },
      "source": [
        "num_classes = 1"
      ],
      "execution_count": null,
      "outputs": []
    },
    {
      "cell_type": "code",
      "metadata": {
        "id": "ZEKdh8YMT8KB"
      },
      "source": [
        "model = Sequential([\n",
        "    layers.Embedding(input_dim=vocab_size, output_dim=embedding_dim, input_length=max_length),\n",
        "    layers.Conv1D(128, 5, activation='relu'),\n",
        "    layers.GlobalAveragePooling1D(),\n",
        "    layers.Dense(6, activation='relu'),\n",
        "    layers.Dense(num_classes, activation='sigmoid')\n",
        "])"
      ],
      "execution_count": null,
      "outputs": []
    },
    {
      "cell_type": "code",
      "metadata": {
        "colab": {
          "base_uri": "https://localhost:8080/"
        },
        "id": "tuwm5dbvT8KB",
        "outputId": "9d99b8f0-fc3f-4d34-dd92-e7cbd686e8d0"
      },
      "source": [
        "model.summary()"
      ],
      "execution_count": null,
      "outputs": [
        {
          "output_type": "stream",
          "name": "stdout",
          "text": [
            "Model: \"sequential_3\"\n",
            "_________________________________________________________________\n",
            "Layer (type)                 Output Shape              Param #   \n",
            "=================================================================\n",
            "embedding_3 (Embedding)      (None, 120, 16)           160000    \n",
            "_________________________________________________________________\n",
            "conv1d (Conv1D)              (None, 116, 128)          10368     \n",
            "_________________________________________________________________\n",
            "global_average_pooling1d (Gl (None, 128)               0         \n",
            "_________________________________________________________________\n",
            "dense_6 (Dense)              (None, 6)                 774       \n",
            "_________________________________________________________________\n",
            "dense_7 (Dense)              (None, 1)                 7         \n",
            "=================================================================\n",
            "Total params: 171,149\n",
            "Trainable params: 171,149\n",
            "Non-trainable params: 0\n",
            "_________________________________________________________________\n"
          ]
        }
      ]
    },
    {
      "cell_type": "code",
      "metadata": {
        "id": "MI8bHAfmT8KC"
      },
      "source": [
        "optimizer   = tf.keras.optimizers.Adam(learning_rate=0.01)\n",
        "loss        = tf.keras.losses.BinaryCrossentropy()\n",
        "metrics     = ['accuracy']"
      ],
      "execution_count": null,
      "outputs": []
    },
    {
      "cell_type": "code",
      "metadata": {
        "id": "-nGkNOBZT8KC"
      },
      "source": [
        "model.compile(optimizer=optimizer,\n",
        "              loss=loss,\n",
        "              metrics=metrics)"
      ],
      "execution_count": null,
      "outputs": []
    },
    {
      "cell_type": "code",
      "metadata": {
        "id": "2_74JHf8T8KD"
      },
      "source": [
        "early_stopping    = EarlyStopping(monitor='loss', patience=7)\n",
        "reduce_lr         = ReduceLROnPlateau(monitor='loss', patience=7, min_lr=0.001, mode='min', verbose=1)\n",
        "model_checkpoint  = ModelCheckpoint(monitor='loss', filepath='./best_model.h5', save_best_only=True)"
      ],
      "execution_count": null,
      "outputs": []
    },
    {
      "cell_type": "code",
      "metadata": {
        "id": "9wFMa0aNT8KE"
      },
      "source": [
        "epochs = 20\n",
        "callbacks = [early_stopping, reduce_lr, model_checkpoint]"
      ],
      "execution_count": null,
      "outputs": []
    },
    {
      "cell_type": "code",
      "metadata": {
        "colab": {
          "base_uri": "https://localhost:8080/"
        },
        "id": "M8n1SD0GT8KE",
        "outputId": "b4287482-33b0-4594-8340-bfb9f3b2139e"
      },
      "source": [
        "history = model.fit(training_padded,\n",
        "                    training_labels,\n",
        "                    validation_data=(testing_padded, testing_labels),\n",
        "                    verbose = 1,\n",
        "                    epochs = epochs,\n",
        "                    callbacks = callbacks)"
      ],
      "execution_count": null,
      "outputs": [
        {
          "output_type": "stream",
          "name": "stdout",
          "text": [
            "Epoch 1/20\n",
            "782/782 [==============================] - 33s 9ms/step - loss: 0.4071 - accuracy: 0.8122 - val_loss: 0.3681 - val_accuracy: 0.8344\n",
            "Epoch 2/20\n",
            "782/782 [==============================] - 6s 8ms/step - loss: 0.2588 - accuracy: 0.8968 - val_loss: 0.3715 - val_accuracy: 0.8424\n",
            "Epoch 3/20\n",
            "782/782 [==============================] - 7s 9ms/step - loss: 0.1928 - accuracy: 0.9249 - val_loss: 0.3984 - val_accuracy: 0.8304\n",
            "Epoch 4/20\n",
            "782/782 [==============================] - 6s 8ms/step - loss: 0.1338 - accuracy: 0.9515 - val_loss: 0.4879 - val_accuracy: 0.8244\n",
            "Epoch 5/20\n",
            "782/782 [==============================] - 6s 8ms/step - loss: 0.0922 - accuracy: 0.9672 - val_loss: 0.6453 - val_accuracy: 0.8212\n",
            "Epoch 6/20\n",
            "782/782 [==============================] - 6s 8ms/step - loss: 0.0652 - accuracy: 0.9760 - val_loss: 0.7276 - val_accuracy: 0.8135\n",
            "Epoch 7/20\n",
            "782/782 [==============================] - 6s 8ms/step - loss: 0.0431 - accuracy: 0.9850 - val_loss: 0.9439 - val_accuracy: 0.8081\n",
            "Epoch 8/20\n",
            "782/782 [==============================] - 7s 9ms/step - loss: 0.0376 - accuracy: 0.9865 - val_loss: 0.8396 - val_accuracy: 0.8143\n",
            "Epoch 9/20\n",
            "782/782 [==============================] - 6s 8ms/step - loss: 0.0267 - accuracy: 0.9898 - val_loss: 0.9199 - val_accuracy: 0.8128\n",
            "Epoch 10/20\n",
            "782/782 [==============================] - 6s 8ms/step - loss: 0.0207 - accuracy: 0.9926 - val_loss: 1.0695 - val_accuracy: 0.8022\n",
            "Epoch 11/20\n",
            "782/782 [==============================] - 6s 8ms/step - loss: 0.0182 - accuracy: 0.9934 - val_loss: 1.1517 - val_accuracy: 0.8120\n",
            "Epoch 12/20\n",
            "782/782 [==============================] - 6s 8ms/step - loss: 0.0142 - accuracy: 0.9948 - val_loss: 1.2060 - val_accuracy: 0.8130\n",
            "Epoch 13/20\n",
            "782/782 [==============================] - 6s 8ms/step - loss: 0.0148 - accuracy: 0.9952 - val_loss: 1.3232 - val_accuracy: 0.8112\n",
            "Epoch 14/20\n",
            "782/782 [==============================] - 6s 8ms/step - loss: 0.0146 - accuracy: 0.9955 - val_loss: 0.9439 - val_accuracy: 0.7971\n",
            "Epoch 15/20\n",
            "782/782 [==============================] - 6s 8ms/step - loss: 0.0172 - accuracy: 0.9939 - val_loss: 1.3448 - val_accuracy: 0.8082\n",
            "Epoch 16/20\n",
            "782/782 [==============================] - 7s 9ms/step - loss: 0.0133 - accuracy: 0.9954 - val_loss: 1.3056 - val_accuracy: 0.8072\n",
            "Epoch 17/20\n",
            "782/782 [==============================] - 6s 8ms/step - loss: 0.0114 - accuracy: 0.9962 - val_loss: 1.2671 - val_accuracy: 0.8120\n",
            "Epoch 18/20\n",
            "782/782 [==============================] - 6s 8ms/step - loss: 0.0093 - accuracy: 0.9967 - val_loss: 1.5179 - val_accuracy: 0.8110\n",
            "Epoch 19/20\n",
            "782/782 [==============================] - 7s 9ms/step - loss: 0.0089 - accuracy: 0.9971 - val_loss: 1.5573 - val_accuracy: 0.8104\n",
            "Epoch 20/20\n",
            "782/782 [==============================] - 7s 9ms/step - loss: 0.0085 - accuracy: 0.9971 - val_loss: 1.7701 - val_accuracy: 0.8086\n"
          ]
        }
      ]
    },
    {
      "cell_type": "code",
      "metadata": {
        "colab": {
          "base_uri": "https://localhost:8080/",
          "height": 580
        },
        "id": "s4GHy_cBT8KF",
        "outputId": "b794ee1f-bf1c-43f5-9349-854753e549a9"
      },
      "source": [
        "acc      = history.history['accuracy']\n",
        "val_acc  = history.history['val_accuracy']\n",
        "\n",
        "epochs   = range(len(acc))\n",
        "\n",
        "plt.plot(epochs, acc, 'r', label = 'Training')\n",
        "plt.plot(epochs, val_acc, 'b', label = 'Validation')\n",
        "plt.title('Training and Validation Accuracy')\n",
        "plt.legend()\n",
        "plt.figure()\n",
        "\n",
        "loss     = history.history['loss']\n",
        "val_loss = history.history['val_loss']\n",
        "\n",
        "epochs   = range(len(loss))\n",
        "\n",
        "plt.plot(epochs, loss, 'r', label = 'Training')\n",
        "plt.plot(epochs, val_loss, 'b', label = 'Validation')\n",
        "plt.title('Training and Validation Loss')\n",
        "plt.legend()\n",
        "plt.figure()"
      ],
      "execution_count": null,
      "outputs": [
        {
          "output_type": "execute_result",
          "data": {
            "text/plain": [
              "<Figure size 432x288 with 0 Axes>"
            ]
          },
          "metadata": {},
          "execution_count": 51
        },
        {
          "output_type": "display_data",
          "data": {
            "image/png": "[encoded data removed]",
            "text/plain": [
              "<Figure size 432x288 with 1 Axes>"
            ]
          },
          "metadata": {
            "needs_background": "light"
          }
        },
        {
          "output_type": "display_data",
          "data": {
            "image/png": "[encoded data removed]",
            "text/plain": [
              "<Figure size 432x288 with 1 Axes>"
            ]
          },
          "metadata": {
            "needs_background": "light"
          }
        },
        {
          "output_type": "display_data",
          "data": {
            "text/plain": [
              "<Figure size 432x288 with 0 Axes>"
            ]
          },
          "metadata": {}
        }
      ]
    },
    {
      "cell_type": "markdown",
      "metadata": {
        "id": "FO1r72GpN4i_"
      },
      "source": [
        "## Sarcasm - BiLSTM"
      ]
    },
    {
      "cell_type": "code",
      "metadata": {
        "colab": {
          "base_uri": "https://localhost:8080/"
        },
        "id": "q3mNZxiuN7Yd",
        "outputId": "66096540-5c2e-4b67-d708-a370f0713d20"
      },
      "source": [
        "!wget --no-check-certificate \\\n",
        "    https://storage.googleapis.com/laurencemoroney-blog.appspot.com/sarcasm.json \\\n",
        "    -O /content/sarcasm.json"
      ],
      "execution_count": null,
      "outputs": [
        {
          "output_type": "stream",
          "text": [
            "--2021-08-06 06:49:40--  https://storage.googleapis.com/laurencemoroney-blog.appspot.com/sarcasm.json\n",
            "Resolving storage.googleapis.com (storage.googleapis.com)... 142.250.141.128, 142.251.2.128, 74.125.137.128, ...\n",
            "Connecting to storage.googleapis.com (storage.googleapis.com)|142.250.141.128|:443... connected.\n",
            "HTTP request sent, awaiting response... 200 OK\n",
            "Length: 5643545 (5.4M) [application/json]\n",
            "Saving to: ‘/content/sarcasm.json’\n",
            "\n",
            "\r/content/sarcasm.js   0%[                    ]       0  --.-KB/s               \r/content/sarcasm.js 100%[===================>]   5.38M  --.-KB/s    in 0.02s   \n",
            "\n",
            "2021-08-06 06:49:40 (240 MB/s) - ‘/content/sarcasm.json’ saved [5643545/5643545]\n",
            "\n"
          ],
          "name": "stdout"
        }
      ]
    },
    {
      "cell_type": "code",
      "metadata": {
        "id": "3DPiDraSOA9d"
      },
      "source": [
        "vocab_size = 1000\n",
        "embedding_dim = 16\n",
        "max_length = 120\n",
        "trunc_type='post'\n",
        "padding_type='post'\n",
        "oov_tok = \"<OOV>\"\n",
        "training_size = 20000"
      ],
      "execution_count": null,
      "outputs": []
    },
    {
      "cell_type": "code",
      "metadata": {
        "id": "GCbG66NqOBBc"
      },
      "source": [
        "with open(\"/content/sarcasm.json\", 'r') as f:\n",
        "    datastore = json.load(f)\n",
        "\n",
        "sentences = []\n",
        "labels = []\n",
        "urls = []\n",
        "for item in datastore:\n",
        "    sentences.append(item['headline'])\n",
        "    labels.append(item['is_sarcastic'])"
      ],
      "execution_count": null,
      "outputs": []
    },
    {
      "cell_type": "code",
      "metadata": {
        "id": "769tkx26OBeh"
      },
      "source": [
        "training_sentences = sentences[0:training_size]\n",
        "testing_sentences = sentences[training_size:]\n",
        "training_labels = labels[0:training_size]\n",
        "testing_labels = labels[training_size:]\n",
        "\n",
        "tokenizer = Tokenizer(num_words=vocab_size, oov_token=oov_tok)\n",
        "tokenizer.fit_on_texts(training_sentences)\n",
        "\n",
        "word_index = tokenizer.word_index\n",
        "\n",
        "training_sequences = tokenizer.texts_to_sequences(training_sentences)\n",
        "training_padded = pad_sequences(training_sequences, maxlen=max_length, padding=padding_type, truncating=trunc_type)\n",
        "\n",
        "testing_sequences = tokenizer.texts_to_sequences(testing_sentences)\n",
        "testing_padded = pad_sequences(testing_sequences, maxlen=max_length, padding=padding_type, truncating=trunc_type)"
      ],
      "execution_count": null,
      "outputs": []
    },
    {
      "cell_type": "code",
      "metadata": {
        "id": "dS05AqQxOOUX"
      },
      "source": [
        "training_padded = np.array(training_padded)\n",
        "training_labels = np.array(training_labels)\n",
        "testing_padded = np.array(testing_padded)\n",
        "testing_labels = np.array(testing_labels)"
      ],
      "execution_count": null,
      "outputs": []
    },
    {
      "cell_type": "code",
      "metadata": {
        "colab": {
          "base_uri": "https://localhost:8080/"
        },
        "id": "7ZziQvh1OTik",
        "outputId": "3dfe94fa-4f8d-4f12-a9bc-3566e3997b29"
      },
      "source": [
        "model = tf.keras.Sequential([\n",
        "    tf.keras.layers.Embedding(vocab_size, embedding_dim, input_length=max_length),\n",
        "    tf.keras.layers.Bidirectional(tf.keras.layers.LSTM(32)),\n",
        "    tf.keras.layers.Dense(24, activation='relu'),\n",
        "    tf.keras.layers.Dense(1, activation='sigmoid')\n",
        "])\n",
        "model.compile(loss='binary_crossentropy',optimizer='adam',metrics=['accuracy'])\n",
        "model.summary()"
      ],
      "execution_count": null,
      "outputs": [
        {
          "output_type": "stream",
          "text": [
            "Model: \"sequential_7\"\n",
            "_________________________________________________________________\n",
            "Layer (type)                 Output Shape              Param #   \n",
            "=================================================================\n",
            "embedding_7 (Embedding)      (None, 120, 16)           16000     \n",
            "_________________________________________________________________\n",
            "bidirectional_5 (Bidirection (None, 64)                12544     \n",
            "_________________________________________________________________\n",
            "dense_14 (Dense)             (None, 24)                1560      \n",
            "_________________________________________________________________\n",
            "dense_15 (Dense)             (None, 1)                 25        \n",
            "=================================================================\n",
            "Total params: 30,129\n",
            "Trainable params: 30,129\n",
            "Non-trainable params: 0\n",
            "_________________________________________________________________\n"
          ],
          "name": "stdout"
        }
      ]
    },
    {
      "cell_type": "code",
      "metadata": {
        "colab": {
          "base_uri": "https://localhost:8080/"
        },
        "id": "2CqEGm0XOdpJ",
        "outputId": "630ec2c4-11ad-4537-826c-4131e96f9f8c"
      },
      "source": [
        "num_epochs = 20\n",
        "history = model.fit(training_padded, training_labels, epochs=num_epochs, validation_data=(testing_padded, testing_labels), verbose=1)"
      ],
      "execution_count": null,
      "outputs": [
        {
          "output_type": "stream",
          "text": [
            "Epoch 1/20\n",
            "625/625 [==============================] - 11s 14ms/step - loss: 0.4532 - accuracy: 0.7671 - val_loss: 0.3905 - val_accuracy: 0.8208\n",
            "Epoch 2/20\n",
            "625/625 [==============================] - 7s 12ms/step - loss: 0.3530 - accuracy: 0.8374 - val_loss: 0.3799 - val_accuracy: 0.8271\n",
            "Epoch 3/20\n",
            "625/625 [==============================] - 7s 12ms/step - loss: 0.3291 - accuracy: 0.8499 - val_loss: 0.3837 - val_accuracy: 0.8208\n",
            "Epoch 4/20\n",
            "625/625 [==============================] - 7s 12ms/step - loss: 0.3131 - accuracy: 0.8599 - val_loss: 0.3742 - val_accuracy: 0.8311\n",
            "Epoch 5/20\n",
            "625/625 [==============================] - 7s 12ms/step - loss: 0.3040 - accuracy: 0.8648 - val_loss: 0.3736 - val_accuracy: 0.8319\n",
            "Epoch 6/20\n",
            "625/625 [==============================] - 7s 12ms/step - loss: 0.2958 - accuracy: 0.8668 - val_loss: 0.3766 - val_accuracy: 0.8319\n",
            "Epoch 7/20\n",
            "625/625 [==============================] - 8s 12ms/step - loss: 0.2886 - accuracy: 0.8732 - val_loss: 0.3720 - val_accuracy: 0.8328\n",
            "Epoch 8/20\n",
            "625/625 [==============================] - 8s 13ms/step - loss: 0.2785 - accuracy: 0.8778 - val_loss: 0.3846 - val_accuracy: 0.8278\n",
            "Epoch 9/20\n",
            "625/625 [==============================] - 8s 13ms/step - loss: 0.2706 - accuracy: 0.8819 - val_loss: 0.3936 - val_accuracy: 0.8275\n",
            "Epoch 10/20\n",
            "625/625 [==============================] - 8s 13ms/step - loss: 0.2629 - accuracy: 0.8847 - val_loss: 0.3987 - val_accuracy: 0.8267\n",
            "Epoch 11/20\n",
            "625/625 [==============================] - 8s 12ms/step - loss: 0.2536 - accuracy: 0.8890 - val_loss: 0.3984 - val_accuracy: 0.8274\n",
            "Epoch 12/20\n",
            "625/625 [==============================] - 8s 13ms/step - loss: 0.2471 - accuracy: 0.8928 - val_loss: 0.4170 - val_accuracy: 0.8261\n",
            "Epoch 13/20\n",
            "625/625 [==============================] - 8s 13ms/step - loss: 0.2393 - accuracy: 0.8947 - val_loss: 0.4329 - val_accuracy: 0.8241\n",
            "Epoch 14/20\n",
            "625/625 [==============================] - 8s 12ms/step - loss: 0.2294 - accuracy: 0.9010 - val_loss: 0.4432 - val_accuracy: 0.8238\n",
            "Epoch 15/20\n",
            "625/625 [==============================] - 7s 12ms/step - loss: 0.2253 - accuracy: 0.9049 - val_loss: 0.4501 - val_accuracy: 0.8168\n",
            "Epoch 16/20\n",
            "625/625 [==============================] - 7s 12ms/step - loss: 0.2154 - accuracy: 0.9075 - val_loss: 0.4623 - val_accuracy: 0.8174\n",
            "Epoch 17/20\n",
            "625/625 [==============================] - 7s 12ms/step - loss: 0.2084 - accuracy: 0.9126 - val_loss: 0.4766 - val_accuracy: 0.8185\n",
            "Epoch 18/20\n",
            "625/625 [==============================] - 7s 12ms/step - loss: 0.2010 - accuracy: 0.9146 - val_loss: 0.4917 - val_accuracy: 0.8183\n",
            "Epoch 19/20\n",
            "625/625 [==============================] - 7s 12ms/step - loss: 0.1940 - accuracy: 0.9184 - val_loss: 0.5188 - val_accuracy: 0.8144\n",
            "Epoch 20/20\n",
            "625/625 [==============================] - 8s 12ms/step - loss: 0.1902 - accuracy: 0.9188 - val_loss: 0.5339 - val_accuracy: 0.8132\n"
          ],
          "name": "stdout"
        }
      ]
    },
    {
      "cell_type": "code",
      "metadata": {
        "colab": {
          "base_uri": "https://localhost:8080/",
          "height": 545
        },
        "id": "4fxV1QHdOxsw",
        "outputId": "ec0c01ed-0e13-49d8-bd36-8744871319e6"
      },
      "source": [
        "def plot_graphs(history, string):\n",
        "  plt.plot(history.history[string])\n",
        "  plt.plot(history.history['val_'+string])\n",
        "  plt.xlabel(\"Epochs\")\n",
        "  plt.ylabel(string)\n",
        "  plt.legend([string, 'val_'+string])\n",
        "  plt.show()\n",
        "\n",
        "plot_graphs(history, 'accuracy')\n",
        "plot_graphs(history, 'loss')"
      ],
      "execution_count": null,
      "outputs": [
        {
          "output_type": "display_data",
          "data": {
            "image/png": "[encoded data removed]",
            "text/plain": [
              "<Figure size 432x288 with 1 Axes>"
            ]
          },
          "metadata": {
            "tags": [],
            "needs_background": "light"
          }
        },
        {
          "output_type": "display_data",
          "data": {
            "image/png": "[encoded data removed]",
            "text/plain": [
              "<Figure size 432x288 with 1 Axes>"
            ]
          },
          "metadata": {
            "tags": [],
            "needs_background": "light"
          }
        }
      ]
    },
    {
      "cell_type": "markdown",
      "metadata": {
        "id": "ST8EZB91O2kq"
      },
      "source": [
        "## Sarcasm - Conv1D"
      ]
    },
    {
      "cell_type": "code",
      "metadata": {
        "colab": {
          "base_uri": "https://localhost:8080/"
        },
        "id": "r2_lZXyLO6Yj",
        "outputId": "0e9df3f5-5440-430f-e2d2-ce4a85fcc093"
      },
      "source": [
        "model = tf.keras.Sequential([\n",
        "    tf.keras.layers.Embedding(vocab_size, embedding_dim, input_length=max_length),\n",
        "    tf.keras.layers.Conv1D(128, 5, activation='relu'),\n",
        "    tf.keras.layers.GlobalMaxPooling1D(),\n",
        "    tf.keras.layers.Dense(24, activation='relu'),\n",
        "    tf.keras.layers.Dense(1, activation='sigmoid')\n",
        "])\n",
        "model.compile(loss='binary_crossentropy',optimizer='adam',metrics=['accuracy'])\n",
        "model.summary()"
      ],
      "execution_count": null,
      "outputs": [
        {
          "output_type": "stream",
          "text": [
            "Model: \"sequential_8\"\n",
            "_________________________________________________________________\n",
            "Layer (type)                 Output Shape              Param #   \n",
            "=================================================================\n",
            "embedding_8 (Embedding)      (None, 120, 16)           16000     \n",
            "_________________________________________________________________\n",
            "conv1d_2 (Conv1D)            (None, 116, 128)          10368     \n",
            "_________________________________________________________________\n",
            "global_max_pooling1d (Global (None, 128)               0         \n",
            "_________________________________________________________________\n",
            "dense_16 (Dense)             (None, 24)                3096      \n",
            "_________________________________________________________________\n",
            "dense_17 (Dense)             (None, 1)                 25        \n",
            "=================================================================\n",
            "Total params: 29,489\n",
            "Trainable params: 29,489\n",
            "Non-trainable params: 0\n",
            "_________________________________________________________________\n"
          ],
          "name": "stdout"
        }
      ]
    },
    {
      "cell_type": "code",
      "metadata": {
        "colab": {
          "base_uri": "https://localhost:8080/"
        },
        "id": "UNFNjYEuO9-X",
        "outputId": "d63ea821-3558-4539-ffa0-28ec282523e5"
      },
      "source": [
        "num_epochs = 20\n",
        "history = model.fit(training_padded, training_labels, epochs=num_epochs, validation_data=(testing_padded, testing_labels), verbose=1)"
      ],
      "execution_count": null,
      "outputs": [
        {
          "output_type": "stream",
          "text": [
            "Epoch 1/20\n",
            "625/625 [==============================] - 3s 4ms/step - loss: 0.4706 - accuracy: 0.7619 - val_loss: 0.4115 - val_accuracy: 0.8140\n",
            "Epoch 2/20\n",
            "625/625 [==============================] - 3s 4ms/step - loss: 0.3603 - accuracy: 0.8383 - val_loss: 0.3916 - val_accuracy: 0.8277\n",
            "Epoch 3/20\n",
            "625/625 [==============================] - 3s 4ms/step - loss: 0.3206 - accuracy: 0.8594 - val_loss: 0.3942 - val_accuracy: 0.8278\n",
            "Epoch 4/20\n",
            "625/625 [==============================] - 2s 4ms/step - loss: 0.2889 - accuracy: 0.8752 - val_loss: 0.4012 - val_accuracy: 0.8268\n",
            "Epoch 5/20\n",
            "625/625 [==============================] - 2s 4ms/step - loss: 0.2569 - accuracy: 0.8914 - val_loss: 0.4195 - val_accuracy: 0.8204\n",
            "Epoch 6/20\n",
            "625/625 [==============================] - 2s 4ms/step - loss: 0.2253 - accuracy: 0.9089 - val_loss: 0.4549 - val_accuracy: 0.8201\n",
            "Epoch 7/20\n",
            "625/625 [==============================] - 2s 4ms/step - loss: 0.1926 - accuracy: 0.9244 - val_loss: 0.4923 - val_accuracy: 0.8146\n",
            "Epoch 8/20\n",
            "625/625 [==============================] - 2s 4ms/step - loss: 0.1619 - accuracy: 0.9383 - val_loss: 0.5394 - val_accuracy: 0.8094\n",
            "Epoch 9/20\n",
            "625/625 [==============================] - 3s 4ms/step - loss: 0.1356 - accuracy: 0.9499 - val_loss: 0.5944 - val_accuracy: 0.8041\n",
            "Epoch 10/20\n",
            "625/625 [==============================] - 3s 4ms/step - loss: 0.1103 - accuracy: 0.9605 - val_loss: 0.6730 - val_accuracy: 0.7951\n",
            "Epoch 11/20\n",
            "625/625 [==============================] - 3s 4ms/step - loss: 0.0912 - accuracy: 0.9684 - val_loss: 0.7619 - val_accuracy: 0.7898\n",
            "Epoch 12/20\n",
            "625/625 [==============================] - 3s 4ms/step - loss: 0.0785 - accuracy: 0.9732 - val_loss: 0.8289 - val_accuracy: 0.7953\n",
            "Epoch 13/20\n",
            "625/625 [==============================] - 3s 4ms/step - loss: 0.0636 - accuracy: 0.9782 - val_loss: 0.9193 - val_accuracy: 0.7930\n",
            "Epoch 14/20\n",
            "625/625 [==============================] - 3s 4ms/step - loss: 0.0571 - accuracy: 0.9797 - val_loss: 1.0154 - val_accuracy: 0.7870\n",
            "Epoch 15/20\n",
            "625/625 [==============================] - 3s 4ms/step - loss: 0.0516 - accuracy: 0.9819 - val_loss: 1.1198 - val_accuracy: 0.7804\n",
            "Epoch 16/20\n",
            "625/625 [==============================] - 3s 4ms/step - loss: 0.0443 - accuracy: 0.9844 - val_loss: 1.1962 - val_accuracy: 0.7842\n",
            "Epoch 17/20\n",
            "625/625 [==============================] - 3s 4ms/step - loss: 0.0481 - accuracy: 0.9827 - val_loss: 1.2210 - val_accuracy: 0.7918\n",
            "Epoch 18/20\n",
            "625/625 [==============================] - 3s 4ms/step - loss: 0.0411 - accuracy: 0.9848 - val_loss: 1.3883 - val_accuracy: 0.7855\n",
            "Epoch 19/20\n",
            "625/625 [==============================] - 2s 4ms/step - loss: 0.0357 - accuracy: 0.9869 - val_loss: 1.4073 - val_accuracy: 0.7877\n",
            "Epoch 20/20\n",
            "625/625 [==============================] - 2s 4ms/step - loss: 0.0319 - accuracy: 0.9884 - val_loss: 1.5343 - val_accuracy: 0.7854\n"
          ],
          "name": "stdout"
        }
      ]
    },
    {
      "cell_type": "code",
      "metadata": {
        "colab": {
          "base_uri": "https://localhost:8080/",
          "height": 544
        },
        "id": "PKu2WT5BPDaf",
        "outputId": "cb569100-cdd9-4758-cff8-4b69cab2d0c4"
      },
      "source": [
        "def plot_graphs(history, string):\n",
        "  plt.plot(history.history[string])\n",
        "  plt.plot(history.history['val_'+string])\n",
        "  plt.xlabel(\"Epochs\")\n",
        "  plt.ylabel(string)\n",
        "  plt.legend([string, 'val_'+string])\n",
        "  plt.show()\n",
        "\n",
        "plot_graphs(history, 'accuracy')\n",
        "plot_graphs(history, 'loss')"
      ],
      "execution_count": null,
      "outputs": [
        {
          "output_type": "display_data",
          "data": {
            "image/png": "[encoded data removed]",
            "text/plain": [
              "<Figure size 432x288 with 1 Axes>"
            ]
          },
          "metadata": {
            "tags": [],
            "needs_background": "light"
          }
        },
        {
          "output_type": "display_data",
          "data": {
            "image/png": "[encoded data removed]",
            "text/plain": [
              "<Figure size 432x288 with 1 Axes>"
            ]
          },
          "metadata": {
            "tags": [],
            "needs_background": "light"
          }
        }
      ]
    },
    {
      "cell_type": "markdown",
      "metadata": {
        "id": "_NVw1PltP4rp"
      },
      "source": [
        "## Exercise 11"
      ]
    },
    {
      "cell_type": "markdown",
      "metadata": {
        "id": "mbjQQMlPQgG_"
      },
      "source": [
        "Running on Stanford dataset."
      ]
    },
    {
      "cell_type": "code",
      "metadata": {
        "colab": {
          "base_uri": "https://localhost:8080/"
        },
        "id": "5dnJdYO5P563",
        "outputId": "5254ac48-da3f-4eb4-b233-3e63ed85dc8b"
      },
      "source": [
        "!wget --no-check-certificate \\\n",
        "    https://storage.googleapis.com/laurencemoroney-blog.appspot.com/training_cleaned.csv \\\n",
        "    -O /content/training_cleaned.csv"
      ],
      "execution_count": null,
      "outputs": [
        {
          "output_type": "stream",
          "text": [
            "--2021-08-06 07:00:54--  https://storage.googleapis.com/laurencemoroney-blog.appspot.com/training_cleaned.csv\n",
            "Resolving storage.googleapis.com (storage.googleapis.com)... 142.251.2.128, 142.250.101.128, 142.250.141.128, ...\n",
            "Connecting to storage.googleapis.com (storage.googleapis.com)|142.251.2.128|:443... connected.\n",
            "HTTP request sent, awaiting response... 200 OK\n",
            "Length: 238942690 (228M) [application/octet-stream]\n",
            "Saving to: ‘/content/training_cleaned.csv’\n",
            "\n",
            "/content/training_c 100%[===================>] 227.87M   157MB/s    in 1.5s    \n",
            "\n",
            "2021-08-06 07:00:56 (157 MB/s) - ‘/content/training_cleaned.csv’ saved [238942690/238942690]\n",
            "\n"
          ],
          "name": "stdout"
        }
      ]
    },
    {
      "cell_type": "code",
      "metadata": {
        "id": "csbyBzh4Qqxm"
      },
      "source": [
        "num_sentences = 0\n",
        "corpus = []\n",
        "\n",
        "with open(\"/content/training_cleaned.csv\") as csvfile:\n",
        "    reader = csv.reader(csvfile, delimiter=',')\n",
        "    for row in reader:\n",
        "        list_item=[]\n",
        "        list_item.append(row[5])\n",
        "        this_label=row[0]\n",
        "        if this_label=='0':\n",
        "            list_item.append(0)\n",
        "        else:\n",
        "            list_item.append(1)\n",
        "        num_sentences = num_sentences + 1\n",
        "        corpus.append(list_item)"
      ],
      "execution_count": null,
      "outputs": []
    },
    {
      "cell_type": "code",
      "metadata": {
        "colab": {
          "base_uri": "https://localhost:8080/"
        },
        "id": "y5_ANRgpQzll",
        "outputId": "2000f956-f3c7-4e4e-b193-1757923b0c72"
      },
      "source": [
        "print(num_sentences)\n",
        "print(len(corpus))\n",
        "print(corpus[1])"
      ],
      "execution_count": null,
      "outputs": [
        {
          "output_type": "stream",
          "text": [
            "1600000\n",
            "1600000\n",
            "[\"is upset that he can't update his Facebook by texting it... and might cry as a result  School today also. Blah!\", 0]\n"
          ],
          "name": "stdout"
        }
      ]
    },
    {
      "cell_type": "code",
      "metadata": {
        "id": "sEgCgGIzQ2aW"
      },
      "source": [
        "embedding_dim = 100\n",
        "max_length = 16\n",
        "trunc_type='post'\n",
        "padding_type='post'\n",
        "oov_tok = \"<OOV>\"\n",
        "training_size=160000\n",
        "test_portion=.1"
      ],
      "execution_count": null,
      "outputs": []
    },
    {
      "cell_type": "code",
      "metadata": {
        "id": "VOT_Q1WHQ8Ec"
      },
      "source": [
        "sentences=[]\n",
        "labels=[]\n",
        "random.shuffle(corpus)\n",
        "for x in range(training_size):\n",
        "    sentences.append(corpus[x][0])\n",
        "    labels.append(corpus[x][1])\n",
        "\n",
        "tokenizer = Tokenizer()\n",
        "tokenizer.fit_on_texts(sentences)\n",
        "\n",
        "word_index = tokenizer.word_index\n",
        "vocab_size=len(word_index)\n",
        "\n",
        "sequences = tokenizer.texts_to_sequences(sentences)\n",
        "padded = pad_sequences(sequences, maxlen=max_length, padding=padding_type, truncating=trunc_type)\n",
        "\n",
        "split = int(test_portion * training_size)\n",
        "\n",
        "test_sequences = padded[0:split]\n",
        "training_sequences = padded[split:training_size]\n",
        "test_labels = labels[0:split]\n",
        "training_labels = labels[split:training_size]"
      ],
      "execution_count": null,
      "outputs": []
    },
    {
      "cell_type": "code",
      "metadata": {
        "colab": {
          "base_uri": "https://localhost:8080/"
        },
        "id": "p6z86BqsQ-MV",
        "outputId": "eca6eba3-d7ed-4dad-822a-22126e04c103"
      },
      "source": [
        "print(vocab_size)\n",
        "print(word_index['i'])"
      ],
      "execution_count": null,
      "outputs": [
        {
          "output_type": "stream",
          "text": [
            "137960\n",
            "1\n"
          ],
          "name": "stdout"
        }
      ]
    },
    {
      "cell_type": "code",
      "metadata": {
        "colab": {
          "base_uri": "https://localhost:8080/"
        },
        "id": "tSXYSsjTRHQK",
        "outputId": "daa78687-b2ef-4857-9a18-4e3168b717cf"
      },
      "source": [
        "# getting Glove\n",
        "\n",
        "!wget --no-check-certificate \\\n",
        "    https://storage.googleapis.com/laurencemoroney-blog.appspot.com/glove.6B.100d.txt \\\n",
        "    -O /content/glove.6B.100d.txt"
      ],
      "execution_count": null,
      "outputs": [
        {
          "output_type": "stream",
          "text": [
            "--2021-08-06 07:04:29--  https://storage.googleapis.com/laurencemoroney-blog.appspot.com/glove.6B.100d.txt\n",
            "Resolving storage.googleapis.com (storage.googleapis.com)... 142.250.141.128, 142.251.2.128, 74.125.137.128, ...\n",
            "Connecting to storage.googleapis.com (storage.googleapis.com)|142.250.141.128|:443... connected.\n",
            "HTTP request sent, awaiting response... 404 Not Found\n",
            "2021-08-06 07:04:29 ERROR 404: Not Found.\n",
            "\n"
          ],
          "name": "stdout"
        }
      ]
    },
    {
      "cell_type": "code",
      "metadata": {
        "id": "KoVPglbcRaLD"
      },
      "source": [
        "embeddings_index = {};\n",
        "with open('/content/glove.6B.100d.txt') as f:\n",
        "    for line in f:\n",
        "        values = line.split();\n",
        "        word = values[0];\n",
        "        coefs = np.asarray(values[1:], dtype='float32');\n",
        "        embeddings_index[word] = coefs;\n",
        "\n",
        "embeddings_matrix = np.zeros((vocab_size+1, embedding_dim));\n",
        "for word, i in word_index.items():\n",
        "    embedding_vector = embeddings_index.get(word);\n",
        "    if embedding_vector is not None:\n",
        "        embeddings_matrix[i] = embedding_vector;"
      ],
      "execution_count": null,
      "outputs": []
    },
    {
      "cell_type": "code",
      "metadata": {
        "colab": {
          "base_uri": "https://localhost:8080/"
        },
        "id": "a5OC3CXARYil",
        "outputId": "4b31ec6e-6bc4-418a-c759-0d3c08f24b19"
      },
      "source": [
        "print(len(embeddings_matrix))"
      ],
      "execution_count": null,
      "outputs": [
        {
          "output_type": "stream",
          "text": [
            "137961\n"
          ],
          "name": "stdout"
        }
      ]
    },
    {
      "cell_type": "code",
      "metadata": {
        "id": "5pWKccK8RpRm"
      },
      "source": [
        "training_padded = np.array(training_sequences)\n",
        "training_labels = np.array(training_labels)\n",
        "testing_padded = np.array(test_sequences)\n",
        "testing_labels = np.array(test_labels)"
      ],
      "execution_count": null,
      "outputs": []
    },
    {
      "cell_type": "code",
      "metadata": {
        "colab": {
          "base_uri": "https://localhost:8080/"
        },
        "id": "mNfTQNu_Rkxg",
        "outputId": "d6bea102-6eb5-492a-8595-4cde286f039c"
      },
      "source": [
        "model = tf.keras.Sequential([\n",
        "    tf.keras.layers.Embedding(vocab_size+1, embedding_dim, input_length=max_length, weights=[embeddings_matrix], trainable=False),\n",
        "    tf.keras.layers.Dropout(0.2),\n",
        "    tf.keras.layers.Conv1D(64, 5, activation='relu'),\n",
        "    tf.keras.layers.MaxPooling1D(pool_size=4),\n",
        "    tf.keras.layers.LSTM(64),\n",
        "    tf.keras.layers.Dense(1, activation='sigmoid')\n",
        "])\n",
        "model.compile(loss='binary_crossentropy',optimizer='adam',metrics=['accuracy'])\n",
        "model.summary()"
      ],
      "execution_count": null,
      "outputs": [
        {
          "output_type": "stream",
          "text": [
            "Model: \"sequential_9\"\n",
            "_________________________________________________________________\n",
            "Layer (type)                 Output Shape              Param #   \n",
            "=================================================================\n",
            "embedding_9 (Embedding)      (None, 16, 100)           13796100  \n",
            "_________________________________________________________________\n",
            "dropout (Dropout)            (None, 16, 100)           0         \n",
            "_________________________________________________________________\n",
            "conv1d_3 (Conv1D)            (None, 12, 64)            32064     \n",
            "_________________________________________________________________\n",
            "max_pooling1d (MaxPooling1D) (None, 3, 64)             0         \n",
            "_________________________________________________________________\n",
            "lstm_5 (LSTM)                (None, 64)                33024     \n",
            "_________________________________________________________________\n",
            "dense_18 (Dense)             (None, 1)                 65        \n",
            "=================================================================\n",
            "Total params: 13,861,253\n",
            "Trainable params: 65,153\n",
            "Non-trainable params: 13,796,100\n",
            "_________________________________________________________________\n"
          ],
          "name": "stdout"
        }
      ]
    },
    {
      "cell_type": "code",
      "metadata": {
        "colab": {
          "base_uri": "https://localhost:8080/"
        },
        "id": "GHBvnsJoRm7F",
        "outputId": "3a318145-5f6d-4eb3-a65c-15415a9e083d"
      },
      "source": [
        "num_epochs = 20\n",
        "history = model.fit(training_padded, training_labels, epochs=num_epochs, validation_data=(testing_padded, testing_labels), verbose=2)"
      ],
      "execution_count": null,
      "outputs": [
        {
          "output_type": "stream",
          "text": [
            "Epoch 1/20\n",
            "4500/4500 - 14s - loss: 0.6932 - accuracy: 0.4992 - val_loss: 0.6932 - val_accuracy: 0.4964\n",
            "Epoch 2/20\n",
            "4500/4500 - 13s - loss: 0.6932 - accuracy: 0.4992 - val_loss: 0.6932 - val_accuracy: 0.4964\n",
            "Epoch 3/20\n",
            "4500/4500 - 14s - loss: 0.6932 - accuracy: 0.4997 - val_loss: 0.6932 - val_accuracy: 0.4964\n",
            "Epoch 4/20\n",
            "4500/4500 - 14s - loss: 0.6932 - accuracy: 0.5002 - val_loss: 0.6931 - val_accuracy: 0.5036\n",
            "Epoch 5/20\n",
            "4500/4500 - 13s - loss: 0.6932 - accuracy: 0.4987 - val_loss: 0.6931 - val_accuracy: 0.5036\n",
            "Epoch 6/20\n",
            "4500/4500 - 13s - loss: 0.6932 - accuracy: 0.4980 - val_loss: 0.6931 - val_accuracy: 0.4964\n",
            "Epoch 7/20\n",
            "4500/4500 - 13s - loss: 0.6932 - accuracy: 0.4979 - val_loss: 0.6931 - val_accuracy: 0.5036\n",
            "Epoch 8/20\n",
            "4500/4500 - 14s - loss: 0.6932 - accuracy: 0.4992 - val_loss: 0.6932 - val_accuracy: 0.4964\n",
            "Epoch 9/20\n",
            "4500/4500 - 13s - loss: 0.6932 - accuracy: 0.4988 - val_loss: 0.6931 - val_accuracy: 0.4964\n",
            "Epoch 10/20\n",
            "4500/4500 - 13s - loss: 0.6932 - accuracy: 0.4996 - val_loss: 0.6938 - val_accuracy: 0.4964\n",
            "Epoch 11/20\n",
            "4500/4500 - 13s - loss: 0.6932 - accuracy: 0.4997 - val_loss: 0.6932 - val_accuracy: 0.4964\n",
            "Epoch 12/20\n",
            "4500/4500 - 14s - loss: 0.6932 - accuracy: 0.5004 - val_loss: 0.6932 - val_accuracy: 0.4964\n",
            "Epoch 13/20\n",
            "4500/4500 - 14s - loss: 0.6932 - accuracy: 0.5007 - val_loss: 0.6932 - val_accuracy: 0.4964\n",
            "Epoch 14/20\n",
            "4500/4500 - 14s - loss: 0.6932 - accuracy: 0.4976 - val_loss: 0.6931 - val_accuracy: 0.5036\n",
            "Epoch 15/20\n",
            "4500/4500 - 14s - loss: 0.6932 - accuracy: 0.4991 - val_loss: 0.6931 - val_accuracy: 0.5036\n",
            "Epoch 16/20\n",
            "4500/4500 - 13s - loss: 0.6932 - accuracy: 0.4961 - val_loss: 0.6931 - val_accuracy: 0.5036\n",
            "Epoch 17/20\n",
            "4500/4500 - 14s - loss: 0.6932 - accuracy: 0.5011 - val_loss: 0.6931 - val_accuracy: 0.5036\n",
            "Epoch 18/20\n",
            "4500/4500 - 14s - loss: 0.6932 - accuracy: 0.4992 - val_loss: 0.6931 - val_accuracy: 0.5036\n",
            "Epoch 19/20\n",
            "4500/4500 - 13s - loss: 0.6932 - accuracy: 0.4986 - val_loss: 0.6933 - val_accuracy: 0.4964\n",
            "Epoch 20/20\n",
            "4500/4500 - 14s - loss: 0.6932 - accuracy: 0.5006 - val_loss: 0.6931 - val_accuracy: 0.5036\n"
          ],
          "name": "stdout"
        }
      ]
    },
    {
      "cell_type": "code",
      "metadata": {
        "colab": {
          "base_uri": "https://localhost:8080/",
          "height": 609
        },
        "id": "DMVBGQqwRnAH",
        "outputId": "a6451367-0283-4a09-aa8b-80318808310f"
      },
      "source": [
        "\n",
        "import matplotlib.image  as mpimg\n",
        "import matplotlib.pyplot as plt\n",
        "\n",
        "#-----------------------------------------------------------\n",
        "# Retrieve a list of list results on training and test data\n",
        "# sets for each training epoch\n",
        "#-----------------------------------------------------------\n",
        "acc=history.history['accuracy']\n",
        "val_acc=history.history['val_accuracy']\n",
        "loss=history.history['loss']\n",
        "val_loss=history.history['val_loss']\n",
        "\n",
        "epochs=range(len(acc)) # Get number of epochs\n",
        "\n",
        "#------------------------------------------------\n",
        "# Plot training and validation accuracy per epoch\n",
        "#------------------------------------------------\n",
        "plt.plot(epochs, acc, 'r')\n",
        "plt.plot(epochs, val_acc, 'b')\n",
        "plt.title('Training and validation accuracy')\n",
        "plt.xlabel(\"Epochs\")\n",
        "plt.ylabel(\"Accuracy\")\n",
        "plt.legend([\"Accuracy\", \"Validation Accuracy\"])\n",
        "\n",
        "plt.figure()\n",
        "\n",
        "#------------------------------------------------\n",
        "# Plot training and validation loss per epoch\n",
        "#------------------------------------------------\n",
        "plt.plot(epochs, loss, 'r')\n",
        "plt.plot(epochs, val_loss, 'b')\n",
        "plt.title('Training and validation loss')\n",
        "plt.xlabel(\"Epochs\")\n",
        "plt.ylabel(\"Loss\")\n",
        "plt.legend([\"Loss\", \"Validation Loss\"])\n",
        "\n",
        "plt.figure()"
      ],
      "execution_count": null,
      "outputs": [
        {
          "output_type": "execute_result",
          "data": {
            "text/plain": [
              "<Figure size 432x288 with 0 Axes>"
            ]
          },
          "metadata": {
            "tags": []
          },
          "execution_count": 72
        },
        {
          "output_type": "display_data",
          "data": {
            "image/png": "[encoded data removed]",
            "text/plain": [
              "<Figure size 432x288 with 1 Axes>"
            ]
          },
          "metadata": {
            "tags": [],
            "needs_background": "light"
          }
        },
        {
          "output_type": "display_data",
          "data": {
            "image/png": "[encoded data removed]",
            "text/plain": [
              "<Figure size 432x288 with 1 Axes>"
            ]
          },
          "metadata": {
            "tags": [],
            "needs_background": "light"
          }
        },
        {
          "output_type": "display_data",
          "data": {
            "text/plain": [
              "<Figure size 432x288 with 0 Axes>"
            ]
          },
          "metadata": {
            "tags": []
          }
        }
      ]
    }
  ]
}