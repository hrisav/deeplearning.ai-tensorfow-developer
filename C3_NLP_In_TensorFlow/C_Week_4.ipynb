{
  "nbformat": 4,
  "nbformat_minor": 0,
  "metadata": {
    "colab": {
      "name": "C_Week_4.ipynb",
      "provenance": [],
      "collapsed_sections": [],
      "toc_visible": true
    },
    "kernelspec": {
      "name": "python3",
      "display_name": "Python 3"
    },
    "language_info": {
      "name": "python"
    },
    "accelerator": "GPU"
  },
  "cells": [
    {
      "cell_type": "markdown",
      "metadata": {
        "id": "9OTfHWbzl8Xn"
      },
      "source": [
        "### Sequence models and literature"
      ]
    },
    {
      "cell_type": "code",
      "metadata": {
        "id": "1q0rf2R-_SmD"
      },
      "source": [
        "import matplotlib.pyplot as plt\n",
        "import random\n",
        "import pandas as pd\n",
        "import numpy as np\n",
        "import csv\n",
        "import json"
      ],
      "execution_count": 1,
      "outputs": []
    },
    {
      "cell_type": "code",
      "metadata": {
        "id": "3ALNu-rCw678"
      },
      "source": [
        "import tensorflow as tf\n",
        "\n",
        "from tensorflow.keras.preprocessing.sequence import pad_sequences\n",
        "from tensorflow.keras.layers import Embedding, LSTM, Dense, Bidirectional, Dropout\n",
        "from tensorflow.keras.preprocessing.text import Tokenizer\n",
        "from tensorflow.keras.models import Sequential\n",
        "from tensorflow.keras.optimizers import Adam\n",
        "from tensorflow.keras import regularizers\n",
        "import tensorflow.keras.utils as ku "
      ],
      "execution_count": 10,
      "outputs": []
    },
    {
      "cell_type": "code",
      "metadata": {
        "id": "bjBwBPQp_VcB"
      },
      "source": [
        "from tensorflow.keras.preprocessing.text import Tokenizer\n",
        "from tensorflow.keras.preprocessing.sequence import pad_sequences"
      ],
      "execution_count": 3,
      "outputs": []
    },
    {
      "cell_type": "code",
      "metadata": {
        "colab": {
          "base_uri": "https://localhost:8080/"
        },
        "id": "H3PF_4iLhCVt",
        "outputId": "1ede7eb5-f61b-4cdc-e75d-85618292dbe7"
      },
      "source": [
        "tokenizer = Tokenizer()\n",
        "\n",
        "data=\"In the town of Athy one Jeremy Lanigan \\n Battered away til he hadnt a pound. \\nHis father died and made him a man again \\n Left him a farm and ten acres of ground. \\nHe gave a grand party for friends and relations \\nWho didnt forget him when come to the wall, \\nAnd if youll but listen Ill make your eyes glisten \\nOf the rows and the ructions of Lanigans Ball. \\nMyself to be sure got free invitation, \\nFor all the nice girls and boys I might ask, \\nAnd just in a minute both friends and relations \\nWere dancing round merry as bees round a cask. \\nJudy ODaly, that nice little milliner, \\nShe tipped me a wink for to give her a call, \\nAnd I soon arrived with Peggy McGilligan \\nJust in time for Lanigans Ball. \\nThere were lashings of punch and wine for the ladies, \\nPotatoes and cakes; there was bacon and tea, \\nThere were the Nolans, Dolans, OGradys \\nCourting the girls and dancing away. \\nSongs they went round as plenty as water, \\nThe harp that once sounded in Taras old hall,\\nSweet Nelly Gray and The Rat Catchers Daughter,\\nAll singing together at Lanigans Ball. \\nThey were doing all kinds of nonsensical polkas \\nAll round the room in a whirligig. \\nJulia and I, we banished their nonsense \\nAnd tipped them the twist of a reel and a jig. \\nAch mavrone, how the girls got all mad at me \\nDanced til youd think the ceiling would fall. \\nFor I spent three weeks at Brooks Academy \\nLearning new steps for Lanigans Ball. \\nThree long weeks I spent up in Dublin, \\nThree long weeks to learn nothing at all,\\n Three long weeks I spent up in Dublin, \\nLearning new steps for Lanigans Ball. \\nShe stepped out and I stepped in again, \\nI stepped out and she stepped in again, \\nShe stepped out and I stepped in again, \\nLearning new steps for Lanigans Ball. \\nBoys were all merry and the girls they were hearty \\nAnd danced all around in couples and groups, \\nTil an accident happened, young Terrance McCarthy \\nPut his right leg through miss Finnertys hoops. \\nPoor creature fainted and cried Meelia murther, \\nCalled for her brothers and gathered them all. \\nCarmody swore that hed go no further \\nTil he had satisfaction at Lanigans Ball. \\nIn the midst of the row miss Kerrigan fainted, \\nHer cheeks at the same time as red as a rose. \\nSome of the lads declared she was painted, \\nShe took a small drop too much, I suppose. \\nHer sweetheart, Ned Morgan, so powerful and able, \\nWhen he saw his fair colleen stretched out by the wall, \\nTore the left leg from under the table \\nAnd smashed all the Chaneys at Lanigans Ball. \\nBoys, oh boys, twas then there were runctions. \\nMyself got a lick from big Phelim McHugh. \\nI soon replied to his introduction \\nAnd kicked up a terrible hullabaloo. \\nOld Casey, the piper, was near being strangled. \\nThey squeezed up his pipes, bellows, chanters and all. \\nThe girls, in their ribbons, they got all entangled \\nAnd that put an end to Lanigans Ball.\"\n",
        "\n",
        "corpus = data.lower().split(\"\\n\")                   # making lower and sentences\n",
        "\n",
        "tokenizer.fit_on_texts(corpus)\n",
        "total_words = len(tokenizer.word_index) + 1         # total tokens + 1 for OOV\n",
        "\n",
        "print(tokenizer.word_index)\n",
        "print(total_words)\n"
      ],
      "execution_count": 3,
      "outputs": [
        {
          "output_type": "stream",
          "text": [
            "{'and': 1, 'the': 2, 'a': 3, 'in': 4, 'all': 5, 'i': 6, 'for': 7, 'of': 8, 'lanigans': 9, 'ball': 10, 'were': 11, 'at': 12, 'to': 13, 'she': 14, 'stepped': 15, 'his': 16, 'girls': 17, 'as': 18, 'they': 19, 'til': 20, 'he': 21, 'again': 22, 'got': 23, 'boys': 24, 'round': 25, 'that': 26, 'her': 27, 'there': 28, 'three': 29, 'weeks': 30, 'up': 31, 'out': 32, 'him': 33, 'was': 34, 'spent': 35, 'learning': 36, 'new': 37, 'steps': 38, 'long': 39, 'away': 40, 'left': 41, 'friends': 42, 'relations': 43, 'when': 44, 'wall': 45, 'myself': 46, 'nice': 47, 'just': 48, 'dancing': 49, 'merry': 50, 'tipped': 51, 'me': 52, 'soon': 53, 'time': 54, 'old': 55, 'their': 56, 'them': 57, 'danced': 58, 'dublin': 59, 'an': 60, 'put': 61, 'leg': 62, 'miss': 63, 'fainted': 64, 'from': 65, 'town': 66, 'athy': 67, 'one': 68, 'jeremy': 69, 'lanigan': 70, 'battered': 71, 'hadnt': 72, 'pound': 73, 'father': 74, 'died': 75, 'made': 76, 'man': 77, 'farm': 78, 'ten': 79, 'acres': 80, 'ground': 81, 'gave': 82, 'grand': 83, 'party': 84, 'who': 85, 'didnt': 86, 'forget': 87, 'come': 88, 'if': 89, 'youll': 90, 'but': 91, 'listen': 92, 'ill': 93, 'make': 94, 'your': 95, 'eyes': 96, 'glisten': 97, 'rows': 98, 'ructions': 99, 'be': 100, 'sure': 101, 'free': 102, 'invitation': 103, 'might': 104, 'ask': 105, 'minute': 106, 'both': 107, 'bees': 108, 'cask': 109, 'judy': 110, 'odaly': 111, 'little': 112, 'milliner': 113, 'wink': 114, 'give': 115, 'call': 116, 'arrived': 117, 'with': 118, 'peggy': 119, 'mcgilligan': 120, 'lashings': 121, 'punch': 122, 'wine': 123, 'ladies': 124, 'potatoes': 125, 'cakes': 126, 'bacon': 127, 'tea': 128, 'nolans': 129, 'dolans': 130, 'ogradys': 131, 'courting': 132, 'songs': 133, 'went': 134, 'plenty': 135, 'water': 136, 'harp': 137, 'once': 138, 'sounded': 139, 'taras': 140, 'hall': 141, 'sweet': 142, 'nelly': 143, 'gray': 144, 'rat': 145, 'catchers': 146, 'daughter': 147, 'singing': 148, 'together': 149, 'doing': 150, 'kinds': 151, 'nonsensical': 152, 'polkas': 153, 'room': 154, 'whirligig': 155, 'julia': 156, 'we': 157, 'banished': 158, 'nonsense': 159, 'twist': 160, 'reel': 161, 'jig': 162, 'ach': 163, 'mavrone': 164, 'how': 165, 'mad': 166, 'youd': 167, 'think': 168, 'ceiling': 169, 'would': 170, 'fall': 171, 'brooks': 172, 'academy': 173, 'learn': 174, 'nothing': 175, 'hearty': 176, 'around': 177, 'couples': 178, 'groups': 179, 'accident': 180, 'happened': 181, 'young': 182, 'terrance': 183, 'mccarthy': 184, 'right': 185, 'through': 186, 'finnertys': 187, 'hoops': 188, 'poor': 189, 'creature': 190, 'cried': 191, 'meelia': 192, 'murther': 193, 'called': 194, 'brothers': 195, 'gathered': 196, 'carmody': 197, 'swore': 198, 'hed': 199, 'go': 200, 'no': 201, 'further': 202, 'had': 203, 'satisfaction': 204, 'midst': 205, 'row': 206, 'kerrigan': 207, 'cheeks': 208, 'same': 209, 'red': 210, 'rose': 211, 'some': 212, 'lads': 213, 'declared': 214, 'painted': 215, 'took': 216, 'small': 217, 'drop': 218, 'too': 219, 'much': 220, 'suppose': 221, 'sweetheart': 222, 'ned': 223, 'morgan': 224, 'so': 225, 'powerful': 226, 'able': 227, 'saw': 228, 'fair': 229, 'colleen': 230, 'stretched': 231, 'by': 232, 'tore': 233, 'under': 234, 'table': 235, 'smashed': 236, 'chaneys': 237, 'oh': 238, 'twas': 239, 'then': 240, 'runctions': 241, 'lick': 242, 'big': 243, 'phelim': 244, 'mchugh': 245, 'replied': 246, 'introduction': 247, 'kicked': 248, 'terrible': 249, 'hullabaloo': 250, 'casey': 251, 'piper': 252, 'near': 253, 'being': 254, 'strangled': 255, 'squeezed': 256, 'pipes': 257, 'bellows': 258, 'chanters': 259, 'ribbons': 260, 'entangled': 261, 'end': 262}\n",
            "263\n"
          ],
          "name": "stdout"
        }
      ]
    },
    {
      "cell_type": "code",
      "metadata": {
        "id": "jVDMtTBe5yDB"
      },
      "source": [
        "# making n grams\n",
        "\n",
        "input_sequences = []\n",
        "for line in corpus:\n",
        "    token_list = tokenizer.texts_to_sequences([line])[0]        # generate index for each word in sentence\n",
        "    for i in range(1, len(token_list)):                         \n",
        "        n_gram_sequence = token_list[:i+1]                      # create sequences for each line            \n",
        "        input_sequences.append(n_gram_sequence)                 # eg - (3,10,23,5) => (3,10),(3,10,23),(3,10,23,5)"
      ],
      "execution_count": 4,
      "outputs": []
    },
    {
      "cell_type": "code",
      "metadata": {
        "colab": {
          "base_uri": "https://localhost:8080/"
        },
        "id": "GLtG8NYjzZq0",
        "outputId": "bdc49fab-b3e5-458b-b8ec-cd585bf196cf"
      },
      "source": [
        "corpus[:2]"
      ],
      "execution_count": 9,
      "outputs": [
        {
          "output_type": "execute_result",
          "data": {
            "text/plain": [
              "['in the town of athy one jeremy lanigan ',\n",
              " ' battered away til he hadnt a pound. ']"
            ]
          },
          "metadata": {
            "tags": []
          },
          "execution_count": 9
        }
      ]
    },
    {
      "cell_type": "code",
      "metadata": {
        "colab": {
          "base_uri": "https://localhost:8080/"
        },
        "id": "niBNbJbEzRBV",
        "outputId": "aca06031-49e0-4c04-c53b-eedff75b8535"
      },
      "source": [
        "input_sequences[:13]"
      ],
      "execution_count": 11,
      "outputs": [
        {
          "output_type": "execute_result",
          "data": {
            "text/plain": [
              "[[4, 2],\n",
              " [4, 2, 66],\n",
              " [4, 2, 66, 8],\n",
              " [4, 2, 66, 8, 67],\n",
              " [4, 2, 66, 8, 67, 68],\n",
              " [4, 2, 66, 8, 67, 68, 69],\n",
              " [4, 2, 66, 8, 67, 68, 69, 70],\n",
              " [71, 40],\n",
              " [71, 40, 20],\n",
              " [71, 40, 20, 21],\n",
              " [71, 40, 20, 21, 72],\n",
              " [71, 40, 20, 21, 72, 3],\n",
              " [71, 40, 20, 21, 72, 3, 73]]"
            ]
          },
          "metadata": {
            "tags": []
          },
          "execution_count": 11
        }
      ]
    },
    {
      "cell_type": "code",
      "metadata": {
        "id": "Frl2-ski98dm"
      },
      "source": [
        "# pad sequences \n",
        "max_sequence_len = max([len(x) for x in input_sequences])       # finding longest sentence, let if highest length is 4 and then pre pad all sequences\n",
        "input_sequences = np.array(pad_sequences(input_sequences, maxlen=max_sequence_len, padding='pre'))    # (0,0,3,10),(0,3,10,23),(3,10,23,5)"
      ],
      "execution_count": 13,
      "outputs": []
    },
    {
      "cell_type": "code",
      "metadata": {
        "colab": {
          "base_uri": "https://localhost:8080/"
        },
        "id": "QSzmVrGo0Gmh",
        "outputId": "216a2f77-bf0d-4d2c-9b28-0a0ac71ef544"
      },
      "source": [
        "max_sequence_len"
      ],
      "execution_count": 14,
      "outputs": [
        {
          "output_type": "execute_result",
          "data": {
            "text/plain": [
              "11"
            ]
          },
          "metadata": {
            "tags": []
          },
          "execution_count": 14
        }
      ]
    },
    {
      "cell_type": "code",
      "metadata": {
        "colab": {
          "base_uri": "https://localhost:8080/"
        },
        "id": "qytH4n9iz8gw",
        "outputId": "819bc887-5a05-44ef-c78c-043eb24789c9"
      },
      "source": [
        "input_sequences[:13]"
      ],
      "execution_count": 15,
      "outputs": [
        {
          "output_type": "execute_result",
          "data": {
            "text/plain": [
              "array([[ 0,  0,  0,  0,  0,  0,  0,  0,  0,  4,  2],\n",
              "       [ 0,  0,  0,  0,  0,  0,  0,  0,  4,  2, 66],\n",
              "       [ 0,  0,  0,  0,  0,  0,  0,  4,  2, 66,  8],\n",
              "       [ 0,  0,  0,  0,  0,  0,  4,  2, 66,  8, 67],\n",
              "       [ 0,  0,  0,  0,  0,  4,  2, 66,  8, 67, 68],\n",
              "       [ 0,  0,  0,  0,  4,  2, 66,  8, 67, 68, 69],\n",
              "       [ 0,  0,  0,  4,  2, 66,  8, 67, 68, 69, 70],\n",
              "       [ 0,  0,  0,  0,  0,  0,  0,  0,  0, 71, 40],\n",
              "       [ 0,  0,  0,  0,  0,  0,  0,  0, 71, 40, 20],\n",
              "       [ 0,  0,  0,  0,  0,  0,  0, 71, 40, 20, 21],\n",
              "       [ 0,  0,  0,  0,  0,  0, 71, 40, 20, 21, 72],\n",
              "       [ 0,  0,  0,  0,  0, 71, 40, 20, 21, 72,  3],\n",
              "       [ 0,  0,  0,  0, 71, 40, 20, 21, 72,  3, 73]], dtype=int32)"
            ]
          },
          "metadata": {
            "tags": []
          },
          "execution_count": 15
        }
      ]
    },
    {
      "cell_type": "code",
      "metadata": {
        "id": "WNLjUGxL0FpM"
      },
      "source": [
        "# create predictors and label\n",
        "xs, labels = input_sequences[:,:-1],input_sequences[:,-1]       # x = (0,0,3) y = (10), x = (0,3,10) y = (23), x = (3,10,23) y = (5)\n",
        "\n",
        "ys = tf.keras.utils.to_categorical(labels, num_classes=total_words)     # one hot encoding of labels"
      ],
      "execution_count": 16,
      "outputs": []
    },
    {
      "cell_type": "code",
      "metadata": {
        "colab": {
          "base_uri": "https://localhost:8080/"
        },
        "id": "qGZtKFWW0R7y",
        "outputId": "434d517b-031c-48a4-89e8-408441c388d4"
      },
      "source": [
        "xs[:13]"
      ],
      "execution_count": 17,
      "outputs": [
        {
          "output_type": "execute_result",
          "data": {
            "text/plain": [
              "array([[ 0,  0,  0,  0,  0,  0,  0,  0,  0,  4],\n",
              "       [ 0,  0,  0,  0,  0,  0,  0,  0,  4,  2],\n",
              "       [ 0,  0,  0,  0,  0,  0,  0,  4,  2, 66],\n",
              "       [ 0,  0,  0,  0,  0,  0,  4,  2, 66,  8],\n",
              "       [ 0,  0,  0,  0,  0,  4,  2, 66,  8, 67],\n",
              "       [ 0,  0,  0,  0,  4,  2, 66,  8, 67, 68],\n",
              "       [ 0,  0,  0,  4,  2, 66,  8, 67, 68, 69],\n",
              "       [ 0,  0,  0,  0,  0,  0,  0,  0,  0, 71],\n",
              "       [ 0,  0,  0,  0,  0,  0,  0,  0, 71, 40],\n",
              "       [ 0,  0,  0,  0,  0,  0,  0, 71, 40, 20],\n",
              "       [ 0,  0,  0,  0,  0,  0, 71, 40, 20, 21],\n",
              "       [ 0,  0,  0,  0,  0, 71, 40, 20, 21, 72],\n",
              "       [ 0,  0,  0,  0, 71, 40, 20, 21, 72,  3]], dtype=int32)"
            ]
          },
          "metadata": {
            "tags": []
          },
          "execution_count": 17
        }
      ]
    },
    {
      "cell_type": "code",
      "metadata": {
        "colab": {
          "base_uri": "https://localhost:8080/"
        },
        "id": "wJzSu4Vn0VVd",
        "outputId": "7a39b761-cd13-4887-c288-294c79ee66a1"
      },
      "source": [
        "labels[:13]"
      ],
      "execution_count": 18,
      "outputs": [
        {
          "output_type": "execute_result",
          "data": {
            "text/plain": [
              "array([ 2, 66,  8, 67, 68, 69, 70, 40, 20, 21, 72,  3, 73], dtype=int32)"
            ]
          },
          "metadata": {
            "tags": []
          },
          "execution_count": 18
        }
      ]
    },
    {
      "cell_type": "code",
      "metadata": {
        "colab": {
          "base_uri": "https://localhost:8080/"
        },
        "id": "fmWgRK660fv8",
        "outputId": "dd3555e5-c90e-4526-97ac-a738729e0ff3"
      },
      "source": [
        "ys[:13]           # encoded labels"
      ],
      "execution_count": 20,
      "outputs": [
        {
          "output_type": "execute_result",
          "data": {
            "text/plain": [
              "array([[0., 0., 1., ..., 0., 0., 0.],\n",
              "       [0., 0., 0., ..., 0., 0., 0.],\n",
              "       [0., 0., 0., ..., 0., 0., 0.],\n",
              "       ...,\n",
              "       [0., 0., 0., ..., 0., 0., 0.],\n",
              "       [0., 0., 0., ..., 0., 0., 0.],\n",
              "       [0., 0., 0., ..., 0., 0., 0.]], dtype=float32)"
            ]
          },
          "metadata": {
            "tags": []
          },
          "execution_count": 20
        }
      ]
    },
    {
      "cell_type": "code",
      "metadata": {
        "id": "FxQooMEkMgur",
        "colab": {
          "base_uri": "https://localhost:8080/"
        },
        "outputId": "4835a561-d070-4cd9-f633-0e2fbbd981ac"
      },
      "source": [
        "# checking indexes of 1st sentence\n",
        "\n",
        "print(tokenizer.word_index['in'])\n",
        "print(tokenizer.word_index['the'])\n",
        "print(tokenizer.word_index['town'])\n",
        "print(tokenizer.word_index['of'])\n",
        "print(tokenizer.word_index['athy'])\n",
        "print(tokenizer.word_index['one'])\n",
        "print(tokenizer.word_index['jeremy'])\n",
        "print(tokenizer.word_index['lanigan'])"
      ],
      "execution_count": 21,
      "outputs": [
        {
          "output_type": "stream",
          "text": [
            "4\n",
            "2\n",
            "66\n",
            "8\n",
            "67\n",
            "68\n",
            "69\n",
            "70\n"
          ],
          "name": "stdout"
        }
      ]
    },
    {
      "cell_type": "code",
      "metadata": {
        "colab": {
          "base_uri": "https://localhost:8080/"
        },
        "id": "2v3rPjOb2n4V",
        "outputId": "b3a18dd3-8e79-42cd-c8e1-bac3d54a348f"
      },
      "source": [
        "xs[6]"
      ],
      "execution_count": 33,
      "outputs": [
        {
          "output_type": "execute_result",
          "data": {
            "text/plain": [
              "array([ 0,  0,  0,  4,  2, 66,  8, 67, 68, 69], dtype=int32)"
            ]
          },
          "metadata": {
            "tags": []
          },
          "execution_count": 33
        }
      ]
    },
    {
      "cell_type": "code",
      "metadata": {
        "colab": {
          "base_uri": "https://localhost:8080/"
        },
        "id": "PUrMGiu42vRb",
        "outputId": "9a4cc2de-f855-4aa9-9a76-bc6c688e6028"
      },
      "source": [
        "ys[6]             # 70"
      ],
      "execution_count": 34,
      "outputs": [
        {
          "output_type": "execute_result",
          "data": {
            "text/plain": [
              "array([0., 0., 0., 0., 0., 0., 0., 0., 0., 0., 0., 0., 0., 0., 0., 0., 0.,\n",
              "       0., 0., 0., 0., 0., 0., 0., 0., 0., 0., 0., 0., 0., 0., 0., 0., 0.,\n",
              "       0., 0., 0., 0., 0., 0., 0., 0., 0., 0., 0., 0., 0., 0., 0., 0., 0.,\n",
              "       0., 0., 0., 0., 0., 0., 0., 0., 0., 0., 0., 0., 0., 0., 0., 0., 0.,\n",
              "       0., 0., 1., 0., 0., 0., 0., 0., 0., 0., 0., 0., 0., 0., 0., 0., 0.,\n",
              "       0., 0., 0., 0., 0., 0., 0., 0., 0., 0., 0., 0., 0., 0., 0., 0., 0.,\n",
              "       0., 0., 0., 0., 0., 0., 0., 0., 0., 0., 0., 0., 0., 0., 0., 0., 0.,\n",
              "       0., 0., 0., 0., 0., 0., 0., 0., 0., 0., 0., 0., 0., 0., 0., 0., 0.,\n",
              "       0., 0., 0., 0., 0., 0., 0., 0., 0., 0., 0., 0., 0., 0., 0., 0., 0.,\n",
              "       0., 0., 0., 0., 0., 0., 0., 0., 0., 0., 0., 0., 0., 0., 0., 0., 0.,\n",
              "       0., 0., 0., 0., 0., 0., 0., 0., 0., 0., 0., 0., 0., 0., 0., 0., 0.,\n",
              "       0., 0., 0., 0., 0., 0., 0., 0., 0., 0., 0., 0., 0., 0., 0., 0., 0.,\n",
              "       0., 0., 0., 0., 0., 0., 0., 0., 0., 0., 0., 0., 0., 0., 0., 0., 0.,\n",
              "       0., 0., 0., 0., 0., 0., 0., 0., 0., 0., 0., 0., 0., 0., 0., 0., 0.,\n",
              "       0., 0., 0., 0., 0., 0., 0., 0., 0., 0., 0., 0., 0., 0., 0., 0., 0.,\n",
              "       0., 0., 0., 0., 0., 0., 0., 0.], dtype=float32)"
            ]
          },
          "metadata": {
            "tags": []
          },
          "execution_count": 34
        }
      ]
    },
    {
      "cell_type": "code",
      "metadata": {
        "id": "QKI5dfPgMioL",
        "colab": {
          "base_uri": "https://localhost:8080/"
        },
        "outputId": "2649d766-37d1-45dc-a063-64d185d3fd91"
      },
      "source": [
        "print(xs[5])\n",
        "print(ys[5])          # 70"
      ],
      "execution_count": 23,
      "outputs": [
        {
          "output_type": "stream",
          "text": [
            "[ 0  0  0  0  4  2 66  8 67 68]\n",
            "[0. 0. 0. 0. 0. 0. 0. 0. 0. 0. 0. 0. 0. 0. 0. 0. 0. 0. 0. 0. 0. 0. 0. 0.\n",
            " 0. 0. 0. 0. 0. 0. 0. 0. 0. 0. 0. 0. 0. 0. 0. 0. 0. 0. 0. 0. 0. 0. 0. 0.\n",
            " 0. 0. 0. 0. 0. 0. 0. 0. 0. 0. 0. 0. 0. 0. 0. 0. 0. 0. 0. 0. 0. 1. 0. 0.\n",
            " 0. 0. 0. 0. 0. 0. 0. 0. 0. 0. 0. 0. 0. 0. 0. 0. 0. 0. 0. 0. 0. 0. 0. 0.\n",
            " 0. 0. 0. 0. 0. 0. 0. 0. 0. 0. 0. 0. 0. 0. 0. 0. 0. 0. 0. 0. 0. 0. 0. 0.\n",
            " 0. 0. 0. 0. 0. 0. 0. 0. 0. 0. 0. 0. 0. 0. 0. 0. 0. 0. 0. 0. 0. 0. 0. 0.\n",
            " 0. 0. 0. 0. 0. 0. 0. 0. 0. 0. 0. 0. 0. 0. 0. 0. 0. 0. 0. 0. 0. 0. 0. 0.\n",
            " 0. 0. 0. 0. 0. 0. 0. 0. 0. 0. 0. 0. 0. 0. 0. 0. 0. 0. 0. 0. 0. 0. 0. 0.\n",
            " 0. 0. 0. 0. 0. 0. 0. 0. 0. 0. 0. 0. 0. 0. 0. 0. 0. 0. 0. 0. 0. 0. 0. 0.\n",
            " 0. 0. 0. 0. 0. 0. 0. 0. 0. 0. 0. 0. 0. 0. 0. 0. 0. 0. 0. 0. 0. 0. 0. 0.\n",
            " 0. 0. 0. 0. 0. 0. 0. 0. 0. 0. 0. 0. 0. 0. 0. 0. 0. 0. 0. 0. 0. 0. 0.]\n"
          ],
          "name": "stdout"
        }
      ]
    },
    {
      "cell_type": "code",
      "metadata": {
        "colab": {
          "base_uri": "https://localhost:8080/"
        },
        "id": "qkR31vJY06Xi",
        "outputId": "ebab3d03-da6b-4b78-ba44-480c9f0c36cf"
      },
      "source": [
        "print(tokenizer.word_index)"
      ],
      "execution_count": 24,
      "outputs": [
        {
          "output_type": "stream",
          "text": [
            "{'and': 1, 'the': 2, 'a': 3, 'in': 4, 'all': 5, 'i': 6, 'for': 7, 'of': 8, 'lanigans': 9, 'ball': 10, 'were': 11, 'at': 12, 'to': 13, 'she': 14, 'stepped': 15, 'his': 16, 'girls': 17, 'as': 18, 'they': 19, 'til': 20, 'he': 21, 'again': 22, 'got': 23, 'boys': 24, 'round': 25, 'that': 26, 'her': 27, 'there': 28, 'three': 29, 'weeks': 30, 'up': 31, 'out': 32, 'him': 33, 'was': 34, 'spent': 35, 'learning': 36, 'new': 37, 'steps': 38, 'long': 39, 'away': 40, 'left': 41, 'friends': 42, 'relations': 43, 'when': 44, 'wall': 45, 'myself': 46, 'nice': 47, 'just': 48, 'dancing': 49, 'merry': 50, 'tipped': 51, 'me': 52, 'soon': 53, 'time': 54, 'old': 55, 'their': 56, 'them': 57, 'danced': 58, 'dublin': 59, 'an': 60, 'put': 61, 'leg': 62, 'miss': 63, 'fainted': 64, 'from': 65, 'town': 66, 'athy': 67, 'one': 68, 'jeremy': 69, 'lanigan': 70, 'battered': 71, 'hadnt': 72, 'pound': 73, 'father': 74, 'died': 75, 'made': 76, 'man': 77, 'farm': 78, 'ten': 79, 'acres': 80, 'ground': 81, 'gave': 82, 'grand': 83, 'party': 84, 'who': 85, 'didnt': 86, 'forget': 87, 'come': 88, 'if': 89, 'youll': 90, 'but': 91, 'listen': 92, 'ill': 93, 'make': 94, 'your': 95, 'eyes': 96, 'glisten': 97, 'rows': 98, 'ructions': 99, 'be': 100, 'sure': 101, 'free': 102, 'invitation': 103, 'might': 104, 'ask': 105, 'minute': 106, 'both': 107, 'bees': 108, 'cask': 109, 'judy': 110, 'odaly': 111, 'little': 112, 'milliner': 113, 'wink': 114, 'give': 115, 'call': 116, 'arrived': 117, 'with': 118, 'peggy': 119, 'mcgilligan': 120, 'lashings': 121, 'punch': 122, 'wine': 123, 'ladies': 124, 'potatoes': 125, 'cakes': 126, 'bacon': 127, 'tea': 128, 'nolans': 129, 'dolans': 130, 'ogradys': 131, 'courting': 132, 'songs': 133, 'went': 134, 'plenty': 135, 'water': 136, 'harp': 137, 'once': 138, 'sounded': 139, 'taras': 140, 'hall': 141, 'sweet': 142, 'nelly': 143, 'gray': 144, 'rat': 145, 'catchers': 146, 'daughter': 147, 'singing': 148, 'together': 149, 'doing': 150, 'kinds': 151, 'nonsensical': 152, 'polkas': 153, 'room': 154, 'whirligig': 155, 'julia': 156, 'we': 157, 'banished': 158, 'nonsense': 159, 'twist': 160, 'reel': 161, 'jig': 162, 'ach': 163, 'mavrone': 164, 'how': 165, 'mad': 166, 'youd': 167, 'think': 168, 'ceiling': 169, 'would': 170, 'fall': 171, 'brooks': 172, 'academy': 173, 'learn': 174, 'nothing': 175, 'hearty': 176, 'around': 177, 'couples': 178, 'groups': 179, 'accident': 180, 'happened': 181, 'young': 182, 'terrance': 183, 'mccarthy': 184, 'right': 185, 'through': 186, 'finnertys': 187, 'hoops': 188, 'poor': 189, 'creature': 190, 'cried': 191, 'meelia': 192, 'murther': 193, 'called': 194, 'brothers': 195, 'gathered': 196, 'carmody': 197, 'swore': 198, 'hed': 199, 'go': 200, 'no': 201, 'further': 202, 'had': 203, 'satisfaction': 204, 'midst': 205, 'row': 206, 'kerrigan': 207, 'cheeks': 208, 'same': 209, 'red': 210, 'rose': 211, 'some': 212, 'lads': 213, 'declared': 214, 'painted': 215, 'took': 216, 'small': 217, 'drop': 218, 'too': 219, 'much': 220, 'suppose': 221, 'sweetheart': 222, 'ned': 223, 'morgan': 224, 'so': 225, 'powerful': 226, 'able': 227, 'saw': 228, 'fair': 229, 'colleen': 230, 'stretched': 231, 'by': 232, 'tore': 233, 'under': 234, 'table': 235, 'smashed': 236, 'chaneys': 237, 'oh': 238, 'twas': 239, 'then': 240, 'runctions': 241, 'lick': 242, 'big': 243, 'phelim': 244, 'mchugh': 245, 'replied': 246, 'introduction': 247, 'kicked': 248, 'terrible': 249, 'hullabaloo': 250, 'casey': 251, 'piper': 252, 'near': 253, 'being': 254, 'strangled': 255, 'squeezed': 256, 'pipes': 257, 'bellows': 258, 'chanters': 259, 'ribbons': 260, 'entangled': 261, 'end': 262}\n"
          ],
          "name": "stdout"
        }
      ]
    },
    {
      "cell_type": "code",
      "metadata": {
        "id": "Ri81OE-N1AiZ"
      },
      "source": [
        "model = Sequential()\n",
        "model.add(Embedding(total_words, 64, input_length=max_sequence_len-1))          # minus 1 to remove the label\n",
        "model.add(Bidirectional(LSTM(20)))\n",
        "model.add(Dense(total_words, activation='softmax'))\n",
        "model.compile(loss='categorical_crossentropy', optimizer='adam', metrics=['accuracy'])"
      ],
      "execution_count": 25,
      "outputs": []
    },
    {
      "cell_type": "code",
      "metadata": {
        "id": "Uip7QOVzMoMq",
        "colab": {
          "base_uri": "https://localhost:8080/"
        },
        "outputId": "5839af13-fce8-4eb0-9c1a-19210759ab6b"
      },
      "source": [
        "model.summary()"
      ],
      "execution_count": 26,
      "outputs": [
        {
          "output_type": "stream",
          "text": [
            "Model: \"sequential\"\n",
            "_________________________________________________________________\n",
            "Layer (type)                 Output Shape              Param #   \n",
            "=================================================================\n",
            "embedding (Embedding)        (None, 10, 64)            16832     \n",
            "_________________________________________________________________\n",
            "bidirectional (Bidirectional (None, 40)                13600     \n",
            "_________________________________________________________________\n",
            "dense (Dense)                (None, 263)               10783     \n",
            "=================================================================\n",
            "Total params: 41,215\n",
            "Trainable params: 41,215\n",
            "Non-trainable params: 0\n",
            "_________________________________________________________________\n"
          ],
          "name": "stdout"
        }
      ]
    },
    {
      "cell_type": "code",
      "metadata": {
        "id": "7mlgzaRDMtF6",
        "colab": {
          "base_uri": "https://localhost:8080/"
        },
        "outputId": "2faa6139-d1fc-42dd-d169-45229b2a8132"
      },
      "source": [
        "history = model.fit(xs, ys, epochs=500, verbose=1)"
      ],
      "execution_count": 27,
      "outputs": [
        {
          "output_type": "stream",
          "text": [
            "Epoch 1/500\n",
            "15/15 [==============================] - 9s 7ms/step - loss: 5.5695 - accuracy: 0.0110\n",
            "Epoch 2/500\n",
            "15/15 [==============================] - 0s 6ms/step - loss: 5.5482 - accuracy: 0.0331\n",
            "Epoch 3/500\n",
            "15/15 [==============================] - 0s 6ms/step - loss: 5.5005 - accuracy: 0.0596\n",
            "Epoch 4/500\n",
            "15/15 [==============================] - 0s 6ms/step - loss: 5.3589 - accuracy: 0.0508\n",
            "Epoch 5/500\n",
            "15/15 [==============================] - 0s 6ms/step - loss: 5.1576 - accuracy: 0.0508\n",
            "Epoch 6/500\n",
            "15/15 [==============================] - 0s 6ms/step - loss: 5.0726 - accuracy: 0.0508\n",
            "Epoch 7/500\n",
            "15/15 [==============================] - 0s 6ms/step - loss: 5.0304 - accuracy: 0.0508\n",
            "Epoch 8/500\n",
            "15/15 [==============================] - 0s 6ms/step - loss: 4.9976 - accuracy: 0.0618\n",
            "Epoch 9/500\n",
            "15/15 [==============================] - 0s 6ms/step - loss: 4.9644 - accuracy: 0.0795\n",
            "Epoch 10/500\n",
            "15/15 [==============================] - 0s 6ms/step - loss: 4.9321 - accuracy: 0.0684\n",
            "Epoch 11/500\n",
            "15/15 [==============================] - 0s 6ms/step - loss: 4.8910 - accuracy: 0.0684\n",
            "Epoch 12/500\n",
            "15/15 [==============================] - 0s 6ms/step - loss: 4.8532 - accuracy: 0.0662\n",
            "Epoch 13/500\n",
            "15/15 [==============================] - 0s 6ms/step - loss: 4.8034 - accuracy: 0.0839\n",
            "Epoch 14/500\n",
            "15/15 [==============================] - 0s 7ms/step - loss: 4.7564 - accuracy: 0.0728\n",
            "Epoch 15/500\n",
            "15/15 [==============================] - 0s 6ms/step - loss: 4.6948 - accuracy: 0.0773\n",
            "Epoch 16/500\n",
            "15/15 [==============================] - 0s 6ms/step - loss: 4.6338 - accuracy: 0.0751\n",
            "Epoch 17/500\n",
            "15/15 [==============================] - 0s 6ms/step - loss: 4.5758 - accuracy: 0.0817\n",
            "Epoch 18/500\n",
            "15/15 [==============================] - 0s 6ms/step - loss: 4.5203 - accuracy: 0.0949\n",
            "Epoch 19/500\n",
            "15/15 [==============================] - 0s 6ms/step - loss: 4.4683 - accuracy: 0.1082\n",
            "Epoch 20/500\n",
            "15/15 [==============================] - 0s 6ms/step - loss: 4.4236 - accuracy: 0.1060\n",
            "Epoch 21/500\n",
            "15/15 [==============================] - 0s 6ms/step - loss: 4.3771 - accuracy: 0.1302\n",
            "Epoch 22/500\n",
            "15/15 [==============================] - 0s 6ms/step - loss: 4.3369 - accuracy: 0.1258\n",
            "Epoch 23/500\n",
            "15/15 [==============================] - 0s 6ms/step - loss: 4.3075 - accuracy: 0.1258\n",
            "Epoch 24/500\n",
            "15/15 [==============================] - 0s 7ms/step - loss: 4.2553 - accuracy: 0.1214\n",
            "Epoch 25/500\n",
            "15/15 [==============================] - 0s 6ms/step - loss: 4.2145 - accuracy: 0.1347\n",
            "Epoch 26/500\n",
            "15/15 [==============================] - 0s 6ms/step - loss: 4.1684 - accuracy: 0.1347\n",
            "Epoch 27/500\n",
            "15/15 [==============================] - 0s 7ms/step - loss: 4.1327 - accuracy: 0.1369\n",
            "Epoch 28/500\n",
            "15/15 [==============================] - 0s 6ms/step - loss: 4.0998 - accuracy: 0.1457\n",
            "Epoch 29/500\n",
            "15/15 [==============================] - 0s 7ms/step - loss: 4.0551 - accuracy: 0.1501\n",
            "Epoch 30/500\n",
            "15/15 [==============================] - 0s 6ms/step - loss: 4.0100 - accuracy: 0.1567\n",
            "Epoch 31/500\n",
            "15/15 [==============================] - 0s 6ms/step - loss: 3.9897 - accuracy: 0.1523\n",
            "Epoch 32/500\n",
            "15/15 [==============================] - 0s 6ms/step - loss: 3.9440 - accuracy: 0.1634\n",
            "Epoch 33/500\n",
            "15/15 [==============================] - 0s 7ms/step - loss: 3.9046 - accuracy: 0.1678\n",
            "Epoch 34/500\n",
            "15/15 [==============================] - 0s 6ms/step - loss: 3.8589 - accuracy: 0.1634\n",
            "Epoch 35/500\n",
            "15/15 [==============================] - 0s 6ms/step - loss: 3.8149 - accuracy: 0.1788\n",
            "Epoch 36/500\n",
            "15/15 [==============================] - 0s 6ms/step - loss: 3.7956 - accuracy: 0.1898\n",
            "Epoch 37/500\n",
            "15/15 [==============================] - 0s 6ms/step - loss: 3.7644 - accuracy: 0.1876\n",
            "Epoch 38/500\n",
            "15/15 [==============================] - 0s 6ms/step - loss: 3.6996 - accuracy: 0.1987\n",
            "Epoch 39/500\n",
            "15/15 [==============================] - 0s 6ms/step - loss: 3.6635 - accuracy: 0.2119\n",
            "Epoch 40/500\n",
            "15/15 [==============================] - 0s 6ms/step - loss: 3.6233 - accuracy: 0.2252\n",
            "Epoch 41/500\n",
            "15/15 [==============================] - 0s 6ms/step - loss: 3.5789 - accuracy: 0.2428\n",
            "Epoch 42/500\n",
            "15/15 [==============================] - 0s 6ms/step - loss: 3.5486 - accuracy: 0.2340\n",
            "Epoch 43/500\n",
            "15/15 [==============================] - 0s 6ms/step - loss: 3.5167 - accuracy: 0.2450\n",
            "Epoch 44/500\n",
            "15/15 [==============================] - 0s 6ms/step - loss: 3.4804 - accuracy: 0.2494\n",
            "Epoch 45/500\n",
            "15/15 [==============================] - 0s 6ms/step - loss: 3.4355 - accuracy: 0.2583\n",
            "Epoch 46/500\n",
            "15/15 [==============================] - 0s 6ms/step - loss: 3.3940 - accuracy: 0.2649\n",
            "Epoch 47/500\n",
            "15/15 [==============================] - 0s 6ms/step - loss: 3.3567 - accuracy: 0.2715\n",
            "Epoch 48/500\n",
            "15/15 [==============================] - 0s 6ms/step - loss: 3.3233 - accuracy: 0.2759\n",
            "Epoch 49/500\n",
            "15/15 [==============================] - 0s 6ms/step - loss: 3.2814 - accuracy: 0.2848\n",
            "Epoch 50/500\n",
            "15/15 [==============================] - 0s 6ms/step - loss: 3.2483 - accuracy: 0.2892\n",
            "Epoch 51/500\n",
            "15/15 [==============================] - 0s 7ms/step - loss: 3.2045 - accuracy: 0.3046\n",
            "Epoch 52/500\n",
            "15/15 [==============================] - 0s 6ms/step - loss: 3.1618 - accuracy: 0.3091\n",
            "Epoch 53/500\n",
            "15/15 [==============================] - 0s 6ms/step - loss: 3.1229 - accuracy: 0.3311\n",
            "Epoch 54/500\n",
            "15/15 [==============================] - 0s 6ms/step - loss: 3.0857 - accuracy: 0.3554\n",
            "Epoch 55/500\n",
            "15/15 [==============================] - 0s 6ms/step - loss: 3.0474 - accuracy: 0.3753\n",
            "Epoch 56/500\n",
            "15/15 [==============================] - 0s 6ms/step - loss: 3.0147 - accuracy: 0.3642\n",
            "Epoch 57/500\n",
            "15/15 [==============================] - 0s 6ms/step - loss: 2.9756 - accuracy: 0.3797\n",
            "Epoch 58/500\n",
            "15/15 [==============================] - 0s 6ms/step - loss: 2.9278 - accuracy: 0.3907\n",
            "Epoch 59/500\n",
            "15/15 [==============================] - 0s 7ms/step - loss: 2.8951 - accuracy: 0.4018\n",
            "Epoch 60/500\n",
            "15/15 [==============================] - 0s 6ms/step - loss: 2.8650 - accuracy: 0.4106\n",
            "Epoch 61/500\n",
            "15/15 [==============================] - 0s 6ms/step - loss: 2.8271 - accuracy: 0.4371\n",
            "Epoch 62/500\n",
            "15/15 [==============================] - 0s 6ms/step - loss: 2.7886 - accuracy: 0.4260\n",
            "Epoch 63/500\n",
            "15/15 [==============================] - 0s 7ms/step - loss: 2.7566 - accuracy: 0.4415\n",
            "Epoch 64/500\n",
            "15/15 [==============================] - 0s 7ms/step - loss: 2.7165 - accuracy: 0.4503\n",
            "Epoch 65/500\n",
            "15/15 [==============================] - 0s 6ms/step - loss: 2.6775 - accuracy: 0.4636\n",
            "Epoch 66/500\n",
            "15/15 [==============================] - 0s 6ms/step - loss: 2.6443 - accuracy: 0.4812\n",
            "Epoch 67/500\n",
            "15/15 [==============================] - 0s 6ms/step - loss: 2.6118 - accuracy: 0.4923\n",
            "Epoch 68/500\n",
            "15/15 [==============================] - 0s 6ms/step - loss: 2.5859 - accuracy: 0.4989\n",
            "Epoch 69/500\n",
            "15/15 [==============================] - 0s 7ms/step - loss: 2.5665 - accuracy: 0.4901\n",
            "Epoch 70/500\n",
            "15/15 [==============================] - 0s 6ms/step - loss: 2.5280 - accuracy: 0.4967\n",
            "Epoch 71/500\n",
            "15/15 [==============================] - 0s 6ms/step - loss: 2.4983 - accuracy: 0.5011\n",
            "Epoch 72/500\n",
            "15/15 [==============================] - 0s 6ms/step - loss: 2.4660 - accuracy: 0.5166\n",
            "Epoch 73/500\n",
            "15/15 [==============================] - 0s 7ms/step - loss: 2.4342 - accuracy: 0.5188\n",
            "Epoch 74/500\n",
            "15/15 [==============================] - 0s 7ms/step - loss: 2.3995 - accuracy: 0.5143\n",
            "Epoch 75/500\n",
            "15/15 [==============================] - 0s 6ms/step - loss: 2.4085 - accuracy: 0.5364\n",
            "Epoch 76/500\n",
            "15/15 [==============================] - 0s 6ms/step - loss: 2.3642 - accuracy: 0.5276\n",
            "Epoch 77/500\n",
            "15/15 [==============================] - 0s 6ms/step - loss: 2.3303 - accuracy: 0.5497\n",
            "Epoch 78/500\n",
            "15/15 [==============================] - 0s 6ms/step - loss: 2.3106 - accuracy: 0.5607\n",
            "Epoch 79/500\n",
            "15/15 [==============================] - 0s 6ms/step - loss: 2.2745 - accuracy: 0.5541\n",
            "Epoch 80/500\n",
            "15/15 [==============================] - 0s 6ms/step - loss: 2.2395 - accuracy: 0.5894\n",
            "Epoch 81/500\n",
            "15/15 [==============================] - 0s 6ms/step - loss: 2.2080 - accuracy: 0.5894\n",
            "Epoch 82/500\n",
            "15/15 [==============================] - 0s 6ms/step - loss: 2.1797 - accuracy: 0.5894\n",
            "Epoch 83/500\n",
            "15/15 [==============================] - 0s 6ms/step - loss: 2.1585 - accuracy: 0.5938\n",
            "Epoch 84/500\n",
            "15/15 [==============================] - 0s 6ms/step - loss: 2.1393 - accuracy: 0.6137\n",
            "Epoch 85/500\n",
            "15/15 [==============================] - 0s 6ms/step - loss: 2.1135 - accuracy: 0.6225\n",
            "Epoch 86/500\n",
            "15/15 [==============================] - 0s 7ms/step - loss: 2.0759 - accuracy: 0.6490\n",
            "Epoch 87/500\n",
            "15/15 [==============================] - 0s 6ms/step - loss: 2.0485 - accuracy: 0.6380\n",
            "Epoch 88/500\n",
            "15/15 [==============================] - 0s 6ms/step - loss: 2.0284 - accuracy: 0.6534\n",
            "Epoch 89/500\n",
            "15/15 [==============================] - 0s 7ms/step - loss: 2.0028 - accuracy: 0.6578\n",
            "Epoch 90/500\n",
            "15/15 [==============================] - 0s 6ms/step - loss: 1.9787 - accuracy: 0.6711\n",
            "Epoch 91/500\n",
            "15/15 [==============================] - 0s 6ms/step - loss: 1.9590 - accuracy: 0.6755\n",
            "Epoch 92/500\n",
            "15/15 [==============================] - 0s 6ms/step - loss: 1.9329 - accuracy: 0.6755\n",
            "Epoch 93/500\n",
            "15/15 [==============================] - 0s 6ms/step - loss: 1.9098 - accuracy: 0.6843\n",
            "Epoch 94/500\n",
            "15/15 [==============================] - 0s 6ms/step - loss: 1.8882 - accuracy: 0.6821\n",
            "Epoch 95/500\n",
            "15/15 [==============================] - 0s 6ms/step - loss: 1.8798 - accuracy: 0.6755\n",
            "Epoch 96/500\n",
            "15/15 [==============================] - 0s 6ms/step - loss: 1.8541 - accuracy: 0.6932\n",
            "Epoch 97/500\n",
            "15/15 [==============================] - 0s 6ms/step - loss: 1.8479 - accuracy: 0.6998\n",
            "Epoch 98/500\n",
            "15/15 [==============================] - 0s 6ms/step - loss: 1.8270 - accuracy: 0.7042\n",
            "Epoch 99/500\n",
            "15/15 [==============================] - 0s 6ms/step - loss: 1.8042 - accuracy: 0.7108\n",
            "Epoch 100/500\n",
            "15/15 [==============================] - 0s 6ms/step - loss: 1.7759 - accuracy: 0.7152\n",
            "Epoch 101/500\n",
            "15/15 [==============================] - 0s 6ms/step - loss: 1.7464 - accuracy: 0.7219\n",
            "Epoch 102/500\n",
            "15/15 [==============================] - 0s 6ms/step - loss: 1.7215 - accuracy: 0.7373\n",
            "Epoch 103/500\n",
            "15/15 [==============================] - 0s 6ms/step - loss: 1.7035 - accuracy: 0.7483\n",
            "Epoch 104/500\n",
            "15/15 [==============================] - 0s 7ms/step - loss: 1.6823 - accuracy: 0.7506\n",
            "Epoch 105/500\n",
            "15/15 [==============================] - 0s 6ms/step - loss: 1.6625 - accuracy: 0.7572\n",
            "Epoch 106/500\n",
            "15/15 [==============================] - 0s 6ms/step - loss: 1.6476 - accuracy: 0.7550\n",
            "Epoch 107/500\n",
            "15/15 [==============================] - 0s 6ms/step - loss: 1.6228 - accuracy: 0.7748\n",
            "Epoch 108/500\n",
            "15/15 [==============================] - 0s 6ms/step - loss: 1.6065 - accuracy: 0.7682\n",
            "Epoch 109/500\n",
            "15/15 [==============================] - 0s 6ms/step - loss: 1.5953 - accuracy: 0.7638\n",
            "Epoch 110/500\n",
            "15/15 [==============================] - 0s 7ms/step - loss: 1.5800 - accuracy: 0.7770\n",
            "Epoch 111/500\n",
            "15/15 [==============================] - 0s 6ms/step - loss: 1.5596 - accuracy: 0.7815\n",
            "Epoch 112/500\n",
            "15/15 [==============================] - 0s 7ms/step - loss: 1.5418 - accuracy: 0.7991\n",
            "Epoch 113/500\n",
            "15/15 [==============================] - 0s 6ms/step - loss: 1.5152 - accuracy: 0.7991\n",
            "Epoch 114/500\n",
            "15/15 [==============================] - 0s 6ms/step - loss: 1.5058 - accuracy: 0.7947\n",
            "Epoch 115/500\n",
            "15/15 [==============================] - 0s 6ms/step - loss: 1.4916 - accuracy: 0.7969\n",
            "Epoch 116/500\n",
            "15/15 [==============================] - 0s 7ms/step - loss: 1.4671 - accuracy: 0.7991\n",
            "Epoch 117/500\n",
            "15/15 [==============================] - 0s 6ms/step - loss: 1.4706 - accuracy: 0.7947\n",
            "Epoch 118/500\n",
            "15/15 [==============================] - 0s 6ms/step - loss: 1.4619 - accuracy: 0.7969\n",
            "Epoch 119/500\n",
            "15/15 [==============================] - 0s 7ms/step - loss: 1.4487 - accuracy: 0.7925\n",
            "Epoch 120/500\n",
            "15/15 [==============================] - 0s 6ms/step - loss: 1.4406 - accuracy: 0.7837\n",
            "Epoch 121/500\n",
            "15/15 [==============================] - 0s 6ms/step - loss: 1.4436 - accuracy: 0.7947\n",
            "Epoch 122/500\n",
            "15/15 [==============================] - 0s 6ms/step - loss: 1.4010 - accuracy: 0.8013\n",
            "Epoch 123/500\n",
            "15/15 [==============================] - 0s 6ms/step - loss: 1.3790 - accuracy: 0.8102\n",
            "Epoch 124/500\n",
            "15/15 [==============================] - 0s 6ms/step - loss: 1.3541 - accuracy: 0.8168\n",
            "Epoch 125/500\n",
            "15/15 [==============================] - 0s 6ms/step - loss: 1.3355 - accuracy: 0.8212\n",
            "Epoch 126/500\n",
            "15/15 [==============================] - 0s 6ms/step - loss: 1.3159 - accuracy: 0.8190\n",
            "Epoch 127/500\n",
            "15/15 [==============================] - 0s 6ms/step - loss: 1.3031 - accuracy: 0.8234\n",
            "Epoch 128/500\n",
            "15/15 [==============================] - 0s 6ms/step - loss: 1.2857 - accuracy: 0.8234\n",
            "Epoch 129/500\n",
            "15/15 [==============================] - 0s 7ms/step - loss: 1.2724 - accuracy: 0.8256\n",
            "Epoch 130/500\n",
            "15/15 [==============================] - 0s 6ms/step - loss: 1.2584 - accuracy: 0.8278\n",
            "Epoch 131/500\n",
            "15/15 [==============================] - 0s 6ms/step - loss: 1.2438 - accuracy: 0.8411\n",
            "Epoch 132/500\n",
            "15/15 [==============================] - 0s 7ms/step - loss: 1.2313 - accuracy: 0.8344\n",
            "Epoch 133/500\n",
            "15/15 [==============================] - 0s 7ms/step - loss: 1.2175 - accuracy: 0.8389\n",
            "Epoch 134/500\n",
            "15/15 [==============================] - 0s 7ms/step - loss: 1.2024 - accuracy: 0.8389\n",
            "Epoch 135/500\n",
            "15/15 [==============================] - 0s 6ms/step - loss: 1.1982 - accuracy: 0.8455\n",
            "Epoch 136/500\n",
            "15/15 [==============================] - 0s 6ms/step - loss: 1.1900 - accuracy: 0.8455\n",
            "Epoch 137/500\n",
            "15/15 [==============================] - 0s 6ms/step - loss: 1.1828 - accuracy: 0.8455\n",
            "Epoch 138/500\n",
            "15/15 [==============================] - 0s 7ms/step - loss: 1.1631 - accuracy: 0.8631\n",
            "Epoch 139/500\n",
            "15/15 [==============================] - 0s 6ms/step - loss: 1.1667 - accuracy: 0.8521\n",
            "Epoch 140/500\n",
            "15/15 [==============================] - 0s 6ms/step - loss: 1.1677 - accuracy: 0.8455\n",
            "Epoch 141/500\n",
            "15/15 [==============================] - 0s 6ms/step - loss: 1.1459 - accuracy: 0.8521\n",
            "Epoch 142/500\n",
            "15/15 [==============================] - 0s 6ms/step - loss: 1.1217 - accuracy: 0.8631\n",
            "Epoch 143/500\n",
            "15/15 [==============================] - 0s 6ms/step - loss: 1.0975 - accuracy: 0.8698\n",
            "Epoch 144/500\n",
            "15/15 [==============================] - 0s 7ms/step - loss: 1.0849 - accuracy: 0.8675\n",
            "Epoch 145/500\n",
            "15/15 [==============================] - 0s 6ms/step - loss: 1.0656 - accuracy: 0.8698\n",
            "Epoch 146/500\n",
            "15/15 [==============================] - 0s 6ms/step - loss: 1.0572 - accuracy: 0.8698\n",
            "Epoch 147/500\n",
            "15/15 [==============================] - 0s 6ms/step - loss: 1.0520 - accuracy: 0.8808\n",
            "Epoch 148/500\n",
            "15/15 [==============================] - 0s 6ms/step - loss: 1.0387 - accuracy: 0.8764\n",
            "Epoch 149/500\n",
            "15/15 [==============================] - 0s 6ms/step - loss: 1.0303 - accuracy: 0.8720\n",
            "Epoch 150/500\n",
            "15/15 [==============================] - 0s 6ms/step - loss: 1.0628 - accuracy: 0.8720\n",
            "Epoch 151/500\n",
            "15/15 [==============================] - 0s 6ms/step - loss: 1.0511 - accuracy: 0.8786\n",
            "Epoch 152/500\n",
            "15/15 [==============================] - 0s 6ms/step - loss: 1.0192 - accuracy: 0.8786\n",
            "Epoch 153/500\n",
            "15/15 [==============================] - 0s 6ms/step - loss: 0.9955 - accuracy: 0.8852\n",
            "Epoch 154/500\n",
            "15/15 [==============================] - 0s 8ms/step - loss: 0.9698 - accuracy: 0.8830\n",
            "Epoch 155/500\n",
            "15/15 [==============================] - 0s 6ms/step - loss: 0.9583 - accuracy: 0.8940\n",
            "Epoch 156/500\n",
            "15/15 [==============================] - 0s 6ms/step - loss: 0.9508 - accuracy: 0.8852\n",
            "Epoch 157/500\n",
            "15/15 [==============================] - 0s 6ms/step - loss: 0.9319 - accuracy: 0.8940\n",
            "Epoch 158/500\n",
            "15/15 [==============================] - 0s 7ms/step - loss: 0.9220 - accuracy: 0.8918\n",
            "Epoch 159/500\n",
            "15/15 [==============================] - 0s 6ms/step - loss: 0.9103 - accuracy: 0.8918\n",
            "Epoch 160/500\n",
            "15/15 [==============================] - 0s 6ms/step - loss: 0.8984 - accuracy: 0.8962\n",
            "Epoch 161/500\n",
            "15/15 [==============================] - 0s 6ms/step - loss: 0.8872 - accuracy: 0.9007\n",
            "Epoch 162/500\n",
            "15/15 [==============================] - 0s 7ms/step - loss: 0.8790 - accuracy: 0.8962\n",
            "Epoch 163/500\n",
            "15/15 [==============================] - 0s 7ms/step - loss: 0.8728 - accuracy: 0.8962\n",
            "Epoch 164/500\n",
            "15/15 [==============================] - 0s 7ms/step - loss: 0.8638 - accuracy: 0.8940\n",
            "Epoch 165/500\n",
            "15/15 [==============================] - 0s 6ms/step - loss: 0.8558 - accuracy: 0.8985\n",
            "Epoch 166/500\n",
            "15/15 [==============================] - 0s 6ms/step - loss: 0.8444 - accuracy: 0.9029\n",
            "Epoch 167/500\n",
            "15/15 [==============================] - 0s 7ms/step - loss: 0.8353 - accuracy: 0.8985\n",
            "Epoch 168/500\n",
            "15/15 [==============================] - 0s 6ms/step - loss: 0.8262 - accuracy: 0.8940\n",
            "Epoch 169/500\n",
            "15/15 [==============================] - 0s 6ms/step - loss: 0.8168 - accuracy: 0.9095\n",
            "Epoch 170/500\n",
            "15/15 [==============================] - 0s 6ms/step - loss: 0.8075 - accuracy: 0.9051\n",
            "Epoch 171/500\n",
            "15/15 [==============================] - 0s 7ms/step - loss: 0.7979 - accuracy: 0.9095\n",
            "Epoch 172/500\n",
            "15/15 [==============================] - 0s 6ms/step - loss: 0.7902 - accuracy: 0.9117\n",
            "Epoch 173/500\n",
            "15/15 [==============================] - 0s 6ms/step - loss: 0.7815 - accuracy: 0.9139\n",
            "Epoch 174/500\n",
            "15/15 [==============================] - 0s 7ms/step - loss: 0.7738 - accuracy: 0.9117\n",
            "Epoch 175/500\n",
            "15/15 [==============================] - 0s 7ms/step - loss: 0.7675 - accuracy: 0.9183\n",
            "Epoch 176/500\n",
            "15/15 [==============================] - 0s 6ms/step - loss: 0.7587 - accuracy: 0.9183\n",
            "Epoch 177/500\n",
            "15/15 [==============================] - 0s 6ms/step - loss: 0.7512 - accuracy: 0.9095\n",
            "Epoch 178/500\n",
            "15/15 [==============================] - 0s 6ms/step - loss: 0.7423 - accuracy: 0.9161\n",
            "Epoch 179/500\n",
            "15/15 [==============================] - 0s 6ms/step - loss: 0.7359 - accuracy: 0.9161\n",
            "Epoch 180/500\n",
            "15/15 [==============================] - 0s 6ms/step - loss: 0.7273 - accuracy: 0.9183\n",
            "Epoch 181/500\n",
            "15/15 [==============================] - 0s 6ms/step - loss: 0.7203 - accuracy: 0.9183\n",
            "Epoch 182/500\n",
            "15/15 [==============================] - 0s 6ms/step - loss: 0.7137 - accuracy: 0.9183\n",
            "Epoch 183/500\n",
            "15/15 [==============================] - 0s 6ms/step - loss: 0.7094 - accuracy: 0.9161\n",
            "Epoch 184/500\n",
            "15/15 [==============================] - 0s 6ms/step - loss: 0.7030 - accuracy: 0.9205\n",
            "Epoch 185/500\n",
            "15/15 [==============================] - 0s 6ms/step - loss: 0.6952 - accuracy: 0.9205\n",
            "Epoch 186/500\n",
            "15/15 [==============================] - 0s 6ms/step - loss: 0.6889 - accuracy: 0.9205\n",
            "Epoch 187/500\n",
            "15/15 [==============================] - 0s 6ms/step - loss: 0.6805 - accuracy: 0.9249\n",
            "Epoch 188/500\n",
            "15/15 [==============================] - 0s 6ms/step - loss: 0.6735 - accuracy: 0.9183\n",
            "Epoch 189/500\n",
            "15/15 [==============================] - 0s 6ms/step - loss: 0.6681 - accuracy: 0.9227\n",
            "Epoch 190/500\n",
            "15/15 [==============================] - 0s 6ms/step - loss: 0.6609 - accuracy: 0.9227\n",
            "Epoch 191/500\n",
            "15/15 [==============================] - 0s 7ms/step - loss: 0.6540 - accuracy: 0.9272\n",
            "Epoch 192/500\n",
            "15/15 [==============================] - 0s 7ms/step - loss: 0.6464 - accuracy: 0.9249\n",
            "Epoch 193/500\n",
            "15/15 [==============================] - 0s 7ms/step - loss: 0.6412 - accuracy: 0.9272\n",
            "Epoch 194/500\n",
            "15/15 [==============================] - 0s 6ms/step - loss: 0.6365 - accuracy: 0.9272\n",
            "Epoch 195/500\n",
            "15/15 [==============================] - 0s 6ms/step - loss: 0.6290 - accuracy: 0.9272\n",
            "Epoch 196/500\n",
            "15/15 [==============================] - 0s 7ms/step - loss: 0.6206 - accuracy: 0.9272\n",
            "Epoch 197/500\n",
            "15/15 [==============================] - 0s 6ms/step - loss: 0.6154 - accuracy: 0.9249\n",
            "Epoch 198/500\n",
            "15/15 [==============================] - 0s 6ms/step - loss: 0.6092 - accuracy: 0.9294\n",
            "Epoch 199/500\n",
            "15/15 [==============================] - 0s 6ms/step - loss: 0.6038 - accuracy: 0.9316\n",
            "Epoch 200/500\n",
            "15/15 [==============================] - 0s 6ms/step - loss: 0.5969 - accuracy: 0.9360\n",
            "Epoch 201/500\n",
            "15/15 [==============================] - 0s 6ms/step - loss: 0.5922 - accuracy: 0.9338\n",
            "Epoch 202/500\n",
            "15/15 [==============================] - 0s 6ms/step - loss: 0.5857 - accuracy: 0.9360\n",
            "Epoch 203/500\n",
            "15/15 [==============================] - 0s 7ms/step - loss: 0.5803 - accuracy: 0.9338\n",
            "Epoch 204/500\n",
            "15/15 [==============================] - 0s 7ms/step - loss: 0.5753 - accuracy: 0.9316\n",
            "Epoch 205/500\n",
            "15/15 [==============================] - 0s 6ms/step - loss: 0.5701 - accuracy: 0.9294\n",
            "Epoch 206/500\n",
            "15/15 [==============================] - 0s 6ms/step - loss: 0.5641 - accuracy: 0.9294\n",
            "Epoch 207/500\n",
            "15/15 [==============================] - 0s 6ms/step - loss: 0.5585 - accuracy: 0.9338\n",
            "Epoch 208/500\n",
            "15/15 [==============================] - 0s 6ms/step - loss: 0.5553 - accuracy: 0.9294\n",
            "Epoch 209/500\n",
            "15/15 [==============================] - 0s 6ms/step - loss: 0.5528 - accuracy: 0.9316\n",
            "Epoch 210/500\n",
            "15/15 [==============================] - 0s 6ms/step - loss: 0.5466 - accuracy: 0.9294\n",
            "Epoch 211/500\n",
            "15/15 [==============================] - 0s 6ms/step - loss: 0.5411 - accuracy: 0.9360\n",
            "Epoch 212/500\n",
            "15/15 [==============================] - 0s 6ms/step - loss: 0.5352 - accuracy: 0.9360\n",
            "Epoch 213/500\n",
            "15/15 [==============================] - 0s 7ms/step - loss: 0.5303 - accuracy: 0.9316\n",
            "Epoch 214/500\n",
            "15/15 [==============================] - 0s 6ms/step - loss: 0.5259 - accuracy: 0.9316\n",
            "Epoch 215/500\n",
            "15/15 [==============================] - 0s 6ms/step - loss: 0.5210 - accuracy: 0.9338\n",
            "Epoch 216/500\n",
            "15/15 [==============================] - 0s 6ms/step - loss: 0.5158 - accuracy: 0.9338\n",
            "Epoch 217/500\n",
            "15/15 [==============================] - 0s 6ms/step - loss: 0.5104 - accuracy: 0.9338\n",
            "Epoch 218/500\n",
            "15/15 [==============================] - 0s 6ms/step - loss: 0.5047 - accuracy: 0.9338\n",
            "Epoch 219/500\n",
            "15/15 [==============================] - 0s 6ms/step - loss: 0.5013 - accuracy: 0.9316\n",
            "Epoch 220/500\n",
            "15/15 [==============================] - 0s 6ms/step - loss: 0.4967 - accuracy: 0.9294\n",
            "Epoch 221/500\n",
            "15/15 [==============================] - 0s 7ms/step - loss: 0.4906 - accuracy: 0.9360\n",
            "Epoch 222/500\n",
            "15/15 [==============================] - 0s 6ms/step - loss: 0.4868 - accuracy: 0.9360\n",
            "Epoch 223/500\n",
            "15/15 [==============================] - 0s 7ms/step - loss: 0.4817 - accuracy: 0.9382\n",
            "Epoch 224/500\n",
            "15/15 [==============================] - 0s 6ms/step - loss: 0.4782 - accuracy: 0.9360\n",
            "Epoch 225/500\n",
            "15/15 [==============================] - 0s 6ms/step - loss: 0.4734 - accuracy: 0.9382\n",
            "Epoch 226/500\n",
            "15/15 [==============================] - 0s 6ms/step - loss: 0.4682 - accuracy: 0.9338\n",
            "Epoch 227/500\n",
            "15/15 [==============================] - 0s 6ms/step - loss: 0.4647 - accuracy: 0.9360\n",
            "Epoch 228/500\n",
            "15/15 [==============================] - 0s 6ms/step - loss: 0.4608 - accuracy: 0.9360\n",
            "Epoch 229/500\n",
            "15/15 [==============================] - 0s 6ms/step - loss: 0.4578 - accuracy: 0.9360\n",
            "Epoch 230/500\n",
            "15/15 [==============================] - 0s 7ms/step - loss: 0.4532 - accuracy: 0.9404\n",
            "Epoch 231/500\n",
            "15/15 [==============================] - 0s 6ms/step - loss: 0.4525 - accuracy: 0.9360\n",
            "Epoch 232/500\n",
            "15/15 [==============================] - 0s 6ms/step - loss: 0.4606 - accuracy: 0.9360\n",
            "Epoch 233/500\n",
            "15/15 [==============================] - 0s 7ms/step - loss: 0.4546 - accuracy: 0.9360\n",
            "Epoch 234/500\n",
            "15/15 [==============================] - 0s 7ms/step - loss: 0.4609 - accuracy: 0.9360\n",
            "Epoch 235/500\n",
            "15/15 [==============================] - 0s 7ms/step - loss: 0.4976 - accuracy: 0.9249\n",
            "Epoch 236/500\n",
            "15/15 [==============================] - 0s 6ms/step - loss: 0.4904 - accuracy: 0.9338\n",
            "Epoch 237/500\n",
            "15/15 [==============================] - 0s 6ms/step - loss: 0.5119 - accuracy: 0.9161\n",
            "Epoch 238/500\n",
            "15/15 [==============================] - 0s 6ms/step - loss: 0.5444 - accuracy: 0.9183\n",
            "Epoch 239/500\n",
            "15/15 [==============================] - 0s 6ms/step - loss: 0.5436 - accuracy: 0.9117\n",
            "Epoch 240/500\n",
            "15/15 [==============================] - 0s 7ms/step - loss: 0.5127 - accuracy: 0.9161\n",
            "Epoch 241/500\n",
            "15/15 [==============================] - 0s 6ms/step - loss: 0.5044 - accuracy: 0.9205\n",
            "Epoch 242/500\n",
            "15/15 [==============================] - 0s 7ms/step - loss: 0.4888 - accuracy: 0.9205\n",
            "Epoch 243/500\n",
            "15/15 [==============================] - 0s 6ms/step - loss: 0.4655 - accuracy: 0.9294\n",
            "Epoch 244/500\n",
            "15/15 [==============================] - 0s 6ms/step - loss: 0.4532 - accuracy: 0.9316\n",
            "Epoch 245/500\n",
            "15/15 [==============================] - 0s 6ms/step - loss: 0.4389 - accuracy: 0.9382\n",
            "Epoch 246/500\n",
            "15/15 [==============================] - 0s 6ms/step - loss: 0.4193 - accuracy: 0.9404\n",
            "Epoch 247/500\n",
            "15/15 [==============================] - 0s 6ms/step - loss: 0.4149 - accuracy: 0.9404\n",
            "Epoch 248/500\n",
            "15/15 [==============================] - 0s 6ms/step - loss: 0.4086 - accuracy: 0.9426\n",
            "Epoch 249/500\n",
            "15/15 [==============================] - 0s 6ms/step - loss: 0.4031 - accuracy: 0.9426\n",
            "Epoch 250/500\n",
            "15/15 [==============================] - 0s 6ms/step - loss: 0.3947 - accuracy: 0.9448\n",
            "Epoch 251/500\n",
            "15/15 [==============================] - 0s 6ms/step - loss: 0.3981 - accuracy: 0.9360\n",
            "Epoch 252/500\n",
            "15/15 [==============================] - 0s 6ms/step - loss: 0.3893 - accuracy: 0.9404\n",
            "Epoch 253/500\n",
            "15/15 [==============================] - 0s 6ms/step - loss: 0.3892 - accuracy: 0.9404\n",
            "Epoch 254/500\n",
            "15/15 [==============================] - 0s 6ms/step - loss: 0.3800 - accuracy: 0.9426\n",
            "Epoch 255/500\n",
            "15/15 [==============================] - 0s 6ms/step - loss: 0.3743 - accuracy: 0.9448\n",
            "Epoch 256/500\n",
            "15/15 [==============================] - 0s 6ms/step - loss: 0.3696 - accuracy: 0.9360\n",
            "Epoch 257/500\n",
            "15/15 [==============================] - 0s 6ms/step - loss: 0.3655 - accuracy: 0.9404\n",
            "Epoch 258/500\n",
            "15/15 [==============================] - 0s 6ms/step - loss: 0.3615 - accuracy: 0.9448\n",
            "Epoch 259/500\n",
            "15/15 [==============================] - 0s 6ms/step - loss: 0.3575 - accuracy: 0.9426\n",
            "Epoch 260/500\n",
            "15/15 [==============================] - 0s 6ms/step - loss: 0.3556 - accuracy: 0.9404\n",
            "Epoch 261/500\n",
            "15/15 [==============================] - 0s 6ms/step - loss: 0.3547 - accuracy: 0.9426\n",
            "Epoch 262/500\n",
            "15/15 [==============================] - 0s 6ms/step - loss: 0.3500 - accuracy: 0.9426\n",
            "Epoch 263/500\n",
            "15/15 [==============================] - 0s 6ms/step - loss: 0.3473 - accuracy: 0.9382\n",
            "Epoch 264/500\n",
            "15/15 [==============================] - 0s 6ms/step - loss: 0.3458 - accuracy: 0.9360\n",
            "Epoch 265/500\n",
            "15/15 [==============================] - 0s 6ms/step - loss: 0.3426 - accuracy: 0.9338\n",
            "Epoch 266/500\n",
            "15/15 [==============================] - 0s 6ms/step - loss: 0.3405 - accuracy: 0.9382\n",
            "Epoch 267/500\n",
            "15/15 [==============================] - 0s 6ms/step - loss: 0.3378 - accuracy: 0.9426\n",
            "Epoch 268/500\n",
            "15/15 [==============================] - 0s 6ms/step - loss: 0.3348 - accuracy: 0.9382\n",
            "Epoch 269/500\n",
            "15/15 [==============================] - 0s 7ms/step - loss: 0.3332 - accuracy: 0.9360\n",
            "Epoch 270/500\n",
            "15/15 [==============================] - 0s 6ms/step - loss: 0.3312 - accuracy: 0.9382\n",
            "Epoch 271/500\n",
            "15/15 [==============================] - 0s 6ms/step - loss: 0.3287 - accuracy: 0.9360\n",
            "Epoch 272/500\n",
            "15/15 [==============================] - 0s 6ms/step - loss: 0.3266 - accuracy: 0.9360\n",
            "Epoch 273/500\n",
            "15/15 [==============================] - 0s 7ms/step - loss: 0.3234 - accuracy: 0.9404\n",
            "Epoch 274/500\n",
            "15/15 [==============================] - 0s 6ms/step - loss: 0.3207 - accuracy: 0.9426\n",
            "Epoch 275/500\n",
            "15/15 [==============================] - 0s 6ms/step - loss: 0.3184 - accuracy: 0.9382\n",
            "Epoch 276/500\n",
            "15/15 [==============================] - 0s 6ms/step - loss: 0.3166 - accuracy: 0.9426\n",
            "Epoch 277/500\n",
            "15/15 [==============================] - 0s 6ms/step - loss: 0.3137 - accuracy: 0.9382\n",
            "Epoch 278/500\n",
            "15/15 [==============================] - 0s 6ms/step - loss: 0.3119 - accuracy: 0.9404\n",
            "Epoch 279/500\n",
            "15/15 [==============================] - 0s 7ms/step - loss: 0.3094 - accuracy: 0.9426\n",
            "Epoch 280/500\n",
            "15/15 [==============================] - 0s 6ms/step - loss: 0.3099 - accuracy: 0.9382\n",
            "Epoch 281/500\n",
            "15/15 [==============================] - 0s 6ms/step - loss: 0.3084 - accuracy: 0.9448\n",
            "Epoch 282/500\n",
            "15/15 [==============================] - 0s 6ms/step - loss: 0.3052 - accuracy: 0.9426\n",
            "Epoch 283/500\n",
            "15/15 [==============================] - 0s 7ms/step - loss: 0.3025 - accuracy: 0.9426\n",
            "Epoch 284/500\n",
            "15/15 [==============================] - 0s 6ms/step - loss: 0.3000 - accuracy: 0.9426\n",
            "Epoch 285/500\n",
            "15/15 [==============================] - 0s 6ms/step - loss: 0.2989 - accuracy: 0.9448\n",
            "Epoch 286/500\n",
            "15/15 [==============================] - 0s 6ms/step - loss: 0.2964 - accuracy: 0.9426\n",
            "Epoch 287/500\n",
            "15/15 [==============================] - 0s 6ms/step - loss: 0.2941 - accuracy: 0.9426\n",
            "Epoch 288/500\n",
            "15/15 [==============================] - 0s 6ms/step - loss: 0.2924 - accuracy: 0.9448\n",
            "Epoch 289/500\n",
            "15/15 [==============================] - 0s 6ms/step - loss: 0.2902 - accuracy: 0.9448\n",
            "Epoch 290/500\n",
            "15/15 [==============================] - 0s 6ms/step - loss: 0.2885 - accuracy: 0.9470\n",
            "Epoch 291/500\n",
            "15/15 [==============================] - 0s 6ms/step - loss: 0.2862 - accuracy: 0.9404\n",
            "Epoch 292/500\n",
            "15/15 [==============================] - 0s 6ms/step - loss: 0.2842 - accuracy: 0.9448\n",
            "Epoch 293/500\n",
            "15/15 [==============================] - 0s 7ms/step - loss: 0.2825 - accuracy: 0.9426\n",
            "Epoch 294/500\n",
            "15/15 [==============================] - 0s 6ms/step - loss: 0.2799 - accuracy: 0.9426\n",
            "Epoch 295/500\n",
            "15/15 [==============================] - 0s 6ms/step - loss: 0.2778 - accuracy: 0.9448\n",
            "Epoch 296/500\n",
            "15/15 [==============================] - 0s 6ms/step - loss: 0.2763 - accuracy: 0.9448\n",
            "Epoch 297/500\n",
            "15/15 [==============================] - 0s 6ms/step - loss: 0.2744 - accuracy: 0.9426\n",
            "Epoch 298/500\n",
            "15/15 [==============================] - 0s 6ms/step - loss: 0.2726 - accuracy: 0.9448\n",
            "Epoch 299/500\n",
            "15/15 [==============================] - 0s 6ms/step - loss: 0.2708 - accuracy: 0.9426\n",
            "Epoch 300/500\n",
            "15/15 [==============================] - 0s 6ms/step - loss: 0.2693 - accuracy: 0.9448\n",
            "Epoch 301/500\n",
            "15/15 [==============================] - 0s 6ms/step - loss: 0.2675 - accuracy: 0.9448\n",
            "Epoch 302/500\n",
            "15/15 [==============================] - 0s 6ms/step - loss: 0.2655 - accuracy: 0.9448\n",
            "Epoch 303/500\n",
            "15/15 [==============================] - 0s 6ms/step - loss: 0.2637 - accuracy: 0.9404\n",
            "Epoch 304/500\n",
            "15/15 [==============================] - 0s 6ms/step - loss: 0.2608 - accuracy: 0.9448\n",
            "Epoch 305/500\n",
            "15/15 [==============================] - 0s 6ms/step - loss: 0.2605 - accuracy: 0.9470\n",
            "Epoch 306/500\n",
            "15/15 [==============================] - 0s 6ms/step - loss: 0.2587 - accuracy: 0.9470\n",
            "Epoch 307/500\n",
            "15/15 [==============================] - 0s 7ms/step - loss: 0.2584 - accuracy: 0.9382\n",
            "Epoch 308/500\n",
            "15/15 [==============================] - 0s 6ms/step - loss: 0.2566 - accuracy: 0.9448\n",
            "Epoch 309/500\n",
            "15/15 [==============================] - 0s 6ms/step - loss: 0.2557 - accuracy: 0.9448\n",
            "Epoch 310/500\n",
            "15/15 [==============================] - 0s 6ms/step - loss: 0.2540 - accuracy: 0.9448\n",
            "Epoch 311/500\n",
            "15/15 [==============================] - 0s 6ms/step - loss: 0.2560 - accuracy: 0.9404\n",
            "Epoch 312/500\n",
            "15/15 [==============================] - 0s 6ms/step - loss: 0.2848 - accuracy: 0.9426\n",
            "Epoch 313/500\n",
            "15/15 [==============================] - 0s 6ms/step - loss: 0.3074 - accuracy: 0.9404\n",
            "Epoch 314/500\n",
            "15/15 [==============================] - 0s 6ms/step - loss: 0.3401 - accuracy: 0.9272\n",
            "Epoch 315/500\n",
            "15/15 [==============================] - 0s 6ms/step - loss: 0.3205 - accuracy: 0.9316\n",
            "Epoch 316/500\n",
            "15/15 [==============================] - 0s 6ms/step - loss: 0.3013 - accuracy: 0.9338\n",
            "Epoch 317/500\n",
            "15/15 [==============================] - 0s 6ms/step - loss: 0.2863 - accuracy: 0.9404\n",
            "Epoch 318/500\n",
            "15/15 [==============================] - 0s 6ms/step - loss: 0.2837 - accuracy: 0.9382\n",
            "Epoch 319/500\n",
            "15/15 [==============================] - 0s 6ms/step - loss: 0.2883 - accuracy: 0.9404\n",
            "Epoch 320/500\n",
            "15/15 [==============================] - 0s 6ms/step - loss: 0.2876 - accuracy: 0.9426\n",
            "Epoch 321/500\n",
            "15/15 [==============================] - 0s 7ms/step - loss: 0.2793 - accuracy: 0.9404\n",
            "Epoch 322/500\n",
            "15/15 [==============================] - 0s 6ms/step - loss: 0.2667 - accuracy: 0.9448\n",
            "Epoch 323/500\n",
            "15/15 [==============================] - 0s 6ms/step - loss: 0.2670 - accuracy: 0.9448\n",
            "Epoch 324/500\n",
            "15/15 [==============================] - 0s 6ms/step - loss: 0.2704 - accuracy: 0.9404\n",
            "Epoch 325/500\n",
            "15/15 [==============================] - 0s 6ms/step - loss: 0.2648 - accuracy: 0.9470\n",
            "Epoch 326/500\n",
            "15/15 [==============================] - 0s 6ms/step - loss: 0.2725 - accuracy: 0.9470\n",
            "Epoch 327/500\n",
            "15/15 [==============================] - 0s 6ms/step - loss: 0.2902 - accuracy: 0.9382\n",
            "Epoch 328/500\n",
            "15/15 [==============================] - 0s 6ms/step - loss: 0.2826 - accuracy: 0.9448\n",
            "Epoch 329/500\n",
            "15/15 [==============================] - 0s 6ms/step - loss: 0.2858 - accuracy: 0.9382\n",
            "Epoch 330/500\n",
            "15/15 [==============================] - 0s 6ms/step - loss: 0.2991 - accuracy: 0.9382\n",
            "Epoch 331/500\n",
            "15/15 [==============================] - 0s 6ms/step - loss: 0.2772 - accuracy: 0.9360\n",
            "Epoch 332/500\n",
            "15/15 [==============================] - 0s 6ms/step - loss: 0.2765 - accuracy: 0.9338\n",
            "Epoch 333/500\n",
            "15/15 [==============================] - 0s 6ms/step - loss: 0.2566 - accuracy: 0.9448\n",
            "Epoch 334/500\n",
            "15/15 [==============================] - 0s 7ms/step - loss: 0.2543 - accuracy: 0.9448\n",
            "Epoch 335/500\n",
            "15/15 [==============================] - 0s 7ms/step - loss: 0.2495 - accuracy: 0.9470\n",
            "Epoch 336/500\n",
            "15/15 [==============================] - 0s 6ms/step - loss: 0.2510 - accuracy: 0.9360\n",
            "Epoch 337/500\n",
            "15/15 [==============================] - 0s 6ms/step - loss: 0.2432 - accuracy: 0.9448\n",
            "Epoch 338/500\n",
            "15/15 [==============================] - 0s 7ms/step - loss: 0.2428 - accuracy: 0.9470\n",
            "Epoch 339/500\n",
            "15/15 [==============================] - 0s 6ms/step - loss: 0.2406 - accuracy: 0.9448\n",
            "Epoch 340/500\n",
            "15/15 [==============================] - 0s 7ms/step - loss: 0.2374 - accuracy: 0.9426\n",
            "Epoch 341/500\n",
            "15/15 [==============================] - 0s 6ms/step - loss: 0.2373 - accuracy: 0.9448\n",
            "Epoch 342/500\n",
            "15/15 [==============================] - 0s 6ms/step - loss: 0.2344 - accuracy: 0.9382\n",
            "Epoch 343/500\n",
            "15/15 [==============================] - 0s 6ms/step - loss: 0.2337 - accuracy: 0.9448\n",
            "Epoch 344/500\n",
            "15/15 [==============================] - 0s 6ms/step - loss: 0.2295 - accuracy: 0.9426\n",
            "Epoch 345/500\n",
            "15/15 [==============================] - 0s 6ms/step - loss: 0.2282 - accuracy: 0.9470\n",
            "Epoch 346/500\n",
            "15/15 [==============================] - 0s 7ms/step - loss: 0.2271 - accuracy: 0.9426\n",
            "Epoch 347/500\n",
            "15/15 [==============================] - 0s 6ms/step - loss: 0.2264 - accuracy: 0.9470\n",
            "Epoch 348/500\n",
            "15/15 [==============================] - 0s 6ms/step - loss: 0.2251 - accuracy: 0.9448\n",
            "Epoch 349/500\n",
            "15/15 [==============================] - 0s 6ms/step - loss: 0.2227 - accuracy: 0.9492\n",
            "Epoch 350/500\n",
            "15/15 [==============================] - 0s 7ms/step - loss: 0.2192 - accuracy: 0.9448\n",
            "Epoch 351/500\n",
            "15/15 [==============================] - 0s 6ms/step - loss: 0.2179 - accuracy: 0.9492\n",
            "Epoch 352/500\n",
            "15/15 [==============================] - 0s 6ms/step - loss: 0.2150 - accuracy: 0.9492\n",
            "Epoch 353/500\n",
            "15/15 [==============================] - 0s 6ms/step - loss: 0.2143 - accuracy: 0.9514\n",
            "Epoch 354/500\n",
            "15/15 [==============================] - 0s 7ms/step - loss: 0.2141 - accuracy: 0.9514\n",
            "Epoch 355/500\n",
            "15/15 [==============================] - 0s 6ms/step - loss: 0.2155 - accuracy: 0.9514\n",
            "Epoch 356/500\n",
            "15/15 [==============================] - 0s 6ms/step - loss: 0.2150 - accuracy: 0.9492\n",
            "Epoch 357/500\n",
            "15/15 [==============================] - 0s 6ms/step - loss: 0.2127 - accuracy: 0.9470\n",
            "Epoch 358/500\n",
            "15/15 [==============================] - 0s 6ms/step - loss: 0.2082 - accuracy: 0.9492\n",
            "Epoch 359/500\n",
            "15/15 [==============================] - 0s 6ms/step - loss: 0.2067 - accuracy: 0.9448\n",
            "Epoch 360/500\n",
            "15/15 [==============================] - 0s 6ms/step - loss: 0.2052 - accuracy: 0.9514\n",
            "Epoch 361/500\n",
            "15/15 [==============================] - 0s 6ms/step - loss: 0.2040 - accuracy: 0.9492\n",
            "Epoch 362/500\n",
            "15/15 [==============================] - 0s 6ms/step - loss: 0.2021 - accuracy: 0.9514\n",
            "Epoch 363/500\n",
            "15/15 [==============================] - 0s 7ms/step - loss: 0.2012 - accuracy: 0.9514\n",
            "Epoch 364/500\n",
            "15/15 [==============================] - 0s 6ms/step - loss: 0.1997 - accuracy: 0.9492\n",
            "Epoch 365/500\n",
            "15/15 [==============================] - 0s 7ms/step - loss: 0.1989 - accuracy: 0.9470\n",
            "Epoch 366/500\n",
            "15/15 [==============================] - 0s 6ms/step - loss: 0.1994 - accuracy: 0.9536\n",
            "Epoch 367/500\n",
            "15/15 [==============================] - 0s 6ms/step - loss: 0.1984 - accuracy: 0.9492\n",
            "Epoch 368/500\n",
            "15/15 [==============================] - 0s 6ms/step - loss: 0.1963 - accuracy: 0.9492\n",
            "Epoch 369/500\n",
            "15/15 [==============================] - 0s 6ms/step - loss: 0.1959 - accuracy: 0.9492\n",
            "Epoch 370/500\n",
            "15/15 [==============================] - 0s 6ms/step - loss: 0.1957 - accuracy: 0.9492\n",
            "Epoch 371/500\n",
            "15/15 [==============================] - 0s 6ms/step - loss: 0.1938 - accuracy: 0.9514\n",
            "Epoch 372/500\n",
            "15/15 [==============================] - 0s 6ms/step - loss: 0.1936 - accuracy: 0.9514\n",
            "Epoch 373/500\n",
            "15/15 [==============================] - 0s 7ms/step - loss: 0.1932 - accuracy: 0.9492\n",
            "Epoch 374/500\n",
            "15/15 [==============================] - 0s 6ms/step - loss: 0.2065 - accuracy: 0.9448\n",
            "Epoch 375/500\n",
            "15/15 [==============================] - 0s 7ms/step - loss: 0.2019 - accuracy: 0.9470\n",
            "Epoch 376/500\n",
            "15/15 [==============================] - 0s 7ms/step - loss: 0.1939 - accuracy: 0.9448\n",
            "Epoch 377/500\n",
            "15/15 [==============================] - 0s 7ms/step - loss: 0.1905 - accuracy: 0.9492\n",
            "Epoch 378/500\n",
            "15/15 [==============================] - 0s 7ms/step - loss: 0.1899 - accuracy: 0.9470\n",
            "Epoch 379/500\n",
            "15/15 [==============================] - 0s 7ms/step - loss: 0.1858 - accuracy: 0.9470\n",
            "Epoch 380/500\n",
            "15/15 [==============================] - 0s 6ms/step - loss: 0.1854 - accuracy: 0.9492\n",
            "Epoch 381/500\n",
            "15/15 [==============================] - 0s 7ms/step - loss: 0.1829 - accuracy: 0.9448\n",
            "Epoch 382/500\n",
            "15/15 [==============================] - 0s 6ms/step - loss: 0.1818 - accuracy: 0.9492\n",
            "Epoch 383/500\n",
            "15/15 [==============================] - 0s 7ms/step - loss: 0.1800 - accuracy: 0.9448\n",
            "Epoch 384/500\n",
            "15/15 [==============================] - 0s 6ms/step - loss: 0.1786 - accuracy: 0.9470\n",
            "Epoch 385/500\n",
            "15/15 [==============================] - 0s 7ms/step - loss: 0.1795 - accuracy: 0.9448\n",
            "Epoch 386/500\n",
            "15/15 [==============================] - 0s 6ms/step - loss: 0.1886 - accuracy: 0.9448\n",
            "Epoch 387/500\n",
            "15/15 [==============================] - 0s 6ms/step - loss: 0.1791 - accuracy: 0.9448\n",
            "Epoch 388/500\n",
            "15/15 [==============================] - 0s 7ms/step - loss: 0.1765 - accuracy: 0.9514\n",
            "Epoch 389/500\n",
            "15/15 [==============================] - 0s 6ms/step - loss: 0.1748 - accuracy: 0.9448\n",
            "Epoch 390/500\n",
            "15/15 [==============================] - 0s 6ms/step - loss: 0.1737 - accuracy: 0.9514\n",
            "Epoch 391/500\n",
            "15/15 [==============================] - 0s 6ms/step - loss: 0.1726 - accuracy: 0.9492\n",
            "Epoch 392/500\n",
            "15/15 [==============================] - 0s 7ms/step - loss: 0.1720 - accuracy: 0.9470\n",
            "Epoch 393/500\n",
            "15/15 [==============================] - 0s 6ms/step - loss: 0.1711 - accuracy: 0.9470\n",
            "Epoch 394/500\n",
            "15/15 [==============================] - 0s 6ms/step - loss: 0.1706 - accuracy: 0.9470\n",
            "Epoch 395/500\n",
            "15/15 [==============================] - 0s 6ms/step - loss: 0.1699 - accuracy: 0.9514\n",
            "Epoch 396/500\n",
            "15/15 [==============================] - 0s 6ms/step - loss: 0.1693 - accuracy: 0.9470\n",
            "Epoch 397/500\n",
            "15/15 [==============================] - 0s 6ms/step - loss: 0.1688 - accuracy: 0.9514\n",
            "Epoch 398/500\n",
            "15/15 [==============================] - 0s 6ms/step - loss: 0.1681 - accuracy: 0.9514\n",
            "Epoch 399/500\n",
            "15/15 [==============================] - 0s 6ms/step - loss: 0.1672 - accuracy: 0.9448\n",
            "Epoch 400/500\n",
            "15/15 [==============================] - 0s 7ms/step - loss: 0.1667 - accuracy: 0.9470\n",
            "Epoch 401/500\n",
            "15/15 [==============================] - 0s 7ms/step - loss: 0.1649 - accuracy: 0.9536\n",
            "Epoch 402/500\n",
            "15/15 [==============================] - 0s 7ms/step - loss: 0.1647 - accuracy: 0.9514\n",
            "Epoch 403/500\n",
            "15/15 [==============================] - 0s 6ms/step - loss: 0.1638 - accuracy: 0.9536\n",
            "Epoch 404/500\n",
            "15/15 [==============================] - 0s 6ms/step - loss: 0.1628 - accuracy: 0.9492\n",
            "Epoch 405/500\n",
            "15/15 [==============================] - 0s 6ms/step - loss: 0.1624 - accuracy: 0.9426\n",
            "Epoch 406/500\n",
            "15/15 [==============================] - 0s 7ms/step - loss: 0.1620 - accuracy: 0.9448\n",
            "Epoch 407/500\n",
            "15/15 [==============================] - 0s 6ms/step - loss: 0.1640 - accuracy: 0.9514\n",
            "Epoch 408/500\n",
            "15/15 [==============================] - 0s 6ms/step - loss: 0.1614 - accuracy: 0.9470\n",
            "Epoch 409/500\n",
            "15/15 [==============================] - 0s 6ms/step - loss: 0.1610 - accuracy: 0.9514\n",
            "Epoch 410/500\n",
            "15/15 [==============================] - 0s 6ms/step - loss: 0.1633 - accuracy: 0.9492\n",
            "Epoch 411/500\n",
            "15/15 [==============================] - 0s 6ms/step - loss: 0.1617 - accuracy: 0.9492\n",
            "Epoch 412/500\n",
            "15/15 [==============================] - 0s 7ms/step - loss: 0.1604 - accuracy: 0.9514\n",
            "Epoch 413/500\n",
            "15/15 [==============================] - 0s 6ms/step - loss: 0.1594 - accuracy: 0.9470\n",
            "Epoch 414/500\n",
            "15/15 [==============================] - 0s 6ms/step - loss: 0.1592 - accuracy: 0.9514\n",
            "Epoch 415/500\n",
            "15/15 [==============================] - 0s 6ms/step - loss: 0.1584 - accuracy: 0.9536\n",
            "Epoch 416/500\n",
            "15/15 [==============================] - 0s 6ms/step - loss: 0.1577 - accuracy: 0.9492\n",
            "Epoch 417/500\n",
            "15/15 [==============================] - 0s 6ms/step - loss: 0.1571 - accuracy: 0.9492\n",
            "Epoch 418/500\n",
            "15/15 [==============================] - 0s 6ms/step - loss: 0.1563 - accuracy: 0.9470\n",
            "Epoch 419/500\n",
            "15/15 [==============================] - 0s 6ms/step - loss: 0.1556 - accuracy: 0.9514\n",
            "Epoch 420/500\n",
            "15/15 [==============================] - 0s 6ms/step - loss: 0.1549 - accuracy: 0.9492\n",
            "Epoch 421/500\n",
            "15/15 [==============================] - 0s 6ms/step - loss: 0.1544 - accuracy: 0.9492\n",
            "Epoch 422/500\n",
            "15/15 [==============================] - 0s 7ms/step - loss: 0.1529 - accuracy: 0.9492\n",
            "Epoch 423/500\n",
            "15/15 [==============================] - 0s 6ms/step - loss: 0.1552 - accuracy: 0.9470\n",
            "Epoch 424/500\n",
            "15/15 [==============================] - 0s 6ms/step - loss: 0.1550 - accuracy: 0.9448\n",
            "Epoch 425/500\n",
            "15/15 [==============================] - 0s 6ms/step - loss: 0.1526 - accuracy: 0.9492\n",
            "Epoch 426/500\n",
            "15/15 [==============================] - 0s 6ms/step - loss: 0.1539 - accuracy: 0.9514\n",
            "Epoch 427/500\n",
            "15/15 [==============================] - 0s 6ms/step - loss: 0.1521 - accuracy: 0.9470\n",
            "Epoch 428/500\n",
            "15/15 [==============================] - 0s 6ms/step - loss: 0.1512 - accuracy: 0.9470\n",
            "Epoch 429/500\n",
            "15/15 [==============================] - 0s 6ms/step - loss: 0.1505 - accuracy: 0.9448\n",
            "Epoch 430/500\n",
            "15/15 [==============================] - 0s 6ms/step - loss: 0.1496 - accuracy: 0.9470\n",
            "Epoch 431/500\n",
            "15/15 [==============================] - 0s 6ms/step - loss: 0.1492 - accuracy: 0.9492\n",
            "Epoch 432/500\n",
            "15/15 [==============================] - 0s 7ms/step - loss: 0.1488 - accuracy: 0.9536\n",
            "Epoch 433/500\n",
            "15/15 [==============================] - 0s 6ms/step - loss: 0.1475 - accuracy: 0.9470\n",
            "Epoch 434/500\n",
            "15/15 [==============================] - 0s 6ms/step - loss: 0.1472 - accuracy: 0.9470\n",
            "Epoch 435/500\n",
            "15/15 [==============================] - 0s 6ms/step - loss: 0.1466 - accuracy: 0.9514\n",
            "Epoch 436/500\n",
            "15/15 [==============================] - 0s 7ms/step - loss: 0.1459 - accuracy: 0.9514\n",
            "Epoch 437/500\n",
            "15/15 [==============================] - 0s 6ms/step - loss: 0.1456 - accuracy: 0.9448\n",
            "Epoch 438/500\n",
            "15/15 [==============================] - 0s 7ms/step - loss: 0.1449 - accuracy: 0.9470\n",
            "Epoch 439/500\n",
            "15/15 [==============================] - 0s 8ms/step - loss: 0.1448 - accuracy: 0.9536\n",
            "Epoch 440/500\n",
            "15/15 [==============================] - 0s 6ms/step - loss: 0.1445 - accuracy: 0.9448\n",
            "Epoch 441/500\n",
            "15/15 [==============================] - 0s 7ms/step - loss: 0.1438 - accuracy: 0.9492\n",
            "Epoch 442/500\n",
            "15/15 [==============================] - 0s 6ms/step - loss: 0.1455 - accuracy: 0.9426\n",
            "Epoch 443/500\n",
            "15/15 [==============================] - 0s 6ms/step - loss: 0.1442 - accuracy: 0.9470\n",
            "Epoch 444/500\n",
            "15/15 [==============================] - 0s 6ms/step - loss: 0.1436 - accuracy: 0.9492\n",
            "Epoch 445/500\n",
            "15/15 [==============================] - 0s 6ms/step - loss: 0.1425 - accuracy: 0.9470\n",
            "Epoch 446/500\n",
            "15/15 [==============================] - 0s 7ms/step - loss: 0.1415 - accuracy: 0.9470\n",
            "Epoch 447/500\n",
            "15/15 [==============================] - 0s 6ms/step - loss: 0.1426 - accuracy: 0.9492\n",
            "Epoch 448/500\n",
            "15/15 [==============================] - 0s 6ms/step - loss: 0.1417 - accuracy: 0.9514\n",
            "Epoch 449/500\n",
            "15/15 [==============================] - 0s 7ms/step - loss: 0.1404 - accuracy: 0.9492\n",
            "Epoch 450/500\n",
            "15/15 [==============================] - 0s 6ms/step - loss: 0.1415 - accuracy: 0.9492\n",
            "Epoch 451/500\n",
            "15/15 [==============================] - 0s 7ms/step - loss: 0.1405 - accuracy: 0.9492\n",
            "Epoch 452/500\n",
            "15/15 [==============================] - 0s 6ms/step - loss: 0.1388 - accuracy: 0.9514\n",
            "Epoch 453/500\n",
            "15/15 [==============================] - 0s 6ms/step - loss: 0.1383 - accuracy: 0.9492\n",
            "Epoch 454/500\n",
            "15/15 [==============================] - 0s 6ms/step - loss: 0.1381 - accuracy: 0.9492\n",
            "Epoch 455/500\n",
            "15/15 [==============================] - 0s 6ms/step - loss: 0.1373 - accuracy: 0.9536\n",
            "Epoch 456/500\n",
            "15/15 [==============================] - 0s 6ms/step - loss: 0.1369 - accuracy: 0.9514\n",
            "Epoch 457/500\n",
            "15/15 [==============================] - 0s 6ms/step - loss: 0.1377 - accuracy: 0.9492\n",
            "Epoch 458/500\n",
            "15/15 [==============================] - 0s 7ms/step - loss: 0.1369 - accuracy: 0.9470\n",
            "Epoch 459/500\n",
            "15/15 [==============================] - 0s 6ms/step - loss: 0.1369 - accuracy: 0.9448\n",
            "Epoch 460/500\n",
            "15/15 [==============================] - 0s 6ms/step - loss: 0.1361 - accuracy: 0.9536\n",
            "Epoch 461/500\n",
            "15/15 [==============================] - 0s 7ms/step - loss: 0.1357 - accuracy: 0.9492\n",
            "Epoch 462/500\n",
            "15/15 [==============================] - 0s 6ms/step - loss: 0.1348 - accuracy: 0.9536\n",
            "Epoch 463/500\n",
            "15/15 [==============================] - 0s 6ms/step - loss: 0.1341 - accuracy: 0.9514\n",
            "Epoch 464/500\n",
            "15/15 [==============================] - 0s 6ms/step - loss: 0.1352 - accuracy: 0.9514\n",
            "Epoch 465/500\n",
            "15/15 [==============================] - 0s 6ms/step - loss: 0.1339 - accuracy: 0.9470\n",
            "Epoch 466/500\n",
            "15/15 [==============================] - 0s 7ms/step - loss: 0.1338 - accuracy: 0.9492\n",
            "Epoch 467/500\n",
            "15/15 [==============================] - 0s 6ms/step - loss: 0.1364 - accuracy: 0.9404\n",
            "Epoch 468/500\n",
            "15/15 [==============================] - 0s 7ms/step - loss: 0.1331 - accuracy: 0.9492\n",
            "Epoch 469/500\n",
            "15/15 [==============================] - 0s 6ms/step - loss: 0.1318 - accuracy: 0.9514\n",
            "Epoch 470/500\n",
            "15/15 [==============================] - 0s 7ms/step - loss: 0.1320 - accuracy: 0.9470\n",
            "Epoch 471/500\n",
            "15/15 [==============================] - 0s 6ms/step - loss: 0.1311 - accuracy: 0.9470\n",
            "Epoch 472/500\n",
            "15/15 [==============================] - 0s 6ms/step - loss: 0.1312 - accuracy: 0.9426\n",
            "Epoch 473/500\n",
            "15/15 [==============================] - 0s 6ms/step - loss: 0.1386 - accuracy: 0.9536\n",
            "Epoch 474/500\n",
            "15/15 [==============================] - 0s 6ms/step - loss: 0.1427 - accuracy: 0.9514\n",
            "Epoch 475/500\n",
            "15/15 [==============================] - 0s 7ms/step - loss: 0.1421 - accuracy: 0.9470\n",
            "Epoch 476/500\n",
            "15/15 [==============================] - 0s 7ms/step - loss: 0.1454 - accuracy: 0.9536\n",
            "Epoch 477/500\n",
            "15/15 [==============================] - 0s 6ms/step - loss: 0.1403 - accuracy: 0.9514\n",
            "Epoch 478/500\n",
            "15/15 [==============================] - 0s 6ms/step - loss: 0.1390 - accuracy: 0.9536\n",
            "Epoch 479/500\n",
            "15/15 [==============================] - 0s 6ms/step - loss: 0.1364 - accuracy: 0.9514\n",
            "Epoch 480/500\n",
            "15/15 [==============================] - 0s 7ms/step - loss: 0.1354 - accuracy: 0.9514\n",
            "Epoch 481/500\n",
            "15/15 [==============================] - 0s 6ms/step - loss: 0.1335 - accuracy: 0.9514\n",
            "Epoch 482/500\n",
            "15/15 [==============================] - 0s 6ms/step - loss: 0.1317 - accuracy: 0.9514\n",
            "Epoch 483/500\n",
            "15/15 [==============================] - 0s 6ms/step - loss: 0.1311 - accuracy: 0.9536\n",
            "Epoch 484/500\n",
            "15/15 [==============================] - 0s 6ms/step - loss: 0.1302 - accuracy: 0.9492\n",
            "Epoch 485/500\n",
            "15/15 [==============================] - 0s 6ms/step - loss: 0.1299 - accuracy: 0.9426\n",
            "Epoch 486/500\n",
            "15/15 [==============================] - 0s 6ms/step - loss: 0.1297 - accuracy: 0.9536\n",
            "Epoch 487/500\n",
            "15/15 [==============================] - 0s 6ms/step - loss: 0.1288 - accuracy: 0.9514\n",
            "Epoch 488/500\n",
            "15/15 [==============================] - 0s 7ms/step - loss: 0.1282 - accuracy: 0.9492\n",
            "Epoch 489/500\n",
            "15/15 [==============================] - 0s 6ms/step - loss: 0.1287 - accuracy: 0.9514\n",
            "Epoch 490/500\n",
            "15/15 [==============================] - 0s 7ms/step - loss: 0.1282 - accuracy: 0.9514\n",
            "Epoch 491/500\n",
            "15/15 [==============================] - 0s 6ms/step - loss: 0.1280 - accuracy: 0.9536\n",
            "Epoch 492/500\n",
            "15/15 [==============================] - 0s 7ms/step - loss: 0.1269 - accuracy: 0.9492\n",
            "Epoch 493/500\n",
            "15/15 [==============================] - 0s 6ms/step - loss: 0.1266 - accuracy: 0.9514\n",
            "Epoch 494/500\n",
            "15/15 [==============================] - 0s 6ms/step - loss: 0.1251 - accuracy: 0.9536\n",
            "Epoch 495/500\n",
            "15/15 [==============================] - 0s 7ms/step - loss: 0.1245 - accuracy: 0.9514\n",
            "Epoch 496/500\n",
            "15/15 [==============================] - 0s 7ms/step - loss: 0.1265 - accuracy: 0.9514\n",
            "Epoch 497/500\n",
            "15/15 [==============================] - 0s 6ms/step - loss: 0.1265 - accuracy: 0.9536\n",
            "Epoch 498/500\n",
            "15/15 [==============================] - 0s 6ms/step - loss: 0.1256 - accuracy: 0.9514\n",
            "Epoch 499/500\n",
            "15/15 [==============================] - 0s 7ms/step - loss: 0.1253 - accuracy: 0.9492\n",
            "Epoch 500/500\n",
            "15/15 [==============================] - 0s 6ms/step - loss: 0.1245 - accuracy: 0.9536\n"
          ],
          "name": "stdout"
        }
      ]
    },
    {
      "cell_type": "code",
      "metadata": {
        "id": "Mp1Z7P9pYRSK"
      },
      "source": [
        "def plot_graphs(history, string):\n",
        "  plt.plot(history.history[string])\n",
        "  plt.xlabel(\"Epochs\")\n",
        "  plt.ylabel(string)\n",
        "  plt.show()"
      ],
      "execution_count": 30,
      "outputs": []
    },
    {
      "cell_type": "code",
      "metadata": {
        "id": "R_sX6ilIM515",
        "colab": {
          "base_uri": "https://localhost:8080/",
          "height": 283
        },
        "outputId": "d800a987-cbf1-4720-cc14-729425434f65"
      },
      "source": [
        "plot_graphs(history, 'accuracy')"
      ],
      "execution_count": 31,
      "outputs": [
        {
          "output_type": "display_data",
          "data": {
            "image/png": "[encoded data removed]",
            "text/plain": [
              "<Figure size 432x288 with 1 Axes>"
            ]
          },
          "metadata": {
            "tags": [],
            "needs_background": "light"
          }
        }
      ]
    },
    {
      "cell_type": "code",
      "metadata": {
        "id": "RFEXtKtqNARB",
        "colab": {
          "base_uri": "https://localhost:8080/",
          "height": 279
        },
        "outputId": "aedae70b-9846-41a3-bc31-07c0e20c1662"
      },
      "source": [
        "plot_graphs(history, 'loss')"
      ],
      "execution_count": 32,
      "outputs": [
        {
          "output_type": "display_data",
          "data": {
            "image/png": "[encoded data removed]",
            "text/plain": [
              "<Figure size 432x288 with 1 Axes>"
            ]
          },
          "metadata": {
            "tags": [],
            "needs_background": "light"
          }
        }
      ]
    },
    {
      "cell_type": "code",
      "metadata": {
        "colab": {
          "base_uri": "https://localhost:8080/"
        },
        "id": "q3mNZxiuN7Yd",
        "outputId": "783cadc5-aca8-4115-d5ed-c078bb85efe7"
      },
      "source": [
        "seed_text = \"Laurence went to dublin\"\n",
        "next_words = 100                        # predicting next 100 words\n",
        "  \n",
        "for _ in range(next_words):\n",
        "    token_list = tokenizer.texts_to_sequences([seed_text])[0]\n",
        "    token_list = pad_sequences([token_list], maxlen=max_sequence_len-1, padding='pre')\n",
        "    predicted = model.predict_classes(token_list, verbose=0)          # will give the index of the word most likely to be the next word in sequence\n",
        "    output_word = \"\"\n",
        "    for word, index in tokenizer.word_index.items():                  # checking the actual words mapped against the word index\n",
        "        if index == predicted:\n",
        "          output_word = word\n",
        "          break\n",
        "    seed_text += \" \" + output_word\n",
        "print(seed_text)"
      ],
      "execution_count": 35,
      "outputs": [
        {
          "output_type": "stream",
          "text": [
            "/usr/local/lib/python3.7/dist-packages/tensorflow/python/keras/engine/sequential.py:455: UserWarning: `model.predict_classes()` is deprecated and will be removed after 2021-01-01. Please use instead:* `np.argmax(model.predict(x), axis=-1)`,   if your model does multi-class classification   (e.g. if it uses a `softmax` last-layer activation).* `(model.predict(x) > 0.5).astype(\"int32\")`,   if your model does binary classification   (e.g. if it uses a `sigmoid` last-layer activation).\n",
            "  warnings.warn('`model.predict_classes()` is deprecated and '\n"
          ],
          "name": "stderr"
        },
        {
          "output_type": "stream",
          "text": [
            "Laurence went to dublin of merry as as a man entangled entangled entangled again again round again again ground again again entangled entangled entangled entangled entangled entangled at me tea tea round again again me when lanigan lanigan lanigan athy eyes glisten mchugh mchugh glisten fainted learn hall boys by the your eyes tea at in rose groups tea entangled entangled at me a jig jig jig rose died relations relations ground entangled entangled entangled able hearty tea entangled til ned your eyes glisten how relations entangled got strangled cask all entangled entangled entangled entangled entangled entangled creature cask merry as entangled entangled entangled\n"
          ],
          "name": "stdout"
        }
      ]
    },
    {
      "cell_type": "code",
      "metadata": {
        "id": "3DPiDraSOA9d"
      },
      "source": [
        "vocab_size = 1000\n",
        "embedding_dim = 16\n",
        "max_length = 120\n",
        "trunc_type='post'\n",
        "padding_type='post'\n",
        "oov_tok = \"<OOV>\"\n",
        "training_size = 20000"
      ],
      "execution_count": null,
      "outputs": []
    },
    {
      "cell_type": "code",
      "metadata": {
        "id": "GCbG66NqOBBc"
      },
      "source": [
        "with open(\"/content/sarcasm.json\", 'r') as f:\n",
        "    datastore = json.load(f)\n",
        "\n",
        "sentences = []\n",
        "labels = []\n",
        "urls = []\n",
        "for item in datastore:\n",
        "    sentences.append(item['headline'])\n",
        "    labels.append(item['is_sarcastic'])"
      ],
      "execution_count": null,
      "outputs": []
    },
    {
      "cell_type": "code",
      "metadata": {
        "id": "769tkx26OBeh"
      },
      "source": [
        "training_sentences = sentences[0:training_size]\n",
        "testing_sentences = sentences[training_size:]\n",
        "training_labels = labels[0:training_size]\n",
        "testing_labels = labels[training_size:]\n",
        "\n",
        "tokenizer = Tokenizer(num_words=vocab_size, oov_token=oov_tok)\n",
        "tokenizer.fit_on_texts(training_sentences)\n",
        "\n",
        "word_index = tokenizer.word_index\n",
        "\n",
        "training_sequences = tokenizer.texts_to_sequences(training_sentences)\n",
        "training_padded = pad_sequences(training_sequences, maxlen=max_length, padding=padding_type, truncating=trunc_type)\n",
        "\n",
        "testing_sequences = tokenizer.texts_to_sequences(testing_sentences)\n",
        "testing_padded = pad_sequences(testing_sequences, maxlen=max_length, padding=padding_type, truncating=trunc_type)"
      ],
      "execution_count": null,
      "outputs": []
    },
    {
      "cell_type": "code",
      "metadata": {
        "id": "dS05AqQxOOUX"
      },
      "source": [
        "training_padded = np.array(training_padded)\n",
        "training_labels = np.array(training_labels)\n",
        "testing_padded = np.array(testing_padded)\n",
        "testing_labels = np.array(testing_labels)"
      ],
      "execution_count": null,
      "outputs": []
    },
    {
      "cell_type": "code",
      "metadata": {
        "colab": {
          "base_uri": "https://localhost:8080/"
        },
        "id": "7ZziQvh1OTik",
        "outputId": "3dfe94fa-4f8d-4f12-a9bc-3566e3997b29"
      },
      "source": [
        "model = tf.keras.Sequential([\n",
        "    tf.keras.layers.Embedding(vocab_size, embedding_dim, input_length=max_length),\n",
        "    tf.keras.layers.Bidirectional(tf.keras.layers.LSTM(32)),\n",
        "    tf.keras.layers.Dense(24, activation='relu'),\n",
        "    tf.keras.layers.Dense(1, activation='sigmoid')\n",
        "])\n",
        "model.compile(loss='binary_crossentropy',optimizer='adam',metrics=['accuracy'])\n",
        "model.summary()"
      ],
      "execution_count": null,
      "outputs": [
        {
          "output_type": "stream",
          "text": [
            "Model: \"sequential_7\"\n",
            "_________________________________________________________________\n",
            "Layer (type)                 Output Shape              Param #   \n",
            "=================================================================\n",
            "embedding_7 (Embedding)      (None, 120, 16)           16000     \n",
            "_________________________________________________________________\n",
            "bidirectional_5 (Bidirection (None, 64)                12544     \n",
            "_________________________________________________________________\n",
            "dense_14 (Dense)             (None, 24)                1560      \n",
            "_________________________________________________________________\n",
            "dense_15 (Dense)             (None, 1)                 25        \n",
            "=================================================================\n",
            "Total params: 30,129\n",
            "Trainable params: 30,129\n",
            "Non-trainable params: 0\n",
            "_________________________________________________________________\n"
          ],
          "name": "stdout"
        }
      ]
    },
    {
      "cell_type": "code",
      "metadata": {
        "colab": {
          "base_uri": "https://localhost:8080/"
        },
        "id": "2CqEGm0XOdpJ",
        "outputId": "630ec2c4-11ad-4537-826c-4131e96f9f8c"
      },
      "source": [
        "num_epochs = 20\n",
        "history = model.fit(training_padded, training_labels, epochs=num_epochs, validation_data=(testing_padded, testing_labels), verbose=1)"
      ],
      "execution_count": null,
      "outputs": [
        {
          "output_type": "stream",
          "text": [
            "Epoch 1/20\n",
            "625/625 [==============================] - 11s 14ms/step - loss: 0.4532 - accuracy: 0.7671 - val_loss: 0.3905 - val_accuracy: 0.8208\n",
            "Epoch 2/20\n",
            "625/625 [==============================] - 7s 12ms/step - loss: 0.3530 - accuracy: 0.8374 - val_loss: 0.3799 - val_accuracy: 0.8271\n",
            "Epoch 3/20\n",
            "625/625 [==============================] - 7s 12ms/step - loss: 0.3291 - accuracy: 0.8499 - val_loss: 0.3837 - val_accuracy: 0.8208\n",
            "Epoch 4/20\n",
            "625/625 [==============================] - 7s 12ms/step - loss: 0.3131 - accuracy: 0.8599 - val_loss: 0.3742 - val_accuracy: 0.8311\n",
            "Epoch 5/20\n",
            "625/625 [==============================] - 7s 12ms/step - loss: 0.3040 - accuracy: 0.8648 - val_loss: 0.3736 - val_accuracy: 0.8319\n",
            "Epoch 6/20\n",
            "625/625 [==============================] - 7s 12ms/step - loss: 0.2958 - accuracy: 0.8668 - val_loss: 0.3766 - val_accuracy: 0.8319\n",
            "Epoch 7/20\n",
            "625/625 [==============================] - 8s 12ms/step - loss: 0.2886 - accuracy: 0.8732 - val_loss: 0.3720 - val_accuracy: 0.8328\n",
            "Epoch 8/20\n",
            "625/625 [==============================] - 8s 13ms/step - loss: 0.2785 - accuracy: 0.8778 - val_loss: 0.3846 - val_accuracy: 0.8278\n",
            "Epoch 9/20\n",
            "625/625 [==============================] - 8s 13ms/step - loss: 0.2706 - accuracy: 0.8819 - val_loss: 0.3936 - val_accuracy: 0.8275\n",
            "Epoch 10/20\n",
            "625/625 [==============================] - 8s 13ms/step - loss: 0.2629 - accuracy: 0.8847 - val_loss: 0.3987 - val_accuracy: 0.8267\n",
            "Epoch 11/20\n",
            "625/625 [==============================] - 8s 12ms/step - loss: 0.2536 - accuracy: 0.8890 - val_loss: 0.3984 - val_accuracy: 0.8274\n",
            "Epoch 12/20\n",
            "625/625 [==============================] - 8s 13ms/step - loss: 0.2471 - accuracy: 0.8928 - val_loss: 0.4170 - val_accuracy: 0.8261\n",
            "Epoch 13/20\n",
            "625/625 [==============================] - 8s 13ms/step - loss: 0.2393 - accuracy: 0.8947 - val_loss: 0.4329 - val_accuracy: 0.8241\n",
            "Epoch 14/20\n",
            "625/625 [==============================] - 8s 12ms/step - loss: 0.2294 - accuracy: 0.9010 - val_loss: 0.4432 - val_accuracy: 0.8238\n",
            "Epoch 15/20\n",
            "625/625 [==============================] - 7s 12ms/step - loss: 0.2253 - accuracy: 0.9049 - val_loss: 0.4501 - val_accuracy: 0.8168\n",
            "Epoch 16/20\n",
            "625/625 [==============================] - 7s 12ms/step - loss: 0.2154 - accuracy: 0.9075 - val_loss: 0.4623 - val_accuracy: 0.8174\n",
            "Epoch 17/20\n",
            "625/625 [==============================] - 7s 12ms/step - loss: 0.2084 - accuracy: 0.9126 - val_loss: 0.4766 - val_accuracy: 0.8185\n",
            "Epoch 18/20\n",
            "625/625 [==============================] - 7s 12ms/step - loss: 0.2010 - accuracy: 0.9146 - val_loss: 0.4917 - val_accuracy: 0.8183\n",
            "Epoch 19/20\n",
            "625/625 [==============================] - 7s 12ms/step - loss: 0.1940 - accuracy: 0.9184 - val_loss: 0.5188 - val_accuracy: 0.8144\n",
            "Epoch 20/20\n",
            "625/625 [==============================] - 8s 12ms/step - loss: 0.1902 - accuracy: 0.9188 - val_loss: 0.5339 - val_accuracy: 0.8132\n"
          ],
          "name": "stdout"
        }
      ]
    },
    {
      "cell_type": "code",
      "metadata": {
        "colab": {
          "base_uri": "https://localhost:8080/",
          "height": 545
        },
        "id": "4fxV1QHdOxsw",
        "outputId": "ec0c01ed-0e13-49d8-bd36-8744871319e6"
      },
      "source": [
        "def plot_graphs(history, string):\n",
        "  plt.plot(history.history[string])\n",
        "  plt.plot(history.history['val_'+string])\n",
        "  plt.xlabel(\"Epochs\")\n",
        "  plt.ylabel(string)\n",
        "  plt.legend([string, 'val_'+string])\n",
        "  plt.show()\n",
        "\n",
        "plot_graphs(history, 'accuracy')\n",
        "plot_graphs(history, 'loss')"
      ],
      "execution_count": null,
      "outputs": [
        {
          "output_type": "display_data",
          "data": {
            "image/png": "[encoded data removed]",
            "text/plain": [
              "<Figure size 432x288 with 1 Axes>"
            ]
          },
          "metadata": {
            "tags": [],
            "needs_background": "light"
          }
        },
        {
          "output_type": "display_data",
          "data": {
            "image/png": "[encoded data removed]",
            "text/plain": [
              "<Figure size 432x288 with 1 Axes>"
            ]
          },
          "metadata": {
            "tags": [],
            "needs_background": "light"
          }
        }
      ]
    },
    {
      "cell_type": "markdown",
      "metadata": {
        "id": "WUZwVtGYCUEu"
      },
      "source": [
        "## Bigger corpus"
      ]
    },
    {
      "cell_type": "code",
      "metadata": {
        "colab": {
          "base_uri": "https://localhost:8080/"
        },
        "id": "NHexVscBCYTV",
        "outputId": "bc780d71-171e-4e8d-adea-7a48bdaf3126"
      },
      "source": [
        "!wget --no-check-certificate \\\n",
        "    https://storage.googleapis.com/laurencemoroney-blog.appspot.com/irish-lyrics-eof.txt \\\n",
        "    -O /content/irish-lyrics-eof.txt"
      ],
      "execution_count": 4,
      "outputs": [
        {
          "output_type": "stream",
          "text": [
            "--2021-08-07 05:17:09--  https://storage.googleapis.com/laurencemoroney-blog.appspot.com/irish-lyrics-eof.txt\n",
            "Resolving storage.googleapis.com (storage.googleapis.com)... 142.250.141.128, 142.251.2.128, 74.125.137.128, ...\n",
            "Connecting to storage.googleapis.com (storage.googleapis.com)|142.250.141.128|:443... connected.\n",
            "HTTP request sent, awaiting response... 200 OK\n",
            "Length: 68970 (67K) [text/plain]\n",
            "Saving to: ‘/content/irish-lyrics-eof.txt’\n",
            "\n",
            "\r          /content/   0%[                    ]       0  --.-KB/s               \r/content/irish-lyri 100%[===================>]  67.35K  --.-KB/s    in 0s      \n",
            "\n",
            "2021-08-07 05:17:09 (135 MB/s) - ‘/content/irish-lyrics-eof.txt’ saved [68970/68970]\n",
            "\n"
          ],
          "name": "stdout"
        }
      ]
    },
    {
      "cell_type": "code",
      "metadata": {
        "colab": {
          "base_uri": "https://localhost:8080/"
        },
        "id": "cEw32H_lCa7o",
        "outputId": "ec751b21-0ee2-4e25-fb3d-fb037ac975d7"
      },
      "source": [
        "tokenizer = Tokenizer()\n",
        "\n",
        "data = open('/content/irish-lyrics-eof.txt').read()\n",
        "\n",
        "corpus = data.lower().split(\"\\n\")\n",
        "\n",
        "tokenizer.fit_on_texts(corpus)\n",
        "total_words = len(tokenizer.word_index) + 1\n",
        "\n",
        "print(tokenizer.word_index)\n",
        "print(total_words)"
      ],
      "execution_count": 5,
      "outputs": [
        {
          "output_type": "stream",
          "text": [
            "{'the': 1, 'and': 2, 'i': 3, 'to': 4, 'a': 5, 'of': 6, 'my': 7, 'in': 8, 'me': 9, 'for': 10, 'you': 11, 'all': 12, 'was': 13, 'she': 14, 'that': 15, 'on': 16, 'with': 17, 'her': 18, 'but': 19, 'as': 20, 'when': 21, 'love': 22, 'is': 23, 'your': 24, 'it': 25, 'will': 26, 'from': 27, 'by': 28, 'they': 29, 'be': 30, 'are': 31, 'so': 32, 'he': 33, 'old': 34, 'no': 35, 'oh': 36, 'ill': 37, 'at': 38, 'one': 39, 'his': 40, 'there': 41, 'were': 42, 'heart': 43, 'down': 44, 'now': 45, 'we': 46, 'where': 47, 'young': 48, 'never': 49, 'go': 50, 'come': 51, 'then': 52, 'did': 53, 'not': 54, 'said': 55, 'away': 56, 'their': 57, 'sweet': 58, 'them': 59, 'green': 60, 'if': 61, 'take': 62, 'our': 63, 'like': 64, 'night': 65, 'day': 66, 'o': 67, 'out': 68, 'fair': 69, 'this': 70, 'town': 71, 'have': 72, 'can': 73, 'true': 74, 'its': 75, 'thou': 76, 'see': 77, 'dear': 78, 'more': 79, 'theres': 80, 'or': 81, 'had': 82, 'would': 83, 'over': 84, 'hear': 85, 'up': 86, 'ive': 87, 'through': 88, 'home': 89, 'again': 90, 'well': 91, 'oer': 92, 'land': 93, 'good': 94, 'im': 95, 'ye': 96, 'sea': 97, 'left': 98, 'still': 99, 'father': 100, 'long': 101, 'rose': 102, 'could': 103, 'morning': 104, 'wild': 105, 'who': 106, 'eyes': 107, 'came': 108, 'while': 109, 'too': 110, 'back': 111, 'little': 112, 'an': 113, 'took': 114, 'him': 115, 'bow': 116, 'first': 117, 'let': 118, 'man': 119, 'shall': 120, 'know': 121, 'get': 122, 'high': 123, 'gone': 124, 'say': 125, 'ever': 126, 'some': 127, 'mary': 128, 'hand': 129, 'till': 130, 'put': 131, 'own': 132, 'time': 133, 'heard': 134, 'dead': 135, 'may': 136, 'bright': 137, 'mountain': 138, 'early': 139, 'rosin': 140, 'gave': 141, 'thee': 142, 'only': 143, 'far': 144, 'maid': 145, 'must': 146, 'find': 147, 'girl': 148, 'sure': 149, 'round': 150, 'dublin': 151, 'once': 152, 'world': 153, 'delight': 154, 'last': 155, 'johnny': 156, 'seen': 157, 'has': 158, 'fine': 159, 'road': 160, 'mother': 161, 'tis': 162, 'what': 163, 'way': 164, 'moon': 165, 'soul': 166, 'neer': 167, 'id': 168, 'just': 169, 'thats': 170, 'days': 171, 'darling': 172, 'went': 173, 'white': 174, 'die': 175, 'than': 176, 'hair': 177, 'goes': 178, 'meet': 179, 'today': 180, 'do': 181, 'girls': 182, 'shes': 183, 'thyme': 184, 'thy': 185, 'sing': 186, 'pretty': 187, 'new': 188, 'poor': 189, 'into': 190, 'life': 191, 'irish': 192, 'give': 193, 'boy': 194, 'youre': 195, 'make': 196, 'passed': 197, 'lovely': 198, 'black': 199, 'youll': 200, 'died': 201, 'red': 202, 'smile': 203, 'keep': 204, 'loves': 205, 'free': 206, 'leave': 207, 'friends': 208, 'each': 209, 'saw': 210, 'behind': 211, 'song': 212, 'ra': 213, 'dont': 214, 'arms': 215, 'am': 216, 'sun': 217, 'saying': 218, 'made': 219, 'wish': 220, 'cold': 221, 'met': 222, 'before': 223, 'should': 224, 'rocky': 225, 'light': 226, 'wid': 227, 'boys': 228, 'best': 229, 'fields': 230, 'since': 231, 'ball': 232, 'water': 233, 'casey': 234, 'mind': 235, 'along': 236, 'loved': 237, 'place': 238, 'ireland': 239, 'next': 240, 'three': 241, 'many': 242, 'years': 243, 'door': 244, 'us': 245, 'drink': 246, 'got': 247, 'might': 248, 'live': 249, 'roses': 250, 'play': 251, 'soon': 252, 'ground': 253, 'times': 254, 'spent': 255, 'going': 256, 'tree': 257, 'barley': 258, 'grass': 259, 'kind': 260, 'twas': 261, 'bridge': 262, 'around': 263, 'blue': 264, 'tell': 265, 'row': 266, 'how': 267, 'money': 268, 'merry': 269, 'stepped': 270, 'corporal': 271, 'always': 272, 'though': 273, 'near': 274, 'taken': 275, 'ones': 276, 'daughter': 277, 'forever': 278, 'loo': 279, 'shining': 280, 'plenty': 281, 'hes': 282, 'ship': 283, 'banks': 284, 'think': 285, 'very': 286, 'stand': 287, 'heres': 288, 'snow': 289, 'mountains': 290, 'molly': 291, 'wheel': 292, 'street': 293, 'erin': 294, 'side': 295, 'feet': 296, 'star': 297, 'look': 298, 'brave': 299, 'woman': 300, 'sons': 301, 'two': 302, 'says': 303, 'asked': 304, 'lanigans': 305, 'singing': 306, 'men': 307, 'toome': 308, 'stole': 309, 'god': 310, 'hill': 311, 'lonely': 312, 'lover': 313, 'tears': 314, 'fathers': 315, 'low': 316, 'voice': 317, 'quite': 318, 'able': 319, 'nice': 320, 'laid': 321, 'comrades': 322, 'wind': 323, 'another': 324, 'sit': 325, 'face': 326, 'band': 327, 'call': 328, 'colleen': 329, 'until': 330, 'hills': 331, 'mine': 332, 'above': 333, 'upon': 334, 'eer': 335, 'youve': 336, 'fly': 337, 'been': 338, 'late': 339, 'alive': 340, 'ballyjamesduff': 341, 'looked': 342, 'great': 343, 'why': 344, 'every': 345, 'proud': 346, 'found': 347, 'bragh': 348, 'such': 349, 'birds': 350, 'wedding': 351, 'welcome': 352, 'dancing': 353, 'da': 354, 'fell': 355, 'thinking': 356, 'roddy': 357, 'mccorley': 358, 'smiling': 359, 'mallow': 360, 'blooming': 361, 'thought': 362, 'peace': 363, 'soft': 364, 'pure': 365, 'harp': 366, 'dream': 367, 'alas': 368, 'yet': 369, 'clear': 370, 'art': 371, 'off': 372, 'hope': 373, 'fought': 374, 'mothers': 375, 'shore': 376, 'ago': 377, 'fol': 378, 'de': 379, 'house': 380, 'married': 381, 'bound': 382, 'danced': 383, 'devil': 384, 'dawning': 385, 'makes': 386, 'same': 387, 'sat': 388, 'any': 389, 'glass': 390, 'gay': 391, 'relations': 392, 'evening': 393, 'watched': 394, 'right': 395, 'fellows': 396, 'whiskey': 397, 'bonnie': 398, 'grows': 399, 'women': 400, 'flowers': 401, 'beauty': 402, 'cannot': 403, 'handsome': 404, 'happy': 405, 'gold': 406, 'rover': 407, 'none': 408, 'doneen': 409, 'summers': 410, 'people': 411, 'set': 412, 'paddy': 413, 'morn': 414, 'most': 415, 'easy': 416, 'struck': 417, 'beautiful': 418, 'those': 419, 'golden': 420, 'run': 421, 'pipes': 422, 'glen': 423, 'dying': 424, 'here': 425, 'wall': 426, 'across': 427, 'fire': 428, 'eileen': 429, 'longer': 430, 'cheeks': 431, 'valley': 432, 'both': 433, 'dew': 434, 'care': 435, 'bride': 436, 'nothing': 437, 'wont': 438, 'theyre': 439, 'colonel': 440, 'maiden': 441, 'shed': 442, 'til': 443, 'brown': 444, 'breast': 445, 'corn': 446, 'sinking': 447, 'began': 448, 'name': 449, 'cruel': 450, 'sound': 451, 'spancil': 452, 'county': 453, 'lies': 454, 'color': 455, 'thing': 456, 'decay': 457, 'sleep': 458, 'hours': 459, 'loving': 460, 'weary': 461, 'ringing': 462, 'please': 463, 'forget': 464, 'lie': 465, 'ran': 466, 'tore': 467, 'country': 468, 'fear': 469, 'fortune': 470, 'kissed': 471, 'alone': 472, 'ould': 473, 'cry': 474, 'dreams': 475, 'used': 476, 'horse': 477, 'break': 478, 'bells': 479, 'didnt': 480, 'weeks': 481, 'without': 482, 'raw': 483, 'nor': 484, 'twenty': 485, 'tune': 486, 'hed': 487, 'roving': 488, 'leaves': 489, 'cant': 490, 'death': 491, 'ten': 492, 'prison': 493, 'judge': 494, 'against': 495, 'lads': 496, 'shell': 497, 'fill': 498, 'valleys': 499, 'other': 500, 'pale': 501, 'joy': 502, 'wide': 503, 'bring': 504, 'ah': 505, 'cliffs': 506, 'city': 507, 'end': 508, 'turn': 509, 'sky': 510, 'born': 511, 'knew': 512, 'smiled': 513, 'rosie': 514, 'comes': 515, 'sayin': 516, 'lord': 517, 'dungannon': 518, 'blood': 519, 'air': 520, 'danny': 521, 'calling': 522, 'sunshine': 523, 'spring': 524, 'bid': 525, 'grow': 526, 'truth': 527, 'tear': 528, 'rings': 529, 'guns': 530, 'bay': 531, 'oflynn': 532, 'och': 533, 'stick': 534, 'rest': 535, 'four': 536, 'jewel': 537, 'tried': 538, 'grief': 539, 'answer': 540, 'kathleen': 541, 'fond': 542, 'eye': 543, 'goin': 544, 'pistols': 545, 'musha': 546, 'whack': 547, 'creole': 548, 'together': 549, 'room': 550, 'fall': 551, 'swore': 552, 'being': 553, 'step': 554, 'lark': 555, 'cailín': 556, 'deas': 557, 'crúite': 558, 'na': 559, 'mbó': 560, 'sir': 561, 'isle': 562, 'waiting': 563, 'magic': 564, 'skibbereen': 565, 'loud': 566, 'raise': 567, 'bent': 568, 'aged': 569, 'summer': 570, 'jenny': 571, 'excise': 572, 'rigadoo': 573, 'auld': 574, 'hearts': 575, 'nay': 576, 'stool': 577, 'farrell': 578, 'garden': 579, 'precious': 580, 'child': 581, 'slumber': 582, 'sleeping': 583, 'watch': 584, 'gently': 585, 'minstrel': 586, 'praise': 587, 'bell': 588, 'shaken': 589, 'immortal': 590, 'pray': 591, 'stay': 592, 'spoke': 593, 'cross': 594, 'brothers': 595, 'much': 596, 'past': 597, 'killarney': 598, 'sang': 599, 'tones': 600, 'ral': 601, 'wander': 602, 'cot': 603, 'feel': 604, 'yore': 605, 'answered': 606, 'divil': 607, 'middle': 608, 'bit': 609, 'led': 610, 'soldiers': 611, 'lily': 612, 'bed': 613, 'lassie': 614, 'clothes': 615, 'return': 616, 'broken': 617, 'derry': 618, 'sighed': 619, 'english': 620, 'tomorrow': 621, 'souls': 622, 'van': 623, 'diemans': 624, 'law': 625, 'neither': 626, 'winds': 627, 'rather': 628, 'doesnt': 629, 'rosy': 630, 'neatest': 631, 'hands': 632, 'whereon': 633, 'stands': 634, 'write': 635, 'thousand': 636, 'fare': 637, 'youd': 638, 'velvet': 639, 'neat': 640, 'landed': 641, 'health': 642, 'kellswater': 643, 'quiet': 644, 'stars': 645, 'beside': 646, 'warm': 647, 'sunday': 648, 'grey': 649, 'ocean': 650, 'sad': 651, 'spend': 652, 'kilkenny': 653, 'silver': 654, 'view': 655, 'west': 656, 'plain': 657, 'barrow': 658, 'broad': 659, 'narrow': 660, 'crying': 661, 'wonder': 662, 'save': 663, 'stop': 664, 'tender': 665, 'told': 666, 'lip': 667, 'dance': 668, 'foot': 669, 'kilrain': 670, 'saint': 671, 'visit': 672, 'mossy': 673, 'wexford': 674, 'irishmen': 675, 'shadow': 676, 'tho': 677, 'salley': 678, 'gardens': 679, 'foolish': 680, 'youth': 681, 'fade': 682, 'war': 683, 'believe': 684, 'which': 685, 'change': 686, 'entwine': 687, 'turns': 688, 'turned': 689, 'crown': 690, 'played': 691, 'captain': 692, 'blow': 693, 'children': 694, 'slainte': 695, 'gentle': 696, 'heavens': 697, 'bloom': 698, 'grand': 699, 'bush': 700, 'nest': 701, 'rich': 702, 'parting': 703, 'better': 704, 'window': 705, 'haste': 706, 'fresh': 707, 'stream': 708, 'rays': 709, 'ma': 710, 'ring': 711, 'lad': 712, 'athy': 713, 'drop': 714, 'hardly': 715, 'done': 716, 'arm': 717, 'leg': 718, 'beg': 719, 'drew': 720, 'bold': 721, 'drawn': 722, 'jail': 723, 'writin': 724, 'farewell': 725, 'tired': 726, 'lake': 727, 'want': 728, 'ringlets': 729, 'myself': 730, 'songs': 731, 'reel': 732, 'steps': 733, 'hearty': 734, 'fainted': 735, 'called': 736, 'under': 737, 'toe': 738, 'mairi': 739, 'fairest': 740, 'darlin': 741, 'bird': 742, 'memory': 743, 'lips': 744, 'sweetly': 745, 'morrow': 746, 'consent': 747, 'else': 748, 'sold': 749, 'stout': 750, 'pair': 751, 'drinking': 752, 'meself': 753, 'fray': 754, 'pike': 755, 'coat': 756, 'beneath': 757, 'rent': 758, 'part': 759, 'half': 760, 'head': 761, 'friend': 762, 'standing': 763, 'floor': 764, 'bare': 765, 'wed': 766, 'son': 767, 'pride': 768, 'vision': 769, 'sword': 770, 'after': 771, 'won': 772, 'farmers': 773, 'flower': 774, 'nut': 775, 'surely': 776, 'stood': 777, 'wandered': 778, 'athenry': 779, 'rising': 780, 'beating': 781, 'form': 782, 'dhu': 783, 'buy': 784, 'laughter': 785, 'wear': 786, 'raking': 787, 'rakes': 788, 'claret': 789, 'shure': 790, 'tralee': 791, 'slower': 792, 'lower': 793, 'deep': 794, 'wearin': 795, 'duram': 796, 'takes': 797, 'beware': 798, 'steal': 799, 'brings': 800, 'things': 801, 'joys': 802, 'bunch': 803, 'sailor': 804, 'chanced': 805, 'pass': 806, 'angels': 807, 'send': 808, 'drowsy': 809, 'keeping': 810, 'spirit': 811, 'stealing': 812, 'feeling': 813, 'roam': 814, 'presence': 815, 'heavenward': 816, 'dust': 817, 'dim': 818, 'journey': 819, 'waves': 820, 'frightened': 821, 'leaving': 822, 'struggle': 823, 'parents': 824, 'courage': 825, 'weeping': 826, 'pain': 827, 'mist': 828, 'felt': 829, 'roared': 830, 'making': 831, 'fever': 832, 'moment': 833, 'distance': 834, 'wailing': 835, 'oft': 836, 'held': 837, 'fast': 838, 'cabin': 839, 'honey': 840, 'diddle': 841, 'clearly': 842, 'open': 843, 'opened': 844, 'table': 845, 'wine': 846, 'lay': 847, 'shells': 848, 'sailed': 849, 'drown': 850, 'fetters': 851, 'chains': 852, 'wives': 853, 'sorrow': 854, 'thoughts': 855, 'cursed': 856, 'hell': 857, 'five': 858, 'buried': 859, 'lost': 860, 'endless': 861, 'slavery': 862, 'gun': 863, 'rain': 864, 'cares': 865, 'ghosts': 866, 'runaway': 867, 'twill': 868, 'month': 869, 'meadows': 870, 'prettiest': 871, 'winters': 872, 'satisfied': 873, 'few': 874, 'short': 875, 'lines': 876, 'shone': 877, 'shoulder': 878, 'belfast': 879, 'trade': 880, 'bad': 881, 'caused': 882, 'stray': 883, 'meaning': 884, 'damsel': 885, 'appear': 886, 'seven': 887, 'sentence': 888, 'jolly': 889, 'whenever': 890, 'wee': 891, 'wife': 892, 'lives': 893, 'martha': 894, 'courted': 895, 'bridgit': 896, 'omalley': 897, 'desolation': 898, 'thorn': 899, 'gaze': 900, 'stone': 901, 'approaching': 902, 'sets': 903, 'carrigfergus': 904, 'nights': 905, 'swim': 906, 'wings': 907, 'sober': 908, 'travel': 909, 'native': 910, 'places': 911, 'slopes': 912, 'hares': 913, 'lofty': 914, 'malone': 915, 'wheeled': 916, 'streets': 917, 'enough': 918, 'reilly': 919, 'tough': 920, 'whispers': 921, 'phil': 922, 'threw': 923, 'straight': 924, 'belles': 925, 'moor': 926, 'brand': 927, 'shapes': 928, 'work': 929, 'vow': 930, 'blarney': 931, 'paid': 932, 'bower': 933, 'remain': 934, 'charming': 935, 'storied': 936, 'chieftains': 937, 'slaughter': 938, 'bann': 939, 'boyne': 940, 'liffey': 941, 'gallant': 942, 'awake': 943, 'greet': 944, 'meadow': 945, 'sweeter': 946, 'dirty': 947, 'cats': 948, 'crossed': 949, 'field': 950, 'river': 951, 'full': 952, 'aroon': 953, 'sends': 954, 'woe': 955, 'chain': 956, 'main': 957, 'charms': 958, 'fondly': 959, 'fleet': 960, 'fairy': 961, 'thine': 962, 'known': 963, 'truly': 964, 'close': 965, 'story': 966, 'flag': 967, 'sweetest': 968, 'honor': 969, 'playing': 970, 'mauser': 971, 'music': 972, 'tom': 973, 'hurrah': 974, 'big': 975, 'lead': 976, 'south': 977, 'generation': 978, 'freedom': 979, 'agin': 980, 'creature': 981, 'dad': 982, 'venture': 983, 'word': 984, 'wonderful': 985, 'crazy': 986, 'lazy': 987, 'grave': 988, 'jest': 989, 'remark': 990, 'strangers': 991, 'strong': 992, 'shook': 993, 'walk': 994, 'north': 995, 'ours': 996, 'cease': 997, 'strife': 998, 'whats': 999, 'lilacs': 1000, 'prove': 1001, 'sweetheart': 1002, 'letters': 1003, 'sent': 1004, 'speak': 1005, 'brow': 1006, 'albert': 1007, 'mooney': 1008, 'fighting': 1009, 'fingers': 1010, 'toes': 1011, 'john': 1012, 'hurroo': 1013, 'drums': 1014, 'beguiled': 1015, 'carry': 1016, 'bone': 1017, 'havent': 1018, 'walkin': 1019, 'kilgary': 1020, 'pepper': 1021, 'countin': 1022, 'forth': 1023, 'deliver': 1024, 'daddy': 1025, 'em': 1026, 'deceive': 1027, 'between': 1028, 'even': 1029, 'prisoner': 1030, 'fists': 1031, 'knocked': 1032, 'carriages': 1033, 'rollin': 1034, 'juice': 1035, 'courtin': 1036, 'ponchartrain': 1037, 'does': 1038, 'stranger': 1039, 'marry': 1040, 'adieu': 1041, 'ask': 1042, 'tipped': 1043, 'arrived': 1044, 'ladies': 1045, 'potatoes': 1046, 'courting': 1047, 'miss': 1048, 'small': 1049, 'ned': 1050, 'ribbons': 1051, 'heel': 1052, 'bonny': 1053, 'pipe': 1054, 'thrush': 1055, 'sweethearts': 1056, 'unto': 1057, 'rise': 1058, 'softly': 1059, 'milking': 1060, 'rare': 1061, 'pity': 1062, 'treasure': 1063, 'noon': 1064, 'sailing': 1065, 'banish': 1066, 'riches': 1067, 'comfort': 1068, 'yonder': 1069, 'flows': 1070, 'fairer': 1071, 'lass': 1072, 'woods': 1073, 'strayed': 1074, 'locks': 1075, 'breaking': 1076, 'june': 1077, 'started': 1078, 'hearted': 1079, 'beer': 1080, 'daylight': 1081, 'among': 1082, 'bundle': 1083, 'connaught': 1084, 'quay': 1085, 'erins': 1086, 'galway': 1087, 'fearless': 1088, 'bravely': 1089, 'marches': 1090, 'fate': 1091, 'neck': 1092, 'trod': 1093, 'marched': 1094, 'antrim': 1095, 'sash': 1096, 'flashed': 1097, 'hath': 1098, 'foemans': 1099, 'fight': 1100, 'heavy': 1101, 'bore': 1102, 'mans': 1103, 'counter': 1104, 'dozen': 1105, 'gallon': 1106, 'bottles': 1107, 'diamond': 1108, 'resemble': 1109, 'tiny': 1110, 'friendly': 1111, 'weather': 1112, 'inside': 1113, 'remember': 1114, 'someone': 1115, 'hat': 1116, 'body': 1117, 'dancers': 1118, 'hanging': 1119, 'empty': 1120, 'shoes': 1121, 'broke': 1122, 'december': 1123, 'move': 1124, 'reason': 1125, 'roof': 1126, 'naught': 1127, 'tower': 1128, 'power': 1129, 'king': 1130, 'dreaming': 1131, 'crew': 1132, 'whos': 1133, 'mccann': 1134, 'smoke': 1135, 'notes': 1136, 'yeoman': 1137, 'cavalry': 1138, 'guard': 1139, 'forced': 1140, 'brother': 1141, 'cousin': 1142, 'blame': 1143, 'croppy': 1144, 'dressed': 1145, 'trees': 1146, 'wore': 1147, 'words': 1148, 'swiftly': 1149, 'dawn': 1150, 'lovd': 1151, 'voices': 1152, 'moaning': 1153, 'dark': 1154, 'gather': 1155, 'tay': 1156, 'swinging': 1157, 'drinkin': 1158, 'sitting': 1159, 'stile': 1160, 'springing': 1161, 'yours': 1162, 'kept': 1163, 'aisey': 1164, 'rub': 1165, 'dub': 1166, 'dow': 1167, 'shelah': 1168, 'fairly': 1169, 'beggarman': 1170, 'begging': 1171, 'slept': 1172, 'holes': 1173, 'coming': 1174, 'thru': 1175, 'boo': 1176, 'lady': 1177, 'kerry': 1178, 'pipers': 1179, 'laugh': 1180, 'beaming': 1181, 'guineas': 1182, 'least': 1183, 'diggin': 1184, 'mourne': 1185, 'spending': 1186, 'mellow': 1187, 'plying': 1188, 'slowly': 1189, 'mooncoin': 1190, 'flow': 1191, 'sounds': 1192, 'shine': 1193, 'cool': 1194, 'crystal': 1195, 'fountain': 1196, 'moonlight': 1197, 'grandmother': 1198, 'crooning': 1199, 'merrily': 1200, 'spins': 1201, 'lightly': 1202, 'moving': 1203, 'lattice': 1204, 'grove': 1205, 'swings': 1206, 'finger': 1207, 'shamrock': 1208, 'pocket': 1209, 'springtime': 1210, 'gilgarra': 1211, 'rapier': 1212, 'ringum': 1213, 'mornin': 1214, 'heather': 1215, 'build': 1216, 'maidens': 1217, 'prime': 1218, 'nlyme': 1219, 'flavours': 1220, 'lusty': 1221, 'reminded': 1222, 'attend': 1223, 'guardian': 1224, 'creeping': 1225, 'dale': 1226, 'vigil': 1227, 'visions': 1228, 'revealing': 1229, 'breathes': 1230, 'holy': 1231, 'strains': 1232, 'hover': 1233, 'hark': 1234, 'solemn': 1235, 'winging': 1236, 'earthly': 1237, 'shalt': 1238, 'awaken': 1239, 'destiny': 1240, 'emigrants': 1241, 'amid': 1242, 'longing': 1243, 'parted': 1244, 'townland': 1245, 'vessel': 1246, 'crowded': 1247, 'disquieted': 1248, 'folk': 1249, 'escape': 1250, 'hardship': 1251, 'sustaining': 1252, 'glimpse': 1253, 'faded': 1254, 'strangely': 1255, 'seas': 1256, 'anger': 1257, 'desperate': 1258, 'plight': 1259, 'worsened': 1260, 'delirium': 1261, 'possessed': 1262, 'clouded': 1263, 'prayers': 1264, 'begged': 1265, 'forgiveness': 1266, 'seeking': 1267, 'distant': 1268, 'mither': 1269, 'simple': 1270, 'ditty': 1271, 'ld': 1272, 'li': 1273, 'hush': 1274, 'lullaby': 1275, 'huggin': 1276, 'hummin': 1277, 'rock': 1278, 'asleep': 1279, 'outside': 1280, 'modestly': 1281, 'ry': 1282, 'ay': 1283, 'di': 1284, 're': 1285, 'dai': 1286, 'rie': 1287, 'shc': 1288, 'bridle': 1289, 'stable': 1290, 'oats': 1291, 'eat': 1292, 'soldier': 1293, 'aisy': 1294, 'arose': 1295, 'christmas': 1296, '1803': 1297, 'australia': 1298, 'marks': 1299, 'carried': 1300, 'rusty': 1301, 'iron': 1302, 'wains': 1303, 'mainsails': 1304, 'unfurled': 1305, 'curses': 1306, 'hurled': 1307, 'swell': 1308, 'moth': 1309, 'firelights': 1310, 'horses': 1311, 'rode': 1312, 'taking': 1313, 'hades': 1314, 'twilight': 1315, 'forty': 1316, 'slime': 1317, 'climate': 1318, 'bravery': 1319, 'ended': 1320, 'bond': 1321, 'rebel': 1322, 'iii': 1323, 'violin': 1324, 'clay': 1325, 'sooner': 1326, 'sport': 1327, 'colour': 1328, 'knows': 1329, 'earth': 1330, 'serve': 1331, 'clyde': 1332, 'mourn': 1333, 'weep': 1334, 'suffer': 1335, 'diamonds': 1336, 'queen': 1337, 'hung': 1338, 'tied': 1339, 'apprenticed': 1340, 'happiness': 1341, 'misfortune': 1342, 'follow': 1343, 'strolling': 1344, 'selling': 1345, 'bar': 1346, 'customer': 1347, 'slipped': 1348, 'luck': 1349, 'jury': 1350, 'trial': 1351, 'case': 1352, 'warning': 1353, 'liquor': 1354, 'porter': 1355, 'pleasures': 1356, 'fishing': 1357, 'farming': 1358, 'glens': 1359, 'softest': 1360, 'dripping': 1361, 'snare': 1362, 'lose': 1363, 'court': 1364, 'primrose': 1365, 'bee': 1366, 'hopeless': 1367, 'wonders': 1368, 'admiration': 1369, 'haunt': 1370, 'wherever': 1371, 'sands': 1372, 'purer': 1373, 'within': 1374, 'grieve': 1375, 'drumslieve': 1376, 'ballygrant': 1377, 'deepest': 1378, 'boatsman': 1379, 'ferry': 1380, 'childhood': 1381, 'reflections': 1382, 'boyhood': 1383, 'melting': 1384, 'roaming': 1385, 'reported': 1386, 'marble': 1387, 'stones': 1388, 'ink': 1389, 'support': 1390, 'drunk': 1391, 'seldom': 1392, 'sick': 1393, 'numbered': 1394, 'foam': 1395, 'compare': 1396, 'sights': 1397, 'coast': 1398, 'clare': 1399, 'kilkee': 1400, 'kilrush': 1401, 'watching': 1402, 'pheasants': 1403, 'homes': 1404, 'streams': 1405, 'dublins': 1406, 'cockles': 1407, 'mussels': 1408, 'fish': 1409, 'monger': 1410, 'ghost': 1411, 'wheels': 1412, 'eden': 1413, 'vanished': 1414, 'finea': 1415, 'halfway': 1416, 'cootehill': 1417, 'gruff': 1418, 'whispering': 1419, 'crow': 1420, 'newborn': 1421, 'babies': 1422, 'huff': 1423, 'start': 1424, 'sorrowful': 1425, 'squall': 1426, 'babys': 1427, 'toil': 1428, 'worn': 1429, 'fore': 1430, 'flute': 1431, 'yer': 1432, 'boot': 1433, 'magee': 1434, 'scruff': 1435, 'slanderin': 1436, 'marchin': 1437, 'assisted': 1438, 'drain': 1439, 'dudeen': 1440, 'puff': 1441, 'whisperings': 1442, 'barrin': 1443, 'chocolate': 1444, 'feegee': 1445, 'sort': 1446, 'moonshiny': 1447, 'stuff': 1448, 'addle': 1449, 'brain': 1450, 'ringin': 1451, 'glamour': 1452, 'gas': 1453, 'guff': 1454, 'whisper': 1455, 'oil': 1456, 'remarkable': 1457, 'policeman': 1458, 'bluff': 1459, 'maintain': 1460, 'guril': 1461, 'sic': 1462, 'passage': 1463, 'rough': 1464, 'borne': 1465, 'breeze': 1466, 'boundless': 1467, 'stupendous': 1468, 'roll': 1469, 'thundering': 1470, 'motion': 1471, 'mermaids': 1472, 'fierce': 1473, 'tempest': 1474, 'gathers': 1475, 'oneill': 1476, 'odonnell': 1477, 'lucan': 1478, 'oconnell': 1479, 'brian': 1480, 'drove': 1481, 'danes': 1482, 'patrick': 1483, 'vermin': 1484, 'whose': 1485, 'benburb': 1486, 'blackwater': 1487, 'owen': 1488, 'roe': 1489, 'munroe': 1490, 'lambs': 1491, 'skip': 1492, 'views': 1493, 'enchanting': 1494, 'rostrevor': 1495, 'groves': 1496, 'lakes': 1497, 'ride': 1498, 'tide': 1499, 'majestic': 1500, 'shannon': 1501, 'sail': 1502, 'loch': 1503, 'neagh': 1504, 'ross': 1505, 'gorey': 1506, 'saxon': 1507, 'tory': 1508, 'soil': 1509, 'sanctified': 1510, 'enemies': 1511, 'links': 1512, 'encumbered': 1513, 'resound': 1514, 'hosannahs': 1515, 'bide': 1516, 'hushed': 1517, 'lying': 1518, 'kneel': 1519, 'ave': 1520, 'tread': 1521, 'fail': 1522, 'simply': 1523, 'gasworks': 1524, 'croft': 1525, 'dreamed': 1526, 'canal': 1527, 'factory': 1528, 'clouds': 1529, 'drifting': 1530, 'prowling': 1531, 'beat': 1532, 'springs': 1533, 'siren': 1534, 'docks': 1535, 'train': 1536, 'smelled': 1537, 'smokey': 1538, 'sharp': 1539, 'axe': 1540, 'steel': 1541, 'tempered': 1542, 'chop': 1543, 't': 1544, 'agree': 1545, 'leaning': 1546, 'weirs': 1547, 'ray': 1548, 'glow': 1549, 'changeless': 1550, 'constant': 1551, 'bounding': 1552, 'castles': 1553, 'sacked': 1554, 'scattered': 1555, 'fixed': 1556, 'endearing': 1557, 'gifts': 1558, 'fading': 1559, 'wouldst': 1560, 'adored': 1561, 'loveliness': 1562, 'ruin': 1563, 'itself': 1564, 'verdantly': 1565, 'unprofaned': 1566, 'fervor': 1567, 'faith': 1568, 'forgets': 1569, 'sunflower': 1570, 'rag': 1571, 'games': 1572, 'hold': 1573, 'defend': 1574, 'veteran': 1575, 'volunteers': 1576, 'pat': 1577, 'pearse': 1578, 'clark': 1579, 'macdonagh': 1580, 'macdiarmada': 1581, 'mcbryde': 1582, 'james': 1583, 'connolly': 1584, 'placed': 1585, 'machine': 1586, 'ranting': 1587, 'hour': 1588, 'bullet': 1589, 'stuck': 1590, 'craw': 1591, 'poisoning': 1592, 'ceannt': 1593, 'lions': 1594, 'union': 1595, 'poured': 1596, 'dismay': 1597, 'horror': 1598, 'englishmen': 1599, 'khaki': 1600, 'renown': 1601, 'fame': 1602, 'forefathers': 1603, 'blaze': 1604, 'priests': 1605, 'offer': 1606, 'charmin': 1607, 'variety': 1608, 'renownd': 1609, 'learnin': 1610, 'piety': 1611, 'advance': 1612, 'widout': 1613, 'impropriety': 1614, 'flowr': 1615, 'cho': 1616, 'powrfulest': 1617, 'preacher': 1618, 'tenderest': 1619, 'teacher': 1620, 'kindliest': 1621, 'donegal': 1622, 'talk': 1623, 'provost': 1624, 'trinity': 1625, 'famous': 1626, 'greek': 1627, 'latinity': 1628, 'divils': 1629, 'divinity': 1630, 'd': 1631, 'likes': 1632, 'logic': 1633, 'mythology': 1634, 'thayology': 1635, 'conchology': 1636, 'sinners': 1637, 'wishful': 1638, 'childer': 1639, 'avick': 1640, 'gad': 1641, 'flock': 1642, 'grandest': 1643, 'control': 1644, 'checking': 1645, 'coaxin': 1646, 'onaisy': 1647, 'lifting': 1648, 'avoidin': 1649, 'frivolity': 1650, 'seasons': 1651, 'innocent': 1652, 'jollity': 1653, 'playboy': 1654, 'claim': 1655, 'equality': 1656, 'comicality': 1657, 'bishop': 1658, 'lave': 1659, 'gaiety': 1660, 'laity': 1661, 'clergy': 1662, 'jewels': 1663, 'plundering': 1664, 'pillage': 1665, 'starved': 1666, 'cries': 1667, 'thems': 1668, 'bondage': 1669, 'fourth': 1670, 'tabhair': 1671, 'dom': 1672, 'lámh': 1673, 'harmony': 1674, 'east': 1675, 'destroy': 1676, 'command': 1677, 'gesture': 1678, 'troubles': 1679, 'weak': 1680, 'peoples': 1681, 'creeds': 1682, 'lets': 1683, 'needs': 1684, 'passion': 1685, 'fashion': 1686, 'guide': 1687, 'share': 1688, 'sparkling': 1689, 'meeting': 1690, 'iull': 1691, 'contented': 1692, 'ache': 1693, 'painful': 1694, 'wrote': 1695, 'twisted': 1696, 'twined': 1697, 'cheek': 1698, 'bedim': 1699, 'holds': 1700, 'smiles': 1701, 'scarcely': 1702, 'darkning': 1703, 'beyond': 1704, 'yearn': 1705, 'laughs': 1706, 'humble': 1707, 'brightest': 1708, 'gleam': 1709, 'forgot': 1710, 'pulled': 1711, 'comb': 1712, 'counting': 1713, 'knock': 1714, 'murray': 1715, 'fellow': 1716, 'hail': 1717, 'tumblin': 1718, 'apple': 1719, 'pie': 1720, 'gets': 1721, 'doleful': 1722, 'enemy': 1723, 'nearly': 1724, 'slew': 1725, 'queer': 1726, 'mild': 1727, 'legs': 1728, 'indeed': 1729, 'island': 1730, 'sulloon': 1731, 'flesh': 1732, 'yere': 1733, 'armless': 1734, 'boneless': 1735, 'chickenless': 1736, 'egg': 1737, 'yell': 1738, 'bowl': 1739, 'rolling': 1740, 'swearing': 1741, 'rattled': 1742, 'saber': 1743, 'deceiver': 1744, 'rig': 1745, 'um': 1746, 'du': 1747, 'rum': 1748, 'jar': 1749, 'shinin': 1750, 'coins': 1751, 'promised': 1752, 'vowed': 1753, 'devils': 1754, 'awakened': 1755, 'six': 1756, 'guards': 1757, 'numbers': 1758, 'odd': 1759, 'flew': 1760, 'mistaken': 1761, 'mollys': 1762, 'robbing': 1763, 'sentry': 1764, 'sligo': 1765, 'fishin': 1766, 'bowlin': 1767, 'others': 1768, 'railroad': 1769, 'ties': 1770, 'crossings': 1771, 'swamps': 1772, 'elevations': 1773, 'resolved': 1774, 'sunset': 1775, 'higher': 1776, 'win': 1777, 'allegators': 1778, 'wood': 1779, 'treated': 1780, 'shoulders': 1781, 'paint': 1782, 'picture': 1783, 'vain': 1784, 'returned': 1785, 'cottage': 1786, 'sociable': 1787, 'foaming': 1788, 'n': 1789, 'jeremy': 1790, 'lanigan': 1791, 'battered': 1792, 'hadnt': 1793, 'pound': 1794, 'farm': 1795, 'acres': 1796, 'party': 1797, 'listen': 1798, 'glisten': 1799, 'rows': 1800, 'ructions': 1801, 'invitation': 1802, 'minute': 1803, 'bees': 1804, 'cask': 1805, 'judy': 1806, 'odaly': 1807, 'milliner': 1808, 'wink': 1809, 'peggy': 1810, 'mcgilligan': 1811, 'lashings': 1812, 'punch': 1813, 'cakes': 1814, 'bacon': 1815, 'tea': 1816, 'nolans': 1817, 'dolans': 1818, 'ogradys': 1819, 'sounded': 1820, 'taras': 1821, 'hall': 1822, 'nelly': 1823, 'gray': 1824, 'rat': 1825, 'catchers': 1826, 'doing': 1827, 'kinds': 1828, 'nonsensical': 1829, 'polkas': 1830, 'whirligig': 1831, 'julia': 1832, 'banished': 1833, 'nonsense': 1834, 'twist': 1835, 'jig': 1836, 'mavrone': 1837, 'mad': 1838, 'ceiling': 1839, 'brooks': 1840, 'academy': 1841, 'learning': 1842, 'learn': 1843, 'couples': 1844, 'groups': 1845, 'accident': 1846, 'happened': 1847, 'terrance': 1848, 'mccarthy': 1849, 'finnertys': 1850, 'hoops': 1851, 'cried': 1852, 'meelia': 1853, 'murther': 1854, 'gathered': 1855, 'carmody': 1856, 'further': 1857, 'satisfaction': 1858, 'midst': 1859, 'kerrigan': 1860, 'declared': 1861, 'painted': 1862, 'suppose': 1863, 'morgan': 1864, 'powerful': 1865, 'stretched': 1866, 'smashed': 1867, 'chaneys': 1868, 'runctions': 1869, 'lick': 1870, 'phelim': 1871, 'mchugh': 1872, 'replied': 1873, 'introduction': 1874, 'kicked': 1875, 'terrible': 1876, 'hullabaloo': 1877, 'piper': 1878, 'strangled': 1879, 'squeezed': 1880, 'bellows': 1881, 'chanters': 1882, 'entangled': 1883, 'gaily': 1884, 'mairis': 1885, 'hillways': 1886, 'myrtle': 1887, 'bracken': 1888, 'sheilings': 1889, 'sake': 1890, 'rowans': 1891, 'herring': 1892, 'meal': 1893, 'peat': 1894, 'creel': 1895, 'bairns': 1896, 'weel': 1897, 'toast': 1898, 'soar': 1899, 'blackbird': 1900, 'note': 1901, 'linnet': 1902, 'lure': 1903, 'cozy': 1904, 'catch': 1905, 'company': 1906, 'harm': 1907, 'wit': 1908, 'recall': 1909, 'leisure': 1910, 'awhile': 1911, 'sorely': 1912, 'ruby': 1913, 'enthralled': 1914, 'sorry': 1915, 'theyd': 1916, 'falls': 1917, 'lot': 1918, 'tuned': 1919, 'bough': 1920, 'cow': 1921, 'chanting': 1922, 'melodious': 1923, 'scarce': 1924, 'soothed': 1925, 'solace': 1926, 'courtesy': 1927, 'salute': 1928, 'amiable': 1929, 'captive': 1930, 'slave': 1931, 'future': 1932, 'banter': 1933, 'enamour': 1934, 'indies': 1935, 'afford': 1936, 'transparently': 1937, 'flame': 1938, 'add': 1939, 'fuel': 1940, 'grant': 1941, 'desire': 1942, 'expire': 1943, 'wealth': 1944, 'damer': 1945, 'african': 1946, 'devonshire': 1947, 'lamp': 1948, 'alladin': 1949, 'genie': 1950, 'also': 1951, 'withdraw': 1952, 'tease': 1953, 'single': 1954, 'airy': 1955, 'embarrass': 1956, 'besides': 1957, 'almanack': 1958, 'useless': 1959, 'date': 1960, 'ware': 1961, 'rate': 1962, 'fragrance': 1963, 'loses': 1964, 'consumed': 1965, 'october': 1966, 'knowing': 1967, 'steer': 1968, 'blast': 1969, 'danger': 1970, 'farthing': 1971, 'affection': 1972, 'enjoy': 1973, 'choose': 1974, 'killarneys': 1975, 'sister': 1976, 'pains': 1977, 'loss': 1978, 'tuam': 1979, 'saluted': 1980, 'drank': 1981, 'pint': 1982, 'smother': 1983, 'reap': 1984, 'cut': 1985, 'goblins': 1986, 'bought': 1987, 'brogues': 1988, 'rattling': 1989, 'bogs': 1990, 'frightning': 1991, 'dogs': 1992, 'hunt': 1993, 'hare': 1994, 'follol': 1995, 'rah': 1996, 'mullingar': 1997, 'rested': 1998, 'limbs': 1999, 'blithe': 2000, 'heartfrom': 2001, 'paddys': 2002, 'cure': 2003, 'lassies': 2004, 'laughing': 2005, 'curious': 2006, 'style': 2007, 'twould': 2008, 'bubblin': 2009, 'hired': 2010, 'wages': 2011, 'required': 2012, 'almost': 2013, 'deprived': 2014, 'stroll': 2015, 'quality': 2016, 'locality': 2017, 'something': 2018, 'wobblin': 2019, 'enquiring': 2020, 'rogue': 2021, 'brogue': 2022, 'wasnt': 2023, 'vogue': 2024, 'spirits': 2025, 'falling': 2026, 'jumped': 2027, 'aboard': 2028, 'pigs': 2029, 'rigs': 2030, 'jigs': 2031, 'bubbling': 2032, 'holyhead': 2033, 'wished': 2034, 'instead': 2035, 'bouys': 2036, 'liverpool': 2037, 'safely': 2038, 'fool': 2039, 'boil': 2040, 'temper': 2041, 'losing': 2042, 'abusing': 2043, 'shillelagh': 2044, 'nigh': 2045, 'hobble': 2046, 'load': 2047, 'hurray': 2048, 'joined': 2049, 'affray': 2050, 'quitely': 2051, 'cleared': 2052, 'host': 2053, 'march': 2054, 'faces': 2055, 'farmstead': 2056, 'fishers': 2057, 'ban': 2058, 'vengeance': 2059, 'hapless': 2060, 'about': 2061, 'hemp': 2062, 'rope': 2063, 'clung': 2064, 'grim': 2065, 'array': 2066, 'earnest': 2067, 'stalwart': 2068, 'stainless': 2069, 'banner': 2070, 'marching': 2071, 'torn': 2072, 'furious': 2073, 'odds': 2074, 'keen': 2075, 'toomebridge': 2076, 'treads': 2077, 'upwards': 2078, 'traveled': 2079, 'quarters': 2080, 'below': 2081, 'hogshead': 2082, 'stack': 2083, 'stagger': 2084, 'dig': 2085, 'hole': 2086, 'couple': 2087, 'scratch': 2088, 'consolation': 2089, 'tyrant': 2090, 'remorseless': 2091, 'foe': 2092, 'lift': 2093, 'stranded': 2094, 'prince': 2095, 'edward': 2096, 'coffee': 2097, 'trace': 2098, 'fiddlin': 2099, 'dime': 2100, 'shy': 2101, 'hello': 2102, 'wintry': 2103, 'yellow': 2104, 'somewhere': 2105, 'written': 2106, 'begin': 2107, 'tap': 2108, 'caught': 2109, 'leap': 2110, 'clumsy': 2111, 'graceful': 2112, 'fiddlers': 2113, 'everywhere': 2114, 'boots': 2115, 'laughtcr': 2116, 'suits': 2117, 'easter': 2118, 'gowns': 2119, 'sailors': 2120, 'pianos': 2121, 'setting': 2122, 'someones': 2123, 'hats': 2124, 'rack': 2125, 'chair': 2126, 'wooden': 2127, 'feels': 2128, 'touch': 2129, 'awaitin': 2130, 'thc': 2131, 'fiddles': 2132, 'closet': 2133, 'strings': 2134, 'tbe': 2135, 'covers': 2136, 'buttoned': 2137, 'sometimes': 2138, 'melody': 2139, 'passes': 2140, 'slight': 2141, 'lack': 2142, 'moved': 2143, 'homeward': 2144, 'swan': 2145, 'moves': 2146, 'goods': 2147, 'gear': 2148, 'din': 2149, 'rude': 2150, 'wherein': 2151, 'dwell': 2152, 'abandon': 2153, 'energy': 2154, 'blight': 2155, 'praties': 2156, 'sheep': 2157, 'cattle': 2158, 'taxes': 2159, 'unpaid': 2160, 'redeem': 2161, 'bleak': 2162, 'landlord': 2163, 'sheriff': 2164, 'spleen': 2165, 'heaved': 2166, 'sigh': 2167, 'bade': 2168, 'goodbye': 2169, 'stony': 2170, 'anguish': 2171, 'seeing': 2172, 'feeble': 2173, 'frame': 2174, 'wrapped': 2175, 'c�ta': 2176, 'm�r': 2177, 'unseen': 2178, 'stern': 2179, 'rally': 2180, 'cheer': 2181, 'revenge': 2182, 'waking': 2183, 'wisdom': 2184, 'dwelling': 2185, 'battleshield': 2186, 'dignity': 2187, 'shelter': 2188, 'heed': 2189, 'inheritance': 2190, 'heavem': 2191, 'heaven': 2192, 'victory': 2193, 'reach': 2194, 'whatever': 2195, 'befall': 2196, 'ruler': 2197, 'pleasant': 2198, 'rambling': 2199, 'board': 2200, 'followed': 2201, 'shortly': 2202, 'anchor': 2203, '23rd': 2204, 'lrelands': 2205, 'daughters': 2206, 'crowds': 2207, 'assembled': 2208, 'fulfill': 2209, 'jovial': 2210, 'conversations': 2211, 'neighbors': 2212, 'turning': 2213, 'tailor': 2214, 'quigley': 2215, 'bould': 2216, 'britches': 2217, 'lived': 2218, 'flying': 2219, 'dove': 2220, 'hiii': 2221, 'dreamt': 2222, 'joking': 2223, 'manys': 2224, 'cock': 2225, 'shrill': 2226, 'awoke': 2227, 'california': 2228, 'miles': 2229, 'banbridge': 2230, 'july': 2231, 'boreen': 2232, 'sheen': 2233, 'coaxing': 2234, 'elf': 2235, 'shake': 2236, 'bantry': 2237, 'onward': 2238, 'sped': 2239, 'gazed': 2240, 'passerby': 2241, 'gem': 2242, 'irelands': 2243, 'travelled': 2244, 'hit': 2245, 'career': 2246, 'square': 2247, 'surrendered': 2248, 'tenant': 2249, 'shawl': 2250, 'gown': 2251, 'crossroads': 2252, 'dress': 2253, 'try': 2254, 'sheeps': 2255, 'deludhering': 2256, 'yoke': 2257, 'rust': 2258, 'plow': 2259, 'fireside': 2260, 'sits': 2261, 'whistle': 2262, 'changing': 2263, 'fright': 2264, 'downfall': 2265, 'cornwall': 2266, 'parlour': 2267, 'passing': 2268, 'william': 2269, 'betray': 2270, 'guinea': 2271, 'walking': 2272, 'mounted': 2273, 'platform': 2274, 'deny': 2275, 'walked': 2276, 'margin': 2277, 'lough': 2278, 'leane': 2279, 'bloomed': 2280, 'whom': 2281, 'cap': 2282, 'cloak': 2283, 'glossy': 2284, 'pail': 2285, 'palm': 2286, 'venus': 2287, 'bank': 2288, 'travelians': 2289, 'babes': 2290, 'freebirds': 2291, 'grew': 2292, 'matters': 2293, 'famine': 2294, 'rebelled': 2295, 'windswept': 2296, 'harbour': 2297, 'botany': 2298, 'whilst': 2299, 'wan': 2300, 'cloud': 2301, 'shannons': 2302, 'returnd': 2303, 'doubts': 2304, 'fears': 2305, 'aching': 2306, 'seemd': 2307, 'mingling': 2308, 'flood': 2309, 'path': 2310, 'wrath': 2311, 'lamenting': 2312, 'sudden': 2313, 'kissd': 2314, 'showrs': 2315, 'flowing': 2316, 'laughd': 2317, 'beam': 2318, 'soared': 2319, 'aloft': 2320, 'phantom': 2321, 'outspread': 2322, 'throbbing': 2323, 'hid': 2324, 'treasures': 2325, 'pots': 2326, 'tin': 2327, 'cans': 2328, 'mash': 2329, 'bran': 2330, 'barney': 2331, 'peeled': 2332, 'searching': 2333, 'connemara': 2334, 'butcher': 2335, 'quart': 2336, 'bottle': 2337, 'help': 2338, 'gate': 2339, 'glory': 2340, 'lane': 2341, 'village': 2342, 'church': 2343, 'spire': 2344, 'graveyard': 2345, 'baby': 2346, 'blessing': 2347, 'hoping': 2348, 'trust': 2349, 'strength': 2350, 'thank': 2351, 'bidding': 2352, 'bread': 2353, 'shines': 2354, 'fifty': 2355, 'often': 2356, 'shut': 2357, 'frisky': 2358, 'pig': 2359, 'whisky': 2360, 'uncle': 2361, 'enlisted': 2362, 'trudged': 2363, 'bosom': 2364, 'daisy': 2365, 'drubbing': 2366, 'shirts': 2367, 'battle': 2368, 'blows': 2369, 'pate': 2370, 'bothered': 2371, 'rarely': 2372, 'dropped': 2373, 'honest': 2374, 'thinks': 2375, 'eight': 2376, 'score': 2377, 'basin': 2378, 'zoo': 2379, 'everybody': 2380, 'calls': 2381, 'trades': 2382, 'dinner': 2383, 'slip': 2384, 'corner': 2385, 'barn': 2386, 'currabawn': 2387, 'shocking': 2388, 'wet': 2389, 'raindrops': 2390, 'rats': 2391, 'peek': 2392, 'waken': 2393, 'spotted': 2394, 'apron': 2395, 'calico': 2396, 'blouse': 2397, 'frighten': 2398, 'afraid': 2399, 'flaxen': 2400, 'haired': 2401, 'rags': 2402, 'tags': 2403, 'leggins': 2404, 'collar': 2405, 'tie': 2406, 'goggles': 2407, 'fashioned': 2408, 'bag': 2409, 'bulging': 2410, 'sack': 2411, 'peeping': 2412, 'skin': 2413, 'rink': 2414, 'doodle': 2415, 'getting': 2416, 'raked': 2417, 'gladness': 2418, 'tuning': 2419, 'fills': 2420, 'eily': 2421, 'prouder': 2422, 'thady': 2423, 'boldly': 2424, 'lasses': 2425, 'fled': 2426, 'silent': 2427, 'glad': 2428, 'echo': 2429, 'companions': 2430, 'soars': 2431, 'enchanted': 2432, 'granted': 2433, 'adoration': 2434, 'gives': 2435, 'joyous': 2436, 'elation': 2437, 'covered': 2438, 'winter': 2439, 'riding': 2440, 'cherry': 2441, 'coal': 2442, 'falter': 2443, 'bowed': 2444, 'bonnet': 2445, 'courteous': 2446, 'looks': 2447, 'engaging': 2448, 'sell': 2449, 'purse': 2450, 'yearly': 2451, 'need': 2452, 'market': 2453, 'gain': 2454, 'dearly': 2455, 'tarry': 2456, 'although': 2457, 'parlay': 2458, 'ranks': 2459, 'girded': 2460, 'slung': 2461, 'warrior': 2462, 'bard': 2463, 'betrays': 2464, 'rights': 2465, 'faithful': 2466, 'chords': 2467, 'asunder': 2468, 'sully': 2469, 'bravry': 2470, 'londons': 2471, 'sight': 2472, 'workin': 2473, 'sow': 2474, 'wheat': 2475, 'gangs': 2476, 'sweep': 2477, 'expressed': 2478, 'london': 2479, 'top': 2480, 'dresses': 2481, 'bath': 2482, 'startin': 2483, 'fashions': 2484, 'mccree': 2485, 'nature': 2486, 'designed': 2487, 'complexions': 2488, 'cream': 2489, 'regard': 2490, 'sip': 2491, 'colors': 2492, 'wait': 2493, 'waitin': 2494, 'sweeps': 2495, 'beauing': 2496, 'belling': 2497, 'windows': 2498, 'cursing': 2499, 'faster': 2500, 'waiters': 2501, 'bailiffs': 2502, 'duns': 2503, 'bacchus': 2504, 'begotten': 2505, 'politicians': 2506, 'funds': 2507, 'dadda': 2508, 'living': 2509, 'drives': 2510, 'having': 2511, 'racking': 2512, 'tenants': 2513, 'stewards': 2514, 'teasing': 2515, 'raising': 2516, 'wishing': 2517, 'sunny': 2518, 'doves': 2519, 'coo': 2520, 'neath': 2521, 'sunbeam': 2522, 'robin': 2523, 'waters': 2524, 'larks': 2525, 'join': 2526, 'breaks': 2527, 'oftimes': 2528, 'lilies': 2529, 'declining': 2530, 'vale': 2531, 'shades': 2532, 'mantle': 2533, 'spreading': 2534, 'listening': 2535, 'shedding': 2536, 'beginning': 2537, 'spinning': 2538, 'blind': 2539, 'drowsily': 2540, 'knitting': 2541, 'cheerily': 2542, 'noiselessly': 2543, 'whirring': 2544, 'foots': 2545, 'stirring': 2546, 'sprightly': 2547, 'chara': 2548, 'tapping': 2549, 'ivy': 2550, 'flapping': 2551, 'somebody': 2552, 'sighing': 2553, 'autumn': 2554, 'noise': 2555, 'chirping': 2556, 'holly': 2557, 'shoving': 2558, 'wrong': 2559, 'coolin': 2560, 'casement': 2561, 'rove': 2562, 'moons': 2563, 'brightly': 2564, 'shakes': 2565, 'lays': 2566, 'longs': 2567, 'lingers': 2568, 'glance': 2569, 'puts': 2570, 'lazily': 2571, 'easily': 2572, 'lowly': 2573, 'reels': 2574, 'noiseless': 2575, 'leaps': 2576, 'ere': 2577, 'lovers': 2578, 'roved': 2579, 'verdant': 2580, 'braes': 2581, 'skreen': 2582, 'countrie': 2583, 'foreign': 2584, 'strand': 2585, 'dewy': 2586, 'climb': 2587, 'rob': 2588, 'boat': 2589, 'sails': 2590, 'loaded': 2591, 'sink': 2592, 'leaned': 2593, 'oak': 2594, 'trusty': 2595, 'false': 2596, 'reached': 2597, 'pricked': 2598, 'waxes': 2599, 'fades': 2600, 'wholl': 2601, 'cockle': 2602, 'gloom': 2603, 'news': 2604, 'forbid': 2605, 'patricks': 2606, 'napper': 2607, 'tandy': 2608, 'hows': 2609, 'distressful': 2610, 'englands': 2611, 'remind': 2612, 'pull': 2613, 'throw': 2614, 'sod': 2615, 'root': 2616, 'underfoot': 2617, 'laws': 2618, 'blades': 2619, 'growin': 2620, 'dare': 2621, 'show': 2622, 'caubeen': 2623, 'year': 2624, 'returning': 2625, 'store': 2626, 'ale': 2627, 'frequent': 2628, 'landlady': 2629, 'credit': 2630, 'custom': 2631, 'sovereigns': 2632, 'landladys': 2633, 'wines': 2634, 'confess': 2635, 'pardon': 2636, 'prodigal': 2637, 'caress': 2638, 'forgive': 2639, 'ofttimes': 2640, 'wondering': 2641, 'powr': 2642, 'beguile': 2643, 'teardrop': 2644, 'lilting': 2645, 'laughters': 2646, 'twinkle': 2647, 'lilt': 2648, 'seems': 2649, 'linnets': 2650, 'real': 2651, 'regret': 2652, 'throughout': 2653, 'youths': 2654, 'chance': 2655, 'spied': 2656, 'receiver': 2657, 'counted': 2658, 'penny': 2659, 'bu': 2660, 'rungum': 2661, 'chamber': 2662, 'course': 2663, 'charges': 2664, 'filled': 2665, 'ready': 2666, 'footmen': 2667, 'likewise': 2668, 'draw': 2669, 'pistol': 2670, 'couldnt': 2671, 'shoot': 2672, 'robbin': 2673, 'jailer': 2674, 'tight': 2675, 'fisted': 2676, 'army': 2677, 'stationed': 2678, 'cork': 2679, 'roamin': 2680, 'swear': 2681, 'treat': 2682, 'sportin': 2683, 'hurley': 2684, 'bollin': 2685, 'maids': 2686, 'summertime': 2687, 'pluck': 2688, 'yon': 2689}\n",
            "2690\n"
          ],
          "name": "stdout"
        }
      ]
    },
    {
      "cell_type": "code",
      "metadata": {
        "id": "U_JWjBHdCfFw"
      },
      "source": [
        "input_sequences = []\n",
        "for line in corpus:\n",
        "\ttoken_list = tokenizer.texts_to_sequences([line])[0]\n",
        "\tfor i in range(1, len(token_list)):\n",
        "\t\tn_gram_sequence = token_list[:i+1]\n",
        "\t\tinput_sequences.append(n_gram_sequence)\n",
        "\n",
        "# pad sequences \n",
        "max_sequence_len = max([len(x) for x in input_sequences])\n",
        "input_sequences = np.array(pad_sequences(input_sequences, maxlen=max_sequence_len, padding='pre'))\n",
        "\n",
        "# create predictors and label\n",
        "xs, labels = input_sequences[:,:-1],input_sequences[:,-1]\n",
        "\n",
        "ys = tf.keras.utils.to_categorical(labels, num_classes=total_words)"
      ],
      "execution_count": 6,
      "outputs": []
    },
    {
      "cell_type": "code",
      "metadata": {
        "colab": {
          "base_uri": "https://localhost:8080/"
        },
        "id": "w-CYkodNCfJS",
        "outputId": "c41640b6-cb0d-4710-ae30-8e380a1a665d"
      },
      "source": [
        "model = Sequential()\n",
        "model.add(Embedding(total_words, 100, input_length=max_sequence_len-1))\n",
        "model.add(Bidirectional(LSTM(150)))\n",
        "model.add(Dense(total_words, activation='softmax'))\n",
        "adam = Adam(lr=0.01)\n",
        "model.compile(loss='categorical_crossentropy', optimizer=adam, metrics=['accuracy'])"
      ],
      "execution_count": 7,
      "outputs": [
        {
          "output_type": "stream",
          "text": [
            "/usr/local/lib/python3.7/dist-packages/tensorflow/python/keras/optimizer_v2/optimizer_v2.py:375: UserWarning: The `lr` argument is deprecated, use `learning_rate` instead.\n",
            "  \"The `lr` argument is deprecated, use `learning_rate` instead.\")\n"
          ],
          "name": "stderr"
        }
      ]
    },
    {
      "cell_type": "code",
      "metadata": {
        "colab": {
          "base_uri": "https://localhost:8080/"
        },
        "id": "eN8A3sAQCor3",
        "outputId": "5cf9699e-52c0-46f3-dad8-1c118e8d85de"
      },
      "source": [
        "model.summary()"
      ],
      "execution_count": 8,
      "outputs": [
        {
          "output_type": "stream",
          "text": [
            "Model: \"sequential\"\n",
            "_________________________________________________________________\n",
            "Layer (type)                 Output Shape              Param #   \n",
            "=================================================================\n",
            "embedding (Embedding)        (None, 15, 100)           269000    \n",
            "_________________________________________________________________\n",
            "bidirectional (Bidirectional (None, 300)               301200    \n",
            "_________________________________________________________________\n",
            "dense (Dense)                (None, 2690)              809690    \n",
            "=================================================================\n",
            "Total params: 1,379,890\n",
            "Trainable params: 1,379,890\n",
            "Non-trainable params: 0\n",
            "_________________________________________________________________\n"
          ],
          "name": "stdout"
        }
      ]
    },
    {
      "cell_type": "code",
      "metadata": {
        "colab": {
          "base_uri": "https://localhost:8080/"
        },
        "id": "0qavAI3VCfNH",
        "outputId": "a6d69a72-1465-4e5f-90c8-81a32860f075"
      },
      "source": [
        "#earlystop = EarlyStopping(monitor='val_loss', min_delta=0, patience=5, verbose=0, mode='auto')\n",
        "history = model.fit(xs, ys, epochs=60, verbose=1)"
      ],
      "execution_count": 9,
      "outputs": [
        {
          "output_type": "stream",
          "text": [
            "Epoch 1/60\n",
            "377/377 [==============================] - 13s 11ms/step - loss: 6.6709 - accuracy: 0.0724\n",
            "Epoch 2/60\n",
            "377/377 [==============================] - 4s 11ms/step - loss: 5.7745 - accuracy: 0.1128\n",
            "Epoch 3/60\n",
            "377/377 [==============================] - 4s 11ms/step - loss: 4.8845 - accuracy: 0.1631\n",
            "Epoch 4/60\n",
            "377/377 [==============================] - 4s 10ms/step - loss: 3.9506 - accuracy: 0.2382\n",
            "Epoch 5/60\n",
            "377/377 [==============================] - 4s 10ms/step - loss: 3.1294 - accuracy: 0.3334\n",
            "Epoch 6/60\n",
            "377/377 [==============================] - 4s 10ms/step - loss: 2.4389 - accuracy: 0.4462\n",
            "Epoch 7/60\n",
            "377/377 [==============================] - 4s 10ms/step - loss: 1.9294 - accuracy: 0.5417\n",
            "Epoch 8/60\n",
            "377/377 [==============================] - 4s 10ms/step - loss: 1.6108 - accuracy: 0.6150\n",
            "Epoch 9/60\n",
            "377/377 [==============================] - 4s 10ms/step - loss: 1.3392 - accuracy: 0.6782\n",
            "Epoch 10/60\n",
            "377/377 [==============================] - 4s 10ms/step - loss: 1.1901 - accuracy: 0.7098\n",
            "Epoch 11/60\n",
            "377/377 [==============================] - 4s 10ms/step - loss: 1.0798 - accuracy: 0.7384\n",
            "Epoch 12/60\n",
            "377/377 [==============================] - 4s 10ms/step - loss: 1.0289 - accuracy: 0.7485\n",
            "Epoch 13/60\n",
            "377/377 [==============================] - 4s 10ms/step - loss: 1.0410 - accuracy: 0.7425\n",
            "Epoch 14/60\n",
            "377/377 [==============================] - 4s 11ms/step - loss: 1.1560 - accuracy: 0.7093\n",
            "Epoch 15/60\n",
            "377/377 [==============================] - 4s 11ms/step - loss: 1.3073 - accuracy: 0.6686\n",
            "Epoch 16/60\n",
            "377/377 [==============================] - 4s 11ms/step - loss: 1.3177 - accuracy: 0.6685\n",
            "Epoch 17/60\n",
            "377/377 [==============================] - 4s 11ms/step - loss: 1.2099 - accuracy: 0.6961\n",
            "Epoch 18/60\n",
            "377/377 [==============================] - 4s 11ms/step - loss: 1.0897 - accuracy: 0.7205\n",
            "Epoch 19/60\n",
            "377/377 [==============================] - 4s 11ms/step - loss: 0.9611 - accuracy: 0.7601\n",
            "Epoch 20/60\n",
            "377/377 [==============================] - 4s 10ms/step - loss: 0.8691 - accuracy: 0.7819\n",
            "Epoch 21/60\n",
            "377/377 [==============================] - 4s 10ms/step - loss: 0.8287 - accuracy: 0.7919\n",
            "Epoch 22/60\n",
            "377/377 [==============================] - 4s 10ms/step - loss: 0.9044 - accuracy: 0.7737\n",
            "Epoch 23/60\n",
            "377/377 [==============================] - 4s 10ms/step - loss: 1.0326 - accuracy: 0.7368\n",
            "Epoch 24/60\n",
            "377/377 [==============================] - 4s 10ms/step - loss: 1.1164 - accuracy: 0.7127\n",
            "Epoch 25/60\n",
            "377/377 [==============================] - 4s 10ms/step - loss: 1.1770 - accuracy: 0.7009\n",
            "Epoch 26/60\n",
            "377/377 [==============================] - 4s 10ms/step - loss: 1.1265 - accuracy: 0.7146\n",
            "Epoch 27/60\n",
            "377/377 [==============================] - 4s 10ms/step - loss: 1.0410 - accuracy: 0.7362\n",
            "Epoch 28/60\n",
            "377/377 [==============================] - 4s 10ms/step - loss: 0.9793 - accuracy: 0.7498\n",
            "Epoch 29/60\n",
            "377/377 [==============================] - 4s 10ms/step - loss: 0.9450 - accuracy: 0.7641\n",
            "Epoch 30/60\n",
            "377/377 [==============================] - 4s 10ms/step - loss: 0.9366 - accuracy: 0.7667\n",
            "Epoch 31/60\n",
            "377/377 [==============================] - 4s 11ms/step - loss: 1.0009 - accuracy: 0.7428\n",
            "Epoch 32/60\n",
            "377/377 [==============================] - 4s 11ms/step - loss: 0.9986 - accuracy: 0.7450\n",
            "Epoch 33/60\n",
            "377/377 [==============================] - 4s 11ms/step - loss: 1.0309 - accuracy: 0.7411\n",
            "Epoch 34/60\n",
            "377/377 [==============================] - 4s 11ms/step - loss: 1.0013 - accuracy: 0.7475\n",
            "Epoch 35/60\n",
            "377/377 [==============================] - 4s 11ms/step - loss: 1.0045 - accuracy: 0.7421\n",
            "Epoch 36/60\n",
            "377/377 [==============================] - 4s 11ms/step - loss: 1.0577 - accuracy: 0.7326\n",
            "Epoch 37/60\n",
            "377/377 [==============================] - 4s 10ms/step - loss: 1.0976 - accuracy: 0.7238\n",
            "Epoch 38/60\n",
            "377/377 [==============================] - 4s 10ms/step - loss: 1.0627 - accuracy: 0.7341\n",
            "Epoch 39/60\n",
            "377/377 [==============================] - 4s 11ms/step - loss: 1.0031 - accuracy: 0.7481\n",
            "Epoch 40/60\n",
            "377/377 [==============================] - 4s 11ms/step - loss: 1.0561 - accuracy: 0.7382\n",
            "Epoch 41/60\n",
            "377/377 [==============================] - 4s 11ms/step - loss: 1.1529 - accuracy: 0.7150\n",
            "Epoch 42/60\n",
            "377/377 [==============================] - 4s 11ms/step - loss: 1.1313 - accuracy: 0.7145\n",
            "Epoch 43/60\n",
            "377/377 [==============================] - 4s 11ms/step - loss: 1.1049 - accuracy: 0.7213\n",
            "Epoch 44/60\n",
            "377/377 [==============================] - 4s 11ms/step - loss: 1.0667 - accuracy: 0.7361\n",
            "Epoch 45/60\n",
            "377/377 [==============================] - 4s 10ms/step - loss: 1.0227 - accuracy: 0.7439\n",
            "Epoch 46/60\n",
            "377/377 [==============================] - 4s 10ms/step - loss: 0.9964 - accuracy: 0.7492\n",
            "Epoch 47/60\n",
            "377/377 [==============================] - 4s 10ms/step - loss: 1.0098 - accuracy: 0.7476\n",
            "Epoch 48/60\n",
            "377/377 [==============================] - 4s 10ms/step - loss: 0.9915 - accuracy: 0.7555\n",
            "Epoch 49/60\n",
            "377/377 [==============================] - 4s 10ms/step - loss: 1.0360 - accuracy: 0.7441\n",
            "Epoch 50/60\n",
            "377/377 [==============================] - 4s 10ms/step - loss: 1.0004 - accuracy: 0.7484\n",
            "Epoch 51/60\n",
            "377/377 [==============================] - 4s 10ms/step - loss: 1.0423 - accuracy: 0.7477\n",
            "Epoch 52/60\n",
            "377/377 [==============================] - 4s 10ms/step - loss: 1.0582 - accuracy: 0.7440\n",
            "Epoch 53/60\n",
            "377/377 [==============================] - 4s 10ms/step - loss: 1.0870 - accuracy: 0.7301\n",
            "Epoch 54/60\n",
            "377/377 [==============================] - 4s 10ms/step - loss: 1.0436 - accuracy: 0.7402\n",
            "Epoch 55/60\n",
            "377/377 [==============================] - 4s 11ms/step - loss: 1.0396 - accuracy: 0.7464\n",
            "Epoch 56/60\n",
            "377/377 [==============================] - 4s 11ms/step - loss: 1.0678 - accuracy: 0.7376\n",
            "Epoch 57/60\n",
            "377/377 [==============================] - 4s 11ms/step - loss: 1.0621 - accuracy: 0.7372\n",
            "Epoch 58/60\n",
            "377/377 [==============================] - 4s 11ms/step - loss: 1.0095 - accuracy: 0.7493\n",
            "Epoch 59/60\n",
            "377/377 [==============================] - 4s 11ms/step - loss: 0.9705 - accuracy: 0.7628\n",
            "Epoch 60/60\n",
            "377/377 [==============================] - 4s 11ms/step - loss: 0.9675 - accuracy: 0.7593\n"
          ],
          "name": "stdout"
        }
      ]
    },
    {
      "cell_type": "code",
      "metadata": {
        "id": "IEjyde8NCwNw"
      },
      "source": [
        "def plot_graphs(history, string):\n",
        "  plt.plot(history.history[string])\n",
        "  plt.xlabel(\"Epochs\")\n",
        "  plt.ylabel(string)\n",
        "  plt.show()"
      ],
      "execution_count": 10,
      "outputs": []
    },
    {
      "cell_type": "code",
      "metadata": {
        "colab": {
          "base_uri": "https://localhost:8080/",
          "height": 279
        },
        "id": "VQM8LEXHCz-g",
        "outputId": "7569ea28-861e-45c0-bf62-edefd96c03ad"
      },
      "source": [
        "plot_graphs(history, 'accuracy')"
      ],
      "execution_count": 11,
      "outputs": [
        {
          "output_type": "display_data",
          "data": {
            "image/png": "[encoded data removed]",
            "text/plain": [
              "<Figure size 432x288 with 1 Axes>"
            ]
          },
          "metadata": {
            "tags": [],
            "needs_background": "light"
          }
        }
      ]
    },
    {
      "cell_type": "code",
      "metadata": {
        "colab": {
          "base_uri": "https://localhost:8080/"
        },
        "id": "6B2Fiaq3Fplh",
        "outputId": "56872cb1-6efc-4ce1-ea20-645c4eb1adcf"
      },
      "source": [
        "seed_text = \"I've got a bad feeling about this\"\n",
        "next_words = 100\n",
        "  \n",
        "for _ in range(next_words):\n",
        "\ttoken_list = tokenizer.texts_to_sequences([seed_text])[0]\n",
        "\ttoken_list = pad_sequences([token_list], maxlen=max_sequence_len-1, padding='pre')\n",
        "\tpredicted = model.predict_classes(token_list, verbose=0)\n",
        "\toutput_word = \"\"\n",
        "\tfor word, index in tokenizer.word_index.items():\n",
        "\t\tif index == predicted:\n",
        "\t\t\toutput_word = word\n",
        "\t\t\tbreak\n",
        "\tseed_text += \" \" + output_word\n",
        "print(seed_text)"
      ],
      "execution_count": 12,
      "outputs": [
        {
          "output_type": "stream",
          "text": [
            "/usr/local/lib/python3.7/dist-packages/tensorflow/python/keras/engine/sequential.py:455: UserWarning: `model.predict_classes()` is deprecated and will be removed after 2021-01-01. Please use instead:* `np.argmax(model.predict(x), axis=-1)`,   if your model does multi-class classification   (e.g. if it uses a `softmax` last-layer activation).* `(model.predict(x) > 0.5).astype(\"int32\")`,   if your model does binary classification   (e.g. if it uses a `sigmoid` last-layer activation).\n",
            "  warnings.warn('`model.predict_classes()` is deprecated and '\n"
          ],
          "name": "stderr"
        },
        {
          "output_type": "stream",
          "text": [
            "I've got a bad feeling about this proud old skibbereen cans night in the town of yore alive alive alive o gone and gone there had no longer foolish wexford happiness in sinking wid has gone away now free good laughter and no love you stole my thyme away nor painful to thine time turned both hadnt and shrill love married ireland mother ones earth i took thee shoot the water round them along over love from your love and bow is wide i river like melting snow grow on the stool spins the wheel stop their malone cow under the town on fire love is shining\n"
          ],
          "name": "stdout"
        }
      ]
    },
    {
      "cell_type": "markdown",
      "metadata": {
        "id": "HMMQkNDZGS0d"
      },
      "source": [
        "## Exercise 12"
      ]
    },
    {
      "cell_type": "code",
      "metadata": {
        "colab": {
          "base_uri": "https://localhost:8080/"
        },
        "id": "KLh6L4OPGUtC",
        "outputId": "df07e27f-1490-413b-9e62-f177c90a4ed2"
      },
      "source": [
        "!wget --no-check-certificate \\\n",
        "    https://storage.googleapis.com/laurencemoroney-blog.appspot.com/sonnets.txt \\\n",
        "    -O /content/sonnets.txt"
      ],
      "execution_count": 4,
      "outputs": [
        {
          "output_type": "stream",
          "text": [
            "--2021-08-07 05:37:10--  https://storage.googleapis.com/laurencemoroney-blog.appspot.com/sonnets.txt\n",
            "Resolving storage.googleapis.com (storage.googleapis.com)... 74.125.135.128, 74.125.142.128, 74.125.195.128, ...\n",
            "Connecting to storage.googleapis.com (storage.googleapis.com)|74.125.135.128|:443... connected.\n",
            "HTTP request sent, awaiting response... 200 OK\n",
            "Length: 93578 (91K) [text/plain]\n",
            "Saving to: ‘/content/sonnets.txt’\n",
            "\n",
            "\r/content/sonnets.tx   0%[                    ]       0  --.-KB/s               \r/content/sonnets.tx 100%[===================>]  91.38K  --.-KB/s    in 0.001s  \n",
            "\n",
            "2021-08-07 05:37:10 (112 MB/s) - ‘/content/sonnets.txt’ saved [93578/93578]\n",
            "\n"
          ],
          "name": "stdout"
        }
      ]
    },
    {
      "cell_type": "code",
      "metadata": {
        "id": "blRDCfGUHCx5"
      },
      "source": [
        "tokenizer = Tokenizer()"
      ],
      "execution_count": 6,
      "outputs": []
    },
    {
      "cell_type": "code",
      "metadata": {
        "id": "qUEqlUbCG1Ja"
      },
      "source": [
        "data = open('/content/sonnets.txt').read()\n",
        "\n",
        "corpus = data.lower().split(\"\\n\")\n",
        "\n",
        "\n",
        "tokenizer.fit_on_texts(corpus)\n",
        "total_words = len(tokenizer.word_index) + 1\n",
        "\n",
        "# create input sequences using list of tokens\n",
        "input_sequences = []\n",
        "for line in corpus:\n",
        "\ttoken_list = tokenizer.texts_to_sequences([line])[0]\n",
        "\tfor i in range(1, len(token_list)):\n",
        "\t\tn_gram_sequence = token_list[:i+1]\n",
        "\t\tinput_sequences.append(n_gram_sequence)"
      ],
      "execution_count": 7,
      "outputs": []
    },
    {
      "cell_type": "code",
      "metadata": {
        "id": "Ni8WkWw6HFMC"
      },
      "source": [
        "# pad sequences \n",
        "max_sequence_len = max([len(x) for x in input_sequences])\n",
        "input_sequences = np.array(pad_sequences(input_sequences, maxlen=max_sequence_len, padding='pre'))\n",
        "\n",
        "# create predictors and label\n",
        "predictors, label = input_sequences[:,:-1],input_sequences[:,-1]\n",
        "\n",
        "label = ku.to_categorical(label, num_classes=total_words)"
      ],
      "execution_count": 8,
      "outputs": []
    },
    {
      "cell_type": "code",
      "metadata": {
        "colab": {
          "base_uri": "https://localhost:8080/"
        },
        "id": "HF2IzMw2HFPB",
        "outputId": "304a3ef3-7e4b-48ae-c462-6d53bf41b4d6"
      },
      "source": [
        "model = Sequential()\n",
        "model.add(Embedding(total_words, 100, input_length=max_sequence_len-1))\n",
        "model.add(Bidirectional(LSTM(150, return_sequences = True)))\n",
        "model.add(Dropout(0.2))\n",
        "model.add(LSTM(100))\n",
        "model.add(Dense(total_words/2, activation='relu', kernel_regularizer=regularizers.l2(0.01)))\n",
        "model.add(Dense(total_words, activation='softmax'))\n",
        "model.compile(loss='categorical_crossentropy', optimizer='adam', metrics=['accuracy'])\n",
        "print(model.summary())"
      ],
      "execution_count": 11,
      "outputs": [
        {
          "output_type": "stream",
          "text": [
            "Model: \"sequential_1\"\n",
            "_________________________________________________________________\n",
            "Layer (type)                 Output Shape              Param #   \n",
            "=================================================================\n",
            "embedding_1 (Embedding)      (None, 10, 100)           321100    \n",
            "_________________________________________________________________\n",
            "bidirectional_1 (Bidirection (None, 10, 300)           301200    \n",
            "_________________________________________________________________\n",
            "dropout (Dropout)            (None, 10, 300)           0         \n",
            "_________________________________________________________________\n",
            "lstm_2 (LSTM)                (None, 100)               160400    \n",
            "_________________________________________________________________\n",
            "dense (Dense)                (None, 1605)              162105    \n",
            "_________________________________________________________________\n",
            "dense_1 (Dense)              (None, 3211)              5156866   \n",
            "=================================================================\n",
            "Total params: 6,101,671\n",
            "Trainable params: 6,101,671\n",
            "Non-trainable params: 0\n",
            "_________________________________________________________________\n",
            "None\n"
          ],
          "name": "stdout"
        }
      ]
    },
    {
      "cell_type": "code",
      "metadata": {
        "colab": {
          "base_uri": "https://localhost:8080/"
        },
        "id": "jS1DDYLmHFSr",
        "outputId": "355f5c8b-1eb1-464c-94fd-cf90cfbae21a"
      },
      "source": [
        "history = model.fit(predictors, label, epochs=100, verbose=1)"
      ],
      "execution_count": 12,
      "outputs": [
        {
          "output_type": "stream",
          "text": [
            "Epoch 1/100\n",
            "484/484 [==============================] - 17s 14ms/step - loss: 6.9019 - accuracy: 0.0218\n",
            "Epoch 2/100\n",
            "484/484 [==============================] - 7s 14ms/step - loss: 6.4942 - accuracy: 0.0228\n",
            "Epoch 3/100\n",
            "484/484 [==============================] - 7s 14ms/step - loss: 6.4059 - accuracy: 0.0246\n",
            "Epoch 4/100\n",
            "484/484 [==============================] - 7s 14ms/step - loss: 6.2855 - accuracy: 0.0306\n",
            "Epoch 5/100\n",
            "484/484 [==============================] - 7s 14ms/step - loss: 6.1766 - accuracy: 0.0359\n",
            "Epoch 6/100\n",
            "484/484 [==============================] - 7s 14ms/step - loss: 6.0918 - accuracy: 0.0397\n",
            "Epoch 7/100\n",
            "484/484 [==============================] - 7s 14ms/step - loss: 6.0136 - accuracy: 0.0400\n",
            "Epoch 8/100\n",
            "484/484 [==============================] - 7s 14ms/step - loss: 5.9291 - accuracy: 0.0460\n",
            "Epoch 9/100\n",
            "484/484 [==============================] - 7s 14ms/step - loss: 5.8326 - accuracy: 0.0505\n",
            "Epoch 10/100\n",
            "484/484 [==============================] - 7s 14ms/step - loss: 5.7193 - accuracy: 0.0594\n",
            "Epoch 11/100\n",
            "484/484 [==============================] - 7s 14ms/step - loss: 5.6090 - accuracy: 0.0644\n",
            "Epoch 12/100\n",
            "484/484 [==============================] - 7s 14ms/step - loss: 5.4917 - accuracy: 0.0690\n",
            "Epoch 13/100\n",
            "484/484 [==============================] - 7s 14ms/step - loss: 5.3798 - accuracy: 0.0779\n",
            "Epoch 14/100\n",
            "484/484 [==============================] - 7s 14ms/step - loss: 5.2645 - accuracy: 0.0790\n",
            "Epoch 15/100\n",
            "484/484 [==============================] - 7s 14ms/step - loss: 5.1544 - accuracy: 0.0894\n",
            "Epoch 16/100\n",
            "484/484 [==============================] - 7s 14ms/step - loss: 5.0485 - accuracy: 0.0953\n",
            "Epoch 17/100\n",
            "484/484 [==============================] - 7s 14ms/step - loss: 4.9473 - accuracy: 0.1024\n",
            "Epoch 18/100\n",
            "484/484 [==============================] - 7s 14ms/step - loss: 4.8399 - accuracy: 0.1125\n",
            "Epoch 19/100\n",
            "484/484 [==============================] - 7s 14ms/step - loss: 4.7398 - accuracy: 0.1201\n",
            "Epoch 20/100\n",
            "484/484 [==============================] - 7s 14ms/step - loss: 4.6340 - accuracy: 0.1292\n",
            "Epoch 21/100\n",
            "484/484 [==============================] - 7s 14ms/step - loss: 4.5277 - accuracy: 0.1411\n",
            "Epoch 22/100\n",
            "484/484 [==============================] - 7s 14ms/step - loss: 4.4259 - accuracy: 0.1516\n",
            "Epoch 23/100\n",
            "484/484 [==============================] - 7s 14ms/step - loss: 4.3209 - accuracy: 0.1665\n",
            "Epoch 24/100\n",
            "484/484 [==============================] - 7s 14ms/step - loss: 4.2223 - accuracy: 0.1739\n",
            "Epoch 25/100\n",
            "484/484 [==============================] - 7s 14ms/step - loss: 4.1191 - accuracy: 0.1848\n",
            "Epoch 26/100\n",
            "484/484 [==============================] - 7s 14ms/step - loss: 4.0094 - accuracy: 0.2044\n",
            "Epoch 27/100\n",
            "484/484 [==============================] - 7s 14ms/step - loss: 3.9243 - accuracy: 0.2180\n",
            "Epoch 28/100\n",
            "484/484 [==============================] - 7s 14ms/step - loss: 3.8109 - accuracy: 0.2368\n",
            "Epoch 29/100\n",
            "484/484 [==============================] - 7s 14ms/step - loss: 3.7141 - accuracy: 0.2577\n",
            "Epoch 30/100\n",
            "484/484 [==============================] - 7s 14ms/step - loss: 3.6129 - accuracy: 0.2742\n",
            "Epoch 31/100\n",
            "484/484 [==============================] - 7s 14ms/step - loss: 3.5252 - accuracy: 0.2932\n",
            "Epoch 32/100\n",
            "484/484 [==============================] - 7s 14ms/step - loss: 3.4435 - accuracy: 0.3103\n",
            "Epoch 33/100\n",
            "484/484 [==============================] - 7s 14ms/step - loss: 3.3542 - accuracy: 0.3311\n",
            "Epoch 34/100\n",
            "484/484 [==============================] - 7s 14ms/step - loss: 3.2659 - accuracy: 0.3494\n",
            "Epoch 35/100\n",
            "484/484 [==============================] - 7s 14ms/step - loss: 3.2024 - accuracy: 0.3648\n",
            "Epoch 36/100\n",
            "484/484 [==============================] - 7s 14ms/step - loss: 3.1207 - accuracy: 0.3822\n",
            "Epoch 37/100\n",
            "484/484 [==============================] - 7s 14ms/step - loss: 3.0480 - accuracy: 0.3995\n",
            "Epoch 38/100\n",
            "484/484 [==============================] - 7s 14ms/step - loss: 2.9647 - accuracy: 0.4184\n",
            "Epoch 39/100\n",
            "484/484 [==============================] - 7s 14ms/step - loss: 2.8906 - accuracy: 0.4362\n",
            "Epoch 40/100\n",
            "484/484 [==============================] - 7s 14ms/step - loss: 2.8393 - accuracy: 0.4470\n",
            "Epoch 41/100\n",
            "484/484 [==============================] - 7s 14ms/step - loss: 2.7609 - accuracy: 0.4636\n",
            "Epoch 42/100\n",
            "484/484 [==============================] - 7s 14ms/step - loss: 2.7031 - accuracy: 0.4794\n",
            "Epoch 43/100\n",
            "484/484 [==============================] - 7s 14ms/step - loss: 2.6407 - accuracy: 0.4928\n",
            "Epoch 44/100\n",
            "484/484 [==============================] - 7s 14ms/step - loss: 2.5872 - accuracy: 0.5082\n",
            "Epoch 45/100\n",
            "484/484 [==============================] - 7s 14ms/step - loss: 2.5350 - accuracy: 0.5168\n",
            "Epoch 46/100\n",
            "484/484 [==============================] - 7s 14ms/step - loss: 2.4786 - accuracy: 0.5290\n",
            "Epoch 47/100\n",
            "484/484 [==============================] - 7s 14ms/step - loss: 2.4280 - accuracy: 0.5426\n",
            "Epoch 48/100\n",
            "484/484 [==============================] - 7s 14ms/step - loss: 2.3662 - accuracy: 0.5555\n",
            "Epoch 49/100\n",
            "484/484 [==============================] - 7s 14ms/step - loss: 2.3281 - accuracy: 0.5625\n",
            "Epoch 50/100\n",
            "484/484 [==============================] - 7s 14ms/step - loss: 2.2740 - accuracy: 0.5758\n",
            "Epoch 51/100\n",
            "484/484 [==============================] - 7s 14ms/step - loss: 2.2319 - accuracy: 0.5860\n",
            "Epoch 52/100\n",
            "484/484 [==============================] - 7s 15ms/step - loss: 2.1915 - accuracy: 0.5938\n",
            "Epoch 53/100\n",
            "484/484 [==============================] - 7s 14ms/step - loss: 2.1448 - accuracy: 0.6054\n",
            "Epoch 54/100\n",
            "484/484 [==============================] - 7s 14ms/step - loss: 2.1056 - accuracy: 0.6120\n",
            "Epoch 55/100\n",
            "484/484 [==============================] - 7s 14ms/step - loss: 2.0630 - accuracy: 0.6213\n",
            "Epoch 56/100\n",
            "484/484 [==============================] - 7s 14ms/step - loss: 2.0215 - accuracy: 0.6300\n",
            "Epoch 57/100\n",
            "484/484 [==============================] - 7s 14ms/step - loss: 1.9911 - accuracy: 0.6360\n",
            "Epoch 58/100\n",
            "484/484 [==============================] - 7s 14ms/step - loss: 1.9562 - accuracy: 0.6460\n",
            "Epoch 59/100\n",
            "484/484 [==============================] - 7s 14ms/step - loss: 1.9182 - accuracy: 0.6535\n",
            "Epoch 60/100\n",
            "484/484 [==============================] - 7s 14ms/step - loss: 1.8779 - accuracy: 0.6629\n",
            "Epoch 61/100\n",
            "484/484 [==============================] - 7s 14ms/step - loss: 1.8587 - accuracy: 0.6651\n",
            "Epoch 62/100\n",
            "484/484 [==============================] - 7s 14ms/step - loss: 1.8198 - accuracy: 0.6751\n",
            "Epoch 63/100\n",
            "484/484 [==============================] - 7s 14ms/step - loss: 1.7945 - accuracy: 0.6813\n",
            "Epoch 64/100\n",
            "484/484 [==============================] - 7s 14ms/step - loss: 1.7648 - accuracy: 0.6838\n",
            "Epoch 65/100\n",
            "484/484 [==============================] - 7s 14ms/step - loss: 1.7404 - accuracy: 0.6868\n",
            "Epoch 66/100\n",
            "484/484 [==============================] - 7s 14ms/step - loss: 1.6967 - accuracy: 0.7039\n",
            "Epoch 67/100\n",
            "484/484 [==============================] - 7s 14ms/step - loss: 1.6778 - accuracy: 0.7024\n",
            "Epoch 68/100\n",
            "484/484 [==============================] - 7s 14ms/step - loss: 1.6485 - accuracy: 0.7072\n",
            "Epoch 69/100\n",
            "484/484 [==============================] - 7s 14ms/step - loss: 1.6445 - accuracy: 0.7078\n",
            "Epoch 70/100\n",
            "484/484 [==============================] - 7s 14ms/step - loss: 1.6092 - accuracy: 0.7165\n",
            "Epoch 71/100\n",
            "484/484 [==============================] - 7s 14ms/step - loss: 1.5787 - accuracy: 0.7225\n",
            "Epoch 72/100\n",
            "484/484 [==============================] - 7s 14ms/step - loss: 1.5565 - accuracy: 0.7281\n",
            "Epoch 73/100\n",
            "484/484 [==============================] - 7s 14ms/step - loss: 1.5410 - accuracy: 0.7302\n",
            "Epoch 74/100\n",
            "484/484 [==============================] - 7s 14ms/step - loss: 1.5390 - accuracy: 0.7321\n",
            "Epoch 75/100\n",
            "484/484 [==============================] - 7s 14ms/step - loss: 1.5032 - accuracy: 0.7374\n",
            "Epoch 76/100\n",
            "484/484 [==============================] - 7s 14ms/step - loss: 1.4670 - accuracy: 0.7455\n",
            "Epoch 77/100\n",
            "484/484 [==============================] - 7s 14ms/step - loss: 1.4547 - accuracy: 0.7474\n",
            "Epoch 78/100\n",
            "484/484 [==============================] - 7s 15ms/step - loss: 1.4292 - accuracy: 0.7520\n",
            "Epoch 79/100\n",
            "484/484 [==============================] - 7s 14ms/step - loss: 1.4312 - accuracy: 0.7474\n",
            "Epoch 80/100\n",
            "484/484 [==============================] - 7s 14ms/step - loss: 1.4067 - accuracy: 0.7549\n",
            "Epoch 81/100\n",
            "484/484 [==============================] - 7s 14ms/step - loss: 1.3931 - accuracy: 0.7555\n",
            "Epoch 82/100\n",
            "484/484 [==============================] - 7s 14ms/step - loss: 1.3730 - accuracy: 0.7617\n",
            "Epoch 83/100\n",
            "484/484 [==============================] - 7s 14ms/step - loss: 1.3506 - accuracy: 0.7644\n",
            "Epoch 84/100\n",
            "484/484 [==============================] - 7s 14ms/step - loss: 1.3315 - accuracy: 0.7664\n",
            "Epoch 85/100\n",
            "484/484 [==============================] - 7s 14ms/step - loss: 1.3276 - accuracy: 0.7706\n",
            "Epoch 86/100\n",
            "484/484 [==============================] - 7s 14ms/step - loss: 1.3121 - accuracy: 0.7696\n",
            "Epoch 87/100\n",
            "484/484 [==============================] - 7s 14ms/step - loss: 1.3069 - accuracy: 0.7700\n",
            "Epoch 88/100\n",
            "484/484 [==============================] - 7s 14ms/step - loss: 1.2723 - accuracy: 0.7809\n",
            "Epoch 89/100\n",
            "484/484 [==============================] - 7s 14ms/step - loss: 1.2851 - accuracy: 0.7776\n",
            "Epoch 90/100\n",
            "484/484 [==============================] - 7s 14ms/step - loss: 1.2602 - accuracy: 0.7810\n",
            "Epoch 91/100\n",
            "484/484 [==============================] - 7s 14ms/step - loss: 1.2429 - accuracy: 0.7822\n",
            "Epoch 92/100\n",
            "484/484 [==============================] - 7s 14ms/step - loss: 1.2338 - accuracy: 0.7863\n",
            "Epoch 93/100\n",
            "484/484 [==============================] - 7s 14ms/step - loss: 1.2136 - accuracy: 0.7919\n",
            "Epoch 94/100\n",
            "484/484 [==============================] - 7s 14ms/step - loss: 1.2229 - accuracy: 0.7867\n",
            "Epoch 95/100\n",
            "484/484 [==============================] - 7s 14ms/step - loss: 1.2121 - accuracy: 0.7880\n",
            "Epoch 96/100\n",
            "484/484 [==============================] - 7s 14ms/step - loss: 1.1961 - accuracy: 0.7906\n",
            "Epoch 97/100\n",
            "484/484 [==============================] - 7s 15ms/step - loss: 1.1806 - accuracy: 0.7936\n",
            "Epoch 98/100\n",
            "484/484 [==============================] - 7s 14ms/step - loss: 1.1695 - accuracy: 0.7967\n",
            "Epoch 99/100\n",
            "484/484 [==============================] - 7s 14ms/step - loss: 1.1535 - accuracy: 0.7991\n",
            "Epoch 100/100\n",
            "484/484 [==============================] - 7s 14ms/step - loss: 1.1613 - accuracy: 0.7965\n"
          ],
          "name": "stdout"
        }
      ]
    },
    {
      "cell_type": "code",
      "metadata": {
        "colab": {
          "base_uri": "https://localhost:8080/",
          "height": 545
        },
        "id": "_vXXf8eMG1Ma",
        "outputId": "3c829a7e-564e-4ee9-bd39-67ebe38e2855"
      },
      "source": [
        "acc = history.history['accuracy']\n",
        "loss = history.history['loss']\n",
        "\n",
        "epochs = range(len(acc))\n",
        "\n",
        "plt.plot(epochs, acc, 'b', label='Training accuracy')\n",
        "plt.title('Training accuracy')\n",
        "\n",
        "plt.figure()\n",
        "\n",
        "plt.plot(epochs, loss, 'b', label='Training Loss')\n",
        "plt.title('Training loss')\n",
        "plt.legend()\n",
        "\n",
        "plt.show()"
      ],
      "execution_count": 13,
      "outputs": [
        {
          "output_type": "display_data",
          "data": {
            "image/png": "[encoded data removed]",
            "text/plain": [
              "<Figure size 432x288 with 1 Axes>"
            ]
          },
          "metadata": {
            "tags": [],
            "needs_background": "light"
          }
        },
        {
          "output_type": "display_data",
          "data": {
            "image/png": "[encoded data removed]",
            "text/plain": [
              "<Figure size 432x288 with 1 Axes>"
            ]
          },
          "metadata": {
            "tags": [],
            "needs_background": "light"
          }
        }
      ]
    },
    {
      "cell_type": "code",
      "metadata": {
        "colab": {
          "base_uri": "https://localhost:8080/"
        },
        "id": "Zre02B00G1TH",
        "outputId": "8b71636a-96cd-40aa-d50e-2af4c02fb60e"
      },
      "source": [
        "seed_text = \"Help me Obi Wan Kenobi, you're my only hope\"\n",
        "next_words = 100\n",
        "  \n",
        "for _ in range(next_words):\n",
        "\ttoken_list = tokenizer.texts_to_sequences([seed_text])[0]\n",
        "\ttoken_list = pad_sequences([token_list], maxlen=max_sequence_len-1, padding='pre')\n",
        "\tpredicted = model.predict_classes(token_list, verbose=0)\n",
        "\toutput_word = \"\"\n",
        "\tfor word, index in tokenizer.word_index.items():\n",
        "\t\tif index == predicted:\n",
        "\t\t\toutput_word = word\n",
        "\t\t\tbreak\n",
        "\tseed_text += \" \" + output_word\n",
        "print(seed_text)"
      ],
      "execution_count": 14,
      "outputs": [
        {
          "output_type": "stream",
          "text": [
            "/usr/local/lib/python3.7/dist-packages/tensorflow/python/keras/engine/sequential.py:455: UserWarning: `model.predict_classes()` is deprecated and will be removed after 2021-01-01. Please use instead:* `np.argmax(model.predict(x), axis=-1)`,   if your model does multi-class classification   (e.g. if it uses a `softmax` last-layer activation).* `(model.predict(x) > 0.5).astype(\"int32\")`,   if your model does binary classification   (e.g. if it uses a `sigmoid` last-layer activation).\n",
            "  warnings.warn('`model.predict_classes()` is deprecated and '\n"
          ],
          "name": "stderr"
        },
        {
          "output_type": "stream",
          "text": [
            "Help me Obi Wan Kenobi, you're my only hope hath live the shore age ' affords clearer light decease burn hate young hate days ' shows me behold you live now be true hell hath cure thee me releasing define free hate mother hate young of thee shown groan ' still still behold what past hate end thine bright inhearse aside torn hate seen must live another ' hate skill life ' alone hate so shown twain rehearse ' blushing grow rent turn'd doom ' defaced did find away me keep it contains lived by me behold these sing lies so buried bright 'will new shows from her book\n"
          ],
          "name": "stdout"
        }
      ]
    }
  ]
}