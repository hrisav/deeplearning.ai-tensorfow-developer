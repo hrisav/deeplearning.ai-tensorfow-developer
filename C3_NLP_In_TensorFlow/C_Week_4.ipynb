{
  "nbformat": 4,
  "nbformat_minor": 0,
  "metadata": {
    "colab": {
      "name": "C_Week_4.ipynb",
      "provenance": [],
      "collapsed_sections": [],
      "toc_visible": true
    },
    "kernelspec": {
      "name": "python3",
      "display_name": "Python 3"
    },
    "language_info": {
      "name": "python"
    },
    "accelerator": "GPU"
  },
  "cells": [
    {
      "cell_type": "markdown",
      "metadata": {
        "id": "9OTfHWbzl8Xn"
      },
      "source": [
        "### Sequence models with Poem"
      ]
    },
    {
      "cell_type": "code",
      "metadata": {
        "id": "1q0rf2R-_SmD"
      },
      "source": [
        "import matplotlib.pyplot as plt\n",
        "import random\n",
        "import pandas as pd\n",
        "import numpy as np\n",
        "import csv\n",
        "import json"
      ],
      "execution_count": 1,
      "outputs": []
    },
    {
      "cell_type": "code",
      "metadata": {
        "id": "3ALNu-rCw678"
      },
      "source": [
        "import tensorflow as tf\n",
        "from tensorflow.keras.preprocessing.text import Tokenizer\n",
        "from tensorflow.keras.preprocessing.sequence import pad_sequences\n",
        "from tensorflow.keras.models import Sequential\n",
        "from tensorflow.keras import layers\n",
        "from tensorflow.keras import regularizers\n",
        "from tensorflow.keras.callbacks import EarlyStopping, ReduceLROnPlateau, ModelCheckpoint"
      ],
      "execution_count": 2,
      "outputs": []
    },
    {
      "cell_type": "code",
      "metadata": {
        "id": "ycp2Uh7UEIfF"
      },
      "source": [
        "data = '''In the town of Athy one Jeremy Lanigan\\n\n",
        "Battered away til he hadnt a pound.\\n\n",
        "His father died and made him a man again\\n\n",
        "Left him a farm and ten acres of ground.\\n\n",
        "He gave a grand party for friends and relations\\n\n",
        "Who didnt forget him when come to the wall,\\n\n",
        "And if youll but listen Ill make your eyes glisten\\n\n",
        "Of the rows and the ructions of Lanigans Ball.\\n\n",
        "Myself to be sure got free invitation,\\n\n",
        "For all the nice girls and boys I might ask,\\n\n",
        "And just in a minute both friends and relations\\n\n",
        "Were dancing round merry as bees round a cask.\\n\n",
        "Judy ODaly, that nice little milliner,\\n\n",
        "She tipped me a wink for to give her a call,\\n\n",
        "And I soon arrived with Peggy McGilligan\\n\n",
        "Just in time for Lanigans Ball.\\n\n",
        "There were lashings of punch and wine for the ladies,\\n\n",
        "Potatoes and cakes; there was bacon and tea,\\n\n",
        "There were the Nolans, Dolans, OGradys\\n\n",
        "Courting the girls and dancing away.\\n\n",
        "Songs they went round as plenty as water,\\n\n",
        "The harp that once sounded in Taras old hall,\\n\n",
        "Sweet Nelly Gray and The Rat Catchers Daughter,\\n\n",
        "All singing together at Lanigans Ball.\\n\n",
        "They were doing all kinds of nonsensical polkas\\n\n",
        "All round the room in a whirligig.\\n\n",
        "Julia and I, we banished their nonsense\\n\n",
        "And tipped them the twist of a reel and a jig.\\n\n",
        "Ach mavrone, how the girls got all mad at me\\n\n",
        "Danced til youd think the ceiling would fall.\\n\n",
        "For I spent three weeks at Brooks Academy\\n\n",
        "Learning new steps for Lanigans Ball.\\n\n",
        "Three long weeks I spent up in Dublin,\\n\n",
        "Three long weeks to learn nothing at all,\\n\n",
        "Three long weeks I spent up in Dublin,\\n\n",
        "Learning new steps for Lanigans Ball.\\n\n",
        "She stepped out and I stepped in again,\\n\n",
        "I stepped out and she stepped in again,\\n\n",
        "She stepped out and I stepped in again,\\n\n",
        "Learning new steps for Lanigans Ball.\\n\n",
        "Boys were all merry and the girls they were hearty\\n\n",
        "And danced all around in couples and groups,\\n\n",
        "Til an accident happened, young Terrance McCarthy\\n\n",
        "Put his right leg through miss Finnertys hoops.\\n\n",
        "Poor creature fainted and cried Meelia murther,\\n\n",
        "Called for her brothers and gathered them all.\\n\n",
        "Carmody swore that hed go no further\\n\n",
        "Til he had satisfaction at Lanigans Ball.\\n\n",
        "In the midst of the row miss Kerrigan fainted,\\n\n",
        "Her cheeks at the same time as red as a rose.\\n\n",
        "Some of the lads declared she was painted,\\n\n",
        "She took a small drop too much, I suppose.\\n\n",
        "Her sweetheart, Ned Morgan, so powerful and able,\\n\n",
        "When he saw his fair colleen stretched out by the wall,\\n\n",
        "Tore the left leg from under the table\\n\n",
        "And smashed all the Chaneys at Lanigans Ball.\\n\n",
        "Boys, oh boys, twas then there were runctions.\\n\n",
        "Myself got a lick from big Phelim McHugh.\\n\n",
        "I soon replied to his introduction\\n\n",
        "And kicked up a terrible hullabaloo.\\n\n",
        "Old Casey, the piper, was near being strangled.\\n\n",
        "They squeezed up his pipes, bellows, chanters and all.\\n\n",
        "The girls, in their ribbons, they got all entangled\\n\n",
        "And that put an end to Lanigans Ball.'''"
      ],
      "execution_count": null,
      "outputs": []
    },
    {
      "cell_type": "code",
      "metadata": {
        "id": "uner9JoMFfCp"
      },
      "source": [
        "corpus = data.lower().split(\"\\n\")                   # making lower and sentences"
      ],
      "execution_count": null,
      "outputs": []
    },
    {
      "cell_type": "code",
      "metadata": {
        "colab": {
          "base_uri": "https://localhost:8080/"
        },
        "id": "xEP-n48hGhxU",
        "outputId": "2ede3bb7-6f99-4524-fe23-1d5f4b41cb70"
      },
      "source": [
        "corpus[:5]"
      ],
      "execution_count": null,
      "outputs": [
        {
          "output_type": "execute_result",
          "data": {
            "text/plain": [
              "['in the town of athy one jeremy lanigan',\n",
              " '',\n",
              " 'battered away til he hadnt a pound.',\n",
              " '',\n",
              " 'his father died and made him a man again']"
            ]
          },
          "metadata": {},
          "execution_count": 5
        }
      ]
    },
    {
      "cell_type": "code",
      "metadata": {
        "id": "083x3xffHxtJ"
      },
      "source": [
        "corpus = [line for line in corpus if len(line)>0]"
      ],
      "execution_count": null,
      "outputs": []
    },
    {
      "cell_type": "code",
      "metadata": {
        "colab": {
          "base_uri": "https://localhost:8080/"
        },
        "id": "MDROgR8HIKfc",
        "outputId": "70c92cce-37cf-436f-810b-900957c07d0d"
      },
      "source": [
        "corpus[:5]"
      ],
      "execution_count": null,
      "outputs": [
        {
          "output_type": "execute_result",
          "data": {
            "text/plain": [
              "['in the town of athy one jeremy lanigan',\n",
              " 'battered away til he hadnt a pound.',\n",
              " 'his father died and made him a man again',\n",
              " 'left him a farm and ten acres of ground.',\n",
              " 'he gave a grand party for friends and relations']"
            ]
          },
          "metadata": {},
          "execution_count": 7
        }
      ]
    },
    {
      "cell_type": "code",
      "metadata": {
        "colab": {
          "base_uri": "https://localhost:8080/"
        },
        "id": "5Xn-kizEL304",
        "outputId": "70f9b2a1-c550-448b-8b1b-b4fc251ea35e"
      },
      "source": [
        "len(corpus)                                         # 64 lines"
      ],
      "execution_count": null,
      "outputs": [
        {
          "output_type": "execute_result",
          "data": {
            "text/plain": [
              "64"
            ]
          },
          "metadata": {},
          "execution_count": 8
        }
      ]
    },
    {
      "cell_type": "code",
      "metadata": {
        "id": "6N_EIDb24Q7u"
      },
      "source": [
        "PADDING_TYPE = 'pre'\n",
        "OOV_TOKEN = '<OOV>'"
      ],
      "execution_count": null,
      "outputs": []
    },
    {
      "cell_type": "code",
      "metadata": {
        "id": "H3PF_4iLhCVt"
      },
      "source": [
        "tokenizer = Tokenizer(oov_token=OOV_TOKEN)\n",
        "tokenizer.fit_on_texts(corpus)\n",
        "word_index = tokenizer.word_index"
      ],
      "execution_count": null,
      "outputs": []
    },
    {
      "cell_type": "code",
      "metadata": {
        "colab": {
          "base_uri": "https://localhost:8080/"
        },
        "id": "hNWSxVgIJQUl",
        "outputId": "e195397c-ef8d-4c85-8e32-d4b1b86afaaf"
      },
      "source": [
        "# just checking out word_index\n",
        "\n",
        "d = tokenizer.word_index                            # tokenizer.word_index is a dictionary of all words with indices\n",
        "l = {'daughter', 'listen'}\n",
        "\n",
        "{key:d[key] for key in l if key in d}               # just viewing some of the keys"
      ],
      "execution_count": null,
      "outputs": [
        {
          "output_type": "execute_result",
          "data": {
            "text/plain": [
              "{'daughter': 148, 'listen': 93}"
            ]
          },
          "metadata": {},
          "execution_count": 14
        }
      ]
    },
    {
      "cell_type": "code",
      "metadata": {
        "id": "jVDMtTBe5yDB"
      },
      "source": [
        "# making n grams\n",
        "\n",
        "input_sequences = []\n",
        "\n",
        "for line in corpus:\n",
        "    token_list = tokenizer.texts_to_sequences([line])[0]          # generate index for each word in sentence\n",
        "    for i in range(1, len(token_list)):                         \n",
        "          n_gram_sequence = token_list[:i+1]                      # create sequences for each line            \n",
        "          input_sequences.append(n_gram_sequence)                 # eg - (3,10,23,5) => (3,10),(3,10,23),(3,10,23,5)"
      ],
      "execution_count": null,
      "outputs": []
    },
    {
      "cell_type": "code",
      "metadata": {
        "colab": {
          "base_uri": "https://localhost:8080/"
        },
        "id": "niBNbJbEzRBV",
        "outputId": "f51c8d9b-f139-4f2f-bb50-6feda1789492"
      },
      "source": [
        "input_sequences[:13]"
      ],
      "execution_count": null,
      "outputs": [
        {
          "output_type": "execute_result",
          "data": {
            "text/plain": [
              "[[5, 3],\n",
              " [5, 3, 67],\n",
              " [5, 3, 67, 9],\n",
              " [5, 3, 67, 9, 68],\n",
              " [5, 3, 67, 9, 68, 69],\n",
              " [5, 3, 67, 9, 68, 69, 70],\n",
              " [5, 3, 67, 9, 68, 69, 70, 71],\n",
              " [72, 41],\n",
              " [72, 41, 21],\n",
              " [72, 41, 21, 22],\n",
              " [72, 41, 21, 22, 73],\n",
              " [72, 41, 21, 22, 73, 4],\n",
              " [72, 41, 21, 22, 73, 4, 74]]"
            ]
          },
          "metadata": {},
          "execution_count": 16
        }
      ]
    },
    {
      "cell_type": "code",
      "metadata": {
        "id": "zq2bE_eK7DC9"
      },
      "source": [
        "VOCAB_SIZE = len(word_index) + 1                        # total words or vocab size = total tokens + 1 for OOV\n",
        "EMBED_DIM = 64                                          # randomly embedding to 64 dimensions\n",
        "MAX_LEN = max([len(x) for x in input_sequences])        # finding longest sentence, let if highest length is 4 and then pre pad all sequences"
      ],
      "execution_count": null,
      "outputs": []
    },
    {
      "cell_type": "code",
      "metadata": {
        "colab": {
          "base_uri": "https://localhost:8080/"
        },
        "id": "oDLluaAs8SOk",
        "outputId": "8a481ea0-9af3-4a5d-e344-adca6081568f"
      },
      "source": [
        "print(VOCAB_SIZE)\n",
        "print(EMBED_DIM)\n",
        "print(MAX_LEN)"
      ],
      "execution_count": null,
      "outputs": [
        {
          "output_type": "stream",
          "name": "stdout",
          "text": [
            "264\n",
            "64\n",
            "11\n"
          ]
        }
      ]
    },
    {
      "cell_type": "code",
      "metadata": {
        "id": "Frl2-ski98dm"
      },
      "source": [
        "# pad sequences \n",
        "\n",
        "input_sequences = pad_sequences(input_sequences, maxlen=MAX_LEN, padding=PADDING_TYPE)                  # (0,0,3,10),(0,3,10,23),(3,10,23,5)\n",
        "input_sequences = np.array(input_sequences)"
      ],
      "execution_count": null,
      "outputs": []
    },
    {
      "cell_type": "code",
      "metadata": {
        "colab": {
          "base_uri": "https://localhost:8080/"
        },
        "id": "qytH4n9iz8gw",
        "outputId": "9584f6fe-8afd-4be9-8971-209039da6bf6"
      },
      "source": [
        "input_sequences[:13]"
      ],
      "execution_count": null,
      "outputs": [
        {
          "output_type": "execute_result",
          "data": {
            "text/plain": [
              "array([[ 0,  0,  0,  0,  0,  0,  0,  0,  0,  5,  3],\n",
              "       [ 0,  0,  0,  0,  0,  0,  0,  0,  5,  3, 67],\n",
              "       [ 0,  0,  0,  0,  0,  0,  0,  5,  3, 67,  9],\n",
              "       [ 0,  0,  0,  0,  0,  0,  5,  3, 67,  9, 68],\n",
              "       [ 0,  0,  0,  0,  0,  5,  3, 67,  9, 68, 69],\n",
              "       [ 0,  0,  0,  0,  5,  3, 67,  9, 68, 69, 70],\n",
              "       [ 0,  0,  0,  5,  3, 67,  9, 68, 69, 70, 71],\n",
              "       [ 0,  0,  0,  0,  0,  0,  0,  0,  0, 72, 41],\n",
              "       [ 0,  0,  0,  0,  0,  0,  0,  0, 72, 41, 21],\n",
              "       [ 0,  0,  0,  0,  0,  0,  0, 72, 41, 21, 22],\n",
              "       [ 0,  0,  0,  0,  0,  0, 72, 41, 21, 22, 73],\n",
              "       [ 0,  0,  0,  0,  0, 72, 41, 21, 22, 73,  4],\n",
              "       [ 0,  0,  0,  0, 72, 41, 21, 22, 73,  4, 74]], dtype=int32)"
            ]
          },
          "metadata": {},
          "execution_count": 23
        }
      ]
    },
    {
      "cell_type": "code",
      "metadata": {
        "colab": {
          "base_uri": "https://localhost:8080/"
        },
        "id": "0i2uovI_Nw6u",
        "outputId": "1e24d0ec-0d54-41b8-c4f2-d58f754e8375"
      },
      "source": [
        "len(input_sequences[0])"
      ],
      "execution_count": null,
      "outputs": [
        {
          "output_type": "execute_result",
          "data": {
            "text/plain": [
              "11"
            ]
          },
          "metadata": {},
          "execution_count": 24
        }
      ]
    },
    {
      "cell_type": "code",
      "metadata": {
        "id": "WNLjUGxL0FpM"
      },
      "source": [
        "# create predictors and label\n",
        "# predictors will be all but the last word from the padded input sequence\n",
        "# labels will be the last word from the padded input sequence\n",
        "\n",
        "xs, labels = input_sequences[:,:-1], input_sequences[:,-1]       # x = (0,0,3) y = (10), x = (0,3,10) y = (23), x = (3,10,23) y = (5)\n",
        "\n",
        "ys = tf.keras.utils.to_categorical(labels, num_classes=VOCAB_SIZE)     # one hot encoding of labels"
      ],
      "execution_count": null,
      "outputs": []
    },
    {
      "cell_type": "code",
      "metadata": {
        "colab": {
          "base_uri": "https://localhost:8080/"
        },
        "id": "qGZtKFWW0R7y",
        "outputId": "9aa80d09-15b4-4013-9bf4-5ad3c435aa89"
      },
      "source": [
        "xs[:13]"
      ],
      "execution_count": null,
      "outputs": [
        {
          "output_type": "execute_result",
          "data": {
            "text/plain": [
              "array([[ 0,  0,  0,  0,  0,  0,  0,  0,  0,  5],\n",
              "       [ 0,  0,  0,  0,  0,  0,  0,  0,  5,  3],\n",
              "       [ 0,  0,  0,  0,  0,  0,  0,  5,  3, 67],\n",
              "       [ 0,  0,  0,  0,  0,  0,  5,  3, 67,  9],\n",
              "       [ 0,  0,  0,  0,  0,  5,  3, 67,  9, 68],\n",
              "       [ 0,  0,  0,  0,  5,  3, 67,  9, 68, 69],\n",
              "       [ 0,  0,  0,  5,  3, 67,  9, 68, 69, 70],\n",
              "       [ 0,  0,  0,  0,  0,  0,  0,  0,  0, 72],\n",
              "       [ 0,  0,  0,  0,  0,  0,  0,  0, 72, 41],\n",
              "       [ 0,  0,  0,  0,  0,  0,  0, 72, 41, 21],\n",
              "       [ 0,  0,  0,  0,  0,  0, 72, 41, 21, 22],\n",
              "       [ 0,  0,  0,  0,  0, 72, 41, 21, 22, 73],\n",
              "       [ 0,  0,  0,  0, 72, 41, 21, 22, 73,  4]], dtype=int32)"
            ]
          },
          "metadata": {},
          "execution_count": 26
        }
      ]
    },
    {
      "cell_type": "code",
      "metadata": {
        "colab": {
          "base_uri": "https://localhost:8080/"
        },
        "id": "NeK4X6LYN0Bm",
        "outputId": "15f6c247-dcde-4f78-ee9b-f45c26ebab03"
      },
      "source": [
        "len(xs[0])"
      ],
      "execution_count": null,
      "outputs": [
        {
          "output_type": "execute_result",
          "data": {
            "text/plain": [
              "10"
            ]
          },
          "metadata": {},
          "execution_count": 27
        }
      ]
    },
    {
      "cell_type": "code",
      "metadata": {
        "colab": {
          "base_uri": "https://localhost:8080/"
        },
        "id": "9kb3xW7xPi9D",
        "outputId": "036d720b-a4c6-45e3-f084-88cb846a4d94"
      },
      "source": [
        "len(labels)"
      ],
      "execution_count": null,
      "outputs": [
        {
          "output_type": "execute_result",
          "data": {
            "text/plain": [
              "453"
            ]
          },
          "metadata": {},
          "execution_count": 28
        }
      ]
    },
    {
      "cell_type": "code",
      "metadata": {
        "colab": {
          "base_uri": "https://localhost:8080/"
        },
        "id": "nPguOpMWPae8",
        "outputId": "5290ede5-c708-47cd-b9f8-c35026eef82a"
      },
      "source": [
        "len(ys[0])"
      ],
      "execution_count": null,
      "outputs": [
        {
          "output_type": "execute_result",
          "data": {
            "text/plain": [
              "264"
            ]
          },
          "metadata": {},
          "execution_count": 29
        }
      ]
    },
    {
      "cell_type": "code",
      "metadata": {
        "colab": {
          "base_uri": "https://localhost:8080/"
        },
        "id": "wJzSu4Vn0VVd",
        "outputId": "d0e30882-bb70-4314-86c4-d440f5f3ef7b"
      },
      "source": [
        "labels[:13]"
      ],
      "execution_count": null,
      "outputs": [
        {
          "output_type": "execute_result",
          "data": {
            "text/plain": [
              "array([ 3, 67,  9, 68, 69, 70, 71, 41, 21, 22, 73,  4, 74], dtype=int32)"
            ]
          },
          "metadata": {},
          "execution_count": 30
        }
      ]
    },
    {
      "cell_type": "code",
      "metadata": {
        "colab": {
          "base_uri": "https://localhost:8080/"
        },
        "id": "fmWgRK660fv8",
        "outputId": "8acf4869-9ea3-4417-870e-8ed59815ac5e"
      },
      "source": [
        "ys[:13]           # encoded labels"
      ],
      "execution_count": null,
      "outputs": [
        {
          "output_type": "execute_result",
          "data": {
            "text/plain": [
              "array([[0., 0., 0., ..., 0., 0., 0.],\n",
              "       [0., 0., 0., ..., 0., 0., 0.],\n",
              "       [0., 0., 0., ..., 0., 0., 0.],\n",
              "       ...,\n",
              "       [0., 0., 0., ..., 0., 0., 0.],\n",
              "       [0., 0., 0., ..., 0., 0., 0.],\n",
              "       [0., 0., 0., ..., 0., 0., 0.]], dtype=float32)"
            ]
          },
          "metadata": {},
          "execution_count": 31
        }
      ]
    },
    {
      "cell_type": "code",
      "metadata": {
        "colab": {
          "base_uri": "https://localhost:8080/",
          "height": 36
        },
        "id": "GJhsGbx_LgYq",
        "outputId": "396adc82-4b64-4751-9181-bd9bba267832"
      },
      "source": [
        "corpus[0]"
      ],
      "execution_count": null,
      "outputs": [
        {
          "output_type": "execute_result",
          "data": {
            "application/vnd.google.colaboratory.intrinsic+json": {
              "type": "string"
            },
            "text/plain": [
              "'in the town of athy one jeremy lanigan'"
            ]
          },
          "metadata": {},
          "execution_count": 32
        }
      ]
    },
    {
      "cell_type": "code",
      "metadata": {
        "id": "FxQooMEkMgur",
        "colab": {
          "base_uri": "https://localhost:8080/"
        },
        "outputId": "c459e883-261a-4a6e-a33a-863419b3f7b6"
      },
      "source": [
        "# checking indexes of 1st sentence\n",
        "\n",
        "print(tokenizer.word_index['in'])\n",
        "print(tokenizer.word_index['the'])\n",
        "print(tokenizer.word_index['town'])\n",
        "print(tokenizer.word_index['of'])\n",
        "print(tokenizer.word_index['athy'])\n",
        "print(tokenizer.word_index['one'])\n",
        "print(tokenizer.word_index['jeremy'])\n",
        "print(tokenizer.word_index['lanigan'])"
      ],
      "execution_count": null,
      "outputs": [
        {
          "output_type": "stream",
          "name": "stdout",
          "text": [
            "5\n",
            "3\n",
            "67\n",
            "9\n",
            "68\n",
            "69\n",
            "70\n",
            "71\n"
          ]
        }
      ]
    },
    {
      "cell_type": "code",
      "metadata": {
        "id": "QKI5dfPgMioL",
        "colab": {
          "base_uri": "https://localhost:8080/"
        },
        "outputId": "e9331322-3bb6-4282-f72f-0960a8bbe133"
      },
      "source": [
        "print(input_sequences[5])\n",
        "print(labels[5])\n",
        "print()\n",
        "print(xs[5])\n",
        "print(ys[5])"
      ],
      "execution_count": null,
      "outputs": [
        {
          "output_type": "stream",
          "name": "stdout",
          "text": [
            "[ 0  0  0  0  5  3 67  9 68 69 70]\n",
            "70\n",
            "\n",
            "[ 0  0  0  0  5  3 67  9 68 69]\n",
            "[0. 0. 0. 0. 0. 0. 0. 0. 0. 0. 0. 0. 0. 0. 0. 0. 0. 0. 0. 0. 0. 0. 0. 0.\n",
            " 0. 0. 0. 0. 0. 0. 0. 0. 0. 0. 0. 0. 0. 0. 0. 0. 0. 0. 0. 0. 0. 0. 0. 0.\n",
            " 0. 0. 0. 0. 0. 0. 0. 0. 0. 0. 0. 0. 0. 0. 0. 0. 0. 0. 0. 0. 0. 0. 1. 0.\n",
            " 0. 0. 0. 0. 0. 0. 0. 0. 0. 0. 0. 0. 0. 0. 0. 0. 0. 0. 0. 0. 0. 0. 0. 0.\n",
            " 0. 0. 0. 0. 0. 0. 0. 0. 0. 0. 0. 0. 0. 0. 0. 0. 0. 0. 0. 0. 0. 0. 0. 0.\n",
            " 0. 0. 0. 0. 0. 0. 0. 0. 0. 0. 0. 0. 0. 0. 0. 0. 0. 0. 0. 0. 0. 0. 0. 0.\n",
            " 0. 0. 0. 0. 0. 0. 0. 0. 0. 0. 0. 0. 0. 0. 0. 0. 0. 0. 0. 0. 0. 0. 0. 0.\n",
            " 0. 0. 0. 0. 0. 0. 0. 0. 0. 0. 0. 0. 0. 0. 0. 0. 0. 0. 0. 0. 0. 0. 0. 0.\n",
            " 0. 0. 0. 0. 0. 0. 0. 0. 0. 0. 0. 0. 0. 0. 0. 0. 0. 0. 0. 0. 0. 0. 0. 0.\n",
            " 0. 0. 0. 0. 0. 0. 0. 0. 0. 0. 0. 0. 0. 0. 0. 0. 0. 0. 0. 0. 0. 0. 0. 0.\n",
            " 0. 0. 0. 0. 0. 0. 0. 0. 0. 0. 0. 0. 0. 0. 0. 0. 0. 0. 0. 0. 0. 0. 0. 0.]\n"
          ]
        }
      ]
    },
    {
      "cell_type": "code",
      "metadata": {
        "id": "6VTOayXsMght"
      },
      "source": [
        "NUM_CLASSES = VOCAB_SIZE"
      ],
      "execution_count": null,
      "outputs": []
    },
    {
      "cell_type": "code",
      "metadata": {
        "id": "ulGyNL3FMsMf"
      },
      "source": [
        "model = Sequential([\n",
        "    layers.Embedding(input_dim=VOCAB_SIZE, output_dim=EMBED_DIM, input_length=MAX_LEN-1),\n",
        "    layers.Bidirectional(layers.LSTM(32)),\n",
        "    layers.Dense(NUM_CLASSES, activation='softmax')\n",
        "])"
      ],
      "execution_count": null,
      "outputs": []
    },
    {
      "cell_type": "code",
      "metadata": {
        "colab": {
          "base_uri": "https://localhost:8080/"
        },
        "id": "KZeQZKnpPyHm",
        "outputId": "75f33336-92ad-48fa-e679-cd3bf406cfb7"
      },
      "source": [
        "model.summary()"
      ],
      "execution_count": null,
      "outputs": [
        {
          "output_type": "stream",
          "name": "stdout",
          "text": [
            "Model: \"sequential\"\n",
            "_________________________________________________________________\n",
            " Layer (type)                Output Shape              Param #   \n",
            "=================================================================\n",
            " embedding (Embedding)       (None, 10, 64)            16896     \n",
            "                                                                 \n",
            " bidirectional (Bidirectiona  (None, 64)               24832     \n",
            " l)                                                              \n",
            "                                                                 \n",
            " dense (Dense)               (None, 264)               17160     \n",
            "                                                                 \n",
            "=================================================================\n",
            "Total params: 58,888\n",
            "Trainable params: 58,888\n",
            "Non-trainable params: 0\n",
            "_________________________________________________________________\n"
          ]
        }
      ]
    },
    {
      "cell_type": "code",
      "metadata": {
        "id": "lq6dPd7kPz-Q"
      },
      "source": [
        "optimizer   = tf.keras.optimizers.Adam(learning_rate=0.01)\n",
        "loss        = tf.keras.losses.CategoricalCrossentropy()\n",
        "metrics     = ['accuracy']"
      ],
      "execution_count": null,
      "outputs": []
    },
    {
      "cell_type": "code",
      "metadata": {
        "id": "9xMabHAbP_3_"
      },
      "source": [
        "model.compile(optimizer=optimizer,\n",
        "              loss=loss,\n",
        "              metrics=metrics)"
      ],
      "execution_count": null,
      "outputs": []
    },
    {
      "cell_type": "code",
      "metadata": {
        "id": "k1jvsPkgQDAN"
      },
      "source": [
        "early_stopping    = EarlyStopping(monitor='loss', patience=20)\n",
        "reduce_lr         = ReduceLROnPlateau(monitor='loss', patience=15, min_lr=0.0001, mode='min', verbose=1)\n",
        "model_checkpoint  = ModelCheckpoint(monitor='loss', filepath='./best_model.h5', save_best_only=True)"
      ],
      "execution_count": null,
      "outputs": []
    },
    {
      "cell_type": "code",
      "metadata": {
        "id": "DTSjGnYfQGE_"
      },
      "source": [
        "EPOCHS = 100\n",
        "CALLBACKS = [early_stopping, reduce_lr, model_checkpoint]"
      ],
      "execution_count": null,
      "outputs": []
    },
    {
      "cell_type": "code",
      "metadata": {
        "colab": {
          "base_uri": "https://localhost:8080/"
        },
        "id": "wJM574WtQQA2",
        "outputId": "a02996a7-7830-4a8c-ac2a-070c547bf6b5"
      },
      "source": [
        "history = model.fit(xs,\n",
        "                    ys,\n",
        "                    verbose = 1,\n",
        "                    epochs = EPOCHS,\n",
        "                    callbacks = CALLBACKS)"
      ],
      "execution_count": null,
      "outputs": [
        {
          "output_type": "stream",
          "name": "stdout",
          "text": [
            "Epoch 1/100\n",
            "15/15 [==============================] - 9s 13ms/step - loss: 5.5326 - accuracy: 0.0353 - lr: 0.0100\n",
            "Epoch 2/100\n",
            "15/15 [==============================] - 0s 13ms/step - loss: 5.1332 - accuracy: 0.0486 - lr: 0.0100\n",
            "Epoch 3/100\n",
            "15/15 [==============================] - 0s 12ms/step - loss: 4.8505 - accuracy: 0.0552 - lr: 0.0100\n",
            "Epoch 4/100\n",
            "15/15 [==============================] - 0s 13ms/step - loss: 4.5267 - accuracy: 0.0993 - lr: 0.0100\n",
            "Epoch 5/100\n",
            "15/15 [==============================] - 0s 13ms/step - loss: 4.0966 - accuracy: 0.1258 - lr: 0.0100\n",
            "Epoch 6/100\n",
            "15/15 [==============================] - 0s 13ms/step - loss: 3.5363 - accuracy: 0.2340 - lr: 0.0100\n",
            "Epoch 7/100\n",
            "15/15 [==============================] - 0s 13ms/step - loss: 2.9185 - accuracy: 0.3223 - lr: 0.0100\n",
            "Epoch 8/100\n",
            "15/15 [==============================] - 0s 12ms/step - loss: 2.3857 - accuracy: 0.4437 - lr: 0.0100\n",
            "Epoch 9/100\n",
            "15/15 [==============================] - 0s 13ms/step - loss: 1.9025 - accuracy: 0.5364 - lr: 0.0100\n",
            "Epoch 10/100\n",
            "15/15 [==============================] - 0s 12ms/step - loss: 1.5124 - accuracy: 0.6976 - lr: 0.0100\n",
            "Epoch 11/100\n",
            "15/15 [==============================] - 0s 14ms/step - loss: 1.2225 - accuracy: 0.7483 - lr: 0.0100\n",
            "Epoch 12/100\n",
            "15/15 [==============================] - 0s 12ms/step - loss: 0.9838 - accuracy: 0.8035 - lr: 0.0100\n",
            "Epoch 13/100\n",
            "15/15 [==============================] - 0s 13ms/step - loss: 0.7754 - accuracy: 0.8720 - lr: 0.0100\n",
            "Epoch 14/100\n",
            "15/15 [==============================] - 0s 12ms/step - loss: 0.6217 - accuracy: 0.8940 - lr: 0.0100\n",
            "Epoch 15/100\n",
            "15/15 [==============================] - 0s 12ms/step - loss: 0.5155 - accuracy: 0.8985 - lr: 0.0100\n",
            "Epoch 16/100\n",
            "15/15 [==============================] - 0s 12ms/step - loss: 0.4695 - accuracy: 0.9249 - lr: 0.0100\n",
            "Epoch 17/100\n",
            "15/15 [==============================] - 0s 12ms/step - loss: 0.3807 - accuracy: 0.9272 - lr: 0.0100\n",
            "Epoch 18/100\n",
            "15/15 [==============================] - 0s 12ms/step - loss: 0.3189 - accuracy: 0.9316 - lr: 0.0100\n",
            "Epoch 19/100\n",
            "15/15 [==============================] - 0s 12ms/step - loss: 0.2816 - accuracy: 0.9404 - lr: 0.0100\n",
            "Epoch 20/100\n",
            "15/15 [==============================] - 0s 12ms/step - loss: 0.2489 - accuracy: 0.9426 - lr: 0.0100\n",
            "Epoch 21/100\n",
            "15/15 [==============================] - 0s 12ms/step - loss: 0.2379 - accuracy: 0.9360 - lr: 0.0100\n",
            "Epoch 22/100\n",
            "15/15 [==============================] - 0s 12ms/step - loss: 0.2120 - accuracy: 0.9426 - lr: 0.0100\n",
            "Epoch 23/100\n",
            "15/15 [==============================] - 0s 13ms/step - loss: 0.2045 - accuracy: 0.9426 - lr: 0.0100\n",
            "Epoch 24/100\n",
            "15/15 [==============================] - 0s 12ms/step - loss: 0.1880 - accuracy: 0.9382 - lr: 0.0100\n",
            "Epoch 25/100\n",
            "15/15 [==============================] - 0s 13ms/step - loss: 0.1701 - accuracy: 0.9448 - lr: 0.0100\n",
            "Epoch 26/100\n",
            "15/15 [==============================] - 0s 12ms/step - loss: 0.1626 - accuracy: 0.9492 - lr: 0.0100\n",
            "Epoch 27/100\n",
            "15/15 [==============================] - 0s 13ms/step - loss: 0.1598 - accuracy: 0.9470 - lr: 0.0100\n",
            "Epoch 28/100\n",
            "15/15 [==============================] - 0s 13ms/step - loss: 0.1525 - accuracy: 0.9470 - lr: 0.0100\n",
            "Epoch 29/100\n",
            "15/15 [==============================] - 0s 12ms/step - loss: 0.1523 - accuracy: 0.9470 - lr: 0.0100\n",
            "Epoch 30/100\n",
            "15/15 [==============================] - 0s 12ms/step - loss: 0.1504 - accuracy: 0.9382 - lr: 0.0100\n",
            "Epoch 31/100\n",
            "15/15 [==============================] - 0s 12ms/step - loss: 0.1463 - accuracy: 0.9382 - lr: 0.0100\n",
            "Epoch 32/100\n",
            "15/15 [==============================] - 0s 12ms/step - loss: 0.1375 - accuracy: 0.9426 - lr: 0.0100\n",
            "Epoch 33/100\n",
            "15/15 [==============================] - 0s 12ms/step - loss: 0.1331 - accuracy: 0.9448 - lr: 0.0100\n",
            "Epoch 34/100\n",
            "15/15 [==============================] - 0s 12ms/step - loss: 0.1276 - accuracy: 0.9448 - lr: 0.0100\n",
            "Epoch 35/100\n",
            "15/15 [==============================] - 0s 9ms/step - loss: 0.1305 - accuracy: 0.9448 - lr: 0.0100\n",
            "Epoch 36/100\n",
            "15/15 [==============================] - 0s 10ms/step - loss: 0.1415 - accuracy: 0.9426 - lr: 0.0100\n",
            "Epoch 37/100\n",
            "15/15 [==============================] - 0s 10ms/step - loss: 0.1293 - accuracy: 0.9470 - lr: 0.0100\n",
            "Epoch 38/100\n",
            "15/15 [==============================] - 0s 11ms/step - loss: 0.1344 - accuracy: 0.9448 - lr: 0.0100\n",
            "Epoch 39/100\n",
            "15/15 [==============================] - 0s 10ms/step - loss: 0.1301 - accuracy: 0.9514 - lr: 0.0100\n",
            "Epoch 40/100\n",
            "15/15 [==============================] - 0s 10ms/step - loss: 0.1345 - accuracy: 0.9492 - lr: 0.0100\n",
            "Epoch 41/100\n",
            "15/15 [==============================] - 0s 10ms/step - loss: 0.1404 - accuracy: 0.9470 - lr: 0.0100\n",
            "Epoch 42/100\n",
            "15/15 [==============================] - 0s 11ms/step - loss: 0.1326 - accuracy: 0.9470 - lr: 0.0100\n",
            "Epoch 43/100\n",
            "15/15 [==============================] - 0s 13ms/step - loss: 0.1268 - accuracy: 0.9448 - lr: 0.0100\n",
            "Epoch 44/100\n",
            "15/15 [==============================] - 0s 10ms/step - loss: 0.1271 - accuracy: 0.9404 - lr: 0.0100\n",
            "Epoch 45/100\n",
            "15/15 [==============================] - 0s 10ms/step - loss: 0.1294 - accuracy: 0.9426 - lr: 0.0100\n",
            "Epoch 46/100\n",
            "15/15 [==============================] - 0s 11ms/step - loss: 0.1283 - accuracy: 0.9426 - lr: 0.0100\n",
            "Epoch 47/100\n",
            "15/15 [==============================] - 0s 13ms/step - loss: 0.1198 - accuracy: 0.9426 - lr: 0.0100\n",
            "Epoch 48/100\n",
            "15/15 [==============================] - 0s 12ms/step - loss: 0.1234 - accuracy: 0.9382 - lr: 0.0100\n",
            "Epoch 49/100\n",
            "15/15 [==============================] - 0s 13ms/step - loss: 0.1169 - accuracy: 0.9514 - lr: 0.0100\n",
            "Epoch 50/100\n",
            "15/15 [==============================] - 0s 13ms/step - loss: 0.1117 - accuracy: 0.9426 - lr: 0.0100\n",
            "Epoch 51/100\n",
            "15/15 [==============================] - 0s 12ms/step - loss: 0.1088 - accuracy: 0.9448 - lr: 0.0100\n",
            "Epoch 52/100\n",
            "15/15 [==============================] - 0s 10ms/step - loss: 0.1105 - accuracy: 0.9426 - lr: 0.0100\n",
            "Epoch 53/100\n",
            "15/15 [==============================] - 0s 12ms/step - loss: 0.1080 - accuracy: 0.9426 - lr: 0.0100\n",
            "Epoch 54/100\n",
            "15/15 [==============================] - 0s 10ms/step - loss: 0.1088 - accuracy: 0.9470 - lr: 0.0100\n",
            "Epoch 55/100\n",
            "15/15 [==============================] - 0s 10ms/step - loss: 0.1278 - accuracy: 0.9448 - lr: 0.0100\n",
            "Epoch 56/100\n",
            "15/15 [==============================] - 0s 11ms/step - loss: 0.1229 - accuracy: 0.9426 - lr: 0.0100\n",
            "Epoch 57/100\n",
            "15/15 [==============================] - 0s 10ms/step - loss: 0.1134 - accuracy: 0.9382 - lr: 0.0100\n",
            "Epoch 58/100\n",
            "15/15 [==============================] - 0s 12ms/step - loss: 0.1060 - accuracy: 0.9360 - lr: 0.0100\n",
            "Epoch 59/100\n",
            "15/15 [==============================] - 0s 10ms/step - loss: 0.1083 - accuracy: 0.9470 - lr: 0.0100\n",
            "Epoch 60/100\n",
            "15/15 [==============================] - 0s 12ms/step - loss: 0.1033 - accuracy: 0.9448 - lr: 0.0100\n",
            "Epoch 61/100\n",
            "15/15 [==============================] - 0s 10ms/step - loss: 0.1069 - accuracy: 0.9360 - lr: 0.0100\n",
            "Epoch 62/100\n",
            "15/15 [==============================] - 0s 10ms/step - loss: 0.1060 - accuracy: 0.9426 - lr: 0.0100\n",
            "Epoch 63/100\n",
            "15/15 [==============================] - 0s 9ms/step - loss: 0.1068 - accuracy: 0.9426 - lr: 0.0100\n",
            "Epoch 64/100\n",
            "15/15 [==============================] - 0s 11ms/step - loss: 0.1063 - accuracy: 0.9448 - lr: 0.0100\n",
            "Epoch 65/100\n",
            "15/15 [==============================] - 0s 10ms/step - loss: 0.1103 - accuracy: 0.9404 - lr: 0.0100\n",
            "Epoch 66/100\n",
            "15/15 [==============================] - 0s 10ms/step - loss: 0.1087 - accuracy: 0.9426 - lr: 0.0100\n",
            "Epoch 67/100\n",
            "15/15 [==============================] - 0s 10ms/step - loss: 0.1079 - accuracy: 0.9404 - lr: 0.0100\n",
            "Epoch 68/100\n",
            "15/15 [==============================] - 0s 10ms/step - loss: 0.1211 - accuracy: 0.9470 - lr: 0.0100\n",
            "Epoch 69/100\n",
            "15/15 [==============================] - 0s 10ms/step - loss: 0.1216 - accuracy: 0.9360 - lr: 0.0100\n",
            "Epoch 70/100\n",
            "15/15 [==============================] - 0s 10ms/step - loss: 0.1147 - accuracy: 0.9448 - lr: 0.0100\n",
            "Epoch 71/100\n",
            "15/15 [==============================] - 0s 10ms/step - loss: 0.1153 - accuracy: 0.9426 - lr: 0.0100\n",
            "Epoch 72/100\n",
            "15/15 [==============================] - 0s 10ms/step - loss: 0.1200 - accuracy: 0.9404 - lr: 0.0100\n",
            "Epoch 73/100\n",
            "15/15 [==============================] - 0s 9ms/step - loss: 0.1231 - accuracy: 0.9382 - lr: 0.0100\n",
            "Epoch 74/100\n",
            "15/15 [==============================] - 0s 10ms/step - loss: 0.1132 - accuracy: 0.9470 - lr: 0.0100\n",
            "Epoch 75/100\n",
            "12/15 [=======================>......] - ETA: 0s - loss: 0.1082 - accuracy: 0.9427\n",
            "Epoch 00075: ReduceLROnPlateau reducing learning rate to 0.0009999999776482583.\n",
            "15/15 [==============================] - 0s 10ms/step - loss: 0.1062 - accuracy: 0.9426 - lr: 0.0100\n",
            "Epoch 76/100\n",
            "15/15 [==============================] - 0s 12ms/step - loss: 0.0932 - accuracy: 0.9536 - lr: 1.0000e-03\n",
            "Epoch 77/100\n",
            "15/15 [==============================] - 0s 11ms/step - loss: 0.0934 - accuracy: 0.9514 - lr: 1.0000e-03\n",
            "Epoch 78/100\n",
            "15/15 [==============================] - 0s 12ms/step - loss: 0.0929 - accuracy: 0.9536 - lr: 1.0000e-03\n",
            "Epoch 79/100\n",
            "15/15 [==============================] - 0s 10ms/step - loss: 0.0931 - accuracy: 0.9514 - lr: 1.0000e-03\n",
            "Epoch 80/100\n",
            "15/15 [==============================] - 0s 10ms/step - loss: 0.0933 - accuracy: 0.9492 - lr: 1.0000e-03\n",
            "Epoch 81/100\n",
            "15/15 [==============================] - 0s 13ms/step - loss: 0.0926 - accuracy: 0.9536 - lr: 1.0000e-03\n",
            "Epoch 82/100\n",
            "15/15 [==============================] - 0s 10ms/step - loss: 0.0935 - accuracy: 0.9514 - lr: 1.0000e-03\n",
            "Epoch 83/100\n",
            "15/15 [==============================] - 0s 10ms/step - loss: 0.0931 - accuracy: 0.9514 - lr: 1.0000e-03\n",
            "Epoch 84/100\n",
            "15/15 [==============================] - 0s 12ms/step - loss: 0.0932 - accuracy: 0.9514 - lr: 1.0000e-03\n",
            "Epoch 85/100\n",
            "15/15 [==============================] - 0s 13ms/step - loss: 0.0925 - accuracy: 0.9492 - lr: 1.0000e-03\n",
            "Epoch 86/100\n",
            "15/15 [==============================] - 0s 12ms/step - loss: 0.0925 - accuracy: 0.9492 - lr: 1.0000e-03\n",
            "Epoch 87/100\n",
            "15/15 [==============================] - 0s 12ms/step - loss: 0.0925 - accuracy: 0.9536 - lr: 1.0000e-03\n",
            "Epoch 88/100\n",
            "15/15 [==============================] - 0s 12ms/step - loss: 0.0922 - accuracy: 0.9514 - lr: 1.0000e-03\n",
            "Epoch 89/100\n",
            "15/15 [==============================] - 0s 11ms/step - loss: 0.0925 - accuracy: 0.9492 - lr: 1.0000e-03\n",
            "Epoch 90/100\n",
            "15/15 [==============================] - 0s 10ms/step - loss: 0.0924 - accuracy: 0.9492 - lr: 1.0000e-03\n",
            "Epoch 91/100\n",
            "15/15 [==============================] - 0s 12ms/step - loss: 0.0922 - accuracy: 0.9514 - lr: 1.0000e-03\n",
            "Epoch 92/100\n",
            "15/15 [==============================] - 0s 12ms/step - loss: 0.0920 - accuracy: 0.9470 - lr: 1.0000e-03\n",
            "Epoch 93/100\n",
            "15/15 [==============================] - 0s 12ms/step - loss: 0.0919 - accuracy: 0.9448 - lr: 1.0000e-03\n",
            "Epoch 94/100\n",
            "15/15 [==============================] - 0s 12ms/step - loss: 0.0918 - accuracy: 0.9514 - lr: 1.0000e-03\n",
            "Epoch 95/100\n",
            "15/15 [==============================] - 0s 13ms/step - loss: 0.0916 - accuracy: 0.9514 - lr: 1.0000e-03\n",
            "Epoch 96/100\n",
            "15/15 [==============================] - 0s 13ms/step - loss: 0.0915 - accuracy: 0.9514 - lr: 1.0000e-03\n",
            "Epoch 97/100\n",
            "15/15 [==============================] - 0s 10ms/step - loss: 0.0916 - accuracy: 0.9470 - lr: 1.0000e-03\n",
            "Epoch 98/100\n",
            "15/15 [==============================] - 0s 10ms/step - loss: 0.0916 - accuracy: 0.9492 - lr: 1.0000e-03\n",
            "Epoch 99/100\n",
            "15/15 [==============================] - 0s 11ms/step - loss: 0.0915 - accuracy: 0.9448 - lr: 1.0000e-03\n",
            "Epoch 100/100\n",
            "15/15 [==============================] - 0s 12ms/step - loss: 0.0912 - accuracy: 0.9492 - lr: 1.0000e-03\n"
          ]
        }
      ]
    },
    {
      "cell_type": "code",
      "metadata": {
        "id": "Mp1Z7P9pYRSK"
      },
      "source": [
        "def plot_graphs(history, string):\n",
        "  plt.plot(history.history[string])\n",
        "  plt.xlabel(\"Epochs\")\n",
        "  plt.ylabel(string)\n",
        "  plt.show()"
      ],
      "execution_count": null,
      "outputs": []
    },
    {
      "cell_type": "code",
      "metadata": {
        "id": "R_sX6ilIM515",
        "colab": {
          "base_uri": "https://localhost:8080/",
          "height": 279
        },
        "outputId": "e7c65206-b60d-4d72-a94d-7c79c48a96c8"
      },
      "source": [
        "plot_graphs(history, 'accuracy')"
      ],
      "execution_count": null,
      "outputs": [
        {
          "output_type": "display_data",
          "data": {
            "image/png": "[encoded data removed]",
            "text/plain": [
              "<Figure size 432x288 with 1 Axes>"
            ]
          },
          "metadata": {
            "needs_background": "light"
          }
        }
      ]
    },
    {
      "cell_type": "code",
      "metadata": {
        "id": "RFEXtKtqNARB",
        "colab": {
          "base_uri": "https://localhost:8080/",
          "height": 279
        },
        "outputId": "e961648e-231e-4dae-c494-ae215f3a3221"
      },
      "source": [
        "plot_graphs(history, 'loss')"
      ],
      "execution_count": null,
      "outputs": [
        {
          "output_type": "display_data",
          "data": {
            "image/png": "[encoded data removed]",
            "text/plain": [
              "<Figure size 432x288 with 1 Axes>"
            ]
          },
          "metadata": {
            "needs_background": "light"
          }
        }
      ]
    },
    {
      "cell_type": "code",
      "metadata": {
        "colab": {
          "base_uri": "https://localhost:8080/"
        },
        "id": "MqeghwIhRgmY",
        "outputId": "334be346-3107-45d5-bcc2-71ffbba1bf69"
      },
      "source": [
        "seed_text = \"Laurence went to dublin\"\n",
        "next_words = 50                        # predicting next 50 words\n",
        "\n",
        "for _ in range(next_words):\n",
        "    token_list = tokenizer.texts_to_sequences([seed_text])[0]\n",
        "    token_list = pad_sequences([token_list], maxlen=MAX_LEN-1, padding=PADDING_TYPE)\n",
        "    predicted = np.argmax(model.predict(token_list), axis=-1)          # will give the index of the word most likely to be the next word in sequence\n",
        "    output_word = \"\"\n",
        "    for word, index in tokenizer.word_index.items():                  # checking the actual words mapped against the word index\n",
        "        if index == predicted:\n",
        "          output_word = word\n",
        "          break\n",
        "    seed_text += \" \" + output_word\n",
        "print(seed_text)"
      ],
      "execution_count": null,
      "outputs": [
        {
          "output_type": "stream",
          "name": "stdout",
          "text": [
            "Laurence went to dublin sure got colleen invitation invitation wall wall invitation his phelim mchugh your stretched ball entangled wall wall wall got lanigan old fainted lanigan tea ground entangled a jig jig jig to ground ground entangled wall wall the jig rose hearty wall was near being strangled your glisten your glisten glisten\n"
          ]
        }
      ]
    },
    {
      "cell_type": "markdown",
      "metadata": {
        "id": "WUZwVtGYCUEu"
      },
      "source": [
        "## Bigger corpus"
      ]
    },
    {
      "cell_type": "code",
      "metadata": {
        "colab": {
          "base_uri": "https://localhost:8080/"
        },
        "id": "NHexVscBCYTV",
        "outputId": "1ced4c8e-f074-4604-d554-958c9010d40e"
      },
      "source": [
        "!wget --no-check-certificate \\\n",
        "    https://storage.googleapis.com/laurencemoroney-blog.appspot.com/irish-lyrics-eof.txt \\\n",
        "    -O /content/irish-lyrics-eof.txt"
      ],
      "execution_count": 3,
      "outputs": [
        {
          "output_type": "stream",
          "name": "stdout",
          "text": [
            "--2021-11-16 06:29:26--  https://storage.googleapis.com/laurencemoroney-blog.appspot.com/irish-lyrics-eof.txt\n",
            "Resolving storage.googleapis.com (storage.googleapis.com)... 74.125.202.128, 74.125.69.128, 64.233.182.128, ...\n",
            "Connecting to storage.googleapis.com (storage.googleapis.com)|74.125.202.128|:443... connected.\n",
            "HTTP request sent, awaiting response... 200 OK\n",
            "Length: 68970 (67K) [text/plain]\n",
            "Saving to: ‘/content/irish-lyrics-eof.txt’\n",
            "\n",
            "\r          /content/   0%[                    ]       0  --.-KB/s               \r/content/irish-lyri 100%[===================>]  67.35K  --.-KB/s    in 0.001s  \n",
            "\n",
            "2021-11-16 06:29:26 (54.8 MB/s) - ‘/content/irish-lyrics-eof.txt’ saved [68970/68970]\n",
            "\n"
          ]
        }
      ]
    },
    {
      "cell_type": "code",
      "metadata": {
        "id": "HzgLnlxpTaOo"
      },
      "source": [
        "data = open('/content/irish-lyrics-eof.txt').read()"
      ],
      "execution_count": 4,
      "outputs": []
    },
    {
      "cell_type": "code",
      "metadata": {
        "colab": {
          "base_uri": "https://localhost:8080/",
          "height": 35
        },
        "id": "H1ffCmeVTclp",
        "outputId": "24762b3b-e705-4ac4-f5b5-16a74a98e7fe"
      },
      "source": [
        "data[:50]"
      ],
      "execution_count": 5,
      "outputs": [
        {
          "output_type": "execute_result",
          "data": {
            "application/vnd.google.colaboratory.intrinsic+json": {
              "type": "string"
            },
            "text/plain": [
              "'Come all ye maidens young and fair\\nAnd you that ar'"
            ]
          },
          "metadata": {},
          "execution_count": 5
        }
      ]
    },
    {
      "cell_type": "code",
      "metadata": {
        "colab": {
          "base_uri": "https://localhost:8080/"
        },
        "id": "XIfqfMgCTjry",
        "outputId": "a4b00bae-9ee4-478d-ca65-130642939e52"
      },
      "source": [
        "len(data)"
      ],
      "execution_count": 6,
      "outputs": [
        {
          "output_type": "execute_result",
          "data": {
            "text/plain": [
              "68953"
            ]
          },
          "metadata": {},
          "execution_count": 6
        }
      ]
    },
    {
      "cell_type": "code",
      "metadata": {
        "id": "207cHkGqTlLd"
      },
      "source": [
        "corpus = data.lower().split(\"\\n\")"
      ],
      "execution_count": 7,
      "outputs": []
    },
    {
      "cell_type": "code",
      "metadata": {
        "colab": {
          "base_uri": "https://localhost:8080/"
        },
        "id": "-lNv9YnHTq6Z",
        "outputId": "bcb7e82d-d8b6-4500-a474-3cec03186292"
      },
      "source": [
        "corpus[:5]"
      ],
      "execution_count": 8,
      "outputs": [
        {
          "output_type": "execute_result",
          "data": {
            "text/plain": [
              "['come all ye maidens young and fair',\n",
              " 'and you that are blooming in your prime',\n",
              " 'always beware and keep your garden fair',\n",
              " 'let no man steal away your thyme',\n",
              " 'for thyme it is a precious thing']"
            ]
          },
          "metadata": {},
          "execution_count": 8
        }
      ]
    },
    {
      "cell_type": "code",
      "metadata": {
        "colab": {
          "base_uri": "https://localhost:8080/"
        },
        "id": "hBW4gEV9Tozs",
        "outputId": "ab9305e6-72fb-4e52-aa2f-da18377ba897"
      },
      "source": [
        "len(corpus)"
      ],
      "execution_count": 9,
      "outputs": [
        {
          "output_type": "execute_result",
          "data": {
            "text/plain": [
              "1693"
            ]
          },
          "metadata": {},
          "execution_count": 9
        }
      ]
    },
    {
      "cell_type": "code",
      "metadata": {
        "id": "05nKkOM-cEEn"
      },
      "source": [
        "PADDING_TYPE = 'pre'\n",
        "OOV_TOKEN = '<OOV>'"
      ],
      "execution_count": 10,
      "outputs": []
    },
    {
      "cell_type": "code",
      "metadata": {
        "id": "cEw32H_lCa7o"
      },
      "source": [
        "tokenizer = Tokenizer(oov_token=OOV_TOKEN)\n",
        "tokenizer.fit_on_texts(corpus)"
      ],
      "execution_count": 11,
      "outputs": []
    },
    {
      "cell_type": "code",
      "metadata": {
        "colab": {
          "base_uri": "https://localhost:8080/"
        },
        "id": "Bw69RAZ8T7dN",
        "outputId": "15563a2f-67c4-4be7-fc23-2602c55ad323"
      },
      "source": [
        "# just checking out word_index\n",
        "\n",
        "d = tokenizer.word_index                            # tokenizer.word_index is a dictionary of all words with indices\n",
        "l = {'awake', 'playing'}\n",
        "\n",
        "{key:d[key] for key in l if key in d}               # just viewing some of the keys"
      ],
      "execution_count": 12,
      "outputs": [
        {
          "output_type": "execute_result",
          "data": {
            "text/plain": [
              "{'awake': 944, 'playing': 971}"
            ]
          },
          "metadata": {},
          "execution_count": 12
        }
      ]
    },
    {
      "cell_type": "code",
      "metadata": {
        "id": "OkXDjQd9UWU0"
      },
      "source": [
        "# making n grams\n",
        "\n",
        "input_sequences = []\n",
        "\n",
        "for line in corpus:\n",
        "    token_list = tokenizer.texts_to_sequences([line])[0]          # generate index for each word in sentence\n",
        "    for i in range(1, len(token_list)):                         \n",
        "          n_gram_sequence = token_list[:i+1]                      # create sequences for each line            \n",
        "          input_sequences.append(n_gram_sequence)                 # eg - (3,10,23,5) => (3,10),(3,10,23),(3,10,23,5)"
      ],
      "execution_count": 13,
      "outputs": []
    },
    {
      "cell_type": "code",
      "metadata": {
        "colab": {
          "base_uri": "https://localhost:8080/"
        },
        "id": "QYcX7giyUhwS",
        "outputId": "f191e5c2-4a13-4312-e169-bc7a2d163ee5"
      },
      "source": [
        "input_sequences[:13]"
      ],
      "execution_count": 14,
      "outputs": [
        {
          "output_type": "execute_result",
          "data": {
            "text/plain": [
              "[[52, 13],\n",
              " [52, 13, 97],\n",
              " [52, 13, 97, 1218],\n",
              " [52, 13, 97, 1218, 49],\n",
              " [52, 13, 97, 1218, 49, 3],\n",
              " [52, 13, 97, 1218, 49, 3, 70],\n",
              " [3, 12],\n",
              " [3, 12, 16],\n",
              " [3, 12, 16, 32],\n",
              " [3, 12, 16, 32, 362],\n",
              " [3, 12, 16, 32, 362, 9],\n",
              " [3, 12, 16, 32, 362, 9, 25],\n",
              " [3, 12, 16, 32, 362, 9, 25, 1219]]"
            ]
          },
          "metadata": {},
          "execution_count": 14
        }
      ]
    },
    {
      "cell_type": "code",
      "metadata": {
        "id": "FASiMZlDcsd6"
      },
      "source": [
        "VOCAB_SIZE = len(tokenizer.word_index) + 1                # total words or vocab size = total tokens + 1 for OOV\n",
        "EMBED_DIM = 100                                           # randomly embedding to 100 dimensions\n",
        "MAX_LEN = max([len(x) for x in input_sequences])          # finding longest sentence, let if highest length is 4 and then pre pad all sequences"
      ],
      "execution_count": 16,
      "outputs": []
    },
    {
      "cell_type": "code",
      "metadata": {
        "colab": {
          "base_uri": "https://localhost:8080/"
        },
        "id": "VKaf724WcaKf",
        "outputId": "d763fc67-1f8c-45a9-9653-6a7e21d19e7f"
      },
      "source": [
        "print(VOCAB_SIZE)\n",
        "print(EMBED_DIM)\n",
        "print(MAX_LEN)"
      ],
      "execution_count": 17,
      "outputs": [
        {
          "output_type": "stream",
          "name": "stdout",
          "text": [
            "2691\n",
            "100\n",
            "16\n"
          ]
        }
      ]
    },
    {
      "cell_type": "code",
      "metadata": {
        "id": "-OfsJ0z2dIqq"
      },
      "source": [
        "# pad sequences \n",
        "\n",
        "input_sequences = pad_sequences(input_sequences, maxlen=MAX_LEN, padding=PADDING_TYPE)                  # (0,0,3,10),(0,3,10,23),(3,10,23,5)\n",
        "input_sequences = np.array(input_sequences)"
      ],
      "execution_count": 18,
      "outputs": []
    },
    {
      "cell_type": "code",
      "metadata": {
        "colab": {
          "base_uri": "https://localhost:8080/"
        },
        "id": "XxVaYLTFUhwV",
        "outputId": "4a4ee0a2-822b-4822-ed16-3051eab8d276"
      },
      "source": [
        "input_sequences[:10]"
      ],
      "execution_count": 19,
      "outputs": [
        {
          "output_type": "execute_result",
          "data": {
            "text/plain": [
              "array([[   0,    0,    0,    0,    0,    0,    0,    0,    0,    0,    0,\n",
              "           0,    0,    0,   52,   13],\n",
              "       [   0,    0,    0,    0,    0,    0,    0,    0,    0,    0,    0,\n",
              "           0,    0,   52,   13,   97],\n",
              "       [   0,    0,    0,    0,    0,    0,    0,    0,    0,    0,    0,\n",
              "           0,   52,   13,   97, 1218],\n",
              "       [   0,    0,    0,    0,    0,    0,    0,    0,    0,    0,    0,\n",
              "          52,   13,   97, 1218,   49],\n",
              "       [   0,    0,    0,    0,    0,    0,    0,    0,    0,    0,   52,\n",
              "          13,   97, 1218,   49,    3],\n",
              "       [   0,    0,    0,    0,    0,    0,    0,    0,    0,   52,   13,\n",
              "          97, 1218,   49,    3,   70],\n",
              "       [   0,    0,    0,    0,    0,    0,    0,    0,    0,    0,    0,\n",
              "           0,    0,    0,    3,   12],\n",
              "       [   0,    0,    0,    0,    0,    0,    0,    0,    0,    0,    0,\n",
              "           0,    0,    3,   12,   16],\n",
              "       [   0,    0,    0,    0,    0,    0,    0,    0,    0,    0,    0,\n",
              "           0,    3,   12,   16,   32],\n",
              "       [   0,    0,    0,    0,    0,    0,    0,    0,    0,    0,    0,\n",
              "           3,   12,   16,   32,  362]], dtype=int32)"
            ]
          },
          "metadata": {},
          "execution_count": 19
        }
      ]
    },
    {
      "cell_type": "code",
      "metadata": {
        "colab": {
          "base_uri": "https://localhost:8080/"
        },
        "id": "tFdB8fBWUhwW",
        "outputId": "87bbecb1-a3aa-4888-ba0c-8cb131a1ccbb"
      },
      "source": [
        "len(input_sequences[0])"
      ],
      "execution_count": 20,
      "outputs": [
        {
          "output_type": "execute_result",
          "data": {
            "text/plain": [
              "16"
            ]
          },
          "metadata": {},
          "execution_count": 20
        }
      ]
    },
    {
      "cell_type": "code",
      "metadata": {
        "id": "d1KS9exVUhwW"
      },
      "source": [
        "# create predictors and label\n",
        "# predictors will be all but the last word from the padded input sequence\n",
        "# labels will be the last word from the padded input sequence\n",
        "\n",
        "xs, labels = input_sequences[:,:-1], input_sequences[:,-1]       # x = (0,0,3) y = (10), x = (0,3,10) y = (23), x = (3,10,23) y = (5)\n",
        "\n",
        "ys = tf.keras.utils.to_categorical(labels, num_classes=VOCAB_SIZE)     # one hot encoding of labels"
      ],
      "execution_count": 21,
      "outputs": []
    },
    {
      "cell_type": "code",
      "metadata": {
        "colab": {
          "base_uri": "https://localhost:8080/"
        },
        "id": "NbA4EQRMdiVo",
        "outputId": "227cf474-1119-4099-c7a1-23ac35ab635a"
      },
      "source": [
        "len(xs[0])"
      ],
      "execution_count": 22,
      "outputs": [
        {
          "output_type": "execute_result",
          "data": {
            "text/plain": [
              "15"
            ]
          },
          "metadata": {},
          "execution_count": 22
        }
      ]
    },
    {
      "cell_type": "code",
      "metadata": {
        "colab": {
          "base_uri": "https://localhost:8080/"
        },
        "id": "TuJFfe-Gdi3a",
        "outputId": "81426020-666a-42d0-b506-85014edbf784"
      },
      "source": [
        "len(labels)"
      ],
      "execution_count": 23,
      "outputs": [
        {
          "output_type": "execute_result",
          "data": {
            "text/plain": [
              "12038"
            ]
          },
          "metadata": {},
          "execution_count": 23
        }
      ]
    },
    {
      "cell_type": "code",
      "metadata": {
        "colab": {
          "base_uri": "https://localhost:8080/"
        },
        "id": "aBKvxqvwdkeC",
        "outputId": "1fd11aad-f16d-45f1-e287-378c4b8ec8ae"
      },
      "source": [
        "len(ys[0])"
      ],
      "execution_count": 24,
      "outputs": [
        {
          "output_type": "execute_result",
          "data": {
            "text/plain": [
              "2691"
            ]
          },
          "metadata": {},
          "execution_count": 24
        }
      ]
    },
    {
      "cell_type": "code",
      "metadata": {
        "colab": {
          "base_uri": "https://localhost:8080/"
        },
        "id": "VaI8qmgtdlwO",
        "outputId": "47c45d23-1158-495f-8639-90df73626c16"
      },
      "source": [
        "labels[:13]"
      ],
      "execution_count": 25,
      "outputs": [
        {
          "output_type": "execute_result",
          "data": {
            "text/plain": [
              "array([  13,   97, 1218,   49,    3,   70,   12,   16,   32,  362,    9,\n",
              "         25, 1219], dtype=int32)"
            ]
          },
          "metadata": {},
          "execution_count": 25
        }
      ]
    },
    {
      "cell_type": "code",
      "metadata": {
        "colab": {
          "base_uri": "https://localhost:8080/"
        },
        "id": "wiVST3G0docB",
        "outputId": "2fa95cc3-a90a-4eee-d09a-0eeb86438e07"
      },
      "source": [
        "ys[:13]           # encoded labels"
      ],
      "execution_count": 26,
      "outputs": [
        {
          "output_type": "execute_result",
          "data": {
            "text/plain": [
              "array([[0., 0., 0., ..., 0., 0., 0.],\n",
              "       [0., 0., 0., ..., 0., 0., 0.],\n",
              "       [0., 0., 0., ..., 0., 0., 0.],\n",
              "       ...,\n",
              "       [0., 0., 0., ..., 0., 0., 0.],\n",
              "       [0., 0., 0., ..., 0., 0., 0.],\n",
              "       [0., 0., 0., ..., 0., 0., 0.]], dtype=float32)"
            ]
          },
          "metadata": {},
          "execution_count": 26
        }
      ]
    },
    {
      "cell_type": "code",
      "metadata": {
        "colab": {
          "base_uri": "https://localhost:8080/",
          "height": 35
        },
        "id": "Dz6xSuxXdrhY",
        "outputId": "ee2326d5-8ec7-461f-e907-a0d2df75f915"
      },
      "source": [
        "corpus[0]"
      ],
      "execution_count": 27,
      "outputs": [
        {
          "output_type": "execute_result",
          "data": {
            "application/vnd.google.colaboratory.intrinsic+json": {
              "type": "string"
            },
            "text/plain": [
              "'come all ye maidens young and fair'"
            ]
          },
          "metadata": {},
          "execution_count": 27
        }
      ]
    },
    {
      "cell_type": "code",
      "metadata": {
        "colab": {
          "base_uri": "https://localhost:8080/"
        },
        "id": "pyaifE6FdvSl",
        "outputId": "f7012920-94b1-43f8-e2e8-8b13aa4974b6"
      },
      "source": [
        "# checking indexes of 1st sentence\n",
        "\n",
        "print(tokenizer.word_index['come'])\n",
        "print(tokenizer.word_index['all'])\n",
        "print(tokenizer.word_index['ye'])\n",
        "print(tokenizer.word_index['maidens'])\n",
        "print(tokenizer.word_index['young'])\n",
        "print(tokenizer.word_index['and'])\n",
        "print(tokenizer.word_index['fair'])"
      ],
      "execution_count": 28,
      "outputs": [
        {
          "output_type": "stream",
          "name": "stdout",
          "text": [
            "52\n",
            "13\n",
            "97\n",
            "1218\n",
            "49\n",
            "3\n",
            "70\n"
          ]
        }
      ]
    },
    {
      "cell_type": "code",
      "metadata": {
        "colab": {
          "base_uri": "https://localhost:8080/"
        },
        "id": "QJbpbPksUiQz",
        "outputId": "8f3c647d-36f5-4c3a-83d2-a41e23b10d13"
      },
      "source": [
        "print(input_sequences[5])\n",
        "print(labels[5])\n",
        "print()\n",
        "print(xs[5])\n",
        "print(ys[5])"
      ],
      "execution_count": 29,
      "outputs": [
        {
          "output_type": "stream",
          "name": "stdout",
          "text": [
            "[   0    0    0    0    0    0    0    0    0   52   13   97 1218   49\n",
            "    3   70]\n",
            "70\n",
            "\n",
            "[   0    0    0    0    0    0    0    0    0   52   13   97 1218   49\n",
            "    3]\n",
            "[0. 0. 0. ... 0. 0. 0.]\n"
          ]
        }
      ]
    },
    {
      "cell_type": "code",
      "metadata": {
        "id": "QCrIuwxtVCrM"
      },
      "source": [
        "NUM_CLASSES = VOCAB_SIZE"
      ],
      "execution_count": 30,
      "outputs": []
    },
    {
      "cell_type": "code",
      "metadata": {
        "id": "LocDfoEBeAJv"
      },
      "source": [
        "model = Sequential([\n",
        "    layers.Embedding(input_dim=VOCAB_SIZE, output_dim=EMBED_DIM, input_length=MAX_LEN-1),\n",
        "    layers.Bidirectional(layers.LSTM(150)),\n",
        "    layers.Dense(NUM_CLASSES, activation='softmax')\n",
        "])"
      ],
      "execution_count": 32,
      "outputs": []
    },
    {
      "cell_type": "code",
      "metadata": {
        "colab": {
          "base_uri": "https://localhost:8080/"
        },
        "id": "dhpm4kHeVCrO",
        "outputId": "54a40d13-85e1-4efc-a7b7-e2352b16aae7"
      },
      "source": [
        "model.summary()"
      ],
      "execution_count": 33,
      "outputs": [
        {
          "output_type": "stream",
          "name": "stdout",
          "text": [
            "Model: \"sequential_1\"\n",
            "_________________________________________________________________\n",
            " Layer (type)                Output Shape              Param #   \n",
            "=================================================================\n",
            " embedding_1 (Embedding)     (None, 15, 100)           269100    \n",
            "                                                                 \n",
            " bidirectional_1 (Bidirectio  (None, 300)              301200    \n",
            " nal)                                                            \n",
            "                                                                 \n",
            " dense_1 (Dense)             (None, 2691)              809991    \n",
            "                                                                 \n",
            "=================================================================\n",
            "Total params: 1,380,291\n",
            "Trainable params: 1,380,291\n",
            "Non-trainable params: 0\n",
            "_________________________________________________________________\n"
          ]
        }
      ]
    },
    {
      "cell_type": "code",
      "metadata": {
        "id": "WPQbtOURVCrP"
      },
      "source": [
        "optimizer   = tf.keras.optimizers.Adam(learning_rate=0.01)\n",
        "loss        = tf.keras.losses.CategoricalCrossentropy()\n",
        "metrics     = ['accuracy']"
      ],
      "execution_count": 34,
      "outputs": []
    },
    {
      "cell_type": "code",
      "metadata": {
        "id": "KFVqj_-vVCrP"
      },
      "source": [
        "model.compile(optimizer=optimizer,\n",
        "              loss=loss,\n",
        "              metrics=metrics)"
      ],
      "execution_count": 35,
      "outputs": []
    },
    {
      "cell_type": "code",
      "metadata": {
        "id": "EPrXcMH3VCrQ"
      },
      "source": [
        "early_stopping    = EarlyStopping(monitor='loss', patience=20)\n",
        "reduce_lr         = ReduceLROnPlateau(monitor='loss', patience=15, min_lr=0.0001, mode='min', verbose=1)\n",
        "model_checkpoint  = ModelCheckpoint(monitor='loss', filepath='./best_model.h5', save_best_only=True)"
      ],
      "execution_count": 36,
      "outputs": []
    },
    {
      "cell_type": "code",
      "metadata": {
        "id": "94sQcCOlVCrQ"
      },
      "source": [
        "EPOCHS = 100\n",
        "CALLBACKS = [early_stopping, reduce_lr, model_checkpoint]"
      ],
      "execution_count": 38,
      "outputs": []
    },
    {
      "cell_type": "code",
      "metadata": {
        "colab": {
          "base_uri": "https://localhost:8080/"
        },
        "id": "ajxLgo5_VCrR",
        "outputId": "90bed7eb-a25b-468f-cf7f-697f30751276"
      },
      "source": [
        "history = model.fit(xs,\n",
        "                    ys,\n",
        "                    verbose = 1,\n",
        "                    epochs = EPOCHS,\n",
        "                    callbacks = CALLBACKS)"
      ],
      "execution_count": 39,
      "outputs": [
        {
          "output_type": "stream",
          "name": "stdout",
          "text": [
            "Epoch 1/100\n",
            "377/377 [==============================] - 15s 19ms/step - loss: 6.6282 - accuracy: 0.0773 - lr: 0.0100\n",
            "Epoch 2/100\n",
            "377/377 [==============================] - 7s 18ms/step - loss: 5.7433 - accuracy: 0.1132 - lr: 0.0100\n",
            "Epoch 3/100\n",
            "377/377 [==============================] - 7s 18ms/step - loss: 5.1666 - accuracy: 0.1488 - lr: 0.0100\n",
            "Epoch 4/100\n",
            "377/377 [==============================] - 7s 18ms/step - loss: 4.0551 - accuracy: 0.2270 - lr: 0.0100\n",
            "Epoch 5/100\n",
            "377/377 [==============================] - 7s 18ms/step - loss: 3.1537 - accuracy: 0.3280 - lr: 0.0100\n",
            "Epoch 6/100\n",
            "377/377 [==============================] - 7s 18ms/step - loss: 2.5059 - accuracy: 0.4388 - lr: 0.0100\n",
            "Epoch 7/100\n",
            "377/377 [==============================] - 7s 19ms/step - loss: 2.0360 - accuracy: 0.5279 - lr: 0.0100\n",
            "Epoch 8/100\n",
            "377/377 [==============================] - 7s 18ms/step - loss: 1.6753 - accuracy: 0.6005 - lr: 0.0100\n",
            "Epoch 9/100\n",
            "377/377 [==============================] - 7s 18ms/step - loss: 1.4054 - accuracy: 0.6625 - lr: 0.0100\n",
            "Epoch 10/100\n",
            "377/377 [==============================] - 7s 18ms/step - loss: 1.2020 - accuracy: 0.7078 - lr: 0.0100\n",
            "Epoch 11/100\n",
            "377/377 [==============================] - 7s 18ms/step - loss: 1.0801 - accuracy: 0.7357 - lr: 0.0100\n",
            "Epoch 12/100\n",
            "377/377 [==============================] - 7s 18ms/step - loss: 1.0361 - accuracy: 0.7438 - lr: 0.0100\n",
            "Epoch 13/100\n",
            "377/377 [==============================] - 7s 18ms/step - loss: 1.0434 - accuracy: 0.7358 - lr: 0.0100\n",
            "Epoch 14/100\n",
            "377/377 [==============================] - 7s 18ms/step - loss: 1.0830 - accuracy: 0.7265 - lr: 0.0100\n",
            "Epoch 15/100\n",
            "377/377 [==============================] - 7s 18ms/step - loss: 1.1281 - accuracy: 0.7112 - lr: 0.0100\n",
            "Epoch 16/100\n",
            "377/377 [==============================] - 7s 18ms/step - loss: 1.0946 - accuracy: 0.7160 - lr: 0.0100\n",
            "Epoch 17/100\n",
            "377/377 [==============================] - 7s 18ms/step - loss: 1.0642 - accuracy: 0.7245 - lr: 0.0100\n",
            "Epoch 18/100\n",
            "377/377 [==============================] - 7s 18ms/step - loss: 0.9732 - accuracy: 0.7473 - lr: 0.0100\n",
            "Epoch 19/100\n",
            "377/377 [==============================] - 7s 18ms/step - loss: 0.9232 - accuracy: 0.7626 - lr: 0.0100\n",
            "Epoch 20/100\n",
            "377/377 [==============================] - 7s 18ms/step - loss: 0.8790 - accuracy: 0.7738 - lr: 0.0100\n",
            "Epoch 21/100\n",
            "377/377 [==============================] - 7s 18ms/step - loss: 0.9438 - accuracy: 0.7600 - lr: 0.0100\n",
            "Epoch 22/100\n",
            "377/377 [==============================] - 7s 18ms/step - loss: 0.9757 - accuracy: 0.7456 - lr: 0.0100\n",
            "Epoch 23/100\n",
            "377/377 [==============================] - 7s 18ms/step - loss: 0.9965 - accuracy: 0.7369 - lr: 0.0100\n",
            "Epoch 24/100\n",
            "377/377 [==============================] - 7s 18ms/step - loss: 1.0402 - accuracy: 0.7258 - lr: 0.0100\n",
            "Epoch 25/100\n",
            "377/377 [==============================] - 7s 18ms/step - loss: 0.9612 - accuracy: 0.7480 - lr: 0.0100\n",
            "Epoch 26/100\n",
            "377/377 [==============================] - 7s 18ms/step - loss: 0.9117 - accuracy: 0.7587 - lr: 0.0100\n",
            "Epoch 27/100\n",
            "377/377 [==============================] - 7s 18ms/step - loss: 0.8627 - accuracy: 0.7717 - lr: 0.0100\n",
            "Epoch 28/100\n",
            "377/377 [==============================] - 7s 18ms/step - loss: 0.8954 - accuracy: 0.7603 - lr: 0.0100\n",
            "Epoch 29/100\n",
            "377/377 [==============================] - 7s 18ms/step - loss: 0.9340 - accuracy: 0.7544 - lr: 0.0100\n",
            "Epoch 30/100\n",
            "377/377 [==============================] - 7s 18ms/step - loss: 0.9982 - accuracy: 0.7396 - lr: 0.0100\n",
            "Epoch 31/100\n",
            "377/377 [==============================] - 7s 18ms/step - loss: 1.0268 - accuracy: 0.7296 - lr: 0.0100\n",
            "Epoch 32/100\n",
            "377/377 [==============================] - 7s 18ms/step - loss: 1.0060 - accuracy: 0.7330 - lr: 0.0100\n",
            "Epoch 33/100\n",
            "377/377 [==============================] - 7s 18ms/step - loss: 0.9337 - accuracy: 0.7503 - lr: 0.0100\n",
            "Epoch 34/100\n",
            "377/377 [==============================] - 7s 18ms/step - loss: 0.8842 - accuracy: 0.7615 - lr: 0.0100\n",
            "Epoch 35/100\n",
            "377/377 [==============================] - 7s 18ms/step - loss: 0.8186 - accuracy: 0.7809 - lr: 0.0100\n",
            "Epoch 36/100\n",
            "377/377 [==============================] - 7s 18ms/step - loss: 0.7711 - accuracy: 0.7954 - lr: 0.0100\n",
            "Epoch 37/100\n",
            "377/377 [==============================] - 7s 18ms/step - loss: 0.7693 - accuracy: 0.7925 - lr: 0.0100\n",
            "Epoch 38/100\n",
            "377/377 [==============================] - 7s 18ms/step - loss: 0.7978 - accuracy: 0.7843 - lr: 0.0100\n",
            "Epoch 39/100\n",
            "377/377 [==============================] - 7s 18ms/step - loss: 0.8193 - accuracy: 0.7800 - lr: 0.0100\n",
            "Epoch 40/100\n",
            "377/377 [==============================] - 7s 18ms/step - loss: 0.9345 - accuracy: 0.7469 - lr: 0.0100\n",
            "Epoch 41/100\n",
            "377/377 [==============================] - 7s 18ms/step - loss: 0.9856 - accuracy: 0.7378 - lr: 0.0100\n",
            "Epoch 42/100\n",
            "377/377 [==============================] - 7s 18ms/step - loss: 1.0003 - accuracy: 0.7331 - lr: 0.0100\n",
            "Epoch 43/100\n",
            "377/377 [==============================] - 7s 18ms/step - loss: 0.9608 - accuracy: 0.7423 - lr: 0.0100\n",
            "Epoch 44/100\n",
            "377/377 [==============================] - 7s 18ms/step - loss: 0.8891 - accuracy: 0.7647 - lr: 0.0100\n",
            "Epoch 45/100\n",
            "377/377 [==============================] - 7s 18ms/step - loss: 0.8941 - accuracy: 0.7607 - lr: 0.0100\n",
            "Epoch 46/100\n",
            "377/377 [==============================] - 7s 18ms/step - loss: 0.8624 - accuracy: 0.7664 - lr: 0.0100\n",
            "Epoch 47/100\n",
            "377/377 [==============================] - 7s 18ms/step - loss: 0.8276 - accuracy: 0.7766 - lr: 0.0100\n",
            "Epoch 48/100\n",
            "377/377 [==============================] - 7s 18ms/step - loss: 0.8066 - accuracy: 0.7859 - lr: 0.0100\n",
            "Epoch 49/100\n",
            "377/377 [==============================] - 7s 18ms/step - loss: 0.8504 - accuracy: 0.7685 - lr: 0.0100\n",
            "Epoch 50/100\n",
            "377/377 [==============================] - 7s 18ms/step - loss: 0.8840 - accuracy: 0.7639 - lr: 0.0100\n",
            "Epoch 51/100\n",
            "377/377 [==============================] - 7s 18ms/step - loss: 0.9270 - accuracy: 0.7505 - lr: 0.0100\n",
            "Epoch 52/100\n",
            "374/377 [============================>.] - ETA: 0s - loss: 0.9076 - accuracy: 0.7615\n",
            "Epoch 00052: ReduceLROnPlateau reducing learning rate to 0.0009999999776482583.\n",
            "377/377 [==============================] - 7s 18ms/step - loss: 0.9075 - accuracy: 0.7613 - lr: 0.0100\n",
            "Epoch 53/100\n",
            "377/377 [==============================] - 7s 18ms/step - loss: 0.6416 - accuracy: 0.8212 - lr: 1.0000e-03\n",
            "Epoch 54/100\n",
            "377/377 [==============================] - 7s 18ms/step - loss: 0.5311 - accuracy: 0.8559 - lr: 1.0000e-03\n",
            "Epoch 55/100\n",
            "377/377 [==============================] - 7s 18ms/step - loss: 0.4990 - accuracy: 0.8609 - lr: 1.0000e-03\n",
            "Epoch 56/100\n",
            "377/377 [==============================] - 7s 18ms/step - loss: 0.4813 - accuracy: 0.8608 - lr: 1.0000e-03\n",
            "Epoch 57/100\n",
            "377/377 [==============================] - 7s 18ms/step - loss: 0.4702 - accuracy: 0.8627 - lr: 1.0000e-03\n",
            "Epoch 58/100\n",
            "377/377 [==============================] - 7s 18ms/step - loss: 0.4623 - accuracy: 0.8623 - lr: 1.0000e-03\n",
            "Epoch 59/100\n",
            "377/377 [==============================] - 7s 18ms/step - loss: 0.4570 - accuracy: 0.8613 - lr: 1.0000e-03\n",
            "Epoch 60/100\n",
            "377/377 [==============================] - 7s 18ms/step - loss: 0.4525 - accuracy: 0.8604 - lr: 1.0000e-03\n",
            "Epoch 61/100\n",
            "377/377 [==============================] - 7s 18ms/step - loss: 0.4486 - accuracy: 0.8594 - lr: 1.0000e-03\n",
            "Epoch 62/100\n",
            "377/377 [==============================] - 7s 18ms/step - loss: 0.4456 - accuracy: 0.8604 - lr: 1.0000e-03\n",
            "Epoch 63/100\n",
            "377/377 [==============================] - 7s 18ms/step - loss: 0.4438 - accuracy: 0.8600 - lr: 1.0000e-03\n",
            "Epoch 64/100\n",
            "377/377 [==============================] - 7s 18ms/step - loss: 0.4405 - accuracy: 0.8605 - lr: 1.0000e-03\n",
            "Epoch 65/100\n",
            "377/377 [==============================] - 7s 18ms/step - loss: 0.4381 - accuracy: 0.8594 - lr: 1.0000e-03\n",
            "Epoch 66/100\n",
            "377/377 [==============================] - 7s 18ms/step - loss: 0.4364 - accuracy: 0.8608 - lr: 1.0000e-03\n",
            "Epoch 67/100\n",
            "377/377 [==============================] - 7s 18ms/step - loss: 0.4346 - accuracy: 0.8594 - lr: 1.0000e-03\n",
            "Epoch 68/100\n",
            "377/377 [==============================] - 7s 18ms/step - loss: 0.4328 - accuracy: 0.8604 - lr: 1.0000e-03\n",
            "Epoch 69/100\n",
            "377/377 [==============================] - 7s 18ms/step - loss: 0.4314 - accuracy: 0.8594 - lr: 1.0000e-03\n",
            "Epoch 70/100\n",
            "377/377 [==============================] - 7s 18ms/step - loss: 0.4300 - accuracy: 0.8603 - lr: 1.0000e-03\n",
            "Epoch 71/100\n",
            "377/377 [==============================] - 7s 18ms/step - loss: 0.4288 - accuracy: 0.8603 - lr: 1.0000e-03\n",
            "Epoch 72/100\n",
            "377/377 [==============================] - 7s 18ms/step - loss: 0.4274 - accuracy: 0.8592 - lr: 1.0000e-03\n",
            "Epoch 73/100\n",
            "377/377 [==============================] - 7s 18ms/step - loss: 0.4263 - accuracy: 0.8613 - lr: 1.0000e-03\n",
            "Epoch 74/100\n",
            "377/377 [==============================] - 7s 18ms/step - loss: 0.4250 - accuracy: 0.8598 - lr: 1.0000e-03\n",
            "Epoch 75/100\n",
            "377/377 [==============================] - 7s 18ms/step - loss: 0.4245 - accuracy: 0.8598 - lr: 1.0000e-03\n",
            "Epoch 76/100\n",
            "377/377 [==============================] - 7s 18ms/step - loss: 0.4236 - accuracy: 0.8589 - lr: 1.0000e-03\n",
            "Epoch 77/100\n",
            "377/377 [==============================] - 7s 18ms/step - loss: 0.4227 - accuracy: 0.8605 - lr: 1.0000e-03\n",
            "Epoch 78/100\n",
            "377/377 [==============================] - 7s 18ms/step - loss: 0.4214 - accuracy: 0.8597 - lr: 1.0000e-03\n",
            "Epoch 79/100\n",
            "377/377 [==============================] - 7s 18ms/step - loss: 0.4208 - accuracy: 0.8594 - lr: 1.0000e-03\n",
            "Epoch 80/100\n",
            "377/377 [==============================] - 7s 18ms/step - loss: 0.4202 - accuracy: 0.8593 - lr: 1.0000e-03\n",
            "Epoch 81/100\n",
            "377/377 [==============================] - 7s 18ms/step - loss: 0.4198 - accuracy: 0.8593 - lr: 1.0000e-03\n",
            "Epoch 82/100\n",
            "377/377 [==============================] - 7s 18ms/step - loss: 0.4188 - accuracy: 0.8592 - lr: 1.0000e-03\n",
            "Epoch 83/100\n",
            "377/377 [==============================] - 7s 18ms/step - loss: 0.4185 - accuracy: 0.8596 - lr: 1.0000e-03\n",
            "Epoch 84/100\n",
            "377/377 [==============================] - 7s 18ms/step - loss: 0.4180 - accuracy: 0.8600 - lr: 1.0000e-03\n",
            "Epoch 85/100\n",
            "377/377 [==============================] - 7s 18ms/step - loss: 0.4172 - accuracy: 0.8602 - lr: 1.0000e-03\n",
            "Epoch 86/100\n",
            "377/377 [==============================] - 7s 18ms/step - loss: 0.4168 - accuracy: 0.8597 - lr: 1.0000e-03\n",
            "Epoch 87/100\n",
            "377/377 [==============================] - 7s 18ms/step - loss: 0.4164 - accuracy: 0.8600 - lr: 1.0000e-03\n",
            "Epoch 88/100\n",
            "377/377 [==============================] - 7s 18ms/step - loss: 0.4164 - accuracy: 0.8604 - lr: 1.0000e-03\n",
            "Epoch 89/100\n",
            "377/377 [==============================] - 7s 18ms/step - loss: 0.4156 - accuracy: 0.8603 - lr: 1.0000e-03\n",
            "Epoch 90/100\n",
            "377/377 [==============================] - 7s 18ms/step - loss: 0.4152 - accuracy: 0.8598 - lr: 1.0000e-03\n",
            "Epoch 91/100\n",
            "377/377 [==============================] - 7s 18ms/step - loss: 0.4150 - accuracy: 0.8602 - lr: 1.0000e-03\n",
            "Epoch 92/100\n",
            "377/377 [==============================] - 7s 18ms/step - loss: 0.4146 - accuracy: 0.8604 - lr: 1.0000e-03\n",
            "Epoch 93/100\n",
            "377/377 [==============================] - 7s 18ms/step - loss: 0.4145 - accuracy: 0.8610 - lr: 1.0000e-03\n",
            "Epoch 94/100\n",
            "377/377 [==============================] - 7s 18ms/step - loss: 0.4141 - accuracy: 0.8589 - lr: 1.0000e-03\n",
            "Epoch 95/100\n",
            "377/377 [==============================] - 7s 19ms/step - loss: 0.4144 - accuracy: 0.8594 - lr: 1.0000e-03\n",
            "Epoch 96/100\n",
            "377/377 [==============================] - 7s 19ms/step - loss: 0.4142 - accuracy: 0.8599 - lr: 1.0000e-03\n",
            "Epoch 97/100\n",
            "377/377 [==============================] - 7s 18ms/step - loss: 0.4136 - accuracy: 0.8597 - lr: 1.0000e-03\n",
            "Epoch 98/100\n",
            "377/377 [==============================] - 7s 19ms/step - loss: 0.4135 - accuracy: 0.8601 - lr: 1.0000e-03\n",
            "Epoch 99/100\n",
            "377/377 [==============================] - 7s 18ms/step - loss: 0.4135 - accuracy: 0.8603 - lr: 1.0000e-03\n",
            "Epoch 100/100\n",
            "377/377 [==============================] - 7s 19ms/step - loss: 0.4133 - accuracy: 0.8606 - lr: 1.0000e-03\n"
          ]
        }
      ]
    },
    {
      "cell_type": "code",
      "metadata": {
        "id": "KTqe1Ee2WIE5"
      },
      "source": [
        "def plot_graphs(history, string):\n",
        "  plt.plot(history.history[string])\n",
        "  plt.xlabel(\"Epochs\")\n",
        "  plt.ylabel(string)\n",
        "  plt.show()"
      ],
      "execution_count": 40,
      "outputs": []
    },
    {
      "cell_type": "code",
      "metadata": {
        "colab": {
          "base_uri": "https://localhost:8080/",
          "height": 283
        },
        "id": "SyFhzrgwWIFK",
        "outputId": "b647d3cb-1da1-4e59-ec71-2892abf417a9"
      },
      "source": [
        "plot_graphs(history, 'accuracy')"
      ],
      "execution_count": 41,
      "outputs": [
        {
          "output_type": "display_data",
          "data": {
            "image/png": "[encoded data removed]",
            "text/plain": [
              "<Figure size 432x288 with 1 Axes>"
            ]
          },
          "metadata": {
            "needs_background": "light"
          }
        }
      ]
    },
    {
      "cell_type": "code",
      "metadata": {
        "colab": {
          "base_uri": "https://localhost:8080/",
          "height": 278
        },
        "id": "HmiL6L97WIFK",
        "outputId": "d5e6d550-1cee-4b49-9914-7437b4970ac9"
      },
      "source": [
        "plot_graphs(history, 'loss')"
      ],
      "execution_count": 42,
      "outputs": [
        {
          "output_type": "display_data",
          "data": {
            "image/png": "[encoded data removed]",
            "text/plain": [
              "<Figure size 432x288 with 1 Axes>"
            ]
          },
          "metadata": {
            "needs_background": "light"
          }
        }
      ]
    },
    {
      "cell_type": "code",
      "metadata": {
        "colab": {
          "base_uri": "https://localhost:8080/"
        },
        "id": "6B2Fiaq3Fplh",
        "outputId": "a3cdd90c-7238-40c0-a463-68819a5027bb"
      },
      "source": [
        "seed_text = \"I've got a bad feeling about this\"\n",
        "next_words = 50\n",
        "  \n",
        "for _ in range(next_words):\n",
        "\t\ttoken_list = tokenizer.texts_to_sequences([seed_text])[0]\n",
        "\t\ttoken_list = pad_sequences([token_list], maxlen=MAX_LEN-1, padding=PADDING_TYPE)\n",
        "\t\tpredicted = np.argmax(model.predict(token_list), axis=-1)\n",
        "\t\toutput_word = \"\"\n",
        "\t\tfor word, index in tokenizer.word_index.items():\n",
        "\t\t\t\tif index == predicted:\n",
        "\t\t\t\t\t\toutput_word = word\n",
        "\t\t\t\t\t\tbreak\n",
        "\t\tseed_text += \" \" + output_word\n",
        "print(seed_text)"
      ],
      "execution_count": 44,
      "outputs": [
        {
          "output_type": "stream",
          "name": "stdout",
          "text": [
            "I've got a bad feeling about this foemans sun will see me contented ill be born with an hours of diamond unprofaned for a neat rust looked fields young fellows gone and end to ireland i did meet me my dead had makes only love gone by mother the good down yonder lane it whiskey are roving\n"
          ]
        }
      ]
    },
    {
      "cell_type": "markdown",
      "metadata": {
        "id": "HMMQkNDZGS0d"
      },
      "source": [
        "## Exercise 12 - BiLSTM"
      ]
    },
    {
      "cell_type": "code",
      "metadata": {
        "colab": {
          "base_uri": "https://localhost:8080/"
        },
        "id": "KLh6L4OPGUtC",
        "outputId": "fcfd6c7d-d6fb-42b7-b0a5-63bcf3f96b8c"
      },
      "source": [
        "!wget --no-check-certificate \\\n",
        "    https://storage.googleapis.com/laurencemoroney-blog.appspot.com/sonnets.txt \\\n",
        "    -O /content/sonnets.txt"
      ],
      "execution_count": 45,
      "outputs": [
        {
          "output_type": "stream",
          "name": "stdout",
          "text": [
            "--2021-11-16 06:56:48--  https://storage.googleapis.com/laurencemoroney-blog.appspot.com/sonnets.txt\n",
            "Resolving storage.googleapis.com (storage.googleapis.com)... 209.85.147.128, 142.250.125.128, 142.250.136.128, ...\n",
            "Connecting to storage.googleapis.com (storage.googleapis.com)|209.85.147.128|:443... connected.\n",
            "HTTP request sent, awaiting response... 200 OK\n",
            "Length: 93578 (91K) [text/plain]\n",
            "Saving to: ‘/content/sonnets.txt’\n",
            "\n",
            "\r/content/sonnets.tx   0%[                    ]       0  --.-KB/s               \r/content/sonnets.tx 100%[===================>]  91.38K  --.-KB/s    in 0.001s  \n",
            "\n",
            "2021-11-16 06:56:48 (85.6 MB/s) - ‘/content/sonnets.txt’ saved [93578/93578]\n",
            "\n"
          ]
        }
      ]
    },
    {
      "cell_type": "code",
      "metadata": {
        "id": "h7XxBCeqXnMg"
      },
      "source": [
        "data = open('/content/sonnets.txt').read()"
      ],
      "execution_count": 46,
      "outputs": []
    },
    {
      "cell_type": "code",
      "metadata": {
        "colab": {
          "base_uri": "https://localhost:8080/",
          "height": 35
        },
        "id": "HG2mQ71oXogi",
        "outputId": "0b0ba61e-f96c-49df-f61b-1a617164183e"
      },
      "source": [
        "data[:50]"
      ],
      "execution_count": 47,
      "outputs": [
        {
          "output_type": "execute_result",
          "data": {
            "application/vnd.google.colaboratory.intrinsic+json": {
              "type": "string"
            },
            "text/plain": [
              "'FROM fairest creatures we desire increase,\\nThat th'"
            ]
          },
          "metadata": {},
          "execution_count": 47
        }
      ]
    },
    {
      "cell_type": "code",
      "metadata": {
        "colab": {
          "base_uri": "https://localhost:8080/"
        },
        "id": "pbr2E-PIXrzy",
        "outputId": "8701231c-3b9e-4da5-daea-f487acbfcb83"
      },
      "source": [
        "len(data)"
      ],
      "execution_count": 48,
      "outputs": [
        {
          "output_type": "execute_result",
          "data": {
            "text/plain": [
              "93578"
            ]
          },
          "metadata": {},
          "execution_count": 48
        }
      ]
    },
    {
      "cell_type": "code",
      "metadata": {
        "id": "9ROxOzOdXt3J"
      },
      "source": [
        "corpus = data.lower().split(\"\\n\")"
      ],
      "execution_count": 49,
      "outputs": []
    },
    {
      "cell_type": "code",
      "metadata": {
        "colab": {
          "base_uri": "https://localhost:8080/"
        },
        "id": "HKpV7pJzX0pb",
        "outputId": "79498f6a-08e3-4f65-8fdd-aca0abf0e1f8"
      },
      "source": [
        "corpus[:5]"
      ],
      "execution_count": 50,
      "outputs": [
        {
          "output_type": "execute_result",
          "data": {
            "text/plain": [
              "['from fairest creatures we desire increase,',\n",
              " \"that thereby beauty's rose might never die,\",\n",
              " 'but as the riper should by time decease,',\n",
              " 'his tender heir might bear his memory:',\n",
              " 'but thou, contracted to thine own bright eyes,']"
            ]
          },
          "metadata": {},
          "execution_count": 50
        }
      ]
    },
    {
      "cell_type": "code",
      "metadata": {
        "colab": {
          "base_uri": "https://localhost:8080/"
        },
        "id": "iJtZ72coX5JC",
        "outputId": "ac8f58b4-dca8-4dd3-8bb3-6a98915de259"
      },
      "source": [
        "len(corpus)"
      ],
      "execution_count": 51,
      "outputs": [
        {
          "output_type": "execute_result",
          "data": {
            "text/plain": [
              "2159"
            ]
          },
          "metadata": {},
          "execution_count": 51
        }
      ]
    },
    {
      "cell_type": "code",
      "metadata": {
        "id": "4zOxk7BViTG8"
      },
      "source": [
        "PADDING_TYPE = 'pre'\n",
        "OOV_TOKEN = '<OOV>'"
      ],
      "execution_count": 52,
      "outputs": []
    },
    {
      "cell_type": "code",
      "metadata": {
        "id": "blRDCfGUHCx5"
      },
      "source": [
        "tokenizer = Tokenizer(oov_token=OOV_TOKEN)\n",
        "tokenizer.fit_on_texts(corpus)"
      ],
      "execution_count": 53,
      "outputs": []
    },
    {
      "cell_type": "code",
      "metadata": {
        "colab": {
          "base_uri": "https://localhost:8080/"
        },
        "id": "Z1H3vZZmik8Z",
        "outputId": "95e578a2-26d9-4b4c-fbab-7af8d2c2281c"
      },
      "source": [
        "# just checking out word_index\n",
        "\n",
        "d = tokenizer.word_index                            # tokenizer.word_index is a dictionary of all words with indices\n",
        "l = {'memory', 'fairest'}\n",
        "\n",
        "{key:d[key] for key in l if key in d}               # just viewing some of the keys"
      ],
      "execution_count": 56,
      "outputs": [
        {
          "output_type": "execute_result",
          "data": {
            "text/plain": [
              "{'fairest': 418, 'memory': 279}"
            ]
          },
          "metadata": {},
          "execution_count": 56
        }
      ]
    },
    {
      "cell_type": "code",
      "metadata": {
        "id": "7A0nF2LnYE5b"
      },
      "source": [
        "# making n grams\n",
        "\n",
        "input_sequences = []\n",
        "\n",
        "for line in corpus:\n",
        "    token_list = tokenizer.texts_to_sequences([line])[0]          # generate index for each word in sentence\n",
        "    for i in range(1, len(token_list)):                         \n",
        "          n_gram_sequence = token_list[:i+1]                      # create sequences for each line            \n",
        "          input_sequences.append(n_gram_sequence)                 # eg - (3,10,23,5) => (3,10),(3,10,23),(3,10,23,5)"
      ],
      "execution_count": 57,
      "outputs": []
    },
    {
      "cell_type": "code",
      "metadata": {
        "colab": {
          "base_uri": "https://localhost:8080/"
        },
        "id": "2_eHzwiFixCC",
        "outputId": "76f5dd07-bb16-4ff3-db6e-f34e96f17be4"
      },
      "source": [
        "input_sequences[:13]"
      ],
      "execution_count": 58,
      "outputs": [
        {
          "output_type": "execute_result",
          "data": {
            "text/plain": [
              "[[35, 418],\n",
              " [35, 418, 878],\n",
              " [35, 418, 878, 167],\n",
              " [35, 418, 878, 167, 214],\n",
              " [35, 418, 878, 167, 214, 518],\n",
              " [9, 879],\n",
              " [9, 879, 135],\n",
              " [9, 879, 135, 352],\n",
              " [9, 879, 135, 352, 103],\n",
              " [9, 879, 135, 352, 103, 157],\n",
              " [9, 879, 135, 352, 103, 157, 200],\n",
              " [17, 23],\n",
              " [17, 23, 3]]"
            ]
          },
          "metadata": {},
          "execution_count": 58
        }
      ]
    },
    {
      "cell_type": "code",
      "metadata": {
        "id": "O0EHp9p3iz91"
      },
      "source": [
        "VOCAB_SIZE = len(tokenizer.word_index) + 1                # total words or vocab size = total tokens + 1 for OOV\n",
        "EMBED_DIM = 150                                           # randomly embedding to 150 dimensions\n",
        "MAX_LEN = max([len(x) for x in input_sequences])          # finding longest sentence, let if highest length is 4 and then pre pad all sequences"
      ],
      "execution_count": 59,
      "outputs": []
    },
    {
      "cell_type": "code",
      "metadata": {
        "colab": {
          "base_uri": "https://localhost:8080/"
        },
        "id": "BctxYZv2i_B7",
        "outputId": "8f3feb82-7d99-40ed-fad6-409c9f2038bd"
      },
      "source": [
        "print(VOCAB_SIZE)\n",
        "print(EMBED_DIM)\n",
        "print(MAX_LEN)"
      ],
      "execution_count": 60,
      "outputs": [
        {
          "output_type": "stream",
          "name": "stdout",
          "text": [
            "3212\n",
            "150\n",
            "11\n"
          ]
        }
      ]
    },
    {
      "cell_type": "code",
      "metadata": {
        "id": "yctDcxqWjBGB"
      },
      "source": [
        "# pad sequences \n",
        "\n",
        "input_sequences = pad_sequences(input_sequences, maxlen=MAX_LEN, padding=PADDING_TYPE)                  # (0,0,3,10),(0,3,10,23),(3,10,23,5)\n",
        "input_sequences = np.array(input_sequences)"
      ],
      "execution_count": 61,
      "outputs": []
    },
    {
      "cell_type": "code",
      "metadata": {
        "colab": {
          "base_uri": "https://localhost:8080/"
        },
        "id": "g1cEqUx0jE7k",
        "outputId": "31f3bb94-b315-41c9-8075-277a85ecc122"
      },
      "source": [
        "input_sequences[:10]"
      ],
      "execution_count": 62,
      "outputs": [
        {
          "output_type": "execute_result",
          "data": {
            "text/plain": [
              "array([[  0,   0,   0,   0,   0,   0,   0,   0,   0,  35, 418],\n",
              "       [  0,   0,   0,   0,   0,   0,   0,   0,  35, 418, 878],\n",
              "       [  0,   0,   0,   0,   0,   0,   0,  35, 418, 878, 167],\n",
              "       [  0,   0,   0,   0,   0,   0,  35, 418, 878, 167, 214],\n",
              "       [  0,   0,   0,   0,   0,  35, 418, 878, 167, 214, 518],\n",
              "       [  0,   0,   0,   0,   0,   0,   0,   0,   0,   9, 879],\n",
              "       [  0,   0,   0,   0,   0,   0,   0,   0,   9, 879, 135],\n",
              "       [  0,   0,   0,   0,   0,   0,   0,   9, 879, 135, 352],\n",
              "       [  0,   0,   0,   0,   0,   0,   9, 879, 135, 352, 103],\n",
              "       [  0,   0,   0,   0,   0,   9, 879, 135, 352, 103, 157]],\n",
              "      dtype=int32)"
            ]
          },
          "metadata": {},
          "execution_count": 62
        }
      ]
    },
    {
      "cell_type": "code",
      "metadata": {
        "colab": {
          "base_uri": "https://localhost:8080/"
        },
        "id": "-50nPjrIjGVu",
        "outputId": "16674206-8119-4b5b-b87c-6fb71599247b"
      },
      "source": [
        "len(input_sequences[0])"
      ],
      "execution_count": 63,
      "outputs": [
        {
          "output_type": "execute_result",
          "data": {
            "text/plain": [
              "11"
            ]
          },
          "metadata": {},
          "execution_count": 63
        }
      ]
    },
    {
      "cell_type": "code",
      "metadata": {
        "id": "draCl5VsYWCD"
      },
      "source": [
        "# create predictors and label\n",
        "# predictors will be all but the last word from the padded input sequence\n",
        "# labels will be the last word from the padded input sequence\n",
        "\n",
        "xs, labels = input_sequences[:,:-1], input_sequences[:,-1]       # x = (0,0,3) y = (10), x = (0,3,10) y = (23), x = (3,10,23) y = (5)\n",
        "\n",
        "ys = tf.keras.utils.to_categorical(labels, num_classes=VOCAB_SIZE)     # one hot encoding of labels"
      ],
      "execution_count": 64,
      "outputs": []
    },
    {
      "cell_type": "code",
      "metadata": {
        "colab": {
          "base_uri": "https://localhost:8080/"
        },
        "id": "PYeM-pESjTyN",
        "outputId": "304ece31-696a-4882-cc25-ed55ebac208d"
      },
      "source": [
        "len(xs[0])"
      ],
      "execution_count": 65,
      "outputs": [
        {
          "output_type": "execute_result",
          "data": {
            "text/plain": [
              "10"
            ]
          },
          "metadata": {},
          "execution_count": 65
        }
      ]
    },
    {
      "cell_type": "code",
      "metadata": {
        "colab": {
          "base_uri": "https://localhost:8080/"
        },
        "id": "_PWYwn53jT7-",
        "outputId": "d23f8068-f076-4b36-ae3d-189c9491eb6f"
      },
      "source": [
        "len(labels)"
      ],
      "execution_count": 66,
      "outputs": [
        {
          "output_type": "execute_result",
          "data": {
            "text/plain": [
              "15462"
            ]
          },
          "metadata": {},
          "execution_count": 66
        }
      ]
    },
    {
      "cell_type": "code",
      "metadata": {
        "colab": {
          "base_uri": "https://localhost:8080/"
        },
        "id": "TAb5YMGmjWRp",
        "outputId": "3b4aae30-ffca-4611-810d-4ccbd5264a90"
      },
      "source": [
        "len(ys[0])"
      ],
      "execution_count": 67,
      "outputs": [
        {
          "output_type": "execute_result",
          "data": {
            "text/plain": [
              "3212"
            ]
          },
          "metadata": {},
          "execution_count": 67
        }
      ]
    },
    {
      "cell_type": "code",
      "metadata": {
        "colab": {
          "base_uri": "https://localhost:8080/"
        },
        "id": "u6gIrVJsYpdi",
        "outputId": "afd2fd73-d787-410d-e130-4f5fc75737b5"
      },
      "source": [
        "labels[:13]"
      ],
      "execution_count": 68,
      "outputs": [
        {
          "output_type": "execute_result",
          "data": {
            "text/plain": [
              "array([418, 878, 167, 214, 518, 879, 135, 352, 103, 157, 200,  23,   3],\n",
              "      dtype=int32)"
            ]
          },
          "metadata": {},
          "execution_count": 68
        }
      ]
    },
    {
      "cell_type": "code",
      "metadata": {
        "colab": {
          "base_uri": "https://localhost:8080/"
        },
        "id": "VDcQ2ViKYxpP",
        "outputId": "90b1a313-c460-45bf-871a-18461c44f9c1"
      },
      "source": [
        "ys[:13]           # encoded labels"
      ],
      "execution_count": 69,
      "outputs": [
        {
          "output_type": "execute_result",
          "data": {
            "text/plain": [
              "array([[0., 0., 0., ..., 0., 0., 0.],\n",
              "       [0., 0., 0., ..., 0., 0., 0.],\n",
              "       [0., 0., 0., ..., 0., 0., 0.],\n",
              "       ...,\n",
              "       [0., 0., 0., ..., 0., 0., 0.],\n",
              "       [0., 0., 0., ..., 0., 0., 0.],\n",
              "       [0., 0., 0., ..., 0., 0., 0.]], dtype=float32)"
            ]
          },
          "metadata": {},
          "execution_count": 69
        }
      ]
    },
    {
      "cell_type": "code",
      "metadata": {
        "colab": {
          "base_uri": "https://localhost:8080/",
          "height": 35
        },
        "id": "Qg51YdO_YsMy",
        "outputId": "8cadff28-6361-4d10-b563-55ca7f26daf8"
      },
      "source": [
        "corpus[0]"
      ],
      "execution_count": 70,
      "outputs": [
        {
          "output_type": "execute_result",
          "data": {
            "application/vnd.google.colaboratory.intrinsic+json": {
              "type": "string"
            },
            "text/plain": [
              "'from fairest creatures we desire increase,'"
            ]
          },
          "metadata": {},
          "execution_count": 70
        }
      ]
    },
    {
      "cell_type": "code",
      "metadata": {
        "colab": {
          "base_uri": "https://localhost:8080/"
        },
        "id": "wfYweNTWjexr",
        "outputId": "30eb7d07-8608-4db7-d775-d82e937f6209"
      },
      "source": [
        "# checking indexes of 1st sentence\n",
        "\n",
        "print(tokenizer.word_index['from'])\n",
        "print(tokenizer.word_index['fairest'])\n",
        "print(tokenizer.word_index['creatures'])\n",
        "print(tokenizer.word_index['we'])\n",
        "print(tokenizer.word_index['desire'])\n",
        "print(tokenizer.word_index['increase'])"
      ],
      "execution_count": 71,
      "outputs": [
        {
          "output_type": "stream",
          "name": "stdout",
          "text": [
            "35\n",
            "418\n",
            "878\n",
            "167\n",
            "214\n",
            "518\n"
          ]
        }
      ]
    },
    {
      "cell_type": "code",
      "metadata": {
        "colab": {
          "base_uri": "https://localhost:8080/"
        },
        "id": "16tiGk5OYnR7",
        "outputId": "a3f69c58-e0ab-400e-b161-7e3b203e942d"
      },
      "source": [
        "print(input_sequences[5])\n",
        "print(labels[5])\n",
        "print()\n",
        "print(xs[5])\n",
        "print(ys[5])"
      ],
      "execution_count": 72,
      "outputs": [
        {
          "output_type": "stream",
          "name": "stdout",
          "text": [
            "[  0   0   0   0   0   0   0   0   0   9 879]\n",
            "879\n",
            "\n",
            "[0 0 0 0 0 0 0 0 0 9]\n",
            "[0. 0. 0. ... 0. 0. 0.]\n"
          ]
        }
      ]
    },
    {
      "cell_type": "code",
      "metadata": {
        "id": "mrE4GrEhY7co"
      },
      "source": [
        "NUM_CLASSES = VOCAB_SIZE"
      ],
      "execution_count": 73,
      "outputs": []
    },
    {
      "cell_type": "code",
      "metadata": {
        "id": "PGyQsB1BeLfK"
      },
      "source": [
        "model = Sequential([\n",
        "    layers.Embedding(input_dim=VOCAB_SIZE, output_dim=EMBED_DIM, input_length=MAX_LEN-1),\n",
        "    layers.Bidirectional(layers.LSTM(64)),\n",
        "    layers.Dropout(0.3),\n",
        "    layers.Dense(VOCAB_SIZE/2, activation='relu', kernel_regularizer=regularizers.l2(0.01)),\n",
        "    layers.Dense(NUM_CLASSES, activation='softmax')\n",
        "])"
      ],
      "execution_count": 74,
      "outputs": []
    },
    {
      "cell_type": "code",
      "metadata": {
        "colab": {
          "base_uri": "https://localhost:8080/"
        },
        "id": "pBMnpdJpY7cq",
        "outputId": "215b1831-f9a7-4c2b-b92e-43f335c77613"
      },
      "source": [
        "model.summary()"
      ],
      "execution_count": 75,
      "outputs": [
        {
          "output_type": "stream",
          "name": "stdout",
          "text": [
            "Model: \"sequential_2\"\n",
            "_________________________________________________________________\n",
            " Layer (type)                Output Shape              Param #   \n",
            "=================================================================\n",
            " embedding_2 (Embedding)     (None, 10, 150)           481800    \n",
            "                                                                 \n",
            " bidirectional_2 (Bidirectio  (None, 128)              110080    \n",
            " nal)                                                            \n",
            "                                                                 \n",
            " dropout (Dropout)           (None, 128)               0         \n",
            "                                                                 \n",
            " dense_2 (Dense)             (None, 1606)              207174    \n",
            "                                                                 \n",
            " dense_3 (Dense)             (None, 3212)              5161684   \n",
            "                                                                 \n",
            "=================================================================\n",
            "Total params: 5,960,738\n",
            "Trainable params: 5,960,738\n",
            "Non-trainable params: 0\n",
            "_________________________________________________________________\n"
          ]
        }
      ]
    },
    {
      "cell_type": "code",
      "metadata": {
        "id": "x7rb1bhMY7cq"
      },
      "source": [
        "optimizer   = tf.keras.optimizers.Adam(learning_rate=0.001)\n",
        "loss        = tf.keras.losses.CategoricalCrossentropy()\n",
        "metrics     = ['accuracy']"
      ],
      "execution_count": 76,
      "outputs": []
    },
    {
      "cell_type": "code",
      "metadata": {
        "id": "z8gVZvn2Y7cr"
      },
      "source": [
        "model.compile(optimizer=optimizer,\n",
        "              loss=loss,\n",
        "              metrics=metrics)"
      ],
      "execution_count": 77,
      "outputs": []
    },
    {
      "cell_type": "code",
      "metadata": {
        "id": "2zWPcDjKkeN0"
      },
      "source": [
        "early_stopping    = EarlyStopping(monitor='loss', patience=15)\n",
        "reduce_lr         = ReduceLROnPlateau(monitor='loss', patience=20, min_lr=0.0001, mode='min', factor=0.1, verbose=1)\n",
        "model_checkpoint  = ModelCheckpoint(monitor='loss', filepath='./best_model.h5', save_best_only=True)"
      ],
      "execution_count": 80,
      "outputs": []
    },
    {
      "cell_type": "code",
      "metadata": {
        "id": "4ubzz_XDknFA"
      },
      "source": [
        "EPOCHS = 150\n",
        "CALLBACKS = [early_stopping, reduce_lr, model_checkpoint]"
      ],
      "execution_count": 81,
      "outputs": []
    },
    {
      "cell_type": "code",
      "metadata": {
        "id": "F6k8OAsykgHq",
        "colab": {
          "base_uri": "https://localhost:8080/"
        },
        "outputId": "d64dbd3d-90a6-495e-9b8a-d1db0fa6efce"
      },
      "source": [
        "history = model.fit(xs,\n",
        "                    ys,\n",
        "                    verbose = 1,\n",
        "                    epochs = EPOCHS,\n",
        "                    callbacks = CALLBACKS)"
      ],
      "execution_count": 82,
      "outputs": [
        {
          "output_type": "stream",
          "name": "stdout",
          "text": [
            "Epoch 1/150\n",
            "484/484 [==============================] - 12s 18ms/step - loss: 6.9411 - accuracy: 0.0210 - lr: 0.0010\n",
            "Epoch 2/150\n",
            "484/484 [==============================] - 9s 18ms/step - loss: 6.5089 - accuracy: 0.0235 - lr: 0.0010\n",
            "Epoch 3/150\n",
            "484/484 [==============================] - 9s 18ms/step - loss: 6.3962 - accuracy: 0.0274 - lr: 0.0010\n",
            "Epoch 4/150\n",
            "484/484 [==============================] - 9s 18ms/step - loss: 6.2719 - accuracy: 0.0340 - lr: 0.0010\n",
            "Epoch 5/150\n",
            "484/484 [==============================] - 9s 18ms/step - loss: 6.1509 - accuracy: 0.0382 - lr: 0.0010\n",
            "Epoch 6/150\n",
            "484/484 [==============================] - 9s 18ms/step - loss: 6.0331 - accuracy: 0.0423 - lr: 0.0010\n",
            "Epoch 7/150\n",
            "484/484 [==============================] - 9s 18ms/step - loss: 5.9143 - accuracy: 0.0459 - lr: 0.0010\n",
            "Epoch 8/150\n",
            "484/484 [==============================] - 9s 18ms/step - loss: 5.7972 - accuracy: 0.0545 - lr: 0.0010\n",
            "Epoch 9/150\n",
            "484/484 [==============================] - 8s 17ms/step - loss: 5.6849 - accuracy: 0.0588 - lr: 0.0010\n",
            "Epoch 10/150\n",
            "484/484 [==============================] - 8s 17ms/step - loss: 5.5800 - accuracy: 0.0693 - lr: 0.0010\n",
            "Epoch 11/150\n",
            "484/484 [==============================] - 8s 17ms/step - loss: 5.4758 - accuracy: 0.0764 - lr: 0.0010\n",
            "Epoch 12/150\n",
            "484/484 [==============================] - 8s 17ms/step - loss: 5.3715 - accuracy: 0.0821 - lr: 0.0010\n",
            "Epoch 13/150\n",
            "484/484 [==============================] - 8s 17ms/step - loss: 5.2747 - accuracy: 0.0885 - lr: 0.0010\n",
            "Epoch 14/150\n",
            "484/484 [==============================] - 8s 17ms/step - loss: 5.1784 - accuracy: 0.0953 - lr: 0.0010\n",
            "Epoch 15/150\n",
            "484/484 [==============================] - 8s 16ms/step - loss: 5.0885 - accuracy: 0.1015 - lr: 0.0010\n",
            "Epoch 16/150\n",
            "484/484 [==============================] - 8s 17ms/step - loss: 4.9963 - accuracy: 0.1081 - lr: 0.0010\n",
            "Epoch 17/150\n",
            "484/484 [==============================] - 8s 17ms/step - loss: 4.9088 - accuracy: 0.1174 - lr: 0.0010\n",
            "Epoch 18/150\n",
            "484/484 [==============================] - 8s 17ms/step - loss: 4.8232 - accuracy: 0.1233 - lr: 0.0010\n",
            "Epoch 19/150\n",
            "484/484 [==============================] - 8s 17ms/step - loss: 4.7316 - accuracy: 0.1303 - lr: 0.0010\n",
            "Epoch 20/150\n",
            "484/484 [==============================] - 8s 16ms/step - loss: 4.6468 - accuracy: 0.1378 - lr: 0.0010\n",
            "Epoch 21/150\n",
            "484/484 [==============================] - 8s 16ms/step - loss: 4.5539 - accuracy: 0.1473 - lr: 0.0010\n",
            "Epoch 22/150\n",
            "484/484 [==============================] - 8s 16ms/step - loss: 4.4704 - accuracy: 0.1546 - lr: 0.0010\n",
            "Epoch 23/150\n",
            "484/484 [==============================] - 8s 16ms/step - loss: 4.3832 - accuracy: 0.1634 - lr: 0.0010\n",
            "Epoch 24/150\n",
            "484/484 [==============================] - 8s 16ms/step - loss: 4.2932 - accuracy: 0.1752 - lr: 0.0010\n",
            "Epoch 25/150\n",
            "484/484 [==============================] - 8s 16ms/step - loss: 4.2024 - accuracy: 0.1862 - lr: 0.0010\n",
            "Epoch 26/150\n",
            "484/484 [==============================] - 8s 16ms/step - loss: 4.1179 - accuracy: 0.1980 - lr: 0.0010\n",
            "Epoch 27/150\n",
            "484/484 [==============================] - 8s 16ms/step - loss: 4.0331 - accuracy: 0.2077 - lr: 0.0010\n",
            "Epoch 28/150\n",
            "484/484 [==============================] - 8s 16ms/step - loss: 3.9643 - accuracy: 0.2233 - lr: 0.0010\n",
            "Epoch 29/150\n",
            "484/484 [==============================] - 8s 16ms/step - loss: 3.8799 - accuracy: 0.2355 - lr: 0.0010\n",
            "Epoch 30/150\n",
            "484/484 [==============================] - 8s 16ms/step - loss: 3.8015 - accuracy: 0.2500 - lr: 0.0010\n",
            "Epoch 31/150\n",
            "484/484 [==============================] - 8s 17ms/step - loss: 3.7288 - accuracy: 0.2600 - lr: 0.0010\n",
            "Epoch 32/150\n",
            "484/484 [==============================] - 8s 16ms/step - loss: 3.6517 - accuracy: 0.2780 - lr: 0.0010\n",
            "Epoch 33/150\n",
            "484/484 [==============================] - 8s 17ms/step - loss: 3.5855 - accuracy: 0.2880 - lr: 0.0010\n",
            "Epoch 34/150\n",
            "484/484 [==============================] - 8s 17ms/step - loss: 3.5144 - accuracy: 0.3077 - lr: 0.0010\n",
            "Epoch 35/150\n",
            "484/484 [==============================] - 8s 17ms/step - loss: 3.4419 - accuracy: 0.3174 - lr: 0.0010\n",
            "Epoch 36/150\n",
            "484/484 [==============================] - 8s 17ms/step - loss: 3.3853 - accuracy: 0.3257 - lr: 0.0010\n",
            "Epoch 37/150\n",
            "484/484 [==============================] - 8s 17ms/step - loss: 3.3178 - accuracy: 0.3405 - lr: 0.0010\n",
            "Epoch 38/150\n",
            "484/484 [==============================] - 8s 17ms/step - loss: 3.2682 - accuracy: 0.3547 - lr: 0.0010\n",
            "Epoch 39/150\n",
            "484/484 [==============================] - 8s 17ms/step - loss: 3.1988 - accuracy: 0.3665 - lr: 0.0010\n",
            "Epoch 40/150\n",
            "484/484 [==============================] - 8s 17ms/step - loss: 3.1528 - accuracy: 0.3767 - lr: 0.0010\n",
            "Epoch 41/150\n",
            "484/484 [==============================] - 8s 17ms/step - loss: 3.0811 - accuracy: 0.3866 - lr: 0.0010\n",
            "Epoch 42/150\n",
            "484/484 [==============================] - 8s 17ms/step - loss: 3.0363 - accuracy: 0.3957 - lr: 0.0010\n",
            "Epoch 43/150\n",
            "484/484 [==============================] - 8s 17ms/step - loss: 2.9841 - accuracy: 0.4113 - lr: 0.0010\n",
            "Epoch 44/150\n",
            "484/484 [==============================] - 8s 17ms/step - loss: 2.9326 - accuracy: 0.4139 - lr: 0.0010\n",
            "Epoch 45/150\n",
            "484/484 [==============================] - 8s 17ms/step - loss: 2.8844 - accuracy: 0.4281 - lr: 0.0010\n",
            "Epoch 46/150\n",
            "484/484 [==============================] - 8s 17ms/step - loss: 2.8348 - accuracy: 0.4367 - lr: 0.0010\n",
            "Epoch 47/150\n",
            "484/484 [==============================] - 8s 17ms/step - loss: 2.7926 - accuracy: 0.4479 - lr: 0.0010\n",
            "Epoch 48/150\n",
            "484/484 [==============================] - 8s 17ms/step - loss: 2.7418 - accuracy: 0.4565 - lr: 0.0010\n",
            "Epoch 49/150\n",
            "484/484 [==============================] - 8s 17ms/step - loss: 2.7046 - accuracy: 0.4630 - lr: 0.0010\n",
            "Epoch 50/150\n",
            "484/484 [==============================] - 8s 17ms/step - loss: 2.6612 - accuracy: 0.4752 - lr: 0.0010\n",
            "Epoch 51/150\n",
            "484/484 [==============================] - 8s 17ms/step - loss: 2.6165 - accuracy: 0.4833 - lr: 0.0010\n",
            "Epoch 52/150\n",
            "484/484 [==============================] - 8s 17ms/step - loss: 2.5692 - accuracy: 0.4894 - lr: 0.0010\n",
            "Epoch 53/150\n",
            "484/484 [==============================] - 8s 17ms/step - loss: 2.5272 - accuracy: 0.5004 - lr: 0.0010\n",
            "Epoch 54/150\n",
            "484/484 [==============================] - 8s 17ms/step - loss: 2.4961 - accuracy: 0.5088 - lr: 0.0010\n",
            "Epoch 55/150\n",
            "484/484 [==============================] - 8s 17ms/step - loss: 2.4740 - accuracy: 0.5139 - lr: 0.0010\n",
            "Epoch 56/150\n",
            "484/484 [==============================] - 8s 17ms/step - loss: 2.4245 - accuracy: 0.5251 - lr: 0.0010\n",
            "Epoch 57/150\n",
            "484/484 [==============================] - 8s 17ms/step - loss: 2.4134 - accuracy: 0.5249 - lr: 0.0010\n",
            "Epoch 58/150\n",
            "484/484 [==============================] - 8s 18ms/step - loss: 2.3704 - accuracy: 0.5334 - lr: 0.0010\n",
            "Epoch 59/150\n",
            "484/484 [==============================] - 8s 17ms/step - loss: 2.3330 - accuracy: 0.5446 - lr: 0.0010\n",
            "Epoch 60/150\n",
            "484/484 [==============================] - 9s 18ms/step - loss: 2.2869 - accuracy: 0.5554 - lr: 0.0010\n",
            "Epoch 61/150\n",
            "484/484 [==============================] - 9s 18ms/step - loss: 2.2763 - accuracy: 0.5541 - lr: 0.0010\n",
            "Epoch 62/150\n",
            "484/484 [==============================] - 9s 18ms/step - loss: 2.2433 - accuracy: 0.5619 - lr: 0.0010\n",
            "Epoch 63/150\n",
            "484/484 [==============================] - 9s 18ms/step - loss: 2.2096 - accuracy: 0.5735 - lr: 0.0010\n",
            "Epoch 64/150\n",
            "484/484 [==============================] - 9s 18ms/step - loss: 2.1754 - accuracy: 0.5758 - lr: 0.0010\n",
            "Epoch 65/150\n",
            "484/484 [==============================] - 9s 18ms/step - loss: 2.1590 - accuracy: 0.5827 - lr: 0.0010\n",
            "Epoch 66/150\n",
            "484/484 [==============================] - 9s 18ms/step - loss: 2.1343 - accuracy: 0.5851 - lr: 0.0010\n",
            "Epoch 67/150\n",
            "484/484 [==============================] - 9s 18ms/step - loss: 2.0937 - accuracy: 0.5980 - lr: 0.0010\n",
            "Epoch 68/150\n",
            "484/484 [==============================] - 9s 18ms/step - loss: 2.0798 - accuracy: 0.5976 - lr: 0.0010\n",
            "Epoch 69/150\n",
            "484/484 [==============================] - 9s 18ms/step - loss: 2.0596 - accuracy: 0.5989 - lr: 0.0010\n",
            "Epoch 70/150\n",
            "484/484 [==============================] - 9s 18ms/step - loss: 2.0206 - accuracy: 0.6157 - lr: 0.0010\n",
            "Epoch 71/150\n",
            "484/484 [==============================] - 9s 18ms/step - loss: 1.9915 - accuracy: 0.6178 - lr: 0.0010\n",
            "Epoch 72/150\n",
            "484/484 [==============================] - 9s 18ms/step - loss: 1.9755 - accuracy: 0.6210 - lr: 0.0010\n",
            "Epoch 73/150\n",
            "484/484 [==============================] - 9s 18ms/step - loss: 1.9585 - accuracy: 0.6226 - lr: 0.0010\n",
            "Epoch 74/150\n",
            "484/484 [==============================] - 9s 18ms/step - loss: 1.9452 - accuracy: 0.6237 - lr: 0.0010\n",
            "Epoch 75/150\n",
            "484/484 [==============================] - 9s 18ms/step - loss: 1.9260 - accuracy: 0.6280 - lr: 0.0010\n",
            "Epoch 76/150\n",
            "484/484 [==============================] - 9s 18ms/step - loss: 1.9010 - accuracy: 0.6327 - lr: 0.0010\n",
            "Epoch 77/150\n",
            "484/484 [==============================] - 9s 18ms/step - loss: 1.8694 - accuracy: 0.6412 - lr: 0.0010\n",
            "Epoch 78/150\n",
            "484/484 [==============================] - 9s 18ms/step - loss: 1.8574 - accuracy: 0.6441 - lr: 0.0010\n",
            "Epoch 79/150\n",
            "484/484 [==============================] - 9s 18ms/step - loss: 1.8440 - accuracy: 0.6488 - lr: 0.0010\n",
            "Epoch 80/150\n",
            "484/484 [==============================] - 9s 18ms/step - loss: 1.8304 - accuracy: 0.6501 - lr: 0.0010\n",
            "Epoch 81/150\n",
            "484/484 [==============================] - 9s 18ms/step - loss: 1.8033 - accuracy: 0.6576 - lr: 0.0010\n",
            "Epoch 82/150\n",
            "484/484 [==============================] - 9s 18ms/step - loss: 1.7969 - accuracy: 0.6570 - lr: 0.0010\n",
            "Epoch 83/150\n",
            "484/484 [==============================] - 9s 18ms/step - loss: 1.7491 - accuracy: 0.6669 - lr: 0.0010\n",
            "Epoch 84/150\n",
            "484/484 [==============================] - 8s 18ms/step - loss: 1.7499 - accuracy: 0.6678 - lr: 0.0010\n",
            "Epoch 85/150\n",
            "484/484 [==============================] - 9s 18ms/step - loss: 1.7406 - accuracy: 0.6707 - lr: 0.0010\n",
            "Epoch 86/150\n",
            "484/484 [==============================] - 9s 18ms/step - loss: 1.7120 - accuracy: 0.6751 - lr: 0.0010\n",
            "Epoch 87/150\n",
            "484/484 [==============================] - 9s 18ms/step - loss: 1.6996 - accuracy: 0.6746 - lr: 0.0010\n",
            "Epoch 88/150\n",
            "484/484 [==============================] - 9s 18ms/step - loss: 1.6965 - accuracy: 0.6784 - lr: 0.0010\n",
            "Epoch 89/150\n",
            "484/484 [==============================] - 9s 18ms/step - loss: 1.6847 - accuracy: 0.6819 - lr: 0.0010\n",
            "Epoch 90/150\n",
            "484/484 [==============================] - 9s 18ms/step - loss: 1.6711 - accuracy: 0.6785 - lr: 0.0010\n",
            "Epoch 91/150\n",
            "484/484 [==============================] - 9s 18ms/step - loss: 1.6503 - accuracy: 0.6883 - lr: 0.0010\n",
            "Epoch 92/150\n",
            "484/484 [==============================] - 9s 18ms/step - loss: 1.6280 - accuracy: 0.6939 - lr: 0.0010\n",
            "Epoch 93/150\n",
            "484/484 [==============================] - 9s 18ms/step - loss: 1.6154 - accuracy: 0.6914 - lr: 0.0010\n",
            "Epoch 94/150\n",
            "484/484 [==============================] - 9s 18ms/step - loss: 1.6043 - accuracy: 0.6982 - lr: 0.0010\n",
            "Epoch 95/150\n",
            "484/484 [==============================] - 9s 18ms/step - loss: 1.5938 - accuracy: 0.6987 - lr: 0.0010\n",
            "Epoch 96/150\n",
            "484/484 [==============================] - 9s 18ms/step - loss: 1.5733 - accuracy: 0.7031 - lr: 0.0010\n",
            "Epoch 97/150\n",
            "484/484 [==============================] - 9s 18ms/step - loss: 1.5746 - accuracy: 0.7028 - lr: 0.0010\n",
            "Epoch 98/150\n",
            "484/484 [==============================] - 9s 18ms/step - loss: 1.5558 - accuracy: 0.7064 - lr: 0.0010\n",
            "Epoch 99/150\n",
            "484/484 [==============================] - 9s 18ms/step - loss: 1.5528 - accuracy: 0.7081 - lr: 0.0010\n",
            "Epoch 100/150\n",
            "484/484 [==============================] - 9s 18ms/step - loss: 1.5239 - accuracy: 0.7116 - lr: 0.0010\n",
            "Epoch 101/150\n",
            "484/484 [==============================] - 8s 17ms/step - loss: 1.5281 - accuracy: 0.7150 - lr: 0.0010\n",
            "Epoch 102/150\n",
            "484/484 [==============================] - 9s 18ms/step - loss: 1.5066 - accuracy: 0.7141 - lr: 0.0010\n",
            "Epoch 103/150\n",
            "484/484 [==============================] - 9s 18ms/step - loss: 1.5047 - accuracy: 0.7181 - lr: 0.0010\n",
            "Epoch 104/150\n",
            "484/484 [==============================] - 9s 18ms/step - loss: 1.4842 - accuracy: 0.7233 - lr: 0.0010\n",
            "Epoch 105/150\n",
            "484/484 [==============================] - 9s 18ms/step - loss: 1.4798 - accuracy: 0.7230 - lr: 0.0010\n",
            "Epoch 106/150\n",
            "484/484 [==============================] - 9s 18ms/step - loss: 1.4473 - accuracy: 0.7274 - lr: 0.0010\n",
            "Epoch 107/150\n",
            "484/484 [==============================] - 8s 18ms/step - loss: 1.4540 - accuracy: 0.7282 - lr: 0.0010\n",
            "Epoch 108/150\n",
            "484/484 [==============================] - 8s 17ms/step - loss: 1.4531 - accuracy: 0.7284 - lr: 0.0010\n",
            "Epoch 109/150\n",
            "484/484 [==============================] - 9s 18ms/step - loss: 1.4324 - accuracy: 0.7348 - lr: 0.0010\n",
            "Epoch 110/150\n",
            "484/484 [==============================] - 9s 18ms/step - loss: 1.4561 - accuracy: 0.7262 - lr: 0.0010\n",
            "Epoch 111/150\n",
            "484/484 [==============================] - 9s 18ms/step - loss: 1.4406 - accuracy: 0.7302 - lr: 0.0010\n",
            "Epoch 112/150\n",
            "484/484 [==============================] - 9s 18ms/step - loss: 1.4202 - accuracy: 0.7319 - lr: 0.0010\n",
            "Epoch 113/150\n",
            "484/484 [==============================] - 9s 18ms/step - loss: 1.3894 - accuracy: 0.7404 - lr: 0.0010\n",
            "Epoch 114/150\n",
            "484/484 [==============================] - 9s 19ms/step - loss: 1.3764 - accuracy: 0.7414 - lr: 0.0010\n",
            "Epoch 115/150\n",
            "484/484 [==============================] - 9s 19ms/step - loss: 1.3864 - accuracy: 0.7383 - lr: 0.0010\n",
            "Epoch 116/150\n",
            "484/484 [==============================] - 9s 19ms/step - loss: 1.3817 - accuracy: 0.7415 - lr: 0.0010\n",
            "Epoch 117/150\n",
            "484/484 [==============================] - 9s 19ms/step - loss: 1.3705 - accuracy: 0.7417 - lr: 0.0010\n",
            "Epoch 118/150\n",
            "484/484 [==============================] - 9s 19ms/step - loss: 1.3618 - accuracy: 0.7436 - lr: 0.0010\n",
            "Epoch 119/150\n",
            "484/484 [==============================] - 9s 19ms/step - loss: 1.3464 - accuracy: 0.7491 - lr: 0.0010\n",
            "Epoch 120/150\n",
            "484/484 [==============================] - 9s 19ms/step - loss: 1.3455 - accuracy: 0.7476 - lr: 0.0010\n",
            "Epoch 121/150\n",
            "484/484 [==============================] - 9s 19ms/step - loss: 1.3387 - accuracy: 0.7489 - lr: 0.0010\n",
            "Epoch 122/150\n",
            "484/484 [==============================] - 9s 19ms/step - loss: 1.3333 - accuracy: 0.7491 - lr: 0.0010\n",
            "Epoch 123/150\n",
            "484/484 [==============================] - 9s 19ms/step - loss: 1.3296 - accuracy: 0.7505 - lr: 0.0010\n",
            "Epoch 124/150\n",
            "484/484 [==============================] - 9s 19ms/step - loss: 1.3169 - accuracy: 0.7516 - lr: 0.0010\n",
            "Epoch 125/150\n",
            "484/484 [==============================] - 9s 19ms/step - loss: 1.3088 - accuracy: 0.7551 - lr: 0.0010\n",
            "Epoch 126/150\n",
            "484/484 [==============================] - 9s 19ms/step - loss: 1.2999 - accuracy: 0.7560 - lr: 0.0010\n",
            "Epoch 127/150\n",
            "484/484 [==============================] - 9s 19ms/step - loss: 1.2920 - accuracy: 0.7584 - lr: 0.0010\n",
            "Epoch 128/150\n",
            "484/484 [==============================] - 9s 19ms/step - loss: 1.2948 - accuracy: 0.7572 - lr: 0.0010\n",
            "Epoch 129/150\n",
            "484/484 [==============================] - 9s 19ms/step - loss: 1.2901 - accuracy: 0.7589 - lr: 0.0010\n",
            "Epoch 130/150\n",
            "484/484 [==============================] - 9s 19ms/step - loss: 1.2810 - accuracy: 0.7604 - lr: 0.0010\n",
            "Epoch 131/150\n",
            "484/484 [==============================] - 9s 19ms/step - loss: 1.2676 - accuracy: 0.7623 - lr: 0.0010\n",
            "Epoch 132/150\n",
            "484/484 [==============================] - 9s 19ms/step - loss: 1.2755 - accuracy: 0.7633 - lr: 0.0010\n",
            "Epoch 133/150\n",
            "484/484 [==============================] - 9s 19ms/step - loss: 1.2731 - accuracy: 0.7600 - lr: 0.0010\n",
            "Epoch 134/150\n",
            "484/484 [==============================] - 9s 19ms/step - loss: 1.2479 - accuracy: 0.7694 - lr: 0.0010\n",
            "Epoch 135/150\n",
            "484/484 [==============================] - 9s 19ms/step - loss: 1.2423 - accuracy: 0.7696 - lr: 0.0010\n",
            "Epoch 136/150\n",
            "484/484 [==============================] - 9s 19ms/step - loss: 1.2279 - accuracy: 0.7739 - lr: 0.0010\n",
            "Epoch 137/150\n",
            "484/484 [==============================] - 9s 19ms/step - loss: 1.2399 - accuracy: 0.7703 - lr: 0.0010\n",
            "Epoch 138/150\n",
            "484/484 [==============================] - 9s 19ms/step - loss: 1.2519 - accuracy: 0.7655 - lr: 0.0010\n",
            "Epoch 139/150\n",
            "484/484 [==============================] - 9s 19ms/step - loss: 1.2393 - accuracy: 0.7670 - lr: 0.0010\n",
            "Epoch 140/150\n",
            "484/484 [==============================] - 9s 20ms/step - loss: 1.2174 - accuracy: 0.7726 - lr: 0.0010\n",
            "Epoch 141/150\n",
            "484/484 [==============================] - 9s 19ms/step - loss: 1.2210 - accuracy: 0.7765 - lr: 0.0010\n",
            "Epoch 142/150\n",
            "484/484 [==============================] - 9s 19ms/step - loss: 1.2056 - accuracy: 0.7756 - lr: 0.0010\n",
            "Epoch 143/150\n",
            "484/484 [==============================] - 9s 19ms/step - loss: 1.2209 - accuracy: 0.7705 - lr: 0.0010\n",
            "Epoch 144/150\n",
            "484/484 [==============================] - 9s 19ms/step - loss: 1.2050 - accuracy: 0.7772 - lr: 0.0010\n",
            "Epoch 145/150\n",
            "484/484 [==============================] - 9s 20ms/step - loss: 1.1931 - accuracy: 0.7759 - lr: 0.0010\n",
            "Epoch 146/150\n",
            "484/484 [==============================] - 9s 19ms/step - loss: 1.1911 - accuracy: 0.7797 - lr: 0.0010\n",
            "Epoch 147/150\n",
            "484/484 [==============================] - 9s 19ms/step - loss: 1.1774 - accuracy: 0.7822 - lr: 0.0010\n",
            "Epoch 148/150\n",
            "484/484 [==============================] - 9s 19ms/step - loss: 1.1763 - accuracy: 0.7794 - lr: 0.0010\n",
            "Epoch 149/150\n",
            "484/484 [==============================] - 9s 19ms/step - loss: 1.1818 - accuracy: 0.7778 - lr: 0.0010\n",
            "Epoch 150/150\n",
            "484/484 [==============================] - 9s 19ms/step - loss: 1.1826 - accuracy: 0.7782 - lr: 0.0010\n"
          ]
        }
      ]
    },
    {
      "cell_type": "code",
      "metadata": {
        "id": "tV4bH3LZY7ct"
      },
      "source": [
        "def plot_graphs(history, string):\n",
        "  plt.plot(history.history[string])\n",
        "  plt.xlabel(\"Epochs\")\n",
        "  plt.ylabel(string)\n",
        "  plt.show()"
      ],
      "execution_count": 83,
      "outputs": []
    },
    {
      "cell_type": "code",
      "metadata": {
        "colab": {
          "base_uri": "https://localhost:8080/",
          "height": 278
        },
        "id": "HPhb4hpZY7ct",
        "outputId": "3369b9e7-a5e0-4b67-a26f-6cb5cf891f8f"
      },
      "source": [
        "plot_graphs(history, 'accuracy')"
      ],
      "execution_count": 84,
      "outputs": [
        {
          "output_type": "display_data",
          "data": {
            "image/png": "[encoded data removed]",
            "text/plain": [
              "<Figure size 432x288 with 1 Axes>"
            ]
          },
          "metadata": {
            "needs_background": "light"
          }
        }
      ]
    },
    {
      "cell_type": "code",
      "metadata": {
        "colab": {
          "base_uri": "https://localhost:8080/",
          "height": 278
        },
        "id": "ze6pKblKY7ct",
        "outputId": "3ba7f88e-34d5-44d4-9016-1058703a5359"
      },
      "source": [
        "plot_graphs(history, 'loss')"
      ],
      "execution_count": 85,
      "outputs": [
        {
          "output_type": "display_data",
          "data": {
            "image/png": "[encoded data removed]",
            "text/plain": [
              "<Figure size 432x288 with 1 Axes>"
            ]
          },
          "metadata": {
            "needs_background": "light"
          }
        }
      ]
    },
    {
      "cell_type": "code",
      "metadata": {
        "colab": {
          "base_uri": "https://localhost:8080/"
        },
        "id": "haJvrsSJY7cu",
        "outputId": "222c8941-9d52-4722-8f34-252bce4e1c8a"
      },
      "source": [
        "seed_text = \"Help me Obi Wan Kenobi, you're my only hope\"\n",
        "next_words = 50\n",
        "  \n",
        "for _ in range(next_words):\n",
        "\t\ttoken_list = tokenizer.texts_to_sequences([seed_text])[0]\n",
        "\t\ttoken_list = pad_sequences([token_list], maxlen=MAX_LEN-1, padding=PADDING_TYPE)\n",
        "\t\tpredicted = np.argmax(model.predict(token_list), axis=-1)\n",
        "\t\toutput_word = \"\"\n",
        "\t\tfor word, index in tokenizer.word_index.items():\n",
        "\t\t\t\tif index == predicted:\n",
        "\t\t\t\t\t\toutput_word = word\n",
        "\t\t\t\t\t\tbreak\n",
        "\t\tseed_text += \" \" + output_word\n",
        "print(seed_text)"
      ],
      "execution_count": 86,
      "outputs": [
        {
          "output_type": "stream",
          "name": "stdout",
          "text": [
            "Help me Obi Wan Kenobi, you're my only hope out of thy mind in brain ' lends heart eyes another night name no self wrong bower commits white canst hold yet now be yourself's staineth decease near betray abuse me well doth mend the style all all the deep to me men doth invited green all created is shape\n"
          ]
        }
      ]
    },
    {
      "cell_type": "markdown",
      "metadata": {
        "id": "z8sNPGX6yBgu"
      },
      "source": [
        "## Exercise 12 - Stacked LSTM"
      ]
    },
    {
      "cell_type": "code",
      "metadata": {
        "id": "kL4cF0kPrLIH"
      },
      "source": [
        "model = Sequential([\n",
        "    layers.Embedding(input_dim=VOCAB_SIZE, output_dim=EMBED_DIM, input_length=MAX_LEN-1),\n",
        "    layers.Bidirectional(layers.LSTM(64, return_sequences = True)),\n",
        "    layers.Dropout(0.3),\n",
        "    layers.LSTM(32),\n",
        "    layers.Dense(VOCAB_SIZE/2, activation='relu', kernel_regularizer=regularizers.l2(0.01)),\n",
        "    layers.Dense(NUM_CLASSES, activation='softmax')\n",
        "])"
      ],
      "execution_count": 87,
      "outputs": []
    },
    {
      "cell_type": "code",
      "metadata": {
        "colab": {
          "base_uri": "https://localhost:8080/"
        },
        "id": "nm693kevn7Lf",
        "outputId": "1736863f-9bd8-4019-b6ce-d0965160e37e"
      },
      "source": [
        "model.summary()"
      ],
      "execution_count": 88,
      "outputs": [
        {
          "output_type": "stream",
          "name": "stdout",
          "text": [
            "Model: \"sequential_3\"\n",
            "_________________________________________________________________\n",
            " Layer (type)                Output Shape              Param #   \n",
            "=================================================================\n",
            " embedding_3 (Embedding)     (None, 10, 150)           481800    \n",
            "                                                                 \n",
            " bidirectional_3 (Bidirectio  (None, 10, 128)          110080    \n",
            " nal)                                                            \n",
            "                                                                 \n",
            " dropout_1 (Dropout)         (None, 10, 128)           0         \n",
            "                                                                 \n",
            " lstm_4 (LSTM)               (None, 32)                20608     \n",
            "                                                                 \n",
            " dense_4 (Dense)             (None, 1606)              52998     \n",
            "                                                                 \n",
            " dense_5 (Dense)             (None, 3212)              5161684   \n",
            "                                                                 \n",
            "=================================================================\n",
            "Total params: 5,827,170\n",
            "Trainable params: 5,827,170\n",
            "Non-trainable params: 0\n",
            "_________________________________________________________________\n"
          ]
        }
      ]
    },
    {
      "cell_type": "code",
      "metadata": {
        "id": "4ZZbbMktqJMi"
      },
      "source": [
        "optimizer   = tf.keras.optimizers.Adam(learning_rate=0.001)\n",
        "loss        = tf.keras.losses.CategoricalCrossentropy()\n",
        "metrics     = ['accuracy']"
      ],
      "execution_count": 89,
      "outputs": []
    },
    {
      "cell_type": "code",
      "metadata": {
        "id": "3zsMAnTyqJMs"
      },
      "source": [
        "model.compile(optimizer=optimizer,\n",
        "              loss=loss,\n",
        "              metrics=metrics)"
      ],
      "execution_count": 90,
      "outputs": []
    },
    {
      "cell_type": "code",
      "metadata": {
        "id": "JO7k4aW2rC96"
      },
      "source": [
        "early_stopping    = EarlyStopping(monitor='loss', patience=15)\n",
        "reduce_lr         = ReduceLROnPlateau(monitor='loss', patience=20, min_lr=0.0001, mode='min', factor=0.1, verbose=1)\n",
        "model_checkpoint  = ModelCheckpoint(monitor='loss', filepath='./best_model.h5', save_best_only=True)"
      ],
      "execution_count": 91,
      "outputs": []
    },
    {
      "cell_type": "code",
      "metadata": {
        "id": "f_klDJptrC96"
      },
      "source": [
        "EPOCHS = 150\n",
        "CALLBACKS = [early_stopping, reduce_lr, model_checkpoint]"
      ],
      "execution_count": 92,
      "outputs": []
    },
    {
      "cell_type": "code",
      "metadata": {
        "colab": {
          "base_uri": "https://localhost:8080/"
        },
        "id": "yMzEIj1KrC97",
        "outputId": "a74546c0-6b0c-4c04-f485-7d8e4aae3f74"
      },
      "source": [
        "history = model.fit(xs,\n",
        "                    ys,\n",
        "                    verbose = 1,\n",
        "                    epochs = EPOCHS,\n",
        "                    callbacks = CALLBACKS)"
      ],
      "execution_count": 93,
      "outputs": [
        {
          "output_type": "stream",
          "name": "stdout",
          "text": [
            "Epoch 1/150\n",
            "484/484 [==============================] - 17s 23ms/step - loss: 6.8533 - accuracy: 0.0208 - lr: 0.0010\n",
            "Epoch 2/150\n",
            "484/484 [==============================] - 11s 23ms/step - loss: 6.4979 - accuracy: 0.0217 - lr: 0.0010\n",
            "Epoch 3/150\n",
            "484/484 [==============================] - 11s 23ms/step - loss: 6.3997 - accuracy: 0.0242 - lr: 0.0010\n",
            "Epoch 4/150\n",
            "484/484 [==============================] - 11s 23ms/step - loss: 6.2838 - accuracy: 0.0268 - lr: 0.0010\n",
            "Epoch 5/150\n",
            "484/484 [==============================] - 11s 23ms/step - loss: 6.1892 - accuracy: 0.0328 - lr: 0.0010\n",
            "Epoch 6/150\n",
            "484/484 [==============================] - 11s 23ms/step - loss: 6.1166 - accuracy: 0.0367 - lr: 0.0010\n",
            "Epoch 7/150\n",
            "484/484 [==============================] - 11s 23ms/step - loss: 6.0495 - accuracy: 0.0404 - lr: 0.0010\n",
            "Epoch 8/150\n",
            "484/484 [==============================] - 11s 23ms/step - loss: 5.9861 - accuracy: 0.0410 - lr: 0.0010\n",
            "Epoch 9/150\n",
            "484/484 [==============================] - 11s 23ms/step - loss: 5.9190 - accuracy: 0.0453 - lr: 0.0010\n",
            "Epoch 10/150\n",
            "484/484 [==============================] - 11s 23ms/step - loss: 5.8520 - accuracy: 0.0464 - lr: 0.0010\n",
            "Epoch 11/150\n",
            "484/484 [==============================] - 11s 23ms/step - loss: 5.7873 - accuracy: 0.0516 - lr: 0.0010\n",
            "Epoch 12/150\n",
            "484/484 [==============================] - 11s 23ms/step - loss: 5.7146 - accuracy: 0.0559 - lr: 0.0010\n",
            "Epoch 13/150\n",
            "484/484 [==============================] - 11s 23ms/step - loss: 5.6403 - accuracy: 0.0583 - lr: 0.0010\n",
            "Epoch 14/150\n",
            "484/484 [==============================] - 11s 23ms/step - loss: 5.5660 - accuracy: 0.0631 - lr: 0.0010\n",
            "Epoch 15/150\n",
            "484/484 [==============================] - 11s 23ms/step - loss: 5.4947 - accuracy: 0.0660 - lr: 0.0010\n",
            "Epoch 16/150\n",
            "484/484 [==============================] - 11s 23ms/step - loss: 5.4228 - accuracy: 0.0722 - lr: 0.0010\n",
            "Epoch 17/150\n",
            "484/484 [==============================] - 11s 23ms/step - loss: 5.3525 - accuracy: 0.0776 - lr: 0.0010\n",
            "Epoch 18/150\n",
            "484/484 [==============================] - 11s 23ms/step - loss: 5.2856 - accuracy: 0.0824 - lr: 0.0010\n",
            "Epoch 19/150\n",
            "484/484 [==============================] - 11s 23ms/step - loss: 5.2122 - accuracy: 0.0867 - lr: 0.0010\n",
            "Epoch 20/150\n",
            "484/484 [==============================] - 11s 23ms/step - loss: 5.1446 - accuracy: 0.0931 - lr: 0.0010\n",
            "Epoch 21/150\n",
            "484/484 [==============================] - 11s 23ms/step - loss: 5.0735 - accuracy: 0.0955 - lr: 0.0010\n",
            "Epoch 22/150\n",
            "484/484 [==============================] - 11s 23ms/step - loss: 5.0142 - accuracy: 0.1013 - lr: 0.0010\n",
            "Epoch 23/150\n",
            "484/484 [==============================] - 11s 23ms/step - loss: 4.9376 - accuracy: 0.1072 - lr: 0.0010\n",
            "Epoch 24/150\n",
            "484/484 [==============================] - 11s 23ms/step - loss: 4.8766 - accuracy: 0.1106 - lr: 0.0010\n",
            "Epoch 25/150\n",
            "484/484 [==============================] - 11s 23ms/step - loss: 4.8104 - accuracy: 0.1195 - lr: 0.0010\n",
            "Epoch 26/150\n",
            "484/484 [==============================] - 11s 23ms/step - loss: 4.7397 - accuracy: 0.1237 - lr: 0.0010\n",
            "Epoch 27/150\n",
            "484/484 [==============================] - 11s 23ms/step - loss: 4.6723 - accuracy: 0.1315 - lr: 0.0010\n",
            "Epoch 28/150\n",
            "484/484 [==============================] - 11s 23ms/step - loss: 4.6028 - accuracy: 0.1356 - lr: 0.0010\n",
            "Epoch 29/150\n",
            "484/484 [==============================] - 11s 23ms/step - loss: 4.5400 - accuracy: 0.1432 - lr: 0.0010\n",
            "Epoch 30/150\n",
            "484/484 [==============================] - 11s 23ms/step - loss: 4.4765 - accuracy: 0.1480 - lr: 0.0010\n",
            "Epoch 31/150\n",
            "484/484 [==============================] - 11s 23ms/step - loss: 4.4063 - accuracy: 0.1570 - lr: 0.0010\n",
            "Epoch 32/150\n",
            "484/484 [==============================] - 11s 23ms/step - loss: 4.3515 - accuracy: 0.1629 - lr: 0.0010\n",
            "Epoch 33/150\n",
            "484/484 [==============================] - 11s 23ms/step - loss: 4.2802 - accuracy: 0.1712 - lr: 0.0010\n",
            "Epoch 34/150\n",
            "484/484 [==============================] - 11s 23ms/step - loss: 4.2167 - accuracy: 0.1760 - lr: 0.0010\n",
            "Epoch 35/150\n",
            "484/484 [==============================] - 11s 23ms/step - loss: 4.1514 - accuracy: 0.1821 - lr: 0.0010\n",
            "Epoch 36/150\n",
            "484/484 [==============================] - 11s 23ms/step - loss: 4.0898 - accuracy: 0.1945 - lr: 0.0010\n",
            "Epoch 37/150\n",
            "484/484 [==============================] - 11s 23ms/step - loss: 4.0359 - accuracy: 0.1985 - lr: 0.0010\n",
            "Epoch 38/150\n",
            "484/484 [==============================] - 11s 23ms/step - loss: 3.9901 - accuracy: 0.2106 - lr: 0.0010\n",
            "Epoch 39/150\n",
            "484/484 [==============================] - 11s 22ms/step - loss: 3.9255 - accuracy: 0.2152 - lr: 0.0010\n",
            "Epoch 40/150\n",
            "484/484 [==============================] - 11s 23ms/step - loss: 3.8664 - accuracy: 0.2271 - lr: 0.0010\n",
            "Epoch 41/150\n",
            "484/484 [==============================] - 11s 23ms/step - loss: 3.8160 - accuracy: 0.2386 - lr: 0.0010\n",
            "Epoch 42/150\n",
            "484/484 [==============================] - 11s 23ms/step - loss: 3.7690 - accuracy: 0.2430 - lr: 0.0010\n",
            "Epoch 43/150\n",
            "484/484 [==============================] - 11s 23ms/step - loss: 3.7161 - accuracy: 0.2559 - lr: 0.0010\n",
            "Epoch 44/150\n",
            "484/484 [==============================] - 11s 23ms/step - loss: 3.6676 - accuracy: 0.2610 - lr: 0.0010\n",
            "Epoch 45/150\n",
            "484/484 [==============================] - 11s 23ms/step - loss: 3.6109 - accuracy: 0.2725 - lr: 0.0010\n",
            "Epoch 46/150\n",
            "484/484 [==============================] - 11s 23ms/step - loss: 3.5653 - accuracy: 0.2828 - lr: 0.0010\n",
            "Epoch 47/150\n",
            "484/484 [==============================] - 11s 23ms/step - loss: 3.5244 - accuracy: 0.2892 - lr: 0.0010\n",
            "Epoch 48/150\n",
            "484/484 [==============================] - 11s 23ms/step - loss: 3.4788 - accuracy: 0.3004 - lr: 0.0010\n",
            "Epoch 49/150\n",
            "484/484 [==============================] - 11s 23ms/step - loss: 3.4425 - accuracy: 0.3068 - lr: 0.0010\n",
            "Epoch 50/150\n",
            "484/484 [==============================] - 11s 23ms/step - loss: 3.3911 - accuracy: 0.3168 - lr: 0.0010\n",
            "Epoch 51/150\n",
            "484/484 [==============================] - 11s 23ms/step - loss: 3.3497 - accuracy: 0.3227 - lr: 0.0010\n",
            "Epoch 52/150\n",
            "484/484 [==============================] - 11s 23ms/step - loss: 3.3128 - accuracy: 0.3311 - lr: 0.0010\n",
            "Epoch 53/150\n",
            "484/484 [==============================] - 11s 23ms/step - loss: 3.2860 - accuracy: 0.3333 - lr: 0.0010\n",
            "Epoch 54/150\n",
            "484/484 [==============================] - 11s 23ms/step - loss: 3.2417 - accuracy: 0.3426 - lr: 0.0010\n",
            "Epoch 55/150\n",
            "484/484 [==============================] - 11s 23ms/step - loss: 3.1906 - accuracy: 0.3523 - lr: 0.0010\n",
            "Epoch 56/150\n",
            "484/484 [==============================] - 11s 23ms/step - loss: 3.1595 - accuracy: 0.3603 - lr: 0.0010\n",
            "Epoch 57/150\n",
            "484/484 [==============================] - 11s 23ms/step - loss: 3.1382 - accuracy: 0.3681 - lr: 0.0010\n",
            "Epoch 58/150\n",
            "484/484 [==============================] - 11s 23ms/step - loss: 3.0874 - accuracy: 0.3731 - lr: 0.0010\n",
            "Epoch 59/150\n",
            "484/484 [==============================] - 11s 23ms/step - loss: 3.0615 - accuracy: 0.3795 - lr: 0.0010\n",
            "Epoch 60/150\n",
            "484/484 [==============================] - 11s 23ms/step - loss: 3.0286 - accuracy: 0.3830 - lr: 0.0010\n",
            "Epoch 61/150\n",
            "484/484 [==============================] - 11s 23ms/step - loss: 2.9953 - accuracy: 0.3919 - lr: 0.0010\n",
            "Epoch 62/150\n",
            "484/484 [==============================] - 11s 23ms/step - loss: 2.9570 - accuracy: 0.4019 - lr: 0.0010\n",
            "Epoch 63/150\n",
            "484/484 [==============================] - 11s 23ms/step - loss: 2.9332 - accuracy: 0.4073 - lr: 0.0010\n",
            "Epoch 64/150\n",
            "484/484 [==============================] - 11s 23ms/step - loss: 2.8920 - accuracy: 0.4138 - lr: 0.0010\n",
            "Epoch 65/150\n",
            "484/484 [==============================] - 11s 23ms/step - loss: 2.8803 - accuracy: 0.4152 - lr: 0.0010\n",
            "Epoch 66/150\n",
            "484/484 [==============================] - 11s 23ms/step - loss: 2.8332 - accuracy: 0.4294 - lr: 0.0010\n",
            "Epoch 67/150\n",
            "484/484 [==============================] - 11s 23ms/step - loss: 2.8104 - accuracy: 0.4311 - lr: 0.0010\n",
            "Epoch 68/150\n",
            "484/484 [==============================] - 11s 23ms/step - loss: 2.7907 - accuracy: 0.4355 - lr: 0.0010\n",
            "Epoch 69/150\n",
            "484/484 [==============================] - 11s 23ms/step - loss: 2.7654 - accuracy: 0.4355 - lr: 0.0010\n",
            "Epoch 70/150\n",
            "484/484 [==============================] - 11s 23ms/step - loss: 2.7238 - accuracy: 0.4492 - lr: 0.0010\n",
            "Epoch 71/150\n",
            "484/484 [==============================] - 11s 23ms/step - loss: 2.7053 - accuracy: 0.4545 - lr: 0.0010\n",
            "Epoch 72/150\n",
            "484/484 [==============================] - 11s 23ms/step - loss: 2.6837 - accuracy: 0.4605 - lr: 0.0010\n",
            "Epoch 73/150\n",
            "484/484 [==============================] - 11s 23ms/step - loss: 2.6406 - accuracy: 0.4659 - lr: 0.0010\n",
            "Epoch 74/150\n",
            "484/484 [==============================] - 11s 23ms/step - loss: 2.6124 - accuracy: 0.4735 - lr: 0.0010\n",
            "Epoch 75/150\n",
            "484/484 [==============================] - 11s 23ms/step - loss: 2.5913 - accuracy: 0.4805 - lr: 0.0010\n",
            "Epoch 76/150\n",
            "484/484 [==============================] - 11s 23ms/step - loss: 2.5768 - accuracy: 0.4810 - lr: 0.0010\n",
            "Epoch 77/150\n",
            "484/484 [==============================] - 11s 23ms/step - loss: 2.5398 - accuracy: 0.4931 - lr: 0.0010\n",
            "Epoch 78/150\n",
            "484/484 [==============================] - 11s 23ms/step - loss: 2.5174 - accuracy: 0.4924 - lr: 0.0010\n",
            "Epoch 79/150\n",
            "484/484 [==============================] - 11s 23ms/step - loss: 2.4993 - accuracy: 0.4973 - lr: 0.0010\n",
            "Epoch 80/150\n",
            "484/484 [==============================] - 11s 23ms/step - loss: 2.4781 - accuracy: 0.4990 - lr: 0.0010\n",
            "Epoch 81/150\n",
            "484/484 [==============================] - 11s 23ms/step - loss: 2.4418 - accuracy: 0.5103 - lr: 0.0010\n",
            "Epoch 82/150\n",
            "484/484 [==============================] - 11s 23ms/step - loss: 2.4302 - accuracy: 0.5126 - lr: 0.0010\n",
            "Epoch 83/150\n",
            "484/484 [==============================] - 11s 23ms/step - loss: 2.4078 - accuracy: 0.5206 - lr: 0.0010\n",
            "Epoch 84/150\n",
            "484/484 [==============================] - 11s 23ms/step - loss: 2.3825 - accuracy: 0.5242 - lr: 0.0010\n",
            "Epoch 85/150\n",
            "484/484 [==============================] - 11s 23ms/step - loss: 2.3627 - accuracy: 0.5283 - lr: 0.0010\n",
            "Epoch 86/150\n",
            "484/484 [==============================] - 11s 23ms/step - loss: 2.3311 - accuracy: 0.5388 - lr: 0.0010\n",
            "Epoch 87/150\n",
            "484/484 [==============================] - 11s 23ms/step - loss: 2.3190 - accuracy: 0.5389 - lr: 0.0010\n",
            "Epoch 88/150\n",
            "484/484 [==============================] - 11s 23ms/step - loss: 2.3084 - accuracy: 0.5378 - lr: 0.0010\n",
            "Epoch 89/150\n",
            "484/484 [==============================] - 11s 23ms/step - loss: 2.2792 - accuracy: 0.5462 - lr: 0.0010\n",
            "Epoch 90/150\n",
            "484/484 [==============================] - 11s 23ms/step - loss: 2.2511 - accuracy: 0.5499 - lr: 0.0010\n",
            "Epoch 91/150\n",
            "484/484 [==============================] - 11s 23ms/step - loss: 2.2278 - accuracy: 0.5587 - lr: 0.0010\n",
            "Epoch 92/150\n",
            "484/484 [==============================] - 11s 23ms/step - loss: 2.2203 - accuracy: 0.5614 - lr: 0.0010\n",
            "Epoch 93/150\n",
            "484/484 [==============================] - 11s 23ms/step - loss: 2.1989 - accuracy: 0.5626 - lr: 0.0010\n",
            "Epoch 94/150\n",
            "484/484 [==============================] - 11s 23ms/step - loss: 2.1895 - accuracy: 0.5624 - lr: 0.0010\n",
            "Epoch 95/150\n",
            "484/484 [==============================] - 11s 23ms/step - loss: 2.1744 - accuracy: 0.5687 - lr: 0.0010\n",
            "Epoch 96/150\n",
            "484/484 [==============================] - 11s 23ms/step - loss: 2.1521 - accuracy: 0.5763 - lr: 0.0010\n",
            "Epoch 97/150\n",
            "484/484 [==============================] - 11s 23ms/step - loss: 2.1416 - accuracy: 0.5757 - lr: 0.0010\n",
            "Epoch 98/150\n",
            "484/484 [==============================] - 11s 23ms/step - loss: 2.1082 - accuracy: 0.5835 - lr: 0.0010\n",
            "Epoch 99/150\n",
            "484/484 [==============================] - 11s 23ms/step - loss: 2.1008 - accuracy: 0.5844 - lr: 0.0010\n",
            "Epoch 100/150\n",
            "484/484 [==============================] - 11s 23ms/step - loss: 2.0687 - accuracy: 0.5906 - lr: 0.0010\n",
            "Epoch 101/150\n",
            "484/484 [==============================] - 11s 23ms/step - loss: 2.0640 - accuracy: 0.5931 - lr: 0.0010\n",
            "Epoch 102/150\n",
            "484/484 [==============================] - 11s 23ms/step - loss: 2.0537 - accuracy: 0.5961 - lr: 0.0010\n",
            "Epoch 103/150\n",
            "484/484 [==============================] - 11s 23ms/step - loss: 2.0363 - accuracy: 0.5982 - lr: 0.0010\n",
            "Epoch 104/150\n",
            "484/484 [==============================] - 11s 23ms/step - loss: 2.0280 - accuracy: 0.5971 - lr: 0.0010\n",
            "Epoch 105/150\n",
            "484/484 [==============================] - 11s 23ms/step - loss: 2.0063 - accuracy: 0.6039 - lr: 0.0010\n",
            "Epoch 106/150\n",
            "484/484 [==============================] - 11s 23ms/step - loss: 1.9772 - accuracy: 0.6100 - lr: 0.0010\n",
            "Epoch 107/150\n",
            "484/484 [==============================] - 11s 23ms/step - loss: 1.9671 - accuracy: 0.6096 - lr: 0.0010\n",
            "Epoch 108/150\n",
            "484/484 [==============================] - 11s 23ms/step - loss: 1.9599 - accuracy: 0.6131 - lr: 0.0010\n",
            "Epoch 109/150\n",
            "484/484 [==============================] - 11s 23ms/step - loss: 1.9416 - accuracy: 0.6170 - lr: 0.0010\n",
            "Epoch 110/150\n",
            "484/484 [==============================] - 11s 23ms/step - loss: 1.9366 - accuracy: 0.6213 - lr: 0.0010\n",
            "Epoch 111/150\n",
            "484/484 [==============================] - 11s 23ms/step - loss: 1.9000 - accuracy: 0.6279 - lr: 0.0010\n",
            "Epoch 112/150\n",
            "484/484 [==============================] - 11s 23ms/step - loss: 1.8920 - accuracy: 0.6276 - lr: 0.0010\n",
            "Epoch 113/150\n",
            "484/484 [==============================] - 11s 23ms/step - loss: 1.8773 - accuracy: 0.6311 - lr: 0.0010\n",
            "Epoch 114/150\n",
            "484/484 [==============================] - 11s 23ms/step - loss: 1.8731 - accuracy: 0.6339 - lr: 0.0010\n",
            "Epoch 115/150\n",
            "484/484 [==============================] - 11s 23ms/step - loss: 1.8672 - accuracy: 0.6345 - lr: 0.0010\n",
            "Epoch 116/150\n",
            "484/484 [==============================] - 11s 23ms/step - loss: 1.8532 - accuracy: 0.6370 - lr: 0.0010\n",
            "Epoch 117/150\n",
            "484/484 [==============================] - 11s 23ms/step - loss: 1.8225 - accuracy: 0.6460 - lr: 0.0010\n",
            "Epoch 118/150\n",
            "484/484 [==============================] - 11s 23ms/step - loss: 1.8115 - accuracy: 0.6430 - lr: 0.0010\n",
            "Epoch 119/150\n",
            "484/484 [==============================] - 11s 23ms/step - loss: 1.8065 - accuracy: 0.6458 - lr: 0.0010\n",
            "Epoch 120/150\n",
            "484/484 [==============================] - 11s 23ms/step - loss: 1.8030 - accuracy: 0.6477 - lr: 0.0010\n",
            "Epoch 121/150\n",
            "484/484 [==============================] - 11s 23ms/step - loss: 1.7898 - accuracy: 0.6513 - lr: 0.0010\n",
            "Epoch 122/150\n",
            "484/484 [==============================] - 11s 23ms/step - loss: 1.7778 - accuracy: 0.6512 - lr: 0.0010\n",
            "Epoch 123/150\n",
            "484/484 [==============================] - 11s 23ms/step - loss: 1.7748 - accuracy: 0.6525 - lr: 0.0010\n",
            "Epoch 124/150\n",
            "484/484 [==============================] - 11s 23ms/step - loss: 1.7581 - accuracy: 0.6553 - lr: 0.0010\n",
            "Epoch 125/150\n",
            "484/484 [==============================] - 11s 23ms/step - loss: 1.7528 - accuracy: 0.6570 - lr: 0.0010\n",
            "Epoch 126/150\n",
            "484/484 [==============================] - 11s 23ms/step - loss: 1.7157 - accuracy: 0.6633 - lr: 0.0010\n",
            "Epoch 127/150\n",
            "484/484 [==============================] - 11s 23ms/step - loss: 1.7125 - accuracy: 0.6638 - lr: 0.0010\n",
            "Epoch 128/150\n",
            "484/484 [==============================] - 11s 23ms/step - loss: 1.7104 - accuracy: 0.6672 - lr: 0.0010\n",
            "Epoch 129/150\n",
            "484/484 [==============================] - 11s 23ms/step - loss: 1.7030 - accuracy: 0.6678 - lr: 0.0010\n",
            "Epoch 130/150\n",
            "484/484 [==============================] - 11s 23ms/step - loss: 1.6777 - accuracy: 0.6776 - lr: 0.0010\n",
            "Epoch 131/150\n",
            "484/484 [==============================] - 11s 23ms/step - loss: 1.6832 - accuracy: 0.6701 - lr: 0.0010\n",
            "Epoch 132/150\n",
            "484/484 [==============================] - 11s 23ms/step - loss: 1.6702 - accuracy: 0.6706 - lr: 0.0010\n",
            "Epoch 133/150\n",
            "484/484 [==============================] - 11s 23ms/step - loss: 1.6447 - accuracy: 0.6801 - lr: 0.0010\n",
            "Epoch 134/150\n",
            "484/484 [==============================] - 11s 23ms/step - loss: 1.6454 - accuracy: 0.6817 - lr: 0.0010\n",
            "Epoch 135/150\n",
            "484/484 [==============================] - 11s 23ms/step - loss: 1.6392 - accuracy: 0.6807 - lr: 0.0010\n",
            "Epoch 136/150\n",
            "484/484 [==============================] - 11s 23ms/step - loss: 1.6270 - accuracy: 0.6823 - lr: 0.0010\n",
            "Epoch 137/150\n",
            "484/484 [==============================] - 11s 23ms/step - loss: 1.6191 - accuracy: 0.6824 - lr: 0.0010\n",
            "Epoch 138/150\n",
            "484/484 [==============================] - 11s 23ms/step - loss: 1.6112 - accuracy: 0.6843 - lr: 0.0010\n",
            "Epoch 139/150\n",
            "484/484 [==============================] - 11s 23ms/step - loss: 1.6074 - accuracy: 0.6823 - lr: 0.0010\n",
            "Epoch 140/150\n",
            "484/484 [==============================] - 11s 23ms/step - loss: 1.5769 - accuracy: 0.6923 - lr: 0.0010\n",
            "Epoch 141/150\n",
            "484/484 [==============================] - 11s 23ms/step - loss: 1.5654 - accuracy: 0.6954 - lr: 0.0010\n",
            "Epoch 142/150\n",
            "484/484 [==============================] - 11s 23ms/step - loss: 1.5625 - accuracy: 0.6977 - lr: 0.0010\n",
            "Epoch 143/150\n",
            "484/484 [==============================] - 11s 23ms/step - loss: 1.5619 - accuracy: 0.6975 - lr: 0.0010\n",
            "Epoch 144/150\n",
            "484/484 [==============================] - 11s 23ms/step - loss: 1.5552 - accuracy: 0.6957 - lr: 0.0010\n",
            "Epoch 145/150\n",
            "484/484 [==============================] - 11s 23ms/step - loss: 1.5438 - accuracy: 0.6969 - lr: 0.0010\n",
            "Epoch 146/150\n",
            "484/484 [==============================] - 11s 23ms/step - loss: 1.5354 - accuracy: 0.7011 - lr: 0.0010\n",
            "Epoch 147/150\n",
            "484/484 [==============================] - 11s 23ms/step - loss: 1.5172 - accuracy: 0.7074 - lr: 0.0010\n",
            "Epoch 148/150\n",
            "484/484 [==============================] - 11s 23ms/step - loss: 1.5356 - accuracy: 0.7004 - lr: 0.0010\n",
            "Epoch 149/150\n",
            "484/484 [==============================] - 11s 23ms/step - loss: 1.5073 - accuracy: 0.7062 - lr: 0.0010\n",
            "Epoch 150/150\n",
            "484/484 [==============================] - 11s 23ms/step - loss: 1.5008 - accuracy: 0.7090 - lr: 0.0010\n"
          ]
        }
      ]
    },
    {
      "cell_type": "code",
      "metadata": {
        "id": "9zIT93lwxua0"
      },
      "source": [
        "def plot_graphs(history, string):\n",
        "  plt.plot(history.history[string])\n",
        "  plt.xlabel(\"Epochs\")\n",
        "  plt.ylabel(string)\n",
        "  plt.show()"
      ],
      "execution_count": 94,
      "outputs": []
    },
    {
      "cell_type": "code",
      "metadata": {
        "colab": {
          "base_uri": "https://localhost:8080/",
          "height": 278
        },
        "id": "0zwT1j3mxua1",
        "outputId": "1c31535d-060b-404d-e62f-49f692ec09a4"
      },
      "source": [
        "plot_graphs(history, 'accuracy')"
      ],
      "execution_count": 95,
      "outputs": [
        {
          "output_type": "display_data",
          "data": {
            "image/png": "[encoded data removed]",
            "text/plain": [
              "<Figure size 432x288 with 1 Axes>"
            ]
          },
          "metadata": {
            "needs_background": "light"
          }
        }
      ]
    },
    {
      "cell_type": "code",
      "metadata": {
        "colab": {
          "base_uri": "https://localhost:8080/",
          "height": 278
        },
        "id": "ckS4mhORxua2",
        "outputId": "a5b3680b-2bd8-463d-d266-005cf7282620"
      },
      "source": [
        "plot_graphs(history, 'loss')"
      ],
      "execution_count": 96,
      "outputs": [
        {
          "output_type": "display_data",
          "data": {
            "image/png": "[encoded data removed]",
            "text/plain": [
              "<Figure size 432x288 with 1 Axes>"
            ]
          },
          "metadata": {
            "needs_background": "light"
          }
        }
      ]
    }
  ]
}